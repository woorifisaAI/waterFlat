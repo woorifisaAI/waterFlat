{
 "cells": [
  {
   "cell_type": "code",
   "execution_count": 3,
   "metadata": {},
   "outputs": [],
   "source": [
    "#크롤링시 필요한 라이브러리 불러오기\n",
    "from bs4 import BeautifulSoup\n",
    "import requests\n",
    "import re\n",
    "from datetime import datetime, timedelta\n",
    "from tqdm import tqdm\n",
    "import sys"
   ]
  },
  {
   "cell_type": "code",
   "execution_count": 2,
   "metadata": {},
   "outputs": [],
   "source": [
    "naver_url = \"https://news.naver.com/main/list.naver?mode=LS2D&sid2=259&sid1=101&mid=shm&date=20230815&page=1\"\n"
   ]
  },
  {
   "cell_type": "code",
   "execution_count": 4,
   "metadata": {},
   "outputs": [],
   "source": [
    "#ConnectionError방지\n",
    "headers = {\"User-Agent\": \"Mozilla/5.0 (Windows NT 10.0; Win64; x64) Chrome/98.0.4758.102\"}"
   ]
  },
  {
   "cell_type": "code",
   "execution_count": 27,
   "metadata": {},
   "outputs": [
    {
     "data": {
      "text/plain": [
       "'https://n.news.naver.com/mnews/article/009/0005173068?sid=101'"
      ]
     },
     "execution_count": 27,
     "metadata": {},
     "output_type": "execute_result"
    }
   ],
   "source": [
    "original_html = requests.get(naver_url,headers=headers)\n",
    "html = BeautifulSoup(original_html.text, \"html.parser\")\n",
    "\n",
    "url_news = html.select_one(\"#main_content > div.list_body.newsflash_body > ul.type06_headline > li:nth-child(\" + str(1) + \") > dl > dt:nth-child(2) > a\")\n",
    "url = url_news.attrs['href']\n",
    "\n",
    "url"
   ]
  },
  {
   "cell_type": "code",
   "execution_count": 10,
   "metadata": {},
   "outputs": [],
   "source": [
    "b = \"https://n.news.naver.com/mnews/article/421/0006991068?sid=101\""
   ]
  },
  {
   "cell_type": "code",
   "execution_count": 20,
   "metadata": {},
   "outputs": [
    {
     "name": "stdout",
     "output_type": "stream",
     "text": [
      "제목 :  '달러 강세'\n",
      "본문 :  [\n",
      "\n",
      "\n",
      "\n",
      "\n",
      "(서울=뉴스1) 김성진 기자 = 원·달러 환율이 지난 5월 18일(1334.2원) 이후 3개월 만에 1330원을 돌파했다. 미국의 7월 생산자물가지수(PPI)가 예상치를 웃돌면서 달러 강세를 보인데다 중국 경기둔화에 따른 위안화 약세가 원달러 환율을 끌어올리고 있다.사진은 15일 오전 서울 중구 명동 환전소 모습. 2023.8.15/뉴스1\n",
      "\t\t]\n",
      "언론사 :  뉴스1\n",
      "날짜 :  2023.08.15. 오후 2:00\n"
     ]
    }
   ],
   "source": [
    "#각 기사 html get하기\n",
    "news = requests.get(b)\n",
    "news_html = BeautifulSoup(news.text,\"html.parser\")\n",
    "# 뉴스 제목 가져오기\n",
    "title = news_html.select_one(\"#ct > div.media_end_head.go_trans > div.media_end_head_title > h2\")\n",
    "if title == None:\n",
    "    title = news_html.select_one(\"#content > div.end_ct > div > h2\")\n",
    "\n",
    "# 뉴스 본문 가져오기\n",
    "content = news_html.select(\"#dic_area\")\n",
    "if content == []:\n",
    "    content = news_html.select(\"#articeBody\")\n",
    "\n",
    "# 언론사 가져오기\n",
    "try:\n",
    "    press = news_html.select_one(\".media_end_head_top_logo > img\")['title']\n",
    "except TypeError:\n",
    "    press = news_html.select_one(\"#_CHANNEL_LAYER_366_0000868613 > span.media_end_head_top_channel_layer_text > strong\")\n",
    "\n",
    "# 언론사 코드 가져오기\n",
    "#press_code = final_urls[39:41]\n",
    "\n",
    "# 기사 텍스트만 가져오기\n",
    "# list합치기\n",
    "content = ''.join(str(content))\n",
    "\n",
    "# html태그제거 및 텍스트 다듬기\n",
    "pattern1 = '<[^>]*>'\n",
    "title = re.sub(pattern=pattern1, repl='', string=str(title))\n",
    "content = re.sub(pattern=pattern1, repl='', string=content)\n",
    "press = re.sub(pattern=pattern1, repl='', string=str(press))\n",
    "pattern2 = \"\"\"[\\n\\n\\n\\n\\n// flash 오류를 우회하기 위한 함수 추가\\nfunction _flash_removeCallback() {}\"\"\"\n",
    "content = content.replace(pattern2, '')\n",
    "\n",
    "#날짜 가져오기\n",
    "\n",
    "try:\n",
    "    html_date = news_html.select_one(\"._ARTICLE_DATE_TIME\")\n",
    "    news_date = html_date.get_text('data-date-time')\n",
    "except AttributeError:\n",
    "    news_date = news_html.select_one(\"#content > div.end_ct > div > div.article_info > span > em\")\n",
    "    news_date = re.sub(pattern=pattern1,repl='',string=str(news_date))\n",
    "    \n",
    "print(\"제목 : \",title)\n",
    "print(\"본문 : \",content)\n",
    "print(\"언론사 : \",press)\n",
    "print(\"날짜 : \", news_date)"
   ]
  }
 ],
 "metadata": {
  "kernelspec": {
   "display_name": "base",
   "language": "python",
   "name": "python3"
  },
  "language_info": {
   "codemirror_mode": {
    "name": "ipython",
    "version": 3
   },
   "file_extension": ".py",
   "mimetype": "text/x-python",
   "name": "python",
   "nbconvert_exporter": "python",
   "pygments_lexer": "ipython3",
   "version": "3.10.9"
  },
  "orig_nbformat": 4
 },
 "nbformat": 4,
 "nbformat_minor": 2
}
