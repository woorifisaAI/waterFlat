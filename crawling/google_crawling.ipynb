{
 "cells": [
  {
   "cell_type": "code",
   "execution_count": 1,
   "metadata": {
    "colab": {
     "base_uri": "https://localhost:8080/"
    },
    "id": "lKgr7kuwtm8h",
    "outputId": "0b9f3e2a-9ac2-4d19-bfd4-4e3b2a9063f9"
   },
   "outputs": [
    {
     "name": "stdout",
     "output_type": "stream",
     "text": [
      "Collecting selenium\n",
      "  Obtaining dependency information for selenium from https://files.pythonhosted.org/packages/10/56/8288d1813a68c1e0638515dbb777fce6d87d0d240e683216f956145310e6/selenium-4.11.2-py3-none-any.whl.metadata\n",
      "  Downloading selenium-4.11.2-py3-none-any.whl.metadata (7.0 kB)\n",
      "Requirement already satisfied: urllib3[socks]<3,>=1.26 in c:\\itstudy\\waterflat\\.venv\\lib\\site-packages (from selenium) (2.0.4)\n",
      "Collecting trio~=0.17 (from selenium)\n",
      "  Obtaining dependency information for trio~=0.17 from https://files.pythonhosted.org/packages/a3/dd/b61fa61b186d3267ef3903048fbee29132963ae762fb70b08d4a3cd6f7aa/trio-0.22.2-py3-none-any.whl.metadata\n",
      "  Downloading trio-0.22.2-py3-none-any.whl.metadata (4.7 kB)\n",
      "Collecting trio-websocket~=0.9 (from selenium)\n",
      "  Obtaining dependency information for trio-websocket~=0.9 from https://files.pythonhosted.org/packages/a5/a6/06e2373f95c12e9e8f6b910a76c86e375348ead77ab476230640666310fb/trio_websocket-0.10.3-py3-none-any.whl.metadata\n",
      "  Downloading trio_websocket-0.10.3-py3-none-any.whl.metadata (4.6 kB)\n",
      "Requirement already satisfied: certifi>=2021.10.8 in c:\\itstudy\\waterflat\\.venv\\lib\\site-packages (from selenium) (2023.7.22)\n",
      "Collecting attrs>=20.1.0 (from trio~=0.17->selenium)\n",
      "  Using cached attrs-23.1.0-py3-none-any.whl (61 kB)\n",
      "Collecting sortedcontainers (from trio~=0.17->selenium)\n",
      "  Downloading sortedcontainers-2.4.0-py2.py3-none-any.whl (29 kB)\n",
      "Requirement already satisfied: idna in c:\\itstudy\\waterflat\\.venv\\lib\\site-packages (from trio~=0.17->selenium) (3.4)\n",
      "Collecting outcome (from trio~=0.17->selenium)\n",
      "  Using cached outcome-1.2.0-py2.py3-none-any.whl (9.7 kB)\n",
      "Requirement already satisfied: sniffio in c:\\itstudy\\waterflat\\.venv\\lib\\site-packages (from trio~=0.17->selenium) (1.3.0)\n",
      "Collecting cffi>=1.14 (from trio~=0.17->selenium)\n",
      "  Downloading cffi-1.15.1-cp310-cp310-win_amd64.whl (179 kB)\n",
      "     ---------------------------------------- 0.0/179.1 kB ? eta -:--:--\n",
      "     ------------------------------------- 179.1/179.1 kB 11.3 MB/s eta 0:00:00\n",
      "Requirement already satisfied: exceptiongroup>=1.0.0rc9 in c:\\itstudy\\waterflat\\.venv\\lib\\site-packages (from trio~=0.17->selenium) (1.1.3)\n",
      "Collecting wsproto>=0.14 (from trio-websocket~=0.9->selenium)\n",
      "  Using cached wsproto-1.2.0-py3-none-any.whl (24 kB)\n",
      "Collecting pysocks!=1.5.7,<2.0,>=1.5.6 (from urllib3[socks]<3,>=1.26->selenium)\n",
      "  Downloading PySocks-1.7.1-py3-none-any.whl (16 kB)\n",
      "Collecting pycparser (from cffi>=1.14->trio~=0.17->selenium)\n",
      "  Using cached pycparser-2.21-py2.py3-none-any.whl (118 kB)\n",
      "Collecting h11<1,>=0.9.0 (from wsproto>=0.14->trio-websocket~=0.9->selenium)\n",
      "  Using cached h11-0.14.0-py3-none-any.whl (58 kB)\n",
      "Downloading selenium-4.11.2-py3-none-any.whl (7.2 MB)\n",
      "   ---------------------------------------- 0.0/7.2 MB ? eta -:--:--\n",
      "   ---------------------- ----------------- 4.1/7.2 MB 131.5 MB/s eta 0:00:01\n",
      "   ---------------------------------------  7.2/7.2 MB 92.0 MB/s eta 0:00:01\n",
      "   ---------------------------------------- 7.2/7.2 MB 57.4 MB/s eta 0:00:00\n",
      "Downloading trio-0.22.2-py3-none-any.whl (400 kB)\n",
      "   ---------------------------------------- 0.0/400.2 kB ? eta -:--:--\n",
      "   ---------------------------------------- 400.2/400.2 kB ? eta 0:00:00\n",
      "Using cached trio_websocket-0.10.3-py3-none-any.whl (17 kB)\n",
      "Installing collected packages: sortedcontainers, pysocks, pycparser, h11, attrs, wsproto, outcome, cffi, trio, trio-websocket, selenium\n",
      "Successfully installed attrs-23.1.0 cffi-1.15.1 h11-0.14.0 outcome-1.2.0 pycparser-2.21 pysocks-1.7.1 selenium-4.11.2 sortedcontainers-2.4.0 trio-0.22.2 trio-websocket-0.10.3 wsproto-1.2.0\n"
     ]
    }
   ],
   "source": [
    "#필요한 라이브러리들 설치\n",
    "!pip install selenium"
   ]
  },
  {
   "cell_type": "code",
   "execution_count": 2,
   "metadata": {
    "id": "Ot_zXKCHtnF3"
   },
   "outputs": [],
   "source": [
    "from selenium import webdriver\n",
    "from selenium.webdriver.common.by import By"
   ]
  },
  {
   "cell_type": "code",
   "execution_count": 8,
   "metadata": {},
   "outputs": [
    {
     "name": "stderr",
     "output_type": "stream",
     "text": [
      "'wget'은(는) 내부 또는 외부 명령, 실행할 수 있는 프로그램, 또는\n",
      "배치 파일이 아닙니다.\n"
     ]
    }
   ],
   "source": []
  },
  {
   "cell_type": "code",
   "execution_count": 3,
   "metadata": {
    "id": "wkW3yBYYx-Vc"
   },
   "outputs": [],
   "source": [
    "import selenium\n",
    "from selenium import webdriver\n",
    "from selenium.webdriver.chrome.service import Service"
   ]
  },
  {
   "cell_type": "code",
   "execution_count": 13,
   "metadata": {
    "id": "cxGLciSZwYxB"
   },
   "outputs": [
    {
     "name": "stderr",
     "output_type": "stream",
     "text": [
      "C:\\Users\\jehyeon\\AppData\\Local\\Temp\\ipykernel_9532\\2321204617.py:14: DeprecationWarning: executable_path has been deprecated, please pass in a Service object\n",
      "  driver = webdriver.Chrome(executable_path, options=options)\n"
     ]
    }
   ],
   "source": [
    "from selenium import webdriver\n",
    "\n",
    "# chromedriver 실행 파일의 경로를 지정합니다\n",
    "executable_path = r'C:\\ITStudy\\waterFlat\\chromedriver.exe'  # 여기에 실제 chromedriver 경로를 업데이트하세요\n",
    "\n",
    "# Chrome 옵션 설정\n",
    "options = webdriver.ChromeOptions()\n",
    "options.add_argument('--headless')\n",
    "options.add_argument('--no-sandbox')\n",
    "options.add_argument('--disable-dev-shm-usage')\n",
    "\n",
    "# Chrome을 사용하여 WebDriver 인스턴스 생성 \n",
    "# 이부분은 주피터랩 환경과 코랩환경이 조금 달라서 코랩에선 안돌아 갈거에유\n",
    "driver = webdriver.Chrome(executable_path, options=options)\n"
   ]
  },
  {
   "cell_type": "code",
   "execution_count": 5,
   "metadata": {},
   "outputs": [],
   "source": [
    "#아마 코랩에서 돌리시려면 밑에거 주석처리 해제하시고 하면 될겁니덩!\n",
    "# !pip install selenium\n",
    "# !apt-get update\n",
    "# !apt install chromium-chromedriver\n",
    "# !cp /usr/lib/chromium-browser/chromedriver /usr/bin\n",
    "# service = Service(executable_path=r'/usr/bin/chromedriver')\n",
    "# options = webdriver.ChromeOptions()\n",
    "# options.add_argument('--headless')\n",
    "# options.add_argument('--no-sandbox')\n",
    "# options.add_argument('--disable-dev-shm-usage')\n",
    "# driver = webdriver.Chrome(options=options)\n",
    "# #driver.maximize_window()\n"
   ]
  },
  {
   "cell_type": "code",
   "execution_count": 14,
   "metadata": {
    "id": "daqolKnfw3_a"
   },
   "outputs": [],
   "source": [
    "import pandas as pd"
   ]
  },
  {
   "cell_type": "code",
   "execution_count": 7,
   "metadata": {
    "scrolled": true
   },
   "outputs": [
    {
     "name": "stdout",
     "output_type": "stream",
     "text": [
      "Requirement already satisfied: yfinance in c:\\users\\admin\\anaconda3\\lib\\site-packages (0.2.27)\n",
      "Requirement already satisfied: pandas>=1.3.0 in c:\\users\\admin\\anaconda3\\lib\\site-packages (from yfinance) (2.0.3)\n",
      "Requirement already satisfied: numpy>=1.16.5 in c:\\users\\admin\\anaconda3\\lib\\site-packages (from yfinance) (1.25.1)\n",
      "Requirement already satisfied: requests>=2.31 in c:\\users\\admin\\anaconda3\\lib\\site-packages (from yfinance) (2.31.0)\n",
      "Requirement already satisfied: multitasking>=0.0.7 in c:\\users\\admin\\anaconda3\\lib\\site-packages (from yfinance) (0.0.11)\n",
      "Requirement already satisfied: lxml>=4.9.1 in c:\\users\\admin\\anaconda3\\lib\\site-packages (from yfinance) (4.9.1)\n",
      "Requirement already satisfied: appdirs>=1.4.4 in c:\\users\\admin\\anaconda3\\lib\\site-packages (from yfinance) (1.4.4)\n",
      "Requirement already satisfied: pytz>=2022.5 in c:\\users\\admin\\anaconda3\\lib\\site-packages (from yfinance) (2023.3)\n",
      "Requirement already satisfied: frozendict>=2.3.4 in c:\\users\\admin\\anaconda3\\lib\\site-packages (from yfinance) (2.3.8)\n",
      "Requirement already satisfied: beautifulsoup4>=4.11.1 in c:\\users\\admin\\anaconda3\\lib\\site-packages (from yfinance) (4.11.1)\n",
      "Requirement already satisfied: html5lib>=1.1 in c:\\users\\admin\\anaconda3\\lib\\site-packages (from yfinance) (1.1)\n",
      "Requirement already satisfied: soupsieve>1.2 in c:\\users\\admin\\anaconda3\\lib\\site-packages (from beautifulsoup4>=4.11.1->yfinance) (2.3.2.post1)\n",
      "Requirement already satisfied: six>=1.9 in c:\\users\\admin\\anaconda3\\lib\\site-packages (from html5lib>=1.1->yfinance) (1.16.0)\n",
      "Requirement already satisfied: webencodings in c:\\users\\admin\\anaconda3\\lib\\site-packages (from html5lib>=1.1->yfinance) (0.5.1)\n",
      "Requirement already satisfied: python-dateutil>=2.8.2 in c:\\users\\admin\\anaconda3\\lib\\site-packages (from pandas>=1.3.0->yfinance) (2.8.2)\n",
      "Requirement already satisfied: tzdata>=2022.1 in c:\\users\\admin\\anaconda3\\lib\\site-packages (from pandas>=1.3.0->yfinance) (2023.3)\n",
      "Requirement already satisfied: charset-normalizer<4,>=2 in c:\\users\\admin\\anaconda3\\lib\\site-packages (from requests>=2.31->yfinance) (2.0.4)\n",
      "Requirement already satisfied: idna<4,>=2.5 in c:\\users\\admin\\anaconda3\\lib\\site-packages (from requests>=2.31->yfinance) (3.4)\n",
      "Requirement already satisfied: urllib3<3,>=1.21.1 in c:\\users\\admin\\anaconda3\\lib\\site-packages (from requests>=2.31->yfinance) (1.26.14)\n",
      "Requirement already satisfied: certifi>=2017.4.17 in c:\\users\\admin\\anaconda3\\lib\\site-packages (from requests>=2.31->yfinance) (2022.12.7)\n",
      "Note: you may need to restart the kernel to use updated packages.\n"
     ]
    }
   ],
   "source": [
    "pip install yfinance"
   ]
  },
  {
   "cell_type": "code",
   "execution_count": 8,
   "metadata": {
    "id": "kn8ELoBsBVKr"
   },
   "outputs": [],
   "source": [
    "#주식데이터 불러오기 일단 그냥 불러와 봤습니다 하하 나중에 감성분석 한거랑 붙일려구요 ! \n",
    "import yfinance as yf"
   ]
  },
  {
   "cell_type": "code",
   "execution_count": 9,
   "metadata": {
    "colab": {
     "base_uri": "https://localhost:8080/"
    },
    "id": "nkPL6jv4CfLz",
    "outputId": "d510b5a0-17af-4412-fbc8-505143738747"
   },
   "outputs": [
    {
     "name": "stdout",
     "output_type": "stream",
     "text": [
      "[*********************100%***********************]  1 of 1 completed\n"
     ]
    }
   ],
   "source": [
    "data = yf.download(\"^KS11\", start=\"2018-01-01\", end=\"2023-08-01\")"
   ]
  },
  {
   "cell_type": "code",
   "execution_count": 10,
   "metadata": {
    "colab": {
     "base_uri": "https://localhost:8080/",
     "height": 455
    },
    "id": "qGGrjwokCnMK",
    "outputId": "124e6847-2ba1-48b9-b91a-26775a85f994"
   },
   "outputs": [
    {
     "data": {
      "text/html": [
       "<div>\n",
       "<style scoped>\n",
       "    .dataframe tbody tr th:only-of-type {\n",
       "        vertical-align: middle;\n",
       "    }\n",
       "\n",
       "    .dataframe tbody tr th {\n",
       "        vertical-align: top;\n",
       "    }\n",
       "\n",
       "    .dataframe thead th {\n",
       "        text-align: right;\n",
       "    }\n",
       "</style>\n",
       "<table border=\"1\" class=\"dataframe\">\n",
       "  <thead>\n",
       "    <tr style=\"text-align: right;\">\n",
       "      <th></th>\n",
       "      <th>Open</th>\n",
       "      <th>High</th>\n",
       "      <th>Low</th>\n",
       "      <th>Close</th>\n",
       "      <th>Adj Close</th>\n",
       "      <th>Volume</th>\n",
       "    </tr>\n",
       "    <tr>\n",
       "      <th>Date</th>\n",
       "      <th></th>\n",
       "      <th></th>\n",
       "      <th></th>\n",
       "      <th></th>\n",
       "      <th></th>\n",
       "      <th></th>\n",
       "    </tr>\n",
       "  </thead>\n",
       "  <tbody>\n",
       "    <tr>\n",
       "      <th>2018-01-02</th>\n",
       "      <td>2474.860107</td>\n",
       "      <td>2481.020020</td>\n",
       "      <td>2465.939941</td>\n",
       "      <td>2479.649902</td>\n",
       "      <td>2479.649902</td>\n",
       "      <td>262200</td>\n",
       "    </tr>\n",
       "    <tr>\n",
       "      <th>2018-01-03</th>\n",
       "      <td>2484.629883</td>\n",
       "      <td>2493.399902</td>\n",
       "      <td>2481.909912</td>\n",
       "      <td>2486.350098</td>\n",
       "      <td>2486.350098</td>\n",
       "      <td>331100</td>\n",
       "    </tr>\n",
       "    <tr>\n",
       "      <th>2018-01-04</th>\n",
       "      <td>2502.500000</td>\n",
       "      <td>2502.500000</td>\n",
       "      <td>2466.449951</td>\n",
       "      <td>2466.459961</td>\n",
       "      <td>2466.459961</td>\n",
       "      <td>333800</td>\n",
       "    </tr>\n",
       "    <tr>\n",
       "      <th>2018-01-05</th>\n",
       "      <td>2476.850098</td>\n",
       "      <td>2497.520020</td>\n",
       "      <td>2475.510010</td>\n",
       "      <td>2497.520020</td>\n",
       "      <td>2497.520020</td>\n",
       "      <td>308800</td>\n",
       "    </tr>\n",
       "    <tr>\n",
       "      <th>2018-01-08</th>\n",
       "      <td>2510.699951</td>\n",
       "      <td>2515.370117</td>\n",
       "      <td>2494.179932</td>\n",
       "      <td>2513.280029</td>\n",
       "      <td>2513.280029</td>\n",
       "      <td>311400</td>\n",
       "    </tr>\n",
       "    <tr>\n",
       "      <th>...</th>\n",
       "      <td>...</td>\n",
       "      <td>...</td>\n",
       "      <td>...</td>\n",
       "      <td>...</td>\n",
       "      <td>...</td>\n",
       "      <td>...</td>\n",
       "    </tr>\n",
       "    <tr>\n",
       "      <th>2023-07-25</th>\n",
       "      <td>2643.350098</td>\n",
       "      <td>2646.709961</td>\n",
       "      <td>2621.600098</td>\n",
       "      <td>2636.459961</td>\n",
       "      <td>2636.459961</td>\n",
       "      <td>721500</td>\n",
       "    </tr>\n",
       "    <tr>\n",
       "      <th>2023-07-26</th>\n",
       "      <td>2638.760010</td>\n",
       "      <td>2639.209961</td>\n",
       "      <td>2580.979980</td>\n",
       "      <td>2592.360107</td>\n",
       "      <td>2592.360107</td>\n",
       "      <td>830100</td>\n",
       "    </tr>\n",
       "    <tr>\n",
       "      <th>2023-07-27</th>\n",
       "      <td>2599.820068</td>\n",
       "      <td>2617.610107</td>\n",
       "      <td>2586.360107</td>\n",
       "      <td>2603.810059</td>\n",
       "      <td>2603.810059</td>\n",
       "      <td>591900</td>\n",
       "    </tr>\n",
       "    <tr>\n",
       "      <th>2023-07-28</th>\n",
       "      <td>2593.669922</td>\n",
       "      <td>2609.540039</td>\n",
       "      <td>2586.330078</td>\n",
       "      <td>2608.320068</td>\n",
       "      <td>2608.320068</td>\n",
       "      <td>497300</td>\n",
       "    </tr>\n",
       "    <tr>\n",
       "      <th>2023-07-31</th>\n",
       "      <td>2628.870117</td>\n",
       "      <td>2639.449951</td>\n",
       "      <td>2622.209961</td>\n",
       "      <td>2632.580078</td>\n",
       "      <td>2632.580078</td>\n",
       "      <td>454200</td>\n",
       "    </tr>\n",
       "  </tbody>\n",
       "</table>\n",
       "<p>1374 rows × 6 columns</p>\n",
       "</div>"
      ],
      "text/plain": [
       "                   Open         High          Low        Close    Adj Close  \\\n",
       "Date                                                                          \n",
       "2018-01-02  2474.860107  2481.020020  2465.939941  2479.649902  2479.649902   \n",
       "2018-01-03  2484.629883  2493.399902  2481.909912  2486.350098  2486.350098   \n",
       "2018-01-04  2502.500000  2502.500000  2466.449951  2466.459961  2466.459961   \n",
       "2018-01-05  2476.850098  2497.520020  2475.510010  2497.520020  2497.520020   \n",
       "2018-01-08  2510.699951  2515.370117  2494.179932  2513.280029  2513.280029   \n",
       "...                 ...          ...          ...          ...          ...   \n",
       "2023-07-25  2643.350098  2646.709961  2621.600098  2636.459961  2636.459961   \n",
       "2023-07-26  2638.760010  2639.209961  2580.979980  2592.360107  2592.360107   \n",
       "2023-07-27  2599.820068  2617.610107  2586.360107  2603.810059  2603.810059   \n",
       "2023-07-28  2593.669922  2609.540039  2586.330078  2608.320068  2608.320068   \n",
       "2023-07-31  2628.870117  2639.449951  2622.209961  2632.580078  2632.580078   \n",
       "\n",
       "            Volume  \n",
       "Date                \n",
       "2018-01-02  262200  \n",
       "2018-01-03  331100  \n",
       "2018-01-04  333800  \n",
       "2018-01-05  308800  \n",
       "2018-01-08  311400  \n",
       "...            ...  \n",
       "2023-07-25  721500  \n",
       "2023-07-26  830100  \n",
       "2023-07-27  591900  \n",
       "2023-07-28  497300  \n",
       "2023-07-31  454200  \n",
       "\n",
       "[1374 rows x 6 columns]"
      ]
     },
     "execution_count": 10,
     "metadata": {},
     "output_type": "execute_result"
    }
   ],
   "source": [
    "data"
   ]
  },
  {
   "cell_type": "code",
   "execution_count": 15,
   "metadata": {
    "id": "ttzo2xJqLykC"
   },
   "outputs": [],
   "source": [
    "import selenium"
   ]
  },
  {
   "cell_type": "code",
   "execution_count": 16,
   "metadata": {
    "id": "Iwm-zn3aMAC5"
   },
   "outputs": [],
   "source": [
    "import time"
   ]
  },
  {
   "cell_type": "code",
   "execution_count": 17,
   "metadata": {
    "id": "Oap7O4wDSNcz"
   },
   "outputs": [],
   "source": [
    "from bs4 import BeautifulSoup as bs"
   ]
  },
  {
   "cell_type": "code",
   "execution_count": 14,
   "metadata": {
    "colab": {
     "base_uri": "https://localhost:8080/"
    },
    "id": "uHIMnaF-RSqU",
    "outputId": "041c10a4-a5f2-48ca-e046-fae74ea9ce51"
   },
   "outputs": [
    {
     "name": "stdout",
     "output_type": "stream",
     "text": [
      "- 접속한 웹 사이트의 제목: 코스피 경제 : 네이버 뉴스검색\n",
      "https://search.naver.com/search.naver?sm=tab_hty.top&where=news&query=%EC%BD%94%EC%8A%A4%ED%94%BC+%EA%B2%BD%EC%A0%9C&oquery=%EC%BD%94%EC%8A%A4%ED%94%BC+%EA%B2%BD%EC%A0%9C&tqi=iLNSydp0J1ZssAwye%2FNssssssWl-222265&nso=so%3Ar%2Cp%3Aall\n"
     ]
    }
   ],
   "source": [
    "from selenium import webdriver\n",
    "from selenium.webdriver.common.keys import Keys\n",
    "\n",
    "driver = webdriver.Chrome(options=options) # 크롬 드라이버 객체 생성\n",
    "\n",
    "#코스피 경제로 검색\n",
    "driver.get('https://search.naver.com/search.naver?sm=tab_hty.top&where=news&query=%EC%BD%94%EC%8A%A4%ED%94%BC+%EA%B2%BD%EC%A0%9C&oquery=%EC%BD%94%EC%8A%A4%ED%94%BC+%EA%B2%BD%EC%A0%9C&tqi=iLNSydp0J1ZssAwye%2FNssssssWl-222265&nso=so%3Ar%2Cp%3Aall')\n",
    "\n",
    "#웹사이트 잘 들어왔는지 확인하기 접속한 URL의 제목 출력\n",
    "print(\"- 접속한 웹 사이트의 제목:\", driver.title)\n",
    "# 빠른 접근은 에러가 생길 수 있어서 time.sleep 으로 한템포 쉬어갑니덩\n",
    "time.sleep(1)\n",
    "# 옵션 클릭.\n",
    "elem_option = driver.find_element(By.XPATH,'/html/body/div[3]/div[2]/div/div[1]/div[1]/div[1]/div/div[2]/a').click()\n",
    "time.sleep(1)\n",
    "# # 직접입력 클릭.\n",
    "elem_input = driver.find_element(By.XPATH,'//*[@id=\"snb\"]/div[2]/ul/li[2]/div/div[1]/a[9]').click()\n",
    "\n",
    "print(driver.current_url)\n",
    "naver_news_link = []"
   ]
  },
  {
   "cell_type": "code",
   "execution_count": 15,
   "metadata": {
    "id": "z0aYYJvsSaid"
   },
   "outputs": [],
   "source": [
    "naver_list= [[],[]\n",
    "            ]\n",
    "# 뉴스 데이터를 저장할 객체 선언"
   ]
  },
  {
   "cell_type": "code",
   "execution_count": 16,
   "metadata": {
    "id": "ihjxu5_uS6Af"
   },
   "outputs": [],
   "source": [
    "next_button_xpath = '//*[@id=\"main_pack\"]/div[2]/div/a[2]/i' #페이지 넘기는 다음버튼 클릭 정의"
   ]
  },
  {
   "cell_type": "code",
   "execution_count": 17,
   "metadata": {
    "id": "RYHvekQBRS6u"
   },
   "outputs": [],
   "source": [
    "# 본격적 크롤링을 위한 함수 구현\n",
    "\n",
    "def select_date_naver_news(year,month,day):\n",
    "\n",
    "    '''네이버뉴스에서 원하는 날짜의 뉴스를 검색해서 네이버뉴스 링크를 리스트로 return.'''\n",
    "\n",
    "    # 연(year) 클릭하기\n",
    "    elem_year = driver.find_element(By.XPATH,f'/html/body/div[3]/div[2]/div/div[1]/div[1]/div[2]/ul/li[2]/div/div[3]/div[2]/div[1]/div/div/div/ul/li[{year-1989}]')\n",
    "    elem_year.click()\n",
    "\n",
    "    # 월(month) 클릭하기\n",
    "    elem_month = driver.find_element(By.XPATH,f'/html/body/div[3]/div[2]/div/div[1]/div[1]/div[2]/ul/li[2]/div/div[3]/div[2]/div[2]/div/div/div/ul/li[{month}]')\n",
    "\n",
    "    elem_month.click()\n",
    "    time.sleep(1)\n",
    "    # # 날짜(day) 클릭하기\n",
    "    elem_day = driver.find_element(By.XPATH,f'/html/body/div[3]/div[2]/div/div[1]/div[1]/div[2]/ul/li[2]/div/div[3]/div[2]/div[3]/div/div/div/ul/li[{day}]')\n",
    "    driver.execute_script(\"arguments[0].click();\", elem_day)\n",
    "\n",
    "    # 끝나는 날짜 클릭하기\n",
    "    driver.find_element(By.XPATH,'/html/body/div[3]/div[2]/div/div[1]/div[1]/div[2]/ul/li[2]/div/div[3]/div[1]/span[3]/a').click()\n",
    "\n",
    "    # 연(year) 클릭하기\n",
    "    elem_year = driver.find_element(By.XPATH,f'/html/body/div[3]/div[2]/div/div[1]/div[1]/div[2]/ul/li[2]/div/div[3]/div[2]/div[1]/div/div/div/ul/li[{year-1989}]')\n",
    "    elem_year.click()\n",
    "\n",
    "    # 월(month) 클릭하기\n",
    "    elem_month = driver.find_element(By.XPATH,f'/html/body/div[3]/div[2]/div/div[1]/div[1]/div[2]/ul/li[2]/div/div[3]/div[2]/div[2]/div/div/div/ul/li[{month}]')\n",
    "    elem_month.click()\n",
    "\n",
    "    # # 날짜(day) 클릭하기\n",
    "    elem_day = driver.find_element(By.XPATH,f'/html/body/div[3]/div[2]/div/div[1]/div[1]/div[2]/ul/li[2]/div/div[3]/div[2]/div[3]/div/div/div/ul/li[{day}]')\n",
    "    driver.execute_script(\"arguments[0].click();\", elem_day)\n",
    "    \n",
    "    # 적용 클릭\n",
    "    driver.find_element(By.XPATH,'/html/body/div[3]/div[2]/div/div[1]/div[1]/div[2]/ul/li[2]/div/div[3]/div[3]/button').click()\n",
    "    print('다음 날짜 선택 후 크롤링 준비')\n",
    "#################\n",
    "    previous_url = 0\n",
    "    while True:\n",
    "\n",
    "        current_url = driver.current_url\n",
    "        print(driver.current_url)\n",
    "\n",
    "        # 3째장 도달했을때 break\n",
    "        if current_url == previous_url:\n",
    "            break\n",
    "        elif \"start=21\" in current_url:\n",
    "            break\n",
    "\n",
    "        html = driver.page_source\n",
    "        soup = bs(html, 'html.parser')\n",
    "\n",
    "        titles = soup.select('a.news_tit')\n",
    "        date = soup.select('.info_group > span.info')\n",
    "\n",
    "        # 현재 페이지에서의 크롤링 로직 작성\n",
    "        for t,d in zip(titles, date):\n",
    "            title = t.get_text()\n",
    "            date = d.get_text()\n",
    "            naver_list[0].append(title)\n",
    "            naver_list[1].append(date)\n",
    "        previous_url = current_url\n",
    "        next_button = driver.find_element(By.XPATH, next_button_xpath)\n",
    "        driver.execute_script(\"arguments[0].click();\", next_button)\n",
    "\n",
    "################\n",
    "    print('크롤링 준비')\n",
    "    # 옵션 초기화 버튼 클릭\n",
    "    driver.find_element(By.XPATH,'/html/body/div[3]/div[2]/div/div[1]/div[1]/div[2]/ul/li[6]/div/div/a[1]').click()\n",
    "\n",
    "    time.sleep(3)\n",
    "\n",
    "    # 직접입력 클릭.\n",
    "    elem_input = driver.find_element(By.XPATH,'/html/body/div[3]/div[2]/div/div[1]/div[1]/div[2]/ul/li[2]/div/div[1]/a[9]')\n",
    "    driver.execute_script(\"arguments[0].click();\", elem_input)\n",
    "    time.sleep(1)\n",
    "    print('다음날짜로 선택시작')\n",
    "    return naver_list"
   ]
  },
  {
   "cell_type": "code",
   "execution_count": 18,
   "metadata": {
    "colab": {
     "base_uri": "https://localhost:8080/"
    },
    "id": "Y5nBq4_5YllP",
    "outputId": "71429450-9454-4b6f-fc06-910213c727b0"
   },
   "outputs": [
    {
     "name": "stdout",
     "output_type": "stream",
     "text": [
      "Requirement already satisfied: tqdm in c:\\users\\admin\\anaconda3\\lib\\site-packages (4.64.1)\n",
      "Requirement already satisfied: colorama in c:\\users\\admin\\anaconda3\\lib\\site-packages (from tqdm) (0.4.6)\n"
     ]
    }
   ],
   "source": [
    "#잘~ 돌아가고 있나 눈으로 보고싶다 !\n",
    "!pip install tqdm"
   ]
  },
  {
   "cell_type": "code",
   "execution_count": 19,
   "metadata": {
    "id": "BKrXN9xtwTtq"
   },
   "outputs": [],
   "source": [
    "res=[]"
   ]
  },
  {
   "cell_type": "code",
   "execution_count": 20,
   "metadata": {
    "id": "pEoEfc-RZkZA"
   },
   "outputs": [],
   "source": [
    "#잘~ 돌아가고 있나 눈으로 보고싶다 !\n",
    "from tqdm import tqdm"
   ]
  },
  {
   "cell_type": "code",
   "execution_count": 21,
   "metadata": {
    "colab": {
     "base_uri": "https://localhost:8080/"
    },
    "id": "PJqRycQWRS9X",
    "outputId": "eea07d4e-2285-4042-d5ed-0613ed402726"
   },
   "outputs": [
    {
     "name": "stdout",
     "output_type": "stream",
     "text": [
      "- 접속한 웹 사이트의 제목: 코스피 경제 : 네이버 뉴스검색\n"
     ]
    },
    {
     "name": "stderr",
     "output_type": "stream",
     "text": [
      "preprocessing year:   0%|                                                                        | 0/1 [00:00<?, ?it/s]\n",
      "preprocessing month:   0%|                                                                      | 0/12 [00:00<?, ?it/s]\u001b[A\n",
      "\n",
      "preprocessing day:   0%|                                                                        | 0/31 [00:00<?, ?it/s]\u001b[A\u001b[A"
     ]
    },
    {
     "name": "stdout",
     "output_type": "stream",
     "text": [
      "다음 날짜 선택 후 크롤링 준비\n",
      "https://search.naver.com/search.naver?where=news&query=%EC%BD%94%EC%8A%A4%ED%94%BC%20%EA%B2%BD%EC%A0%9C&sm=tab_opt&sort=0&photo=0&field=0&pd=3&ds=2022.01.01&de=2022.01.01&docid=&related=0&mynews=0&office_type=0&office_section_code=0&news_office_checked=&nso=so%3Ar%2Cp%3Afrom20220101to20220101&is_sug_officeid=0\n",
      "https://search.naver.com/search.naver?where=news&sm=tab_pge&query=%EC%BD%94%EC%8A%A4%ED%94%BC%20%EA%B2%BD%EC%A0%9C&sort=0&photo=0&field=0&pd=3&ds=2022.01.01&de=2022.01.01&cluster_rank=13&mynews=0&office_type=0&office_section_code=0&news_office_checked=&nso=so:r,p:from20220101to20220101,a:all&start=11\n",
      "https://search.naver.com/search.naver?where=news&sm=tab_pge&query=%EC%BD%94%EC%8A%A4%ED%94%BC%20%EA%B2%BD%EC%A0%9C&sort=0&photo=0&field=0&pd=3&ds=2022.01.01&de=2022.01.01&cluster_rank=23&mynews=0&office_type=0&office_section_code=0&news_office_checked=&nso=so:r,p:from20220101to20220101,a:all&start=21\n",
      "크롤링 준비\n"
     ]
    },
    {
     "name": "stderr",
     "output_type": "stream",
     "text": [
      "\n",
      "\n",
      "preprocessing day:   3%|██                                                              | 1/31 [00:06<03:22,  6.75s/it]\u001b[A\u001b[A"
     ]
    },
    {
     "name": "stdout",
     "output_type": "stream",
     "text": [
      "다음날짜로 선택시작\n",
      "다음 날짜 선택 후 크롤링 준비\n",
      "https://search.naver.com/search.naver?where=news&query=%EC%BD%94%EC%8A%A4%ED%94%BC%20%EA%B2%BD%EC%A0%9C&sm=tab_opt&sort=0&photo=0&field=0&pd=3&ds=2022.01.02&de=2022.01.02&docid=&related=0&mynews=0&office_type=0&office_section_code=0&news_office_checked=&nso=so%3Ar%2Cp%3Afrom20220102to20220102&is_sug_officeid=0\n",
      "https://search.naver.com/search.naver?where=news&sm=tab_pge&query=%EC%BD%94%EC%8A%A4%ED%94%BC%20%EA%B2%BD%EC%A0%9C&sort=0&photo=0&field=0&pd=3&ds=2022.01.02&de=2022.01.02&cluster_rank=11&mynews=0&office_type=0&office_section_code=0&news_office_checked=&nso=so:r,p:from20220102to20220102,a:all&start=11\n",
      "https://search.naver.com/search.naver?where=news&sm=tab_pge&query=%EC%BD%94%EC%8A%A4%ED%94%BC%20%EA%B2%BD%EC%A0%9C&sort=0&photo=0&field=0&pd=3&ds=2022.01.02&de=2022.01.02&cluster_rank=21&mynews=0&office_type=0&office_section_code=0&news_office_checked=&nso=so:r,p:from20220102to20220102,a:all&start=21\n",
      "크롤링 준비\n"
     ]
    },
    {
     "name": "stderr",
     "output_type": "stream",
     "text": [
      "\n",
      "\n",
      "preprocessing day:   6%|████▏                                                           | 2/31 [00:14<03:33,  7.36s/it]\u001b[A\u001b[A"
     ]
    },
    {
     "name": "stdout",
     "output_type": "stream",
     "text": [
      "다음날짜로 선택시작\n",
      "다음 날짜 선택 후 크롤링 준비\n",
      "https://search.naver.com/search.naver?where=news&query=%EC%BD%94%EC%8A%A4%ED%94%BC%20%EA%B2%BD%EC%A0%9C&sm=tab_opt&sort=0&photo=0&field=0&pd=3&ds=2022.01.03&de=2022.01.03&docid=&related=0&mynews=0&office_type=0&office_section_code=0&news_office_checked=&nso=so%3Ar%2Cp%3Afrom20220103to20220103&is_sug_officeid=0\n",
      "https://search.naver.com/search.naver?where=news&sm=tab_pge&query=%EC%BD%94%EC%8A%A4%ED%94%BC%20%EA%B2%BD%EC%A0%9C&sort=0&photo=0&field=0&pd=3&ds=2022.01.03&de=2022.01.03&cluster_rank=15&mynews=0&office_type=0&office_section_code=0&news_office_checked=&nso=so:r,p:from20220103to20220103,a:all&start=11\n",
      "https://search.naver.com/search.naver?where=news&sm=tab_pge&query=%EC%BD%94%EC%8A%A4%ED%94%BC%20%EA%B2%BD%EC%A0%9C&sort=0&photo=0&field=0&pd=3&ds=2022.01.03&de=2022.01.03&cluster_rank=29&mynews=0&office_type=0&office_section_code=0&news_office_checked=&nso=so:r,p:from20220103to20220103,a:all&start=21\n",
      "크롤링 준비\n"
     ]
    },
    {
     "name": "stderr",
     "output_type": "stream",
     "text": [
      "\n",
      "\n",
      "preprocessing day:  10%|██████▏                                                         | 3/31 [00:21<03:23,  7.28s/it]\u001b[A\u001b[A"
     ]
    },
    {
     "name": "stdout",
     "output_type": "stream",
     "text": [
      "다음날짜로 선택시작\n",
      "다음 날짜 선택 후 크롤링 준비\n",
      "https://search.naver.com/search.naver?where=news&query=%EC%BD%94%EC%8A%A4%ED%94%BC%20%EA%B2%BD%EC%A0%9C&sm=tab_opt&sort=0&photo=0&field=0&pd=3&ds=2022.01.04&de=2022.01.04&docid=&related=0&mynews=0&office_type=0&office_section_code=0&news_office_checked=&nso=so%3Ar%2Cp%3Afrom20220104to20220104&is_sug_officeid=0\n",
      "https://search.naver.com/search.naver?where=news&sm=tab_pge&query=%EC%BD%94%EC%8A%A4%ED%94%BC%20%EA%B2%BD%EC%A0%9C&sort=0&photo=0&field=0&pd=3&ds=2022.01.04&de=2022.01.04&cluster_rank=14&mynews=0&office_type=0&office_section_code=0&news_office_checked=&nso=so:r,p:from20220104to20220104,a:all&start=11\n",
      "https://search.naver.com/search.naver?where=news&sm=tab_pge&query=%EC%BD%94%EC%8A%A4%ED%94%BC%20%EA%B2%BD%EC%A0%9C&sort=0&photo=0&field=0&pd=3&ds=2022.01.04&de=2022.01.04&cluster_rank=26&mynews=0&office_type=0&office_section_code=0&news_office_checked=&nso=so:r,p:from20220104to20220104,a:all&start=21\n",
      "크롤링 준비\n"
     ]
    },
    {
     "name": "stderr",
     "output_type": "stream",
     "text": [
      "\n",
      "\n",
      "preprocessing day:  13%|████████▎                                                       | 4/31 [00:28<03:16,  7.28s/it]\u001b[A\u001b[A"
     ]
    },
    {
     "name": "stdout",
     "output_type": "stream",
     "text": [
      "다음날짜로 선택시작\n",
      "다음 날짜 선택 후 크롤링 준비\n",
      "https://search.naver.com/search.naver?where=news&query=%EC%BD%94%EC%8A%A4%ED%94%BC%20%EA%B2%BD%EC%A0%9C&sm=tab_opt&sort=0&photo=0&field=0&pd=3&ds=2022.01.05&de=2022.01.05&docid=&related=0&mynews=0&office_type=0&office_section_code=0&news_office_checked=&nso=so%3Ar%2Cp%3Afrom20220105to20220105&is_sug_officeid=0\n",
      "https://search.naver.com/search.naver?where=news&sm=tab_pge&query=%EC%BD%94%EC%8A%A4%ED%94%BC%20%EA%B2%BD%EC%A0%9C&sort=0&photo=0&field=0&pd=3&ds=2022.01.05&de=2022.01.05&cluster_rank=16&mynews=0&office_type=0&office_section_code=0&news_office_checked=&nso=so:r,p:from20220105to20220105,a:all&start=11\n",
      "https://search.naver.com/search.naver?where=news&sm=tab_pge&query=%EC%BD%94%EC%8A%A4%ED%94%BC%20%EA%B2%BD%EC%A0%9C&sort=0&photo=0&field=0&pd=3&ds=2022.01.05&de=2022.01.05&cluster_rank=27&mynews=0&office_type=0&office_section_code=0&news_office_checked=&nso=so:r,p:from20220105to20220105,a:all&start=21\n",
      "크롤링 준비\n"
     ]
    },
    {
     "name": "stderr",
     "output_type": "stream",
     "text": [
      "\n",
      "\n",
      "preprocessing day:  16%|██████████▎                                                     | 5/31 [00:37<03:17,  7.61s/it]\u001b[A\u001b[A"
     ]
    },
    {
     "name": "stdout",
     "output_type": "stream",
     "text": [
      "다음날짜로 선택시작\n",
      "다음 날짜 선택 후 크롤링 준비\n",
      "https://search.naver.com/search.naver?where=news&query=%EC%BD%94%EC%8A%A4%ED%94%BC%20%EA%B2%BD%EC%A0%9C&sm=tab_opt&sort=0&photo=0&field=0&pd=3&ds=2022.01.06&de=2022.01.06&docid=&related=0&mynews=0&office_type=0&office_section_code=0&news_office_checked=&nso=so%3Ar%2Cp%3Afrom20220106to20220106&is_sug_officeid=0\n",
      "https://search.naver.com/search.naver?where=news&sm=tab_pge&query=%EC%BD%94%EC%8A%A4%ED%94%BC%20%EA%B2%BD%EC%A0%9C&sort=0&photo=0&field=0&pd=3&ds=2022.01.06&de=2022.01.06&cluster_rank=13&mynews=0&office_type=0&office_section_code=0&news_office_checked=&nso=so:r,p:from20220106to20220106,a:all&start=11\n",
      "https://search.naver.com/search.naver?where=news&sm=tab_pge&query=%EC%BD%94%EC%8A%A4%ED%94%BC%20%EA%B2%BD%EC%A0%9C&sort=0&photo=0&field=0&pd=3&ds=2022.01.06&de=2022.01.06&cluster_rank=23&mynews=0&office_type=0&office_section_code=0&news_office_checked=&nso=so:r,p:from20220106to20220106,a:all&start=21\n",
      "크롤링 준비\n"
     ]
    },
    {
     "name": "stderr",
     "output_type": "stream",
     "text": [
      "\n",
      "\n",
      "preprocessing day:  19%|████████████▍                                                   | 6/31 [00:44<03:06,  7.46s/it]\u001b[A\u001b[A"
     ]
    },
    {
     "name": "stdout",
     "output_type": "stream",
     "text": [
      "다음날짜로 선택시작\n",
      "다음 날짜 선택 후 크롤링 준비\n",
      "https://search.naver.com/search.naver?where=news&query=%EC%BD%94%EC%8A%A4%ED%94%BC%20%EA%B2%BD%EC%A0%9C&sm=tab_opt&sort=0&photo=0&field=0&pd=3&ds=2022.01.07&de=2022.01.07&docid=&related=0&mynews=0&office_type=0&office_section_code=0&news_office_checked=&nso=so%3Ar%2Cp%3Afrom20220107to20220107&is_sug_officeid=0\n",
      "https://search.naver.com/search.naver?where=news&sm=tab_pge&query=%EC%BD%94%EC%8A%A4%ED%94%BC%20%EA%B2%BD%EC%A0%9C&sort=0&photo=0&field=0&pd=3&ds=2022.01.07&de=2022.01.07&cluster_rank=15&mynews=0&office_type=0&office_section_code=0&news_office_checked=&nso=so:r,p:from20220107to20220107,a:all&start=11\n",
      "https://search.naver.com/search.naver?where=news&sm=tab_pge&query=%EC%BD%94%EC%8A%A4%ED%94%BC%20%EA%B2%BD%EC%A0%9C&sort=0&photo=0&field=0&pd=3&ds=2022.01.07&de=2022.01.07&cluster_rank=25&mynews=0&office_type=0&office_section_code=0&news_office_checked=&nso=so:r,p:from20220107to20220107,a:all&start=21\n",
      "크롤링 준비\n"
     ]
    },
    {
     "name": "stderr",
     "output_type": "stream",
     "text": [
      "\n",
      "\n",
      "preprocessing day:  23%|██████████████▍                                                 | 7/31 [00:51<02:57,  7.39s/it]\u001b[A\u001b[A"
     ]
    },
    {
     "name": "stdout",
     "output_type": "stream",
     "text": [
      "다음날짜로 선택시작\n",
      "다음 날짜 선택 후 크롤링 준비\n",
      "https://search.naver.com/search.naver?where=news&query=%EC%BD%94%EC%8A%A4%ED%94%BC%20%EA%B2%BD%EC%A0%9C&sm=tab_opt&sort=0&photo=0&field=0&pd=3&ds=2022.01.08&de=2022.01.08&docid=&related=0&mynews=0&office_type=0&office_section_code=0&news_office_checked=&nso=so%3Ar%2Cp%3Afrom20220108to20220108&is_sug_officeid=0\n",
      "https://search.naver.com/search.naver?where=news&sm=tab_pge&query=%EC%BD%94%EC%8A%A4%ED%94%BC%20%EA%B2%BD%EC%A0%9C&sort=0&photo=0&field=0&pd=3&ds=2022.01.08&de=2022.01.08&cluster_rank=11&mynews=0&office_type=0&office_section_code=0&news_office_checked=&nso=so:r,p:from20220108to20220108,a:all&start=11\n",
      "https://search.naver.com/search.naver?where=news&sm=tab_pge&query=%EC%BD%94%EC%8A%A4%ED%94%BC%20%EA%B2%BD%EC%A0%9C&sort=0&photo=0&field=0&pd=3&ds=2022.01.08&de=2022.01.08&cluster_rank=11&mynews=0&office_type=0&office_section_code=0&news_office_checked=&nso=so:r,p:from20220108to20220108,a:all&start=11\n",
      "크롤링 준비\n"
     ]
    },
    {
     "name": "stderr",
     "output_type": "stream",
     "text": [
      "\n",
      "\n",
      "preprocessing day:  26%|████████████████▌                                               | 8/31 [00:58<02:47,  7.27s/it]\u001b[A\u001b[A"
     ]
    },
    {
     "name": "stdout",
     "output_type": "stream",
     "text": [
      "다음날짜로 선택시작\n",
      "다음 날짜 선택 후 크롤링 준비\n",
      "https://search.naver.com/search.naver?where=news&query=%EC%BD%94%EC%8A%A4%ED%94%BC%20%EA%B2%BD%EC%A0%9C&sm=tab_opt&sort=0&photo=0&field=0&pd=3&ds=2022.01.09&de=2022.01.09&docid=&related=0&mynews=0&office_type=0&office_section_code=0&news_office_checked=&nso=so%3Ar%2Cp%3Afrom20220109to20220109&is_sug_officeid=0\n",
      "https://search.naver.com/search.naver?where=news&sm=tab_pge&query=%EC%BD%94%EC%8A%A4%ED%94%BC%20%EA%B2%BD%EC%A0%9C&sort=0&photo=0&field=0&pd=3&ds=2022.01.09&de=2022.01.09&cluster_rank=13&mynews=0&office_type=0&office_section_code=0&news_office_checked=&nso=so:r,p:from20220109to20220109,a:all&start=11\n",
      "https://search.naver.com/search.naver?where=news&sm=tab_pge&query=%EC%BD%94%EC%8A%A4%ED%94%BC%20%EA%B2%BD%EC%A0%9C&sort=0&photo=0&field=0&pd=3&ds=2022.01.09&de=2022.01.09&cluster_rank=24&mynews=0&office_type=0&office_section_code=0&news_office_checked=&nso=so:r,p:from20220109to20220109,a:all&start=21\n",
      "크롤링 준비\n"
     ]
    },
    {
     "name": "stderr",
     "output_type": "stream",
     "text": [
      "\n",
      "\n",
      "preprocessing day:  29%|██████████████████▌                                             | 9/31 [01:06<02:43,  7.42s/it]\u001b[A\u001b[A"
     ]
    },
    {
     "name": "stdout",
     "output_type": "stream",
     "text": [
      "다음날짜로 선택시작\n",
      "다음 날짜 선택 후 크롤링 준비\n",
      "https://search.naver.com/search.naver?where=news&query=%EC%BD%94%EC%8A%A4%ED%94%BC%20%EA%B2%BD%EC%A0%9C&sm=tab_opt&sort=0&photo=0&field=0&pd=3&ds=2022.01.10&de=2022.01.10&docid=&related=0&mynews=0&office_type=0&office_section_code=0&news_office_checked=&nso=so%3Ar%2Cp%3Afrom20220110to20220110&is_sug_officeid=0\n",
      "https://search.naver.com/search.naver?where=news&sm=tab_pge&query=%EC%BD%94%EC%8A%A4%ED%94%BC%20%EA%B2%BD%EC%A0%9C&sort=0&photo=0&field=0&pd=3&ds=2022.01.10&de=2022.01.10&cluster_rank=15&mynews=0&office_type=0&office_section_code=0&news_office_checked=&nso=so:r,p:from20220110to20220110,a:all&start=11\n",
      "https://search.naver.com/search.naver?where=news&sm=tab_pge&query=%EC%BD%94%EC%8A%A4%ED%94%BC%20%EA%B2%BD%EC%A0%9C&sort=0&photo=0&field=0&pd=3&ds=2022.01.10&de=2022.01.10&cluster_rank=30&mynews=0&office_type=0&office_section_code=0&news_office_checked=&nso=so:r,p:from20220110to20220110,a:all&start=21\n",
      "크롤링 준비\n"
     ]
    },
    {
     "name": "stderr",
     "output_type": "stream",
     "text": [
      "\n",
      "\n",
      "preprocessing day:  32%|████████████████████▎                                          | 10/31 [01:13<02:36,  7.45s/it]\u001b[A\u001b[A"
     ]
    },
    {
     "name": "stdout",
     "output_type": "stream",
     "text": [
      "다음날짜로 선택시작\n",
      "다음 날짜 선택 후 크롤링 준비\n",
      "https://search.naver.com/search.naver?where=news&query=%EC%BD%94%EC%8A%A4%ED%94%BC%20%EA%B2%BD%EC%A0%9C&sm=tab_opt&sort=0&photo=0&field=0&pd=3&ds=2022.01.11&de=2022.01.11&docid=&related=0&mynews=0&office_type=0&office_section_code=0&news_office_checked=&nso=so%3Ar%2Cp%3Afrom20220111to20220111&is_sug_officeid=0\n",
      "https://search.naver.com/search.naver?where=news&sm=tab_pge&query=%EC%BD%94%EC%8A%A4%ED%94%BC%20%EA%B2%BD%EC%A0%9C&sort=0&photo=0&field=0&pd=3&ds=2022.01.11&de=2022.01.11&cluster_rank=23&mynews=0&office_type=0&office_section_code=0&news_office_checked=&nso=so:r,p:from20220111to20220111,a:all&start=11\n",
      "https://search.naver.com/search.naver?where=news&sm=tab_pge&query=%EC%BD%94%EC%8A%A4%ED%94%BC%20%EA%B2%BD%EC%A0%9C&sort=0&photo=0&field=0&pd=3&ds=2022.01.11&de=2022.01.11&cluster_rank=34&mynews=0&office_type=0&office_section_code=0&news_office_checked=&nso=so:r,p:from20220111to20220111,a:all&start=21\n",
      "크롤링 준비\n"
     ]
    },
    {
     "name": "stderr",
     "output_type": "stream",
     "text": [
      "\n",
      "\n",
      "preprocessing day:  35%|██████████████████████▎                                        | 11/31 [01:21<02:27,  7.36s/it]\u001b[A\u001b[A"
     ]
    },
    {
     "name": "stdout",
     "output_type": "stream",
     "text": [
      "다음날짜로 선택시작\n",
      "다음 날짜 선택 후 크롤링 준비\n",
      "https://search.naver.com/search.naver?where=news&query=%EC%BD%94%EC%8A%A4%ED%94%BC%20%EA%B2%BD%EC%A0%9C&sm=tab_opt&sort=0&photo=0&field=0&pd=3&ds=2022.01.12&de=2022.01.12&docid=&related=0&mynews=0&office_type=0&office_section_code=0&news_office_checked=&nso=so%3Ar%2Cp%3Afrom20220112to20220112&is_sug_officeid=0\n",
      "https://search.naver.com/search.naver?where=news&sm=tab_pge&query=%EC%BD%94%EC%8A%A4%ED%94%BC%20%EA%B2%BD%EC%A0%9C&sort=0&photo=0&field=0&pd=3&ds=2022.01.12&de=2022.01.12&cluster_rank=11&mynews=0&office_type=0&office_section_code=0&news_office_checked=&nso=so:r,p:from20220112to20220112,a:all&start=11\n",
      "https://search.naver.com/search.naver?where=news&sm=tab_pge&query=%EC%BD%94%EC%8A%A4%ED%94%BC%20%EA%B2%BD%EC%A0%9C&sort=0&photo=0&field=0&pd=3&ds=2022.01.12&de=2022.01.12&cluster_rank=22&mynews=0&office_type=0&office_section_code=0&news_office_checked=&nso=so:r,p:from20220112to20220112,a:all&start=21\n",
      "크롤링 준비\n"
     ]
    },
    {
     "name": "stderr",
     "output_type": "stream",
     "text": [
      "\n",
      "\n",
      "preprocessing day:  39%|████████████████████████▍                                      | 12/31 [01:28<02:17,  7.25s/it]\u001b[A\u001b[A"
     ]
    },
    {
     "name": "stdout",
     "output_type": "stream",
     "text": [
      "다음날짜로 선택시작\n",
      "다음 날짜 선택 후 크롤링 준비\n",
      "https://search.naver.com/search.naver?where=news&query=%EC%BD%94%EC%8A%A4%ED%94%BC%20%EA%B2%BD%EC%A0%9C&sm=tab_opt&sort=0&photo=0&field=0&pd=3&ds=2022.01.13&de=2022.01.13&docid=&related=0&mynews=0&office_type=0&office_section_code=0&news_office_checked=&nso=so%3Ar%2Cp%3Afrom20220113to20220113&is_sug_officeid=0\n",
      "https://search.naver.com/search.naver?where=news&sm=tab_pge&query=%EC%BD%94%EC%8A%A4%ED%94%BC%20%EA%B2%BD%EC%A0%9C&sort=0&photo=0&field=0&pd=3&ds=2022.01.13&de=2022.01.13&cluster_rank=11&mynews=0&office_type=0&office_section_code=0&news_office_checked=&nso=so:r,p:from20220113to20220113,a:all&start=11\n",
      "https://search.naver.com/search.naver?where=news&sm=tab_pge&query=%EC%BD%94%EC%8A%A4%ED%94%BC%20%EA%B2%BD%EC%A0%9C&sort=0&photo=0&field=0&pd=3&ds=2022.01.13&de=2022.01.13&cluster_rank=21&mynews=0&office_type=0&office_section_code=0&news_office_checked=&nso=so:r,p:from20220113to20220113,a:all&start=21\n",
      "크롤링 준비\n"
     ]
    },
    {
     "name": "stderr",
     "output_type": "stream",
     "text": [
      "\n",
      "\n",
      "preprocessing day:  42%|██████████████████████████▍                                    | 13/31 [01:35<02:09,  7.20s/it]\u001b[A\u001b[A"
     ]
    },
    {
     "name": "stdout",
     "output_type": "stream",
     "text": [
      "다음날짜로 선택시작\n",
      "다음 날짜 선택 후 크롤링 준비\n",
      "https://search.naver.com/search.naver?where=news&query=%EC%BD%94%EC%8A%A4%ED%94%BC%20%EA%B2%BD%EC%A0%9C&sm=tab_opt&sort=0&photo=0&field=0&pd=3&ds=2022.01.14&de=2022.01.14&docid=&related=0&mynews=0&office_type=0&office_section_code=0&news_office_checked=&nso=so%3Ar%2Cp%3Afrom20220114to20220114&is_sug_officeid=0\n",
      "https://search.naver.com/search.naver?where=news&sm=tab_pge&query=%EC%BD%94%EC%8A%A4%ED%94%BC%20%EA%B2%BD%EC%A0%9C&sort=0&photo=0&field=0&pd=3&ds=2022.01.14&de=2022.01.14&cluster_rank=16&mynews=0&office_type=0&office_section_code=0&news_office_checked=&nso=so:r,p:from20220114to20220114,a:all&start=11\n",
      "https://search.naver.com/search.naver?where=news&sm=tab_pge&query=%EC%BD%94%EC%8A%A4%ED%94%BC%20%EA%B2%BD%EC%A0%9C&sort=0&photo=0&field=0&pd=3&ds=2022.01.14&de=2022.01.14&cluster_rank=26&mynews=0&office_type=0&office_section_code=0&news_office_checked=&nso=so:r,p:from20220114to20220114,a:all&start=21\n",
      "크롤링 준비\n"
     ]
    },
    {
     "name": "stderr",
     "output_type": "stream",
     "text": [
      "\n",
      "\n",
      "preprocessing day:  45%|████████████████████████████▍                                  | 14/31 [01:42<02:02,  7.20s/it]\u001b[A\u001b[A"
     ]
    },
    {
     "name": "stdout",
     "output_type": "stream",
     "text": [
      "다음날짜로 선택시작\n",
      "다음 날짜 선택 후 크롤링 준비\n",
      "https://search.naver.com/search.naver?where=news&query=%EC%BD%94%EC%8A%A4%ED%94%BC%20%EA%B2%BD%EC%A0%9C&sm=tab_opt&sort=0&photo=0&field=0&pd=3&ds=2022.01.15&de=2022.01.15&docid=&related=0&mynews=0&office_type=0&office_section_code=0&news_office_checked=&nso=so%3Ar%2Cp%3Afrom20220115to20220115&is_sug_officeid=0\n",
      "https://search.naver.com/search.naver?where=news&sm=tab_pge&query=%EC%BD%94%EC%8A%A4%ED%94%BC%20%EA%B2%BD%EC%A0%9C&sort=0&photo=0&field=0&pd=3&ds=2022.01.15&de=2022.01.15&cluster_rank=11&mynews=0&office_type=0&office_section_code=0&news_office_checked=&nso=so:r,p:from20220115to20220115,a:all&start=11\n",
      "https://search.naver.com/search.naver?where=news&sm=tab_pge&query=%EC%BD%94%EC%8A%A4%ED%94%BC%20%EA%B2%BD%EC%A0%9C&sort=0&photo=0&field=0&pd=3&ds=2022.01.15&de=2022.01.15&cluster_rank=11&mynews=0&office_type=0&office_section_code=0&news_office_checked=&nso=so:r,p:from20220115to20220115,a:all&start=11\n",
      "크롤링 준비\n"
     ]
    },
    {
     "name": "stderr",
     "output_type": "stream",
     "text": [
      "\n",
      "\n",
      "preprocessing day:  48%|██████████████████████████████▍                                | 15/31 [01:49<01:53,  7.12s/it]\u001b[A\u001b[A"
     ]
    },
    {
     "name": "stdout",
     "output_type": "stream",
     "text": [
      "다음날짜로 선택시작\n",
      "다음 날짜 선택 후 크롤링 준비\n",
      "https://search.naver.com/search.naver?where=news&query=%EC%BD%94%EC%8A%A4%ED%94%BC%20%EA%B2%BD%EC%A0%9C&sm=tab_opt&sort=0&photo=0&field=0&pd=3&ds=2022.01.16&de=2022.01.16&docid=&related=0&mynews=0&office_type=0&office_section_code=0&news_office_checked=&nso=so%3Ar%2Cp%3Afrom20220116to20220116&is_sug_officeid=0\n",
      "https://search.naver.com/search.naver?where=news&sm=tab_pge&query=%EC%BD%94%EC%8A%A4%ED%94%BC%20%EA%B2%BD%EC%A0%9C&sort=0&photo=0&field=0&pd=3&ds=2022.01.16&de=2022.01.16&cluster_rank=17&mynews=0&office_type=0&office_section_code=0&news_office_checked=&nso=so:r,p:from20220116to20220116,a:all&start=11\n",
      "https://search.naver.com/search.naver?where=news&sm=tab_pge&query=%EC%BD%94%EC%8A%A4%ED%94%BC%20%EA%B2%BD%EC%A0%9C&sort=0&photo=0&field=0&pd=3&ds=2022.01.16&de=2022.01.16&cluster_rank=27&mynews=0&office_type=0&office_section_code=0&news_office_checked=&nso=so:r,p:from20220116to20220116,a:all&start=21\n",
      "크롤링 준비\n"
     ]
    },
    {
     "name": "stderr",
     "output_type": "stream",
     "text": [
      "\n",
      "\n",
      "preprocessing day:  52%|████████████████████████████████▌                              | 16/31 [01:56<01:48,  7.25s/it]\u001b[A\u001b[A"
     ]
    },
    {
     "name": "stdout",
     "output_type": "stream",
     "text": [
      "다음날짜로 선택시작\n",
      "다음 날짜 선택 후 크롤링 준비\n",
      "https://search.naver.com/search.naver?where=news&query=%EC%BD%94%EC%8A%A4%ED%94%BC%20%EA%B2%BD%EC%A0%9C&sm=tab_opt&sort=0&photo=0&field=0&pd=3&ds=2022.01.17&de=2022.01.17&docid=&related=0&mynews=0&office_type=0&office_section_code=0&news_office_checked=&nso=so%3Ar%2Cp%3Afrom20220117to20220117&is_sug_officeid=0\n",
      "https://search.naver.com/search.naver?where=news&sm=tab_pge&query=%EC%BD%94%EC%8A%A4%ED%94%BC%20%EA%B2%BD%EC%A0%9C&sort=0&photo=0&field=0&pd=3&ds=2022.01.17&de=2022.01.17&cluster_rank=13&mynews=0&office_type=0&office_section_code=0&news_office_checked=&nso=so:r,p:from20220117to20220117,a:all&start=11\n",
      "https://search.naver.com/search.naver?where=news&sm=tab_pge&query=%EC%BD%94%EC%8A%A4%ED%94%BC%20%EA%B2%BD%EC%A0%9C&sort=0&photo=0&field=0&pd=3&ds=2022.01.17&de=2022.01.17&cluster_rank=23&mynews=0&office_type=0&office_section_code=0&news_office_checked=&nso=so:r,p:from20220117to20220117,a:all&start=21\n",
      "크롤링 준비\n"
     ]
    },
    {
     "name": "stderr",
     "output_type": "stream",
     "text": [
      "\n",
      "\n",
      "preprocessing day:  55%|██████████████████████████████████▌                            | 17/31 [02:04<01:41,  7.28s/it]\u001b[A\u001b[A"
     ]
    },
    {
     "name": "stdout",
     "output_type": "stream",
     "text": [
      "다음날짜로 선택시작\n",
      "다음 날짜 선택 후 크롤링 준비\n",
      "https://search.naver.com/search.naver?where=news&query=%EC%BD%94%EC%8A%A4%ED%94%BC%20%EA%B2%BD%EC%A0%9C&sm=tab_opt&sort=0&photo=0&field=0&pd=3&ds=2022.01.18&de=2022.01.18&docid=&related=0&mynews=0&office_type=0&office_section_code=0&news_office_checked=&nso=so%3Ar%2Cp%3Afrom20220118to20220118&is_sug_officeid=0\n",
      "https://search.naver.com/search.naver?where=news&sm=tab_pge&query=%EC%BD%94%EC%8A%A4%ED%94%BC%20%EA%B2%BD%EC%A0%9C&sort=0&photo=0&field=0&pd=3&ds=2022.01.18&de=2022.01.18&cluster_rank=14&mynews=0&office_type=0&office_section_code=0&news_office_checked=&nso=so:r,p:from20220118to20220118,a:all&start=11\n",
      "https://search.naver.com/search.naver?where=news&sm=tab_pge&query=%EC%BD%94%EC%8A%A4%ED%94%BC%20%EA%B2%BD%EC%A0%9C&sort=0&photo=0&field=0&pd=3&ds=2022.01.18&de=2022.01.18&cluster_rank=24&mynews=0&office_type=0&office_section_code=0&news_office_checked=&nso=so:r,p:from20220118to20220118,a:all&start=21\n",
      "크롤링 준비\n"
     ]
    },
    {
     "name": "stderr",
     "output_type": "stream",
     "text": [
      "\n",
      "\n",
      "preprocessing day:  58%|████████████████████████████████████▌                          | 18/31 [02:11<01:35,  7.31s/it]\u001b[A\u001b[A"
     ]
    },
    {
     "name": "stdout",
     "output_type": "stream",
     "text": [
      "다음날짜로 선택시작\n",
      "다음 날짜 선택 후 크롤링 준비\n",
      "https://search.naver.com/search.naver?where=news&query=%EC%BD%94%EC%8A%A4%ED%94%BC%20%EA%B2%BD%EC%A0%9C&sm=tab_opt&sort=0&photo=0&field=0&pd=3&ds=2022.01.19&de=2022.01.19&docid=&related=0&mynews=0&office_type=0&office_section_code=0&news_office_checked=&nso=so%3Ar%2Cp%3Afrom20220119to20220119&is_sug_officeid=0\n",
      "https://search.naver.com/search.naver?where=news&sm=tab_pge&query=%EC%BD%94%EC%8A%A4%ED%94%BC%20%EA%B2%BD%EC%A0%9C&sort=0&photo=0&field=0&pd=3&ds=2022.01.19&de=2022.01.19&cluster_rank=11&mynews=0&office_type=0&office_section_code=0&news_office_checked=&nso=so:r,p:from20220119to20220119,a:all&start=11\n",
      "https://search.naver.com/search.naver?where=news&sm=tab_pge&query=%EC%BD%94%EC%8A%A4%ED%94%BC%20%EA%B2%BD%EC%A0%9C&sort=0&photo=0&field=0&pd=3&ds=2022.01.19&de=2022.01.19&cluster_rank=29&mynews=0&office_type=0&office_section_code=0&news_office_checked=&nso=so:r,p:from20220119to20220119,a:all&start=21\n",
      "크롤링 준비\n"
     ]
    },
    {
     "name": "stderr",
     "output_type": "stream",
     "text": [
      "\n",
      "\n",
      "preprocessing day:  61%|██████████████████████████████████████▌                        | 19/31 [02:19<01:28,  7.36s/it]\u001b[A\u001b[A"
     ]
    },
    {
     "name": "stdout",
     "output_type": "stream",
     "text": [
      "다음날짜로 선택시작\n",
      "다음 날짜 선택 후 크롤링 준비\n",
      "https://search.naver.com/search.naver?where=news&query=%EC%BD%94%EC%8A%A4%ED%94%BC%20%EA%B2%BD%EC%A0%9C&sm=tab_opt&sort=0&photo=0&field=0&pd=3&ds=2022.01.20&de=2022.01.20&docid=&related=0&mynews=0&office_type=0&office_section_code=0&news_office_checked=&nso=so%3Ar%2Cp%3Afrom20220120to20220120&is_sug_officeid=0\n",
      "https://search.naver.com/search.naver?where=news&sm=tab_pge&query=%EC%BD%94%EC%8A%A4%ED%94%BC%20%EA%B2%BD%EC%A0%9C&sort=0&photo=0&field=0&pd=3&ds=2022.01.20&de=2022.01.20&cluster_rank=10&mynews=0&office_type=0&office_section_code=0&news_office_checked=&nso=so:r,p:from20220120to20220120,a:all&start=11\n",
      "https://search.naver.com/search.naver?where=news&sm=tab_pge&query=%EC%BD%94%EC%8A%A4%ED%94%BC%20%EA%B2%BD%EC%A0%9C&sort=0&photo=0&field=0&pd=3&ds=2022.01.20&de=2022.01.20&cluster_rank=24&mynews=0&office_type=0&office_section_code=0&news_office_checked=&nso=so:r,p:from20220120to20220120,a:all&start=21\n",
      "크롤링 준비\n"
     ]
    },
    {
     "name": "stderr",
     "output_type": "stream",
     "text": [
      "\n",
      "\n",
      "preprocessing day:  65%|████████████████████████████████████████▋                      | 20/31 [02:26<01:20,  7.29s/it]\u001b[A\u001b[A"
     ]
    },
    {
     "name": "stdout",
     "output_type": "stream",
     "text": [
      "다음날짜로 선택시작\n",
      "다음 날짜 선택 후 크롤링 준비\n",
      "https://search.naver.com/search.naver?where=news&query=%EC%BD%94%EC%8A%A4%ED%94%BC%20%EA%B2%BD%EC%A0%9C&sm=tab_opt&sort=0&photo=0&field=0&pd=3&ds=2022.01.21&de=2022.01.21&docid=&related=0&mynews=0&office_type=0&office_section_code=0&news_office_checked=&nso=so%3Ar%2Cp%3Afrom20220121to20220121&is_sug_officeid=0\n",
      "https://search.naver.com/search.naver?where=news&sm=tab_pge&query=%EC%BD%94%EC%8A%A4%ED%94%BC%20%EA%B2%BD%EC%A0%9C&sort=0&photo=0&field=0&pd=3&ds=2022.01.21&de=2022.01.21&cluster_rank=10&mynews=0&office_type=0&office_section_code=0&news_office_checked=&nso=so:r,p:from20220121to20220121,a:all&start=11\n",
      "https://search.naver.com/search.naver?where=news&sm=tab_pge&query=%EC%BD%94%EC%8A%A4%ED%94%BC%20%EA%B2%BD%EC%A0%9C&sort=0&photo=0&field=0&pd=3&ds=2022.01.21&de=2022.01.21&cluster_rank=20&mynews=0&office_type=0&office_section_code=0&news_office_checked=&nso=so:r,p:from20220121to20220121,a:all&start=21\n",
      "크롤링 준비\n"
     ]
    },
    {
     "name": "stderr",
     "output_type": "stream",
     "text": [
      "\n",
      "\n",
      "preprocessing day:  68%|██████████████████████████████████████████▋                    | 21/31 [02:33<01:13,  7.32s/it]\u001b[A\u001b[A"
     ]
    },
    {
     "name": "stdout",
     "output_type": "stream",
     "text": [
      "다음날짜로 선택시작\n",
      "다음 날짜 선택 후 크롤링 준비\n",
      "https://search.naver.com/search.naver?where=news&query=%EC%BD%94%EC%8A%A4%ED%94%BC%20%EA%B2%BD%EC%A0%9C&sm=tab_opt&sort=0&photo=0&field=0&pd=3&ds=2022.01.22&de=2022.01.22&docid=&related=0&mynews=0&office_type=0&office_section_code=0&news_office_checked=&nso=so%3Ar%2Cp%3Afrom20220122to20220122&is_sug_officeid=0\n",
      "https://search.naver.com/search.naver?where=news&sm=tab_pge&query=%EC%BD%94%EC%8A%A4%ED%94%BC%20%EA%B2%BD%EC%A0%9C&sort=0&photo=0&field=0&pd=3&ds=2022.01.22&de=2022.01.22&cluster_rank=10&mynews=0&office_type=0&office_section_code=0&news_office_checked=&nso=so:r,p:from20220122to20220122,a:all&start=11\n",
      "https://search.naver.com/search.naver?where=news&sm=tab_pge&query=%EC%BD%94%EC%8A%A4%ED%94%BC%20%EA%B2%BD%EC%A0%9C&sort=0&photo=0&field=0&pd=3&ds=2022.01.22&de=2022.01.22&cluster_rank=10&mynews=0&office_type=0&office_section_code=0&news_office_checked=&nso=so:r,p:from20220122to20220122,a:all&start=11\n",
      "크롤링 준비\n"
     ]
    },
    {
     "name": "stderr",
     "output_type": "stream",
     "text": [
      "\n",
      "\n",
      "preprocessing day:  71%|████████████████████████████████████████████▋                  | 22/31 [02:40<01:05,  7.32s/it]\u001b[A\u001b[A"
     ]
    },
    {
     "name": "stdout",
     "output_type": "stream",
     "text": [
      "다음날짜로 선택시작\n",
      "다음 날짜 선택 후 크롤링 준비\n",
      "https://search.naver.com/search.naver?where=news&query=%EC%BD%94%EC%8A%A4%ED%94%BC%20%EA%B2%BD%EC%A0%9C&sm=tab_opt&sort=0&photo=0&field=0&pd=3&ds=2022.01.23&de=2022.01.23&docid=&related=0&mynews=0&office_type=0&office_section_code=0&news_office_checked=&nso=so%3Ar%2Cp%3Afrom20220123to20220123&is_sug_officeid=0\n",
      "https://search.naver.com/search.naver?where=news&sm=tab_pge&query=%EC%BD%94%EC%8A%A4%ED%94%BC%20%EA%B2%BD%EC%A0%9C&sort=0&photo=0&field=0&pd=3&ds=2022.01.23&de=2022.01.23&cluster_rank=14&mynews=0&office_type=0&office_section_code=0&news_office_checked=&nso=so:r,p:from20220123to20220123,a:all&start=11\n",
      "https://search.naver.com/search.naver?where=news&sm=tab_pge&query=%EC%BD%94%EC%8A%A4%ED%94%BC%20%EA%B2%BD%EC%A0%9C&sort=0&photo=0&field=0&pd=3&ds=2022.01.23&de=2022.01.23&cluster_rank=24&mynews=0&office_type=0&office_section_code=0&news_office_checked=&nso=so:r,p:from20220123to20220123,a:all&start=21\n",
      "크롤링 준비\n"
     ]
    },
    {
     "name": "stderr",
     "output_type": "stream",
     "text": [
      "\n",
      "\n",
      "preprocessing day:  74%|██████████████████████████████████████████████▋                | 23/31 [02:48<00:58,  7.33s/it]\u001b[A\u001b[A"
     ]
    },
    {
     "name": "stdout",
     "output_type": "stream",
     "text": [
      "다음날짜로 선택시작\n",
      "다음 날짜 선택 후 크롤링 준비\n",
      "https://search.naver.com/search.naver?where=news&query=%EC%BD%94%EC%8A%A4%ED%94%BC%20%EA%B2%BD%EC%A0%9C&sm=tab_opt&sort=0&photo=0&field=0&pd=3&ds=2022.01.24&de=2022.01.24&docid=&related=0&mynews=0&office_type=0&office_section_code=0&news_office_checked=&nso=so%3Ar%2Cp%3Afrom20220124to20220124&is_sug_officeid=0\n",
      "https://search.naver.com/search.naver?where=news&sm=tab_pge&query=%EC%BD%94%EC%8A%A4%ED%94%BC%20%EA%B2%BD%EC%A0%9C&sort=0&photo=0&field=0&pd=3&ds=2022.01.24&de=2022.01.24&cluster_rank=14&mynews=0&office_type=0&office_section_code=0&news_office_checked=&nso=so:r,p:from20220124to20220124,a:all&start=11\n",
      "https://search.naver.com/search.naver?where=news&sm=tab_pge&query=%EC%BD%94%EC%8A%A4%ED%94%BC%20%EA%B2%BD%EC%A0%9C&sort=0&photo=0&field=0&pd=3&ds=2022.01.24&de=2022.01.24&cluster_rank=24&mynews=0&office_type=0&office_section_code=0&news_office_checked=&nso=so:r,p:from20220124to20220124,a:all&start=21\n",
      "크롤링 준비\n"
     ]
    },
    {
     "name": "stderr",
     "output_type": "stream",
     "text": [
      "\n",
      "\n",
      "preprocessing day:  77%|████████████████████████████████████████████████▊              | 24/31 [02:55<00:52,  7.43s/it]\u001b[A\u001b[A"
     ]
    },
    {
     "name": "stdout",
     "output_type": "stream",
     "text": [
      "다음날짜로 선택시작\n",
      "다음 날짜 선택 후 크롤링 준비\n",
      "https://search.naver.com/search.naver?where=news&query=%EC%BD%94%EC%8A%A4%ED%94%BC%20%EA%B2%BD%EC%A0%9C&sm=tab_opt&sort=0&photo=0&field=0&pd=3&ds=2022.01.25&de=2022.01.25&docid=&related=0&mynews=0&office_type=0&office_section_code=0&news_office_checked=&nso=so%3Ar%2Cp%3Afrom20220125to20220125&is_sug_officeid=0\n",
      "https://search.naver.com/search.naver?where=news&sm=tab_pge&query=%EC%BD%94%EC%8A%A4%ED%94%BC%20%EA%B2%BD%EC%A0%9C&sort=0&photo=0&field=0&pd=3&ds=2022.01.25&de=2022.01.25&cluster_rank=19&mynews=0&office_type=0&office_section_code=0&news_office_checked=&nso=so:r,p:from20220125to20220125,a:all&start=11\n",
      "https://search.naver.com/search.naver?where=news&sm=tab_pge&query=%EC%BD%94%EC%8A%A4%ED%94%BC%20%EA%B2%BD%EC%A0%9C&sort=0&photo=0&field=0&pd=3&ds=2022.01.25&de=2022.01.25&cluster_rank=29&mynews=0&office_type=0&office_section_code=0&news_office_checked=&nso=so:r,p:from20220125to20220125,a:all&start=21\n",
      "크롤링 준비\n"
     ]
    },
    {
     "name": "stderr",
     "output_type": "stream",
     "text": [
      "\n",
      "\n",
      "preprocessing day:  81%|██████████████████████████████████████████████████▊            | 25/31 [03:03<00:44,  7.40s/it]\u001b[A\u001b[A"
     ]
    },
    {
     "name": "stdout",
     "output_type": "stream",
     "text": [
      "다음날짜로 선택시작\n",
      "다음 날짜 선택 후 크롤링 준비\n",
      "https://search.naver.com/search.naver?where=news&query=%EC%BD%94%EC%8A%A4%ED%94%BC%20%EA%B2%BD%EC%A0%9C&sm=tab_opt&sort=0&photo=0&field=0&pd=3&ds=2022.01.26&de=2022.01.26&docid=&related=0&mynews=0&office_type=0&office_section_code=0&news_office_checked=&nso=so%3Ar%2Cp%3Afrom20220126to20220126&is_sug_officeid=0\n",
      "https://search.naver.com/search.naver?where=news&sm=tab_pge&query=%EC%BD%94%EC%8A%A4%ED%94%BC%20%EA%B2%BD%EC%A0%9C&sort=0&photo=0&field=0&pd=3&ds=2022.01.26&de=2022.01.26&cluster_rank=15&mynews=0&office_type=0&office_section_code=0&news_office_checked=&nso=so:r,p:from20220126to20220126,a:all&start=11\n",
      "https://search.naver.com/search.naver?where=news&sm=tab_pge&query=%EC%BD%94%EC%8A%A4%ED%94%BC%20%EA%B2%BD%EC%A0%9C&sort=0&photo=0&field=0&pd=3&ds=2022.01.26&de=2022.01.26&cluster_rank=25&mynews=0&office_type=0&office_section_code=0&news_office_checked=&nso=so:r,p:from20220126to20220126,a:all&start=21\n",
      "크롤링 준비\n"
     ]
    },
    {
     "name": "stderr",
     "output_type": "stream",
     "text": [
      "\n",
      "\n",
      "preprocessing day:  84%|████████████████████████████████████████████████████▊          | 26/31 [03:10<00:36,  7.36s/it]\u001b[A\u001b[A"
     ]
    },
    {
     "name": "stdout",
     "output_type": "stream",
     "text": [
      "다음날짜로 선택시작\n",
      "다음 날짜 선택 후 크롤링 준비\n",
      "https://search.naver.com/search.naver?where=news&query=%EC%BD%94%EC%8A%A4%ED%94%BC%20%EA%B2%BD%EC%A0%9C&sm=tab_opt&sort=0&photo=0&field=0&pd=3&ds=2022.01.27&de=2022.01.27&docid=&related=0&mynews=0&office_type=0&office_section_code=0&news_office_checked=&nso=so%3Ar%2Cp%3Afrom20220127to20220127&is_sug_officeid=0\n",
      "https://search.naver.com/search.naver?where=news&sm=tab_pge&query=%EC%BD%94%EC%8A%A4%ED%94%BC%20%EA%B2%BD%EC%A0%9C&sort=0&photo=0&field=0&pd=3&ds=2022.01.27&de=2022.01.27&cluster_rank=11&mynews=0&office_type=0&office_section_code=0&news_office_checked=&nso=so:r,p:from20220127to20220127,a:all&start=11\n",
      "https://search.naver.com/search.naver?where=news&sm=tab_pge&query=%EC%BD%94%EC%8A%A4%ED%94%BC%20%EA%B2%BD%EC%A0%9C&sort=0&photo=0&field=0&pd=3&ds=2022.01.27&de=2022.01.27&cluster_rank=28&mynews=0&office_type=0&office_section_code=0&news_office_checked=&nso=so:r,p:from20220127to20220127,a:all&start=21\n",
      "크롤링 준비\n"
     ]
    },
    {
     "name": "stderr",
     "output_type": "stream",
     "text": [
      "\n",
      "\n",
      "preprocessing day:  87%|██████████████████████████████████████████████████████▊        | 27/31 [03:17<00:29,  7.32s/it]\u001b[A\u001b[A"
     ]
    },
    {
     "name": "stdout",
     "output_type": "stream",
     "text": [
      "다음날짜로 선택시작\n",
      "다음 날짜 선택 후 크롤링 준비\n",
      "https://search.naver.com/search.naver?where=news&query=%EC%BD%94%EC%8A%A4%ED%94%BC%20%EA%B2%BD%EC%A0%9C&sm=tab_opt&sort=0&photo=0&field=0&pd=3&ds=2022.01.28&de=2022.01.28&docid=&related=0&mynews=0&office_type=0&office_section_code=0&news_office_checked=&nso=so%3Ar%2Cp%3Afrom20220128to20220128&is_sug_officeid=0\n",
      "https://search.naver.com/search.naver?where=news&sm=tab_pge&query=%EC%BD%94%EC%8A%A4%ED%94%BC%20%EA%B2%BD%EC%A0%9C&sort=0&photo=0&field=0&pd=3&ds=2022.01.28&de=2022.01.28&cluster_rank=18&mynews=0&office_type=0&office_section_code=0&news_office_checked=&nso=so:r,p:from20220128to20220128,a:all&start=11\n",
      "https://search.naver.com/search.naver?where=news&sm=tab_pge&query=%EC%BD%94%EC%8A%A4%ED%94%BC%20%EA%B2%BD%EC%A0%9C&sort=0&photo=0&field=0&pd=3&ds=2022.01.28&de=2022.01.28&cluster_rank=28&mynews=0&office_type=0&office_section_code=0&news_office_checked=&nso=so:r,p:from20220128to20220128,a:all&start=21\n",
      "크롤링 준비\n"
     ]
    },
    {
     "name": "stderr",
     "output_type": "stream",
     "text": [
      "\n",
      "\n",
      "preprocessing day:  90%|████████████████████████████████████████████████████████▉      | 28/31 [03:25<00:22,  7.42s/it]\u001b[A\u001b[A"
     ]
    },
    {
     "name": "stdout",
     "output_type": "stream",
     "text": [
      "다음날짜로 선택시작\n",
      "다음 날짜 선택 후 크롤링 준비\n",
      "https://search.naver.com/search.naver?where=news&query=%EC%BD%94%EC%8A%A4%ED%94%BC%20%EA%B2%BD%EC%A0%9C&sm=tab_opt&sort=0&photo=0&field=0&pd=3&ds=2022.01.29&de=2022.01.29&docid=&related=0&mynews=0&office_type=0&office_section_code=0&news_office_checked=&nso=so%3Ar%2Cp%3Afrom20220129to20220129&is_sug_officeid=0\n",
      "https://search.naver.com/search.naver?where=news&sm=tab_pge&query=%EC%BD%94%EC%8A%A4%ED%94%BC%20%EA%B2%BD%EC%A0%9C&sort=0&photo=0&field=0&pd=3&ds=2022.01.29&de=2022.01.29&cluster_rank=10&mynews=0&office_type=0&office_section_code=0&news_office_checked=&nso=so:r,p:from20220129to20220129,a:all&start=11\n",
      "https://search.naver.com/search.naver?where=news&sm=tab_pge&query=%EC%BD%94%EC%8A%A4%ED%94%BC%20%EA%B2%BD%EC%A0%9C&sort=0&photo=0&field=0&pd=3&ds=2022.01.29&de=2022.01.29&cluster_rank=21&mynews=0&office_type=0&office_section_code=0&news_office_checked=&nso=so:r,p:from20220129to20220129,a:all&start=21\n",
      "크롤링 준비\n"
     ]
    },
    {
     "name": "stderr",
     "output_type": "stream",
     "text": [
      "\n",
      "\n",
      "preprocessing day:  94%|██████████████████████████████████████████████████████████▉    | 29/31 [03:32<00:14,  7.39s/it]\u001b[A\u001b[A"
     ]
    },
    {
     "name": "stdout",
     "output_type": "stream",
     "text": [
      "다음날짜로 선택시작\n",
      "다음 날짜 선택 후 크롤링 준비\n",
      "https://search.naver.com/search.naver?where=news&query=%EC%BD%94%EC%8A%A4%ED%94%BC%20%EA%B2%BD%EC%A0%9C&sm=tab_opt&sort=0&photo=0&field=0&pd=3&ds=2022.01.30&de=2022.01.30&docid=&related=0&mynews=0&office_type=0&office_section_code=0&news_office_checked=&nso=so%3Ar%2Cp%3Afrom20220130to20220130&is_sug_officeid=0\n",
      "https://search.naver.com/search.naver?where=news&sm=tab_pge&query=%EC%BD%94%EC%8A%A4%ED%94%BC%20%EA%B2%BD%EC%A0%9C&sort=0&photo=0&field=0&pd=3&ds=2022.01.30&de=2022.01.30&cluster_rank=10&mynews=0&office_type=0&office_section_code=0&news_office_checked=&nso=so:r,p:from20220130to20220130,a:all&start=11\n",
      "https://search.naver.com/search.naver?where=news&sm=tab_pge&query=%EC%BD%94%EC%8A%A4%ED%94%BC%20%EA%B2%BD%EC%A0%9C&sort=0&photo=0&field=0&pd=3&ds=2022.01.30&de=2022.01.30&cluster_rank=20&mynews=0&office_type=0&office_section_code=0&news_office_checked=&nso=so:r,p:from20220130to20220130,a:all&start=21\n",
      "크롤링 준비\n"
     ]
    },
    {
     "name": "stderr",
     "output_type": "stream",
     "text": [
      "\n",
      "\n",
      "preprocessing day:  97%|████████████████████████████████████████████████████████████▉  | 30/31 [03:39<00:07,  7.28s/it]\u001b[A\u001b[A"
     ]
    },
    {
     "name": "stdout",
     "output_type": "stream",
     "text": [
      "다음날짜로 선택시작\n",
      "다음 날짜 선택 후 크롤링 준비\n",
      "https://search.naver.com/search.naver?where=news&query=%EC%BD%94%EC%8A%A4%ED%94%BC%20%EA%B2%BD%EC%A0%9C&sm=tab_opt&sort=0&photo=0&field=0&pd=3&ds=2022.01.31&de=2022.01.31&docid=&related=0&mynews=0&office_type=0&office_section_code=0&news_office_checked=&nso=so%3Ar%2Cp%3Afrom20220131to20220131&is_sug_officeid=0\n",
      "https://search.naver.com/search.naver?where=news&sm=tab_pge&query=%EC%BD%94%EC%8A%A4%ED%94%BC%20%EA%B2%BD%EC%A0%9C&sort=0&photo=0&field=0&pd=3&ds=2022.01.31&de=2022.01.31&cluster_rank=11&mynews=0&office_type=0&office_section_code=0&news_office_checked=&nso=so:r,p:from20220131to20220131,a:all&start=11\n",
      "https://search.naver.com/search.naver?where=news&sm=tab_pge&query=%EC%BD%94%EC%8A%A4%ED%94%BC%20%EA%B2%BD%EC%A0%9C&sort=0&photo=0&field=0&pd=3&ds=2022.01.31&de=2022.01.31&cluster_rank=21&mynews=0&office_type=0&office_section_code=0&news_office_checked=&nso=so:r,p:from20220131to20220131,a:all&start=21\n",
      "크롤링 준비\n"
     ]
    },
    {
     "name": "stderr",
     "output_type": "stream",
     "text": [
      "\n",
      "\n",
      "preprocessing day: 100%|███████████████████████████████████████████████████████████████| 31/31 [03:47<00:00,  7.33s/it]\u001b[A\u001b[A\n",
      "\n",
      "preprocessing month:   8%|█████                                                        | 1/12 [03:47<41:38, 227.12s/it]\u001b[A"
     ]
    },
    {
     "name": "stdout",
     "output_type": "stream",
     "text": [
      "다음날짜로 선택시작\n"
     ]
    },
    {
     "name": "stderr",
     "output_type": "stream",
     "text": [
      "\n",
      "\n",
      "preprocessing day:   0%|                                                                        | 0/31 [00:00<?, ?it/s]\u001b[A\u001b[A"
     ]
    },
    {
     "name": "stdout",
     "output_type": "stream",
     "text": [
      "다음 날짜 선택 후 크롤링 준비\n",
      "https://search.naver.com/search.naver?where=news&query=%EC%BD%94%EC%8A%A4%ED%94%BC%20%EA%B2%BD%EC%A0%9C&sm=tab_opt&sort=0&photo=0&field=0&pd=3&ds=2022.02.01&de=2022.02.01&docid=&related=0&mynews=0&office_type=0&office_section_code=0&news_office_checked=&nso=so%3Ar%2Cp%3Afrom20220201to20220201&is_sug_officeid=0\n",
      "https://search.naver.com/search.naver?where=news&sm=tab_pge&query=%EC%BD%94%EC%8A%A4%ED%94%BC%20%EA%B2%BD%EC%A0%9C&sort=0&photo=0&field=0&pd=3&ds=2022.02.01&de=2022.02.01&cluster_rank=10&mynews=0&office_type=0&office_section_code=0&news_office_checked=&nso=so:r,p:from20220201to20220201,a:all&start=11\n",
      "https://search.naver.com/search.naver?where=news&sm=tab_pge&query=%EC%BD%94%EC%8A%A4%ED%94%BC%20%EA%B2%BD%EC%A0%9C&sort=0&photo=0&field=0&pd=3&ds=2022.02.01&de=2022.02.01&cluster_rank=10&mynews=0&office_type=0&office_section_code=0&news_office_checked=&nso=so:r,p:from20220201to20220201,a:all&start=11\n",
      "크롤링 준비\n"
     ]
    },
    {
     "name": "stderr",
     "output_type": "stream",
     "text": [
      "\n",
      "\n",
      "preprocessing day:   3%|██                                                              | 1/31 [00:06<03:22,  6.76s/it]\u001b[A\u001b[A"
     ]
    },
    {
     "name": "stdout",
     "output_type": "stream",
     "text": [
      "다음날짜로 선택시작\n",
      "다음 날짜 선택 후 크롤링 준비\n",
      "https://search.naver.com/search.naver?where=news&query=%EC%BD%94%EC%8A%A4%ED%94%BC%20%EA%B2%BD%EC%A0%9C&sm=tab_opt&sort=0&photo=0&field=0&pd=3&ds=2022.02.02&de=2022.02.02&docid=&related=0&mynews=0&office_type=0&office_section_code=0&news_office_checked=&nso=so%3Ar%2Cp%3Afrom20220202to20220202&is_sug_officeid=0\n",
      "https://search.naver.com/search.naver?where=news&sm=tab_pge&query=%EC%BD%94%EC%8A%A4%ED%94%BC%20%EA%B2%BD%EC%A0%9C&sort=0&photo=0&field=0&pd=3&ds=2022.02.02&de=2022.02.02&cluster_rank=10&mynews=0&office_type=0&office_section_code=0&news_office_checked=&nso=so:r,p:from20220202to20220202,a:all&start=11\n",
      "https://search.naver.com/search.naver?where=news&sm=tab_pge&query=%EC%BD%94%EC%8A%A4%ED%94%BC%20%EA%B2%BD%EC%A0%9C&sort=0&photo=0&field=0&pd=3&ds=2022.02.02&de=2022.02.02&cluster_rank=21&mynews=0&office_type=0&office_section_code=0&news_office_checked=&nso=so:r,p:from20220202to20220202,a:all&start=21\n",
      "크롤링 준비\n"
     ]
    },
    {
     "name": "stderr",
     "output_type": "stream",
     "text": [
      "\n",
      "\n",
      "preprocessing day:   6%|████▏                                                           | 2/31 [00:14<03:28,  7.18s/it]\u001b[A\u001b[A"
     ]
    },
    {
     "name": "stdout",
     "output_type": "stream",
     "text": [
      "다음날짜로 선택시작\n",
      "다음 날짜 선택 후 크롤링 준비\n",
      "https://search.naver.com/search.naver?where=news&query=%EC%BD%94%EC%8A%A4%ED%94%BC%20%EA%B2%BD%EC%A0%9C&sm=tab_opt&sort=0&photo=0&field=0&pd=3&ds=2022.02.03&de=2022.02.03&docid=&related=0&mynews=0&office_type=0&office_section_code=0&news_office_checked=&nso=so%3Ar%2Cp%3Afrom20220203to20220203&is_sug_officeid=0\n",
      "https://search.naver.com/search.naver?where=news&sm=tab_pge&query=%EC%BD%94%EC%8A%A4%ED%94%BC%20%EA%B2%BD%EC%A0%9C&sort=0&photo=0&field=0&pd=3&ds=2022.02.03&de=2022.02.03&cluster_rank=19&mynews=0&office_type=0&office_section_code=0&news_office_checked=&nso=so:r,p:from20220203to20220203,a:all&start=11\n",
      "https://search.naver.com/search.naver?where=news&sm=tab_pge&query=%EC%BD%94%EC%8A%A4%ED%94%BC%20%EA%B2%BD%EC%A0%9C&sort=0&photo=0&field=0&pd=3&ds=2022.02.03&de=2022.02.03&cluster_rank=31&mynews=0&office_type=0&office_section_code=0&news_office_checked=&nso=so:r,p:from20220203to20220203,a:all&start=21\n",
      "크롤링 준비\n"
     ]
    },
    {
     "name": "stderr",
     "output_type": "stream",
     "text": [
      "\n",
      "\n",
      "preprocessing day:  10%|██████▏                                                         | 3/31 [00:21<03:21,  7.21s/it]\u001b[A\u001b[A"
     ]
    },
    {
     "name": "stdout",
     "output_type": "stream",
     "text": [
      "다음날짜로 선택시작\n",
      "다음 날짜 선택 후 크롤링 준비\n",
      "https://search.naver.com/search.naver?where=news&query=%EC%BD%94%EC%8A%A4%ED%94%BC%20%EA%B2%BD%EC%A0%9C&sm=tab_opt&sort=0&photo=0&field=0&pd=3&ds=2022.02.04&de=2022.02.04&docid=&related=0&mynews=0&office_type=0&office_section_code=0&news_office_checked=&nso=so%3Ar%2Cp%3Afrom20220204to20220204&is_sug_officeid=0\n",
      "https://search.naver.com/search.naver?where=news&sm=tab_pge&query=%EC%BD%94%EC%8A%A4%ED%94%BC%20%EA%B2%BD%EC%A0%9C&sort=0&photo=0&field=0&pd=3&ds=2022.02.04&de=2022.02.04&cluster_rank=12&mynews=0&office_type=0&office_section_code=0&news_office_checked=&nso=so:r,p:from20220204to20220204,a:all&start=11\n",
      "https://search.naver.com/search.naver?where=news&sm=tab_pge&query=%EC%BD%94%EC%8A%A4%ED%94%BC%20%EA%B2%BD%EC%A0%9C&sort=0&photo=0&field=0&pd=3&ds=2022.02.04&de=2022.02.04&cluster_rank=22&mynews=0&office_type=0&office_section_code=0&news_office_checked=&nso=so:r,p:from20220204to20220204,a:all&start=21\n",
      "크롤링 준비\n"
     ]
    },
    {
     "name": "stderr",
     "output_type": "stream",
     "text": [
      "\n",
      "\n",
      "preprocessing day:  13%|████████▎                                                       | 4/31 [00:29<03:20,  7.41s/it]\u001b[A\u001b[A"
     ]
    },
    {
     "name": "stdout",
     "output_type": "stream",
     "text": [
      "다음날짜로 선택시작\n",
      "다음 날짜 선택 후 크롤링 준비\n",
      "https://search.naver.com/search.naver?where=news&query=%EC%BD%94%EC%8A%A4%ED%94%BC%20%EA%B2%BD%EC%A0%9C&sm=tab_opt&sort=0&photo=0&field=0&pd=3&ds=2022.02.05&de=2022.02.05&docid=&related=0&mynews=0&office_type=0&office_section_code=0&news_office_checked=&nso=so%3Ar%2Cp%3Afrom20220205to20220205&is_sug_officeid=0\n",
      "https://search.naver.com/search.naver?where=news&sm=tab_pge&query=%EC%BD%94%EC%8A%A4%ED%94%BC%20%EA%B2%BD%EC%A0%9C&sort=0&photo=0&field=0&pd=3&ds=2022.02.05&de=2022.02.05&cluster_rank=11&mynews=0&office_type=0&office_section_code=0&news_office_checked=&nso=so:r,p:from20220205to20220205,a:all&start=11\n",
      "https://search.naver.com/search.naver?where=news&sm=tab_pge&query=%EC%BD%94%EC%8A%A4%ED%94%BC%20%EA%B2%BD%EC%A0%9C&sort=0&photo=0&field=0&pd=3&ds=2022.02.05&de=2022.02.05&cluster_rank=11&mynews=0&office_type=0&office_section_code=0&news_office_checked=&nso=so:r,p:from20220205to20220205,a:all&start=11\n",
      "크롤링 준비\n"
     ]
    },
    {
     "name": "stderr",
     "output_type": "stream",
     "text": [
      "\n",
      "\n",
      "preprocessing day:  16%|██████████▎                                                     | 5/31 [00:36<03:09,  7.29s/it]\u001b[A\u001b[A"
     ]
    },
    {
     "name": "stdout",
     "output_type": "stream",
     "text": [
      "다음날짜로 선택시작\n",
      "다음 날짜 선택 후 크롤링 준비\n",
      "https://search.naver.com/search.naver?where=news&query=%EC%BD%94%EC%8A%A4%ED%94%BC%20%EA%B2%BD%EC%A0%9C&sm=tab_opt&sort=0&photo=0&field=0&pd=3&ds=2022.02.06&de=2022.02.06&docid=&related=0&mynews=0&office_type=0&office_section_code=0&news_office_checked=&nso=so%3Ar%2Cp%3Afrom20220206to20220206&is_sug_officeid=0\n",
      "https://search.naver.com/search.naver?where=news&sm=tab_pge&query=%EC%BD%94%EC%8A%A4%ED%94%BC%20%EA%B2%BD%EC%A0%9C&sort=0&photo=0&field=0&pd=3&ds=2022.02.06&de=2022.02.06&cluster_rank=12&mynews=0&office_type=0&office_section_code=0&news_office_checked=&nso=so:r,p:from20220206to20220206,a:all&start=11\n",
      "https://search.naver.com/search.naver?where=news&sm=tab_pge&query=%EC%BD%94%EC%8A%A4%ED%94%BC%20%EA%B2%BD%EC%A0%9C&sort=0&photo=0&field=0&pd=3&ds=2022.02.06&de=2022.02.06&cluster_rank=23&mynews=0&office_type=0&office_section_code=0&news_office_checked=&nso=so:r,p:from20220206to20220206,a:all&start=21\n",
      "크롤링 준비\n"
     ]
    },
    {
     "name": "stderr",
     "output_type": "stream",
     "text": [
      "\n",
      "\n",
      "preprocessing day:  19%|████████████▍                                                   | 6/31 [00:43<02:59,  7.17s/it]\u001b[A\u001b[A"
     ]
    },
    {
     "name": "stdout",
     "output_type": "stream",
     "text": [
      "다음날짜로 선택시작\n",
      "다음 날짜 선택 후 크롤링 준비\n",
      "https://search.naver.com/search.naver?where=news&query=%EC%BD%94%EC%8A%A4%ED%94%BC%20%EA%B2%BD%EC%A0%9C&sm=tab_opt&sort=0&photo=0&field=0&pd=3&ds=2022.02.07&de=2022.02.07&docid=&related=0&mynews=0&office_type=0&office_section_code=0&news_office_checked=&nso=so%3Ar%2Cp%3Afrom20220207to20220207&is_sug_officeid=0\n",
      "https://search.naver.com/search.naver?where=news&sm=tab_pge&query=%EC%BD%94%EC%8A%A4%ED%94%BC%20%EA%B2%BD%EC%A0%9C&sort=0&photo=0&field=0&pd=3&ds=2022.02.07&de=2022.02.07&cluster_rank=18&mynews=0&office_type=0&office_section_code=0&news_office_checked=&nso=so:r,p:from20220207to20220207,a:all&start=11\n",
      "https://search.naver.com/search.naver?where=news&sm=tab_pge&query=%EC%BD%94%EC%8A%A4%ED%94%BC%20%EA%B2%BD%EC%A0%9C&sort=0&photo=0&field=0&pd=3&ds=2022.02.07&de=2022.02.07&cluster_rank=29&mynews=0&office_type=0&office_section_code=0&news_office_checked=&nso=so:r,p:from20220207to20220207,a:all&start=21\n",
      "크롤링 준비\n"
     ]
    },
    {
     "name": "stderr",
     "output_type": "stream",
     "text": [
      "\n",
      "\n",
      "preprocessing day:  23%|██████████████▍                                                 | 7/31 [00:50<02:56,  7.35s/it]\u001b[A\u001b[A"
     ]
    },
    {
     "name": "stdout",
     "output_type": "stream",
     "text": [
      "다음날짜로 선택시작\n",
      "다음 날짜 선택 후 크롤링 준비\n",
      "https://search.naver.com/search.naver?where=news&query=%EC%BD%94%EC%8A%A4%ED%94%BC%20%EA%B2%BD%EC%A0%9C&sm=tab_opt&sort=0&photo=0&field=0&pd=3&ds=2022.02.08&de=2022.02.08&docid=&related=0&mynews=0&office_type=0&office_section_code=0&news_office_checked=&nso=so%3Ar%2Cp%3Afrom20220208to20220208&is_sug_officeid=0\n",
      "https://search.naver.com/search.naver?where=news&sm=tab_pge&query=%EC%BD%94%EC%8A%A4%ED%94%BC%20%EA%B2%BD%EC%A0%9C&sort=0&photo=0&field=0&pd=3&ds=2022.02.08&de=2022.02.08&cluster_rank=15&mynews=0&office_type=0&office_section_code=0&news_office_checked=&nso=so:r,p:from20220208to20220208,a:all&start=11\n",
      "https://search.naver.com/search.naver?where=news&sm=tab_pge&query=%EC%BD%94%EC%8A%A4%ED%94%BC%20%EA%B2%BD%EC%A0%9C&sort=0&photo=0&field=0&pd=3&ds=2022.02.08&de=2022.02.08&cluster_rank=31&mynews=0&office_type=0&office_section_code=0&news_office_checked=&nso=so:r,p:from20220208to20220208,a:all&start=21\n",
      "크롤링 준비\n"
     ]
    },
    {
     "name": "stderr",
     "output_type": "stream",
     "text": [
      "\n",
      "\n",
      "preprocessing day:  26%|████████████████▌                                               | 8/31 [00:58<02:50,  7.41s/it]\u001b[A\u001b[A"
     ]
    },
    {
     "name": "stdout",
     "output_type": "stream",
     "text": [
      "다음날짜로 선택시작\n",
      "다음 날짜 선택 후 크롤링 준비\n",
      "https://search.naver.com/search.naver?where=news&query=%EC%BD%94%EC%8A%A4%ED%94%BC%20%EA%B2%BD%EC%A0%9C&sm=tab_opt&sort=0&photo=0&field=0&pd=3&ds=2022.02.09&de=2022.02.09&docid=&related=0&mynews=0&office_type=0&office_section_code=0&news_office_checked=&nso=so%3Ar%2Cp%3Afrom20220209to20220209&is_sug_officeid=0\n",
      "https://search.naver.com/search.naver?where=news&sm=tab_pge&query=%EC%BD%94%EC%8A%A4%ED%94%BC%20%EA%B2%BD%EC%A0%9C&sort=0&photo=0&field=0&pd=3&ds=2022.02.09&de=2022.02.09&cluster_rank=25&mynews=0&office_type=0&office_section_code=0&news_office_checked=&nso=so:r,p:from20220209to20220209,a:all&start=11\n",
      "https://search.naver.com/search.naver?where=news&sm=tab_pge&query=%EC%BD%94%EC%8A%A4%ED%94%BC%20%EA%B2%BD%EC%A0%9C&sort=0&photo=0&field=0&pd=3&ds=2022.02.09&de=2022.02.09&cluster_rank=38&mynews=0&office_type=0&office_section_code=0&news_office_checked=&nso=so:r,p:from20220209to20220209,a:all&start=21\n",
      "크롤링 준비\n"
     ]
    },
    {
     "name": "stderr",
     "output_type": "stream",
     "text": [
      "\n",
      "\n",
      "preprocessing day:  29%|██████████████████▌                                             | 9/31 [01:06<02:46,  7.55s/it]\u001b[A\u001b[A"
     ]
    },
    {
     "name": "stdout",
     "output_type": "stream",
     "text": [
      "다음날짜로 선택시작\n",
      "다음 날짜 선택 후 크롤링 준비\n",
      "https://search.naver.com/search.naver?where=news&query=%EC%BD%94%EC%8A%A4%ED%94%BC%20%EA%B2%BD%EC%A0%9C&sm=tab_opt&sort=0&photo=0&field=0&pd=3&ds=2022.02.10&de=2022.02.10&docid=&related=0&mynews=0&office_type=0&office_section_code=0&news_office_checked=&nso=so%3Ar%2Cp%3Afrom20220210to20220210&is_sug_officeid=0\n",
      "https://search.naver.com/search.naver?where=news&sm=tab_pge&query=%EC%BD%94%EC%8A%A4%ED%94%BC%20%EA%B2%BD%EC%A0%9C&sort=0&photo=0&field=0&pd=3&ds=2022.02.10&de=2022.02.10&cluster_rank=13&mynews=0&office_type=0&office_section_code=0&news_office_checked=&nso=so:r,p:from20220210to20220210,a:all&start=11\n",
      "https://search.naver.com/search.naver?where=news&sm=tab_pge&query=%EC%BD%94%EC%8A%A4%ED%94%BC%20%EA%B2%BD%EC%A0%9C&sort=0&photo=0&field=0&pd=3&ds=2022.02.10&de=2022.02.10&cluster_rank=26&mynews=0&office_type=0&office_section_code=0&news_office_checked=&nso=so:r,p:from20220210to20220210,a:all&start=21\n",
      "크롤링 준비\n"
     ]
    },
    {
     "name": "stderr",
     "output_type": "stream",
     "text": [
      "\n",
      "\n",
      "preprocessing day:  32%|████████████████████▎                                          | 10/31 [01:13<02:36,  7.45s/it]\u001b[A\u001b[A"
     ]
    },
    {
     "name": "stdout",
     "output_type": "stream",
     "text": [
      "다음날짜로 선택시작\n",
      "다음 날짜 선택 후 크롤링 준비\n",
      "https://search.naver.com/search.naver?where=news&query=%EC%BD%94%EC%8A%A4%ED%94%BC%20%EA%B2%BD%EC%A0%9C&sm=tab_opt&sort=0&photo=0&field=0&pd=3&ds=2022.02.11&de=2022.02.11&docid=&related=0&mynews=0&office_type=0&office_section_code=0&news_office_checked=&nso=so%3Ar%2Cp%3Afrom20220211to20220211&is_sug_officeid=0\n",
      "https://search.naver.com/search.naver?where=news&sm=tab_pge&query=%EC%BD%94%EC%8A%A4%ED%94%BC%20%EA%B2%BD%EC%A0%9C&sort=0&photo=0&field=0&pd=3&ds=2022.02.11&de=2022.02.11&cluster_rank=12&mynews=0&office_type=0&office_section_code=0&news_office_checked=&nso=so:r,p:from20220211to20220211,a:all&start=11\n",
      "https://search.naver.com/search.naver?where=news&sm=tab_pge&query=%EC%BD%94%EC%8A%A4%ED%94%BC%20%EA%B2%BD%EC%A0%9C&sort=0&photo=0&field=0&pd=3&ds=2022.02.11&de=2022.02.11&cluster_rank=22&mynews=0&office_type=0&office_section_code=0&news_office_checked=&nso=so:r,p:from20220211to20220211,a:all&start=21\n",
      "크롤링 준비\n"
     ]
    },
    {
     "name": "stderr",
     "output_type": "stream",
     "text": [
      "\n",
      "\n",
      "preprocessing day:  35%|██████████████████████▎                                        | 11/31 [01:21<02:31,  7.55s/it]\u001b[A\u001b[A"
     ]
    },
    {
     "name": "stdout",
     "output_type": "stream",
     "text": [
      "다음날짜로 선택시작\n",
      "다음 날짜 선택 후 크롤링 준비\n",
      "https://search.naver.com/search.naver?where=news&query=%EC%BD%94%EC%8A%A4%ED%94%BC%20%EA%B2%BD%EC%A0%9C&sm=tab_opt&sort=0&photo=0&field=0&pd=3&ds=2022.02.12&de=2022.02.12&docid=&related=0&mynews=0&office_type=0&office_section_code=0&news_office_checked=&nso=so%3Ar%2Cp%3Afrom20220212to20220212&is_sug_officeid=0\n",
      "https://search.naver.com/search.naver?where=news&sm=tab_pge&query=%EC%BD%94%EC%8A%A4%ED%94%BC%20%EA%B2%BD%EC%A0%9C&sort=0&photo=0&field=0&pd=3&ds=2022.02.12&de=2022.02.12&cluster_rank=10&mynews=0&office_type=0&office_section_code=0&news_office_checked=&nso=so:r,p:from20220212to20220212,a:all&start=11\n",
      "https://search.naver.com/search.naver?where=news&sm=tab_pge&query=%EC%BD%94%EC%8A%A4%ED%94%BC%20%EA%B2%BD%EC%A0%9C&sort=0&photo=0&field=0&pd=3&ds=2022.02.12&de=2022.02.12&cluster_rank=10&mynews=0&office_type=0&office_section_code=0&news_office_checked=&nso=so:r,p:from20220212to20220212,a:all&start=11\n",
      "크롤링 준비\n"
     ]
    },
    {
     "name": "stderr",
     "output_type": "stream",
     "text": [
      "\n",
      "\n",
      "preprocessing day:  39%|████████████████████████▍                                      | 12/31 [01:28<02:20,  7.39s/it]\u001b[A\u001b[A"
     ]
    },
    {
     "name": "stdout",
     "output_type": "stream",
     "text": [
      "다음날짜로 선택시작\n",
      "다음 날짜 선택 후 크롤링 준비\n",
      "https://search.naver.com/search.naver?where=news&query=%EC%BD%94%EC%8A%A4%ED%94%BC%20%EA%B2%BD%EC%A0%9C&sm=tab_opt&sort=0&photo=0&field=0&pd=3&ds=2022.02.13&de=2022.02.13&docid=&related=0&mynews=0&office_type=0&office_section_code=0&news_office_checked=&nso=so%3Ar%2Cp%3Afrom20220213to20220213&is_sug_officeid=0\n",
      "https://search.naver.com/search.naver?where=news&sm=tab_pge&query=%EC%BD%94%EC%8A%A4%ED%94%BC%20%EA%B2%BD%EC%A0%9C&sort=0&photo=0&field=0&pd=3&ds=2022.02.13&de=2022.02.13&cluster_rank=13&mynews=0&office_type=0&office_section_code=0&news_office_checked=&nso=so:r,p:from20220213to20220213,a:all&start=11\n",
      "https://search.naver.com/search.naver?where=news&sm=tab_pge&query=%EC%BD%94%EC%8A%A4%ED%94%BC%20%EA%B2%BD%EC%A0%9C&sort=0&photo=0&field=0&pd=3&ds=2022.02.13&de=2022.02.13&cluster_rank=23&mynews=0&office_type=0&office_section_code=0&news_office_checked=&nso=so:r,p:from20220213to20220213,a:all&start=21\n",
      "크롤링 준비\n"
     ]
    },
    {
     "name": "stderr",
     "output_type": "stream",
     "text": [
      "\n",
      "\n",
      "preprocessing day:  42%|██████████████████████████▍                                    | 13/31 [01:35<02:10,  7.23s/it]\u001b[A\u001b[A"
     ]
    },
    {
     "name": "stdout",
     "output_type": "stream",
     "text": [
      "다음날짜로 선택시작\n",
      "다음 날짜 선택 후 크롤링 준비\n",
      "https://search.naver.com/search.naver?where=news&query=%EC%BD%94%EC%8A%A4%ED%94%BC%20%EA%B2%BD%EC%A0%9C&sm=tab_opt&sort=0&photo=0&field=0&pd=3&ds=2022.02.14&de=2022.02.14&docid=&related=0&mynews=0&office_type=0&office_section_code=0&news_office_checked=&nso=so%3Ar%2Cp%3Afrom20220214to20220214&is_sug_officeid=0\n",
      "https://search.naver.com/search.naver?where=news&sm=tab_pge&query=%EC%BD%94%EC%8A%A4%ED%94%BC%20%EA%B2%BD%EC%A0%9C&sort=0&photo=0&field=0&pd=3&ds=2022.02.14&de=2022.02.14&cluster_rank=23&mynews=0&office_type=0&office_section_code=0&news_office_checked=&nso=so:r,p:from20220214to20220214,a:all&start=11\n",
      "https://search.naver.com/search.naver?where=news&sm=tab_pge&query=%EC%BD%94%EC%8A%A4%ED%94%BC%20%EA%B2%BD%EC%A0%9C&sort=0&photo=0&field=0&pd=3&ds=2022.02.14&de=2022.02.14&cluster_rank=35&mynews=0&office_type=0&office_section_code=0&news_office_checked=&nso=so:r,p:from20220214to20220214,a:all&start=21\n",
      "크롤링 준비\n"
     ]
    },
    {
     "name": "stderr",
     "output_type": "stream",
     "text": [
      "\n",
      "\n",
      "preprocessing day:  45%|████████████████████████████▍                                  | 14/31 [01:42<02:02,  7.18s/it]\u001b[A\u001b[A"
     ]
    },
    {
     "name": "stdout",
     "output_type": "stream",
     "text": [
      "다음날짜로 선택시작\n",
      "다음 날짜 선택 후 크롤링 준비\n",
      "https://search.naver.com/search.naver?where=news&query=%EC%BD%94%EC%8A%A4%ED%94%BC%20%EA%B2%BD%EC%A0%9C&sm=tab_opt&sort=0&photo=0&field=0&pd=3&ds=2022.02.15&de=2022.02.15&docid=&related=0&mynews=0&office_type=0&office_section_code=0&news_office_checked=&nso=so%3Ar%2Cp%3Afrom20220215to20220215&is_sug_officeid=0\n",
      "https://search.naver.com/search.naver?where=news&sm=tab_pge&query=%EC%BD%94%EC%8A%A4%ED%94%BC%20%EA%B2%BD%EC%A0%9C&sort=0&photo=0&field=0&pd=3&ds=2022.02.15&de=2022.02.15&cluster_rank=23&mynews=0&office_type=0&office_section_code=0&news_office_checked=&nso=so:r,p:from20220215to20220215,a:all&start=11\n",
      "https://search.naver.com/search.naver?where=news&sm=tab_pge&query=%EC%BD%94%EC%8A%A4%ED%94%BC%20%EA%B2%BD%EC%A0%9C&sort=0&photo=0&field=0&pd=3&ds=2022.02.15&de=2022.02.15&cluster_rank=34&mynews=0&office_type=0&office_section_code=0&news_office_checked=&nso=so:r,p:from20220215to20220215,a:all&start=21\n",
      "크롤링 준비\n"
     ]
    },
    {
     "name": "stderr",
     "output_type": "stream",
     "text": [
      "\n",
      "\n",
      "preprocessing day:  48%|██████████████████████████████▍                                | 15/31 [01:49<01:54,  7.17s/it]\u001b[A\u001b[A"
     ]
    },
    {
     "name": "stdout",
     "output_type": "stream",
     "text": [
      "다음날짜로 선택시작\n",
      "다음 날짜 선택 후 크롤링 준비\n",
      "https://search.naver.com/search.naver?where=news&query=%EC%BD%94%EC%8A%A4%ED%94%BC%20%EA%B2%BD%EC%A0%9C&sm=tab_opt&sort=0&photo=0&field=0&pd=3&ds=2022.02.16&de=2022.02.16&docid=&related=0&mynews=0&office_type=0&office_section_code=0&news_office_checked=&nso=so%3Ar%2Cp%3Afrom20220216to20220216&is_sug_officeid=0\n",
      "https://search.naver.com/search.naver?where=news&sm=tab_pge&query=%EC%BD%94%EC%8A%A4%ED%94%BC%20%EA%B2%BD%EC%A0%9C&sort=0&photo=0&field=0&pd=3&ds=2022.02.16&de=2022.02.16&cluster_rank=10&mynews=0&office_type=0&office_section_code=0&news_office_checked=&nso=so:r,p:from20220216to20220216,a:all&start=11\n",
      "https://search.naver.com/search.naver?where=news&sm=tab_pge&query=%EC%BD%94%EC%8A%A4%ED%94%BC%20%EA%B2%BD%EC%A0%9C&sort=0&photo=0&field=0&pd=3&ds=2022.02.16&de=2022.02.16&cluster_rank=20&mynews=0&office_type=0&office_section_code=0&news_office_checked=&nso=so:r,p:from20220216to20220216,a:all&start=21\n",
      "크롤링 준비\n"
     ]
    },
    {
     "name": "stderr",
     "output_type": "stream",
     "text": [
      "\n",
      "\n",
      "preprocessing day:  52%|████████████████████████████████▌                              | 16/31 [01:56<01:48,  7.22s/it]\u001b[A\u001b[A"
     ]
    },
    {
     "name": "stdout",
     "output_type": "stream",
     "text": [
      "다음날짜로 선택시작\n",
      "다음 날짜 선택 후 크롤링 준비\n",
      "https://search.naver.com/search.naver?where=news&query=%EC%BD%94%EC%8A%A4%ED%94%BC%20%EA%B2%BD%EC%A0%9C&sm=tab_opt&sort=0&photo=0&field=0&pd=3&ds=2022.02.17&de=2022.02.17&docid=&related=0&mynews=0&office_type=0&office_section_code=0&news_office_checked=&nso=so%3Ar%2Cp%3Afrom20220217to20220217&is_sug_officeid=0\n",
      "https://search.naver.com/search.naver?where=news&sm=tab_pge&query=%EC%BD%94%EC%8A%A4%ED%94%BC%20%EA%B2%BD%EC%A0%9C&sort=0&photo=0&field=0&pd=3&ds=2022.02.17&de=2022.02.17&cluster_rank=19&mynews=0&office_type=0&office_section_code=0&news_office_checked=&nso=so:r,p:from20220217to20220217,a:all&start=11\n",
      "https://search.naver.com/search.naver?where=news&sm=tab_pge&query=%EC%BD%94%EC%8A%A4%ED%94%BC%20%EA%B2%BD%EC%A0%9C&sort=0&photo=0&field=0&pd=3&ds=2022.02.17&de=2022.02.17&cluster_rank=30&mynews=0&office_type=0&office_section_code=0&news_office_checked=&nso=so:r,p:from20220217to20220217,a:all&start=21\n",
      "크롤링 준비\n"
     ]
    },
    {
     "name": "stderr",
     "output_type": "stream",
     "text": [
      "\n",
      "\n",
      "preprocessing day:  55%|██████████████████████████████████▌                            | 17/31 [02:04<01:41,  7.26s/it]\u001b[A\u001b[A"
     ]
    },
    {
     "name": "stdout",
     "output_type": "stream",
     "text": [
      "다음날짜로 선택시작\n",
      "다음 날짜 선택 후 크롤링 준비\n",
      "https://search.naver.com/search.naver?where=news&query=%EC%BD%94%EC%8A%A4%ED%94%BC%20%EA%B2%BD%EC%A0%9C&sm=tab_opt&sort=0&photo=0&field=0&pd=3&ds=2022.02.18&de=2022.02.18&docid=&related=0&mynews=0&office_type=0&office_section_code=0&news_office_checked=&nso=so%3Ar%2Cp%3Afrom20220218to20220218&is_sug_officeid=0\n",
      "https://search.naver.com/search.naver?where=news&sm=tab_pge&query=%EC%BD%94%EC%8A%A4%ED%94%BC%20%EA%B2%BD%EC%A0%9C&sort=0&photo=0&field=0&pd=3&ds=2022.02.18&de=2022.02.18&cluster_rank=10&mynews=0&office_type=0&office_section_code=0&news_office_checked=&nso=so:r,p:from20220218to20220218,a:all&start=11\n",
      "https://search.naver.com/search.naver?where=news&sm=tab_pge&query=%EC%BD%94%EC%8A%A4%ED%94%BC%20%EA%B2%BD%EC%A0%9C&sort=0&photo=0&field=0&pd=3&ds=2022.02.18&de=2022.02.18&cluster_rank=33&mynews=0&office_type=0&office_section_code=0&news_office_checked=&nso=so:r,p:from20220218to20220218,a:all&start=21\n",
      "크롤링 준비\n"
     ]
    },
    {
     "name": "stderr",
     "output_type": "stream",
     "text": [
      "\n",
      "\n",
      "preprocessing day:  58%|████████████████████████████████████▌                          | 18/31 [02:11<01:34,  7.30s/it]\u001b[A\u001b[A"
     ]
    },
    {
     "name": "stdout",
     "output_type": "stream",
     "text": [
      "다음날짜로 선택시작\n",
      "다음 날짜 선택 후 크롤링 준비\n",
      "https://search.naver.com/search.naver?where=news&query=%EC%BD%94%EC%8A%A4%ED%94%BC%20%EA%B2%BD%EC%A0%9C&sm=tab_opt&sort=0&photo=0&field=0&pd=3&ds=2022.02.19&de=2022.02.19&docid=&related=0&mynews=0&office_type=0&office_section_code=0&news_office_checked=&nso=so%3Ar%2Cp%3Afrom20220219to20220219&is_sug_officeid=0\n",
      "https://search.naver.com/search.naver?where=news&query=%EC%BD%94%EC%8A%A4%ED%94%BC%20%EA%B2%BD%EC%A0%9C&sm=tab_opt&sort=0&photo=0&field=0&pd=3&ds=2022.02.19&de=2022.02.19&docid=&related=0&mynews=0&office_type=0&office_section_code=0&news_office_checked=&nso=so%3Ar%2Cp%3Afrom20220219to20220219&is_sug_officeid=0\n",
      "크롤링 준비\n"
     ]
    },
    {
     "name": "stderr",
     "output_type": "stream",
     "text": [
      "\n",
      "\n",
      "preprocessing day:  61%|██████████████████████████████████████▌                        | 19/31 [02:17<01:23,  6.99s/it]\u001b[A\u001b[A"
     ]
    },
    {
     "name": "stdout",
     "output_type": "stream",
     "text": [
      "다음날짜로 선택시작\n",
      "다음 날짜 선택 후 크롤링 준비\n",
      "https://search.naver.com/search.naver?where=news&query=%EC%BD%94%EC%8A%A4%ED%94%BC%20%EA%B2%BD%EC%A0%9C&sm=tab_opt&sort=0&photo=0&field=0&pd=3&ds=2022.02.20&de=2022.02.20&docid=&related=0&mynews=0&office_type=0&office_section_code=0&news_office_checked=&nso=so%3Ar%2Cp%3Afrom20220220to20220220&is_sug_officeid=0\n",
      "https://search.naver.com/search.naver?where=news&sm=tab_pge&query=%EC%BD%94%EC%8A%A4%ED%94%BC%20%EA%B2%BD%EC%A0%9C&sort=0&photo=0&field=0&pd=3&ds=2022.02.20&de=2022.02.20&cluster_rank=10&mynews=0&office_type=0&office_section_code=0&news_office_checked=&nso=so:r,p:from20220220to20220220,a:all&start=11\n",
      "https://search.naver.com/search.naver?where=news&sm=tab_pge&query=%EC%BD%94%EC%8A%A4%ED%94%BC%20%EA%B2%BD%EC%A0%9C&sort=0&photo=0&field=0&pd=3&ds=2022.02.20&de=2022.02.20&cluster_rank=22&mynews=0&office_type=0&office_section_code=0&news_office_checked=&nso=so:r,p:from20220220to20220220,a:all&start=21\n",
      "크롤링 준비\n"
     ]
    },
    {
     "name": "stderr",
     "output_type": "stream",
     "text": [
      "\n",
      "\n",
      "preprocessing day:  65%|████████████████████████████████████████▋                      | 20/31 [02:25<01:18,  7.15s/it]\u001b[A\u001b[A"
     ]
    },
    {
     "name": "stdout",
     "output_type": "stream",
     "text": [
      "다음날짜로 선택시작\n",
      "다음 날짜 선택 후 크롤링 준비\n",
      "https://search.naver.com/search.naver?where=news&query=%EC%BD%94%EC%8A%A4%ED%94%BC%20%EA%B2%BD%EC%A0%9C&sm=tab_opt&sort=0&photo=0&field=0&pd=3&ds=2022.02.21&de=2022.02.21&docid=&related=0&mynews=0&office_type=0&office_section_code=0&news_office_checked=&nso=so%3Ar%2Cp%3Afrom20220221to20220221&is_sug_officeid=0\n",
      "https://search.naver.com/search.naver?where=news&sm=tab_pge&query=%EC%BD%94%EC%8A%A4%ED%94%BC%20%EA%B2%BD%EC%A0%9C&sort=0&photo=0&field=0&pd=3&ds=2022.02.21&de=2022.02.21&cluster_rank=26&mynews=0&office_type=0&office_section_code=0&news_office_checked=&nso=so:r,p:from20220221to20220221,a:all&start=11\n",
      "https://search.naver.com/search.naver?where=news&sm=tab_pge&query=%EC%BD%94%EC%8A%A4%ED%94%BC%20%EA%B2%BD%EC%A0%9C&sort=0&photo=0&field=0&pd=3&ds=2022.02.21&de=2022.02.21&cluster_rank=41&mynews=0&office_type=0&office_section_code=0&news_office_checked=&nso=so:r,p:from20220221to20220221,a:all&start=21\n",
      "크롤링 준비\n"
     ]
    },
    {
     "name": "stderr",
     "output_type": "stream",
     "text": [
      "\n",
      "\n",
      "preprocessing day:  68%|██████████████████████████████████████████▋                    | 21/31 [02:32<01:10,  7.07s/it]\u001b[A\u001b[A"
     ]
    },
    {
     "name": "stdout",
     "output_type": "stream",
     "text": [
      "다음날짜로 선택시작\n",
      "다음 날짜 선택 후 크롤링 준비\n",
      "https://search.naver.com/search.naver?where=news&query=%EC%BD%94%EC%8A%A4%ED%94%BC%20%EA%B2%BD%EC%A0%9C&sm=tab_opt&sort=0&photo=0&field=0&pd=3&ds=2022.02.22&de=2022.02.22&docid=&related=0&mynews=0&office_type=0&office_section_code=0&news_office_checked=&nso=so%3Ar%2Cp%3Afrom20220222to20220222&is_sug_officeid=0\n",
      "https://search.naver.com/search.naver?where=news&sm=tab_pge&query=%EC%BD%94%EC%8A%A4%ED%94%BC%20%EA%B2%BD%EC%A0%9C&sort=0&photo=0&field=0&pd=3&ds=2022.02.22&de=2022.02.22&cluster_rank=10&mynews=0&office_type=0&office_section_code=0&news_office_checked=&nso=so:r,p:from20220222to20220222,a:all&start=11\n",
      "https://search.naver.com/search.naver?where=news&sm=tab_pge&query=%EC%BD%94%EC%8A%A4%ED%94%BC%20%EA%B2%BD%EC%A0%9C&sort=0&photo=0&field=0&pd=3&ds=2022.02.22&de=2022.02.22&cluster_rank=21&mynews=0&office_type=0&office_section_code=0&news_office_checked=&nso=so:r,p:from20220222to20220222,a:all&start=21\n",
      "크롤링 준비\n"
     ]
    },
    {
     "name": "stderr",
     "output_type": "stream",
     "text": [
      "\n",
      "\n",
      "preprocessing day:  71%|████████████████████████████████████████████▋                  | 22/31 [02:40<01:05,  7.32s/it]\u001b[A\u001b[A"
     ]
    },
    {
     "name": "stdout",
     "output_type": "stream",
     "text": [
      "다음날짜로 선택시작\n",
      "다음 날짜 선택 후 크롤링 준비\n",
      "https://search.naver.com/search.naver?where=news&query=%EC%BD%94%EC%8A%A4%ED%94%BC%20%EA%B2%BD%EC%A0%9C&sm=tab_opt&sort=0&photo=0&field=0&pd=3&ds=2022.02.23&de=2022.02.23&docid=&related=0&mynews=0&office_type=0&office_section_code=0&news_office_checked=&nso=so%3Ar%2Cp%3Afrom20220223to20220223&is_sug_officeid=0\n",
      "https://search.naver.com/search.naver?where=news&sm=tab_pge&query=%EC%BD%94%EC%8A%A4%ED%94%BC%20%EA%B2%BD%EC%A0%9C&sort=0&photo=0&field=0&pd=3&ds=2022.02.23&de=2022.02.23&cluster_rank=10&mynews=0&office_type=0&office_section_code=0&news_office_checked=&nso=so:r,p:from20220223to20220223,a:all&start=11\n",
      "https://search.naver.com/search.naver?where=news&sm=tab_pge&query=%EC%BD%94%EC%8A%A4%ED%94%BC%20%EA%B2%BD%EC%A0%9C&sort=0&photo=0&field=0&pd=3&ds=2022.02.23&de=2022.02.23&cluster_rank=22&mynews=0&office_type=0&office_section_code=0&news_office_checked=&nso=so:r,p:from20220223to20220223,a:all&start=21\n",
      "크롤링 준비\n"
     ]
    },
    {
     "name": "stderr",
     "output_type": "stream",
     "text": [
      "\n",
      "\n",
      "preprocessing day:  74%|██████████████████████████████████████████████▋                | 23/31 [02:47<00:57,  7.24s/it]\u001b[A\u001b[A"
     ]
    },
    {
     "name": "stdout",
     "output_type": "stream",
     "text": [
      "다음날짜로 선택시작\n",
      "다음 날짜 선택 후 크롤링 준비\n",
      "https://search.naver.com/search.naver?where=news&query=%EC%BD%94%EC%8A%A4%ED%94%BC%20%EA%B2%BD%EC%A0%9C&sm=tab_opt&sort=0&photo=0&field=0&pd=3&ds=2022.02.24&de=2022.02.24&docid=&related=0&mynews=0&office_type=0&office_section_code=0&news_office_checked=&nso=so%3Ar%2Cp%3Afrom20220224to20220224&is_sug_officeid=0\n",
      "https://search.naver.com/search.naver?where=news&sm=tab_pge&query=%EC%BD%94%EC%8A%A4%ED%94%BC%20%EA%B2%BD%EC%A0%9C&sort=0&photo=0&field=0&pd=3&ds=2022.02.24&de=2022.02.24&cluster_rank=14&mynews=0&office_type=0&office_section_code=0&news_office_checked=&nso=so:r,p:from20220224to20220224,a:all&start=11\n",
      "https://search.naver.com/search.naver?where=news&sm=tab_pge&query=%EC%BD%94%EC%8A%A4%ED%94%BC%20%EA%B2%BD%EC%A0%9C&sort=0&photo=0&field=0&pd=3&ds=2022.02.24&de=2022.02.24&cluster_rank=25&mynews=0&office_type=0&office_section_code=0&news_office_checked=&nso=so:r,p:from20220224to20220224,a:all&start=21\n",
      "크롤링 준비\n"
     ]
    },
    {
     "name": "stderr",
     "output_type": "stream",
     "text": [
      "\n",
      "\n",
      "preprocessing day:  77%|████████████████████████████████████████████████▊              | 24/31 [02:54<00:50,  7.25s/it]\u001b[A\u001b[A"
     ]
    },
    {
     "name": "stdout",
     "output_type": "stream",
     "text": [
      "다음날짜로 선택시작\n",
      "다음 날짜 선택 후 크롤링 준비\n",
      "https://search.naver.com/search.naver?where=news&query=%EC%BD%94%EC%8A%A4%ED%94%BC%20%EA%B2%BD%EC%A0%9C&sm=tab_opt&sort=0&photo=0&field=0&pd=3&ds=2022.02.25&de=2022.02.25&docid=&related=0&mynews=0&office_type=0&office_section_code=0&news_office_checked=&nso=so%3Ar%2Cp%3Afrom20220225to20220225&is_sug_officeid=0\n",
      "https://search.naver.com/search.naver?where=news&sm=tab_pge&query=%EC%BD%94%EC%8A%A4%ED%94%BC%20%EA%B2%BD%EC%A0%9C&sort=0&photo=0&field=0&pd=3&ds=2022.02.25&de=2022.02.25&cluster_rank=12&mynews=0&office_type=0&office_section_code=0&news_office_checked=&nso=so:r,p:from20220225to20220225,a:all&start=11\n",
      "https://search.naver.com/search.naver?where=news&sm=tab_pge&query=%EC%BD%94%EC%8A%A4%ED%94%BC%20%EA%B2%BD%EC%A0%9C&sort=0&photo=0&field=0&pd=3&ds=2022.02.25&de=2022.02.25&cluster_rank=26&mynews=0&office_type=0&office_section_code=0&news_office_checked=&nso=so:r,p:from20220225to20220225,a:all&start=21\n",
      "크롤링 준비\n"
     ]
    },
    {
     "name": "stderr",
     "output_type": "stream",
     "text": [
      "\n",
      "\n",
      "preprocessing day:  81%|██████████████████████████████████████████████████▊            | 25/31 [03:02<00:44,  7.38s/it]\u001b[A\u001b[A"
     ]
    },
    {
     "name": "stdout",
     "output_type": "stream",
     "text": [
      "다음날짜로 선택시작\n",
      "다음 날짜 선택 후 크롤링 준비\n",
      "https://search.naver.com/search.naver?where=news&query=%EC%BD%94%EC%8A%A4%ED%94%BC%20%EA%B2%BD%EC%A0%9C&sm=tab_opt&sort=0&photo=0&field=0&pd=3&ds=2022.02.26&de=2022.02.26&docid=&related=0&mynews=0&office_type=0&office_section_code=0&news_office_checked=&nso=so%3Ar%2Cp%3Afrom20220226to20220226&is_sug_officeid=0\n",
      "https://search.naver.com/search.naver?where=news&sm=tab_pge&query=%EC%BD%94%EC%8A%A4%ED%94%BC%20%EA%B2%BD%EC%A0%9C&sort=0&photo=0&field=0&pd=3&ds=2022.02.26&de=2022.02.26&cluster_rank=12&mynews=0&office_type=0&office_section_code=0&news_office_checked=&nso=so:r,p:from20220226to20220226,a:all&start=11\n",
      "https://search.naver.com/search.naver?where=news&sm=tab_pge&query=%EC%BD%94%EC%8A%A4%ED%94%BC%20%EA%B2%BD%EC%A0%9C&sort=0&photo=0&field=0&pd=3&ds=2022.02.26&de=2022.02.26&cluster_rank=12&mynews=0&office_type=0&office_section_code=0&news_office_checked=&nso=so:r,p:from20220226to20220226,a:all&start=11\n",
      "크롤링 준비\n"
     ]
    },
    {
     "name": "stderr",
     "output_type": "stream",
     "text": [
      "\n",
      "\n",
      "preprocessing day:  84%|████████████████████████████████████████████████████▊          | 26/31 [03:09<00:37,  7.41s/it]\u001b[A\u001b[A"
     ]
    },
    {
     "name": "stdout",
     "output_type": "stream",
     "text": [
      "다음날짜로 선택시작\n",
      "다음 날짜 선택 후 크롤링 준비\n",
      "https://search.naver.com/search.naver?where=news&query=%EC%BD%94%EC%8A%A4%ED%94%BC%20%EA%B2%BD%EC%A0%9C&sm=tab_opt&sort=0&photo=0&field=0&pd=3&ds=2022.02.27&de=2022.02.27&docid=&related=0&mynews=0&office_type=0&office_section_code=0&news_office_checked=&nso=so%3Ar%2Cp%3Afrom20220227to20220227&is_sug_officeid=0\n",
      "https://search.naver.com/search.naver?where=news&sm=tab_pge&query=%EC%BD%94%EC%8A%A4%ED%94%BC%20%EA%B2%BD%EC%A0%9C&sort=0&photo=0&field=0&pd=3&ds=2022.02.27&de=2022.02.27&cluster_rank=13&mynews=0&office_type=0&office_section_code=0&news_office_checked=&nso=so:r,p:from20220227to20220227,a:all&start=11\n",
      "https://search.naver.com/search.naver?where=news&sm=tab_pge&query=%EC%BD%94%EC%8A%A4%ED%94%BC%20%EA%B2%BD%EC%A0%9C&sort=0&photo=0&field=0&pd=3&ds=2022.02.27&de=2022.02.27&cluster_rank=27&mynews=0&office_type=0&office_section_code=0&news_office_checked=&nso=so:r,p:from20220227to20220227,a:all&start=21\n",
      "크롤링 준비\n"
     ]
    },
    {
     "name": "stderr",
     "output_type": "stream",
     "text": [
      "\n",
      "\n",
      "preprocessing day:  87%|██████████████████████████████████████████████████████▊        | 27/31 [03:16<00:28,  7.24s/it]\u001b[A\u001b[A"
     ]
    },
    {
     "name": "stdout",
     "output_type": "stream",
     "text": [
      "다음날짜로 선택시작\n",
      "다음 날짜 선택 후 크롤링 준비\n",
      "https://search.naver.com/search.naver?where=news&query=%EC%BD%94%EC%8A%A4%ED%94%BC%20%EA%B2%BD%EC%A0%9C&sm=tab_opt&sort=0&photo=0&field=0&pd=3&ds=2022.02.28&de=2022.02.28&docid=&related=0&mynews=0&office_type=0&office_section_code=0&news_office_checked=&nso=so%3Ar%2Cp%3Afrom20220228to20220228&is_sug_officeid=0\n",
      "https://search.naver.com/search.naver?where=news&sm=tab_pge&query=%EC%BD%94%EC%8A%A4%ED%94%BC%20%EA%B2%BD%EC%A0%9C&sort=0&photo=0&field=0&pd=3&ds=2022.02.28&de=2022.02.28&cluster_rank=13&mynews=0&office_type=0&office_section_code=0&news_office_checked=&nso=so:r,p:from20220228to20220228,a:all&start=11\n",
      "https://search.naver.com/search.naver?where=news&sm=tab_pge&query=%EC%BD%94%EC%8A%A4%ED%94%BC%20%EA%B2%BD%EC%A0%9C&sort=0&photo=0&field=0&pd=3&ds=2022.02.28&de=2022.02.28&cluster_rank=25&mynews=0&office_type=0&office_section_code=0&news_office_checked=&nso=so:r,p:from20220228to20220228,a:all&start=21\n",
      "크롤링 준비\n"
     ]
    },
    {
     "name": "stderr",
     "output_type": "stream",
     "text": [
      "\n",
      "\n",
      "preprocessing day:  90%|████████████████████████████████████████████████████████▉      | 28/31 [03:23<00:21,  7.28s/it]\u001b[A\u001b[A"
     ]
    },
    {
     "name": "stdout",
     "output_type": "stream",
     "text": [
      "다음날짜로 선택시작\n"
     ]
    },
    {
     "name": "stderr",
     "output_type": "stream",
     "text": [
      "\n",
      "\n",
      "preprocessing day:  94%|██████████████████████████████████████████████████████████▉    | 29/31 [03:24<00:10,  5.44s/it]\u001b[A\u001b[A"
     ]
    },
    {
     "name": "stdout",
     "output_type": "stream",
     "text": [
      "An error occurred while crawling for 2022-2-29: Message: no such element: Unable to locate element: {\"method\":\"xpath\",\"selector\":\"/html/body/div[3]/div[2]/div/div[1]/div[1]/div[2]/ul/li[2]/div/div[3]/div[2]/div[3]/div/div/div/ul/li[29]\"}\n",
      "  (Session info: headless chrome=115.0.5790.171); For documentation on this error, please visit: https://www.selenium.dev/documentation/webdriver/troubleshooting/errors#no-such-element-exception\n",
      "Stacktrace:\n",
      "Backtrace:\n",
      "\tGetHandleVerifier [0x00007FF6B65D4A62+57106]\n",
      "\t(No symbol) [0x00007FF6B654CF52]\n",
      "\t(No symbol) [0x00007FF6B641E2CB]\n",
      "\t(No symbol) [0x00007FF6B645786E]\n",
      "\t(No symbol) [0x00007FF6B645795C]\n",
      "\t(No symbol) [0x00007FF6B6490477]\n",
      "\t(No symbol) [0x00007FF6B64769FF]\n",
      "\t(No symbol) [0x00007FF6B648E522]\n",
      "\t(No symbol) [0x00007FF6B6476793]\n",
      "\t(No symbol) [0x00007FF6B644CE81]\n",
      "\t(No symbol) [0x00007FF6B644E064]\n",
      "\tGetHandleVerifier [0x00007FF6B6884222+2873042]\n",
      "\tGetHandleVerifier [0x00007FF6B68D6590+3209792]\n",
      "\tGetHandleVerifier [0x00007FF6B68CF3AF+3180639]\n",
      "\tGetHandleVerifier [0x00007FF6B6665F25+652245]\n",
      "\t(No symbol) [0x00007FF6B6558618]\n",
      "\t(No symbol) [0x00007FF6B65547C4]\n",
      "\t(No symbol) [0x00007FF6B65548BC]\n",
      "\t(No symbol) [0x00007FF6B6544C33]\n",
      "\tBaseThreadInitThunk [0x00007FFBFCDD7614+20]\n",
      "\tRtlUserThreadStart [0x00007FFBFD9226B1+33]\n",
      "\n"
     ]
    },
    {
     "name": "stderr",
     "output_type": "stream",
     "text": [
      "\n",
      "\n",
      "preprocessing day:  97%|████████████████████████████████████████████████████████████▉  | 30/31 [03:26<00:04,  4.15s/it]\u001b[A\u001b[A"
     ]
    },
    {
     "name": "stdout",
     "output_type": "stream",
     "text": [
      "An error occurred while crawling for 2022-2-30: Message: no such element: Unable to locate element: {\"method\":\"xpath\",\"selector\":\"/html/body/div[3]/div[2]/div/div[1]/div[1]/div[2]/ul/li[2]/div/div[3]/div[2]/div[3]/div/div/div/ul/li[30]\"}\n",
      "  (Session info: headless chrome=115.0.5790.171); For documentation on this error, please visit: https://www.selenium.dev/documentation/webdriver/troubleshooting/errors#no-such-element-exception\n",
      "Stacktrace:\n",
      "Backtrace:\n",
      "\tGetHandleVerifier [0x00007FF6B65D4A62+57106]\n",
      "\t(No symbol) [0x00007FF6B654CF52]\n",
      "\t(No symbol) [0x00007FF6B641E2CB]\n",
      "\t(No symbol) [0x00007FF6B645786E]\n",
      "\t(No symbol) [0x00007FF6B645795C]\n",
      "\t(No symbol) [0x00007FF6B6490477]\n",
      "\t(No symbol) [0x00007FF6B64769FF]\n",
      "\t(No symbol) [0x00007FF6B648E522]\n",
      "\t(No symbol) [0x00007FF6B6476793]\n",
      "\t(No symbol) [0x00007FF6B644CE81]\n",
      "\t(No symbol) [0x00007FF6B644E064]\n",
      "\tGetHandleVerifier [0x00007FF6B6884222+2873042]\n",
      "\tGetHandleVerifier [0x00007FF6B68D6590+3209792]\n",
      "\tGetHandleVerifier [0x00007FF6B68CF3AF+3180639]\n",
      "\tGetHandleVerifier [0x00007FF6B6665F25+652245]\n",
      "\t(No symbol) [0x00007FF6B6558618]\n",
      "\t(No symbol) [0x00007FF6B65547C4]\n",
      "\t(No symbol) [0x00007FF6B65548BC]\n",
      "\t(No symbol) [0x00007FF6B6544C33]\n",
      "\tBaseThreadInitThunk [0x00007FFBFCDD7614+20]\n",
      "\tRtlUserThreadStart [0x00007FFBFD9226B1+33]\n",
      "\n"
     ]
    },
    {
     "name": "stderr",
     "output_type": "stream",
     "text": [
      "\n",
      "\n",
      "preprocessing day: 100%|███████████████████████████████████████████████████████████████| 31/31 [03:27<00:00,  6.69s/it]\u001b[A\u001b[A\n",
      "\n",
      "preprocessing month:  17%|██████████▏                                                  | 2/12 [07:14<35:54, 215.46s/it]\u001b[A"
     ]
    },
    {
     "name": "stdout",
     "output_type": "stream",
     "text": [
      "An error occurred while crawling for 2022-2-31: Message: no such element: Unable to locate element: {\"method\":\"xpath\",\"selector\":\"/html/body/div[3]/div[2]/div/div[1]/div[1]/div[2]/ul/li[2]/div/div[3]/div[2]/div[3]/div/div/div/ul/li[31]\"}\n",
      "  (Session info: headless chrome=115.0.5790.171); For documentation on this error, please visit: https://www.selenium.dev/documentation/webdriver/troubleshooting/errors#no-such-element-exception\n",
      "Stacktrace:\n",
      "Backtrace:\n",
      "\tGetHandleVerifier [0x00007FF6B65D4A62+57106]\n",
      "\t(No symbol) [0x00007FF6B654CF52]\n",
      "\t(No symbol) [0x00007FF6B641E2CB]\n",
      "\t(No symbol) [0x00007FF6B645786E]\n",
      "\t(No symbol) [0x00007FF6B645795C]\n",
      "\t(No symbol) [0x00007FF6B6490477]\n",
      "\t(No symbol) [0x00007FF6B64769FF]\n",
      "\t(No symbol) [0x00007FF6B648E522]\n",
      "\t(No symbol) [0x00007FF6B6476793]\n",
      "\t(No symbol) [0x00007FF6B644CE81]\n",
      "\t(No symbol) [0x00007FF6B644E064]\n",
      "\tGetHandleVerifier [0x00007FF6B6884222+2873042]\n",
      "\tGetHandleVerifier [0x00007FF6B68D6590+3209792]\n",
      "\tGetHandleVerifier [0x00007FF6B68CF3AF+3180639]\n",
      "\tGetHandleVerifier [0x00007FF6B6665F25+652245]\n",
      "\t(No symbol) [0x00007FF6B6558618]\n",
      "\t(No symbol) [0x00007FF6B65547C4]\n",
      "\t(No symbol) [0x00007FF6B65548BC]\n",
      "\t(No symbol) [0x00007FF6B6544C33]\n",
      "\tBaseThreadInitThunk [0x00007FFBFCDD7614+20]\n",
      "\tRtlUserThreadStart [0x00007FFBFD9226B1+33]\n",
      "\n"
     ]
    },
    {
     "name": "stderr",
     "output_type": "stream",
     "text": [
      "\n",
      "\n",
      "preprocessing day:   0%|                                                                        | 0/31 [00:00<?, ?it/s]\u001b[A\u001b[A"
     ]
    },
    {
     "name": "stdout",
     "output_type": "stream",
     "text": [
      "다음 날짜 선택 후 크롤링 준비\n",
      "https://search.naver.com/search.naver?where=news&query=%EC%BD%94%EC%8A%A4%ED%94%BC%20%EA%B2%BD%EC%A0%9C&sm=tab_opt&sort=0&photo=0&field=0&pd=3&ds=2022.03.01&de=2022.03.01&docid=&related=0&mynews=0&office_type=0&office_section_code=0&news_office_checked=&nso=so%3Ar%2Cp%3Afrom20220301to20220301&is_sug_officeid=0\n",
      "https://search.naver.com/search.naver?where=news&sm=tab_pge&query=%EC%BD%94%EC%8A%A4%ED%94%BC%20%EA%B2%BD%EC%A0%9C&sort=0&photo=0&field=0&pd=3&ds=2022.03.01&de=2022.03.01&cluster_rank=15&mynews=0&office_type=0&office_section_code=0&news_office_checked=&nso=so:r,p:from20220301to20220301,a:all&start=11\n",
      "https://search.naver.com/search.naver?where=news&sm=tab_pge&query=%EC%BD%94%EC%8A%A4%ED%94%BC%20%EA%B2%BD%EC%A0%9C&sort=0&photo=0&field=0&pd=3&ds=2022.03.01&de=2022.03.01&cluster_rank=15&mynews=0&office_type=0&office_section_code=0&news_office_checked=&nso=so:r,p:from20220301to20220301,a:all&start=11\n",
      "크롤링 준비\n"
     ]
    },
    {
     "name": "stderr",
     "output_type": "stream",
     "text": [
      "\n",
      "\n",
      "preprocessing day:   3%|██                                                              | 1/31 [00:06<03:22,  6.76s/it]\u001b[A\u001b[A"
     ]
    },
    {
     "name": "stdout",
     "output_type": "stream",
     "text": [
      "다음날짜로 선택시작\n",
      "다음 날짜 선택 후 크롤링 준비\n",
      "https://search.naver.com/search.naver?where=news&query=%EC%BD%94%EC%8A%A4%ED%94%BC%20%EA%B2%BD%EC%A0%9C&sm=tab_opt&sort=0&photo=0&field=0&pd=3&ds=2022.03.02&de=2022.03.02&docid=&related=0&mynews=0&office_type=0&office_section_code=0&news_office_checked=&nso=so%3Ar%2Cp%3Afrom20220302to20220302&is_sug_officeid=0\n",
      "https://search.naver.com/search.naver?where=news&sm=tab_pge&query=%EC%BD%94%EC%8A%A4%ED%94%BC%20%EA%B2%BD%EC%A0%9C&sort=0&photo=0&field=0&pd=3&ds=2022.03.02&de=2022.03.02&cluster_rank=10&mynews=0&office_type=0&office_section_code=0&news_office_checked=&nso=so:r,p:from20220302to20220302,a:all&start=11\n",
      "https://search.naver.com/search.naver?where=news&sm=tab_pge&query=%EC%BD%94%EC%8A%A4%ED%94%BC%20%EA%B2%BD%EC%A0%9C&sort=0&photo=0&field=0&pd=3&ds=2022.03.02&de=2022.03.02&cluster_rank=20&mynews=0&office_type=0&office_section_code=0&news_office_checked=&nso=so:r,p:from20220302to20220302,a:all&start=21\n",
      "크롤링 준비\n"
     ]
    },
    {
     "name": "stderr",
     "output_type": "stream",
     "text": [
      "\n",
      "\n",
      "preprocessing day:   6%|████▏                                                           | 2/31 [00:13<03:19,  6.90s/it]\u001b[A\u001b[A"
     ]
    },
    {
     "name": "stdout",
     "output_type": "stream",
     "text": [
      "다음날짜로 선택시작\n",
      "다음 날짜 선택 후 크롤링 준비\n",
      "https://search.naver.com/search.naver?where=news&query=%EC%BD%94%EC%8A%A4%ED%94%BC%20%EA%B2%BD%EC%A0%9C&sm=tab_opt&sort=0&photo=0&field=0&pd=3&ds=2022.03.03&de=2022.03.03&docid=&related=0&mynews=0&office_type=0&office_section_code=0&news_office_checked=&nso=so%3Ar%2Cp%3Afrom20220303to20220303&is_sug_officeid=0\n",
      "https://search.naver.com/search.naver?where=news&sm=tab_pge&query=%EC%BD%94%EC%8A%A4%ED%94%BC%20%EA%B2%BD%EC%A0%9C&sort=0&photo=0&field=0&pd=3&ds=2022.03.03&de=2022.03.03&cluster_rank=11&mynews=0&office_type=0&office_section_code=0&news_office_checked=&nso=so:r,p:from20220303to20220303,a:all&start=11\n",
      "https://search.naver.com/search.naver?where=news&sm=tab_pge&query=%EC%BD%94%EC%8A%A4%ED%94%BC%20%EA%B2%BD%EC%A0%9C&sort=0&photo=0&field=0&pd=3&ds=2022.03.03&de=2022.03.03&cluster_rank=21&mynews=0&office_type=0&office_section_code=0&news_office_checked=&nso=so:r,p:from20220303to20220303,a:all&start=21\n",
      "크롤링 준비\n"
     ]
    },
    {
     "name": "stderr",
     "output_type": "stream",
     "text": [
      "\n",
      "\n",
      "preprocessing day:  10%|██████▏                                                         | 3/31 [00:20<03:16,  7.03s/it]\u001b[A\u001b[A"
     ]
    },
    {
     "name": "stdout",
     "output_type": "stream",
     "text": [
      "다음날짜로 선택시작\n",
      "다음 날짜 선택 후 크롤링 준비\n",
      "https://search.naver.com/search.naver?where=news&query=%EC%BD%94%EC%8A%A4%ED%94%BC%20%EA%B2%BD%EC%A0%9C&sm=tab_opt&sort=0&photo=0&field=0&pd=3&ds=2022.03.04&de=2022.03.04&docid=&related=0&mynews=0&office_type=0&office_section_code=0&news_office_checked=&nso=so%3Ar%2Cp%3Afrom20220304to20220304&is_sug_officeid=0\n",
      "https://search.naver.com/search.naver?where=news&sm=tab_pge&query=%EC%BD%94%EC%8A%A4%ED%94%BC%20%EA%B2%BD%EC%A0%9C&sort=0&photo=0&field=0&pd=3&ds=2022.03.04&de=2022.03.04&cluster_rank=11&mynews=0&office_type=0&office_section_code=0&news_office_checked=&nso=so:r,p:from20220304to20220304,a:all&start=11\n",
      "https://search.naver.com/search.naver?where=news&sm=tab_pge&query=%EC%BD%94%EC%8A%A4%ED%94%BC%20%EA%B2%BD%EC%A0%9C&sort=0&photo=0&field=0&pd=3&ds=2022.03.04&de=2022.03.04&cluster_rank=22&mynews=0&office_type=0&office_section_code=0&news_office_checked=&nso=so:r,p:from20220304to20220304,a:all&start=21\n",
      "크롤링 준비\n"
     ]
    },
    {
     "name": "stderr",
     "output_type": "stream",
     "text": [
      "\n",
      "\n",
      "preprocessing day:  13%|████████▎                                                       | 4/31 [00:27<03:07,  6.95s/it]\u001b[A\u001b[A"
     ]
    },
    {
     "name": "stdout",
     "output_type": "stream",
     "text": [
      "다음날짜로 선택시작\n",
      "다음 날짜 선택 후 크롤링 준비\n",
      "https://search.naver.com/search.naver?where=news&query=%EC%BD%94%EC%8A%A4%ED%94%BC%20%EA%B2%BD%EC%A0%9C&sm=tab_opt&sort=0&photo=0&field=0&pd=3&ds=2022.03.05&de=2022.03.05&docid=&related=0&mynews=0&office_type=0&office_section_code=0&news_office_checked=&nso=so%3Ar%2Cp%3Afrom20220305to20220305&is_sug_officeid=0\n",
      "https://search.naver.com/search.naver?where=news&query=%EC%BD%94%EC%8A%A4%ED%94%BC%20%EA%B2%BD%EC%A0%9C&sm=tab_opt&sort=0&photo=0&field=0&pd=3&ds=2022.03.05&de=2022.03.05&docid=&related=0&mynews=0&office_type=0&office_section_code=0&news_office_checked=&nso=so%3Ar%2Cp%3Afrom20220305to20220305&is_sug_officeid=0\n",
      "크롤링 준비\n"
     ]
    },
    {
     "name": "stderr",
     "output_type": "stream",
     "text": [
      "\n",
      "\n",
      "preprocessing day:  16%|██████████▎                                                     | 5/31 [00:34<02:57,  6.84s/it]\u001b[A\u001b[A"
     ]
    },
    {
     "name": "stdout",
     "output_type": "stream",
     "text": [
      "다음날짜로 선택시작\n",
      "다음 날짜 선택 후 크롤링 준비\n",
      "https://search.naver.com/search.naver?where=news&query=%EC%BD%94%EC%8A%A4%ED%94%BC%20%EA%B2%BD%EC%A0%9C&sm=tab_opt&sort=0&photo=0&field=0&pd=3&ds=2022.03.06&de=2022.03.06&docid=&related=0&mynews=0&office_type=0&office_section_code=0&news_office_checked=&nso=so%3Ar%2Cp%3Afrom20220306to20220306&is_sug_officeid=0\n",
      "https://search.naver.com/search.naver?where=news&sm=tab_pge&query=%EC%BD%94%EC%8A%A4%ED%94%BC%20%EA%B2%BD%EC%A0%9C&sort=0&photo=0&field=0&pd=3&ds=2022.03.06&de=2022.03.06&cluster_rank=16&mynews=0&office_type=0&office_section_code=0&news_office_checked=&nso=so:r,p:from20220306to20220306,a:all&start=11\n",
      "https://search.naver.com/search.naver?where=news&sm=tab_pge&query=%EC%BD%94%EC%8A%A4%ED%94%BC%20%EA%B2%BD%EC%A0%9C&sort=0&photo=0&field=0&pd=3&ds=2022.03.06&de=2022.03.06&cluster_rank=26&mynews=0&office_type=0&office_section_code=0&news_office_checked=&nso=so:r,p:from20220306to20220306,a:all&start=21\n",
      "크롤링 준비\n"
     ]
    },
    {
     "name": "stderr",
     "output_type": "stream",
     "text": [
      "\n",
      "\n",
      "preprocessing day:  19%|████████████▍                                                   | 6/31 [00:41<02:56,  7.07s/it]\u001b[A\u001b[A"
     ]
    },
    {
     "name": "stdout",
     "output_type": "stream",
     "text": [
      "다음날짜로 선택시작\n",
      "다음 날짜 선택 후 크롤링 준비\n",
      "https://search.naver.com/search.naver?where=news&query=%EC%BD%94%EC%8A%A4%ED%94%BC%20%EA%B2%BD%EC%A0%9C&sm=tab_opt&sort=0&photo=0&field=0&pd=3&ds=2022.03.07&de=2022.03.07&docid=&related=0&mynews=0&office_type=0&office_section_code=0&news_office_checked=&nso=so%3Ar%2Cp%3Afrom20220307to20220307&is_sug_officeid=0\n",
      "https://search.naver.com/search.naver?where=news&sm=tab_pge&query=%EC%BD%94%EC%8A%A4%ED%94%BC%20%EA%B2%BD%EC%A0%9C&sort=0&photo=0&field=0&pd=3&ds=2022.03.07&de=2022.03.07&cluster_rank=15&mynews=0&office_type=0&office_section_code=0&news_office_checked=&nso=so:r,p:from20220307to20220307,a:all&start=11\n",
      "https://search.naver.com/search.naver?where=news&sm=tab_pge&query=%EC%BD%94%EC%8A%A4%ED%94%BC%20%EA%B2%BD%EC%A0%9C&sort=0&photo=0&field=0&pd=3&ds=2022.03.07&de=2022.03.07&cluster_rank=27&mynews=0&office_type=0&office_section_code=0&news_office_checked=&nso=so:r,p:from20220307to20220307,a:all&start=21\n",
      "크롤링 준비\n"
     ]
    },
    {
     "name": "stderr",
     "output_type": "stream",
     "text": [
      "\n",
      "\n",
      "preprocessing day:  23%|██████████████▍                                                 | 7/31 [00:49<02:56,  7.33s/it]\u001b[A\u001b[A"
     ]
    },
    {
     "name": "stdout",
     "output_type": "stream",
     "text": [
      "다음날짜로 선택시작\n",
      "다음 날짜 선택 후 크롤링 준비\n",
      "https://search.naver.com/search.naver?where=news&query=%EC%BD%94%EC%8A%A4%ED%94%BC%20%EA%B2%BD%EC%A0%9C&sm=tab_opt&sort=0&photo=0&field=0&pd=3&ds=2022.03.08&de=2022.03.08&docid=&related=0&mynews=0&office_type=0&office_section_code=0&news_office_checked=&nso=so%3Ar%2Cp%3Afrom20220308to20220308&is_sug_officeid=0\n",
      "https://search.naver.com/search.naver?where=news&sm=tab_pge&query=%EC%BD%94%EC%8A%A4%ED%94%BC%20%EA%B2%BD%EC%A0%9C&sort=0&photo=0&field=0&pd=3&ds=2022.03.08&de=2022.03.08&cluster_rank=14&mynews=0&office_type=0&office_section_code=0&news_office_checked=&nso=so:r,p:from20220308to20220308,a:all&start=11\n",
      "https://search.naver.com/search.naver?where=news&sm=tab_pge&query=%EC%BD%94%EC%8A%A4%ED%94%BC%20%EA%B2%BD%EC%A0%9C&sort=0&photo=0&field=0&pd=3&ds=2022.03.08&de=2022.03.08&cluster_rank=26&mynews=0&office_type=0&office_section_code=0&news_office_checked=&nso=so:r,p:from20220308to20220308,a:all&start=21\n",
      "크롤링 준비\n"
     ]
    },
    {
     "name": "stderr",
     "output_type": "stream",
     "text": [
      "\n",
      "\n",
      "preprocessing day:  26%|████████████████▌                                               | 8/31 [00:57<02:49,  7.39s/it]\u001b[A\u001b[A"
     ]
    },
    {
     "name": "stdout",
     "output_type": "stream",
     "text": [
      "다음날짜로 선택시작\n",
      "다음 날짜 선택 후 크롤링 준비\n",
      "https://search.naver.com/search.naver?where=news&query=%EC%BD%94%EC%8A%A4%ED%94%BC%20%EA%B2%BD%EC%A0%9C&sm=tab_opt&sort=0&photo=0&field=0&pd=3&ds=2022.03.09&de=2022.03.09&docid=&related=0&mynews=0&office_type=0&office_section_code=0&news_office_checked=&nso=so%3Ar%2Cp%3Afrom20220309to20220309&is_sug_officeid=0\n",
      "https://search.naver.com/search.naver?where=news&sm=tab_pge&query=%EC%BD%94%EC%8A%A4%ED%94%BC%20%EA%B2%BD%EC%A0%9C&sort=0&photo=0&field=0&pd=3&ds=2022.03.09&de=2022.03.09&cluster_rank=11&mynews=0&office_type=0&office_section_code=0&news_office_checked=&nso=so:r,p:from20220309to20220309,a:all&start=11\n",
      "https://search.naver.com/search.naver?where=news&sm=tab_pge&query=%EC%BD%94%EC%8A%A4%ED%94%BC%20%EA%B2%BD%EC%A0%9C&sort=0&photo=0&field=0&pd=3&ds=2022.03.09&de=2022.03.09&cluster_rank=21&mynews=0&office_type=0&office_section_code=0&news_office_checked=&nso=so:r,p:from20220309to20220309,a:all&start=21\n",
      "크롤링 준비\n"
     ]
    },
    {
     "name": "stderr",
     "output_type": "stream",
     "text": [
      "\n",
      "\n",
      "preprocessing day:  29%|██████████████████▌                                             | 9/31 [01:04<02:40,  7.27s/it]\u001b[A\u001b[A"
     ]
    },
    {
     "name": "stdout",
     "output_type": "stream",
     "text": [
      "다음날짜로 선택시작\n",
      "다음 날짜 선택 후 크롤링 준비\n",
      "https://search.naver.com/search.naver?where=news&query=%EC%BD%94%EC%8A%A4%ED%94%BC%20%EA%B2%BD%EC%A0%9C&sm=tab_opt&sort=0&photo=0&field=0&pd=3&ds=2022.03.10&de=2022.03.10&docid=&related=0&mynews=0&office_type=0&office_section_code=0&news_office_checked=&nso=so%3Ar%2Cp%3Afrom20220310to20220310&is_sug_officeid=0\n",
      "https://search.naver.com/search.naver?where=news&sm=tab_pge&query=%EC%BD%94%EC%8A%A4%ED%94%BC%20%EA%B2%BD%EC%A0%9C&sort=0&photo=0&field=0&pd=3&ds=2022.03.10&de=2022.03.10&cluster_rank=12&mynews=0&office_type=0&office_section_code=0&news_office_checked=&nso=so:r,p:from20220310to20220310,a:all&start=11\n",
      "https://search.naver.com/search.naver?where=news&sm=tab_pge&query=%EC%BD%94%EC%8A%A4%ED%94%BC%20%EA%B2%BD%EC%A0%9C&sort=0&photo=0&field=0&pd=3&ds=2022.03.10&de=2022.03.10&cluster_rank=23&mynews=0&office_type=0&office_section_code=0&news_office_checked=&nso=so:r,p:from20220310to20220310,a:all&start=21\n",
      "크롤링 준비\n"
     ]
    },
    {
     "name": "stderr",
     "output_type": "stream",
     "text": [
      "\n",
      "\n",
      "preprocessing day:  32%|████████████████████▎                                          | 10/31 [01:11<02:31,  7.21s/it]\u001b[A\u001b[A"
     ]
    },
    {
     "name": "stdout",
     "output_type": "stream",
     "text": [
      "다음날짜로 선택시작\n",
      "다음 날짜 선택 후 크롤링 준비\n",
      "https://search.naver.com/search.naver?where=news&query=%EC%BD%94%EC%8A%A4%ED%94%BC%20%EA%B2%BD%EC%A0%9C&sm=tab_opt&sort=0&photo=0&field=0&pd=3&ds=2022.03.11&de=2022.03.11&docid=&related=0&mynews=0&office_type=0&office_section_code=0&news_office_checked=&nso=so%3Ar%2Cp%3Afrom20220311to20220311&is_sug_officeid=0\n",
      "https://search.naver.com/search.naver?where=news&sm=tab_pge&query=%EC%BD%94%EC%8A%A4%ED%94%BC%20%EA%B2%BD%EC%A0%9C&sort=0&photo=0&field=0&pd=3&ds=2022.03.11&de=2022.03.11&cluster_rank=12&mynews=0&office_type=0&office_section_code=0&news_office_checked=&nso=so:r,p:from20220311to20220311,a:all&start=11\n",
      "https://search.naver.com/search.naver?where=news&sm=tab_pge&query=%EC%BD%94%EC%8A%A4%ED%94%BC%20%EA%B2%BD%EC%A0%9C&sort=0&photo=0&field=0&pd=3&ds=2022.03.11&de=2022.03.11&cluster_rank=23&mynews=0&office_type=0&office_section_code=0&news_office_checked=&nso=so:r,p:from20220311to20220311,a:all&start=21\n",
      "크롤링 준비\n"
     ]
    },
    {
     "name": "stderr",
     "output_type": "stream",
     "text": [
      "\n",
      "\n",
      "preprocessing day:  35%|██████████████████████▎                                        | 11/31 [01:18<02:25,  7.28s/it]\u001b[A\u001b[A"
     ]
    },
    {
     "name": "stdout",
     "output_type": "stream",
     "text": [
      "다음날짜로 선택시작\n",
      "다음 날짜 선택 후 크롤링 준비\n",
      "https://search.naver.com/search.naver?where=news&query=%EC%BD%94%EC%8A%A4%ED%94%BC%20%EA%B2%BD%EC%A0%9C&sm=tab_opt&sort=0&photo=0&field=0&pd=3&ds=2022.03.12&de=2022.03.12&docid=&related=0&mynews=0&office_type=0&office_section_code=0&news_office_checked=&nso=so%3Ar%2Cp%3Afrom20220312to20220312&is_sug_officeid=0\n",
      "https://search.naver.com/search.naver?where=news&query=%EC%BD%94%EC%8A%A4%ED%94%BC%20%EA%B2%BD%EC%A0%9C&sm=tab_opt&sort=0&photo=0&field=0&pd=3&ds=2022.03.12&de=2022.03.12&docid=&related=0&mynews=0&office_type=0&office_section_code=0&news_office_checked=&nso=so%3Ar%2Cp%3Afrom20220312to20220312&is_sug_officeid=0\n",
      "크롤링 준비\n"
     ]
    },
    {
     "name": "stderr",
     "output_type": "stream",
     "text": [
      "\n",
      "\n",
      "preprocessing day:  39%|████████████████████████▍                                      | 12/31 [01:25<02:12,  6.97s/it]\u001b[A\u001b[A"
     ]
    },
    {
     "name": "stdout",
     "output_type": "stream",
     "text": [
      "다음날짜로 선택시작\n",
      "다음 날짜 선택 후 크롤링 준비\n",
      "https://search.naver.com/search.naver?where=news&query=%EC%BD%94%EC%8A%A4%ED%94%BC%20%EA%B2%BD%EC%A0%9C&sm=tab_opt&sort=0&photo=0&field=0&pd=3&ds=2022.03.13&de=2022.03.13&docid=&related=0&mynews=0&office_type=0&office_section_code=0&news_office_checked=&nso=so%3Ar%2Cp%3Afrom20220313to20220313&is_sug_officeid=0\n",
      "https://search.naver.com/search.naver?where=news&sm=tab_pge&query=%EC%BD%94%EC%8A%A4%ED%94%BC%20%EA%B2%BD%EC%A0%9C&sort=0&photo=0&field=0&pd=3&ds=2022.03.13&de=2022.03.13&cluster_rank=18&mynews=0&office_type=0&office_section_code=0&news_office_checked=&nso=so:r,p:from20220313to20220313,a:all&start=11\n",
      "https://search.naver.com/search.naver?where=news&sm=tab_pge&query=%EC%BD%94%EC%8A%A4%ED%94%BC%20%EA%B2%BD%EC%A0%9C&sort=0&photo=0&field=0&pd=3&ds=2022.03.13&de=2022.03.13&cluster_rank=30&mynews=0&office_type=0&office_section_code=0&news_office_checked=&nso=so:r,p:from20220313to20220313,a:all&start=21\n",
      "크롤링 준비\n"
     ]
    },
    {
     "name": "stderr",
     "output_type": "stream",
     "text": [
      "\n",
      "\n",
      "preprocessing day:  42%|██████████████████████████▍                                    | 13/31 [01:32<02:05,  6.99s/it]\u001b[A\u001b[A"
     ]
    },
    {
     "name": "stdout",
     "output_type": "stream",
     "text": [
      "다음날짜로 선택시작\n",
      "다음 날짜 선택 후 크롤링 준비\n",
      "https://search.naver.com/search.naver?where=news&query=%EC%BD%94%EC%8A%A4%ED%94%BC%20%EA%B2%BD%EC%A0%9C&sm=tab_opt&sort=0&photo=0&field=0&pd=3&ds=2022.03.14&de=2022.03.14&docid=&related=0&mynews=0&office_type=0&office_section_code=0&news_office_checked=&nso=so%3Ar%2Cp%3Afrom20220314to20220314&is_sug_officeid=0\n",
      "https://search.naver.com/search.naver?where=news&sm=tab_pge&query=%EC%BD%94%EC%8A%A4%ED%94%BC%20%EA%B2%BD%EC%A0%9C&sort=0&photo=0&field=0&pd=3&ds=2022.03.14&de=2022.03.14&cluster_rank=14&mynews=0&office_type=0&office_section_code=0&news_office_checked=&nso=so:r,p:from20220314to20220314,a:all&start=11\n",
      "https://search.naver.com/search.naver?where=news&sm=tab_pge&query=%EC%BD%94%EC%8A%A4%ED%94%BC%20%EA%B2%BD%EC%A0%9C&sort=0&photo=0&field=0&pd=3&ds=2022.03.14&de=2022.03.14&cluster_rank=24&mynews=0&office_type=0&office_section_code=0&news_office_checked=&nso=so:r,p:from20220314to20220314,a:all&start=21\n",
      "크롤링 준비\n"
     ]
    },
    {
     "name": "stderr",
     "output_type": "stream",
     "text": [
      "\n",
      "\n",
      "preprocessing day:  45%|████████████████████████████▍                                  | 14/31 [01:39<01:59,  7.06s/it]\u001b[A\u001b[A"
     ]
    },
    {
     "name": "stdout",
     "output_type": "stream",
     "text": [
      "다음날짜로 선택시작\n",
      "다음 날짜 선택 후 크롤링 준비\n",
      "https://search.naver.com/search.naver?where=news&query=%EC%BD%94%EC%8A%A4%ED%94%BC%20%EA%B2%BD%EC%A0%9C&sm=tab_opt&sort=0&photo=0&field=0&pd=3&ds=2022.03.15&de=2022.03.15&docid=&related=0&mynews=0&office_type=0&office_section_code=0&news_office_checked=&nso=so%3Ar%2Cp%3Afrom20220315to20220315&is_sug_officeid=0\n",
      "https://search.naver.com/search.naver?where=news&sm=tab_pge&query=%EC%BD%94%EC%8A%A4%ED%94%BC%20%EA%B2%BD%EC%A0%9C&sort=0&photo=0&field=0&pd=3&ds=2022.03.15&de=2022.03.15&cluster_rank=11&mynews=0&office_type=0&office_section_code=0&news_office_checked=&nso=so:r,p:from20220315to20220315,a:all&start=11\n",
      "https://search.naver.com/search.naver?where=news&sm=tab_pge&query=%EC%BD%94%EC%8A%A4%ED%94%BC%20%EA%B2%BD%EC%A0%9C&sort=0&photo=0&field=0&pd=3&ds=2022.03.15&de=2022.03.15&cluster_rank=22&mynews=0&office_type=0&office_section_code=0&news_office_checked=&nso=so:r,p:from20220315to20220315,a:all&start=21\n",
      "크롤링 준비\n"
     ]
    },
    {
     "name": "stderr",
     "output_type": "stream",
     "text": [
      "\n",
      "\n",
      "preprocessing day:  48%|██████████████████████████████▍                                | 15/31 [01:46<01:53,  7.09s/it]\u001b[A\u001b[A"
     ]
    },
    {
     "name": "stdout",
     "output_type": "stream",
     "text": [
      "다음날짜로 선택시작\n",
      "다음 날짜 선택 후 크롤링 준비\n",
      "https://search.naver.com/search.naver?where=news&query=%EC%BD%94%EC%8A%A4%ED%94%BC%20%EA%B2%BD%EC%A0%9C&sm=tab_opt&sort=0&photo=0&field=0&pd=3&ds=2022.03.16&de=2022.03.16&docid=&related=0&mynews=0&office_type=0&office_section_code=0&news_office_checked=&nso=so%3Ar%2Cp%3Afrom20220316to20220316&is_sug_officeid=0\n",
      "https://search.naver.com/search.naver?where=news&sm=tab_pge&query=%EC%BD%94%EC%8A%A4%ED%94%BC%20%EA%B2%BD%EC%A0%9C&sort=0&photo=0&field=0&pd=3&ds=2022.03.16&de=2022.03.16&cluster_rank=11&mynews=0&office_type=0&office_section_code=0&news_office_checked=&nso=so:r,p:from20220316to20220316,a:all&start=11\n",
      "https://search.naver.com/search.naver?where=news&sm=tab_pge&query=%EC%BD%94%EC%8A%A4%ED%94%BC%20%EA%B2%BD%EC%A0%9C&sort=0&photo=0&field=0&pd=3&ds=2022.03.16&de=2022.03.16&cluster_rank=29&mynews=0&office_type=0&office_section_code=0&news_office_checked=&nso=so:r,p:from20220316to20220316,a:all&start=21\n",
      "크롤링 준비\n"
     ]
    },
    {
     "name": "stderr",
     "output_type": "stream",
     "text": [
      "\n",
      "\n",
      "preprocessing day:  52%|████████████████████████████████▌                              | 16/31 [01:54<01:49,  7.33s/it]\u001b[A\u001b[A"
     ]
    },
    {
     "name": "stdout",
     "output_type": "stream",
     "text": [
      "다음날짜로 선택시작\n",
      "다음 날짜 선택 후 크롤링 준비\n",
      "https://search.naver.com/search.naver?where=news&query=%EC%BD%94%EC%8A%A4%ED%94%BC%20%EA%B2%BD%EC%A0%9C&sm=tab_opt&sort=0&photo=0&field=0&pd=3&ds=2022.03.17&de=2022.03.17&docid=&related=0&mynews=0&office_type=0&office_section_code=0&news_office_checked=&nso=so%3Ar%2Cp%3Afrom20220317to20220317&is_sug_officeid=0\n",
      "https://search.naver.com/search.naver?where=news&sm=tab_pge&query=%EC%BD%94%EC%8A%A4%ED%94%BC%20%EA%B2%BD%EC%A0%9C&sort=0&photo=0&field=0&pd=3&ds=2022.03.17&de=2022.03.17&cluster_rank=19&mynews=0&office_type=0&office_section_code=0&news_office_checked=&nso=so:r,p:from20220317to20220317,a:all&start=11\n",
      "https://search.naver.com/search.naver?where=news&sm=tab_pge&query=%EC%BD%94%EC%8A%A4%ED%94%BC%20%EA%B2%BD%EC%A0%9C&sort=0&photo=0&field=0&pd=3&ds=2022.03.17&de=2022.03.17&cluster_rank=31&mynews=0&office_type=0&office_section_code=0&news_office_checked=&nso=so:r,p:from20220317to20220317,a:all&start=21\n",
      "크롤링 준비\n"
     ]
    },
    {
     "name": "stderr",
     "output_type": "stream",
     "text": [
      "\n",
      "\n",
      "preprocessing day:  55%|██████████████████████████████████▌                            | 17/31 [02:02<01:45,  7.55s/it]\u001b[A\u001b[A"
     ]
    },
    {
     "name": "stdout",
     "output_type": "stream",
     "text": [
      "다음날짜로 선택시작\n",
      "다음 날짜 선택 후 크롤링 준비\n",
      "https://search.naver.com/search.naver?where=news&query=%EC%BD%94%EC%8A%A4%ED%94%BC%20%EA%B2%BD%EC%A0%9C&sm=tab_opt&sort=0&photo=0&field=0&pd=3&ds=2022.03.18&de=2022.03.18&docid=&related=0&mynews=0&office_type=0&office_section_code=0&news_office_checked=&nso=so%3Ar%2Cp%3Afrom20220318to20220318&is_sug_officeid=0\n",
      "https://search.naver.com/search.naver?where=news&sm=tab_pge&query=%EC%BD%94%EC%8A%A4%ED%94%BC%20%EA%B2%BD%EC%A0%9C&sort=0&photo=0&field=0&pd=3&ds=2022.03.18&de=2022.03.18&cluster_rank=16&mynews=0&office_type=0&office_section_code=0&news_office_checked=&nso=so:r,p:from20220318to20220318,a:all&start=11\n",
      "https://search.naver.com/search.naver?where=news&sm=tab_pge&query=%EC%BD%94%EC%8A%A4%ED%94%BC%20%EA%B2%BD%EC%A0%9C&sort=0&photo=0&field=0&pd=3&ds=2022.03.18&de=2022.03.18&cluster_rank=30&mynews=0&office_type=0&office_section_code=0&news_office_checked=&nso=so:r,p:from20220318to20220318,a:all&start=21\n",
      "크롤링 준비\n"
     ]
    },
    {
     "name": "stderr",
     "output_type": "stream",
     "text": [
      "\n",
      "\n",
      "preprocessing day:  58%|████████████████████████████████████▌                          | 18/31 [02:09<01:36,  7.44s/it]\u001b[A\u001b[A"
     ]
    },
    {
     "name": "stdout",
     "output_type": "stream",
     "text": [
      "다음날짜로 선택시작\n",
      "다음 날짜 선택 후 크롤링 준비\n",
      "https://search.naver.com/search.naver?where=news&query=%EC%BD%94%EC%8A%A4%ED%94%BC%20%EA%B2%BD%EC%A0%9C&sm=tab_opt&sort=0&photo=0&field=0&pd=3&ds=2022.03.19&de=2022.03.19&docid=&related=0&mynews=0&office_type=0&office_section_code=0&news_office_checked=&nso=so%3Ar%2Cp%3Afrom20220319to20220319&is_sug_officeid=0\n",
      "https://search.naver.com/search.naver?where=news&query=%EC%BD%94%EC%8A%A4%ED%94%BC%20%EA%B2%BD%EC%A0%9C&sm=tab_opt&sort=0&photo=0&field=0&pd=3&ds=2022.03.19&de=2022.03.19&docid=&related=0&mynews=0&office_type=0&office_section_code=0&news_office_checked=&nso=so%3Ar%2Cp%3Afrom20220319to20220319&is_sug_officeid=0\n",
      "크롤링 준비\n"
     ]
    },
    {
     "name": "stderr",
     "output_type": "stream",
     "text": [
      "\n",
      "\n",
      "preprocessing day:  61%|██████████████████████████████████████▌                        | 19/31 [02:16<01:27,  7.26s/it]\u001b[A\u001b[A"
     ]
    },
    {
     "name": "stdout",
     "output_type": "stream",
     "text": [
      "다음날짜로 선택시작\n",
      "다음 날짜 선택 후 크롤링 준비\n",
      "https://search.naver.com/search.naver?where=news&query=%EC%BD%94%EC%8A%A4%ED%94%BC%20%EA%B2%BD%EC%A0%9C&sm=tab_opt&sort=0&photo=0&field=0&pd=3&ds=2022.03.20&de=2022.03.20&docid=&related=0&mynews=0&office_type=0&office_section_code=0&news_office_checked=&nso=so%3Ar%2Cp%3Afrom20220320to20220320&is_sug_officeid=0\n",
      "https://search.naver.com/search.naver?where=news&sm=tab_pge&query=%EC%BD%94%EC%8A%A4%ED%94%BC%20%EA%B2%BD%EC%A0%9C&sort=0&photo=0&field=0&pd=3&ds=2022.03.20&de=2022.03.20&cluster_rank=15&mynews=0&office_type=0&office_section_code=0&news_office_checked=&nso=so:r,p:from20220320to20220320,a:all&start=11\n",
      "https://search.naver.com/search.naver?where=news&sm=tab_pge&query=%EC%BD%94%EC%8A%A4%ED%94%BC%20%EA%B2%BD%EC%A0%9C&sort=0&photo=0&field=0&pd=3&ds=2022.03.20&de=2022.03.20&cluster_rank=25&mynews=0&office_type=0&office_section_code=0&news_office_checked=&nso=so:r,p:from20220320to20220320,a:all&start=21\n",
      "크롤링 준비\n"
     ]
    },
    {
     "name": "stderr",
     "output_type": "stream",
     "text": [
      "\n",
      "\n",
      "preprocessing day:  65%|████████████████████████████████████████▋                      | 20/31 [02:24<01:20,  7.35s/it]\u001b[A\u001b[A"
     ]
    },
    {
     "name": "stdout",
     "output_type": "stream",
     "text": [
      "다음날짜로 선택시작\n",
      "다음 날짜 선택 후 크롤링 준비\n",
      "https://search.naver.com/search.naver?where=news&query=%EC%BD%94%EC%8A%A4%ED%94%BC%20%EA%B2%BD%EC%A0%9C&sm=tab_opt&sort=0&photo=0&field=0&pd=3&ds=2022.03.21&de=2022.03.21&docid=&related=0&mynews=0&office_type=0&office_section_code=0&news_office_checked=&nso=so%3Ar%2Cp%3Afrom20220321to20220321&is_sug_officeid=0\n",
      "https://search.naver.com/search.naver?where=news&sm=tab_pge&query=%EC%BD%94%EC%8A%A4%ED%94%BC%20%EA%B2%BD%EC%A0%9C&sort=0&photo=0&field=0&pd=3&ds=2022.03.21&de=2022.03.21&cluster_rank=14&mynews=0&office_type=0&office_section_code=0&news_office_checked=&nso=so:r,p:from20220321to20220321,a:all&start=11\n",
      "https://search.naver.com/search.naver?where=news&sm=tab_pge&query=%EC%BD%94%EC%8A%A4%ED%94%BC%20%EA%B2%BD%EC%A0%9C&sort=0&photo=0&field=0&pd=3&ds=2022.03.21&de=2022.03.21&cluster_rank=25&mynews=0&office_type=0&office_section_code=0&news_office_checked=&nso=so:r,p:from20220321to20220321,a:all&start=21\n",
      "크롤링 준비\n"
     ]
    },
    {
     "name": "stderr",
     "output_type": "stream",
     "text": [
      "\n",
      "\n",
      "preprocessing day:  68%|██████████████████████████████████████████▋                    | 21/31 [02:31<01:14,  7.43s/it]\u001b[A\u001b[A"
     ]
    },
    {
     "name": "stdout",
     "output_type": "stream",
     "text": [
      "다음날짜로 선택시작\n",
      "다음 날짜 선택 후 크롤링 준비\n",
      "https://search.naver.com/search.naver?where=news&query=%EC%BD%94%EC%8A%A4%ED%94%BC%20%EA%B2%BD%EC%A0%9C&sm=tab_opt&sort=0&photo=0&field=0&pd=3&ds=2022.03.22&de=2022.03.22&docid=&related=0&mynews=0&office_type=0&office_section_code=0&news_office_checked=&nso=so%3Ar%2Cp%3Afrom20220322to20220322&is_sug_officeid=0\n",
      "https://search.naver.com/search.naver?where=news&sm=tab_pge&query=%EC%BD%94%EC%8A%A4%ED%94%BC%20%EA%B2%BD%EC%A0%9C&sort=0&photo=0&field=0&pd=3&ds=2022.03.22&de=2022.03.22&cluster_rank=17&mynews=0&office_type=0&office_section_code=0&news_office_checked=&nso=so:r,p:from20220322to20220322,a:all&start=11\n",
      "https://search.naver.com/search.naver?where=news&sm=tab_pge&query=%EC%BD%94%EC%8A%A4%ED%94%BC%20%EA%B2%BD%EC%A0%9C&sort=0&photo=0&field=0&pd=3&ds=2022.03.22&de=2022.03.22&cluster_rank=27&mynews=0&office_type=0&office_section_code=0&news_office_checked=&nso=so:r,p:from20220322to20220322,a:all&start=21\n",
      "크롤링 준비\n"
     ]
    },
    {
     "name": "stderr",
     "output_type": "stream",
     "text": [
      "\n",
      "\n",
      "preprocessing day:  71%|████████████████████████████████████████████▋                  | 22/31 [02:39<01:06,  7.43s/it]\u001b[A\u001b[A"
     ]
    },
    {
     "name": "stdout",
     "output_type": "stream",
     "text": [
      "다음날짜로 선택시작\n",
      "다음 날짜 선택 후 크롤링 준비\n",
      "https://search.naver.com/search.naver?where=news&query=%EC%BD%94%EC%8A%A4%ED%94%BC%20%EA%B2%BD%EC%A0%9C&sm=tab_opt&sort=0&photo=0&field=0&pd=3&ds=2022.03.23&de=2022.03.23&docid=&related=0&mynews=0&office_type=0&office_section_code=0&news_office_checked=&nso=so%3Ar%2Cp%3Afrom20220323to20220323&is_sug_officeid=0\n",
      "https://search.naver.com/search.naver?where=news&sm=tab_pge&query=%EC%BD%94%EC%8A%A4%ED%94%BC%20%EA%B2%BD%EC%A0%9C&sort=0&photo=0&field=0&pd=3&ds=2022.03.23&de=2022.03.23&cluster_rank=13&mynews=0&office_type=0&office_section_code=0&news_office_checked=&nso=so:r,p:from20220323to20220323,a:all&start=11\n",
      "https://search.naver.com/search.naver?where=news&sm=tab_pge&query=%EC%BD%94%EC%8A%A4%ED%94%BC%20%EA%B2%BD%EC%A0%9C&sort=0&photo=0&field=0&pd=3&ds=2022.03.23&de=2022.03.23&cluster_rank=26&mynews=0&office_type=0&office_section_code=0&news_office_checked=&nso=so:r,p:from20220323to20220323,a:all&start=21\n",
      "크롤링 준비\n"
     ]
    },
    {
     "name": "stderr",
     "output_type": "stream",
     "text": [
      "\n",
      "\n",
      "preprocessing day:  74%|██████████████████████████████████████████████▋                | 23/31 [02:46<00:58,  7.34s/it]\u001b[A\u001b[A"
     ]
    },
    {
     "name": "stdout",
     "output_type": "stream",
     "text": [
      "다음날짜로 선택시작\n",
      "다음 날짜 선택 후 크롤링 준비\n",
      "https://search.naver.com/search.naver?where=news&query=%EC%BD%94%EC%8A%A4%ED%94%BC%20%EA%B2%BD%EC%A0%9C&sm=tab_opt&sort=0&photo=0&field=0&pd=3&ds=2022.03.24&de=2022.03.24&docid=&related=0&mynews=0&office_type=0&office_section_code=0&news_office_checked=&nso=so%3Ar%2Cp%3Afrom20220324to20220324&is_sug_officeid=0\n",
      "https://search.naver.com/search.naver?where=news&sm=tab_pge&query=%EC%BD%94%EC%8A%A4%ED%94%BC%20%EA%B2%BD%EC%A0%9C&sort=0&photo=0&field=0&pd=3&ds=2022.03.24&de=2022.03.24&cluster_rank=17&mynews=0&office_type=0&office_section_code=0&news_office_checked=&nso=so:r,p:from20220324to20220324,a:all&start=11\n",
      "https://search.naver.com/search.naver?where=news&sm=tab_pge&query=%EC%BD%94%EC%8A%A4%ED%94%BC%20%EA%B2%BD%EC%A0%9C&sort=0&photo=0&field=0&pd=3&ds=2022.03.24&de=2022.03.24&cluster_rank=29&mynews=0&office_type=0&office_section_code=0&news_office_checked=&nso=so:r,p:from20220324to20220324,a:all&start=21\n",
      "크롤링 준비\n"
     ]
    },
    {
     "name": "stderr",
     "output_type": "stream",
     "text": [
      "\n",
      "\n",
      "preprocessing day:  77%|████████████████████████████████████████████████▊              | 24/31 [02:53<00:52,  7.43s/it]\u001b[A\u001b[A"
     ]
    },
    {
     "name": "stdout",
     "output_type": "stream",
     "text": [
      "다음날짜로 선택시작\n",
      "다음 날짜 선택 후 크롤링 준비\n",
      "https://search.naver.com/search.naver?where=news&query=%EC%BD%94%EC%8A%A4%ED%94%BC%20%EA%B2%BD%EC%A0%9C&sm=tab_opt&sort=0&photo=0&field=0&pd=3&ds=2022.03.25&de=2022.03.25&docid=&related=0&mynews=0&office_type=0&office_section_code=0&news_office_checked=&nso=so%3Ar%2Cp%3Afrom20220325to20220325&is_sug_officeid=0\n",
      "https://search.naver.com/search.naver?where=news&sm=tab_pge&query=%EC%BD%94%EC%8A%A4%ED%94%BC%20%EA%B2%BD%EC%A0%9C&sort=0&photo=0&field=0&pd=3&ds=2022.03.25&de=2022.03.25&cluster_rank=12&mynews=0&office_type=0&office_section_code=0&news_office_checked=&nso=so:r,p:from20220325to20220325,a:all&start=11\n",
      "https://search.naver.com/search.naver?where=news&sm=tab_pge&query=%EC%BD%94%EC%8A%A4%ED%94%BC%20%EA%B2%BD%EC%A0%9C&sort=0&photo=0&field=0&pd=3&ds=2022.03.25&de=2022.03.25&cluster_rank=22&mynews=0&office_type=0&office_section_code=0&news_office_checked=&nso=so:r,p:from20220325to20220325,a:all&start=21\n",
      "크롤링 준비\n"
     ]
    },
    {
     "name": "stderr",
     "output_type": "stream",
     "text": [
      "\n",
      "\n",
      "preprocessing day:  81%|██████████████████████████████████████████████████▊            | 25/31 [03:01<00:44,  7.46s/it]\u001b[A\u001b[A"
     ]
    },
    {
     "name": "stdout",
     "output_type": "stream",
     "text": [
      "다음날짜로 선택시작\n",
      "다음 날짜 선택 후 크롤링 준비\n",
      "https://search.naver.com/search.naver?where=news&query=%EC%BD%94%EC%8A%A4%ED%94%BC%20%EA%B2%BD%EC%A0%9C&sm=tab_opt&sort=0&photo=0&field=0&pd=3&ds=2022.03.26&de=2022.03.26&docid=&related=0&mynews=0&office_type=0&office_section_code=0&news_office_checked=&nso=so%3Ar%2Cp%3Afrom20220326to20220326&is_sug_officeid=0\n",
      "https://search.naver.com/search.naver?where=news&sm=tab_pge&query=%EC%BD%94%EC%8A%A4%ED%94%BC%20%EA%B2%BD%EC%A0%9C&sort=0&photo=0&field=0&pd=3&ds=2022.03.26&de=2022.03.26&cluster_rank=10&mynews=0&office_type=0&office_section_code=0&news_office_checked=&nso=so:r,p:from20220326to20220326,a:all&start=11\n",
      "https://search.naver.com/search.naver?where=news&sm=tab_pge&query=%EC%BD%94%EC%8A%A4%ED%94%BC%20%EA%B2%BD%EC%A0%9C&sort=0&photo=0&field=0&pd=3&ds=2022.03.26&de=2022.03.26&cluster_rank=10&mynews=0&office_type=0&office_section_code=0&news_office_checked=&nso=so:r,p:from20220326to20220326,a:all&start=11\n",
      "크롤링 준비\n"
     ]
    },
    {
     "name": "stderr",
     "output_type": "stream",
     "text": [
      "\n",
      "\n",
      "preprocessing day:  84%|████████████████████████████████████████████████████▊          | 26/31 [03:08<00:36,  7.23s/it]\u001b[A\u001b[A"
     ]
    },
    {
     "name": "stdout",
     "output_type": "stream",
     "text": [
      "다음날짜로 선택시작\n",
      "다음 날짜 선택 후 크롤링 준비\n",
      "https://search.naver.com/search.naver?where=news&query=%EC%BD%94%EC%8A%A4%ED%94%BC%20%EA%B2%BD%EC%A0%9C&sm=tab_opt&sort=0&photo=0&field=0&pd=3&ds=2022.03.27&de=2022.03.27&docid=&related=0&mynews=0&office_type=0&office_section_code=0&news_office_checked=&nso=so%3Ar%2Cp%3Afrom20220327to20220327&is_sug_officeid=0\n",
      "https://search.naver.com/search.naver?where=news&sm=tab_pge&query=%EC%BD%94%EC%8A%A4%ED%94%BC%20%EA%B2%BD%EC%A0%9C&sort=0&photo=0&field=0&pd=3&ds=2022.03.27&de=2022.03.27&cluster_rank=14&mynews=0&office_type=0&office_section_code=0&news_office_checked=&nso=so:r,p:from20220327to20220327,a:all&start=11\n",
      "https://search.naver.com/search.naver?where=news&sm=tab_pge&query=%EC%BD%94%EC%8A%A4%ED%94%BC%20%EA%B2%BD%EC%A0%9C&sort=0&photo=0&field=0&pd=3&ds=2022.03.27&de=2022.03.27&cluster_rank=29&mynews=0&office_type=0&office_section_code=0&news_office_checked=&nso=so:r,p:from20220327to20220327,a:all&start=21\n",
      "크롤링 준비\n"
     ]
    },
    {
     "name": "stderr",
     "output_type": "stream",
     "text": [
      "\n",
      "\n",
      "preprocessing day:  87%|██████████████████████████████████████████████████████▊        | 27/31 [03:15<00:28,  7.21s/it]\u001b[A\u001b[A"
     ]
    },
    {
     "name": "stdout",
     "output_type": "stream",
     "text": [
      "다음날짜로 선택시작\n",
      "다음 날짜 선택 후 크롤링 준비\n",
      "https://search.naver.com/search.naver?where=news&query=%EC%BD%94%EC%8A%A4%ED%94%BC%20%EA%B2%BD%EC%A0%9C&sm=tab_opt&sort=0&photo=0&field=0&pd=3&ds=2022.03.28&de=2022.03.28&docid=&related=0&mynews=0&office_type=0&office_section_code=0&news_office_checked=&nso=so%3Ar%2Cp%3Afrom20220328to20220328&is_sug_officeid=0\n",
      "https://search.naver.com/search.naver?where=news&sm=tab_pge&query=%EC%BD%94%EC%8A%A4%ED%94%BC%20%EA%B2%BD%EC%A0%9C&sort=0&photo=0&field=0&pd=3&ds=2022.03.28&de=2022.03.28&cluster_rank=17&mynews=0&office_type=0&office_section_code=0&news_office_checked=&nso=so:r,p:from20220328to20220328,a:all&start=11\n",
      "https://search.naver.com/search.naver?where=news&sm=tab_pge&query=%EC%BD%94%EC%8A%A4%ED%94%BC%20%EA%B2%BD%EC%A0%9C&sort=0&photo=0&field=0&pd=3&ds=2022.03.28&de=2022.03.28&cluster_rank=29&mynews=0&office_type=0&office_section_code=0&news_office_checked=&nso=so:r,p:from20220328to20220328,a:all&start=21\n",
      "크롤링 준비\n"
     ]
    },
    {
     "name": "stderr",
     "output_type": "stream",
     "text": [
      "\n",
      "\n",
      "preprocessing day:  90%|████████████████████████████████████████████████████████▉      | 28/31 [03:22<00:21,  7.16s/it]\u001b[A\u001b[A"
     ]
    },
    {
     "name": "stdout",
     "output_type": "stream",
     "text": [
      "다음날짜로 선택시작\n",
      "다음 날짜 선택 후 크롤링 준비\n",
      "https://search.naver.com/search.naver?where=news&query=%EC%BD%94%EC%8A%A4%ED%94%BC%20%EA%B2%BD%EC%A0%9C&sm=tab_opt&sort=0&photo=0&field=0&pd=3&ds=2022.03.29&de=2022.03.29&docid=&related=0&mynews=0&office_type=0&office_section_code=0&news_office_checked=&nso=so%3Ar%2Cp%3Afrom20220329to20220329&is_sug_officeid=0\n",
      "https://search.naver.com/search.naver?where=news&sm=tab_pge&query=%EC%BD%94%EC%8A%A4%ED%94%BC%20%EA%B2%BD%EC%A0%9C&sort=0&photo=0&field=0&pd=3&ds=2022.03.29&de=2022.03.29&cluster_rank=10&mynews=0&office_type=0&office_section_code=0&news_office_checked=&nso=so:r,p:from20220329to20220329,a:all&start=11\n",
      "https://search.naver.com/search.naver?where=news&sm=tab_pge&query=%EC%BD%94%EC%8A%A4%ED%94%BC%20%EA%B2%BD%EC%A0%9C&sort=0&photo=0&field=0&pd=3&ds=2022.03.29&de=2022.03.29&cluster_rank=20&mynews=0&office_type=0&office_section_code=0&news_office_checked=&nso=so:r,p:from20220329to20220329,a:all&start=21\n",
      "크롤링 준비\n"
     ]
    },
    {
     "name": "stderr",
     "output_type": "stream",
     "text": [
      "\n",
      "\n",
      "preprocessing day:  94%|██████████████████████████████████████████████████████████▉    | 29/31 [03:29<00:14,  7.28s/it]\u001b[A\u001b[A"
     ]
    },
    {
     "name": "stdout",
     "output_type": "stream",
     "text": [
      "다음날짜로 선택시작\n",
      "다음 날짜 선택 후 크롤링 준비\n",
      "https://search.naver.com/search.naver?where=news&query=%EC%BD%94%EC%8A%A4%ED%94%BC%20%EA%B2%BD%EC%A0%9C&sm=tab_opt&sort=0&photo=0&field=0&pd=3&ds=2022.03.30&de=2022.03.30&docid=&related=0&mynews=0&office_type=0&office_section_code=0&news_office_checked=&nso=so%3Ar%2Cp%3Afrom20220330to20220330&is_sug_officeid=0\n",
      "https://search.naver.com/search.naver?where=news&sm=tab_pge&query=%EC%BD%94%EC%8A%A4%ED%94%BC%20%EA%B2%BD%EC%A0%9C&sort=0&photo=0&field=0&pd=3&ds=2022.03.30&de=2022.03.30&cluster_rank=16&mynews=0&office_type=0&office_section_code=0&news_office_checked=&nso=so:r,p:from20220330to20220330,a:all&start=11\n",
      "https://search.naver.com/search.naver?where=news&sm=tab_pge&query=%EC%BD%94%EC%8A%A4%ED%94%BC%20%EA%B2%BD%EC%A0%9C&sort=0&photo=0&field=0&pd=3&ds=2022.03.30&de=2022.03.30&cluster_rank=27&mynews=0&office_type=0&office_section_code=0&news_office_checked=&nso=so:r,p:from20220330to20220330,a:all&start=21\n",
      "크롤링 준비\n"
     ]
    },
    {
     "name": "stderr",
     "output_type": "stream",
     "text": [
      "\n",
      "\n",
      "preprocessing day:  97%|████████████████████████████████████████████████████████████▉  | 30/31 [03:37<00:07,  7.28s/it]\u001b[A\u001b[A"
     ]
    },
    {
     "name": "stdout",
     "output_type": "stream",
     "text": [
      "다음날짜로 선택시작\n",
      "다음 날짜 선택 후 크롤링 준비\n",
      "https://search.naver.com/search.naver?where=news&query=%EC%BD%94%EC%8A%A4%ED%94%BC%20%EA%B2%BD%EC%A0%9C&sm=tab_opt&sort=0&photo=0&field=0&pd=3&ds=2022.03.31&de=2022.03.31&docid=&related=0&mynews=0&office_type=0&office_section_code=0&news_office_checked=&nso=so%3Ar%2Cp%3Afrom20220331to20220331&is_sug_officeid=0\n",
      "https://search.naver.com/search.naver?where=news&sm=tab_pge&query=%EC%BD%94%EC%8A%A4%ED%94%BC%20%EA%B2%BD%EC%A0%9C&sort=0&photo=0&field=0&pd=3&ds=2022.03.31&de=2022.03.31&cluster_rank=11&mynews=0&office_type=0&office_section_code=0&news_office_checked=&nso=so:r,p:from20220331to20220331,a:all&start=11\n",
      "https://search.naver.com/search.naver?where=news&sm=tab_pge&query=%EC%BD%94%EC%8A%A4%ED%94%BC%20%EA%B2%BD%EC%A0%9C&sort=0&photo=0&field=0&pd=3&ds=2022.03.31&de=2022.03.31&cluster_rank=24&mynews=0&office_type=0&office_section_code=0&news_office_checked=&nso=so:r,p:from20220331to20220331,a:all&start=21\n",
      "크롤링 준비\n"
     ]
    },
    {
     "name": "stderr",
     "output_type": "stream",
     "text": [
      "\n",
      "\n",
      "preprocessing day: 100%|███████████████████████████████████████████████████████████████| 31/31 [03:44<00:00,  7.24s/it]\u001b[A\u001b[A\n",
      "\n",
      "preprocessing month:  25%|███████████████▎                                             | 3/12 [10:58<32:56, 219.57s/it]\u001b[A"
     ]
    },
    {
     "name": "stdout",
     "output_type": "stream",
     "text": [
      "다음날짜로 선택시작\n"
     ]
    },
    {
     "name": "stderr",
     "output_type": "stream",
     "text": [
      "\n",
      "\n",
      "preprocessing day:   0%|                                                                        | 0/31 [00:00<?, ?it/s]\u001b[A\u001b[A"
     ]
    },
    {
     "name": "stdout",
     "output_type": "stream",
     "text": [
      "다음 날짜 선택 후 크롤링 준비\n",
      "https://search.naver.com/search.naver?where=news&query=%EC%BD%94%EC%8A%A4%ED%94%BC%20%EA%B2%BD%EC%A0%9C&sm=tab_opt&sort=0&photo=0&field=0&pd=3&ds=2022.04.01&de=2022.04.01&docid=&related=0&mynews=0&office_type=0&office_section_code=0&news_office_checked=&nso=so%3Ar%2Cp%3Afrom20220401to20220401&is_sug_officeid=0\n",
      "https://search.naver.com/search.naver?where=news&sm=tab_pge&query=%EC%BD%94%EC%8A%A4%ED%94%BC%20%EA%B2%BD%EC%A0%9C&sort=0&photo=0&field=0&pd=3&ds=2022.04.01&de=2022.04.01&cluster_rank=11&mynews=0&office_type=0&office_section_code=0&news_office_checked=&nso=so:r,p:from20220401to20220401,a:all&start=11\n",
      "https://search.naver.com/search.naver?where=news&sm=tab_pge&query=%EC%BD%94%EC%8A%A4%ED%94%BC%20%EA%B2%BD%EC%A0%9C&sort=0&photo=0&field=0&pd=3&ds=2022.04.01&de=2022.04.01&cluster_rank=21&mynews=0&office_type=0&office_section_code=0&news_office_checked=&nso=so:r,p:from20220401to20220401,a:all&start=21\n",
      "크롤링 준비\n"
     ]
    },
    {
     "name": "stderr",
     "output_type": "stream",
     "text": [
      "\n",
      "\n",
      "preprocessing day:   3%|██                                                              | 1/31 [00:07<03:34,  7.15s/it]\u001b[A\u001b[A"
     ]
    },
    {
     "name": "stdout",
     "output_type": "stream",
     "text": [
      "다음날짜로 선택시작\n",
      "다음 날짜 선택 후 크롤링 준비\n",
      "https://search.naver.com/search.naver?where=news&query=%EC%BD%94%EC%8A%A4%ED%94%BC%20%EA%B2%BD%EC%A0%9C&sm=tab_opt&sort=0&photo=0&field=0&pd=3&ds=2022.04.02&de=2022.04.02&docid=&related=0&mynews=0&office_type=0&office_section_code=0&news_office_checked=&nso=so%3Ar%2Cp%3Afrom20220402to20220402&is_sug_officeid=0\n",
      "https://search.naver.com/search.naver?where=news&query=%EC%BD%94%EC%8A%A4%ED%94%BC%20%EA%B2%BD%EC%A0%9C&sm=tab_opt&sort=0&photo=0&field=0&pd=3&ds=2022.04.02&de=2022.04.02&docid=&related=0&mynews=0&office_type=0&office_section_code=0&news_office_checked=&nso=so%3Ar%2Cp%3Afrom20220402to20220402&is_sug_officeid=0\n",
      "크롤링 준비\n"
     ]
    },
    {
     "name": "stderr",
     "output_type": "stream",
     "text": [
      "\n",
      "\n",
      "preprocessing day:   6%|████▏                                                           | 2/31 [00:13<03:12,  6.65s/it]\u001b[A\u001b[A"
     ]
    },
    {
     "name": "stdout",
     "output_type": "stream",
     "text": [
      "다음날짜로 선택시작\n",
      "다음 날짜 선택 후 크롤링 준비\n",
      "https://search.naver.com/search.naver?where=news&query=%EC%BD%94%EC%8A%A4%ED%94%BC%20%EA%B2%BD%EC%A0%9C&sm=tab_opt&sort=0&photo=0&field=0&pd=3&ds=2022.04.03&de=2022.04.03&docid=&related=0&mynews=0&office_type=0&office_section_code=0&news_office_checked=&nso=so%3Ar%2Cp%3Afrom20220403to20220403&is_sug_officeid=0\n",
      "https://search.naver.com/search.naver?where=news&sm=tab_pge&query=%EC%BD%94%EC%8A%A4%ED%94%BC%20%EA%B2%BD%EC%A0%9C&sort=0&photo=0&field=0&pd=3&ds=2022.04.03&de=2022.04.03&cluster_rank=15&mynews=0&office_type=0&office_section_code=0&news_office_checked=&nso=so:r,p:from20220403to20220403,a:all&start=11\n",
      "https://search.naver.com/search.naver?where=news&sm=tab_pge&query=%EC%BD%94%EC%8A%A4%ED%94%BC%20%EA%B2%BD%EC%A0%9C&sort=0&photo=0&field=0&pd=3&ds=2022.04.03&de=2022.04.03&cluster_rank=26&mynews=0&office_type=0&office_section_code=0&news_office_checked=&nso=so:r,p:from20220403to20220403,a:all&start=21\n",
      "크롤링 준비\n"
     ]
    },
    {
     "name": "stderr",
     "output_type": "stream",
     "text": [
      "\n",
      "\n",
      "preprocessing day:  10%|██████▏                                                         | 3/31 [00:20<03:12,  6.89s/it]\u001b[A\u001b[A"
     ]
    },
    {
     "name": "stdout",
     "output_type": "stream",
     "text": [
      "다음날짜로 선택시작\n",
      "다음 날짜 선택 후 크롤링 준비\n",
      "https://search.naver.com/search.naver?where=news&query=%EC%BD%94%EC%8A%A4%ED%94%BC%20%EA%B2%BD%EC%A0%9C&sm=tab_opt&sort=0&photo=0&field=0&pd=3&ds=2022.04.04&de=2022.04.04&docid=&related=0&mynews=0&office_type=0&office_section_code=0&news_office_checked=&nso=so%3Ar%2Cp%3Afrom20220404to20220404&is_sug_officeid=0\n",
      "https://search.naver.com/search.naver?where=news&sm=tab_pge&query=%EC%BD%94%EC%8A%A4%ED%94%BC%20%EA%B2%BD%EC%A0%9C&sort=0&photo=0&field=0&pd=3&ds=2022.04.04&de=2022.04.04&cluster_rank=15&mynews=0&office_type=0&office_section_code=0&news_office_checked=&nso=so:r,p:from20220404to20220404,a:all&start=11\n",
      "https://search.naver.com/search.naver?where=news&sm=tab_pge&query=%EC%BD%94%EC%8A%A4%ED%94%BC%20%EA%B2%BD%EC%A0%9C&sort=0&photo=0&field=0&pd=3&ds=2022.04.04&de=2022.04.04&cluster_rank=25&mynews=0&office_type=0&office_section_code=0&news_office_checked=&nso=so:r,p:from20220404to20220404,a:all&start=21\n",
      "크롤링 준비\n"
     ]
    },
    {
     "name": "stderr",
     "output_type": "stream",
     "text": [
      "\n",
      "\n",
      "preprocessing day:  13%|████████▎                                                       | 4/31 [00:28<03:11,  7.10s/it]\u001b[A\u001b[A"
     ]
    },
    {
     "name": "stdout",
     "output_type": "stream",
     "text": [
      "다음날짜로 선택시작\n",
      "다음 날짜 선택 후 크롤링 준비\n",
      "https://search.naver.com/search.naver?where=news&query=%EC%BD%94%EC%8A%A4%ED%94%BC%20%EA%B2%BD%EC%A0%9C&sm=tab_opt&sort=0&photo=0&field=0&pd=3&ds=2022.04.05&de=2022.04.05&docid=&related=0&mynews=0&office_type=0&office_section_code=0&news_office_checked=&nso=so%3Ar%2Cp%3Afrom20220405to20220405&is_sug_officeid=0\n",
      "https://search.naver.com/search.naver?where=news&sm=tab_pge&query=%EC%BD%94%EC%8A%A4%ED%94%BC%20%EA%B2%BD%EC%A0%9C&sort=0&photo=0&field=0&pd=3&ds=2022.04.05&de=2022.04.05&cluster_rank=14&mynews=0&office_type=0&office_section_code=0&news_office_checked=&nso=so:r,p:from20220405to20220405,a:all&start=11\n",
      "https://search.naver.com/search.naver?where=news&sm=tab_pge&query=%EC%BD%94%EC%8A%A4%ED%94%BC%20%EA%B2%BD%EC%A0%9C&sort=0&photo=0&field=0&pd=3&ds=2022.04.05&de=2022.04.05&cluster_rank=25&mynews=0&office_type=0&office_section_code=0&news_office_checked=&nso=so:r,p:from20220405to20220405,a:all&start=21\n",
      "크롤링 준비\n"
     ]
    },
    {
     "name": "stderr",
     "output_type": "stream",
     "text": [
      "\n",
      "\n",
      "preprocessing day:  16%|██████████▎                                                     | 5/31 [00:34<03:02,  7.01s/it]\u001b[A\u001b[A"
     ]
    },
    {
     "name": "stdout",
     "output_type": "stream",
     "text": [
      "다음날짜로 선택시작\n",
      "다음 날짜 선택 후 크롤링 준비\n",
      "https://search.naver.com/search.naver?where=news&query=%EC%BD%94%EC%8A%A4%ED%94%BC%20%EA%B2%BD%EC%A0%9C&sm=tab_opt&sort=0&photo=0&field=0&pd=3&ds=2022.04.06&de=2022.04.06&docid=&related=0&mynews=0&office_type=0&office_section_code=0&news_office_checked=&nso=so%3Ar%2Cp%3Afrom20220406to20220406&is_sug_officeid=0\n",
      "https://search.naver.com/search.naver?where=news&sm=tab_pge&query=%EC%BD%94%EC%8A%A4%ED%94%BC%20%EA%B2%BD%EC%A0%9C&sort=0&photo=0&field=0&pd=3&ds=2022.04.06&de=2022.04.06&cluster_rank=14&mynews=0&office_type=0&office_section_code=0&news_office_checked=&nso=so:r,p:from20220406to20220406,a:all&start=11\n",
      "https://search.naver.com/search.naver?where=news&sm=tab_pge&query=%EC%BD%94%EC%8A%A4%ED%94%BC%20%EA%B2%BD%EC%A0%9C&sort=0&photo=0&field=0&pd=3&ds=2022.04.06&de=2022.04.06&cluster_rank=24&mynews=0&office_type=0&office_section_code=0&news_office_checked=&nso=so:r,p:from20220406to20220406,a:all&start=21\n",
      "크롤링 준비\n"
     ]
    },
    {
     "name": "stderr",
     "output_type": "stream",
     "text": [
      "\n",
      "\n",
      "preprocessing day:  19%|████████████▍                                                   | 6/31 [00:41<02:54,  6.98s/it]\u001b[A\u001b[A"
     ]
    },
    {
     "name": "stdout",
     "output_type": "stream",
     "text": [
      "다음날짜로 선택시작\n",
      "다음 날짜 선택 후 크롤링 준비\n",
      "https://search.naver.com/search.naver?where=news&query=%EC%BD%94%EC%8A%A4%ED%94%BC%20%EA%B2%BD%EC%A0%9C&sm=tab_opt&sort=0&photo=0&field=0&pd=3&ds=2022.04.07&de=2022.04.07&docid=&related=0&mynews=0&office_type=0&office_section_code=0&news_office_checked=&nso=so%3Ar%2Cp%3Afrom20220407to20220407&is_sug_officeid=0\n",
      "https://search.naver.com/search.naver?where=news&sm=tab_pge&query=%EC%BD%94%EC%8A%A4%ED%94%BC%20%EA%B2%BD%EC%A0%9C&sort=0&photo=0&field=0&pd=3&ds=2022.04.07&de=2022.04.07&cluster_rank=12&mynews=0&office_type=0&office_section_code=0&news_office_checked=&nso=so:r,p:from20220407to20220407,a:all&start=11\n",
      "https://search.naver.com/search.naver?where=news&sm=tab_pge&query=%EC%BD%94%EC%8A%A4%ED%94%BC%20%EA%B2%BD%EC%A0%9C&sort=0&photo=0&field=0&pd=3&ds=2022.04.07&de=2022.04.07&cluster_rank=23&mynews=0&office_type=0&office_section_code=0&news_office_checked=&nso=so:r,p:from20220407to20220407,a:all&start=21\n",
      "크롤링 준비\n"
     ]
    },
    {
     "name": "stderr",
     "output_type": "stream",
     "text": [
      "\n",
      "\n",
      "preprocessing day:  23%|██████████████▍                                                 | 7/31 [00:48<02:47,  7.00s/it]\u001b[A\u001b[A"
     ]
    },
    {
     "name": "stdout",
     "output_type": "stream",
     "text": [
      "다음날짜로 선택시작\n",
      "다음 날짜 선택 후 크롤링 준비\n",
      "https://search.naver.com/search.naver?where=news&query=%EC%BD%94%EC%8A%A4%ED%94%BC%20%EA%B2%BD%EC%A0%9C&sm=tab_opt&sort=0&photo=0&field=0&pd=3&ds=2022.04.08&de=2022.04.08&docid=&related=0&mynews=0&office_type=0&office_section_code=0&news_office_checked=&nso=so%3Ar%2Cp%3Afrom20220408to20220408&is_sug_officeid=0\n",
      "https://search.naver.com/search.naver?where=news&sm=tab_pge&query=%EC%BD%94%EC%8A%A4%ED%94%BC%20%EA%B2%BD%EC%A0%9C&sort=0&photo=0&field=0&pd=3&ds=2022.04.08&de=2022.04.08&cluster_rank=11&mynews=0&office_type=0&office_section_code=0&news_office_checked=&nso=so:r,p:from20220408to20220408,a:all&start=11\n",
      "https://search.naver.com/search.naver?where=news&sm=tab_pge&query=%EC%BD%94%EC%8A%A4%ED%94%BC%20%EA%B2%BD%EC%A0%9C&sort=0&photo=0&field=0&pd=3&ds=2022.04.08&de=2022.04.08&cluster_rank=22&mynews=0&office_type=0&office_section_code=0&news_office_checked=&nso=so:r,p:from20220408to20220408,a:all&start=21\n",
      "크롤링 준비\n"
     ]
    },
    {
     "name": "stderr",
     "output_type": "stream",
     "text": [
      "\n",
      "\n",
      "preprocessing day:  26%|████████████████▌                                               | 8/31 [00:56<02:42,  7.07s/it]\u001b[A\u001b[A"
     ]
    },
    {
     "name": "stdout",
     "output_type": "stream",
     "text": [
      "다음날짜로 선택시작\n",
      "다음 날짜 선택 후 크롤링 준비\n",
      "https://search.naver.com/search.naver?where=news&query=%EC%BD%94%EC%8A%A4%ED%94%BC%20%EA%B2%BD%EC%A0%9C&sm=tab_opt&sort=0&photo=0&field=0&pd=3&ds=2022.04.09&de=2022.04.09&docid=&related=0&mynews=0&office_type=0&office_section_code=0&news_office_checked=&nso=so%3Ar%2Cp%3Afrom20220409to20220409&is_sug_officeid=0\n",
      "https://search.naver.com/search.naver?where=news&sm=tab_pge&query=%EC%BD%94%EC%8A%A4%ED%94%BC%20%EA%B2%BD%EC%A0%9C&sort=0&photo=0&field=0&pd=3&ds=2022.04.09&de=2022.04.09&cluster_rank=11&mynews=0&office_type=0&office_section_code=0&news_office_checked=&nso=so:r,p:from20220409to20220409,a:all&start=11\n",
      "https://search.naver.com/search.naver?where=news&sm=tab_pge&query=%EC%BD%94%EC%8A%A4%ED%94%BC%20%EA%B2%BD%EC%A0%9C&sort=0&photo=0&field=0&pd=3&ds=2022.04.09&de=2022.04.09&cluster_rank=11&mynews=0&office_type=0&office_section_code=0&news_office_checked=&nso=so:r,p:from20220409to20220409,a:all&start=11\n",
      "크롤링 준비\n"
     ]
    },
    {
     "name": "stderr",
     "output_type": "stream",
     "text": [
      "\n",
      "\n",
      "preprocessing day:  29%|██████████████████▌                                             | 9/31 [01:03<02:37,  7.14s/it]\u001b[A\u001b[A"
     ]
    },
    {
     "name": "stdout",
     "output_type": "stream",
     "text": [
      "다음날짜로 선택시작\n",
      "다음 날짜 선택 후 크롤링 준비\n",
      "https://search.naver.com/search.naver?where=news&query=%EC%BD%94%EC%8A%A4%ED%94%BC%20%EA%B2%BD%EC%A0%9C&sm=tab_opt&sort=0&photo=0&field=0&pd=3&ds=2022.04.10&de=2022.04.10&docid=&related=0&mynews=0&office_type=0&office_section_code=0&news_office_checked=&nso=so%3Ar%2Cp%3Afrom20220410to20220410&is_sug_officeid=0\n",
      "https://search.naver.com/search.naver?where=news&sm=tab_pge&query=%EC%BD%94%EC%8A%A4%ED%94%BC%20%EA%B2%BD%EC%A0%9C&sort=0&photo=0&field=0&pd=3&ds=2022.04.10&de=2022.04.10&cluster_rank=20&mynews=0&office_type=0&office_section_code=0&news_office_checked=&nso=so:r,p:from20220410to20220410,a:all&start=11\n",
      "https://search.naver.com/search.naver?where=news&sm=tab_pge&query=%EC%BD%94%EC%8A%A4%ED%94%BC%20%EA%B2%BD%EC%A0%9C&sort=0&photo=0&field=0&pd=3&ds=2022.04.10&de=2022.04.10&cluster_rank=30&mynews=0&office_type=0&office_section_code=0&news_office_checked=&nso=so:r,p:from20220410to20220410,a:all&start=21\n",
      "크롤링 준비\n"
     ]
    },
    {
     "name": "stderr",
     "output_type": "stream",
     "text": [
      "\n",
      "\n",
      "preprocessing day:  32%|████████████████████▎                                          | 10/31 [01:11<02:34,  7.34s/it]\u001b[A\u001b[A"
     ]
    },
    {
     "name": "stdout",
     "output_type": "stream",
     "text": [
      "다음날짜로 선택시작\n",
      "다음 날짜 선택 후 크롤링 준비\n",
      "https://search.naver.com/search.naver?where=news&query=%EC%BD%94%EC%8A%A4%ED%94%BC%20%EA%B2%BD%EC%A0%9C&sm=tab_opt&sort=0&photo=0&field=0&pd=3&ds=2022.04.11&de=2022.04.11&docid=&related=0&mynews=0&office_type=0&office_section_code=0&news_office_checked=&nso=so%3Ar%2Cp%3Afrom20220411to20220411&is_sug_officeid=0\n",
      "https://search.naver.com/search.naver?where=news&sm=tab_pge&query=%EC%BD%94%EC%8A%A4%ED%94%BC%20%EA%B2%BD%EC%A0%9C&sort=0&photo=0&field=0&pd=3&ds=2022.04.11&de=2022.04.11&cluster_rank=11&mynews=0&office_type=0&office_section_code=0&news_office_checked=&nso=so:r,p:from20220411to20220411,a:all&start=11\n",
      "https://search.naver.com/search.naver?where=news&sm=tab_pge&query=%EC%BD%94%EC%8A%A4%ED%94%BC%20%EA%B2%BD%EC%A0%9C&sort=0&photo=0&field=0&pd=3&ds=2022.04.11&de=2022.04.11&cluster_rank=21&mynews=0&office_type=0&office_section_code=0&news_office_checked=&nso=so:r,p:from20220411to20220411,a:all&start=21\n",
      "크롤링 준비\n"
     ]
    },
    {
     "name": "stderr",
     "output_type": "stream",
     "text": [
      "\n",
      "\n",
      "preprocessing day:  35%|██████████████████████▎                                        | 11/31 [01:18<02:26,  7.33s/it]\u001b[A\u001b[A"
     ]
    },
    {
     "name": "stdout",
     "output_type": "stream",
     "text": [
      "다음날짜로 선택시작\n",
      "다음 날짜 선택 후 크롤링 준비\n",
      "https://search.naver.com/search.naver?where=news&query=%EC%BD%94%EC%8A%A4%ED%94%BC%20%EA%B2%BD%EC%A0%9C&sm=tab_opt&sort=0&photo=0&field=0&pd=3&ds=2022.04.12&de=2022.04.12&docid=&related=0&mynews=0&office_type=0&office_section_code=0&news_office_checked=&nso=so%3Ar%2Cp%3Afrom20220412to20220412&is_sug_officeid=0\n",
      "https://search.naver.com/search.naver?where=news&sm=tab_pge&query=%EC%BD%94%EC%8A%A4%ED%94%BC%20%EA%B2%BD%EC%A0%9C&sort=0&photo=0&field=0&pd=3&ds=2022.04.12&de=2022.04.12&cluster_rank=10&mynews=0&office_type=0&office_section_code=0&news_office_checked=&nso=so:r,p:from20220412to20220412,a:all&start=11\n",
      "https://search.naver.com/search.naver?where=news&sm=tab_pge&query=%EC%BD%94%EC%8A%A4%ED%94%BC%20%EA%B2%BD%EC%A0%9C&sort=0&photo=0&field=0&pd=3&ds=2022.04.12&de=2022.04.12&cluster_rank=20&mynews=0&office_type=0&office_section_code=0&news_office_checked=&nso=so:r,p:from20220412to20220412,a:all&start=21\n",
      "크롤링 준비\n"
     ]
    },
    {
     "name": "stderr",
     "output_type": "stream",
     "text": [
      "\n",
      "\n",
      "preprocessing day:  39%|████████████████████████▍                                      | 12/31 [01:25<02:20,  7.38s/it]\u001b[A\u001b[A"
     ]
    },
    {
     "name": "stdout",
     "output_type": "stream",
     "text": [
      "다음날짜로 선택시작\n",
      "다음 날짜 선택 후 크롤링 준비\n",
      "https://search.naver.com/search.naver?where=news&query=%EC%BD%94%EC%8A%A4%ED%94%BC%20%EA%B2%BD%EC%A0%9C&sm=tab_opt&sort=0&photo=0&field=0&pd=3&ds=2022.04.13&de=2022.04.13&docid=&related=0&mynews=0&office_type=0&office_section_code=0&news_office_checked=&nso=so%3Ar%2Cp%3Afrom20220413to20220413&is_sug_officeid=0\n",
      "https://search.naver.com/search.naver?where=news&sm=tab_pge&query=%EC%BD%94%EC%8A%A4%ED%94%BC%20%EA%B2%BD%EC%A0%9C&sort=0&photo=0&field=0&pd=3&ds=2022.04.13&de=2022.04.13&cluster_rank=10&mynews=0&office_type=0&office_section_code=0&news_office_checked=&nso=so:r,p:from20220413to20220413,a:all&start=11\n",
      "https://search.naver.com/search.naver?where=news&sm=tab_pge&query=%EC%BD%94%EC%8A%A4%ED%94%BC%20%EA%B2%BD%EC%A0%9C&sort=0&photo=0&field=0&pd=3&ds=2022.04.13&de=2022.04.13&cluster_rank=21&mynews=0&office_type=0&office_section_code=0&news_office_checked=&nso=so:r,p:from20220413to20220413,a:all&start=21\n",
      "크롤링 준비\n"
     ]
    },
    {
     "name": "stderr",
     "output_type": "stream",
     "text": [
      "\n",
      "\n",
      "preprocessing day:  42%|██████████████████████████▍                                    | 13/31 [01:33<02:12,  7.34s/it]\u001b[A\u001b[A"
     ]
    },
    {
     "name": "stdout",
     "output_type": "stream",
     "text": [
      "다음날짜로 선택시작\n",
      "다음 날짜 선택 후 크롤링 준비\n",
      "https://search.naver.com/search.naver?where=news&query=%EC%BD%94%EC%8A%A4%ED%94%BC%20%EA%B2%BD%EC%A0%9C&sm=tab_opt&sort=0&photo=0&field=0&pd=3&ds=2022.04.14&de=2022.04.14&docid=&related=0&mynews=0&office_type=0&office_section_code=0&news_office_checked=&nso=so%3Ar%2Cp%3Afrom20220414to20220414&is_sug_officeid=0\n",
      "https://search.naver.com/search.naver?where=news&sm=tab_pge&query=%EC%BD%94%EC%8A%A4%ED%94%BC%20%EA%B2%BD%EC%A0%9C&sort=0&photo=0&field=0&pd=3&ds=2022.04.14&de=2022.04.14&cluster_rank=10&mynews=0&office_type=0&office_section_code=0&news_office_checked=&nso=so:r,p:from20220414to20220414,a:all&start=11\n",
      "https://search.naver.com/search.naver?where=news&sm=tab_pge&query=%EC%BD%94%EC%8A%A4%ED%94%BC%20%EA%B2%BD%EC%A0%9C&sort=0&photo=0&field=0&pd=3&ds=2022.04.14&de=2022.04.14&cluster_rank=27&mynews=0&office_type=0&office_section_code=0&news_office_checked=&nso=so:r,p:from20220414to20220414,a:all&start=21\n",
      "크롤링 준비\n"
     ]
    },
    {
     "name": "stderr",
     "output_type": "stream",
     "text": [
      "\n",
      "\n",
      "preprocessing day:  45%|████████████████████████████▍                                  | 14/31 [01:40<02:07,  7.47s/it]\u001b[A\u001b[A"
     ]
    },
    {
     "name": "stdout",
     "output_type": "stream",
     "text": [
      "다음날짜로 선택시작\n",
      "다음 날짜 선택 후 크롤링 준비\n",
      "https://search.naver.com/search.naver?where=news&query=%EC%BD%94%EC%8A%A4%ED%94%BC%20%EA%B2%BD%EC%A0%9C&sm=tab_opt&sort=0&photo=0&field=0&pd=3&ds=2022.04.15&de=2022.04.15&docid=&related=0&mynews=0&office_type=0&office_section_code=0&news_office_checked=&nso=so%3Ar%2Cp%3Afrom20220415to20220415&is_sug_officeid=0\n",
      "https://search.naver.com/search.naver?where=news&sm=tab_pge&query=%EC%BD%94%EC%8A%A4%ED%94%BC%20%EA%B2%BD%EC%A0%9C&sort=0&photo=0&field=0&pd=3&ds=2022.04.15&de=2022.04.15&cluster_rank=17&mynews=0&office_type=0&office_section_code=0&news_office_checked=&nso=so:r,p:from20220415to20220415,a:all&start=11\n",
      "https://search.naver.com/search.naver?where=news&sm=tab_pge&query=%EC%BD%94%EC%8A%A4%ED%94%BC%20%EA%B2%BD%EC%A0%9C&sort=0&photo=0&field=0&pd=3&ds=2022.04.15&de=2022.04.15&cluster_rank=28&mynews=0&office_type=0&office_section_code=0&news_office_checked=&nso=so:r,p:from20220415to20220415,a:all&start=21\n",
      "크롤링 준비\n"
     ]
    },
    {
     "name": "stderr",
     "output_type": "stream",
     "text": [
      "\n",
      "\n",
      "preprocessing day:  48%|██████████████████████████████▍                                | 15/31 [01:48<02:00,  7.55s/it]\u001b[A\u001b[A"
     ]
    },
    {
     "name": "stdout",
     "output_type": "stream",
     "text": [
      "다음날짜로 선택시작\n",
      "다음 날짜 선택 후 크롤링 준비\n",
      "https://search.naver.com/search.naver?where=news&query=%EC%BD%94%EC%8A%A4%ED%94%BC%20%EA%B2%BD%EC%A0%9C&sm=tab_opt&sort=0&photo=0&field=0&pd=3&ds=2022.04.16&de=2022.04.16&docid=&related=0&mynews=0&office_type=0&office_section_code=0&news_office_checked=&nso=so%3Ar%2Cp%3Afrom20220416to20220416&is_sug_officeid=0\n",
      "https://search.naver.com/search.naver?where=news&sm=tab_pge&query=%EC%BD%94%EC%8A%A4%ED%94%BC%20%EA%B2%BD%EC%A0%9C&sort=0&photo=0&field=0&pd=3&ds=2022.04.16&de=2022.04.16&cluster_rank=10&mynews=0&office_type=0&office_section_code=0&news_office_checked=&nso=so:r,p:from20220416to20220416,a:all&start=11\n",
      "https://search.naver.com/search.naver?where=news&sm=tab_pge&query=%EC%BD%94%EC%8A%A4%ED%94%BC%20%EA%B2%BD%EC%A0%9C&sort=0&photo=0&field=0&pd=3&ds=2022.04.16&de=2022.04.16&cluster_rank=10&mynews=0&office_type=0&office_section_code=0&news_office_checked=&nso=so:r,p:from20220416to20220416,a:all&start=11\n",
      "크롤링 준비\n"
     ]
    },
    {
     "name": "stderr",
     "output_type": "stream",
     "text": [
      "\n",
      "\n",
      "preprocessing day:  52%|████████████████████████████████▌                              | 16/31 [01:55<01:51,  7.47s/it]\u001b[A\u001b[A"
     ]
    },
    {
     "name": "stdout",
     "output_type": "stream",
     "text": [
      "다음날짜로 선택시작\n",
      "다음 날짜 선택 후 크롤링 준비\n",
      "https://search.naver.com/search.naver?where=news&query=%EC%BD%94%EC%8A%A4%ED%94%BC%20%EA%B2%BD%EC%A0%9C&sm=tab_opt&sort=0&photo=0&field=0&pd=3&ds=2022.04.17&de=2022.04.17&docid=&related=0&mynews=0&office_type=0&office_section_code=0&news_office_checked=&nso=so%3Ar%2Cp%3Afrom20220417to20220417&is_sug_officeid=0\n",
      "https://search.naver.com/search.naver?where=news&sm=tab_pge&query=%EC%BD%94%EC%8A%A4%ED%94%BC%20%EA%B2%BD%EC%A0%9C&sort=0&photo=0&field=0&pd=3&ds=2022.04.17&de=2022.04.17&cluster_rank=16&mynews=0&office_type=0&office_section_code=0&news_office_checked=&nso=so:r,p:from20220417to20220417,a:all&start=11\n",
      "https://search.naver.com/search.naver?where=news&sm=tab_pge&query=%EC%BD%94%EC%8A%A4%ED%94%BC%20%EA%B2%BD%EC%A0%9C&sort=0&photo=0&field=0&pd=3&ds=2022.04.17&de=2022.04.17&cluster_rank=26&mynews=0&office_type=0&office_section_code=0&news_office_checked=&nso=so:r,p:from20220417to20220417,a:all&start=21\n",
      "크롤링 준비\n"
     ]
    },
    {
     "name": "stderr",
     "output_type": "stream",
     "text": [
      "\n",
      "\n",
      "preprocessing day:  55%|██████████████████████████████████▌                            | 17/31 [02:03<01:45,  7.56s/it]\u001b[A\u001b[A"
     ]
    },
    {
     "name": "stdout",
     "output_type": "stream",
     "text": [
      "다음날짜로 선택시작\n",
      "다음 날짜 선택 후 크롤링 준비\n",
      "https://search.naver.com/search.naver?where=news&query=%EC%BD%94%EC%8A%A4%ED%94%BC%20%EA%B2%BD%EC%A0%9C&sm=tab_opt&sort=0&photo=0&field=0&pd=3&ds=2022.04.18&de=2022.04.18&docid=&related=0&mynews=0&office_type=0&office_section_code=0&news_office_checked=&nso=so%3Ar%2Cp%3Afrom20220418to20220418&is_sug_officeid=0\n",
      "https://search.naver.com/search.naver?where=news&sm=tab_pge&query=%EC%BD%94%EC%8A%A4%ED%94%BC%20%EA%B2%BD%EC%A0%9C&sort=0&photo=0&field=0&pd=3&ds=2022.04.18&de=2022.04.18&cluster_rank=15&mynews=0&office_type=0&office_section_code=0&news_office_checked=&nso=so:r,p:from20220418to20220418,a:all&start=11\n",
      "https://search.naver.com/search.naver?where=news&sm=tab_pge&query=%EC%BD%94%EC%8A%A4%ED%94%BC%20%EA%B2%BD%EC%A0%9C&sort=0&photo=0&field=0&pd=3&ds=2022.04.18&de=2022.04.18&cluster_rank=25&mynews=0&office_type=0&office_section_code=0&news_office_checked=&nso=so:r,p:from20220418to20220418,a:all&start=21\n",
      "크롤링 준비\n"
     ]
    },
    {
     "name": "stderr",
     "output_type": "stream",
     "text": [
      "\n",
      "\n",
      "preprocessing day:  58%|████████████████████████████████████▌                          | 18/31 [02:11<01:37,  7.50s/it]\u001b[A\u001b[A"
     ]
    },
    {
     "name": "stdout",
     "output_type": "stream",
     "text": [
      "다음날짜로 선택시작\n",
      "다음 날짜 선택 후 크롤링 준비\n",
      "https://search.naver.com/search.naver?where=news&query=%EC%BD%94%EC%8A%A4%ED%94%BC%20%EA%B2%BD%EC%A0%9C&sm=tab_opt&sort=0&photo=0&field=0&pd=3&ds=2022.04.19&de=2022.04.19&docid=&related=0&mynews=0&office_type=0&office_section_code=0&news_office_checked=&nso=so%3Ar%2Cp%3Afrom20220419to20220419&is_sug_officeid=0\n",
      "https://search.naver.com/search.naver?where=news&sm=tab_pge&query=%EC%BD%94%EC%8A%A4%ED%94%BC%20%EA%B2%BD%EC%A0%9C&sort=0&photo=0&field=0&pd=3&ds=2022.04.19&de=2022.04.19&cluster_rank=13&mynews=0&office_type=0&office_section_code=0&news_office_checked=&nso=so:r,p:from20220419to20220419,a:all&start=11\n",
      "https://search.naver.com/search.naver?where=news&sm=tab_pge&query=%EC%BD%94%EC%8A%A4%ED%94%BC%20%EA%B2%BD%EC%A0%9C&sort=0&photo=0&field=0&pd=3&ds=2022.04.19&de=2022.04.19&cluster_rank=24&mynews=0&office_type=0&office_section_code=0&news_office_checked=&nso=so:r,p:from20220419to20220419,a:all&start=21\n",
      "크롤링 준비\n"
     ]
    },
    {
     "name": "stderr",
     "output_type": "stream",
     "text": [
      "\n",
      "\n",
      "preprocessing day:  61%|██████████████████████████████████████▌                        | 19/31 [02:18<01:30,  7.57s/it]\u001b[A\u001b[A"
     ]
    },
    {
     "name": "stdout",
     "output_type": "stream",
     "text": [
      "다음날짜로 선택시작\n",
      "다음 날짜 선택 후 크롤링 준비\n",
      "https://search.naver.com/search.naver?where=news&query=%EC%BD%94%EC%8A%A4%ED%94%BC%20%EA%B2%BD%EC%A0%9C&sm=tab_opt&sort=0&photo=0&field=0&pd=3&ds=2022.04.20&de=2022.04.20&docid=&related=0&mynews=0&office_type=0&office_section_code=0&news_office_checked=&nso=so%3Ar%2Cp%3Afrom20220420to20220420&is_sug_officeid=0\n",
      "https://search.naver.com/search.naver?where=news&sm=tab_pge&query=%EC%BD%94%EC%8A%A4%ED%94%BC%20%EA%B2%BD%EC%A0%9C&sort=0&photo=0&field=0&pd=3&ds=2022.04.20&de=2022.04.20&cluster_rank=14&mynews=0&office_type=0&office_section_code=0&news_office_checked=&nso=so:r,p:from20220420to20220420,a:all&start=11\n",
      "https://search.naver.com/search.naver?where=news&sm=tab_pge&query=%EC%BD%94%EC%8A%A4%ED%94%BC%20%EA%B2%BD%EC%A0%9C&sort=0&photo=0&field=0&pd=3&ds=2022.04.20&de=2022.04.20&cluster_rank=24&mynews=0&office_type=0&office_section_code=0&news_office_checked=&nso=so:r,p:from20220420to20220420,a:all&start=21\n",
      "크롤링 준비\n"
     ]
    },
    {
     "name": "stderr",
     "output_type": "stream",
     "text": [
      "\n",
      "\n",
      "preprocessing day:  65%|████████████████████████████████████████▋                      | 20/31 [02:26<01:21,  7.45s/it]\u001b[A\u001b[A"
     ]
    },
    {
     "name": "stdout",
     "output_type": "stream",
     "text": [
      "다음날짜로 선택시작\n",
      "다음 날짜 선택 후 크롤링 준비\n",
      "https://search.naver.com/search.naver?where=news&query=%EC%BD%94%EC%8A%A4%ED%94%BC%20%EA%B2%BD%EC%A0%9C&sm=tab_opt&sort=0&photo=0&field=0&pd=3&ds=2022.04.21&de=2022.04.21&docid=&related=0&mynews=0&office_type=0&office_section_code=0&news_office_checked=&nso=so%3Ar%2Cp%3Afrom20220421to20220421&is_sug_officeid=0\n",
      "https://search.naver.com/search.naver?where=news&sm=tab_pge&query=%EC%BD%94%EC%8A%A4%ED%94%BC%20%EA%B2%BD%EC%A0%9C&sort=0&photo=0&field=0&pd=3&ds=2022.04.21&de=2022.04.21&cluster_rank=12&mynews=0&office_type=0&office_section_code=0&news_office_checked=&nso=so:r,p:from20220421to20220421,a:all&start=11\n",
      "https://search.naver.com/search.naver?where=news&sm=tab_pge&query=%EC%BD%94%EC%8A%A4%ED%94%BC%20%EA%B2%BD%EC%A0%9C&sort=0&photo=0&field=0&pd=3&ds=2022.04.21&de=2022.04.21&cluster_rank=26&mynews=0&office_type=0&office_section_code=0&news_office_checked=&nso=so:r,p:from20220421to20220421,a:all&start=21\n",
      "크롤링 준비\n"
     ]
    },
    {
     "name": "stderr",
     "output_type": "stream",
     "text": [
      "\n",
      "\n",
      "preprocessing day:  68%|██████████████████████████████████████████▋                    | 21/31 [02:33<01:13,  7.39s/it]\u001b[A\u001b[A"
     ]
    },
    {
     "name": "stdout",
     "output_type": "stream",
     "text": [
      "다음날짜로 선택시작\n",
      "다음 날짜 선택 후 크롤링 준비\n",
      "https://search.naver.com/search.naver?where=news&query=%EC%BD%94%EC%8A%A4%ED%94%BC%20%EA%B2%BD%EC%A0%9C&sm=tab_opt&sort=0&photo=0&field=0&pd=3&ds=2022.04.22&de=2022.04.22&docid=&related=0&mynews=0&office_type=0&office_section_code=0&news_office_checked=&nso=so%3Ar%2Cp%3Afrom20220422to20220422&is_sug_officeid=0\n",
      "https://search.naver.com/search.naver?where=news&sm=tab_pge&query=%EC%BD%94%EC%8A%A4%ED%94%BC%20%EA%B2%BD%EC%A0%9C&sort=0&photo=0&field=0&pd=3&ds=2022.04.22&de=2022.04.22&cluster_rank=12&mynews=0&office_type=0&office_section_code=0&news_office_checked=&nso=so:r,p:from20220422to20220422,a:all&start=11\n",
      "https://search.naver.com/search.naver?where=news&sm=tab_pge&query=%EC%BD%94%EC%8A%A4%ED%94%BC%20%EA%B2%BD%EC%A0%9C&sort=0&photo=0&field=0&pd=3&ds=2022.04.22&de=2022.04.22&cluster_rank=26&mynews=0&office_type=0&office_section_code=0&news_office_checked=&nso=so:r,p:from20220422to20220422,a:all&start=21\n",
      "크롤링 준비\n"
     ]
    },
    {
     "name": "stderr",
     "output_type": "stream",
     "text": [
      "\n",
      "\n",
      "preprocessing day:  71%|████████████████████████████████████████████▋                  | 22/31 [02:40<01:07,  7.47s/it]\u001b[A\u001b[A"
     ]
    },
    {
     "name": "stdout",
     "output_type": "stream",
     "text": [
      "다음날짜로 선택시작\n",
      "다음 날짜 선택 후 크롤링 준비\n",
      "https://search.naver.com/search.naver?where=news&query=%EC%BD%94%EC%8A%A4%ED%94%BC%20%EA%B2%BD%EC%A0%9C&sm=tab_opt&sort=0&photo=0&field=0&pd=3&ds=2022.04.23&de=2022.04.23&docid=&related=0&mynews=0&office_type=0&office_section_code=0&news_office_checked=&nso=so%3Ar%2Cp%3Afrom20220423to20220423&is_sug_officeid=0\n",
      "https://search.naver.com/search.naver?where=news&sm=tab_pge&query=%EC%BD%94%EC%8A%A4%ED%94%BC%20%EA%B2%BD%EC%A0%9C&sort=0&photo=0&field=0&pd=3&ds=2022.04.23&de=2022.04.23&cluster_rank=15&mynews=0&office_type=0&office_section_code=0&news_office_checked=&nso=so:r,p:from20220423to20220423,a:all&start=11\n",
      "https://search.naver.com/search.naver?where=news&sm=tab_pge&query=%EC%BD%94%EC%8A%A4%ED%94%BC%20%EA%B2%BD%EC%A0%9C&sort=0&photo=0&field=0&pd=3&ds=2022.04.23&de=2022.04.23&cluster_rank=15&mynews=0&office_type=0&office_section_code=0&news_office_checked=&nso=so:r,p:from20220423to20220423,a:all&start=11\n",
      "크롤링 준비\n"
     ]
    },
    {
     "name": "stderr",
     "output_type": "stream",
     "text": [
      "\n",
      "\n",
      "preprocessing day:  74%|██████████████████████████████████████████████▋                | 23/31 [02:47<00:57,  7.24s/it]\u001b[A\u001b[A"
     ]
    },
    {
     "name": "stdout",
     "output_type": "stream",
     "text": [
      "다음날짜로 선택시작\n",
      "다음 날짜 선택 후 크롤링 준비\n",
      "https://search.naver.com/search.naver?where=news&query=%EC%BD%94%EC%8A%A4%ED%94%BC%20%EA%B2%BD%EC%A0%9C&sm=tab_opt&sort=0&photo=0&field=0&pd=3&ds=2022.04.24&de=2022.04.24&docid=&related=0&mynews=0&office_type=0&office_section_code=0&news_office_checked=&nso=so%3Ar%2Cp%3Afrom20220424to20220424&is_sug_officeid=0\n",
      "https://search.naver.com/search.naver?where=news&sm=tab_pge&query=%EC%BD%94%EC%8A%A4%ED%94%BC%20%EA%B2%BD%EC%A0%9C&sort=0&photo=0&field=0&pd=3&ds=2022.04.24&de=2022.04.24&cluster_rank=15&mynews=0&office_type=0&office_section_code=0&news_office_checked=&nso=so:r,p:from20220424to20220424,a:all&start=11\n",
      "https://search.naver.com/search.naver?where=news&sm=tab_pge&query=%EC%BD%94%EC%8A%A4%ED%94%BC%20%EA%B2%BD%EC%A0%9C&sort=0&photo=0&field=0&pd=3&ds=2022.04.24&de=2022.04.24&cluster_rank=26&mynews=0&office_type=0&office_section_code=0&news_office_checked=&nso=so:r,p:from20220424to20220424,a:all&start=21\n",
      "크롤링 준비\n"
     ]
    },
    {
     "name": "stderr",
     "output_type": "stream",
     "text": [
      "\n",
      "\n",
      "preprocessing day:  77%|████████████████████████████████████████████████▊              | 24/31 [02:54<00:50,  7.17s/it]\u001b[A\u001b[A"
     ]
    },
    {
     "name": "stdout",
     "output_type": "stream",
     "text": [
      "다음날짜로 선택시작\n",
      "다음 날짜 선택 후 크롤링 준비\n",
      "https://search.naver.com/search.naver?where=news&query=%EC%BD%94%EC%8A%A4%ED%94%BC%20%EA%B2%BD%EC%A0%9C&sm=tab_opt&sort=0&photo=0&field=0&pd=3&ds=2022.04.25&de=2022.04.25&docid=&related=0&mynews=0&office_type=0&office_section_code=0&news_office_checked=&nso=so%3Ar%2Cp%3Afrom20220425to20220425&is_sug_officeid=0\n",
      "https://search.naver.com/search.naver?where=news&sm=tab_pge&query=%EC%BD%94%EC%8A%A4%ED%94%BC%20%EA%B2%BD%EC%A0%9C&sort=0&photo=0&field=0&pd=3&ds=2022.04.25&de=2022.04.25&cluster_rank=11&mynews=0&office_type=0&office_section_code=0&news_office_checked=&nso=so:r,p:from20220425to20220425,a:all&start=11\n",
      "https://search.naver.com/search.naver?where=news&sm=tab_pge&query=%EC%BD%94%EC%8A%A4%ED%94%BC%20%EA%B2%BD%EC%A0%9C&sort=0&photo=0&field=0&pd=3&ds=2022.04.25&de=2022.04.25&cluster_rank=21&mynews=0&office_type=0&office_section_code=0&news_office_checked=&nso=so:r,p:from20220425to20220425,a:all&start=21\n",
      "크롤링 준비\n"
     ]
    },
    {
     "name": "stderr",
     "output_type": "stream",
     "text": [
      "\n",
      "\n",
      "preprocessing day:  81%|██████████████████████████████████████████████████▊            | 25/31 [03:01<00:42,  7.15s/it]\u001b[A\u001b[A"
     ]
    },
    {
     "name": "stdout",
     "output_type": "stream",
     "text": [
      "다음날짜로 선택시작\n",
      "다음 날짜 선택 후 크롤링 준비\n",
      "https://search.naver.com/search.naver?where=news&query=%EC%BD%94%EC%8A%A4%ED%94%BC%20%EA%B2%BD%EC%A0%9C&sm=tab_opt&sort=0&photo=0&field=0&pd=3&ds=2022.04.26&de=2022.04.26&docid=&related=0&mynews=0&office_type=0&office_section_code=0&news_office_checked=&nso=so%3Ar%2Cp%3Afrom20220426to20220426&is_sug_officeid=0\n",
      "https://search.naver.com/search.naver?where=news&sm=tab_pge&query=%EC%BD%94%EC%8A%A4%ED%94%BC%20%EA%B2%BD%EC%A0%9C&sort=0&photo=0&field=0&pd=3&ds=2022.04.26&de=2022.04.26&cluster_rank=10&mynews=0&office_type=0&office_section_code=0&news_office_checked=&nso=so:r,p:from20220426to20220426,a:all&start=11\n",
      "https://search.naver.com/search.naver?where=news&sm=tab_pge&query=%EC%BD%94%EC%8A%A4%ED%94%BC%20%EA%B2%BD%EC%A0%9C&sort=0&photo=0&field=0&pd=3&ds=2022.04.26&de=2022.04.26&cluster_rank=20&mynews=0&office_type=0&office_section_code=0&news_office_checked=&nso=so:r,p:from20220426to20220426,a:all&start=21\n",
      "크롤링 준비\n"
     ]
    },
    {
     "name": "stderr",
     "output_type": "stream",
     "text": [
      "\n",
      "\n",
      "preprocessing day:  84%|████████████████████████████████████████████████████▊          | 26/31 [03:08<00:35,  7.07s/it]\u001b[A\u001b[A"
     ]
    },
    {
     "name": "stdout",
     "output_type": "stream",
     "text": [
      "다음날짜로 선택시작\n",
      "다음 날짜 선택 후 크롤링 준비\n",
      "https://search.naver.com/search.naver?where=news&query=%EC%BD%94%EC%8A%A4%ED%94%BC%20%EA%B2%BD%EC%A0%9C&sm=tab_opt&sort=0&photo=0&field=0&pd=3&ds=2022.04.27&de=2022.04.27&docid=&related=0&mynews=0&office_type=0&office_section_code=0&news_office_checked=&nso=so%3Ar%2Cp%3Afrom20220427to20220427&is_sug_officeid=0\n",
      "https://search.naver.com/search.naver?where=news&sm=tab_pge&query=%EC%BD%94%EC%8A%A4%ED%94%BC%20%EA%B2%BD%EC%A0%9C&sort=0&photo=0&field=0&pd=3&ds=2022.04.27&de=2022.04.27&cluster_rank=15&mynews=0&office_type=0&office_section_code=0&news_office_checked=&nso=so:r,p:from20220427to20220427,a:all&start=11\n",
      "https://search.naver.com/search.naver?where=news&sm=tab_pge&query=%EC%BD%94%EC%8A%A4%ED%94%BC%20%EA%B2%BD%EC%A0%9C&sort=0&photo=0&field=0&pd=3&ds=2022.04.27&de=2022.04.27&cluster_rank=25&mynews=0&office_type=0&office_section_code=0&news_office_checked=&nso=so:r,p:from20220427to20220427,a:all&start=21\n",
      "크롤링 준비\n"
     ]
    },
    {
     "name": "stderr",
     "output_type": "stream",
     "text": [
      "\n",
      "\n",
      "preprocessing day:  87%|██████████████████████████████████████████████████████▊        | 27/31 [03:15<00:28,  7.08s/it]\u001b[A\u001b[A"
     ]
    },
    {
     "name": "stdout",
     "output_type": "stream",
     "text": [
      "다음날짜로 선택시작\n",
      "다음 날짜 선택 후 크롤링 준비\n",
      "https://search.naver.com/search.naver?where=news&query=%EC%BD%94%EC%8A%A4%ED%94%BC%20%EA%B2%BD%EC%A0%9C&sm=tab_opt&sort=0&photo=0&field=0&pd=3&ds=2022.04.28&de=2022.04.28&docid=&related=0&mynews=0&office_type=0&office_section_code=0&news_office_checked=&nso=so%3Ar%2Cp%3Afrom20220428to20220428&is_sug_officeid=0\n",
      "https://search.naver.com/search.naver?where=news&sm=tab_pge&query=%EC%BD%94%EC%8A%A4%ED%94%BC%20%EA%B2%BD%EC%A0%9C&sort=0&photo=0&field=0&pd=3&ds=2022.04.28&de=2022.04.28&cluster_rank=12&mynews=0&office_type=0&office_section_code=0&news_office_checked=&nso=so:r,p:from20220428to20220428,a:all&start=11\n",
      "https://search.naver.com/search.naver?where=news&sm=tab_pge&query=%EC%BD%94%EC%8A%A4%ED%94%BC%20%EA%B2%BD%EC%A0%9C&sort=0&photo=0&field=0&pd=3&ds=2022.04.28&de=2022.04.28&cluster_rank=22&mynews=0&office_type=0&office_section_code=0&news_office_checked=&nso=so:r,p:from20220428to20220428,a:all&start=21\n",
      "크롤링 준비\n"
     ]
    },
    {
     "name": "stderr",
     "output_type": "stream",
     "text": [
      "\n",
      "\n",
      "preprocessing day:  90%|████████████████████████████████████████████████████████▉      | 28/31 [03:22<00:21,  7.10s/it]\u001b[A\u001b[A"
     ]
    },
    {
     "name": "stdout",
     "output_type": "stream",
     "text": [
      "다음날짜로 선택시작\n",
      "다음 날짜 선택 후 크롤링 준비\n",
      "https://search.naver.com/search.naver?where=news&query=%EC%BD%94%EC%8A%A4%ED%94%BC%20%EA%B2%BD%EC%A0%9C&sm=tab_opt&sort=0&photo=0&field=0&pd=3&ds=2022.04.29&de=2022.04.29&docid=&related=0&mynews=0&office_type=0&office_section_code=0&news_office_checked=&nso=so%3Ar%2Cp%3Afrom20220429to20220429&is_sug_officeid=0\n",
      "https://search.naver.com/search.naver?where=news&sm=tab_pge&query=%EC%BD%94%EC%8A%A4%ED%94%BC%20%EA%B2%BD%EC%A0%9C&sort=0&photo=0&field=0&pd=3&ds=2022.04.29&de=2022.04.29&cluster_rank=11&mynews=0&office_type=0&office_section_code=0&news_office_checked=&nso=so:r,p:from20220429to20220429,a:all&start=11\n",
      "https://search.naver.com/search.naver?where=news&sm=tab_pge&query=%EC%BD%94%EC%8A%A4%ED%94%BC%20%EA%B2%BD%EC%A0%9C&sort=0&photo=0&field=0&pd=3&ds=2022.04.29&de=2022.04.29&cluster_rank=21&mynews=0&office_type=0&office_section_code=0&news_office_checked=&nso=so:r,p:from20220429to20220429,a:all&start=21\n",
      "크롤링 준비\n"
     ]
    },
    {
     "name": "stderr",
     "output_type": "stream",
     "text": [
      "\n",
      "\n",
      "preprocessing day:  94%|██████████████████████████████████████████████████████████▉    | 29/31 [03:29<00:14,  7.06s/it]\u001b[A\u001b[A"
     ]
    },
    {
     "name": "stdout",
     "output_type": "stream",
     "text": [
      "다음날짜로 선택시작\n",
      "다음 날짜 선택 후 크롤링 준비\n",
      "https://search.naver.com/search.naver?where=news&query=%EC%BD%94%EC%8A%A4%ED%94%BC%20%EA%B2%BD%EC%A0%9C&sm=tab_opt&sort=0&photo=0&field=0&pd=3&ds=2022.04.30&de=2022.04.30&docid=&related=0&mynews=0&office_type=0&office_section_code=0&news_office_checked=&nso=so%3Ar%2Cp%3Afrom20220430to20220430&is_sug_officeid=0\n",
      "https://search.naver.com/search.naver?where=news&query=%EC%BD%94%EC%8A%A4%ED%94%BC%20%EA%B2%BD%EC%A0%9C&sm=tab_opt&sort=0&photo=0&field=0&pd=3&ds=2022.04.30&de=2022.04.30&docid=&related=0&mynews=0&office_type=0&office_section_code=0&news_office_checked=&nso=so%3Ar%2Cp%3Afrom20220430to20220430&is_sug_officeid=0\n",
      "크롤링 준비\n"
     ]
    },
    {
     "name": "stderr",
     "output_type": "stream",
     "text": [
      "\n",
      "\n",
      "preprocessing day:  97%|████████████████████████████████████████████████████████████▉  | 30/31 [03:36<00:06,  6.91s/it]\u001b[A\u001b[A"
     ]
    },
    {
     "name": "stdout",
     "output_type": "stream",
     "text": [
      "다음날짜로 선택시작\n"
     ]
    },
    {
     "name": "stderr",
     "output_type": "stream",
     "text": [
      "\n",
      "\n",
      "preprocessing day: 100%|███████████████████████████████████████████████████████████████| 31/31 [03:37<00:00,  7.02s/it]\u001b[A\u001b[A\n",
      "\n",
      "preprocessing month:  33%|████████████████████▎                                        | 4/12 [14:36<29:10, 218.80s/it]\u001b[A"
     ]
    },
    {
     "name": "stdout",
     "output_type": "stream",
     "text": [
      "An error occurred while crawling for 2022-4-31: Message: no such element: Unable to locate element: {\"method\":\"xpath\",\"selector\":\"/html/body/div[3]/div[2]/div/div[1]/div[1]/div[2]/ul/li[2]/div/div[3]/div[2]/div[3]/div/div/div/ul/li[31]\"}\n",
      "  (Session info: headless chrome=115.0.5790.171); For documentation on this error, please visit: https://www.selenium.dev/documentation/webdriver/troubleshooting/errors#no-such-element-exception\n",
      "Stacktrace:\n",
      "Backtrace:\n",
      "\tGetHandleVerifier [0x00007FF6B65D4A62+57106]\n",
      "\t(No symbol) [0x00007FF6B654CF52]\n",
      "\t(No symbol) [0x00007FF6B641E2CB]\n",
      "\t(No symbol) [0x00007FF6B645786E]\n",
      "\t(No symbol) [0x00007FF6B645795C]\n",
      "\t(No symbol) [0x00007FF6B6490477]\n",
      "\t(No symbol) [0x00007FF6B64769FF]\n",
      "\t(No symbol) [0x00007FF6B648E522]\n",
      "\t(No symbol) [0x00007FF6B6476793]\n",
      "\t(No symbol) [0x00007FF6B644CE81]\n",
      "\t(No symbol) [0x00007FF6B644E064]\n",
      "\tGetHandleVerifier [0x00007FF6B6884222+2873042]\n",
      "\tGetHandleVerifier [0x00007FF6B68D6590+3209792]\n",
      "\tGetHandleVerifier [0x00007FF6B68CF3AF+3180639]\n",
      "\tGetHandleVerifier [0x00007FF6B6665F25+652245]\n",
      "\t(No symbol) [0x00007FF6B6558618]\n",
      "\t(No symbol) [0x00007FF6B65547C4]\n",
      "\t(No symbol) [0x00007FF6B65548BC]\n",
      "\t(No symbol) [0x00007FF6B6544C33]\n",
      "\tBaseThreadInitThunk [0x00007FFBFCDD7614+20]\n",
      "\tRtlUserThreadStart [0x00007FFBFD9226B1+33]\n",
      "\n"
     ]
    },
    {
     "name": "stderr",
     "output_type": "stream",
     "text": [
      "\n",
      "\n",
      "preprocessing day:   0%|                                                                        | 0/31 [00:00<?, ?it/s]\u001b[A\u001b[A"
     ]
    },
    {
     "name": "stdout",
     "output_type": "stream",
     "text": [
      "다음 날짜 선택 후 크롤링 준비\n",
      "https://search.naver.com/search.naver?where=news&query=%EC%BD%94%EC%8A%A4%ED%94%BC%20%EA%B2%BD%EC%A0%9C&sm=tab_opt&sort=0&photo=0&field=0&pd=3&ds=2022.05.01&de=2022.05.01&docid=&related=0&mynews=0&office_type=0&office_section_code=0&news_office_checked=&nso=so%3Ar%2Cp%3Afrom20220501to20220501&is_sug_officeid=0\n",
      "https://search.naver.com/search.naver?where=news&sm=tab_pge&query=%EC%BD%94%EC%8A%A4%ED%94%BC%20%EA%B2%BD%EC%A0%9C&sort=0&photo=0&field=0&pd=3&ds=2022.05.01&de=2022.05.01&cluster_rank=13&mynews=0&office_type=0&office_section_code=0&news_office_checked=&nso=so:r,p:from20220501to20220501,a:all&start=11\n",
      "https://search.naver.com/search.naver?where=news&sm=tab_pge&query=%EC%BD%94%EC%8A%A4%ED%94%BC%20%EA%B2%BD%EC%A0%9C&sort=0&photo=0&field=0&pd=3&ds=2022.05.01&de=2022.05.01&cluster_rank=13&mynews=0&office_type=0&office_section_code=0&news_office_checked=&nso=so:r,p:from20220501to20220501,a:all&start=11\n",
      "크롤링 준비\n"
     ]
    },
    {
     "name": "stderr",
     "output_type": "stream",
     "text": [
      "\n",
      "\n",
      "preprocessing day:   3%|██                                                              | 1/31 [00:07<03:40,  7.34s/it]\u001b[A\u001b[A"
     ]
    },
    {
     "name": "stdout",
     "output_type": "stream",
     "text": [
      "다음날짜로 선택시작\n",
      "다음 날짜 선택 후 크롤링 준비\n",
      "https://search.naver.com/search.naver?where=news&query=%EC%BD%94%EC%8A%A4%ED%94%BC%20%EA%B2%BD%EC%A0%9C&sm=tab_opt&sort=0&photo=0&field=0&pd=3&ds=2022.05.02&de=2022.05.02&docid=&related=0&mynews=0&office_type=0&office_section_code=0&news_office_checked=&nso=so%3Ar%2Cp%3Afrom20220502to20220502&is_sug_officeid=0\n",
      "https://search.naver.com/search.naver?where=news&sm=tab_pge&query=%EC%BD%94%EC%8A%A4%ED%94%BC%20%EA%B2%BD%EC%A0%9C&sort=0&photo=0&field=0&pd=3&ds=2022.05.02&de=2022.05.02&cluster_rank=14&mynews=0&office_type=0&office_section_code=0&news_office_checked=&nso=so:r,p:from20220502to20220502,a:all&start=11\n",
      "https://search.naver.com/search.naver?where=news&sm=tab_pge&query=%EC%BD%94%EC%8A%A4%ED%94%BC%20%EA%B2%BD%EC%A0%9C&sort=0&photo=0&field=0&pd=3&ds=2022.05.02&de=2022.05.02&cluster_rank=32&mynews=0&office_type=0&office_section_code=0&news_office_checked=&nso=so:r,p:from20220502to20220502,a:all&start=21\n",
      "크롤링 준비\n"
     ]
    },
    {
     "name": "stderr",
     "output_type": "stream",
     "text": [
      "\n",
      "\n",
      "preprocessing day:   6%|████▏                                                           | 2/31 [00:14<03:24,  7.05s/it]\u001b[A\u001b[A"
     ]
    },
    {
     "name": "stdout",
     "output_type": "stream",
     "text": [
      "다음날짜로 선택시작\n",
      "다음 날짜 선택 후 크롤링 준비\n",
      "https://search.naver.com/search.naver?where=news&query=%EC%BD%94%EC%8A%A4%ED%94%BC%20%EA%B2%BD%EC%A0%9C&sm=tab_opt&sort=0&photo=0&field=0&pd=3&ds=2022.05.03&de=2022.05.03&docid=&related=0&mynews=0&office_type=0&office_section_code=0&news_office_checked=&nso=so%3Ar%2Cp%3Afrom20220503to20220503&is_sug_officeid=0\n",
      "https://search.naver.com/search.naver?where=news&sm=tab_pge&query=%EC%BD%94%EC%8A%A4%ED%94%BC%20%EA%B2%BD%EC%A0%9C&sort=0&photo=0&field=0&pd=3&ds=2022.05.03&de=2022.05.03&cluster_rank=10&mynews=0&office_type=0&office_section_code=0&news_office_checked=&nso=so:r,p:from20220503to20220503,a:all&start=11\n",
      "https://search.naver.com/search.naver?where=news&sm=tab_pge&query=%EC%BD%94%EC%8A%A4%ED%94%BC%20%EA%B2%BD%EC%A0%9C&sort=0&photo=0&field=0&pd=3&ds=2022.05.03&de=2022.05.03&cluster_rank=23&mynews=0&office_type=0&office_section_code=0&news_office_checked=&nso=so:r,p:from20220503to20220503,a:all&start=21\n",
      "크롤링 준비\n"
     ]
    },
    {
     "name": "stderr",
     "output_type": "stream",
     "text": [
      "\n",
      "\n",
      "preprocessing day:  10%|██████▏                                                         | 3/31 [00:22<03:29,  7.50s/it]\u001b[A\u001b[A"
     ]
    },
    {
     "name": "stdout",
     "output_type": "stream",
     "text": [
      "다음날짜로 선택시작\n",
      "다음 날짜 선택 후 크롤링 준비\n",
      "https://search.naver.com/search.naver?where=news&query=%EC%BD%94%EC%8A%A4%ED%94%BC%20%EA%B2%BD%EC%A0%9C&sm=tab_opt&sort=0&photo=0&field=0&pd=3&ds=2022.05.04&de=2022.05.04&docid=&related=0&mynews=0&office_type=0&office_section_code=0&news_office_checked=&nso=so%3Ar%2Cp%3Afrom20220504to20220504&is_sug_officeid=0\n",
      "https://search.naver.com/search.naver?where=news&sm=tab_pge&query=%EC%BD%94%EC%8A%A4%ED%94%BC%20%EA%B2%BD%EC%A0%9C&sort=0&photo=0&field=0&pd=3&ds=2022.05.04&de=2022.05.04&cluster_rank=10&mynews=0&office_type=0&office_section_code=0&news_office_checked=&nso=so:r,p:from20220504to20220504,a:all&start=11\n",
      "https://search.naver.com/search.naver?where=news&sm=tab_pge&query=%EC%BD%94%EC%8A%A4%ED%94%BC%20%EA%B2%BD%EC%A0%9C&sort=0&photo=0&field=0&pd=3&ds=2022.05.04&de=2022.05.04&cluster_rank=20&mynews=0&office_type=0&office_section_code=0&news_office_checked=&nso=so:r,p:from20220504to20220504,a:all&start=21\n",
      "크롤링 준비\n"
     ]
    },
    {
     "name": "stderr",
     "output_type": "stream",
     "text": [
      "\n",
      "\n",
      "preprocessing day:  13%|████████▎                                                       | 4/31 [00:30<03:26,  7.65s/it]\u001b[A\u001b[A"
     ]
    },
    {
     "name": "stdout",
     "output_type": "stream",
     "text": [
      "다음날짜로 선택시작\n",
      "다음 날짜 선택 후 크롤링 준비\n",
      "https://search.naver.com/search.naver?where=news&query=%EC%BD%94%EC%8A%A4%ED%94%BC%20%EA%B2%BD%EC%A0%9C&sm=tab_opt&sort=0&photo=0&field=0&pd=3&ds=2022.05.05&de=2022.05.05&docid=&related=0&mynews=0&office_type=0&office_section_code=0&news_office_checked=&nso=so%3Ar%2Cp%3Afrom20220505to20220505&is_sug_officeid=0\n",
      "https://search.naver.com/search.naver?where=news&sm=tab_pge&query=%EC%BD%94%EC%8A%A4%ED%94%BC%20%EA%B2%BD%EC%A0%9C&sort=0&photo=0&field=0&pd=3&ds=2022.05.05&de=2022.05.05&cluster_rank=12&mynews=0&office_type=0&office_section_code=0&news_office_checked=&nso=so:r,p:from20220505to20220505,a:all&start=11\n",
      "https://search.naver.com/search.naver?where=news&sm=tab_pge&query=%EC%BD%94%EC%8A%A4%ED%94%BC%20%EA%B2%BD%EC%A0%9C&sort=0&photo=0&field=0&pd=3&ds=2022.05.05&de=2022.05.05&cluster_rank=12&mynews=0&office_type=0&office_section_code=0&news_office_checked=&nso=so:r,p:from20220505to20220505,a:all&start=11\n",
      "크롤링 준비\n"
     ]
    },
    {
     "name": "stderr",
     "output_type": "stream",
     "text": [
      "\n",
      "\n",
      "preprocessing day:  16%|██████████▎                                                     | 5/31 [00:37<03:18,  7.63s/it]\u001b[A\u001b[A"
     ]
    },
    {
     "name": "stdout",
     "output_type": "stream",
     "text": [
      "다음날짜로 선택시작\n",
      "다음 날짜 선택 후 크롤링 준비\n",
      "https://search.naver.com/search.naver?where=news&query=%EC%BD%94%EC%8A%A4%ED%94%BC%20%EA%B2%BD%EC%A0%9C&sm=tab_opt&sort=0&photo=0&field=0&pd=3&ds=2022.05.06&de=2022.05.06&docid=&related=0&mynews=0&office_type=0&office_section_code=0&news_office_checked=&nso=so%3Ar%2Cp%3Afrom20220506to20220506&is_sug_officeid=0\n",
      "https://search.naver.com/search.naver?where=news&sm=tab_pge&query=%EC%BD%94%EC%8A%A4%ED%94%BC%20%EA%B2%BD%EC%A0%9C&sort=0&photo=0&field=0&pd=3&ds=2022.05.06&de=2022.05.06&cluster_rank=23&mynews=0&office_type=0&office_section_code=0&news_office_checked=&nso=so:r,p:from20220506to20220506,a:all&start=11\n",
      "https://search.naver.com/search.naver?where=news&sm=tab_pge&query=%EC%BD%94%EC%8A%A4%ED%94%BC%20%EA%B2%BD%EC%A0%9C&sort=0&photo=0&field=0&pd=3&ds=2022.05.06&de=2022.05.06&cluster_rank=38&mynews=0&office_type=0&office_section_code=0&news_office_checked=&nso=so:r,p:from20220506to20220506,a:all&start=21\n",
      "크롤링 준비\n"
     ]
    },
    {
     "name": "stderr",
     "output_type": "stream",
     "text": [
      "\n",
      "\n",
      "preprocessing day:  19%|████████████▍                                                   | 6/31 [00:45<03:10,  7.61s/it]\u001b[A\u001b[A"
     ]
    },
    {
     "name": "stdout",
     "output_type": "stream",
     "text": [
      "다음날짜로 선택시작\n",
      "다음 날짜 선택 후 크롤링 준비\n",
      "https://search.naver.com/search.naver?where=news&query=%EC%BD%94%EC%8A%A4%ED%94%BC%20%EA%B2%BD%EC%A0%9C&sm=tab_opt&sort=0&photo=0&field=0&pd=3&ds=2022.05.07&de=2022.05.07&docid=&related=0&mynews=0&office_type=0&office_section_code=0&news_office_checked=&nso=so%3Ar%2Cp%3Afrom20220507to20220507&is_sug_officeid=0\n",
      "https://search.naver.com/search.naver?where=news&sm=tab_pge&query=%EC%BD%94%EC%8A%A4%ED%94%BC%20%EA%B2%BD%EC%A0%9C&sort=0&photo=0&field=0&pd=3&ds=2022.05.07&de=2022.05.07&cluster_rank=16&mynews=0&office_type=0&office_section_code=0&news_office_checked=&nso=so:r,p:from20220507to20220507,a:all&start=11\n",
      "https://search.naver.com/search.naver?where=news&sm=tab_pge&query=%EC%BD%94%EC%8A%A4%ED%94%BC%20%EA%B2%BD%EC%A0%9C&sort=0&photo=0&field=0&pd=3&ds=2022.05.07&de=2022.05.07&cluster_rank=16&mynews=0&office_type=0&office_section_code=0&news_office_checked=&nso=so:r,p:from20220507to20220507,a:all&start=11\n",
      "크롤링 준비\n"
     ]
    },
    {
     "name": "stderr",
     "output_type": "stream",
     "text": [
      "\n",
      "\n",
      "preprocessing day:  23%|██████████████▍                                                 | 7/31 [00:52<02:56,  7.33s/it]\u001b[A\u001b[A"
     ]
    },
    {
     "name": "stdout",
     "output_type": "stream",
     "text": [
      "다음날짜로 선택시작\n",
      "다음 날짜 선택 후 크롤링 준비\n",
      "https://search.naver.com/search.naver?where=news&query=%EC%BD%94%EC%8A%A4%ED%94%BC%20%EA%B2%BD%EC%A0%9C&sm=tab_opt&sort=0&photo=0&field=0&pd=3&ds=2022.05.08&de=2022.05.08&docid=&related=0&mynews=0&office_type=0&office_section_code=0&news_office_checked=&nso=so%3Ar%2Cp%3Afrom20220508to20220508&is_sug_officeid=0\n",
      "https://search.naver.com/search.naver?where=news&sm=tab_pge&query=%EC%BD%94%EC%8A%A4%ED%94%BC%20%EA%B2%BD%EC%A0%9C&sort=0&photo=0&field=0&pd=3&ds=2022.05.08&de=2022.05.08&cluster_rank=16&mynews=0&office_type=0&office_section_code=0&news_office_checked=&nso=so:r,p:from20220508to20220508,a:all&start=11\n",
      "https://search.naver.com/search.naver?where=news&sm=tab_pge&query=%EC%BD%94%EC%8A%A4%ED%94%BC%20%EA%B2%BD%EC%A0%9C&sort=0&photo=0&field=0&pd=3&ds=2022.05.08&de=2022.05.08&cluster_rank=31&mynews=0&office_type=0&office_section_code=0&news_office_checked=&nso=so:r,p:from20220508to20220508,a:all&start=21\n",
      "크롤링 준비\n"
     ]
    },
    {
     "name": "stderr",
     "output_type": "stream",
     "text": [
      "\n",
      "\n",
      "preprocessing day:  26%|████████████████▌                                               | 8/31 [00:59<02:50,  7.40s/it]\u001b[A\u001b[A"
     ]
    },
    {
     "name": "stdout",
     "output_type": "stream",
     "text": [
      "다음날짜로 선택시작\n",
      "다음 날짜 선택 후 크롤링 준비\n",
      "https://search.naver.com/search.naver?where=news&query=%EC%BD%94%EC%8A%A4%ED%94%BC%20%EA%B2%BD%EC%A0%9C&sm=tab_opt&sort=0&photo=0&field=0&pd=3&ds=2022.05.09&de=2022.05.09&docid=&related=0&mynews=0&office_type=0&office_section_code=0&news_office_checked=&nso=so%3Ar%2Cp%3Afrom20220509to20220509&is_sug_officeid=0\n",
      "https://search.naver.com/search.naver?where=news&sm=tab_pge&query=%EC%BD%94%EC%8A%A4%ED%94%BC%20%EA%B2%BD%EC%A0%9C&sort=0&photo=0&field=0&pd=3&ds=2022.05.09&de=2022.05.09&cluster_rank=11&mynews=0&office_type=0&office_section_code=0&news_office_checked=&nso=so:r,p:from20220509to20220509,a:all&start=11\n",
      "https://search.naver.com/search.naver?where=news&sm=tab_pge&query=%EC%BD%94%EC%8A%A4%ED%94%BC%20%EA%B2%BD%EC%A0%9C&sort=0&photo=0&field=0&pd=3&ds=2022.05.09&de=2022.05.09&cluster_rank=23&mynews=0&office_type=0&office_section_code=0&news_office_checked=&nso=so:r,p:from20220509to20220509,a:all&start=21\n",
      "크롤링 준비\n"
     ]
    },
    {
     "name": "stderr",
     "output_type": "stream",
     "text": [
      "\n",
      "\n",
      "preprocessing day:  29%|██████████████████▌                                             | 9/31 [01:06<02:43,  7.41s/it]\u001b[A\u001b[A"
     ]
    },
    {
     "name": "stdout",
     "output_type": "stream",
     "text": [
      "다음날짜로 선택시작\n",
      "다음 날짜 선택 후 크롤링 준비\n",
      "https://search.naver.com/search.naver?where=news&query=%EC%BD%94%EC%8A%A4%ED%94%BC%20%EA%B2%BD%EC%A0%9C&sm=tab_opt&sort=0&photo=0&field=0&pd=3&ds=2022.05.10&de=2022.05.10&docid=&related=0&mynews=0&office_type=0&office_section_code=0&news_office_checked=&nso=so%3Ar%2Cp%3Afrom20220510to20220510&is_sug_officeid=0\n",
      "https://search.naver.com/search.naver?where=news&sm=tab_pge&query=%EC%BD%94%EC%8A%A4%ED%94%BC%20%EA%B2%BD%EC%A0%9C&sort=0&photo=0&field=0&pd=3&ds=2022.05.10&de=2022.05.10&cluster_rank=14&mynews=0&office_type=0&office_section_code=0&news_office_checked=&nso=so:r,p:from20220510to20220510,a:all&start=11\n",
      "https://search.naver.com/search.naver?where=news&sm=tab_pge&query=%EC%BD%94%EC%8A%A4%ED%94%BC%20%EA%B2%BD%EC%A0%9C&sort=0&photo=0&field=0&pd=3&ds=2022.05.10&de=2022.05.10&cluster_rank=24&mynews=0&office_type=0&office_section_code=0&news_office_checked=&nso=so:r,p:from20220510to20220510,a:all&start=21\n",
      "크롤링 준비\n"
     ]
    },
    {
     "name": "stderr",
     "output_type": "stream",
     "text": [
      "\n",
      "\n",
      "preprocessing day:  32%|████████████████████▎                                          | 10/31 [01:14<02:35,  7.41s/it]\u001b[A\u001b[A"
     ]
    },
    {
     "name": "stdout",
     "output_type": "stream",
     "text": [
      "다음날짜로 선택시작\n",
      "다음 날짜 선택 후 크롤링 준비\n",
      "https://search.naver.com/search.naver?where=news&query=%EC%BD%94%EC%8A%A4%ED%94%BC%20%EA%B2%BD%EC%A0%9C&sm=tab_opt&sort=0&photo=0&field=0&pd=3&ds=2022.05.11&de=2022.05.11&docid=&related=0&mynews=0&office_type=0&office_section_code=0&news_office_checked=&nso=so%3Ar%2Cp%3Afrom20220511to20220511&is_sug_officeid=0\n",
      "https://search.naver.com/search.naver?where=news&sm=tab_pge&query=%EC%BD%94%EC%8A%A4%ED%94%BC%20%EA%B2%BD%EC%A0%9C&sort=0&photo=0&field=0&pd=3&ds=2022.05.11&de=2022.05.11&cluster_rank=10&mynews=0&office_type=0&office_section_code=0&news_office_checked=&nso=so:r,p:from20220511to20220511,a:all&start=11\n",
      "https://search.naver.com/search.naver?where=news&sm=tab_pge&query=%EC%BD%94%EC%8A%A4%ED%94%BC%20%EA%B2%BD%EC%A0%9C&sort=0&photo=0&field=0&pd=3&ds=2022.05.11&de=2022.05.11&cluster_rank=20&mynews=0&office_type=0&office_section_code=0&news_office_checked=&nso=so:r,p:from20220511to20220511,a:all&start=21\n",
      "크롤링 준비\n"
     ]
    },
    {
     "name": "stderr",
     "output_type": "stream",
     "text": [
      "\n",
      "\n",
      "preprocessing day:  35%|██████████████████████▎                                        | 11/31 [01:22<02:29,  7.49s/it]\u001b[A\u001b[A"
     ]
    },
    {
     "name": "stdout",
     "output_type": "stream",
     "text": [
      "다음날짜로 선택시작\n",
      "다음 날짜 선택 후 크롤링 준비\n",
      "https://search.naver.com/search.naver?where=news&query=%EC%BD%94%EC%8A%A4%ED%94%BC%20%EA%B2%BD%EC%A0%9C&sm=tab_opt&sort=0&photo=0&field=0&pd=3&ds=2022.05.12&de=2022.05.12&docid=&related=0&mynews=0&office_type=0&office_section_code=0&news_office_checked=&nso=so%3Ar%2Cp%3Afrom20220512to20220512&is_sug_officeid=0\n",
      "https://search.naver.com/search.naver?where=news&sm=tab_pge&query=%EC%BD%94%EC%8A%A4%ED%94%BC%20%EA%B2%BD%EC%A0%9C&sort=0&photo=0&field=0&pd=3&ds=2022.05.12&de=2022.05.12&cluster_rank=13&mynews=0&office_type=0&office_section_code=0&news_office_checked=&nso=so:r,p:from20220512to20220512,a:all&start=11\n",
      "https://search.naver.com/search.naver?where=news&sm=tab_pge&query=%EC%BD%94%EC%8A%A4%ED%94%BC%20%EA%B2%BD%EC%A0%9C&sort=0&photo=0&field=0&pd=3&ds=2022.05.12&de=2022.05.12&cluster_rank=23&mynews=0&office_type=0&office_section_code=0&news_office_checked=&nso=so:r,p:from20220512to20220512,a:all&start=21\n",
      "크롤링 준비\n"
     ]
    },
    {
     "name": "stderr",
     "output_type": "stream",
     "text": [
      "\n",
      "\n",
      "preprocessing day:  39%|████████████████████████▍                                      | 12/31 [01:29<02:19,  7.37s/it]\u001b[A\u001b[A"
     ]
    },
    {
     "name": "stdout",
     "output_type": "stream",
     "text": [
      "다음날짜로 선택시작\n",
      "다음 날짜 선택 후 크롤링 준비\n",
      "https://search.naver.com/search.naver?where=news&query=%EC%BD%94%EC%8A%A4%ED%94%BC%20%EA%B2%BD%EC%A0%9C&sm=tab_opt&sort=0&photo=0&field=0&pd=3&ds=2022.05.13&de=2022.05.13&docid=&related=0&mynews=0&office_type=0&office_section_code=0&news_office_checked=&nso=so%3Ar%2Cp%3Afrom20220513to20220513&is_sug_officeid=0\n",
      "https://search.naver.com/search.naver?where=news&sm=tab_pge&query=%EC%BD%94%EC%8A%A4%ED%94%BC%20%EA%B2%BD%EC%A0%9C&sort=0&photo=0&field=0&pd=3&ds=2022.05.13&de=2022.05.13&cluster_rank=14&mynews=0&office_type=0&office_section_code=0&news_office_checked=&nso=so:r,p:from20220513to20220513,a:all&start=11\n",
      "https://search.naver.com/search.naver?where=news&sm=tab_pge&query=%EC%BD%94%EC%8A%A4%ED%94%BC%20%EA%B2%BD%EC%A0%9C&sort=0&photo=0&field=0&pd=3&ds=2022.05.13&de=2022.05.13&cluster_rank=24&mynews=0&office_type=0&office_section_code=0&news_office_checked=&nso=so:r,p:from20220513to20220513,a:all&start=21\n",
      "크롤링 준비\n"
     ]
    },
    {
     "name": "stderr",
     "output_type": "stream",
     "text": [
      "\n",
      "\n",
      "preprocessing day:  42%|██████████████████████████▍                                    | 13/31 [01:36<02:12,  7.37s/it]\u001b[A\u001b[A"
     ]
    },
    {
     "name": "stdout",
     "output_type": "stream",
     "text": [
      "다음날짜로 선택시작\n",
      "다음 날짜 선택 후 크롤링 준비\n",
      "https://search.naver.com/search.naver?where=news&query=%EC%BD%94%EC%8A%A4%ED%94%BC%20%EA%B2%BD%EC%A0%9C&sm=tab_opt&sort=0&photo=0&field=0&pd=3&ds=2022.05.14&de=2022.05.14&docid=&related=0&mynews=0&office_type=0&office_section_code=0&news_office_checked=&nso=so%3Ar%2Cp%3Afrom20220514to20220514&is_sug_officeid=0\n",
      "https://search.naver.com/search.naver?where=news&query=%EC%BD%94%EC%8A%A4%ED%94%BC%20%EA%B2%BD%EC%A0%9C&sm=tab_opt&sort=0&photo=0&field=0&pd=3&ds=2022.05.14&de=2022.05.14&docid=&related=0&mynews=0&office_type=0&office_section_code=0&news_office_checked=&nso=so%3Ar%2Cp%3Afrom20220514to20220514&is_sug_officeid=0\n",
      "크롤링 준비\n"
     ]
    },
    {
     "name": "stderr",
     "output_type": "stream",
     "text": [
      "\n",
      "\n",
      "preprocessing day:  45%|████████████████████████████▍                                  | 14/31 [01:42<01:59,  7.05s/it]\u001b[A\u001b[A"
     ]
    },
    {
     "name": "stdout",
     "output_type": "stream",
     "text": [
      "다음날짜로 선택시작\n",
      "다음 날짜 선택 후 크롤링 준비\n",
      "https://search.naver.com/search.naver?where=news&query=%EC%BD%94%EC%8A%A4%ED%94%BC%20%EA%B2%BD%EC%A0%9C&sm=tab_opt&sort=0&photo=0&field=0&pd=3&ds=2022.05.15&de=2022.05.15&docid=&related=0&mynews=0&office_type=0&office_section_code=0&news_office_checked=&nso=so%3Ar%2Cp%3Afrom20220515to20220515&is_sug_officeid=0\n",
      "https://search.naver.com/search.naver?where=news&sm=tab_pge&query=%EC%BD%94%EC%8A%A4%ED%94%BC%20%EA%B2%BD%EC%A0%9C&sort=0&photo=0&field=0&pd=3&ds=2022.05.15&de=2022.05.15&cluster_rank=13&mynews=0&office_type=0&office_section_code=0&news_office_checked=&nso=so:r,p:from20220515to20220515,a:all&start=11\n",
      "https://search.naver.com/search.naver?where=news&sm=tab_pge&query=%EC%BD%94%EC%8A%A4%ED%94%BC%20%EA%B2%BD%EC%A0%9C&sort=0&photo=0&field=0&pd=3&ds=2022.05.15&de=2022.05.15&cluster_rank=23&mynews=0&office_type=0&office_section_code=0&news_office_checked=&nso=so:r,p:from20220515to20220515,a:all&start=21\n",
      "크롤링 준비\n"
     ]
    },
    {
     "name": "stderr",
     "output_type": "stream",
     "text": [
      "\n",
      "\n",
      "preprocessing day:  48%|██████████████████████████████▍                                | 15/31 [01:49<01:52,  7.04s/it]\u001b[A\u001b[A"
     ]
    },
    {
     "name": "stdout",
     "output_type": "stream",
     "text": [
      "다음날짜로 선택시작\n",
      "다음 날짜 선택 후 크롤링 준비\n",
      "https://search.naver.com/search.naver?where=news&query=%EC%BD%94%EC%8A%A4%ED%94%BC%20%EA%B2%BD%EC%A0%9C&sm=tab_opt&sort=0&photo=0&field=0&pd=3&ds=2022.05.16&de=2022.05.16&docid=&related=0&mynews=0&office_type=0&office_section_code=0&news_office_checked=&nso=so%3Ar%2Cp%3Afrom20220516to20220516&is_sug_officeid=0\n",
      "https://search.naver.com/search.naver?where=news&sm=tab_pge&query=%EC%BD%94%EC%8A%A4%ED%94%BC%20%EA%B2%BD%EC%A0%9C&sort=0&photo=0&field=0&pd=3&ds=2022.05.16&de=2022.05.16&cluster_rank=22&mynews=0&office_type=0&office_section_code=0&news_office_checked=&nso=so:r,p:from20220516to20220516,a:all&start=11\n",
      "https://search.naver.com/search.naver?where=news&sm=tab_pge&query=%EC%BD%94%EC%8A%A4%ED%94%BC%20%EA%B2%BD%EC%A0%9C&sort=0&photo=0&field=0&pd=3&ds=2022.05.16&de=2022.05.16&cluster_rank=33&mynews=0&office_type=0&office_section_code=0&news_office_checked=&nso=so:r,p:from20220516to20220516,a:all&start=21\n",
      "크롤링 준비\n"
     ]
    },
    {
     "name": "stderr",
     "output_type": "stream",
     "text": [
      "\n",
      "\n",
      "preprocessing day:  52%|████████████████████████████████▌                              | 16/31 [01:57<01:48,  7.21s/it]\u001b[A\u001b[A"
     ]
    },
    {
     "name": "stdout",
     "output_type": "stream",
     "text": [
      "다음날짜로 선택시작\n",
      "다음 날짜 선택 후 크롤링 준비\n",
      "https://search.naver.com/search.naver?where=news&query=%EC%BD%94%EC%8A%A4%ED%94%BC%20%EA%B2%BD%EC%A0%9C&sm=tab_opt&sort=0&photo=0&field=0&pd=3&ds=2022.05.17&de=2022.05.17&docid=&related=0&mynews=0&office_type=0&office_section_code=0&news_office_checked=&nso=so%3Ar%2Cp%3Afrom20220517to20220517&is_sug_officeid=0\n",
      "https://search.naver.com/search.naver?where=news&sm=tab_pge&query=%EC%BD%94%EC%8A%A4%ED%94%BC%20%EA%B2%BD%EC%A0%9C&sort=0&photo=0&field=0&pd=3&ds=2022.05.17&de=2022.05.17&cluster_rank=18&mynews=0&office_type=0&office_section_code=0&news_office_checked=&nso=so:r,p:from20220517to20220517,a:all&start=11\n",
      "https://search.naver.com/search.naver?where=news&sm=tab_pge&query=%EC%BD%94%EC%8A%A4%ED%94%BC%20%EA%B2%BD%EC%A0%9C&sort=0&photo=0&field=0&pd=3&ds=2022.05.17&de=2022.05.17&cluster_rank=29&mynews=0&office_type=0&office_section_code=0&news_office_checked=&nso=so:r,p:from20220517to20220517,a:all&start=21\n",
      "크롤링 준비\n"
     ]
    },
    {
     "name": "stderr",
     "output_type": "stream",
     "text": [
      "\n",
      "\n",
      "preprocessing day:  55%|██████████████████████████████████▌                            | 17/31 [02:04<01:40,  7.16s/it]\u001b[A\u001b[A"
     ]
    },
    {
     "name": "stdout",
     "output_type": "stream",
     "text": [
      "다음날짜로 선택시작\n",
      "다음 날짜 선택 후 크롤링 준비\n",
      "https://search.naver.com/search.naver?where=news&query=%EC%BD%94%EC%8A%A4%ED%94%BC%20%EA%B2%BD%EC%A0%9C&sm=tab_opt&sort=0&photo=0&field=0&pd=3&ds=2022.05.18&de=2022.05.18&docid=&related=0&mynews=0&office_type=0&office_section_code=0&news_office_checked=&nso=so%3Ar%2Cp%3Afrom20220518to20220518&is_sug_officeid=0\n",
      "https://search.naver.com/search.naver?where=news&sm=tab_pge&query=%EC%BD%94%EC%8A%A4%ED%94%BC%20%EA%B2%BD%EC%A0%9C&sort=0&photo=0&field=0&pd=3&ds=2022.05.18&de=2022.05.18&cluster_rank=17&mynews=0&office_type=0&office_section_code=0&news_office_checked=&nso=so:r,p:from20220518to20220518,a:all&start=11\n",
      "https://search.naver.com/search.naver?where=news&sm=tab_pge&query=%EC%BD%94%EC%8A%A4%ED%94%BC%20%EA%B2%BD%EC%A0%9C&sort=0&photo=0&field=0&pd=3&ds=2022.05.18&de=2022.05.18&cluster_rank=28&mynews=0&office_type=0&office_section_code=0&news_office_checked=&nso=so:r,p:from20220518to20220518,a:all&start=21\n",
      "크롤링 준비\n"
     ]
    },
    {
     "name": "stderr",
     "output_type": "stream",
     "text": [
      "\n",
      "\n",
      "preprocessing day:  58%|████████████████████████████████████▌                          | 18/31 [02:11<01:33,  7.23s/it]\u001b[A\u001b[A"
     ]
    },
    {
     "name": "stdout",
     "output_type": "stream",
     "text": [
      "다음날짜로 선택시작\n",
      "다음 날짜 선택 후 크롤링 준비\n",
      "https://search.naver.com/search.naver?where=news&query=%EC%BD%94%EC%8A%A4%ED%94%BC%20%EA%B2%BD%EC%A0%9C&sm=tab_opt&sort=0&photo=0&field=0&pd=3&ds=2022.05.19&de=2022.05.19&docid=&related=0&mynews=0&office_type=0&office_section_code=0&news_office_checked=&nso=so%3Ar%2Cp%3Afrom20220519to20220519&is_sug_officeid=0\n",
      "https://search.naver.com/search.naver?where=news&sm=tab_pge&query=%EC%BD%94%EC%8A%A4%ED%94%BC%20%EA%B2%BD%EC%A0%9C&sort=0&photo=0&field=0&pd=3&ds=2022.05.19&de=2022.05.19&cluster_rank=11&mynews=0&office_type=0&office_section_code=0&news_office_checked=&nso=so:r,p:from20220519to20220519,a:all&start=11\n",
      "https://search.naver.com/search.naver?where=news&sm=tab_pge&query=%EC%BD%94%EC%8A%A4%ED%94%BC%20%EA%B2%BD%EC%A0%9C&sort=0&photo=0&field=0&pd=3&ds=2022.05.19&de=2022.05.19&cluster_rank=21&mynews=0&office_type=0&office_section_code=0&news_office_checked=&nso=so:r,p:from20220519to20220519,a:all&start=21\n",
      "크롤링 준비\n"
     ]
    },
    {
     "name": "stderr",
     "output_type": "stream",
     "text": [
      "\n",
      "\n",
      "preprocessing day:  61%|██████████████████████████████████████▌                        | 19/31 [02:19<01:27,  7.28s/it]\u001b[A\u001b[A"
     ]
    },
    {
     "name": "stdout",
     "output_type": "stream",
     "text": [
      "다음날짜로 선택시작\n",
      "다음 날짜 선택 후 크롤링 준비\n",
      "https://search.naver.com/search.naver?where=news&query=%EC%BD%94%EC%8A%A4%ED%94%BC%20%EA%B2%BD%EC%A0%9C&sm=tab_opt&sort=0&photo=0&field=0&pd=3&ds=2022.05.20&de=2022.05.20&docid=&related=0&mynews=0&office_type=0&office_section_code=0&news_office_checked=&nso=so%3Ar%2Cp%3Afrom20220520to20220520&is_sug_officeid=0\n",
      "https://search.naver.com/search.naver?where=news&sm=tab_pge&query=%EC%BD%94%EC%8A%A4%ED%94%BC%20%EA%B2%BD%EC%A0%9C&sort=0&photo=0&field=0&pd=3&ds=2022.05.20&de=2022.05.20&cluster_rank=10&mynews=0&office_type=0&office_section_code=0&news_office_checked=&nso=so:r,p:from20220520to20220520,a:all&start=11\n",
      "https://search.naver.com/search.naver?where=news&sm=tab_pge&query=%EC%BD%94%EC%8A%A4%ED%94%BC%20%EA%B2%BD%EC%A0%9C&sort=0&photo=0&field=0&pd=3&ds=2022.05.20&de=2022.05.20&cluster_rank=20&mynews=0&office_type=0&office_section_code=0&news_office_checked=&nso=so:r,p:from20220520to20220520,a:all&start=21\n",
      "크롤링 준비\n"
     ]
    },
    {
     "name": "stderr",
     "output_type": "stream",
     "text": [
      "\n",
      "\n",
      "preprocessing day:  65%|████████████████████████████████████████▋                      | 20/31 [02:26<01:19,  7.25s/it]\u001b[A\u001b[A"
     ]
    },
    {
     "name": "stdout",
     "output_type": "stream",
     "text": [
      "다음날짜로 선택시작\n",
      "다음 날짜 선택 후 크롤링 준비\n",
      "https://search.naver.com/search.naver?where=news&query=%EC%BD%94%EC%8A%A4%ED%94%BC%20%EA%B2%BD%EC%A0%9C&sm=tab_opt&sort=0&photo=0&field=0&pd=3&ds=2022.05.21&de=2022.05.21&docid=&related=0&mynews=0&office_type=0&office_section_code=0&news_office_checked=&nso=so%3Ar%2Cp%3Afrom20220521to20220521&is_sug_officeid=0\n",
      "https://search.naver.com/search.naver?where=news&query=%EC%BD%94%EC%8A%A4%ED%94%BC%20%EA%B2%BD%EC%A0%9C&sm=tab_opt&sort=0&photo=0&field=0&pd=3&ds=2022.05.21&de=2022.05.21&docid=&related=0&mynews=0&office_type=0&office_section_code=0&news_office_checked=&nso=so%3Ar%2Cp%3Afrom20220521to20220521&is_sug_officeid=0\n",
      "크롤링 준비\n"
     ]
    },
    {
     "name": "stderr",
     "output_type": "stream",
     "text": [
      "\n",
      "\n",
      "preprocessing day:  68%|██████████████████████████████████████████▋                    | 21/31 [02:33<01:10,  7.07s/it]\u001b[A\u001b[A"
     ]
    },
    {
     "name": "stdout",
     "output_type": "stream",
     "text": [
      "다음날짜로 선택시작\n",
      "다음 날짜 선택 후 크롤링 준비\n",
      "https://search.naver.com/search.naver?where=news&query=%EC%BD%94%EC%8A%A4%ED%94%BC%20%EA%B2%BD%EC%A0%9C&sm=tab_opt&sort=0&photo=0&field=0&pd=3&ds=2022.05.22&de=2022.05.22&docid=&related=0&mynews=0&office_type=0&office_section_code=0&news_office_checked=&nso=so%3Ar%2Cp%3Afrom20220522to20220522&is_sug_officeid=0\n",
      "https://search.naver.com/search.naver?where=news&sm=tab_pge&query=%EC%BD%94%EC%8A%A4%ED%94%BC%20%EA%B2%BD%EC%A0%9C&sort=0&photo=0&field=0&pd=3&ds=2022.05.22&de=2022.05.22&cluster_rank=14&mynews=0&office_type=0&office_section_code=0&news_office_checked=&nso=so:r,p:from20220522to20220522,a:all&start=11\n",
      "https://search.naver.com/search.naver?where=news&sm=tab_pge&query=%EC%BD%94%EC%8A%A4%ED%94%BC%20%EA%B2%BD%EC%A0%9C&sort=0&photo=0&field=0&pd=3&ds=2022.05.22&de=2022.05.22&cluster_rank=26&mynews=0&office_type=0&office_section_code=0&news_office_checked=&nso=so:r,p:from20220522to20220522,a:all&start=21\n",
      "크롤링 준비\n"
     ]
    },
    {
     "name": "stderr",
     "output_type": "stream",
     "text": [
      "\n",
      "\n",
      "preprocessing day:  71%|████████████████████████████████████████████▋                  | 22/31 [02:40<01:04,  7.21s/it]\u001b[A\u001b[A"
     ]
    },
    {
     "name": "stdout",
     "output_type": "stream",
     "text": [
      "다음날짜로 선택시작\n",
      "다음 날짜 선택 후 크롤링 준비\n",
      "https://search.naver.com/search.naver?where=news&query=%EC%BD%94%EC%8A%A4%ED%94%BC%20%EA%B2%BD%EC%A0%9C&sm=tab_opt&sort=0&photo=0&field=0&pd=3&ds=2022.05.23&de=2022.05.23&docid=&related=0&mynews=0&office_type=0&office_section_code=0&news_office_checked=&nso=so%3Ar%2Cp%3Afrom20220523to20220523&is_sug_officeid=0\n",
      "https://search.naver.com/search.naver?where=news&sm=tab_pge&query=%EC%BD%94%EC%8A%A4%ED%94%BC%20%EA%B2%BD%EC%A0%9C&sort=0&photo=0&field=0&pd=3&ds=2022.05.23&de=2022.05.23&cluster_rank=13&mynews=0&office_type=0&office_section_code=0&news_office_checked=&nso=so:r,p:from20220523to20220523,a:all&start=11\n",
      "https://search.naver.com/search.naver?where=news&sm=tab_pge&query=%EC%BD%94%EC%8A%A4%ED%94%BC%20%EA%B2%BD%EC%A0%9C&sort=0&photo=0&field=0&pd=3&ds=2022.05.23&de=2022.05.23&cluster_rank=28&mynews=0&office_type=0&office_section_code=0&news_office_checked=&nso=so:r,p:from20220523to20220523,a:all&start=21\n",
      "크롤링 준비\n"
     ]
    },
    {
     "name": "stderr",
     "output_type": "stream",
     "text": [
      "\n",
      "\n",
      "preprocessing day:  74%|██████████████████████████████████████████████▋                | 23/31 [02:48<00:58,  7.37s/it]\u001b[A\u001b[A"
     ]
    },
    {
     "name": "stdout",
     "output_type": "stream",
     "text": [
      "다음날짜로 선택시작\n",
      "다음 날짜 선택 후 크롤링 준비\n",
      "https://search.naver.com/search.naver?where=news&query=%EC%BD%94%EC%8A%A4%ED%94%BC%20%EA%B2%BD%EC%A0%9C&sm=tab_opt&sort=0&photo=0&field=0&pd=3&ds=2022.05.24&de=2022.05.24&docid=&related=0&mynews=0&office_type=0&office_section_code=0&news_office_checked=&nso=so%3Ar%2Cp%3Afrom20220524to20220524&is_sug_officeid=0\n",
      "https://search.naver.com/search.naver?where=news&sm=tab_pge&query=%EC%BD%94%EC%8A%A4%ED%94%BC%20%EA%B2%BD%EC%A0%9C&sort=0&photo=0&field=0&pd=3&ds=2022.05.24&de=2022.05.24&cluster_rank=15&mynews=0&office_type=0&office_section_code=0&news_office_checked=&nso=so:r,p:from20220524to20220524,a:all&start=11\n",
      "https://search.naver.com/search.naver?where=news&sm=tab_pge&query=%EC%BD%94%EC%8A%A4%ED%94%BC%20%EA%B2%BD%EC%A0%9C&sort=0&photo=0&field=0&pd=3&ds=2022.05.24&de=2022.05.24&cluster_rank=25&mynews=0&office_type=0&office_section_code=0&news_office_checked=&nso=so:r,p:from20220524to20220524,a:all&start=21\n",
      "크롤링 준비\n"
     ]
    },
    {
     "name": "stderr",
     "output_type": "stream",
     "text": [
      "\n",
      "\n",
      "preprocessing day:  77%|████████████████████████████████████████████████▊              | 24/31 [02:55<00:51,  7.36s/it]\u001b[A\u001b[A"
     ]
    },
    {
     "name": "stdout",
     "output_type": "stream",
     "text": [
      "다음날짜로 선택시작\n",
      "다음 날짜 선택 후 크롤링 준비\n",
      "https://search.naver.com/search.naver?where=news&query=%EC%BD%94%EC%8A%A4%ED%94%BC%20%EA%B2%BD%EC%A0%9C&sm=tab_opt&sort=0&photo=0&field=0&pd=3&ds=2022.05.25&de=2022.05.25&docid=&related=0&mynews=0&office_type=0&office_section_code=0&news_office_checked=&nso=so%3Ar%2Cp%3Afrom20220525to20220525&is_sug_officeid=0\n",
      "https://search.naver.com/search.naver?where=news&sm=tab_pge&query=%EC%BD%94%EC%8A%A4%ED%94%BC%20%EA%B2%BD%EC%A0%9C&sort=0&photo=0&field=0&pd=3&ds=2022.05.25&de=2022.05.25&cluster_rank=17&mynews=0&office_type=0&office_section_code=0&news_office_checked=&nso=so:r,p:from20220525to20220525,a:all&start=11\n",
      "https://search.naver.com/search.naver?where=news&sm=tab_pge&query=%EC%BD%94%EC%8A%A4%ED%94%BC%20%EA%B2%BD%EC%A0%9C&sort=0&photo=0&field=0&pd=3&ds=2022.05.25&de=2022.05.25&cluster_rank=27&mynews=0&office_type=0&office_section_code=0&news_office_checked=&nso=so:r,p:from20220525to20220525,a:all&start=21\n",
      "크롤링 준비\n"
     ]
    },
    {
     "name": "stderr",
     "output_type": "stream",
     "text": [
      "\n",
      "\n",
      "preprocessing day:  81%|██████████████████████████████████████████████████▊            | 25/31 [03:03<00:44,  7.45s/it]\u001b[A\u001b[A"
     ]
    },
    {
     "name": "stdout",
     "output_type": "stream",
     "text": [
      "다음날짜로 선택시작\n",
      "다음 날짜 선택 후 크롤링 준비\n",
      "https://search.naver.com/search.naver?where=news&query=%EC%BD%94%EC%8A%A4%ED%94%BC%20%EA%B2%BD%EC%A0%9C&sm=tab_opt&sort=0&photo=0&field=0&pd=3&ds=2022.05.26&de=2022.05.26&docid=&related=0&mynews=0&office_type=0&office_section_code=0&news_office_checked=&nso=so%3Ar%2Cp%3Afrom20220526to20220526&is_sug_officeid=0\n",
      "https://search.naver.com/search.naver?where=news&sm=tab_pge&query=%EC%BD%94%EC%8A%A4%ED%94%BC%20%EA%B2%BD%EC%A0%9C&sort=0&photo=0&field=0&pd=3&ds=2022.05.26&de=2022.05.26&cluster_rank=14&mynews=0&office_type=0&office_section_code=0&news_office_checked=&nso=so:r,p:from20220526to20220526,a:all&start=11\n",
      "https://search.naver.com/search.naver?where=news&sm=tab_pge&query=%EC%BD%94%EC%8A%A4%ED%94%BC%20%EA%B2%BD%EC%A0%9C&sort=0&photo=0&field=0&pd=3&ds=2022.05.26&de=2022.05.26&cluster_rank=24&mynews=0&office_type=0&office_section_code=0&news_office_checked=&nso=so:r,p:from20220526to20220526,a:all&start=21\n",
      "크롤링 준비\n"
     ]
    },
    {
     "name": "stderr",
     "output_type": "stream",
     "text": [
      "\n",
      "\n",
      "preprocessing day:  84%|████████████████████████████████████████████████████▊          | 26/31 [03:10<00:36,  7.35s/it]\u001b[A\u001b[A"
     ]
    },
    {
     "name": "stdout",
     "output_type": "stream",
     "text": [
      "다음날짜로 선택시작\n",
      "다음 날짜 선택 후 크롤링 준비\n",
      "https://search.naver.com/search.naver?where=news&query=%EC%BD%94%EC%8A%A4%ED%94%BC%20%EA%B2%BD%EC%A0%9C&sm=tab_opt&sort=0&photo=0&field=0&pd=3&ds=2022.05.27&de=2022.05.27&docid=&related=0&mynews=0&office_type=0&office_section_code=0&news_office_checked=&nso=so%3Ar%2Cp%3Afrom20220527to20220527&is_sug_officeid=0\n",
      "https://search.naver.com/search.naver?where=news&sm=tab_pge&query=%EC%BD%94%EC%8A%A4%ED%94%BC%20%EA%B2%BD%EC%A0%9C&sort=0&photo=0&field=0&pd=3&ds=2022.05.27&de=2022.05.27&cluster_rank=13&mynews=0&office_type=0&office_section_code=0&news_office_checked=&nso=so:r,p:from20220527to20220527,a:all&start=11\n",
      "https://search.naver.com/search.naver?where=news&sm=tab_pge&query=%EC%BD%94%EC%8A%A4%ED%94%BC%20%EA%B2%BD%EC%A0%9C&sort=0&photo=0&field=0&pd=3&ds=2022.05.27&de=2022.05.27&cluster_rank=23&mynews=0&office_type=0&office_section_code=0&news_office_checked=&nso=so:r,p:from20220527to20220527,a:all&start=21\n",
      "크롤링 준비\n"
     ]
    },
    {
     "name": "stderr",
     "output_type": "stream",
     "text": [
      "\n",
      "\n",
      "preprocessing day:  87%|██████████████████████████████████████████████████████▊        | 27/31 [03:18<00:29,  7.40s/it]\u001b[A\u001b[A"
     ]
    },
    {
     "name": "stdout",
     "output_type": "stream",
     "text": [
      "다음날짜로 선택시작\n",
      "다음 날짜 선택 후 크롤링 준비\n",
      "https://search.naver.com/search.naver?where=news&query=%EC%BD%94%EC%8A%A4%ED%94%BC%20%EA%B2%BD%EC%A0%9C&sm=tab_opt&sort=0&photo=0&field=0&pd=3&ds=2022.05.28&de=2022.05.28&docid=&related=0&mynews=0&office_type=0&office_section_code=0&news_office_checked=&nso=so%3Ar%2Cp%3Afrom20220528to20220528&is_sug_officeid=0\n",
      "https://search.naver.com/search.naver?where=news&sm=tab_pge&query=%EC%BD%94%EC%8A%A4%ED%94%BC%20%EA%B2%BD%EC%A0%9C&sort=0&photo=0&field=0&pd=3&ds=2022.05.28&de=2022.05.28&cluster_rank=15&mynews=0&office_type=0&office_section_code=0&news_office_checked=&nso=so:r,p:from20220528to20220528,a:all&start=11\n",
      "https://search.naver.com/search.naver?where=news&sm=tab_pge&query=%EC%BD%94%EC%8A%A4%ED%94%BC%20%EA%B2%BD%EC%A0%9C&sort=0&photo=0&field=0&pd=3&ds=2022.05.28&de=2022.05.28&cluster_rank=15&mynews=0&office_type=0&office_section_code=0&news_office_checked=&nso=so:r,p:from20220528to20220528,a:all&start=11\n",
      "크롤링 준비\n"
     ]
    },
    {
     "name": "stderr",
     "output_type": "stream",
     "text": [
      "\n",
      "\n",
      "preprocessing day:  90%|████████████████████████████████████████████████████████▉      | 28/31 [03:24<00:21,  7.19s/it]\u001b[A\u001b[A"
     ]
    },
    {
     "name": "stdout",
     "output_type": "stream",
     "text": [
      "다음날짜로 선택시작\n",
      "다음 날짜 선택 후 크롤링 준비\n",
      "https://search.naver.com/search.naver?where=news&query=%EC%BD%94%EC%8A%A4%ED%94%BC%20%EA%B2%BD%EC%A0%9C&sm=tab_opt&sort=0&photo=0&field=0&pd=3&ds=2022.05.29&de=2022.05.29&docid=&related=0&mynews=0&office_type=0&office_section_code=0&news_office_checked=&nso=so%3Ar%2Cp%3Afrom20220529to20220529&is_sug_officeid=0\n",
      "https://search.naver.com/search.naver?where=news&sm=tab_pge&query=%EC%BD%94%EC%8A%A4%ED%94%BC%20%EA%B2%BD%EC%A0%9C&sort=0&photo=0&field=0&pd=3&ds=2022.05.29&de=2022.05.29&cluster_rank=13&mynews=0&office_type=0&office_section_code=0&news_office_checked=&nso=so:r,p:from20220529to20220529,a:all&start=11\n",
      "https://search.naver.com/search.naver?where=news&sm=tab_pge&query=%EC%BD%94%EC%8A%A4%ED%94%BC%20%EA%B2%BD%EC%A0%9C&sort=0&photo=0&field=0&pd=3&ds=2022.05.29&de=2022.05.29&cluster_rank=24&mynews=0&office_type=0&office_section_code=0&news_office_checked=&nso=so:r,p:from20220529to20220529,a:all&start=21\n",
      "크롤링 준비\n"
     ]
    },
    {
     "name": "stderr",
     "output_type": "stream",
     "text": [
      "\n",
      "\n",
      "preprocessing day:  94%|██████████████████████████████████████████████████████████▉    | 29/31 [03:31<00:14,  7.15s/it]\u001b[A\u001b[A"
     ]
    },
    {
     "name": "stdout",
     "output_type": "stream",
     "text": [
      "다음날짜로 선택시작\n",
      "다음 날짜 선택 후 크롤링 준비\n",
      "https://search.naver.com/search.naver?where=news&query=%EC%BD%94%EC%8A%A4%ED%94%BC%20%EA%B2%BD%EC%A0%9C&sm=tab_opt&sort=0&photo=0&field=0&pd=3&ds=2022.05.30&de=2022.05.30&docid=&related=0&mynews=0&office_type=0&office_section_code=0&news_office_checked=&nso=so%3Ar%2Cp%3Afrom20220530to20220530&is_sug_officeid=0\n",
      "https://search.naver.com/search.naver?where=news&sm=tab_pge&query=%EC%BD%94%EC%8A%A4%ED%94%BC%20%EA%B2%BD%EC%A0%9C&sort=0&photo=0&field=0&pd=3&ds=2022.05.30&de=2022.05.30&cluster_rank=15&mynews=0&office_type=0&office_section_code=0&news_office_checked=&nso=so:r,p:from20220530to20220530,a:all&start=11\n",
      "https://search.naver.com/search.naver?where=news&sm=tab_pge&query=%EC%BD%94%EC%8A%A4%ED%94%BC%20%EA%B2%BD%EC%A0%9C&sort=0&photo=0&field=0&pd=3&ds=2022.05.30&de=2022.05.30&cluster_rank=26&mynews=0&office_type=0&office_section_code=0&news_office_checked=&nso=so:r,p:from20220530to20220530,a:all&start=21\n",
      "크롤링 준비\n"
     ]
    },
    {
     "name": "stderr",
     "output_type": "stream",
     "text": [
      "\n",
      "\n",
      "preprocessing day:  97%|████████████████████████████████████████████████████████████▉  | 30/31 [03:39<00:07,  7.35s/it]\u001b[A\u001b[A"
     ]
    },
    {
     "name": "stdout",
     "output_type": "stream",
     "text": [
      "다음날짜로 선택시작\n",
      "다음 날짜 선택 후 크롤링 준비\n",
      "https://search.naver.com/search.naver?where=news&query=%EC%BD%94%EC%8A%A4%ED%94%BC%20%EA%B2%BD%EC%A0%9C&sm=tab_opt&sort=0&photo=0&field=0&pd=3&ds=2022.05.31&de=2022.05.31&docid=&related=0&mynews=0&office_type=0&office_section_code=0&news_office_checked=&nso=so%3Ar%2Cp%3Afrom20220531to20220531&is_sug_officeid=0\n",
      "https://search.naver.com/search.naver?where=news&sm=tab_pge&query=%EC%BD%94%EC%8A%A4%ED%94%BC%20%EA%B2%BD%EC%A0%9C&sort=0&photo=0&field=0&pd=3&ds=2022.05.31&de=2022.05.31&cluster_rank=13&mynews=0&office_type=0&office_section_code=0&news_office_checked=&nso=so:r,p:from20220531to20220531,a:all&start=11\n",
      "https://search.naver.com/search.naver?where=news&sm=tab_pge&query=%EC%BD%94%EC%8A%A4%ED%94%BC%20%EA%B2%BD%EC%A0%9C&sort=0&photo=0&field=0&pd=3&ds=2022.05.31&de=2022.05.31&cluster_rank=26&mynews=0&office_type=0&office_section_code=0&news_office_checked=&nso=so:r,p:from20220531to20220531,a:all&start=21\n",
      "크롤링 준비\n"
     ]
    },
    {
     "name": "stderr",
     "output_type": "stream",
     "text": [
      "\n",
      "\n",
      "preprocessing day: 100%|███████████████████████████████████████████████████████████████| 31/31 [03:47<00:00,  7.33s/it]\u001b[A\u001b[A\n",
      "\n",
      "preprocessing month:  42%|█████████████████████████▍                                   | 5/12 [18:23<25:52, 221.84s/it]\u001b[A"
     ]
    },
    {
     "name": "stdout",
     "output_type": "stream",
     "text": [
      "다음날짜로 선택시작\n"
     ]
    },
    {
     "name": "stderr",
     "output_type": "stream",
     "text": [
      "\n",
      "\n",
      "preprocessing day:   0%|                                                                        | 0/31 [00:00<?, ?it/s]\u001b[A\u001b[A"
     ]
    },
    {
     "name": "stdout",
     "output_type": "stream",
     "text": [
      "다음 날짜 선택 후 크롤링 준비\n",
      "https://search.naver.com/search.naver?where=news&query=%EC%BD%94%EC%8A%A4%ED%94%BC%20%EA%B2%BD%EC%A0%9C&sm=tab_opt&sort=0&photo=0&field=0&pd=3&ds=2022.06.01&de=2022.06.01&docid=&related=0&mynews=0&office_type=0&office_section_code=0&news_office_checked=&nso=so%3Ar%2Cp%3Afrom20220601to20220601&is_sug_officeid=0\n",
      "https://search.naver.com/search.naver?where=news&sm=tab_pge&query=%EC%BD%94%EC%8A%A4%ED%94%BC%20%EA%B2%BD%EC%A0%9C&sort=0&photo=0&field=0&pd=3&ds=2022.06.01&de=2022.06.01&cluster_rank=14&mynews=0&office_type=0&office_section_code=0&news_office_checked=&nso=so:r,p:from20220601to20220601,a:all&start=11\n",
      "https://search.naver.com/search.naver?where=news&sm=tab_pge&query=%EC%BD%94%EC%8A%A4%ED%94%BC%20%EA%B2%BD%EC%A0%9C&sort=0&photo=0&field=0&pd=3&ds=2022.06.01&de=2022.06.01&cluster_rank=14&mynews=0&office_type=0&office_section_code=0&news_office_checked=&nso=so:r,p:from20220601to20220601,a:all&start=11\n",
      "크롤링 준비\n"
     ]
    },
    {
     "name": "stderr",
     "output_type": "stream",
     "text": [
      "\n",
      "\n",
      "preprocessing day:   3%|██                                                              | 1/31 [00:07<03:38,  7.29s/it]\u001b[A\u001b[A"
     ]
    },
    {
     "name": "stdout",
     "output_type": "stream",
     "text": [
      "다음날짜로 선택시작\n",
      "다음 날짜 선택 후 크롤링 준비\n",
      "https://search.naver.com/search.naver?where=news&query=%EC%BD%94%EC%8A%A4%ED%94%BC%20%EA%B2%BD%EC%A0%9C&sm=tab_opt&sort=0&photo=0&field=0&pd=3&ds=2022.06.02&de=2022.06.02&docid=&related=0&mynews=0&office_type=0&office_section_code=0&news_office_checked=&nso=so%3Ar%2Cp%3Afrom20220602to20220602&is_sug_officeid=0\n",
      "https://search.naver.com/search.naver?where=news&sm=tab_pge&query=%EC%BD%94%EC%8A%A4%ED%94%BC%20%EA%B2%BD%EC%A0%9C&sort=0&photo=0&field=0&pd=3&ds=2022.06.02&de=2022.06.02&cluster_rank=21&mynews=0&office_type=0&office_section_code=0&news_office_checked=&nso=so:r,p:from20220602to20220602,a:all&start=11\n",
      "https://search.naver.com/search.naver?where=news&sm=tab_pge&query=%EC%BD%94%EC%8A%A4%ED%94%BC%20%EA%B2%BD%EC%A0%9C&sort=0&photo=0&field=0&pd=3&ds=2022.06.02&de=2022.06.02&cluster_rank=33&mynews=0&office_type=0&office_section_code=0&news_office_checked=&nso=so:r,p:from20220602to20220602,a:all&start=21\n",
      "크롤링 준비\n"
     ]
    },
    {
     "name": "stderr",
     "output_type": "stream",
     "text": [
      "\n",
      "\n",
      "preprocessing day:   6%|████▏                                                           | 2/31 [00:14<03:32,  7.33s/it]\u001b[A\u001b[A"
     ]
    },
    {
     "name": "stdout",
     "output_type": "stream",
     "text": [
      "다음날짜로 선택시작\n",
      "다음 날짜 선택 후 크롤링 준비\n",
      "https://search.naver.com/search.naver?where=news&query=%EC%BD%94%EC%8A%A4%ED%94%BC%20%EA%B2%BD%EC%A0%9C&sm=tab_opt&sort=0&photo=0&field=0&pd=3&ds=2022.06.03&de=2022.06.03&docid=&related=0&mynews=0&office_type=0&office_section_code=0&news_office_checked=&nso=so%3Ar%2Cp%3Afrom20220603to20220603&is_sug_officeid=0\n",
      "https://search.naver.com/search.naver?where=news&sm=tab_pge&query=%EC%BD%94%EC%8A%A4%ED%94%BC%20%EA%B2%BD%EC%A0%9C&sort=0&photo=0&field=0&pd=3&ds=2022.06.03&de=2022.06.03&cluster_rank=13&mynews=0&office_type=0&office_section_code=0&news_office_checked=&nso=so:r,p:from20220603to20220603,a:all&start=11\n",
      "https://search.naver.com/search.naver?where=news&sm=tab_pge&query=%EC%BD%94%EC%8A%A4%ED%94%BC%20%EA%B2%BD%EC%A0%9C&sort=0&photo=0&field=0&pd=3&ds=2022.06.03&de=2022.06.03&cluster_rank=23&mynews=0&office_type=0&office_section_code=0&news_office_checked=&nso=so:r,p:from20220603to20220603,a:all&start=21\n",
      "크롤링 준비\n"
     ]
    },
    {
     "name": "stderr",
     "output_type": "stream",
     "text": [
      "\n",
      "\n",
      "preprocessing day:  10%|██████▏                                                         | 3/31 [00:22<03:26,  7.36s/it]\u001b[A\u001b[A"
     ]
    },
    {
     "name": "stdout",
     "output_type": "stream",
     "text": [
      "다음날짜로 선택시작\n",
      "다음 날짜 선택 후 크롤링 준비\n",
      "https://search.naver.com/search.naver?where=news&query=%EC%BD%94%EC%8A%A4%ED%94%BC%20%EA%B2%BD%EC%A0%9C&sm=tab_opt&sort=0&photo=0&field=0&pd=3&ds=2022.06.04&de=2022.06.04&docid=&related=0&mynews=0&office_type=0&office_section_code=0&news_office_checked=&nso=so%3Ar%2Cp%3Afrom20220604to20220604&is_sug_officeid=0\n",
      "https://search.naver.com/search.naver?where=news&query=%EC%BD%94%EC%8A%A4%ED%94%BC%20%EA%B2%BD%EC%A0%9C&sm=tab_opt&sort=0&photo=0&field=0&pd=3&ds=2022.06.04&de=2022.06.04&docid=&related=0&mynews=0&office_type=0&office_section_code=0&news_office_checked=&nso=so%3Ar%2Cp%3Afrom20220604to20220604&is_sug_officeid=0\n",
      "크롤링 준비\n"
     ]
    },
    {
     "name": "stderr",
     "output_type": "stream",
     "text": [
      "\n",
      "\n",
      "preprocessing day:  13%|████████▎                                                       | 4/31 [00:28<03:07,  6.96s/it]\u001b[A\u001b[A"
     ]
    },
    {
     "name": "stdout",
     "output_type": "stream",
     "text": [
      "다음날짜로 선택시작\n",
      "다음 날짜 선택 후 크롤링 준비\n",
      "https://search.naver.com/search.naver?where=news&query=%EC%BD%94%EC%8A%A4%ED%94%BC%20%EA%B2%BD%EC%A0%9C&sm=tab_opt&sort=0&photo=0&field=0&pd=3&ds=2022.06.05&de=2022.06.05&docid=&related=0&mynews=0&office_type=0&office_section_code=0&news_office_checked=&nso=so%3Ar%2Cp%3Afrom20220605to20220605&is_sug_officeid=0\n",
      "https://search.naver.com/search.naver?where=news&sm=tab_pge&query=%EC%BD%94%EC%8A%A4%ED%94%BC%20%EA%B2%BD%EC%A0%9C&sort=0&photo=0&field=0&pd=3&ds=2022.06.05&de=2022.06.05&cluster_rank=11&mynews=0&office_type=0&office_section_code=0&news_office_checked=&nso=so:r,p:from20220605to20220605,a:all&start=11\n",
      "https://search.naver.com/search.naver?where=news&sm=tab_pge&query=%EC%BD%94%EC%8A%A4%ED%94%BC%20%EA%B2%BD%EC%A0%9C&sort=0&photo=0&field=0&pd=3&ds=2022.06.05&de=2022.06.05&cluster_rank=11&mynews=0&office_type=0&office_section_code=0&news_office_checked=&nso=so:r,p:from20220605to20220605,a:all&start=11\n",
      "크롤링 준비\n"
     ]
    },
    {
     "name": "stderr",
     "output_type": "stream",
     "text": [
      "\n",
      "\n",
      "preprocessing day:  16%|██████████▎                                                     | 5/31 [00:35<03:05,  7.14s/it]\u001b[A\u001b[A"
     ]
    },
    {
     "name": "stdout",
     "output_type": "stream",
     "text": [
      "다음날짜로 선택시작\n",
      "다음 날짜 선택 후 크롤링 준비\n",
      "https://search.naver.com/search.naver?where=news&query=%EC%BD%94%EC%8A%A4%ED%94%BC%20%EA%B2%BD%EC%A0%9C&sm=tab_opt&sort=0&photo=0&field=0&pd=3&ds=2022.06.06&de=2022.06.06&docid=&related=0&mynews=0&office_type=0&office_section_code=0&news_office_checked=&nso=so%3Ar%2Cp%3Afrom20220606to20220606&is_sug_officeid=0\n",
      "https://search.naver.com/search.naver?where=news&sm=tab_pge&query=%EC%BD%94%EC%8A%A4%ED%94%BC%20%EA%B2%BD%EC%A0%9C&sort=0&photo=0&field=0&pd=3&ds=2022.06.06&de=2022.06.06&cluster_rank=16&mynews=0&office_type=0&office_section_code=0&news_office_checked=&nso=so:r,p:from20220606to20220606,a:all&start=11\n",
      "https://search.naver.com/search.naver?where=news&sm=tab_pge&query=%EC%BD%94%EC%8A%A4%ED%94%BC%20%EA%B2%BD%EC%A0%9C&sort=0&photo=0&field=0&pd=3&ds=2022.06.06&de=2022.06.06&cluster_rank=26&mynews=0&office_type=0&office_section_code=0&news_office_checked=&nso=so:r,p:from20220606to20220606,a:all&start=21\n",
      "크롤링 준비\n"
     ]
    },
    {
     "name": "stderr",
     "output_type": "stream",
     "text": [
      "\n",
      "\n",
      "preprocessing day:  19%|████████████▍                                                   | 6/31 [00:43<02:59,  7.16s/it]\u001b[A\u001b[A"
     ]
    },
    {
     "name": "stdout",
     "output_type": "stream",
     "text": [
      "다음날짜로 선택시작\n",
      "다음 날짜 선택 후 크롤링 준비\n",
      "https://search.naver.com/search.naver?where=news&query=%EC%BD%94%EC%8A%A4%ED%94%BC%20%EA%B2%BD%EC%A0%9C&sm=tab_opt&sort=0&photo=0&field=0&pd=3&ds=2022.06.07&de=2022.06.07&docid=&related=0&mynews=0&office_type=0&office_section_code=0&news_office_checked=&nso=so%3Ar%2Cp%3Afrom20220607to20220607&is_sug_officeid=0\n",
      "https://search.naver.com/search.naver?where=news&sm=tab_pge&query=%EC%BD%94%EC%8A%A4%ED%94%BC%20%EA%B2%BD%EC%A0%9C&sort=0&photo=0&field=0&pd=3&ds=2022.06.07&de=2022.06.07&cluster_rank=12&mynews=0&office_type=0&office_section_code=0&news_office_checked=&nso=so:r,p:from20220607to20220607,a:all&start=11\n",
      "https://search.naver.com/search.naver?where=news&sm=tab_pge&query=%EC%BD%94%EC%8A%A4%ED%94%BC%20%EA%B2%BD%EC%A0%9C&sort=0&photo=0&field=0&pd=3&ds=2022.06.07&de=2022.06.07&cluster_rank=22&mynews=0&office_type=0&office_section_code=0&news_office_checked=&nso=so:r,p:from20220607to20220607,a:all&start=21\n",
      "크롤링 준비\n"
     ]
    },
    {
     "name": "stderr",
     "output_type": "stream",
     "text": [
      "\n",
      "\n",
      "preprocessing day:  23%|██████████████▍                                                 | 7/31 [00:50<02:54,  7.29s/it]\u001b[A\u001b[A"
     ]
    },
    {
     "name": "stdout",
     "output_type": "stream",
     "text": [
      "다음날짜로 선택시작\n",
      "다음 날짜 선택 후 크롤링 준비\n",
      "https://search.naver.com/search.naver?where=news&query=%EC%BD%94%EC%8A%A4%ED%94%BC%20%EA%B2%BD%EC%A0%9C&sm=tab_opt&sort=0&photo=0&field=0&pd=3&ds=2022.06.08&de=2022.06.08&docid=&related=0&mynews=0&office_type=0&office_section_code=0&news_office_checked=&nso=so%3Ar%2Cp%3Afrom20220608to20220608&is_sug_officeid=0\n",
      "https://search.naver.com/search.naver?where=news&sm=tab_pge&query=%EC%BD%94%EC%8A%A4%ED%94%BC%20%EA%B2%BD%EC%A0%9C&sort=0&photo=0&field=0&pd=3&ds=2022.06.08&de=2022.06.08&cluster_rank=13&mynews=0&office_type=0&office_section_code=0&news_office_checked=&nso=so:r,p:from20220608to20220608,a:all&start=11\n",
      "https://search.naver.com/search.naver?where=news&sm=tab_pge&query=%EC%BD%94%EC%8A%A4%ED%94%BC%20%EA%B2%BD%EC%A0%9C&sort=0&photo=0&field=0&pd=3&ds=2022.06.08&de=2022.06.08&cluster_rank=23&mynews=0&office_type=0&office_section_code=0&news_office_checked=&nso=so:r,p:from20220608to20220608,a:all&start=21\n",
      "크롤링 준비\n"
     ]
    },
    {
     "name": "stderr",
     "output_type": "stream",
     "text": [
      "\n",
      "\n",
      "preprocessing day:  26%|████████████████▌                                               | 8/31 [00:57<02:46,  7.23s/it]\u001b[A\u001b[A"
     ]
    },
    {
     "name": "stdout",
     "output_type": "stream",
     "text": [
      "다음날짜로 선택시작\n",
      "다음 날짜 선택 후 크롤링 준비\n",
      "https://search.naver.com/search.naver?where=news&query=%EC%BD%94%EC%8A%A4%ED%94%BC%20%EA%B2%BD%EC%A0%9C&sm=tab_opt&sort=0&photo=0&field=0&pd=3&ds=2022.06.09&de=2022.06.09&docid=&related=0&mynews=0&office_type=0&office_section_code=0&news_office_checked=&nso=so%3Ar%2Cp%3Afrom20220609to20220609&is_sug_officeid=0\n",
      "https://search.naver.com/search.naver?where=news&sm=tab_pge&query=%EC%BD%94%EC%8A%A4%ED%94%BC%20%EA%B2%BD%EC%A0%9C&sort=0&photo=0&field=0&pd=3&ds=2022.06.09&de=2022.06.09&cluster_rank=15&mynews=0&office_type=0&office_section_code=0&news_office_checked=&nso=so:r,p:from20220609to20220609,a:all&start=11\n",
      "https://search.naver.com/search.naver?where=news&sm=tab_pge&query=%EC%BD%94%EC%8A%A4%ED%94%BC%20%EA%B2%BD%EC%A0%9C&sort=0&photo=0&field=0&pd=3&ds=2022.06.09&de=2022.06.09&cluster_rank=25&mynews=0&office_type=0&office_section_code=0&news_office_checked=&nso=so:r,p:from20220609to20220609,a:all&start=21\n",
      "크롤링 준비\n"
     ]
    },
    {
     "name": "stderr",
     "output_type": "stream",
     "text": [
      "\n",
      "\n",
      "preprocessing day:  29%|██████████████████▌                                             | 9/31 [01:05<02:40,  7.29s/it]\u001b[A\u001b[A"
     ]
    },
    {
     "name": "stdout",
     "output_type": "stream",
     "text": [
      "다음날짜로 선택시작\n",
      "다음 날짜 선택 후 크롤링 준비\n",
      "https://search.naver.com/search.naver?where=news&query=%EC%BD%94%EC%8A%A4%ED%94%BC%20%EA%B2%BD%EC%A0%9C&sm=tab_opt&sort=0&photo=0&field=0&pd=3&ds=2022.06.10&de=2022.06.10&docid=&related=0&mynews=0&office_type=0&office_section_code=0&news_office_checked=&nso=so%3Ar%2Cp%3Afrom20220610to20220610&is_sug_officeid=0\n",
      "https://search.naver.com/search.naver?where=news&sm=tab_pge&query=%EC%BD%94%EC%8A%A4%ED%94%BC%20%EA%B2%BD%EC%A0%9C&sort=0&photo=0&field=0&pd=3&ds=2022.06.10&de=2022.06.10&cluster_rank=12&mynews=0&office_type=0&office_section_code=0&news_office_checked=&nso=so:r,p:from20220610to20220610,a:all&start=11\n",
      "https://search.naver.com/search.naver?where=news&sm=tab_pge&query=%EC%BD%94%EC%8A%A4%ED%94%BC%20%EA%B2%BD%EC%A0%9C&sort=0&photo=0&field=0&pd=3&ds=2022.06.10&de=2022.06.10&cluster_rank=25&mynews=0&office_type=0&office_section_code=0&news_office_checked=&nso=so:r,p:from20220610to20220610,a:all&start=21\n",
      "크롤링 준비\n"
     ]
    },
    {
     "name": "stderr",
     "output_type": "stream",
     "text": [
      "\n",
      "\n",
      "preprocessing day:  32%|████████████████████▎                                          | 10/31 [01:12<02:35,  7.41s/it]\u001b[A\u001b[A"
     ]
    },
    {
     "name": "stdout",
     "output_type": "stream",
     "text": [
      "다음날짜로 선택시작\n",
      "다음 날짜 선택 후 크롤링 준비\n",
      "https://search.naver.com/search.naver?where=news&query=%EC%BD%94%EC%8A%A4%ED%94%BC%20%EA%B2%BD%EC%A0%9C&sm=tab_opt&sort=0&photo=0&field=0&pd=3&ds=2022.06.11&de=2022.06.11&docid=&related=0&mynews=0&office_type=0&office_section_code=0&news_office_checked=&nso=so%3Ar%2Cp%3Afrom20220611to20220611&is_sug_officeid=0\n",
      "https://search.naver.com/search.naver?where=news&query=%EC%BD%94%EC%8A%A4%ED%94%BC%20%EA%B2%BD%EC%A0%9C&sm=tab_opt&sort=0&photo=0&field=0&pd=3&ds=2022.06.11&de=2022.06.11&docid=&related=0&mynews=0&office_type=0&office_section_code=0&news_office_checked=&nso=so%3Ar%2Cp%3Afrom20220611to20220611&is_sug_officeid=0\n",
      "크롤링 준비\n"
     ]
    },
    {
     "name": "stderr",
     "output_type": "stream",
     "text": [
      "\n",
      "\n",
      "preprocessing day:  35%|██████████████████████▎                                        | 11/31 [01:19<02:21,  7.08s/it]\u001b[A\u001b[A"
     ]
    },
    {
     "name": "stdout",
     "output_type": "stream",
     "text": [
      "다음날짜로 선택시작\n",
      "다음 날짜 선택 후 크롤링 준비\n",
      "https://search.naver.com/search.naver?where=news&query=%EC%BD%94%EC%8A%A4%ED%94%BC%20%EA%B2%BD%EC%A0%9C&sm=tab_opt&sort=0&photo=0&field=0&pd=3&ds=2022.06.12&de=2022.06.12&docid=&related=0&mynews=0&office_type=0&office_section_code=0&news_office_checked=&nso=so%3Ar%2Cp%3Afrom20220612to20220612&is_sug_officeid=0\n",
      "https://search.naver.com/search.naver?where=news&sm=tab_pge&query=%EC%BD%94%EC%8A%A4%ED%94%BC%20%EA%B2%BD%EC%A0%9C&sort=0&photo=0&field=0&pd=3&ds=2022.06.12&de=2022.06.12&cluster_rank=17&mynews=0&office_type=0&office_section_code=0&news_office_checked=&nso=so:r,p:from20220612to20220612,a:all&start=11\n",
      "https://search.naver.com/search.naver?where=news&sm=tab_pge&query=%EC%BD%94%EC%8A%A4%ED%94%BC%20%EA%B2%BD%EC%A0%9C&sort=0&photo=0&field=0&pd=3&ds=2022.06.12&de=2022.06.12&cluster_rank=27&mynews=0&office_type=0&office_section_code=0&news_office_checked=&nso=so:r,p:from20220612to20220612,a:all&start=21\n",
      "크롤링 준비\n"
     ]
    },
    {
     "name": "stderr",
     "output_type": "stream",
     "text": [
      "\n",
      "\n",
      "preprocessing day:  39%|████████████████████████▍                                      | 12/31 [01:26<02:17,  7.25s/it]\u001b[A\u001b[A"
     ]
    },
    {
     "name": "stdout",
     "output_type": "stream",
     "text": [
      "다음날짜로 선택시작\n",
      "다음 날짜 선택 후 크롤링 준비\n",
      "https://search.naver.com/search.naver?where=news&query=%EC%BD%94%EC%8A%A4%ED%94%BC%20%EA%B2%BD%EC%A0%9C&sm=tab_opt&sort=0&photo=0&field=0&pd=3&ds=2022.06.13&de=2022.06.13&docid=&related=0&mynews=0&office_type=0&office_section_code=0&news_office_checked=&nso=so%3Ar%2Cp%3Afrom20220613to20220613&is_sug_officeid=0\n",
      "https://search.naver.com/search.naver?where=news&sm=tab_pge&query=%EC%BD%94%EC%8A%A4%ED%94%BC%20%EA%B2%BD%EC%A0%9C&sort=0&photo=0&field=0&pd=3&ds=2022.06.13&de=2022.06.13&cluster_rank=17&mynews=0&office_type=0&office_section_code=0&news_office_checked=&nso=so:r,p:from20220613to20220613,a:all&start=11\n",
      "https://search.naver.com/search.naver?where=news&sm=tab_pge&query=%EC%BD%94%EC%8A%A4%ED%94%BC%20%EA%B2%BD%EC%A0%9C&sort=0&photo=0&field=0&pd=3&ds=2022.06.13&de=2022.06.13&cluster_rank=32&mynews=0&office_type=0&office_section_code=0&news_office_checked=&nso=so:r,p:from20220613to20220613,a:all&start=21\n",
      "크롤링 준비\n"
     ]
    },
    {
     "name": "stderr",
     "output_type": "stream",
     "text": [
      "\n",
      "\n",
      "preprocessing day:  42%|██████████████████████████▍                                    | 13/31 [01:34<02:11,  7.32s/it]\u001b[A\u001b[A"
     ]
    },
    {
     "name": "stdout",
     "output_type": "stream",
     "text": [
      "다음날짜로 선택시작\n",
      "다음 날짜 선택 후 크롤링 준비\n",
      "https://search.naver.com/search.naver?where=news&query=%EC%BD%94%EC%8A%A4%ED%94%BC%20%EA%B2%BD%EC%A0%9C&sm=tab_opt&sort=0&photo=0&field=0&pd=3&ds=2022.06.14&de=2022.06.14&docid=&related=0&mynews=0&office_type=0&office_section_code=0&news_office_checked=&nso=so%3Ar%2Cp%3Afrom20220614to20220614&is_sug_officeid=0\n",
      "https://search.naver.com/search.naver?where=news&sm=tab_pge&query=%EC%BD%94%EC%8A%A4%ED%94%BC%20%EA%B2%BD%EC%A0%9C&sort=0&photo=0&field=0&pd=3&ds=2022.06.14&de=2022.06.14&cluster_rank=21&mynews=0&office_type=0&office_section_code=0&news_office_checked=&nso=so:r,p:from20220614to20220614,a:all&start=11\n",
      "https://search.naver.com/search.naver?where=news&sm=tab_pge&query=%EC%BD%94%EC%8A%A4%ED%94%BC%20%EA%B2%BD%EC%A0%9C&sort=0&photo=0&field=0&pd=3&ds=2022.06.14&de=2022.06.14&cluster_rank=33&mynews=0&office_type=0&office_section_code=0&news_office_checked=&nso=so:r,p:from20220614to20220614,a:all&start=21\n",
      "크롤링 준비\n"
     ]
    },
    {
     "name": "stderr",
     "output_type": "stream",
     "text": [
      "\n",
      "\n",
      "preprocessing day:  45%|████████████████████████████▍                                  | 14/31 [01:41<02:05,  7.39s/it]\u001b[A\u001b[A"
     ]
    },
    {
     "name": "stdout",
     "output_type": "stream",
     "text": [
      "다음날짜로 선택시작\n",
      "다음 날짜 선택 후 크롤링 준비\n",
      "https://search.naver.com/search.naver?where=news&query=%EC%BD%94%EC%8A%A4%ED%94%BC%20%EA%B2%BD%EC%A0%9C&sm=tab_opt&sort=0&photo=0&field=0&pd=3&ds=2022.06.15&de=2022.06.15&docid=&related=0&mynews=0&office_type=0&office_section_code=0&news_office_checked=&nso=so%3Ar%2Cp%3Afrom20220615to20220615&is_sug_officeid=0\n",
      "https://search.naver.com/search.naver?where=news&sm=tab_pge&query=%EC%BD%94%EC%8A%A4%ED%94%BC%20%EA%B2%BD%EC%A0%9C&sort=0&photo=0&field=0&pd=3&ds=2022.06.15&de=2022.06.15&cluster_rank=15&mynews=0&office_type=0&office_section_code=0&news_office_checked=&nso=so:r,p:from20220615to20220615,a:all&start=11\n",
      "https://search.naver.com/search.naver?where=news&sm=tab_pge&query=%EC%BD%94%EC%8A%A4%ED%94%BC%20%EA%B2%BD%EC%A0%9C&sort=0&photo=0&field=0&pd=3&ds=2022.06.15&de=2022.06.15&cluster_rank=25&mynews=0&office_type=0&office_section_code=0&news_office_checked=&nso=so:r,p:from20220615to20220615,a:all&start=21\n",
      "크롤링 준비\n"
     ]
    },
    {
     "name": "stderr",
     "output_type": "stream",
     "text": [
      "\n",
      "\n",
      "preprocessing day:  48%|██████████████████████████████▍                                | 15/31 [01:49<02:01,  7.61s/it]\u001b[A\u001b[A"
     ]
    },
    {
     "name": "stdout",
     "output_type": "stream",
     "text": [
      "다음날짜로 선택시작\n",
      "다음 날짜 선택 후 크롤링 준비\n",
      "https://search.naver.com/search.naver?where=news&query=%EC%BD%94%EC%8A%A4%ED%94%BC%20%EA%B2%BD%EC%A0%9C&sm=tab_opt&sort=0&photo=0&field=0&pd=3&ds=2022.06.16&de=2022.06.16&docid=&related=0&mynews=0&office_type=0&office_section_code=0&news_office_checked=&nso=so%3Ar%2Cp%3Afrom20220616to20220616&is_sug_officeid=0\n",
      "https://search.naver.com/search.naver?where=news&sm=tab_pge&query=%EC%BD%94%EC%8A%A4%ED%94%BC%20%EA%B2%BD%EC%A0%9C&sort=0&photo=0&field=0&pd=3&ds=2022.06.16&de=2022.06.16&cluster_rank=16&mynews=0&office_type=0&office_section_code=0&news_office_checked=&nso=so:r,p:from20220616to20220616,a:all&start=11\n",
      "https://search.naver.com/search.naver?where=news&sm=tab_pge&query=%EC%BD%94%EC%8A%A4%ED%94%BC%20%EA%B2%BD%EC%A0%9C&sort=0&photo=0&field=0&pd=3&ds=2022.06.16&de=2022.06.16&cluster_rank=30&mynews=0&office_type=0&office_section_code=0&news_office_checked=&nso=so:r,p:from20220616to20220616,a:all&start=21\n",
      "크롤링 준비\n"
     ]
    },
    {
     "name": "stderr",
     "output_type": "stream",
     "text": [
      "\n",
      "\n",
      "preprocessing day:  52%|████████████████████████████████▌                              | 16/31 [01:57<01:53,  7.57s/it]\u001b[A\u001b[A"
     ]
    },
    {
     "name": "stdout",
     "output_type": "stream",
     "text": [
      "다음날짜로 선택시작\n",
      "다음 날짜 선택 후 크롤링 준비\n",
      "https://search.naver.com/search.naver?where=news&query=%EC%BD%94%EC%8A%A4%ED%94%BC%20%EA%B2%BD%EC%A0%9C&sm=tab_opt&sort=0&photo=0&field=0&pd=3&ds=2022.06.17&de=2022.06.17&docid=&related=0&mynews=0&office_type=0&office_section_code=0&news_office_checked=&nso=so%3Ar%2Cp%3Afrom20220617to20220617&is_sug_officeid=0\n",
      "https://search.naver.com/search.naver?where=news&sm=tab_pge&query=%EC%BD%94%EC%8A%A4%ED%94%BC%20%EA%B2%BD%EC%A0%9C&sort=0&photo=0&field=0&pd=3&ds=2022.06.17&de=2022.06.17&cluster_rank=10&mynews=0&office_type=0&office_section_code=0&news_office_checked=&nso=so:r,p:from20220617to20220617,a:all&start=11\n",
      "https://search.naver.com/search.naver?where=news&sm=tab_pge&query=%EC%BD%94%EC%8A%A4%ED%94%BC%20%EA%B2%BD%EC%A0%9C&sort=0&photo=0&field=0&pd=3&ds=2022.06.17&de=2022.06.17&cluster_rank=25&mynews=0&office_type=0&office_section_code=0&news_office_checked=&nso=so:r,p:from20220617to20220617,a:all&start=21\n",
      "크롤링 준비\n"
     ]
    },
    {
     "name": "stderr",
     "output_type": "stream",
     "text": [
      "\n",
      "\n",
      "preprocessing day:  55%|██████████████████████████████████▌                            | 17/31 [02:04<01:45,  7.54s/it]\u001b[A\u001b[A"
     ]
    },
    {
     "name": "stdout",
     "output_type": "stream",
     "text": [
      "다음날짜로 선택시작\n",
      "다음 날짜 선택 후 크롤링 준비\n",
      "https://search.naver.com/search.naver?where=news&query=%EC%BD%94%EC%8A%A4%ED%94%BC%20%EA%B2%BD%EC%A0%9C&sm=tab_opt&sort=0&photo=0&field=0&pd=3&ds=2022.06.18&de=2022.06.18&docid=&related=0&mynews=0&office_type=0&office_section_code=0&news_office_checked=&nso=so%3Ar%2Cp%3Afrom20220618to20220618&is_sug_officeid=0\n",
      "https://search.naver.com/search.naver?where=news&sm=tab_pge&query=%EC%BD%94%EC%8A%A4%ED%94%BC%20%EA%B2%BD%EC%A0%9C&sort=0&photo=0&field=0&pd=3&ds=2022.06.18&de=2022.06.18&cluster_rank=11&mynews=0&office_type=0&office_section_code=0&news_office_checked=&nso=so:r,p:from20220618to20220618,a:all&start=11\n",
      "https://search.naver.com/search.naver?where=news&sm=tab_pge&query=%EC%BD%94%EC%8A%A4%ED%94%BC%20%EA%B2%BD%EC%A0%9C&sort=0&photo=0&field=0&pd=3&ds=2022.06.18&de=2022.06.18&cluster_rank=11&mynews=0&office_type=0&office_section_code=0&news_office_checked=&nso=so:r,p:from20220618to20220618,a:all&start=11\n",
      "크롤링 준비\n"
     ]
    },
    {
     "name": "stderr",
     "output_type": "stream",
     "text": [
      "\n",
      "\n",
      "preprocessing day:  58%|████████████████████████████████████▌                          | 18/31 [02:12<01:36,  7.43s/it]\u001b[A\u001b[A"
     ]
    },
    {
     "name": "stdout",
     "output_type": "stream",
     "text": [
      "다음날짜로 선택시작\n",
      "다음 날짜 선택 후 크롤링 준비\n",
      "https://search.naver.com/search.naver?where=news&query=%EC%BD%94%EC%8A%A4%ED%94%BC%20%EA%B2%BD%EC%A0%9C&sm=tab_opt&sort=0&photo=0&field=0&pd=3&ds=2022.06.19&de=2022.06.19&docid=&related=0&mynews=0&office_type=0&office_section_code=0&news_office_checked=&nso=so%3Ar%2Cp%3Afrom20220619to20220619&is_sug_officeid=0\n",
      "https://search.naver.com/search.naver?where=news&sm=tab_pge&query=%EC%BD%94%EC%8A%A4%ED%94%BC%20%EA%B2%BD%EC%A0%9C&sort=0&photo=0&field=0&pd=3&ds=2022.06.19&de=2022.06.19&cluster_rank=15&mynews=0&office_type=0&office_section_code=0&news_office_checked=&nso=so:r,p:from20220619to20220619,a:all&start=11\n",
      "https://search.naver.com/search.naver?where=news&sm=tab_pge&query=%EC%BD%94%EC%8A%A4%ED%94%BC%20%EA%B2%BD%EC%A0%9C&sort=0&photo=0&field=0&pd=3&ds=2022.06.19&de=2022.06.19&cluster_rank=27&mynews=0&office_type=0&office_section_code=0&news_office_checked=&nso=so:r,p:from20220619to20220619,a:all&start=21\n",
      "크롤링 준비\n"
     ]
    },
    {
     "name": "stderr",
     "output_type": "stream",
     "text": [
      "\n",
      "\n",
      "preprocessing day:  61%|██████████████████████████████████████▌                        | 19/31 [02:19<01:28,  7.35s/it]\u001b[A\u001b[A"
     ]
    },
    {
     "name": "stdout",
     "output_type": "stream",
     "text": [
      "다음날짜로 선택시작\n",
      "다음 날짜 선택 후 크롤링 준비\n",
      "https://search.naver.com/search.naver?where=news&query=%EC%BD%94%EC%8A%A4%ED%94%BC%20%EA%B2%BD%EC%A0%9C&sm=tab_opt&sort=0&photo=0&field=0&pd=3&ds=2022.06.20&de=2022.06.20&docid=&related=0&mynews=0&office_type=0&office_section_code=0&news_office_checked=&nso=so%3Ar%2Cp%3Afrom20220620to20220620&is_sug_officeid=0\n",
      "https://search.naver.com/search.naver?where=news&sm=tab_pge&query=%EC%BD%94%EC%8A%A4%ED%94%BC%20%EA%B2%BD%EC%A0%9C&sort=0&photo=0&field=0&pd=3&ds=2022.06.20&de=2022.06.20&cluster_rank=11&mynews=0&office_type=0&office_section_code=0&news_office_checked=&nso=so:r,p:from20220620to20220620,a:all&start=11\n",
      "https://search.naver.com/search.naver?where=news&sm=tab_pge&query=%EC%BD%94%EC%8A%A4%ED%94%BC%20%EA%B2%BD%EC%A0%9C&sort=0&photo=0&field=0&pd=3&ds=2022.06.20&de=2022.06.20&cluster_rank=22&mynews=0&office_type=0&office_section_code=0&news_office_checked=&nso=so:r,p:from20220620to20220620,a:all&start=21\n",
      "크롤링 준비\n"
     ]
    },
    {
     "name": "stderr",
     "output_type": "stream",
     "text": [
      "\n",
      "\n",
      "preprocessing day:  65%|████████████████████████████████████████▋                      | 20/31 [02:26<01:20,  7.31s/it]\u001b[A\u001b[A"
     ]
    },
    {
     "name": "stdout",
     "output_type": "stream",
     "text": [
      "다음날짜로 선택시작\n",
      "다음 날짜 선택 후 크롤링 준비\n",
      "https://search.naver.com/search.naver?where=news&query=%EC%BD%94%EC%8A%A4%ED%94%BC%20%EA%B2%BD%EC%A0%9C&sm=tab_opt&sort=0&photo=0&field=0&pd=3&ds=2022.06.21&de=2022.06.21&docid=&related=0&mynews=0&office_type=0&office_section_code=0&news_office_checked=&nso=so%3Ar%2Cp%3Afrom20220621to20220621&is_sug_officeid=0\n",
      "https://search.naver.com/search.naver?where=news&sm=tab_pge&query=%EC%BD%94%EC%8A%A4%ED%94%BC%20%EA%B2%BD%EC%A0%9C&sort=0&photo=0&field=0&pd=3&ds=2022.06.21&de=2022.06.21&cluster_rank=12&mynews=0&office_type=0&office_section_code=0&news_office_checked=&nso=so:r,p:from20220621to20220621,a:all&start=11\n",
      "https://search.naver.com/search.naver?where=news&sm=tab_pge&query=%EC%BD%94%EC%8A%A4%ED%94%BC%20%EA%B2%BD%EC%A0%9C&sort=0&photo=0&field=0&pd=3&ds=2022.06.21&de=2022.06.21&cluster_rank=23&mynews=0&office_type=0&office_section_code=0&news_office_checked=&nso=so:r,p:from20220621to20220621,a:all&start=21\n",
      "크롤링 준비\n"
     ]
    },
    {
     "name": "stderr",
     "output_type": "stream",
     "text": [
      "\n",
      "\n",
      "preprocessing day:  68%|██████████████████████████████████████████▋                    | 21/31 [02:33<01:12,  7.20s/it]\u001b[A\u001b[A"
     ]
    },
    {
     "name": "stdout",
     "output_type": "stream",
     "text": [
      "다음날짜로 선택시작\n",
      "다음 날짜 선택 후 크롤링 준비\n",
      "https://search.naver.com/search.naver?where=news&query=%EC%BD%94%EC%8A%A4%ED%94%BC%20%EA%B2%BD%EC%A0%9C&sm=tab_opt&sort=0&photo=0&field=0&pd=3&ds=2022.06.22&de=2022.06.22&docid=&related=0&mynews=0&office_type=0&office_section_code=0&news_office_checked=&nso=so%3Ar%2Cp%3Afrom20220622to20220622&is_sug_officeid=0\n",
      "https://search.naver.com/search.naver?where=news&sm=tab_pge&query=%EC%BD%94%EC%8A%A4%ED%94%BC%20%EA%B2%BD%EC%A0%9C&sort=0&photo=0&field=0&pd=3&ds=2022.06.22&de=2022.06.22&cluster_rank=13&mynews=0&office_type=0&office_section_code=0&news_office_checked=&nso=so:r,p:from20220622to20220622,a:all&start=11\n",
      "https://search.naver.com/search.naver?where=news&sm=tab_pge&query=%EC%BD%94%EC%8A%A4%ED%94%BC%20%EA%B2%BD%EC%A0%9C&sort=0&photo=0&field=0&pd=3&ds=2022.06.22&de=2022.06.22&cluster_rank=24&mynews=0&office_type=0&office_section_code=0&news_office_checked=&nso=so:r,p:from20220622to20220622,a:all&start=21\n",
      "크롤링 준비\n"
     ]
    },
    {
     "name": "stderr",
     "output_type": "stream",
     "text": [
      "\n",
      "\n",
      "preprocessing day:  71%|████████████████████████████████████████████▋                  | 22/31 [02:40<01:04,  7.16s/it]\u001b[A\u001b[A"
     ]
    },
    {
     "name": "stdout",
     "output_type": "stream",
     "text": [
      "다음날짜로 선택시작\n",
      "다음 날짜 선택 후 크롤링 준비\n",
      "https://search.naver.com/search.naver?where=news&query=%EC%BD%94%EC%8A%A4%ED%94%BC%20%EA%B2%BD%EC%A0%9C&sm=tab_opt&sort=0&photo=0&field=0&pd=3&ds=2022.06.23&de=2022.06.23&docid=&related=0&mynews=0&office_type=0&office_section_code=0&news_office_checked=&nso=so%3Ar%2Cp%3Afrom20220623to20220623&is_sug_officeid=0\n",
      "https://search.naver.com/search.naver?where=news&sm=tab_pge&query=%EC%BD%94%EC%8A%A4%ED%94%BC%20%EA%B2%BD%EC%A0%9C&sort=0&photo=0&field=0&pd=3&ds=2022.06.23&de=2022.06.23&cluster_rank=18&mynews=0&office_type=0&office_section_code=0&news_office_checked=&nso=so:r,p:from20220623to20220623,a:all&start=11\n",
      "https://search.naver.com/search.naver?where=news&sm=tab_pge&query=%EC%BD%94%EC%8A%A4%ED%94%BC%20%EA%B2%BD%EC%A0%9C&sort=0&photo=0&field=0&pd=3&ds=2022.06.23&de=2022.06.23&cluster_rank=29&mynews=0&office_type=0&office_section_code=0&news_office_checked=&nso=so:r,p:from20220623to20220623,a:all&start=21\n",
      "크롤링 준비\n"
     ]
    },
    {
     "name": "stderr",
     "output_type": "stream",
     "text": [
      "\n",
      "\n",
      "preprocessing day:  74%|██████████████████████████████████████████████▋                | 23/31 [02:47<00:57,  7.23s/it]\u001b[A\u001b[A"
     ]
    },
    {
     "name": "stdout",
     "output_type": "stream",
     "text": [
      "다음날짜로 선택시작\n",
      "다음 날짜 선택 후 크롤링 준비\n",
      "https://search.naver.com/search.naver?where=news&query=%EC%BD%94%EC%8A%A4%ED%94%BC%20%EA%B2%BD%EC%A0%9C&sm=tab_opt&sort=0&photo=0&field=0&pd=3&ds=2022.06.24&de=2022.06.24&docid=&related=0&mynews=0&office_type=0&office_section_code=0&news_office_checked=&nso=so%3Ar%2Cp%3Afrom20220624to20220624&is_sug_officeid=0\n",
      "https://search.naver.com/search.naver?where=news&sm=tab_pge&query=%EC%BD%94%EC%8A%A4%ED%94%BC%20%EA%B2%BD%EC%A0%9C&sort=0&photo=0&field=0&pd=3&ds=2022.06.24&de=2022.06.24&cluster_rank=18&mynews=0&office_type=0&office_section_code=0&news_office_checked=&nso=so:r,p:from20220624to20220624,a:all&start=11\n",
      "https://search.naver.com/search.naver?where=news&sm=tab_pge&query=%EC%BD%94%EC%8A%A4%ED%94%BC%20%EA%B2%BD%EC%A0%9C&sort=0&photo=0&field=0&pd=3&ds=2022.06.24&de=2022.06.24&cluster_rank=28&mynews=0&office_type=0&office_section_code=0&news_office_checked=&nso=so:r,p:from20220624to20220624,a:all&start=21\n",
      "크롤링 준비\n"
     ]
    },
    {
     "name": "stderr",
     "output_type": "stream",
     "text": [
      "\n",
      "\n",
      "preprocessing day:  77%|████████████████████████████████████████████████▊              | 24/31 [02:55<00:50,  7.23s/it]\u001b[A\u001b[A"
     ]
    },
    {
     "name": "stdout",
     "output_type": "stream",
     "text": [
      "다음날짜로 선택시작\n",
      "다음 날짜 선택 후 크롤링 준비\n",
      "https://search.naver.com/search.naver?where=news&query=%EC%BD%94%EC%8A%A4%ED%94%BC%20%EA%B2%BD%EC%A0%9C&sm=tab_opt&sort=0&photo=0&field=0&pd=3&ds=2022.06.25&de=2022.06.25&docid=&related=0&mynews=0&office_type=0&office_section_code=0&news_office_checked=&nso=so%3Ar%2Cp%3Afrom20220625to20220625&is_sug_officeid=0\n",
      "https://search.naver.com/search.naver?where=news&sm=tab_pge&query=%EC%BD%94%EC%8A%A4%ED%94%BC%20%EA%B2%BD%EC%A0%9C&sort=0&photo=0&field=0&pd=3&ds=2022.06.25&de=2022.06.25&cluster_rank=11&mynews=0&office_type=0&office_section_code=0&news_office_checked=&nso=so:r,p:from20220625to20220625,a:all&start=11\n",
      "https://search.naver.com/search.naver?where=news&sm=tab_pge&query=%EC%BD%94%EC%8A%A4%ED%94%BC%20%EA%B2%BD%EC%A0%9C&sort=0&photo=0&field=0&pd=3&ds=2022.06.25&de=2022.06.25&cluster_rank=21&mynews=0&office_type=0&office_section_code=0&news_office_checked=&nso=so:r,p:from20220625to20220625,a:all&start=21\n",
      "크롤링 준비\n"
     ]
    },
    {
     "name": "stderr",
     "output_type": "stream",
     "text": [
      "\n",
      "\n",
      "preprocessing day:  81%|██████████████████████████████████████████████████▊            | 25/31 [03:02<00:44,  7.35s/it]\u001b[A\u001b[A"
     ]
    },
    {
     "name": "stdout",
     "output_type": "stream",
     "text": [
      "다음날짜로 선택시작\n",
      "다음 날짜 선택 후 크롤링 준비\n",
      "https://search.naver.com/search.naver?where=news&query=%EC%BD%94%EC%8A%A4%ED%94%BC%20%EA%B2%BD%EC%A0%9C&sm=tab_opt&sort=0&photo=0&field=0&pd=3&ds=2022.06.26&de=2022.06.26&docid=&related=0&mynews=0&office_type=0&office_section_code=0&news_office_checked=&nso=so%3Ar%2Cp%3Afrom20220626to20220626&is_sug_officeid=0\n",
      "https://search.naver.com/search.naver?where=news&sm=tab_pge&query=%EC%BD%94%EC%8A%A4%ED%94%BC%20%EA%B2%BD%EC%A0%9C&sort=0&photo=0&field=0&pd=3&ds=2022.06.26&de=2022.06.26&cluster_rank=21&mynews=0&office_type=0&office_section_code=0&news_office_checked=&nso=so:r,p:from20220626to20220626,a:all&start=11\n",
      "https://search.naver.com/search.naver?where=news&sm=tab_pge&query=%EC%BD%94%EC%8A%A4%ED%94%BC%20%EA%B2%BD%EC%A0%9C&sort=0&photo=0&field=0&pd=3&ds=2022.06.26&de=2022.06.26&cluster_rank=31&mynews=0&office_type=0&office_section_code=0&news_office_checked=&nso=so:r,p:from20220626to20220626,a:all&start=21\n",
      "크롤링 준비\n"
     ]
    },
    {
     "name": "stderr",
     "output_type": "stream",
     "text": [
      "\n",
      "\n",
      "preprocessing day:  84%|████████████████████████████████████████████████████▊          | 26/31 [03:09<00:36,  7.29s/it]\u001b[A\u001b[A"
     ]
    },
    {
     "name": "stdout",
     "output_type": "stream",
     "text": [
      "다음날짜로 선택시작\n",
      "다음 날짜 선택 후 크롤링 준비\n",
      "https://search.naver.com/search.naver?where=news&query=%EC%BD%94%EC%8A%A4%ED%94%BC%20%EA%B2%BD%EC%A0%9C&sm=tab_opt&sort=0&photo=0&field=0&pd=3&ds=2022.06.27&de=2022.06.27&docid=&related=0&mynews=0&office_type=0&office_section_code=0&news_office_checked=&nso=so%3Ar%2Cp%3Afrom20220627to20220627&is_sug_officeid=0\n",
      "https://search.naver.com/search.naver?where=news&sm=tab_pge&query=%EC%BD%94%EC%8A%A4%ED%94%BC%20%EA%B2%BD%EC%A0%9C&sort=0&photo=0&field=0&pd=3&ds=2022.06.27&de=2022.06.27&cluster_rank=14&mynews=0&office_type=0&office_section_code=0&news_office_checked=&nso=so:r,p:from20220627to20220627,a:all&start=11\n",
      "https://search.naver.com/search.naver?where=news&sm=tab_pge&query=%EC%BD%94%EC%8A%A4%ED%94%BC%20%EA%B2%BD%EC%A0%9C&sort=0&photo=0&field=0&pd=3&ds=2022.06.27&de=2022.06.27&cluster_rank=24&mynews=0&office_type=0&office_section_code=0&news_office_checked=&nso=so:r,p:from20220627to20220627,a:all&start=21\n",
      "크롤링 준비\n"
     ]
    },
    {
     "name": "stderr",
     "output_type": "stream",
     "text": [
      "\n",
      "\n",
      "preprocessing day:  87%|██████████████████████████████████████████████████████▊        | 27/31 [03:16<00:28,  7.18s/it]\u001b[A\u001b[A"
     ]
    },
    {
     "name": "stdout",
     "output_type": "stream",
     "text": [
      "다음날짜로 선택시작\n",
      "다음 날짜 선택 후 크롤링 준비\n",
      "https://search.naver.com/search.naver?where=news&query=%EC%BD%94%EC%8A%A4%ED%94%BC%20%EA%B2%BD%EC%A0%9C&sm=tab_opt&sort=0&photo=0&field=0&pd=3&ds=2022.06.28&de=2022.06.28&docid=&related=0&mynews=0&office_type=0&office_section_code=0&news_office_checked=&nso=so%3Ar%2Cp%3Afrom20220628to20220628&is_sug_officeid=0\n",
      "https://search.naver.com/search.naver?where=news&sm=tab_pge&query=%EC%BD%94%EC%8A%A4%ED%94%BC%20%EA%B2%BD%EC%A0%9C&sort=0&photo=0&field=0&pd=3&ds=2022.06.28&de=2022.06.28&cluster_rank=14&mynews=0&office_type=0&office_section_code=0&news_office_checked=&nso=so:r,p:from20220628to20220628,a:all&start=11\n",
      "https://search.naver.com/search.naver?where=news&sm=tab_pge&query=%EC%BD%94%EC%8A%A4%ED%94%BC%20%EA%B2%BD%EC%A0%9C&sort=0&photo=0&field=0&pd=3&ds=2022.06.28&de=2022.06.28&cluster_rank=26&mynews=0&office_type=0&office_section_code=0&news_office_checked=&nso=so:r,p:from20220628to20220628,a:all&start=21\n",
      "크롤링 준비\n"
     ]
    },
    {
     "name": "stderr",
     "output_type": "stream",
     "text": [
      "\n",
      "\n",
      "preprocessing day:  90%|████████████████████████████████████████████████████████▉      | 28/31 [03:24<00:22,  7.39s/it]\u001b[A\u001b[A"
     ]
    },
    {
     "name": "stdout",
     "output_type": "stream",
     "text": [
      "다음날짜로 선택시작\n",
      "다음 날짜 선택 후 크롤링 준비\n",
      "https://search.naver.com/search.naver?where=news&query=%EC%BD%94%EC%8A%A4%ED%94%BC%20%EA%B2%BD%EC%A0%9C&sm=tab_opt&sort=0&photo=0&field=0&pd=3&ds=2022.06.29&de=2022.06.29&docid=&related=0&mynews=0&office_type=0&office_section_code=0&news_office_checked=&nso=so%3Ar%2Cp%3Afrom20220629to20220629&is_sug_officeid=0\n",
      "https://search.naver.com/search.naver?where=news&sm=tab_pge&query=%EC%BD%94%EC%8A%A4%ED%94%BC%20%EA%B2%BD%EC%A0%9C&sort=0&photo=0&field=0&pd=3&ds=2022.06.29&de=2022.06.29&cluster_rank=16&mynews=0&office_type=0&office_section_code=0&news_office_checked=&nso=so:r,p:from20220629to20220629,a:all&start=11\n",
      "https://search.naver.com/search.naver?where=news&sm=tab_pge&query=%EC%BD%94%EC%8A%A4%ED%94%BC%20%EA%B2%BD%EC%A0%9C&sort=0&photo=0&field=0&pd=3&ds=2022.06.29&de=2022.06.29&cluster_rank=28&mynews=0&office_type=0&office_section_code=0&news_office_checked=&nso=so:r,p:from20220629to20220629,a:all&start=21\n",
      "크롤링 준비\n"
     ]
    },
    {
     "name": "stderr",
     "output_type": "stream",
     "text": [
      "\n",
      "\n",
      "preprocessing day:  94%|██████████████████████████████████████████████████████████▉    | 29/31 [03:32<00:14,  7.46s/it]\u001b[A\u001b[A"
     ]
    },
    {
     "name": "stdout",
     "output_type": "stream",
     "text": [
      "다음날짜로 선택시작\n",
      "다음 날짜 선택 후 크롤링 준비\n",
      "https://search.naver.com/search.naver?where=news&query=%EC%BD%94%EC%8A%A4%ED%94%BC%20%EA%B2%BD%EC%A0%9C&sm=tab_opt&sort=0&photo=0&field=0&pd=3&ds=2022.06.30&de=2022.06.30&docid=&related=0&mynews=0&office_type=0&office_section_code=0&news_office_checked=&nso=so%3Ar%2Cp%3Afrom20220630to20220630&is_sug_officeid=0\n",
      "https://search.naver.com/search.naver?where=news&sm=tab_pge&query=%EC%BD%94%EC%8A%A4%ED%94%BC%20%EA%B2%BD%EC%A0%9C&sort=0&photo=0&field=0&pd=3&ds=2022.06.30&de=2022.06.30&cluster_rank=12&mynews=0&office_type=0&office_section_code=0&news_office_checked=&nso=so:r,p:from20220630to20220630,a:all&start=11\n",
      "https://search.naver.com/search.naver?where=news&sm=tab_pge&query=%EC%BD%94%EC%8A%A4%ED%94%BC%20%EA%B2%BD%EC%A0%9C&sort=0&photo=0&field=0&pd=3&ds=2022.06.30&de=2022.06.30&cluster_rank=23&mynews=0&office_type=0&office_section_code=0&news_office_checked=&nso=so:r,p:from20220630to20220630,a:all&start=21\n",
      "크롤링 준비\n"
     ]
    },
    {
     "name": "stderr",
     "output_type": "stream",
     "text": [
      "\n",
      "\n",
      "preprocessing day:  97%|████████████████████████████████████████████████████████████▉  | 30/31 [03:39<00:07,  7.46s/it]\u001b[A\u001b[A"
     ]
    },
    {
     "name": "stdout",
     "output_type": "stream",
     "text": [
      "다음날짜로 선택시작\n"
     ]
    },
    {
     "name": "stderr",
     "output_type": "stream",
     "text": [
      "\n",
      "\n",
      "preprocessing day: 100%|███████████████████████████████████████████████████████████████| 31/31 [03:40<00:00,  7.13s/it]\u001b[A\u001b[A\n",
      "\n",
      "preprocessing month:  50%|██████████████████████████████▌                              | 6/12 [22:04<22:09, 221.54s/it]\u001b[A"
     ]
    },
    {
     "name": "stdout",
     "output_type": "stream",
     "text": [
      "An error occurred while crawling for 2022-6-31: Message: no such element: Unable to locate element: {\"method\":\"xpath\",\"selector\":\"/html/body/div[3]/div[2]/div/div[1]/div[1]/div[2]/ul/li[2]/div/div[3]/div[2]/div[3]/div/div/div/ul/li[31]\"}\n",
      "  (Session info: headless chrome=115.0.5790.171); For documentation on this error, please visit: https://www.selenium.dev/documentation/webdriver/troubleshooting/errors#no-such-element-exception\n",
      "Stacktrace:\n",
      "Backtrace:\n",
      "\tGetHandleVerifier [0x00007FF6B65D4A62+57106]\n",
      "\t(No symbol) [0x00007FF6B654CF52]\n",
      "\t(No symbol) [0x00007FF6B641E2CB]\n",
      "\t(No symbol) [0x00007FF6B645786E]\n",
      "\t(No symbol) [0x00007FF6B645795C]\n",
      "\t(No symbol) [0x00007FF6B6490477]\n",
      "\t(No symbol) [0x00007FF6B64769FF]\n",
      "\t(No symbol) [0x00007FF6B648E522]\n",
      "\t(No symbol) [0x00007FF6B6476793]\n",
      "\t(No symbol) [0x00007FF6B644CE81]\n",
      "\t(No symbol) [0x00007FF6B644E064]\n",
      "\tGetHandleVerifier [0x00007FF6B6884222+2873042]\n",
      "\tGetHandleVerifier [0x00007FF6B68D6590+3209792]\n",
      "\tGetHandleVerifier [0x00007FF6B68CF3AF+3180639]\n",
      "\tGetHandleVerifier [0x00007FF6B6665F25+652245]\n",
      "\t(No symbol) [0x00007FF6B6558618]\n",
      "\t(No symbol) [0x00007FF6B65547C4]\n",
      "\t(No symbol) [0x00007FF6B65548BC]\n",
      "\t(No symbol) [0x00007FF6B6544C33]\n",
      "\tBaseThreadInitThunk [0x00007FFBFCDD7614+20]\n",
      "\tRtlUserThreadStart [0x00007FFBFD9226B1+33]\n",
      "\n"
     ]
    },
    {
     "name": "stderr",
     "output_type": "stream",
     "text": [
      "\n",
      "\n",
      "preprocessing day:   0%|                                                                        | 0/31 [00:00<?, ?it/s]\u001b[A\u001b[A"
     ]
    },
    {
     "name": "stdout",
     "output_type": "stream",
     "text": [
      "다음 날짜 선택 후 크롤링 준비\n",
      "https://search.naver.com/search.naver?where=news&query=%EC%BD%94%EC%8A%A4%ED%94%BC%20%EA%B2%BD%EC%A0%9C&sm=tab_opt&sort=0&photo=0&field=0&pd=3&ds=2022.07.01&de=2022.07.01&docid=&related=0&mynews=0&office_type=0&office_section_code=0&news_office_checked=&nso=so%3Ar%2Cp%3Afrom20220701to20220701&is_sug_officeid=0\n",
      "https://search.naver.com/search.naver?where=news&sm=tab_pge&query=%EC%BD%94%EC%8A%A4%ED%94%BC%20%EA%B2%BD%EC%A0%9C&sort=0&photo=0&field=0&pd=3&ds=2022.07.01&de=2022.07.01&cluster_rank=15&mynews=0&office_type=0&office_section_code=0&news_office_checked=&nso=so:r,p:from20220701to20220701,a:all&start=11\n",
      "https://search.naver.com/search.naver?where=news&sm=tab_pge&query=%EC%BD%94%EC%8A%A4%ED%94%BC%20%EA%B2%BD%EC%A0%9C&sort=0&photo=0&field=0&pd=3&ds=2022.07.01&de=2022.07.01&cluster_rank=27&mynews=0&office_type=0&office_section_code=0&news_office_checked=&nso=so:r,p:from20220701to20220701,a:all&start=21\n",
      "크롤링 준비\n"
     ]
    },
    {
     "name": "stderr",
     "output_type": "stream",
     "text": [
      "\n",
      "\n",
      "preprocessing day:   3%|██                                                              | 1/31 [00:07<03:47,  7.59s/it]\u001b[A\u001b[A"
     ]
    },
    {
     "name": "stdout",
     "output_type": "stream",
     "text": [
      "다음날짜로 선택시작\n",
      "다음 날짜 선택 후 크롤링 준비\n",
      "https://search.naver.com/search.naver?where=news&query=%EC%BD%94%EC%8A%A4%ED%94%BC%20%EA%B2%BD%EC%A0%9C&sm=tab_opt&sort=0&photo=0&field=0&pd=3&ds=2022.07.02&de=2022.07.02&docid=&related=0&mynews=0&office_type=0&office_section_code=0&news_office_checked=&nso=so%3Ar%2Cp%3Afrom20220702to20220702&is_sug_officeid=0\n",
      "https://search.naver.com/search.naver?where=news&sm=tab_pge&query=%EC%BD%94%EC%8A%A4%ED%94%BC%20%EA%B2%BD%EC%A0%9C&sort=0&photo=0&field=0&pd=3&ds=2022.07.02&de=2022.07.02&cluster_rank=12&mynews=0&office_type=0&office_section_code=0&news_office_checked=&nso=so:r,p:from20220702to20220702,a:all&start=11\n",
      "https://search.naver.com/search.naver?where=news&sm=tab_pge&query=%EC%BD%94%EC%8A%A4%ED%94%BC%20%EA%B2%BD%EC%A0%9C&sort=0&photo=0&field=0&pd=3&ds=2022.07.02&de=2022.07.02&cluster_rank=23&mynews=0&office_type=0&office_section_code=0&news_office_checked=&nso=so:r,p:from20220702to20220702,a:all&start=21\n",
      "크롤링 준비\n"
     ]
    },
    {
     "name": "stderr",
     "output_type": "stream",
     "text": [
      "\n",
      "\n",
      "preprocessing day:   6%|████▏                                                           | 2/31 [00:15<03:39,  7.58s/it]\u001b[A\u001b[A"
     ]
    },
    {
     "name": "stdout",
     "output_type": "stream",
     "text": [
      "다음날짜로 선택시작\n",
      "다음 날짜 선택 후 크롤링 준비\n",
      "https://search.naver.com/search.naver?where=news&query=%EC%BD%94%EC%8A%A4%ED%94%BC%20%EA%B2%BD%EC%A0%9C&sm=tab_opt&sort=0&photo=0&field=0&pd=3&ds=2022.07.03&de=2022.07.03&docid=&related=0&mynews=0&office_type=0&office_section_code=0&news_office_checked=&nso=so%3Ar%2Cp%3Afrom20220703to20220703&is_sug_officeid=0\n",
      "https://search.naver.com/search.naver?where=news&sm=tab_pge&query=%EC%BD%94%EC%8A%A4%ED%94%BC%20%EA%B2%BD%EC%A0%9C&sort=0&photo=0&field=0&pd=3&ds=2022.07.03&de=2022.07.03&cluster_rank=13&mynews=0&office_type=0&office_section_code=0&news_office_checked=&nso=so:r,p:from20220703to20220703,a:all&start=11\n",
      "https://search.naver.com/search.naver?where=news&sm=tab_pge&query=%EC%BD%94%EC%8A%A4%ED%94%BC%20%EA%B2%BD%EC%A0%9C&sort=0&photo=0&field=0&pd=3&ds=2022.07.03&de=2022.07.03&cluster_rank=25&mynews=0&office_type=0&office_section_code=0&news_office_checked=&nso=so:r,p:from20220703to20220703,a:all&start=21\n",
      "크롤링 준비\n"
     ]
    },
    {
     "name": "stderr",
     "output_type": "stream",
     "text": [
      "\n",
      "\n",
      "preprocessing day:  10%|██████▏                                                         | 3/31 [00:22<03:33,  7.62s/it]\u001b[A\u001b[A"
     ]
    },
    {
     "name": "stdout",
     "output_type": "stream",
     "text": [
      "다음날짜로 선택시작\n",
      "다음 날짜 선택 후 크롤링 준비\n",
      "https://search.naver.com/search.naver?where=news&query=%EC%BD%94%EC%8A%A4%ED%94%BC%20%EA%B2%BD%EC%A0%9C&sm=tab_opt&sort=0&photo=0&field=0&pd=3&ds=2022.07.04&de=2022.07.04&docid=&related=0&mynews=0&office_type=0&office_section_code=0&news_office_checked=&nso=so%3Ar%2Cp%3Afrom20220704to20220704&is_sug_officeid=0\n",
      "https://search.naver.com/search.naver?where=news&sm=tab_pge&query=%EC%BD%94%EC%8A%A4%ED%94%BC%20%EA%B2%BD%EC%A0%9C&sort=0&photo=0&field=0&pd=3&ds=2022.07.04&de=2022.07.04&cluster_rank=14&mynews=0&office_type=0&office_section_code=0&news_office_checked=&nso=so:r,p:from20220704to20220704,a:all&start=11\n",
      "https://search.naver.com/search.naver?where=news&sm=tab_pge&query=%EC%BD%94%EC%8A%A4%ED%94%BC%20%EA%B2%BD%EC%A0%9C&sort=0&photo=0&field=0&pd=3&ds=2022.07.04&de=2022.07.04&cluster_rank=25&mynews=0&office_type=0&office_section_code=0&news_office_checked=&nso=so:r,p:from20220704to20220704,a:all&start=21\n",
      "크롤링 준비\n"
     ]
    },
    {
     "name": "stderr",
     "output_type": "stream",
     "text": [
      "\n",
      "\n",
      "preprocessing day:  13%|████████▎                                                       | 4/31 [00:30<03:22,  7.51s/it]\u001b[A\u001b[A"
     ]
    },
    {
     "name": "stdout",
     "output_type": "stream",
     "text": [
      "다음날짜로 선택시작\n",
      "다음 날짜 선택 후 크롤링 준비\n",
      "https://search.naver.com/search.naver?where=news&query=%EC%BD%94%EC%8A%A4%ED%94%BC%20%EA%B2%BD%EC%A0%9C&sm=tab_opt&sort=0&photo=0&field=0&pd=3&ds=2022.07.05&de=2022.07.05&docid=&related=0&mynews=0&office_type=0&office_section_code=0&news_office_checked=&nso=so%3Ar%2Cp%3Afrom20220705to20220705&is_sug_officeid=0\n",
      "https://search.naver.com/search.naver?where=news&sm=tab_pge&query=%EC%BD%94%EC%8A%A4%ED%94%BC%20%EA%B2%BD%EC%A0%9C&sort=0&photo=0&field=0&pd=3&ds=2022.07.05&de=2022.07.05&cluster_rank=13&mynews=0&office_type=0&office_section_code=0&news_office_checked=&nso=so:r,p:from20220705to20220705,a:all&start=11\n",
      "https://search.naver.com/search.naver?where=news&sm=tab_pge&query=%EC%BD%94%EC%8A%A4%ED%94%BC%20%EA%B2%BD%EC%A0%9C&sort=0&photo=0&field=0&pd=3&ds=2022.07.05&de=2022.07.05&cluster_rank=23&mynews=0&office_type=0&office_section_code=0&news_office_checked=&nso=so:r,p:from20220705to20220705,a:all&start=21\n",
      "크롤링 준비\n"
     ]
    },
    {
     "name": "stderr",
     "output_type": "stream",
     "text": [
      "\n",
      "\n",
      "preprocessing day:  16%|██████████▎                                                     | 5/31 [00:37<03:09,  7.31s/it]\u001b[A\u001b[A"
     ]
    },
    {
     "name": "stdout",
     "output_type": "stream",
     "text": [
      "다음날짜로 선택시작\n",
      "다음 날짜 선택 후 크롤링 준비\n",
      "https://search.naver.com/search.naver?where=news&query=%EC%BD%94%EC%8A%A4%ED%94%BC%20%EA%B2%BD%EC%A0%9C&sm=tab_opt&sort=0&photo=0&field=0&pd=3&ds=2022.07.06&de=2022.07.06&docid=&related=0&mynews=0&office_type=0&office_section_code=0&news_office_checked=&nso=so%3Ar%2Cp%3Afrom20220706to20220706&is_sug_officeid=0\n",
      "https://search.naver.com/search.naver?where=news&sm=tab_pge&query=%EC%BD%94%EC%8A%A4%ED%94%BC%20%EA%B2%BD%EC%A0%9C&sort=0&photo=0&field=0&pd=3&ds=2022.07.06&de=2022.07.06&cluster_rank=14&mynews=0&office_type=0&office_section_code=0&news_office_checked=&nso=so:r,p:from20220706to20220706,a:all&start=11\n",
      "https://search.naver.com/search.naver?where=news&sm=tab_pge&query=%EC%BD%94%EC%8A%A4%ED%94%BC%20%EA%B2%BD%EC%A0%9C&sort=0&photo=0&field=0&pd=3&ds=2022.07.06&de=2022.07.06&cluster_rank=24&mynews=0&office_type=0&office_section_code=0&news_office_checked=&nso=so:r,p:from20220706to20220706,a:all&start=21\n",
      "크롤링 준비\n"
     ]
    },
    {
     "name": "stderr",
     "output_type": "stream",
     "text": [
      "\n",
      "\n",
      "preprocessing day:  19%|████████████▍                                                   | 6/31 [00:44<02:59,  7.18s/it]\u001b[A\u001b[A"
     ]
    },
    {
     "name": "stdout",
     "output_type": "stream",
     "text": [
      "다음날짜로 선택시작\n",
      "다음 날짜 선택 후 크롤링 준비\n",
      "https://search.naver.com/search.naver?where=news&query=%EC%BD%94%EC%8A%A4%ED%94%BC%20%EA%B2%BD%EC%A0%9C&sm=tab_opt&sort=0&photo=0&field=0&pd=3&ds=2022.07.07&de=2022.07.07&docid=&related=0&mynews=0&office_type=0&office_section_code=0&news_office_checked=&nso=so%3Ar%2Cp%3Afrom20220707to20220707&is_sug_officeid=0\n",
      "https://search.naver.com/search.naver?where=news&sm=tab_pge&query=%EC%BD%94%EC%8A%A4%ED%94%BC%20%EA%B2%BD%EC%A0%9C&sort=0&photo=0&field=0&pd=3&ds=2022.07.07&de=2022.07.07&cluster_rank=19&mynews=0&office_type=0&office_section_code=0&news_office_checked=&nso=so:r,p:from20220707to20220707,a:all&start=11\n",
      "https://search.naver.com/search.naver?where=news&sm=tab_pge&query=%EC%BD%94%EC%8A%A4%ED%94%BC%20%EA%B2%BD%EC%A0%9C&sort=0&photo=0&field=0&pd=3&ds=2022.07.07&de=2022.07.07&cluster_rank=30&mynews=0&office_type=0&office_section_code=0&news_office_checked=&nso=so:r,p:from20220707to20220707,a:all&start=21\n",
      "크롤링 준비\n"
     ]
    },
    {
     "name": "stderr",
     "output_type": "stream",
     "text": [
      "\n",
      "\n",
      "preprocessing day:  23%|██████████████▍                                                 | 7/31 [00:51<02:51,  7.16s/it]\u001b[A\u001b[A"
     ]
    },
    {
     "name": "stdout",
     "output_type": "stream",
     "text": [
      "다음날짜로 선택시작\n",
      "다음 날짜 선택 후 크롤링 준비\n",
      "https://search.naver.com/search.naver?where=news&query=%EC%BD%94%EC%8A%A4%ED%94%BC%20%EA%B2%BD%EC%A0%9C&sm=tab_opt&sort=0&photo=0&field=0&pd=3&ds=2022.07.08&de=2022.07.08&docid=&related=0&mynews=0&office_type=0&office_section_code=0&news_office_checked=&nso=so%3Ar%2Cp%3Afrom20220708to20220708&is_sug_officeid=0\n",
      "https://search.naver.com/search.naver?where=news&sm=tab_pge&query=%EC%BD%94%EC%8A%A4%ED%94%BC%20%EA%B2%BD%EC%A0%9C&sort=0&photo=0&field=0&pd=3&ds=2022.07.08&de=2022.07.08&cluster_rank=16&mynews=0&office_type=0&office_section_code=0&news_office_checked=&nso=so:r,p:from20220708to20220708,a:all&start=11\n",
      "https://search.naver.com/search.naver?where=news&sm=tab_pge&query=%EC%BD%94%EC%8A%A4%ED%94%BC%20%EA%B2%BD%EC%A0%9C&sort=0&photo=0&field=0&pd=3&ds=2022.07.08&de=2022.07.08&cluster_rank=26&mynews=0&office_type=0&office_section_code=0&news_office_checked=&nso=so:r,p:from20220708to20220708,a:all&start=21\n",
      "크롤링 준비\n"
     ]
    },
    {
     "name": "stderr",
     "output_type": "stream",
     "text": [
      "\n",
      "\n",
      "preprocessing day:  26%|████████████████▌                                               | 8/31 [00:58<02:42,  7.06s/it]\u001b[A\u001b[A"
     ]
    },
    {
     "name": "stdout",
     "output_type": "stream",
     "text": [
      "다음날짜로 선택시작\n",
      "다음 날짜 선택 후 크롤링 준비\n",
      "https://search.naver.com/search.naver?where=news&query=%EC%BD%94%EC%8A%A4%ED%94%BC%20%EA%B2%BD%EC%A0%9C&sm=tab_opt&sort=0&photo=0&field=0&pd=3&ds=2022.07.09&de=2022.07.09&docid=&related=0&mynews=0&office_type=0&office_section_code=0&news_office_checked=&nso=so%3Ar%2Cp%3Afrom20220709to20220709&is_sug_officeid=0\n",
      "https://search.naver.com/search.naver?where=news&sm=tab_pge&query=%EC%BD%94%EC%8A%A4%ED%94%BC%20%EA%B2%BD%EC%A0%9C&sort=0&photo=0&field=0&pd=3&ds=2022.07.09&de=2022.07.09&cluster_rank=12&mynews=0&office_type=0&office_section_code=0&news_office_checked=&nso=so:r,p:from20220709to20220709,a:all&start=11\n",
      "https://search.naver.com/search.naver?where=news&sm=tab_pge&query=%EC%BD%94%EC%8A%A4%ED%94%BC%20%EA%B2%BD%EC%A0%9C&sort=0&photo=0&field=0&pd=3&ds=2022.07.09&de=2022.07.09&cluster_rank=12&mynews=0&office_type=0&office_section_code=0&news_office_checked=&nso=so:r,p:from20220709to20220709,a:all&start=11\n",
      "크롤링 준비\n"
     ]
    },
    {
     "name": "stderr",
     "output_type": "stream",
     "text": [
      "\n",
      "\n",
      "preprocessing day:  29%|██████████████████▌                                             | 9/31 [01:04<02:33,  6.95s/it]\u001b[A\u001b[A"
     ]
    },
    {
     "name": "stdout",
     "output_type": "stream",
     "text": [
      "다음날짜로 선택시작\n",
      "다음 날짜 선택 후 크롤링 준비\n",
      "https://search.naver.com/search.naver?where=news&query=%EC%BD%94%EC%8A%A4%ED%94%BC%20%EA%B2%BD%EC%A0%9C&sm=tab_opt&sort=0&photo=0&field=0&pd=3&ds=2022.07.10&de=2022.07.10&docid=&related=0&mynews=0&office_type=0&office_section_code=0&news_office_checked=&nso=so%3Ar%2Cp%3Afrom20220710to20220710&is_sug_officeid=0\n",
      "https://search.naver.com/search.naver?where=news&sm=tab_pge&query=%EC%BD%94%EC%8A%A4%ED%94%BC%20%EA%B2%BD%EC%A0%9C&sort=0&photo=0&field=0&pd=3&ds=2022.07.10&de=2022.07.10&cluster_rank=13&mynews=0&office_type=0&office_section_code=0&news_office_checked=&nso=so:r,p:from20220710to20220710,a:all&start=11\n",
      "https://search.naver.com/search.naver?where=news&sm=tab_pge&query=%EC%BD%94%EC%8A%A4%ED%94%BC%20%EA%B2%BD%EC%A0%9C&sort=0&photo=0&field=0&pd=3&ds=2022.07.10&de=2022.07.10&cluster_rank=24&mynews=0&office_type=0&office_section_code=0&news_office_checked=&nso=so:r,p:from20220710to20220710,a:all&start=21\n",
      "크롤링 준비\n"
     ]
    },
    {
     "name": "stderr",
     "output_type": "stream",
     "text": [
      "\n",
      "\n",
      "preprocessing day:  32%|████████████████████▎                                          | 10/31 [01:12<02:30,  7.18s/it]\u001b[A\u001b[A"
     ]
    },
    {
     "name": "stdout",
     "output_type": "stream",
     "text": [
      "다음날짜로 선택시작\n",
      "다음 날짜 선택 후 크롤링 준비\n",
      "https://search.naver.com/search.naver?where=news&query=%EC%BD%94%EC%8A%A4%ED%94%BC%20%EA%B2%BD%EC%A0%9C&sm=tab_opt&sort=0&photo=0&field=0&pd=3&ds=2022.07.11&de=2022.07.11&docid=&related=0&mynews=0&office_type=0&office_section_code=0&news_office_checked=&nso=so%3Ar%2Cp%3Afrom20220711to20220711&is_sug_officeid=0\n",
      "https://search.naver.com/search.naver?where=news&sm=tab_pge&query=%EC%BD%94%EC%8A%A4%ED%94%BC%20%EA%B2%BD%EC%A0%9C&sort=0&photo=0&field=0&pd=3&ds=2022.07.11&de=2022.07.11&cluster_rank=18&mynews=0&office_type=0&office_section_code=0&news_office_checked=&nso=so:r,p:from20220711to20220711,a:all&start=11\n",
      "https://search.naver.com/search.naver?where=news&sm=tab_pge&query=%EC%BD%94%EC%8A%A4%ED%94%BC%20%EA%B2%BD%EC%A0%9C&sort=0&photo=0&field=0&pd=3&ds=2022.07.11&de=2022.07.11&cluster_rank=29&mynews=0&office_type=0&office_section_code=0&news_office_checked=&nso=so:r,p:from20220711to20220711,a:all&start=21\n",
      "크롤링 준비\n"
     ]
    },
    {
     "name": "stderr",
     "output_type": "stream",
     "text": [
      "\n",
      "\n",
      "preprocessing day:  35%|██████████████████████▎                                        | 11/31 [01:19<02:25,  7.29s/it]\u001b[A\u001b[A"
     ]
    },
    {
     "name": "stdout",
     "output_type": "stream",
     "text": [
      "다음날짜로 선택시작\n",
      "다음 날짜 선택 후 크롤링 준비\n",
      "https://search.naver.com/search.naver?where=news&query=%EC%BD%94%EC%8A%A4%ED%94%BC%20%EA%B2%BD%EC%A0%9C&sm=tab_opt&sort=0&photo=0&field=0&pd=3&ds=2022.07.12&de=2022.07.12&docid=&related=0&mynews=0&office_type=0&office_section_code=0&news_office_checked=&nso=so%3Ar%2Cp%3Afrom20220712to20220712&is_sug_officeid=0\n",
      "https://search.naver.com/search.naver?where=news&sm=tab_pge&query=%EC%BD%94%EC%8A%A4%ED%94%BC%20%EA%B2%BD%EC%A0%9C&sort=0&photo=0&field=0&pd=3&ds=2022.07.12&de=2022.07.12&cluster_rank=12&mynews=0&office_type=0&office_section_code=0&news_office_checked=&nso=so:r,p:from20220712to20220712,a:all&start=11\n",
      "https://search.naver.com/search.naver?where=news&sm=tab_pge&query=%EC%BD%94%EC%8A%A4%ED%94%BC%20%EA%B2%BD%EC%A0%9C&sort=0&photo=0&field=0&pd=3&ds=2022.07.12&de=2022.07.12&cluster_rank=26&mynews=0&office_type=0&office_section_code=0&news_office_checked=&nso=so:r,p:from20220712to20220712,a:all&start=21\n",
      "크롤링 준비\n"
     ]
    },
    {
     "name": "stderr",
     "output_type": "stream",
     "text": [
      "\n",
      "\n",
      "preprocessing day:  39%|████████████████████████▍                                      | 12/31 [01:27<02:17,  7.25s/it]\u001b[A\u001b[A"
     ]
    },
    {
     "name": "stdout",
     "output_type": "stream",
     "text": [
      "다음날짜로 선택시작\n",
      "다음 날짜 선택 후 크롤링 준비\n",
      "https://search.naver.com/search.naver?where=news&query=%EC%BD%94%EC%8A%A4%ED%94%BC%20%EA%B2%BD%EC%A0%9C&sm=tab_opt&sort=0&photo=0&field=0&pd=3&ds=2022.07.13&de=2022.07.13&docid=&related=0&mynews=0&office_type=0&office_section_code=0&news_office_checked=&nso=so%3Ar%2Cp%3Afrom20220713to20220713&is_sug_officeid=0\n",
      "https://search.naver.com/search.naver?where=news&sm=tab_pge&query=%EC%BD%94%EC%8A%A4%ED%94%BC%20%EA%B2%BD%EC%A0%9C&sort=0&photo=0&field=0&pd=3&ds=2022.07.13&de=2022.07.13&cluster_rank=12&mynews=0&office_type=0&office_section_code=0&news_office_checked=&nso=so:r,p:from20220713to20220713,a:all&start=11\n",
      "https://search.naver.com/search.naver?where=news&sm=tab_pge&query=%EC%BD%94%EC%8A%A4%ED%94%BC%20%EA%B2%BD%EC%A0%9C&sort=0&photo=0&field=0&pd=3&ds=2022.07.13&de=2022.07.13&cluster_rank=23&mynews=0&office_type=0&office_section_code=0&news_office_checked=&nso=so:r,p:from20220713to20220713,a:all&start=21\n",
      "크롤링 준비\n"
     ]
    },
    {
     "name": "stderr",
     "output_type": "stream",
     "text": [
      "\n",
      "\n",
      "preprocessing day:  42%|██████████████████████████▍                                    | 13/31 [01:34<02:09,  7.21s/it]\u001b[A\u001b[A"
     ]
    },
    {
     "name": "stdout",
     "output_type": "stream",
     "text": [
      "다음날짜로 선택시작\n",
      "다음 날짜 선택 후 크롤링 준비\n",
      "https://search.naver.com/search.naver?where=news&query=%EC%BD%94%EC%8A%A4%ED%94%BC%20%EA%B2%BD%EC%A0%9C&sm=tab_opt&sort=0&photo=0&field=0&pd=3&ds=2022.07.14&de=2022.07.14&docid=&related=0&mynews=0&office_type=0&office_section_code=0&news_office_checked=&nso=so%3Ar%2Cp%3Afrom20220714to20220714&is_sug_officeid=0\n",
      "https://search.naver.com/search.naver?where=news&sm=tab_pge&query=%EC%BD%94%EC%8A%A4%ED%94%BC%20%EA%B2%BD%EC%A0%9C&sort=0&photo=0&field=0&pd=3&ds=2022.07.14&de=2022.07.14&cluster_rank=12&mynews=0&office_type=0&office_section_code=0&news_office_checked=&nso=so:r,p:from20220714to20220714,a:all&start=11\n",
      "https://search.naver.com/search.naver?where=news&sm=tab_pge&query=%EC%BD%94%EC%8A%A4%ED%94%BC%20%EA%B2%BD%EC%A0%9C&sort=0&photo=0&field=0&pd=3&ds=2022.07.14&de=2022.07.14&cluster_rank=22&mynews=0&office_type=0&office_section_code=0&news_office_checked=&nso=so:r,p:from20220714to20220714,a:all&start=21\n",
      "크롤링 준비\n"
     ]
    },
    {
     "name": "stderr",
     "output_type": "stream",
     "text": [
      "\n",
      "\n",
      "preprocessing day:  45%|████████████████████████████▍                                  | 14/31 [01:41<02:02,  7.19s/it]\u001b[A\u001b[A"
     ]
    },
    {
     "name": "stdout",
     "output_type": "stream",
     "text": [
      "다음날짜로 선택시작\n",
      "다음 날짜 선택 후 크롤링 준비\n",
      "https://search.naver.com/search.naver?where=news&query=%EC%BD%94%EC%8A%A4%ED%94%BC%20%EA%B2%BD%EC%A0%9C&sm=tab_opt&sort=0&photo=0&field=0&pd=3&ds=2022.07.15&de=2022.07.15&docid=&related=0&mynews=0&office_type=0&office_section_code=0&news_office_checked=&nso=so%3Ar%2Cp%3Afrom20220715to20220715&is_sug_officeid=0\n",
      "https://search.naver.com/search.naver?where=news&sm=tab_pge&query=%EC%BD%94%EC%8A%A4%ED%94%BC%20%EA%B2%BD%EC%A0%9C&sort=0&photo=0&field=0&pd=3&ds=2022.07.15&de=2022.07.15&cluster_rank=12&mynews=0&office_type=0&office_section_code=0&news_office_checked=&nso=so:r,p:from20220715to20220715,a:all&start=11\n",
      "https://search.naver.com/search.naver?where=news&sm=tab_pge&query=%EC%BD%94%EC%8A%A4%ED%94%BC%20%EA%B2%BD%EC%A0%9C&sort=0&photo=0&field=0&pd=3&ds=2022.07.15&de=2022.07.15&cluster_rank=24&mynews=0&office_type=0&office_section_code=0&news_office_checked=&nso=so:r,p:from20220715to20220715,a:all&start=21\n",
      "크롤링 준비\n"
     ]
    },
    {
     "name": "stderr",
     "output_type": "stream",
     "text": [
      "\n",
      "\n",
      "preprocessing day:  48%|██████████████████████████████▍                                | 15/31 [01:48<01:54,  7.18s/it]\u001b[A\u001b[A"
     ]
    },
    {
     "name": "stdout",
     "output_type": "stream",
     "text": [
      "다음날짜로 선택시작\n",
      "다음 날짜 선택 후 크롤링 준비\n",
      "https://search.naver.com/search.naver?where=news&query=%EC%BD%94%EC%8A%A4%ED%94%BC%20%EA%B2%BD%EC%A0%9C&sm=tab_opt&sort=0&photo=0&field=0&pd=3&ds=2022.07.16&de=2022.07.16&docid=&related=0&mynews=0&office_type=0&office_section_code=0&news_office_checked=&nso=so%3Ar%2Cp%3Afrom20220716to20220716&is_sug_officeid=0\n",
      "https://search.naver.com/search.naver?where=news&sm=tab_pge&query=%EC%BD%94%EC%8A%A4%ED%94%BC%20%EA%B2%BD%EC%A0%9C&sort=0&photo=0&field=0&pd=3&ds=2022.07.16&de=2022.07.16&cluster_rank=10&mynews=0&office_type=0&office_section_code=0&news_office_checked=&nso=so:r,p:from20220716to20220716,a:all&start=11\n",
      "https://search.naver.com/search.naver?where=news&sm=tab_pge&query=%EC%BD%94%EC%8A%A4%ED%94%BC%20%EA%B2%BD%EC%A0%9C&sort=0&photo=0&field=0&pd=3&ds=2022.07.16&de=2022.07.16&cluster_rank=10&mynews=0&office_type=0&office_section_code=0&news_office_checked=&nso=so:r,p:from20220716to20220716,a:all&start=11\n",
      "크롤링 준비\n"
     ]
    },
    {
     "name": "stderr",
     "output_type": "stream",
     "text": [
      "\n",
      "\n",
      "preprocessing day:  52%|████████████████████████████████▌                              | 16/31 [01:55<01:46,  7.12s/it]\u001b[A\u001b[A"
     ]
    },
    {
     "name": "stdout",
     "output_type": "stream",
     "text": [
      "다음날짜로 선택시작\n",
      "다음 날짜 선택 후 크롤링 준비\n",
      "https://search.naver.com/search.naver?where=news&query=%EC%BD%94%EC%8A%A4%ED%94%BC%20%EA%B2%BD%EC%A0%9C&sm=tab_opt&sort=0&photo=0&field=0&pd=3&ds=2022.07.17&de=2022.07.17&docid=&related=0&mynews=0&office_type=0&office_section_code=0&news_office_checked=&nso=so%3Ar%2Cp%3Afrom20220717to20220717&is_sug_officeid=0\n",
      "https://search.naver.com/search.naver?where=news&sm=tab_pge&query=%EC%BD%94%EC%8A%A4%ED%94%BC%20%EA%B2%BD%EC%A0%9C&sort=0&photo=0&field=0&pd=3&ds=2022.07.17&de=2022.07.17&cluster_rank=13&mynews=0&office_type=0&office_section_code=0&news_office_checked=&nso=so:r,p:from20220717to20220717,a:all&start=11\n",
      "https://search.naver.com/search.naver?where=news&sm=tab_pge&query=%EC%BD%94%EC%8A%A4%ED%94%BC%20%EA%B2%BD%EC%A0%9C&sort=0&photo=0&field=0&pd=3&ds=2022.07.17&de=2022.07.17&cluster_rank=25&mynews=0&office_type=0&office_section_code=0&news_office_checked=&nso=so:r,p:from20220717to20220717,a:all&start=21\n",
      "크롤링 준비\n"
     ]
    },
    {
     "name": "stderr",
     "output_type": "stream",
     "text": [
      "\n",
      "\n",
      "preprocessing day:  55%|██████████████████████████████████▌                            | 17/31 [02:02<01:39,  7.09s/it]\u001b[A\u001b[A"
     ]
    },
    {
     "name": "stdout",
     "output_type": "stream",
     "text": [
      "다음날짜로 선택시작\n",
      "다음 날짜 선택 후 크롤링 준비\n",
      "https://search.naver.com/search.naver?where=news&query=%EC%BD%94%EC%8A%A4%ED%94%BC%20%EA%B2%BD%EC%A0%9C&sm=tab_opt&sort=0&photo=0&field=0&pd=3&ds=2022.07.18&de=2022.07.18&docid=&related=0&mynews=0&office_type=0&office_section_code=0&news_office_checked=&nso=so%3Ar%2Cp%3Afrom20220718to20220718&is_sug_officeid=0\n",
      "https://search.naver.com/search.naver?where=news&sm=tab_pge&query=%EC%BD%94%EC%8A%A4%ED%94%BC%20%EA%B2%BD%EC%A0%9C&sort=0&photo=0&field=0&pd=3&ds=2022.07.18&de=2022.07.18&cluster_rank=12&mynews=0&office_type=0&office_section_code=0&news_office_checked=&nso=so:r,p:from20220718to20220718,a:all&start=11\n",
      "https://search.naver.com/search.naver?where=news&sm=tab_pge&query=%EC%BD%94%EC%8A%A4%ED%94%BC%20%EA%B2%BD%EC%A0%9C&sort=0&photo=0&field=0&pd=3&ds=2022.07.18&de=2022.07.18&cluster_rank=24&mynews=0&office_type=0&office_section_code=0&news_office_checked=&nso=so:r,p:from20220718to20220718,a:all&start=21\n",
      "크롤링 준비\n"
     ]
    },
    {
     "name": "stderr",
     "output_type": "stream",
     "text": [
      "\n",
      "\n",
      "preprocessing day:  58%|████████████████████████████████████▌                          | 18/31 [02:09<01:31,  7.05s/it]\u001b[A\u001b[A"
     ]
    },
    {
     "name": "stdout",
     "output_type": "stream",
     "text": [
      "다음날짜로 선택시작\n",
      "다음 날짜 선택 후 크롤링 준비\n",
      "https://search.naver.com/search.naver?where=news&query=%EC%BD%94%EC%8A%A4%ED%94%BC%20%EA%B2%BD%EC%A0%9C&sm=tab_opt&sort=0&photo=0&field=0&pd=3&ds=2022.07.19&de=2022.07.19&docid=&related=0&mynews=0&office_type=0&office_section_code=0&news_office_checked=&nso=so%3Ar%2Cp%3Afrom20220719to20220719&is_sug_officeid=0\n",
      "https://search.naver.com/search.naver?where=news&sm=tab_pge&query=%EC%BD%94%EC%8A%A4%ED%94%BC%20%EA%B2%BD%EC%A0%9C&sort=0&photo=0&field=0&pd=3&ds=2022.07.19&de=2022.07.19&cluster_rank=12&mynews=0&office_type=0&office_section_code=0&news_office_checked=&nso=so:r,p:from20220719to20220719,a:all&start=11\n",
      "https://search.naver.com/search.naver?where=news&sm=tab_pge&query=%EC%BD%94%EC%8A%A4%ED%94%BC%20%EA%B2%BD%EC%A0%9C&sort=0&photo=0&field=0&pd=3&ds=2022.07.19&de=2022.07.19&cluster_rank=22&mynews=0&office_type=0&office_section_code=0&news_office_checked=&nso=so:r,p:from20220719to20220719,a:all&start=21\n",
      "크롤링 준비\n"
     ]
    },
    {
     "name": "stderr",
     "output_type": "stream",
     "text": [
      "\n",
      "\n",
      "preprocessing day:  61%|██████████████████████████████████████▌                        | 19/31 [02:16<01:25,  7.16s/it]\u001b[A\u001b[A"
     ]
    },
    {
     "name": "stdout",
     "output_type": "stream",
     "text": [
      "다음날짜로 선택시작\n",
      "다음 날짜 선택 후 크롤링 준비\n",
      "https://search.naver.com/search.naver?where=news&query=%EC%BD%94%EC%8A%A4%ED%94%BC%20%EA%B2%BD%EC%A0%9C&sm=tab_opt&sort=0&photo=0&field=0&pd=3&ds=2022.07.20&de=2022.07.20&docid=&related=0&mynews=0&office_type=0&office_section_code=0&news_office_checked=&nso=so%3Ar%2Cp%3Afrom20220720to20220720&is_sug_officeid=0\n",
      "https://search.naver.com/search.naver?where=news&sm=tab_pge&query=%EC%BD%94%EC%8A%A4%ED%94%BC%20%EA%B2%BD%EC%A0%9C&sort=0&photo=0&field=0&pd=3&ds=2022.07.20&de=2022.07.20&cluster_rank=15&mynews=0&office_type=0&office_section_code=0&news_office_checked=&nso=so:r,p:from20220720to20220720,a:all&start=11\n",
      "https://search.naver.com/search.naver?where=news&sm=tab_pge&query=%EC%BD%94%EC%8A%A4%ED%94%BC%20%EA%B2%BD%EC%A0%9C&sort=0&photo=0&field=0&pd=3&ds=2022.07.20&de=2022.07.20&cluster_rank=25&mynews=0&office_type=0&office_section_code=0&news_office_checked=&nso=so:r,p:from20220720to20220720,a:all&start=21\n",
      "크롤링 준비\n"
     ]
    },
    {
     "name": "stderr",
     "output_type": "stream",
     "text": [
      "\n",
      "\n",
      "preprocessing day:  65%|████████████████████████████████████████▋                      | 20/31 [02:24<01:18,  7.15s/it]\u001b[A\u001b[A"
     ]
    },
    {
     "name": "stdout",
     "output_type": "stream",
     "text": [
      "다음날짜로 선택시작\n",
      "다음 날짜 선택 후 크롤링 준비\n",
      "https://search.naver.com/search.naver?where=news&query=%EC%BD%94%EC%8A%A4%ED%94%BC%20%EA%B2%BD%EC%A0%9C&sm=tab_opt&sort=0&photo=0&field=0&pd=3&ds=2022.07.21&de=2022.07.21&docid=&related=0&mynews=0&office_type=0&office_section_code=0&news_office_checked=&nso=so%3Ar%2Cp%3Afrom20220721to20220721&is_sug_officeid=0\n",
      "https://search.naver.com/search.naver?where=news&sm=tab_pge&query=%EC%BD%94%EC%8A%A4%ED%94%BC%20%EA%B2%BD%EC%A0%9C&sort=0&photo=0&field=0&pd=3&ds=2022.07.21&de=2022.07.21&cluster_rank=17&mynews=0&office_type=0&office_section_code=0&news_office_checked=&nso=so:r,p:from20220721to20220721,a:all&start=11\n",
      "https://search.naver.com/search.naver?where=news&sm=tab_pge&query=%EC%BD%94%EC%8A%A4%ED%94%BC%20%EA%B2%BD%EC%A0%9C&sort=0&photo=0&field=0&pd=3&ds=2022.07.21&de=2022.07.21&cluster_rank=32&mynews=0&office_type=0&office_section_code=0&news_office_checked=&nso=so:r,p:from20220721to20220721,a:all&start=21\n",
      "크롤링 준비\n"
     ]
    },
    {
     "name": "stderr",
     "output_type": "stream",
     "text": [
      "\n",
      "\n",
      "preprocessing day:  68%|██████████████████████████████████████████▋                    | 21/31 [02:31<01:12,  7.24s/it]\u001b[A\u001b[A"
     ]
    },
    {
     "name": "stdout",
     "output_type": "stream",
     "text": [
      "다음날짜로 선택시작\n",
      "다음 날짜 선택 후 크롤링 준비\n",
      "https://search.naver.com/search.naver?where=news&query=%EC%BD%94%EC%8A%A4%ED%94%BC%20%EA%B2%BD%EC%A0%9C&sm=tab_opt&sort=0&photo=0&field=0&pd=3&ds=2022.07.22&de=2022.07.22&docid=&related=0&mynews=0&office_type=0&office_section_code=0&news_office_checked=&nso=so%3Ar%2Cp%3Afrom20220722to20220722&is_sug_officeid=0\n",
      "https://search.naver.com/search.naver?where=news&sm=tab_pge&query=%EC%BD%94%EC%8A%A4%ED%94%BC%20%EA%B2%BD%EC%A0%9C&sort=0&photo=0&field=0&pd=3&ds=2022.07.22&de=2022.07.22&cluster_rank=12&mynews=0&office_type=0&office_section_code=0&news_office_checked=&nso=so:r,p:from20220722to20220722,a:all&start=11\n",
      "https://search.naver.com/search.naver?where=news&sm=tab_pge&query=%EC%BD%94%EC%8A%A4%ED%94%BC%20%EA%B2%BD%EC%A0%9C&sort=0&photo=0&field=0&pd=3&ds=2022.07.22&de=2022.07.22&cluster_rank=22&mynews=0&office_type=0&office_section_code=0&news_office_checked=&nso=so:r,p:from20220722to20220722,a:all&start=21\n",
      "크롤링 준비\n"
     ]
    },
    {
     "name": "stderr",
     "output_type": "stream",
     "text": [
      "\n",
      "\n",
      "preprocessing day:  71%|████████████████████████████████████████████▋                  | 22/31 [02:38<01:04,  7.15s/it]\u001b[A\u001b[A"
     ]
    },
    {
     "name": "stdout",
     "output_type": "stream",
     "text": [
      "다음날짜로 선택시작\n",
      "다음 날짜 선택 후 크롤링 준비\n",
      "https://search.naver.com/search.naver?where=news&query=%EC%BD%94%EC%8A%A4%ED%94%BC%20%EA%B2%BD%EC%A0%9C&sm=tab_opt&sort=0&photo=0&field=0&pd=3&ds=2022.07.23&de=2022.07.23&docid=&related=0&mynews=0&office_type=0&office_section_code=0&news_office_checked=&nso=so%3Ar%2Cp%3Afrom20220723to20220723&is_sug_officeid=0\n",
      "https://search.naver.com/search.naver?where=news&query=%EC%BD%94%EC%8A%A4%ED%94%BC%20%EA%B2%BD%EC%A0%9C&sm=tab_opt&sort=0&photo=0&field=0&pd=3&ds=2022.07.23&de=2022.07.23&docid=&related=0&mynews=0&office_type=0&office_section_code=0&news_office_checked=&nso=so%3Ar%2Cp%3Afrom20220723to20220723&is_sug_officeid=0\n",
      "크롤링 준비\n"
     ]
    },
    {
     "name": "stderr",
     "output_type": "stream",
     "text": [
      "\n",
      "\n",
      "preprocessing day:  74%|██████████████████████████████████████████████▋                | 23/31 [02:44<00:55,  6.97s/it]\u001b[A\u001b[A"
     ]
    },
    {
     "name": "stdout",
     "output_type": "stream",
     "text": [
      "다음날짜로 선택시작\n",
      "다음 날짜 선택 후 크롤링 준비\n",
      "https://search.naver.com/search.naver?where=news&query=%EC%BD%94%EC%8A%A4%ED%94%BC%20%EA%B2%BD%EC%A0%9C&sm=tab_opt&sort=0&photo=0&field=0&pd=3&ds=2022.07.24&de=2022.07.24&docid=&related=0&mynews=0&office_type=0&office_section_code=0&news_office_checked=&nso=so%3Ar%2Cp%3Afrom20220724to20220724&is_sug_officeid=0\n",
      "https://search.naver.com/search.naver?where=news&sm=tab_pge&query=%EC%BD%94%EC%8A%A4%ED%94%BC%20%EA%B2%BD%EC%A0%9C&sort=0&photo=0&field=0&pd=3&ds=2022.07.24&de=2022.07.24&cluster_rank=15&mynews=0&office_type=0&office_section_code=0&news_office_checked=&nso=so:r,p:from20220724to20220724,a:all&start=11\n",
      "https://search.naver.com/search.naver?where=news&sm=tab_pge&query=%EC%BD%94%EC%8A%A4%ED%94%BC%20%EA%B2%BD%EC%A0%9C&sort=0&photo=0&field=0&pd=3&ds=2022.07.24&de=2022.07.24&cluster_rank=25&mynews=0&office_type=0&office_section_code=0&news_office_checked=&nso=so:r,p:from20220724to20220724,a:all&start=21\n",
      "크롤링 준비\n"
     ]
    },
    {
     "name": "stderr",
     "output_type": "stream",
     "text": [
      "\n",
      "\n",
      "preprocessing day:  77%|████████████████████████████████████████████████▊              | 24/31 [02:52<00:49,  7.13s/it]\u001b[A\u001b[A"
     ]
    },
    {
     "name": "stdout",
     "output_type": "stream",
     "text": [
      "다음날짜로 선택시작\n",
      "다음 날짜 선택 후 크롤링 준비\n",
      "https://search.naver.com/search.naver?where=news&query=%EC%BD%94%EC%8A%A4%ED%94%BC%20%EA%B2%BD%EC%A0%9C&sm=tab_opt&sort=0&photo=0&field=0&pd=3&ds=2022.07.25&de=2022.07.25&docid=&related=0&mynews=0&office_type=0&office_section_code=0&news_office_checked=&nso=so%3Ar%2Cp%3Afrom20220725to20220725&is_sug_officeid=0\n",
      "https://search.naver.com/search.naver?where=news&sm=tab_pge&query=%EC%BD%94%EC%8A%A4%ED%94%BC%20%EA%B2%BD%EC%A0%9C&sort=0&photo=0&field=0&pd=3&ds=2022.07.25&de=2022.07.25&cluster_rank=17&mynews=0&office_type=0&office_section_code=0&news_office_checked=&nso=so:r,p:from20220725to20220725,a:all&start=11\n",
      "https://search.naver.com/search.naver?where=news&sm=tab_pge&query=%EC%BD%94%EC%8A%A4%ED%94%BC%20%EA%B2%BD%EC%A0%9C&sort=0&photo=0&field=0&pd=3&ds=2022.07.25&de=2022.07.25&cluster_rank=28&mynews=0&office_type=0&office_section_code=0&news_office_checked=&nso=so:r,p:from20220725to20220725,a:all&start=21\n",
      "크롤링 준비\n"
     ]
    },
    {
     "name": "stderr",
     "output_type": "stream",
     "text": [
      "\n",
      "\n",
      "preprocessing day:  81%|██████████████████████████████████████████████████▊            | 25/31 [03:00<00:43,  7.24s/it]\u001b[A\u001b[A"
     ]
    },
    {
     "name": "stdout",
     "output_type": "stream",
     "text": [
      "다음날짜로 선택시작\n",
      "다음 날짜 선택 후 크롤링 준비\n",
      "https://search.naver.com/search.naver?where=news&query=%EC%BD%94%EC%8A%A4%ED%94%BC%20%EA%B2%BD%EC%A0%9C&sm=tab_opt&sort=0&photo=0&field=0&pd=3&ds=2022.07.26&de=2022.07.26&docid=&related=0&mynews=0&office_type=0&office_section_code=0&news_office_checked=&nso=so%3Ar%2Cp%3Afrom20220726to20220726&is_sug_officeid=0\n",
      "https://search.naver.com/search.naver?where=news&sm=tab_pge&query=%EC%BD%94%EC%8A%A4%ED%94%BC%20%EA%B2%BD%EC%A0%9C&sort=0&photo=0&field=0&pd=3&ds=2022.07.26&de=2022.07.26&cluster_rank=12&mynews=0&office_type=0&office_section_code=0&news_office_checked=&nso=so:r,p:from20220726to20220726,a:all&start=11\n",
      "https://search.naver.com/search.naver?where=news&sm=tab_pge&query=%EC%BD%94%EC%8A%A4%ED%94%BC%20%EA%B2%BD%EC%A0%9C&sort=0&photo=0&field=0&pd=3&ds=2022.07.26&de=2022.07.26&cluster_rank=22&mynews=0&office_type=0&office_section_code=0&news_office_checked=&nso=so:r,p:from20220726to20220726,a:all&start=21\n",
      "크롤링 준비\n"
     ]
    },
    {
     "name": "stderr",
     "output_type": "stream",
     "text": [
      "\n",
      "\n",
      "preprocessing day:  84%|████████████████████████████████████████████████████▊          | 26/31 [03:07<00:36,  7.25s/it]\u001b[A\u001b[A"
     ]
    },
    {
     "name": "stdout",
     "output_type": "stream",
     "text": [
      "다음날짜로 선택시작\n",
      "다음 날짜 선택 후 크롤링 준비\n",
      "https://search.naver.com/search.naver?where=news&query=%EC%BD%94%EC%8A%A4%ED%94%BC%20%EA%B2%BD%EC%A0%9C&sm=tab_opt&sort=0&photo=0&field=0&pd=3&ds=2022.07.27&de=2022.07.27&docid=&related=0&mynews=0&office_type=0&office_section_code=0&news_office_checked=&nso=so%3Ar%2Cp%3Afrom20220727to20220727&is_sug_officeid=0\n",
      "https://search.naver.com/search.naver?where=news&sm=tab_pge&query=%EC%BD%94%EC%8A%A4%ED%94%BC%20%EA%B2%BD%EC%A0%9C&sort=0&photo=0&field=0&pd=3&ds=2022.07.27&de=2022.07.27&cluster_rank=11&mynews=0&office_type=0&office_section_code=0&news_office_checked=&nso=so:r,p:from20220727to20220727,a:all&start=11\n",
      "https://search.naver.com/search.naver?where=news&sm=tab_pge&query=%EC%BD%94%EC%8A%A4%ED%94%BC%20%EA%B2%BD%EC%A0%9C&sort=0&photo=0&field=0&pd=3&ds=2022.07.27&de=2022.07.27&cluster_rank=22&mynews=0&office_type=0&office_section_code=0&news_office_checked=&nso=so:r,p:from20220727to20220727,a:all&start=21\n",
      "크롤링 준비\n"
     ]
    },
    {
     "name": "stderr",
     "output_type": "stream",
     "text": [
      "\n",
      "\n",
      "preprocessing day:  87%|██████████████████████████████████████████████████████▊        | 27/31 [03:14<00:29,  7.30s/it]\u001b[A\u001b[A"
     ]
    },
    {
     "name": "stdout",
     "output_type": "stream",
     "text": [
      "다음날짜로 선택시작\n",
      "다음 날짜 선택 후 크롤링 준비\n",
      "https://search.naver.com/search.naver?where=news&query=%EC%BD%94%EC%8A%A4%ED%94%BC%20%EA%B2%BD%EC%A0%9C&sm=tab_opt&sort=0&photo=0&field=0&pd=3&ds=2022.07.28&de=2022.07.28&docid=&related=0&mynews=0&office_type=0&office_section_code=0&news_office_checked=&nso=so%3Ar%2Cp%3Afrom20220728to20220728&is_sug_officeid=0\n",
      "https://search.naver.com/search.naver?where=news&sm=tab_pge&query=%EC%BD%94%EC%8A%A4%ED%94%BC%20%EA%B2%BD%EC%A0%9C&sort=0&photo=0&field=0&pd=3&ds=2022.07.28&de=2022.07.28&cluster_rank=17&mynews=0&office_type=0&office_section_code=0&news_office_checked=&nso=so:r,p:from20220728to20220728,a:all&start=11\n",
      "https://search.naver.com/search.naver?where=news&sm=tab_pge&query=%EC%BD%94%EC%8A%A4%ED%94%BC%20%EA%B2%BD%EC%A0%9C&sort=0&photo=0&field=0&pd=3&ds=2022.07.28&de=2022.07.28&cluster_rank=28&mynews=0&office_type=0&office_section_code=0&news_office_checked=&nso=so:r,p:from20220728to20220728,a:all&start=21\n",
      "크롤링 준비\n"
     ]
    },
    {
     "name": "stderr",
     "output_type": "stream",
     "text": [
      "\n",
      "\n",
      "preprocessing day:  90%|████████████████████████████████████████████████████████▉      | 28/31 [03:22<00:22,  7.40s/it]\u001b[A\u001b[A"
     ]
    },
    {
     "name": "stdout",
     "output_type": "stream",
     "text": [
      "다음날짜로 선택시작\n",
      "다음 날짜 선택 후 크롤링 준비\n",
      "https://search.naver.com/search.naver?where=news&query=%EC%BD%94%EC%8A%A4%ED%94%BC%20%EA%B2%BD%EC%A0%9C&sm=tab_opt&sort=0&photo=0&field=0&pd=3&ds=2022.07.29&de=2022.07.29&docid=&related=0&mynews=0&office_type=0&office_section_code=0&news_office_checked=&nso=so%3Ar%2Cp%3Afrom20220729to20220729&is_sug_officeid=0\n",
      "https://search.naver.com/search.naver?where=news&sm=tab_pge&query=%EC%BD%94%EC%8A%A4%ED%94%BC%20%EA%B2%BD%EC%A0%9C&sort=0&photo=0&field=0&pd=3&ds=2022.07.29&de=2022.07.29&cluster_rank=15&mynews=0&office_type=0&office_section_code=0&news_office_checked=&nso=so:r,p:from20220729to20220729,a:all&start=11\n",
      "https://search.naver.com/search.naver?where=news&sm=tab_pge&query=%EC%BD%94%EC%8A%A4%ED%94%BC%20%EA%B2%BD%EC%A0%9C&sort=0&photo=0&field=0&pd=3&ds=2022.07.29&de=2022.07.29&cluster_rank=27&mynews=0&office_type=0&office_section_code=0&news_office_checked=&nso=so:r,p:from20220729to20220729,a:all&start=21\n",
      "크롤링 준비\n"
     ]
    },
    {
     "name": "stderr",
     "output_type": "stream",
     "text": [
      "\n",
      "\n",
      "preprocessing day:  94%|██████████████████████████████████████████████████████████▉    | 29/31 [03:30<00:15,  7.50s/it]\u001b[A\u001b[A"
     ]
    },
    {
     "name": "stdout",
     "output_type": "stream",
     "text": [
      "다음날짜로 선택시작\n",
      "다음 날짜 선택 후 크롤링 준비\n",
      "https://search.naver.com/search.naver?where=news&query=%EC%BD%94%EC%8A%A4%ED%94%BC%20%EA%B2%BD%EC%A0%9C&sm=tab_opt&sort=0&photo=0&field=0&pd=3&ds=2022.07.30&de=2022.07.30&docid=&related=0&mynews=0&office_type=0&office_section_code=0&news_office_checked=&nso=so%3Ar%2Cp%3Afrom20220730to20220730&is_sug_officeid=0\n",
      "https://search.naver.com/search.naver?where=news&sm=tab_pge&query=%EC%BD%94%EC%8A%A4%ED%94%BC%20%EA%B2%BD%EC%A0%9C&sort=0&photo=0&field=0&pd=3&ds=2022.07.30&de=2022.07.30&cluster_rank=10&mynews=0&office_type=0&office_section_code=0&news_office_checked=&nso=so:r,p:from20220730to20220730,a:all&start=11\n",
      "https://search.naver.com/search.naver?where=news&sm=tab_pge&query=%EC%BD%94%EC%8A%A4%ED%94%BC%20%EA%B2%BD%EC%A0%9C&sort=0&photo=0&field=0&pd=3&ds=2022.07.30&de=2022.07.30&cluster_rank=10&mynews=0&office_type=0&office_section_code=0&news_office_checked=&nso=so:r,p:from20220730to20220730,a:all&start=11\n",
      "크롤링 준비\n"
     ]
    },
    {
     "name": "stderr",
     "output_type": "stream",
     "text": [
      "\n",
      "\n",
      "preprocessing day:  97%|████████████████████████████████████████████████████████████▉  | 30/31 [03:37<00:07,  7.54s/it]\u001b[A\u001b[A"
     ]
    },
    {
     "name": "stdout",
     "output_type": "stream",
     "text": [
      "다음날짜로 선택시작\n",
      "다음 날짜 선택 후 크롤링 준비\n",
      "https://search.naver.com/search.naver?where=news&query=%EC%BD%94%EC%8A%A4%ED%94%BC%20%EA%B2%BD%EC%A0%9C&sm=tab_opt&sort=0&photo=0&field=0&pd=3&ds=2022.07.31&de=2022.07.31&docid=&related=0&mynews=0&office_type=0&office_section_code=0&news_office_checked=&nso=so%3Ar%2Cp%3Afrom20220731to20220731&is_sug_officeid=0\n",
      "https://search.naver.com/search.naver?where=news&sm=tab_pge&query=%EC%BD%94%EC%8A%A4%ED%94%BC%20%EA%B2%BD%EC%A0%9C&sort=0&photo=0&field=0&pd=3&ds=2022.07.31&de=2022.07.31&cluster_rank=17&mynews=0&office_type=0&office_section_code=0&news_office_checked=&nso=so:r,p:from20220731to20220731,a:all&start=11\n",
      "https://search.naver.com/search.naver?where=news&sm=tab_pge&query=%EC%BD%94%EC%8A%A4%ED%94%BC%20%EA%B2%BD%EC%A0%9C&sort=0&photo=0&field=0&pd=3&ds=2022.07.31&de=2022.07.31&cluster_rank=31&mynews=0&office_type=0&office_section_code=0&news_office_checked=&nso=so:r,p:from20220731to20220731,a:all&start=21\n",
      "크롤링 준비\n"
     ]
    },
    {
     "name": "stderr",
     "output_type": "stream",
     "text": [
      "\n",
      "\n",
      "preprocessing day: 100%|███████████████████████████████████████████████████████████████| 31/31 [03:44<00:00,  7.26s/it]\u001b[A\u001b[A\n",
      "\n",
      "preprocessing month:  58%|███████████████████████████████████▌                         | 7/12 [25:49<18:33, 222.67s/it]\u001b[A"
     ]
    },
    {
     "name": "stdout",
     "output_type": "stream",
     "text": [
      "다음날짜로 선택시작\n"
     ]
    },
    {
     "name": "stderr",
     "output_type": "stream",
     "text": [
      "\n",
      "\n",
      "preprocessing day:   0%|                                                                        | 0/31 [00:00<?, ?it/s]\u001b[A\u001b[A"
     ]
    },
    {
     "name": "stdout",
     "output_type": "stream",
     "text": [
      "다음 날짜 선택 후 크롤링 준비\n",
      "https://search.naver.com/search.naver?where=news&query=%EC%BD%94%EC%8A%A4%ED%94%BC%20%EA%B2%BD%EC%A0%9C&sm=tab_opt&sort=0&photo=0&field=0&pd=3&ds=2022.08.01&de=2022.08.01&docid=&related=0&mynews=0&office_type=0&office_section_code=0&news_office_checked=&nso=so%3Ar%2Cp%3Afrom20220801to20220801&is_sug_officeid=0\n",
      "https://search.naver.com/search.naver?where=news&sm=tab_pge&query=%EC%BD%94%EC%8A%A4%ED%94%BC%20%EA%B2%BD%EC%A0%9C&sort=0&photo=0&field=0&pd=3&ds=2022.08.01&de=2022.08.01&cluster_rank=17&mynews=0&office_type=0&office_section_code=0&news_office_checked=&nso=so:r,p:from20220801to20220801,a:all&start=11\n",
      "https://search.naver.com/search.naver?where=news&sm=tab_pge&query=%EC%BD%94%EC%8A%A4%ED%94%BC%20%EA%B2%BD%EC%A0%9C&sort=0&photo=0&field=0&pd=3&ds=2022.08.01&de=2022.08.01&cluster_rank=28&mynews=0&office_type=0&office_section_code=0&news_office_checked=&nso=so:r,p:from20220801to20220801,a:all&start=21\n",
      "크롤링 준비\n"
     ]
    },
    {
     "name": "stderr",
     "output_type": "stream",
     "text": [
      "\n",
      "\n",
      "preprocessing day:   3%|██                                                              | 1/31 [00:07<03:39,  7.31s/it]\u001b[A\u001b[A"
     ]
    },
    {
     "name": "stdout",
     "output_type": "stream",
     "text": [
      "다음날짜로 선택시작\n",
      "다음 날짜 선택 후 크롤링 준비\n",
      "https://search.naver.com/search.naver?where=news&query=%EC%BD%94%EC%8A%A4%ED%94%BC%20%EA%B2%BD%EC%A0%9C&sm=tab_opt&sort=0&photo=0&field=0&pd=3&ds=2022.08.02&de=2022.08.02&docid=&related=0&mynews=0&office_type=0&office_section_code=0&news_office_checked=&nso=so%3Ar%2Cp%3Afrom20220802to20220802&is_sug_officeid=0\n",
      "https://search.naver.com/search.naver?where=news&sm=tab_pge&query=%EC%BD%94%EC%8A%A4%ED%94%BC%20%EA%B2%BD%EC%A0%9C&sort=0&photo=0&field=0&pd=3&ds=2022.08.02&de=2022.08.02&cluster_rank=14&mynews=0&office_type=0&office_section_code=0&news_office_checked=&nso=so:r,p:from20220802to20220802,a:all&start=11\n",
      "https://search.naver.com/search.naver?where=news&sm=tab_pge&query=%EC%BD%94%EC%8A%A4%ED%94%BC%20%EA%B2%BD%EC%A0%9C&sort=0&photo=0&field=0&pd=3&ds=2022.08.02&de=2022.08.02&cluster_rank=25&mynews=0&office_type=0&office_section_code=0&news_office_checked=&nso=so:r,p:from20220802to20220802,a:all&start=21\n",
      "크롤링 준비\n"
     ]
    },
    {
     "name": "stderr",
     "output_type": "stream",
     "text": [
      "\n",
      "\n",
      "preprocessing day:   6%|████▏                                                           | 2/31 [00:14<03:32,  7.34s/it]\u001b[A\u001b[A"
     ]
    },
    {
     "name": "stdout",
     "output_type": "stream",
     "text": [
      "다음날짜로 선택시작\n",
      "다음 날짜 선택 후 크롤링 준비\n",
      "https://search.naver.com/search.naver?where=news&query=%EC%BD%94%EC%8A%A4%ED%94%BC%20%EA%B2%BD%EC%A0%9C&sm=tab_opt&sort=0&photo=0&field=0&pd=3&ds=2022.08.03&de=2022.08.03&docid=&related=0&mynews=0&office_type=0&office_section_code=0&news_office_checked=&nso=so%3Ar%2Cp%3Afrom20220803to20220803&is_sug_officeid=0\n",
      "https://search.naver.com/search.naver?where=news&sm=tab_pge&query=%EC%BD%94%EC%8A%A4%ED%94%BC%20%EA%B2%BD%EC%A0%9C&sort=0&photo=0&field=0&pd=3&ds=2022.08.03&de=2022.08.03&cluster_rank=19&mynews=0&office_type=0&office_section_code=0&news_office_checked=&nso=so:r,p:from20220803to20220803,a:all&start=11\n",
      "https://search.naver.com/search.naver?where=news&sm=tab_pge&query=%EC%BD%94%EC%8A%A4%ED%94%BC%20%EA%B2%BD%EC%A0%9C&sort=0&photo=0&field=0&pd=3&ds=2022.08.03&de=2022.08.03&cluster_rank=30&mynews=0&office_type=0&office_section_code=0&news_office_checked=&nso=so:r,p:from20220803to20220803,a:all&start=21\n",
      "크롤링 준비\n"
     ]
    },
    {
     "name": "stderr",
     "output_type": "stream",
     "text": [
      "\n",
      "\n",
      "preprocessing day:  10%|██████▏                                                         | 3/31 [00:22<03:27,  7.40s/it]\u001b[A\u001b[A"
     ]
    },
    {
     "name": "stdout",
     "output_type": "stream",
     "text": [
      "다음날짜로 선택시작\n",
      "다음 날짜 선택 후 크롤링 준비\n",
      "https://search.naver.com/search.naver?where=news&query=%EC%BD%94%EC%8A%A4%ED%94%BC%20%EA%B2%BD%EC%A0%9C&sm=tab_opt&sort=0&photo=0&field=0&pd=3&ds=2022.08.04&de=2022.08.04&docid=&related=0&mynews=0&office_type=0&office_section_code=0&news_office_checked=&nso=so%3Ar%2Cp%3Afrom20220804to20220804&is_sug_officeid=0\n",
      "https://search.naver.com/search.naver?where=news&sm=tab_pge&query=%EC%BD%94%EC%8A%A4%ED%94%BC%20%EA%B2%BD%EC%A0%9C&sort=0&photo=0&field=0&pd=3&ds=2022.08.04&de=2022.08.04&cluster_rank=12&mynews=0&office_type=0&office_section_code=0&news_office_checked=&nso=so:r,p:from20220804to20220804,a:all&start=11\n",
      "https://search.naver.com/search.naver?where=news&sm=tab_pge&query=%EC%BD%94%EC%8A%A4%ED%94%BC%20%EA%B2%BD%EC%A0%9C&sort=0&photo=0&field=0&pd=3&ds=2022.08.04&de=2022.08.04&cluster_rank=23&mynews=0&office_type=0&office_section_code=0&news_office_checked=&nso=so:r,p:from20220804to20220804,a:all&start=21\n",
      "크롤링 준비\n"
     ]
    },
    {
     "name": "stderr",
     "output_type": "stream",
     "text": [
      "\n",
      "\n",
      "preprocessing day:  13%|████████▎                                                       | 4/31 [00:29<03:23,  7.53s/it]\u001b[A\u001b[A"
     ]
    },
    {
     "name": "stdout",
     "output_type": "stream",
     "text": [
      "다음날짜로 선택시작\n",
      "다음 날짜 선택 후 크롤링 준비\n",
      "https://search.naver.com/search.naver?where=news&query=%EC%BD%94%EC%8A%A4%ED%94%BC%20%EA%B2%BD%EC%A0%9C&sm=tab_opt&sort=0&photo=0&field=0&pd=3&ds=2022.08.05&de=2022.08.05&docid=&related=0&mynews=0&office_type=0&office_section_code=0&news_office_checked=&nso=so%3Ar%2Cp%3Afrom20220805to20220805&is_sug_officeid=0\n",
      "https://search.naver.com/search.naver?where=news&sm=tab_pge&query=%EC%BD%94%EC%8A%A4%ED%94%BC%20%EA%B2%BD%EC%A0%9C&sort=0&photo=0&field=0&pd=3&ds=2022.08.05&de=2022.08.05&cluster_rank=11&mynews=0&office_type=0&office_section_code=0&news_office_checked=&nso=so:r,p:from20220805to20220805,a:all&start=11\n",
      "https://search.naver.com/search.naver?where=news&sm=tab_pge&query=%EC%BD%94%EC%8A%A4%ED%94%BC%20%EA%B2%BD%EC%A0%9C&sort=0&photo=0&field=0&pd=3&ds=2022.08.05&de=2022.08.05&cluster_rank=23&mynews=0&office_type=0&office_section_code=0&news_office_checked=&nso=so:r,p:from20220805to20220805,a:all&start=21\n",
      "크롤링 준비\n"
     ]
    },
    {
     "name": "stderr",
     "output_type": "stream",
     "text": [
      "\n",
      "\n",
      "preprocessing day:  16%|██████████▎                                                     | 5/31 [00:37<03:12,  7.39s/it]\u001b[A\u001b[A"
     ]
    },
    {
     "name": "stdout",
     "output_type": "stream",
     "text": [
      "다음날짜로 선택시작\n",
      "다음 날짜 선택 후 크롤링 준비\n",
      "https://search.naver.com/search.naver?where=news&query=%EC%BD%94%EC%8A%A4%ED%94%BC%20%EA%B2%BD%EC%A0%9C&sm=tab_opt&sort=0&photo=0&field=0&pd=3&ds=2022.08.06&de=2022.08.06&docid=&related=0&mynews=0&office_type=0&office_section_code=0&news_office_checked=&nso=so%3Ar%2Cp%3Afrom20220806to20220806&is_sug_officeid=0\n",
      "https://search.naver.com/search.naver?where=news&sm=tab_pge&query=%EC%BD%94%EC%8A%A4%ED%94%BC%20%EA%B2%BD%EC%A0%9C&sort=0&photo=0&field=0&pd=3&ds=2022.08.06&de=2022.08.06&cluster_rank=10&mynews=0&office_type=0&office_section_code=0&news_office_checked=&nso=so:r,p:from20220806to20220806,a:all&start=11\n",
      "https://search.naver.com/search.naver?where=news&sm=tab_pge&query=%EC%BD%94%EC%8A%A4%ED%94%BC%20%EA%B2%BD%EC%A0%9C&sort=0&photo=0&field=0&pd=3&ds=2022.08.06&de=2022.08.06&cluster_rank=10&mynews=0&office_type=0&office_section_code=0&news_office_checked=&nso=so:r,p:from20220806to20220806,a:all&start=11\n",
      "크롤링 준비\n"
     ]
    },
    {
     "name": "stderr",
     "output_type": "stream",
     "text": [
      "\n",
      "\n",
      "preprocessing day:  19%|████████████▍                                                   | 6/31 [00:43<02:58,  7.13s/it]\u001b[A\u001b[A"
     ]
    },
    {
     "name": "stdout",
     "output_type": "stream",
     "text": [
      "다음날짜로 선택시작\n",
      "다음 날짜 선택 후 크롤링 준비\n",
      "https://search.naver.com/search.naver?where=news&query=%EC%BD%94%EC%8A%A4%ED%94%BC%20%EA%B2%BD%EC%A0%9C&sm=tab_opt&sort=0&photo=0&field=0&pd=3&ds=2022.08.07&de=2022.08.07&docid=&related=0&mynews=0&office_type=0&office_section_code=0&news_office_checked=&nso=so%3Ar%2Cp%3Afrom20220807to20220807&is_sug_officeid=0\n",
      "https://search.naver.com/search.naver?where=news&sm=tab_pge&query=%EC%BD%94%EC%8A%A4%ED%94%BC%20%EA%B2%BD%EC%A0%9C&sort=0&photo=0&field=0&pd=3&ds=2022.08.07&de=2022.08.07&cluster_rank=15&mynews=0&office_type=0&office_section_code=0&news_office_checked=&nso=so:r,p:from20220807to20220807,a:all&start=11\n",
      "https://search.naver.com/search.naver?where=news&sm=tab_pge&query=%EC%BD%94%EC%8A%A4%ED%94%BC%20%EA%B2%BD%EC%A0%9C&sort=0&photo=0&field=0&pd=3&ds=2022.08.07&de=2022.08.07&cluster_rank=31&mynews=0&office_type=0&office_section_code=0&news_office_checked=&nso=so:r,p:from20220807to20220807,a:all&start=21\n",
      "크롤링 준비\n"
     ]
    },
    {
     "name": "stderr",
     "output_type": "stream",
     "text": [
      "\n",
      "\n",
      "preprocessing day:  23%|██████████████▍                                                 | 7/31 [00:50<02:52,  7.20s/it]\u001b[A\u001b[A"
     ]
    },
    {
     "name": "stdout",
     "output_type": "stream",
     "text": [
      "다음날짜로 선택시작\n",
      "다음 날짜 선택 후 크롤링 준비\n",
      "https://search.naver.com/search.naver?where=news&query=%EC%BD%94%EC%8A%A4%ED%94%BC%20%EA%B2%BD%EC%A0%9C&sm=tab_opt&sort=0&photo=0&field=0&pd=3&ds=2022.08.08&de=2022.08.08&docid=&related=0&mynews=0&office_type=0&office_section_code=0&news_office_checked=&nso=so%3Ar%2Cp%3Afrom20220808to20220808&is_sug_officeid=0\n",
      "https://search.naver.com/search.naver?where=news&sm=tab_pge&query=%EC%BD%94%EC%8A%A4%ED%94%BC%20%EA%B2%BD%EC%A0%9C&sort=0&photo=0&field=0&pd=3&ds=2022.08.08&de=2022.08.08&cluster_rank=12&mynews=0&office_type=0&office_section_code=0&news_office_checked=&nso=so:r,p:from20220808to20220808,a:all&start=11\n",
      "https://search.naver.com/search.naver?where=news&sm=tab_pge&query=%EC%BD%94%EC%8A%A4%ED%94%BC%20%EA%B2%BD%EC%A0%9C&sort=0&photo=0&field=0&pd=3&ds=2022.08.08&de=2022.08.08&cluster_rank=25&mynews=0&office_type=0&office_section_code=0&news_office_checked=&nso=so:r,p:from20220808to20220808,a:all&start=21\n",
      "크롤링 준비\n"
     ]
    },
    {
     "name": "stderr",
     "output_type": "stream",
     "text": [
      "\n",
      "\n",
      "preprocessing day:  26%|████████████████▌                                               | 8/31 [00:57<02:43,  7.09s/it]\u001b[A\u001b[A"
     ]
    },
    {
     "name": "stdout",
     "output_type": "stream",
     "text": [
      "다음날짜로 선택시작\n",
      "다음 날짜 선택 후 크롤링 준비\n",
      "https://search.naver.com/search.naver?where=news&query=%EC%BD%94%EC%8A%A4%ED%94%BC%20%EA%B2%BD%EC%A0%9C&sm=tab_opt&sort=0&photo=0&field=0&pd=3&ds=2022.08.09&de=2022.08.09&docid=&related=0&mynews=0&office_type=0&office_section_code=0&news_office_checked=&nso=so%3Ar%2Cp%3Afrom20220809to20220809&is_sug_officeid=0\n",
      "https://search.naver.com/search.naver?where=news&sm=tab_pge&query=%EC%BD%94%EC%8A%A4%ED%94%BC%20%EA%B2%BD%EC%A0%9C&sort=0&photo=0&field=0&pd=3&ds=2022.08.09&de=2022.08.09&cluster_rank=12&mynews=0&office_type=0&office_section_code=0&news_office_checked=&nso=so:r,p:from20220809to20220809,a:all&start=11\n",
      "https://search.naver.com/search.naver?where=news&sm=tab_pge&query=%EC%BD%94%EC%8A%A4%ED%94%BC%20%EA%B2%BD%EC%A0%9C&sort=0&photo=0&field=0&pd=3&ds=2022.08.09&de=2022.08.09&cluster_rank=24&mynews=0&office_type=0&office_section_code=0&news_office_checked=&nso=so:r,p:from20220809to20220809,a:all&start=21\n",
      "크롤링 준비\n"
     ]
    },
    {
     "name": "stderr",
     "output_type": "stream",
     "text": [
      "\n",
      "\n",
      "preprocessing day:  29%|██████████████████▌                                             | 9/31 [01:05<02:36,  7.12s/it]\u001b[A\u001b[A"
     ]
    },
    {
     "name": "stdout",
     "output_type": "stream",
     "text": [
      "다음날짜로 선택시작\n",
      "다음 날짜 선택 후 크롤링 준비\n",
      "https://search.naver.com/search.naver?where=news&query=%EC%BD%94%EC%8A%A4%ED%94%BC%20%EA%B2%BD%EC%A0%9C&sm=tab_opt&sort=0&photo=0&field=0&pd=3&ds=2022.08.10&de=2022.08.10&docid=&related=0&mynews=0&office_type=0&office_section_code=0&news_office_checked=&nso=so%3Ar%2Cp%3Afrom20220810to20220810&is_sug_officeid=0\n",
      "https://search.naver.com/search.naver?where=news&sm=tab_pge&query=%EC%BD%94%EC%8A%A4%ED%94%BC%20%EA%B2%BD%EC%A0%9C&sort=0&photo=0&field=0&pd=3&ds=2022.08.10&de=2022.08.10&cluster_rank=11&mynews=0&office_type=0&office_section_code=0&news_office_checked=&nso=so:r,p:from20220810to20220810,a:all&start=11\n",
      "https://search.naver.com/search.naver?where=news&sm=tab_pge&query=%EC%BD%94%EC%8A%A4%ED%94%BC%20%EA%B2%BD%EC%A0%9C&sort=0&photo=0&field=0&pd=3&ds=2022.08.10&de=2022.08.10&cluster_rank=22&mynews=0&office_type=0&office_section_code=0&news_office_checked=&nso=so:r,p:from20220810to20220810,a:all&start=21\n",
      "크롤링 준비\n"
     ]
    },
    {
     "name": "stderr",
     "output_type": "stream",
     "text": [
      "\n",
      "\n",
      "preprocessing day:  32%|████████████████████▎                                          | 10/31 [01:13<02:35,  7.39s/it]\u001b[A\u001b[A"
     ]
    },
    {
     "name": "stdout",
     "output_type": "stream",
     "text": [
      "다음날짜로 선택시작\n",
      "다음 날짜 선택 후 크롤링 준비\n",
      "https://search.naver.com/search.naver?where=news&query=%EC%BD%94%EC%8A%A4%ED%94%BC%20%EA%B2%BD%EC%A0%9C&sm=tab_opt&sort=0&photo=0&field=0&pd=3&ds=2022.08.11&de=2022.08.11&docid=&related=0&mynews=0&office_type=0&office_section_code=0&news_office_checked=&nso=so%3Ar%2Cp%3Afrom20220811to20220811&is_sug_officeid=0\n",
      "https://search.naver.com/search.naver?where=news&sm=tab_pge&query=%EC%BD%94%EC%8A%A4%ED%94%BC%20%EA%B2%BD%EC%A0%9C&sort=0&photo=0&field=0&pd=3&ds=2022.08.11&de=2022.08.11&cluster_rank=12&mynews=0&office_type=0&office_section_code=0&news_office_checked=&nso=so:r,p:from20220811to20220811,a:all&start=11\n",
      "https://search.naver.com/search.naver?where=news&sm=tab_pge&query=%EC%BD%94%EC%8A%A4%ED%94%BC%20%EA%B2%BD%EC%A0%9C&sort=0&photo=0&field=0&pd=3&ds=2022.08.11&de=2022.08.11&cluster_rank=23&mynews=0&office_type=0&office_section_code=0&news_office_checked=&nso=so:r,p:from20220811to20220811,a:all&start=21\n",
      "크롤링 준비\n"
     ]
    },
    {
     "name": "stderr",
     "output_type": "stream",
     "text": [
      "\n",
      "\n",
      "preprocessing day:  35%|██████████████████████▎                                        | 11/31 [01:20<02:27,  7.36s/it]\u001b[A\u001b[A"
     ]
    },
    {
     "name": "stdout",
     "output_type": "stream",
     "text": [
      "다음날짜로 선택시작\n",
      "다음 날짜 선택 후 크롤링 준비\n",
      "https://search.naver.com/search.naver?where=news&query=%EC%BD%94%EC%8A%A4%ED%94%BC%20%EA%B2%BD%EC%A0%9C&sm=tab_opt&sort=0&photo=0&field=0&pd=3&ds=2022.08.12&de=2022.08.12&docid=&related=0&mynews=0&office_type=0&office_section_code=0&news_office_checked=&nso=so%3Ar%2Cp%3Afrom20220812to20220812&is_sug_officeid=0\n",
      "https://search.naver.com/search.naver?where=news&sm=tab_pge&query=%EC%BD%94%EC%8A%A4%ED%94%BC%20%EA%B2%BD%EC%A0%9C&sort=0&photo=0&field=0&pd=3&ds=2022.08.12&de=2022.08.12&cluster_rank=13&mynews=0&office_type=0&office_section_code=0&news_office_checked=&nso=so:r,p:from20220812to20220812,a:all&start=11\n",
      "https://search.naver.com/search.naver?where=news&sm=tab_pge&query=%EC%BD%94%EC%8A%A4%ED%94%BC%20%EA%B2%BD%EC%A0%9C&sort=0&photo=0&field=0&pd=3&ds=2022.08.12&de=2022.08.12&cluster_rank=24&mynews=0&office_type=0&office_section_code=0&news_office_checked=&nso=so:r,p:from20220812to20220812,a:all&start=21\n",
      "크롤링 준비\n"
     ]
    },
    {
     "name": "stderr",
     "output_type": "stream",
     "text": [
      "\n",
      "\n",
      "preprocessing day:  39%|████████████████████████▍                                      | 12/31 [01:27<02:20,  7.38s/it]\u001b[A\u001b[A"
     ]
    },
    {
     "name": "stdout",
     "output_type": "stream",
     "text": [
      "다음날짜로 선택시작\n",
      "다음 날짜 선택 후 크롤링 준비\n",
      "https://search.naver.com/search.naver?where=news&query=%EC%BD%94%EC%8A%A4%ED%94%BC%20%EA%B2%BD%EC%A0%9C&sm=tab_opt&sort=0&photo=0&field=0&pd=3&ds=2022.08.13&de=2022.08.13&docid=&related=0&mynews=0&office_type=0&office_section_code=0&news_office_checked=&nso=so%3Ar%2Cp%3Afrom20220813to20220813&is_sug_officeid=0\n",
      "https://search.naver.com/search.naver?where=news&query=%EC%BD%94%EC%8A%A4%ED%94%BC%20%EA%B2%BD%EC%A0%9C&sm=tab_opt&sort=0&photo=0&field=0&pd=3&ds=2022.08.13&de=2022.08.13&docid=&related=0&mynews=0&office_type=0&office_section_code=0&news_office_checked=&nso=so%3Ar%2Cp%3Afrom20220813to20220813&is_sug_officeid=0\n",
      "크롤링 준비\n"
     ]
    },
    {
     "name": "stderr",
     "output_type": "stream",
     "text": [
      "\n",
      "\n",
      "preprocessing day:  42%|██████████████████████████▍                                    | 13/31 [01:34<02:07,  7.10s/it]\u001b[A\u001b[A"
     ]
    },
    {
     "name": "stdout",
     "output_type": "stream",
     "text": [
      "다음날짜로 선택시작\n",
      "다음 날짜 선택 후 크롤링 준비\n",
      "https://search.naver.com/search.naver?where=news&query=%EC%BD%94%EC%8A%A4%ED%94%BC%20%EA%B2%BD%EC%A0%9C&sm=tab_opt&sort=0&photo=0&field=0&pd=3&ds=2022.08.14&de=2022.08.14&docid=&related=0&mynews=0&office_type=0&office_section_code=0&news_office_checked=&nso=so%3Ar%2Cp%3Afrom20220814to20220814&is_sug_officeid=0\n",
      "https://search.naver.com/search.naver?where=news&query=%EC%BD%94%EC%8A%A4%ED%94%BC%20%EA%B2%BD%EC%A0%9C&sm=tab_opt&sort=0&photo=0&field=0&pd=3&ds=2022.08.14&de=2022.08.14&docid=&related=0&mynews=0&office_type=0&office_section_code=0&news_office_checked=&nso=so%3Ar%2Cp%3Afrom20220814to20220814&is_sug_officeid=0\n",
      "크롤링 준비\n"
     ]
    },
    {
     "name": "stderr",
     "output_type": "stream",
     "text": [
      "\n",
      "\n",
      "preprocessing day:  45%|████████████████████████████▍                                  | 14/31 [01:40<01:58,  6.94s/it]\u001b[A\u001b[A"
     ]
    },
    {
     "name": "stdout",
     "output_type": "stream",
     "text": [
      "다음날짜로 선택시작\n",
      "다음 날짜 선택 후 크롤링 준비\n",
      "https://search.naver.com/search.naver?where=news&query=%EC%BD%94%EC%8A%A4%ED%94%BC%20%EA%B2%BD%EC%A0%9C&sm=tab_opt&sort=0&photo=0&field=0&pd=3&ds=2022.08.15&de=2022.08.15&docid=&related=0&mynews=0&office_type=0&office_section_code=0&news_office_checked=&nso=so%3Ar%2Cp%3Afrom20220815to20220815&is_sug_officeid=0\n",
      "https://search.naver.com/search.naver?where=news&sm=tab_pge&query=%EC%BD%94%EC%8A%A4%ED%94%BC%20%EA%B2%BD%EC%A0%9C&sort=0&photo=0&field=0&pd=3&ds=2022.08.15&de=2022.08.15&cluster_rank=11&mynews=0&office_type=0&office_section_code=0&news_office_checked=&nso=so:r,p:from20220815to20220815,a:all&start=11\n",
      "https://search.naver.com/search.naver?where=news&sm=tab_pge&query=%EC%BD%94%EC%8A%A4%ED%94%BC%20%EA%B2%BD%EC%A0%9C&sort=0&photo=0&field=0&pd=3&ds=2022.08.15&de=2022.08.15&cluster_rank=11&mynews=0&office_type=0&office_section_code=0&news_office_checked=&nso=so:r,p:from20220815to20220815,a:all&start=11\n",
      "크롤링 준비\n"
     ]
    },
    {
     "name": "stderr",
     "output_type": "stream",
     "text": [
      "\n",
      "\n",
      "preprocessing day:  48%|██████████████████████████████▍                                | 15/31 [01:47<01:49,  6.85s/it]\u001b[A\u001b[A"
     ]
    },
    {
     "name": "stdout",
     "output_type": "stream",
     "text": [
      "다음날짜로 선택시작\n",
      "다음 날짜 선택 후 크롤링 준비\n",
      "https://search.naver.com/search.naver?where=news&query=%EC%BD%94%EC%8A%A4%ED%94%BC%20%EA%B2%BD%EC%A0%9C&sm=tab_opt&sort=0&photo=0&field=0&pd=3&ds=2022.08.16&de=2022.08.16&docid=&related=0&mynews=0&office_type=0&office_section_code=0&news_office_checked=&nso=so%3Ar%2Cp%3Afrom20220816to20220816&is_sug_officeid=0\n",
      "https://search.naver.com/search.naver?where=news&sm=tab_pge&query=%EC%BD%94%EC%8A%A4%ED%94%BC%20%EA%B2%BD%EC%A0%9C&sort=0&photo=0&field=0&pd=3&ds=2022.08.16&de=2022.08.16&cluster_rank=13&mynews=0&office_type=0&office_section_code=0&news_office_checked=&nso=so:r,p:from20220816to20220816,a:all&start=11\n",
      "https://search.naver.com/search.naver?where=news&sm=tab_pge&query=%EC%BD%94%EC%8A%A4%ED%94%BC%20%EA%B2%BD%EC%A0%9C&sort=0&photo=0&field=0&pd=3&ds=2022.08.16&de=2022.08.16&cluster_rank=26&mynews=0&office_type=0&office_section_code=0&news_office_checked=&nso=so:r,p:from20220816to20220816,a:all&start=21\n",
      "크롤링 준비\n"
     ]
    },
    {
     "name": "stderr",
     "output_type": "stream",
     "text": [
      "\n",
      "\n",
      "preprocessing day:  52%|████████████████████████████████▌                              | 16/31 [01:54<01:42,  6.84s/it]\u001b[A\u001b[A"
     ]
    },
    {
     "name": "stdout",
     "output_type": "stream",
     "text": [
      "다음날짜로 선택시작\n",
      "다음 날짜 선택 후 크롤링 준비\n",
      "https://search.naver.com/search.naver?where=news&query=%EC%BD%94%EC%8A%A4%ED%94%BC%20%EA%B2%BD%EC%A0%9C&sm=tab_opt&sort=0&photo=0&field=0&pd=3&ds=2022.08.17&de=2022.08.17&docid=&related=0&mynews=0&office_type=0&office_section_code=0&news_office_checked=&nso=so%3Ar%2Cp%3Afrom20220817to20220817&is_sug_officeid=0\n",
      "https://search.naver.com/search.naver?where=news&sm=tab_pge&query=%EC%BD%94%EC%8A%A4%ED%94%BC%20%EA%B2%BD%EC%A0%9C&sort=0&photo=0&field=0&pd=3&ds=2022.08.17&de=2022.08.17&cluster_rank=15&mynews=0&office_type=0&office_section_code=0&news_office_checked=&nso=so:r,p:from20220817to20220817,a:all&start=11\n",
      "https://search.naver.com/search.naver?where=news&sm=tab_pge&query=%EC%BD%94%EC%8A%A4%ED%94%BC%20%EA%B2%BD%EC%A0%9C&sort=0&photo=0&field=0&pd=3&ds=2022.08.17&de=2022.08.17&cluster_rank=25&mynews=0&office_type=0&office_section_code=0&news_office_checked=&nso=so:r,p:from20220817to20220817,a:all&start=21\n",
      "크롤링 준비\n"
     ]
    },
    {
     "name": "stderr",
     "output_type": "stream",
     "text": [
      "\n",
      "\n",
      "preprocessing day:  55%|██████████████████████████████████▌                            | 17/31 [02:01<01:36,  6.90s/it]\u001b[A\u001b[A"
     ]
    },
    {
     "name": "stdout",
     "output_type": "stream",
     "text": [
      "다음날짜로 선택시작\n",
      "다음 날짜 선택 후 크롤링 준비\n",
      "https://search.naver.com/search.naver?where=news&query=%EC%BD%94%EC%8A%A4%ED%94%BC%20%EA%B2%BD%EC%A0%9C&sm=tab_opt&sort=0&photo=0&field=0&pd=3&ds=2022.08.18&de=2022.08.18&docid=&related=0&mynews=0&office_type=0&office_section_code=0&news_office_checked=&nso=so%3Ar%2Cp%3Afrom20220818to20220818&is_sug_officeid=0\n",
      "https://search.naver.com/search.naver?where=news&sm=tab_pge&query=%EC%BD%94%EC%8A%A4%ED%94%BC%20%EA%B2%BD%EC%A0%9C&sort=0&photo=0&field=0&pd=3&ds=2022.08.18&de=2022.08.18&cluster_rank=15&mynews=0&office_type=0&office_section_code=0&news_office_checked=&nso=so:r,p:from20220818to20220818,a:all&start=11\n",
      "https://search.naver.com/search.naver?where=news&sm=tab_pge&query=%EC%BD%94%EC%8A%A4%ED%94%BC%20%EA%B2%BD%EC%A0%9C&sort=0&photo=0&field=0&pd=3&ds=2022.08.18&de=2022.08.18&cluster_rank=26&mynews=0&office_type=0&office_section_code=0&news_office_checked=&nso=so:r,p:from20220818to20220818,a:all&start=21\n",
      "크롤링 준비\n"
     ]
    },
    {
     "name": "stderr",
     "output_type": "stream",
     "text": [
      "\n",
      "\n",
      "preprocessing day:  58%|████████████████████████████████████▌                          | 18/31 [02:08<01:30,  6.93s/it]\u001b[A\u001b[A"
     ]
    },
    {
     "name": "stdout",
     "output_type": "stream",
     "text": [
      "다음날짜로 선택시작\n",
      "다음 날짜 선택 후 크롤링 준비\n",
      "https://search.naver.com/search.naver?where=news&query=%EC%BD%94%EC%8A%A4%ED%94%BC%20%EA%B2%BD%EC%A0%9C&sm=tab_opt&sort=0&photo=0&field=0&pd=3&ds=2022.08.19&de=2022.08.19&docid=&related=0&mynews=0&office_type=0&office_section_code=0&news_office_checked=&nso=so%3Ar%2Cp%3Afrom20220819to20220819&is_sug_officeid=0\n",
      "https://search.naver.com/search.naver?where=news&sm=tab_pge&query=%EC%BD%94%EC%8A%A4%ED%94%BC%20%EA%B2%BD%EC%A0%9C&sort=0&photo=0&field=0&pd=3&ds=2022.08.19&de=2022.08.19&cluster_rank=12&mynews=0&office_type=0&office_section_code=0&news_office_checked=&nso=so:r,p:from20220819to20220819,a:all&start=11\n",
      "https://search.naver.com/search.naver?where=news&sm=tab_pge&query=%EC%BD%94%EC%8A%A4%ED%94%BC%20%EA%B2%BD%EC%A0%9C&sort=0&photo=0&field=0&pd=3&ds=2022.08.19&de=2022.08.19&cluster_rank=26&mynews=0&office_type=0&office_section_code=0&news_office_checked=&nso=so:r,p:from20220819to20220819,a:all&start=21\n",
      "크롤링 준비\n"
     ]
    },
    {
     "name": "stderr",
     "output_type": "stream",
     "text": [
      "\n",
      "\n",
      "preprocessing day:  61%|██████████████████████████████████████▌                        | 19/31 [02:15<01:23,  6.92s/it]\u001b[A\u001b[A"
     ]
    },
    {
     "name": "stdout",
     "output_type": "stream",
     "text": [
      "다음날짜로 선택시작\n",
      "다음 날짜 선택 후 크롤링 준비\n",
      "https://search.naver.com/search.naver?where=news&query=%EC%BD%94%EC%8A%A4%ED%94%BC%20%EA%B2%BD%EC%A0%9C&sm=tab_opt&sort=0&photo=0&field=0&pd=3&ds=2022.08.20&de=2022.08.20&docid=&related=0&mynews=0&office_type=0&office_section_code=0&news_office_checked=&nso=so%3Ar%2Cp%3Afrom20220820to20220820&is_sug_officeid=0\n",
      "https://search.naver.com/search.naver?where=news&query=%EC%BD%94%EC%8A%A4%ED%94%BC%20%EA%B2%BD%EC%A0%9C&sm=tab_opt&sort=0&photo=0&field=0&pd=3&ds=2022.08.20&de=2022.08.20&docid=&related=0&mynews=0&office_type=0&office_section_code=0&news_office_checked=&nso=so%3Ar%2Cp%3Afrom20220820to20220820&is_sug_officeid=0\n",
      "크롤링 준비\n"
     ]
    },
    {
     "name": "stderr",
     "output_type": "stream",
     "text": [
      "\n",
      "\n",
      "preprocessing day:  65%|████████████████████████████████████████▋                      | 20/31 [02:21<01:14,  6.73s/it]\u001b[A\u001b[A"
     ]
    },
    {
     "name": "stdout",
     "output_type": "stream",
     "text": [
      "다음날짜로 선택시작\n",
      "다음 날짜 선택 후 크롤링 준비\n",
      "https://search.naver.com/search.naver?where=news&query=%EC%BD%94%EC%8A%A4%ED%94%BC%20%EA%B2%BD%EC%A0%9C&sm=tab_opt&sort=0&photo=0&field=0&pd=3&ds=2022.08.21&de=2022.08.21&docid=&related=0&mynews=0&office_type=0&office_section_code=0&news_office_checked=&nso=so%3Ar%2Cp%3Afrom20220821to20220821&is_sug_officeid=0\n",
      "https://search.naver.com/search.naver?where=news&sm=tab_pge&query=%EC%BD%94%EC%8A%A4%ED%94%BC%20%EA%B2%BD%EC%A0%9C&sort=0&photo=0&field=0&pd=3&ds=2022.08.21&de=2022.08.21&cluster_rank=15&mynews=0&office_type=0&office_section_code=0&news_office_checked=&nso=so:r,p:from20220821to20220821,a:all&start=11\n",
      "https://search.naver.com/search.naver?where=news&sm=tab_pge&query=%EC%BD%94%EC%8A%A4%ED%94%BC%20%EA%B2%BD%EC%A0%9C&sort=0&photo=0&field=0&pd=3&ds=2022.08.21&de=2022.08.21&cluster_rank=25&mynews=0&office_type=0&office_section_code=0&news_office_checked=&nso=so:r,p:from20220821to20220821,a:all&start=21\n",
      "크롤링 준비\n"
     ]
    },
    {
     "name": "stderr",
     "output_type": "stream",
     "text": [
      "\n",
      "\n",
      "preprocessing day:  68%|██████████████████████████████████████████▋                    | 21/31 [02:28<01:08,  6.89s/it]\u001b[A\u001b[A"
     ]
    },
    {
     "name": "stdout",
     "output_type": "stream",
     "text": [
      "다음날짜로 선택시작\n",
      "다음 날짜 선택 후 크롤링 준비\n",
      "https://search.naver.com/search.naver?where=news&query=%EC%BD%94%EC%8A%A4%ED%94%BC%20%EA%B2%BD%EC%A0%9C&sm=tab_opt&sort=0&photo=0&field=0&pd=3&ds=2022.08.22&de=2022.08.22&docid=&related=0&mynews=0&office_type=0&office_section_code=0&news_office_checked=&nso=so%3Ar%2Cp%3Afrom20220822to20220822&is_sug_officeid=0\n",
      "https://search.naver.com/search.naver?where=news&sm=tab_pge&query=%EC%BD%94%EC%8A%A4%ED%94%BC%20%EA%B2%BD%EC%A0%9C&sort=0&photo=0&field=0&pd=3&ds=2022.08.22&de=2022.08.22&cluster_rank=18&mynews=0&office_type=0&office_section_code=0&news_office_checked=&nso=so:r,p:from20220822to20220822,a:all&start=11\n",
      "https://search.naver.com/search.naver?where=news&sm=tab_pge&query=%EC%BD%94%EC%8A%A4%ED%94%BC%20%EA%B2%BD%EC%A0%9C&sort=0&photo=0&field=0&pd=3&ds=2022.08.22&de=2022.08.22&cluster_rank=31&mynews=0&office_type=0&office_section_code=0&news_office_checked=&nso=so:r,p:from20220822to20220822,a:all&start=21\n",
      "크롤링 준비\n"
     ]
    },
    {
     "name": "stderr",
     "output_type": "stream",
     "text": [
      "\n",
      "\n",
      "preprocessing day:  71%|████████████████████████████████████████████▋                  | 22/31 [02:35<01:02,  6.94s/it]\u001b[A\u001b[A"
     ]
    },
    {
     "name": "stdout",
     "output_type": "stream",
     "text": [
      "다음날짜로 선택시작\n",
      "다음 날짜 선택 후 크롤링 준비\n",
      "https://search.naver.com/search.naver?where=news&query=%EC%BD%94%EC%8A%A4%ED%94%BC%20%EA%B2%BD%EC%A0%9C&sm=tab_opt&sort=0&photo=0&field=0&pd=3&ds=2022.08.23&de=2022.08.23&docid=&related=0&mynews=0&office_type=0&office_section_code=0&news_office_checked=&nso=so%3Ar%2Cp%3Afrom20220823to20220823&is_sug_officeid=0\n",
      "https://search.naver.com/search.naver?where=news&sm=tab_pge&query=%EC%BD%94%EC%8A%A4%ED%94%BC%20%EA%B2%BD%EC%A0%9C&sort=0&photo=0&field=0&pd=3&ds=2022.08.23&de=2022.08.23&cluster_rank=15&mynews=0&office_type=0&office_section_code=0&news_office_checked=&nso=so:r,p:from20220823to20220823,a:all&start=11\n",
      "https://search.naver.com/search.naver?where=news&sm=tab_pge&query=%EC%BD%94%EC%8A%A4%ED%94%BC%20%EA%B2%BD%EC%A0%9C&sort=0&photo=0&field=0&pd=3&ds=2022.08.23&de=2022.08.23&cluster_rank=31&mynews=0&office_type=0&office_section_code=0&news_office_checked=&nso=so:r,p:from20220823to20220823,a:all&start=21\n",
      "크롤링 준비\n"
     ]
    },
    {
     "name": "stderr",
     "output_type": "stream",
     "text": [
      "\n",
      "\n",
      "preprocessing day:  74%|██████████████████████████████████████████████▋                | 23/31 [02:43<00:56,  7.03s/it]\u001b[A\u001b[A"
     ]
    },
    {
     "name": "stdout",
     "output_type": "stream",
     "text": [
      "다음날짜로 선택시작\n",
      "다음 날짜 선택 후 크롤링 준비\n",
      "https://search.naver.com/search.naver?where=news&query=%EC%BD%94%EC%8A%A4%ED%94%BC%20%EA%B2%BD%EC%A0%9C&sm=tab_opt&sort=0&photo=0&field=0&pd=3&ds=2022.08.24&de=2022.08.24&docid=&related=0&mynews=0&office_type=0&office_section_code=0&news_office_checked=&nso=so%3Ar%2Cp%3Afrom20220824to20220824&is_sug_officeid=0\n",
      "https://search.naver.com/search.naver?where=news&sm=tab_pge&query=%EC%BD%94%EC%8A%A4%ED%94%BC%20%EA%B2%BD%EC%A0%9C&sort=0&photo=0&field=0&pd=3&ds=2022.08.24&de=2022.08.24&cluster_rank=17&mynews=0&office_type=0&office_section_code=0&news_office_checked=&nso=so:r,p:from20220824to20220824,a:all&start=11\n",
      "https://search.naver.com/search.naver?where=news&sm=tab_pge&query=%EC%BD%94%EC%8A%A4%ED%94%BC%20%EA%B2%BD%EC%A0%9C&sort=0&photo=0&field=0&pd=3&ds=2022.08.24&de=2022.08.24&cluster_rank=28&mynews=0&office_type=0&office_section_code=0&news_office_checked=&nso=so:r,p:from20220824to20220824,a:all&start=21\n",
      "크롤링 준비\n"
     ]
    },
    {
     "name": "stderr",
     "output_type": "stream",
     "text": [
      "\n",
      "\n",
      "preprocessing day:  77%|████████████████████████████████████████████████▊              | 24/31 [02:50<00:49,  7.08s/it]\u001b[A\u001b[A"
     ]
    },
    {
     "name": "stdout",
     "output_type": "stream",
     "text": [
      "다음날짜로 선택시작\n",
      "다음 날짜 선택 후 크롤링 준비\n",
      "https://search.naver.com/search.naver?where=news&query=%EC%BD%94%EC%8A%A4%ED%94%BC%20%EA%B2%BD%EC%A0%9C&sm=tab_opt&sort=0&photo=0&field=0&pd=3&ds=2022.08.25&de=2022.08.25&docid=&related=0&mynews=0&office_type=0&office_section_code=0&news_office_checked=&nso=so%3Ar%2Cp%3Afrom20220825to20220825&is_sug_officeid=0\n",
      "https://search.naver.com/search.naver?where=news&sm=tab_pge&query=%EC%BD%94%EC%8A%A4%ED%94%BC%20%EA%B2%BD%EC%A0%9C&sort=0&photo=0&field=0&pd=3&ds=2022.08.25&de=2022.08.25&cluster_rank=13&mynews=0&office_type=0&office_section_code=0&news_office_checked=&nso=so:r,p:from20220825to20220825,a:all&start=11\n",
      "https://search.naver.com/search.naver?where=news&sm=tab_pge&query=%EC%BD%94%EC%8A%A4%ED%94%BC%20%EA%B2%BD%EC%A0%9C&sort=0&photo=0&field=0&pd=3&ds=2022.08.25&de=2022.08.25&cluster_rank=23&mynews=0&office_type=0&office_section_code=0&news_office_checked=&nso=so:r,p:from20220825to20220825,a:all&start=21\n",
      "크롤링 준비\n"
     ]
    },
    {
     "name": "stderr",
     "output_type": "stream",
     "text": [
      "\n",
      "\n",
      "preprocessing day:  81%|██████████████████████████████████████████████████▊            | 25/31 [02:57<00:43,  7.21s/it]\u001b[A\u001b[A"
     ]
    },
    {
     "name": "stdout",
     "output_type": "stream",
     "text": [
      "다음날짜로 선택시작\n",
      "다음 날짜 선택 후 크롤링 준비\n",
      "https://search.naver.com/search.naver?where=news&query=%EC%BD%94%EC%8A%A4%ED%94%BC%20%EA%B2%BD%EC%A0%9C&sm=tab_opt&sort=0&photo=0&field=0&pd=3&ds=2022.08.26&de=2022.08.26&docid=&related=0&mynews=0&office_type=0&office_section_code=0&news_office_checked=&nso=so%3Ar%2Cp%3Afrom20220826to20220826&is_sug_officeid=0\n",
      "https://search.naver.com/search.naver?where=news&sm=tab_pge&query=%EC%BD%94%EC%8A%A4%ED%94%BC%20%EA%B2%BD%EC%A0%9C&sort=0&photo=0&field=0&pd=3&ds=2022.08.26&de=2022.08.26&cluster_rank=18&mynews=0&office_type=0&office_section_code=0&news_office_checked=&nso=so:r,p:from20220826to20220826,a:all&start=11\n",
      "https://search.naver.com/search.naver?where=news&sm=tab_pge&query=%EC%BD%94%EC%8A%A4%ED%94%BC%20%EA%B2%BD%EC%A0%9C&sort=0&photo=0&field=0&pd=3&ds=2022.08.26&de=2022.08.26&cluster_rank=28&mynews=0&office_type=0&office_section_code=0&news_office_checked=&nso=so:r,p:from20220826to20220826,a:all&start=21\n",
      "크롤링 준비\n"
     ]
    },
    {
     "name": "stderr",
     "output_type": "stream",
     "text": [
      "\n",
      "\n",
      "preprocessing day:  84%|████████████████████████████████████████████████████▊          | 26/31 [03:05<00:36,  7.23s/it]\u001b[A\u001b[A"
     ]
    },
    {
     "name": "stdout",
     "output_type": "stream",
     "text": [
      "다음날짜로 선택시작\n",
      "다음 날짜 선택 후 크롤링 준비\n",
      "https://search.naver.com/search.naver?where=news&query=%EC%BD%94%EC%8A%A4%ED%94%BC%20%EA%B2%BD%EC%A0%9C&sm=tab_opt&sort=0&photo=0&field=0&pd=3&ds=2022.08.27&de=2022.08.27&docid=&related=0&mynews=0&office_type=0&office_section_code=0&news_office_checked=&nso=so%3Ar%2Cp%3Afrom20220827to20220827&is_sug_officeid=0\n",
      "https://search.naver.com/search.naver?where=news&sm=tab_pge&query=%EC%BD%94%EC%8A%A4%ED%94%BC%20%EA%B2%BD%EC%A0%9C&sort=0&photo=0&field=0&pd=3&ds=2022.08.27&de=2022.08.27&cluster_rank=10&mynews=0&office_type=0&office_section_code=0&news_office_checked=&nso=so:r,p:from20220827to20220827,a:all&start=11\n",
      "https://search.naver.com/search.naver?where=news&sm=tab_pge&query=%EC%BD%94%EC%8A%A4%ED%94%BC%20%EA%B2%BD%EC%A0%9C&sort=0&photo=0&field=0&pd=3&ds=2022.08.27&de=2022.08.27&cluster_rank=10&mynews=0&office_type=0&office_section_code=0&news_office_checked=&nso=so:r,p:from20220827to20220827,a:all&start=11\n",
      "크롤링 준비\n"
     ]
    },
    {
     "name": "stderr",
     "output_type": "stream",
     "text": [
      "\n",
      "\n",
      "preprocessing day:  87%|██████████████████████████████████████████████████████▊        | 27/31 [03:11<00:28,  7.11s/it]\u001b[A\u001b[A"
     ]
    },
    {
     "name": "stdout",
     "output_type": "stream",
     "text": [
      "다음날짜로 선택시작\n",
      "다음 날짜 선택 후 크롤링 준비\n",
      "https://search.naver.com/search.naver?where=news&query=%EC%BD%94%EC%8A%A4%ED%94%BC%20%EA%B2%BD%EC%A0%9C&sm=tab_opt&sort=0&photo=0&field=0&pd=3&ds=2022.08.28&de=2022.08.28&docid=&related=0&mynews=0&office_type=0&office_section_code=0&news_office_checked=&nso=so%3Ar%2Cp%3Afrom20220828to20220828&is_sug_officeid=0\n",
      "https://search.naver.com/search.naver?where=news&sm=tab_pge&query=%EC%BD%94%EC%8A%A4%ED%94%BC%20%EA%B2%BD%EC%A0%9C&sort=0&photo=0&field=0&pd=3&ds=2022.08.28&de=2022.08.28&cluster_rank=17&mynews=0&office_type=0&office_section_code=0&news_office_checked=&nso=so:r,p:from20220828to20220828,a:all&start=11\n",
      "https://search.naver.com/search.naver?where=news&sm=tab_pge&query=%EC%BD%94%EC%8A%A4%ED%94%BC%20%EA%B2%BD%EC%A0%9C&sort=0&photo=0&field=0&pd=3&ds=2022.08.28&de=2022.08.28&cluster_rank=32&mynews=0&office_type=0&office_section_code=0&news_office_checked=&nso=so:r,p:from20220828to20220828,a:all&start=21\n",
      "크롤링 준비\n"
     ]
    },
    {
     "name": "stderr",
     "output_type": "stream",
     "text": [
      "\n",
      "\n",
      "preprocessing day:  90%|████████████████████████████████████████████████████████▉      | 28/31 [03:18<00:21,  7.06s/it]\u001b[A\u001b[A"
     ]
    },
    {
     "name": "stdout",
     "output_type": "stream",
     "text": [
      "다음날짜로 선택시작\n",
      "다음 날짜 선택 후 크롤링 준비\n",
      "https://search.naver.com/search.naver?where=news&query=%EC%BD%94%EC%8A%A4%ED%94%BC%20%EA%B2%BD%EC%A0%9C&sm=tab_opt&sort=0&photo=0&field=0&pd=3&ds=2022.08.29&de=2022.08.29&docid=&related=0&mynews=0&office_type=0&office_section_code=0&news_office_checked=&nso=so%3Ar%2Cp%3Afrom20220829to20220829&is_sug_officeid=0\n",
      "https://search.naver.com/search.naver?where=news&sm=tab_pge&query=%EC%BD%94%EC%8A%A4%ED%94%BC%20%EA%B2%BD%EC%A0%9C&sort=0&photo=0&field=0&pd=3&ds=2022.08.29&de=2022.08.29&cluster_rank=16&mynews=0&office_type=0&office_section_code=0&news_office_checked=&nso=so:r,p:from20220829to20220829,a:all&start=11\n",
      "https://search.naver.com/search.naver?where=news&sm=tab_pge&query=%EC%BD%94%EC%8A%A4%ED%94%BC%20%EA%B2%BD%EC%A0%9C&sort=0&photo=0&field=0&pd=3&ds=2022.08.29&de=2022.08.29&cluster_rank=28&mynews=0&office_type=0&office_section_code=0&news_office_checked=&nso=so:r,p:from20220829to20220829,a:all&start=21\n",
      "크롤링 준비\n"
     ]
    },
    {
     "name": "stderr",
     "output_type": "stream",
     "text": [
      "\n",
      "\n",
      "preprocessing day:  94%|██████████████████████████████████████████████████████████▉    | 29/31 [03:26<00:14,  7.24s/it]\u001b[A\u001b[A"
     ]
    },
    {
     "name": "stdout",
     "output_type": "stream",
     "text": [
      "다음날짜로 선택시작\n",
      "다음 날짜 선택 후 크롤링 준비\n",
      "https://search.naver.com/search.naver?where=news&query=%EC%BD%94%EC%8A%A4%ED%94%BC%20%EA%B2%BD%EC%A0%9C&sm=tab_opt&sort=0&photo=0&field=0&pd=3&ds=2022.08.30&de=2022.08.30&docid=&related=0&mynews=0&office_type=0&office_section_code=0&news_office_checked=&nso=so%3Ar%2Cp%3Afrom20220830to20220830&is_sug_officeid=0\n",
      "https://search.naver.com/search.naver?where=news&sm=tab_pge&query=%EC%BD%94%EC%8A%A4%ED%94%BC%20%EA%B2%BD%EC%A0%9C&sort=0&photo=0&field=0&pd=3&ds=2022.08.30&de=2022.08.30&cluster_rank=13&mynews=0&office_type=0&office_section_code=0&news_office_checked=&nso=so:r,p:from20220830to20220830,a:all&start=11\n",
      "https://search.naver.com/search.naver?where=news&sm=tab_pge&query=%EC%BD%94%EC%8A%A4%ED%94%BC%20%EA%B2%BD%EC%A0%9C&sort=0&photo=0&field=0&pd=3&ds=2022.08.30&de=2022.08.30&cluster_rank=25&mynews=0&office_type=0&office_section_code=0&news_office_checked=&nso=so:r,p:from20220830to20220830,a:all&start=21\n",
      "크롤링 준비\n"
     ]
    },
    {
     "name": "stderr",
     "output_type": "stream",
     "text": [
      "\n",
      "\n",
      "preprocessing day:  97%|████████████████████████████████████████████████████████████▉  | 30/31 [03:33<00:07,  7.30s/it]\u001b[A\u001b[A"
     ]
    },
    {
     "name": "stdout",
     "output_type": "stream",
     "text": [
      "다음날짜로 선택시작\n",
      "다음 날짜 선택 후 크롤링 준비\n",
      "https://search.naver.com/search.naver?where=news&query=%EC%BD%94%EC%8A%A4%ED%94%BC%20%EA%B2%BD%EC%A0%9C&sm=tab_opt&sort=0&photo=0&field=0&pd=3&ds=2022.08.31&de=2022.08.31&docid=&related=0&mynews=0&office_type=0&office_section_code=0&news_office_checked=&nso=so%3Ar%2Cp%3Afrom20220831to20220831&is_sug_officeid=0\n",
      "https://search.naver.com/search.naver?where=news&sm=tab_pge&query=%EC%BD%94%EC%8A%A4%ED%94%BC%20%EA%B2%BD%EC%A0%9C&sort=0&photo=0&field=0&pd=3&ds=2022.08.31&de=2022.08.31&cluster_rank=11&mynews=0&office_type=0&office_section_code=0&news_office_checked=&nso=so:r,p:from20220831to20220831,a:all&start=11\n",
      "https://search.naver.com/search.naver?where=news&sm=tab_pge&query=%EC%BD%94%EC%8A%A4%ED%94%BC%20%EA%B2%BD%EC%A0%9C&sort=0&photo=0&field=0&pd=3&ds=2022.08.31&de=2022.08.31&cluster_rank=23&mynews=0&office_type=0&office_section_code=0&news_office_checked=&nso=so:r,p:from20220831to20220831,a:all&start=21\n",
      "크롤링 준비\n"
     ]
    },
    {
     "name": "stderr",
     "output_type": "stream",
     "text": [
      "\n",
      "\n",
      "preprocessing day: 100%|███████████████████████████████████████████████████████████████| 31/31 [03:41<00:00,  7.13s/it]\u001b[A\u001b[A\n",
      "\n",
      "preprocessing month:  67%|████████████████████████████████████████▋                    | 8/12 [29:30<14:48, 222.14s/it]\u001b[A"
     ]
    },
    {
     "name": "stdout",
     "output_type": "stream",
     "text": [
      "다음날짜로 선택시작\n"
     ]
    },
    {
     "name": "stderr",
     "output_type": "stream",
     "text": [
      "\n",
      "\n",
      "preprocessing day:   0%|                                                                        | 0/31 [00:00<?, ?it/s]\u001b[A\u001b[A"
     ]
    },
    {
     "name": "stdout",
     "output_type": "stream",
     "text": [
      "다음 날짜 선택 후 크롤링 준비\n",
      "https://search.naver.com/search.naver?where=news&query=%EC%BD%94%EC%8A%A4%ED%94%BC%20%EA%B2%BD%EC%A0%9C&sm=tab_opt&sort=0&photo=0&field=0&pd=3&ds=2022.09.01&de=2022.09.01&docid=&related=0&mynews=0&office_type=0&office_section_code=0&news_office_checked=&nso=so%3Ar%2Cp%3Afrom20220901to20220901&is_sug_officeid=0\n",
      "https://search.naver.com/search.naver?where=news&sm=tab_pge&query=%EC%BD%94%EC%8A%A4%ED%94%BC%20%EA%B2%BD%EC%A0%9C&sort=0&photo=0&field=0&pd=3&ds=2022.09.01&de=2022.09.01&cluster_rank=16&mynews=0&office_type=0&office_section_code=0&news_office_checked=&nso=so:r,p:from20220901to20220901,a:all&start=11\n",
      "https://search.naver.com/search.naver?where=news&sm=tab_pge&query=%EC%BD%94%EC%8A%A4%ED%94%BC%20%EA%B2%BD%EC%A0%9C&sort=0&photo=0&field=0&pd=3&ds=2022.09.01&de=2022.09.01&cluster_rank=27&mynews=0&office_type=0&office_section_code=0&news_office_checked=&nso=so:r,p:from20220901to20220901,a:all&start=21\n",
      "크롤링 준비\n"
     ]
    },
    {
     "name": "stderr",
     "output_type": "stream",
     "text": [
      "\n",
      "\n",
      "preprocessing day:   3%|██                                                              | 1/31 [00:07<03:48,  7.62s/it]\u001b[A\u001b[A"
     ]
    },
    {
     "name": "stdout",
     "output_type": "stream",
     "text": [
      "다음날짜로 선택시작\n",
      "다음 날짜 선택 후 크롤링 준비\n",
      "https://search.naver.com/search.naver?where=news&query=%EC%BD%94%EC%8A%A4%ED%94%BC%20%EA%B2%BD%EC%A0%9C&sm=tab_opt&sort=0&photo=0&field=0&pd=3&ds=2022.09.02&de=2022.09.02&docid=&related=0&mynews=0&office_type=0&office_section_code=0&news_office_checked=&nso=so%3Ar%2Cp%3Afrom20220902to20220902&is_sug_officeid=0\n",
      "https://search.naver.com/search.naver?where=news&sm=tab_pge&query=%EC%BD%94%EC%8A%A4%ED%94%BC%20%EA%B2%BD%EC%A0%9C&sort=0&photo=0&field=0&pd=3&ds=2022.09.02&de=2022.09.02&cluster_rank=14&mynews=0&office_type=0&office_section_code=0&news_office_checked=&nso=so:r,p:from20220902to20220902,a:all&start=11\n",
      "https://search.naver.com/search.naver?where=news&sm=tab_pge&query=%EC%BD%94%EC%8A%A4%ED%94%BC%20%EA%B2%BD%EC%A0%9C&sort=0&photo=0&field=0&pd=3&ds=2022.09.02&de=2022.09.02&cluster_rank=26&mynews=0&office_type=0&office_section_code=0&news_office_checked=&nso=so:r,p:from20220902to20220902,a:all&start=21\n",
      "크롤링 준비\n"
     ]
    },
    {
     "name": "stderr",
     "output_type": "stream",
     "text": [
      "\n",
      "\n",
      "preprocessing day:   6%|████▏                                                           | 2/31 [00:15<03:42,  7.66s/it]\u001b[A\u001b[A"
     ]
    },
    {
     "name": "stdout",
     "output_type": "stream",
     "text": [
      "다음날짜로 선택시작\n",
      "다음 날짜 선택 후 크롤링 준비\n",
      "https://search.naver.com/search.naver?where=news&query=%EC%BD%94%EC%8A%A4%ED%94%BC%20%EA%B2%BD%EC%A0%9C&sm=tab_opt&sort=0&photo=0&field=0&pd=3&ds=2022.09.03&de=2022.09.03&docid=&related=0&mynews=0&office_type=0&office_section_code=0&news_office_checked=&nso=so%3Ar%2Cp%3Afrom20220903to20220903&is_sug_officeid=0\n",
      "https://search.naver.com/search.naver?where=news&query=%EC%BD%94%EC%8A%A4%ED%94%BC%20%EA%B2%BD%EC%A0%9C&sm=tab_opt&sort=0&photo=0&field=0&pd=3&ds=2022.09.03&de=2022.09.03&docid=&related=0&mynews=0&office_type=0&office_section_code=0&news_office_checked=&nso=so%3Ar%2Cp%3Afrom20220903to20220903&is_sug_officeid=0\n",
      "크롤링 준비\n"
     ]
    },
    {
     "name": "stderr",
     "output_type": "stream",
     "text": [
      "\n",
      "\n",
      "preprocessing day:  10%|██████▏                                                         | 3/31 [00:21<03:16,  7.02s/it]\u001b[A\u001b[A"
     ]
    },
    {
     "name": "stdout",
     "output_type": "stream",
     "text": [
      "다음날짜로 선택시작\n",
      "다음 날짜 선택 후 크롤링 준비\n",
      "https://search.naver.com/search.naver?where=news&query=%EC%BD%94%EC%8A%A4%ED%94%BC%20%EA%B2%BD%EC%A0%9C&sm=tab_opt&sort=0&photo=0&field=0&pd=3&ds=2022.09.04&de=2022.09.04&docid=&related=0&mynews=0&office_type=0&office_section_code=0&news_office_checked=&nso=so%3Ar%2Cp%3Afrom20220904to20220904&is_sug_officeid=0\n",
      "https://search.naver.com/search.naver?where=news&sm=tab_pge&query=%EC%BD%94%EC%8A%A4%ED%94%BC%20%EA%B2%BD%EC%A0%9C&sort=0&photo=0&field=0&pd=3&ds=2022.09.04&de=2022.09.04&cluster_rank=13&mynews=0&office_type=0&office_section_code=0&news_office_checked=&nso=so:r,p:from20220904to20220904,a:all&start=11\n",
      "https://search.naver.com/search.naver?where=news&sm=tab_pge&query=%EC%BD%94%EC%8A%A4%ED%94%BC%20%EA%B2%BD%EC%A0%9C&sort=0&photo=0&field=0&pd=3&ds=2022.09.04&de=2022.09.04&cluster_rank=23&mynews=0&office_type=0&office_section_code=0&news_office_checked=&nso=so:r,p:from20220904to20220904,a:all&start=21\n",
      "크롤링 준비\n"
     ]
    },
    {
     "name": "stderr",
     "output_type": "stream",
     "text": [
      "\n",
      "\n",
      "preprocessing day:  13%|████████▎                                                       | 4/31 [00:28<03:11,  7.08s/it]\u001b[A\u001b[A"
     ]
    },
    {
     "name": "stdout",
     "output_type": "stream",
     "text": [
      "다음날짜로 선택시작\n",
      "다음 날짜 선택 후 크롤링 준비\n",
      "https://search.naver.com/search.naver?where=news&query=%EC%BD%94%EC%8A%A4%ED%94%BC%20%EA%B2%BD%EC%A0%9C&sm=tab_opt&sort=0&photo=0&field=0&pd=3&ds=2022.09.05&de=2022.09.05&docid=&related=0&mynews=0&office_type=0&office_section_code=0&news_office_checked=&nso=so%3Ar%2Cp%3Afrom20220905to20220905&is_sug_officeid=0\n",
      "https://search.naver.com/search.naver?where=news&sm=tab_pge&query=%EC%BD%94%EC%8A%A4%ED%94%BC%20%EA%B2%BD%EC%A0%9C&sort=0&photo=0&field=0&pd=3&ds=2022.09.05&de=2022.09.05&cluster_rank=18&mynews=0&office_type=0&office_section_code=0&news_office_checked=&nso=so:r,p:from20220905to20220905,a:all&start=11\n",
      "https://search.naver.com/search.naver?where=news&sm=tab_pge&query=%EC%BD%94%EC%8A%A4%ED%94%BC%20%EA%B2%BD%EC%A0%9C&sort=0&photo=0&field=0&pd=3&ds=2022.09.05&de=2022.09.05&cluster_rank=28&mynews=0&office_type=0&office_section_code=0&news_office_checked=&nso=so:r,p:from20220905to20220905,a:all&start=21\n",
      "크롤링 준비\n"
     ]
    },
    {
     "name": "stderr",
     "output_type": "stream",
     "text": [
      "\n",
      "\n",
      "preprocessing day:  16%|██████████▎                                                     | 5/31 [00:35<03:05,  7.12s/it]\u001b[A\u001b[A"
     ]
    },
    {
     "name": "stdout",
     "output_type": "stream",
     "text": [
      "다음날짜로 선택시작\n",
      "다음 날짜 선택 후 크롤링 준비\n",
      "https://search.naver.com/search.naver?where=news&query=%EC%BD%94%EC%8A%A4%ED%94%BC%20%EA%B2%BD%EC%A0%9C&sm=tab_opt&sort=0&photo=0&field=0&pd=3&ds=2022.09.06&de=2022.09.06&docid=&related=0&mynews=0&office_type=0&office_section_code=0&news_office_checked=&nso=so%3Ar%2Cp%3Afrom20220906to20220906&is_sug_officeid=0\n",
      "https://search.naver.com/search.naver?where=news&sm=tab_pge&query=%EC%BD%94%EC%8A%A4%ED%94%BC%20%EA%B2%BD%EC%A0%9C&sort=0&photo=0&field=0&pd=3&ds=2022.09.06&de=2022.09.06&cluster_rank=11&mynews=0&office_type=0&office_section_code=0&news_office_checked=&nso=so:r,p:from20220906to20220906,a:all&start=11\n",
      "https://search.naver.com/search.naver?where=news&sm=tab_pge&query=%EC%BD%94%EC%8A%A4%ED%94%BC%20%EA%B2%BD%EC%A0%9C&sort=0&photo=0&field=0&pd=3&ds=2022.09.06&de=2022.09.06&cluster_rank=21&mynews=0&office_type=0&office_section_code=0&news_office_checked=&nso=so:r,p:from20220906to20220906,a:all&start=21\n",
      "크롤링 준비\n"
     ]
    },
    {
     "name": "stderr",
     "output_type": "stream",
     "text": [
      "\n",
      "\n",
      "preprocessing day:  19%|████████████▍                                                   | 6/31 [00:43<02:59,  7.17s/it]\u001b[A\u001b[A"
     ]
    },
    {
     "name": "stdout",
     "output_type": "stream",
     "text": [
      "다음날짜로 선택시작\n",
      "다음 날짜 선택 후 크롤링 준비\n",
      "https://search.naver.com/search.naver?where=news&query=%EC%BD%94%EC%8A%A4%ED%94%BC%20%EA%B2%BD%EC%A0%9C&sm=tab_opt&sort=0&photo=0&field=0&pd=3&ds=2022.09.07&de=2022.09.07&docid=&related=0&mynews=0&office_type=0&office_section_code=0&news_office_checked=&nso=so%3Ar%2Cp%3Afrom20220907to20220907&is_sug_officeid=0\n",
      "https://search.naver.com/search.naver?where=news&sm=tab_pge&query=%EC%BD%94%EC%8A%A4%ED%94%BC%20%EA%B2%BD%EC%A0%9C&sort=0&photo=0&field=0&pd=3&ds=2022.09.07&de=2022.09.07&cluster_rank=15&mynews=0&office_type=0&office_section_code=0&news_office_checked=&nso=so:r,p:from20220907to20220907,a:all&start=11\n",
      "https://search.naver.com/search.naver?where=news&sm=tab_pge&query=%EC%BD%94%EC%8A%A4%ED%94%BC%20%EA%B2%BD%EC%A0%9C&sort=0&photo=0&field=0&pd=3&ds=2022.09.07&de=2022.09.07&cluster_rank=26&mynews=0&office_type=0&office_section_code=0&news_office_checked=&nso=so:r,p:from20220907to20220907,a:all&start=21\n",
      "크롤링 준비\n"
     ]
    },
    {
     "name": "stderr",
     "output_type": "stream",
     "text": [
      "\n",
      "\n",
      "preprocessing day:  23%|██████████████▍                                                 | 7/31 [00:50<02:53,  7.25s/it]\u001b[A\u001b[A"
     ]
    },
    {
     "name": "stdout",
     "output_type": "stream",
     "text": [
      "다음날짜로 선택시작\n",
      "다음 날짜 선택 후 크롤링 준비\n",
      "https://search.naver.com/search.naver?where=news&query=%EC%BD%94%EC%8A%A4%ED%94%BC%20%EA%B2%BD%EC%A0%9C&sm=tab_opt&sort=0&photo=0&field=0&pd=3&ds=2022.09.08&de=2022.09.08&docid=&related=0&mynews=0&office_type=0&office_section_code=0&news_office_checked=&nso=so%3Ar%2Cp%3Afrom20220908to20220908&is_sug_officeid=0\n",
      "https://search.naver.com/search.naver?where=news&sm=tab_pge&query=%EC%BD%94%EC%8A%A4%ED%94%BC%20%EA%B2%BD%EC%A0%9C&sort=0&photo=0&field=0&pd=3&ds=2022.09.08&de=2022.09.08&cluster_rank=13&mynews=0&office_type=0&office_section_code=0&news_office_checked=&nso=so:r,p:from20220908to20220908,a:all&start=11\n",
      "https://search.naver.com/search.naver?where=news&sm=tab_pge&query=%EC%BD%94%EC%8A%A4%ED%94%BC%20%EA%B2%BD%EC%A0%9C&sort=0&photo=0&field=0&pd=3&ds=2022.09.08&de=2022.09.08&cluster_rank=23&mynews=0&office_type=0&office_section_code=0&news_office_checked=&nso=so:r,p:from20220908to20220908,a:all&start=21\n",
      "크롤링 준비\n"
     ]
    },
    {
     "name": "stderr",
     "output_type": "stream",
     "text": [
      "\n",
      "\n",
      "preprocessing day:  26%|████████████████▌                                               | 8/31 [00:58<02:50,  7.41s/it]\u001b[A\u001b[A"
     ]
    },
    {
     "name": "stdout",
     "output_type": "stream",
     "text": [
      "다음날짜로 선택시작\n",
      "다음 날짜 선택 후 크롤링 준비\n",
      "https://search.naver.com/search.naver?where=news&query=%EC%BD%94%EC%8A%A4%ED%94%BC%20%EA%B2%BD%EC%A0%9C&sm=tab_opt&sort=0&photo=0&field=0&pd=3&ds=2022.09.09&de=2022.09.09&docid=&related=0&mynews=0&office_type=0&office_section_code=0&news_office_checked=&nso=so%3Ar%2Cp%3Afrom20220909to20220909&is_sug_officeid=0\n",
      "https://search.naver.com/search.naver?where=news&sm=tab_pge&query=%EC%BD%94%EC%8A%A4%ED%94%BC%20%EA%B2%BD%EC%A0%9C&sort=0&photo=0&field=0&pd=3&ds=2022.09.09&de=2022.09.09&cluster_rank=10&mynews=0&office_type=0&office_section_code=0&news_office_checked=&nso=so:r,p:from20220909to20220909,a:all&start=11\n",
      "https://search.naver.com/search.naver?where=news&sm=tab_pge&query=%EC%BD%94%EC%8A%A4%ED%94%BC%20%EA%B2%BD%EC%A0%9C&sort=0&photo=0&field=0&pd=3&ds=2022.09.09&de=2022.09.09&cluster_rank=20&mynews=0&office_type=0&office_section_code=0&news_office_checked=&nso=so:r,p:from20220909to20220909,a:all&start=21\n",
      "크롤링 준비\n"
     ]
    },
    {
     "name": "stderr",
     "output_type": "stream",
     "text": [
      "\n",
      "\n",
      "preprocessing day:  29%|██████████████████▌                                             | 9/31 [01:05<02:41,  7.32s/it]\u001b[A\u001b[A"
     ]
    },
    {
     "name": "stdout",
     "output_type": "stream",
     "text": [
      "다음날짜로 선택시작\n",
      "다음 날짜 선택 후 크롤링 준비\n",
      "https://search.naver.com/search.naver?where=news&query=%EC%BD%94%EC%8A%A4%ED%94%BC%20%EA%B2%BD%EC%A0%9C&sm=tab_opt&sort=0&photo=0&field=0&pd=3&ds=2022.09.10&de=2022.09.10&docid=&related=0&mynews=0&office_type=0&office_section_code=0&news_office_checked=&nso=so%3Ar%2Cp%3Afrom20220910to20220910&is_sug_officeid=0\n",
      "https://search.naver.com/search.naver?where=news&sm=tab_pge&query=%EC%BD%94%EC%8A%A4%ED%94%BC%20%EA%B2%BD%EC%A0%9C&sort=0&photo=0&field=0&pd=3&ds=2022.09.10&de=2022.09.10&cluster_rank=10&mynews=0&office_type=0&office_section_code=0&news_office_checked=&nso=so:r,p:from20220910to20220910,a:all&start=11\n",
      "https://search.naver.com/search.naver?where=news&sm=tab_pge&query=%EC%BD%94%EC%8A%A4%ED%94%BC%20%EA%B2%BD%EC%A0%9C&sort=0&photo=0&field=0&pd=3&ds=2022.09.10&de=2022.09.10&cluster_rank=10&mynews=0&office_type=0&office_section_code=0&news_office_checked=&nso=so:r,p:from20220910to20220910,a:all&start=11\n",
      "크롤링 준비\n"
     ]
    },
    {
     "name": "stderr",
     "output_type": "stream",
     "text": [
      "\n",
      "\n",
      "preprocessing day:  32%|████████████████████▎                                          | 10/31 [01:12<02:29,  7.14s/it]\u001b[A\u001b[A"
     ]
    },
    {
     "name": "stdout",
     "output_type": "stream",
     "text": [
      "다음날짜로 선택시작\n",
      "다음 날짜 선택 후 크롤링 준비\n",
      "https://search.naver.com/search.naver?where=news&query=%EC%BD%94%EC%8A%A4%ED%94%BC%20%EA%B2%BD%EC%A0%9C&sm=tab_opt&sort=0&photo=0&field=0&pd=3&ds=2022.09.11&de=2022.09.11&docid=&related=0&mynews=0&office_type=0&office_section_code=0&news_office_checked=&nso=so%3Ar%2Cp%3Afrom20220911to20220911&is_sug_officeid=0\n",
      "https://search.naver.com/search.naver?where=news&sm=tab_pge&query=%EC%BD%94%EC%8A%A4%ED%94%BC%20%EA%B2%BD%EC%A0%9C&sort=0&photo=0&field=0&pd=3&ds=2022.09.11&de=2022.09.11&cluster_rank=10&mynews=0&office_type=0&office_section_code=0&news_office_checked=&nso=so:r,p:from20220911to20220911,a:all&start=11\n",
      "https://search.naver.com/search.naver?where=news&sm=tab_pge&query=%EC%BD%94%EC%8A%A4%ED%94%BC%20%EA%B2%BD%EC%A0%9C&sort=0&photo=0&field=0&pd=3&ds=2022.09.11&de=2022.09.11&cluster_rank=10&mynews=0&office_type=0&office_section_code=0&news_office_checked=&nso=so:r,p:from20220911to20220911,a:all&start=11\n",
      "크롤링 준비\n"
     ]
    },
    {
     "name": "stderr",
     "output_type": "stream",
     "text": [
      "\n",
      "\n",
      "preprocessing day:  35%|██████████████████████▎                                        | 11/31 [01:19<02:22,  7.11s/it]\u001b[A\u001b[A"
     ]
    },
    {
     "name": "stdout",
     "output_type": "stream",
     "text": [
      "다음날짜로 선택시작\n",
      "다음 날짜 선택 후 크롤링 준비\n",
      "https://search.naver.com/search.naver?where=news&query=%EC%BD%94%EC%8A%A4%ED%94%BC%20%EA%B2%BD%EC%A0%9C&sm=tab_opt&sort=0&photo=0&field=0&pd=3&ds=2022.09.12&de=2022.09.12&docid=&related=0&mynews=0&office_type=0&office_section_code=0&news_office_checked=&nso=so%3Ar%2Cp%3Afrom20220912to20220912&is_sug_officeid=0\n",
      "https://search.naver.com/search.naver?where=news&sm=tab_pge&query=%EC%BD%94%EC%8A%A4%ED%94%BC%20%EA%B2%BD%EC%A0%9C&sort=0&photo=0&field=0&pd=3&ds=2022.09.12&de=2022.09.12&cluster_rank=12&mynews=0&office_type=0&office_section_code=0&news_office_checked=&nso=so:r,p:from20220912to20220912,a:all&start=11\n",
      "https://search.naver.com/search.naver?where=news&sm=tab_pge&query=%EC%BD%94%EC%8A%A4%ED%94%BC%20%EA%B2%BD%EC%A0%9C&sort=0&photo=0&field=0&pd=3&ds=2022.09.12&de=2022.09.12&cluster_rank=23&mynews=0&office_type=0&office_section_code=0&news_office_checked=&nso=so:r,p:from20220912to20220912,a:all&start=21\n",
      "크롤링 준비\n"
     ]
    },
    {
     "name": "stderr",
     "output_type": "stream",
     "text": [
      "\n",
      "\n",
      "preprocessing day:  39%|████████████████████████▍                                      | 12/31 [01:26<02:17,  7.22s/it]\u001b[A\u001b[A"
     ]
    },
    {
     "name": "stdout",
     "output_type": "stream",
     "text": [
      "다음날짜로 선택시작\n",
      "다음 날짜 선택 후 크롤링 준비\n",
      "https://search.naver.com/search.naver?where=news&query=%EC%BD%94%EC%8A%A4%ED%94%BC%20%EA%B2%BD%EC%A0%9C&sm=tab_opt&sort=0&photo=0&field=0&pd=3&ds=2022.09.13&de=2022.09.13&docid=&related=0&mynews=0&office_type=0&office_section_code=0&news_office_checked=&nso=so%3Ar%2Cp%3Afrom20220913to20220913&is_sug_officeid=0\n",
      "https://search.naver.com/search.naver?where=news&sm=tab_pge&query=%EC%BD%94%EC%8A%A4%ED%94%BC%20%EA%B2%BD%EC%A0%9C&sort=0&photo=0&field=0&pd=3&ds=2022.09.13&de=2022.09.13&cluster_rank=14&mynews=0&office_type=0&office_section_code=0&news_office_checked=&nso=so:r,p:from20220913to20220913,a:all&start=11\n",
      "https://search.naver.com/search.naver?where=news&sm=tab_pge&query=%EC%BD%94%EC%8A%A4%ED%94%BC%20%EA%B2%BD%EC%A0%9C&sort=0&photo=0&field=0&pd=3&ds=2022.09.13&de=2022.09.13&cluster_rank=31&mynews=0&office_type=0&office_section_code=0&news_office_checked=&nso=so:r,p:from20220913to20220913,a:all&start=21\n",
      "크롤링 준비\n"
     ]
    },
    {
     "name": "stderr",
     "output_type": "stream",
     "text": [
      "\n",
      "\n",
      "preprocessing day:  42%|██████████████████████████▍                                    | 13/31 [01:34<02:12,  7.36s/it]\u001b[A\u001b[A"
     ]
    },
    {
     "name": "stdout",
     "output_type": "stream",
     "text": [
      "다음날짜로 선택시작\n",
      "다음 날짜 선택 후 크롤링 준비\n",
      "https://search.naver.com/search.naver?where=news&query=%EC%BD%94%EC%8A%A4%ED%94%BC%20%EA%B2%BD%EC%A0%9C&sm=tab_opt&sort=0&photo=0&field=0&pd=3&ds=2022.09.14&de=2022.09.14&docid=&related=0&mynews=0&office_type=0&office_section_code=0&news_office_checked=&nso=so%3Ar%2Cp%3Afrom20220914to20220914&is_sug_officeid=0\n",
      "https://search.naver.com/search.naver?where=news&sm=tab_pge&query=%EC%BD%94%EC%8A%A4%ED%94%BC%20%EA%B2%BD%EC%A0%9C&sort=0&photo=0&field=0&pd=3&ds=2022.09.14&de=2022.09.14&cluster_rank=12&mynews=0&office_type=0&office_section_code=0&news_office_checked=&nso=so:r,p:from20220914to20220914,a:all&start=11\n",
      "https://search.naver.com/search.naver?where=news&sm=tab_pge&query=%EC%BD%94%EC%8A%A4%ED%94%BC%20%EA%B2%BD%EC%A0%9C&sort=0&photo=0&field=0&pd=3&ds=2022.09.14&de=2022.09.14&cluster_rank=22&mynews=0&office_type=0&office_section_code=0&news_office_checked=&nso=so:r,p:from20220914to20220914,a:all&start=21\n",
      "크롤링 준비\n"
     ]
    },
    {
     "name": "stderr",
     "output_type": "stream",
     "text": [
      "\n",
      "\n",
      "preprocessing day:  45%|████████████████████████████▍                                  | 14/31 [01:41<02:05,  7.41s/it]\u001b[A\u001b[A"
     ]
    },
    {
     "name": "stdout",
     "output_type": "stream",
     "text": [
      "다음날짜로 선택시작\n",
      "다음 날짜 선택 후 크롤링 준비\n",
      "https://search.naver.com/search.naver?where=news&query=%EC%BD%94%EC%8A%A4%ED%94%BC%20%EA%B2%BD%EC%A0%9C&sm=tab_opt&sort=0&photo=0&field=0&pd=3&ds=2022.09.15&de=2022.09.15&docid=&related=0&mynews=0&office_type=0&office_section_code=0&news_office_checked=&nso=so%3Ar%2Cp%3Afrom20220915to20220915&is_sug_officeid=0\n",
      "https://search.naver.com/search.naver?where=news&sm=tab_pge&query=%EC%BD%94%EC%8A%A4%ED%94%BC%20%EA%B2%BD%EC%A0%9C&sort=0&photo=0&field=0&pd=3&ds=2022.09.15&de=2022.09.15&cluster_rank=10&mynews=0&office_type=0&office_section_code=0&news_office_checked=&nso=so:r,p:from20220915to20220915,a:all&start=11\n",
      "https://search.naver.com/search.naver?where=news&sm=tab_pge&query=%EC%BD%94%EC%8A%A4%ED%94%BC%20%EA%B2%BD%EC%A0%9C&sort=0&photo=0&field=0&pd=3&ds=2022.09.15&de=2022.09.15&cluster_rank=22&mynews=0&office_type=0&office_section_code=0&news_office_checked=&nso=so:r,p:from20220915to20220915,a:all&start=21\n",
      "크롤링 준비\n"
     ]
    },
    {
     "name": "stderr",
     "output_type": "stream",
     "text": [
      "\n",
      "\n",
      "preprocessing day:  48%|██████████████████████████████▍                                | 15/31 [01:49<01:58,  7.42s/it]\u001b[A\u001b[A"
     ]
    },
    {
     "name": "stdout",
     "output_type": "stream",
     "text": [
      "다음날짜로 선택시작\n",
      "다음 날짜 선택 후 크롤링 준비\n",
      "https://search.naver.com/search.naver?where=news&query=%EC%BD%94%EC%8A%A4%ED%94%BC%20%EA%B2%BD%EC%A0%9C&sm=tab_opt&sort=0&photo=0&field=0&pd=3&ds=2022.09.16&de=2022.09.16&docid=&related=0&mynews=0&office_type=0&office_section_code=0&news_office_checked=&nso=so%3Ar%2Cp%3Afrom20220916to20220916&is_sug_officeid=0\n",
      "https://search.naver.com/search.naver?where=news&sm=tab_pge&query=%EC%BD%94%EC%8A%A4%ED%94%BC%20%EA%B2%BD%EC%A0%9C&sort=0&photo=0&field=0&pd=3&ds=2022.09.16&de=2022.09.16&cluster_rank=15&mynews=0&office_type=0&office_section_code=0&news_office_checked=&nso=so:r,p:from20220916to20220916,a:all&start=11\n",
      "https://search.naver.com/search.naver?where=news&sm=tab_pge&query=%EC%BD%94%EC%8A%A4%ED%94%BC%20%EA%B2%BD%EC%A0%9C&sort=0&photo=0&field=0&pd=3&ds=2022.09.16&de=2022.09.16&cluster_rank=26&mynews=0&office_type=0&office_section_code=0&news_office_checked=&nso=so:r,p:from20220916to20220916,a:all&start=21\n",
      "크롤링 준비\n"
     ]
    },
    {
     "name": "stderr",
     "output_type": "stream",
     "text": [
      "\n",
      "\n",
      "preprocessing day:  52%|████████████████████████████████▌                              | 16/31 [01:56<01:49,  7.32s/it]\u001b[A\u001b[A"
     ]
    },
    {
     "name": "stdout",
     "output_type": "stream",
     "text": [
      "다음날짜로 선택시작\n",
      "다음 날짜 선택 후 크롤링 준비\n",
      "https://search.naver.com/search.naver?where=news&query=%EC%BD%94%EC%8A%A4%ED%94%BC%20%EA%B2%BD%EC%A0%9C&sm=tab_opt&sort=0&photo=0&field=0&pd=3&ds=2022.09.17&de=2022.09.17&docid=&related=0&mynews=0&office_type=0&office_section_code=0&news_office_checked=&nso=so%3Ar%2Cp%3Afrom20220917to20220917&is_sug_officeid=0\n",
      "https://search.naver.com/search.naver?where=news&query=%EC%BD%94%EC%8A%A4%ED%94%BC%20%EA%B2%BD%EC%A0%9C&sm=tab_opt&sort=0&photo=0&field=0&pd=3&ds=2022.09.17&de=2022.09.17&docid=&related=0&mynews=0&office_type=0&office_section_code=0&news_office_checked=&nso=so%3Ar%2Cp%3Afrom20220917to20220917&is_sug_officeid=0\n",
      "크롤링 준비\n"
     ]
    },
    {
     "name": "stderr",
     "output_type": "stream",
     "text": [
      "\n",
      "\n",
      "preprocessing day:  55%|██████████████████████████████████▌                            | 17/31 [02:02<01:38,  7.01s/it]\u001b[A\u001b[A"
     ]
    },
    {
     "name": "stdout",
     "output_type": "stream",
     "text": [
      "다음날짜로 선택시작\n",
      "다음 날짜 선택 후 크롤링 준비\n",
      "https://search.naver.com/search.naver?where=news&query=%EC%BD%94%EC%8A%A4%ED%94%BC%20%EA%B2%BD%EC%A0%9C&sm=tab_opt&sort=0&photo=0&field=0&pd=3&ds=2022.09.18&de=2022.09.18&docid=&related=0&mynews=0&office_type=0&office_section_code=0&news_office_checked=&nso=so%3Ar%2Cp%3Afrom20220918to20220918&is_sug_officeid=0\n",
      "https://search.naver.com/search.naver?where=news&sm=tab_pge&query=%EC%BD%94%EC%8A%A4%ED%94%BC%20%EA%B2%BD%EC%A0%9C&sort=0&photo=0&field=0&pd=3&ds=2022.09.18&de=2022.09.18&cluster_rank=15&mynews=0&office_type=0&office_section_code=0&news_office_checked=&nso=so:r,p:from20220918to20220918,a:all&start=11\n",
      "https://search.naver.com/search.naver?where=news&sm=tab_pge&query=%EC%BD%94%EC%8A%A4%ED%94%BC%20%EA%B2%BD%EC%A0%9C&sort=0&photo=0&field=0&pd=3&ds=2022.09.18&de=2022.09.18&cluster_rank=25&mynews=0&office_type=0&office_section_code=0&news_office_checked=&nso=so:r,p:from20220918to20220918,a:all&start=21\n",
      "크롤링 준비\n"
     ]
    },
    {
     "name": "stderr",
     "output_type": "stream",
     "text": [
      "\n",
      "\n",
      "preprocessing day:  58%|████████████████████████████████████▌                          | 18/31 [02:10<01:32,  7.09s/it]\u001b[A\u001b[A"
     ]
    },
    {
     "name": "stdout",
     "output_type": "stream",
     "text": [
      "다음날짜로 선택시작\n",
      "다음 날짜 선택 후 크롤링 준비\n",
      "https://search.naver.com/search.naver?where=news&query=%EC%BD%94%EC%8A%A4%ED%94%BC%20%EA%B2%BD%EC%A0%9C&sm=tab_opt&sort=0&photo=0&field=0&pd=3&ds=2022.09.19&de=2022.09.19&docid=&related=0&mynews=0&office_type=0&office_section_code=0&news_office_checked=&nso=so%3Ar%2Cp%3Afrom20220919to20220919&is_sug_officeid=0\n",
      "https://search.naver.com/search.naver?where=news&sm=tab_pge&query=%EC%BD%94%EC%8A%A4%ED%94%BC%20%EA%B2%BD%EC%A0%9C&sort=0&photo=0&field=0&pd=3&ds=2022.09.19&de=2022.09.19&cluster_rank=15&mynews=0&office_type=0&office_section_code=0&news_office_checked=&nso=so:r,p:from20220919to20220919,a:all&start=11\n",
      "https://search.naver.com/search.naver?where=news&sm=tab_pge&query=%EC%BD%94%EC%8A%A4%ED%94%BC%20%EA%B2%BD%EC%A0%9C&sort=0&photo=0&field=0&pd=3&ds=2022.09.19&de=2022.09.19&cluster_rank=26&mynews=0&office_type=0&office_section_code=0&news_office_checked=&nso=so:r,p:from20220919to20220919,a:all&start=21\n",
      "크롤링 준비\n"
     ]
    },
    {
     "name": "stderr",
     "output_type": "stream",
     "text": [
      "\n",
      "\n",
      "preprocessing day:  61%|██████████████████████████████████████▌                        | 19/31 [02:17<01:26,  7.19s/it]\u001b[A\u001b[A"
     ]
    },
    {
     "name": "stdout",
     "output_type": "stream",
     "text": [
      "다음날짜로 선택시작\n",
      "다음 날짜 선택 후 크롤링 준비\n",
      "https://search.naver.com/search.naver?where=news&query=%EC%BD%94%EC%8A%A4%ED%94%BC%20%EA%B2%BD%EC%A0%9C&sm=tab_opt&sort=0&photo=0&field=0&pd=3&ds=2022.09.20&de=2022.09.20&docid=&related=0&mynews=0&office_type=0&office_section_code=0&news_office_checked=&nso=so%3Ar%2Cp%3Afrom20220920to20220920&is_sug_officeid=0\n",
      "https://search.naver.com/search.naver?where=news&sm=tab_pge&query=%EC%BD%94%EC%8A%A4%ED%94%BC%20%EA%B2%BD%EC%A0%9C&sort=0&photo=0&field=0&pd=3&ds=2022.09.20&de=2022.09.20&cluster_rank=20&mynews=0&office_type=0&office_section_code=0&news_office_checked=&nso=so:r,p:from20220920to20220920,a:all&start=11\n",
      "https://search.naver.com/search.naver?where=news&sm=tab_pge&query=%EC%BD%94%EC%8A%A4%ED%94%BC%20%EA%B2%BD%EC%A0%9C&sort=0&photo=0&field=0&pd=3&ds=2022.09.20&de=2022.09.20&cluster_rank=34&mynews=0&office_type=0&office_section_code=0&news_office_checked=&nso=so:r,p:from20220920to20220920,a:all&start=21\n",
      "크롤링 준비\n"
     ]
    },
    {
     "name": "stderr",
     "output_type": "stream",
     "text": [
      "\n",
      "\n",
      "preprocessing day:  65%|████████████████████████████████████████▋                      | 20/31 [02:24<01:18,  7.18s/it]\u001b[A\u001b[A"
     ]
    },
    {
     "name": "stdout",
     "output_type": "stream",
     "text": [
      "다음날짜로 선택시작\n",
      "다음 날짜 선택 후 크롤링 준비\n",
      "https://search.naver.com/search.naver?where=news&query=%EC%BD%94%EC%8A%A4%ED%94%BC%20%EA%B2%BD%EC%A0%9C&sm=tab_opt&sort=0&photo=0&field=0&pd=3&ds=2022.09.21&de=2022.09.21&docid=&related=0&mynews=0&office_type=0&office_section_code=0&news_office_checked=&nso=so%3Ar%2Cp%3Afrom20220921to20220921&is_sug_officeid=0\n",
      "https://search.naver.com/search.naver?where=news&sm=tab_pge&query=%EC%BD%94%EC%8A%A4%ED%94%BC%20%EA%B2%BD%EC%A0%9C&sort=0&photo=0&field=0&pd=3&ds=2022.09.21&de=2022.09.21&cluster_rank=14&mynews=0&office_type=0&office_section_code=0&news_office_checked=&nso=so:r,p:from20220921to20220921,a:all&start=11\n",
      "https://search.naver.com/search.naver?where=news&sm=tab_pge&query=%EC%BD%94%EC%8A%A4%ED%94%BC%20%EA%B2%BD%EC%A0%9C&sort=0&photo=0&field=0&pd=3&ds=2022.09.21&de=2022.09.21&cluster_rank=25&mynews=0&office_type=0&office_section_code=0&news_office_checked=&nso=so:r,p:from20220921to20220921,a:all&start=21\n",
      "크롤링 준비\n"
     ]
    },
    {
     "name": "stderr",
     "output_type": "stream",
     "text": [
      "\n",
      "\n",
      "preprocessing day:  68%|██████████████████████████████████████████▋                    | 21/31 [02:31<01:11,  7.11s/it]\u001b[A\u001b[A"
     ]
    },
    {
     "name": "stdout",
     "output_type": "stream",
     "text": [
      "다음날짜로 선택시작\n",
      "다음 날짜 선택 후 크롤링 준비\n",
      "https://search.naver.com/search.naver?where=news&query=%EC%BD%94%EC%8A%A4%ED%94%BC%20%EA%B2%BD%EC%A0%9C&sm=tab_opt&sort=0&photo=0&field=0&pd=3&ds=2022.09.22&de=2022.09.22&docid=&related=0&mynews=0&office_type=0&office_section_code=0&news_office_checked=&nso=so%3Ar%2Cp%3Afrom20220922to20220922&is_sug_officeid=0\n",
      "https://search.naver.com/search.naver?where=news&sm=tab_pge&query=%EC%BD%94%EC%8A%A4%ED%94%BC%20%EA%B2%BD%EC%A0%9C&sort=0&photo=0&field=0&pd=3&ds=2022.09.22&de=2022.09.22&cluster_rank=16&mynews=0&office_type=0&office_section_code=0&news_office_checked=&nso=so:r,p:from20220922to20220922,a:all&start=11\n",
      "https://search.naver.com/search.naver?where=news&sm=tab_pge&query=%EC%BD%94%EC%8A%A4%ED%94%BC%20%EA%B2%BD%EC%A0%9C&sort=0&photo=0&field=0&pd=3&ds=2022.09.22&de=2022.09.22&cluster_rank=32&mynews=0&office_type=0&office_section_code=0&news_office_checked=&nso=so:r,p:from20220922to20220922,a:all&start=21\n",
      "크롤링 준비\n"
     ]
    },
    {
     "name": "stderr",
     "output_type": "stream",
     "text": [
      "\n",
      "\n",
      "preprocessing day:  71%|████████████████████████████████████████████▋                  | 22/31 [02:38<01:04,  7.15s/it]\u001b[A\u001b[A"
     ]
    },
    {
     "name": "stdout",
     "output_type": "stream",
     "text": [
      "다음날짜로 선택시작\n",
      "다음 날짜 선택 후 크롤링 준비\n",
      "https://search.naver.com/search.naver?where=news&query=%EC%BD%94%EC%8A%A4%ED%94%BC%20%EA%B2%BD%EC%A0%9C&sm=tab_opt&sort=0&photo=0&field=0&pd=3&ds=2022.09.23&de=2022.09.23&docid=&related=0&mynews=0&office_type=0&office_section_code=0&news_office_checked=&nso=so%3Ar%2Cp%3Afrom20220923to20220923&is_sug_officeid=0\n",
      "https://search.naver.com/search.naver?where=news&sm=tab_pge&query=%EC%BD%94%EC%8A%A4%ED%94%BC%20%EA%B2%BD%EC%A0%9C&sort=0&photo=0&field=0&pd=3&ds=2022.09.23&de=2022.09.23&cluster_rank=13&mynews=0&office_type=0&office_section_code=0&news_office_checked=&nso=so:r,p:from20220923to20220923,a:all&start=11\n",
      "https://search.naver.com/search.naver?where=news&sm=tab_pge&query=%EC%BD%94%EC%8A%A4%ED%94%BC%20%EA%B2%BD%EC%A0%9C&sort=0&photo=0&field=0&pd=3&ds=2022.09.23&de=2022.09.23&cluster_rank=28&mynews=0&office_type=0&office_section_code=0&news_office_checked=&nso=so:r,p:from20220923to20220923,a:all&start=21\n",
      "크롤링 준비\n"
     ]
    },
    {
     "name": "stderr",
     "output_type": "stream",
     "text": [
      "\n",
      "\n",
      "preprocessing day:  74%|██████████████████████████████████████████████▋                | 23/31 [02:46<00:57,  7.18s/it]\u001b[A\u001b[A"
     ]
    },
    {
     "name": "stdout",
     "output_type": "stream",
     "text": [
      "다음날짜로 선택시작\n",
      "다음 날짜 선택 후 크롤링 준비\n",
      "https://search.naver.com/search.naver?where=news&query=%EC%BD%94%EC%8A%A4%ED%94%BC%20%EA%B2%BD%EC%A0%9C&sm=tab_opt&sort=0&photo=0&field=0&pd=3&ds=2022.09.24&de=2022.09.24&docid=&related=0&mynews=0&office_type=0&office_section_code=0&news_office_checked=&nso=so%3Ar%2Cp%3Afrom20220924to20220924&is_sug_officeid=0\n",
      "https://search.naver.com/search.naver?where=news&query=%EC%BD%94%EC%8A%A4%ED%94%BC%20%EA%B2%BD%EC%A0%9C&sm=tab_opt&sort=0&photo=0&field=0&pd=3&ds=2022.09.24&de=2022.09.24&docid=&related=0&mynews=0&office_type=0&office_section_code=0&news_office_checked=&nso=so%3Ar%2Cp%3Afrom20220924to20220924&is_sug_officeid=0\n",
      "크롤링 준비\n"
     ]
    },
    {
     "name": "stderr",
     "output_type": "stream",
     "text": [
      "\n",
      "\n",
      "preprocessing day:  77%|████████████████████████████████████████████████▊              | 24/31 [02:52<00:48,  6.94s/it]\u001b[A\u001b[A"
     ]
    },
    {
     "name": "stdout",
     "output_type": "stream",
     "text": [
      "다음날짜로 선택시작\n",
      "다음 날짜 선택 후 크롤링 준비\n",
      "https://search.naver.com/search.naver?where=news&query=%EC%BD%94%EC%8A%A4%ED%94%BC%20%EA%B2%BD%EC%A0%9C&sm=tab_opt&sort=0&photo=0&field=0&pd=3&ds=2022.09.25&de=2022.09.25&docid=&related=0&mynews=0&office_type=0&office_section_code=0&news_office_checked=&nso=so%3Ar%2Cp%3Afrom20220925to20220925&is_sug_officeid=0\n",
      "https://search.naver.com/search.naver?where=news&sm=tab_pge&query=%EC%BD%94%EC%8A%A4%ED%94%BC%20%EA%B2%BD%EC%A0%9C&sort=0&photo=0&field=0&pd=3&ds=2022.09.25&de=2022.09.25&cluster_rank=16&mynews=0&office_type=0&office_section_code=0&news_office_checked=&nso=so:r,p:from20220925to20220925,a:all&start=11\n",
      "https://search.naver.com/search.naver?where=news&sm=tab_pge&query=%EC%BD%94%EC%8A%A4%ED%94%BC%20%EA%B2%BD%EC%A0%9C&sort=0&photo=0&field=0&pd=3&ds=2022.09.25&de=2022.09.25&cluster_rank=27&mynews=0&office_type=0&office_section_code=0&news_office_checked=&nso=so:r,p:from20220925to20220925,a:all&start=21\n",
      "크롤링 준비\n"
     ]
    },
    {
     "name": "stderr",
     "output_type": "stream",
     "text": [
      "\n",
      "\n",
      "preprocessing day:  81%|██████████████████████████████████████████████████▊            | 25/31 [02:59<00:42,  7.04s/it]\u001b[A\u001b[A"
     ]
    },
    {
     "name": "stdout",
     "output_type": "stream",
     "text": [
      "다음날짜로 선택시작\n",
      "다음 날짜 선택 후 크롤링 준비\n",
      "https://search.naver.com/search.naver?where=news&query=%EC%BD%94%EC%8A%A4%ED%94%BC%20%EA%B2%BD%EC%A0%9C&sm=tab_opt&sort=0&photo=0&field=0&pd=3&ds=2022.09.26&de=2022.09.26&docid=&related=0&mynews=0&office_type=0&office_section_code=0&news_office_checked=&nso=so%3Ar%2Cp%3Afrom20220926to20220926&is_sug_officeid=0\n",
      "https://search.naver.com/search.naver?where=news&sm=tab_pge&query=%EC%BD%94%EC%8A%A4%ED%94%BC%20%EA%B2%BD%EC%A0%9C&sort=0&photo=0&field=0&pd=3&ds=2022.09.26&de=2022.09.26&cluster_rank=16&mynews=0&office_type=0&office_section_code=0&news_office_checked=&nso=so:r,p:from20220926to20220926,a:all&start=11\n",
      "https://search.naver.com/search.naver?where=news&sm=tab_pge&query=%EC%BD%94%EC%8A%A4%ED%94%BC%20%EA%B2%BD%EC%A0%9C&sort=0&photo=0&field=0&pd=3&ds=2022.09.26&de=2022.09.26&cluster_rank=30&mynews=0&office_type=0&office_section_code=0&news_office_checked=&nso=so:r,p:from20220926to20220926,a:all&start=21\n",
      "크롤링 준비\n"
     ]
    },
    {
     "name": "stderr",
     "output_type": "stream",
     "text": [
      "\n",
      "\n",
      "preprocessing day:  84%|████████████████████████████████████████████████████▊          | 26/31 [03:06<00:35,  7.10s/it]\u001b[A\u001b[A"
     ]
    },
    {
     "name": "stdout",
     "output_type": "stream",
     "text": [
      "다음날짜로 선택시작\n",
      "다음 날짜 선택 후 크롤링 준비\n",
      "https://search.naver.com/search.naver?where=news&query=%EC%BD%94%EC%8A%A4%ED%94%BC%20%EA%B2%BD%EC%A0%9C&sm=tab_opt&sort=0&photo=0&field=0&pd=3&ds=2022.09.27&de=2022.09.27&docid=&related=0&mynews=0&office_type=0&office_section_code=0&news_office_checked=&nso=so%3Ar%2Cp%3Afrom20220927to20220927&is_sug_officeid=0\n",
      "https://search.naver.com/search.naver?where=news&sm=tab_pge&query=%EC%BD%94%EC%8A%A4%ED%94%BC%20%EA%B2%BD%EC%A0%9C&sort=0&photo=0&field=0&pd=3&ds=2022.09.27&de=2022.09.27&cluster_rank=10&mynews=0&office_type=0&office_section_code=0&news_office_checked=&nso=so:r,p:from20220927to20220927,a:all&start=11\n",
      "https://search.naver.com/search.naver?where=news&sm=tab_pge&query=%EC%BD%94%EC%8A%A4%ED%94%BC%20%EA%B2%BD%EC%A0%9C&sort=0&photo=0&field=0&pd=3&ds=2022.09.27&de=2022.09.27&cluster_rank=21&mynews=0&office_type=0&office_section_code=0&news_office_checked=&nso=so:r,p:from20220927to20220927,a:all&start=21\n",
      "크롤링 준비\n"
     ]
    },
    {
     "name": "stderr",
     "output_type": "stream",
     "text": [
      "\n",
      "\n",
      "preprocessing day:  87%|██████████████████████████████████████████████████████▊        | 27/31 [03:14<00:28,  7.11s/it]\u001b[A\u001b[A"
     ]
    },
    {
     "name": "stdout",
     "output_type": "stream",
     "text": [
      "다음날짜로 선택시작\n",
      "다음 날짜 선택 후 크롤링 준비\n",
      "https://search.naver.com/search.naver?where=news&query=%EC%BD%94%EC%8A%A4%ED%94%BC%20%EA%B2%BD%EC%A0%9C&sm=tab_opt&sort=0&photo=0&field=0&pd=3&ds=2022.09.28&de=2022.09.28&docid=&related=0&mynews=0&office_type=0&office_section_code=0&news_office_checked=&nso=so%3Ar%2Cp%3Afrom20220928to20220928&is_sug_officeid=0\n",
      "https://search.naver.com/search.naver?where=news&sm=tab_pge&query=%EC%BD%94%EC%8A%A4%ED%94%BC%20%EA%B2%BD%EC%A0%9C&sort=0&photo=0&field=0&pd=3&ds=2022.09.28&de=2022.09.28&cluster_rank=15&mynews=0&office_type=0&office_section_code=0&news_office_checked=&nso=so:r,p:from20220928to20220928,a:all&start=11\n",
      "https://search.naver.com/search.naver?where=news&sm=tab_pge&query=%EC%BD%94%EC%8A%A4%ED%94%BC%20%EA%B2%BD%EC%A0%9C&sort=0&photo=0&field=0&pd=3&ds=2022.09.28&de=2022.09.28&cluster_rank=28&mynews=0&office_type=0&office_section_code=0&news_office_checked=&nso=so:r,p:from20220928to20220928,a:all&start=21\n",
      "크롤링 준비\n"
     ]
    },
    {
     "name": "stderr",
     "output_type": "stream",
     "text": [
      "\n",
      "\n",
      "preprocessing day:  90%|████████████████████████████████████████████████████████▉      | 28/31 [03:21<00:21,  7.15s/it]\u001b[A\u001b[A"
     ]
    },
    {
     "name": "stdout",
     "output_type": "stream",
     "text": [
      "다음날짜로 선택시작\n",
      "다음 날짜 선택 후 크롤링 준비\n",
      "https://search.naver.com/search.naver?where=news&query=%EC%BD%94%EC%8A%A4%ED%94%BC%20%EA%B2%BD%EC%A0%9C&sm=tab_opt&sort=0&photo=0&field=0&pd=3&ds=2022.09.29&de=2022.09.29&docid=&related=0&mynews=0&office_type=0&office_section_code=0&news_office_checked=&nso=so%3Ar%2Cp%3Afrom20220929to20220929&is_sug_officeid=0\n",
      "https://search.naver.com/search.naver?where=news&sm=tab_pge&query=%EC%BD%94%EC%8A%A4%ED%94%BC%20%EA%B2%BD%EC%A0%9C&sort=0&photo=0&field=0&pd=3&ds=2022.09.29&de=2022.09.29&cluster_rank=14&mynews=0&office_type=0&office_section_code=0&news_office_checked=&nso=so:r,p:from20220929to20220929,a:all&start=11\n",
      "https://search.naver.com/search.naver?where=news&sm=tab_pge&query=%EC%BD%94%EC%8A%A4%ED%94%BC%20%EA%B2%BD%EC%A0%9C&sort=0&photo=0&field=0&pd=3&ds=2022.09.29&de=2022.09.29&cluster_rank=28&mynews=0&office_type=0&office_section_code=0&news_office_checked=&nso=so:r,p:from20220929to20220929,a:all&start=21\n",
      "크롤링 준비\n"
     ]
    },
    {
     "name": "stderr",
     "output_type": "stream",
     "text": [
      "\n",
      "\n",
      "preprocessing day:  94%|██████████████████████████████████████████████████████████▉    | 29/31 [03:28<00:14,  7.12s/it]\u001b[A\u001b[A"
     ]
    },
    {
     "name": "stdout",
     "output_type": "stream",
     "text": [
      "다음날짜로 선택시작\n",
      "다음 날짜 선택 후 크롤링 준비\n",
      "https://search.naver.com/search.naver?where=news&query=%EC%BD%94%EC%8A%A4%ED%94%BC%20%EA%B2%BD%EC%A0%9C&sm=tab_opt&sort=0&photo=0&field=0&pd=3&ds=2022.09.30&de=2022.09.30&docid=&related=0&mynews=0&office_type=0&office_section_code=0&news_office_checked=&nso=so%3Ar%2Cp%3Afrom20220930to20220930&is_sug_officeid=0\n",
      "https://search.naver.com/search.naver?where=news&sm=tab_pge&query=%EC%BD%94%EC%8A%A4%ED%94%BC%20%EA%B2%BD%EC%A0%9C&sort=0&photo=0&field=0&pd=3&ds=2022.09.30&de=2022.09.30&cluster_rank=10&mynews=0&office_type=0&office_section_code=0&news_office_checked=&nso=so:r,p:from20220930to20220930,a:all&start=11\n",
      "https://search.naver.com/search.naver?where=news&sm=tab_pge&query=%EC%BD%94%EC%8A%A4%ED%94%BC%20%EA%B2%BD%EC%A0%9C&sort=0&photo=0&field=0&pd=3&ds=2022.09.30&de=2022.09.30&cluster_rank=21&mynews=0&office_type=0&office_section_code=0&news_office_checked=&nso=so:r,p:from20220930to20220930,a:all&start=21\n",
      "크롤링 준비\n"
     ]
    },
    {
     "name": "stderr",
     "output_type": "stream",
     "text": [
      "\n",
      "\n",
      "preprocessing day:  97%|████████████████████████████████████████████████████████████▉  | 30/31 [03:35<00:07,  7.11s/it]\u001b[A\u001b[A"
     ]
    },
    {
     "name": "stdout",
     "output_type": "stream",
     "text": [
      "다음날짜로 선택시작\n"
     ]
    },
    {
     "name": "stderr",
     "output_type": "stream",
     "text": [
      "\n",
      "\n",
      "preprocessing day: 100%|███████████████████████████████████████████████████████████████| 31/31 [03:36<00:00,  6.99s/it]\u001b[A\u001b[A\n",
      "\n",
      "preprocessing month:  75%|█████████████████████████████████████████████▊               | 9/12 [33:07<11:01, 220.43s/it]\u001b[A"
     ]
    },
    {
     "name": "stdout",
     "output_type": "stream",
     "text": [
      "An error occurred while crawling for 2022-9-31: Message: no such element: Unable to locate element: {\"method\":\"xpath\",\"selector\":\"/html/body/div[3]/div[2]/div/div[1]/div[1]/div[2]/ul/li[2]/div/div[3]/div[2]/div[3]/div/div/div/ul/li[31]\"}\n",
      "  (Session info: headless chrome=115.0.5790.171); For documentation on this error, please visit: https://www.selenium.dev/documentation/webdriver/troubleshooting/errors#no-such-element-exception\n",
      "Stacktrace:\n",
      "Backtrace:\n",
      "\tGetHandleVerifier [0x00007FF6B65D4A62+57106]\n",
      "\t(No symbol) [0x00007FF6B654CF52]\n",
      "\t(No symbol) [0x00007FF6B641E2CB]\n",
      "\t(No symbol) [0x00007FF6B645786E]\n",
      "\t(No symbol) [0x00007FF6B645795C]\n",
      "\t(No symbol) [0x00007FF6B6490477]\n",
      "\t(No symbol) [0x00007FF6B64769FF]\n",
      "\t(No symbol) [0x00007FF6B648E522]\n",
      "\t(No symbol) [0x00007FF6B6476793]\n",
      "\t(No symbol) [0x00007FF6B644CE81]\n",
      "\t(No symbol) [0x00007FF6B644E064]\n",
      "\tGetHandleVerifier [0x00007FF6B6884222+2873042]\n",
      "\tGetHandleVerifier [0x00007FF6B68D6590+3209792]\n",
      "\tGetHandleVerifier [0x00007FF6B68CF3AF+3180639]\n",
      "\tGetHandleVerifier [0x00007FF6B6665F25+652245]\n",
      "\t(No symbol) [0x00007FF6B6558618]\n",
      "\t(No symbol) [0x00007FF6B65547C4]\n",
      "\t(No symbol) [0x00007FF6B65548BC]\n",
      "\t(No symbol) [0x00007FF6B6544C33]\n",
      "\tBaseThreadInitThunk [0x00007FFBFCDD7614+20]\n",
      "\tRtlUserThreadStart [0x00007FFBFD9226B1+33]\n",
      "\n"
     ]
    },
    {
     "name": "stderr",
     "output_type": "stream",
     "text": [
      "\n",
      "\n",
      "preprocessing day:   0%|                                                                        | 0/31 [00:00<?, ?it/s]\u001b[A\u001b[A"
     ]
    },
    {
     "name": "stdout",
     "output_type": "stream",
     "text": [
      "다음 날짜 선택 후 크롤링 준비\n",
      "https://search.naver.com/search.naver?where=news&query=%EC%BD%94%EC%8A%A4%ED%94%BC%20%EA%B2%BD%EC%A0%9C&sm=tab_opt&sort=0&photo=0&field=0&pd=3&ds=2022.10.01&de=2022.10.01&docid=&related=0&mynews=0&office_type=0&office_section_code=0&news_office_checked=&nso=so%3Ar%2Cp%3Afrom20221001to20221001&is_sug_officeid=0\n",
      "https://search.naver.com/search.naver?where=news&sm=tab_pge&query=%EC%BD%94%EC%8A%A4%ED%94%BC%20%EA%B2%BD%EC%A0%9C&sort=0&photo=0&field=0&pd=3&ds=2022.10.01&de=2022.10.01&cluster_rank=10&mynews=0&office_type=0&office_section_code=0&news_office_checked=&nso=so:r,p:from20221001to20221001,a:all&start=11\n",
      "https://search.naver.com/search.naver?where=news&sm=tab_pge&query=%EC%BD%94%EC%8A%A4%ED%94%BC%20%EA%B2%BD%EC%A0%9C&sort=0&photo=0&field=0&pd=3&ds=2022.10.01&de=2022.10.01&cluster_rank=20&mynews=0&office_type=0&office_section_code=0&news_office_checked=&nso=so:r,p:from20221001to20221001,a:all&start=21\n",
      "크롤링 준비\n"
     ]
    },
    {
     "name": "stderr",
     "output_type": "stream",
     "text": [
      "\n",
      "\n",
      "preprocessing day:   3%|██                                                              | 1/31 [00:07<03:50,  7.67s/it]\u001b[A\u001b[A"
     ]
    },
    {
     "name": "stdout",
     "output_type": "stream",
     "text": [
      "다음날짜로 선택시작\n",
      "다음 날짜 선택 후 크롤링 준비\n",
      "https://search.naver.com/search.naver?where=news&query=%EC%BD%94%EC%8A%A4%ED%94%BC%20%EA%B2%BD%EC%A0%9C&sm=tab_opt&sort=0&photo=0&field=0&pd=3&ds=2022.10.02&de=2022.10.02&docid=&related=0&mynews=0&office_type=0&office_section_code=0&news_office_checked=&nso=so%3Ar%2Cp%3Afrom20221002to20221002&is_sug_officeid=0\n",
      "https://search.naver.com/search.naver?where=news&sm=tab_pge&query=%EC%BD%94%EC%8A%A4%ED%94%BC%20%EA%B2%BD%EC%A0%9C&sort=0&photo=0&field=0&pd=3&ds=2022.10.02&de=2022.10.02&cluster_rank=10&mynews=0&office_type=0&office_section_code=0&news_office_checked=&nso=so:r,p:from20221002to20221002,a:all&start=11\n",
      "https://search.naver.com/search.naver?where=news&sm=tab_pge&query=%EC%BD%94%EC%8A%A4%ED%94%BC%20%EA%B2%BD%EC%A0%9C&sort=0&photo=0&field=0&pd=3&ds=2022.10.02&de=2022.10.02&cluster_rank=21&mynews=0&office_type=0&office_section_code=0&news_office_checked=&nso=so:r,p:from20221002to20221002,a:all&start=21\n",
      "크롤링 준비\n"
     ]
    },
    {
     "name": "stderr",
     "output_type": "stream",
     "text": [
      "\n",
      "\n",
      "preprocessing day:   6%|████▏                                                           | 2/31 [00:15<03:38,  7.53s/it]\u001b[A\u001b[A"
     ]
    },
    {
     "name": "stdout",
     "output_type": "stream",
     "text": [
      "다음날짜로 선택시작\n",
      "다음 날짜 선택 후 크롤링 준비\n",
      "https://search.naver.com/search.naver?where=news&query=%EC%BD%94%EC%8A%A4%ED%94%BC%20%EA%B2%BD%EC%A0%9C&sm=tab_opt&sort=0&photo=0&field=0&pd=3&ds=2022.10.03&de=2022.10.03&docid=&related=0&mynews=0&office_type=0&office_section_code=0&news_office_checked=&nso=so%3Ar%2Cp%3Afrom20221003to20221003&is_sug_officeid=0\n",
      "https://search.naver.com/search.naver?where=news&sm=tab_pge&query=%EC%BD%94%EC%8A%A4%ED%94%BC%20%EA%B2%BD%EC%A0%9C&sort=0&photo=0&field=0&pd=3&ds=2022.10.03&de=2022.10.03&cluster_rank=12&mynews=0&office_type=0&office_section_code=0&news_office_checked=&nso=so:r,p:from20221003to20221003,a:all&start=11\n",
      "https://search.naver.com/search.naver?where=news&sm=tab_pge&query=%EC%BD%94%EC%8A%A4%ED%94%BC%20%EA%B2%BD%EC%A0%9C&sort=0&photo=0&field=0&pd=3&ds=2022.10.03&de=2022.10.03&cluster_rank=29&mynews=0&office_type=0&office_section_code=0&news_office_checked=&nso=so:r,p:from20221003to20221003,a:all&start=21\n",
      "크롤링 준비\n"
     ]
    },
    {
     "name": "stderr",
     "output_type": "stream",
     "text": [
      "\n",
      "\n",
      "preprocessing day:  10%|██████▏                                                         | 3/31 [00:22<03:29,  7.48s/it]\u001b[A\u001b[A"
     ]
    },
    {
     "name": "stdout",
     "output_type": "stream",
     "text": [
      "다음날짜로 선택시작\n",
      "다음 날짜 선택 후 크롤링 준비\n",
      "https://search.naver.com/search.naver?where=news&query=%EC%BD%94%EC%8A%A4%ED%94%BC%20%EA%B2%BD%EC%A0%9C&sm=tab_opt&sort=0&photo=0&field=0&pd=3&ds=2022.10.04&de=2022.10.04&docid=&related=0&mynews=0&office_type=0&office_section_code=0&news_office_checked=&nso=so%3Ar%2Cp%3Afrom20221004to20221004&is_sug_officeid=0\n",
      "https://search.naver.com/search.naver?where=news&sm=tab_pge&query=%EC%BD%94%EC%8A%A4%ED%94%BC%20%EA%B2%BD%EC%A0%9C&sort=0&photo=0&field=0&pd=3&ds=2022.10.04&de=2022.10.04&cluster_rank=16&mynews=0&office_type=0&office_section_code=0&news_office_checked=&nso=so:r,p:from20221004to20221004,a:all&start=11\n",
      "https://search.naver.com/search.naver?where=news&sm=tab_pge&query=%EC%BD%94%EC%8A%A4%ED%94%BC%20%EA%B2%BD%EC%A0%9C&sort=0&photo=0&field=0&pd=3&ds=2022.10.04&de=2022.10.04&cluster_rank=26&mynews=0&office_type=0&office_section_code=0&news_office_checked=&nso=so:r,p:from20221004to20221004,a:all&start=21\n",
      "크롤링 준비\n"
     ]
    },
    {
     "name": "stderr",
     "output_type": "stream",
     "text": [
      "\n",
      "\n",
      "preprocessing day:  13%|████████▎                                                       | 4/31 [00:29<03:19,  7.39s/it]\u001b[A\u001b[A"
     ]
    },
    {
     "name": "stdout",
     "output_type": "stream",
     "text": [
      "다음날짜로 선택시작\n",
      "다음 날짜 선택 후 크롤링 준비\n",
      "https://search.naver.com/search.naver?where=news&query=%EC%BD%94%EC%8A%A4%ED%94%BC%20%EA%B2%BD%EC%A0%9C&sm=tab_opt&sort=0&photo=0&field=0&pd=3&ds=2022.10.05&de=2022.10.05&docid=&related=0&mynews=0&office_type=0&office_section_code=0&news_office_checked=&nso=so%3Ar%2Cp%3Afrom20221005to20221005&is_sug_officeid=0\n",
      "https://search.naver.com/search.naver?where=news&sm=tab_pge&query=%EC%BD%94%EC%8A%A4%ED%94%BC%20%EA%B2%BD%EC%A0%9C&sort=0&photo=0&field=0&pd=3&ds=2022.10.05&de=2022.10.05&cluster_rank=10&mynews=0&office_type=0&office_section_code=0&news_office_checked=&nso=so:r,p:from20221005to20221005,a:all&start=11\n",
      "https://search.naver.com/search.naver?where=news&sm=tab_pge&query=%EC%BD%94%EC%8A%A4%ED%94%BC%20%EA%B2%BD%EC%A0%9C&sort=0&photo=0&field=0&pd=3&ds=2022.10.05&de=2022.10.05&cluster_rank=29&mynews=0&office_type=0&office_section_code=0&news_office_checked=&nso=so:r,p:from20221005to20221005,a:all&start=21\n",
      "크롤링 준비\n"
     ]
    },
    {
     "name": "stderr",
     "output_type": "stream",
     "text": [
      "\n",
      "\n",
      "preprocessing day:  16%|██████████▎                                                     | 5/31 [00:37<03:10,  7.34s/it]\u001b[A\u001b[A"
     ]
    },
    {
     "name": "stdout",
     "output_type": "stream",
     "text": [
      "다음날짜로 선택시작\n",
      "다음 날짜 선택 후 크롤링 준비\n",
      "https://search.naver.com/search.naver?where=news&query=%EC%BD%94%EC%8A%A4%ED%94%BC%20%EA%B2%BD%EC%A0%9C&sm=tab_opt&sort=0&photo=0&field=0&pd=3&ds=2022.10.06&de=2022.10.06&docid=&related=0&mynews=0&office_type=0&office_section_code=0&news_office_checked=&nso=so%3Ar%2Cp%3Afrom20221006to20221006&is_sug_officeid=0\n",
      "https://search.naver.com/search.naver?where=news&sm=tab_pge&query=%EC%BD%94%EC%8A%A4%ED%94%BC%20%EA%B2%BD%EC%A0%9C&sort=0&photo=0&field=0&pd=3&ds=2022.10.06&de=2022.10.06&cluster_rank=10&mynews=0&office_type=0&office_section_code=0&news_office_checked=&nso=so:r,p:from20221006to20221006,a:all&start=11\n",
      "https://search.naver.com/search.naver?where=news&sm=tab_pge&query=%EC%BD%94%EC%8A%A4%ED%94%BC%20%EA%B2%BD%EC%A0%9C&sort=0&photo=0&field=0&pd=3&ds=2022.10.06&de=2022.10.06&cluster_rank=21&mynews=0&office_type=0&office_section_code=0&news_office_checked=&nso=so:r,p:from20221006to20221006,a:all&start=21\n",
      "크롤링 준비\n"
     ]
    },
    {
     "name": "stderr",
     "output_type": "stream",
     "text": [
      "\n",
      "\n",
      "preprocessing day:  19%|████████████▍                                                   | 6/31 [00:44<03:02,  7.32s/it]\u001b[A\u001b[A"
     ]
    },
    {
     "name": "stdout",
     "output_type": "stream",
     "text": [
      "다음날짜로 선택시작\n",
      "다음 날짜 선택 후 크롤링 준비\n",
      "https://search.naver.com/search.naver?where=news&query=%EC%BD%94%EC%8A%A4%ED%94%BC%20%EA%B2%BD%EC%A0%9C&sm=tab_opt&sort=0&photo=0&field=0&pd=3&ds=2022.10.07&de=2022.10.07&docid=&related=0&mynews=0&office_type=0&office_section_code=0&news_office_checked=&nso=so%3Ar%2Cp%3Afrom20221007to20221007&is_sug_officeid=0\n",
      "https://search.naver.com/search.naver?where=news&sm=tab_pge&query=%EC%BD%94%EC%8A%A4%ED%94%BC%20%EA%B2%BD%EC%A0%9C&sort=0&photo=0&field=0&pd=3&ds=2022.10.07&de=2022.10.07&cluster_rank=11&mynews=0&office_type=0&office_section_code=0&news_office_checked=&nso=so:r,p:from20221007to20221007,a:all&start=11\n",
      "https://search.naver.com/search.naver?where=news&sm=tab_pge&query=%EC%BD%94%EC%8A%A4%ED%94%BC%20%EA%B2%BD%EC%A0%9C&sort=0&photo=0&field=0&pd=3&ds=2022.10.07&de=2022.10.07&cluster_rank=23&mynews=0&office_type=0&office_section_code=0&news_office_checked=&nso=so:r,p:from20221007to20221007,a:all&start=21\n",
      "크롤링 준비\n"
     ]
    },
    {
     "name": "stderr",
     "output_type": "stream",
     "text": [
      "\n",
      "\n",
      "preprocessing day:  23%|██████████████▍                                                 | 7/31 [00:51<02:52,  7.21s/it]\u001b[A\u001b[A"
     ]
    },
    {
     "name": "stdout",
     "output_type": "stream",
     "text": [
      "다음날짜로 선택시작\n",
      "다음 날짜 선택 후 크롤링 준비\n",
      "https://search.naver.com/search.naver?where=news&query=%EC%BD%94%EC%8A%A4%ED%94%BC%20%EA%B2%BD%EC%A0%9C&sm=tab_opt&sort=0&photo=0&field=0&pd=3&ds=2022.10.08&de=2022.10.08&docid=&related=0&mynews=0&office_type=0&office_section_code=0&news_office_checked=&nso=so%3Ar%2Cp%3Afrom20221008to20221008&is_sug_officeid=0\n",
      "https://search.naver.com/search.naver?where=news&sm=tab_pge&query=%EC%BD%94%EC%8A%A4%ED%94%BC%20%EA%B2%BD%EC%A0%9C&sort=0&photo=0&field=0&pd=3&ds=2022.10.08&de=2022.10.08&cluster_rank=10&mynews=0&office_type=0&office_section_code=0&news_office_checked=&nso=so:r,p:from20221008to20221008,a:all&start=11\n",
      "https://search.naver.com/search.naver?where=news&sm=tab_pge&query=%EC%BD%94%EC%8A%A4%ED%94%BC%20%EA%B2%BD%EC%A0%9C&sort=0&photo=0&field=0&pd=3&ds=2022.10.08&de=2022.10.08&cluster_rank=10&mynews=0&office_type=0&office_section_code=0&news_office_checked=&nso=so:r,p:from20221008to20221008,a:all&start=11\n",
      "크롤링 준비\n"
     ]
    },
    {
     "name": "stderr",
     "output_type": "stream",
     "text": [
      "\n",
      "\n",
      "preprocessing day:  26%|████████████████▌                                               | 8/31 [00:58<02:44,  7.17s/it]\u001b[A\u001b[A"
     ]
    },
    {
     "name": "stdout",
     "output_type": "stream",
     "text": [
      "다음날짜로 선택시작\n",
      "다음 날짜 선택 후 크롤링 준비\n",
      "https://search.naver.com/search.naver?where=news&query=%EC%BD%94%EC%8A%A4%ED%94%BC%20%EA%B2%BD%EC%A0%9C&sm=tab_opt&sort=0&photo=0&field=0&pd=3&ds=2022.10.09&de=2022.10.09&docid=&related=0&mynews=0&office_type=0&office_section_code=0&news_office_checked=&nso=so%3Ar%2Cp%3Afrom20221009to20221009&is_sug_officeid=0\n",
      "https://search.naver.com/search.naver?where=news&sm=tab_pge&query=%EC%BD%94%EC%8A%A4%ED%94%BC%20%EA%B2%BD%EC%A0%9C&sort=0&photo=0&field=0&pd=3&ds=2022.10.09&de=2022.10.09&cluster_rank=13&mynews=0&office_type=0&office_section_code=0&news_office_checked=&nso=so:r,p:from20221009to20221009,a:all&start=11\n",
      "https://search.naver.com/search.naver?where=news&sm=tab_pge&query=%EC%BD%94%EC%8A%A4%ED%94%BC%20%EA%B2%BD%EC%A0%9C&sort=0&photo=0&field=0&pd=3&ds=2022.10.09&de=2022.10.09&cluster_rank=13&mynews=0&office_type=0&office_section_code=0&news_office_checked=&nso=so:r,p:from20221009to20221009,a:all&start=11\n",
      "크롤링 준비\n"
     ]
    },
    {
     "name": "stderr",
     "output_type": "stream",
     "text": [
      "\n",
      "\n",
      "preprocessing day:  29%|██████████████████▌                                             | 9/31 [01:05<02:35,  7.07s/it]\u001b[A\u001b[A"
     ]
    },
    {
     "name": "stdout",
     "output_type": "stream",
     "text": [
      "다음날짜로 선택시작\n",
      "다음 날짜 선택 후 크롤링 준비\n",
      "https://search.naver.com/search.naver?where=news&query=%EC%BD%94%EC%8A%A4%ED%94%BC%20%EA%B2%BD%EC%A0%9C&sm=tab_opt&sort=0&photo=0&field=0&pd=3&ds=2022.10.10&de=2022.10.10&docid=&related=0&mynews=0&office_type=0&office_section_code=0&news_office_checked=&nso=so%3Ar%2Cp%3Afrom20221010to20221010&is_sug_officeid=0\n",
      "https://search.naver.com/search.naver?where=news&sm=tab_pge&query=%EC%BD%94%EC%8A%A4%ED%94%BC%20%EA%B2%BD%EC%A0%9C&sort=0&photo=0&field=0&pd=3&ds=2022.10.10&de=2022.10.10&cluster_rank=16&mynews=0&office_type=0&office_section_code=0&news_office_checked=&nso=so:r,p:from20221010to20221010,a:all&start=11\n",
      "https://search.naver.com/search.naver?where=news&sm=tab_pge&query=%EC%BD%94%EC%8A%A4%ED%94%BC%20%EA%B2%BD%EC%A0%9C&sort=0&photo=0&field=0&pd=3&ds=2022.10.10&de=2022.10.10&cluster_rank=27&mynews=0&office_type=0&office_section_code=0&news_office_checked=&nso=so:r,p:from20221010to20221010,a:all&start=21\n",
      "크롤링 준비\n"
     ]
    },
    {
     "name": "stderr",
     "output_type": "stream",
     "text": [
      "\n",
      "\n",
      "preprocessing day:  32%|████████████████████▎                                          | 10/31 [01:12<02:29,  7.13s/it]\u001b[A\u001b[A"
     ]
    },
    {
     "name": "stdout",
     "output_type": "stream",
     "text": [
      "다음날짜로 선택시작\n",
      "다음 날짜 선택 후 크롤링 준비\n",
      "https://search.naver.com/search.naver?where=news&query=%EC%BD%94%EC%8A%A4%ED%94%BC%20%EA%B2%BD%EC%A0%9C&sm=tab_opt&sort=0&photo=0&field=0&pd=3&ds=2022.10.11&de=2022.10.11&docid=&related=0&mynews=0&office_type=0&office_section_code=0&news_office_checked=&nso=so%3Ar%2Cp%3Afrom20221011to20221011&is_sug_officeid=0\n",
      "https://search.naver.com/search.naver?where=news&sm=tab_pge&query=%EC%BD%94%EC%8A%A4%ED%94%BC%20%EA%B2%BD%EC%A0%9C&sort=0&photo=0&field=0&pd=3&ds=2022.10.11&de=2022.10.11&cluster_rank=17&mynews=0&office_type=0&office_section_code=0&news_office_checked=&nso=so:r,p:from20221011to20221011,a:all&start=11\n",
      "https://search.naver.com/search.naver?where=news&sm=tab_pge&query=%EC%BD%94%EC%8A%A4%ED%94%BC%20%EA%B2%BD%EC%A0%9C&sort=0&photo=0&field=0&pd=3&ds=2022.10.11&de=2022.10.11&cluster_rank=29&mynews=0&office_type=0&office_section_code=0&news_office_checked=&nso=so:r,p:from20221011to20221011,a:all&start=21\n",
      "크롤링 준비\n"
     ]
    },
    {
     "name": "stderr",
     "output_type": "stream",
     "text": [
      "\n",
      "\n",
      "preprocessing day:  35%|██████████████████████▎                                        | 11/31 [01:19<02:23,  7.17s/it]\u001b[A\u001b[A"
     ]
    },
    {
     "name": "stdout",
     "output_type": "stream",
     "text": [
      "다음날짜로 선택시작\n",
      "다음 날짜 선택 후 크롤링 준비\n",
      "https://search.naver.com/search.naver?where=news&query=%EC%BD%94%EC%8A%A4%ED%94%BC%20%EA%B2%BD%EC%A0%9C&sm=tab_opt&sort=0&photo=0&field=0&pd=3&ds=2022.10.12&de=2022.10.12&docid=&related=0&mynews=0&office_type=0&office_section_code=0&news_office_checked=&nso=so%3Ar%2Cp%3Afrom20221012to20221012&is_sug_officeid=0\n",
      "https://search.naver.com/search.naver?where=news&sm=tab_pge&query=%EC%BD%94%EC%8A%A4%ED%94%BC%20%EA%B2%BD%EC%A0%9C&sort=0&photo=0&field=0&pd=3&ds=2022.10.12&de=2022.10.12&cluster_rank=11&mynews=0&office_type=0&office_section_code=0&news_office_checked=&nso=so:r,p:from20221012to20221012,a:all&start=11\n",
      "https://search.naver.com/search.naver?where=news&sm=tab_pge&query=%EC%BD%94%EC%8A%A4%ED%94%BC%20%EA%B2%BD%EC%A0%9C&sort=0&photo=0&field=0&pd=3&ds=2022.10.12&de=2022.10.12&cluster_rank=22&mynews=0&office_type=0&office_section_code=0&news_office_checked=&nso=so:r,p:from20221012to20221012,a:all&start=21\n",
      "크롤링 준비\n"
     ]
    },
    {
     "name": "stderr",
     "output_type": "stream",
     "text": [
      "\n",
      "\n",
      "preprocessing day:  39%|████████████████████████▍                                      | 12/31 [01:26<02:15,  7.14s/it]\u001b[A\u001b[A"
     ]
    },
    {
     "name": "stdout",
     "output_type": "stream",
     "text": [
      "다음날짜로 선택시작\n",
      "다음 날짜 선택 후 크롤링 준비\n",
      "https://search.naver.com/search.naver?where=news&query=%EC%BD%94%EC%8A%A4%ED%94%BC%20%EA%B2%BD%EC%A0%9C&sm=tab_opt&sort=0&photo=0&field=0&pd=3&ds=2022.10.13&de=2022.10.13&docid=&related=0&mynews=0&office_type=0&office_section_code=0&news_office_checked=&nso=so%3Ar%2Cp%3Afrom20221013to20221013&is_sug_officeid=0\n",
      "https://search.naver.com/search.naver?where=news&sm=tab_pge&query=%EC%BD%94%EC%8A%A4%ED%94%BC%20%EA%B2%BD%EC%A0%9C&sort=0&photo=0&field=0&pd=3&ds=2022.10.13&de=2022.10.13&cluster_rank=10&mynews=0&office_type=0&office_section_code=0&news_office_checked=&nso=so:r,p:from20221013to20221013,a:all&start=11\n",
      "https://search.naver.com/search.naver?where=news&sm=tab_pge&query=%EC%BD%94%EC%8A%A4%ED%94%BC%20%EA%B2%BD%EC%A0%9C&sort=0&photo=0&field=0&pd=3&ds=2022.10.13&de=2022.10.13&cluster_rank=21&mynews=0&office_type=0&office_section_code=0&news_office_checked=&nso=so:r,p:from20221013to20221013,a:all&start=21\n",
      "크롤링 준비\n"
     ]
    },
    {
     "name": "stderr",
     "output_type": "stream",
     "text": [
      "\n",
      "\n",
      "preprocessing day:  42%|██████████████████████████▍                                    | 13/31 [01:33<02:08,  7.13s/it]\u001b[A\u001b[A"
     ]
    },
    {
     "name": "stdout",
     "output_type": "stream",
     "text": [
      "다음날짜로 선택시작\n",
      "다음 날짜 선택 후 크롤링 준비\n",
      "https://search.naver.com/search.naver?where=news&query=%EC%BD%94%EC%8A%A4%ED%94%BC%20%EA%B2%BD%EC%A0%9C&sm=tab_opt&sort=0&photo=0&field=0&pd=3&ds=2022.10.14&de=2022.10.14&docid=&related=0&mynews=0&office_type=0&office_section_code=0&news_office_checked=&nso=so%3Ar%2Cp%3Afrom20221014to20221014&is_sug_officeid=0\n",
      "https://search.naver.com/search.naver?where=news&sm=tab_pge&query=%EC%BD%94%EC%8A%A4%ED%94%BC%20%EA%B2%BD%EC%A0%9C&sort=0&photo=0&field=0&pd=3&ds=2022.10.14&de=2022.10.14&cluster_rank=10&mynews=0&office_type=0&office_section_code=0&news_office_checked=&nso=so:r,p:from20221014to20221014,a:all&start=11\n",
      "https://search.naver.com/search.naver?where=news&sm=tab_pge&query=%EC%BD%94%EC%8A%A4%ED%94%BC%20%EA%B2%BD%EC%A0%9C&sort=0&photo=0&field=0&pd=3&ds=2022.10.14&de=2022.10.14&cluster_rank=22&mynews=0&office_type=0&office_section_code=0&news_office_checked=&nso=so:r,p:from20221014to20221014,a:all&start=21\n",
      "크롤링 준비\n"
     ]
    },
    {
     "name": "stderr",
     "output_type": "stream",
     "text": [
      "\n",
      "\n",
      "preprocessing day:  45%|████████████████████████████▍                                  | 14/31 [01:41<02:01,  7.13s/it]\u001b[A\u001b[A"
     ]
    },
    {
     "name": "stdout",
     "output_type": "stream",
     "text": [
      "다음날짜로 선택시작\n",
      "다음 날짜 선택 후 크롤링 준비\n",
      "https://search.naver.com/search.naver?where=news&query=%EC%BD%94%EC%8A%A4%ED%94%BC%20%EA%B2%BD%EC%A0%9C&sm=tab_opt&sort=0&photo=0&field=0&pd=3&ds=2022.10.15&de=2022.10.15&docid=&related=0&mynews=0&office_type=0&office_section_code=0&news_office_checked=&nso=so%3Ar%2Cp%3Afrom20221015to20221015&is_sug_officeid=0\n",
      "https://search.naver.com/search.naver?where=news&sm=tab_pge&query=%EC%BD%94%EC%8A%A4%ED%94%BC%20%EA%B2%BD%EC%A0%9C&sort=0&photo=0&field=0&pd=3&ds=2022.10.15&de=2022.10.15&cluster_rank=10&mynews=0&office_type=0&office_section_code=0&news_office_checked=&nso=so:r,p:from20221015to20221015,a:all&start=11\n",
      "https://search.naver.com/search.naver?where=news&sm=tab_pge&query=%EC%BD%94%EC%8A%A4%ED%94%BC%20%EA%B2%BD%EC%A0%9C&sort=0&photo=0&field=0&pd=3&ds=2022.10.15&de=2022.10.15&cluster_rank=10&mynews=0&office_type=0&office_section_code=0&news_office_checked=&nso=so:r,p:from20221015to20221015,a:all&start=11\n",
      "크롤링 준비\n"
     ]
    },
    {
     "name": "stderr",
     "output_type": "stream",
     "text": [
      "\n",
      "\n",
      "preprocessing day:  48%|██████████████████████████████▍                                | 15/31 [01:47<01:51,  7.00s/it]\u001b[A\u001b[A"
     ]
    },
    {
     "name": "stdout",
     "output_type": "stream",
     "text": [
      "다음날짜로 선택시작\n",
      "다음 날짜 선택 후 크롤링 준비\n",
      "https://search.naver.com/search.naver?where=news&query=%EC%BD%94%EC%8A%A4%ED%94%BC%20%EA%B2%BD%EC%A0%9C&sm=tab_opt&sort=0&photo=0&field=0&pd=3&ds=2022.10.16&de=2022.10.16&docid=&related=0&mynews=0&office_type=0&office_section_code=0&news_office_checked=&nso=so%3Ar%2Cp%3Afrom20221016to20221016&is_sug_officeid=0\n",
      "https://search.naver.com/search.naver?where=news&sm=tab_pge&query=%EC%BD%94%EC%8A%A4%ED%94%BC%20%EA%B2%BD%EC%A0%9C&sort=0&photo=0&field=0&pd=3&ds=2022.10.16&de=2022.10.16&cluster_rank=12&mynews=0&office_type=0&office_section_code=0&news_office_checked=&nso=so:r,p:from20221016to20221016,a:all&start=11\n",
      "https://search.naver.com/search.naver?where=news&sm=tab_pge&query=%EC%BD%94%EC%8A%A4%ED%94%BC%20%EA%B2%BD%EC%A0%9C&sort=0&photo=0&field=0&pd=3&ds=2022.10.16&de=2022.10.16&cluster_rank=22&mynews=0&office_type=0&office_section_code=0&news_office_checked=&nso=so:r,p:from20221016to20221016,a:all&start=21\n",
      "크롤링 준비\n"
     ]
    },
    {
     "name": "stderr",
     "output_type": "stream",
     "text": [
      "\n",
      "\n",
      "preprocessing day:  52%|████████████████████████████████▌                              | 16/31 [01:55<01:47,  7.15s/it]\u001b[A\u001b[A"
     ]
    },
    {
     "name": "stdout",
     "output_type": "stream",
     "text": [
      "다음날짜로 선택시작\n",
      "다음 날짜 선택 후 크롤링 준비\n",
      "https://search.naver.com/search.naver?where=news&query=%EC%BD%94%EC%8A%A4%ED%94%BC%20%EA%B2%BD%EC%A0%9C&sm=tab_opt&sort=0&photo=0&field=0&pd=3&ds=2022.10.17&de=2022.10.17&docid=&related=0&mynews=0&office_type=0&office_section_code=0&news_office_checked=&nso=so%3Ar%2Cp%3Afrom20221017to20221017&is_sug_officeid=0\n",
      "https://search.naver.com/search.naver?where=news&sm=tab_pge&query=%EC%BD%94%EC%8A%A4%ED%94%BC%20%EA%B2%BD%EC%A0%9C&sort=0&photo=0&field=0&pd=3&ds=2022.10.17&de=2022.10.17&cluster_rank=21&mynews=0&office_type=0&office_section_code=0&news_office_checked=&nso=so:r,p:from20221017to20221017,a:all&start=11\n",
      "https://search.naver.com/search.naver?where=news&sm=tab_pge&query=%EC%BD%94%EC%8A%A4%ED%94%BC%20%EA%B2%BD%EC%A0%9C&sort=0&photo=0&field=0&pd=3&ds=2022.10.17&de=2022.10.17&cluster_rank=32&mynews=0&office_type=0&office_section_code=0&news_office_checked=&nso=so:r,p:from20221017to20221017,a:all&start=21\n",
      "크롤링 준비\n"
     ]
    },
    {
     "name": "stderr",
     "output_type": "stream",
     "text": [
      "\n",
      "\n",
      "preprocessing day:  55%|██████████████████████████████████▌                            | 17/31 [02:02<01:40,  7.18s/it]\u001b[A\u001b[A"
     ]
    },
    {
     "name": "stdout",
     "output_type": "stream",
     "text": [
      "다음날짜로 선택시작\n",
      "다음 날짜 선택 후 크롤링 준비\n",
      "https://search.naver.com/search.naver?where=news&query=%EC%BD%94%EC%8A%A4%ED%94%BC%20%EA%B2%BD%EC%A0%9C&sm=tab_opt&sort=0&photo=0&field=0&pd=3&ds=2022.10.18&de=2022.10.18&docid=&related=0&mynews=0&office_type=0&office_section_code=0&news_office_checked=&nso=so%3Ar%2Cp%3Afrom20221018to20221018&is_sug_officeid=0\n",
      "https://search.naver.com/search.naver?where=news&sm=tab_pge&query=%EC%BD%94%EC%8A%A4%ED%94%BC%20%EA%B2%BD%EC%A0%9C&sort=0&photo=0&field=0&pd=3&ds=2022.10.18&de=2022.10.18&cluster_rank=13&mynews=0&office_type=0&office_section_code=0&news_office_checked=&nso=so:r,p:from20221018to20221018,a:all&start=11\n",
      "https://search.naver.com/search.naver?where=news&sm=tab_pge&query=%EC%BD%94%EC%8A%A4%ED%94%BC%20%EA%B2%BD%EC%A0%9C&sort=0&photo=0&field=0&pd=3&ds=2022.10.18&de=2022.10.18&cluster_rank=26&mynews=0&office_type=0&office_section_code=0&news_office_checked=&nso=so:r,p:from20221018to20221018,a:all&start=21\n",
      "크롤링 준비\n"
     ]
    },
    {
     "name": "stderr",
     "output_type": "stream",
     "text": [
      "\n",
      "\n",
      "preprocessing day:  58%|████████████████████████████████████▌                          | 18/31 [02:09<01:33,  7.19s/it]\u001b[A\u001b[A"
     ]
    },
    {
     "name": "stdout",
     "output_type": "stream",
     "text": [
      "다음날짜로 선택시작\n",
      "다음 날짜 선택 후 크롤링 준비\n",
      "https://search.naver.com/search.naver?where=news&query=%EC%BD%94%EC%8A%A4%ED%94%BC%20%EA%B2%BD%EC%A0%9C&sm=tab_opt&sort=0&photo=0&field=0&pd=3&ds=2022.10.19&de=2022.10.19&docid=&related=0&mynews=0&office_type=0&office_section_code=0&news_office_checked=&nso=so%3Ar%2Cp%3Afrom20221019to20221019&is_sug_officeid=0\n",
      "https://search.naver.com/search.naver?where=news&sm=tab_pge&query=%EC%BD%94%EC%8A%A4%ED%94%BC%20%EA%B2%BD%EC%A0%9C&sort=0&photo=0&field=0&pd=3&ds=2022.10.19&de=2022.10.19&cluster_rank=10&mynews=0&office_type=0&office_section_code=0&news_office_checked=&nso=so:r,p:from20221019to20221019,a:all&start=11\n",
      "https://search.naver.com/search.naver?where=news&sm=tab_pge&query=%EC%BD%94%EC%8A%A4%ED%94%BC%20%EA%B2%BD%EC%A0%9C&sort=0&photo=0&field=0&pd=3&ds=2022.10.19&de=2022.10.19&cluster_rank=20&mynews=0&office_type=0&office_section_code=0&news_office_checked=&nso=so:r,p:from20221019to20221019,a:all&start=21\n",
      "크롤링 준비\n"
     ]
    },
    {
     "name": "stderr",
     "output_type": "stream",
     "text": [
      "\n",
      "\n",
      "preprocessing day:  61%|██████████████████████████████████████▌                        | 19/31 [02:16<01:26,  7.20s/it]\u001b[A\u001b[A"
     ]
    },
    {
     "name": "stdout",
     "output_type": "stream",
     "text": [
      "다음날짜로 선택시작\n",
      "다음 날짜 선택 후 크롤링 준비\n",
      "https://search.naver.com/search.naver?where=news&query=%EC%BD%94%EC%8A%A4%ED%94%BC%20%EA%B2%BD%EC%A0%9C&sm=tab_opt&sort=0&photo=0&field=0&pd=3&ds=2022.10.20&de=2022.10.20&docid=&related=0&mynews=0&office_type=0&office_section_code=0&news_office_checked=&nso=so%3Ar%2Cp%3Afrom20221020to20221020&is_sug_officeid=0\n",
      "https://search.naver.com/search.naver?where=news&sm=tab_pge&query=%EC%BD%94%EC%8A%A4%ED%94%BC%20%EA%B2%BD%EC%A0%9C&sort=0&photo=0&field=0&pd=3&ds=2022.10.20&de=2022.10.20&cluster_rank=11&mynews=0&office_type=0&office_section_code=0&news_office_checked=&nso=so:r,p:from20221020to20221020,a:all&start=11\n",
      "https://search.naver.com/search.naver?where=news&sm=tab_pge&query=%EC%BD%94%EC%8A%A4%ED%94%BC%20%EA%B2%BD%EC%A0%9C&sort=0&photo=0&field=0&pd=3&ds=2022.10.20&de=2022.10.20&cluster_rank=24&mynews=0&office_type=0&office_section_code=0&news_office_checked=&nso=so:r,p:from20221020to20221020,a:all&start=21\n",
      "크롤링 준비\n"
     ]
    },
    {
     "name": "stderr",
     "output_type": "stream",
     "text": [
      "\n",
      "\n",
      "preprocessing day:  65%|████████████████████████████████████████▋                      | 20/31 [02:23<01:18,  7.14s/it]\u001b[A\u001b[A"
     ]
    },
    {
     "name": "stdout",
     "output_type": "stream",
     "text": [
      "다음날짜로 선택시작\n",
      "다음 날짜 선택 후 크롤링 준비\n",
      "https://search.naver.com/search.naver?where=news&query=%EC%BD%94%EC%8A%A4%ED%94%BC%20%EA%B2%BD%EC%A0%9C&sm=tab_opt&sort=0&photo=0&field=0&pd=3&ds=2022.10.21&de=2022.10.21&docid=&related=0&mynews=0&office_type=0&office_section_code=0&news_office_checked=&nso=so%3Ar%2Cp%3Afrom20221021to20221021&is_sug_officeid=0\n",
      "https://search.naver.com/search.naver?where=news&sm=tab_pge&query=%EC%BD%94%EC%8A%A4%ED%94%BC%20%EA%B2%BD%EC%A0%9C&sort=0&photo=0&field=0&pd=3&ds=2022.10.21&de=2022.10.21&cluster_rank=11&mynews=0&office_type=0&office_section_code=0&news_office_checked=&nso=so:r,p:from20221021to20221021,a:all&start=11\n",
      "https://search.naver.com/search.naver?where=news&sm=tab_pge&query=%EC%BD%94%EC%8A%A4%ED%94%BC%20%EA%B2%BD%EC%A0%9C&sort=0&photo=0&field=0&pd=3&ds=2022.10.21&de=2022.10.21&cluster_rank=21&mynews=0&office_type=0&office_section_code=0&news_office_checked=&nso=so:r,p:from20221021to20221021,a:all&start=21\n",
      "크롤링 준비\n"
     ]
    },
    {
     "name": "stderr",
     "output_type": "stream",
     "text": [
      "\n",
      "\n",
      "preprocessing day:  68%|██████████████████████████████████████████▋                    | 21/31 [02:31<01:11,  7.16s/it]\u001b[A\u001b[A"
     ]
    },
    {
     "name": "stdout",
     "output_type": "stream",
     "text": [
      "다음날짜로 선택시작\n",
      "다음 날짜 선택 후 크롤링 준비\n",
      "https://search.naver.com/search.naver?where=news&query=%EC%BD%94%EC%8A%A4%ED%94%BC%20%EA%B2%BD%EC%A0%9C&sm=tab_opt&sort=0&photo=0&field=0&pd=3&ds=2022.10.22&de=2022.10.22&docid=&related=0&mynews=0&office_type=0&office_section_code=0&news_office_checked=&nso=so%3Ar%2Cp%3Afrom20221022to20221022&is_sug_officeid=0\n",
      "https://search.naver.com/search.naver?where=news&query=%EC%BD%94%EC%8A%A4%ED%94%BC%20%EA%B2%BD%EC%A0%9C&sm=tab_opt&sort=0&photo=0&field=0&pd=3&ds=2022.10.22&de=2022.10.22&docid=&related=0&mynews=0&office_type=0&office_section_code=0&news_office_checked=&nso=so%3Ar%2Cp%3Afrom20221022to20221022&is_sug_officeid=0\n",
      "크롤링 준비\n"
     ]
    },
    {
     "name": "stderr",
     "output_type": "stream",
     "text": [
      "\n",
      "\n",
      "preprocessing day:  71%|████████████████████████████████████████████▋                  | 22/31 [02:37<01:02,  6.91s/it]\u001b[A\u001b[A"
     ]
    },
    {
     "name": "stdout",
     "output_type": "stream",
     "text": [
      "다음날짜로 선택시작\n",
      "다음 날짜 선택 후 크롤링 준비\n",
      "https://search.naver.com/search.naver?where=news&query=%EC%BD%94%EC%8A%A4%ED%94%BC%20%EA%B2%BD%EC%A0%9C&sm=tab_opt&sort=0&photo=0&field=0&pd=3&ds=2022.10.23&de=2022.10.23&docid=&related=0&mynews=0&office_type=0&office_section_code=0&news_office_checked=&nso=so%3Ar%2Cp%3Afrom20221023to20221023&is_sug_officeid=0\n",
      "https://search.naver.com/search.naver?where=news&sm=tab_pge&query=%EC%BD%94%EC%8A%A4%ED%94%BC%20%EA%B2%BD%EC%A0%9C&sort=0&photo=0&field=0&pd=3&ds=2022.10.23&de=2022.10.23&cluster_rank=11&mynews=0&office_type=0&office_section_code=0&news_office_checked=&nso=so:r,p:from20221023to20221023,a:all&start=11\n",
      "https://search.naver.com/search.naver?where=news&sm=tab_pge&query=%EC%BD%94%EC%8A%A4%ED%94%BC%20%EA%B2%BD%EC%A0%9C&sort=0&photo=0&field=0&pd=3&ds=2022.10.23&de=2022.10.23&cluster_rank=22&mynews=0&office_type=0&office_section_code=0&news_office_checked=&nso=so:r,p:from20221023to20221023,a:all&start=21\n",
      "크롤링 준비\n"
     ]
    },
    {
     "name": "stderr",
     "output_type": "stream",
     "text": [
      "\n",
      "\n",
      "preprocessing day:  74%|██████████████████████████████████████████████▋                | 23/31 [02:44<00:56,  7.00s/it]\u001b[A\u001b[A"
     ]
    },
    {
     "name": "stdout",
     "output_type": "stream",
     "text": [
      "다음날짜로 선택시작\n",
      "다음 날짜 선택 후 크롤링 준비\n",
      "https://search.naver.com/search.naver?where=news&query=%EC%BD%94%EC%8A%A4%ED%94%BC%20%EA%B2%BD%EC%A0%9C&sm=tab_opt&sort=0&photo=0&field=0&pd=3&ds=2022.10.24&de=2022.10.24&docid=&related=0&mynews=0&office_type=0&office_section_code=0&news_office_checked=&nso=so%3Ar%2Cp%3Afrom20221024to20221024&is_sug_officeid=0\n",
      "https://search.naver.com/search.naver?where=news&sm=tab_pge&query=%EC%BD%94%EC%8A%A4%ED%94%BC%20%EA%B2%BD%EC%A0%9C&sort=0&photo=0&field=0&pd=3&ds=2022.10.24&de=2022.10.24&cluster_rank=15&mynews=0&office_type=0&office_section_code=0&news_office_checked=&nso=so:r,p:from20221024to20221024,a:all&start=11\n",
      "https://search.naver.com/search.naver?where=news&sm=tab_pge&query=%EC%BD%94%EC%8A%A4%ED%94%BC%20%EA%B2%BD%EC%A0%9C&sort=0&photo=0&field=0&pd=3&ds=2022.10.24&de=2022.10.24&cluster_rank=25&mynews=0&office_type=0&office_section_code=0&news_office_checked=&nso=so:r,p:from20221024to20221024,a:all&start=21\n",
      "크롤링 준비\n"
     ]
    },
    {
     "name": "stderr",
     "output_type": "stream",
     "text": [
      "\n",
      "\n",
      "preprocessing day:  77%|████████████████████████████████████████████████▊              | 24/31 [02:52<00:49,  7.14s/it]\u001b[A\u001b[A"
     ]
    },
    {
     "name": "stdout",
     "output_type": "stream",
     "text": [
      "다음날짜로 선택시작\n",
      "다음 날짜 선택 후 크롤링 준비\n",
      "https://search.naver.com/search.naver?where=news&query=%EC%BD%94%EC%8A%A4%ED%94%BC%20%EA%B2%BD%EC%A0%9C&sm=tab_opt&sort=0&photo=0&field=0&pd=3&ds=2022.10.25&de=2022.10.25&docid=&related=0&mynews=0&office_type=0&office_section_code=0&news_office_checked=&nso=so%3Ar%2Cp%3Afrom20221025to20221025&is_sug_officeid=0\n",
      "https://search.naver.com/search.naver?where=news&sm=tab_pge&query=%EC%BD%94%EC%8A%A4%ED%94%BC%20%EA%B2%BD%EC%A0%9C&sort=0&photo=0&field=0&pd=3&ds=2022.10.25&de=2022.10.25&cluster_rank=12&mynews=0&office_type=0&office_section_code=0&news_office_checked=&nso=so:r,p:from20221025to20221025,a:all&start=11\n",
      "https://search.naver.com/search.naver?where=news&sm=tab_pge&query=%EC%BD%94%EC%8A%A4%ED%94%BC%20%EA%B2%BD%EC%A0%9C&sort=0&photo=0&field=0&pd=3&ds=2022.10.25&de=2022.10.25&cluster_rank=23&mynews=0&office_type=0&office_section_code=0&news_office_checked=&nso=so:r,p:from20221025to20221025,a:all&start=21\n",
      "크롤링 준비\n"
     ]
    },
    {
     "name": "stderr",
     "output_type": "stream",
     "text": [
      "\n",
      "\n",
      "preprocessing day:  81%|██████████████████████████████████████████████████▊            | 25/31 [02:59<00:43,  7.23s/it]\u001b[A\u001b[A"
     ]
    },
    {
     "name": "stdout",
     "output_type": "stream",
     "text": [
      "다음날짜로 선택시작\n",
      "다음 날짜 선택 후 크롤링 준비\n",
      "https://search.naver.com/search.naver?where=news&query=%EC%BD%94%EC%8A%A4%ED%94%BC%20%EA%B2%BD%EC%A0%9C&sm=tab_opt&sort=0&photo=0&field=0&pd=3&ds=2022.10.26&de=2022.10.26&docid=&related=0&mynews=0&office_type=0&office_section_code=0&news_office_checked=&nso=so%3Ar%2Cp%3Afrom20221026to20221026&is_sug_officeid=0\n",
      "https://search.naver.com/search.naver?where=news&sm=tab_pge&query=%EC%BD%94%EC%8A%A4%ED%94%BC%20%EA%B2%BD%EC%A0%9C&sort=0&photo=0&field=0&pd=3&ds=2022.10.26&de=2022.10.26&cluster_rank=14&mynews=0&office_type=0&office_section_code=0&news_office_checked=&nso=so:r,p:from20221026to20221026,a:all&start=11\n",
      "https://search.naver.com/search.naver?where=news&sm=tab_pge&query=%EC%BD%94%EC%8A%A4%ED%94%BC%20%EA%B2%BD%EC%A0%9C&sort=0&photo=0&field=0&pd=3&ds=2022.10.26&de=2022.10.26&cluster_rank=25&mynews=0&office_type=0&office_section_code=0&news_office_checked=&nso=so:r,p:from20221026to20221026,a:all&start=21\n",
      "크롤링 준비\n"
     ]
    },
    {
     "name": "stderr",
     "output_type": "stream",
     "text": [
      "\n",
      "\n",
      "preprocessing day:  84%|████████████████████████████████████████████████████▊          | 26/31 [03:06<00:35,  7.18s/it]\u001b[A\u001b[A"
     ]
    },
    {
     "name": "stdout",
     "output_type": "stream",
     "text": [
      "다음날짜로 선택시작\n",
      "다음 날짜 선택 후 크롤링 준비\n",
      "https://search.naver.com/search.naver?where=news&query=%EC%BD%94%EC%8A%A4%ED%94%BC%20%EA%B2%BD%EC%A0%9C&sm=tab_opt&sort=0&photo=0&field=0&pd=3&ds=2022.10.27&de=2022.10.27&docid=&related=0&mynews=0&office_type=0&office_section_code=0&news_office_checked=&nso=so%3Ar%2Cp%3Afrom20221027to20221027&is_sug_officeid=0\n",
      "https://search.naver.com/search.naver?where=news&sm=tab_pge&query=%EC%BD%94%EC%8A%A4%ED%94%BC%20%EA%B2%BD%EC%A0%9C&sort=0&photo=0&field=0&pd=3&ds=2022.10.27&de=2022.10.27&cluster_rank=15&mynews=0&office_type=0&office_section_code=0&news_office_checked=&nso=so:r,p:from20221027to20221027,a:all&start=11\n",
      "https://search.naver.com/search.naver?where=news&sm=tab_pge&query=%EC%BD%94%EC%8A%A4%ED%94%BC%20%EA%B2%BD%EC%A0%9C&sort=0&photo=0&field=0&pd=3&ds=2022.10.27&de=2022.10.27&cluster_rank=25&mynews=0&office_type=0&office_section_code=0&news_office_checked=&nso=so:r,p:from20221027to20221027,a:all&start=21\n",
      "크롤링 준비\n"
     ]
    },
    {
     "name": "stderr",
     "output_type": "stream",
     "text": [
      "\n",
      "\n",
      "preprocessing day:  87%|██████████████████████████████████████████████████████▊        | 27/31 [03:13<00:28,  7.17s/it]\u001b[A\u001b[A"
     ]
    },
    {
     "name": "stdout",
     "output_type": "stream",
     "text": [
      "다음날짜로 선택시작\n",
      "다음 날짜 선택 후 크롤링 준비\n",
      "https://search.naver.com/search.naver?where=news&query=%EC%BD%94%EC%8A%A4%ED%94%BC%20%EA%B2%BD%EC%A0%9C&sm=tab_opt&sort=0&photo=0&field=0&pd=3&ds=2022.10.28&de=2022.10.28&docid=&related=0&mynews=0&office_type=0&office_section_code=0&news_office_checked=&nso=so%3Ar%2Cp%3Afrom20221028to20221028&is_sug_officeid=0\n",
      "https://search.naver.com/search.naver?where=news&sm=tab_pge&query=%EC%BD%94%EC%8A%A4%ED%94%BC%20%EA%B2%BD%EC%A0%9C&sort=0&photo=0&field=0&pd=3&ds=2022.10.28&de=2022.10.28&cluster_rank=10&mynews=0&office_type=0&office_section_code=0&news_office_checked=&nso=so:r,p:from20221028to20221028,a:all&start=11\n",
      "https://search.naver.com/search.naver?where=news&sm=tab_pge&query=%EC%BD%94%EC%8A%A4%ED%94%BC%20%EA%B2%BD%EC%A0%9C&sort=0&photo=0&field=0&pd=3&ds=2022.10.28&de=2022.10.28&cluster_rank=20&mynews=0&office_type=0&office_section_code=0&news_office_checked=&nso=so:r,p:from20221028to20221028,a:all&start=21\n",
      "크롤링 준비\n"
     ]
    },
    {
     "name": "stderr",
     "output_type": "stream",
     "text": [
      "\n",
      "\n",
      "preprocessing day:  90%|████████████████████████████████████████████████████████▉      | 28/31 [03:20<00:21,  7.17s/it]\u001b[A\u001b[A"
     ]
    },
    {
     "name": "stdout",
     "output_type": "stream",
     "text": [
      "다음날짜로 선택시작\n",
      "다음 날짜 선택 후 크롤링 준비\n",
      "https://search.naver.com/search.naver?where=news&query=%EC%BD%94%EC%8A%A4%ED%94%BC%20%EA%B2%BD%EC%A0%9C&sm=tab_opt&sort=0&photo=0&field=0&pd=3&ds=2022.10.29&de=2022.10.29&docid=&related=0&mynews=0&office_type=0&office_section_code=0&news_office_checked=&nso=so%3Ar%2Cp%3Afrom20221029to20221029&is_sug_officeid=0\n",
      "https://search.naver.com/search.naver?where=news&sm=tab_pge&query=%EC%BD%94%EC%8A%A4%ED%94%BC%20%EA%B2%BD%EC%A0%9C&sort=0&photo=0&field=0&pd=3&ds=2022.10.29&de=2022.10.29&cluster_rank=10&mynews=0&office_type=0&office_section_code=0&news_office_checked=&nso=so:r,p:from20221029to20221029,a:all&start=11\n",
      "https://search.naver.com/search.naver?where=news&sm=tab_pge&query=%EC%BD%94%EC%8A%A4%ED%94%BC%20%EA%B2%BD%EC%A0%9C&sort=0&photo=0&field=0&pd=3&ds=2022.10.29&de=2022.10.29&cluster_rank=10&mynews=0&office_type=0&office_section_code=0&news_office_checked=&nso=so:r,p:from20221029to20221029,a:all&start=11\n",
      "크롤링 준비\n"
     ]
    },
    {
     "name": "stderr",
     "output_type": "stream",
     "text": [
      "\n",
      "\n",
      "preprocessing day:  94%|██████████████████████████████████████████████████████████▉    | 29/31 [03:27<00:14,  7.02s/it]\u001b[A\u001b[A"
     ]
    },
    {
     "name": "stdout",
     "output_type": "stream",
     "text": [
      "다음날짜로 선택시작\n",
      "다음 날짜 선택 후 크롤링 준비\n",
      "https://search.naver.com/search.naver?where=news&query=%EC%BD%94%EC%8A%A4%ED%94%BC%20%EA%B2%BD%EC%A0%9C&sm=tab_opt&sort=0&photo=0&field=0&pd=3&ds=2022.10.30&de=2022.10.30&docid=&related=0&mynews=0&office_type=0&office_section_code=0&news_office_checked=&nso=so%3Ar%2Cp%3Afrom20221030to20221030&is_sug_officeid=0\n",
      "https://search.naver.com/search.naver?where=news&sm=tab_pge&query=%EC%BD%94%EC%8A%A4%ED%94%BC%20%EA%B2%BD%EC%A0%9C&sort=0&photo=0&field=0&pd=3&ds=2022.10.30&de=2022.10.30&cluster_rank=16&mynews=0&office_type=0&office_section_code=0&news_office_checked=&nso=so:r,p:from20221030to20221030,a:all&start=11\n",
      "https://search.naver.com/search.naver?where=news&sm=tab_pge&query=%EC%BD%94%EC%8A%A4%ED%94%BC%20%EA%B2%BD%EC%A0%9C&sort=0&photo=0&field=0&pd=3&ds=2022.10.30&de=2022.10.30&cluster_rank=26&mynews=0&office_type=0&office_section_code=0&news_office_checked=&nso=so:r,p:from20221030to20221030,a:all&start=21\n",
      "크롤링 준비\n"
     ]
    },
    {
     "name": "stderr",
     "output_type": "stream",
     "text": [
      "\n",
      "\n",
      "preprocessing day:  97%|████████████████████████████████████████████████████████████▉  | 30/31 [03:34<00:07,  7.04s/it]\u001b[A\u001b[A"
     ]
    },
    {
     "name": "stdout",
     "output_type": "stream",
     "text": [
      "다음날짜로 선택시작\n",
      "다음 날짜 선택 후 크롤링 준비\n",
      "https://search.naver.com/search.naver?where=news&query=%EC%BD%94%EC%8A%A4%ED%94%BC%20%EA%B2%BD%EC%A0%9C&sm=tab_opt&sort=0&photo=0&field=0&pd=3&ds=2022.10.31&de=2022.10.31&docid=&related=0&mynews=0&office_type=0&office_section_code=0&news_office_checked=&nso=so%3Ar%2Cp%3Afrom20221031to20221031&is_sug_officeid=0\n",
      "https://search.naver.com/search.naver?where=news&sm=tab_pge&query=%EC%BD%94%EC%8A%A4%ED%94%BC%20%EA%B2%BD%EC%A0%9C&sort=0&photo=0&field=0&pd=3&ds=2022.10.31&de=2022.10.31&cluster_rank=14&mynews=0&office_type=0&office_section_code=0&news_office_checked=&nso=so:r,p:from20221031to20221031,a:all&start=11\n",
      "https://search.naver.com/search.naver?where=news&sm=tab_pge&query=%EC%BD%94%EC%8A%A4%ED%94%BC%20%EA%B2%BD%EC%A0%9C&sort=0&photo=0&field=0&pd=3&ds=2022.10.31&de=2022.10.31&cluster_rank=24&mynews=0&office_type=0&office_section_code=0&news_office_checked=&nso=so:r,p:from20221031to20221031,a:all&start=21\n",
      "크롤링 준비\n"
     ]
    },
    {
     "name": "stderr",
     "output_type": "stream",
     "text": [
      "\n",
      "\n",
      "preprocessing day: 100%|███████████████████████████████████████████████████████████████| 31/31 [03:42<00:00,  7.17s/it]\u001b[A\u001b[A\n",
      "\n",
      "preprocessing month:  83%|██████████████████████████████████████████████████          | 10/12 [36:49<07:21, 220.99s/it]\u001b[A"
     ]
    },
    {
     "name": "stdout",
     "output_type": "stream",
     "text": [
      "다음날짜로 선택시작\n"
     ]
    },
    {
     "name": "stderr",
     "output_type": "stream",
     "text": [
      "\n",
      "\n",
      "preprocessing day:   0%|                                                                        | 0/31 [00:00<?, ?it/s]\u001b[A\u001b[A"
     ]
    },
    {
     "name": "stdout",
     "output_type": "stream",
     "text": [
      "다음 날짜 선택 후 크롤링 준비\n",
      "https://search.naver.com/search.naver?where=news&query=%EC%BD%94%EC%8A%A4%ED%94%BC%20%EA%B2%BD%EC%A0%9C&sm=tab_opt&sort=0&photo=0&field=0&pd=3&ds=2022.11.01&de=2022.11.01&docid=&related=0&mynews=0&office_type=0&office_section_code=0&news_office_checked=&nso=so%3Ar%2Cp%3Afrom20221101to20221101&is_sug_officeid=0\n",
      "https://search.naver.com/search.naver?where=news&sm=tab_pge&query=%EC%BD%94%EC%8A%A4%ED%94%BC%20%EA%B2%BD%EC%A0%9C&sort=0&photo=0&field=0&pd=3&ds=2022.11.01&de=2022.11.01&cluster_rank=12&mynews=0&office_type=0&office_section_code=0&news_office_checked=&nso=so:r,p:from20221101to20221101,a:all&start=11\n",
      "https://search.naver.com/search.naver?where=news&sm=tab_pge&query=%EC%BD%94%EC%8A%A4%ED%94%BC%20%EA%B2%BD%EC%A0%9C&sort=0&photo=0&field=0&pd=3&ds=2022.11.01&de=2022.11.01&cluster_rank=23&mynews=0&office_type=0&office_section_code=0&news_office_checked=&nso=so:r,p:from20221101to20221101,a:all&start=21\n",
      "크롤링 준비\n"
     ]
    },
    {
     "name": "stderr",
     "output_type": "stream",
     "text": [
      "\n",
      "\n",
      "preprocessing day:   3%|██                                                              | 1/31 [00:07<03:46,  7.56s/it]\u001b[A\u001b[A"
     ]
    },
    {
     "name": "stdout",
     "output_type": "stream",
     "text": [
      "다음날짜로 선택시작\n",
      "다음 날짜 선택 후 크롤링 준비\n",
      "https://search.naver.com/search.naver?where=news&query=%EC%BD%94%EC%8A%A4%ED%94%BC%20%EA%B2%BD%EC%A0%9C&sm=tab_opt&sort=0&photo=0&field=0&pd=3&ds=2022.11.02&de=2022.11.02&docid=&related=0&mynews=0&office_type=0&office_section_code=0&news_office_checked=&nso=so%3Ar%2Cp%3Afrom20221102to20221102&is_sug_officeid=0\n",
      "https://search.naver.com/search.naver?where=news&sm=tab_pge&query=%EC%BD%94%EC%8A%A4%ED%94%BC%20%EA%B2%BD%EC%A0%9C&sort=0&photo=0&field=0&pd=3&ds=2022.11.02&de=2022.11.02&cluster_rank=13&mynews=0&office_type=0&office_section_code=0&news_office_checked=&nso=so:r,p:from20221102to20221102,a:all&start=11\n",
      "https://search.naver.com/search.naver?where=news&sm=tab_pge&query=%EC%BD%94%EC%8A%A4%ED%94%BC%20%EA%B2%BD%EC%A0%9C&sort=0&photo=0&field=0&pd=3&ds=2022.11.02&de=2022.11.02&cluster_rank=23&mynews=0&office_type=0&office_section_code=0&news_office_checked=&nso=so:r,p:from20221102to20221102,a:all&start=21\n",
      "크롤링 준비\n"
     ]
    },
    {
     "name": "stderr",
     "output_type": "stream",
     "text": [
      "\n",
      "\n",
      "preprocessing day:   6%|████▏                                                           | 2/31 [00:15<03:46,  7.81s/it]\u001b[A\u001b[A"
     ]
    },
    {
     "name": "stdout",
     "output_type": "stream",
     "text": [
      "다음날짜로 선택시작\n",
      "다음 날짜 선택 후 크롤링 준비\n",
      "https://search.naver.com/search.naver?where=news&query=%EC%BD%94%EC%8A%A4%ED%94%BC%20%EA%B2%BD%EC%A0%9C&sm=tab_opt&sort=0&photo=0&field=0&pd=3&ds=2022.11.03&de=2022.11.03&docid=&related=0&mynews=0&office_type=0&office_section_code=0&news_office_checked=&nso=so%3Ar%2Cp%3Afrom20221103to20221103&is_sug_officeid=0\n",
      "https://search.naver.com/search.naver?where=news&sm=tab_pge&query=%EC%BD%94%EC%8A%A4%ED%94%BC%20%EA%B2%BD%EC%A0%9C&sort=0&photo=0&field=0&pd=3&ds=2022.11.03&de=2022.11.03&cluster_rank=19&mynews=0&office_type=0&office_section_code=0&news_office_checked=&nso=so:r,p:from20221103to20221103,a:all&start=11\n",
      "https://search.naver.com/search.naver?where=news&sm=tab_pge&query=%EC%BD%94%EC%8A%A4%ED%94%BC%20%EA%B2%BD%EC%A0%9C&sort=0&photo=0&field=0&pd=3&ds=2022.11.03&de=2022.11.03&cluster_rank=29&mynews=0&office_type=0&office_section_code=0&news_office_checked=&nso=so:r,p:from20221103to20221103,a:all&start=21\n",
      "크롤링 준비\n"
     ]
    },
    {
     "name": "stderr",
     "output_type": "stream",
     "text": [
      "\n",
      "\n",
      "preprocessing day:  10%|██████▏                                                         | 3/31 [00:22<03:34,  7.64s/it]\u001b[A\u001b[A"
     ]
    },
    {
     "name": "stdout",
     "output_type": "stream",
     "text": [
      "다음날짜로 선택시작\n",
      "다음 날짜 선택 후 크롤링 준비\n",
      "https://search.naver.com/search.naver?where=news&query=%EC%BD%94%EC%8A%A4%ED%94%BC%20%EA%B2%BD%EC%A0%9C&sm=tab_opt&sort=0&photo=0&field=0&pd=3&ds=2022.11.04&de=2022.11.04&docid=&related=0&mynews=0&office_type=0&office_section_code=0&news_office_checked=&nso=so%3Ar%2Cp%3Afrom20221104to20221104&is_sug_officeid=0\n",
      "https://search.naver.com/search.naver?where=news&sm=tab_pge&query=%EC%BD%94%EC%8A%A4%ED%94%BC%20%EA%B2%BD%EC%A0%9C&sort=0&photo=0&field=0&pd=3&ds=2022.11.04&de=2022.11.04&cluster_rank=17&mynews=0&office_type=0&office_section_code=0&news_office_checked=&nso=so:r,p:from20221104to20221104,a:all&start=11\n",
      "https://search.naver.com/search.naver?where=news&sm=tab_pge&query=%EC%BD%94%EC%8A%A4%ED%94%BC%20%EA%B2%BD%EC%A0%9C&sort=0&photo=0&field=0&pd=3&ds=2022.11.04&de=2022.11.04&cluster_rank=28&mynews=0&office_type=0&office_section_code=0&news_office_checked=&nso=so:r,p:from20221104to20221104,a:all&start=21\n",
      "크롤링 준비\n"
     ]
    },
    {
     "name": "stderr",
     "output_type": "stream",
     "text": [
      "\n",
      "\n",
      "preprocessing day:  13%|████████▎                                                       | 4/31 [00:30<03:23,  7.52s/it]\u001b[A\u001b[A"
     ]
    },
    {
     "name": "stdout",
     "output_type": "stream",
     "text": [
      "다음날짜로 선택시작\n",
      "다음 날짜 선택 후 크롤링 준비\n",
      "https://search.naver.com/search.naver?where=news&query=%EC%BD%94%EC%8A%A4%ED%94%BC%20%EA%B2%BD%EC%A0%9C&sm=tab_opt&sort=0&photo=0&field=0&pd=3&ds=2022.11.05&de=2022.11.05&docid=&related=0&mynews=0&office_type=0&office_section_code=0&news_office_checked=&nso=so%3Ar%2Cp%3Afrom20221105to20221105&is_sug_officeid=0\n",
      "https://search.naver.com/search.naver?where=news&query=%EC%BD%94%EC%8A%A4%ED%94%BC%20%EA%B2%BD%EC%A0%9C&sm=tab_opt&sort=0&photo=0&field=0&pd=3&ds=2022.11.05&de=2022.11.05&docid=&related=0&mynews=0&office_type=0&office_section_code=0&news_office_checked=&nso=so%3Ar%2Cp%3Afrom20221105to20221105&is_sug_officeid=0\n",
      "크롤링 준비\n"
     ]
    },
    {
     "name": "stderr",
     "output_type": "stream",
     "text": [
      "\n",
      "\n",
      "preprocessing day:  16%|██████████▎                                                     | 5/31 [00:36<03:04,  7.09s/it]\u001b[A\u001b[A"
     ]
    },
    {
     "name": "stdout",
     "output_type": "stream",
     "text": [
      "다음날짜로 선택시작\n",
      "다음 날짜 선택 후 크롤링 준비\n",
      "https://search.naver.com/search.naver?where=news&query=%EC%BD%94%EC%8A%A4%ED%94%BC%20%EA%B2%BD%EC%A0%9C&sm=tab_opt&sort=0&photo=0&field=0&pd=3&ds=2022.11.06&de=2022.11.06&docid=&related=0&mynews=0&office_type=0&office_section_code=0&news_office_checked=&nso=so%3Ar%2Cp%3Afrom20221106to20221106&is_sug_officeid=0\n",
      "https://search.naver.com/search.naver?where=news&sm=tab_pge&query=%EC%BD%94%EC%8A%A4%ED%94%BC%20%EA%B2%BD%EC%A0%9C&sort=0&photo=0&field=0&pd=3&ds=2022.11.06&de=2022.11.06&cluster_rank=10&mynews=0&office_type=0&office_section_code=0&news_office_checked=&nso=so:r,p:from20221106to20221106,a:all&start=11\n",
      "https://search.naver.com/search.naver?where=news&sm=tab_pge&query=%EC%BD%94%EC%8A%A4%ED%94%BC%20%EA%B2%BD%EC%A0%9C&sort=0&photo=0&field=0&pd=3&ds=2022.11.06&de=2022.11.06&cluster_rank=20&mynews=0&office_type=0&office_section_code=0&news_office_checked=&nso=so:r,p:from20221106to20221106,a:all&start=21\n",
      "크롤링 준비\n"
     ]
    },
    {
     "name": "stderr",
     "output_type": "stream",
     "text": [
      "\n",
      "\n",
      "preprocessing day:  19%|████████████▍                                                   | 6/31 [00:43<02:59,  7.17s/it]\u001b[A\u001b[A"
     ]
    },
    {
     "name": "stdout",
     "output_type": "stream",
     "text": [
      "다음날짜로 선택시작\n",
      "다음 날짜 선택 후 크롤링 준비\n",
      "https://search.naver.com/search.naver?where=news&query=%EC%BD%94%EC%8A%A4%ED%94%BC%20%EA%B2%BD%EC%A0%9C&sm=tab_opt&sort=0&photo=0&field=0&pd=3&ds=2022.11.07&de=2022.11.07&docid=&related=0&mynews=0&office_type=0&office_section_code=0&news_office_checked=&nso=so%3Ar%2Cp%3Afrom20221107to20221107&is_sug_officeid=0\n",
      "https://search.naver.com/search.naver?where=news&sm=tab_pge&query=%EC%BD%94%EC%8A%A4%ED%94%BC%20%EA%B2%BD%EC%A0%9C&sort=0&photo=0&field=0&pd=3&ds=2022.11.07&de=2022.11.07&cluster_rank=14&mynews=0&office_type=0&office_section_code=0&news_office_checked=&nso=so:r,p:from20221107to20221107,a:all&start=11\n",
      "https://search.naver.com/search.naver?where=news&sm=tab_pge&query=%EC%BD%94%EC%8A%A4%ED%94%BC%20%EA%B2%BD%EC%A0%9C&sort=0&photo=0&field=0&pd=3&ds=2022.11.07&de=2022.11.07&cluster_rank=24&mynews=0&office_type=0&office_section_code=0&news_office_checked=&nso=so:r,p:from20221107to20221107,a:all&start=21\n",
      "크롤링 준비\n"
     ]
    },
    {
     "name": "stderr",
     "output_type": "stream",
     "text": [
      "\n",
      "\n",
      "preprocessing day:  23%|██████████████▍                                                 | 7/31 [00:51<02:53,  7.21s/it]\u001b[A\u001b[A"
     ]
    },
    {
     "name": "stdout",
     "output_type": "stream",
     "text": [
      "다음날짜로 선택시작\n",
      "다음 날짜 선택 후 크롤링 준비\n",
      "https://search.naver.com/search.naver?where=news&query=%EC%BD%94%EC%8A%A4%ED%94%BC%20%EA%B2%BD%EC%A0%9C&sm=tab_opt&sort=0&photo=0&field=0&pd=3&ds=2022.11.08&de=2022.11.08&docid=&related=0&mynews=0&office_type=0&office_section_code=0&news_office_checked=&nso=so%3Ar%2Cp%3Afrom20221108to20221108&is_sug_officeid=0\n",
      "https://search.naver.com/search.naver?where=news&sm=tab_pge&query=%EC%BD%94%EC%8A%A4%ED%94%BC%20%EA%B2%BD%EC%A0%9C&sort=0&photo=0&field=0&pd=3&ds=2022.11.08&de=2022.11.08&cluster_rank=11&mynews=0&office_type=0&office_section_code=0&news_office_checked=&nso=so:r,p:from20221108to20221108,a:all&start=11\n",
      "https://search.naver.com/search.naver?where=news&sm=tab_pge&query=%EC%BD%94%EC%8A%A4%ED%94%BC%20%EA%B2%BD%EC%A0%9C&sort=0&photo=0&field=0&pd=3&ds=2022.11.08&de=2022.11.08&cluster_rank=27&mynews=0&office_type=0&office_section_code=0&news_office_checked=&nso=so:r,p:from20221108to20221108,a:all&start=21\n",
      "크롤링 준비\n"
     ]
    },
    {
     "name": "stderr",
     "output_type": "stream",
     "text": [
      "\n",
      "\n",
      "preprocessing day:  26%|████████████████▌                                               | 8/31 [00:58<02:45,  7.20s/it]\u001b[A\u001b[A"
     ]
    },
    {
     "name": "stdout",
     "output_type": "stream",
     "text": [
      "다음날짜로 선택시작\n",
      "다음 날짜 선택 후 크롤링 준비\n",
      "https://search.naver.com/search.naver?where=news&query=%EC%BD%94%EC%8A%A4%ED%94%BC%20%EA%B2%BD%EC%A0%9C&sm=tab_opt&sort=0&photo=0&field=0&pd=3&ds=2022.11.09&de=2022.11.09&docid=&related=0&mynews=0&office_type=0&office_section_code=0&news_office_checked=&nso=so%3Ar%2Cp%3Afrom20221109to20221109&is_sug_officeid=0\n",
      "https://search.naver.com/search.naver?where=news&sm=tab_pge&query=%EC%BD%94%EC%8A%A4%ED%94%BC%20%EA%B2%BD%EC%A0%9C&sort=0&photo=0&field=0&pd=3&ds=2022.11.09&de=2022.11.09&cluster_rank=10&mynews=0&office_type=0&office_section_code=0&news_office_checked=&nso=so:r,p:from20221109to20221109,a:all&start=11\n",
      "https://search.naver.com/search.naver?where=news&sm=tab_pge&query=%EC%BD%94%EC%8A%A4%ED%94%BC%20%EA%B2%BD%EC%A0%9C&sort=0&photo=0&field=0&pd=3&ds=2022.11.09&de=2022.11.09&cluster_rank=20&mynews=0&office_type=0&office_section_code=0&news_office_checked=&nso=so:r,p:from20221109to20221109,a:all&start=21\n",
      "크롤링 준비\n"
     ]
    },
    {
     "name": "stderr",
     "output_type": "stream",
     "text": [
      "\n",
      "\n",
      "preprocessing day:  29%|██████████████████▌                                             | 9/31 [01:05<02:39,  7.23s/it]\u001b[A\u001b[A"
     ]
    },
    {
     "name": "stdout",
     "output_type": "stream",
     "text": [
      "다음날짜로 선택시작\n",
      "다음 날짜 선택 후 크롤링 준비\n",
      "https://search.naver.com/search.naver?where=news&query=%EC%BD%94%EC%8A%A4%ED%94%BC%20%EA%B2%BD%EC%A0%9C&sm=tab_opt&sort=0&photo=0&field=0&pd=3&ds=2022.11.10&de=2022.11.10&docid=&related=0&mynews=0&office_type=0&office_section_code=0&news_office_checked=&nso=so%3Ar%2Cp%3Afrom20221110to20221110&is_sug_officeid=0\n",
      "https://search.naver.com/search.naver?where=news&sm=tab_pge&query=%EC%BD%94%EC%8A%A4%ED%94%BC%20%EA%B2%BD%EC%A0%9C&sort=0&photo=0&field=0&pd=3&ds=2022.11.10&de=2022.11.10&cluster_rank=10&mynews=0&office_type=0&office_section_code=0&news_office_checked=&nso=so:r,p:from20221110to20221110,a:all&start=11\n",
      "https://search.naver.com/search.naver?where=news&sm=tab_pge&query=%EC%BD%94%EC%8A%A4%ED%94%BC%20%EA%B2%BD%EC%A0%9C&sort=0&photo=0&field=0&pd=3&ds=2022.11.10&de=2022.11.10&cluster_rank=20&mynews=0&office_type=0&office_section_code=0&news_office_checked=&nso=so:r,p:from20221110to20221110,a:all&start=21\n",
      "크롤링 준비\n"
     ]
    },
    {
     "name": "stderr",
     "output_type": "stream",
     "text": [
      "\n",
      "\n",
      "preprocessing day:  32%|████████████████████▎                                          | 10/31 [01:13<02:33,  7.30s/it]\u001b[A\u001b[A"
     ]
    },
    {
     "name": "stdout",
     "output_type": "stream",
     "text": [
      "다음날짜로 선택시작\n",
      "다음 날짜 선택 후 크롤링 준비\n",
      "https://search.naver.com/search.naver?where=news&query=%EC%BD%94%EC%8A%A4%ED%94%BC%20%EA%B2%BD%EC%A0%9C&sm=tab_opt&sort=0&photo=0&field=0&pd=3&ds=2022.11.11&de=2022.11.11&docid=&related=0&mynews=0&office_type=0&office_section_code=0&news_office_checked=&nso=so%3Ar%2Cp%3Afrom20221111to20221111&is_sug_officeid=0\n",
      "https://search.naver.com/search.naver?where=news&sm=tab_pge&query=%EC%BD%94%EC%8A%A4%ED%94%BC%20%EA%B2%BD%EC%A0%9C&sort=0&photo=0&field=0&pd=3&ds=2022.11.11&de=2022.11.11&cluster_rank=15&mynews=0&office_type=0&office_section_code=0&news_office_checked=&nso=so:r,p:from20221111to20221111,a:all&start=11\n",
      "https://search.naver.com/search.naver?where=news&sm=tab_pge&query=%EC%BD%94%EC%8A%A4%ED%94%BC%20%EA%B2%BD%EC%A0%9C&sort=0&photo=0&field=0&pd=3&ds=2022.11.11&de=2022.11.11&cluster_rank=25&mynews=0&office_type=0&office_section_code=0&news_office_checked=&nso=so:r,p:from20221111to20221111,a:all&start=21\n",
      "크롤링 준비\n"
     ]
    },
    {
     "name": "stderr",
     "output_type": "stream",
     "text": [
      "\n",
      "\n",
      "preprocessing day:  35%|██████████████████████▎                                        | 11/31 [01:20<02:27,  7.39s/it]\u001b[A\u001b[A"
     ]
    },
    {
     "name": "stdout",
     "output_type": "stream",
     "text": [
      "다음날짜로 선택시작\n",
      "다음 날짜 선택 후 크롤링 준비\n",
      "https://search.naver.com/search.naver?where=news&query=%EC%BD%94%EC%8A%A4%ED%94%BC%20%EA%B2%BD%EC%A0%9C&sm=tab_opt&sort=0&photo=0&field=0&pd=3&ds=2022.11.12&de=2022.11.12&docid=&related=0&mynews=0&office_type=0&office_section_code=0&news_office_checked=&nso=so%3Ar%2Cp%3Afrom20221112to20221112&is_sug_officeid=0\n",
      "https://search.naver.com/search.naver?where=news&sm=tab_pge&query=%EC%BD%94%EC%8A%A4%ED%94%BC%20%EA%B2%BD%EC%A0%9C&sort=0&photo=0&field=0&pd=3&ds=2022.11.12&de=2022.11.12&cluster_rank=10&mynews=0&office_type=0&office_section_code=0&news_office_checked=&nso=so:r,p:from20221112to20221112,a:all&start=11\n",
      "https://search.naver.com/search.naver?where=news&sm=tab_pge&query=%EC%BD%94%EC%8A%A4%ED%94%BC%20%EA%B2%BD%EC%A0%9C&sort=0&photo=0&field=0&pd=3&ds=2022.11.12&de=2022.11.12&cluster_rank=10&mynews=0&office_type=0&office_section_code=0&news_office_checked=&nso=so:r,p:from20221112to20221112,a:all&start=11\n",
      "크롤링 준비\n"
     ]
    },
    {
     "name": "stderr",
     "output_type": "stream",
     "text": [
      "\n",
      "\n",
      "preprocessing day:  39%|████████████████████████▍                                      | 12/31 [01:27<02:17,  7.24s/it]\u001b[A\u001b[A"
     ]
    },
    {
     "name": "stdout",
     "output_type": "stream",
     "text": [
      "다음날짜로 선택시작\n",
      "다음 날짜 선택 후 크롤링 준비\n",
      "https://search.naver.com/search.naver?where=news&query=%EC%BD%94%EC%8A%A4%ED%94%BC%20%EA%B2%BD%EC%A0%9C&sm=tab_opt&sort=0&photo=0&field=0&pd=3&ds=2022.11.13&de=2022.11.13&docid=&related=0&mynews=0&office_type=0&office_section_code=0&news_office_checked=&nso=so%3Ar%2Cp%3Afrom20221113to20221113&is_sug_officeid=0\n",
      "https://search.naver.com/search.naver?where=news&sm=tab_pge&query=%EC%BD%94%EC%8A%A4%ED%94%BC%20%EA%B2%BD%EC%A0%9C&sort=0&photo=0&field=0&pd=3&ds=2022.11.13&de=2022.11.13&cluster_rank=15&mynews=0&office_type=0&office_section_code=0&news_office_checked=&nso=so:r,p:from20221113to20221113,a:all&start=11\n",
      "https://search.naver.com/search.naver?where=news&sm=tab_pge&query=%EC%BD%94%EC%8A%A4%ED%94%BC%20%EA%B2%BD%EC%A0%9C&sort=0&photo=0&field=0&pd=3&ds=2022.11.13&de=2022.11.13&cluster_rank=27&mynews=0&office_type=0&office_section_code=0&news_office_checked=&nso=so:r,p:from20221113to20221113,a:all&start=21\n",
      "크롤링 준비\n"
     ]
    },
    {
     "name": "stderr",
     "output_type": "stream",
     "text": [
      "\n",
      "\n",
      "preprocessing day:  42%|██████████████████████████▍                                    | 13/31 [01:34<02:10,  7.26s/it]\u001b[A\u001b[A"
     ]
    },
    {
     "name": "stdout",
     "output_type": "stream",
     "text": [
      "다음날짜로 선택시작\n",
      "다음 날짜 선택 후 크롤링 준비\n",
      "https://search.naver.com/search.naver?where=news&query=%EC%BD%94%EC%8A%A4%ED%94%BC%20%EA%B2%BD%EC%A0%9C&sm=tab_opt&sort=0&photo=0&field=0&pd=3&ds=2022.11.14&de=2022.11.14&docid=&related=0&mynews=0&office_type=0&office_section_code=0&news_office_checked=&nso=so%3Ar%2Cp%3Afrom20221114to20221114&is_sug_officeid=0\n",
      "https://search.naver.com/search.naver?where=news&sm=tab_pge&query=%EC%BD%94%EC%8A%A4%ED%94%BC%20%EA%B2%BD%EC%A0%9C&sort=0&photo=0&field=0&pd=3&ds=2022.11.14&de=2022.11.14&cluster_rank=11&mynews=0&office_type=0&office_section_code=0&news_office_checked=&nso=so:r,p:from20221114to20221114,a:all&start=11\n",
      "https://search.naver.com/search.naver?where=news&sm=tab_pge&query=%EC%BD%94%EC%8A%A4%ED%94%BC%20%EA%B2%BD%EC%A0%9C&sort=0&photo=0&field=0&pd=3&ds=2022.11.14&de=2022.11.14&cluster_rank=22&mynews=0&office_type=0&office_section_code=0&news_office_checked=&nso=so:r,p:from20221114to20221114,a:all&start=21\n",
      "크롤링 준비\n"
     ]
    },
    {
     "name": "stderr",
     "output_type": "stream",
     "text": [
      "\n",
      "\n",
      "preprocessing day:  45%|████████████████████████████▍                                  | 14/31 [01:42<02:04,  7.33s/it]\u001b[A\u001b[A"
     ]
    },
    {
     "name": "stdout",
     "output_type": "stream",
     "text": [
      "다음날짜로 선택시작\n",
      "다음 날짜 선택 후 크롤링 준비\n",
      "https://search.naver.com/search.naver?where=news&query=%EC%BD%94%EC%8A%A4%ED%94%BC%20%EA%B2%BD%EC%A0%9C&sm=tab_opt&sort=0&photo=0&field=0&pd=3&ds=2022.11.15&de=2022.11.15&docid=&related=0&mynews=0&office_type=0&office_section_code=0&news_office_checked=&nso=so%3Ar%2Cp%3Afrom20221115to20221115&is_sug_officeid=0\n",
      "https://search.naver.com/search.naver?where=news&sm=tab_pge&query=%EC%BD%94%EC%8A%A4%ED%94%BC%20%EA%B2%BD%EC%A0%9C&sort=0&photo=0&field=0&pd=3&ds=2022.11.15&de=2022.11.15&cluster_rank=11&mynews=0&office_type=0&office_section_code=0&news_office_checked=&nso=so:r,p:from20221115to20221115,a:all&start=11\n",
      "https://search.naver.com/search.naver?where=news&sm=tab_pge&query=%EC%BD%94%EC%8A%A4%ED%94%BC%20%EA%B2%BD%EC%A0%9C&sort=0&photo=0&field=0&pd=3&ds=2022.11.15&de=2022.11.15&cluster_rank=23&mynews=0&office_type=0&office_section_code=0&news_office_checked=&nso=so:r,p:from20221115to20221115,a:all&start=21\n",
      "크롤링 준비\n"
     ]
    },
    {
     "name": "stderr",
     "output_type": "stream",
     "text": [
      "\n",
      "\n",
      "preprocessing day:  48%|██████████████████████████████▍                                | 15/31 [01:49<01:55,  7.24s/it]\u001b[A\u001b[A"
     ]
    },
    {
     "name": "stdout",
     "output_type": "stream",
     "text": [
      "다음날짜로 선택시작\n",
      "다음 날짜 선택 후 크롤링 준비\n",
      "https://search.naver.com/search.naver?where=news&query=%EC%BD%94%EC%8A%A4%ED%94%BC%20%EA%B2%BD%EC%A0%9C&sm=tab_opt&sort=0&photo=0&field=0&pd=3&ds=2022.11.16&de=2022.11.16&docid=&related=0&mynews=0&office_type=0&office_section_code=0&news_office_checked=&nso=so%3Ar%2Cp%3Afrom20221116to20221116&is_sug_officeid=0\n",
      "https://search.naver.com/search.naver?where=news&sm=tab_pge&query=%EC%BD%94%EC%8A%A4%ED%94%BC%20%EA%B2%BD%EC%A0%9C&sort=0&photo=0&field=0&pd=3&ds=2022.11.16&de=2022.11.16&cluster_rank=17&mynews=0&office_type=0&office_section_code=0&news_office_checked=&nso=so:r,p:from20221116to20221116,a:all&start=11\n",
      "https://search.naver.com/search.naver?where=news&sm=tab_pge&query=%EC%BD%94%EC%8A%A4%ED%94%BC%20%EA%B2%BD%EC%A0%9C&sort=0&photo=0&field=0&pd=3&ds=2022.11.16&de=2022.11.16&cluster_rank=27&mynews=0&office_type=0&office_section_code=0&news_office_checked=&nso=so:r,p:from20221116to20221116,a:all&start=21\n",
      "크롤링 준비\n"
     ]
    },
    {
     "name": "stderr",
     "output_type": "stream",
     "text": [
      "\n",
      "\n",
      "preprocessing day:  52%|████████████████████████████████▌                              | 16/31 [01:57<01:49,  7.33s/it]\u001b[A\u001b[A"
     ]
    },
    {
     "name": "stdout",
     "output_type": "stream",
     "text": [
      "다음날짜로 선택시작\n",
      "다음 날짜 선택 후 크롤링 준비\n",
      "https://search.naver.com/search.naver?where=news&query=%EC%BD%94%EC%8A%A4%ED%94%BC%20%EA%B2%BD%EC%A0%9C&sm=tab_opt&sort=0&photo=0&field=0&pd=3&ds=2022.11.17&de=2022.11.17&docid=&related=0&mynews=0&office_type=0&office_section_code=0&news_office_checked=&nso=so%3Ar%2Cp%3Afrom20221117to20221117&is_sug_officeid=0\n",
      "https://search.naver.com/search.naver?where=news&sm=tab_pge&query=%EC%BD%94%EC%8A%A4%ED%94%BC%20%EA%B2%BD%EC%A0%9C&sort=0&photo=0&field=0&pd=3&ds=2022.11.17&de=2022.11.17&cluster_rank=11&mynews=0&office_type=0&office_section_code=0&news_office_checked=&nso=so:r,p:from20221117to20221117,a:all&start=11\n",
      "https://search.naver.com/search.naver?where=news&sm=tab_pge&query=%EC%BD%94%EC%8A%A4%ED%94%BC%20%EA%B2%BD%EC%A0%9C&sort=0&photo=0&field=0&pd=3&ds=2022.11.17&de=2022.11.17&cluster_rank=22&mynews=0&office_type=0&office_section_code=0&news_office_checked=&nso=so:r,p:from20221117to20221117,a:all&start=21\n",
      "크롤링 준비\n"
     ]
    },
    {
     "name": "stderr",
     "output_type": "stream",
     "text": [
      "\n",
      "\n",
      "preprocessing day:  55%|██████████████████████████████████▌                            | 17/31 [02:04<01:43,  7.38s/it]\u001b[A\u001b[A"
     ]
    },
    {
     "name": "stdout",
     "output_type": "stream",
     "text": [
      "다음날짜로 선택시작\n",
      "다음 날짜 선택 후 크롤링 준비\n",
      "https://search.naver.com/search.naver?where=news&query=%EC%BD%94%EC%8A%A4%ED%94%BC%20%EA%B2%BD%EC%A0%9C&sm=tab_opt&sort=0&photo=0&field=0&pd=3&ds=2022.11.18&de=2022.11.18&docid=&related=0&mynews=0&office_type=0&office_section_code=0&news_office_checked=&nso=so%3Ar%2Cp%3Afrom20221118to20221118&is_sug_officeid=0\n",
      "https://search.naver.com/search.naver?where=news&sm=tab_pge&query=%EC%BD%94%EC%8A%A4%ED%94%BC%20%EA%B2%BD%EC%A0%9C&sort=0&photo=0&field=0&pd=3&ds=2022.11.18&de=2022.11.18&cluster_rank=13&mynews=0&office_type=0&office_section_code=0&news_office_checked=&nso=so:r,p:from20221118to20221118,a:all&start=11\n",
      "https://search.naver.com/search.naver?where=news&sm=tab_pge&query=%EC%BD%94%EC%8A%A4%ED%94%BC%20%EA%B2%BD%EC%A0%9C&sort=0&photo=0&field=0&pd=3&ds=2022.11.18&de=2022.11.18&cluster_rank=25&mynews=0&office_type=0&office_section_code=0&news_office_checked=&nso=so:r,p:from20221118to20221118,a:all&start=21\n",
      "크롤링 준비\n"
     ]
    },
    {
     "name": "stderr",
     "output_type": "stream",
     "text": [
      "\n",
      "\n",
      "preprocessing day:  58%|████████████████████████████████████▌                          | 18/31 [02:12<01:36,  7.42s/it]\u001b[A\u001b[A"
     ]
    },
    {
     "name": "stdout",
     "output_type": "stream",
     "text": [
      "다음날짜로 선택시작\n",
      "다음 날짜 선택 후 크롤링 준비\n",
      "https://search.naver.com/search.naver?where=news&query=%EC%BD%94%EC%8A%A4%ED%94%BC%20%EA%B2%BD%EC%A0%9C&sm=tab_opt&sort=0&photo=0&field=0&pd=3&ds=2022.11.19&de=2022.11.19&docid=&related=0&mynews=0&office_type=0&office_section_code=0&news_office_checked=&nso=so%3Ar%2Cp%3Afrom20221119to20221119&is_sug_officeid=0\n",
      "https://search.naver.com/search.naver?where=news&query=%EC%BD%94%EC%8A%A4%ED%94%BC%20%EA%B2%BD%EC%A0%9C&sm=tab_opt&sort=0&photo=0&field=0&pd=3&ds=2022.11.19&de=2022.11.19&docid=&related=0&mynews=0&office_type=0&office_section_code=0&news_office_checked=&nso=so%3Ar%2Cp%3Afrom20221119to20221119&is_sug_officeid=0\n",
      "크롤링 준비\n"
     ]
    },
    {
     "name": "stderr",
     "output_type": "stream",
     "text": [
      "\n",
      "\n",
      "preprocessing day:  61%|██████████████████████████████████████▌                        | 19/31 [02:18<01:25,  7.16s/it]\u001b[A\u001b[A"
     ]
    },
    {
     "name": "stdout",
     "output_type": "stream",
     "text": [
      "다음날짜로 선택시작\n",
      "다음 날짜 선택 후 크롤링 준비\n",
      "https://search.naver.com/search.naver?where=news&query=%EC%BD%94%EC%8A%A4%ED%94%BC%20%EA%B2%BD%EC%A0%9C&sm=tab_opt&sort=0&photo=0&field=0&pd=3&ds=2022.11.20&de=2022.11.20&docid=&related=0&mynews=0&office_type=0&office_section_code=0&news_office_checked=&nso=so%3Ar%2Cp%3Afrom20221120to20221120&is_sug_officeid=0\n",
      "https://search.naver.com/search.naver?where=news&sm=tab_pge&query=%EC%BD%94%EC%8A%A4%ED%94%BC%20%EA%B2%BD%EC%A0%9C&sort=0&photo=0&field=0&pd=3&ds=2022.11.20&de=2022.11.20&cluster_rank=12&mynews=0&office_type=0&office_section_code=0&news_office_checked=&nso=so:r,p:from20221120to20221120,a:all&start=11\n",
      "https://search.naver.com/search.naver?where=news&sm=tab_pge&query=%EC%BD%94%EC%8A%A4%ED%94%BC%20%EA%B2%BD%EC%A0%9C&sort=0&photo=0&field=0&pd=3&ds=2022.11.20&de=2022.11.20&cluster_rank=22&mynews=0&office_type=0&office_section_code=0&news_office_checked=&nso=so:r,p:from20221120to20221120,a:all&start=21\n",
      "크롤링 준비\n"
     ]
    },
    {
     "name": "stderr",
     "output_type": "stream",
     "text": [
      "\n",
      "\n",
      "preprocessing day:  65%|████████████████████████████████████████▋                      | 20/31 [02:25<01:19,  7.20s/it]\u001b[A\u001b[A"
     ]
    },
    {
     "name": "stdout",
     "output_type": "stream",
     "text": [
      "다음날짜로 선택시작\n",
      "다음 날짜 선택 후 크롤링 준비\n",
      "https://search.naver.com/search.naver?where=news&query=%EC%BD%94%EC%8A%A4%ED%94%BC%20%EA%B2%BD%EC%A0%9C&sm=tab_opt&sort=0&photo=0&field=0&pd=3&ds=2022.11.21&de=2022.11.21&docid=&related=0&mynews=0&office_type=0&office_section_code=0&news_office_checked=&nso=so%3Ar%2Cp%3Afrom20221121to20221121&is_sug_officeid=0\n",
      "https://search.naver.com/search.naver?where=news&sm=tab_pge&query=%EC%BD%94%EC%8A%A4%ED%94%BC%20%EA%B2%BD%EC%A0%9C&sort=0&photo=0&field=0&pd=3&ds=2022.11.21&de=2022.11.21&cluster_rank=11&mynews=0&office_type=0&office_section_code=0&news_office_checked=&nso=so:r,p:from20221121to20221121,a:all&start=11\n",
      "https://search.naver.com/search.naver?where=news&sm=tab_pge&query=%EC%BD%94%EC%8A%A4%ED%94%BC%20%EA%B2%BD%EC%A0%9C&sort=0&photo=0&field=0&pd=3&ds=2022.11.21&de=2022.11.21&cluster_rank=21&mynews=0&office_type=0&office_section_code=0&news_office_checked=&nso=so:r,p:from20221121to20221121,a:all&start=21\n",
      "크롤링 준비\n"
     ]
    },
    {
     "name": "stderr",
     "output_type": "stream",
     "text": [
      "\n",
      "\n",
      "preprocessing day:  68%|██████████████████████████████████████████▋                    | 21/31 [02:33<01:13,  7.38s/it]\u001b[A\u001b[A"
     ]
    },
    {
     "name": "stdout",
     "output_type": "stream",
     "text": [
      "다음날짜로 선택시작\n",
      "다음 날짜 선택 후 크롤링 준비\n",
      "https://search.naver.com/search.naver?where=news&query=%EC%BD%94%EC%8A%A4%ED%94%BC%20%EA%B2%BD%EC%A0%9C&sm=tab_opt&sort=0&photo=0&field=0&pd=3&ds=2022.11.22&de=2022.11.22&docid=&related=0&mynews=0&office_type=0&office_section_code=0&news_office_checked=&nso=so%3Ar%2Cp%3Afrom20221122to20221122&is_sug_officeid=0\n",
      "https://search.naver.com/search.naver?where=news&sm=tab_pge&query=%EC%BD%94%EC%8A%A4%ED%94%BC%20%EA%B2%BD%EC%A0%9C&sort=0&photo=0&field=0&pd=3&ds=2022.11.22&de=2022.11.22&cluster_rank=11&mynews=0&office_type=0&office_section_code=0&news_office_checked=&nso=so:r,p:from20221122to20221122,a:all&start=11\n",
      "https://search.naver.com/search.naver?where=news&sm=tab_pge&query=%EC%BD%94%EC%8A%A4%ED%94%BC%20%EA%B2%BD%EC%A0%9C&sort=0&photo=0&field=0&pd=3&ds=2022.11.22&de=2022.11.22&cluster_rank=21&mynews=0&office_type=0&office_section_code=0&news_office_checked=&nso=so:r,p:from20221122to20221122,a:all&start=21\n",
      "크롤링 준비\n"
     ]
    },
    {
     "name": "stderr",
     "output_type": "stream",
     "text": [
      "\n",
      "\n",
      "preprocessing day:  71%|████████████████████████████████████████████▋                  | 22/31 [02:41<01:06,  7.44s/it]\u001b[A\u001b[A"
     ]
    },
    {
     "name": "stdout",
     "output_type": "stream",
     "text": [
      "다음날짜로 선택시작\n",
      "다음 날짜 선택 후 크롤링 준비\n",
      "https://search.naver.com/search.naver?where=news&query=%EC%BD%94%EC%8A%A4%ED%94%BC%20%EA%B2%BD%EC%A0%9C&sm=tab_opt&sort=0&photo=0&field=0&pd=3&ds=2022.11.23&de=2022.11.23&docid=&related=0&mynews=0&office_type=0&office_section_code=0&news_office_checked=&nso=so%3Ar%2Cp%3Afrom20221123to20221123&is_sug_officeid=0\n",
      "https://search.naver.com/search.naver?where=news&sm=tab_pge&query=%EC%BD%94%EC%8A%A4%ED%94%BC%20%EA%B2%BD%EC%A0%9C&sort=0&photo=0&field=0&pd=3&ds=2022.11.23&de=2022.11.23&cluster_rank=10&mynews=0&office_type=0&office_section_code=0&news_office_checked=&nso=so:r,p:from20221123to20221123,a:all&start=11\n",
      "https://search.naver.com/search.naver?where=news&sm=tab_pge&query=%EC%BD%94%EC%8A%A4%ED%94%BC%20%EA%B2%BD%EC%A0%9C&sort=0&photo=0&field=0&pd=3&ds=2022.11.23&de=2022.11.23&cluster_rank=24&mynews=0&office_type=0&office_section_code=0&news_office_checked=&nso=so:r,p:from20221123to20221123,a:all&start=21\n",
      "크롤링 준비\n"
     ]
    },
    {
     "name": "stderr",
     "output_type": "stream",
     "text": [
      "\n",
      "\n",
      "preprocessing day:  74%|██████████████████████████████████████████████▋                | 23/31 [02:48<00:58,  7.37s/it]\u001b[A\u001b[A"
     ]
    },
    {
     "name": "stdout",
     "output_type": "stream",
     "text": [
      "다음날짜로 선택시작\n",
      "다음 날짜 선택 후 크롤링 준비\n",
      "https://search.naver.com/search.naver?where=news&query=%EC%BD%94%EC%8A%A4%ED%94%BC%20%EA%B2%BD%EC%A0%9C&sm=tab_opt&sort=0&photo=0&field=0&pd=3&ds=2022.11.24&de=2022.11.24&docid=&related=0&mynews=0&office_type=0&office_section_code=0&news_office_checked=&nso=so%3Ar%2Cp%3Afrom20221124to20221124&is_sug_officeid=0\n",
      "https://search.naver.com/search.naver?where=news&sm=tab_pge&query=%EC%BD%94%EC%8A%A4%ED%94%BC%20%EA%B2%BD%EC%A0%9C&sort=0&photo=0&field=0&pd=3&ds=2022.11.24&de=2022.11.24&cluster_rank=24&mynews=0&office_type=0&office_section_code=0&news_office_checked=&nso=so:r,p:from20221124to20221124,a:all&start=11\n",
      "https://search.naver.com/search.naver?where=news&sm=tab_pge&query=%EC%BD%94%EC%8A%A4%ED%94%BC%20%EA%B2%BD%EC%A0%9C&sort=0&photo=0&field=0&pd=3&ds=2022.11.24&de=2022.11.24&cluster_rank=35&mynews=0&office_type=0&office_section_code=0&news_office_checked=&nso=so:r,p:from20221124to20221124,a:all&start=21\n",
      "크롤링 준비\n"
     ]
    },
    {
     "name": "stderr",
     "output_type": "stream",
     "text": [
      "\n",
      "\n",
      "preprocessing day:  77%|████████████████████████████████████████████████▊              | 24/31 [02:55<00:51,  7.32s/it]\u001b[A\u001b[A"
     ]
    },
    {
     "name": "stdout",
     "output_type": "stream",
     "text": [
      "다음날짜로 선택시작\n",
      "다음 날짜 선택 후 크롤링 준비\n",
      "https://search.naver.com/search.naver?where=news&query=%EC%BD%94%EC%8A%A4%ED%94%BC%20%EA%B2%BD%EC%A0%9C&sm=tab_opt&sort=0&photo=0&field=0&pd=3&ds=2022.11.25&de=2022.11.25&docid=&related=0&mynews=0&office_type=0&office_section_code=0&news_office_checked=&nso=so%3Ar%2Cp%3Afrom20221125to20221125&is_sug_officeid=0\n",
      "https://search.naver.com/search.naver?where=news&sm=tab_pge&query=%EC%BD%94%EC%8A%A4%ED%94%BC%20%EA%B2%BD%EC%A0%9C&sort=0&photo=0&field=0&pd=3&ds=2022.11.25&de=2022.11.25&cluster_rank=11&mynews=0&office_type=0&office_section_code=0&news_office_checked=&nso=so:r,p:from20221125to20221125,a:all&start=11\n",
      "https://search.naver.com/search.naver?where=news&sm=tab_pge&query=%EC%BD%94%EC%8A%A4%ED%94%BC%20%EA%B2%BD%EC%A0%9C&sort=0&photo=0&field=0&pd=3&ds=2022.11.25&de=2022.11.25&cluster_rank=26&mynews=0&office_type=0&office_section_code=0&news_office_checked=&nso=so:r,p:from20221125to20221125,a:all&start=21\n",
      "크롤링 준비\n"
     ]
    },
    {
     "name": "stderr",
     "output_type": "stream",
     "text": [
      "\n",
      "\n",
      "preprocessing day:  81%|██████████████████████████████████████████████████▊            | 25/31 [03:02<00:43,  7.28s/it]\u001b[A\u001b[A"
     ]
    },
    {
     "name": "stdout",
     "output_type": "stream",
     "text": [
      "다음날짜로 선택시작\n",
      "다음 날짜 선택 후 크롤링 준비\n",
      "https://search.naver.com/search.naver?where=news&query=%EC%BD%94%EC%8A%A4%ED%94%BC%20%EA%B2%BD%EC%A0%9C&sm=tab_opt&sort=0&photo=0&field=0&pd=3&ds=2022.11.26&de=2022.11.26&docid=&related=0&mynews=0&office_type=0&office_section_code=0&news_office_checked=&nso=so%3Ar%2Cp%3Afrom20221126to20221126&is_sug_officeid=0\n",
      "https://search.naver.com/search.naver?where=news&sm=tab_pge&query=%EC%BD%94%EC%8A%A4%ED%94%BC%20%EA%B2%BD%EC%A0%9C&sort=0&photo=0&field=0&pd=3&ds=2022.11.26&de=2022.11.26&cluster_rank=10&mynews=0&office_type=0&office_section_code=0&news_office_checked=&nso=so:r,p:from20221126to20221126,a:all&start=11\n",
      "https://search.naver.com/search.naver?where=news&sm=tab_pge&query=%EC%BD%94%EC%8A%A4%ED%94%BC%20%EA%B2%BD%EC%A0%9C&sort=0&photo=0&field=0&pd=3&ds=2022.11.26&de=2022.11.26&cluster_rank=10&mynews=0&office_type=0&office_section_code=0&news_office_checked=&nso=so:r,p:from20221126to20221126,a:all&start=11\n",
      "크롤링 준비\n"
     ]
    },
    {
     "name": "stderr",
     "output_type": "stream",
     "text": [
      "\n",
      "\n",
      "preprocessing day:  84%|████████████████████████████████████████████████████▊          | 26/31 [03:09<00:35,  7.11s/it]\u001b[A\u001b[A"
     ]
    },
    {
     "name": "stdout",
     "output_type": "stream",
     "text": [
      "다음날짜로 선택시작\n",
      "다음 날짜 선택 후 크롤링 준비\n",
      "https://search.naver.com/search.naver?where=news&query=%EC%BD%94%EC%8A%A4%ED%94%BC%20%EA%B2%BD%EC%A0%9C&sm=tab_opt&sort=0&photo=0&field=0&pd=3&ds=2022.11.27&de=2022.11.27&docid=&related=0&mynews=0&office_type=0&office_section_code=0&news_office_checked=&nso=so%3Ar%2Cp%3Afrom20221127to20221127&is_sug_officeid=0\n",
      "https://search.naver.com/search.naver?where=news&sm=tab_pge&query=%EC%BD%94%EC%8A%A4%ED%94%BC%20%EA%B2%BD%EC%A0%9C&sort=0&photo=0&field=0&pd=3&ds=2022.11.27&de=2022.11.27&cluster_rank=17&mynews=0&office_type=0&office_section_code=0&news_office_checked=&nso=so:r,p:from20221127to20221127,a:all&start=11\n",
      "https://search.naver.com/search.naver?where=news&sm=tab_pge&query=%EC%BD%94%EC%8A%A4%ED%94%BC%20%EA%B2%BD%EC%A0%9C&sort=0&photo=0&field=0&pd=3&ds=2022.11.27&de=2022.11.27&cluster_rank=32&mynews=0&office_type=0&office_section_code=0&news_office_checked=&nso=so:r,p:from20221127to20221127,a:all&start=21\n",
      "크롤링 준비\n"
     ]
    },
    {
     "name": "stderr",
     "output_type": "stream",
     "text": [
      "\n",
      "\n",
      "preprocessing day:  87%|██████████████████████████████████████████████████████▊        | 27/31 [03:16<00:28,  7.16s/it]\u001b[A\u001b[A"
     ]
    },
    {
     "name": "stdout",
     "output_type": "stream",
     "text": [
      "다음날짜로 선택시작\n",
      "다음 날짜 선택 후 크롤링 준비\n",
      "https://search.naver.com/search.naver?where=news&query=%EC%BD%94%EC%8A%A4%ED%94%BC%20%EA%B2%BD%EC%A0%9C&sm=tab_opt&sort=0&photo=0&field=0&pd=3&ds=2022.11.28&de=2022.11.28&docid=&related=0&mynews=0&office_type=0&office_section_code=0&news_office_checked=&nso=so%3Ar%2Cp%3Afrom20221128to20221128&is_sug_officeid=0\n",
      "https://search.naver.com/search.naver?where=news&sm=tab_pge&query=%EC%BD%94%EC%8A%A4%ED%94%BC%20%EA%B2%BD%EC%A0%9C&sort=0&photo=0&field=0&pd=3&ds=2022.11.28&de=2022.11.28&cluster_rank=13&mynews=0&office_type=0&office_section_code=0&news_office_checked=&nso=so:r,p:from20221128to20221128,a:all&start=11\n",
      "https://search.naver.com/search.naver?where=news&sm=tab_pge&query=%EC%BD%94%EC%8A%A4%ED%94%BC%20%EA%B2%BD%EC%A0%9C&sort=0&photo=0&field=0&pd=3&ds=2022.11.28&de=2022.11.28&cluster_rank=23&mynews=0&office_type=0&office_section_code=0&news_office_checked=&nso=so:r,p:from20221128to20221128,a:all&start=21\n",
      "크롤링 준비\n"
     ]
    },
    {
     "name": "stderr",
     "output_type": "stream",
     "text": [
      "\n",
      "\n",
      "preprocessing day:  90%|████████████████████████████████████████████████████████▉      | 28/31 [03:23<00:21,  7.12s/it]\u001b[A\u001b[A"
     ]
    },
    {
     "name": "stdout",
     "output_type": "stream",
     "text": [
      "다음날짜로 선택시작\n",
      "다음 날짜 선택 후 크롤링 준비\n",
      "https://search.naver.com/search.naver?where=news&query=%EC%BD%94%EC%8A%A4%ED%94%BC%20%EA%B2%BD%EC%A0%9C&sm=tab_opt&sort=0&photo=0&field=0&pd=3&ds=2022.11.29&de=2022.11.29&docid=&related=0&mynews=0&office_type=0&office_section_code=0&news_office_checked=&nso=so%3Ar%2Cp%3Afrom20221129to20221129&is_sug_officeid=0\n",
      "https://search.naver.com/search.naver?where=news&sm=tab_pge&query=%EC%BD%94%EC%8A%A4%ED%94%BC%20%EA%B2%BD%EC%A0%9C&sort=0&photo=0&field=0&pd=3&ds=2022.11.29&de=2022.11.29&cluster_rank=17&mynews=0&office_type=0&office_section_code=0&news_office_checked=&nso=so:r,p:from20221129to20221129,a:all&start=11\n",
      "https://search.naver.com/search.naver?where=news&sm=tab_pge&query=%EC%BD%94%EC%8A%A4%ED%94%BC%20%EA%B2%BD%EC%A0%9C&sort=0&photo=0&field=0&pd=3&ds=2022.11.29&de=2022.11.29&cluster_rank=28&mynews=0&office_type=0&office_section_code=0&news_office_checked=&nso=so:r,p:from20221129to20221129,a:all&start=21\n",
      "크롤링 준비\n"
     ]
    },
    {
     "name": "stderr",
     "output_type": "stream",
     "text": [
      "\n",
      "\n",
      "preprocessing day:  94%|██████████████████████████████████████████████████████████▉    | 29/31 [03:31<00:14,  7.17s/it]\u001b[A\u001b[A"
     ]
    },
    {
     "name": "stdout",
     "output_type": "stream",
     "text": [
      "다음날짜로 선택시작\n",
      "다음 날짜 선택 후 크롤링 준비\n",
      "https://search.naver.com/search.naver?where=news&query=%EC%BD%94%EC%8A%A4%ED%94%BC%20%EA%B2%BD%EC%A0%9C&sm=tab_opt&sort=0&photo=0&field=0&pd=3&ds=2022.11.30&de=2022.11.30&docid=&related=0&mynews=0&office_type=0&office_section_code=0&news_office_checked=&nso=so%3Ar%2Cp%3Afrom20221130to20221130&is_sug_officeid=0\n",
      "https://search.naver.com/search.naver?where=news&sm=tab_pge&query=%EC%BD%94%EC%8A%A4%ED%94%BC%20%EA%B2%BD%EC%A0%9C&sort=0&photo=0&field=0&pd=3&ds=2022.11.30&de=2022.11.30&cluster_rank=10&mynews=0&office_type=0&office_section_code=0&news_office_checked=&nso=so:r,p:from20221130to20221130,a:all&start=11\n",
      "https://search.naver.com/search.naver?where=news&sm=tab_pge&query=%EC%BD%94%EC%8A%A4%ED%94%BC%20%EA%B2%BD%EC%A0%9C&sort=0&photo=0&field=0&pd=3&ds=2022.11.30&de=2022.11.30&cluster_rank=20&mynews=0&office_type=0&office_section_code=0&news_office_checked=&nso=so:r,p:from20221130to20221130,a:all&start=21\n",
      "크롤링 준비\n"
     ]
    },
    {
     "name": "stderr",
     "output_type": "stream",
     "text": [
      "\n",
      "\n",
      "preprocessing day:  97%|████████████████████████████████████████████████████████████▉  | 30/31 [03:38<00:07,  7.12s/it]\u001b[A\u001b[A"
     ]
    },
    {
     "name": "stdout",
     "output_type": "stream",
     "text": [
      "다음날짜로 선택시작\n"
     ]
    },
    {
     "name": "stderr",
     "output_type": "stream",
     "text": [
      "\n",
      "\n",
      "preprocessing day: 100%|███████████████████████████████████████████████████████████████| 31/31 [03:39<00:00,  7.08s/it]\u001b[A\u001b[A\n",
      "\n",
      "preprocessing month:  92%|███████████████████████████████████████████████████████     | 11/12 [40:28<03:40, 220.50s/it]\u001b[A"
     ]
    },
    {
     "name": "stdout",
     "output_type": "stream",
     "text": [
      "An error occurred while crawling for 2022-11-31: Message: no such element: Unable to locate element: {\"method\":\"xpath\",\"selector\":\"/html/body/div[3]/div[2]/div/div[1]/div[1]/div[2]/ul/li[2]/div/div[3]/div[2]/div[3]/div/div/div/ul/li[31]\"}\n",
      "  (Session info: headless chrome=115.0.5790.171); For documentation on this error, please visit: https://www.selenium.dev/documentation/webdriver/troubleshooting/errors#no-such-element-exception\n",
      "Stacktrace:\n",
      "Backtrace:\n",
      "\tGetHandleVerifier [0x00007FF6B65D4A62+57106]\n",
      "\t(No symbol) [0x00007FF6B654CF52]\n",
      "\t(No symbol) [0x00007FF6B641E2CB]\n",
      "\t(No symbol) [0x00007FF6B645786E]\n",
      "\t(No symbol) [0x00007FF6B645795C]\n",
      "\t(No symbol) [0x00007FF6B6490477]\n",
      "\t(No symbol) [0x00007FF6B64769FF]\n",
      "\t(No symbol) [0x00007FF6B648E522]\n",
      "\t(No symbol) [0x00007FF6B6476793]\n",
      "\t(No symbol) [0x00007FF6B644CE81]\n",
      "\t(No symbol) [0x00007FF6B644E064]\n",
      "\tGetHandleVerifier [0x00007FF6B6884222+2873042]\n",
      "\tGetHandleVerifier [0x00007FF6B68D6590+3209792]\n",
      "\tGetHandleVerifier [0x00007FF6B68CF3AF+3180639]\n",
      "\tGetHandleVerifier [0x00007FF6B6665F25+652245]\n",
      "\t(No symbol) [0x00007FF6B6558618]\n",
      "\t(No symbol) [0x00007FF6B65547C4]\n",
      "\t(No symbol) [0x00007FF6B65548BC]\n",
      "\t(No symbol) [0x00007FF6B6544C33]\n",
      "\tBaseThreadInitThunk [0x00007FFBFCDD7614+20]\n",
      "\tRtlUserThreadStart [0x00007FFBFD9226B1+33]\n",
      "\n"
     ]
    },
    {
     "name": "stderr",
     "output_type": "stream",
     "text": [
      "\n",
      "\n",
      "preprocessing day:   0%|                                                                        | 0/31 [00:00<?, ?it/s]\u001b[A\u001b[A"
     ]
    },
    {
     "name": "stdout",
     "output_type": "stream",
     "text": [
      "다음 날짜 선택 후 크롤링 준비\n",
      "https://search.naver.com/search.naver?where=news&query=%EC%BD%94%EC%8A%A4%ED%94%BC%20%EA%B2%BD%EC%A0%9C&sm=tab_opt&sort=0&photo=0&field=0&pd=3&ds=2022.12.01&de=2022.12.01&docid=&related=0&mynews=0&office_type=0&office_section_code=0&news_office_checked=&nso=so%3Ar%2Cp%3Afrom20221201to20221201&is_sug_officeid=0\n",
      "https://search.naver.com/search.naver?where=news&sm=tab_pge&query=%EC%BD%94%EC%8A%A4%ED%94%BC%20%EA%B2%BD%EC%A0%9C&sort=0&photo=0&field=0&pd=3&ds=2022.12.01&de=2022.12.01&cluster_rank=10&mynews=0&office_type=0&office_section_code=0&news_office_checked=&nso=so:r,p:from20221201to20221201,a:all&start=11\n",
      "https://search.naver.com/search.naver?where=news&sm=tab_pge&query=%EC%BD%94%EC%8A%A4%ED%94%BC%20%EA%B2%BD%EC%A0%9C&sort=0&photo=0&field=0&pd=3&ds=2022.12.01&de=2022.12.01&cluster_rank=20&mynews=0&office_type=0&office_section_code=0&news_office_checked=&nso=so:r,p:from20221201to20221201,a:all&start=21\n",
      "크롤링 준비\n"
     ]
    },
    {
     "name": "stderr",
     "output_type": "stream",
     "text": [
      "\n",
      "\n",
      "preprocessing day:   3%|██                                                              | 1/31 [00:07<03:30,  7.00s/it]\u001b[A\u001b[A"
     ]
    },
    {
     "name": "stdout",
     "output_type": "stream",
     "text": [
      "다음날짜로 선택시작\n",
      "다음 날짜 선택 후 크롤링 준비\n",
      "https://search.naver.com/search.naver?where=news&query=%EC%BD%94%EC%8A%A4%ED%94%BC%20%EA%B2%BD%EC%A0%9C&sm=tab_opt&sort=0&photo=0&field=0&pd=3&ds=2022.12.02&de=2022.12.02&docid=&related=0&mynews=0&office_type=0&office_section_code=0&news_office_checked=&nso=so%3Ar%2Cp%3Afrom20221202to20221202&is_sug_officeid=0\n",
      "https://search.naver.com/search.naver?where=news&sm=tab_pge&query=%EC%BD%94%EC%8A%A4%ED%94%BC%20%EA%B2%BD%EC%A0%9C&sort=0&photo=0&field=0&pd=3&ds=2022.12.02&de=2022.12.02&cluster_rank=10&mynews=0&office_type=0&office_section_code=0&news_office_checked=&nso=so:r,p:from20221202to20221202,a:all&start=11\n",
      "https://search.naver.com/search.naver?where=news&sm=tab_pge&query=%EC%BD%94%EC%8A%A4%ED%94%BC%20%EA%B2%BD%EC%A0%9C&sort=0&photo=0&field=0&pd=3&ds=2022.12.02&de=2022.12.02&cluster_rank=22&mynews=0&office_type=0&office_section_code=0&news_office_checked=&nso=so:r,p:from20221202to20221202,a:all&start=21\n",
      "크롤링 준비\n"
     ]
    },
    {
     "name": "stderr",
     "output_type": "stream",
     "text": [
      "\n",
      "\n",
      "preprocessing day:   6%|████▏                                                           | 2/31 [00:14<03:25,  7.08s/it]\u001b[A\u001b[A"
     ]
    },
    {
     "name": "stdout",
     "output_type": "stream",
     "text": [
      "다음날짜로 선택시작\n",
      "다음 날짜 선택 후 크롤링 준비\n",
      "https://search.naver.com/search.naver?where=news&query=%EC%BD%94%EC%8A%A4%ED%94%BC%20%EA%B2%BD%EC%A0%9C&sm=tab_opt&sort=0&photo=0&field=0&pd=3&ds=2022.12.03&de=2022.12.03&docid=&related=0&mynews=0&office_type=0&office_section_code=0&news_office_checked=&nso=so%3Ar%2Cp%3Afrom20221203to20221203&is_sug_officeid=0\n",
      "https://search.naver.com/search.naver?where=news&sm=tab_pge&query=%EC%BD%94%EC%8A%A4%ED%94%BC%20%EA%B2%BD%EC%A0%9C&sort=0&photo=0&field=0&pd=3&ds=2022.12.03&de=2022.12.03&cluster_rank=10&mynews=0&office_type=0&office_section_code=0&news_office_checked=&nso=so:r,p:from20221203to20221203,a:all&start=11\n",
      "https://search.naver.com/search.naver?where=news&sm=tab_pge&query=%EC%BD%94%EC%8A%A4%ED%94%BC%20%EA%B2%BD%EC%A0%9C&sort=0&photo=0&field=0&pd=3&ds=2022.12.03&de=2022.12.03&cluster_rank=10&mynews=0&office_type=0&office_section_code=0&news_office_checked=&nso=so:r,p:from20221203to20221203,a:all&start=11\n",
      "크롤링 준비\n"
     ]
    },
    {
     "name": "stderr",
     "output_type": "stream",
     "text": [
      "\n",
      "\n",
      "preprocessing day:  10%|██████▏                                                         | 3/31 [00:20<03:14,  6.96s/it]\u001b[A\u001b[A"
     ]
    },
    {
     "name": "stdout",
     "output_type": "stream",
     "text": [
      "다음날짜로 선택시작\n",
      "다음 날짜 선택 후 크롤링 준비\n",
      "https://search.naver.com/search.naver?where=news&query=%EC%BD%94%EC%8A%A4%ED%94%BC%20%EA%B2%BD%EC%A0%9C&sm=tab_opt&sort=0&photo=0&field=0&pd=3&ds=2022.12.04&de=2022.12.04&docid=&related=0&mynews=0&office_type=0&office_section_code=0&news_office_checked=&nso=so%3Ar%2Cp%3Afrom20221204to20221204&is_sug_officeid=0\n",
      "https://search.naver.com/search.naver?where=news&sm=tab_pge&query=%EC%BD%94%EC%8A%A4%ED%94%BC%20%EA%B2%BD%EC%A0%9C&sort=0&photo=0&field=0&pd=3&ds=2022.12.04&de=2022.12.04&cluster_rank=10&mynews=0&office_type=0&office_section_code=0&news_office_checked=&nso=so:r,p:from20221204to20221204,a:all&start=11\n",
      "https://search.naver.com/search.naver?where=news&sm=tab_pge&query=%EC%BD%94%EC%8A%A4%ED%94%BC%20%EA%B2%BD%EC%A0%9C&sort=0&photo=0&field=0&pd=3&ds=2022.12.04&de=2022.12.04&cluster_rank=20&mynews=0&office_type=0&office_section_code=0&news_office_checked=&nso=so:r,p:from20221204to20221204,a:all&start=21\n",
      "크롤링 준비\n"
     ]
    },
    {
     "name": "stderr",
     "output_type": "stream",
     "text": [
      "\n",
      "\n",
      "preprocessing day:  13%|████████▎                                                       | 4/31 [00:27<03:08,  6.98s/it]\u001b[A\u001b[A"
     ]
    },
    {
     "name": "stdout",
     "output_type": "stream",
     "text": [
      "다음날짜로 선택시작\n",
      "다음 날짜 선택 후 크롤링 준비\n",
      "https://search.naver.com/search.naver?where=news&query=%EC%BD%94%EC%8A%A4%ED%94%BC%20%EA%B2%BD%EC%A0%9C&sm=tab_opt&sort=0&photo=0&field=0&pd=3&ds=2022.12.05&de=2022.12.05&docid=&related=0&mynews=0&office_type=0&office_section_code=0&news_office_checked=&nso=so%3Ar%2Cp%3Afrom20221205to20221205&is_sug_officeid=0\n",
      "https://search.naver.com/search.naver?where=news&sm=tab_pge&query=%EC%BD%94%EC%8A%A4%ED%94%BC%20%EA%B2%BD%EC%A0%9C&sort=0&photo=0&field=0&pd=3&ds=2022.12.05&de=2022.12.05&cluster_rank=11&mynews=0&office_type=0&office_section_code=0&news_office_checked=&nso=so:r,p:from20221205to20221205,a:all&start=11\n",
      "https://search.naver.com/search.naver?where=news&sm=tab_pge&query=%EC%BD%94%EC%8A%A4%ED%94%BC%20%EA%B2%BD%EC%A0%9C&sort=0&photo=0&field=0&pd=3&ds=2022.12.05&de=2022.12.05&cluster_rank=22&mynews=0&office_type=0&office_section_code=0&news_office_checked=&nso=so:r,p:from20221205to20221205,a:all&start=21\n",
      "크롤링 준비\n"
     ]
    },
    {
     "name": "stderr",
     "output_type": "stream",
     "text": [
      "\n",
      "\n",
      "preprocessing day:  16%|██████████▎                                                     | 5/31 [00:35<03:02,  7.03s/it]\u001b[A\u001b[A"
     ]
    },
    {
     "name": "stdout",
     "output_type": "stream",
     "text": [
      "다음날짜로 선택시작\n",
      "다음 날짜 선택 후 크롤링 준비\n",
      "https://search.naver.com/search.naver?where=news&query=%EC%BD%94%EC%8A%A4%ED%94%BC%20%EA%B2%BD%EC%A0%9C&sm=tab_opt&sort=0&photo=0&field=0&pd=3&ds=2022.12.06&de=2022.12.06&docid=&related=0&mynews=0&office_type=0&office_section_code=0&news_office_checked=&nso=so%3Ar%2Cp%3Afrom20221206to20221206&is_sug_officeid=0\n",
      "https://search.naver.com/search.naver?where=news&sm=tab_pge&query=%EC%BD%94%EC%8A%A4%ED%94%BC%20%EA%B2%BD%EC%A0%9C&sort=0&photo=0&field=0&pd=3&ds=2022.12.06&de=2022.12.06&cluster_rank=21&mynews=0&office_type=0&office_section_code=0&news_office_checked=&nso=so:r,p:from20221206to20221206,a:all&start=11\n",
      "https://search.naver.com/search.naver?where=news&sm=tab_pge&query=%EC%BD%94%EC%8A%A4%ED%94%BC%20%EA%B2%BD%EC%A0%9C&sort=0&photo=0&field=0&pd=3&ds=2022.12.06&de=2022.12.06&cluster_rank=33&mynews=0&office_type=0&office_section_code=0&news_office_checked=&nso=so:r,p:from20221206to20221206,a:all&start=21\n",
      "크롤링 준비\n"
     ]
    },
    {
     "name": "stderr",
     "output_type": "stream",
     "text": [
      "\n",
      "\n",
      "preprocessing day:  19%|████████████▍                                                   | 6/31 [00:42<02:58,  7.14s/it]\u001b[A\u001b[A"
     ]
    },
    {
     "name": "stdout",
     "output_type": "stream",
     "text": [
      "다음날짜로 선택시작\n",
      "다음 날짜 선택 후 크롤링 준비\n",
      "https://search.naver.com/search.naver?where=news&query=%EC%BD%94%EC%8A%A4%ED%94%BC%20%EA%B2%BD%EC%A0%9C&sm=tab_opt&sort=0&photo=0&field=0&pd=3&ds=2022.12.07&de=2022.12.07&docid=&related=0&mynews=0&office_type=0&office_section_code=0&news_office_checked=&nso=so%3Ar%2Cp%3Afrom20221207to20221207&is_sug_officeid=0\n",
      "https://search.naver.com/search.naver?where=news&sm=tab_pge&query=%EC%BD%94%EC%8A%A4%ED%94%BC%20%EA%B2%BD%EC%A0%9C&sort=0&photo=0&field=0&pd=3&ds=2022.12.07&de=2022.12.07&cluster_rank=14&mynews=0&office_type=0&office_section_code=0&news_office_checked=&nso=so:r,p:from20221207to20221207,a:all&start=11\n",
      "https://search.naver.com/search.naver?where=news&sm=tab_pge&query=%EC%BD%94%EC%8A%A4%ED%94%BC%20%EA%B2%BD%EC%A0%9C&sort=0&photo=0&field=0&pd=3&ds=2022.12.07&de=2022.12.07&cluster_rank=24&mynews=0&office_type=0&office_section_code=0&news_office_checked=&nso=so:r,p:from20221207to20221207,a:all&start=21\n",
      "크롤링 준비\n"
     ]
    },
    {
     "name": "stderr",
     "output_type": "stream",
     "text": [
      "\n",
      "\n",
      "preprocessing day:  23%|██████████████▍                                                 | 7/31 [00:49<02:53,  7.22s/it]\u001b[A\u001b[A"
     ]
    },
    {
     "name": "stdout",
     "output_type": "stream",
     "text": [
      "다음날짜로 선택시작\n",
      "다음 날짜 선택 후 크롤링 준비\n",
      "https://search.naver.com/search.naver?where=news&query=%EC%BD%94%EC%8A%A4%ED%94%BC%20%EA%B2%BD%EC%A0%9C&sm=tab_opt&sort=0&photo=0&field=0&pd=3&ds=2022.12.08&de=2022.12.08&docid=&related=0&mynews=0&office_type=0&office_section_code=0&news_office_checked=&nso=so%3Ar%2Cp%3Afrom20221208to20221208&is_sug_officeid=0\n",
      "https://search.naver.com/search.naver?where=news&sm=tab_pge&query=%EC%BD%94%EC%8A%A4%ED%94%BC%20%EA%B2%BD%EC%A0%9C&sort=0&photo=0&field=0&pd=3&ds=2022.12.08&de=2022.12.08&cluster_rank=20&mynews=0&office_type=0&office_section_code=0&news_office_checked=&nso=so:r,p:from20221208to20221208,a:all&start=11\n",
      "https://search.naver.com/search.naver?where=news&sm=tab_pge&query=%EC%BD%94%EC%8A%A4%ED%94%BC%20%EA%B2%BD%EC%A0%9C&sort=0&photo=0&field=0&pd=3&ds=2022.12.08&de=2022.12.08&cluster_rank=38&mynews=0&office_type=0&office_section_code=0&news_office_checked=&nso=so:r,p:from20221208to20221208,a:all&start=21\n",
      "크롤링 준비\n"
     ]
    },
    {
     "name": "stderr",
     "output_type": "stream",
     "text": [
      "\n",
      "\n",
      "preprocessing day:  26%|████████████████▌                                               | 8/31 [00:57<02:46,  7.25s/it]\u001b[A\u001b[A"
     ]
    },
    {
     "name": "stdout",
     "output_type": "stream",
     "text": [
      "다음날짜로 선택시작\n",
      "다음 날짜 선택 후 크롤링 준비\n",
      "https://search.naver.com/search.naver?where=news&query=%EC%BD%94%EC%8A%A4%ED%94%BC%20%EA%B2%BD%EC%A0%9C&sm=tab_opt&sort=0&photo=0&field=0&pd=3&ds=2022.12.09&de=2022.12.09&docid=&related=0&mynews=0&office_type=0&office_section_code=0&news_office_checked=&nso=so%3Ar%2Cp%3Afrom20221209to20221209&is_sug_officeid=0\n",
      "https://search.naver.com/search.naver?where=news&sm=tab_pge&query=%EC%BD%94%EC%8A%A4%ED%94%BC%20%EA%B2%BD%EC%A0%9C&sort=0&photo=0&field=0&pd=3&ds=2022.12.09&de=2022.12.09&cluster_rank=15&mynews=0&office_type=0&office_section_code=0&news_office_checked=&nso=so:r,p:from20221209to20221209,a:all&start=11\n",
      "https://search.naver.com/search.naver?where=news&sm=tab_pge&query=%EC%BD%94%EC%8A%A4%ED%94%BC%20%EA%B2%BD%EC%A0%9C&sort=0&photo=0&field=0&pd=3&ds=2022.12.09&de=2022.12.09&cluster_rank=27&mynews=0&office_type=0&office_section_code=0&news_office_checked=&nso=so:r,p:from20221209to20221209,a:all&start=21\n",
      "크롤링 준비\n"
     ]
    },
    {
     "name": "stderr",
     "output_type": "stream",
     "text": [
      "\n",
      "\n",
      "preprocessing day:  29%|██████████████████▌                                             | 9/31 [01:04<02:39,  7.24s/it]\u001b[A\u001b[A"
     ]
    },
    {
     "name": "stdout",
     "output_type": "stream",
     "text": [
      "다음날짜로 선택시작\n",
      "다음 날짜 선택 후 크롤링 준비\n",
      "https://search.naver.com/search.naver?where=news&query=%EC%BD%94%EC%8A%A4%ED%94%BC%20%EA%B2%BD%EC%A0%9C&sm=tab_opt&sort=0&photo=0&field=0&pd=3&ds=2022.12.10&de=2022.12.10&docid=&related=0&mynews=0&office_type=0&office_section_code=0&news_office_checked=&nso=so%3Ar%2Cp%3Afrom20221210to20221210&is_sug_officeid=0\n",
      "https://search.naver.com/search.naver?where=news&query=%EC%BD%94%EC%8A%A4%ED%94%BC%20%EA%B2%BD%EC%A0%9C&sm=tab_opt&sort=0&photo=0&field=0&pd=3&ds=2022.12.10&de=2022.12.10&docid=&related=0&mynews=0&office_type=0&office_section_code=0&news_office_checked=&nso=so%3Ar%2Cp%3Afrom20221210to20221210&is_sug_officeid=0\n",
      "크롤링 준비\n"
     ]
    },
    {
     "name": "stderr",
     "output_type": "stream",
     "text": [
      "\n",
      "\n",
      "preprocessing day:  32%|████████████████████▎                                          | 10/31 [01:10<02:25,  6.92s/it]\u001b[A\u001b[A"
     ]
    },
    {
     "name": "stdout",
     "output_type": "stream",
     "text": [
      "다음날짜로 선택시작\n",
      "다음 날짜 선택 후 크롤링 준비\n",
      "https://search.naver.com/search.naver?where=news&query=%EC%BD%94%EC%8A%A4%ED%94%BC%20%EA%B2%BD%EC%A0%9C&sm=tab_opt&sort=0&photo=0&field=0&pd=3&ds=2022.12.11&de=2022.12.11&docid=&related=0&mynews=0&office_type=0&office_section_code=0&news_office_checked=&nso=so%3Ar%2Cp%3Afrom20221211to20221211&is_sug_officeid=0\n",
      "https://search.naver.com/search.naver?where=news&sm=tab_pge&query=%EC%BD%94%EC%8A%A4%ED%94%BC%20%EA%B2%BD%EC%A0%9C&sort=0&photo=0&field=0&pd=3&ds=2022.12.11&de=2022.12.11&cluster_rank=13&mynews=0&office_type=0&office_section_code=0&news_office_checked=&nso=so:r,p:from20221211to20221211,a:all&start=11\n",
      "https://search.naver.com/search.naver?where=news&sm=tab_pge&query=%EC%BD%94%EC%8A%A4%ED%94%BC%20%EA%B2%BD%EC%A0%9C&sort=0&photo=0&field=0&pd=3&ds=2022.12.11&de=2022.12.11&cluster_rank=24&mynews=0&office_type=0&office_section_code=0&news_office_checked=&nso=so:r,p:from20221211to20221211,a:all&start=21\n",
      "크롤링 준비\n"
     ]
    },
    {
     "name": "stderr",
     "output_type": "stream",
     "text": [
      "\n",
      "\n",
      "preprocessing day:  35%|██████████████████████▎                                        | 11/31 [01:18<02:24,  7.21s/it]\u001b[A\u001b[A"
     ]
    },
    {
     "name": "stdout",
     "output_type": "stream",
     "text": [
      "다음날짜로 선택시작\n",
      "다음 날짜 선택 후 크롤링 준비\n",
      "https://search.naver.com/search.naver?where=news&query=%EC%BD%94%EC%8A%A4%ED%94%BC%20%EA%B2%BD%EC%A0%9C&sm=tab_opt&sort=0&photo=0&field=0&pd=3&ds=2022.12.12&de=2022.12.12&docid=&related=0&mynews=0&office_type=0&office_section_code=0&news_office_checked=&nso=so%3Ar%2Cp%3Afrom20221212to20221212&is_sug_officeid=0\n",
      "https://search.naver.com/search.naver?where=news&sm=tab_pge&query=%EC%BD%94%EC%8A%A4%ED%94%BC%20%EA%B2%BD%EC%A0%9C&sort=0&photo=0&field=0&pd=3&ds=2022.12.12&de=2022.12.12&cluster_rank=15&mynews=0&office_type=0&office_section_code=0&news_office_checked=&nso=so:r,p:from20221212to20221212,a:all&start=11\n",
      "https://search.naver.com/search.naver?where=news&sm=tab_pge&query=%EC%BD%94%EC%8A%A4%ED%94%BC%20%EA%B2%BD%EC%A0%9C&sort=0&photo=0&field=0&pd=3&ds=2022.12.12&de=2022.12.12&cluster_rank=26&mynews=0&office_type=0&office_section_code=0&news_office_checked=&nso=so:r,p:from20221212to20221212,a:all&start=21\n",
      "크롤링 준비\n"
     ]
    },
    {
     "name": "stderr",
     "output_type": "stream",
     "text": [
      "\n",
      "\n",
      "preprocessing day:  39%|████████████████████████▍                                      | 12/31 [01:25<02:16,  7.16s/it]\u001b[A\u001b[A"
     ]
    },
    {
     "name": "stdout",
     "output_type": "stream",
     "text": [
      "다음날짜로 선택시작\n",
      "다음 날짜 선택 후 크롤링 준비\n",
      "https://search.naver.com/search.naver?where=news&query=%EC%BD%94%EC%8A%A4%ED%94%BC%20%EA%B2%BD%EC%A0%9C&sm=tab_opt&sort=0&photo=0&field=0&pd=3&ds=2022.12.13&de=2022.12.13&docid=&related=0&mynews=0&office_type=0&office_section_code=0&news_office_checked=&nso=so%3Ar%2Cp%3Afrom20221213to20221213&is_sug_officeid=0\n",
      "https://search.naver.com/search.naver?where=news&sm=tab_pge&query=%EC%BD%94%EC%8A%A4%ED%94%BC%20%EA%B2%BD%EC%A0%9C&sort=0&photo=0&field=0&pd=3&ds=2022.12.13&de=2022.12.13&cluster_rank=21&mynews=0&office_type=0&office_section_code=0&news_office_checked=&nso=so:r,p:from20221213to20221213,a:all&start=11\n",
      "https://search.naver.com/search.naver?where=news&sm=tab_pge&query=%EC%BD%94%EC%8A%A4%ED%94%BC%20%EA%B2%BD%EC%A0%9C&sort=0&photo=0&field=0&pd=3&ds=2022.12.13&de=2022.12.13&cluster_rank=31&mynews=0&office_type=0&office_section_code=0&news_office_checked=&nso=so:r,p:from20221213to20221213,a:all&start=21\n",
      "크롤링 준비\n"
     ]
    },
    {
     "name": "stderr",
     "output_type": "stream",
     "text": [
      "\n",
      "\n",
      "preprocessing day:  42%|██████████████████████████▍                                    | 13/31 [01:32<02:10,  7.25s/it]\u001b[A\u001b[A"
     ]
    },
    {
     "name": "stdout",
     "output_type": "stream",
     "text": [
      "다음날짜로 선택시작\n",
      "다음 날짜 선택 후 크롤링 준비\n",
      "https://search.naver.com/search.naver?where=news&query=%EC%BD%94%EC%8A%A4%ED%94%BC%20%EA%B2%BD%EC%A0%9C&sm=tab_opt&sort=0&photo=0&field=0&pd=3&ds=2022.12.14&de=2022.12.14&docid=&related=0&mynews=0&office_type=0&office_section_code=0&news_office_checked=&nso=so%3Ar%2Cp%3Afrom20221214to20221214&is_sug_officeid=0\n",
      "https://search.naver.com/search.naver?where=news&sm=tab_pge&query=%EC%BD%94%EC%8A%A4%ED%94%BC%20%EA%B2%BD%EC%A0%9C&sort=0&photo=0&field=0&pd=3&ds=2022.12.14&de=2022.12.14&cluster_rank=11&mynews=0&office_type=0&office_section_code=0&news_office_checked=&nso=so:r,p:from20221214to20221214,a:all&start=11\n",
      "https://search.naver.com/search.naver?where=news&sm=tab_pge&query=%EC%BD%94%EC%8A%A4%ED%94%BC%20%EA%B2%BD%EC%A0%9C&sort=0&photo=0&field=0&pd=3&ds=2022.12.14&de=2022.12.14&cluster_rank=21&mynews=0&office_type=0&office_section_code=0&news_office_checked=&nso=so:r,p:from20221214to20221214,a:all&start=21\n",
      "크롤링 준비\n"
     ]
    },
    {
     "name": "stderr",
     "output_type": "stream",
     "text": [
      "\n",
      "\n",
      "preprocessing day:  45%|████████████████████████████▍                                  | 14/31 [01:40<02:02,  7.23s/it]\u001b[A\u001b[A"
     ]
    },
    {
     "name": "stdout",
     "output_type": "stream",
     "text": [
      "다음날짜로 선택시작\n",
      "다음 날짜 선택 후 크롤링 준비\n",
      "https://search.naver.com/search.naver?where=news&query=%EC%BD%94%EC%8A%A4%ED%94%BC%20%EA%B2%BD%EC%A0%9C&sm=tab_opt&sort=0&photo=0&field=0&pd=3&ds=2022.12.15&de=2022.12.15&docid=&related=0&mynews=0&office_type=0&office_section_code=0&news_office_checked=&nso=so%3Ar%2Cp%3Afrom20221215to20221215&is_sug_officeid=0\n",
      "https://search.naver.com/search.naver?where=news&sm=tab_pge&query=%EC%BD%94%EC%8A%A4%ED%94%BC%20%EA%B2%BD%EC%A0%9C&sort=0&photo=0&field=0&pd=3&ds=2022.12.15&de=2022.12.15&cluster_rank=19&mynews=0&office_type=0&office_section_code=0&news_office_checked=&nso=so:r,p:from20221215to20221215,a:all&start=11\n",
      "https://search.naver.com/search.naver?where=news&sm=tab_pge&query=%EC%BD%94%EC%8A%A4%ED%94%BC%20%EA%B2%BD%EC%A0%9C&sort=0&photo=0&field=0&pd=3&ds=2022.12.15&de=2022.12.15&cluster_rank=29&mynews=0&office_type=0&office_section_code=0&news_office_checked=&nso=so:r,p:from20221215to20221215,a:all&start=21\n",
      "크롤링 준비\n"
     ]
    },
    {
     "name": "stderr",
     "output_type": "stream",
     "text": [
      "\n",
      "\n",
      "preprocessing day:  48%|██████████████████████████████▍                                | 15/31 [01:46<01:53,  7.12s/it]\u001b[A\u001b[A"
     ]
    },
    {
     "name": "stdout",
     "output_type": "stream",
     "text": [
      "다음날짜로 선택시작\n",
      "다음 날짜 선택 후 크롤링 준비\n",
      "https://search.naver.com/search.naver?where=news&query=%EC%BD%94%EC%8A%A4%ED%94%BC%20%EA%B2%BD%EC%A0%9C&sm=tab_opt&sort=0&photo=0&field=0&pd=3&ds=2022.12.16&de=2022.12.16&docid=&related=0&mynews=0&office_type=0&office_section_code=0&news_office_checked=&nso=so%3Ar%2Cp%3Afrom20221216to20221216&is_sug_officeid=0\n",
      "https://search.naver.com/search.naver?where=news&sm=tab_pge&query=%EC%BD%94%EC%8A%A4%ED%94%BC%20%EA%B2%BD%EC%A0%9C&sort=0&photo=0&field=0&pd=3&ds=2022.12.16&de=2022.12.16&cluster_rank=14&mynews=0&office_type=0&office_section_code=0&news_office_checked=&nso=so:r,p:from20221216to20221216,a:all&start=11\n",
      "https://search.naver.com/search.naver?where=news&sm=tab_pge&query=%EC%BD%94%EC%8A%A4%ED%94%BC%20%EA%B2%BD%EC%A0%9C&sort=0&photo=0&field=0&pd=3&ds=2022.12.16&de=2022.12.16&cluster_rank=27&mynews=0&office_type=0&office_section_code=0&news_office_checked=&nso=so:r,p:from20221216to20221216,a:all&start=21\n",
      "크롤링 준비\n"
     ]
    },
    {
     "name": "stderr",
     "output_type": "stream",
     "text": [
      "\n",
      "\n",
      "preprocessing day:  52%|████████████████████████████████▌                              | 16/31 [01:54<01:46,  7.11s/it]\u001b[A\u001b[A"
     ]
    },
    {
     "name": "stdout",
     "output_type": "stream",
     "text": [
      "다음날짜로 선택시작\n",
      "다음 날짜 선택 후 크롤링 준비\n",
      "https://search.naver.com/search.naver?where=news&query=%EC%BD%94%EC%8A%A4%ED%94%BC%20%EA%B2%BD%EC%A0%9C&sm=tab_opt&sort=0&photo=0&field=0&pd=3&ds=2022.12.17&de=2022.12.17&docid=&related=0&mynews=0&office_type=0&office_section_code=0&news_office_checked=&nso=so%3Ar%2Cp%3Afrom20221217to20221217&is_sug_officeid=0\n",
      "https://search.naver.com/search.naver?where=news&sm=tab_pge&query=%EC%BD%94%EC%8A%A4%ED%94%BC%20%EA%B2%BD%EC%A0%9C&sort=0&photo=0&field=0&pd=3&ds=2022.12.17&de=2022.12.17&cluster_rank=10&mynews=0&office_type=0&office_section_code=0&news_office_checked=&nso=so:r,p:from20221217to20221217,a:all&start=11\n",
      "https://search.naver.com/search.naver?where=news&sm=tab_pge&query=%EC%BD%94%EC%8A%A4%ED%94%BC%20%EA%B2%BD%EC%A0%9C&sort=0&photo=0&field=0&pd=3&ds=2022.12.17&de=2022.12.17&cluster_rank=10&mynews=0&office_type=0&office_section_code=0&news_office_checked=&nso=so:r,p:from20221217to20221217,a:all&start=11\n",
      "크롤링 준비\n"
     ]
    },
    {
     "name": "stderr",
     "output_type": "stream",
     "text": [
      "\n",
      "\n",
      "preprocessing day:  55%|██████████████████████████████████▌                            | 17/31 [02:00<01:37,  6.99s/it]\u001b[A\u001b[A"
     ]
    },
    {
     "name": "stdout",
     "output_type": "stream",
     "text": [
      "다음날짜로 선택시작\n",
      "다음 날짜 선택 후 크롤링 준비\n",
      "https://search.naver.com/search.naver?where=news&query=%EC%BD%94%EC%8A%A4%ED%94%BC%20%EA%B2%BD%EC%A0%9C&sm=tab_opt&sort=0&photo=0&field=0&pd=3&ds=2022.12.18&de=2022.12.18&docid=&related=0&mynews=0&office_type=0&office_section_code=0&news_office_checked=&nso=so%3Ar%2Cp%3Afrom20221218to20221218&is_sug_officeid=0\n",
      "https://search.naver.com/search.naver?where=news&sm=tab_pge&query=%EC%BD%94%EC%8A%A4%ED%94%BC%20%EA%B2%BD%EC%A0%9C&sort=0&photo=0&field=0&pd=3&ds=2022.12.18&de=2022.12.18&cluster_rank=11&mynews=0&office_type=0&office_section_code=0&news_office_checked=&nso=so:r,p:from20221218to20221218,a:all&start=11\n",
      "https://search.naver.com/search.naver?where=news&sm=tab_pge&query=%EC%BD%94%EC%8A%A4%ED%94%BC%20%EA%B2%BD%EC%A0%9C&sort=0&photo=0&field=0&pd=3&ds=2022.12.18&de=2022.12.18&cluster_rank=21&mynews=0&office_type=0&office_section_code=0&news_office_checked=&nso=so:r,p:from20221218to20221218,a:all&start=21\n",
      "크롤링 준비\n"
     ]
    },
    {
     "name": "stderr",
     "output_type": "stream",
     "text": [
      "\n",
      "\n",
      "preprocessing day:  58%|████████████████████████████████████▌                          | 18/31 [02:08<01:33,  7.18s/it]\u001b[A\u001b[A"
     ]
    },
    {
     "name": "stdout",
     "output_type": "stream",
     "text": [
      "다음날짜로 선택시작\n",
      "다음 날짜 선택 후 크롤링 준비\n",
      "https://search.naver.com/search.naver?where=news&query=%EC%BD%94%EC%8A%A4%ED%94%BC%20%EA%B2%BD%EC%A0%9C&sm=tab_opt&sort=0&photo=0&field=0&pd=3&ds=2022.12.19&de=2022.12.19&docid=&related=0&mynews=0&office_type=0&office_section_code=0&news_office_checked=&nso=so%3Ar%2Cp%3Afrom20221219to20221219&is_sug_officeid=0\n",
      "https://search.naver.com/search.naver?where=news&sm=tab_pge&query=%EC%BD%94%EC%8A%A4%ED%94%BC%20%EA%B2%BD%EC%A0%9C&sort=0&photo=0&field=0&pd=3&ds=2022.12.19&de=2022.12.19&cluster_rank=13&mynews=0&office_type=0&office_section_code=0&news_office_checked=&nso=so:r,p:from20221219to20221219,a:all&start=11\n",
      "https://search.naver.com/search.naver?where=news&sm=tab_pge&query=%EC%BD%94%EC%8A%A4%ED%94%BC%20%EA%B2%BD%EC%A0%9C&sort=0&photo=0&field=0&pd=3&ds=2022.12.19&de=2022.12.19&cluster_rank=24&mynews=0&office_type=0&office_section_code=0&news_office_checked=&nso=so:r,p:from20221219to20221219,a:all&start=21\n",
      "크롤링 준비\n"
     ]
    },
    {
     "name": "stderr",
     "output_type": "stream",
     "text": [
      "\n",
      "\n",
      "preprocessing day:  61%|██████████████████████████████████████▌                        | 19/31 [02:15<01:26,  7.19s/it]\u001b[A\u001b[A"
     ]
    },
    {
     "name": "stdout",
     "output_type": "stream",
     "text": [
      "다음날짜로 선택시작\n",
      "다음 날짜 선택 후 크롤링 준비\n",
      "https://search.naver.com/search.naver?where=news&query=%EC%BD%94%EC%8A%A4%ED%94%BC%20%EA%B2%BD%EC%A0%9C&sm=tab_opt&sort=0&photo=0&field=0&pd=3&ds=2022.12.20&de=2022.12.20&docid=&related=0&mynews=0&office_type=0&office_section_code=0&news_office_checked=&nso=so%3Ar%2Cp%3Afrom20221220to20221220&is_sug_officeid=0\n",
      "https://search.naver.com/search.naver?where=news&sm=tab_pge&query=%EC%BD%94%EC%8A%A4%ED%94%BC%20%EA%B2%BD%EC%A0%9C&sort=0&photo=0&field=0&pd=3&ds=2022.12.20&de=2022.12.20&cluster_rank=15&mynews=0&office_type=0&office_section_code=0&news_office_checked=&nso=so:r,p:from20221220to20221220,a:all&start=11\n",
      "https://search.naver.com/search.naver?where=news&sm=tab_pge&query=%EC%BD%94%EC%8A%A4%ED%94%BC%20%EA%B2%BD%EC%A0%9C&sort=0&photo=0&field=0&pd=3&ds=2022.12.20&de=2022.12.20&cluster_rank=25&mynews=0&office_type=0&office_section_code=0&news_office_checked=&nso=so:r,p:from20221220to20221220,a:all&start=21\n",
      "크롤링 준비\n"
     ]
    },
    {
     "name": "stderr",
     "output_type": "stream",
     "text": [
      "\n",
      "\n",
      "preprocessing day:  65%|████████████████████████████████████████▋                      | 20/31 [02:23<01:19,  7.27s/it]\u001b[A\u001b[A"
     ]
    },
    {
     "name": "stdout",
     "output_type": "stream",
     "text": [
      "다음날짜로 선택시작\n",
      "다음 날짜 선택 후 크롤링 준비\n",
      "https://search.naver.com/search.naver?where=news&query=%EC%BD%94%EC%8A%A4%ED%94%BC%20%EA%B2%BD%EC%A0%9C&sm=tab_opt&sort=0&photo=0&field=0&pd=3&ds=2022.12.21&de=2022.12.21&docid=&related=0&mynews=0&office_type=0&office_section_code=0&news_office_checked=&nso=so%3Ar%2Cp%3Afrom20221221to20221221&is_sug_officeid=0\n",
      "https://search.naver.com/search.naver?where=news&sm=tab_pge&query=%EC%BD%94%EC%8A%A4%ED%94%BC%20%EA%B2%BD%EC%A0%9C&sort=0&photo=0&field=0&pd=3&ds=2022.12.21&de=2022.12.21&cluster_rank=11&mynews=0&office_type=0&office_section_code=0&news_office_checked=&nso=so:r,p:from20221221to20221221,a:all&start=11\n",
      "https://search.naver.com/search.naver?where=news&sm=tab_pge&query=%EC%BD%94%EC%8A%A4%ED%94%BC%20%EA%B2%BD%EC%A0%9C&sort=0&photo=0&field=0&pd=3&ds=2022.12.21&de=2022.12.21&cluster_rank=26&mynews=0&office_type=0&office_section_code=0&news_office_checked=&nso=so:r,p:from20221221to20221221,a:all&start=21\n",
      "크롤링 준비\n"
     ]
    },
    {
     "name": "stderr",
     "output_type": "stream",
     "text": [
      "\n",
      "\n",
      "preprocessing day:  68%|██████████████████████████████████████████▋                    | 21/31 [02:30<01:13,  7.31s/it]\u001b[A\u001b[A"
     ]
    },
    {
     "name": "stdout",
     "output_type": "stream",
     "text": [
      "다음날짜로 선택시작\n",
      "다음 날짜 선택 후 크롤링 준비\n",
      "https://search.naver.com/search.naver?where=news&query=%EC%BD%94%EC%8A%A4%ED%94%BC%20%EA%B2%BD%EC%A0%9C&sm=tab_opt&sort=0&photo=0&field=0&pd=3&ds=2022.12.22&de=2022.12.22&docid=&related=0&mynews=0&office_type=0&office_section_code=0&news_office_checked=&nso=so%3Ar%2Cp%3Afrom20221222to20221222&is_sug_officeid=0\n",
      "https://search.naver.com/search.naver?where=news&sm=tab_pge&query=%EC%BD%94%EC%8A%A4%ED%94%BC%20%EA%B2%BD%EC%A0%9C&sort=0&photo=0&field=0&pd=3&ds=2022.12.22&de=2022.12.22&cluster_rank=17&mynews=0&office_type=0&office_section_code=0&news_office_checked=&nso=so:r,p:from20221222to20221222,a:all&start=11\n",
      "https://search.naver.com/search.naver?where=news&sm=tab_pge&query=%EC%BD%94%EC%8A%A4%ED%94%BC%20%EA%B2%BD%EC%A0%9C&sort=0&photo=0&field=0&pd=3&ds=2022.12.22&de=2022.12.22&cluster_rank=27&mynews=0&office_type=0&office_section_code=0&news_office_checked=&nso=so:r,p:from20221222to20221222,a:all&start=21\n",
      "크롤링 준비\n"
     ]
    },
    {
     "name": "stderr",
     "output_type": "stream",
     "text": [
      "\n",
      "\n",
      "preprocessing day:  71%|████████████████████████████████████████████▋                  | 22/31 [02:37<01:05,  7.27s/it]\u001b[A\u001b[A"
     ]
    },
    {
     "name": "stdout",
     "output_type": "stream",
     "text": [
      "다음날짜로 선택시작\n",
      "다음 날짜 선택 후 크롤링 준비\n",
      "https://search.naver.com/search.naver?where=news&query=%EC%BD%94%EC%8A%A4%ED%94%BC%20%EA%B2%BD%EC%A0%9C&sm=tab_opt&sort=0&photo=0&field=0&pd=3&ds=2022.12.23&de=2022.12.23&docid=&related=0&mynews=0&office_type=0&office_section_code=0&news_office_checked=&nso=so%3Ar%2Cp%3Afrom20221223to20221223&is_sug_officeid=0\n",
      "https://search.naver.com/search.naver?where=news&sm=tab_pge&query=%EC%BD%94%EC%8A%A4%ED%94%BC%20%EA%B2%BD%EC%A0%9C&sort=0&photo=0&field=0&pd=3&ds=2022.12.23&de=2022.12.23&cluster_rank=17&mynews=0&office_type=0&office_section_code=0&news_office_checked=&nso=so:r,p:from20221223to20221223,a:all&start=11\n",
      "https://search.naver.com/search.naver?where=news&sm=tab_pge&query=%EC%BD%94%EC%8A%A4%ED%94%BC%20%EA%B2%BD%EC%A0%9C&sort=0&photo=0&field=0&pd=3&ds=2022.12.23&de=2022.12.23&cluster_rank=27&mynews=0&office_type=0&office_section_code=0&news_office_checked=&nso=so:r,p:from20221223to20221223,a:all&start=21\n",
      "크롤링 준비\n"
     ]
    },
    {
     "name": "stderr",
     "output_type": "stream",
     "text": [
      "\n",
      "\n",
      "preprocessing day:  74%|██████████████████████████████████████████████▋                | 23/31 [02:44<00:57,  7.24s/it]\u001b[A\u001b[A"
     ]
    },
    {
     "name": "stdout",
     "output_type": "stream",
     "text": [
      "다음날짜로 선택시작\n",
      "다음 날짜 선택 후 크롤링 준비\n",
      "https://search.naver.com/search.naver?where=news&query=%EC%BD%94%EC%8A%A4%ED%94%BC%20%EA%B2%BD%EC%A0%9C&sm=tab_opt&sort=0&photo=0&field=0&pd=3&ds=2022.12.24&de=2022.12.24&docid=&related=0&mynews=0&office_type=0&office_section_code=0&news_office_checked=&nso=so%3Ar%2Cp%3Afrom20221224to20221224&is_sug_officeid=0\n",
      "https://search.naver.com/search.naver?where=news&sm=tab_pge&query=%EC%BD%94%EC%8A%A4%ED%94%BC%20%EA%B2%BD%EC%A0%9C&sort=0&photo=0&field=0&pd=3&ds=2022.12.24&de=2022.12.24&cluster_rank=10&mynews=0&office_type=0&office_section_code=0&news_office_checked=&nso=so:r,p:from20221224to20221224,a:all&start=11\n",
      "https://search.naver.com/search.naver?where=news&sm=tab_pge&query=%EC%BD%94%EC%8A%A4%ED%94%BC%20%EA%B2%BD%EC%A0%9C&sort=0&photo=0&field=0&pd=3&ds=2022.12.24&de=2022.12.24&cluster_rank=10&mynews=0&office_type=0&office_section_code=0&news_office_checked=&nso=so:r,p:from20221224to20221224,a:all&start=11\n",
      "크롤링 준비\n"
     ]
    },
    {
     "name": "stderr",
     "output_type": "stream",
     "text": [
      "\n",
      "\n",
      "preprocessing day:  77%|████████████████████████████████████████████████▊              | 24/31 [02:51<00:49,  7.09s/it]\u001b[A\u001b[A"
     ]
    },
    {
     "name": "stdout",
     "output_type": "stream",
     "text": [
      "다음날짜로 선택시작\n",
      "다음 날짜 선택 후 크롤링 준비\n",
      "https://search.naver.com/search.naver?where=news&query=%EC%BD%94%EC%8A%A4%ED%94%BC%20%EA%B2%BD%EC%A0%9C&sm=tab_opt&sort=0&photo=0&field=0&pd=3&ds=2022.12.25&de=2022.12.25&docid=&related=0&mynews=0&office_type=0&office_section_code=0&news_office_checked=&nso=so%3Ar%2Cp%3Afrom20221225to20221225&is_sug_officeid=0\n",
      "https://search.naver.com/search.naver?where=news&sm=tab_pge&query=%EC%BD%94%EC%8A%A4%ED%94%BC%20%EA%B2%BD%EC%A0%9C&sort=0&photo=0&field=0&pd=3&ds=2022.12.25&de=2022.12.25&cluster_rank=12&mynews=0&office_type=0&office_section_code=0&news_office_checked=&nso=so:r,p:from20221225to20221225,a:all&start=11\n",
      "https://search.naver.com/search.naver?where=news&sm=tab_pge&query=%EC%BD%94%EC%8A%A4%ED%94%BC%20%EA%B2%BD%EC%A0%9C&sort=0&photo=0&field=0&pd=3&ds=2022.12.25&de=2022.12.25&cluster_rank=22&mynews=0&office_type=0&office_section_code=0&news_office_checked=&nso=so:r,p:from20221225to20221225,a:all&start=21\n",
      "크롤링 준비\n"
     ]
    },
    {
     "name": "stderr",
     "output_type": "stream",
     "text": [
      "\n",
      "\n",
      "preprocessing day:  81%|██████████████████████████████████████████████████▊            | 25/31 [02:58<00:42,  7.14s/it]\u001b[A\u001b[A"
     ]
    },
    {
     "name": "stdout",
     "output_type": "stream",
     "text": [
      "다음날짜로 선택시작\n",
      "다음 날짜 선택 후 크롤링 준비\n",
      "https://search.naver.com/search.naver?where=news&query=%EC%BD%94%EC%8A%A4%ED%94%BC%20%EA%B2%BD%EC%A0%9C&sm=tab_opt&sort=0&photo=0&field=0&pd=3&ds=2022.12.26&de=2022.12.26&docid=&related=0&mynews=0&office_type=0&office_section_code=0&news_office_checked=&nso=so%3Ar%2Cp%3Afrom20221226to20221226&is_sug_officeid=0\n",
      "https://search.naver.com/search.naver?where=news&sm=tab_pge&query=%EC%BD%94%EC%8A%A4%ED%94%BC%20%EA%B2%BD%EC%A0%9C&sort=0&photo=0&field=0&pd=3&ds=2022.12.26&de=2022.12.26&cluster_rank=16&mynews=0&office_type=0&office_section_code=0&news_office_checked=&nso=so:r,p:from20221226to20221226,a:all&start=11\n",
      "https://search.naver.com/search.naver?where=news&sm=tab_pge&query=%EC%BD%94%EC%8A%A4%ED%94%BC%20%EA%B2%BD%EC%A0%9C&sort=0&photo=0&field=0&pd=3&ds=2022.12.26&de=2022.12.26&cluster_rank=26&mynews=0&office_type=0&office_section_code=0&news_office_checked=&nso=so:r,p:from20221226to20221226,a:all&start=21\n",
      "크롤링 준비\n"
     ]
    },
    {
     "name": "stderr",
     "output_type": "stream",
     "text": [
      "\n",
      "\n",
      "preprocessing day:  84%|████████████████████████████████████████████████████▊          | 26/31 [03:06<00:35,  7.18s/it]\u001b[A\u001b[A"
     ]
    },
    {
     "name": "stdout",
     "output_type": "stream",
     "text": [
      "다음날짜로 선택시작\n",
      "다음 날짜 선택 후 크롤링 준비\n",
      "https://search.naver.com/search.naver?where=news&query=%EC%BD%94%EC%8A%A4%ED%94%BC%20%EA%B2%BD%EC%A0%9C&sm=tab_opt&sort=0&photo=0&field=0&pd=3&ds=2022.12.27&de=2022.12.27&docid=&related=0&mynews=0&office_type=0&office_section_code=0&news_office_checked=&nso=so%3Ar%2Cp%3Afrom20221227to20221227&is_sug_officeid=0\n",
      "https://search.naver.com/search.naver?where=news&sm=tab_pge&query=%EC%BD%94%EC%8A%A4%ED%94%BC%20%EA%B2%BD%EC%A0%9C&sort=0&photo=0&field=0&pd=3&ds=2022.12.27&de=2022.12.27&cluster_rank=13&mynews=0&office_type=0&office_section_code=0&news_office_checked=&nso=so:r,p:from20221227to20221227,a:all&start=11\n",
      "https://search.naver.com/search.naver?where=news&sm=tab_pge&query=%EC%BD%94%EC%8A%A4%ED%94%BC%20%EA%B2%BD%EC%A0%9C&sort=0&photo=0&field=0&pd=3&ds=2022.12.27&de=2022.12.27&cluster_rank=33&mynews=0&office_type=0&office_section_code=0&news_office_checked=&nso=so:r,p:from20221227to20221227,a:all&start=21\n",
      "크롤링 준비\n"
     ]
    },
    {
     "name": "stderr",
     "output_type": "stream",
     "text": [
      "\n",
      "\n",
      "preprocessing day:  87%|██████████████████████████████████████████████████████▊        | 27/31 [03:13<00:28,  7.16s/it]\u001b[A\u001b[A"
     ]
    },
    {
     "name": "stdout",
     "output_type": "stream",
     "text": [
      "다음날짜로 선택시작\n",
      "다음 날짜 선택 후 크롤링 준비\n",
      "https://search.naver.com/search.naver?where=news&query=%EC%BD%94%EC%8A%A4%ED%94%BC%20%EA%B2%BD%EC%A0%9C&sm=tab_opt&sort=0&photo=0&field=0&pd=3&ds=2022.12.28&de=2022.12.28&docid=&related=0&mynews=0&office_type=0&office_section_code=0&news_office_checked=&nso=so%3Ar%2Cp%3Afrom20221228to20221228&is_sug_officeid=0\n",
      "https://search.naver.com/search.naver?where=news&sm=tab_pge&query=%EC%BD%94%EC%8A%A4%ED%94%BC%20%EA%B2%BD%EC%A0%9C&sort=0&photo=0&field=0&pd=3&ds=2022.12.28&de=2022.12.28&cluster_rank=13&mynews=0&office_type=0&office_section_code=0&news_office_checked=&nso=so:r,p:from20221228to20221228,a:all&start=11\n",
      "https://search.naver.com/search.naver?where=news&sm=tab_pge&query=%EC%BD%94%EC%8A%A4%ED%94%BC%20%EA%B2%BD%EC%A0%9C&sort=0&photo=0&field=0&pd=3&ds=2022.12.28&de=2022.12.28&cluster_rank=24&mynews=0&office_type=0&office_section_code=0&news_office_checked=&nso=so:r,p:from20221228to20221228,a:all&start=21\n",
      "크롤링 준비\n"
     ]
    },
    {
     "name": "stderr",
     "output_type": "stream",
     "text": [
      "\n",
      "\n",
      "preprocessing day:  90%|████████████████████████████████████████████████████████▉      | 28/31 [03:20<00:21,  7.21s/it]\u001b[A\u001b[A"
     ]
    },
    {
     "name": "stdout",
     "output_type": "stream",
     "text": [
      "다음날짜로 선택시작\n",
      "다음 날짜 선택 후 크롤링 준비\n",
      "https://search.naver.com/search.naver?where=news&query=%EC%BD%94%EC%8A%A4%ED%94%BC%20%EA%B2%BD%EC%A0%9C&sm=tab_opt&sort=0&photo=0&field=0&pd=3&ds=2022.12.29&de=2022.12.29&docid=&related=0&mynews=0&office_type=0&office_section_code=0&news_office_checked=&nso=so%3Ar%2Cp%3Afrom20221229to20221229&is_sug_officeid=0\n",
      "https://search.naver.com/search.naver?where=news&sm=tab_pge&query=%EC%BD%94%EC%8A%A4%ED%94%BC%20%EA%B2%BD%EC%A0%9C&sort=0&photo=0&field=0&pd=3&ds=2022.12.29&de=2022.12.29&cluster_rank=17&mynews=0&office_type=0&office_section_code=0&news_office_checked=&nso=so:r,p:from20221229to20221229,a:all&start=11\n",
      "https://search.naver.com/search.naver?where=news&sm=tab_pge&query=%EC%BD%94%EC%8A%A4%ED%94%BC%20%EA%B2%BD%EC%A0%9C&sort=0&photo=0&field=0&pd=3&ds=2022.12.29&de=2022.12.29&cluster_rank=27&mynews=0&office_type=0&office_section_code=0&news_office_checked=&nso=so:r,p:from20221229to20221229,a:all&start=21\n",
      "크롤링 준비\n"
     ]
    },
    {
     "name": "stderr",
     "output_type": "stream",
     "text": [
      "\n",
      "\n",
      "preprocessing day:  94%|██████████████████████████████████████████████████████████▉    | 29/31 [03:27<00:14,  7.22s/it]\u001b[A\u001b[A"
     ]
    },
    {
     "name": "stdout",
     "output_type": "stream",
     "text": [
      "다음날짜로 선택시작\n",
      "다음 날짜 선택 후 크롤링 준비\n",
      "https://search.naver.com/search.naver?where=news&query=%EC%BD%94%EC%8A%A4%ED%94%BC%20%EA%B2%BD%EC%A0%9C&sm=tab_opt&sort=0&photo=0&field=0&pd=3&ds=2022.12.30&de=2022.12.30&docid=&related=0&mynews=0&office_type=0&office_section_code=0&news_office_checked=&nso=so%3Ar%2Cp%3Afrom20221230to20221230&is_sug_officeid=0\n",
      "https://search.naver.com/search.naver?where=news&sm=tab_pge&query=%EC%BD%94%EC%8A%A4%ED%94%BC%20%EA%B2%BD%EC%A0%9C&sort=0&photo=0&field=0&pd=3&ds=2022.12.30&de=2022.12.30&cluster_rank=12&mynews=0&office_type=0&office_section_code=0&news_office_checked=&nso=so:r,p:from20221230to20221230,a:all&start=11\n",
      "https://search.naver.com/search.naver?where=news&sm=tab_pge&query=%EC%BD%94%EC%8A%A4%ED%94%BC%20%EA%B2%BD%EC%A0%9C&sort=0&photo=0&field=0&pd=3&ds=2022.12.30&de=2022.12.30&cluster_rank=22&mynews=0&office_type=0&office_section_code=0&news_office_checked=&nso=so:r,p:from20221230to20221230,a:all&start=21\n",
      "크롤링 준비\n"
     ]
    },
    {
     "name": "stderr",
     "output_type": "stream",
     "text": [
      "\n",
      "\n",
      "preprocessing day:  97%|████████████████████████████████████████████████████████████▉  | 30/31 [03:35<00:07,  7.31s/it]\u001b[A\u001b[A"
     ]
    },
    {
     "name": "stdout",
     "output_type": "stream",
     "text": [
      "다음날짜로 선택시작\n",
      "다음 날짜 선택 후 크롤링 준비\n",
      "https://search.naver.com/search.naver?where=news&query=%EC%BD%94%EC%8A%A4%ED%94%BC%20%EA%B2%BD%EC%A0%9C&sm=tab_opt&sort=0&photo=0&field=0&pd=3&ds=2022.12.31&de=2022.12.31&docid=&related=0&mynews=0&office_type=0&office_section_code=0&news_office_checked=&nso=so%3Ar%2Cp%3Afrom20221231to20221231&is_sug_officeid=0\n",
      "https://search.naver.com/search.naver?where=news&sm=tab_pge&query=%EC%BD%94%EC%8A%A4%ED%94%BC%20%EA%B2%BD%EC%A0%9C&sort=0&photo=0&field=0&pd=3&ds=2022.12.31&de=2022.12.31&cluster_rank=11&mynews=0&office_type=0&office_section_code=0&news_office_checked=&nso=so:r,p:from20221231to20221231,a:all&start=11\n",
      "https://search.naver.com/search.naver?where=news&sm=tab_pge&query=%EC%BD%94%EC%8A%A4%ED%94%BC%20%EA%B2%BD%EC%A0%9C&sort=0&photo=0&field=0&pd=3&ds=2022.12.31&de=2022.12.31&cluster_rank=11&mynews=0&office_type=0&office_section_code=0&news_office_checked=&nso=so:r,p:from20221231to20221231,a:all&start=11\n",
      "크롤링 준비\n"
     ]
    },
    {
     "name": "stderr",
     "output_type": "stream",
     "text": [
      "\n",
      "\n",
      "preprocessing day: 100%|███████████████████████████████████████████████████████████████| 31/31 [03:42<00:00,  7.16s/it]\u001b[A\u001b[A\n",
      "\n",
      "preprocessing month: 100%|████████████████████████████████████████████████████████████| 12/12 [44:11<00:00, 220.92s/it]\u001b[A\n",
      "preprocessing year: 100%|██████████████████████████████████████████████████████████████| 1/1 [44:11<00:00, 2651.02s/it]"
     ]
    },
    {
     "name": "stdout",
     "output_type": "stream",
     "text": [
      "다음날짜로 선택시작\n"
     ]
    },
    {
     "name": "stderr",
     "output_type": "stream",
     "text": [
      "\n"
     ]
    }
   ],
   "source": [
    "#크롤링을 시작해볼까요~\n",
    "from selenium import webdriver\n",
    "from selenium.webdriver.common.keys import Keys\n",
    "\n",
    "driver = webdriver.Chrome(options=options)                 # 크롬 드라이버 객체 생성\n",
    "\n",
    "#코스피 경제로 검색\n",
    "driver.get('https://search.naver.com/search.naver?sm=tab_hty.top&where=news&query=%EC%BD%94%EC%8A%A4%ED%94%BC+%EA%B2%BD%EC%A0%9C&oquery=%EC%BD%94%EC%8A%A4%ED%94%BC+%EA%B2%BD%EC%A0%9C&tqi=iLNSydp0J1ZssAwye%2FNssssssWl-222265&nso=so%3Ar%2Cp%3Aall')\n",
    "\n",
    "print(\"- 접속한 웹 사이트의 제목:\", driver.title) # 접속한 URL의 제목 출력\n",
    "\n",
    "# 옵션 클릭.\n",
    "elem_option = driver.find_element(By.XPATH,'/html/body/div[3]/div[2]/div/div[1]/div[1]/div[1]/div/div[2]/a').click()\n",
    "# # 직접입력 클릭.\n",
    "time.sleep(3)\n",
    "elem_input = driver.find_element(By.XPATH,'/html/body/div[3]/div[2]/div/div[1]/div[1]/div[2]/ul/li[2]/div/div[1]/a[9]')\n",
    "driver.execute_script(\"arguments[0].click();\", elem_input)\n",
    "naver_news_link = []\n",
    "#for 문으로 원하는 범위 설정하기\n",
    "#너무 많이 하면 오래걸리고 중간에 네트워크가 불안정하면 끊길 수 있어요!\n",
    "for year in tqdm(range(2022,2023),desc='preprocessing year'):\n",
    "    for month in tqdm(range(1,13),desc='preprocessing month'):\n",
    "        for day in tqdm(range(1,32),desc='preprocessing day'):\n",
    "            try:\n",
    "                res = select_date_naver_news(year=year,month=month,day=day)\n",
    "            except Exception as e: #오류 발생시 일단 넘어가고 왜 오류인지 출력해주기\n",
    "                print(f\"An error occurred while crawling for {year}-{month}-{day}: {e}\")"
   ]
  },
  {
   "cell_type": "code",
   "execution_count": 22,
   "metadata": {
    "colab": {
     "base_uri": "https://localhost:8080/"
    },
    "id": "-0ITJLRtwgXK",
    "outputId": "4b2cb552-788a-474c-e35d-ab98ed0dfa87"
   },
   "outputs": [
    {
     "data": {
      "text/plain": [
       "[['[2022년 증시전망] 올 상반기 코스피 2800~3300 전망…美 테이퍼링 충격 크지...',\n",
       "  '코스피 최고치 3300~3600 전망, 추천 업종은 반도체',\n",
       "  '코스피 3000시대 여는 호랑이 기운 받으려면…[다시 열자! 3000시대]',\n",
       "  \"[2022년 증시 전망] 코스피 3500시대 열리나...힘빠진 유동성에 '옥석가리기'...\",\n",
       "  '내주 설 민생안정대책 나온다…종부세 경감 방안도 주목',\n",
       "  '안철수·심상정도 삼프로TV 출연 \"1월 2일 오전 공개 유력\"',\n",
       "  '1월 전략, 리오프닝주와 중소형 성장주에 주목',\n",
       "  '몰빵 투자로 5년간 55억 번 소아과 전문의 성현우',\n",
       "  '\"임인년 증시 3600선 넘어설 것\"…호재 넷, 악재 하나',\n",
       "  '애플·메타·테슬라 \\'기호지세\\'···\"현금 보유·성장성 매력적\"',\n",
       "  '\"임인년 증시 3600선 넘어설 것\"…호재 넷, 악재 하나',\n",
       "  '애플·메타·테슬라 \\'기호지세\\'···\"현금 보유·성장성 매력적\"',\n",
       "  '[2022 증시]\"삼성전자와 함께 뜰 주식\"…전문가가 콕 찍은 종목들',\n",
       "  '[대선 뒷담화] 박근혜 사면과 윤석열의 ‘캐릭터 붕괴’',\n",
       "  '\"올 한국증시, 미국보다 나을 수도\"…펀드매니저들 입 모았다 [다시 열자! 30...',\n",
       "  '올해 반도체株 난다…메타버스도 질주',\n",
       "  '[2022 증시①] 인플레·금리인상·코로나...새해 증시 변수 만만찮다',\n",
       "  '[스투파] \"공모주, 분양 아파트처럼 싸게 살 기회...부유층, 비상장 투자에도...',\n",
       "  \"[신년기획-2022 대전망] 주식시장, 변수 수두룩… 상저하고-상고하저 '팽팽'\",\n",
       "  \"[2022 신년기획] 국내증시, '박스권' 예상...증권사 상단 밴드 '3400'선\",\n",
       "  '[CEO 증시 전망] 코스피 최고치 3300~3400 \\'중론\\'…\"작년과 비슷\"',\n",
       "  '코스피 2610∼3600 예상… 국내 3월 대선 초대형 변수 [2022 신년특집 - 새해...',\n",
       "  'FOMC 앞두고 코스피 관망세... 삼성전자 4분기 실적발표 주목 [주간 증시 전망...',\n",
       "  '[2022 증시] 코스피 ‘상저하고’ 우세…\"변동성 대비하라\"',\n",
       "  \"새해 코스피 상반기 '활짝'…하반기 전망은 '글쎄'\",\n",
       "  \"[TF비즈토크<상>] 임인년 '10만전자' 기대감…500만 소액주주 봄날 언제쯤\",\n",
       "  '[주간증시전망]새해 첫주...FOMC 의사록·삼성전자 실적 주목',\n",
       "  \"[주간증시전망]어닝시즌 본격화…'1월 효과' 나타날까\",\n",
       "  '호랑이의 해, 반도체·美주식 올라타라',\n",
       "  '인공지능 ETF 출시 후 4년, AI는 지수 투자를 이겼을까',\n",
       "  \"[증시 풍향계] 악재 속 '1월 효과·대선 이벤트' 기대감\",\n",
       "  '증시 찢을 원톱 株인공은',\n",
       "  '\"새해 박스피 이어져도…실적 좋아지는 반도체 자동차 빛난다\"[신년 재테크 기...',\n",
       "  '\"\\'동학개미\\' 위축, 오히려 좋다\"…부진한 아시아주식, 기대 이유는?',\n",
       "  '[5대 금융지주 회장 새해 전망] \"집값 상승세 둔화\"',\n",
       "  '증시 ‘상저하고’ 관측 우세…공급망 병목·G2 갈등 주요 변수',\n",
       "  '美 긴축·코로나까지 변동성 여전...\"올해도 2800~3300 박스피\"',\n",
       "  '\"반도체부터 리츠까지\"…증권사가 \\'이구동성\\' 추천한 주식은?',\n",
       "  '[기자수첩]새해, 투자의 자세',\n",
       "  '[2022년 새해 특집] 포효하는 전북, ESG가 대세다',\n",
       "  '李 \"코스피 5000 대장정 기대\"…尹 \"뒤떨어진 정치경제로 \\'디스카운트\\'\"',\n",
       "  '이재명 \"저도 우량 가치주 될 것…코스피 5000 향해 가자\"(종합)',\n",
       "  '이재명·윤석열 \"코스피 5000 가능…코리아 디스카운트 과제\"',\n",
       "  '거래소 찾은 대선후보, 李 \"코스피 5000가자\" vs 尹 \"뒤떨어진 시스템 개선\"',\n",
       "  '이재명 “코스피 5000 시대로”…증시 개장 행사 尹과 동반 참석',\n",
       "  '\\'경제 대통령\\' 이미지 부각한 이재명…\"주가 5000 시대로\"',\n",
       "  '붉은 넥타이 맨 이재명…“코스피 5000시대 열 것”',\n",
       "  '코스피, 새해 첫 거래일 2998.32로 거래 시작…상승 출발',\n",
       "  '임인년 첫 거래일…코스피, 2988.77 상승 마감',\n",
       "  '[오늘의 경제지표] 2022년 첫 거래일...코스피 2,980선 등락',\n",
       "  '1월 전략이 승부 가른다…경제 외치는 李 vs 몸 낮추고 쇄신 나선 尹',\n",
       "  '李 \"국가위기 때 대대적 투자…코스피 5000 현실화 기대\"',\n",
       "  '코스피, 새해 첫 거래일 2998.32로 거래 시작…상승 출발',\n",
       "  '임인년 첫 거래일…코스피, 2988.77 상승 마감',\n",
       "  \"증권·디지털·농업·자동차…네거티브 뒤로하고 '경제대통령' 띄우는 이재명\",\n",
       "  '[대선 후보 공약 비교] ⑤ 자본시장 정책…李 “코스피 5000 돌파” vs 尹 “...',\n",
       "  '[오늘의 경제지표] 2022년 첫 거래일...코스피 2,980선 등락',\n",
       "  '임인년 `흑호` 올라탄 코스피…지수 3,600 `시동`',\n",
       "  '주식개장식에 이재명, 윤석열 나란히…\"코스피 5000시대 기대\" vs \"반기업 정...',\n",
       "  '역대급 공모주···LG에너지솔루션 청약 전 이건 꼭 챙기세요 [한경제의 솔깃...',\n",
       "  '[단독] 쏘카도 코스피 상장 대열 합류···이번주 예심 청구',\n",
       "  '\\'5·5\\' 경제 공약 내세운 이재명 \"이명박 7·4·7과 비교 말라\"',\n",
       "  '[뉴스쏙:속]\"코스피 5천\" 말 나온날…횡령파장에 거래정지',\n",
       "  '이재명 “코스피 5000시대 향해”… 본격 정책 행보로 차별화',\n",
       "  '코스피, 매매 공방 속 2980선 등락…다우·S&P 최고치',\n",
       "  '[생생경제] \"주식 올 해 3분기 초반 더 떨어질 수 있어...이때를 기회로\"',\n",
       "  '1월 효과는 어디에…코스피 3000선 목전서 게걸음',\n",
       "  \"[마감] 코스피 2980선 보합권 마감… 개인·외인 '사자'\",\n",
       "  '코스피 최고 3600, 반도체·게임株 견인…가상화폐는 시들',\n",
       "  '코스피 올해도 전고점 돌파해 새 역사 쓸까, 물류문제와 대선 변수',\n",
       "  \"[시황종합]코스피 강보합 2989선 마감…4일째 '개인 사자vs 기관 팔자'\",\n",
       "  \"[오늘의 경제지표] 정초부터 신고점 경신한 美 증시...코스피는 '주춤'\",\n",
       "  '코스피 최고 3600, 반도체·게임株 견인…가상화폐는 시들',\n",
       "  '\\'경제 대통령\\' 내세운 이재명 \"주가 5000 시대로\"',\n",
       "  \"'위기' 45번 외친 이재명, 경제대통령 부각…기본소득도 재점화\",\n",
       "  '코스피, 2989.09로 거래 시작…상승 출발',\n",
       "  '코스피 올해도 전고점 돌파해 새 역사 쓸까, 물류문제와 대선 변수',\n",
       "  'FOMC 의사록 앞둔 코스피, 연초 변동성 확대 가능성은',\n",
       "  \"[개장시황] 미국은 올랐는데…코스피, 2980선에서 '주춤'\",\n",
       "  '경제초점-2021년의 경제키워드, 그리고 2022년 키워드는?',\n",
       "  '[마켓뷰] 코스피 2950선 후퇴…기관 1조원 매도·美금리 인상 부담',\n",
       "  '[시그널] SK쉴더스·쏘카 5월 코스피 입성 기대···거래소에 예심 청구',\n",
       "  '기관 매도에 코스피 하락 출발…2,960대(종합)',\n",
       "  '\"코스피 4000 가자\"…MSCI \\'선진국 지수\\' 4수 도전, 이번엔?',\n",
       "  '미국 금리·환율 상승 영향‥코스피 2,950대 후퇴',\n",
       "  '\"韓 IPO 규모 英·日 제쳤다...내년엔 유니콘 대거 코스피 입성\"',\n",
       "  '[오늘의 경제지표] 美 국채금리 상승...국내증시 장중 1%대 급락',\n",
       "  '“군사 6위·경제 10위… 문화 역량 더해 G5 목표, 경제 전환적 공정성장 땐 ...',\n",
       "  '코스피, 2984.05로 거래 시작…하락 출발',\n",
       "  \"코스피 하락 출발...삼성전자 · SK하이닉스, '장초반 혼조'\",\n",
       "  '탄력 받은 美증시…서학개미 더 몰리나',\n",
       "  '이재명 후보의 ‘555 공약’과 ‘747’의 추억',\n",
       "  '영국 위에 애플',\n",
       "  '‘호랑이 사냥’ 떠나자...‘투자의 시대’ 新패러다임 5',\n",
       "  '이재명 뽑는다(X), 심는다(O)…공약에 풍성해진 탈모株',\n",
       "  '제2의 로블록스 찾아라… 본격 개화하는 메타버스 유망주 분석',\n",
       "  '美 3월 금리인상설에… 원·달러 환율 1200원 눈앞',\n",
       "  '“韓도 퇴직연금 백만장자”…존리가 조언하는 투자전략',\n",
       "  \"세계 경기불안·공급망 리스크에…韓 증시 '상저하고' 전망\",\n",
       "  '\"1월 효과 기대감 낮춰야\"… 반도체·유통 디스플레이 등 주목',\n",
       "  '[마감시황]코스피, 美 조기긴축 시사에 1.1% 하락…코스닥 2.9%↓',\n",
       "  '[코스피 마감]美 금리인상 예고에 2920선 후퇴',\n",
       "  '미 조기 긴축 예고에 원·달러 1년5개월만에 1200원대…코스피 1.13% 급락',\n",
       "  '코스피만 보지 말고 해외로 눈 돌려야...미국 은행주·유럽 명품주 주목할 때',\n",
       "  \"코스피 1.13%, 코스닥 2.90% 급락…환율 1년반 만에 '최고'\",\n",
       "  '연준 긴축 우려에 천스닥 붕괴…코스피, 2820선까지 밀린다?',\n",
       "  '코스피, 美 연준 ‘조기긴축’ 예고에 약세…1.13% ↓',\n",
       "  '[장마감] 코스피 3,000선 또 못넘어...가정용품株 강세',\n",
       "  \"매파 짙어진 美 Fed에 국내 증시 '휘청'…코스피 2948선\",\n",
       "  '코스피, 2925.40으로 거래 시작…하락 출발',\n",
       "  '코스피, 2925.40으로 거래 시작…하락 출발',\n",
       "  '[빅뉴스] 코스피 1.18% 하락 마감, 환율 1200원 육박…공공기관 노동이사제, ...',\n",
       "  '금리·펀더멘털 불안 겹악재에 눌린 코스피, 하락세 보일까',\n",
       "  '쏘카, 코스피 상장예심 신청…IPO 시장 ‘북적’',\n",
       "  '추경 군불 지피는 與 \"2월중 처리\"…지친 동학개미들, 서학개미로 변신할까?…...',\n",
       "  '[속보] 코스피 하락세로 개장 시작...美 연준 조기 긴축 예고 파장 클 듯',\n",
       "  '코스피, 美 조기 긴축 예고 속 2,940선까지 밀려...三電. 호재성 재료에도 부...',\n",
       "  '[김대호의 경제읽기] 뉴욕증시 큰 폭 하락…한국 경제 여파는?',\n",
       "  \"[A 경제전망] 기업경영진, 올해 가장 고민 '인플레이션' 꼽아...대응 '주식투...\",\n",
       "  '[신년 특별좌담회] \"빛만큼 어둠 깊었던 한국경제\"…임인년(壬寅年)엔 달라질...',\n",
       "  '이재명 \"코스피 5000시대\" 지원할 與 선대위 \\'자본시장위\\' 출범',\n",
       "  '이재명이 자신한 코스피 5000, 정말 가능할까?',\n",
       "  '코스피 장 초반 1% 상승…2,950대 회복(종합)',\n",
       "  '코스피, 2933.78로 거래 시작…상승 출발',\n",
       "  \"[시황종합] '외인 사자' 코스피 1.2% 반등 2950선 마감…三電 1.8% 상승\",\n",
       "  '개인과 외인의 순매수.. 코스피 상승 출발',\n",
       "  '[오후 주식시장은] 전일 낙폭 만회하는 증시...코스피 1% 올라 2,950선',\n",
       "  \"[국내시황] 드디어 반등한 '코스피' 3천선 코앞…급등 종목 '로봇주' 차지\",\n",
       "  '코스피, 외국인 매수세에 장중 2950선 회복',\n",
       "  '증시약세 속 보험주 부각, 코스피 하락에도 보험사 주가 뛰는 이유',\n",
       "  '증시약세 속 보험주 부각, 코스피 하락에도 보험사 주가 뛰는 이유',\n",
       "  '코스피, 장 초반 0.6%대 상승…개인·外人 매수 강세',\n",
       "  '[아주경제 오늘의 뉴스 종합] 삼성전자, 사상 최대 연간 매출 279조원 外',\n",
       "  '코스피, 외국인·개인 매수에 상승…‘호실적’ 삼성전자 1%대↑',\n",
       "  '[개장시황] 코스피, 3일만의 반등…개인·외국인 동반 매수',\n",
       "  '새해 ‘롤러코스터’ 타는 코스피…앞으로 전망은',\n",
       "  '韓, 5대 강국·5만 달러·코스피 5000시대 `5·5·5 전략` 목표, 전혀 불가능...',\n",
       "  '코스피, 外人 매수 움직임에 3거래일만에 반등...三電. 최대 매출·M&A 재료에...',\n",
       "  '[주간증시] ‘금리·긴축·환율’ 악재…불안 커진 코스피 0.76%↓',\n",
       "  '[사설] 환율 1200원 돌파, 경제·금융 불안 증폭',\n",
       "  '직접일자리 60만명 이상 조기 채용… 오스템임플란트 펀드 신규 판매 중단 [한...',\n",
       "  '\"지금 사두면 돈 버는 종목\"…\\'투자 대가\\' 강방천의 조언 [허란의 경제한끼]',\n",
       "  \"코스피 5000, 세계 5위, 5만 달러…이재명의 '5 사랑'[국회기자24시]\",\n",
       "  '韓 금통위·美 베이지북 금융 이벤트 수두룩...\"코스피 민감도 커질 것\"[다음...',\n",
       "  '경기 좋다는데 주가는 반대…“1,200원 된 환율을 보라”?',\n",
       "  '성큼 다가온 긴축의 시간…요동치는 글로벌 자본시장',\n",
       "  '\"새해 안철수株 최고 63% 뛰었다\" 대선주자 테마주 모든 것',\n",
       "  '[스투파] \"지금은 주식 비중 확대할 시기...금리인상, 부동산 상승 제한할 것...',\n",
       "  '민주당, \\'자본시장\\'만을 핵심으로 하는 단독 위원회 출범..\"선대위 역대 처음...',\n",
       "  '[경제이슈 쉽게 읽기] 수도꼭지만 잠근다더니… FOMC 의사록이 남긴 파장',\n",
       "  '민주당, \\'자본시장\\'만을 핵심으로 하는 단독 위원회 출범..\"선대위 역대 처음...',\n",
       "  '[경제이슈 쉽게 읽기] 수도꼭지만 잠근다더니… FOMC 의사록이 남긴 파장',\n",
       "  \"[주간 증시 전망] 금리 압력에 부진한 증시, '조정 끝, 반등 시작(?)'...코스...\",\n",
       "  '이재명이 누렸던 선점효과···‘거시경제 공약’으로 타깃 이동',\n",
       "  \"'이재노믹스' 이재명, 실용 경제로 '중도' 잡는다\",\n",
       "  '유동성 축소 우려감 투자심리 지배…증시 상단 막혔다',\n",
       "  '[증시 풍향계] 새해 벽두 \\'미국 긴축\\' 한파…\"상단 제한 가능성\"',\n",
       "  '\"적정 시가총액 100兆\"...LG에너지솔루션 11일 수요예측',\n",
       "  '미 증시 약세 지속에 먼저 반등한 국내 증시 ‘꺼림칙’',\n",
       "  '[주간증시전망] 빨라진 연준의 긴축 시계…이번주 금통위·파월 청문회 주목',\n",
       "  '[초점] 카카오 리더십, ‘먹튀 논란’에 흔들리나…김범수 대응은',\n",
       "  \"[미리보는 이데일리 신문]'LG엔솔 공모주 받자' 저신용 회사채 줄발행\",\n",
       "  \"카카오노조, '먹튀' 차기대표 퇴진 요구…사회적 반감도 증폭\",\n",
       "  '美까지 강해진 인상시그널…환율은? 주가는? 영끌족은?',\n",
       "  '[주간증시전망] 빨라진 연준의 긴축 시계…이번주 금통위·파월 청문회 주목',\n",
       "  '[초점] 카카오 리더십, ‘먹튀 논란’에 흔들리나…김범수 대응은',\n",
       "  \"[미리보는 이데일리 신문]'LG엔솔 공모주 받자' 저신용 회사채 줄발행\",\n",
       "  '이주의 주식시장은? 로봇주 강세, NFT·메타버스 이슈 지속, 안철수 지지율 부...',\n",
       "  '김동연 \"문 대통령 주재 회의서 \\'15 대 1\\' 싸움도\"',\n",
       "  '[주간증시전망] 시장 엄습하는 불안감...희망은 4분기 실적 발표',\n",
       "  '건설업 넘어 ′친환경ESG′ 경영 나선 롯데한화한양쌍용건설',\n",
       "  '[주간증시전망] 조기긴축‧대형 IPO 부담↑…\"반도체‧자동차 등 경기민감주 ...',\n",
       "  '심상정, \\'그린노믹스\\' 발표···\"불평등과 탄소경제라는 \\'구질서\\'와 결별할 ...',\n",
       "  '\"이러다 2700선 붕괴?\"…살얼음판 코스피 쥐고 흔드는 미국 연준',\n",
       "  '심상정 \"그린노믹스로 경제 구질서와 결별\"',\n",
       "  \"'5·5·5' 이재노믹스에 생활밀착형 공약까지…李 '경제·민생' 올인\",\n",
       "  '[광화문에서/송충현]경제불안 ‘혜성’ 오기 전 정치권이 해야할 일',\n",
       "  \"[오늘의 경제지표] 美 양적 긴축 여파...국내 증시 '뒷걸음'\",\n",
       "  '코스피, 2947.37로 거래 시작…하락 출발',\n",
       "  '투자심리 ‘꽁꽁’ …2920선까지 밀려난 코스피',\n",
       "  '양경숙 “탈모약값 부담에 불법유통 판쳐”… KDI “경기 하방위험 커졌다” ...',\n",
       "  '이번주 코스피, 연준 테이퍼링·금리인상+대차대조표 축소...박스권 흐름 예상',\n",
       "  '코스피, 美 조기긴축 우려+外人·기관 매도에 2,910선까지 밀려...三電·하이...',\n",
       "  '[데일리픽] 경제 유튜버 전성시대…아이팟 셔플 인기 역주행 왜?',\n",
       "  \"코스피 하락 출발 속...삼성전자 · SK하이닉스, '장초반 약세'\",\n",
       "  '안철수 “큰 정당이 베껴”…이재명 5-5-5 공약 비판',\n",
       "  \"정용진의 '멸공'에 신세계 7% 급락…'오너리스크' 현실로?\",\n",
       "  '심상정 “그린노믹스로 일자리 150만개 창출”',\n",
       "  '`상장 임박` LG엔솔…\"세계 1등 꿈꾼다\"',\n",
       "  '권영수 LG엔솔 부회장 \"12조 재원 기반…1위 CATL 시총 곧 잡아\"(종합)',\n",
       "  '작년 국민연금, 건설·화장품 등 경기민감주 집중 매수',\n",
       "  '갈 곳 잃은 돈…예금 10조 늘고 대출 4천6백억 줄었다',\n",
       "  '이재명표 新경제 \"세계 5강으로…4대 대전환 골든타임\"',\n",
       "  '이재명, \\'이재노믹스\\' 청사진 발표…\"목표는 세계 5강 경제대국\"',\n",
       "  '[이재명 공약] 신경제비전 선포 \"4대 대전환으로 \\'세계5강 경제대국\\' 이끌겠다...',\n",
       "  '이재명 \"세계 5강, 국민소득 5만불, 코스피 5000\" 구상 발표',\n",
       "  \"이재명, 경제·여성 '쌍끌이 공략'…마의 40% 벽 돌파할까\",\n",
       "  '이재명, ’경제 대통령’ 표방하며 ‘이재명 신경제 비전 선포식’ 연다 | 11...',\n",
       "  '이재명 “5·5·5 도약” 경제비전 오늘 발표… ‘소확행’과 투트랙',\n",
       "  '李 \"세계 5강 경제대국\"...민주, 다음 달 추경 처리키로',\n",
       "  'IMF도 우려한 신흥국 긴축발작…경제여건·선제대응 따라 차별화',\n",
       "  '코스피, 기관 매도 이긴 외국인 매수…소폭 상승 마감',\n",
       "  '\\'이재노믹스\\' 선포한 이재명 \"세계 5강 경제대국 목표\"',\n",
       "  '이재명 \"\\'이재노믹스\\'로 간다…종합국력 세계 5강의 경제대국\"',\n",
       "  \"[오늘의 경제지표] 여전한 美 긴축 불안...코스피, 매매공방 속 '혼조'\",\n",
       "  '이재명 \"세계 5강 경제대국 목표…국민소득 5만불·코스피 5000 달성\"',\n",
       "  '[뉴스앤이슈] 이재명 \"세계 5강 경제대국\" 윤석열 \"코로나 충격을 혁신으로\"',\n",
       "  '이재명, 신경제 비전 발표…\"공공·금융개혁으로 경제대전환\"',\n",
       "  '코스피, 2930.93으로 거래 시작…상승 출발',\n",
       "  '코스피, 강보합 마감 2930대 근접… 코스닥 1%대 하락',\n",
       "  '이재명 \"과학기술·산업·교육·국토 대전환...세계 5강 경제대국\"',\n",
       "  '경제 대통령 표방 이재명 \"국가 주도 투자로 5대 경제대국 도약\"',\n",
       "  '한경이 만든 주가지수 KEDI…코스피보다 두 배 상승했다',\n",
       "  \"이재명 '국가' vs 윤석열 '시장'…李·尹 경제관 대비\",\n",
       "  '[대선 후보 인터뷰] 김동연③ “이재명, 코스피 5000? 포퓰리즘 선동… 주식시...',\n",
       "  '이재명 “세계 5강 경제 대국”',\n",
       "  '[오늘의 경제지표] 美 긴축 우려 완화...코스피 오르고 환율 내리고',\n",
       "  '[대선 프리즘] 광폭 경제행보 이재명⋯게임 지지층 결집 윤석열',\n",
       "  '\"코스피 4,000P 가능할까?\"...오늘 밤 `매수자들`에서 공개',\n",
       "  '코스피, 2950.78로 거래 시작…상승 출발',\n",
       "  \"윤석열 '4%대 잠재성장률'·이재명 '코스피 5000' 공약 '글쎄'\",\n",
       "  \"사라진 코스피 '1월 효과'...FOMC에 쏠리는 눈\",\n",
       "  '국내 자본시장, LG에너지솔루션 코스피 상장發 지각변동에 촉각',\n",
       "  \"윤석열 '4%대 잠재성장률'·이재명 '코스피 5000' 공약 '글쎄'\",\n",
       "  '이재명 “세계 5강 경제대국 만들겠다”…신경제 비전 선포',\n",
       "  \"사라진 코스피 '1월 효과'...FOMC에 쏠리는 눈\",\n",
       "  \"[Invest]파월 '긴축 속도 조절' 발언에 한시름 놨다…코스피 오랜만에 회복세\",\n",
       "  '코스피, 파월發 투자 심리 개선에 상승 출발…2,950선 회복',\n",
       "  '(마감) 코스피, 外人·기관 동반 매수로 7거래일만에 2,970선…증권가 “반등...',\n",
       "  '긴축 우려 완화에 날개 다는 국내 증시… 코스피 2972.48포인트 마감',\n",
       "  \"코스피, 3,000선 아래서 '영차'...골드만, 반도체 꽃길 전망에도 三電·하이닉...\",\n",
       "  \"[서재근의 Biz이코노미] 주인이 '호구'되는 회사에 미래는 없다\",\n",
       "  'KEDI 혁신30, 코스피 압도…\"혁신기업이 시장 이긴다\"',\n",
       "  '코스피·코스닥 하락 마감‥크래프톤, 5% 넘게 하락',\n",
       "  \"[시황종합] '기관·개인 팔자' 코스피 2960선 후퇴…코스닥 0.8%↓\",\n",
       "  '[생생경제] \"LG에너지솔루션 상장 절차 돌입, 1경 원이 넘는다고?\"',\n",
       "  '[이슈분석] “정책 여력 있을 때 금리 올려야…코스피 아웃퍼폼 기대해 볼 수...',\n",
       "  '이재명의 ‘코스피 5000’이 걱정되는 이유',\n",
       "  '美증시, 물가 급등에도 상승 마감…코스피도 3000선 회복할까',\n",
       "  '코스피, 2979.91로 거래 시작…상승 출발',\n",
       "  '코스피, 오후 0.1%대 하락…美 인플레 부담',\n",
       "  \"[마감시황] 코스피, '삼천피' 회복 실패…코스닥 급락\",\n",
       "  \"[마감시황] 코스피, '삼천피' 회복 실패…코스닥 급락\",\n",
       "  \"尹·李·安 '시장경제 위기' 공감...'기업정책' 입장차 존재\",\n",
       "  '李 \"코스피 5000\" 尹 \"성장률 4%\"…실현 가능성 \\'잿빛\\'',\n",
       "  '코스피, 美 CPI 우려 완화로 0.2% 상승…비트코인, 보합권 유지',\n",
       "  '코스피, 물가 부담+옵션 만기 수급에 추가 하락 마감',\n",
       "  '[대선 후보 정책 비교-②] 경제 정책... 李 \"정부 주도\" vs 尹 \"시장 주도\"',\n",
       "  '삼성전자 · SK하이닉스, 상승 출발...코스피도 장초반 강세',\n",
       "  '[이슈& 직설] 이재명, 신경제 비전 ‘이재노믹스’ 발표… ‘555 성장 공약’...',\n",
       "  \"[핫이슈 키워드] 제보자 사망·롤챔스 찾은 윤석열·이재명 '경제 대통령'·러...\",\n",
       "  '[기획] 표심잡기 급한 후보들, 대선 전략·공약도 벤치마킹?',\n",
       "  '코스피, 기관·외인 매도에 1.36% 하락…긴축 경계 강화(종합)',\n",
       "  \"코스피, 1% 넘게 하락…시총 상위주 일제히 '파란불'\",\n",
       "  '[fn오전시황] 美 3월 금리인상 가능성에 하락세..코스피 0.89%↓',\n",
       "  '[오전시황] 美 연준發 금리인상 우려에 얼어 붙은 코스피',\n",
       "  '[시황] 한국이어 미국도 금리 조기 인상?…코스피·코스닥 1%대 하락',\n",
       "  \"[시황종합] 코스피 1.4%↓ 2920선 후퇴…대형주 일제히 '뚝'\",\n",
       "  '코스피 외인·기관 매도에 1.36% ↓…2920대로 밀려',\n",
       "  '국내 증시 덮친 금리 인상 우려…코스피 2919선까지 밀려',\n",
       "  '코스피, 금통위 기준금리 인상 결정에 1%대 하락',\n",
       "  '코스피, 2937.61로 거래 시작…하락 출발',\n",
       "  '코스피, 높아진 긴축 우려에 1%대↓…2921.92 마감',\n",
       "  '긴축 우려에 휘청인 증시···코스피·코스닥 1%대 급락',\n",
       "  '정부 세수추계 오차율 20% 넘어… LG엔솔 청약, “마감 전 경쟁률 낮은 증권사...',\n",
       "  '[오늘의 장마감] 전자장비와기기株 강세... 코스피·코스닥 동반 하락',\n",
       "  \"[한국주식 원포인트 레슨] 코스피 3000선 아래서 '핵심 성장주' 분할매수\",\n",
       "  '코스피, 금통위 이후 추가 하락…외인·기관 동반 매도',\n",
       "  '코스피, 한은 금리인상+外人·기관 매도로 장중 한때 2,920선까지 후퇴',\n",
       "  '[금리인상]국내 증시 영향 제한적…“코스피 당분간 박스권 전망”',\n",
       "  '[공감 딥터뷰: 대선 후보 경제 책사에게 듣는다] 하준경 \"투자와 규제 합리화...',\n",
       "  '인천 찾은 이재명 “정부가 괴롭히는것 알려달라”…친기업 행보',\n",
       "  '기준금리 코로나 이전 복귀… 물가 너무 빨리 오른다 [한강로 경제브리핑]',\n",
       "  \"李 ‘수출 1兆 달러’· 尹 ‘잠재성장률 4%’…'How’ 없이 질러 놓은 대선 ...\",\n",
       "  '이재명 “정부가 괴롭히는 것 알려달라”',\n",
       "  '[논썰] 정용진의 ‘멸공 리스크’, 이사회는 뭐 하고 있었나',\n",
       "  \"카카오페이 경영진의 900억 '먹튀'... 대선후보들의 해법은?\",\n",
       "  '1년 전 오늘 文대통령 따라 뉴딜펀드 샀는데… [왕개미연구소]',\n",
       "  '오스템임플란트 ‘간큰’ 횡령범… 단기 수익 좇다 쪽박',\n",
       "  '기준금리 1.25%로 인상, 올해 1~2회 더 올린다',\n",
       "  '공약은 윤재명·이석열?... 점점 닮아가는 이재명·윤석열의 정책',\n",
       "  '주도주 부진에 소외주 눈길',\n",
       "  '주도주 부진에 소외주 눈길',\n",
       "  \"[주간 대선 말말말] 정치권 달군 '멸공' 인증 논란…심상정 일정 전면 중단\",\n",
       "  \"與·野 '녹취록' 공방으로 말짱 도루묵 된 '정책 선거'\",\n",
       "  '[Weekly CEO] LG엔솔, 개미의 반발과 IPO 설왕설래',\n",
       "  \"'금리 인상+美 양적 긴축' 유동성 위축 시기… 가치주 시대 온다\",\n",
       "  '[주간증시전망] 美긴축 불확실성 여전해 코스피 약세 예상…IPO 대어 LG엔솔 ...',\n",
       "  '이번주 LG엔솔 청약…\"상장 후 코스피 단기 저점 찍을 가능성\"',\n",
       "  '이재명, 尹 때리며 \\'경제대통령\\' 행보 가속…\"민생이 가장 중요\"',\n",
       "  '“경제성장 둔화하고 자산 가격 하락, 저가 매수 기회 잡아라”',\n",
       "  '[단독] 60조 오류낸 기재부, 세수 추산법 또 손질',\n",
       "  \"영끌·빚투족 '식은땀'…이자 눈덩이에 집·주식·코인 하락\",\n",
       "  \"급등하는 '금리'…부동산·주식·코인, 줄줄이 하락하나\",\n",
       "  '연초부터 시작된 기준금리 인상, 수혜주는',\n",
       "  \"주식으로 연봉보다 더 벌고, '이것'이 달라졌습니다\",\n",
       "  \"'제2의 카카오페이' 더 이상 없어야…보완책은?\",\n",
       "  '[증시 풍향계] 미국 연준 긴축·초대형 IPO…\"상단 제한 가능성\"',\n",
       "  '금리상승기 돈 관리 어떻게 할까, 예적금 비중 늘리고 빚투 지양해야',\n",
       "  'LG엔솔 시총 100조 넘을까? 中 CATL와 경쟁 2R [차이나는 중국]',\n",
       "  '벼랑끝 HDC현대산업개발 처벌수위·손실액은',\n",
       "  '27년간 ‘첫 5일’ 부진하면 절반 그해 주가 마이너스…올해도?',\n",
       "  '크래프톤 \"NFT·블록체인 조직 구성, 신사업 추진\"',\n",
       "  '코로나 전으로 돌아간 기준금리…증권가 \"추가 인상 염두하라\"',\n",
       "  '[가계부채 안정] 유동성 풀린 시장, 빚투 보다 현금',\n",
       "  '[이종우의 주간증시]오미크론 확산과 경기 둔화 우려로 주가 하락',\n",
       "  '[주간증시전망] 대내적인 환경 개선 중…\"경기민감주 저가매수 전략 유효\"',\n",
       "  '코스피 장 초반 2,900대로 하락…외인·기관 순매도(종합)',\n",
       "  \"美 증시보다 더 빠진 코스피…소비불안·금리상승·수급불안 '삼중고'\",\n",
       "  '코스피 한 달만에 2,990선 깨져 1% 넘는 하락세',\n",
       "  '코스피 장 초반 2900선 붕괴',\n",
       "  \"'경제 대통령' 꿈꾸는 이재명의 '민노총 딜레마'\",\n",
       "  '[생생경제] \"MBC 김건희 녹취록 공개에 윤석열 테마주 상승\"',\n",
       "  '코스피 2910선 하락 출발…투자심리 위축',\n",
       "  '코스피 2900 깨졌다',\n",
       "  \"코스피 장초반 하락 2900선 등락…기관·외인 '팔자'\",\n",
       "  '코스피, 한 달 만에 2900선 붕괴…외인·기관 매도세 2890.10 마감',\n",
       "  '[오늘의 경제지표] 美 긴축 우려 지속...코스피, 2,900선 깨져',\n",
       "  '코스피, 한 달 만에 2900선 붕괴…외인·기관 매도세 2890.10 마감',\n",
       "  '‘심리적 지지선’ 코스피 2900선 뚫려',\n",
       "  '2900선 깨진 코스피…코스닥도 1%대 하락',\n",
       "  '1인당 국가채무 2000만원 눈앞… 금리 인상에 속 타는 ‘빚투·영끌족’ [한강...',\n",
       "  '코스피, 美 경제지표 부진에 0.2% 하락…비트코인, 강보합 유지',\n",
       "  \"코스피 '기관과 외국인 매도’에 3거래일째 하락, 코스닥도 1%대 내려\",\n",
       "  '[주간 증시 전망] 코스피 시총 7배 규모… LG엔솔, 역대급 수요예측 몰린 이유...',\n",
       "  \"[국내시황] 방어벽 깨진 코스피…'LG엔솔 수혜주'는 폭등\",\n",
       "  \"코스피, 기관·외국인 동반 매도에 '2900선 붕괴'\",\n",
       "  '美 긴축-中 경기둔화 겹악재… 코스피 2900선 무너져',\n",
       "  '한은 \"대외경제 리스크, 원화약세 주범\"',\n",
       "  '오늘 LG엔솔 공모주 청약…코스피 2900선 무너져',\n",
       "  '[18일 마감시황] 코스피, 기관 순매도에 4일 연속 하락…2860선 마감',\n",
       "  '[생생경제] \"LG엔솔 공모주 청약, 막판 경쟁률 눈치 작전 필요\"',\n",
       "  \"코스피 '기관 매도’에 4거래일째 하락, 코스닥도 1%대 내려\",\n",
       "  '미·중 쌍끌이 악재, 코스피 2900 무너졌다',\n",
       "  '코스피, 기관 순매도에 나흘 연속 하락',\n",
       "  \"LG엔솔이냐 SK하이닉스냐…'코스피 넘버2'의 전쟁\",\n",
       "  \"[증권소식] 권남주 캠코 신임 사장 취임/삼성증권, 뉴리치 전담 'The SNI Cen...\",\n",
       "  '올해도 어려운 대출… 코스피 2900선 밑으로 [한강로 경제브리핑]',\n",
       "  \"[증권소식] 권남주 캠코 신임 사장 취임/삼성증권, 뉴리치 전담 'The SNI Cen...\",\n",
       "  '코스피, 2898.98로 거래 시작…상승 출발',\n",
       "  '코스피, 장 초반 2,900선 근접…기관 순매수',\n",
       "  'NH證 \"코스피, 낙관주의가 필요한 시점…매수 대응 추천\"',\n",
       "  '코스피, 外人·기관 매도에 낙폭 확대…비트코인 1%대 하락',\n",
       "  '코스피, LG엔솔 수급 불안에 낙폭 확대…비트코인 5천90만원대 거래',\n",
       "  '18일 공매도 거래대금 6,875억원, 코스피 공매도 상위 50종목 대부분 하락',\n",
       "  '[사설] 美 긴축 이어 中 경제 경착륙 우려… 수출다변화 등 대책 시급',\n",
       "  \"코스피 반등 출발...삼성전자 · SK하이닉스는 '장초반 약세'\",\n",
       "  '[생생경제] 윤후덕 \"李 제 1 경제공약은 성장\", 윤창현 \"尹 심쿵 공약 더 낼 ...',\n",
       "  '코스피, 닷새째 하락…2840선까지 밀려',\n",
       "  '[이슈앤 직설] 또 깨진 2,900선…코스피, 바닥 찍고 반등할까?',\n",
       "  '[美 금리 쇼크]③환율 급등, 코스피 부진에…달러로 눈 돌리는 투자자',\n",
       "  '코스피, 장 초반 0.7%대 하락…美 금리 부담',\n",
       "  \"빨라지는 美 긴축시계에 국채금리 급등…韓 경제도 '퍼펙트 스톰'\",\n",
       "  \"코스피, 美국채금리 '급등' 투심 악화…2840선 마감\",\n",
       "  \"'트리플 악재'에 급격히 식은 투심…맥 못추는 증시\",\n",
       "  \"[오늘의 경제지표] 국채금리 상승에 美 증시 '휘청'...국내 증시는?\",\n",
       "  '코스피, 하락 출발…2830선까지 밀려',\n",
       "  '이재명 \"부동산 투자용 토큰도 허용\"…윤석열 \"연 5000만원까지 비과세\"',\n",
       "  '[이재명 가상자산 정책공약] 李 \"가상자산 법제화, 공정한 시장질서 구축할 것...',\n",
       "  'LG에너지솔루션, 청약증거금 114조 몰리며 신기록 경신',\n",
       "  \"카카오페이 경영진 '먹튀' 논란, 견제 없이 이슈만 따라간 언론\",\n",
       "  '이재명 “가상자산 법제화·투자자 보호…ICO 허용도 검토”',\n",
       "  \"'트리플 악재'에 급격히 식은 투심…맥 못추는 증시\",\n",
       "  '尹 \"가상자산 5000만원까지 비과세…주식투자 수준으로 보호\"',\n",
       "  \"美 시장금리 2년 만의 최고... '긴축 발작' 악몽이 시작됐다\",\n",
       "  '신라젠 상장폐지 후폭풍…최대주주 엠투엔 하한가',\n",
       "  '양적 긴축에 흔들리는 금융 시장…리서치 헤드 5인이 말하는 투자 전략',\n",
       "  '매달 40만원씩 통장에 따박따박…\"쏠쏠하네\" [한경제의 솔깃한 경제]',\n",
       "  '이재명과 만난 ‘투자의 귀재’ 짐 로저스…“한국 경제, 미국보다 낙관적”',\n",
       "  '[오늘의 경제지표] 긴축 우려에 하락한 美 증시...코스피는?',\n",
       "  '[마켓뷰] 코스피 6거래일 만에 상승 마감…LG화학도 반등',\n",
       "  '[미리보는 이데일리 신문]유가 100달러 임박···경제 회복에 찬물',\n",
       "  '코스피, 中 경기 부양 기대에 추가 상승…LPR 인하 영향도',\n",
       "  '물가상승 지속 - 최근 경제동향 <2022.01.20. 분석>',\n",
       "  \"KEDI 30지수 1.5% '뜀박질'…코스피 상승률 2배 웃돌아\",\n",
       "  'LG엔솔 청약 ‘초대박’…여야 ‘추경 확대’ vs 정부 ‘어불성설’ [한강로 ...',\n",
       "  '[와우넷 공개방송] `코스피 닷새째 하락`...반등 언제 오나?',\n",
       "  '코스피, 中 경기 부양 기대에 추가 상승…LPR 인하 영향도',\n",
       "  '물가상승 지속 - 최근 경제동향 <2022.01.20. 분석>',\n",
       "  '윤석열, \"가상자산 산업서도 유니콘 기업 나와야\"',\n",
       "  '카카오發 스톡옵션 개선하나…LTV 상향은?',\n",
       "  \"'최장수 리서치센터장' 조익재 전문위원, 하이투자증권 떠난다\",\n",
       "  '\"대박날 줄 알았는데\"…SK바사 직원 9억 벌때 크래프톤 4천만원씩 잃었다',\n",
       "  '[가상자산 2022] 이재명 “가상자산업 위한 합리적 제도 시급히 마련해야”',\n",
       "  '‘속도내는’ 중국 경기부양…韓증시도 ‘활짝’',\n",
       "  '짐 로저스-이재명 \"블랙핑크·롤링스톤스 \\'38선 파티\\' 굿 아이디어\"',\n",
       "  '北 핵실험 증시 충격 적지만…타 악재와 결합시 영향력 증가 우려',\n",
       "  '코스피, 금리상승·지정학적 리스크 우려에 하락 출발',\n",
       "  '코스피, 1% 가까이 하락…2020년 12월 이후 최저치',\n",
       "  \"[오늘의 경제지표] 美 FOMC 경계감...국내외 증시 '후퇴'\",\n",
       "  '[오늘의 장마감] 파란불 플래그 뜬 코스피·코스닥...가정용품株 강세',\n",
       "  '[뉴스외전 경제 \\'쏙\\'] \"LG엔솔 청약 환불금 110조 원\"‥뭉칫돈, 어디로 향할까...',\n",
       "  '일반 투자자보다 못한 증권사 MP… 코스피 하락폭보다 낙폭 커',\n",
       "  '[주간증시]글로벌 긴축+청약 수급 공백…코스피 급락',\n",
       "  '코스피, 장 초반 약세…2830선까지 밀려',\n",
       "  \"[대선 eye] 한반도 냉기류 감도는데···또 '코스피 5000' 띄운 李\",\n",
       "  '[조동근 칼럼] 이재명의 반(反)시장적 거짓 경제가면을 벗긴다',\n",
       "  '이재명, LG엔솔 기관 ‘뻥튀기 청약’에 “금융당국 문책해야”',\n",
       "  \"이재명 ESG공약 전담 기구 'ESG실천위' 출범...위원장에 홍성국 의원\",\n",
       "  '[이슈분석] 미 연준 ‘긴축 가속도’ 우려 속 뉴욕증시 반등 성공',\n",
       "  \"IPO 앞둔 현대엔지니어링, 상장 통해 '제2 도약' 나선다\",\n",
       "  '[김대호 박사의 오늘 기업·사람] 카카오·LG생건·LG엔솔·인펙스·롯데',\n",
       "  '\"나스닥 10%, S&P 45% 하락\" 경고에...전전긍긍 서학 개미',\n",
       "  '[증권소식] 신한금융투자 \"LG엔솔 공모주 청약, 20·30대가 절반\"/한국투자웰...',\n",
       "  '`파월의 입`에 기대 건 증시..\"LG엔솔發 수급 정상화 기대\" [차트로보는 증시...',\n",
       "  'LG엔솔 증거금 100조…\"개인 대기자금, 증시 하방 지지\"',\n",
       "  '클린룸에 태양광까지…신성이엔지, 흑자전환 원년 기대 [종목탐방]',\n",
       "  '2,800까지 위협받는 코스피···\"기술주 반등 FOMC에 달렸다\" [다음주 증시전...',\n",
       "  \"[경제이슈 쉽게 읽기] 악재, 악재, 또 악재… 눈물 나는 '동학개미의 1월'\",\n",
       "  '[Market Watch] 주가 뚝 눈물 뚝뚝… 올해 첫 FOMC, 긴축공포 높일까',\n",
       "  '[이병도의 時代架橋] 대선 국가채무 폭증…재정준칙 시급하다',\n",
       "  '[긴축 공포] 금리 인상 예고에 잠 못드는 서학·동학개미',\n",
       "  \"[추천e종목] 인플레이션을 투자기회로?…배당투자·원유ETF '관심'\",\n",
       "  \"[스투파] '삼성전자보다 더 큰 회사된다', 10년 전 3D 안경주 몰빵한 결과...\",\n",
       "  '[주간증시전망]“설 연휴 앞두고 관망세…1월 FOMC, LG엔솔 상장 주목”',\n",
       "  \"[이종우의 인사이트] '본격' 금리인상기…자산시장 열기는 잊어라\",\n",
       "  '“LG엔솔 100조 떼놓은 당상\"...ETF가 괴물 만든다?',\n",
       "  '모빌리티 플랫폼이냐 단순 렌터카냐…쏘카 향한 두 가지 시선',\n",
       "  \"[스투파] '삼성전자보다 더 큰 회사된다', 10년 전 3D 안경주 몰빵한 결과...\",\n",
       "  '[주간증시전망]“설 연휴 앞두고 관망세…1월 FOMC, LG엔솔 상장 주목”',\n",
       "  '[빅데이터로 본 세상] 통가 해저 화산 폭발',\n",
       "  \"[이종우의 인사이트] '본격' 금리인상기…자산시장 열기는 잊어라\",\n",
       "  '화장품 게임 차부품주 줄줄이 실적 경고등…\"코스피 2600 갈수도\"',\n",
       "  '미국 FOMC 우려 속 LG엔솔 코스피 데뷔[주간증시전망]',\n",
       "  \"[이번주 증시] 코스피, 경계심리 지속…LG엔솔 환불금 '111조' 유입 기대\",\n",
       "  '[주간 증시 전망] FOMC·설연휴 前 관망세…\"코스피 2800~2950p\"',\n",
       "  \"[SR경제&라이프] LG에너지솔루션 상장 첫날 '따상' 가나…주가 향방 관심\",\n",
       "  '[주간증시전망] 코스피, 美연준 긴축과 설 연휴에 관망',\n",
       "  '“이재명에 ‘국고 사용’ 법인카드 줘선 안 돼”',\n",
       "  '압도적인 KEDI 30…올해 영업익 40% 뛴다',\n",
       "  '[주간증시전망] 1월 FOMC에 반등 여부 판가름',\n",
       "  \"[포커스] 긴축 공포에 증시·가상화폐 '폭락'…'거품' 붕괴되나\",\n",
       "  '[주간증시전망] 올해 첫 FOMC, LG에너지솔루션 상장에 주목해야 할 한 주',\n",
       "  '[데스크 칼럼] 첫 유니콘 상장 마켓컬리, 기대 부응하려면',\n",
       "  \"[증시 풍향계] '미국 긴축 영향권'…FOMC에 촉각\",\n",
       "  '\"삼성전자 물탈 시기 고민이라면…반도체 업황말고 OO 봐라\"[심성미의 투자의...',\n",
       "  '[동십자각] 불신 디스카운트',\n",
       "  \"연말마다 찾아오는 이 '투자법'···250만원 넣어봤더니 [코주부]\",\n",
       "  '증시 조타수 美 FOMC 촉각... 4분기 주요기업 실적 주목 [주간 증시 전망]',\n",
       "  \"'중대재해처벌법' 27일 시행…이번주(24~28일) 주요 일정\",\n",
       "  '\"10년 주식 아니면 10분도 보유 말라\"…버핏처럼 ETF도 장기 투자를',\n",
       "  \"'제2 아마존'이라며 버거형들이 60달러에 산 쿠팡 주식의 현재 가격 수준\",\n",
       "  \"[시황종합]'동학개미 살려'…코스피, 13개월만에 2800선 붕괴\",\n",
       "  '2,800선도 무너진 코스피‥대체 언제까지 하락할까?',\n",
       "  '연준 긴축발 코스피 급락…2,750 단기지지선 전망(종합)',\n",
       "  '코스피 2800 무너져 ‘블랙 먼데이’… “2,500 선까지 밀릴 수도”',\n",
       "  '2800 깨진 코스피, 앞날도 첩첩산중…\"1월 美 경제지표 부진 땐 2차 하락 전망...',\n",
       "  '바닥난 증시체력…코스피 2800 붕괴',\n",
       "  \"개미 본격 이탈에 코스피 2800선 '붕괴'… 2600선 추락 가능성도\",\n",
       "  \"'1월 효과' 사라진 증시…코스피, 13개월만에 2800선 붕괴\",\n",
       "  '[기획] 美긴축 공포에 코스피 2800도 와르르',\n",
       "  '[오늘의 경제지표] 美 긴축 경계감...장중 2,800선 아래로 주저앉은 코스피',\n",
       "  '\"겹악재에 갇힌 코스피 2600 갈 수도…현금 비중 늘려라\"',\n",
       "  '미국發 공포에 2800선 내준 코스피, 13개월 만 최저',\n",
       "  '코스피는 내리고 비트코인은 오르고, 왜? | 글로벌 시장이 한국경제에 미치는...',\n",
       "  '[기획] 美긴축 공포에 코스피 2800도 와르르',\n",
       "  '[오늘의 경제지표] 美 긴축 경계감...장중 2,800선 아래로 주저앉은 코스피',\n",
       "  '[ET] 코스피 2800선 붕괴 하락장에서 살아남는 법',\n",
       "  \"[시황] 코스피, 13개월 전으로 '후퇴'… 시총 상위종목 일제히 '파란불'\",\n",
       "  '\"코스피 2,800선 이탈, 대응 전략은?\"...오늘 밤 `매수자들`에서 공개',\n",
       "  '코스피, 장 초반 약세…2820선까지 밀려',\n",
       "  \"코스피 13개월만에 2,800선 내줘...코스닥은 900대 '위태'[오후 주식시장은]\",\n",
       "  \"코스피·가상자산 또 급락...FOMC 앞두고 '긴축 공포'\",\n",
       "  'MSCI 선진 지수 본격 추진하는 정부, 코스피 구원 투수 될까',\n",
       "  '2720으로 주저앉았다... 악재 겹친 코스피, 하루만에 52조 증발',\n",
       "  '코스피, 투심 한파에 2% 가까이 하락…2740선도 붕괴',\n",
       "  \"코스피 '바닥 모를 추락'…올해만 3100억 넘게 강제청산\",\n",
       "  '외국인 탈출에 52조 증발…파랗게 질린 코스피',\n",
       "  '미 FOMC 앞두고 트리플 약세…코스피 2700선 위협(종합)',\n",
       "  '“이제 어디까지 내려갈지 모르겠다”…연준 긴축에 전쟁 공포까지 덮친 코스...',\n",
       "  '2800까지 무너진 코스피…\"추세적 반등 당분간 보기 힘들것\"',\n",
       "  '코스피, 오전 2750선도 붕괴…나스닥, 5% 폭락 뒤 급반등',\n",
       "  '미 FOMC 앞두고 트리플 약세…코스피 2700선 위협(종합)',\n",
       "  \"'검은 화요일'…코스피, 외인·기관 쌍매도 2700선 위협 신저가 랠리\",\n",
       "  \"코스피 '버팀목' 三電·하이닉스마저 장 초반 하락세…1%대 하락\",\n",
       "  '[코스피 마감]매크로 우려에 LG엔솔發 수급 불안…2700선도 위태',\n",
       "  '“이제 어디까지 내려갈지 모르겠다”…연준 긴축에 전쟁 공포까지 덮친 코스...',\n",
       "  '코스피 2800선 붕괴… 지난해 구직단념 63만명 [한강로 경제브리핑]',\n",
       "  '2800 무너진 코스피…리서치센터장 6명 진단 들어보니',\n",
       "  '2800까지 무너진 코스피…\"추세적 반등 당분간 보기 힘들것\"',\n",
       "  '코스피, 오전 2750선도 붕괴…나스닥, 5% 폭락 뒤 급반등',\n",
       "  '시퍼렇게 질린 코스피, 2,700선까지 급락…코스닥 900선 붕괴',\n",
       "  '코스피 2700선도 위협…하락세 어디까지',\n",
       "  '2021년 경제성장률 4%… 코스피 급락으로 2700선 수성도 위협 [한강로 경제브...',\n",
       "  '태림페이퍼, 상장예비심사 승인…코스피 상장 예정',\n",
       "  '코스피, 2729.75로 거래 시작…상승 출발',\n",
       "  '흔들리는 코스피, 외인·기관 동반 매도에 2709선으로 하락',\n",
       "  '[종합] 나재철 금투협회장 “코스피 성장, 분리과세로 배당성향 높여야…장기...',\n",
       "  \"[오늘의 경제지표] FOMC 경계감에 美 증시 ↓...코스피도 '혼조'\",\n",
       "  \"[친절한 경제] 요즘 장 안 좋은데…LG엔솔 '따상' 갈 수 있을까?\",\n",
       "  '\"코스피 우상향 하려면 장기투자 꼭필요...배당성향 늘려야\"',\n",
       "  \"코스피 '비관론' 속 설이후 반등 기대도…동학개미 어떻게 할까\",\n",
       "  \"코스피 밴드 하향 조정하는 증권사…'2,600선까지'\",\n",
       "  \"뉴욕증시 또 '널뛰기'…코스피에 미치는 영향은?\",\n",
       "  '[김동호의 세계경제전망] 소득·일자리 양극화, 미·중 경제전쟁 후폭풍 커진...',\n",
       "  '[경제直視] 나스닥 -19%, 코스피 -18%, 코스닥 -16%, 바닥은?',\n",
       "  '[영상] 내달 코스피 상장 현대엔지니어링...\"친환경 신사업 주력할 것\"',\n",
       "  '코스피 이달 \\'9% 폭락\\' 3가지 원인…\"매매 서두를 필요 없다\"',\n",
       "  '새해 코스피 수익률 -9%는 기관 탓?…기관 이달 들어 5조원 ‘매물폭탄’',\n",
       "  '[경제읽기] 한국 경제고통지수 10년만 최고…\"물가 비상\"',\n",
       "  '[아주경제 오늘의 뉴스 종합] [코로나 1만명] 우세종 \\'오미크론\\' 강타, \"최악...',\n",
       "  '미 FOMC, 코스피 반등 실마리 제공할까',\n",
       "  \"코스피 '검은 목요일'...3.5% 급락해 14개월 만에 최저\",\n",
       "  \"코스피 2600선도 위협…외인·개미 '패닉셀'\",\n",
       "  \"코스피 2700 '붕괴'… 윤석열, '주식양도세 폐지' 외쳤다\",\n",
       "  \"'매의 발톱' 드러낸 파월…코스피 비명\",\n",
       "  '코스피 3%넘게 수직낙하, 2600선도 위태…금융시장 왜 이러나',\n",
       "  '\"도대체 바닥이 어디인가\"…코스피 2600선 방어도 아슬아슬',\n",
       "  '글로벌 금융시장 ‘파월 쇼크’… 코스피 2600선마저 ‘위태’',\n",
       "  '코스피 끌어내린 파월發 금리 공포... “美연준, 올 7번 올릴 수도”',\n",
       "  '미 금리 인상 예고에 코스피 2700 붕괴·환율 1200원 돌파',\n",
       "  '[뉴스체크｜경제] LG에너지솔루션 오늘 코스피 상장',\n",
       "  '미 연준 금리인상 예고 발언에…코스피 2700선 붕괴',\n",
       "  '[생생경제] \"LG엔솔 \\'따\\'는 갔는데 \\'상\\' 못가, 50만원에 수렴할듯\"',\n",
       "  '코스피 끌어내린 파월發 금리 공포... “美연준, 올 7번 올릴 수도”',\n",
       "  '코로나19 장기화로 ‘경제고통지수’ 악화 [한강로 경제브리핑]',\n",
       "  '미 금리 인상 예고에 코스피 2700 붕괴·환율 1200원 돌파',\n",
       "  '[뉴스체크｜경제] LG에너지솔루션 오늘 코스피 상장',\n",
       "  '美 3월 금리인상 예고…코스피 3.5% 급락...\"추가 하락 제한적\"',\n",
       "  '[오늘의 경제지표] 美 3월 금리 인상 예고...코스피 13개월 만에 2,700선 무너...',\n",
       "  '긴축발작·수급공백…코스피 2600선도 위태',\n",
       "  '“코스피, 언더슈팅 영역…추가 하락은 제한적”',\n",
       "  '고승범 \"코스피 낙폭 과도…지나친 불안심리 바람직하지 않아\"',\n",
       "  '고승범 \"코스피 낙폭 과도한 면 있어...변동성 완화 만전 기해달라\"',\n",
       "  '코스피 반등 성공했지만… 2월 불안요인 ‘여전’',\n",
       "  '코스피 2600선도 \\'위태\\'…증권가 \"단기 반등하지만...\"',\n",
       "  '2614.49… 코스피 14개월 만에 최저',\n",
       "  '코스피·코스닥 6거래일 만에 반등',\n",
       "  '‘파월 쇼크’에 코스피 2600선 위태… LG엔솔은 ‘따상’ 실패 [한강로 경제...',\n",
       "  'SK하이닉스 상승‥코스피 코스닥 하락',\n",
       "  '코스피 하락세 일단 멈췄다',\n",
       "  '[오늘의 경제지표] 반도체 대장株 급등...반등 시도하는 코스피',\n",
       "  '장중 2600선 무너진 코스피, 긴축 쇼크 여진에 하락 지속',\n",
       "  '코스피, 드디어 반등했지만...\"2600까지 열어둬야\" [센터장 긴급설문]',\n",
       "  \"요동치는 세계, '거대 태풍' 조짐?…文경제팀 마지막 시험대\",\n",
       "  '[장마감] 코스피·코스닥, 드디어 반등…개미들 웃음 되찾나',\n",
       "  '[종합] 코스피 , 2600선 이탈 후 재탈환…개인·기관 ‘사자’ 6일만 반등',\n",
       "  '[종합] 코스피 2621선, 개인·기관 매수에 소폭 상승 출발',\n",
       "  '코스피, 2617.87로 거래 시작…상승 출발',\n",
       "  \"S&P 3% 하락때 코스피 8% '뚝'…금융당국 주가 우려\",\n",
       "  \"[뉴스 열어보기] '매의 발톱' 드러낸 파월‥코스피 비명\",\n",
       "  '코스피 반등랠리는 언제쯤? 폭락 멈췄지만 3월까진 살얼음판 지속',\n",
       "  '[대선주자 증시공약①]이재명 \"코스피 5000시대 연다\"',\n",
       "  '우울한 1월, 코스피·코스닥 시가총액 한달새 175조 날라가',\n",
       "  '12월 주담대 금리 3.63%, 7년 7개월 만에 최고치… 증시 상승 전환 [한강로 경...',\n",
       "  '[다음주 증시전망] 2600 턱걸이한 코스피…\"美긴축 기조 누그러져야 반등\"',\n",
       "  '“코스피 2500까지 추락” vs “저평가 구간 진입, 반등 가능”',\n",
       "  \"괴롭지만 버티자?…개미들, '2600 턱걸이' 코스피에 진땀\",\n",
       "  '[증권소식] 미국 물가지표, 40년만에 최대폭 상승/LG엔솔 상장에 증시 휘청/코...',\n",
       "  '[경제이슈 쉽게 읽기] 상장 첫날 LG엔솔 주워담았는데… \"손절? 존버? 나 어떡...',\n",
       "  '박스권 뚫고 하락한 국내 증시…방패는?',\n",
       "  '흔들리는 증시, 유로존이 대안 될까? 美 대비 저평가 EU...명품·금융株 담아',\n",
       "  '흔들리는 증시, 유로존이 대안 될까? 美 대비 저평가 EU...명품·금융株 담아',\n",
       "  '\"마음이 무거웠다\"…고승범 금융위원장이 감상평 남긴 드라마는? [이호기의 금...',\n",
       "  '펀드매니저 403人이 뽑은 상반기 포트폴리오 | 반도체·전기차 ‘확대’ 바이...',\n",
       "  '사진으로 본 일주일 [뉴시스Pic]',\n",
       "  \"더 독해진 美 파월의 입…한은 2월 '기습인상' 배제 못한다\",\n",
       "  '[스투파] \"워런 버핏이 부자가 된 이유는 이것\"',\n",
       "  \"'장미빛 K-배터리'...LG엔솔 상장으로 본 미래 먹거리\",\n",
       "  '문대통령 지지율 42% 4주 연속 40%대, 부정률 51%…민주당 37% vs 국민의힘 3...',\n",
       "  '[비바 2022] 아파트값부터 LG에너지솔루션·삼성전자 주식, 대기업 중고차까지...',\n",
       "  '[주간증시전망]증권가 \"연휴 이후 증시, 추가 하락폭 제한 전망\"',\n",
       "  '[주간증시전망]코스피, 연준 긴축 여파에 변동장세',\n",
       "  '\"올해 코스피 2500선까지 떨어질 것\"…연초부터 비관론 퍼지는 국내 증시',\n",
       "  '\\'2500 간다\" \"반등할 것\" 설이후 코스피 향방 가를 최대 변수',\n",
       "  '[이번주 증시] 설연휴 하방압력 제한적…코스피, 2700 회복 전망',\n",
       "  '증시 폭락에 놀란 증권사들, 올해 코스피 하단 줄하향',\n",
       "  '지금 코스피 바닥일까?…설연휴는 주식 투자 재점검해야 할 시기',\n",
       "  '불안심리로 국내 증시 변동성 확대…코스피 2천550∼2천700선 전망',\n",
       "  \"증시 폭락, AI는 미리 알았다…하락장 직전 '팔아라' 신호\",\n",
       "  '설 연휴 이후 증시 향방은…\"더 떨어지진 않을 것\" [주간전망]',\n",
       "  \"LG엔솔 급락·현대엔지니어링 연기...상장에 '찬바람'\",\n",
       "  '설 연휴 이후 증시 향방은…\"더 떨어지진 않을 것\" [주간전망]',\n",
       "  \"LG엔솔 급락·현대엔지니어링 연기...상장에 '찬바람'\",\n",
       "  '[증시 풍향계] 추가 하락 제한될까…시장 변동성 지속 예상',\n",
       "  \"폭락장 직전 AI가 경고했다…'매수' 신호 줘\",\n",
       "  \"[TF비즈토크<상>] LG엔솔, '쪼개기 상장'·'뻥튀기 청약' 논란 남긴 숙제는?\",\n",
       "  \"슈퍼 '파월'에 얼어붙은 증시…분위기 반전될까\",\n",
       "  '‘긴축’ 매를 든 연준에 시장 “어게인 1994년?”',\n",
       "  '[주간증시전망] 심리적 공포 \\'정점\\' …\"IT·모빌리티·리오프닝 주목\"',\n",
       "  \"글로벌 증시 하락에도 중국 홀로 '굳건', 중국기업 투자 ETF 사볼까\",\n",
       "  '[ESG 공시, 실효성 논란]① 재계 \"ESG 경영 공시 단일·간소화 돼야\"',\n",
       "  '코스피 향방은…\"다음주 2500선 하락 가능\"',\n",
       "  '코스피 바닥 찍었나?…KB증권 \"2월 주식비중 확대\"',\n",
       "  \"잇단 긴축·규제에 '꽁꽁'·설 이후 우리 경제 전망은?\",\n",
       "  '바람 잘 날없는 코스피, 美 정책금리 인상·대외 리스크에 증시 불안 커진다',\n",
       "  '문 대통령, 1년만에 90% 수익 냈던 펀드, 지금은?',\n",
       "  '[한국증시 향방은⑦]유승창 KB증권 센터장 \"2월 중 바닥 찍을 것\"',\n",
       "  '\"금리 인상 공포에 주식·채권 추가 약세 가능성\"',\n",
       "  '주식 때문에 세뱃돈도 긴축할 판…\"설 끝나면 웃을 수 있나요\"',\n",
       "  \"[영상]'개미 잡기' 경쟁 나선 여야 대선 후보들…'포퓰리즘' 비판도\",\n",
       "  \"'화려한 등판' LG엔솔, 상장후 주가는 내리막\",\n",
       "  \"[영상]'개미 잡기' 경쟁 나선 여야 대선 후보들…'포퓰리즘' 비판도\",\n",
       "  \"'화려한 등판' LG엔솔, 상장후 주가는 내리막\",\n",
       "  '호재가 안 보인다…먹구름 짙게 드리운 주식시장',\n",
       "  '카카오페이·뱅크, 기관 의무보유 대거 해제···매물 폭탄?',\n",
       "  '[증권거래세 폐지론 재점화➂] 전문가 “비효율적 제도...소득세 전환 고민해...',\n",
       "  '[미리보는 증시재료] \"믿을 건 실적뿐\"... 美 빅테크 기업 실적발표 주목',\n",
       "  '[우주산업읽기③] 대한민국, ‘우주 지각생’에서 ‘떠오르는 별’ 이 되다',\n",
       "  \"[시경pick] '상장 철회' 불구... 현대엔지니어링 시장 전망 '긍정적'\",\n",
       "  '美연준발 금융시장 출렁…당국 \"적기대응 총력\"',\n",
       "  '[주간증시전망] 연준 긴축 스탠스가 증시 방향성 주도',\n",
       "  'MSCI 선진지수 승격하면 진짜 코스피 4000갈까?',\n",
       "  \"코스피 뒤집어 놓은 'LG엔솔 쪼개기 상장' 후유증\",\n",
       "  '\"코스피 낙폭 과도\"... 설 연휴 이후 반등할까',\n",
       "  '\"1월효과 없었다\"…코스피, 2월도 높은 변동성 예고',\n",
       "  \"[증권소식] 콴텍 AI, 하락장 조기대응으로 '선방'/테슬라 주가, 10%대 반등/코...\",\n",
       "  '[한국증시 향방은⑬]김형렬 교보증권 센터장 \"리스크 관리 절실\"',\n",
       "  \"유동성 잔치는 끝났다...증시·가상자산 시장 '급락'\",\n",
       "  \"연휴 지나면 반등 시동 걸까…낙폭 컸던 수출 대형주 '주목'\",\n",
       "  \"[이재명 vs 윤석열]'공매도 폐지'는 없다…이유는\",\n",
       "  '하나금투, 은행 4분기 실적 \"기대치 충족할 듯\"',\n",
       "  \"연휴 지나면 반등 시동 걸까…낙폭 컸던 수출 대형주 '주목'\",\n",
       "  \"[이재명 vs 윤석열]'공매도 폐지'는 없다…이유는\",\n",
       "  '하나금투, 은행 4분기 실적 \"기대치 충족할 듯\"',\n",
       "  \"'세뱃돈 어디에 굴려야 수익 좋을까'… 괜찮은 투자 종목은\",\n",
       "  '美 3월 금리인상 예고에 국내 증시 변동성 지속…대형주 악재 겹쳐',\n",
       "  '[ESG 공시, 실효성 논란]② 상장사 90% \"ESG 공시 부담\"…정부 \"선진화 방안 ...',\n",
       "  '[김박사 진단] FOMC 긴축 폭탄 ② 금리인상 한꺼번에 0.5%p',\n",
       "  '코스피 하단 2500까지↓…패닉셀링 진행형·변동성 확대 국면',\n",
       "  '돈 푸는 중국, 코스피 반등에 긍정적 영향 줄까?',\n",
       "  \"설 연휴 기간 미국 증시 '껑충'…코스피에도 훈풍 불까\",\n",
       "  '수십조원 규모 ‘경제회복’ 공약 속속…재원 방안은 미흡 [2022 대선 공약 탐...',\n",
       "  '美 증시 3대지수 ‘불안한 반등’ 기업실적·주요 경제지표 주목[주간 증시 전...',\n",
       "  '증권가 “2월도 고난의 시기”…2월 코스피지수 전망 2500~3000',\n",
       "  '설 연휴 뒤 코스피 향방은…증권가 \"2차 하락장 대비해야\"',\n",
       "  '증권가 \"코스피 하단 2450~2500\"…설 연휴 뒤 \\'하락장\\' 투자 전략은',\n",
       "  '[뉴스파노라마 설날특집] 김정식 교수 \"새해 경제성장 관건은 코로나19 대응....',\n",
       "  \"[아주경제 오늘의 뉴스 종합] '악몽의 1월' 보낸 증시…반등장 IT·리오프닝주...\",\n",
       "  '이재명-윤석열-안철수 3강 구도··· D-40 대선 정국',\n",
       "  'LG엔솔 권영수 vs CATL 쩡위친···배터리 세계 1위 놓고 韓中 전운',\n",
       "  '[주간증시전망] 바닥 찾는 것이 관건…美 실적 발표·지정학적 리스크에 주목',\n",
       "  '韓 증시, MSCI 선진국 편입 가속도 붙나',\n",
       "  '\"성장주보단 대형주\"…전문가가 말하는 금리 인상기 대처법',\n",
       "  '설날 이후 증시 전략은 ‘공포를 매수하라’ [이경민과 함께 하는 투자 항해]',\n",
       "  '새해들어 주요국 시총 7% 실종…한국, 47개국 중 하락률 5위',\n",
       "  '주식형펀드 순자산 4개월 만에 감소···한달새 8조원↓',\n",
       "  '수익 욕심보다 손실 안내는게 핵심…가치주·배당주 노려라[길잃은 돈, 금융전...',\n",
       "  '세계증시 반등, 지난달 10조원 쓸어담은 동·서학 개미 운명은',\n",
       "  '코스피 외인·기관 매수에 1.67% 상승 마감…2,700선 회복(종합)',\n",
       "  \"코스피, 기술적 반등 '위험 대비 해야'...2차 하락 시 '반도체 -자동차 -2차 ...\",\n",
       "  '코스피, 겨우 반등했지만…\"2차 하락땐 2500까지 밀릴 우려\" 경고',\n",
       "  'MSCI 선진국 편입되면 코스피 4000? \"패시브 자금 28억달러 유출\"',\n",
       "  '尹 \"사드 추가 설치 필요\" 李 \"왜 중국 자극해 경제 망치나\" [대선후보 4자토...',\n",
       "  '[시황종합] 뒷심 부족 코스피 2707선 턱걸이…기관, 막판 매도',\n",
       "  '글로벌 증시 훈풍에…코스피, 2,700선 ‘단숨’ 회복',\n",
       "  '미국發 훈풍에 코스피 2700선 회복',\n",
       "  '거래소 \"미래에셋 ESG 상장지수펀드, 오는 8일 코스피 상장\"',\n",
       "  '[생생경제] \"홍남기, 금리인상으로 집값 잡혔는데 공급 늘었다고... 外\"',\n",
       "  '코스피 2% 가까이 올라 2700선 회복…증시 기지개 켜나',\n",
       "  '설 연휴 기간 미 증시 훈풍에 코스피 2700선 회복',\n",
       "  '\"긴축 악재 덜고\" 기관 사자에 코스피 2730 안착 시도',\n",
       "  '[오늘의 경제지표] 연휴 뒤 회복 나선 코스피...장중 2,700선 회복',\n",
       "  '설 연휴 쉰 코스피, 글로벌 증시 훈풍에 2700 회복…\"변동성 점검해야\"',\n",
       "  '“연휴 기간 뉴욕증시 상승…코스피도 2800 돌파 시도 가능”',\n",
       "  \"'나스닥 선물 하락 여파' 코스피 2700 간신히 안착·코스닥 900 회복 실패\",\n",
       "  '[이종우의 경제읽기]긴축·경기 둔화 영향…전세계 주식시장 요동',\n",
       "  '미국 눈치보는 코스피, 미미한 반등',\n",
       "  '\\'반등 시도한\\' 코스피 2,700선 회복했지만…\"추가하락 가능성 경계해야\"',\n",
       "  '반등한 코스피…바닥 찍고 올라가나',\n",
       "  '‘엄빠 찬스’로 집 사고 명품 쇼핑한 ‘금수저’ 등 세무조사…코스피 2700 ...',\n",
       "  '코스피, 3거래일 연속 반등…2740선 회복',\n",
       "  '[생생경제] \"윤석열은 RE100을 왜 모른다고 했을까? 外\"',\n",
       "  '코스피 상승 마감.. 환율안정, 외인유입, 리오프닝 여파',\n",
       "  \"'메타 쇼크'에도 코스피 2750선 탈환...살얼음판 분위기는 여전\",\n",
       "  '[내외장마감] 코스피·코스닥 연이틀 동반 상승 마감',\n",
       "  '코스피, 기술주 우려 완화 속 상승 출발',\n",
       "  \"진에어 17%, 롯데칠성 7.6% '리오프닝'주 급등...코스피지수, 3거래일 연속 상...\",\n",
       "  '(마감) 코스피, 外人·기관 ‘사자’에 3거래일 연속 상승…LG엔솔 50만원대',\n",
       "  \"진에어 17%, 롯데칠성 7.6% '리오프닝'주 급등...코스피지수, 3거래일 연속 상...\",\n",
       "  '코스피, 1.57% 상승 마감…외인·기관 매수에 대장주 반등',\n",
       "  '[한국주식 원포인트 레슨] 코스피 조정은 과민반응…관망보단 저점매수를',\n",
       "  '(마감) 코스피, 外人·기관 ‘사자’에 3거래일 연속 상승…LG엔솔 50만원대',\n",
       "  '다음주 국내증시 눈치보기 장세, 미국 경제지표와 기업 4분기 실적 주목',\n",
       "  '\\'힘\\' 못받는 코스피, 바닥 찍었나…증권가 \"지금이 저가 매수 기회\" 분석 쏟아...',\n",
       "  '[주간증시]연휴 지내고 오니 훈풍 ‘솔솔’…코스피 급등',\n",
       "  '[경제읽기] 소비자물가 넉달째 고공행진…인플레이션 우려 확산',\n",
       "  '코스피 반등에도 증권사들 \"리스크 관리 필요\" 조언',\n",
       "  '안철수 \"규제혁신전담부처 신설···유니콘 5년간 60개 양성\"',\n",
       "  '주가 한국 15.5% 하락 때 대만 6.7% 상승… ‘닮은꼴 경제’인데 차이 나는 네...',\n",
       "  '코스피 코스닥 더이상 헷갈리지 말자 [코주부 베이직]',\n",
       "  '[정치 맥] 尹, 개미가 원해 공약 뒤집었다? 개미들 의견 들어보니',\n",
       "  '[더오래]MZ세대, 퇴직연금 시장의 주역으로 떠오르나',\n",
       "  '[추천e종목] 하락장에 대응하는 레버리지 ETF…눈여겨볼 종목은?',\n",
       "  '고개 드는 저점매수론…매수시기는 언제',\n",
       "  '외국인 순매수 전환에 반등세로 돌아선 LG에너지솔루션…오는 14일 MSCI 편입...',\n",
       "  '다음 주 국내 증시 눈치보기 장세 이어질 듯',\n",
       "  '[마켓워치] 9일 LG엔솔에 펀드 자금 4000억 유입 전망…주가 움직임 주목',\n",
       "  '페북의 추락… 하루새 시총 278조원 증발, 美 증시사상 최악',\n",
       "  '[책 속 한 대목] \"자산배분 황금률, 주식 55%+채권 45%\"',\n",
       "  '[주간증시전망]저가 매수세 유입 가능성…\"낙폭과대 업종 눈여겨봐야\"',\n",
       "  '[해외 주식투자 ‘120조원 시대’]국내 증시에 ‘배신’ 당한 개미들, 롤러코...',\n",
       "  '고개 드는 저점매수론…매수시기는 언제',\n",
       "  '외국인 순매수 전환에 반등세로 돌아선 LG에너지솔루션…오는 14일 MSCI 편입...',\n",
       "  '[해외 주식투자 ‘120조원 시대’]고수익·고위험 좇는 개미들 ‘뉴골드러시’...',\n",
       "  '다음 주 국내 증시 눈치보기 장세 이어질 듯',\n",
       "  '[해외 주식투자 ‘120조원 시대’]베트남 주가 2년 만에 2배로…전문가들 올해...',\n",
       "  '\"코스피 바닥 2700이라더니\"…증시전망 밥먹듯 바꾸는 증권사들',\n",
       "  '[이번주 증시] 코스피, 최대 2790선…\"낙폭과대에 저가매수 유입\"',\n",
       "  '코스피, 눈치보기 장세로 전환…\"대선 관련 테마주 주목\"[주간전망]',\n",
       "  '[주간증시전망] 메타 어닝 쇼크·긴축 우려에도 코스피 반등…2700선 박스권 ...',\n",
       "  '코스피 반등하긴 했는데…증권가 \"고밸류 성장주 비중 줄여라\"',\n",
       "  '이주의 주식시장은? 오미크론 확진자 폭등에 진단키트 관련주 급등, 방역체계...',\n",
       "  '[주간증시전망] 눈치보기 장세 이어진다…\"코스피 2600~2780 예상\"',\n",
       "  '[한상춘의 국제경제 읽기] KEDI 30과 KEDI 30 ETF…왜 요즘 화두인가?',\n",
       "  '주식계좌 반토막 개미들 \"적금 바보가 부럽다\"... 다시 \\'安쩐지대\\' 쏠리는 뭉...',\n",
       "  '긴축에 떠는 당신, 명심하라! 금리인상기에 증시는 올랐다',\n",
       "  \"실적 뜀박질, 주가는 뒷걸음질…'줍줍의 시간'이 왔다\",\n",
       "  \"이·윤·심·안이 답해야 할 '일자리' 핵심 문제 [대선 이슈 칼럼]\",\n",
       "  '주식계좌 반토막 개미들 \"적금 바보가 부럽다\"... 다시 \\'安쩐지대\\' 쏠리는 뭉...',\n",
       "  '1월 하락장에도…베트남펀드는 웃었다',\n",
       "  '[증시 풍향계] 눈치보기 장세 예상…저가 매수세 추가 유입 가능성',\n",
       "  'MSCI 선진국 지수 편입 5수 성공할까',\n",
       "  '[주간증시전망]눈치보기 장세 전망…\"대선수혜주 집중해야\"',\n",
       "  \"'메타 폭락'에도 국내 테마株 이유있는 반등 주목\",\n",
       "  '\"MSCI 선진국 편입되면 한국서 28억달러 유출\" 분석한 리포트',\n",
       "  '\"주식은 평범하기 위한 수단\"…주가하락에 청년들 \\'우울\\'',\n",
       "  'KEDI 30 기업 주가 5년간 190%↑…코스피보다 4배 뛰었다',\n",
       "  '코스피, 기관 매도에 나흘만에 하락…2,740대로 뒷걸음(종합)',\n",
       "  '[마켓인]코람코더원리츠, 3월 코스피 상장',\n",
       "  'LG엔솔 8% 올랐지만…코스피, 기관 매도 못 이겨 나흘 만에 하락',\n",
       "  '[주간 증시 전망] 코스피, 눈치보기 장세…“2,600선 관망, 분할매수 대응”',\n",
       "  '이번 주 코스피 2800 가능할까?…증권가 전망은 “2600~2790”',\n",
       "  \"[대선 D-한달 공약분석②-경제]코스피5000·잠재성장률 4%…'개미표심' 잡기 ...\",\n",
       "  \"[마감 시황] 美긴축 우려에 기관 '팔자'…코스피 0.2% 하락\",\n",
       "  \"[오늘의 경제지표] 美 1월 고용지표 호조...금리 인상 우려에 코스피 '약세'\",\n",
       "  '긴축 보다 경제정상화 `베팅`…외인, 낙폭과대 기술주 `매집`',\n",
       "  \"코스피 '기관 팔자' 4거래일 만에 하락…LG엔솔 8%대 급등\",\n",
       "  \"[오늘의 경제지표] 美 1월 고용지표 호조...금리 인상 우려에 코스피 '약세'\",\n",
       "  '코스피, 기관 나홀로 ‘팔자’에 하락 출발…‘2730선’',\n",
       "  '[오후 시황] 다시 고개 드는 연준 긴축 공포…코스피 0.4% 하락',\n",
       "  '코스피, 기관 매도에 0.9% 하락 2725선…LG엔솔 강세',\n",
       "  '[이번 주 증시 전망]증권가의 신중론…\"코스피 2750선 이상에선 주식 팔아라\"',\n",
       "  '긴축 보다 경제정상화 `베팅`…외인, 낙폭과대 기술주 `매집`',\n",
       "  \"[오전 시황] 코스피 기관 '팔자'에 0.5% 하락…LG엔솔은 6% 급등\",\n",
       "  '코스피, 2750.70으로 거래 시작…장 초반 약세',\n",
       "  '코스피 반등, 레버리지 ETF 탈출 기회 왔다',\n",
       "  '코스피 어디로…SK하이닉스·유가에 물어봐',\n",
       "  '코스피, 투자자들 관망세 속 강보합…2,740대 마감(종합)',\n",
       "  '급락장서 돋보인 배당투자…코스피 8% 내릴때 3% 올라',\n",
       "  '[오늘의 경제지표] 물가지표 경계 속 美증시 ↓...코스피는 반등 시도',\n",
       "  '금리상승기 예·적금 재테크 뜬다…지난해 IPO 규모 20조원 달해 [한강로 경제...',\n",
       "  \"코스피, 외인 '팔자'에 강보합 마감…잘가던 LG엔솔 '휘청'\",\n",
       "  '코스피 2740선 하락 마감…삼성바이오로직스 5%대 강세',\n",
       "  '코스피, 상승 출발…2770선 회복',\n",
       "  \"[내외장마감] 개인·기관 선방으로 지켜낸 '코스피'…해운사 관련株 주목\",\n",
       "  '코스피, 저가 매수 심리에 1% 상승 출발',\n",
       "  '증권사 올해 주가 전망 `코스피 3000` 없다 KEDI30과 KEDI30 ETF, 요즘 왜 화...',\n",
       "  \"코스피 강보합…'흑자전환' SK바이오팜 8.7%↑\",\n",
       "  '[마감시황]코스피 강보합…2740선 유지하며 마감',\n",
       "  '(영상)7주만에 반등한 코스피…대장주의 귀환이 온다',\n",
       "  '[오정근 칼럼] 슬로건만 내세우면 유능한 경제대통령인가',\n",
       "  '이선희 경북도의회 기획경제위원회 부위원장, 대표발의 ‘경상북도 기업 ESG ...',\n",
       "  '\"대기업 81.4%, 올해 ESG 사업 키운다…환경 부문 최우선\"',\n",
       "  \"'KEDI 30 ETF' 상장 첫날…개인 95억 순매수 '역대 2위'\",\n",
       "  'LG엔솔에 2월 MSCI 리밸런싱…‘수급 파도’ 한 번 더?',\n",
       "  '개미, 증시 반등에 \\'베팅\\'…증권가 \"하락장 또 온다\"',\n",
       "  '한은 \"뉴스심리지수, 경제지표보다 1~2개월 선행\"',\n",
       "  '코스피 0.81% 올라 2,760선 회복…외인·기관 동반 순매수(종합)',\n",
       "  '[증시] 코스피, 외인·기관 매수에 상승 출발...2,770선 회복',\n",
       "  'KDI \"韓경제, 완만한 회복세 유지···대외부문 불확실성 높아\"',\n",
       "  '[생생경제] \"韓美 세탁기 전쟁에서 승소, 삼성·LG전자 웃는다 外\"',\n",
       "  \"코스피, 우크라 우려 완화 속 1% 가까이 상승 출발…'2760선'\",\n",
       "  '블록체인·NFT·수소경제…부산 기업들, 신성장 산업전환 박차',\n",
       "  'MSCI가 뭐길래… 선진국 지수 편입되면 코스피 4000은 무조건 가능?',\n",
       "  '코스피, 0.9%대 상승…外人·기관 매수',\n",
       "  '코스피, 2772.63으로 거래 시작…상승 출발',\n",
       "  '코스피, 2772.63으로 거래 시작…상승 출발',\n",
       "  '외인·기관 동반 매수 코스피, 이틀연속 오름세…\"기술적 반등 과정\"',\n",
       "  '[오전시황] 코스피, 美 증시발 훈풍·기업 이익체력 회복 기대감에 강세 출발',\n",
       "  '코스피 0.81% 올라 2,760선 회복…외인·기관 동반 순매수',\n",
       "  '[친절한 경제씨] 카카오 먹튀를 통해 본 한국기업의 도덕적 해이',\n",
       "  '코스피 방향? SK하이닉스 실적과 국제유가에 물어봐!',\n",
       "  '(마감) 코스피, 外人·기관 순매수에 2거래일 연속 상승…2,760선',\n",
       "  \"코스피, 美 증시 훈풍+外人·기관 '사자'에 상승...三電·하이닉스↑\",\n",
       "  'KEDI 30 ETF 상장 이틀째 상승 지속…거래량 상위 10위',\n",
       "  '국민연금 대표소송…재계 \"꺼진불 아니다\"(종합)',\n",
       "  '수소·전기차 테마형 ETF 잇따라 코스피 신규 상장',\n",
       "  '코스피, 인플레 경계·옵션만기일 영향에 2,770선 등락',\n",
       "  '\"코스피 연간 이익 꺾이고 있다\"…변동장 이길 실적株는?',\n",
       "  '이재명 \"코스피5000 가려면 코리아 ‘디스카운트’를 ‘프리미엄’으로 바꿔야...',\n",
       "  \"[오늘의 경제지표] 훈풍 분 美 증시...국내 증시는 '혼조세'\",\n",
       "  '[내외장마감] 외국인 화력에 버틴 코스피…주류 관련주 강세',\n",
       "  '코스피, 2787.44로 거래 시작…상승 출발',\n",
       "  '\\'세이브 코스피\\' 프로젝트 시작…\"주주 권리 지키자\"',\n",
       "  '코스피, 美 증시 호조에 장 초반 0.4%대 상승…CPI 경계',\n",
       "  '“불공정 엄벌” 이재명, 투자자 표심 잡기···코스피 5000은 ‘글쎄’',\n",
       "  \"낮아진 눈높이에 기댄 코스피…'실적 개선만으론 상승 어려워'\",\n",
       "  '“불공정 엄벌” 이재명, 투자자 표심 잡기···코스피 5000은 ‘글쎄’',\n",
       "  \"'주가 부진' 언급한 LS전선아시아, 배당 확대 택했다\",\n",
       "  \"크래프톤, 지난해 '역대 최대 실적' 1조 8863억 원 달성\",\n",
       "  'MSCI 선진지수 편입 ‘속도전’…시장 ‘기대반 우려반’',\n",
       "  \"자산가들 'KEDI 30 ETF' 1인당 1300만원어치 샀다\",\n",
       "  '임인년 뜨는 ETF 테마는? 메타버스·전기차·친환경…동학개미 ‘러브콜’',\n",
       "  '\"MSCI 선진지수 편입 시 패시브 18조원 자금 유출\"',\n",
       "  '[이슈인사이드] 美 1월 소비자물가 7%대 나올까...증시 영향은?',\n",
       "  '[이슈분석] 美 1월 소비자물가 또 7%대 나올까…미 연준 움직임 ‘촉각’',\n",
       "  '‘닥터 둠’ 김영익 교수 “올해 美증시 20% 추락…코스피 2500선 각오해야”',\n",
       "  \"'LG에너지솔루션' 언제 팔아야 하나 [허란의 경제한끼]\",\n",
       "  '[超긴축시대]당장 발목 잡혔지만…30년 금리 인상기마다 코스피는 올랐다',\n",
       "  '코스피, 하락 출발…2730선까지 밀려',\n",
       "  '코스피, 亞증시 개장 후 낙폭 축소…2,750선 회복',\n",
       "  '[주간증시]美 1월 물가 7.5% 급등…코스피 2,747선 마감',\n",
       "  '[MBN GOLD 시황저격] 코스피·코스닥 낙폭 과대, 일상회복땐 주가상승여력…저...',\n",
       "  '미 물가쇼크에 금융시장 흔들…코스닥 2%대 급락·국채금리 급등',\n",
       "  '부동산 정책 실패로 국세수입, 사상 최대... 1년 전보다 58.5조 더 걷혔다',\n",
       "  '[외환마감]환율, 1200원은 못 넘어…물가 충격에도 네고, 당국 경계',\n",
       "  '방학에 아이들은 게임 삼매경인데…게임주 투자한 아빠는 한숨만',\n",
       "  '[연합뉴스 이 시각 헤드라인] - 10:30',\n",
       "  '주식양도세 폐지 개미들이 원한다?... 그 세금 2%만 낸다',\n",
       "  '[외환마감]환율, 1200원은 못 넘어…물가 충격에도 네고, 당국 경계',\n",
       "  '[超긴축시대]물가가 美쳤다, 슈퍼 긴축 가속화',\n",
       "  '\"세수추계 年 1회→4회로 확대\" 기재부, 개편안 내놨지만…',\n",
       "  '원/달러 환율 4거래일 만에 상승…2원 오른 1,198.5원 마감',\n",
       "  '오미크론 확진자 5만 시대…리오프닝주 ‘꿈틀’ 이유는',\n",
       "  '미국발 \\'물가 쇼크\\'...정부·한은 \"물가 대응에 협력\"',\n",
       "  '\"연준, 3월 0.5%P 이어 연내 금리 올릴 것\" 기정사실화... 세계 증시 또 비명',\n",
       "  '[공약 빅데이터 분석] 쏟아지는 공약…국민이 뽑은 대선 키워드는?',\n",
       "  '40년만에 7.5% 뛴 美물가… 성큼 다가오는 긴축공포',\n",
       "  '금리 인상이란 ‘태풍’이 온다[동아시론/조하현]',\n",
       "  '“약세장에서도 미국주식 투자로 제2의 월급 번다”',\n",
       "  '내년 상반기까지 최대 8회 금리 인상…최적의 증시 투자안은',\n",
       "  '다우, 니케이, 항셍…헷갈리는 해외 지수 총정리[코주부 베이직]',\n",
       "  '이주의 주식시장은? 코로나 재택치료 관련주 급등, 삼부토건 강세, 주류값 인...',\n",
       "  '“K콘텐츠 소비 말고 투자하자”… 테마 ETF 투자 관심↑',\n",
       "  '다음주 국내 증시…미국 긴축 우려 영향 ↑',\n",
       "  '美물가 40년만에 최대상승… 바이든 “죽기살기 대응”',\n",
       "  '“K콘텐츠 소비 말고 투자하자”… 테마 ETF 투자 관심↑',\n",
       "  '다음주 국내 증시…미국 긴축 우려 영향 ↑',\n",
       "  '[주간 증시 전망] 물가 피크아웃 가능성↑...코스피 2740~2850P',\n",
       "  '[아주경제 오늘의 뉴스 종합] 대한민국 메달 총 5개로...여자 쇼트트랙 은메달...',\n",
       "  \"러, 우크라 침공 '일촉즉발'…한국경제 '新3高' 덮치나\",\n",
       "  '경제 회복 신호탄?…작년 한해 세금 수입 약 58조원 늘었다',\n",
       "  '지난해 걷은 자산세수 68조 원…문재인 정부 들어 2.4배로 늘어',\n",
       "  '[주간 증시 전망] 변곡점 맞은 코로나 정책...美 긴축 우려 여전',\n",
       "  '영끌한 집은 뚝, 주식은 -34%…\"연봉 날아갔다\" 직장인 절규',\n",
       "  \"'다시 갈림길' 오스템임플란트·신라젠, 거래정지 장기화되나\",\n",
       "  '종부세 등 자산세 작년에만 68조…문 정부들어 2.4배 늘었다',\n",
       "  '[증시 풍향계] FOMC 의사록 내용에 촉각…불확실성 지속 예상',\n",
       "  '[주간증시전망] 긴축 우려·경기회복 기대 공존',\n",
       "  '공매도 전면 재개 \\'초읽기\\'...대선 주자들은 \"개선\"',\n",
       "  '주총 앞두고 주주행동주의 확산…목소리내는 소액주주',\n",
       "  '\"아파트가격 다 오르는 시대 끝났다\" [매부리TV]',\n",
       "  \"일상회복 기대에 '리오프닝주' 꿈틀…섣부른 기대 우려도\",\n",
       "  '美 물가쇼크에 전쟁우려까지…변동성 커진 증시 전망은?',\n",
       "  \"[펀드와치]방역완화 기대감에 '리오프닝 펀드' 웃었다\",\n",
       "  '[주간증시전망] FOMC 의사록·물가지수에 주목하자…코로나 정책도 관건',\n",
       "  '주가, 코로나 직후 반등 때와는 상황이 다르다',\n",
       "  '\"여가부 폐지 대신 저출산·고령화 타개 지휘소로 격상시켜야\"',\n",
       "  '\"MSCI선진지수 편입시 코스피 30% 상승\"',\n",
       "  '경기불안·긴축부담…\"코스피 2,600 지지 장담 어렵다\"(종합)',\n",
       "  '\"투자 전략 싹 바꿔야 하나\"…코스피 장중 2700 붕괴',\n",
       "  '경제 활성화로 법인세 늘었다더니…95%는 대기업서 거둬갔다',\n",
       "  '[재택플러스] 美 인플레 충격에 코스피 하락',\n",
       "  \"코스피 시총 하루만에 34조원 증발…상위 10개 중 8개 '파란불'\",\n",
       "  '우크라이나 전운에 코스피 ‘2700 턱걸이’',\n",
       "  '코스피, 러시아·우크라이나 전쟁 우려 ‘증시 흔들’',\n",
       "  \"이재명 10대 공약 최종본에 '탈모'·'코스피5000' 들어갔다\",\n",
       "  '우크라이나 사태 우려에 투심 위축…코스피 1.57%↓',\n",
       "  '[생생경제] \"삼성 갤럭시 S22 사전예약 시작, 애플과 비교하면...\"',\n",
       "  '코로나·물가·우크라 전운까지…세계경제 ‘3대 리스크’ 공포',\n",
       "  '`우크라이나 사태` 긴장 고조…코스피 2700선 `아슬아슬`',\n",
       "  '우크라이나발 경제충격 어디까지‥대통령까지 나선 대외경제안보회의',\n",
       "  '코스피 2700 붕괴.. 지정학적 불확실성 + 경기불안',\n",
       "  '우크라이나발 불안 지속…코스피 2,700선 공방',\n",
       "  \"[친절한 경제] '러시아 침공 임박설'에 미국 증시 급락…국제 유가도 영향\",\n",
       "  '[오후 주식시장은] 우크라發 변동성 파고 계속…코스피는 2700선 문턱',\n",
       "  '코스피, 장 초반 약세…2710선까지 밀려',\n",
       "  '[시황] 코스피, 러시아·우크라이나 전운 여파…2700선 하회',\n",
       "  \"코스피 상장사 계양전기서 '직원 245억원 횡령 사건' 발생…거래정지\",\n",
       "  '글로벌 핵심 수소기업 담은 ETF, 오늘 코스피 첫 선',\n",
       "  '골드만삭스 \"한국, 이르면 2024년 선진국지수 편입… 코스피 4500 전망\"',\n",
       "  '코스피 2600선마저 무너져도 솟아날 종목 있다',\n",
       "  '우크라 침공 우려 美증시 파란불…긴축 우려 더한 코스피, 2700선 이탈',\n",
       "  '\\'우크라 위기\\'에 美 소비불안까지…\"코스피, 2600 붕괴될수도\"',\n",
       "  '[생생경제] \"러시아 우크라이나 침공 예상에 VIX 美中 무역분쟁 당시 수준으로...',\n",
       "  '우크라이나 위기에 유가 100달러 육박, 코스피 2700 또 무너졌다',\n",
       "  '[친절한 경제] 우크라 위기감이 가져올 나비 효과 어디까지?',\n",
       "  '코스피, 2712.45로 거래 시작…상승 출발',\n",
       "  '코스피, 2712.45로 거래 시작…상승 출발',\n",
       "  '코스피, 0.9% 하락…外人·기관 매도로 낙폭 확대',\n",
       "  \"우크라 전운 '일촉즉발'…한국 경제 '신3고' 먹구름\",\n",
       "  '커지는 우크라 전쟁 공포… 코스피 2700선 맥없이 깨졌다',\n",
       "  '홍춘욱 이코노미스트 \"코스피 2600~2700선에서 더 사고 싶다\"',\n",
       "  '美 연준 긴촉과 우크라이나 침공 공포에 2700선 또 붕괴된 코스피 [오전시황]',\n",
       "  '뉴욕증시, 전쟁 공포에 ‘3대 지수’ 모두 하락… 코스피 지수도 ‘요동’… ...',\n",
       "  '3대 악재에 맥못추는 코스피 \"2600선도 장담 못해\"',\n",
       "  '[속보2] 코스피지수, 9거래일만에 2700선 내줘...2790선',\n",
       "  '우크라 전운 고조…경제안보 핵심 품목 200개 비축 늘린다',\n",
       "  '李 \"\\'경제 부스터샷\\'으로 코로나 극복\" vs 尹 \"민주당에 속지 마라\"(종합)',\n",
       "  '[대선 2022] 이재명 \"공공 택시호출 앱 추진\"…강남선 \\'경제 부스터샷\\' 언급',\n",
       "  '강남역 간 이재명 \"스마트 방역 전환하고 경제 부스터샷\"',\n",
       "  '강남서 ‘유능한 경제 대통령’ 피력한 이재명',\n",
       "  '이재명이 꺼내든 “경제 부스터샷”…손실보상과 영업시간 연장',\n",
       "  '[내외장마감] 러시아 퇴각에 평화로운 코스피·코스닥…유가 관련주들 상태는...',\n",
       "  \"李, 서울 집중 공략…'경제 부스터샷' 띄우며 청년 끌어안기(종합2보)\",\n",
       "  '\\'강남\\' 찾은 이재명 \"코스피 5000 시대·청년기회국가 만들겠다\"',\n",
       "  '우크라이나 긴장 완화에 코스피 1%↑…증권가 “상황 좀 더 지켜봐야 VS. 매수...',\n",
       "  '[오전시황] 에이프로·베셀 상한가, 코스피·코스닥 지수 상승세, 진단키트 등...',\n",
       "  '강남 간 李 \"경제 부스터샷으로 코로나 극복…청년기회국가 만들 것\"',\n",
       "  '[친절한 경제] \"올림픽 메달 간절해\"…포상금 가장 많이 건 나라는?',\n",
       "  '코스피, 장 초반 강세…2720선 회복',\n",
       "  '코스닥·코스피 동반 곤두박질… 전쟁 위기에 국내 증시도 흔들',\n",
       "  '[내외장마감] 러시아 퇴각에 평화로운 코스피·코스닥…유가 관련주들 상태는...',\n",
       "  '[증시 포인트] 코스피 반등 기대되나 우려는 여전',\n",
       "  '우크라이나 긴장 완화에 코스피 1%↑…증권가 “상황 좀 더 지켜봐야 VS. 매수...',\n",
       "  '[사설] 유가 급등에 공급망 차질, 우크라發 경제 충격 현실로',\n",
       "  '[오전시황] 에이프로·베셀 상한가, 코스피·코스닥 지수 상승세, 진단키트 등...',\n",
       "  '[사설] 커지는 금융시장 변동성과 실물경제 불확실성 대비해야',\n",
       "  \"'회삿돈 245억원 횡령' 코스피 상장사 계양전기 직원 긴급체포\",\n",
       "  \"코스피 0.53% 상승 마감…우크라이나의 친러시아 반군 공격 보도에 '출렁'\",\n",
       "  '우크라 폭격 소식에…코스피·아시아 증시 ‘출렁’',\n",
       "  '[증시] 외국인 매수세 유입...코스피, 이틀째 반등',\n",
       "  '우크라이나 친러 지역 공격 소식에…코스피 변동성 확대',\n",
       "  \"'경제·통합 대통령' 내세운 이재명, 골리앗 정권교체론 넘을까\",\n",
       "  '대포 소리에 악몽 꾼 코스피…장중 2710선까지 출렁',\n",
       "  \"코스피, 개인·외국인 '사자'에 상승…코스닥도 오름세\",\n",
       "  '코스피 혼조 출발.. 장 초반 외인 유입',\n",
       "  \"'우크라 포격설'…코스피 10분새 2% 출렁\",\n",
       "  '[생생경제] \"아이스크림 값 언제부턴가 똑같다 했더니, 알고 보니...\"',\n",
       "  '코스피, 이틀째 반등에 2750선 회복…외국인 매수세 유입',\n",
       "  '코스피 혼조 출발.. 장 초반 외인 유입',\n",
       "  \"'우크라 포격설'…코스피 10분새 2% 출렁\",\n",
       "  '[오전시황]코스피·코스닥 장중 0.5% 상승…반등 시도',\n",
       "  '코스피, 2735.11로 거래 시작…상승 출발',\n",
       "  '코스피 외인 사고·코스닥 외인 팔고 ‘리오프닝 꿈틀’',\n",
       "  '코스피, 장 초반 0.2% 상승…FOMC 의사록 안도',\n",
       "  '코스피, 오전 1.2%대 강세…外人·기관 매수',\n",
       "  \"예상했던 FOMC…우크라 긴장 재점화 속 코스피 '반등'\",\n",
       "  '[마감] 코스피, 우크라이나 리스크에도 강보합… 2740선 유지',\n",
       "  '‘우크라 포격’ 보도에 코스피-亞증시 요동',\n",
       "  '[굿모닝 증시] 우크라이나·금리 인상 이슈 재부각…\"코스피 하락 출발 전망\"',\n",
       "  '[마켓뷰] 코스피 강보합 마감…우크라 긴장 완화에 투자 심리 개선',\n",
       "  '코스피, 2,740대 강보합 마감…주간 0.1% 하락',\n",
       "  '[내외장마감] 금요일의 코스피·코스닥 상승마감…어떤주가 강세 보였을까?',\n",
       "  '[종합] 코스피 \\'선방\\'...증권街 \"긴축 이슈가 더 핵심, \\'물가압박\\' 1분기가 정...',\n",
       "  '코스피, 개인·기관 순매수 속 2740선 상승 마감',\n",
       "  '코스피, 2714.52로 거래 시작…하락 출발',\n",
       "  \"(MSCI선진국 편입 과제는①)'코스피4000' 낙관론 경계 목소리\",\n",
       "  \"(MSCI선진국 편입 과제는①)'코스피4000' 낙관론 경계 목소리\",\n",
       "  '계양전기 245억 횡령 직원 구속영장…\"주식·코인에 탕진\"',\n",
       "  '정부, \\'내수 우려\\' 진단 지속…\"거리두기 완화 지켜봐야\"(종합)',\n",
       "  '회삿돈 245억 주식·코인에 탕진…계양전기 직원 “죄송하다”',\n",
       "  '우크라 사태로 뉴욕 증시 하락...우리 증시 혼조세',\n",
       "  '[연합뉴스 이 시각 헤드라인] - 10:30',\n",
       "  '수출이 불안하다',\n",
       "  '\"몇년 살고 나오면 그만\"…간 큰 횡령범 끊이지 않는 이유',\n",
       "  '[외환브리핑]바이든 “며칠 내 러시아가 침공할 수도”…환율, 1200원선 재상...',\n",
       "  '[성공예감] 파티는 끝났다, 금리 인상 후 시나리오는? - 서영민 KBS 기자',\n",
       "  '코스피 연일 \\'롤러코스터\\'...\"변동성 확대 주의\"',\n",
       "  '회삿돈 245억 횡령한 계양전기 직원 구속 “도망할 염려”',\n",
       "  '에어부산 출범 때 50% 달했던 지역기업 지분 고작 14%만 남아',\n",
       "  '목숨 앗아가는 스토킹, 재무직원의 횡령… 범죄의 반복[사사건건]',\n",
       "  '심상정 \"내가 국힘2중대? 尹은 너무 몰라 비판조차 어렵다\" [한판승부]',\n",
       "  \"여야 크립토 공약 비교해보니... 표심만 생각하는 '도긴개긴'\",\n",
       "  'MSCI 선진국 지수 편입 8년 만에 재시도… 이득일까 손해일까',\n",
       "  \"이슈 앤 피플'한국 자본시장 무엇이 문제인가'\",\n",
       "  '[인플레의 공습…금융 대긴축 온다]미국으로 달러 ‘대환류’ 가능성…배당주...',\n",
       "  '[인플레의 공습…금융 대긴축 온다]정권까지 위협하는 물가, 미 40년 만에 최...',\n",
       "  '[주간증시전망] 코스피, 2700선 등락 전망…우크라·유가 변수 주목',\n",
       "  '[김순덕의 도발]대장동으로 본 ‘경제 대통령’ 이재명',\n",
       "  'MSCI 선진시장 지수 편입시 코스피 4500 가능할까',\n",
       "  '올해 저점 대비 ‘경제재개’ 수혜주 상승률 가장 높아',\n",
       "  \"긴축에 경기 불안 우려까지…증시 '비관론' 확산하나\",\n",
       "  '\"개미, 욕심 버려야…목표수익률 10% 적절\" 최영권 우리자산운용 대표',\n",
       "  '[우크라이나 사태] 증시 변동성 국면 이어져… 역발상 전략 필요',\n",
       "  '우크라이나發 리스크 계속…변동성 장세 투자기회는?',\n",
       "  '주식 저평가 구간이지만 매수 서두를 필요는 없다',\n",
       "  \"'일촉즉발' 우크라 사태, 실물-금융 韓경제 전반에 족쇄로\",\n",
       "  '\"개미표심 잡기 급급… \\'증시 살리겠다\\' 의지 안보인다\"',\n",
       "  '\"이젠 주식 대신 안전자산\"…\\'연 5%\\' 특판에 최대 1200명 몰릴 듯',\n",
       "  '오스템·계양전기 횡령사고…회삿돈 불렸어도 처벌 받을까?[궁즉답]',\n",
       "  \"[상장사 실적] 올해 대부분 업종 '눈높이' 낮아져…운수·반도체는 상향\",\n",
       "  '[증시 풍향계] 우크라 변수에 안갯속…선진국 위드코로나 기대',\n",
       "  '[주간증시전망]우크라 이슈에 변동성 계속…24일 금통위 주목',\n",
       "  '[우크라이나 사태] 증시 변동성 국면 이어져… 역발상 전략 필요',\n",
       "  \"끊이지 않는 횡령 왜?…'안들켜' 자신·죄의식 부족\",\n",
       "  '우크라이나發 리스크 계속…변동성 장세 투자기회는?',\n",
       "  '주식 저평가 구간이지만 매수 서두를 필요는 없다',\n",
       "  '\\'주식 대통령\\' 선언 李 \"증권거래세 폐지 등으로 코스피 5000 개막\"',\n",
       "  '‘코로나發 고용충격’… 코스피 상장사가 코스닥보다 더 컸다',\n",
       "  \"TV토론에 소환된 '루스벨트' 부흥책…경제정책 공방전\",\n",
       "  \"K주주운동 '세이브 코스피', 국민청원 동의 1만8000명 돌파\",\n",
       "  '코스피는 줄고 코스닥은 늘었다…코로나 수혜본 일자리 ‘여기’',\n",
       "  '차기정부 경제 방향…李 \"다시 성장\"·尹 \"데이터경제\"·沈 \"녹색전환\"·安 \"...',\n",
       "  '우크라이나 우려 속 투자기회…\"경제재개 관련주 담아라\"',\n",
       "  '\"戰雲 장기화 땐 코스피 2600대도 위험\"',\n",
       "  '[생생경제] \"오늘 대선후보 TV토론 경제분야, 꼭 봐야 하는 이유\"',\n",
       "  '심상정 , 이재명 \\'유능한 경제 대통령\\' 저격…\"MB 아바타 경제\"',\n",
       "  '[생생경제] \"오늘 대선후보 TV토론 경제분야, 꼭 봐야 하는 이유\"',\n",
       "  \"[IPO] '분기 배당' 코람코더원리츠, 3월 코스피 상장... 연 배당 6.2% 수준\",\n",
       "  '후진적 회계·경영진 방관이 낳은 ‘소도둑’… 결국 주주들만 피해 [스토리텔...',\n",
       "  \"美·러 정상회담 추진에 코스피 2700선 '사수'\",\n",
       "  '“코스피 반등 변수는 우크라이나 아닌 펀더멘털”',\n",
       "  \"'삼프로 효과' 다시 한번…이재명, '경제' TV토론에 사활\",\n",
       "  \"[오늘의 경제지표] '우크라이나 리스크'...변동성 높아진 국내 증시\",\n",
       "  '코스피, 2706.65로 거래 시작…하락 출발',\n",
       "  \"코스피 반등 가능할까…관건은 '공급망 리스크'?\",\n",
       "  \"[이번 주 증시 전망] 우크라이나發 지정학 위기에 코스피 '안갯속'\",\n",
       "  '沈 \"尹 30억집 92만원 종부세가 폭탄?…李 MB아바타 경제\"',\n",
       "  ...],\n",
       " ['2022.01.01.',\n",
       "  'B3면 1단',\n",
       "  '2022.01.01.',\n",
       "  '2022.01.01.',\n",
       "  '2022.01.01.',\n",
       "  '2022.01.01.',\n",
       "  '2022.01.01.',\n",
       "  '2022.01.01.',\n",
       "  '2022.01.01.',\n",
       "  'A20면 TOP',\n",
       "  'A20면 TOP',\n",
       "  '2022.01.01.',\n",
       "  '19면 TOP',\n",
       "  '2022.01.01.',\n",
       "  '2022.01.01.',\n",
       "  '2022.01.01.',\n",
       "  '2022.01.01.',\n",
       "  'A20면 4단',\n",
       "  '2022.01.01.',\n",
       "  '2022.01.01.',\n",
       "  '2022.01.02.',\n",
       "  'A18면 1단',\n",
       "  '2022.01.02.',\n",
       "  '14면 1단',\n",
       "  '2022.01.02.',\n",
       "  '2022.01.02.',\n",
       "  '2022.01.02.',\n",
       "  '2022.01.02.',\n",
       "  '2022.01.02.',\n",
       "  'A20면 1단',\n",
       "  '2022.01.02.',\n",
       "  'A17면 1단',\n",
       "  '2022.01.02.',\n",
       "  'A16면 TOP',\n",
       "  '2022.01.02.',\n",
       "  '2022.01.02.',\n",
       "  '2022.01.02.',\n",
       "  'A18면 TOP',\n",
       "  '2022.01.02.',\n",
       "  '2022.01.02.',\n",
       "  '2022.01.03.',\n",
       "  '2022.01.03.',\n",
       "  '2022.01.03.',\n",
       "  '2022.01.03.',\n",
       "  '2022.01.03.',\n",
       "  '2022.01.03.',\n",
       "  '2022.01.03.',\n",
       "  '2022.01.03.',\n",
       "  '2022.01.03.',\n",
       "  '2022.01.03.',\n",
       "  '2022.01.03.',\n",
       "  '2022.01.03.',\n",
       "  '2022.01.03.',\n",
       "  '2022.01.03.',\n",
       "  '2022.01.03.',\n",
       "  '2022.01.03.',\n",
       "  '2022.01.03.',\n",
       "  '2022.01.03.',\n",
       "  '2022.01.03.',\n",
       "  '2022.01.03.',\n",
       "  '2022.01.04.',\n",
       "  '6면 1단',\n",
       "  '2022.01.04.',\n",
       "  '2022.01.04.',\n",
       "  'A5면 TOP',\n",
       "  '2022.01.04.',\n",
       "  '2022.01.04.',\n",
       "  '2022.01.04.',\n",
       "  '2022.01.04.',\n",
       "  '2022.01.04.',\n",
       "  '2022.01.04.',\n",
       "  '2022.01.04.',\n",
       "  '7면 TOP',\n",
       "  '2022.01.04.',\n",
       "  '2022.01.04.',\n",
       "  '2022.01.04.',\n",
       "  '2022.01.04.',\n",
       "  '2022.01.04.',\n",
       "  '2022.01.04.',\n",
       "  '2022.01.04.',\n",
       "  '2022.01.05.',\n",
       "  '2022.01.05.',\n",
       "  '2022.01.05.',\n",
       "  '2022.01.05.',\n",
       "  '2022.01.05.',\n",
       "  '2022.01.05.',\n",
       "  '2022.01.05.',\n",
       "  '5면 1단',\n",
       "  '2022.01.05.',\n",
       "  '2022.01.05.',\n",
       "  '2022.01.05.',\n",
       "  '2022.01.05.',\n",
       "  '2면 TOP',\n",
       "  '2022.01.05.',\n",
       "  '2022.01.05.',\n",
       "  '2022.01.05.',\n",
       "  '2022.01.05.',\n",
       "  'A1면 1단',\n",
       "  '2022.01.05.',\n",
       "  'A9면 TOP',\n",
       "  '2022.01.06.',\n",
       "  '2022.01.06.',\n",
       "  '2022.01.06.',\n",
       "  '2022.01.06.',\n",
       "  '2022.01.06.',\n",
       "  '2022.01.06.',\n",
       "  '2022.01.06.',\n",
       "  '2022.01.06.',\n",
       "  '2022.01.06.',\n",
       "  '2022.01.06.',\n",
       "  '2022.01.06.',\n",
       "  '2022.01.06.',\n",
       "  '2022.01.06.',\n",
       "  '2022.01.06.',\n",
       "  '2022.01.06.',\n",
       "  '2022.01.06.',\n",
       "  '2022.01.06.',\n",
       "  '2022.01.06.',\n",
       "  '2022.01.06.',\n",
       "  '2022.01.06.',\n",
       "  '2022.01.07.',\n",
       "  '2022.01.07.',\n",
       "  '2022.01.07.',\n",
       "  '2022.01.07.',\n",
       "  '2022.01.07.',\n",
       "  '2022.01.07.',\n",
       "  '2022.01.07.',\n",
       "  '2022.01.07.',\n",
       "  '2022.01.07.',\n",
       "  '2022.01.07.',\n",
       "  '2022.01.07.',\n",
       "  '2022.01.07.',\n",
       "  '2022.01.07.',\n",
       "  '2022.01.07.',\n",
       "  '2022.01.07.',\n",
       "  '2022.01.07.',\n",
       "  '2022.01.07.',\n",
       "  '2022.01.07.',\n",
       "  '2022.01.07.',\n",
       "  '2022.01.07.',\n",
       "  '2022.01.08.',\n",
       "  '2022.01.08.',\n",
       "  '2022.01.08.',\n",
       "  '2022.01.08.',\n",
       "  '2022.01.08.',\n",
       "  '2022.01.08.',\n",
       "  '2022.01.08.',\n",
       "  '2022.01.08.',\n",
       "  '2022.01.08.',\n",
       "  '2022.01.08.',\n",
       "  '2022.01.08.',\n",
       "  '2022.01.08.',\n",
       "  '2022.01.09.',\n",
       "  '2022.01.09.',\n",
       "  '2022.01.09.',\n",
       "  '2022.01.09.',\n",
       "  '2022.01.09.',\n",
       "  '2022.01.09.',\n",
       "  '2022.01.09.',\n",
       "  '2022.01.09.',\n",
       "  '2022.01.09.',\n",
       "  '2022.01.09.',\n",
       "  '2022.01.09.',\n",
       "  '2022.01.09.',\n",
       "  '2022.01.09.',\n",
       "  '2022.01.09.',\n",
       "  '2022.01.09.',\n",
       "  '2022.01.09.',\n",
       "  '2022.01.09.',\n",
       "  '2022.01.09.',\n",
       "  '2022.01.09.',\n",
       "  '2022.01.09.',\n",
       "  '2022.01.10.',\n",
       "  'A3면 1단',\n",
       "  '2022.01.10.',\n",
       "  '2022.01.10.',\n",
       "  '2022.01.10.',\n",
       "  'A34면 1단',\n",
       "  '2022.01.10.',\n",
       "  '2022.01.10.',\n",
       "  '2022.01.10.',\n",
       "  '2022.01.10.',\n",
       "  '2022.01.10.',\n",
       "  '2022.01.10.',\n",
       "  '2022.01.10.',\n",
       "  '2022.01.10.',\n",
       "  '2022.01.10.',\n",
       "  '2022.01.10.',\n",
       "  '2022.01.10.',\n",
       "  'A14면 TOP',\n",
       "  '2022.01.10.',\n",
       "  'B6면 1단',\n",
       "  '2022.01.11.',\n",
       "  '2022.01.11.',\n",
       "  '2022.01.11.',\n",
       "  '2022.01.11.',\n",
       "  '2022.01.11.',\n",
       "  '2022.01.11.',\n",
       "  'A4면 TOP',\n",
       "  '2022.01.11.',\n",
       "  '2022.01.11.',\n",
       "  '2022.01.11.',\n",
       "  '2022.01.11.',\n",
       "  '2022.01.11.',\n",
       "  '2022.01.11.',\n",
       "  '2022.01.11.',\n",
       "  '2022.01.11.',\n",
       "  '2022.01.11.',\n",
       "  '2022.01.11.',\n",
       "  '2022.01.11.',\n",
       "  '2022.01.11.',\n",
       "  '2022.01.11.',\n",
       "  'A1면 1단',\n",
       "  '2022.01.12.',\n",
       "  '2022.01.12.',\n",
       "  '2022.01.12.',\n",
       "  '1면 TOP',\n",
       "  '2022.01.12.',\n",
       "  '2022.01.12.',\n",
       "  '2022.01.12.',\n",
       "  '2022.01.12.',\n",
       "  '2022.01.12.',\n",
       "  '2022.01.12.',\n",
       "  '2022.01.12.',\n",
       "  '2022.01.12.',\n",
       "  '2022.01.12.',\n",
       "  '2022.01.12.',\n",
       "  '2022.01.12.',\n",
       "  '2022.01.12.',\n",
       "  '2022.01.12.',\n",
       "  '2022.01.12.',\n",
       "  '2022.01.12.',\n",
       "  'A2면 1단',\n",
       "  '2022.01.13.',\n",
       "  '2022.01.13.',\n",
       "  '2022.01.13.',\n",
       "  '2022.01.13.',\n",
       "  '2022.01.13.',\n",
       "  '2022.01.13.',\n",
       "  '2022.01.13.',\n",
       "  '2022.01.13.',\n",
       "  '2022.01.13.',\n",
       "  '2022.01.13.',\n",
       "  '2022.01.13.',\n",
       "  '2022.01.13.',\n",
       "  '2022.01.13.',\n",
       "  '2022.01.13.',\n",
       "  '2022.01.13.',\n",
       "  '2022.01.13.',\n",
       "  '2022.01.13.',\n",
       "  '2022.01.13.',\n",
       "  '2022.01.13.',\n",
       "  '2022.01.14.',\n",
       "  '2022.01.14.',\n",
       "  '2022.01.14.',\n",
       "  '2022.01.14.',\n",
       "  '2022.01.14.',\n",
       "  '2022.01.14.',\n",
       "  '2022.01.14.',\n",
       "  '2022.01.14.',\n",
       "  '2022.01.14.',\n",
       "  '2022.01.14.',\n",
       "  '2022.01.14.',\n",
       "  '2022.01.14.',\n",
       "  '2022.01.14.',\n",
       "  '2022.01.14.',\n",
       "  'B3면 1단',\n",
       "  '2022.01.14.',\n",
       "  '2022.01.14.',\n",
       "  '2022.01.14.',\n",
       "  '2022.01.14.',\n",
       "  '2022.01.14.',\n",
       "  '2022.01.15.',\n",
       "  '2022.01.15.',\n",
       "  'A4면 1단',\n",
       "  '2022.01.15.',\n",
       "  '2022.01.15.',\n",
       "  '2022.01.15.',\n",
       "  '2022.01.15.',\n",
       "  '2022.01.15.',\n",
       "  'T1면 1단',\n",
       "  '2022.01.15.',\n",
       "  '2022.01.15.',\n",
       "  '2022.01.15.',\n",
       "  '2022.01.15.',\n",
       "  '2022.01.15.',\n",
       "  '2022.01.15.',\n",
       "  '2022.01.16.',\n",
       "  '26면 1단',\n",
       "  '2022.01.16.',\n",
       "  '2022.01.16.',\n",
       "  '2022.01.16.',\n",
       "  'A12면 TOP',\n",
       "  '2022.01.16.',\n",
       "  '2022.01.16.',\n",
       "  'A4면 TOP',\n",
       "  '2022.01.16.',\n",
       "  '2022.01.16.',\n",
       "  '2022.01.16.',\n",
       "  '2022.01.16.',\n",
       "  '2022.01.16.',\n",
       "  '2022.01.16.',\n",
       "  '2022.01.16.',\n",
       "  '2022.01.16.',\n",
       "  '2022.01.16.',\n",
       "  '2022.01.16.',\n",
       "  '2022.01.16.',\n",
       "  '2022.01.17.',\n",
       "  '2022.01.17.',\n",
       "  '2022.01.17.',\n",
       "  '2022.01.17.',\n",
       "  '2022.01.17.',\n",
       "  '2022.01.17.',\n",
       "  '2022.01.17.',\n",
       "  'A1면 1단',\n",
       "  '2022.01.17.',\n",
       "  '2022.01.17.',\n",
       "  '2022.01.17.',\n",
       "  '2022.01.17.',\n",
       "  '2022.01.17.',\n",
       "  '2022.01.17.',\n",
       "  '2022.01.17.',\n",
       "  '2022.01.17.',\n",
       "  '2022.01.17.',\n",
       "  '2022.01.17.',\n",
       "  '2022.01.17.',\n",
       "  '2022.01.17.',\n",
       "  'A8면 1단',\n",
       "  '2022.01.18.',\n",
       "  '2022.01.18.',\n",
       "  '2022.01.18.',\n",
       "  '2022.01.18.',\n",
       "  '2022.01.18.',\n",
       "  '2022.01.18.',\n",
       "  'E2면 1단',\n",
       "  '2022.01.18.',\n",
       "  '2022.01.18.',\n",
       "  '2022.01.18.',\n",
       "  '2022.01.18.',\n",
       "  '2022.01.18.',\n",
       "  '2022.01.18.',\n",
       "  '2022.01.18.',\n",
       "  '2022.01.18.',\n",
       "  '2022.01.18.',\n",
       "  '2022.01.18.',\n",
       "  'A27면 1단',\n",
       "  '2022.01.18.',\n",
       "  '2022.01.19.',\n",
       "  '2022.01.19.',\n",
       "  '2022.01.19.',\n",
       "  '2022.01.19.',\n",
       "  '2022.01.19.',\n",
       "  '1면 TOP',\n",
       "  '2022.01.19.',\n",
       "  '2022.01.19.',\n",
       "  'A1면 2단',\n",
       "  '2022.01.19.',\n",
       "  'A5면 TOP',\n",
       "  '2022.01.19.',\n",
       "  '2022.01.19.',\n",
       "  '2022.01.19.',\n",
       "  '2022.01.19.',\n",
       "  '2022.01.19.',\n",
       "  'A1면 2단',\n",
       "  '2022.01.19.',\n",
       "  '7면 1단',\n",
       "  '2022.01.19.',\n",
       "  '2022.01.20.',\n",
       "  '2022.01.20.',\n",
       "  '2022.01.20.',\n",
       "  '2022.01.20.',\n",
       "  '2022.01.20.',\n",
       "  '2022.01.20.',\n",
       "  '2022.01.20.',\n",
       "  'A25면 1단',\n",
       "  '2022.01.20.',\n",
       "  '2022.01.20.',\n",
       "  '2022.01.20.',\n",
       "  '2022.01.20.',\n",
       "  '2022.01.20.',\n",
       "  'A9면 TOP',\n",
       "  '2022.01.20.',\n",
       "  '2022.01.20.',\n",
       "  'A22면 TOP',\n",
       "  '2022.01.20.',\n",
       "  '2022.01.20.',\n",
       "  '2022.01.20.',\n",
       "  '2022.01.21.',\n",
       "  '2022.01.21.',\n",
       "  '2022.01.21.',\n",
       "  '2022.01.21.',\n",
       "  '2022.01.21.',\n",
       "  '2022.01.21.',\n",
       "  '2022.01.21.',\n",
       "  '2022.01.21.',\n",
       "  '2022.01.21.',\n",
       "  '2022.01.21.',\n",
       "  '2022.01.21.',\n",
       "  '2022.01.21.',\n",
       "  '2022.01.21.',\n",
       "  '2022.01.21.',\n",
       "  '2022.01.21.',\n",
       "  '2022.01.21.',\n",
       "  '2022.01.21.',\n",
       "  '2022.01.21.',\n",
       "  '2022.01.21.',\n",
       "  '2022.01.21.',\n",
       "  '2022.01.22.',\n",
       "  '2022.01.22.',\n",
       "  '2022.01.22.',\n",
       "  '2022.01.22.',\n",
       "  '2022.01.22.',\n",
       "  '2022.01.22.',\n",
       "  '2022.01.22.',\n",
       "  '2022.01.22.',\n",
       "  '2022.01.22.',\n",
       "  '2022.01.22.',\n",
       "  '2022.01.22.',\n",
       "  '2022.01.22.',\n",
       "  '2022.01.22.',\n",
       "  '2022.01.22.',\n",
       "  '2022.01.22.',\n",
       "  'A4면 TOP',\n",
       "  '2022.01.23.',\n",
       "  '2022.01.23.',\n",
       "  '2022.01.23.',\n",
       "  '2022.01.23.',\n",
       "  '2022.01.23.',\n",
       "  '2022.01.23.',\n",
       "  '2022.01.23.',\n",
       "  'A18면 1단',\n",
       "  '2022.01.23.',\n",
       "  '2022.01.23.',\n",
       "  '2022.01.23.',\n",
       "  '2022.01.23.',\n",
       "  '2022.01.23.',\n",
       "  '33면 2단',\n",
       "  '2022.01.23.',\n",
       "  '2022.01.23.',\n",
       "  '14면 1단',\n",
       "  '2022.01.23.',\n",
       "  '2022.01.23.',\n",
       "  '2022.01.24.',\n",
       "  '2022.01.24.',\n",
       "  '2022.01.24.',\n",
       "  '2022.01.24.',\n",
       "  '2022.01.24.',\n",
       "  'A1면 1단',\n",
       "  '2022.01.24.',\n",
       "  '3면 1단',\n",
       "  '2022.01.24.',\n",
       "  '2022.01.24.',\n",
       "  'A3면 1단',\n",
       "  '2022.01.24.',\n",
       "  '2022.01.24.',\n",
       "  '2022.01.24.',\n",
       "  '1면 TOP',\n",
       "  '2022.01.24.',\n",
       "  '2022.01.24.',\n",
       "  '2022.01.24.',\n",
       "  '2022.01.24.',\n",
       "  '2022.01.24.',\n",
       "  '2022.01.25.',\n",
       "  '2022.01.25.',\n",
       "  'A2면 1단',\n",
       "  '2022.01.25.',\n",
       "  '2022.01.25.',\n",
       "  '2022.01.25.',\n",
       "  'A1면 TOP',\n",
       "  '2022.01.25.',\n",
       "  '2022.01.25.',\n",
       "  '2022.01.25.',\n",
       "  '2022.01.25.',\n",
       "  '2022.01.25.',\n",
       "  '2022.01.25.',\n",
       "  '2022.01.25.',\n",
       "  '2022.01.25.',\n",
       "  '2022.01.25.',\n",
       "  'A3면 TOP',\n",
       "  '2022.01.25.',\n",
       "  '4면 TOP',\n",
       "  '2022.01.25.',\n",
       "  '2022.01.26.',\n",
       "  '2022.01.26.',\n",
       "  '2022.01.26.',\n",
       "  '2022.01.26.',\n",
       "  '2022.01.26.',\n",
       "  '2022.01.26.',\n",
       "  '2022.01.26.',\n",
       "  '2022.01.26.',\n",
       "  '2022.01.26.',\n",
       "  '2022.01.26.',\n",
       "  '2022.01.26.',\n",
       "  '2022.01.26.',\n",
       "  'A24면 1단',\n",
       "  '2022.01.26.',\n",
       "  '2022.01.26.',\n",
       "  '2022.01.26.',\n",
       "  '2022.01.26.',\n",
       "  '2022.01.26.',\n",
       "  '2022.01.26.',\n",
       "  '2022.01.26.',\n",
       "  '2022.01.27.',\n",
       "  '2022.01.27.',\n",
       "  '2022.01.27.',\n",
       "  'A1면 1단',\n",
       "  '2022.01.27.',\n",
       "  '2022.01.27.',\n",
       "  'A1면 TOP',\n",
       "  '2022.01.27.',\n",
       "  'A2면 1단',\n",
       "  '2022.01.27.',\n",
       "  '2022.01.27.',\n",
       "  '2022.01.27.',\n",
       "  'A2면 1단',\n",
       "  '2022.01.27.',\n",
       "  '2022.01.27.',\n",
       "  '2022.01.27.',\n",
       "  '2022.01.27.',\n",
       "  '2022.01.27.',\n",
       "  '2022.01.27.',\n",
       "  '2022.01.27.',\n",
       "  '2022.01.28.',\n",
       "  '2022.01.28.',\n",
       "  '2022.01.28.',\n",
       "  '2022.01.28.',\n",
       "  '2면 1단',\n",
       "  '2022.01.28.',\n",
       "  '2022.01.28.',\n",
       "  '2022.01.28.',\n",
       "  '2022.01.28.',\n",
       "  'A1면 1단',\n",
       "  '2022.01.28.',\n",
       "  '2022.01.28.',\n",
       "  '2022.01.28.',\n",
       "  '2022.01.28.',\n",
       "  '2022.01.28.',\n",
       "  '2022.01.28.',\n",
       "  '2022.01.28.',\n",
       "  '2022.01.28.',\n",
       "  '2022.01.28.',\n",
       "  '2022.01.28.',\n",
       "  '2022.01.29.',\n",
       "  '2022.01.29.',\n",
       "  '2022.01.29.',\n",
       "  '2022.01.29.',\n",
       "  'T3면 1단',\n",
       "  '2022.01.29.',\n",
       "  '2022.01.29.',\n",
       "  '2022.01.29.',\n",
       "  '2022.01.29.',\n",
       "  '2022.01.29.',\n",
       "  '2022.01.29.',\n",
       "  '2022.01.29.',\n",
       "  '2022.01.29.',\n",
       "  '2022.01.29.',\n",
       "  '2022.01.29.',\n",
       "  '2022.01.29.',\n",
       "  '2022.01.29.',\n",
       "  '2022.01.29.',\n",
       "  '2022.01.29.',\n",
       "  '2022.01.29.',\n",
       "  '2022.01.30.',\n",
       "  '2022.01.30.',\n",
       "  '2022.01.30.',\n",
       "  '2022.01.30.',\n",
       "  '2022.01.30.',\n",
       "  '2022.01.30.',\n",
       "  '2022.01.30.',\n",
       "  '2022.01.30.',\n",
       "  '2022.01.30.',\n",
       "  '2022.01.30.',\n",
       "  '2022.01.30.',\n",
       "  '2022.01.30.',\n",
       "  '2022.01.30.',\n",
       "  '2022.01.30.',\n",
       "  '2022.01.30.',\n",
       "  '2022.01.30.',\n",
       "  '2022.01.30.',\n",
       "  '2022.01.30.',\n",
       "  '2022.01.30.',\n",
       "  '2022.01.30.',\n",
       "  '2022.01.31.',\n",
       "  '2022.01.31.',\n",
       "  '2022.01.31.',\n",
       "  '2022.01.31.',\n",
       "  '2022.01.31.',\n",
       "  '2022.01.31.',\n",
       "  '2022.01.31.',\n",
       "  '2022.01.31.',\n",
       "  '2022.01.31.',\n",
       "  'A5면 1단',\n",
       "  '2022.01.31.',\n",
       "  'A5면 1단',\n",
       "  '2022.01.31.',\n",
       "  '2022.01.31.',\n",
       "  '2022.01.31.',\n",
       "  '2022.01.31.',\n",
       "  '2022.01.31.',\n",
       "  '2022.01.31.',\n",
       "  '2022.01.31.',\n",
       "  '2022.01.31.',\n",
       "  '2022.02.01.',\n",
       "  '2022.02.01.',\n",
       "  '2022.02.01.',\n",
       "  '2022.02.01.',\n",
       "  '2022.02.01.',\n",
       "  '2022.02.01.',\n",
       "  '2022.02.01.',\n",
       "  '2022.02.01.',\n",
       "  '2022.02.01.',\n",
       "  '2022.02.01.',\n",
       "  '2022.02.01.',\n",
       "  '2022.02.01.',\n",
       "  '2022.02.01.',\n",
       "  '2022.02.01.',\n",
       "  '2022.02.01.',\n",
       "  '2022.02.01.',\n",
       "  '2022.02.01.',\n",
       "  '2022.02.02.',\n",
       "  '2022.02.02.',\n",
       "  '2022.02.02.',\n",
       "  'A8면 TOP',\n",
       "  '2022.02.02.',\n",
       "  '15면 1단',\n",
       "  '2022.02.02.',\n",
       "  '2022.02.02.',\n",
       "  '2022.02.02.',\n",
       "  '2022.02.02.',\n",
       "  '2022.02.02.',\n",
       "  '2022.02.02.',\n",
       "  '2022.02.02.',\n",
       "  '2022.02.02.',\n",
       "  '27면 1단',\n",
       "  '2022.02.02.',\n",
       "  '2022.02.02.',\n",
       "  '2022.02.02.',\n",
       "  '2022.02.02.',\n",
       "  '3면 1단',\n",
       "  '2022.02.03.',\n",
       "  '2022.02.03.',\n",
       "  'A22면 TOP',\n",
       "  '2022.02.03.',\n",
       "  '27면 1단',\n",
       "  '2022.02.03.',\n",
       "  '2022.02.03.',\n",
       "  '2022.02.03.',\n",
       "  '2022.02.03.',\n",
       "  'A1면 1단',\n",
       "  '2022.02.03.',\n",
       "  '2022.02.03.',\n",
       "  '2022.02.03.',\n",
       "  '2022.02.03.',\n",
       "  '2022.02.03.',\n",
       "  '2022.02.03.',\n",
       "  '2022.02.03.',\n",
       "  '26면 TOP',\n",
       "  '2022.02.03.',\n",
       "  '2022.02.03.',\n",
       "  '2022.02.04.',\n",
       "  '2022.02.04.',\n",
       "  '2022.02.04.',\n",
       "  '2022.02.04.',\n",
       "  '2022.02.04.',\n",
       "  '2022.02.04.',\n",
       "  '2022.02.04.',\n",
       "  '2022.02.04.',\n",
       "  '2022.02.04.',\n",
       "  '2022.02.04.',\n",
       "  '2022.02.04.',\n",
       "  '2022.02.04.',\n",
       "  'B3면 1단',\n",
       "  '2022.02.04.',\n",
       "  '2022.02.04.',\n",
       "  '2022.02.04.',\n",
       "  '2022.02.04.',\n",
       "  '2022.02.04.',\n",
       "  '2022.02.04.',\n",
       "  '2022.02.04.',\n",
       "  '2022.02.05.',\n",
       "  '2022.02.05.',\n",
       "  '2022.02.05.',\n",
       "  '2022.02.05.',\n",
       "  '2022.02.05.',\n",
       "  '2022.02.05.',\n",
       "  '2022.02.05.',\n",
       "  '2022.02.05.',\n",
       "  '2022.02.05.',\n",
       "  'A2면 TOP',\n",
       "  '2022.02.05.',\n",
       "  '2022.02.05.',\n",
       "  'T8면 TOP',\n",
       "  '2022.02.05.',\n",
       "  '2022.02.05.',\n",
       "  '2022.02.05.',\n",
       "  'T1면 1단',\n",
       "  '2022.02.05.',\n",
       "  'A23면 TOP',\n",
       "  '2022.02.06.',\n",
       "  '2022.02.06.',\n",
       "  '2022.02.06.',\n",
       "  '2022.02.06.',\n",
       "  '26면 1단',\n",
       "  '2022.02.06.',\n",
       "  '2022.02.06.',\n",
       "  '2022.02.06.',\n",
       "  'A20면 1단',\n",
       "  'A17면 1단',\n",
       "  '2022.02.06.',\n",
       "  '2022.02.06.',\n",
       "  '11면 TOP',\n",
       "  '2022.02.06.',\n",
       "  'A24면 TOP',\n",
       "  '2022.02.06.',\n",
       "  '2022.02.06.',\n",
       "  '9면 1단',\n",
       "  '2022.02.06.',\n",
       "  'A5면 1단',\n",
       "  '2022.02.07.',\n",
       "  '2022.02.07.',\n",
       "  '2022.02.07.',\n",
       "  '2022.02.07.',\n",
       "  '2022.02.07.',\n",
       "  '2022.02.07.',\n",
       "  '6면 TOP',\n",
       "  '2022.02.07.',\n",
       "  '2022.02.07.',\n",
       "  '2022.02.07.',\n",
       "  '2022.02.07.',\n",
       "  '2022.02.07.',\n",
       "  '2022.02.07.',\n",
       "  '2022.02.07.',\n",
       "  '2022.02.07.',\n",
       "  '2022.02.07.',\n",
       "  '2022.02.07.',\n",
       "  '2022.02.07.',\n",
       "  '2022.02.07.',\n",
       "  'A22면 1단',\n",
       "  '2022.02.08.',\n",
       "  '2022.02.08.',\n",
       "  'A2면 TOP',\n",
       "  '2022.02.08.',\n",
       "  '2022.02.08.',\n",
       "  '2022.02.08.',\n",
       "  '2022.02.08.',\n",
       "  '2022.02.08.',\n",
       "  '2022.02.08.',\n",
       "  '2022.02.08.',\n",
       "  '2022.02.08.',\n",
       "  '2022.02.08.',\n",
       "  '2022.02.08.',\n",
       "  '2022.02.08.',\n",
       "  '2022.02.08.',\n",
       "  '2022.02.08.',\n",
       "  'A1면 1단',\n",
       "  '2022.02.08.',\n",
       "  'A16면 TOP',\n",
       "  '2022.02.09.',\n",
       "  '2022.02.09.',\n",
       "  '2022.02.09.',\n",
       "  '2022.02.09.',\n",
       "  '2022.02.09.',\n",
       "  '2022.02.09.',\n",
       "  '2022.02.09.',\n",
       "  '2022.02.09.',\n",
       "  '2022.02.09.',\n",
       "  '2022.02.09.',\n",
       "  '2022.02.09.',\n",
       "  '2022.02.09.',\n",
       "  '2022.02.09.',\n",
       "  '2022.02.09.',\n",
       "  '2022.02.09.',\n",
       "  '2022.02.09.',\n",
       "  '2022.02.09.',\n",
       "  '2022.02.09.',\n",
       "  '2022.02.09.',\n",
       "  '2022.02.09.',\n",
       "  '2022.02.10.',\n",
       "  '2022.02.10.',\n",
       "  'A16면 TOP',\n",
       "  '2022.02.10.',\n",
       "  '2022.02.10.',\n",
       "  '2022.02.10.',\n",
       "  '2022.02.10.',\n",
       "  '2022.02.10.',\n",
       "  '2022.02.10.',\n",
       "  '2022.02.10.',\n",
       "  '2022.02.10.',\n",
       "  '2022.02.10.',\n",
       "  '2022.02.10.',\n",
       "  '2022.02.10.',\n",
       "  '2022.02.10.',\n",
       "  'A2면 1단',\n",
       "  '2022.02.10.',\n",
       "  '2022.02.10.',\n",
       "  '2022.02.10.',\n",
       "  '2022.02.10.',\n",
       "  '2022.02.11.',\n",
       "  '2022.02.11.',\n",
       "  '3면 1단',\n",
       "  '2022.02.11.',\n",
       "  '2022.02.11.',\n",
       "  '2022.02.11.',\n",
       "  '2022.02.11.',\n",
       "  'B4면 1단',\n",
       "  '2022.02.11.',\n",
       "  '2022.02.11.',\n",
       "  'A15면 TOP',\n",
       "  '2022.02.11.',\n",
       "  '2022.02.11.',\n",
       "  '2022.02.11.',\n",
       "  '2022.02.11.',\n",
       "  '1면 TOP',\n",
       "  '2022.02.11.',\n",
       "  'A8면 1단',\n",
       "  '2022.02.11.',\n",
       "  '2022.02.11.',\n",
       "  '2022.02.12.',\n",
       "  'A1면 1단',\n",
       "  '2022.02.12.',\n",
       "  'A26면 1단',\n",
       "  '2022.02.12.',\n",
       "  '2022.02.12.',\n",
       "  '2022.02.12.',\n",
       "  '2022.02.12.',\n",
       "  '2022.02.12.',\n",
       "  '2022.02.12.',\n",
       "  '2022.02.12.',\n",
       "  '2022.02.12.',\n",
       "  '2022.02.13.',\n",
       "  '2022.02.13.',\n",
       "  '2022.02.13.',\n",
       "  '2022.02.13.',\n",
       "  '2022.02.13.',\n",
       "  '2022.02.13.',\n",
       "  '2022.02.13.',\n",
       "  '2022.02.13.',\n",
       "  '2022.02.13.',\n",
       "  '2022.02.13.',\n",
       "  '2022.02.13.',\n",
       "  '2022.02.13.',\n",
       "  '2022.02.13.',\n",
       "  'A27면 1단',\n",
       "  '2022.02.13.',\n",
       "  '2022.02.13.',\n",
       "  '26면 1단',\n",
       "  '2022.02.13.',\n",
       "  '2022.02.13.',\n",
       "  '2022.02.13.',\n",
       "  '2022.02.14.',\n",
       "  '2022.02.14.',\n",
       "  'A1면 TOP',\n",
       "  '2022.02.14.',\n",
       "  '2022.02.14.',\n",
       "  '2022.02.14.',\n",
       "  'A3면 2단',\n",
       "  '2022.02.14.',\n",
       "  '16면 1단',\n",
       "  '2022.02.14.',\n",
       "  '2022.02.14.',\n",
       "  'A18면 TOP',\n",
       "  '2022.02.14.',\n",
       "  '2022.02.14.',\n",
       "  '2022.02.14.',\n",
       "  '2022.02.14.',\n",
       "  '2022.02.14.',\n",
       "  '2022.02.14.',\n",
       "  '2022.02.14.',\n",
       "  '2022.02.14.',\n",
       "  '2022.02.15.',\n",
       "  '2022.02.15.',\n",
       "  '2022.02.15.',\n",
       "  'A16면 TOP',\n",
       "  '2022.02.15.',\n",
       "  '2022.02.15.',\n",
       "  '2022.02.15.',\n",
       "  '2022.02.15.',\n",
       "  '2022.02.15.',\n",
       "  '2022.02.15.',\n",
       "  '2022.02.15.',\n",
       "  '2022.02.15.',\n",
       "  '2022.02.15.',\n",
       "  '2022.02.15.',\n",
       "  '2022.02.15.',\n",
       "  '2022.02.15.',\n",
       "  '2면 1단',\n",
       "  '2022.02.15.',\n",
       "  '2022.02.15.',\n",
       "  '2022.02.15.',\n",
       "  '2022.02.16.',\n",
       "  '2022.02.16.',\n",
       "  '2022.02.16.',\n",
       "  '2022.02.16.',\n",
       "  '2022.02.16.',\n",
       "  '2022.02.16.',\n",
       "  '2022.02.16.',\n",
       "  '2022.02.16.',\n",
       "  '2022.02.16.',\n",
       "  '2022.02.16.',\n",
       "  '2022.02.16.',\n",
       "  '2022.02.16.',\n",
       "  '2022.02.16.',\n",
       "  '8면 1단',\n",
       "  '2022.02.16.',\n",
       "  '2022.02.16.',\n",
       "  '2022.02.16.',\n",
       "  '2022.02.16.',\n",
       "  '27면 1단',\n",
       "  '2022.02.16.',\n",
       "  '2022.02.17.',\n",
       "  '2022.02.17.',\n",
       "  '2022.02.17.',\n",
       "  '2022.02.17.',\n",
       "  '2022.02.17.',\n",
       "  '2022.02.17.',\n",
       "  'A5면 1단',\n",
       "  '2022.02.17.',\n",
       "  '2022.02.17.',\n",
       "  '2022.02.17.',\n",
       "  '2022.02.17.',\n",
       "  '2022.02.17.',\n",
       "  '2022.02.17.',\n",
       "  '1면 2단',\n",
       "  '2022.02.17.',\n",
       "  '2022.02.17.',\n",
       "  '2022.02.17.',\n",
       "  '2022.02.17.',\n",
       "  '2022.02.17.',\n",
       "  '2022.02.17.',\n",
       "  '2022.02.18.',\n",
       "  'A2면 1단',\n",
       "  '2022.02.18.',\n",
       "  '2022.02.18.',\n",
       "  '2022.02.18.',\n",
       "  '2022.02.18.',\n",
       "  '2022.02.18.',\n",
       "  '2022.02.18.',\n",
       "  '2022.02.18.',\n",
       "  '2022.02.18.',\n",
       "  '2022.02.18.',\n",
       "  '2022.02.18.',\n",
       "  '2022.02.18.',\n",
       "  '2022.02.18.',\n",
       "  '2022.02.18.',\n",
       "  '2022.02.18.',\n",
       "  '2022.02.18.',\n",
       "  'A12면 1단',\n",
       "  '2022.02.18.',\n",
       "  '2022.02.18.',\n",
       "  '2022.02.19.',\n",
       "  '2022.02.19.',\n",
       "  '2022.02.19.',\n",
       "  '2022.02.19.',\n",
       "  '2022.02.19.',\n",
       "  '2022.02.19.',\n",
       "  '2022.02.19.',\n",
       "  '2022.02.19.',\n",
       "  'T11면 TOP',\n",
       "  '2022.02.19.',\n",
       "  '2022.02.20.',\n",
       "  '2022.02.20.',\n",
       "  '2022.02.20.',\n",
       "  '2022.02.20.',\n",
       "  '2022.02.20.',\n",
       "  'A25면 TOP',\n",
       "  '2022.02.20.',\n",
       "  '2022.02.20.',\n",
       "  '26면 1단',\n",
       "  '2022.02.20.',\n",
       "  '13면 1단',\n",
       "  '2022.02.20.',\n",
       "  '2022.02.20.',\n",
       "  '2022.02.20.',\n",
       "  '2022.02.20.',\n",
       "  '2022.02.20.',\n",
       "  '2022.02.20.',\n",
       "  '2022.02.20.',\n",
       "  '2022.02.20.',\n",
       "  '26면 1단',\n",
       "  '2022.02.21.',\n",
       "  '20면 1단',\n",
       "  '2022.02.21.',\n",
       "  '2022.02.21.',\n",
       "  '2022.02.21.',\n",
       "  '2022.02.21.',\n",
       "  '2022.02.21.',\n",
       "  '2022.02.21.',\n",
       "  'A24면 TOP',\n",
       "  '2022.02.21.',\n",
       "  '2022.02.21.',\n",
       "  '2022.02.21.',\n",
       "  '10면 TOP',\n",
       "  '2022.02.21.',\n",
       "  'A22면 1단',\n",
       "  '2022.02.21.',\n",
       "  '2022.02.21.',\n",
       "  '2022.02.21.',\n",
       "  '2022.02.21.',\n",
       "  '2022.02.21.',\n",
       "  '2022.02.22.',\n",
       "  ...]]"
      ]
     },
     "execution_count": 22,
     "metadata": {},
     "output_type": "execute_result"
    }
   ],
   "source": [
    "#잘 수집되었나 출력해볼까요?\n",
    "res"
   ]
  },
  {
   "cell_type": "code",
   "execution_count": 23,
   "metadata": {
    "colab": {
     "base_uri": "https://localhost:8080/",
     "height": 423
    },
    "id": "B3uTsutBwqil",
    "outputId": "46203d9d-dcee-4334-ca60-4fb36f0ee650"
   },
   "outputs": [
    {
     "data": {
      "text/html": [
       "<div>\n",
       "<style scoped>\n",
       "    .dataframe tbody tr th:only-of-type {\n",
       "        vertical-align: middle;\n",
       "    }\n",
       "\n",
       "    .dataframe tbody tr th {\n",
       "        vertical-align: top;\n",
       "    }\n",
       "\n",
       "    .dataframe thead th {\n",
       "        text-align: right;\n",
       "    }\n",
       "</style>\n",
       "<table border=\"1\" class=\"dataframe\">\n",
       "  <thead>\n",
       "    <tr style=\"text-align: right;\">\n",
       "      <th></th>\n",
       "      <th>0</th>\n",
       "      <th>1</th>\n",
       "    </tr>\n",
       "  </thead>\n",
       "  <tbody>\n",
       "    <tr>\n",
       "      <th>0</th>\n",
       "      <td>[2022년 증시전망] 올 상반기 코스피 2800~3300 전망…美 테이퍼링 충격 ...</td>\n",
       "      <td>2022.01.01.</td>\n",
       "    </tr>\n",
       "    <tr>\n",
       "      <th>1</th>\n",
       "      <td>코스피 최고치 3300~3600 전망, 추천 업종은 반도체</td>\n",
       "      <td>B3면 1단</td>\n",
       "    </tr>\n",
       "    <tr>\n",
       "      <th>2</th>\n",
       "      <td>코스피 3000시대 여는 호랑이 기운 받으려면…[다시 열자! 3000시대]</td>\n",
       "      <td>2022.01.01.</td>\n",
       "    </tr>\n",
       "    <tr>\n",
       "      <th>3</th>\n",
       "      <td>[2022년 증시 전망] 코스피 3500시대 열리나...힘빠진 유동성에 '옥석가리기...</td>\n",
       "      <td>2022.01.01.</td>\n",
       "    </tr>\n",
       "    <tr>\n",
       "      <th>4</th>\n",
       "      <td>내주 설 민생안정대책 나온다…종부세 경감 방안도 주목</td>\n",
       "      <td>2022.01.01.</td>\n",
       "    </tr>\n",
       "    <tr>\n",
       "      <th>...</th>\n",
       "      <td>...</td>\n",
       "      <td>...</td>\n",
       "    </tr>\n",
       "    <tr>\n",
       "      <th>6898</th>\n",
       "      <td>2022년 증권가 돌아본 10대 뉴스</td>\n",
       "      <td>2022.12.31.</td>\n",
       "    </tr>\n",
       "    <tr>\n",
       "      <th>6899</th>\n",
       "      <td>[마켓 2023] ① '인플레 공포'에 짓눌렸던 2022년</td>\n",
       "      <td>A3면 1단</td>\n",
       "    </tr>\n",
       "    <tr>\n",
       "      <th>6900</th>\n",
       "      <td>[마켓 2023] ① '인플레 공포'에 짓눌렸던 2022년</td>\n",
       "      <td>2022.12.31.</td>\n",
       "    </tr>\n",
       "    <tr>\n",
       "      <th>6901</th>\n",
       "      <td>143조 뭉칫돈 몰린 공매도, 2023년도 개미의 공포로</td>\n",
       "      <td>2022.12.31.</td>\n",
       "    </tr>\n",
       "    <tr>\n",
       "      <th>6902</th>\n",
       "      <td>박옥분 도의원 \"ESG 경영은 선택이 아닌 필수\"</td>\n",
       "      <td>2022.12.31.</td>\n",
       "    </tr>\n",
       "  </tbody>\n",
       "</table>\n",
       "<p>6903 rows × 2 columns</p>\n",
       "</div>"
      ],
      "text/plain": [
       "                                                      0            1\n",
       "0     [2022년 증시전망] 올 상반기 코스피 2800~3300 전망…美 테이퍼링 충격 ...  2022.01.01.\n",
       "1                      코스피 최고치 3300~3600 전망, 추천 업종은 반도체       B3면 1단\n",
       "2             코스피 3000시대 여는 호랑이 기운 받으려면…[다시 열자! 3000시대]  2022.01.01.\n",
       "3     [2022년 증시 전망] 코스피 3500시대 열리나...힘빠진 유동성에 '옥석가리기...  2022.01.01.\n",
       "4                         내주 설 민생안정대책 나온다…종부세 경감 방안도 주목  2022.01.01.\n",
       "...                                                 ...          ...\n",
       "6898                               2022년 증권가 돌아본 10대 뉴스  2022.12.31.\n",
       "6899                   [마켓 2023] ① '인플레 공포'에 짓눌렸던 2022년       A3면 1단\n",
       "6900                   [마켓 2023] ① '인플레 공포'에 짓눌렸던 2022년  2022.12.31.\n",
       "6901                    143조 뭉칫돈 몰린 공매도, 2023년도 개미의 공포로  2022.12.31.\n",
       "6902                        박옥분 도의원 \"ESG 경영은 선택이 아닌 필수\"  2022.12.31.\n",
       "\n",
       "[6903 rows x 2 columns]"
      ]
     },
     "execution_count": 23,
     "metadata": {},
     "output_type": "execute_result"
    }
   ],
   "source": [
    "#데이터 프레임으로 저장하기 \n",
    "df = pd.DataFrame(res)\n",
    "df=df.transpose()\n",
    "df\n"
   ]
  },
  {
   "cell_type": "code",
   "execution_count": 24,
   "metadata": {},
   "outputs": [],
   "source": [
    "#일단 csv로 저장\n",
    "df.to_csv('코스피_2022.csv', index=False)"
   ]
  },
  {
   "cell_type": "code",
   "execution_count": null,
   "metadata": {},
   "outputs": [],
   "source": []
  },
  {
   "cell_type": "code",
   "execution_count": null,
   "metadata": {},
   "outputs": [],
   "source": []
  },
  {
   "cell_type": "code",
   "execution_count": null,
   "metadata": {},
   "outputs": [],
   "source": [
    "#여기서 부터는 제가 코랩에서 csv 파일 불러와서 이것저것 전처리 한거에요 !\n",
    "#왜 코랩에서 했냐구요~? 주피터에서 크롤링 하고 코랩으로 전처리 해보고 있었답니다~"
   ]
  },
  {
   "cell_type": "code",
   "execution_count": null,
   "metadata": {},
   "outputs": [],
   "source": [
    "import pandas as pd"
   ]
  },
  {
   "cell_type": "code",
   "execution_count": null,
   "metadata": {},
   "outputs": [],
   "source": [
    "#실수로 연습삼아 했던 2023 년것도 섞여 들어와서 제목이 저렇습니다\n",
    "df_1 = pd.read_csv('/content/0201_1231.csv')"
   ]
  },
  {
   "cell_type": "code",
   "execution_count": null,
   "metadata": {},
   "outputs": [],
   "source": [
    "filtered_df_1 = df_1[~df_1['1'].str.contains('면')]\n",
    "filtered_df_1"
   ]
  },
  {
   "cell_type": "code",
   "execution_count": null,
   "metadata": {},
   "outputs": [],
   "source": [
    "filtered_df_1.rename(columns={'1':'Date'}, inplace=True)\n",
    "filtered_df_1.rename(columns={'0':'Title'}, inplace=True)\n",
    "filtered_df_1"
   ]
  },
  {
   "cell_type": "code",
   "execution_count": null,
   "metadata": {},
   "outputs": [],
   "source": [
    "filtered_df_1['Date'] = filtered_df_1['Date'].str.replace(r'\\.$', '')"
   ]
  },
  {
   "cell_type": "code",
   "execution_count": null,
   "metadata": {},
   "outputs": [],
   "source": [
    "filtered_df_1"
   ]
  },
  {
   "cell_type": "code",
   "execution_count": null,
   "metadata": {},
   "outputs": [],
   "source": [
    "filtered_df_1['Date'] = filtered_df_1['Date'].apply(lambda x: pd.to_datetime(str(x), format='%Y-%m-%d'))"
   ]
  },
  {
   "cell_type": "code",
   "execution_count": null,
   "metadata": {},
   "outputs": [],
   "source": [
    "filtered_df_2022 = filtered_df_1[filtered_df_1['Date'].between('2022-01-01', '2022-12-31')]"
   ]
  },
  {
   "cell_type": "code",
   "execution_count": null,
   "metadata": {},
   "outputs": [],
   "source": [
    "filtered_df_2022"
   ]
  },
  {
   "cell_type": "code",
   "execution_count": null,
   "metadata": {},
   "outputs": [],
   "source": []
  },
  {
   "cell_type": "code",
   "execution_count": null,
   "metadata": {},
   "outputs": [],
   "source": [
    "#밑에는 감성분석 코드입니다 ! "
   ]
  },
  {
   "cell_type": "code",
   "execution_count": null,
   "metadata": {
    "id": "MT64tVP2xR2K"
   },
   "outputs": [],
   "source": [
    "import json"
   ]
  },
  {
   "cell_type": "code",
   "execution_count": null,
   "metadata": {
    "id": "r6qLaJBBwqVE"
   },
   "outputs": [],
   "source": [
    "#감성 분석하려면 KNU 에서 정의해놓은 감성사전인 SentiWord_info.json를 다운받아서 이용해야해요!\n",
    "#여기서 부터는 아직 주피터 노트북코드로 변경을 안해서 코랩의 MyDrive라고 적혀있네요 하하\n",
    "try:\n",
    "    with open('/content/drive/MyDrive/최종프로젝트/SentiWord_info.json', encoding='utf-8', mode='r') as f:\n",
    "        SentiWord_info = json.load(f)\n",
    "        sentiword_dic = pd.DataFrame(SentiWord_info)\n",
    "        # DataFrame을 사용한 나머지 처리\n",
    "except json.JSONDecodeError as e:\n",
    "    print(\"JSON 디코딩 오류:\", e)\n",
    "except FileNotFoundError:\n",
    "    print(\"파일을 찾을 수 없거나 잘못된 경로입니다.\")\n",
    "except Exception as e:\n",
    "    print(\"오류가 발생했습니다:\", e)"
   ]
  },
  {
   "cell_type": "code",
   "execution_count": null,
   "metadata": {
    "colab": {
     "base_uri": "https://localhost:8080/"
    },
    "id": "UI_sKhIQxIHj",
    "outputId": "362b8452-537b-4c6a-d095-dcfdb6628e2f"
   },
   "outputs": [],
   "source": [
    "text_0 = df[0]\n",
    "text_0"
   ]
  },
  {
   "cell_type": "code",
   "execution_count": null,
   "metadata": {
    "colab": {
     "base_uri": "https://localhost:8080/"
    },
    "id": "HWA2PRPNxqwB",
    "outputId": "516a5c41-b648-4369-b271-338a1f9fdd13"
   },
   "outputs": [],
   "source": [
    "!pip3 install konlpy"
   ]
  },
  {
   "cell_type": "code",
   "execution_count": null,
   "metadata": {
    "id": "X5YrFo_Lxp_h"
   },
   "outputs": [],
   "source": [
    "\n",
    "# !apt-get update\n",
    "# !apt-get install g++ openjdk-8-jdk python-dev python3-dev\n",
    "# !pip3 install JPype1\n",
    "\n",
    "# %env JAVA_HOME \"/usr/lib/jvm/java-8-openjdk-amd64\""
   ]
  },
  {
   "cell_type": "code",
   "execution_count": null,
   "metadata": {
    "id": "2yzK_ntGxhbp"
   },
   "outputs": [],
   "source": [
    "from konlpy.tag import Okt"
   ]
  },
  {
   "cell_type": "code",
   "execution_count": null,
   "metadata": {
    "id": "LXqdsvePxZYJ"
   },
   "outputs": [],
   "source": [
    "okt=Okt()\n",
    "tokens = [okt.morphs(word) for word in text_0]\n",
    "tokens = list(map(lambda x : \" \".join(x), tokens))"
   ]
  },
  {
   "cell_type": "code",
   "execution_count": null,
   "metadata": {
    "colab": {
     "base_uri": "https://localhost:8080/"
    },
    "id": "klWg9huexcve",
    "outputId": "b93f166c-2e75-4ba9-f4aa-6eefc115566b"
   },
   "outputs": [],
   "source": [
    "tokens[:10]"
   ]
  },
  {
   "cell_type": "code",
   "execution_count": null,
   "metadata": {
    "id": "3Sn-LuDYx7Dp"
   },
   "outputs": [],
   "source": [
    "import pandas as pd\n",
    "\n",
    "df = pd.DataFrame(columns=(\"review\", \"sentiment\"))  # 제목별 극성을 저장하기 위한 데이터프레임 생성\n",
    "idx = 0                                             # 다음 제목으로 넘기기 위한 초기값\n",
    "\n",
    "for token in tokens:                                # 전체 제목에서 문장 하나씩 가져옴\n",
    "  sentiment = 0                                     # 초기 감성값 0으로 설정\n",
    "  for i in range(0, len(sentiword_dic)):            # 감성사전의 모든 단어를 하나씩 선택\n",
    "    if sentiword_dic.word[i] in token:              # 제목 문장에 감성 단어가 있는지 확인\n",
    "      sentiment += int(sentiword_dic.polarity[i])   # 감성단어가 있다면 극성값 합계를 구함.\n",
    "  df.loc[idx] = [token, sentiment]                  # 제목별 극성값을 데이터프레임으로 쌓음\n",
    "  idx += 1                                          # 다음 제목 문장으로 넘어감"
   ]
  },
  {
   "cell_type": "code",
   "execution_count": null,
   "metadata": {
    "colab": {
     "base_uri": "https://localhost:8080/",
     "height": 423
    },
    "id": "_rOlwOWqyGAj",
    "outputId": "a0a14364-73c1-4cb2-f889-4d2da7d9ca58"
   },
   "outputs": [],
   "source": [
    "df"
   ]
  },
  {
   "cell_type": "code",
   "execution_count": null,
   "metadata": {
    "id": "f67irzB3yNS3"
   },
   "outputs": [],
   "source": []
  }
 ],
 "metadata": {
  "colab": {
   "provenance": []
  },
  "kernelspec": {
   "display_name": "Python 3 (ipykernel)",
   "language": "python",
   "name": "python3"
  },
  "language_info": {
   "codemirror_mode": {
    "name": "ipython",
    "version": 3
   },
   "file_extension": ".py",
   "mimetype": "text/x-python",
   "name": "python",
   "nbconvert_exporter": "python",
   "pygments_lexer": "ipython3",
   "version": "3.10.9"
  }
 },
 "nbformat": 4,
 "nbformat_minor": 4
}
