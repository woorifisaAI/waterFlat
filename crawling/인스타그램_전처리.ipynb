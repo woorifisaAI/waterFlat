{
 "cells": [
  {
   "cell_type": "code",
   "execution_count": 31,
   "id": "2ce5f8a8",
   "metadata": {},
   "outputs": [],
   "source": [
    "import pandas as pd"
   ]
  },
  {
   "cell_type": "code",
   "execution_count": 24,
   "id": "15c9114d",
   "metadata": {},
   "outputs": [],
   "source": [
    "data = pd.read_csv('C:\\ITStudy\\crawling/공식사이트/우리은행공식인스타_899')"
   ]
  },
  {
   "cell_type": "code",
   "execution_count": 25,
   "id": "734e9642",
   "metadata": {},
   "outputs": [],
   "source": [
    "# 컬럼명 변경\n",
    "new_column_names = {\"Unnamed: 0\": \"num\", \"0\": \"content\"}\n",
    "data.rename(columns=new_column_names, inplace=True)"
   ]
  },
  {
   "cell_type": "code",
   "execution_count": 30,
   "id": "26706531",
   "metadata": {},
   "outputs": [
    {
     "data": {
      "text/html": [
       "<div>\n",
       "<style scoped>\n",
       "    .dataframe tbody tr th:only-of-type {\n",
       "        vertical-align: middle;\n",
       "    }\n",
       "\n",
       "    .dataframe tbody tr th {\n",
       "        vertical-align: top;\n",
       "    }\n",
       "\n",
       "    .dataframe thead th {\n",
       "        text-align: right;\n",
       "    }\n",
       "</style>\n",
       "<table border=\"1\" class=\"dataframe\">\n",
       "  <thead>\n",
       "    <tr style=\"text-align: right;\">\n",
       "      <th></th>\n",
       "      <th>num</th>\n",
       "      <th>content</th>\n",
       "      <th>content_split</th>\n",
       "    </tr>\n",
       "  </thead>\n",
       "  <tbody>\n",
       "    <tr>\n",
       "      <th>0</th>\n",
       "      <td>0</td>\n",
       "      <td>1년 만에 다시 돌아온 우리은행X아이유 NEW TVCF! 6월2일 금요일, 우리은행...</td>\n",
       "      <td>[1년, 만에, 다시, 돌아온, 우리은행X아이유, NEW, TVCF!, 6월2일, ...</td>\n",
       "    </tr>\n",
       "    <tr>\n",
       "      <th>1</th>\n",
       "      <td>1</td>\n",
       "      <td>1년 만에 다시 돌아온 우리은행X아이유 NEW TVCF! 6월2일 금요일, 우리은행...</td>\n",
       "      <td>[1년, 만에, 다시, 돌아온, 우리은행X아이유, NEW, TVCF!, 6월2일, ...</td>\n",
       "    </tr>\n",
       "    <tr>\n",
       "      <th>2</th>\n",
       "      <td>2</td>\n",
       "      <td>1년 만에 다시 돌아온 우리은행X아이유 NEW TVCF! 6월2일 금요일, 우리은행...</td>\n",
       "      <td>[1년, 만에, 다시, 돌아온, 우리은행X아이유, NEW, TVCF!, 6월2일, ...</td>\n",
       "    </tr>\n",
       "    <tr>\n",
       "      <th>3</th>\n",
       "      <td>3</td>\n",
       "      <td>“저, 셀럽 매월이를 만나는 분들은매월 꼬박꼬박 뽀-나쓰를 얻어가십니다.” 때는 바...</td>\n",
       "      <td>[“저,, 셀럽, 매월이를, 만나는, 분들은매월, 꼬박꼬박, 뽀-나쓰를, 얻어가십니...</td>\n",
       "    </tr>\n",
       "    <tr>\n",
       "      <th>4</th>\n",
       "      <td>4</td>\n",
       "      <td>“저, 셀럽 매월이를 만나는 분들은매월 꼬박꼬박 뽀-나쓰를 얻어가십니다.” 때는 바...</td>\n",
       "      <td>[“저,, 셀럽, 매월이를, 만나는, 분들은매월, 꼬박꼬박, 뽀-나쓰를, 얻어가십니...</td>\n",
       "    </tr>\n",
       "    <tr>\n",
       "      <th>...</th>\n",
       "      <td>...</td>\n",
       "      <td>...</td>\n",
       "      <td>...</td>\n",
       "    </tr>\n",
       "    <tr>\n",
       "      <th>895</th>\n",
       "      <td>895</td>\n",
       "      <td>#Repost @bomin_byul with @repostapp・・・귀여운 고객님~...</td>\n",
       "      <td>[#Repost, @bomin_byul, with, @repostapp・・・귀여운,...</td>\n",
       "    </tr>\n",
       "    <tr>\n",
       "      <th>896</th>\n",
       "      <td>896</td>\n",
       "      <td>당신의 두피는 안전하십니까?위비멤버스가 이제 당신의 두피까지 책임집니다.위비멤버스와...</td>\n",
       "      <td>[당신의, 두피는, 안전하십니까?위비멤버스가, 이제, 당신의, 두피까지, 책임집니다...</td>\n",
       "    </tr>\n",
       "    <tr>\n",
       "      <th>897</th>\n",
       "      <td>897</td>\n",
       "      <td>으아~~#금요일 #4시출근부터 퇴근까지등교부터 하교까지일하느라 공부하느라 모두 구부...</td>\n",
       "      <td>[으아~~#금요일, #4시출근부터, 퇴근까지등교부터, 하교까지일하느라, 공부하느라,...</td>\n",
       "    </tr>\n",
       "    <tr>\n",
       "      <th>898</th>\n",
       "      <td>898</td>\n",
       "      <td>공인인증서, 보안카드, 수수료 NO!톡톡보내기 이용하면 문화상품권, 햄버거, 커피가...</td>\n",
       "      <td>[공인인증서,, 보안카드,, 수수료, NO!톡톡보내기, 이용하면, 문화상품권,, 햄...</td>\n",
       "    </tr>\n",
       "    <tr>\n",
       "      <th>899</th>\n",
       "      <td>899</td>\n",
       "      <td>#Repost @mihyoni37 with @repostapp・・・위비야~ 살아있니...</td>\n",
       "      <td>[#Repost, @mihyoni37, with, @repostapp・・・위비야~,...</td>\n",
       "    </tr>\n",
       "  </tbody>\n",
       "</table>\n",
       "<p>900 rows × 3 columns</p>\n",
       "</div>"
      ],
      "text/plain": [
       "     num                                            content  \\\n",
       "0      0  1년 만에 다시 돌아온 우리은행X아이유 NEW TVCF! 6월2일 금요일, 우리은행...   \n",
       "1      1  1년 만에 다시 돌아온 우리은행X아이유 NEW TVCF! 6월2일 금요일, 우리은행...   \n",
       "2      2  1년 만에 다시 돌아온 우리은행X아이유 NEW TVCF! 6월2일 금요일, 우리은행...   \n",
       "3      3  “저, 셀럽 매월이를 만나는 분들은매월 꼬박꼬박 뽀-나쓰를 얻어가십니다.” 때는 바...   \n",
       "4      4  “저, 셀럽 매월이를 만나는 분들은매월 꼬박꼬박 뽀-나쓰를 얻어가십니다.” 때는 바...   \n",
       "..   ...                                                ...   \n",
       "895  895  #Repost @bomin_byul with @repostapp・・・귀여운 고객님~...   \n",
       "896  896  당신의 두피는 안전하십니까?위비멤버스가 이제 당신의 두피까지 책임집니다.위비멤버스와...   \n",
       "897  897  으아~~#금요일 #4시출근부터 퇴근까지등교부터 하교까지일하느라 공부하느라 모두 구부...   \n",
       "898  898  공인인증서, 보안카드, 수수료 NO!톡톡보내기 이용하면 문화상품권, 햄버거, 커피가...   \n",
       "899  899  #Repost @mihyoni37 with @repostapp・・・위비야~ 살아있니...   \n",
       "\n",
       "                                         content_split  \n",
       "0    [1년, 만에, 다시, 돌아온, 우리은행X아이유, NEW, TVCF!, 6월2일, ...  \n",
       "1    [1년, 만에, 다시, 돌아온, 우리은행X아이유, NEW, TVCF!, 6월2일, ...  \n",
       "2    [1년, 만에, 다시, 돌아온, 우리은행X아이유, NEW, TVCF!, 6월2일, ...  \n",
       "3    [“저,, 셀럽, 매월이를, 만나는, 분들은매월, 꼬박꼬박, 뽀-나쓰를, 얻어가십니...  \n",
       "4    [“저,, 셀럽, 매월이를, 만나는, 분들은매월, 꼬박꼬박, 뽀-나쓰를, 얻어가십니...  \n",
       "..                                                 ...  \n",
       "895  [#Repost, @bomin_byul, with, @repostapp・・・귀여운,...  \n",
       "896  [당신의, 두피는, 안전하십니까?위비멤버스가, 이제, 당신의, 두피까지, 책임집니다...  \n",
       "897  [으아~~#금요일, #4시출근부터, 퇴근까지등교부터, 하교까지일하느라, 공부하느라,...  \n",
       "898  [공인인증서,, 보안카드,, 수수료, NO!톡톡보내기, 이용하면, 문화상품권,, 햄...  \n",
       "899  [#Repost, @mihyoni37, with, @repostapp・・・위비야~,...  \n",
       "\n",
       "[900 rows x 3 columns]"
      ]
     },
     "execution_count": 30,
     "metadata": {},
     "output_type": "execute_result"
    }
   ],
   "source": [
    "data"
   ]
  },
  {
   "cell_type": "code",
   "execution_count": 27,
   "id": "b6e178d5",
   "metadata": {},
   "outputs": [
    {
     "ename": "AttributeError",
     "evalue": "'DataFrame' object has no attribute 'split'",
     "output_type": "error",
     "traceback": [
      "\u001b[1;31m---------------------------------------------------------------------------\u001b[0m",
      "\u001b[1;31mAttributeError\u001b[0m                            Traceback (most recent call last)",
      "Cell \u001b[1;32mIn[27], line 1\u001b[0m\n\u001b[1;32m----> 1\u001b[0m data_split \u001b[38;5;241m=\u001b[39m \u001b[43mdata\u001b[49m\u001b[38;5;241;43m.\u001b[39;49m\u001b[43msplit\u001b[49m()\n\u001b[0;32m      2\u001b[0m \u001b[38;5;28mprint\u001b[39m(data_split)\n",
      "File \u001b[1;32m~\\anaconda3\\lib\\site-packages\\pandas\\core\\generic.py:5902\u001b[0m, in \u001b[0;36mNDFrame.__getattr__\u001b[1;34m(self, name)\u001b[0m\n\u001b[0;32m   5895\u001b[0m \u001b[38;5;28;01mif\u001b[39;00m (\n\u001b[0;32m   5896\u001b[0m     name \u001b[38;5;129;01mnot\u001b[39;00m \u001b[38;5;129;01min\u001b[39;00m \u001b[38;5;28mself\u001b[39m\u001b[38;5;241m.\u001b[39m_internal_names_set\n\u001b[0;32m   5897\u001b[0m     \u001b[38;5;129;01mand\u001b[39;00m name \u001b[38;5;129;01mnot\u001b[39;00m \u001b[38;5;129;01min\u001b[39;00m \u001b[38;5;28mself\u001b[39m\u001b[38;5;241m.\u001b[39m_metadata\n\u001b[0;32m   5898\u001b[0m     \u001b[38;5;129;01mand\u001b[39;00m name \u001b[38;5;129;01mnot\u001b[39;00m \u001b[38;5;129;01min\u001b[39;00m \u001b[38;5;28mself\u001b[39m\u001b[38;5;241m.\u001b[39m_accessors\n\u001b[0;32m   5899\u001b[0m     \u001b[38;5;129;01mand\u001b[39;00m \u001b[38;5;28mself\u001b[39m\u001b[38;5;241m.\u001b[39m_info_axis\u001b[38;5;241m.\u001b[39m_can_hold_identifiers_and_holds_name(name)\n\u001b[0;32m   5900\u001b[0m ):\n\u001b[0;32m   5901\u001b[0m     \u001b[38;5;28;01mreturn\u001b[39;00m \u001b[38;5;28mself\u001b[39m[name]\n\u001b[1;32m-> 5902\u001b[0m \u001b[38;5;28;01mreturn\u001b[39;00m \u001b[38;5;28;43mobject\u001b[39;49m\u001b[38;5;241;43m.\u001b[39;49m\u001b[38;5;21;43m__getattribute__\u001b[39;49m\u001b[43m(\u001b[49m\u001b[38;5;28;43mself\u001b[39;49m\u001b[43m,\u001b[49m\u001b[43m \u001b[49m\u001b[43mname\u001b[49m\u001b[43m)\u001b[49m\n",
      "\u001b[1;31mAttributeError\u001b[0m: 'DataFrame' object has no attribute 'split'"
     ]
    }
   ],
   "source": [
    "data_split = data.split()\n",
    "print(data_split)\n"
   ]
  },
  {
   "cell_type": "code",
   "execution_count": 28,
   "id": "80b88e7b",
   "metadata": {},
   "outputs": [
    {
     "name": "stdout",
     "output_type": "stream",
     "text": [
      "     num                                            content  \\\n",
      "0      0  1년 만에 다시 돌아온 우리은행X아이유 NEW TVCF! 6월2일 금요일, 우리은행...   \n",
      "1      1  1년 만에 다시 돌아온 우리은행X아이유 NEW TVCF! 6월2일 금요일, 우리은행...   \n",
      "2      2  1년 만에 다시 돌아온 우리은행X아이유 NEW TVCF! 6월2일 금요일, 우리은행...   \n",
      "3      3  “저, 셀럽 매월이를 만나는 분들은매월 꼬박꼬박 뽀-나쓰를 얻어가십니다.” 때는 바...   \n",
      "4      4  “저, 셀럽 매월이를 만나는 분들은매월 꼬박꼬박 뽀-나쓰를 얻어가십니다.” 때는 바...   \n",
      "..   ...                                                ...   \n",
      "895  895  #Repost @bomin_byul with @repostapp・・・귀여운 고객님~...   \n",
      "896  896  당신의 두피는 안전하십니까?위비멤버스가 이제 당신의 두피까지 책임집니다.위비멤버스와...   \n",
      "897  897  으아~~#금요일 #4시출근부터 퇴근까지등교부터 하교까지일하느라 공부하느라 모두 구부...   \n",
      "898  898  공인인증서, 보안카드, 수수료 NO!톡톡보내기 이용하면 문화상품권, 햄버거, 커피가...   \n",
      "899  899  #Repost @mihyoni37 with @repostapp・・・위비야~ 살아있니...   \n",
      "\n",
      "                                         content_split  \n",
      "0    [1년, 만에, 다시, 돌아온, 우리은행X아이유, NEW, TVCF!, 6월2일, ...  \n",
      "1    [1년, 만에, 다시, 돌아온, 우리은행X아이유, NEW, TVCF!, 6월2일, ...  \n",
      "2    [1년, 만에, 다시, 돌아온, 우리은행X아이유, NEW, TVCF!, 6월2일, ...  \n",
      "3    [“저,, 셀럽, 매월이를, 만나는, 분들은매월, 꼬박꼬박, 뽀-나쓰를, 얻어가십니...  \n",
      "4    [“저,, 셀럽, 매월이를, 만나는, 분들은매월, 꼬박꼬박, 뽀-나쓰를, 얻어가십니...  \n",
      "..                                                 ...  \n",
      "895  [#Repost, @bomin_byul, with, @repostapp・・・귀여운,...  \n",
      "896  [당신의, 두피는, 안전하십니까?위비멤버스가, 이제, 당신의, 두피까지, 책임집니다...  \n",
      "897  [으아~~#금요일, #4시출근부터, 퇴근까지등교부터, 하교까지일하느라, 공부하느라,...  \n",
      "898  [공인인증서,, 보안카드,, 수수료, NO!톡톡보내기, 이용하면, 문화상품권,, 햄...  \n",
      "899  [#Repost, @mihyoni37, with, @repostapp・・・위비야~,...  \n",
      "\n",
      "[900 rows x 3 columns]\n"
     ]
    }
   ],
   "source": [
    "import pandas as pd\n",
    "import re\n",
    "\n",
    "# 정규식 패턴을 적용하여 문자열 수정\n",
    "pattern = r'\\([^)]*\\)'  # ()\n",
    "pattern1 = r'\\[[^)]*\\]'  # []\n",
    "pattern2 = r'\\<[^)]*\\>'  # <>\n",
    "pattern3 = r'\\{[^)]*\\}'  # {}\n",
    "pattern4 = r'\\【[^)]*\\】' # 【】\n",
    "pattern5 = r'\\❝[^)]*\\❞' #  ❝ ❞\n",
    "\n",
    "\n",
    "data['content'] = data['content'].apply(lambda x: re.sub(pattern, '', x))\n",
    "data['content'] = data['content'].apply(lambda x: re.sub(pattern1, '', x))\n",
    "data['content'] = data['content'].apply(lambda x: re.sub(pattern2, '', x))\n",
    "data['content'] = data['content'].apply(lambda x: re.sub(pattern3, '', x))\n",
    "data['content'] = data['content'].apply(lambda x: re.sub(pattern4, '', x))\n",
    "data['content'] = data['content'].apply(lambda x: re.sub(pattern5, '', x))\n",
    "# data['content'] = data['content'].apply(lambda x: re.sub(pattern6, '', x))\n",
    "data['content_split'] = data['content'].apply(lambda x: x.split()) #공백 기준으로 분리\n",
    "\n",
    "print(data)\n"
   ]
  },
  {
   "cell_type": "code",
   "execution_count": 29,
   "id": "9a21bed8",
   "metadata": {},
   "outputs": [],
   "source": [
    "results = pd.DataFrame(data)\n",
    "results\n",
    "results.to_csv(\"전처리1\")"
   ]
  },
  {
   "cell_type": "code",
   "execution_count": null,
   "id": "73e6c01c",
   "metadata": {},
   "outputs": [],
   "source": []
  }
 ],
 "metadata": {
  "kernelspec": {
   "display_name": "Python 3 (ipykernel)",
   "language": "python",
   "name": "python3"
  },
  "language_info": {
   "codemirror_mode": {
    "name": "ipython",
    "version": 3
   },
   "file_extension": ".py",
   "mimetype": "text/x-python",
   "name": "python",
   "nbconvert_exporter": "python",
   "pygments_lexer": "ipython3",
   "version": "3.10.9"
  }
 },
 "nbformat": 4,
 "nbformat_minor": 5
}
