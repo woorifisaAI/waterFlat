{
 "cells": [
  {
   "cell_type": "code",
   "execution_count": 1,
   "metadata": {
    "colab": {
     "base_uri": "https://localhost:8080/"
    },
    "id": "lKgr7kuwtm8h",
    "outputId": "0b9f3e2a-9ac2-4d19-bfd4-4e3b2a9063f9"
   },
   "outputs": [
    {
     "name": "stdout",
     "output_type": "stream",
     "text": [
      "Requirement already satisfied: selenium in c:\\users\\admin\\anaconda3\\lib\\site-packages (4.11.2)\n",
      "Requirement already satisfied: urllib3[socks]<3,>=1.26 in c:\\users\\admin\\anaconda3\\lib\\site-packages (from selenium) (1.26.14)\n",
      "Requirement already satisfied: trio~=0.17 in c:\\users\\admin\\anaconda3\\lib\\site-packages (from selenium) (0.22.2)\n",
      "Requirement already satisfied: trio-websocket~=0.9 in c:\\users\\admin\\anaconda3\\lib\\site-packages (from selenium) (0.10.3)\n",
      "Requirement already satisfied: certifi>=2021.10.8 in c:\\users\\admin\\anaconda3\\lib\\site-packages (from selenium) (2022.12.7)\n",
      "Requirement already satisfied: attrs>=20.1.0 in c:\\users\\admin\\anaconda3\\lib\\site-packages (from trio~=0.17->selenium) (22.1.0)\n",
      "Requirement already satisfied: sortedcontainers in c:\\users\\admin\\anaconda3\\lib\\site-packages (from trio~=0.17->selenium) (2.4.0)\n",
      "Requirement already satisfied: idna in c:\\users\\admin\\anaconda3\\lib\\site-packages (from trio~=0.17->selenium) (3.4)\n",
      "Requirement already satisfied: outcome in c:\\users\\admin\\anaconda3\\lib\\site-packages (from trio~=0.17->selenium) (1.2.0)\n",
      "Requirement already satisfied: sniffio in c:\\users\\admin\\anaconda3\\lib\\site-packages (from trio~=0.17->selenium) (1.2.0)\n",
      "Requirement already satisfied: cffi>=1.14 in c:\\users\\admin\\anaconda3\\lib\\site-packages (from trio~=0.17->selenium) (1.15.1)\n",
      "Requirement already satisfied: exceptiongroup>=1.0.0rc9 in c:\\users\\admin\\anaconda3\\lib\\site-packages (from trio~=0.17->selenium) (1.1.2)\n",
      "Requirement already satisfied: wsproto>=0.14 in c:\\users\\admin\\anaconda3\\lib\\site-packages (from trio-websocket~=0.9->selenium) (1.2.0)\n",
      "Requirement already satisfied: PySocks!=1.5.7,<2.0,>=1.5.6 in c:\\users\\admin\\anaconda3\\lib\\site-packages (from urllib3[socks]<3,>=1.26->selenium) (1.7.1)\n",
      "Requirement already satisfied: pycparser in c:\\users\\admin\\anaconda3\\lib\\site-packages (from cffi>=1.14->trio~=0.17->selenium) (2.21)\n",
      "Requirement already satisfied: h11<1,>=0.9.0 in c:\\users\\admin\\anaconda3\\lib\\site-packages (from wsproto>=0.14->trio-websocket~=0.9->selenium) (0.14.0)\n"
     ]
    }
   ],
   "source": [
    "#필요한 라이브러리들 설치\n",
    "!pip install selenium"
   ]
  },
  {
   "cell_type": "code",
   "execution_count": 2,
   "metadata": {
    "id": "Ot_zXKCHtnF3"
   },
   "outputs": [],
   "source": [
    "from selenium import webdriver\n",
    "from selenium.webdriver.common.by import By"
   ]
  },
  {
   "cell_type": "code",
   "execution_count": 3,
   "metadata": {
    "id": "wkW3yBYYx-Vc"
   },
   "outputs": [],
   "source": [
    "import selenium\n",
    "from selenium import webdriver\n",
    "from selenium.webdriver.chrome.service import Service"
   ]
  },
  {
   "cell_type": "code",
   "execution_count": 4,
   "metadata": {
    "id": "cxGLciSZwYxB"
   },
   "outputs": [],
   "source": [
    "from selenium import webdriver\n",
    "\n",
    "# chromedriver 실행 파일의 경로를 지정합니다\n",
    "executable_path = r'C:\\Users\\Admin\\Downloads\\chromedriver.exe'  # 여기에 실제 chromedriver 경로를 업데이트하세요\n",
    "\n",
    "# Chrome 옵션 설정\n",
    "options = webdriver.ChromeOptions()\n",
    "options.add_argument('--headless')\n",
    "options.add_argument('--no-sandbox')\n",
    "options.add_argument('--disable-dev-shm-usage')\n",
    "\n",
    "# Chrome을 사용하여 WebDriver 인스턴스 생성 \n",
    "# 이부분은 주피터랩 환경과 코랩환경이 조금 달라서 코랩에선 안돌아 갈거에유\n",
    "driver = webdriver.Chrome(options=options)\n"
   ]
  },
  {
   "cell_type": "code",
   "execution_count": 5,
   "metadata": {},
   "outputs": [],
   "source": [
    "#아마 코랩에서 돌리시려면 밑에거 주석처리 해제하시고 하면 될겁니덩!\n",
    "# !pip install selenium\n",
    "# !apt-get update\n",
    "# !apt install chromium-chromedriver\n",
    "# !cp /usr/lib/chromium-browser/chromedriver /usr/bin\n",
    "# service = Service(executable_path=r'/usr/bin/chromedriver')\n",
    "# options = webdriver.ChromeOptions()\n",
    "# options.add_argument('--headless')\n",
    "# options.add_argument('--no-sandbox')\n",
    "# options.add_argument('--disable-dev-shm-usage')\n",
    "# driver = webdriver.Chrome(options=options)\n",
    "# #driver.maximize_window()\n"
   ]
  },
  {
   "cell_type": "code",
   "execution_count": 6,
   "metadata": {
    "id": "daqolKnfw3_a"
   },
   "outputs": [],
   "source": [
    "import pandas as pd"
   ]
  },
  {
   "cell_type": "code",
   "execution_count": 7,
   "metadata": {
    "scrolled": true
   },
   "outputs": [
    {
     "name": "stdout",
     "output_type": "stream",
     "text": [
      "Requirement already satisfied: yfinance in c:\\users\\admin\\anaconda3\\lib\\site-packages (0.2.27)\n",
      "Requirement already satisfied: pandas>=1.3.0 in c:\\users\\admin\\anaconda3\\lib\\site-packages (from yfinance) (2.0.3)\n",
      "Requirement already satisfied: numpy>=1.16.5 in c:\\users\\admin\\anaconda3\\lib\\site-packages (from yfinance) (1.25.1)\n",
      "Requirement already satisfied: requests>=2.31 in c:\\users\\admin\\anaconda3\\lib\\site-packages (from yfinance) (2.31.0)\n",
      "Requirement already satisfied: multitasking>=0.0.7 in c:\\users\\admin\\anaconda3\\lib\\site-packages (from yfinance) (0.0.11)\n",
      "Requirement already satisfied: lxml>=4.9.1 in c:\\users\\admin\\anaconda3\\lib\\site-packages (from yfinance) (4.9.1)\n",
      "Requirement already satisfied: appdirs>=1.4.4 in c:\\users\\admin\\anaconda3\\lib\\site-packages (from yfinance) (1.4.4)\n",
      "Requirement already satisfied: pytz>=2022.5 in c:\\users\\admin\\anaconda3\\lib\\site-packages (from yfinance) (2023.3)\n",
      "Requirement already satisfied: frozendict>=2.3.4 in c:\\users\\admin\\anaconda3\\lib\\site-packages (from yfinance) (2.3.8)\n",
      "Requirement already satisfied: beautifulsoup4>=4.11.1 in c:\\users\\admin\\anaconda3\\lib\\site-packages (from yfinance) (4.11.1)\n",
      "Requirement already satisfied: html5lib>=1.1 in c:\\users\\admin\\anaconda3\\lib\\site-packages (from yfinance) (1.1)\n",
      "Requirement already satisfied: soupsieve>1.2 in c:\\users\\admin\\anaconda3\\lib\\site-packages (from beautifulsoup4>=4.11.1->yfinance) (2.3.2.post1)\n",
      "Requirement already satisfied: six>=1.9 in c:\\users\\admin\\anaconda3\\lib\\site-packages (from html5lib>=1.1->yfinance) (1.16.0)\n",
      "Requirement already satisfied: webencodings in c:\\users\\admin\\anaconda3\\lib\\site-packages (from html5lib>=1.1->yfinance) (0.5.1)\n",
      "Requirement already satisfied: python-dateutil>=2.8.2 in c:\\users\\admin\\anaconda3\\lib\\site-packages (from pandas>=1.3.0->yfinance) (2.8.2)\n",
      "Requirement already satisfied: tzdata>=2022.1 in c:\\users\\admin\\anaconda3\\lib\\site-packages (from pandas>=1.3.0->yfinance) (2023.3)\n",
      "Requirement already satisfied: charset-normalizer<4,>=2 in c:\\users\\admin\\anaconda3\\lib\\site-packages (from requests>=2.31->yfinance) (2.0.4)\n",
      "Requirement already satisfied: idna<4,>=2.5 in c:\\users\\admin\\anaconda3\\lib\\site-packages (from requests>=2.31->yfinance) (3.4)\n",
      "Requirement already satisfied: urllib3<3,>=1.21.1 in c:\\users\\admin\\anaconda3\\lib\\site-packages (from requests>=2.31->yfinance) (1.26.14)\n",
      "Requirement already satisfied: certifi>=2017.4.17 in c:\\users\\admin\\anaconda3\\lib\\site-packages (from requests>=2.31->yfinance) (2022.12.7)\n",
      "Note: you may need to restart the kernel to use updated packages.\n"
     ]
    }
   ],
   "source": [
    "pip install yfinance"
   ]
  },
  {
   "cell_type": "code",
   "execution_count": 8,
   "metadata": {
    "id": "kn8ELoBsBVKr"
   },
   "outputs": [],
   "source": [
    "#주식데이터 불러오기 일단 그냥 불러와 봤습니다 하하 나중에 감성분석 한거랑 붙일려구요 ! \n",
    "import yfinance as yf"
   ]
  },
  {
   "cell_type": "code",
   "execution_count": 9,
   "metadata": {
    "colab": {
     "base_uri": "https://localhost:8080/"
    },
    "id": "nkPL6jv4CfLz",
    "outputId": "d510b5a0-17af-4412-fbc8-505143738747"
   },
   "outputs": [
    {
     "name": "stdout",
     "output_type": "stream",
     "text": [
      "[*********************100%***********************]  1 of 1 completed\n"
     ]
    }
   ],
   "source": [
    "data = yf.download(\"^KS11\", start=\"2018-01-01\", end=\"2023-08-01\")"
   ]
  },
  {
   "cell_type": "code",
   "execution_count": 10,
   "metadata": {
    "colab": {
     "base_uri": "https://localhost:8080/",
     "height": 455
    },
    "id": "qGGrjwokCnMK",
    "outputId": "124e6847-2ba1-48b9-b91a-26775a85f994"
   },
   "outputs": [
    {
     "data": {
      "text/html": [
       "<div>\n",
       "<style scoped>\n",
       "    .dataframe tbody tr th:only-of-type {\n",
       "        vertical-align: middle;\n",
       "    }\n",
       "\n",
       "    .dataframe tbody tr th {\n",
       "        vertical-align: top;\n",
       "    }\n",
       "\n",
       "    .dataframe thead th {\n",
       "        text-align: right;\n",
       "    }\n",
       "</style>\n",
       "<table border=\"1\" class=\"dataframe\">\n",
       "  <thead>\n",
       "    <tr style=\"text-align: right;\">\n",
       "      <th></th>\n",
       "      <th>Open</th>\n",
       "      <th>High</th>\n",
       "      <th>Low</th>\n",
       "      <th>Close</th>\n",
       "      <th>Adj Close</th>\n",
       "      <th>Volume</th>\n",
       "    </tr>\n",
       "    <tr>\n",
       "      <th>Date</th>\n",
       "      <th></th>\n",
       "      <th></th>\n",
       "      <th></th>\n",
       "      <th></th>\n",
       "      <th></th>\n",
       "      <th></th>\n",
       "    </tr>\n",
       "  </thead>\n",
       "  <tbody>\n",
       "    <tr>\n",
       "      <th>2018-01-02</th>\n",
       "      <td>2474.860107</td>\n",
       "      <td>2481.020020</td>\n",
       "      <td>2465.939941</td>\n",
       "      <td>2479.649902</td>\n",
       "      <td>2479.649902</td>\n",
       "      <td>262200</td>\n",
       "    </tr>\n",
       "    <tr>\n",
       "      <th>2018-01-03</th>\n",
       "      <td>2484.629883</td>\n",
       "      <td>2493.399902</td>\n",
       "      <td>2481.909912</td>\n",
       "      <td>2486.350098</td>\n",
       "      <td>2486.350098</td>\n",
       "      <td>331100</td>\n",
       "    </tr>\n",
       "    <tr>\n",
       "      <th>2018-01-04</th>\n",
       "      <td>2502.500000</td>\n",
       "      <td>2502.500000</td>\n",
       "      <td>2466.449951</td>\n",
       "      <td>2466.459961</td>\n",
       "      <td>2466.459961</td>\n",
       "      <td>333800</td>\n",
       "    </tr>\n",
       "    <tr>\n",
       "      <th>2018-01-05</th>\n",
       "      <td>2476.850098</td>\n",
       "      <td>2497.520020</td>\n",
       "      <td>2475.510010</td>\n",
       "      <td>2497.520020</td>\n",
       "      <td>2497.520020</td>\n",
       "      <td>308800</td>\n",
       "    </tr>\n",
       "    <tr>\n",
       "      <th>2018-01-08</th>\n",
       "      <td>2510.699951</td>\n",
       "      <td>2515.370117</td>\n",
       "      <td>2494.179932</td>\n",
       "      <td>2513.280029</td>\n",
       "      <td>2513.280029</td>\n",
       "      <td>311400</td>\n",
       "    </tr>\n",
       "    <tr>\n",
       "      <th>...</th>\n",
       "      <td>...</td>\n",
       "      <td>...</td>\n",
       "      <td>...</td>\n",
       "      <td>...</td>\n",
       "      <td>...</td>\n",
       "      <td>...</td>\n",
       "    </tr>\n",
       "    <tr>\n",
       "      <th>2023-07-25</th>\n",
       "      <td>2643.350098</td>\n",
       "      <td>2646.709961</td>\n",
       "      <td>2621.600098</td>\n",
       "      <td>2636.459961</td>\n",
       "      <td>2636.459961</td>\n",
       "      <td>721500</td>\n",
       "    </tr>\n",
       "    <tr>\n",
       "      <th>2023-07-26</th>\n",
       "      <td>2638.760010</td>\n",
       "      <td>2639.209961</td>\n",
       "      <td>2580.979980</td>\n",
       "      <td>2592.360107</td>\n",
       "      <td>2592.360107</td>\n",
       "      <td>830100</td>\n",
       "    </tr>\n",
       "    <tr>\n",
       "      <th>2023-07-27</th>\n",
       "      <td>2599.820068</td>\n",
       "      <td>2617.610107</td>\n",
       "      <td>2586.360107</td>\n",
       "      <td>2603.810059</td>\n",
       "      <td>2603.810059</td>\n",
       "      <td>591900</td>\n",
       "    </tr>\n",
       "    <tr>\n",
       "      <th>2023-07-28</th>\n",
       "      <td>2593.669922</td>\n",
       "      <td>2609.540039</td>\n",
       "      <td>2586.330078</td>\n",
       "      <td>2608.320068</td>\n",
       "      <td>2608.320068</td>\n",
       "      <td>497300</td>\n",
       "    </tr>\n",
       "    <tr>\n",
       "      <th>2023-07-31</th>\n",
       "      <td>2628.870117</td>\n",
       "      <td>2639.449951</td>\n",
       "      <td>2622.209961</td>\n",
       "      <td>2632.580078</td>\n",
       "      <td>2632.580078</td>\n",
       "      <td>454200</td>\n",
       "    </tr>\n",
       "  </tbody>\n",
       "</table>\n",
       "<p>1374 rows × 6 columns</p>\n",
       "</div>"
      ],
      "text/plain": [
       "                   Open         High          Low        Close    Adj Close  \\\n",
       "Date                                                                          \n",
       "2018-01-02  2474.860107  2481.020020  2465.939941  2479.649902  2479.649902   \n",
       "2018-01-03  2484.629883  2493.399902  2481.909912  2486.350098  2486.350098   \n",
       "2018-01-04  2502.500000  2502.500000  2466.449951  2466.459961  2466.459961   \n",
       "2018-01-05  2476.850098  2497.520020  2475.510010  2497.520020  2497.520020   \n",
       "2018-01-08  2510.699951  2515.370117  2494.179932  2513.280029  2513.280029   \n",
       "...                 ...          ...          ...          ...          ...   \n",
       "2023-07-25  2643.350098  2646.709961  2621.600098  2636.459961  2636.459961   \n",
       "2023-07-26  2638.760010  2639.209961  2580.979980  2592.360107  2592.360107   \n",
       "2023-07-27  2599.820068  2617.610107  2586.360107  2603.810059  2603.810059   \n",
       "2023-07-28  2593.669922  2609.540039  2586.330078  2608.320068  2608.320068   \n",
       "2023-07-31  2628.870117  2639.449951  2622.209961  2632.580078  2632.580078   \n",
       "\n",
       "            Volume  \n",
       "Date                \n",
       "2018-01-02  262200  \n",
       "2018-01-03  331100  \n",
       "2018-01-04  333800  \n",
       "2018-01-05  308800  \n",
       "2018-01-08  311400  \n",
       "...            ...  \n",
       "2023-07-25  721500  \n",
       "2023-07-26  830100  \n",
       "2023-07-27  591900  \n",
       "2023-07-28  497300  \n",
       "2023-07-31  454200  \n",
       "\n",
       "[1374 rows x 6 columns]"
      ]
     },
     "execution_count": 10,
     "metadata": {},
     "output_type": "execute_result"
    }
   ],
   "source": [
    "data"
   ]
  },
  {
   "cell_type": "code",
   "execution_count": 11,
   "metadata": {
    "id": "ttzo2xJqLykC"
   },
   "outputs": [],
   "source": [
    "import selenium"
   ]
  },
  {
   "cell_type": "code",
   "execution_count": 12,
   "metadata": {
    "id": "Iwm-zn3aMAC5"
   },
   "outputs": [],
   "source": [
    "import time"
   ]
  },
  {
   "cell_type": "code",
   "execution_count": 13,
   "metadata": {
    "id": "Oap7O4wDSNcz"
   },
   "outputs": [],
   "source": [
    "from bs4 import BeautifulSoup as bs"
   ]
  },
  {
   "cell_type": "code",
   "execution_count": 46,
   "metadata": {
    "colab": {
     "base_uri": "https://localhost:8080/"
    },
    "id": "uHIMnaF-RSqU",
    "outputId": "041c10a4-a5f2-48ca-e046-fae74ea9ce51"
   },
   "outputs": [
    {
     "name": "stdout",
     "output_type": "stream",
     "text": [
      "- 접속한 웹 사이트의 제목: Nasdaq - Google 검색\n",
      "https://www.google.com/search?sca_esv=556524961&sxsrf=AB5stBgpJwBxK5OF21289mfRrybowxgTZQ:1691931220832&q=Nasdaq&tbm=nws&source=lnms&sa=X&ved=2ahUKEwi_qZv71tmAAxVumVYBHaqbD-sQ0pQJegQIDBAB&biw=1536&bih=715&dpr=1.25\n"
     ]
    }
   ],
   "source": [
    "from selenium import webdriver\n",
    "from selenium.webdriver.common.keys import Keys\n",
    "\n",
    "driver = webdriver.Chrome(options=options) # 크롬 드라이버 객체 생성\n",
    "\n",
    "#Nasdaq으로 검색\n",
    "driver.get('https://www.google.com/search?sca_esv=556524961&sxsrf=AB5stBgpJwBxK5OF21289mfRrybowxgTZQ:1691931220832&q=Nasdaq&tbm=nws&source=lnms&sa=X&ved=2ahUKEwi_qZv71tmAAxVumVYBHaqbD-sQ0pQJegQIDBAB&biw=1536&bih=715&dpr=1.25')\n",
    "\n",
    "#웹사이트 잘 들어왔는지 확인하기 접속한 URL의 제목 출력\n",
    "print(\"- 접속한 웹 사이트의 제목:\", driver.title)\n",
    "# 빠른 접근은 에러가 생길 수 있어서 time.sleep 으로 한템포 쉬어갑니덩\n",
    "driver.implicitly_wait(5)\n",
    "# 도구 클릭.\n",
    "elem_tool = driver.find_element(By.XPATH,'//*[@id=\"hdtb-tls\"]')\n",
    "driver.execute_script(\"arguments[0].click();\", elem_tool)\n",
    "time.sleep(1)\n",
    "# # 최근항목 클릭.\n",
    "elem_recent = driver.find_element(By.XPATH,'//*[@id=\"tn_1\"]/span[2]/g-popup/div[1]/div/div')\n",
    "driver.execute_script(\"arguments[0].click();\", elem_recent)\n",
    "\n",
    "# # 기간설정 클릭.\n",
    "elem_input = driver.find_element(By.XPATH,'//*[@id=\"lb\"]/div/g-menu/g-menu-item[8]/div/div/span').click()\n",
    "\n",
    "time.sleep(1)\n",
    "\n",
    "print(driver.current_url)\n",
    "naver_news_link = []"
   ]
  },
  {
   "cell_type": "code",
   "execution_count": 29,
   "metadata": {
    "id": "z0aYYJvsSaid"
   },
   "outputs": [],
   "source": [
    "naver_list= [[],[]\n",
    "            ]\n",
    "# 뉴스 데이터를 저장할 객체 선언"
   ]
  },
  {
   "cell_type": "code",
   "execution_count": 30,
   "metadata": {
    "id": "ihjxu5_uS6Af"
   },
   "outputs": [],
   "source": [
    "next_button_xpath = '//*[@id=\"pnnext\"]/span[2]' #페이지 넘기는 다음버튼 클릭 정의"
   ]
  },
  {
   "cell_type": "code",
   "execution_count": 54,
   "metadata": {
    "id": "RYHvekQBRS6u"
   },
   "outputs": [],
   "source": [
    "# 본격적 크롤링을 위한 함수 구현\n",
    "\n",
    "def select_date_naver_news(year,month,day):\n",
    "\n",
    "    '''네이버뉴스에서 원하는 날짜의 뉴스를 검색해서 네이버뉴스 링크를 리스트로 return.'''\n",
    "    def format_date(year, month, day):\n",
    "        formatted_date = f\"{month:02d}/{day:02d}/{year}\"\n",
    "        return formatted_date\n",
    "\n",
    "\n",
    "    # 시작일 설정\n",
    "    elem_year = driver.find_element(By.XPATH,'//*[@id=\"OouJcb\"]')\n",
    "    elem_year.click()\n",
    "    elem_year.send_keys(format_date(year, month, day))\n",
    "\n",
    "\n",
    "    # 끝나는 일 설정\n",
    "    elem_month = driver.find_element(By.XPATH,'//*[@id=\"rzG2be\"]')\n",
    "    elem_month.click()\n",
    "    elem_month.send_keys(format_date(year, month, day))\n",
    "\n",
    "    time.sleep(1)\n",
    "\n",
    "    #실행 클릭\n",
    "    elem_day = driver.find_element(By.XPATH,'//*[@id=\"T3kYXe\"]/g-button')\n",
    "    elem_day.click()\n",
    "  \n",
    "    print('다음 날짜 선택 후 크롤링 준비')\n",
    "#################\n",
    "    previous_url = 0\n",
    "    while True:\n",
    "\n",
    "        current_url = driver.current_url\n",
    "        print(driver.current_url)\n",
    "\n",
    "        # 3째장 도달했을때 break\n",
    "        if current_url == previous_url:\n",
    "            break\n",
    "        elif \"start=20\" in current_url:\n",
    "            break\n",
    "\n",
    "        html = driver.page_source\n",
    "        soup = bs(html, 'html.parser')\n",
    "\n",
    "        titles = soup.select('div.n0jPhd.ynAwRc.MBeuO.nDgy9d')\n",
    "        date = soup.select('div.OSrXXb.rbYSKb.LfVVr > span')\n",
    "\n",
    "        # 현재 페이지에서의 크롤링 로직 작성\n",
    "        for t,d in zip(titles, date):\n",
    "            title = t.get_text()\n",
    "            date = d.get_text()\n",
    "            naver_list[0].append(title)\n",
    "            naver_list[1].append(date)\n",
    "        previous_url = current_url\n",
    "        \n",
    "        try:\n",
    "            next_button = driver.find_element(By.XPATH, next_button_xpath)\n",
    "        except:\n",
    "            print(\"Next button not found. Exiting loop.\")\n",
    "            break        \n",
    "        \n",
    "        driver.execute_script(\"arguments[0].click();\", next_button)\n",
    "\n",
    "################\n",
    "    print('크롤링 준비')\n",
    "    # 옵션 초기화 버튼 클릭\n",
    "    driver.implicitly_wait(5)\n",
    "    reset = driver.find_element(By.XPATH,'//*[@id=\"tn_1\"]/a')\n",
    "    driver.execute_script(\"arguments[0].click();\", reset)\n",
    "    time.sleep(3)\n",
    "\n",
    "    # 도구 클릭.\n",
    "    elem_tool = driver.find_element(By.XPATH,'//*[@id=\"hdtb-tls\"]').click()\n",
    "    time.sleep(1)\n",
    "    # # 최근항목 클릭.\n",
    "    elem_recent = driver.find_element(By.XPATH,'//*[@id=\"tn_1\"]/span[2]/g-popup/div[1]/div/div')\n",
    "    driver.execute_script(\"arguments[0].click();\", elem_recent)\n",
    "\n",
    "    # # 기간설정 클릭.\n",
    "    elem_input = driver.find_element(By.XPATH,'//*[@id=\"lb\"]/div/g-menu/g-menu-item[8]/div/div/span').click()\n",
    "    \n",
    "    time.sleep(1)\n",
    "    print('다음날짜로 선택시작')\n",
    "    return naver_list"
   ]
  },
  {
   "cell_type": "code",
   "execution_count": 37,
   "metadata": {
    "colab": {
     "base_uri": "https://localhost:8080/"
    },
    "id": "Y5nBq4_5YllP",
    "outputId": "71429450-9454-4b6f-fc06-910213c727b0"
   },
   "outputs": [
    {
     "name": "stdout",
     "output_type": "stream",
     "text": [
      "Requirement already satisfied: tqdm in c:\\users\\admin\\anaconda3\\lib\\site-packages (4.64.1)\n",
      "Requirement already satisfied: colorama in c:\\users\\admin\\anaconda3\\lib\\site-packages (from tqdm) (0.4.6)\n"
     ]
    }
   ],
   "source": [
    "#잘~ 돌아가고 있나 눈으로 보고싶다 !\n",
    "!pip install tqdm"
   ]
  },
  {
   "cell_type": "code",
   "execution_count": 57,
   "metadata": {
    "id": "BKrXN9xtwTtq"
   },
   "outputs": [],
   "source": [
    "res=[]"
   ]
  },
  {
   "cell_type": "code",
   "execution_count": 58,
   "metadata": {
    "id": "pEoEfc-RZkZA"
   },
   "outputs": [],
   "source": [
    "#잘~ 돌아가고 있나 눈으로 보고싶다 !\n",
    "from tqdm import tqdm"
   ]
  },
  {
   "cell_type": "code",
   "execution_count": 59,
   "metadata": {
    "colab": {
     "base_uri": "https://localhost:8080/"
    },
    "id": "PJqRycQWRS9X",
    "outputId": "eea07d4e-2285-4042-d5ed-0613ed402726"
   },
   "outputs": [
    {
     "name": "stdout",
     "output_type": "stream",
     "text": [
      "- 접속한 웹 사이트의 제목: Nasdaq - Google 검색\n"
     ]
    },
    {
     "name": "stderr",
     "output_type": "stream",
     "text": [
      "preprocessing year:   0%|                                                                        | 0/1 [00:00<?, ?it/s]\n",
      "preprocessing month:   0%|                                                                      | 0/12 [00:00<?, ?it/s]\u001b[A\n",
      "\n",
      "preprocessing day:   0%|                                                                        | 0/31 [00:00<?, ?it/s]\u001b[A\u001b[A"
     ]
    },
    {
     "name": "stdout",
     "output_type": "stream",
     "text": [
      "다음 날짜 선택 후 크롤링 준비\n",
      "https://www.google.com/search?q=Nasdaq&sca_esv=556524961&biw=1536&bih=715&source=lnt&tbs=cdr%3A1%2Ccd_min%3A1%2F1%2F2022%2Ccd_max%3A1%2F1%2F2022&tbm=nws\n",
      "Next button not found. Exiting loop.\n",
      "크롤링 준비\n"
     ]
    },
    {
     "name": "stderr",
     "output_type": "stream",
     "text": [
      "\n",
      "\n",
      "preprocessing day:   3%|██                                                              | 1/31 [00:13<06:47, 13.60s/it]\u001b[A\u001b[A"
     ]
    },
    {
     "name": "stdout",
     "output_type": "stream",
     "text": [
      "다음날짜로 선택시작\n",
      "다음 날짜 선택 후 크롤링 준비\n",
      "https://www.google.com/search?q=Nasdaq&sca_esv=556524961&tbas=0&biw=800&bih=600&source=lnt&tbs=cdr%3A1%2Ccd_min%3A1%2F2%2F2022%2Ccd_max%3A1%2F2%2F2022&tbm=nws\n",
      "Next button not found. Exiting loop.\n",
      "크롤링 준비\n"
     ]
    },
    {
     "name": "stderr",
     "output_type": "stream",
     "text": [
      "\n",
      "\n",
      "preprocessing day:   6%|████▏                                                           | 2/31 [00:26<06:29, 13.43s/it]\u001b[A\u001b[A"
     ]
    },
    {
     "name": "stdout",
     "output_type": "stream",
     "text": [
      "다음날짜로 선택시작\n",
      "다음 날짜 선택 후 크롤링 준비\n",
      "https://www.google.com/search?q=Nasdaq&sca_esv=556524961&tbas=0&biw=800&bih=600&source=lnt&tbs=cdr%3A1%2Ccd_min%3A1%2F3%2F2022%2Ccd_max%3A1%2F3%2F2022&tbm=nws\n",
      "https://www.google.com/search?q=Nasdaq&sca_esv=556524961&tbas=0&tbs=cdr:1,cd_min:1/3/2022,cd_max:1/3/2022&tbm=nws&ei=WLLZZPHxDM_hwAPDkJ_wBg&start=10&sa=N&ved=2ahUKEwjx_cnMrNuAAxXPMHAKHUPIB24Q8NMDegQIAxAM&biw=800&bih=600&dpr=1\n",
      "https://www.google.com/search?q=Nasdaq&sca_esv=556524961&tbas=0&tbs=cdr:1,cd_min:1/3/2022,cd_max:1/3/2022&tbm=nws&ei=WLLZZO7CMPHm1e8PssisoAw&start=20&sa=N&ved=2ahUKEwjuzu3MrNuAAxVxc_UHHTIkC8Q4ChDw0wN6BAgDEA0&biw=800&bih=600&dpr=1\n",
      "크롤링 준비\n"
     ]
    },
    {
     "name": "stderr",
     "output_type": "stream",
     "text": [
      "\n",
      "\n",
      "preprocessing day:  10%|██████▏                                                         | 3/31 [00:36<05:29, 11.75s/it]\u001b[A\u001b[A"
     ]
    },
    {
     "name": "stdout",
     "output_type": "stream",
     "text": [
      "다음날짜로 선택시작\n",
      "다음 날짜 선택 후 크롤링 준비\n",
      "https://www.google.com/search?q=Nasdaq&sca_esv=556524961&tbas=0&biw=800&bih=600&source=lnt&tbs=cdr%3A1%2Ccd_min%3A1%2F4%2F2022%2Ccd_max%3A1%2F4%2F2022&tbm=nws\n",
      "https://www.google.com/search?q=Nasdaq&sca_esv=556524961&tbas=0&tbs=cdr:1,cd_min:1/4/2022,cd_max:1/4/2022&tbm=nws&ei=YrLZZOnKAYL_-QbFuaa4Dw&start=10&sa=N&ved=2ahUKEwjpg6HRrNuAAxWCf94KHcWcCfcQ8NMDegQIAxAM&biw=800&bih=600&dpr=1\n",
      "https://www.google.com/search?q=Nasdaq&sca_esv=556524961&tbas=0&tbs=cdr:1,cd_min:1/4/2022,cd_max:1/4/2022&tbm=nws&ei=YrLZZOHoOpTf-Qb5mryQDg&start=20&sa=N&ved=2ahUKEwjhodrRrNuAAxWUb94KHXkND-I4ChDw0wN6BAgDEA0&biw=800&bih=600&dpr=1\n",
      "크롤링 준비\n"
     ]
    },
    {
     "name": "stderr",
     "output_type": "stream",
     "text": [
      "\n",
      "\n",
      "preprocessing day:  13%|████████▎                                                       | 4/31 [00:45<04:49, 10.73s/it]\u001b[A\u001b[A"
     ]
    },
    {
     "name": "stdout",
     "output_type": "stream",
     "text": [
      "다음날짜로 선택시작\n",
      "다음 날짜 선택 후 크롤링 준비\n",
      "https://www.google.com/search?q=Nasdaq&sca_esv=556524961&tbas=0&biw=800&bih=600&source=lnt&tbs=cdr%3A1%2Ccd_min%3A1%2F5%2F2022%2Ccd_max%3A1%2F5%2F2022&tbm=nws\n",
      "https://www.google.com/search?q=Nasdaq&sca_esv=556524961&tbas=0&tbs=cdr:1,cd_min:1/5/2022,cd_max:1/5/2022&tbm=nws&ei=a7LZZJ6fCKbs1e8Pu_OKuAY&start=10&sa=N&ved=2ahUKEwjegM3VrNuAAxUmdvUHHbu5AmcQ8NMDegQIBBAM&biw=800&bih=600&dpr=1\n",
      "https://www.google.com/search?q=Nasdaq&sca_esv=556524961&tbas=0&tbs=cdr:1,cd_min:1/5/2022,cd_max:1/5/2022&tbm=nws&ei=a7LZZL-zMIbb1e8Pg6qoyA0&start=20&sa=N&ved=2ahUKEwj_lPXVrNuAAxWGbfUHHQMVCtk4ChDw0wN6BAgDEA0&biw=800&bih=600&dpr=1\n",
      "크롤링 준비\n"
     ]
    },
    {
     "name": "stderr",
     "output_type": "stream",
     "text": [
      "\n",
      "\n",
      "preprocessing day:  16%|██████████▎                                                     | 5/31 [00:55<04:25, 10.21s/it]\u001b[A\u001b[A"
     ]
    },
    {
     "name": "stdout",
     "output_type": "stream",
     "text": [
      "다음날짜로 선택시작\n",
      "다음 날짜 선택 후 크롤링 준비\n",
      "https://www.google.com/search?q=Nasdaq&sca_esv=556524961&tbas=0&biw=800&bih=600&source=lnt&tbs=cdr%3A1%2Ccd_min%3A1%2F6%2F2022%2Ccd_max%3A1%2F6%2F2022&tbm=nws\n",
      "https://www.google.com/search?q=Nasdaq&sca_esv=556524961&tbas=0&tbs=cdr:1,cd_min:1/6/2022,cd_max:1/6/2022&tbm=nws&ei=dLLZZMP2Gp_o1e8PxpSF8Ak&start=10&sa=N&ved=2ahUKEwjDgIXarNuAAxUfdPUHHUZKAZ4Q8NMDegQIAhAM&biw=800&bih=600&dpr=1\n",
      "https://www.google.com/search?q=Nasdaq&sca_esv=556524961&tbas=0&tbs=cdr:1,cd_min:1/6/2022,cd_max:1/6/2022&tbm=nws&ei=dbLZZKqkDJP6wAOt0YCwCg&start=20&sa=N&ved=2ahUKEwjqsrParNuAAxUTPXAKHa0oAKY4ChDw0wN6BAgCEA0&biw=800&bih=600&dpr=1\n",
      "크롤링 준비\n"
     ]
    },
    {
     "name": "stderr",
     "output_type": "stream",
     "text": [
      "\n",
      "\n",
      "preprocessing day:  19%|████████████▍                                                   | 6/31 [01:04<04:06,  9.85s/it]\u001b[A\u001b[A"
     ]
    },
    {
     "name": "stdout",
     "output_type": "stream",
     "text": [
      "다음날짜로 선택시작\n",
      "다음 날짜 선택 후 크롤링 준비\n",
      "https://www.google.com/search?q=Nasdaq&sca_esv=556524961&tbas=0&biw=800&bih=600&source=lnt&tbs=cdr%3A1%2Ccd_min%3A1%2F7%2F2022%2Ccd_max%3A1%2F7%2F2022&tbm=nws\n",
      "https://www.google.com/search?q=Nasdaq&sca_esv=556524961&tbas=0&tbs=cdr:1,cd_min:1/7/2022,cd_max:1/7/2022&tbm=nws&ei=fbLZZNeqHvPe1e8PyuOocA&start=10&sa=N&ved=2ahUKEwiX3a3erNuAAxVzb_UHHcoxCg4Q8NMDegQIAhAG&biw=800&bih=600&dpr=1\n",
      "Next button not found. Exiting loop.\n",
      "크롤링 준비\n"
     ]
    },
    {
     "name": "stderr",
     "output_type": "stream",
     "text": [
      "\n",
      "\n",
      "preprocessing day:  23%|██████████████▍                                                 | 7/31 [01:18<04:28, 11.20s/it]\u001b[A\u001b[A"
     ]
    },
    {
     "name": "stdout",
     "output_type": "stream",
     "text": [
      "다음날짜로 선택시작\n",
      "다음 날짜 선택 후 크롤링 준비\n",
      "https://www.google.com/search?q=Nasdaq&sca_esv=556524961&tbas=0&biw=800&bih=600&source=lnt&tbs=cdr%3A1%2Ccd_min%3A1%2F8%2F2022%2Ccd_max%3A1%2F8%2F2022&tbm=nws\n",
      "Next button not found. Exiting loop.\n",
      "크롤링 준비\n"
     ]
    },
    {
     "name": "stderr",
     "output_type": "stream",
     "text": [
      "\n",
      "\n",
      "preprocessing day:  26%|████████████████▌                                               | 8/31 [01:30<04:27, 11.65s/it]\u001b[A\u001b[A"
     ]
    },
    {
     "name": "stdout",
     "output_type": "stream",
     "text": [
      "다음날짜로 선택시작\n",
      "다음 날짜 선택 후 크롤링 준비\n",
      "https://www.google.com/search?q=Nasdaq&sca_esv=556524961&tbas=0&biw=800&bih=600&source=lnt&tbs=cdr%3A1%2Ccd_min%3A1%2F9%2F2022%2Ccd_max%3A1%2F9%2F2022&tbm=nws\n",
      "https://www.google.com/search?q=Nasdaq&sca_esv=556524961&tbas=0&tbs=cdr:1,cd_min:1/9/2022,cd_max:1/9/2022&tbm=nws&ei=mLLZZIuUC9D5hwOim7GQCQ&start=10&sa=N&ved=2ahUKEwiLwIrrrNuAAxXQ_GEKHaJNDJIQ8NMDegQIAxAG&biw=800&bih=600&dpr=1\n",
      "Next button not found. Exiting loop.\n",
      "크롤링 준비\n"
     ]
    },
    {
     "name": "stderr",
     "output_type": "stream",
     "text": [
      "\n",
      "\n",
      "preprocessing day:  29%|██████████████████▌                                             | 9/31 [01:44<04:30, 12.29s/it]\u001b[A\u001b[A"
     ]
    },
    {
     "name": "stdout",
     "output_type": "stream",
     "text": [
      "다음날짜로 선택시작\n",
      "다음 날짜 선택 후 크롤링 준비\n",
      "https://www.google.com/search?q=Nasdaq&sca_esv=556524961&tbas=0&biw=800&bih=600&source=lnt&tbs=cdr%3A1%2Ccd_min%3A1%2F10%2F2022%2Ccd_max%3A1%2F10%2F2022&tbm=nws\n",
      "https://www.google.com/search?q=Nasdaq&sca_esv=556524961&tbas=0&tbs=cdr:1,cd_min:1/10/2022,cd_max:1/10/2022&tbm=nws&ei=pbLZZNa6MYSohwPI74GYAg&start=10&sa=N&ved=2ahUKEwiWocrxrNuAAxUE1GEKHch3ACMQ8NMDegQIAxAI&biw=800&bih=600&dpr=1\n",
      "https://www.google.com/search?q=Nasdaq&sca_esv=556524961&tbas=0&tbs=cdr:1,cd_min:1/10/2022,cd_max:1/10/2022&tbm=nws&ei=prLZZM-fFZPM1e8Pvom80Ag&start=20&sa=N&ved=2ahUKEwjPiuvxrNuAAxUTZvUHHb4ED4o4ChDw0wN6BAgEEAk&biw=800&bih=600&dpr=1\n",
      "크롤링 준비\n"
     ]
    },
    {
     "name": "stderr",
     "output_type": "stream",
     "text": [
      "\n",
      "\n",
      "preprocessing day:  32%|████████████████████▎                                          | 10/31 [01:53<03:55, 11.20s/it]\u001b[A\u001b[A"
     ]
    },
    {
     "name": "stdout",
     "output_type": "stream",
     "text": [
      "다음날짜로 선택시작\n",
      "다음 날짜 선택 후 크롤링 준비\n",
      "https://www.google.com/search?q=Nasdaq&sca_esv=556524961&tbas=0&biw=800&bih=600&source=lnt&tbs=cdr%3A1%2Ccd_min%3A1%2F11%2F2022%2Ccd_max%3A1%2F11%2F2022&tbm=nws\n",
      "https://www.google.com/search?q=Nasdaq&sca_esv=556524961&tbas=0&tbs=cdr:1,cd_min:1/11/2022,cd_max:1/11/2022&tbm=nws&ei=rrLZZP6dKMjU1e8P5-6ayAY&start=10&sa=N&ved=2ahUKEwj-rOb1rNuAAxVIavUHHWe3BmkQ8NMDegQIAxAK&biw=800&bih=600&dpr=1\n",
      "https://www.google.com/search?q=Nasdaq&sca_esv=556524961&tbas=0&tbs=cdr:1,cd_min:1/11/2022,cd_max:1/11/2022&tbm=nws&ei=r7LZZKGnI_DX1e8Pvvm8oAI&start=20&sa=N&ved=2ahUKEwjhup72rNuAAxXwa_UHHb48DyQ4ChDw0wN6BAgDEAs&biw=800&bih=600&dpr=1\n",
      "크롤링 준비\n"
     ]
    },
    {
     "name": "stderr",
     "output_type": "stream",
     "text": [
      "\n",
      "\n",
      "preprocessing day:  35%|██████████████████████▎                                        | 11/31 [02:02<03:31, 10.58s/it]\u001b[A\u001b[A"
     ]
    },
    {
     "name": "stdout",
     "output_type": "stream",
     "text": [
      "다음날짜로 선택시작\n",
      "다음 날짜 선택 후 크롤링 준비\n",
      "https://www.google.com/search?q=Nasdaq&sca_esv=556524961&tbas=0&biw=800&bih=600&source=lnt&tbs=cdr%3A1%2Ccd_min%3A1%2F12%2F2022%2Ccd_max%3A1%2F12%2F2022&tbm=nws\n",
      "https://www.google.com/search?q=Nasdaq&sca_esv=556524961&tbas=0&tbs=cdr:1,cd_min:1/12/2022,cd_max:1/12/2022&tbm=nws&ei=t7LZZObvLovX1e8P7LOBsAs&start=10&sa=N&ved=2ahUKEwimp5L6rNuAAxWLa_UHHexZALYQ8NMDegQIAxAI&biw=800&bih=600&dpr=1\n",
      "https://www.google.com/search?q=Nasdaq&sca_esv=556524961&tbas=0&tbs=cdr:1,cd_min:1/12/2022,cd_max:1/12/2022&tbm=nws&ei=uLLZZMXLJvPi1e8Pnp-C0A8&start=20&sa=N&ved=2ahUKEwjFh8f6rNuAAxVzcfUHHZ6PAPo4ChDw0wN6BAgEEAk&biw=800&bih=600&dpr=1\n",
      "크롤링 준비\n"
     ]
    },
    {
     "name": "stderr",
     "output_type": "stream",
     "text": [
      "\n",
      "\n",
      "preprocessing day:  39%|████████████████████████▍                                      | 12/31 [02:11<03:12, 10.15s/it]\u001b[A\u001b[A"
     ]
    },
    {
     "name": "stdout",
     "output_type": "stream",
     "text": [
      "다음날짜로 선택시작\n",
      "다음 날짜 선택 후 크롤링 준비\n",
      "https://www.google.com/search?q=Nasdaq&sca_esv=556524961&tbas=0&biw=800&bih=600&source=lnt&tbs=cdr%3A1%2Ccd_min%3A1%2F13%2F2022%2Ccd_max%3A1%2F13%2F2022&tbm=nws\n",
      "https://www.google.com/search?q=Nasdaq&sca_esv=556524961&tbas=0&tbs=cdr:1,cd_min:1/13/2022,cd_max:1/13/2022&tbm=nws&ei=wLLZZIeRPNLWhwPlx5KwBQ&start=10&sa=N&ved=2ahUKEwiH8cT-rNuAAxVS62EKHeWjBFYQ8NMDegQIAxAK&biw=800&bih=600&dpr=1\n",
      "https://www.google.com/search?q=Nasdaq&sca_esv=556524961&tbas=0&tbs=cdr:1,cd_min:1/13/2022,cd_max:1/13/2022&tbm=nws&ei=wbLZZKGOOoX8hwP684bwBw&start=20&sa=N&ved=2ahUKEwjh8v_-rNuAAxUF_mEKHfq5AX44ChDw0wN6BAgDEAs&biw=800&bih=600&dpr=1\n",
      "크롤링 준비\n"
     ]
    },
    {
     "name": "stderr",
     "output_type": "stream",
     "text": [
      "\n",
      "\n",
      "preprocessing day:  42%|██████████████████████████▍                                    | 13/31 [02:21<02:58,  9.91s/it]\u001b[A\u001b[A"
     ]
    },
    {
     "name": "stdout",
     "output_type": "stream",
     "text": [
      "다음날짜로 선택시작\n",
      "다음 날짜 선택 후 크롤링 준비\n",
      "https://www.google.com/search?q=Nasdaq&sca_esv=556524961&tbas=0&biw=800&bih=600&source=lnt&tbs=cdr%3A1%2Ccd_min%3A1%2F14%2F2022%2Ccd_max%3A1%2F14%2F2022&tbm=nws\n",
      "https://www.google.com/search?q=Nasdaq&sca_esv=556524961&tbas=0&tbs=cdr:1,cd_min:1/14/2022,cd_max:1/14/2022&tbm=nws&ei=yrLZZIXLDpS9wAOcw52AAg&start=10&sa=N&ved=2ahUKEwiF2PmCrduAAxWUHnAKHZxhByAQ8NMDegQIAxAI&biw=800&bih=600&dpr=1\n",
      "https://www.google.com/search?q=Nasdaq&sca_esv=556524961&tbas=0&tbs=cdr:1,cd_min:1/14/2022,cd_max:1/14/2022&tbm=nws&ei=y7LZZP2RB8Pt-Aaxhq6gCQ&start=20&sa=N&ved=2ahUKEwi9o6-DrduAAxXDNt4KHTGDC5Q4ChDw0wN6BAgDEAk&biw=800&bih=600&dpr=1\n",
      "크롤링 준비\n"
     ]
    },
    {
     "name": "stderr",
     "output_type": "stream",
     "text": [
      "\n",
      "\n",
      "preprocessing day:  45%|████████████████████████████▍                                  | 14/31 [02:30<02:47,  9.83s/it]\u001b[A\u001b[A"
     ]
    },
    {
     "name": "stdout",
     "output_type": "stream",
     "text": [
      "다음날짜로 선택시작\n",
      "다음 날짜 선택 후 크롤링 준비\n",
      "https://www.google.com/search?q=Nasdaq&sca_esv=556524961&tbas=0&biw=800&bih=600&source=lnt&tbs=cdr%3A1%2Ccd_min%3A1%2F15%2F2022%2Ccd_max%3A1%2F15%2F2022&tbm=nws\n",
      "Next button not found. Exiting loop.\n",
      "크롤링 준비\n"
     ]
    },
    {
     "name": "stderr",
     "output_type": "stream",
     "text": [
      "\n",
      "\n",
      "preprocessing day:  48%|██████████████████████████████▍                                | 15/31 [02:43<02:52, 10.76s/it]\u001b[A\u001b[A"
     ]
    },
    {
     "name": "stdout",
     "output_type": "stream",
     "text": [
      "다음날짜로 선택시작\n",
      "다음 날짜 선택 후 크롤링 준비\n",
      "https://www.google.com/search?q=Nasdaq&sca_esv=556524961&tbas=0&biw=800&bih=600&source=lnt&tbs=cdr%3A1%2Ccd_min%3A1%2F16%2F2022%2Ccd_max%3A1%2F16%2F2022&tbm=nws\n",
      "Next button not found. Exiting loop.\n",
      "크롤링 준비\n"
     ]
    },
    {
     "name": "stderr",
     "output_type": "stream",
     "text": [
      "\n",
      "\n",
      "preprocessing day:  52%|████████████████████████████████▌                              | 16/31 [02:56<02:51, 11.45s/it]\u001b[A\u001b[A"
     ]
    },
    {
     "name": "stdout",
     "output_type": "stream",
     "text": [
      "다음날짜로 선택시작\n",
      "다음 날짜 선택 후 크롤링 준비\n",
      "https://www.google.com/search?q=Nasdaq&sca_esv=556524961&tbas=0&biw=800&bih=600&source=lnt&tbs=cdr%3A1%2Ccd_min%3A1%2F17%2F2022%2Ccd_max%3A1%2F17%2F2022&tbm=nws\n",
      "https://www.google.com/search?q=Nasdaq&sca_esv=556524961&tbas=0&tbs=cdr:1,cd_min:1/17/2022,cd_max:1/17/2022&tbm=nws&ei=7bLZZPijPLHb1e8P3q-40A4&start=10&sa=N&ved=2ahUKEwi4zv-TrduAAxWxbfUHHd4XDuoQ8NMDegQIAxAG&biw=800&bih=600&dpr=1\n",
      "Next button not found. Exiting loop.\n",
      "크롤링 준비\n"
     ]
    },
    {
     "name": "stderr",
     "output_type": "stream",
     "text": [
      "\n",
      "\n",
      "preprocessing day:  55%|██████████████████████████████████▌                            | 17/31 [03:10<02:49, 12.09s/it]\u001b[A\u001b[A"
     ]
    },
    {
     "name": "stdout",
     "output_type": "stream",
     "text": [
      "다음날짜로 선택시작\n",
      "다음 날짜 선택 후 크롤링 준비\n",
      "https://www.google.com/search?q=Nasdaq&sca_esv=556524961&tbas=0&biw=800&bih=600&source=lnt&tbs=cdr%3A1%2Ccd_min%3A1%2F18%2F2022%2Ccd_max%3A1%2F18%2F2022&tbm=nws\n",
      "https://www.google.com/search?q=Nasdaq&sca_esv=556524961&tbas=0&tbs=cdr:1,cd_min:1/18/2022,cd_max:1/18/2022&tbm=nws&ei=-7LZZKC4IJeH-QbE8LzgAQ&start=10&sa=N&ved=2ahUKEwjgobqarduAAxWXQ94KHUQ4DxwQ8NMDegQIBBAG&biw=800&bih=600&dpr=1\n",
      "Next button not found. Exiting loop.\n",
      "크롤링 준비\n"
     ]
    },
    {
     "name": "stderr",
     "output_type": "stream",
     "text": [
      "\n",
      "\n",
      "preprocessing day:  58%|████████████████████████████████████▌                          | 18/31 [03:24<02:45, 12.72s/it]\u001b[A\u001b[A"
     ]
    },
    {
     "name": "stdout",
     "output_type": "stream",
     "text": [
      "다음날짜로 선택시작\n",
      "다음 날짜 선택 후 크롤링 준비\n",
      "https://www.google.com/search?q=Nasdaq&sca_esv=556524961&tbas=0&biw=800&bih=600&source=lnt&tbs=cdr%3A1%2Ccd_min%3A1%2F19%2F2022%2Ccd_max%3A1%2F19%2F2022&tbm=nws\n",
      "https://www.google.com/search?q=Nasdaq&sca_esv=556524961&tbas=0&tbs=cdr:1,cd_min:1/19/2022,cd_max:1/19/2022&tbm=nws&ei=CbPZZPv-KJP6wAOVlL8I&start=10&sa=N&ved=2ahUKEwi7p5mhrduAAxUTPXAKHRXKDwEQ8NMDegQIAxAM&biw=800&bih=600&dpr=1\n",
      "https://www.google.com/search?q=Nasdaq&sca_esv=556524961&tbas=0&tbs=cdr:1,cd_min:1/19/2022,cd_max:1/19/2022&tbm=nws&ei=CrPZZMHtGdCF-Qbs4oOICA&start=20&sa=N&ved=2ahUKEwjBmsehrduAAxXQQt4KHWzxAIE4ChDw0wN6BAgEEA0&biw=800&bih=600&dpr=1\n",
      "크롤링 준비\n"
     ]
    },
    {
     "name": "stderr",
     "output_type": "stream",
     "text": [
      "\n",
      "\n",
      "preprocessing day:  61%|██████████████████████████████████████▌                        | 19/31 [03:33<02:20, 11.72s/it]\u001b[A\u001b[A"
     ]
    },
    {
     "name": "stdout",
     "output_type": "stream",
     "text": [
      "다음날짜로 선택시작\n",
      "다음 날짜 선택 후 크롤링 준비\n",
      "https://www.google.com/search?q=Nasdaq&sca_esv=556524961&tbas=0&biw=800&bih=600&source=lnt&tbs=cdr%3A1%2Ccd_min%3A1%2F20%2F2022%2Ccd_max%3A1%2F20%2F2022&tbm=nws\n",
      "https://www.google.com/search?q=Nasdaq&sca_esv=556524961&tbas=0&tbs=cdr:1,cd_min:1/20/2022,cd_max:1/20/2022&tbm=nws&ei=E7PZZLHYA6rp1e8PpPWSqAo&start=10&sa=N&ved=2ahUKEwjxrdalrduAAxWqdPUHHaS6BKUQ8NMDegQIAhAK&biw=800&bih=600&dpr=1\n",
      "https://www.google.com/search?q=Nasdaq&sca_esv=556524961&tbas=0&tbs=cdr:1,cd_min:1/20/2022,cd_max:1/20/2022&tbm=nws&ei=E7PZZIHfN5WxoASYoJmgDQ&start=20&sa=N&ved=2ahUKEwjBtIqmrduAAxWVGIgKHRhQBtQ4ChDw0wN6BAgDEAs&biw=800&bih=600&dpr=1\n",
      "크롤링 준비\n"
     ]
    },
    {
     "name": "stderr",
     "output_type": "stream",
     "text": [
      "\n",
      "\n",
      "preprocessing day:  65%|████████████████████████████████████████▋                      | 20/31 [03:43<02:01, 11.07s/it]\u001b[A\u001b[A"
     ]
    },
    {
     "name": "stdout",
     "output_type": "stream",
     "text": [
      "다음날짜로 선택시작\n",
      "다음 날짜 선택 후 크롤링 준비\n",
      "https://www.google.com/search?q=Nasdaq&sca_esv=556524961&tbas=0&biw=800&bih=600&source=lnt&tbs=cdr%3A1%2Ccd_min%3A1%2F21%2F2022%2Ccd_max%3A1%2F21%2F2022&tbm=nws\n",
      "https://www.google.com/search?q=Nasdaq&sca_esv=556524961&tbas=0&tbs=cdr:1,cd_min:1/21/2022,cd_max:1/21/2022&tbm=nws&ei=HLPZZPbLKqfL1e8Ppfu2iAU&start=10&sa=N&ved=2ahUKEwj2yaKqrduAAxWnZfUHHaW9DVEQ8NMDegQIAxAK&biw=800&bih=600&dpr=1\n",
      "https://www.google.com/search?q=Nasdaq&sca_esv=556524961&tbas=0&tbs=cdr:1,cd_min:1/21/2022,cd_max:1/21/2022&tbm=nws&ei=HbPZZKaAI8vCoAT8orWwBQ&start=20&sa=N&ved=2ahUKEwjmgtiqrduAAxVLIYgKHXxRDVY4ChDw0wN6BAgCEAs&biw=800&bih=600&dpr=1\n",
      "크롤링 준비\n"
     ]
    },
    {
     "name": "stderr",
     "output_type": "stream",
     "text": [
      "\n",
      "\n",
      "preprocessing day:  68%|██████████████████████████████████████████▋                    | 21/31 [03:53<01:46, 10.69s/it]\u001b[A\u001b[A"
     ]
    },
    {
     "name": "stdout",
     "output_type": "stream",
     "text": [
      "다음날짜로 선택시작\n",
      "다음 날짜 선택 후 크롤링 준비\n",
      "https://www.google.com/search?q=Nasdaq&sca_esv=556524961&tbas=0&biw=800&bih=600&source=lnt&tbs=cdr%3A1%2Ccd_min%3A1%2F22%2F2022%2Ccd_max%3A1%2F22%2F2022&tbm=nws\n",
      "https://www.google.com/search?q=Nasdaq&sca_esv=556524961&tbas=0&tbs=cdr:1,cd_min:1/22/2022,cd_max:1/22/2022&tbm=nws&ei=JrPZZMCyHZqOoAT086qIAQ&start=10&sa=N&ved=2ahUKEwjA3feurduAAxUaB4gKHfS5ChEQ8NMDegQIBBAG&biw=800&bih=600&dpr=1\n",
      "Next button not found. Exiting loop.\n",
      "크롤링 준비\n"
     ]
    },
    {
     "name": "stderr",
     "output_type": "stream",
     "text": [
      "\n",
      "\n",
      "preprocessing day:  71%|████████████████████████████████████████████▋                  | 22/31 [04:07<01:45, 11.75s/it]\u001b[A\u001b[A"
     ]
    },
    {
     "name": "stdout",
     "output_type": "stream",
     "text": [
      "다음날짜로 선택시작\n",
      "다음 날짜 선택 후 크롤링 준비\n",
      "https://www.google.com/search?q=Nasdaq&sca_esv=556524961&tbas=0&biw=800&bih=600&source=lnt&tbs=cdr%3A1%2Ccd_min%3A1%2F23%2F2022%2Ccd_max%3A1%2F23%2F2022&tbm=nws\n",
      "Next button not found. Exiting loop.\n",
      "크롤링 준비\n"
     ]
    },
    {
     "name": "stderr",
     "output_type": "stream",
     "text": [
      "\n",
      "\n",
      "preprocessing day:  74%|██████████████████████████████████████████████▋                | 23/31 [04:20<01:38, 12.25s/it]\u001b[A\u001b[A"
     ]
    },
    {
     "name": "stdout",
     "output_type": "stream",
     "text": [
      "다음날짜로 선택시작\n",
      "다음 날짜 선택 후 크롤링 준비\n",
      "https://www.google.com/search?q=Nasdaq&sca_esv=556524961&tbas=0&biw=800&bih=600&source=lnt&tbs=cdr%3A1%2Ccd_min%3A1%2F24%2F2022%2Ccd_max%3A1%2F24%2F2022&tbm=nws\n",
      "https://www.google.com/search?q=Nasdaq&sca_esv=556524961&tbas=0&tbs=cdr:1,cd_min:1/24/2022,cd_max:1/24/2022&tbm=nws&ei=QrPZZKW-BLCm1e8PiJihqAc&start=10&sa=N&ved=2ahUKEwil54u8rduAAxUwU_UHHQhMCHUQ8NMDegQIAhAI&biw=800&bih=600&dpr=1\n",
      "https://www.google.com/search?q=Nasdaq&sca_esv=556524961&tbas=0&tbs=cdr:1,cd_min:1/24/2022,cd_max:1/24/2022&tbm=nws&ei=QrPZZIjuL9uhhwOT45iAAw&start=20&sa=N&ved=2ahUKEwiIl7e8rduAAxXb0GEKHZMxBjA4ChDw0wN6BAgBEAk&biw=800&bih=600&dpr=1\n",
      "크롤링 준비\n"
     ]
    },
    {
     "name": "stderr",
     "output_type": "stream",
     "text": [
      "\n",
      "\n",
      "preprocessing day:  77%|████████████████████████████████████████████████▊              | 24/31 [04:30<01:19, 11.40s/it]\u001b[A\u001b[A"
     ]
    },
    {
     "name": "stdout",
     "output_type": "stream",
     "text": [
      "다음날짜로 선택시작\n",
      "다음 날짜 선택 후 크롤링 준비\n",
      "https://www.google.com/search?q=Nasdaq&sca_esv=556524961&tbas=0&biw=800&bih=600&source=lnt&tbs=cdr%3A1%2Ccd_min%3A1%2F25%2F2022%2Ccd_max%3A1%2F25%2F2022&tbm=nws\n",
      "https://www.google.com/search?q=Nasdaq&sca_esv=556524961&tbas=0&tbs=cdr:1,cd_min:1/25/2022,cd_max:1/25/2022&tbm=nws&ei=S7PZZLfsI9vR1e8Phrym6AU&start=10&sa=N&ved=2ahUKEwj3vdDArduAAxXbaPUHHQaeCV0Q8NMDegQIAxAK&biw=800&bih=600&dpr=1\n",
      "https://www.google.com/search?q=Nasdaq&sca_esv=556524961&tbas=0&tbs=cdr:1,cd_min:1/25/2022,cd_max:1/25/2022&tbm=nws&ei=TLPZZP7xFczW1e8PpZGmsAM&start=20&sa=N&ved=2ahUKEwj-x__ArduAAxVMa_UHHaWICTY4ChDw0wN6BAgDEAs&biw=800&bih=600&dpr=1\n",
      "크롤링 준비\n"
     ]
    },
    {
     "name": "stderr",
     "output_type": "stream",
     "text": [
      "\n",
      "\n",
      "preprocessing day:  81%|██████████████████████████████████████████████████▊            | 25/31 [04:39<01:05, 10.89s/it]\u001b[A\u001b[A"
     ]
    },
    {
     "name": "stdout",
     "output_type": "stream",
     "text": [
      "다음날짜로 선택시작\n",
      "다음 날짜 선택 후 크롤링 준비\n",
      "https://www.google.com/search?q=Nasdaq&sca_esv=556524961&tbas=0&biw=800&bih=600&source=lnt&tbs=cdr%3A1%2Ccd_min%3A1%2F26%2F2022%2Ccd_max%3A1%2F26%2F2022&tbm=nws\n",
      "https://www.google.com/search?q=Nasdaq&sca_esv=556524961&tbas=0&tbs=cdr:1,cd_min:1/26/2022,cd_max:1/26/2022&tbm=nws&ei=VbPZZOWpC9DWhwOOqofgDw&start=10&sa=N&ved=2ahUKEwilqJrFrduAAxVQ62EKHQ7VAfwQ8NMDegQIAxAK&biw=800&bih=600&dpr=1\n",
      "https://www.google.com/search?q=Nasdaq&sca_esv=556524961&tbas=0&tbs=cdr:1,cd_min:1/26/2022,cd_max:1/26/2022&tbm=nws&ei=VbPZZKfVOMfr1e8PsZWv6A4&start=20&sa=N&ved=2ahUKEwjn08fFrduAAxXHdfUHHbHKC-04ChDw0wN6BAgEEAs&biw=800&bih=600&dpr=1\n",
      "크롤링 준비\n"
     ]
    },
    {
     "name": "stderr",
     "output_type": "stream",
     "text": [
      "\n",
      "\n",
      "preprocessing day:  84%|████████████████████████████████████████████████████▊          | 26/31 [04:49<00:52, 10.48s/it]\u001b[A\u001b[A"
     ]
    },
    {
     "name": "stdout",
     "output_type": "stream",
     "text": [
      "다음날짜로 선택시작\n",
      "다음 날짜 선택 후 크롤링 준비\n",
      "https://www.google.com/search?q=Nasdaq&sca_esv=556524961&tbas=0&biw=800&bih=600&source=lnt&tbs=cdr%3A1%2Ccd_min%3A1%2F27%2F2022%2Ccd_max%3A1%2F27%2F2022&tbm=nws\n",
      "https://www.google.com/search?q=Nasdaq&sca_esv=556524961&tbas=0&tbs=cdr:1,cd_min:1/27/2022,cd_max:1/27/2022&tbm=nws&ei=XrPZZIn5J9GMoATQ467YCQ&start=10&sa=N&ved=2ahUKEwiJoNzJrduAAxVRBogKHdCxC5sQ8NMDegQIAhAI&biw=800&bih=600&dpr=1\n",
      "https://www.google.com/search?q=Nasdaq&sca_esv=556524961&tbas=0&tbs=cdr:1,cd_min:1/27/2022,cd_max:1/27/2022&tbm=nws&ei=X7PZZJKKGInb1e8P9MSE2AY&start=20&sa=N&ved=2ahUKEwjStYnKrduAAxWJbfUHHXQiAWs4ChDw0wN6BAgCEAk&biw=800&bih=600&dpr=1\n",
      "크롤링 준비\n"
     ]
    },
    {
     "name": "stderr",
     "output_type": "stream",
     "text": [
      "\n",
      "\n",
      "preprocessing day:  87%|██████████████████████████████████████████████████████▊        | 27/31 [04:58<00:40, 10.10s/it]\u001b[A\u001b[A"
     ]
    },
    {
     "name": "stdout",
     "output_type": "stream",
     "text": [
      "다음날짜로 선택시작\n",
      "다음 날짜 선택 후 크롤링 준비\n",
      "https://www.google.com/search?q=Nasdaq&sca_esv=556524961&tbas=0&biw=800&bih=600&source=lnt&tbs=cdr%3A1%2Ccd_min%3A1%2F28%2F2022%2Ccd_max%3A1%2F28%2F2022&tbm=nws\n",
      "https://www.google.com/search?q=Nasdaq&sca_esv=556524961&tbas=0&tbs=cdr:1,cd_min:1/28/2022,cd_max:1/28/2022&tbm=nws&ei=aLPZZIEg1vqHA8b2ivgE&start=10&sa=N&ved=2ahUKEwiB9JbOrduAAxVW_WEKHUa7Ak8Q8NMDegQIAxAI&biw=800&bih=600&dpr=1\n",
      "https://www.google.com/search?q=Nasdaq&sca_esv=556524961&tbas=0&tbs=cdr:1,cd_min:1/28/2022,cd_max:1/28/2022&tbm=nws&ei=aLPZZMP_L8Xr1e8PuYmJ2Ac&start=20&sa=N&ved=2ahUKEwjD08bOrduAAxXFdfUHHblEAns4ChDw0wN6BAgEEAk&biw=800&bih=600&dpr=1\n",
      "크롤링 준비\n"
     ]
    },
    {
     "name": "stderr",
     "output_type": "stream",
     "text": [
      "\n",
      "\n",
      "preprocessing day:  90%|████████████████████████████████████████████████████████▉      | 28/31 [05:08<00:29,  9.92s/it]\u001b[A\u001b[A"
     ]
    },
    {
     "name": "stdout",
     "output_type": "stream",
     "text": [
      "다음날짜로 선택시작\n",
      "다음 날짜 선택 후 크롤링 준비\n",
      "https://www.google.com/search?q=Nasdaq&sca_esv=556524961&tbas=0&biw=800&bih=600&source=lnt&tbs=cdr%3A1%2Ccd_min%3A1%2F29%2F2022%2Ccd_max%3A1%2F29%2F2022&tbm=nws\n",
      "Next button not found. Exiting loop.\n",
      "크롤링 준비\n"
     ]
    },
    {
     "name": "stderr",
     "output_type": "stream",
     "text": [
      "\n",
      "\n",
      "preprocessing day:  94%|██████████████████████████████████████████████████████████▉    | 29/31 [05:21<00:21, 10.86s/it]\u001b[A\u001b[A"
     ]
    },
    {
     "name": "stdout",
     "output_type": "stream",
     "text": [
      "다음날짜로 선택시작\n",
      "다음 날짜 선택 후 크롤링 준비\n",
      "https://www.google.com/search?q=Nasdaq&sca_esv=556524961&tbas=0&biw=800&bih=600&source=lnt&tbs=cdr%3A1%2Ccd_min%3A1%2F30%2F2022%2Ccd_max%3A1%2F30%2F2022&tbm=nws\n",
      "Next button not found. Exiting loop.\n",
      "크롤링 준비\n"
     ]
    },
    {
     "name": "stderr",
     "output_type": "stream",
     "text": [
      "\n",
      "\n",
      "preprocessing day:  97%|████████████████████████████████████████████████████████████▉  | 30/31 [05:34<00:11, 11.45s/it]\u001b[A\u001b[A"
     ]
    },
    {
     "name": "stdout",
     "output_type": "stream",
     "text": [
      "다음날짜로 선택시작\n",
      "다음 날짜 선택 후 크롤링 준비\n",
      "https://www.google.com/search?q=Nasdaq&sca_esv=556524961&tbas=0&biw=800&bih=600&source=lnt&tbs=cdr%3A1%2Ccd_min%3A1%2F31%2F2022%2Ccd_max%3A1%2F31%2F2022&tbm=nws\n",
      "https://www.google.com/search?q=Nasdaq&sca_esv=556524961&tbas=0&tbs=cdr:1,cd_min:1/31/2022,cd_max:1/31/2022&tbm=nws&ei=i7PZZMr_Fc-lhwOEvqTIDQ&start=10&sa=N&ved=2ahUKEwiK8YTfrduAAxXP0mEKHQQfCdkQ8NMDegQIAxAK&biw=800&bih=600&dpr=1\n",
      "https://www.google.com/search?q=Nasdaq&sca_esv=556524961&tbas=0&tbs=cdr:1,cd_min:1/31/2022,cd_max:1/31/2022&tbm=nws&ei=jLPZZMujCpX_hwPd-JyQBw&start=20&sa=N&ved=2ahUKEwjLmbbfrduAAxWV_2EKHV08B3I4ChDw0wN6BAgCEAs&biw=800&bih=600&dpr=1\n",
      "크롤링 준비\n"
     ]
    },
    {
     "name": "stderr",
     "output_type": "stream",
     "text": [
      "\n",
      "\n",
      "preprocessing day: 100%|███████████████████████████████████████████████████████████████| 31/31 [05:43<00:00, 11.08s/it]\u001b[A\u001b[A\n",
      "\n",
      "preprocessing month:   8%|████▉                                                      | 1/12 [05:43<1:02:57, 343.37s/it]\u001b[A"
     ]
    },
    {
     "name": "stdout",
     "output_type": "stream",
     "text": [
      "다음날짜로 선택시작\n"
     ]
    },
    {
     "name": "stderr",
     "output_type": "stream",
     "text": [
      "\n",
      "\n",
      "preprocessing day:   0%|                                                                        | 0/31 [00:00<?, ?it/s]\u001b[A\u001b[A"
     ]
    },
    {
     "name": "stdout",
     "output_type": "stream",
     "text": [
      "다음 날짜 선택 후 크롤링 준비\n",
      "https://www.google.com/search?q=Nasdaq&sca_esv=556524961&tbas=0&biw=800&bih=600&source=lnt&tbs=cdr%3A1%2Ccd_min%3A2%2F1%2F2022%2Ccd_max%3A2%2F1%2F2022&tbm=nws\n",
      "https://www.google.com/search?q=Nasdaq&sca_esv=556524961&tbas=0&tbs=cdr:1,cd_min:2/1/2022,cd_max:2/1/2022&tbm=nws&ei=lLPZZIaBJoj8-Qa877D4BA&start=10&sa=N&ved=2ahUKEwiGm7rjrduAAxUIft4KHbw3DE8Q8NMDegQIBBAI&biw=800&bih=600&dpr=1\n",
      "https://www.google.com/search?q=Nasdaq&sca_esv=556524961&tbas=0&tbs=cdr:1,cd_min:2/1/2022,cd_max:2/1/2022&tbm=nws&ei=lbPZZOC1F9e-hwPH6pXwAQ&start=20&sa=N&ved=2ahUKEwig1OjjrduAAxVX32EKHUd1BR44ChDw0wN6BAgCEAk&biw=800&bih=600&dpr=1\n",
      "크롤링 준비\n"
     ]
    },
    {
     "name": "stderr",
     "output_type": "stream",
     "text": [
      "\n",
      "\n",
      "preprocessing day:   3%|██                                                              | 1/31 [00:10<05:05, 10.17s/it]\u001b[A\u001b[A"
     ]
    },
    {
     "name": "stdout",
     "output_type": "stream",
     "text": [
      "다음날짜로 선택시작\n",
      "다음 날짜 선택 후 크롤링 준비\n",
      "https://www.google.com/search?q=Nasdaq&sca_esv=556524961&tbas=0&biw=800&bih=600&source=lnt&tbs=cdr%3A1%2Ccd_min%3A2%2F2%2F2022%2Ccd_max%3A2%2F2%2F2022&tbm=nws\n",
      "https://www.google.com/search?q=Nasdaq&sca_esv=556524961&tbas=0&tbs=cdr:1,cd_min:2/2/2022,cd_max:2/2/2022&tbm=nws&ei=nrPZZO22NIS9wAOMlIWYBw&start=10&sa=N&ved=2ahUKEwjt_arorduAAxWEHnAKHQxKAXMQ8NMDegQIAxAI&biw=800&bih=600&dpr=1\n",
      "https://www.google.com/search?q=Nasdaq&sca_esv=556524961&tbas=0&tbs=cdr:1,cd_min:2/2/2022,cd_max:2/2/2022&tbm=nws&ei=n7PZZPPqLNOA1e8P0LOB-A8&start=20&sa=N&ved=2ahUKEwiztuDorduAAxVTQPUHHdBZAP84ChDw0wN6BAgDEAk&biw=800&bih=600&dpr=1\n",
      "크롤링 준비\n"
     ]
    },
    {
     "name": "stderr",
     "output_type": "stream",
     "text": [
      "\n",
      "\n",
      "preprocessing day:   6%|████▏                                                           | 2/31 [00:19<04:42,  9.72s/it]\u001b[A\u001b[A"
     ]
    },
    {
     "name": "stdout",
     "output_type": "stream",
     "text": [
      "다음날짜로 선택시작\n",
      "다음 날짜 선택 후 크롤링 준비\n",
      "https://www.google.com/search?q=Nasdaq&sca_esv=556524961&tbas=0&biw=800&bih=600&source=lnt&tbs=cdr%3A1%2Ccd_min%3A2%2F3%2F2022%2Ccd_max%3A2%2F3%2F2022&tbm=nws\n",
      "https://www.google.com/search?q=Nasdaq&sca_esv=556524961&tbas=0&tbs=cdr:1,cd_min:2/3/2022,cd_max:2/3/2022&tbm=nws&ei=qLPZZOWzDY2goASj95zIAQ&start=10&sa=N&ved=2ahUKEwjlp-bsrduAAxUNEIgKHaM7BxkQ8NMDegQIAhAK&biw=800&bih=600&dpr=1\n",
      "https://www.google.com/search?q=Nasdaq&sca_esv=556524961&tbas=0&tbs=cdr:1,cd_min:2/3/2022,cd_max:2/3/2022&tbm=nws&ei=qbPZZMziDY6LoATf9YNw&start=20&sa=N&ved=2ahUKEwiM26PtrduAAxWOBYgKHd_6AA44ChDw0wN6BAgCEAs&biw=800&bih=600&dpr=1\n",
      "크롤링 준비\n"
     ]
    },
    {
     "name": "stderr",
     "output_type": "stream",
     "text": [
      "\n",
      "\n",
      "preprocessing day:  10%|██████▏                                                         | 3/31 [00:29<04:32,  9.74s/it]\u001b[A\u001b[A"
     ]
    },
    {
     "name": "stdout",
     "output_type": "stream",
     "text": [
      "다음날짜로 선택시작\n",
      "다음 날짜 선택 후 크롤링 준비\n",
      "https://www.google.com/search?q=Nasdaq&sca_esv=556524961&tbas=0&biw=800&bih=600&source=lnt&tbs=cdr%3A1%2Ccd_min%3A2%2F4%2F2022%2Ccd_max%3A2%2F4%2F2022&tbm=nws\n",
      "https://www.google.com/search?q=Nasdaq&sca_esv=556524961&tbas=0&tbs=cdr:1,cd_min:2/4/2022,cd_max:2/4/2022&tbm=nws&ei=srPZZIh-jf_5BoShofgL&start=10&sa=N&ved=2ahUKEwiIn7zxrduAAxWNf94KHYRQCL8Q8NMDegQIAhAI&biw=800&bih=600&dpr=1\n",
      "https://www.google.com/search?q=Nasdaq&sca_esv=556524961&tbas=0&tbs=cdr:1,cd_min:2/4/2022,cd_max:2/4/2022&tbm=nws&ei=srPZZJf1MLjo1e8PrLGh2AI&start=20&sa=N&ved=2ahUKEwiXluzxrduAAxU4dPUHHaxYCCs4ChDw0wN6BAgDEAk&biw=800&bih=600&dpr=1\n",
      "크롤링 준비\n"
     ]
    },
    {
     "name": "stderr",
     "output_type": "stream",
     "text": [
      "\n",
      "\n",
      "preprocessing day:  13%|████████▎                                                       | 4/31 [00:39<04:25,  9.84s/it]\u001b[A\u001b[A"
     ]
    },
    {
     "name": "stdout",
     "output_type": "stream",
     "text": [
      "다음날짜로 선택시작\n",
      "다음 날짜 선택 후 크롤링 준비\n",
      "https://www.google.com/search?q=Nasdaq&sca_esv=556524961&tbas=0&biw=800&bih=600&source=lnt&tbs=cdr%3A1%2Ccd_min%3A2%2F5%2F2022%2Ccd_max%3A2%2F5%2F2022&tbm=nws\n",
      "Next button not found. Exiting loop.\n",
      "크롤링 준비\n"
     ]
    },
    {
     "name": "stderr",
     "output_type": "stream",
     "text": [
      "\n",
      "\n",
      "preprocessing day:  16%|██████████▎                                                     | 5/31 [00:52<04:45, 10.99s/it]\u001b[A\u001b[A"
     ]
    },
    {
     "name": "stdout",
     "output_type": "stream",
     "text": [
      "다음날짜로 선택시작\n",
      "다음 날짜 선택 후 크롤링 준비\n",
      "https://www.google.com/search?q=Nasdaq&sca_esv=556524961&tbas=0&biw=800&bih=600&source=lnt&tbs=cdr%3A1%2Ccd_min%3A2%2F6%2F2022%2Ccd_max%3A2%2F6%2F2022&tbm=nws\n",
      "https://www.google.com/search?q=Nasdaq&sca_esv=556524961&tbas=0&tbs=cdr:1,cd_min:2/6/2022,cd_max:2/6/2022&tbm=nws&ei=ybPZZMgekNP5Bt3AmtgN&start=10&sa=N&ved=2ahUKEwiIp7f8rduAAxWQad4KHV2gBtsQ8NMDegQIARAG&biw=800&bih=600&dpr=1\n",
      "Next button not found. Exiting loop.\n",
      "크롤링 준비\n"
     ]
    },
    {
     "name": "stderr",
     "output_type": "stream",
     "text": [
      "\n",
      "\n",
      "preprocessing day:  19%|████████████▍                                                   | 6/31 [01:06<04:58, 11.96s/it]\u001b[A\u001b[A"
     ]
    },
    {
     "name": "stdout",
     "output_type": "stream",
     "text": [
      "다음날짜로 선택시작\n",
      "다음 날짜 선택 후 크롤링 준비\n",
      "https://www.google.com/search?q=Nasdaq&sca_esv=556524961&tbas=0&biw=800&bih=600&source=lnt&tbs=cdr%3A1%2Ccd_min%3A2%2F7%2F2022%2Ccd_max%3A2%2F7%2F2022&tbm=nws\n",
      "https://www.google.com/search?q=Nasdaq&sca_esv=556524961&tbas=0&tbs=cdr:1,cd_min:2/7/2022,cd_max:2/7/2022&tbm=nws&ei=1rPZZIPuNtrN2roPoIumsAs&start=10&sa=N&ved=2ahUKEwiDsYeDrtuAAxXaplYBHaCFCbYQ8NMDegQIARAI&biw=800&bih=600&dpr=1\n",
      "https://www.google.com/search?q=Nasdaq&sca_esv=556524961&tbas=0&tbs=cdr:1,cd_min:2/7/2022,cd_max:2/7/2022&tbm=nws&ei=2LPZZLj0GbSW2roPyb22mAM&start=20&sa=N&ved=2ahUKEwi4wOSDrtuAAxU0i1YBHcmeDTM4ChDw0wN6BAgDEAk&biw=800&bih=600&dpr=1\n",
      "크롤링 준비\n"
     ]
    },
    {
     "name": "stderr",
     "output_type": "stream",
     "text": [
      "\n",
      "\n",
      "preprocessing day:  23%|██████████████▍                                                 | 7/31 [01:16<04:33, 11.41s/it]\u001b[A\u001b[A"
     ]
    },
    {
     "name": "stdout",
     "output_type": "stream",
     "text": [
      "다음날짜로 선택시작\n",
      "다음 날짜 선택 후 크롤링 준비\n",
      "https://www.google.com/search?q=Nasdaq&sca_esv=556524961&tbas=0&biw=800&bih=600&source=lnt&tbs=cdr%3A1%2Ccd_min%3A2%2F8%2F2022%2Ccd_max%3A2%2F8%2F2022&tbm=nws\n",
      "https://www.google.com/search?q=Nasdaq&sca_esv=556524961&tbas=0&tbs=cdr:1,cd_min:2/8/2022,cd_max:2/8/2022&tbm=nws&ei=4bPZZPT6CvaV2roP_KaBwAY&start=10&sa=N&ved=2ahUKEwi07_qHrtuAAxX2ilYBHXxTAGgQ8NMDegQIBBAK&biw=800&bih=600&dpr=1\n",
      "https://www.google.com/search?q=Nasdaq&sca_esv=556524961&tbas=0&tbs=cdr:1,cd_min:2/8/2022,cd_max:2/8/2022&tbm=nws&ei=4bPZZJ_jO8bh2roPnYOm8Ag&start=20&sa=N&ved=2ahUKEwjf16uIrtuAAxXGsFYBHZ2BCY44ChDw0wN6BAgDEAs&biw=800&bih=600&dpr=1\n",
      "크롤링 준비\n"
     ]
    },
    {
     "name": "stderr",
     "output_type": "stream",
     "text": [
      "\n",
      "\n",
      "preprocessing day:  26%|████████████████▌                                               | 8/31 [01:25<04:08, 10.80s/it]\u001b[A\u001b[A"
     ]
    },
    {
     "name": "stdout",
     "output_type": "stream",
     "text": [
      "다음날짜로 선택시작\n",
      "다음 날짜 선택 후 크롤링 준비\n",
      "https://www.google.com/search?q=Nasdaq&sca_esv=556524961&tbas=0&biw=800&bih=600&source=lnt&tbs=cdr%3A1%2Ccd_min%3A2%2F9%2F2022%2Ccd_max%3A2%2F9%2F2022&tbm=nws\n",
      "https://www.google.com/search?q=Nasdaq&sca_esv=556524961&tbas=0&tbs=cdr:1,cd_min:2/9/2022,cd_max:2/9/2022&tbm=nws&ei=6rPZZN-uJrOp2roPxNaVMA&start=10&sa=N&ved=2ahUKEwjfy7uMrtuAAxWzlFYBHURrBQYQ8NMDegQIAhAI&biw=800&bih=600&dpr=1\n",
      "https://www.google.com/search?q=Nasdaq&sca_esv=556524961&tbas=0&tbs=cdr:1,cd_min:2/9/2022,cd_max:2/9/2022&tbm=nws&ei=67PZZIzjJMzm2roP5-WToA0&start=20&sa=N&ved=2ahUKEwjMhPeMrtuAAxVMs1YBHefyBNQ4ChDw0wN6BAgCEAk&biw=800&bih=600&dpr=1\n",
      "크롤링 준비\n"
     ]
    },
    {
     "name": "stderr",
     "output_type": "stream",
     "text": [
      "\n",
      "\n",
      "preprocessing day:  29%|██████████████████▌                                             | 9/31 [01:36<03:52, 10.57s/it]\u001b[A\u001b[A"
     ]
    },
    {
     "name": "stdout",
     "output_type": "stream",
     "text": [
      "다음날짜로 선택시작\n",
      "다음 날짜 선택 후 크롤링 준비\n",
      "https://www.google.com/search?q=Nasdaq&sca_esv=556524961&tbas=0&biw=800&bih=600&source=lnt&tbs=cdr%3A1%2Ccd_min%3A2%2F10%2F2022%2Ccd_max%3A2%2F10%2F2022&tbm=nws\n",
      "https://www.google.com/search?q=Nasdaq&sca_esv=556524961&tbas=0&tbs=cdr:1,cd_min:2/10/2022,cd_max:2/10/2022&tbm=nws&ei=9LPZZJiLJqWv2roPzeqU2As&start=10&sa=N&ved=2ahUKEwiY1Z2RrtuAAxWll1YBHU01BbsQ8NMDegQIBBAG&biw=800&bih=600&dpr=1\n",
      "Next button not found. Exiting loop.\n",
      "크롤링 준비\n"
     ]
    },
    {
     "name": "stderr",
     "output_type": "stream",
     "text": [
      "\n",
      "\n",
      "preprocessing day:  32%|████████████████████▎                                          | 10/31 [01:49<04:03, 11.58s/it]\u001b[A\u001b[A"
     ]
    },
    {
     "name": "stdout",
     "output_type": "stream",
     "text": [
      "다음날짜로 선택시작\n",
      "다음 날짜 선택 후 크롤링 준비\n",
      "https://www.google.com/search?q=Nasdaq&sca_esv=556524961&tbas=0&biw=800&bih=600&source=lnt&tbs=cdr%3A1%2Ccd_min%3A2%2F11%2F2022%2Ccd_max%3A2%2F11%2F2022&tbm=nws\n",
      "https://www.google.com/search?q=Nasdaq&sca_esv=556524961&tbas=0&tbs=cdr:1,cd_min:2/11/2022,cd_max:2/11/2022&tbm=nws&ei=ArTZZLbkI-3m1e8Pu4mfuAE&start=10&sa=N&ved=2ahUKEwi27fGXrtuAAxVtc_UHHbvEBxcQ8NMDegQIAhAK&biw=800&bih=600&dpr=1\n",
      "https://www.google.com/search?q=Nasdaq&sca_esv=556524961&tbas=0&tbs=cdr:1,cd_min:2/11/2022,cd_max:2/11/2022&tbm=nws&ei=A7TZZLz_D8fr1e8PsZWv6A4&start=20&sa=N&ved=2ahUKEwj8jJuYrtuAAxXHdfUHHbHKC-04ChDw0wN6BAgDEAs&biw=800&bih=600&dpr=1\n",
      "크롤링 준비\n"
     ]
    },
    {
     "name": "stderr",
     "output_type": "stream",
     "text": [
      "\n",
      "\n",
      "preprocessing day:  35%|██████████████████████▎                                        | 11/31 [01:59<03:37, 10.90s/it]\u001b[A\u001b[A"
     ]
    },
    {
     "name": "stdout",
     "output_type": "stream",
     "text": [
      "다음날짜로 선택시작\n",
      "다음 날짜 선택 후 크롤링 준비\n",
      "https://www.google.com/search?q=Nasdaq&sca_esv=556524961&tbas=0&biw=800&bih=600&source=lnt&tbs=cdr%3A1%2Ccd_min%3A2%2F12%2F2022%2Ccd_max%3A2%2F12%2F2022&tbm=nws\n",
      "Next button not found. Exiting loop.\n",
      "크롤링 준비\n"
     ]
    },
    {
     "name": "stderr",
     "output_type": "stream",
     "text": [
      "\n",
      "\n",
      "preprocessing day:  39%|████████████████████████▍                                      | 12/31 [02:11<03:37, 11.42s/it]\u001b[A\u001b[A"
     ]
    },
    {
     "name": "stdout",
     "output_type": "stream",
     "text": [
      "다음날짜로 선택시작\n",
      "다음 날짜 선택 후 크롤링 준비\n",
      "https://www.google.com/search?q=Nasdaq&sca_esv=556524961&tbas=0&biw=800&bih=600&source=lnt&tbs=cdr%3A1%2Ccd_min%3A2%2F13%2F2022%2Ccd_max%3A2%2F13%2F2022&tbm=nws\n",
      "Next button not found. Exiting loop.\n",
      "크롤링 준비\n"
     ]
    },
    {
     "name": "stderr",
     "output_type": "stream",
     "text": [
      "\n",
      "\n",
      "preprocessing day:  42%|██████████████████████████▍                                    | 13/31 [02:24<03:32, 11.80s/it]\u001b[A\u001b[A"
     ]
    },
    {
     "name": "stdout",
     "output_type": "stream",
     "text": [
      "다음날짜로 선택시작\n",
      "다음 날짜 선택 후 크롤링 준비\n",
      "https://www.google.com/search?q=Nasdaq&sca_esv=556524961&tbas=0&biw=800&bih=600&source=lnt&tbs=cdr%3A1%2Ccd_min%3A2%2F14%2F2022%2Ccd_max%3A2%2F14%2F2022&tbm=nws\n",
      "https://www.google.com/search?q=Nasdaq&sca_esv=556524961&tbas=0&tbs=cdr:1,cd_min:2/14/2022,cd_max:2/14/2022&tbm=nws&ei=JbTZZJXeCqXw-QaXrpTQBg&start=10&sa=N&ved=2ahUKEwjVhLGortuAAxUleN4KHRcXBWoQ8NMDegQIAxAK&biw=800&bih=600&dpr=1\n",
      "https://www.google.com/search?q=Nasdaq&sca_esv=556524961&tbas=0&tbs=cdr:1,cd_min:2/14/2022,cd_max:2/14/2022&tbm=nws&ei=JbTZZM6hM9aphwPa6oiICA&start=20&sa=N&ved=2ahUKEwiOyNmortuAAxXW1GEKHVo1AoE4ChDw0wN6BAgCEAs&biw=800&bih=600&dpr=1\n",
      "크롤링 준비\n"
     ]
    },
    {
     "name": "stderr",
     "output_type": "stream",
     "text": [
      "\n",
      "\n",
      "preprocessing day:  45%|████████████████████████████▍                                  | 14/31 [02:34<03:09, 11.13s/it]\u001b[A\u001b[A"
     ]
    },
    {
     "name": "stdout",
     "output_type": "stream",
     "text": [
      "다음날짜로 선택시작\n",
      "다음 날짜 선택 후 크롤링 준비\n",
      "https://www.google.com/search?q=Nasdaq&sca_esv=556524961&tbas=0&biw=800&bih=600&source=lnt&tbs=cdr%3A1%2Ccd_min%3A2%2F15%2F2022%2Ccd_max%3A2%2F15%2F2022&tbm=nws\n",
      "https://www.google.com/search?q=Nasdaq&sca_esv=556524961&tbas=0&tbs=cdr:1,cd_min:2/15/2022,cd_max:2/15/2022&tbm=nws&ei=LrTZZPWSMKPY1e8PjemU-A4&start=10&sa=N&ved=2ahUKEwj14fusrtuAAxUjbPUHHY00Be8Q8NMDegQIAxAK&biw=800&bih=600&dpr=1\n",
      "https://www.google.com/search?q=Nasdaq&sca_esv=556524961&tbas=0&tbs=cdr:1,cd_min:2/15/2022,cd_max:2/15/2022&tbm=nws&ei=L7TZZL2bKIbb1e8PiaCewAo&start=20&sa=N&ved=2ahUKEwj97rCtrtuAAxWGbfUHHQmQB6g4ChDw0wN6BAgDEAs&biw=800&bih=600&dpr=1\n",
      "크롤링 준비\n"
     ]
    },
    {
     "name": "stderr",
     "output_type": "stream",
     "text": [
      "\n",
      "\n",
      "preprocessing day:  48%|██████████████████████████████▍                                | 15/31 [02:43<02:49, 10.60s/it]\u001b[A\u001b[A"
     ]
    },
    {
     "name": "stdout",
     "output_type": "stream",
     "text": [
      "다음날짜로 선택시작\n",
      "다음 날짜 선택 후 크롤링 준비\n",
      "https://www.google.com/search?q=Nasdaq&sca_esv=556524961&tbas=0&biw=800&bih=600&source=lnt&tbs=cdr%3A1%2Ccd_min%3A2%2F16%2F2022%2Ccd_max%3A2%2F16%2F2022&tbm=nws\n",
      "https://www.google.com/search?q=Nasdaq&sca_esv=556524961&tbas=0&tbs=cdr:1,cd_min:2/16/2022,cd_max:2/16/2022&tbm=nws&ei=OLTZZJGWCZGRoAT966HQAg&start=10&sa=N&ved=2ahUKEwiRkrexrtuAAxWRCIgKHf11CCoQ8NMDegQIAhAK&biw=800&bih=600&dpr=1\n",
      "https://www.google.com/search?q=Nasdaq&sca_esv=556524961&tbas=0&tbs=cdr:1,cd_min:2/16/2022,cd_max:2/16/2022&tbm=nws&ei=ObTZZNGVA8Gr-Qb_iKGAAw&start=20&sa=N&ved=2ahUKEwiRlu6xrtuAAxXBVd4KHX9ECDA4ChDw0wN6BAgDEAs&biw=800&bih=600&dpr=1\n",
      "크롤링 준비\n"
     ]
    },
    {
     "name": "stderr",
     "output_type": "stream",
     "text": [
      "\n",
      "\n",
      "preprocessing day:  52%|████████████████████████████████▌                              | 16/31 [02:52<02:34, 10.27s/it]\u001b[A\u001b[A"
     ]
    },
    {
     "name": "stdout",
     "output_type": "stream",
     "text": [
      "다음날짜로 선택시작\n",
      "다음 날짜 선택 후 크롤링 준비\n",
      "https://www.google.com/search?q=Nasdaq&sca_esv=556524961&tbas=0&biw=800&bih=600&source=lnt&tbs=cdr%3A1%2Ccd_min%3A2%2F17%2F2022%2Ccd_max%3A2%2F17%2F2022&tbm=nws\n",
      "https://www.google.com/search?q=Nasdaq&sca_esv=556524961&tbas=0&tbs=cdr:1,cd_min:2/17/2022,cd_max:2/17/2022&tbm=nws&ei=QbTZZIH2K6bg1e8P4_iauA8&start=10&sa=N&ved=2ahUKEwjBmv-1rtuAAxUmcPUHHWO8BvcQ8NMDegQIBBAI&biw=800&bih=600&dpr=1\n",
      "https://www.google.com/search?q=Nasdaq&sca_esv=556524961&tbas=0&tbs=cdr:1,cd_min:2/17/2022,cd_max:2/17/2022&tbm=nws&ei=QrTZZPfFI4Db1e8PvoWRiAE&start=20&sa=N&ved=2ahUKEwj37rO2rtuAAxWAbfUHHb5CBBE4ChDw0wN6BAgEEAk&biw=800&bih=600&dpr=1\n",
      "크롤링 준비\n"
     ]
    },
    {
     "name": "stderr",
     "output_type": "stream",
     "text": [
      "\n",
      "\n",
      "preprocessing day:  55%|██████████████████████████████████▌                            | 17/31 [03:02<02:19,  9.97s/it]\u001b[A\u001b[A"
     ]
    },
    {
     "name": "stdout",
     "output_type": "stream",
     "text": [
      "다음날짜로 선택시작\n",
      "다음 날짜 선택 후 크롤링 준비\n",
      "https://www.google.com/search?q=Nasdaq&sca_esv=556524961&tbas=0&biw=800&bih=600&source=lnt&tbs=cdr%3A1%2Ccd_min%3A2%2F18%2F2022%2Ccd_max%3A2%2F18%2F2022&tbm=nws\n",
      "https://www.google.com/search?q=Nasdaq&sca_esv=556524961&tbas=0&tbs=cdr:1,cd_min:2/18/2022,cd_max:2/18/2022&tbm=nws&ei=SrTZZPz0NY2r-Qaun6iwCg&start=10&sa=N&ved=2ahUKEwj8wa66rtuAAxWNVd4KHa4PCqYQ8NMDegQIAhAG&biw=800&bih=600&dpr=1\n",
      "Next button not found. Exiting loop.\n",
      "크롤링 준비\n"
     ]
    },
    {
     "name": "stderr",
     "output_type": "stream",
     "text": [
      "\n",
      "\n",
      "preprocessing day:  58%|████████████████████████████████████▌                          | 18/31 [03:16<02:24, 11.11s/it]\u001b[A\u001b[A"
     ]
    },
    {
     "name": "stdout",
     "output_type": "stream",
     "text": [
      "다음날짜로 선택시작\n",
      "다음 날짜 선택 후 크롤링 준비\n",
      "https://www.google.com/search?q=Nasdaq&sca_esv=556524961&tbas=0&biw=800&bih=600&source=lnt&tbs=cdr%3A1%2Ccd_min%3A2%2F19%2F2022%2Ccd_max%3A2%2F19%2F2022&tbm=nws\n",
      "Next button not found. Exiting loop.\n",
      "크롤링 준비\n"
     ]
    },
    {
     "name": "stderr",
     "output_type": "stream",
     "text": [
      "\n",
      "\n",
      "preprocessing day:  61%|██████████████████████████████████████▌                        | 19/31 [03:29<02:20, 11.72s/it]\u001b[A\u001b[A"
     ]
    },
    {
     "name": "stdout",
     "output_type": "stream",
     "text": [
      "다음날짜로 선택시작\n",
      "다음 날짜 선택 후 크롤링 준비\n",
      "https://www.google.com/search?q=Nasdaq&sca_esv=556524961&tbas=0&biw=800&bih=600&source=lnt&tbs=cdr%3A1%2Ccd_min%3A2%2F20%2F2022%2Ccd_max%3A2%2F20%2F2022&tbm=nws\n",
      "Next button not found. Exiting loop.\n",
      "크롤링 준비\n"
     ]
    },
    {
     "name": "stderr",
     "output_type": "stream",
     "text": [
      "\n",
      "\n",
      "preprocessing day:  65%|████████████████████████████████████████▋                      | 20/31 [03:42<02:13, 12.13s/it]\u001b[A\u001b[A"
     ]
    },
    {
     "name": "stdout",
     "output_type": "stream",
     "text": [
      "다음날짜로 선택시작\n",
      "다음 날짜 선택 후 크롤링 준비\n",
      "https://www.google.com/search?q=Nasdaq&sca_esv=556524961&tbas=0&biw=800&bih=600&source=lnt&tbs=cdr%3A1%2Ccd_min%3A2%2F21%2F2022%2Ccd_max%3A2%2F21%2F2022&tbm=nws\n",
      "https://www.google.com/search?q=Nasdaq&sca_esv=556524961&tbas=0&tbs=cdr:1,cd_min:2/21/2022,cd_max:2/21/2022&tbm=nws&ei=c7TZZL5Njt_5BouQk6AI&start=10&sa=N&ved=2ahUKEwj-0r_NrtuAAxWOb94KHQvIBIQQ8NMDegQIBBAG&biw=800&bih=600&dpr=1\n",
      "Next button not found. Exiting loop.\n",
      "크롤링 준비\n"
     ]
    },
    {
     "name": "stderr",
     "output_type": "stream",
     "text": [
      "\n",
      "\n",
      "preprocessing day:  68%|██████████████████████████████████████████▋                    | 21/31 [03:55<02:05, 12.56s/it]\u001b[A\u001b[A"
     ]
    },
    {
     "name": "stdout",
     "output_type": "stream",
     "text": [
      "다음날짜로 선택시작\n",
      "다음 날짜 선택 후 크롤링 준비\n",
      "https://www.google.com/search?q=Nasdaq&sca_esv=556524961&tbas=0&biw=800&bih=600&source=lnt&tbs=cdr%3A1%2Ccd_min%3A2%2F22%2F2022%2Ccd_max%3A2%2F22%2F2022&tbm=nws\n",
      "https://www.google.com/search?q=Nasdaq&sca_esv=556524961&tbas=0&tbs=cdr:1,cd_min:2/22/2022,cd_max:2/22/2022&tbm=nws&ei=gLTZZOulHoTe-Qa2xLeIAQ&start=10&sa=N&ved=2ahUKEwjr5fbTrtuAAxUEb94KHTbiDREQ8NMDegQIAhAK&biw=800&bih=600&dpr=1\n",
      "https://www.google.com/search?q=Nasdaq&sca_esv=556524961&tbas=0&tbs=cdr:1,cd_min:2/22/2022,cd_max:2/22/2022&tbm=nws&ei=gbTZZOvUIIun1e8P1NGDqAs&start=20&sa=N&ved=2ahUKEwirmbbUrtuAAxWLU_UHHdToALU4ChDw0wN6BAgDEAs&biw=800&bih=600&dpr=1\n",
      "크롤링 준비\n"
     ]
    },
    {
     "name": "stderr",
     "output_type": "stream",
     "text": [
      "\n",
      "\n",
      "preprocessing day:  71%|████████████████████████████████████████████▋                  | 22/31 [04:05<01:45, 11.68s/it]\u001b[A\u001b[A"
     ]
    },
    {
     "name": "stdout",
     "output_type": "stream",
     "text": [
      "다음날짜로 선택시작\n",
      "다음 날짜 선택 후 크롤링 준비\n",
      "https://www.google.com/search?q=Nasdaq&sca_esv=556524961&tbas=0&biw=800&bih=600&source=lnt&tbs=cdr%3A1%2Ccd_min%3A2%2F23%2F2022%2Ccd_max%3A2%2F23%2F2022&tbm=nws\n",
      "https://www.google.com/search?q=Nasdaq&sca_esv=556524961&tbas=0&tbs=cdr:1,cd_min:2/23/2022,cd_max:2/23/2022&tbm=nws&ei=irTZZIznCYuH-QbZw5_QAQ&start=10&sa=N&ved=2ahUKEwiM1MTYrtuAAxWLQ94KHdnhBxoQ8NMDegQIAhAI&biw=800&bih=600&dpr=1\n",
      "https://www.google.com/search?q=Nasdaq&sca_esv=556524961&tbas=0&tbs=cdr:1,cd_min:2/23/2022,cd_max:2/23/2022&tbm=nws&ei=i7TZZOmLEc_hwAPDkJ_wBg&start=20&sa=N&ved=2ahUKEwip_YjZrtuAAxXPMHAKHUPIB244ChDw0wN6BAgDEAk&biw=800&bih=600&dpr=1\n",
      "크롤링 준비\n"
     ]
    },
    {
     "name": "stderr",
     "output_type": "stream",
     "text": [
      "\n",
      "\n",
      "preprocessing day:  74%|██████████████████████████████████████████████▋                | 23/31 [04:14<01:28, 11.04s/it]\u001b[A\u001b[A"
     ]
    },
    {
     "name": "stdout",
     "output_type": "stream",
     "text": [
      "다음날짜로 선택시작\n",
      "다음 날짜 선택 후 크롤링 준비\n",
      "https://www.google.com/search?q=Nasdaq&sca_esv=556524961&tbas=0&biw=800&bih=600&source=lnt&tbs=cdr%3A1%2Ccd_min%3A2%2F24%2F2022%2Ccd_max%3A2%2F24%2F2022&tbm=nws\n",
      "https://www.google.com/search?q=Nasdaq&sca_esv=556524961&tbas=0&tbs=cdr:1,cd_min:2/24/2022,cd_max:2/24/2022&tbm=nws&ei=k7TZZMr6Ir_m1e8P2aO0qAs&start=10&sa=N&ved=2ahUKEwiKkIPdrtuAAxU_c_UHHdkRDbUQ8NMDegQIAxAI&biw=800&bih=600&dpr=1\n",
      "https://www.google.com/search?q=Nasdaq&sca_esv=556524961&tbas=0&tbs=cdr:1,cd_min:2/24/2022,cd_max:2/24/2022&tbm=nws&ei=lLTZZNDyHaaB1e8PgICXuA8&start=20&sa=N&ved=2ahUKEwjQjLvdrtuAAxWmQPUHHQDABfc4ChDw0wN6BAgDEAk&biw=800&bih=600&dpr=1\n",
      "크롤링 준비\n"
     ]
    },
    {
     "name": "stderr",
     "output_type": "stream",
     "text": [
      "\n",
      "\n",
      "preprocessing day:  77%|████████████████████████████████████████████████▊              | 24/31 [04:25<01:15, 10.82s/it]\u001b[A\u001b[A"
     ]
    },
    {
     "name": "stdout",
     "output_type": "stream",
     "text": [
      "다음날짜로 선택시작\n",
      "다음 날짜 선택 후 크롤링 준비\n",
      "https://www.google.com/search?q=Nasdaq&sca_esv=556524961&tbas=0&biw=800&bih=600&source=lnt&tbs=cdr%3A1%2Ccd_min%3A2%2F25%2F2022%2Ccd_max%3A2%2F25%2F2022&tbm=nws\n",
      "https://www.google.com/search?q=Nasdaq&sca_esv=556524961&tbas=0&tbs=cdr:1,cd_min:2/25/2022,cd_max:2/25/2022&tbm=nws&ei=nbTZZJffNqbl1e8Pk8ew6AU&start=10&sa=N&ved=2ahUKEwjXofnhrtuAAxWmcvUHHZMjDF0Q8NMDegQIAxAK&biw=800&bih=600&dpr=1\n",
      "https://www.google.com/search?q=Nasdaq&sca_esv=556524961&tbas=0&tbs=cdr:1,cd_min:2/25/2022,cd_max:2/25/2022&tbm=nws&ei=nrTZZPytMMGhhwOMrJrwCA&start=20&sa=N&ved=2ahUKEwj89K_irtuAAxXB0GEKHQyWBo44ChDw0wN6BAgDEAs&biw=800&bih=600&dpr=1\n",
      "크롤링 준비\n"
     ]
    },
    {
     "name": "stderr",
     "output_type": "stream",
     "text": [
      "\n",
      "\n",
      "preprocessing day:  81%|██████████████████████████████████████████████████▊            | 25/31 [04:35<01:02, 10.49s/it]\u001b[A\u001b[A"
     ]
    },
    {
     "name": "stdout",
     "output_type": "stream",
     "text": [
      "다음날짜로 선택시작\n",
      "다음 날짜 선택 후 크롤링 준비\n",
      "https://www.google.com/search?q=Nasdaq&sca_esv=556524961&tbas=0&biw=800&bih=600&source=lnt&tbs=cdr%3A1%2Ccd_min%3A2%2F26%2F2022%2Ccd_max%3A2%2F26%2F2022&tbm=nws\n",
      "Next button not found. Exiting loop.\n",
      "크롤링 준비\n"
     ]
    },
    {
     "name": "stderr",
     "output_type": "stream",
     "text": [
      "\n",
      "\n",
      "preprocessing day:  84%|████████████████████████████████████████████████████▊          | 26/31 [04:47<00:55, 11.16s/it]\u001b[A\u001b[A"
     ]
    },
    {
     "name": "stdout",
     "output_type": "stream",
     "text": [
      "다음날짜로 선택시작\n",
      "다음 날짜 선택 후 크롤링 준비\n",
      "https://www.google.com/search?q=Nasdaq&sca_esv=556524961&tbas=0&biw=800&bih=600&source=lnt&tbs=cdr%3A1%2Ccd_min%3A2%2F27%2F2022%2Ccd_max%3A2%2F27%2F2022&tbm=nws\n",
      "Next button not found. Exiting loop.\n",
      "크롤링 준비\n"
     ]
    },
    {
     "name": "stderr",
     "output_type": "stream",
     "text": [
      "\n",
      "\n",
      "preprocessing day:  87%|██████████████████████████████████████████████████████▊        | 27/31 [05:00<00:46, 11.68s/it]\u001b[A\u001b[A"
     ]
    },
    {
     "name": "stdout",
     "output_type": "stream",
     "text": [
      "다음날짜로 선택시작\n",
      "다음 날짜 선택 후 크롤링 준비\n",
      "https://www.google.com/search?q=Nasdaq&sca_esv=556524961&tbas=0&biw=800&bih=600&source=lnt&tbs=cdr%3A1%2Ccd_min%3A2%2F28%2F2022%2Ccd_max%3A2%2F28%2F2022&tbm=nws\n",
      "https://www.google.com/search?q=Nasdaq&sca_esv=556524961&tbas=0&tbs=cdr:1,cd_min:2/28/2022,cd_max:2/28/2022&tbm=nws&ei=wbTZZI7qDs_iwAPlsIHoAQ&start=10&sa=N&ved=2ahUKEwjOzubyrtuAAxVPMXAKHWVYAB0Q8NMDegQIAhAI&biw=800&bih=600&dpr=1\n",
      "https://www.google.com/search?q=Nasdaq&sca_esv=556524961&tbas=0&tbs=cdr:1,cd_min:2/28/2022,cd_max:2/28/2022&tbm=nws&ei=wrTZZNzREY-5hwONm5CYBg&start=20&sa=N&ved=2ahUKEwjcuqbzrtuAAxWP3GEKHY0NBGM4ChDw0wN6BAgDEAk&biw=800&bih=600&dpr=1\n",
      "크롤링 준비\n"
     ]
    },
    {
     "name": "stderr",
     "output_type": "stream",
     "text": [
      "\n",
      "\n",
      "preprocessing day:  90%|████████████████████████████████████████████████████████▉      | 28/31 [05:09<00:32, 10.95s/it]\u001b[A\u001b[A"
     ]
    },
    {
     "name": "stdout",
     "output_type": "stream",
     "text": [
      "다음날짜로 선택시작\n",
      "다음 날짜 선택 후 크롤링 준비\n",
      "https://www.google.com/search?q=Nasdaq&sca_esv=556524961&tbas=0&biw=800&bih=600&source=lnt&tbs=cdr%3A1%2Ccd_min%3A02%2F29%2F2022%2Ccd_max%3A02%2F29%2F2022&tbm=nws\n",
      "https://www.google.com/search?q=Nasdaq&sca_esv=556524961&tbas=0&tbs=cdr:1,cd_min:02/29/2022,cd_max:02/29/2022&tbm=nws&ei=yrTZZJ6QGsLO-Qb-k6iwBw&start=10&sa=N&ved=2ahUKEwienZf3rtuAAxVCZ94KHf4JCnYQ8NMDegQIAxAK&biw=800&bih=600&dpr=1\n",
      "https://www.google.com/search?q=Nasdaq&sca_esv=556524961&tbas=0&tbs=cdr:1,cd_min:02/29/2022,cd_max:02/29/2022&tbm=nws&ei=y7TZZJCLDoOs-QaU7biYDQ&start=20&sa=N&ved=2ahUKEwjQnMj3rtuAAxUDVt4KHZQ2DtM4ChDw0wN6BAgEEAs&biw=800&bih=600&dpr=1\n",
      "크롤링 준비\n"
     ]
    },
    {
     "name": "stderr",
     "output_type": "stream",
     "text": [
      "\n",
      "\n",
      "preprocessing day:  94%|██████████████████████████████████████████████████████████▉    | 29/31 [05:18<00:20, 10.37s/it]\u001b[A\u001b[A"
     ]
    },
    {
     "name": "stdout",
     "output_type": "stream",
     "text": [
      "다음날짜로 선택시작\n",
      "다음 날짜 선택 후 크롤링 준비\n",
      "https://www.google.com/search?q=Nasdaq&sca_esv=556524961&tbas=0&biw=800&bih=600&source=lnt&tbs=cdr%3A1%2Ccd_min%3A02%2F30%2F2022%2Ccd_max%3A02%2F30%2F2022&tbm=nws\n",
      "https://www.google.com/search?q=Nasdaq&sca_esv=556524961&tbas=0&tbs=cdr:1,cd_min:02/30/2022,cd_max:02/30/2022&tbm=nws&ei=07TZZLXlH5L7wAOD_Lu4Dw&start=10&sa=N&ved=2ahUKEwj1msL7rtuAAxWSPXAKHQP-DvcQ8NMDegQIAhAK&biw=800&bih=600&dpr=1\n",
      "https://www.google.com/search?q=Nasdaq&sca_esv=556524961&tbas=0&tbs=cdr:1,cd_min:02/30/2022,cd_max:02/30/2022&tbm=nws&ei=1LTZZNPHDr_K1e8Pg5aW6AU&start=20&sa=N&ved=2ahUKEwjTge77rtuAAxU_ZfUHHQOLBV04ChDw0wN6BAgCEAs&biw=800&bih=600&dpr=1\n",
      "크롤링 준비\n"
     ]
    },
    {
     "name": "stderr",
     "output_type": "stream",
     "text": [
      "\n",
      "\n",
      "preprocessing day:  97%|████████████████████████████████████████████████████████████▉  | 30/31 [05:28<00:10, 10.06s/it]\u001b[A\u001b[A"
     ]
    },
    {
     "name": "stdout",
     "output_type": "stream",
     "text": [
      "다음날짜로 선택시작\n",
      "다음 날짜 선택 후 크롤링 준비\n",
      "https://www.google.com/search?q=Nasdaq&sca_esv=556524961&tbas=0&biw=800&bih=600&source=lnt&tbs=cdr%3A1%2Ccd_min%3A02%2F31%2F2022%2Ccd_max%3A02%2F31%2F2022&tbm=nws\n",
      "https://www.google.com/search?q=Nasdaq&sca_esv=556524961&tbas=0&tbs=cdr:1,cd_min:02/31/2022,cd_max:02/31/2022&tbm=nws&ei=3LTZZKmGNbjp1e8PsfmcwAQ&start=10&sa=N&ved=2ahUKEwip5Pz_rtuAAxW4dPUHHbE8B0gQ8NMDegQIBBAI&biw=800&bih=600&dpr=1\n",
      "https://www.google.com/search?q=Nasdaq&sca_esv=556524961&tbas=0&tbs=cdr:1,cd_min:02/31/2022,cd_max:02/31/2022&tbm=nws&ei=3bTZZKuMIY_F1e8PsLO1WA&start=20&sa=N&ved=2ahUKEwjr7qWAr9uAAxWPYvUHHbBZDQs4ChDw0wN6BAgDEAk&biw=800&bih=600&dpr=1\n",
      "크롤링 준비\n"
     ]
    },
    {
     "name": "stderr",
     "output_type": "stream",
     "text": [
      "\n",
      "\n",
      "preprocessing day: 100%|███████████████████████████████████████████████████████████████| 31/31 [05:37<00:00, 10.90s/it]\u001b[A\u001b[A\n",
      "\n",
      "preprocessing month:  17%|██████████▏                                                  | 2/12 [11:21<56:40, 340.08s/it]\u001b[A"
     ]
    },
    {
     "name": "stdout",
     "output_type": "stream",
     "text": [
      "다음날짜로 선택시작\n"
     ]
    },
    {
     "name": "stderr",
     "output_type": "stream",
     "text": [
      "\n",
      "\n",
      "preprocessing day:   0%|                                                                        | 0/31 [00:00<?, ?it/s]\u001b[A\u001b[A"
     ]
    },
    {
     "name": "stdout",
     "output_type": "stream",
     "text": [
      "다음 날짜 선택 후 크롤링 준비\n",
      "https://www.google.com/search?q=Nasdaq&sca_esv=556524961&tbas=0&biw=800&bih=600&source=lnt&tbs=cdr%3A1%2Ccd_min%3A3%2F1%2F2022%2Ccd_max%3A3%2F1%2F2022&tbm=nws\n",
      "https://www.google.com/search?q=Nasdaq&sca_esv=556524961&tbas=0&tbs=cdr:1,cd_min:3/1/2022,cd_max:3/1/2022&tbm=nws&ei=5rTZZOC6FNW0oASEvaGwBQ&start=10&sa=N&ved=2ahUKEwjgxb6Er9uAAxVVGogKHYReCFYQ8NMDegQIAxAK&biw=800&bih=600&dpr=1\n",
      "https://www.google.com/search?q=Nasdaq&sca_esv=556524961&tbas=0&tbs=cdr:1,cd_min:3/1/2022,cd_max:3/1/2022&tbm=nws&ei=57TZZJmMB9CghwPrs7HYAw&start=20&sa=N&ved=2ahUKEwjZm-6Er9uAAxVQ0GEKHetZDDs4ChDw0wN6BAgDEAs&biw=800&bih=600&dpr=1\n",
      "크롤링 준비\n"
     ]
    },
    {
     "name": "stderr",
     "output_type": "stream",
     "text": [
      "\n",
      "\n",
      "preprocessing day:   3%|██                                                              | 1/31 [00:09<04:43,  9.43s/it]\u001b[A\u001b[A"
     ]
    },
    {
     "name": "stdout",
     "output_type": "stream",
     "text": [
      "다음날짜로 선택시작\n",
      "다음 날짜 선택 후 크롤링 준비\n",
      "https://www.google.com/search?q=Nasdaq&sca_esv=556524961&tbas=0&biw=800&bih=600&source=lnt&tbs=cdr%3A1%2Ccd_min%3A3%2F2%2F2022%2Ccd_max%3A3%2F2%2F2022&tbm=nws\n",
      "https://www.google.com/search?q=Nasdaq&sca_esv=556524961&tbas=0&tbs=cdr:1,cd_min:3/2/2022,cd_max:3/2/2022&tbm=nws&ei=77TZZPrfL8Km-QalzoTIAg&start=10&sa=N&ved=2ahUKEwi6k_-Ir9uAAxVCU94KHSUnASkQ8NMDegQIBBAK&biw=800&bih=600&dpr=1\n",
      "https://www.google.com/search?q=Nasdaq&sca_esv=556524961&tbas=0&tbs=cdr:1,cd_min:3/2/2022,cd_max:3/2/2022&tbm=nws&ei=8LTZZNu5JPLt1e8PkrGC-Ac&start=20&sa=N&ved=2ahUKEwjb8bCJr9uAAxXydvUHHZKYAH84ChDw0wN6BAgDEAs&biw=800&bih=600&dpr=1\n",
      "크롤링 준비\n"
     ]
    },
    {
     "name": "stderr",
     "output_type": "stream",
     "text": [
      "\n",
      "\n",
      "preprocessing day:   6%|████▏                                                           | 2/31 [00:18<04:27,  9.23s/it]\u001b[A\u001b[A"
     ]
    },
    {
     "name": "stdout",
     "output_type": "stream",
     "text": [
      "다음날짜로 선택시작\n",
      "다음 날짜 선택 후 크롤링 준비\n",
      "https://www.google.com/search?q=Nasdaq&sca_esv=556524961&tbas=0&biw=800&bih=600&source=lnt&tbs=cdr%3A1%2Ccd_min%3A3%2F3%2F2022%2Ccd_max%3A3%2F3%2F2022&tbm=nws\n",
      "https://www.google.com/search?q=Nasdaq&sca_esv=556524961&tbas=0&tbs=cdr:1,cd_min:3/3/2022,cd_max:3/3/2022&tbm=nws&ei=-LTZZJfGO-3M1e8PyYGK6Ak&start=10&sa=N&ved=2ahUKEwiXorCNr9uAAxVtZvUHHcmAAp0Q8NMDegQIBRAI&biw=800&bih=600&dpr=1\n",
      "https://www.google.com/search?q=Nasdaq&sca_esv=556524961&tbas=0&tbs=cdr:1,cd_min:3/3/2022,cd_max:3/3/2022&tbm=nws&ei=-bTZZKHdIJaghwOMzomYDQ&start=20&sa=N&ved=2ahUKEwjhvdKNr9uAAxUW0GEKHQxnAtM4ChDw0wN6BAgDEAk&biw=800&bih=600&dpr=1\n",
      "크롤링 준비\n"
     ]
    },
    {
     "name": "stderr",
     "output_type": "stream",
     "text": [
      "\n",
      "\n",
      "preprocessing day:  10%|██████▏                                                         | 3/31 [00:27<04:14,  9.09s/it]\u001b[A\u001b[A"
     ]
    },
    {
     "name": "stdout",
     "output_type": "stream",
     "text": [
      "다음날짜로 선택시작\n",
      "다음 날짜 선택 후 크롤링 준비\n",
      "https://www.google.com/search?q=Nasdaq&sca_esv=556524961&tbas=0&biw=800&bih=600&source=lnt&tbs=cdr%3A1%2Ccd_min%3A3%2F4%2F2022%2Ccd_max%3A3%2F4%2F2022&tbm=nws\n",
      "https://www.google.com/search?q=Nasdaq&sca_esv=556524961&tbas=0&tbs=cdr:1,cd_min:3/4/2022,cd_max:3/4/2022&tbm=nws&ei=AbXZZLnYN8Km-QalzoTIAg&start=10&sa=N&ved=2ahUKEwj53NGRr9uAAxVCU94KHSUnASkQ8NMDegQIAxAI&biw=800&bih=600&dpr=1\n",
      "https://www.google.com/search?q=Nasdaq&sca_esv=556524961&tbas=0&tbs=cdr:1,cd_min:3/4/2022,cd_max:3/4/2022&tbm=nws&ei=ArXZZI7nJ9CooATkwYrYCA&start=20&sa=N&ved=2ahUKEwiO8P6Rr9uAAxVQFIgKHeSgAos4ChDw0wN6BAgDEAk&biw=800&bih=600&dpr=1\n",
      "크롤링 준비\n"
     ]
    },
    {
     "name": "stderr",
     "output_type": "stream",
     "text": [
      "\n",
      "\n",
      "preprocessing day:  13%|████████▎                                                       | 4/31 [00:37<04:11,  9.31s/it]\u001b[A\u001b[A"
     ]
    },
    {
     "name": "stdout",
     "output_type": "stream",
     "text": [
      "다음날짜로 선택시작\n",
      "다음 날짜 선택 후 크롤링 준비\n",
      "https://www.google.com/search?q=Nasdaq&sca_esv=556524961&tbas=0&biw=800&bih=600&source=lnt&tbs=cdr%3A1%2Ccd_min%3A3%2F5%2F2022%2Ccd_max%3A3%2F5%2F2022&tbm=nws\n",
      "Next button not found. Exiting loop.\n",
      "크롤링 준비\n"
     ]
    },
    {
     "name": "stderr",
     "output_type": "stream",
     "text": [
      "\n",
      "\n",
      "preprocessing day:  16%|██████████▎                                                     | 5/31 [00:49<04:35, 10.59s/it]\u001b[A\u001b[A"
     ]
    },
    {
     "name": "stdout",
     "output_type": "stream",
     "text": [
      "다음날짜로 선택시작\n",
      "다음 날짜 선택 후 크롤링 준비\n",
      "https://www.google.com/search?q=Nasdaq&sca_esv=556524961&tbas=0&biw=800&bih=600&source=lnt&tbs=cdr%3A1%2Ccd_min%3A3%2F6%2F2022%2Ccd_max%3A3%2F6%2F2022&tbm=nws\n",
      "Next button not found. Exiting loop.\n",
      "크롤링 준비\n"
     ]
    },
    {
     "name": "stderr",
     "output_type": "stream",
     "text": [
      "\n",
      "\n",
      "preprocessing day:  19%|████████████▍                                                   | 6/31 [01:02<04:43, 11.36s/it]\u001b[A\u001b[A"
     ]
    },
    {
     "name": "stdout",
     "output_type": "stream",
     "text": [
      "다음날짜로 선택시작\n",
      "다음 날짜 선택 후 크롤링 준비\n",
      "https://www.google.com/search?q=Nasdaq&sca_esv=556524961&tbas=0&biw=800&bih=600&source=lnt&tbs=cdr%3A1%2Ccd_min%3A3%2F7%2F2022%2Ccd_max%3A3%2F7%2F2022&tbm=nws\n",
      "https://www.google.com/search?q=Nasdaq&sca_esv=556524961&tbas=0&tbs=cdr:1,cd_min:3/7/2022,cd_max:3/7/2022&tbm=nws&ei=JbXZZM6VFJmA2roPgsicsAw&start=10&sa=N&ved=2ahUKEwiOvMOir9uAAxUZgFYBHQIkB8YQ8NMDegQIAxAM&biw=800&bih=600&dpr=1\n",
      "https://www.google.com/search?q=Nasdaq&sca_esv=556524961&tbas=0&tbs=cdr:1,cd_min:3/7/2022,cd_max:3/7/2022&tbm=nws&ei=JrXZZME9_eHV7w_dmLboCQ&start=20&sa=N&ved=2ahUKEwjB6Oyir9uAAxX9cPUHHV2MDZ04ChDw0wN6BAgDEA0&biw=800&bih=600&dpr=1\n",
      "크롤링 준비\n"
     ]
    },
    {
     "name": "stderr",
     "output_type": "stream",
     "text": [
      "\n",
      "\n",
      "preprocessing day:  23%|██████████████▍                                                 | 7/31 [01:12<04:19, 10.82s/it]\u001b[A\u001b[A"
     ]
    },
    {
     "name": "stdout",
     "output_type": "stream",
     "text": [
      "다음날짜로 선택시작\n",
      "다음 날짜 선택 후 크롤링 준비\n",
      "https://www.google.com/search?q=Nasdaq&sca_esv=556524961&tbas=0&biw=800&bih=600&source=lnt&tbs=cdr%3A1%2Ccd_min%3A3%2F8%2F2022%2Ccd_max%3A3%2F8%2F2022&tbm=nws\n",
      "https://www.google.com/search?q=Nasdaq&sca_esv=556524961&tbas=0&tbs=cdr:1,cd_min:3/8/2022,cd_max:3/8/2022&tbm=nws&ei=LrXZZIuON-yz2roP9KO2sAE&start=10&sa=N&ved=2ahUKEwiL3Yunr9uAAxXsmVYBHfSRDRYQ8NMDegQIBBAK&biw=800&bih=600&dpr=1\n",
      "https://www.google.com/search?q=Nasdaq&sca_esv=556524961&tbas=0&tbs=cdr:1,cd_min:3/8/2022,cd_max:3/8/2022&tbm=nws&ei=L7XZZLeoO--R2roPo5mu-Ao&start=20&sa=N&ved=2ahUKEwj3-8ynr9uAAxXviFYBHaOMC684ChDw0wN6BAgDEAs&biw=800&bih=600&dpr=1\n",
      "크롤링 준비\n"
     ]
    },
    {
     "name": "stderr",
     "output_type": "stream",
     "text": [
      "\n",
      "\n",
      "preprocessing day:  26%|████████████████▌                                               | 8/31 [01:22<04:02, 10.55s/it]\u001b[A\u001b[A"
     ]
    },
    {
     "name": "stdout",
     "output_type": "stream",
     "text": [
      "다음날짜로 선택시작\n",
      "다음 날짜 선택 후 크롤링 준비\n",
      "https://www.google.com/search?q=Nasdaq&sca_esv=556524961&tbas=0&biw=800&bih=600&source=lnt&tbs=cdr%3A1%2Ccd_min%3A3%2F9%2F2022%2Ccd_max%3A3%2F9%2F2022&tbm=nws\n",
      "https://www.google.com/search?q=Nasdaq&sca_esv=556524961&tbas=0&tbs=cdr:1,cd_min:3/9/2022,cd_max:3/9/2022&tbm=nws&ei=OLXZZIG5NaK02roPy92T-Aw&start=10&sa=N&ved=2ahUKEwiBteyrr9uAAxUimlYBHcvuBM8Q8NMDegQIBBAI&biw=800&bih=600&dpr=1\n",
      "https://www.google.com/search?q=Nasdaq&sca_esv=556524961&tbas=0&tbs=cdr:1,cd_min:3/9/2022,cd_max:3/9/2022&tbm=nws&ei=ObXZZNefKpqu2roPjIKZsAc&start=20&sa=N&ved=2ahUKEwiXoJ6sr9uAAxUal1YBHQxBBnY4ChDw0wN6BAgDEAk&biw=800&bih=600&dpr=1\n",
      "크롤링 준비\n"
     ]
    },
    {
     "name": "stderr",
     "output_type": "stream",
     "text": [
      "\n",
      "\n",
      "preprocessing day:  29%|██████████████████▌                                             | 9/31 [01:32<03:45, 10.24s/it]\u001b[A\u001b[A"
     ]
    },
    {
     "name": "stdout",
     "output_type": "stream",
     "text": [
      "다음날짜로 선택시작\n",
      "다음 날짜 선택 후 크롤링 준비\n",
      "https://www.google.com/search?q=Nasdaq&sca_esv=556524961&tbas=0&biw=800&bih=600&source=lnt&tbs=cdr%3A1%2Ccd_min%3A3%2F10%2F2022%2Ccd_max%3A3%2F10%2F2022&tbm=nws\n",
      "https://www.google.com/search?q=Nasdaq&sca_esv=556524961&tbas=0&tbs=cdr:1,cd_min:3/10/2022,cd_max:3/10/2022&tbm=nws&ei=QrXZZMCIG8SQhwPJgrCYBw&start=10&sa=N&ved=2ahUKEwjAsbSwr9uAAxVEyGEKHUkBDHMQ8NMDegQIAxAI&biw=800&bih=600&dpr=1\n",
      "https://www.google.com/search?q=Nasdaq&sca_esv=556524961&tbas=0&tbs=cdr:1,cd_min:3/10/2022,cd_max:3/10/2022&tbm=nws&ei=Q7XZZNvED92L2roPo5mZYA&start=20&sa=N&ved=2ahUKEwib8uWwr9uAAxXdhVYBHaNMBgw4ChDw0wN6BAgEEAk&biw=800&bih=600&dpr=1\n",
      "크롤링 준비\n"
     ]
    },
    {
     "name": "stderr",
     "output_type": "stream",
     "text": [
      "\n",
      "\n",
      "preprocessing day:  32%|████████████████████▎                                          | 10/31 [01:41<03:29,  9.99s/it]\u001b[A\u001b[A"
     ]
    },
    {
     "name": "stdout",
     "output_type": "stream",
     "text": [
      "다음날짜로 선택시작\n",
      "다음 날짜 선택 후 크롤링 준비\n",
      "https://www.google.com/search?q=Nasdaq&sca_esv=556524961&tbas=0&biw=800&bih=600&source=lnt&tbs=cdr%3A1%2Ccd_min%3A3%2F11%2F2022%2Ccd_max%3A3%2F11%2F2022&tbm=nws\n",
      "https://www.google.com/search?q=Nasdaq&sca_esv=556524961&tbas=0&tbs=cdr:1,cd_min:3/11/2022,cd_max:3/11/2022&tbm=nws&ei=S7XZZJziOMXJ1e8P0a-smA4&start=10&sa=N&ved=2ahUKEwjcs_e0r9uAAxXFZPUHHdEXC-MQ8NMDegQIAxAI&biw=800&bih=600&dpr=1\n",
      "https://www.google.com/search?q=Nasdaq&sca_esv=556524961&tbas=0&tbs=cdr:1,cd_min:3/11/2022,cd_max:3/11/2022&tbm=nws&ei=TLXZZNCvOsHe-Qb08rWADQ&start=20&sa=N&ved=2ahUKEwjQhba1r9uAAxVBb94KHXR5DdA4ChDw0wN6BAgDEAk&biw=800&bih=600&dpr=1\n",
      "크롤링 준비\n"
     ]
    },
    {
     "name": "stderr",
     "output_type": "stream",
     "text": [
      "\n",
      "\n",
      "preprocessing day:  35%|██████████████████████▎                                        | 11/31 [01:51<03:19,  9.98s/it]\u001b[A\u001b[A"
     ]
    },
    {
     "name": "stdout",
     "output_type": "stream",
     "text": [
      "다음날짜로 선택시작\n",
      "다음 날짜 선택 후 크롤링 준비\n",
      "https://www.google.com/search?q=Nasdaq&sca_esv=556524961&tbas=0&biw=800&bih=600&source=lnt&tbs=cdr%3A1%2Ccd_min%3A3%2F12%2F2022%2Ccd_max%3A3%2F12%2F2022&tbm=nws\n",
      "Next button not found. Exiting loop.\n",
      "크롤링 준비\n"
     ]
    },
    {
     "name": "stderr",
     "output_type": "stream",
     "text": [
      "\n",
      "\n",
      "preprocessing day:  39%|████████████████████████▍                                      | 12/31 [02:04<03:27, 10.92s/it]\u001b[A\u001b[A"
     ]
    },
    {
     "name": "stdout",
     "output_type": "stream",
     "text": [
      "다음날짜로 선택시작\n",
      "다음 날짜 선택 후 크롤링 준비\n",
      "https://www.google.com/search?q=Nasdaq&sca_esv=556524961&tbas=0&biw=800&bih=600&source=lnt&tbs=cdr%3A1%2Ccd_min%3A3%2F13%2F2022%2Ccd_max%3A3%2F13%2F2022&tbm=nws\n",
      "Next button not found. Exiting loop.\n",
      "크롤링 준비\n"
     ]
    },
    {
     "name": "stderr",
     "output_type": "stream",
     "text": [
      "\n",
      "\n",
      "preprocessing day:  42%|██████████████████████████▍                                    | 13/31 [02:17<03:27, 11.54s/it]\u001b[A\u001b[A"
     ]
    },
    {
     "name": "stdout",
     "output_type": "stream",
     "text": [
      "다음날짜로 선택시작\n",
      "다음 날짜 선택 후 크롤링 준비\n",
      "https://www.google.com/search?q=Nasdaq&sca_esv=556524961&tbas=0&biw=800&bih=600&source=lnt&tbs=cdr%3A1%2Ccd_min%3A3%2F14%2F2022%2Ccd_max%3A3%2F14%2F2022&tbm=nws\n",
      "https://www.google.com/search?q=Nasdaq&sca_esv=556524961&tbas=0&tbs=cdr:1,cd_min:3/14/2022,cd_max:3/14/2022&tbm=nws&ei=b7XZZKDWN_Dc1e8P0sKe0AY&start=10&sa=N&ved=2ahUKEwjgyYvGr9uAAxVwbvUHHVKhB2oQ8NMDegQIAxAI&biw=800&bih=600&dpr=1\n",
      "https://www.google.com/search?q=Nasdaq&sca_esv=556524961&tbas=0&tbs=cdr:1,cd_min:3/14/2022,cd_max:3/14/2022&tbm=nws&ei=cLXZZMf_JZv3wAPT7aOgBA&start=20&sa=N&ved=2ahUKEwjH97bGr9uAAxWbO3AKHdP2CEQ4ChDw0wN6BAgDEAk&biw=800&bih=600&dpr=1\n",
      "크롤링 준비\n"
     ]
    },
    {
     "name": "stderr",
     "output_type": "stream",
     "text": [
      "\n",
      "\n",
      "preprocessing day:  45%|████████████████████████████▍                                  | 14/31 [02:26<03:04, 10.85s/it]\u001b[A\u001b[A"
     ]
    },
    {
     "name": "stdout",
     "output_type": "stream",
     "text": [
      "다음날짜로 선택시작\n",
      "다음 날짜 선택 후 크롤링 준비\n",
      "https://www.google.com/search?q=Nasdaq&sca_esv=556524961&tbas=0&biw=800&bih=600&source=lnt&tbs=cdr%3A1%2Ccd_min%3A3%2F15%2F2022%2Ccd_max%3A3%2F15%2F2022&tbm=nws\n",
      "https://www.google.com/search?q=Nasdaq&sca_esv=556524961&tbas=0&tbs=cdr:1,cd_min:3/15/2022,cd_max:3/15/2022&tbm=nws&ei=ebXZZIHLB8rl1e8Pna-2iAY&start=10&sa=N&ved=2ahUKEwjB673Kr9uAAxXKcvUHHZ2XDWEQ8NMDegQIAxAM&biw=800&bih=600&dpr=1\n",
      "https://www.google.com/search?q=Nasdaq&sca_esv=556524961&tbas=0&tbs=cdr:1,cd_min:3/15/2022,cd_max:3/15/2022&tbm=nws&ei=erXZZOiQA_vO1e8PpcOo6AE&start=20&sa=N&ved=2ahUKEwjotfbKr9uAAxV7Z_UHHaUhCh04ChDw0wN6BAgDEA0&biw=800&bih=600&dpr=1\n",
      "크롤링 준비\n"
     ]
    },
    {
     "name": "stderr",
     "output_type": "stream",
     "text": [
      "\n",
      "\n",
      "preprocessing day:  48%|██████████████████████████████▍                                | 15/31 [02:36<02:46, 10.39s/it]\u001b[A\u001b[A"
     ]
    },
    {
     "name": "stdout",
     "output_type": "stream",
     "text": [
      "다음날짜로 선택시작\n",
      "다음 날짜 선택 후 크롤링 준비\n",
      "https://www.google.com/search?q=Nasdaq&sca_esv=556524961&tbas=0&biw=800&bih=600&source=lnt&tbs=cdr%3A1%2Ccd_min%3A3%2F16%2F2022%2Ccd_max%3A3%2F16%2F2022&tbm=nws\n",
      "https://www.google.com/search?q=Nasdaq&sca_esv=556524961&tbas=0&tbs=cdr:1,cd_min:3/16/2022,cd_max:3/16/2022&tbm=nws&ei=grXZZKmxG5CS-Aam6IiABg&start=10&sa=N&ved=2ahUKEwip-vbOr9uAAxUQCd4KHSY0AmAQ8NMDegQIBBAI&biw=800&bih=600&dpr=1\n",
      "https://www.google.com/search?q=Nasdaq&sca_esv=556524961&tbas=0&tbs=cdr:1,cd_min:3/16/2022,cd_max:3/16/2022&tbm=nws&ei=g7XZZM7qCfvZ1e8PjdWmuAM&start=20&sa=N&ved=2ahUKEwiOuKLPr9uAAxX7bPUHHY2qCTc4ChDw0wN6BAgDEAk&biw=800&bih=600&dpr=1\n",
      "크롤링 준비\n"
     ]
    },
    {
     "name": "stderr",
     "output_type": "stream",
     "text": [
      "\n",
      "\n",
      "preprocessing day:  52%|████████████████████████████████▌                              | 16/31 [02:45<02:32, 10.15s/it]\u001b[A\u001b[A"
     ]
    },
    {
     "name": "stdout",
     "output_type": "stream",
     "text": [
      "다음날짜로 선택시작\n",
      "다음 날짜 선택 후 크롤링 준비\n",
      "https://www.google.com/search?q=Nasdaq&sca_esv=556524961&tbas=0&biw=800&bih=600&source=lnt&tbs=cdr%3A1%2Ccd_min%3A3%2F17%2F2022%2Ccd_max%3A3%2F17%2F2022&tbm=nws\n",
      "https://www.google.com/search?q=Nasdaq&sca_esv=556524961&tbas=0&tbs=cdr:1,cd_min:3/17/2022,cd_max:3/17/2022&tbm=nws&ei=jLXZZKe-A9Dg-AavxLmABA&start=10&sa=N&ved=2ahUKEwintMHTr9uAAxVQMN4KHS9iDkAQ8NMDegQIAhAI&biw=800&bih=600&dpr=1\n",
      "https://www.google.com/search?q=Nasdaq&sca_esv=556524961&tbas=0&tbs=cdr:1,cd_min:3/17/2022,cd_max:3/17/2022&tbm=nws&ei=jLXZZNGPNs7s-Abusa3wDg&start=20&sa=N&ved=2ahUKEwjRhfTTr9uAAxVONt4KHe5YC-44ChDw0wN6BAgEEAk&biw=800&bih=600&dpr=1\n",
      "크롤링 준비\n"
     ]
    },
    {
     "name": "stderr",
     "output_type": "stream",
     "text": [
      "\n",
      "\n",
      "preprocessing day:  55%|██████████████████████████████████▌                            | 17/31 [02:54<02:17,  9.85s/it]\u001b[A\u001b[A"
     ]
    },
    {
     "name": "stdout",
     "output_type": "stream",
     "text": [
      "다음날짜로 선택시작\n",
      "다음 날짜 선택 후 크롤링 준비\n",
      "https://www.google.com/search?q=Nasdaq&sca_esv=556524961&tbas=0&biw=800&bih=600&source=lnt&tbs=cdr%3A1%2Ccd_min%3A3%2F18%2F2022%2Ccd_max%3A3%2F18%2F2022&tbm=nws\n",
      "https://www.google.com/search?q=Nasdaq&sca_esv=556524961&tbas=0&tbs=cdr:1,cd_min:3/18/2022,cd_max:3/18/2022&tbm=nws&ei=lbXZZM2-DZ_d1e8PhbCpiAg&start=10&sa=N&ved=2ahUKEwiN3fDXr9uAAxWfbvUHHQVYCoEQ8NMDegQIAhAI&biw=800&bih=600&dpr=1\n",
      "https://www.google.com/search?q=Nasdaq&sca_esv=556524961&tbas=0&tbs=cdr:1,cd_min:3/18/2022,cd_max:3/18/2022&tbm=nws&ei=lrXZZOnCEoH6-QaZkaKYDg&start=20&sa=N&ved=2ahUKEwjp5bLYr9uAAxUBfd4KHZmICOM4ChDw0wN6BAgDEAk&biw=800&bih=600&dpr=1\n",
      "크롤링 준비\n"
     ]
    },
    {
     "name": "stderr",
     "output_type": "stream",
     "text": [
      "\n",
      "\n",
      "preprocessing day:  58%|████████████████████████████████████▌                          | 18/31 [03:04<02:07,  9.81s/it]\u001b[A\u001b[A"
     ]
    },
    {
     "name": "stdout",
     "output_type": "stream",
     "text": [
      "다음날짜로 선택시작\n",
      "다음 날짜 선택 후 크롤링 준비\n",
      "https://www.google.com/search?q=Nasdaq&sca_esv=556524961&tbas=0&biw=800&bih=600&source=lnt&tbs=cdr%3A1%2Ccd_min%3A3%2F19%2F2022%2Ccd_max%3A3%2F19%2F2022&tbm=nws\n",
      "Next button not found. Exiting loop.\n",
      "크롤링 준비\n"
     ]
    },
    {
     "name": "stderr",
     "output_type": "stream",
     "text": [
      "\n",
      "\n",
      "preprocessing day:  61%|██████████████████████████████████████▌                        | 19/31 [03:17<02:08, 10.67s/it]\u001b[A\u001b[A"
     ]
    },
    {
     "name": "stdout",
     "output_type": "stream",
     "text": [
      "다음날짜로 선택시작\n",
      "다음 날짜 선택 후 크롤링 준비\n",
      "https://www.google.com/search?q=Nasdaq&sca_esv=556524961&tbas=0&biw=800&bih=600&source=lnt&tbs=cdr%3A1%2Ccd_min%3A3%2F20%2F2022%2Ccd_max%3A3%2F20%2F2022&tbm=nws\n",
      "Next button not found. Exiting loop.\n",
      "크롤링 준비\n"
     ]
    },
    {
     "name": "stderr",
     "output_type": "stream",
     "text": [
      "\n",
      "\n",
      "preprocessing day:  65%|████████████████████████████████████████▋                      | 20/31 [03:29<02:03, 11.27s/it]\u001b[A\u001b[A"
     ]
    },
    {
     "name": "stdout",
     "output_type": "stream",
     "text": [
      "다음날짜로 선택시작\n",
      "다음 날짜 선택 후 크롤링 준비\n",
      "https://www.google.com/search?q=Nasdaq&sca_esv=556524961&tbas=0&biw=800&bih=600&source=lnt&tbs=cdr%3A1%2Ccd_min%3A3%2F21%2F2022%2Ccd_max%3A3%2F21%2F2022&tbm=nws\n",
      "https://www.google.com/search?q=Nasdaq&sca_esv=556524961&tbas=0&tbs=cdr:1,cd_min:3/21/2022,cd_max:3/21/2022&tbm=nws&ei=uLXZZO7WEuLp1e8P6bGO-A8&start=10&sa=N&ved=2ahUKEwjuks7or9uAAxXidPUHHemYA_8Q8NMDegQIAxAK&biw=800&bih=600&dpr=1\n",
      "https://www.google.com/search?q=Nasdaq&sca_esv=556524961&tbas=0&tbs=cdr:1,cd_min:3/21/2022,cd_max:3/21/2022&tbm=nws&ei=ubXZZOaECpb6hwOgnonICw&start=20&sa=N&ved=2ahUKEwimxYLpr9uAAxUW_WEKHSBPArk4ChDw0wN6BAgCEAs&biw=800&bih=600&dpr=1\n",
      "크롤링 준비\n"
     ]
    },
    {
     "name": "stderr",
     "output_type": "stream",
     "text": [
      "\n",
      "\n",
      "preprocessing day:  68%|██████████████████████████████████████████▋                    | 21/31 [03:39<01:46, 10.69s/it]\u001b[A\u001b[A"
     ]
    },
    {
     "name": "stdout",
     "output_type": "stream",
     "text": [
      "다음날짜로 선택시작\n",
      "다음 날짜 선택 후 크롤링 준비\n",
      "https://www.google.com/search?q=Nasdaq&sca_esv=556524961&tbas=0&biw=800&bih=600&source=lnt&tbs=cdr%3A1%2Ccd_min%3A3%2F22%2F2022%2Ccd_max%3A3%2F22%2F2022&tbm=nws\n",
      "https://www.google.com/search?q=Nasdaq&sca_esv=556524961&tbas=0&tbs=cdr:1,cd_min:3/22/2022,cd_max:3/22/2022&tbm=nws&ei=wbXZZLfPKM2phwPrj53gBA&start=10&sa=N&ved=2ahUKEwj3s4ntr9uAAxXN1GEKHetHB0wQ8NMDegQIAxAO&biw=800&bih=600&dpr=1\n",
      "https://www.google.com/search?q=Nasdaq&sca_esv=556524961&tbas=0&tbs=cdr:1,cd_min:3/22/2022,cd_max:3/22/2022&tbm=nws&ei=wrXZZPOUHoTP1e8P-LmF6Ao&start=20&sa=N&ved=2ahUKEwjz_bvtr9uAAxWEZ_UHHfhcAa04ChDw0wN6BAgDEA8&biw=800&bih=600&dpr=1\n",
      "크롤링 준비\n"
     ]
    },
    {
     "name": "stderr",
     "output_type": "stream",
     "text": [
      "\n",
      "\n",
      "preprocessing day:  71%|████████████████████████████████████████████▋                  | 22/31 [03:48<01:33, 10.40s/it]\u001b[A\u001b[A"
     ]
    },
    {
     "name": "stdout",
     "output_type": "stream",
     "text": [
      "다음날짜로 선택시작\n",
      "다음 날짜 선택 후 크롤링 준비\n",
      "https://www.google.com/search?q=Nasdaq&sca_esv=556524961&tbas=0&biw=800&bih=600&source=lnt&tbs=cdr%3A1%2Ccd_min%3A3%2F23%2F2022%2Ccd_max%3A3%2F23%2F2022&tbm=nws\n",
      "https://www.google.com/search?q=Nasdaq&sca_esv=556524961&tbas=0&tbs=cdr:1,cd_min:3/23/2022,cd_max:3/23/2022&tbm=nws&ei=y7XZZMCAFMeNoAS1gbOoDQ&start=10&sa=N&ved=2ahUKEwiAktfxr9uAAxXHBogKHbXADNUQ8NMDegQIAhAK&biw=800&bih=600&dpr=1\n",
      "https://www.google.com/search?q=Nasdaq&sca_esv=556524961&tbas=0&tbs=cdr:1,cd_min:3/23/2022,cd_max:3/23/2022&tbm=nws&ei=zLXZZIicE7Sj1e8P5-uiiAM&start=20&sa=N&ved=2ahUKEwiIspPyr9uAAxW0UfUHHee1CDE4ChDw0wN6BAgDEAs&biw=800&bih=600&dpr=1\n",
      "크롤링 준비\n"
     ]
    },
    {
     "name": "stderr",
     "output_type": "stream",
     "text": [
      "\n",
      "\n",
      "preprocessing day:  74%|██████████████████████████████████████████████▋                | 23/31 [03:58<01:21, 10.23s/it]\u001b[A\u001b[A"
     ]
    },
    {
     "name": "stdout",
     "output_type": "stream",
     "text": [
      "다음날짜로 선택시작\n",
      "다음 날짜 선택 후 크롤링 준비\n",
      "https://www.google.com/search?q=Nasdaq&sca_esv=556524961&tbas=0&biw=800&bih=600&source=lnt&tbs=cdr%3A1%2Ccd_min%3A3%2F24%2F2022%2Ccd_max%3A3%2F24%2F2022&tbm=nws\n",
      "https://www.google.com/search?q=Nasdaq&sca_esv=556524961&tbas=0&tbs=cdr:1,cd_min:3/24/2022,cd_max:3/24/2022&tbm=nws&ei=1bXZZI-hB4SQoASQnZfgBA&start=10&sa=N&ved=2ahUKEwjP36z2r9uAAxUECIgKHZDOBUwQ8NMDegQIAxAI&biw=800&bih=600&dpr=1\n",
      "https://www.google.com/search?q=Nasdaq&sca_esv=556524961&tbas=0&tbs=cdr:1,cd_min:3/24/2022,cd_max:3/24/2022&tbm=nws&ei=1rXZZIuMEvXQ1e8P45CfmAM&start=20&sa=N&ved=2ahUKEwiLz_T2r9uAAxV1aPUHHWPIBzM4ChDw0wN6BAgCEAk&biw=800&bih=600&dpr=1\n",
      "크롤링 준비\n"
     ]
    },
    {
     "name": "stderr",
     "output_type": "stream",
     "text": [
      "\n",
      "\n",
      "preprocessing day:  77%|████████████████████████████████████████████████▊              | 24/31 [04:09<01:11, 10.25s/it]\u001b[A\u001b[A"
     ]
    },
    {
     "name": "stdout",
     "output_type": "stream",
     "text": [
      "다음날짜로 선택시작\n",
      "다음 날짜 선택 후 크롤링 준비\n",
      "https://www.google.com/search?q=Nasdaq&sca_esv=556524961&tbas=0&biw=800&bih=600&source=lnt&tbs=cdr%3A1%2Ccd_min%3A3%2F25%2F2022%2Ccd_max%3A3%2F25%2F2022&tbm=nws\n",
      "https://www.google.com/search?q=Nasdaq&sca_esv=556524961&tbas=0&tbs=cdr:1,cd_min:3/25/2022,cd_max:3/25/2022&tbm=nws&ei=37XZZMfnHcrl1e8Pna-2iAY&start=10&sa=N&ved=2ahUKEwiH06X7r9uAAxXKcvUHHZ2XDWEQ8NMDegQIAhAI&biw=800&bih=600&dpr=1\n",
      "https://www.google.com/search?q=Nasdaq&sca_esv=556524961&tbas=0&tbs=cdr:1,cd_min:3/25/2022,cd_max:3/25/2022&tbm=nws&ei=4LXZZNS3H4nf-Qbulby4DQ&start=20&sa=N&ved=2ahUKEwjUp-T7r9uAAxWJb94KHe4KD9c4ChDw0wN6BAgDEAk&biw=800&bih=600&dpr=1\n",
      "크롤링 준비\n"
     ]
    },
    {
     "name": "stderr",
     "output_type": "stream",
     "text": [
      "\n",
      "\n",
      "preprocessing day:  81%|██████████████████████████████████████████████████▊            | 25/31 [04:18<01:00, 10.08s/it]\u001b[A\u001b[A"
     ]
    },
    {
     "name": "stdout",
     "output_type": "stream",
     "text": [
      "다음날짜로 선택시작\n",
      "다음 날짜 선택 후 크롤링 준비\n",
      "https://www.google.com/search?q=Nasdaq&sca_esv=556524961&tbas=0&biw=800&bih=600&source=lnt&tbs=cdr%3A1%2Ccd_min%3A3%2F26%2F2022%2Ccd_max%3A3%2F26%2F2022&tbm=nws\n",
      "https://www.google.com/search?q=Nasdaq&sca_esv=556524961&tbas=0&tbs=cdr:1,cd_min:3/26/2022,cd_max:3/26/2022&tbm=nws&ei=6bXZZP2CB9jV1e8Pkf64yAM&start=10&sa=N&ved=2ahUKEwi9m_H_r9uAAxXYavUHHRE_DjkQ8NMDegQIBBAG&biw=800&bih=600&dpr=1\n",
      "Next button not found. Exiting loop.\n",
      "크롤링 준비\n"
     ]
    },
    {
     "name": "stderr",
     "output_type": "stream",
     "text": [
      "\n",
      "\n",
      "preprocessing day:  84%|████████████████████████████████████████████████████▊          | 26/31 [04:32<00:56, 11.21s/it]\u001b[A\u001b[A"
     ]
    },
    {
     "name": "stdout",
     "output_type": "stream",
     "text": [
      "다음날짜로 선택시작\n",
      "다음 날짜 선택 후 크롤링 준비\n",
      "https://www.google.com/search?q=Nasdaq&sca_esv=556524961&tbas=0&biw=800&bih=600&source=lnt&tbs=cdr%3A1%2Ccd_min%3A3%2F27%2F2022%2Ccd_max%3A3%2F27%2F2022&tbm=nws\n",
      "Next button not found. Exiting loop.\n",
      "크롤링 준비\n"
     ]
    },
    {
     "name": "stderr",
     "output_type": "stream",
     "text": [
      "\n",
      "\n",
      "preprocessing day:  87%|██████████████████████████████████████████████████████▊        | 27/31 [04:45<00:47, 11.77s/it]\u001b[A\u001b[A"
     ]
    },
    {
     "name": "stdout",
     "output_type": "stream",
     "text": [
      "다음날짜로 선택시작\n",
      "다음 날짜 선택 후 크롤링 준비\n",
      "https://www.google.com/search?q=Nasdaq&sca_esv=556524961&tbas=0&biw=800&bih=600&source=lnt&tbs=cdr%3A1%2Ccd_min%3A3%2F28%2F2022%2Ccd_max%3A3%2F28%2F2022&tbm=nws\n",
      "https://www.google.com/search?q=Nasdaq&sca_esv=556524961&tbas=0&tbs=cdr:1,cd_min:3/28/2022,cd_max:3/28/2022&tbm=nws&ei=BLbZZOylB4f5hwOe96OADw&start=10&sa=N&ved=2ahUKEwjst-GMsNuAAxWH_GEKHZ77CPAQ8NMDegQIAhAK&biw=800&bih=600&dpr=1\n",
      "https://www.google.com/search?q=Nasdaq&sca_esv=556524961&tbas=0&tbs=cdr:1,cd_min:3/28/2022,cd_max:3/28/2022&tbm=nws&ei=BLbZZJL3L5bZ1e8P6YWAqAY&start=20&sa=N&ved=2ahUKEwiSiYqNsNuAAxWWbPUHHekCAGU4ChDw0wN6BAgEEAs&biw=800&bih=600&dpr=1\n",
      "크롤링 준비\n"
     ]
    },
    {
     "name": "stderr",
     "output_type": "stream",
     "text": [
      "\n",
      "\n",
      "preprocessing day:  90%|████████████████████████████████████████████████████████▉      | 28/31 [04:55<00:33, 11.11s/it]\u001b[A\u001b[A"
     ]
    },
    {
     "name": "stdout",
     "output_type": "stream",
     "text": [
      "다음날짜로 선택시작\n",
      "다음 날짜 선택 후 크롤링 준비\n",
      "https://www.google.com/search?q=Nasdaq&sca_esv=556524961&tbas=0&biw=800&bih=600&source=lnt&tbs=cdr%3A1%2Ccd_min%3A3%2F29%2F2022%2Ccd_max%3A3%2F29%2F2022&tbm=nws\n",
      "https://www.google.com/search?q=Nasdaq&sca_esv=556524961&tbas=0&tbs=cdr:1,cd_min:3/29/2022,cd_max:3/29/2022&tbm=nws&ei=DbbZZP7RLIPg1e8PwL6DkA8&start=10&sa=N&ved=2ahUKEwi-jKyRsNuAAxUDcPUHHUDfAPIQ8NMDegQIAxAK&biw=800&bih=600&dpr=1\n",
      "https://www.google.com/search?q=Nasdaq&sca_esv=556524961&tbas=0&tbs=cdr:1,cd_min:3/29/2022,cd_max:3/29/2022&tbm=nws&ei=DrbZZIPnK4aohwO9_o3gDg&start=20&sa=N&ved=2ahUKEwiDpuiRsNuAAxUG1GEKHT1_A-w4ChDw0wN6BAgEEAs&biw=800&bih=600&dpr=1\n",
      "크롤링 준비\n"
     ]
    },
    {
     "name": "stderr",
     "output_type": "stream",
     "text": [
      "\n",
      "\n",
      "preprocessing day:  94%|██████████████████████████████████████████████████████████▉    | 29/31 [05:04<00:21, 10.68s/it]\u001b[A\u001b[A"
     ]
    },
    {
     "name": "stdout",
     "output_type": "stream",
     "text": [
      "다음날짜로 선택시작\n",
      "다음 날짜 선택 후 크롤링 준비\n",
      "https://www.google.com/search?q=Nasdaq&sca_esv=556524961&tbas=0&biw=800&bih=600&source=lnt&tbs=cdr%3A1%2Ccd_min%3A3%2F30%2F2022%2Ccd_max%3A3%2F30%2F2022&tbm=nws\n",
      "https://www.google.com/search?q=Nasdaq&sca_esv=556524961&tbas=0&tbs=cdr:1,cd_min:3/30/2022,cd_max:3/30/2022&tbm=nws&ei=F7bZZI3-D_L31e8P_9O26AM&start=10&sa=N&ved=2ahUKEwjN5fGVsNuAAxXye_UHHf-pDT0Q8NMDegQIBBAI&biw=800&bih=600&dpr=1\n",
      "https://www.google.com/search?q=Nasdaq&sca_esv=556524961&tbas=0&tbs=cdr:1,cd_min:3/30/2022,cd_max:3/30/2022&tbm=nws&ei=F7bZZMq0O7qn1e8Pj9m_qAo&start=20&sa=N&ved=2ahUKEwiKnJ2WsNuAAxW6U_UHHY_sD6U4ChDw0wN6BAgDEAk&biw=800&bih=600&dpr=1\n",
      "크롤링 준비\n"
     ]
    },
    {
     "name": "stderr",
     "output_type": "stream",
     "text": [
      "\n",
      "\n",
      "preprocessing day:  97%|████████████████████████████████████████████████████████████▉  | 30/31 [05:14<00:10, 10.26s/it]\u001b[A\u001b[A"
     ]
    },
    {
     "name": "stdout",
     "output_type": "stream",
     "text": [
      "다음날짜로 선택시작\n",
      "다음 날짜 선택 후 크롤링 준비\n",
      "https://www.google.com/search?q=Nasdaq&sca_esv=556524961&tbas=0&biw=800&bih=600&source=lnt&tbs=cdr%3A1%2Ccd_min%3A3%2F31%2F2022%2Ccd_max%3A3%2F31%2F2022&tbm=nws\n",
      "https://www.google.com/search?q=Nasdaq&sca_esv=556524961&tbas=0&tbs=cdr:1,cd_min:3/31/2022,cd_max:3/31/2022&tbm=nws&ei=ILbZZIv4IuTN1e8PwIiMqA0&start=10&sa=N&ved=2ahUKEwiLiKqasNuAAxXkZvUHHUAEA9UQ8NMDegQIAxAI&biw=800&bih=600&dpr=1\n",
      "https://www.google.com/search?q=Nasdaq&sca_esv=556524961&tbas=0&tbs=cdr:1,cd_min:3/31/2022,cd_max:3/31/2022&tbm=nws&ei=IbbZZL_zFpjh-Aa9nafoBw&start=20&sa=N&ved=2ahUKEwj_h9uasNuAAxWYMN4KHb3OCX04ChDw0wN6BAgCEAk&biw=800&bih=600&dpr=1\n",
      "크롤링 준비\n"
     ]
    },
    {
     "name": "stderr",
     "output_type": "stream",
     "text": [
      "\n",
      "\n",
      "preprocessing day: 100%|███████████████████████████████████████████████████████████████| 31/31 [05:23<00:00, 10.43s/it]\u001b[A\u001b[A\n",
      "\n",
      "preprocessing month:  25%|███████████████▎                                             | 3/12 [16:44<49:52, 332.49s/it]\u001b[A"
     ]
    },
    {
     "name": "stdout",
     "output_type": "stream",
     "text": [
      "다음날짜로 선택시작\n"
     ]
    },
    {
     "name": "stderr",
     "output_type": "stream",
     "text": [
      "\n",
      "\n",
      "preprocessing day:   0%|                                                                        | 0/31 [00:00<?, ?it/s]\u001b[A\u001b[A"
     ]
    },
    {
     "name": "stdout",
     "output_type": "stream",
     "text": [
      "다음 날짜 선택 후 크롤링 준비\n",
      "https://www.google.com/search?q=Nasdaq&sca_esv=556524961&tbas=0&biw=800&bih=600&source=lnt&tbs=cdr%3A1%2Ccd_min%3A4%2F1%2F2022%2Ccd_max%3A4%2F1%2F2022&tbm=nws\n",
      "https://www.google.com/search?q=Nasdaq&sca_esv=556524961&tbas=0&tbs=cdr:1,cd_min:4/1/2022,cd_max:4/1/2022&tbm=nws&ei=KbbZZJHGNYyOoATVoLzgBA&start=10&sa=N&ved=2ahUKEwjR_uGesNuAAxUMB4gKHVUQD0wQ8NMDegQIAxAG&biw=800&bih=600&dpr=1\n",
      "Next button not found. Exiting loop.\n",
      "크롤링 준비\n"
     ]
    },
    {
     "name": "stderr",
     "output_type": "stream",
     "text": [
      "\n",
      "\n",
      "preprocessing day:   3%|██                                                              | 1/31 [00:13<06:37, 13.24s/it]\u001b[A\u001b[A"
     ]
    },
    {
     "name": "stdout",
     "output_type": "stream",
     "text": [
      "다음날짜로 선택시작\n",
      "다음 날짜 선택 후 크롤링 준비\n",
      "https://www.google.com/search?q=Nasdaq&sca_esv=556524961&tbas=0&biw=800&bih=600&source=lnt&tbs=cdr%3A1%2Ccd_min%3A4%2F2%2F2022%2Ccd_max%3A4%2F2%2F2022&tbm=nws\n",
      "https://www.google.com/search?q=Nasdaq&sca_esv=556524961&tbas=0&tbs=cdr:1,cd_min:4/2/2022,cd_max:4/2/2022&tbm=nws&ei=N7bZZL--BdPo-Abmh62ADg&start=10&sa=N&ved=2ahUKEwj_tYilsNuAAxVTNN4KHeZDC-AQ8NMDegQIAhAG&biw=800&bih=600&dpr=1\n",
      "Next button not found. Exiting loop.\n",
      "크롤링 준비\n"
     ]
    },
    {
     "name": "stderr",
     "output_type": "stream",
     "text": [
      "\n",
      "\n",
      "preprocessing day:   6%|████▏                                                           | 2/31 [00:26<06:28, 13.38s/it]\u001b[A\u001b[A"
     ]
    },
    {
     "name": "stdout",
     "output_type": "stream",
     "text": [
      "다음날짜로 선택시작\n",
      "다음 날짜 선택 후 크롤링 준비\n",
      "https://www.google.com/search?q=Nasdaq&sca_esv=556524961&tbas=0&biw=800&bih=600&source=lnt&tbs=cdr%3A1%2Ccd_min%3A4%2F3%2F2022%2Ccd_max%3A4%2F3%2F2022&tbm=nws\n",
      "Next button not found. Exiting loop.\n",
      "크롤링 준비\n"
     ]
    },
    {
     "name": "stderr",
     "output_type": "stream",
     "text": [
      "\n",
      "\n",
      "preprocessing day:  10%|██████▏                                                         | 3/31 [00:39<06:12, 13.30s/it]\u001b[A\u001b[A"
     ]
    },
    {
     "name": "stdout",
     "output_type": "stream",
     "text": [
      "다음날짜로 선택시작\n",
      "다음 날짜 선택 후 크롤링 준비\n",
      "https://www.google.com/search?q=Nasdaq&sca_esv=556524961&tbas=0&biw=800&bih=600&source=lnt&tbs=cdr%3A1%2Ccd_min%3A4%2F4%2F2022%2Ccd_max%3A4%2F4%2F2022&tbm=nws\n",
      "https://www.google.com/search?q=Nasdaq&sca_esv=556524961&tbas=0&tbs=cdr:1,cd_min:4/4/2022,cd_max:4/4/2022&tbm=nws&ei=UbbZZJbvL8Gn-QbE44LABw&start=10&sa=N&ved=2ahUKEwjW2-WxsNuAAxXBU94KHcSxAHgQ8NMDegQIAhAK&biw=800&bih=600&dpr=1\n",
      "https://www.google.com/search?q=Nasdaq&sca_esv=556524961&tbas=0&tbs=cdr:1,cd_min:4/4/2022,cd_max:4/4/2022&tbm=nws&ei=UrbZZKn4HIuo-QaP2bm4DA&start=20&sa=N&ved=2ahUKEwip6Y-ysNuAAxULVN4KHY9sDsc4ChDw0wN6BAgDEAs&biw=800&bih=600&dpr=1\n",
      "크롤링 준비\n"
     ]
    },
    {
     "name": "stderr",
     "output_type": "stream",
     "text": [
      "\n",
      "\n",
      "preprocessing day:  13%|████████▎                                                       | 4/31 [00:49<05:16, 11.74s/it]\u001b[A\u001b[A"
     ]
    },
    {
     "name": "stdout",
     "output_type": "stream",
     "text": [
      "다음날짜로 선택시작\n",
      "다음 날짜 선택 후 크롤링 준비\n",
      "https://www.google.com/search?q=Nasdaq&sca_esv=556524961&tbas=0&biw=800&bih=600&source=lnt&tbs=cdr%3A1%2Ccd_min%3A4%2F5%2F2022%2Ccd_max%3A4%2F5%2F2022&tbm=nws\n",
      "https://www.google.com/search?q=Nasdaq&sca_esv=556524961&tbas=0&tbs=cdr:1,cd_min:4/5/2022,cd_max:4/5/2022&tbm=nws&ei=W7bZZNKZDZDy-Qb4rJWwDA&start=10&sa=N&ved=2ahUKEwiSs6W2sNuAAxUQed4KHXhWBcYQ8NMDegQIAxAK&biw=800&bih=600&dpr=1\n",
      "https://www.google.com/search?q=Nasdaq&sca_esv=556524961&tbas=0&tbs=cdr:1,cd_min:4/5/2022,cd_max:4/5/2022&tbm=nws&ei=W7bZZOiOMpDc1e8PodSdqA4&start=20&sa=N&ved=2ahUKEwioqMq2sNuAAxUQbvUHHSFqB-U4ChDw0wN6BAgDEAs&biw=800&bih=600&dpr=1\n",
      "크롤링 준비\n"
     ]
    },
    {
     "name": "stderr",
     "output_type": "stream",
     "text": [
      "\n",
      "\n",
      "preprocessing day:  16%|██████████▎                                                     | 5/31 [00:58<04:38, 10.72s/it]\u001b[A\u001b[A"
     ]
    },
    {
     "name": "stdout",
     "output_type": "stream",
     "text": [
      "다음날짜로 선택시작\n",
      "다음 날짜 선택 후 크롤링 준비\n",
      "https://www.google.com/search?q=Nasdaq&sca_esv=556524961&tbas=0&biw=800&bih=600&source=lnt&tbs=cdr%3A1%2Ccd_min%3A4%2F6%2F2022%2Ccd_max%3A4%2F6%2F2022&tbm=nws\n",
      "https://www.google.com/search?q=Nasdaq&sca_esv=556524961&tbas=0&tbs=cdr:1,cd_min:4/6/2022,cd_max:4/6/2022&tbm=nws&ei=ZLbZZNeSA9e-hwPM7JXgAQ&start=10&sa=N&ved=2ahUKEwjX1MC6sNuAAxVX32EKHUx2BRwQ8NMDegQIBBAI&biw=800&bih=600&dpr=1\n",
      "https://www.google.com/search?q=Nasdaq&sca_esv=556524961&tbas=0&tbs=cdr:1,cd_min:4/6/2022,cd_max:4/6/2022&tbm=nws&ei=ZbbZZJyBBIDb1e8PvoWRiAE&start=20&sa=N&ved=2ahUKEwjcx_66sNuAAxWAbfUHHb5CBBE4ChDw0wN6BAgDEAk&biw=800&bih=600&dpr=1\n",
      "크롤링 준비\n"
     ]
    },
    {
     "name": "stderr",
     "output_type": "stream",
     "text": [
      "\n",
      "\n",
      "preprocessing day:  19%|████████████▍                                                   | 6/31 [01:08<04:20, 10.43s/it]\u001b[A\u001b[A"
     ]
    },
    {
     "name": "stdout",
     "output_type": "stream",
     "text": [
      "다음날짜로 선택시작\n",
      "다음 날짜 선택 후 크롤링 준비\n",
      "https://www.google.com/search?q=Nasdaq&sca_esv=556524961&tbas=0&biw=800&bih=600&source=lnt&tbs=cdr%3A1%2Ccd_min%3A4%2F7%2F2022%2Ccd_max%3A4%2F7%2F2022&tbm=nws\n",
      "https://www.google.com/search?q=Nasdaq&sca_esv=556524961&tbas=0&tbs=cdr:1,cd_min:4/7/2022,cd_max:4/7/2022&tbm=nws&ei=bbbZZN2VO5D_hwOO8IPACA&start=10&sa=N&ved=2ahUKEwidgJ6_sNuAAxWQ_2EKHQ74AIgQ8NMDegQIBBAI&biw=800&bih=600&dpr=1\n",
      "https://www.google.com/search?q=Nasdaq&sca_esv=556524961&tbas=0&tbs=cdr:1,cd_min:4/7/2022,cd_max:4/7/2022&tbm=nws&ei=brbZZKT_NuHs1e8P88CIiAY&start=20&sa=N&ved=2ahUKEwik7ta_sNuAAxVhdvUHHXMgAmE4ChDw0wN6BAgCEAk&biw=800&bih=600&dpr=1\n",
      "크롤링 준비\n"
     ]
    },
    {
     "name": "stderr",
     "output_type": "stream",
     "text": [
      "\n",
      "\n",
      "preprocessing day:  23%|██████████████▍                                                 | 7/31 [01:17<04:04, 10.19s/it]\u001b[A\u001b[A"
     ]
    },
    {
     "name": "stdout",
     "output_type": "stream",
     "text": [
      "다음날짜로 선택시작\n",
      "다음 날짜 선택 후 크롤링 준비\n",
      "https://www.google.com/search?q=Nasdaq&sca_esv=556524961&tbas=0&biw=800&bih=600&source=lnt&tbs=cdr%3A1%2Ccd_min%3A4%2F8%2F2022%2Ccd_max%3A4%2F8%2F2022&tbm=nws\n",
      "https://www.google.com/search?q=Nasdaq&sca_esv=556524961&tbas=0&tbs=cdr:1,cd_min:4/8/2022,cd_max:4/8/2022&tbm=nws&ei=d7bZZKXHJbXI1e8Prv6RqAU&start=10&sa=N&ved=2ahUKEwjl3urDsNuAAxU1ZPUHHS5_BFUQ8NMDegQIBBAI&biw=800&bih=600&dpr=1\n",
      "https://www.google.com/search?q=Nasdaq&sca_esv=556524961&tbas=0&tbs=cdr:1,cd_min:4/8/2022,cd_max:4/8/2022&tbm=nws&ei=eLbZZKj2K4aohwO9_o3gDg&start=20&sa=N&ved=2ahUKEwiokq7EsNuAAxUG1GEKHT1_A-w4ChDw0wN6BAgEEAk&biw=800&bih=600&dpr=1\n",
      "크롤링 준비\n"
     ]
    },
    {
     "name": "stderr",
     "output_type": "stream",
     "text": [
      "\n",
      "\n",
      "preprocessing day:  26%|████████████████▌                                               | 8/31 [01:27<03:52, 10.12s/it]\u001b[A\u001b[A"
     ]
    },
    {
     "name": "stdout",
     "output_type": "stream",
     "text": [
      "다음날짜로 선택시작\n",
      "다음 날짜 선택 후 크롤링 준비\n",
      "https://www.google.com/search?q=Nasdaq&sca_esv=556524961&tbas=0&biw=800&bih=600&source=lnt&tbs=cdr%3A1%2Ccd_min%3A4%2F9%2F2022%2Ccd_max%3A4%2F9%2F2022&tbm=nws\n",
      "Next button not found. Exiting loop.\n",
      "크롤링 준비\n"
     ]
    },
    {
     "name": "stderr",
     "output_type": "stream",
     "text": [
      "\n",
      "\n",
      "preprocessing day:  29%|██████████████████▌                                             | 9/31 [01:40<04:03, 11.07s/it]\u001b[A\u001b[A"
     ]
    },
    {
     "name": "stdout",
     "output_type": "stream",
     "text": [
      "다음날짜로 선택시작\n",
      "다음 날짜 선택 후 크롤링 준비\n",
      "https://www.google.com/search?q=Nasdaq&sca_esv=556524961&tbas=0&biw=800&bih=600&source=lnt&tbs=cdr%3A1%2Ccd_min%3A4%2F10%2F2022%2Ccd_max%3A4%2F10%2F2022&tbm=nws\n",
      "Next button not found. Exiting loop.\n",
      "크롤링 준비\n"
     ]
    },
    {
     "name": "stderr",
     "output_type": "stream",
     "text": [
      "\n",
      "\n",
      "preprocessing day:  32%|████████████████████▎                                          | 10/31 [01:54<04:06, 11.73s/it]\u001b[A\u001b[A"
     ]
    },
    {
     "name": "stdout",
     "output_type": "stream",
     "text": [
      "다음날짜로 선택시작\n",
      "다음 날짜 선택 후 크롤링 준비\n",
      "https://www.google.com/search?q=Nasdaq&sca_esv=556524961&tbas=0&biw=800&bih=600&source=lnt&tbs=cdr%3A1%2Ccd_min%3A4%2F11%2F2022%2Ccd_max%3A4%2F11%2F2022&tbm=nws\n",
      "https://www.google.com/search?q=Nasdaq&sca_esv=556524961&tbas=0&tbs=cdr:1,cd_min:4/11/2022,cd_max:4/11/2022&tbm=nws&ei=nLbZZJOuAsuwoATZpa-YAg&start=10&sa=N&ved=2ahUKEwiT7JnVsNuAAxVLGIgKHdnSCyMQ8NMDegQIBBAK&biw=800&bih=600&dpr=1\n",
      "https://www.google.com/search?q=Nasdaq&sca_esv=556524961&tbas=0&tbs=cdr:1,cd_min:4/11/2022,cd_max:4/11/2022&tbm=nws&ei=nLbZZIXmK5Hx-Qa6qIa4CQ&start=20&sa=N&ved=2ahUKEwiFpMPVsNuAAxWReN4KHTqUAZc4ChDw0wN6BAgCEAs&biw=800&bih=600&dpr=1\n",
      "크롤링 준비\n"
     ]
    },
    {
     "name": "stderr",
     "output_type": "stream",
     "text": [
      "\n",
      "\n",
      "preprocessing day:  35%|██████████████████████▎                                        | 11/31 [02:03<03:40, 11.04s/it]\u001b[A\u001b[A"
     ]
    },
    {
     "name": "stdout",
     "output_type": "stream",
     "text": [
      "다음날짜로 선택시작\n",
      "다음 날짜 선택 후 크롤링 준비\n",
      "https://www.google.com/search?q=Nasdaq&sca_esv=556524961&tbas=0&biw=800&bih=600&source=lnt&tbs=cdr%3A1%2Ccd_min%3A4%2F12%2F2022%2Ccd_max%3A4%2F12%2F2022&tbm=nws\n",
      "https://www.google.com/search?q=Nasdaq&sca_esv=556524961&tbas=0&tbs=cdr:1,cd_min:4/12/2022,cd_max:4/12/2022&tbm=nws&ei=pbbZZIv-GMjd1e8PxeyF2A8&start=10&sa=N&ved=2ahUKEwjL5NXZsNuAAxXIbvUHHUV2AfsQ8NMDegQIBBAI&biw=800&bih=600&dpr=1\n",
      "https://www.google.com/search?q=Nasdaq&sca_esv=556524961&tbas=0&tbs=cdr:1,cd_min:4/12/2022,cd_max:4/12/2022&tbm=nws&ei=prbZZMWrBcbK-QaH2ouABw&start=20&sa=N&ved=2ahUKEwjFlv_ZsNuAAxVGZd4KHQftAnA4ChDw0wN6BAgDEAk&biw=800&bih=600&dpr=1\n",
      "크롤링 준비\n"
     ]
    },
    {
     "name": "stderr",
     "output_type": "stream",
     "text": [
      "\n",
      "\n",
      "preprocessing day:  39%|████████████████████████▍                                      | 12/31 [02:12<03:20, 10.53s/it]\u001b[A\u001b[A"
     ]
    },
    {
     "name": "stdout",
     "output_type": "stream",
     "text": [
      "다음날짜로 선택시작\n",
      "다음 날짜 선택 후 크롤링 준비\n",
      "https://www.google.com/search?q=Nasdaq&sca_esv=556524961&tbas=0&biw=800&bih=600&source=lnt&tbs=cdr%3A1%2Ccd_min%3A4%2F13%2F2022%2Ccd_max%3A4%2F13%2F2022&tbm=nws\n",
      "https://www.google.com/search?q=Nasdaq&sca_esv=556524961&tbas=0&tbs=cdr:1,cd_min:4/13/2022,cd_max:4/13/2022&tbm=nws&ei=rrbZZOKKLpaB1e8PktCqCA&start=10&sa=N&ved=2ahUKEwjimZDesNuAAxWWQPUHHRKoCgEQ8NMDegQIAhAK&biw=800&bih=600&dpr=1\n",
      "https://www.google.com/search?q=Nasdaq&sca_esv=556524961&tbas=0&tbs=cdr:1,cd_min:4/13/2022,cd_max:4/13/2022&tbm=nws&ei=r7bZZILbHJaB1e8PktCqCA&start=20&sa=N&ved=2ahUKEwjC7rvesNuAAxWWQPUHHRKoCgE4ChDw0wN6BAgCEAs&biw=800&bih=600&dpr=1\n",
      "크롤링 준비\n"
     ]
    },
    {
     "name": "stderr",
     "output_type": "stream",
     "text": [
      "\n",
      "\n",
      "preprocessing day:  42%|██████████████████████████▍                                    | 13/31 [02:22<03:04, 10.24s/it]\u001b[A\u001b[A"
     ]
    },
    {
     "name": "stdout",
     "output_type": "stream",
     "text": [
      "다음날짜로 선택시작\n",
      "다음 날짜 선택 후 크롤링 준비\n",
      "https://www.google.com/search?q=Nasdaq&sca_esv=556524961&tbas=0&biw=800&bih=600&source=lnt&tbs=cdr%3A1%2Ccd_min%3A4%2F14%2F2022%2Ccd_max%3A4%2F14%2F2022&tbm=nws\n",
      "https://www.google.com/search?q=Nasdaq&sca_esv=556524961&tbas=0&tbs=cdr:1,cd_min:4/14/2022,cd_max:4/14/2022&tbm=nws&ei=uLbZZNG1GdKl-QaXirPYCA&start=10&sa=N&ved=2ahUKEwjR8d3isNuAAxXSUt4KHRfFDIsQ8NMDegQIAxAI&biw=800&bih=600&dpr=1\n",
      "https://www.google.com/search?q=Nasdaq&sca_esv=556524961&tbas=0&tbs=cdr:1,cd_min:4/14/2022,cd_max:4/14/2022&tbm=nws&ei=ubbZZIypD8zW1e8PpZGmsAM&start=20&sa=N&ved=2ahUKEwjM6ZDjsNuAAxVMa_UHHaWICTY4ChDw0wN6BAgEEAk&biw=800&bih=600&dpr=1\n",
      "크롤링 준비\n"
     ]
    },
    {
     "name": "stderr",
     "output_type": "stream",
     "text": [
      "\n",
      "\n",
      "preprocessing day:  45%|████████████████████████████▍                                  | 14/31 [02:32<02:51, 10.10s/it]\u001b[A\u001b[A"
     ]
    },
    {
     "name": "stdout",
     "output_type": "stream",
     "text": [
      "다음날짜로 선택시작\n",
      "다음 날짜 선택 후 크롤링 준비\n",
      "https://www.google.com/search?q=Nasdaq&sca_esv=556524961&tbas=0&biw=800&bih=600&source=lnt&tbs=cdr%3A1%2Ccd_min%3A4%2F15%2F2022%2Ccd_max%3A4%2F15%2F2022&tbm=nws\n",
      "https://www.google.com/search?q=Nasdaq&sca_esv=556524961&tbas=0&tbs=cdr:1,cd_min:4/15/2022,cd_max:4/15/2022&tbm=nws&ei=wrbZZKyHCcCB1e8Pjpa94AU&start=10&sa=N&ved=2ahUKEwis8K_nsNuAAxXAQPUHHQ5LD1wQ8NMDegQIAhAG&biw=800&bih=600&dpr=1\n",
      "Next button not found. Exiting loop.\n",
      "크롤링 준비\n"
     ]
    },
    {
     "name": "stderr",
     "output_type": "stream",
     "text": [
      "\n",
      "\n",
      "preprocessing day:  48%|██████████████████████████████▍                                | 15/31 [02:46<02:59, 11.24s/it]\u001b[A\u001b[A"
     ]
    },
    {
     "name": "stdout",
     "output_type": "stream",
     "text": [
      "다음날짜로 선택시작\n",
      "다음 날짜 선택 후 크롤링 준비\n",
      "https://www.google.com/search?q=Nasdaq&sca_esv=556524961&tbas=0&biw=800&bih=600&source=lnt&tbs=cdr%3A1%2Ccd_min%3A4%2F16%2F2022%2Ccd_max%3A4%2F16%2F2022&tbm=nws\n",
      "Next button not found. Exiting loop.\n",
      "크롤링 준비\n"
     ]
    },
    {
     "name": "stderr",
     "output_type": "stream",
     "text": [
      "\n",
      "\n",
      "preprocessing day:  52%|████████████████████████████████▌                              | 16/31 [02:59<02:57, 11.84s/it]\u001b[A\u001b[A"
     ]
    },
    {
     "name": "stdout",
     "output_type": "stream",
     "text": [
      "다음날짜로 선택시작\n",
      "다음 날짜 선택 후 크롤링 준비\n",
      "https://www.google.com/search?q=Nasdaq&sca_esv=556524961&tbas=0&biw=800&bih=600&source=lnt&tbs=cdr%3A1%2Ccd_min%3A4%2F17%2F2022%2Ccd_max%3A4%2F17%2F2022&tbm=nws\n",
      "Next button not found. Exiting loop.\n",
      "크롤링 준비\n"
     ]
    },
    {
     "name": "stderr",
     "output_type": "stream",
     "text": [
      "\n",
      "\n",
      "preprocessing day:  55%|██████████████████████████████████▌                            | 17/31 [03:12<02:50, 12.18s/it]\u001b[A\u001b[A"
     ]
    },
    {
     "name": "stdout",
     "output_type": "stream",
     "text": [
      "다음날짜로 선택시작\n",
      "다음 날짜 선택 후 크롤링 준비\n",
      "https://www.google.com/search?q=Nasdaq&sca_esv=556524961&tbas=0&biw=800&bih=600&source=lnt&tbs=cdr%3A1%2Ccd_min%3A4%2F18%2F2022%2Ccd_max%3A4%2F18%2F2022&tbm=nws\n",
      "https://www.google.com/search?q=Nasdaq&sca_esv=556524961&tbas=0&tbs=cdr:1,cd_min:4/18/2022,cd_max:4/18/2022&tbm=nws&ei=6rbZZPyVDI2MoASSz6HQBg&start=10&sa=N&ved=2ahUKEwj8srz6sNuAAxUNBogKHZJnCGoQ8NMDegQIAhAI&biw=800&bih=600&dpr=1\n",
      "https://www.google.com/search?q=Nasdaq&sca_esv=556524961&tbas=0&tbs=cdr:1,cd_min:4/18/2022,cd_max:4/18/2022&tbm=nws&ei=6rbZZMbHNdXp-AaswLigCQ&start=20&sa=N&ved=2ahUKEwjG5OX6sNuAAxXVNN4KHSwgDpQ4ChDw0wN6BAgCEAk&biw=800&bih=600&dpr=1\n",
      "크롤링 준비\n"
     ]
    },
    {
     "name": "stderr",
     "output_type": "stream",
     "text": [
      "\n",
      "\n",
      "preprocessing day:  58%|████████████████████████████████████▌                          | 18/31 [03:22<02:28, 11.44s/it]\u001b[A\u001b[A"
     ]
    },
    {
     "name": "stdout",
     "output_type": "stream",
     "text": [
      "다음날짜로 선택시작\n",
      "다음 날짜 선택 후 크롤링 준비\n",
      "https://www.google.com/search?q=Nasdaq&sca_esv=556524961&tbas=0&biw=800&bih=600&source=lnt&tbs=cdr%3A1%2Ccd_min%3A4%2F19%2F2022%2Ccd_max%3A4%2F19%2F2022&tbm=nws\n",
      "https://www.google.com/search?q=Nasdaq&sca_esv=556524961&tbas=0&tbs=cdr:1,cd_min:4/19/2022,cd_max:4/19/2022&tbm=nws&ei=87bZZKjbNv7l1e8PoPq_6AY&start=10&sa=N&ved=2ahUKEwjooIz_sNuAAxX-cvUHHSD9D20Q8NMDegQIBBAI&biw=800&bih=600&dpr=1\n",
      "https://www.google.com/search?q=Nasdaq&sca_esv=556524961&tbas=0&tbs=cdr:1,cd_min:4/19/2022,cd_max:4/19/2022&tbm=nws&ei=9LbZZJXGI9W2oAS885qQAQ&start=20&sa=N&ved=2ahUKEwiVkLb_sNuAAxVVG4gKHby5BhI4ChDw0wN6BAgCEAk&biw=800&bih=600&dpr=1\n",
      "크롤링 준비\n"
     ]
    },
    {
     "name": "stderr",
     "output_type": "stream",
     "text": [
      "\n",
      "\n",
      "preprocessing day:  61%|██████████████████████████████████████▌                        | 19/31 [03:31<02:10, 10.91s/it]\u001b[A\u001b[A"
     ]
    },
    {
     "name": "stdout",
     "output_type": "stream",
     "text": [
      "다음날짜로 선택시작\n",
      "다음 날짜 선택 후 크롤링 준비\n",
      "https://www.google.com/search?q=Nasdaq&sca_esv=556524961&tbas=0&biw=800&bih=600&source=lnt&tbs=cdr%3A1%2Ccd_min%3A4%2F20%2F2022%2Ccd_max%3A4%2F20%2F2022&tbm=nws\n",
      "https://www.google.com/search?q=Nasdaq&sca_esv=556524961&tbas=0&tbs=cdr:1,cd_min:4/20/2022,cd_max:4/20/2022&tbm=nws&ei=_bbZZPLPJKXh1e8PtaKnWA&start=10&sa=N&ved=2ahUKEwiywtyDsduAAxWlcPUHHTXRCQsQ8NMDegQIAhAK&biw=800&bih=600&dpr=1\n",
      "https://www.google.com/search?q=Nasdaq&sca_esv=556524961&tbas=0&tbs=cdr:1,cd_min:4/20/2022,cd_max:4/20/2022&tbm=nws&ei=_rbZZNSiKZeQhwO19aaoCQ&start=20&sa=N&ved=2ahUKEwjUmZ6EsduAAxUXyGEKHbW6CZU4ChDw0wN6BAgBEAs&biw=800&bih=600&dpr=1\n",
      "크롤링 준비\n"
     ]
    },
    {
     "name": "stderr",
     "output_type": "stream",
     "text": [
      "\n",
      "\n",
      "preprocessing day:  65%|████████████████████████████████████████▋                      | 20/31 [03:41<01:57, 10.70s/it]\u001b[A\u001b[A"
     ]
    },
    {
     "name": "stdout",
     "output_type": "stream",
     "text": [
      "다음날짜로 선택시작\n",
      "다음 날짜 선택 후 크롤링 준비\n",
      "https://www.google.com/search?q=Nasdaq&sca_esv=556524961&tbas=0&biw=800&bih=600&source=lnt&tbs=cdr%3A1%2Ccd_min%3A4%2F21%2F2022%2Ccd_max%3A4%2F21%2F2022&tbm=nws\n",
      "https://www.google.com/search?q=Nasdaq&sca_esv=556524961&tbas=0&tbs=cdr:1,cd_min:4/21/2022,cd_max:4/21/2022&tbm=nws&ei=B7fZZIy5OJLq-AaL-pmIDQ&start=10&sa=N&ved=2ahUKEwjM2NKIsduAAxUSNd4KHQt9BtEQ8NMDegQIBBAI&biw=800&bih=600&dpr=1\n",
      "https://www.google.com/search?q=Nasdaq&sca_esv=556524961&tbas=0&tbs=cdr:1,cd_min:4/21/2022,cd_max:4/21/2022&tbm=nws&ei=CLfZZNyMMabg1e8P4_iauA8&start=20&sa=N&ved=2ahUKEwjcsIiJsduAAxUmcPUHHWO8Bvc4ChDw0wN6BAgDEAk&biw=800&bih=600&dpr=1\n",
      "크롤링 준비\n"
     ]
    },
    {
     "name": "stderr",
     "output_type": "stream",
     "text": [
      "\n",
      "\n",
      "preprocessing day:  68%|██████████████████████████████████████████▋                    | 21/31 [03:51<01:44, 10.43s/it]\u001b[A\u001b[A"
     ]
    },
    {
     "name": "stdout",
     "output_type": "stream",
     "text": [
      "다음날짜로 선택시작\n",
      "다음 날짜 선택 후 크롤링 준비\n",
      "https://www.google.com/search?q=Nasdaq&sca_esv=556524961&tbas=0&biw=800&bih=600&source=lnt&tbs=cdr%3A1%2Ccd_min%3A4%2F22%2F2022%2Ccd_max%3A4%2F22%2F2022&tbm=nws\n",
      "https://www.google.com/search?q=Nasdaq&sca_esv=556524961&tbas=0&tbs=cdr:1,cd_min:4/22/2022,cd_max:4/22/2022&tbm=nws&ei=EbfZZOTaJoXt1e8Py4iqoA8&start=10&sa=N&ved=2ahUKEwikp6ONsduAAxWFdvUHHUuECvQQ8NMDegQIAhAI&biw=800&bih=600&dpr=1\n",
      "https://www.google.com/search?q=Nasdaq&sca_esv=556524961&tbas=0&tbs=cdr:1,cd_min:4/22/2022,cd_max:4/22/2022&tbm=nws&ei=ErfZZMm2H_Lt1e8PkrGC-Ac&start=20&sa=N&ved=2ahUKEwjJh9mNsduAAxXydvUHHZKYAH84ChDw0wN6BAgDEAk&biw=800&bih=600&dpr=1\n",
      "크롤링 준비\n"
     ]
    },
    {
     "name": "stderr",
     "output_type": "stream",
     "text": [
      "\n",
      "\n",
      "preprocessing day:  71%|████████████████████████████████████████████▋                  | 22/31 [04:00<01:30, 10.05s/it]\u001b[A\u001b[A"
     ]
    },
    {
     "name": "stdout",
     "output_type": "stream",
     "text": [
      "다음날짜로 선택시작\n",
      "다음 날짜 선택 후 크롤링 준비\n",
      "https://www.google.com/search?q=Nasdaq&sca_esv=556524961&tbas=0&biw=800&bih=600&source=lnt&tbs=cdr%3A1%2Ccd_min%3A4%2F23%2F2022%2Ccd_max%3A4%2F23%2F2022&tbm=nws\n",
      "Next button not found. Exiting loop.\n",
      "크롤링 준비\n"
     ]
    },
    {
     "name": "stderr",
     "output_type": "stream",
     "text": [
      "\n",
      "\n",
      "preprocessing day:  74%|██████████████████████████████████████████████▋                | 23/31 [04:14<01:27, 10.96s/it]\u001b[A\u001b[A"
     ]
    },
    {
     "name": "stdout",
     "output_type": "stream",
     "text": [
      "다음날짜로 선택시작\n",
      "다음 날짜 선택 후 크롤링 준비\n",
      "https://www.google.com/search?q=Nasdaq&sca_esv=556524961&tbas=0&biw=800&bih=600&source=lnt&tbs=cdr%3A1%2Ccd_min%3A4%2F24%2F2022%2Ccd_max%3A4%2F24%2F2022&tbm=nws\n",
      "Next button not found. Exiting loop.\n",
      "크롤링 준비\n"
     ]
    },
    {
     "name": "stderr",
     "output_type": "stream",
     "text": [
      "\n",
      "\n",
      "preprocessing day:  77%|████████████████████████████████████████████████▊              | 24/31 [04:27<01:21, 11.67s/it]\u001b[A\u001b[A"
     ]
    },
    {
     "name": "stdout",
     "output_type": "stream",
     "text": [
      "다음날짜로 선택시작\n",
      "다음 날짜 선택 후 크롤링 준비\n",
      "https://www.google.com/search?q=Nasdaq&sca_esv=556524961&tbas=0&biw=800&bih=600&source=lnt&tbs=cdr%3A1%2Ccd_min%3A4%2F25%2F2022%2Ccd_max%3A4%2F25%2F2022&tbm=nws\n",
      "https://www.google.com/search?q=Nasdaq&sca_esv=556524961&tbas=0&tbs=cdr:1,cd_min:4/25/2022,cd_max:4/25/2022&tbm=nws&ei=NbfZZLzJEYighwPcn6zwCQ&start=10&sa=N&ved=2ahUKEwj8t6OesduAAxUI0GEKHdwPC54Q8NMDegQIAxAI&biw=800&bih=600&dpr=1\n",
      "https://www.google.com/search?q=Nasdaq&sca_esv=556524961&tbas=0&tbs=cdr:1,cd_min:4/25/2022,cd_max:4/25/2022&tbm=nws&ei=NrfZZPahCYz8-Qalvp-oAQ&start=20&sa=N&ved=2ahUKEwj2lNiesduAAxUMft4KHSXfBxU4ChDw0wN6BAgDEAk&biw=800&bih=600&dpr=1\n",
      "크롤링 준비\n"
     ]
    },
    {
     "name": "stderr",
     "output_type": "stream",
     "text": [
      "\n",
      "\n",
      "preprocessing day:  81%|██████████████████████████████████████████████████▊            | 25/31 [04:36<01:06, 11.06s/it]\u001b[A\u001b[A"
     ]
    },
    {
     "name": "stdout",
     "output_type": "stream",
     "text": [
      "다음날짜로 선택시작\n",
      "다음 날짜 선택 후 크롤링 준비\n",
      "https://www.google.com/search?q=Nasdaq&sca_esv=556524961&tbas=0&biw=800&bih=600&source=lnt&tbs=cdr%3A1%2Ccd_min%3A4%2F26%2F2022%2Ccd_max%3A4%2F26%2F2022&tbm=nws\n",
      "https://www.google.com/search?q=Nasdaq&sca_esv=556524961&tbas=0&tbs=cdr:1,cd_min:4/26/2022,cd_max:4/26/2022&tbm=nws&ei=PrfZZLCiPI3_hwPG56OQDQ&start=10&sa=N&ved=2ahUKEwiwufOisduAAxWN_2EKHcbzCNIQ8NMDegQIBBAK&biw=800&bih=600&dpr=1\n",
      "https://www.google.com/search?q=Nasdaq&sca_esv=556524961&tbas=0&tbs=cdr:1,cd_min:4/26/2022,cd_max:4/26/2022&tbm=nws&ei=P7fZZMiNMsPCoATviquQCg&start=20&sa=N&ved=2ahUKEwiIqaajsduAAxVDIYgKHW_FCqI4ChDw0wN6BAgCEAs&biw=800&bih=600&dpr=1\n",
      "크롤링 준비\n"
     ]
    },
    {
     "name": "stderr",
     "output_type": "stream",
     "text": [
      "\n",
      "\n",
      "preprocessing day:  84%|████████████████████████████████████████████████████▊          | 26/31 [04:46<00:53, 10.65s/it]\u001b[A\u001b[A"
     ]
    },
    {
     "name": "stdout",
     "output_type": "stream",
     "text": [
      "다음날짜로 선택시작\n",
      "다음 날짜 선택 후 크롤링 준비\n",
      "https://www.google.com/search?q=Nasdaq&sca_esv=556524961&tbas=0&biw=800&bih=600&source=lnt&tbs=cdr%3A1%2Ccd_min%3A4%2F27%2F2022%2Ccd_max%3A4%2F27%2F2022&tbm=nws\n",
      "https://www.google.com/search?q=Nasdaq&sca_esv=556524961&tbas=0&tbs=cdr:1,cd_min:4/27/2022,cd_max:4/27/2022&tbm=nws&ei=SLfZZJHRJYyOoATVoLzgBA&start=10&sa=N&ved=2ahUKEwiRlb-nsduAAxUMB4gKHVUQD0wQ8NMDegQIAxAK&biw=800&bih=600&dpr=1\n",
      "https://www.google.com/search?q=Nasdaq&sca_esv=556524961&tbas=0&tbs=cdr:1,cd_min:4/27/2022,cd_max:4/27/2022&tbm=nws&ei=SbfZZMO4JN3n1e8PtdWLqAs&start=20&sa=N&ved=2ahUKEwiDgfunsduAAxXdc_UHHbXqArU4ChDw0wN6BAgDEAs&biw=800&bih=600&dpr=1\n",
      "크롤링 준비\n"
     ]
    },
    {
     "name": "stderr",
     "output_type": "stream",
     "text": [
      "\n",
      "\n",
      "preprocessing day:  87%|██████████████████████████████████████████████████████▊        | 27/31 [04:56<00:41, 10.37s/it]\u001b[A\u001b[A"
     ]
    },
    {
     "name": "stdout",
     "output_type": "stream",
     "text": [
      "다음날짜로 선택시작\n",
      "다음 날짜 선택 후 크롤링 준비\n",
      "https://www.google.com/search?q=Nasdaq&sca_esv=556524961&tbas=0&biw=800&bih=600&source=lnt&tbs=cdr%3A1%2Ccd_min%3A4%2F28%2F2022%2Ccd_max%3A4%2F28%2F2022&tbm=nws\n",
      "https://www.google.com/search?q=Nasdaq&sca_esv=556524961&tbas=0&tbs=cdr:1,cd_min:4/28/2022,cd_max:4/28/2022&tbm=nws&ei=UrfZZNeOD8PCoATviquQCg&start=10&sa=N&ved=2ahUKEwjX_4qssduAAxVDIYgKHW_FCqIQ8NMDegQIAxAI&biw=800&bih=600&dpr=1\n",
      "https://www.google.com/search?q=Nasdaq&sca_esv=556524961&tbas=0&tbs=cdr:1,cd_min:4/28/2022,cd_max:4/28/2022&tbm=nws&ei=U7fZZOT1CJW6hwP8s464Cw&start=20&sa=N&ved=2ahUKEwik68GssduAAxUV3WEKHfyZA7c4ChDw0wN6BAgBEAk&biw=800&bih=600&dpr=1\n",
      "크롤링 준비\n"
     ]
    },
    {
     "name": "stderr",
     "output_type": "stream",
     "text": [
      "\n",
      "\n",
      "preprocessing day:  90%|████████████████████████████████████████████████████████▉      | 28/31 [05:05<00:30, 10.09s/it]\u001b[A\u001b[A"
     ]
    },
    {
     "name": "stdout",
     "output_type": "stream",
     "text": [
      "다음날짜로 선택시작\n",
      "다음 날짜 선택 후 크롤링 준비\n",
      "https://www.google.com/search?q=Nasdaq&sca_esv=556524961&tbas=0&biw=800&bih=600&source=lnt&tbs=cdr%3A1%2Ccd_min%3A4%2F29%2F2022%2Ccd_max%3A4%2F29%2F2022&tbm=nws\n",
      "https://www.google.com/search?q=Nasdaq&sca_esv=556524961&tbas=0&tbs=cdr:1,cd_min:4/29/2022,cd_max:4/29/2022&tbm=nws&ei=W7fZZP6_MMuH-Qbj8p_ICQ&start=10&sa=N&ved=2ahUKEwi-2dGwsduAAxXLQ94KHWP5B5kQ8NMDegQIARAK&biw=800&bih=600&dpr=1\n",
      "https://www.google.com/search?q=Nasdaq&sca_esv=556524961&tbas=0&tbs=cdr:1,cd_min:4/29/2022,cd_max:4/29/2022&tbm=nws&ei=XLfZZOLKIYOooAT94YbwCg&start=20&sa=N&ved=2ahUKEwji6P-wsduAAxUDFIgKHf2wAa44ChDw0wN6BAgEEAs&biw=800&bih=600&dpr=1\n",
      "크롤링 준비\n"
     ]
    },
    {
     "name": "stderr",
     "output_type": "stream",
     "text": [
      "\n",
      "\n",
      "preprocessing day:  94%|██████████████████████████████████████████████████████████▉    | 29/31 [05:15<00:19,  9.93s/it]\u001b[A\u001b[A"
     ]
    },
    {
     "name": "stdout",
     "output_type": "stream",
     "text": [
      "다음날짜로 선택시작\n",
      "다음 날짜 선택 후 크롤링 준비\n",
      "https://www.google.com/search?q=Nasdaq&sca_esv=556524961&tbas=0&biw=800&bih=600&source=lnt&tbs=cdr%3A1%2Ccd_min%3A4%2F30%2F2022%2Ccd_max%3A4%2F30%2F2022&tbm=nws\n",
      "Next button not found. Exiting loop.\n",
      "크롤링 준비\n"
     ]
    },
    {
     "name": "stderr",
     "output_type": "stream",
     "text": [
      "\n",
      "\n",
      "preprocessing day:  97%|████████████████████████████████████████████████████████████▉  | 30/31 [05:28<00:10, 10.84s/it]\u001b[A\u001b[A"
     ]
    },
    {
     "name": "stdout",
     "output_type": "stream",
     "text": [
      "다음날짜로 선택시작\n",
      "다음 날짜 선택 후 크롤링 준비\n",
      "https://www.google.com/search?q=Nasdaq&sca_esv=556524961&tbas=0&biw=800&bih=600&source=lnt&tbs=cdr%3A1%2Ccd_min%3A04%2F31%2F2022%2Ccd_max%3A04%2F31%2F2022&tbm=nws\n",
      "Next button not found. Exiting loop.\n",
      "크롤링 준비\n"
     ]
    },
    {
     "name": "stderr",
     "output_type": "stream",
     "text": [
      "\n",
      "\n",
      "preprocessing day: 100%|███████████████████████████████████████████████████████████████| 31/31 [05:41<00:00, 11.01s/it]\u001b[A\u001b[A\n",
      "\n",
      "preprocessing month:  33%|████████████████████▎                                        | 4/12 [22:25<44:47, 335.97s/it]\u001b[A"
     ]
    },
    {
     "name": "stdout",
     "output_type": "stream",
     "text": [
      "다음날짜로 선택시작\n"
     ]
    },
    {
     "name": "stderr",
     "output_type": "stream",
     "text": [
      "\n",
      "\n",
      "preprocessing day:   0%|                                                                        | 0/31 [00:00<?, ?it/s]\u001b[A\u001b[A"
     ]
    },
    {
     "name": "stdout",
     "output_type": "stream",
     "text": [
      "다음 날짜 선택 후 크롤링 준비\n",
      "https://www.google.com/search?q=Nasdaq&sca_esv=556524961&tbas=0&biw=800&bih=600&source=lnt&tbs=cdr%3A1%2Ccd_min%3A5%2F1%2F2022%2Ccd_max%3A5%2F1%2F2022&tbm=nws\n",
      "Next button not found. Exiting loop.\n",
      "크롤링 준비\n"
     ]
    },
    {
     "name": "stderr",
     "output_type": "stream",
     "text": [
      "\n",
      "\n",
      "preprocessing day:   3%|██                                                              | 1/31 [00:13<06:30, 13.03s/it]\u001b[A\u001b[A"
     ]
    },
    {
     "name": "stdout",
     "output_type": "stream",
     "text": [
      "다음날짜로 선택시작\n",
      "다음 날짜 선택 후 크롤링 준비\n",
      "https://www.google.com/search?q=Nasdaq&sca_esv=556524961&tbas=0&biw=800&bih=600&source=lnt&tbs=cdr%3A1%2Ccd_min%3A5%2F2%2F2022%2Ccd_max%3A5%2F2%2F2022&tbm=nws\n",
      "https://www.google.com/search?q=Nasdaq&sca_esv=556524961&tbas=0&tbs=cdr:1,cd_min:5/2/2022,cd_max:5/2/2022&tbm=nws&ei=jLfZZL2rD6fS1e8P2JCToAg&start=10&sa=N&ved=2ahUKEwi9od_HsduAAxUnafUHHVjIBIQQ8NMDegQIAxAK&biw=800&bih=600&dpr=1\n",
      "https://www.google.com/search?q=Nasdaq&sca_esv=556524961&tbas=0&tbs=cdr:1,cd_min:5/2/2022,cd_max:5/2/2022&tbm=nws&ei=jbfZZN3yBYza-QbC64HIDA&start=20&sa=N&ved=2ahUKEwid7ZLIsduAAxUMbd4KHcJ1AMk4ChDw0wN6BAgDEAs&biw=800&bih=600&dpr=1\n",
      "크롤링 준비\n"
     ]
    },
    {
     "name": "stderr",
     "output_type": "stream",
     "text": [
      "\n",
      "\n",
      "preprocessing day:   6%|████▏                                                           | 2/31 [00:22<05:20, 11.05s/it]\u001b[A\u001b[A"
     ]
    },
    {
     "name": "stdout",
     "output_type": "stream",
     "text": [
      "다음날짜로 선택시작\n",
      "다음 날짜 선택 후 크롤링 준비\n",
      "https://www.google.com/search?q=Nasdaq&sca_esv=556524961&tbas=0&biw=800&bih=600&source=lnt&tbs=cdr%3A1%2Ccd_min%3A5%2F3%2F2022%2Ccd_max%3A5%2F3%2F2022&tbm=nws\n",
      "https://www.google.com/search?q=Nasdaq&sca_esv=556524961&tbas=0&tbs=cdr:1,cd_min:5/3/2022,cd_max:5/3/2022&tbm=nws&ei=lbfZZLacNoL8wQPjrYeYBQ&start=10&sa=N&ved=2ahUKEwj2uqvMsduAAxUCfnAKHePWAVMQ8NMDegQIAxAI&biw=800&bih=600&dpr=1\n",
      "https://www.google.com/search?q=Nasdaq&sca_esv=556524961&tbas=0&tbs=cdr:1,cd_min:5/3/2022,cd_max:5/3/2022&tbm=nws&ei=lrfZZLC2KdqphwOMspCACQ&start=20&sa=N&ved=2ahUKEwiw2dvMsduAAxXa1GEKHQwZBJA4ChDw0wN6BAgCEAk&biw=800&bih=600&dpr=1\n",
      "크롤링 준비\n"
     ]
    },
    {
     "name": "stderr",
     "output_type": "stream",
     "text": [
      "\n",
      "\n",
      "preprocessing day:  10%|██████▏                                                         | 3/31 [00:32<04:48, 10.31s/it]\u001b[A\u001b[A"
     ]
    },
    {
     "name": "stdout",
     "output_type": "stream",
     "text": [
      "다음날짜로 선택시작\n",
      "다음 날짜 선택 후 크롤링 준비\n",
      "https://www.google.com/search?q=Nasdaq&sca_esv=556524961&tbas=0&biw=800&bih=600&source=lnt&tbs=cdr%3A1%2Ccd_min%3A5%2F4%2F2022%2Ccd_max%3A5%2F4%2F2022&tbm=nws\n",
      "https://www.google.com/search?q=Nasdaq&sca_esv=556524961&tbas=0&tbs=cdr:1,cd_min:5/4/2022,cd_max:5/4/2022&tbm=nws&ei=n7fZZP34FZjh-Abi4p7ACQ&start=10&sa=N&ved=2ahUKEwi9xO3QsduAAxWYMN4KHWKxB5gQ8NMDegQIAxAK&biw=800&bih=600&dpr=1\n",
      "https://www.google.com/search?q=Nasdaq&sca_esv=556524961&tbas=0&tbs=cdr:1,cd_min:5/4/2022,cd_max:5/4/2022&tbm=nws&ei=oLfZZLj9CJnu1e8PzIat0Ac&start=20&sa=N&ved=2ahUKEwi4zZ3RsduAAxUZd_UHHUxDC3o4ChDw0wN6BAgCEAs&biw=800&bih=600&dpr=1\n",
      "크롤링 준비\n"
     ]
    },
    {
     "name": "stderr",
     "output_type": "stream",
     "text": [
      "\n",
      "\n",
      "preprocessing day:  13%|████████▎                                                       | 4/31 [00:41<04:31, 10.05s/it]\u001b[A\u001b[A"
     ]
    },
    {
     "name": "stdout",
     "output_type": "stream",
     "text": [
      "다음날짜로 선택시작\n",
      "다음 날짜 선택 후 크롤링 준비\n",
      "https://www.google.com/search?q=Nasdaq&sca_esv=556524961&tbas=0&biw=800&bih=600&source=lnt&tbs=cdr%3A1%2Ccd_min%3A5%2F5%2F2022%2Ccd_max%3A5%2F5%2F2022&tbm=nws\n",
      "https://www.google.com/search?q=Nasdaq&sca_esv=556524961&tbas=0&tbs=cdr:1,cd_min:5/5/2022,cd_max:5/5/2022&tbm=nws&ei=qLfZZJvvO5uCoATKurSACQ&start=10&sa=N&ved=2ahUKEwib47jVsduAAxUbAYgKHUodDZAQ8NMDegQIBBAI&biw=800&bih=600&dpr=1\n",
      "https://www.google.com/search?q=Nasdaq&sca_esv=556524961&tbas=0&tbs=cdr:1,cd_min:5/5/2022,cd_max:5/5/2022&tbm=nws&ei=qrfZZOu-A5fj1e8PhbuvwAI&start=20&sa=N&ved=2ahUKEwjru_rVsduAAxWXcfUHHYXdCyg4ChDw0wN6BAgEEAk&biw=800&bih=600&dpr=1\n",
      "크롤링 준비\n"
     ]
    },
    {
     "name": "stderr",
     "output_type": "stream",
     "text": [
      "\n",
      "\n",
      "preprocessing day:  16%|██████████▎                                                     | 5/31 [00:51<04:18,  9.93s/it]\u001b[A\u001b[A"
     ]
    },
    {
     "name": "stdout",
     "output_type": "stream",
     "text": [
      "다음날짜로 선택시작\n",
      "다음 날짜 선택 후 크롤링 준비\n",
      "https://www.google.com/search?q=Nasdaq&sca_esv=556524961&tbas=0&biw=800&bih=600&source=lnt&tbs=cdr%3A1%2Ccd_min%3A5%2F6%2F2022%2Ccd_max%3A5%2F6%2F2022&tbm=nws\n",
      "https://www.google.com/search?q=Nasdaq&sca_esv=556524961&tbas=0&tbs=cdr:1,cd_min:5/6/2022,cd_max:5/6/2022&tbm=nws&ei=srfZZJfUKYfVhwPxqZfoBg&start=10&sa=N&ved=2ahUKEwiX9YjasduAAxWH6mEKHfHUBW0Q8NMDegQIAhAI&biw=800&bih=600&dpr=1\n",
      "https://www.google.com/search?q=Nasdaq&sca_esv=556524961&tbas=0&tbs=cdr:1,cd_min:5/6/2022,cd_max:5/6/2022&tbm=nws&ei=s7fZZOWyLYbo-Ab9qLyYBw&start=20&sa=N&ved=2ahUKEwil2MnasduAAxUGNN4KHX0UD3M4ChDw0wN6BAgDEAk&biw=800&bih=600&dpr=1\n",
      "크롤링 준비\n"
     ]
    },
    {
     "name": "stderr",
     "output_type": "stream",
     "text": [
      "\n",
      "\n",
      "preprocessing day:  19%|████████████▍                                                   | 6/31 [01:01<04:05,  9.83s/it]\u001b[A\u001b[A"
     ]
    },
    {
     "name": "stdout",
     "output_type": "stream",
     "text": [
      "다음날짜로 선택시작\n",
      "다음 날짜 선택 후 크롤링 준비\n",
      "https://www.google.com/search?q=Nasdaq&sca_esv=556524961&tbas=0&biw=800&bih=600&source=lnt&tbs=cdr%3A1%2Ccd_min%3A5%2F7%2F2022%2Ccd_max%3A5%2F7%2F2022&tbm=nws\n",
      "https://www.google.com/search?q=Nasdaq&sca_esv=556524961&tbas=0&tbs=cdr:1,cd_min:5/7/2022,cd_max:5/7/2022&tbm=nws&ei=vLfZZMW5EdW2oAS885qQAQ&start=10&sa=N&ved=2ahUKEwjFh9PesduAAxVVG4gKHby5BhIQ8NMDegQIAhAG&biw=800&bih=600&dpr=1\n",
      "Next button not found. Exiting loop.\n",
      "크롤링 준비\n"
     ]
    },
    {
     "name": "stderr",
     "output_type": "stream",
     "text": [
      "\n",
      "\n",
      "preprocessing day:  23%|██████████████▍                                                 | 7/31 [01:14<04:25, 11.05s/it]\u001b[A\u001b[A"
     ]
    },
    {
     "name": "stdout",
     "output_type": "stream",
     "text": [
      "다음날짜로 선택시작\n",
      "다음 날짜 선택 후 크롤링 준비\n",
      "https://www.google.com/search?q=Nasdaq&sca_esv=556524961&tbas=0&biw=800&bih=600&source=lnt&tbs=cdr%3A1%2Ccd_min%3A5%2F8%2F2022%2Ccd_max%3A5%2F8%2F2022&tbm=nws\n",
      "Next button not found. Exiting loop.\n",
      "크롤링 준비\n"
     ]
    },
    {
     "name": "stderr",
     "output_type": "stream",
     "text": [
      "\n",
      "\n",
      "preprocessing day:  26%|████████████████▌                                               | 8/31 [01:27<04:25, 11.55s/it]\u001b[A\u001b[A"
     ]
    },
    {
     "name": "stdout",
     "output_type": "stream",
     "text": [
      "다음날짜로 선택시작\n",
      "다음 날짜 선택 후 크롤링 준비\n",
      "https://www.google.com/search?q=Nasdaq&sca_esv=556524961&tbas=0&biw=800&bih=600&source=lnt&tbs=cdr%3A1%2Ccd_min%3A5%2F9%2F2022%2Ccd_max%3A5%2F9%2F2022&tbm=nws\n",
      "https://www.google.com/search?q=Nasdaq&sca_esv=556524961&tbas=0&tbs=cdr:1,cd_min:5/9/2022,cd_max:5/9/2022&tbm=nws&ei=1rfZZM7oHIb3hwP21prICw&start=10&sa=N&ved=2ahUKEwjOq5HrsduAAxWG-2EKHXarBrkQ8NMDegQIAhAM&biw=800&bih=600&dpr=1\n",
      "https://www.google.com/search?q=Nasdaq&sca_esv=556524961&tbas=0&tbs=cdr:1,cd_min:5/9/2022,cd_max:5/9/2022&tbm=nws&ei=17fZZP-yDsGSoAT1g5OoDw&start=20&sa=N&ved=2ahUKEwi_-r_rsduAAxVBCYgKHfXBBPU4ChDw0wN6BAgBEA0&biw=800&bih=600&dpr=1\n",
      "크롤링 준비\n"
     ]
    },
    {
     "name": "stderr",
     "output_type": "stream",
     "text": [
      "\n",
      "\n",
      "preprocessing day:  29%|██████████████████▌                                             | 9/31 [01:36<03:57, 10.81s/it]\u001b[A\u001b[A"
     ]
    },
    {
     "name": "stdout",
     "output_type": "stream",
     "text": [
      "다음날짜로 선택시작\n",
      "다음 날짜 선택 후 크롤링 준비\n",
      "https://www.google.com/search?q=Nasdaq&sca_esv=556524961&tbas=0&biw=800&bih=600&source=lnt&tbs=cdr%3A1%2Ccd_min%3A5%2F10%2F2022%2Ccd_max%3A5%2F10%2F2022&tbm=nws\n",
      "https://www.google.com/search?q=Nasdaq&sca_esv=556524961&tbas=0&tbs=cdr:1,cd_min:5/10/2022,cd_max:5/10/2022&tbm=nws&ei=37fZZNDqLNKl-QaXirPYCA&start=10&sa=N&ved=2ahUKEwiQ1sbvsduAAxXSUt4KHRfFDIsQ8NMDegQIAhAM&biw=800&bih=600&dpr=1\n",
      "https://www.google.com/search?q=Nasdaq&sca_esv=556524961&tbas=0&tbs=cdr:1,cd_min:5/10/2022,cd_max:5/10/2022&tbm=nws&ei=4LfZZMiqLefc1e8Py7uR4AM&start=20&sa=N&ved=2ahUKEwjImoTwsduAAxVnbvUHHctdBDw4ChDw0wN6BAgBEA0&biw=800&bih=600&dpr=1\n",
      "크롤링 준비\n"
     ]
    },
    {
     "name": "stderr",
     "output_type": "stream",
     "text": [
      "\n",
      "\n",
      "preprocessing day:  32%|████████████████████▎                                          | 10/31 [01:46<03:41, 10.54s/it]\u001b[A\u001b[A"
     ]
    },
    {
     "name": "stdout",
     "output_type": "stream",
     "text": [
      "다음날짜로 선택시작\n",
      "다음 날짜 선택 후 크롤링 준비\n",
      "https://www.google.com/search?q=Nasdaq&sca_esv=556524961&tbas=0&biw=800&bih=600&source=lnt&tbs=cdr%3A1%2Ccd_min%3A5%2F11%2F2022%2Ccd_max%3A5%2F11%2F2022&tbm=nws\n",
      "https://www.google.com/search?q=Nasdaq&sca_esv=556524961&tbas=0&tbs=cdr:1,cd_min:5/11/2022,cd_max:5/11/2022&tbm=nws&ei=6bfZZK_IIeTE1e8PqIGj8AY&start=10&sa=N&ved=2ahUKEwjv4J30sduAAxVkYvUHHajACG4Q8NMDegQIBBAO&biw=800&bih=600&dpr=1\n",
      "https://www.google.com/search?q=Nasdaq&sca_esv=556524961&tbas=0&tbs=cdr:1,cd_min:5/11/2022,cd_max:5/11/2022&tbm=nws&ei=6rfZZOGTG5L3wAOs_ZfoDQ&start=20&sa=N&ved=2ahUKEwjhsNT0sduAAxWSO3AKHaz-Bd04ChDw0wN6BAgDEA8&biw=800&bih=600&dpr=1\n",
      "크롤링 준비\n"
     ]
    },
    {
     "name": "stderr",
     "output_type": "stream",
     "text": [
      "\n",
      "\n",
      "preprocessing day:  35%|██████████████████████▎                                        | 11/31 [01:56<03:24, 10.25s/it]\u001b[A\u001b[A"
     ]
    },
    {
     "name": "stdout",
     "output_type": "stream",
     "text": [
      "다음날짜로 선택시작\n",
      "다음 날짜 선택 후 크롤링 준비\n",
      "https://www.google.com/search?q=Nasdaq&sca_esv=556524961&tbas=0&biw=800&bih=600&source=lnt&tbs=cdr%3A1%2Ccd_min%3A5%2F12%2F2022%2Ccd_max%3A5%2F12%2F2022&tbm=nws\n",
      "https://www.google.com/search?q=Nasdaq&sca_esv=556524961&tbas=0&tbs=cdr:1,cd_min:5/12/2022,cd_max:5/12/2022&tbm=nws&ei=87fZZNfiDpSQhwOmgLVY&start=10&sa=N&ved=2ahUKEwiXqO34sduAAxUUyGEKHSZADQsQ8NMDegQIAxAG&biw=800&bih=600&dpr=1\n",
      "Next button not found. Exiting loop.\n",
      "크롤링 준비\n"
     ]
    },
    {
     "name": "stderr",
     "output_type": "stream",
     "text": [
      "\n",
      "\n",
      "preprocessing day:  39%|████████████████████████▍                                      | 12/31 [02:10<03:37, 11.42s/it]\u001b[A\u001b[A"
     ]
    },
    {
     "name": "stdout",
     "output_type": "stream",
     "text": [
      "다음날짜로 선택시작\n",
      "다음 날짜 선택 후 크롤링 준비\n",
      "https://www.google.com/search?q=Nasdaq&sca_esv=556524961&tbas=0&biw=800&bih=600&source=lnt&tbs=cdr%3A1%2Ccd_min%3A5%2F13%2F2022%2Ccd_max%3A5%2F13%2F2022&tbm=nws\n",
      "https://www.google.com/search?q=Nasdaq&sca_esv=556524961&tbas=0&tbs=cdr:1,cd_min:5/13/2022,cd_max:5/13/2022&tbm=nws&ei=AbjZZNSfFZbnwQPRhLDAAg&start=10&sa=N&ved=2ahUKEwiUpMr_sduAAxWWc3AKHVECDCgQ8NMDegQIAhAI&biw=800&bih=600&dpr=1\n",
      "https://www.google.com/search?q=Nasdaq&sca_esv=556524961&tbas=0&tbs=cdr:1,cd_min:5/13/2022,cd_max:5/13/2022&tbm=nws&ei=ArjZZPy1CtSq-QbDlYGoDQ&start=20&sa=N&ved=2ahUKEwj8vvz_sduAAxVUVd4KHcNKANU4ChDw0wN6BAgDEAk&biw=800&bih=600&dpr=1\n",
      "크롤링 준비\n"
     ]
    },
    {
     "name": "stderr",
     "output_type": "stream",
     "text": [
      "\n",
      "\n",
      "preprocessing day:  42%|██████████████████████████▍                                    | 13/31 [02:19<03:14, 10.81s/it]\u001b[A\u001b[A"
     ]
    },
    {
     "name": "stdout",
     "output_type": "stream",
     "text": [
      "다음날짜로 선택시작\n",
      "다음 날짜 선택 후 크롤링 준비\n",
      "https://www.google.com/search?q=Nasdaq&sca_esv=556524961&tbas=0&biw=800&bih=600&source=lnt&tbs=cdr%3A1%2Ccd_min%3A5%2F14%2F2022%2Ccd_max%3A5%2F14%2F2022&tbm=nws\n",
      "Next button not found. Exiting loop.\n",
      "크롤링 준비\n"
     ]
    },
    {
     "name": "stderr",
     "output_type": "stream",
     "text": [
      "\n",
      "\n",
      "preprocessing day:  45%|████████████████████████████▍                                  | 14/31 [02:32<03:17, 11.61s/it]\u001b[A\u001b[A"
     ]
    },
    {
     "name": "stdout",
     "output_type": "stream",
     "text": [
      "다음날짜로 선택시작\n",
      "다음 날짜 선택 후 크롤링 준비\n",
      "https://www.google.com/search?q=Nasdaq&sca_esv=556524961&tbas=0&biw=800&bih=600&source=lnt&tbs=cdr%3A1%2Ccd_min%3A5%2F15%2F2022%2Ccd_max%3A5%2F15%2F2022&tbm=nws\n",
      "https://www.google.com/search?q=Nasdaq&sca_esv=556524961&tbas=0&tbs=cdr:1,cd_min:5/15/2022,cd_max:5/15/2022&tbm=nws&ei=GLjZZJ2ODNixoATC3ZUw&start=10&sa=N&ved=2ahUKEwid-ryKstuAAxXYGIgKHcJuBQYQ8NMDegQIAxAG&biw=800&bih=600&dpr=1\n",
      "Next button not found. Exiting loop.\n",
      "크롤링 준비\n"
     ]
    },
    {
     "name": "stderr",
     "output_type": "stream",
     "text": [
      "\n",
      "\n",
      "preprocessing day:  48%|██████████████████████████████▍                                | 15/31 [02:47<03:18, 12.38s/it]\u001b[A\u001b[A"
     ]
    },
    {
     "name": "stdout",
     "output_type": "stream",
     "text": [
      "다음날짜로 선택시작\n",
      "다음 날짜 선택 후 크롤링 준비\n",
      "https://www.google.com/search?q=Nasdaq&sca_esv=556524961&tbas=0&biw=800&bih=600&source=lnt&tbs=cdr%3A1%2Ccd_min%3A5%2F16%2F2022%2Ccd_max%3A5%2F16%2F2022&tbm=nws\n",
      "https://www.google.com/search?q=Nasdaq&sca_esv=556524961&tbas=0&tbs=cdr:1,cd_min:5/16/2022,cd_max:5/16/2022&tbm=nws&ei=JrjZZJ6qFNm1oATE-pyYCA&start=10&sa=N&ved=2ahUKEwie1ZuRstuAAxXZGogKHUQ9B4MQ8NMDegQIAhAK&biw=800&bih=600&dpr=1\n",
      "https://www.google.com/search?q=Nasdaq&sca_esv=556524961&tbas=0&tbs=cdr:1,cd_min:5/16/2022,cd_max:5/16/2022&tbm=nws&ei=J7jZZKayE4Pe-Qbywb-IBg&start=20&sa=N&ved=2ahUKEwjm4deRstuAAxUDb94KHfLgD2E4ChDw0wN6BAgEEAs&biw=800&bih=600&dpr=1\n",
      "크롤링 준비\n"
     ]
    },
    {
     "name": "stderr",
     "output_type": "stream",
     "text": [
      "\n",
      "\n",
      "preprocessing day:  52%|████████████████████████████████▌                              | 16/31 [02:57<02:55, 11.72s/it]\u001b[A\u001b[A"
     ]
    },
    {
     "name": "stdout",
     "output_type": "stream",
     "text": [
      "다음날짜로 선택시작\n",
      "다음 날짜 선택 후 크롤링 준비\n",
      "https://www.google.com/search?q=Nasdaq&sca_esv=556524961&tbas=0&biw=800&bih=600&source=lnt&tbs=cdr%3A1%2Ccd_min%3A5%2F17%2F2022%2Ccd_max%3A5%2F17%2F2022&tbm=nws\n",
      "https://www.google.com/search?q=Nasdaq&sca_esv=556524961&tbas=0&tbs=cdr:1,cd_min:5/17/2022,cd_max:5/17/2022&tbm=nws&ei=MLjZZJXRH5n4hwPr-6DADg&start=10&sa=N&ved=2ahUKEwiVqYmWstuAAxUZ_GEKHes9COgQ8NMDegQIAhAK&biw=800&bih=600&dpr=1\n",
      "https://www.google.com/search?q=Nasdaq&sca_esv=556524961&tbas=0&tbs=cdr:1,cd_min:5/17/2022,cd_max:5/17/2022&tbm=nws&ei=MbjZZL2MDpCRoAT_352ICg&start=20&sa=N&ved=2ahUKEwj96LSWstuAAxWQCIgKHf9vB6E4ChDw0wN6BAgEEAs&biw=800&bih=600&dpr=1\n",
      "크롤링 준비\n"
     ]
    },
    {
     "name": "stderr",
     "output_type": "stream",
     "text": [
      "\n",
      "\n",
      "preprocessing day:  55%|██████████████████████████████████▌                            | 17/31 [03:06<02:34, 11.05s/it]\u001b[A\u001b[A"
     ]
    },
    {
     "name": "stdout",
     "output_type": "stream",
     "text": [
      "다음날짜로 선택시작\n",
      "다음 날짜 선택 후 크롤링 준비\n",
      "https://www.google.com/search?q=Nasdaq&sca_esv=556524961&tbas=0&biw=800&bih=600&source=lnt&tbs=cdr%3A1%2Ccd_min%3A5%2F18%2F2022%2Ccd_max%3A5%2F18%2F2022&tbm=nws\n",
      "https://www.google.com/search?q=Nasdaq&sca_esv=556524961&tbas=0&tbs=cdr:1,cd_min:5/18/2022,cd_max:5/18/2022&tbm=nws&ei=ObjZZJKRPNCSoATU-o7oDw&start=10&sa=N&ved=2ahUKEwjSkcuastuAAxVQCYgKHVS9A_0Q8NMDegQIAhAK&biw=800&bih=600&dpr=1\n",
      "https://www.google.com/search?q=Nasdaq&sca_esv=556524961&tbas=0&tbs=cdr:1,cd_min:5/18/2022,cd_max:5/18/2022&tbm=nws&ei=OrjZZNDrJdK2oASJgZr4BQ&start=20&sa=N&ved=2ahUKEwjQ8PGastuAAxVSG4gKHYmABl84ChDw0wN6BAgDEAs&biw=800&bih=600&dpr=1\n",
      "크롤링 준비\n"
     ]
    },
    {
     "name": "stderr",
     "output_type": "stream",
     "text": [
      "\n",
      "\n",
      "preprocessing day:  58%|████████████████████████████████████▌                          | 18/31 [03:15<02:15, 10.42s/it]\u001b[A\u001b[A"
     ]
    },
    {
     "name": "stdout",
     "output_type": "stream",
     "text": [
      "다음날짜로 선택시작\n",
      "다음 날짜 선택 후 크롤링 준비\n",
      "https://www.google.com/search?q=Nasdaq&sca_esv=556524961&tbas=0&biw=800&bih=600&source=lnt&tbs=cdr%3A1%2Ccd_min%3A5%2F19%2F2022%2Ccd_max%3A5%2F19%2F2022&tbm=nws\n",
      "https://www.google.com/search?q=Nasdaq&sca_esv=556524961&tbas=0&tbs=cdr:1,cd_min:5/19/2022,cd_max:5/19/2022&tbm=nws&ei=QrjZZM7DPKn31e8Px7uR-As&start=10&sa=N&ved=2ahUKEwjO7PCestuAAxWpe_UHHcddBL8Q8NMDegQIARAK&biw=800&bih=600&dpr=1\n",
      "https://www.google.com/search?q=Nasdaq&sca_esv=556524961&tbas=0&tbs=cdr:1,cd_min:5/19/2022,cd_max:5/19/2022&tbm=nws&ei=Q7jZZOKnMY2-hwPDoJSIAg&start=20&sa=N&ved=2ahUKEwii1aKfstuAAxUN32EKHUMQBSE4ChDw0wN6BAgDEAs&biw=800&bih=600&dpr=1\n",
      "크롤링 준비\n"
     ]
    },
    {
     "name": "stderr",
     "output_type": "stream",
     "text": [
      "\n",
      "\n",
      "preprocessing day:  61%|██████████████████████████████████████▌                        | 19/31 [03:25<02:01, 10.11s/it]\u001b[A\u001b[A"
     ]
    },
    {
     "name": "stdout",
     "output_type": "stream",
     "text": [
      "다음날짜로 선택시작\n",
      "다음 날짜 선택 후 크롤링 준비\n",
      "https://www.google.com/search?q=Nasdaq&sca_esv=556524961&tbas=0&biw=800&bih=600&source=lnt&tbs=cdr%3A1%2Ccd_min%3A5%2F20%2F2022%2Ccd_max%3A5%2F20%2F2022&tbm=nws\n",
      "https://www.google.com/search?q=Nasdaq&sca_esv=556524961&tbas=0&tbs=cdr:1,cd_min:5/20/2022,cd_max:5/20/2022&tbm=nws&ei=TLjZZNXvFZuCoATKurSACQ&start=10&sa=N&ved=2ahUKEwjVxayjstuAAxUbAYgKHUodDZAQ8NMDegQIAxAK&biw=800&bih=600&dpr=1\n",
      "https://www.google.com/search?q=Nasdaq&sca_esv=556524961&tbas=0&tbs=cdr:1,cd_min:5/20/2022,cd_max:5/20/2022&tbm=nws&ei=TbjZZOC0EpbnwQPRhLDAAg&start=20&sa=N&ved=2ahUKEwigj-ajstuAAxWWc3AKHVECDCg4ChDw0wN6BAgCEAs&biw=800&bih=600&dpr=1\n",
      "크롤링 준비\n"
     ]
    },
    {
     "name": "stderr",
     "output_type": "stream",
     "text": [
      "\n",
      "\n",
      "preprocessing day:  65%|████████████████████████████████████████▋                      | 20/31 [03:35<01:50, 10.03s/it]\u001b[A\u001b[A"
     ]
    },
    {
     "name": "stdout",
     "output_type": "stream",
     "text": [
      "다음날짜로 선택시작\n",
      "다음 날짜 선택 후 크롤링 준비\n",
      "https://www.google.com/search?q=Nasdaq&sca_esv=556524961&tbas=0&biw=800&bih=600&source=lnt&tbs=cdr%3A1%2Ccd_min%3A5%2F21%2F2022%2Ccd_max%3A5%2F21%2F2022&tbm=nws\n",
      "Next button not found. Exiting loop.\n",
      "크롤링 준비\n"
     ]
    },
    {
     "name": "stderr",
     "output_type": "stream",
     "text": [
      "\n",
      "\n",
      "preprocessing day:  68%|██████████████████████████████████████████▋                    | 21/31 [03:48<01:49, 10.92s/it]\u001b[A\u001b[A"
     ]
    },
    {
     "name": "stdout",
     "output_type": "stream",
     "text": [
      "다음날짜로 선택시작\n",
      "다음 날짜 선택 후 크롤링 준비\n",
      "https://www.google.com/search?q=Nasdaq&sca_esv=556524961&tbas=0&biw=800&bih=600&source=lnt&tbs=cdr%3A1%2Ccd_min%3A5%2F22%2F2022%2Ccd_max%3A5%2F22%2F2022&tbm=nws\n",
      "Next button not found. Exiting loop.\n",
      "크롤링 준비\n"
     ]
    },
    {
     "name": "stderr",
     "output_type": "stream",
     "text": [
      "\n",
      "\n",
      "preprocessing day:  71%|████████████████████████████████████████████▋                  | 22/31 [04:01<01:44, 11.64s/it]\u001b[A\u001b[A"
     ]
    },
    {
     "name": "stdout",
     "output_type": "stream",
     "text": [
      "다음날짜로 선택시작\n",
      "다음 날짜 선택 후 크롤링 준비\n",
      "https://www.google.com/search?q=Nasdaq&sca_esv=556524961&tbas=0&biw=800&bih=600&source=lnt&tbs=cdr%3A1%2Ccd_min%3A5%2F23%2F2022%2Ccd_max%3A5%2F23%2F2022&tbm=nws\n",
      "https://www.google.com/search?q=Nasdaq&sca_esv=556524961&tbas=0&tbs=cdr:1,cd_min:5/23/2022,cd_max:5/23/2022&tbm=nws&ei=cLjZZP-bHbDK1e8Ps5OqmAY&start=10&sa=N&ved=2ahUKEwj_k8m0stuAAxUwZfUHHbOJCmMQ8NMDegQIARAK&biw=800&bih=600&dpr=1\n",
      "https://www.google.com/search?q=Nasdaq&sca_esv=556524961&tbas=0&tbs=cdr:1,cd_min:5/23/2022,cd_max:5/23/2022&tbm=nws&ei=cbjZZI3qEerN1e8P26GL8A0&start=20&sa=N&ved=2ahUKEwjN5vq0stuAAxXqZvUHHdvQAt44ChDw0wN6BAgEEAs&biw=800&bih=600&dpr=1\n",
      "크롤링 준비\n"
     ]
    },
    {
     "name": "stderr",
     "output_type": "stream",
     "text": [
      "\n",
      "\n",
      "preprocessing day:  74%|██████████████████████████████████████████████▋                | 23/31 [04:10<01:27, 10.95s/it]\u001b[A\u001b[A"
     ]
    },
    {
     "name": "stdout",
     "output_type": "stream",
     "text": [
      "다음날짜로 선택시작\n",
      "다음 날짜 선택 후 크롤링 준비\n",
      "https://www.google.com/search?q=Nasdaq&sca_esv=556524961&tbas=0&biw=800&bih=600&source=lnt&tbs=cdr%3A1%2Ccd_min%3A5%2F24%2F2022%2Ccd_max%3A5%2F24%2F2022&tbm=nws\n",
      "https://www.google.com/search?q=Nasdaq&sca_esv=556524961&tbas=0&tbs=cdr:1,cd_min:5/24/2022,cd_max:5/24/2022&tbm=nws&ei=ebjZZMnpMpKsoASYrK-wCQ&start=10&sa=N&ved=2ahUKEwiJioS5stuAAxUSFogKHRjWC5YQ8NMDegQIAhAK&biw=800&bih=600&dpr=1\n",
      "https://www.google.com/search?q=Nasdaq&sca_esv=556524961&tbas=0&tbs=cdr:1,cd_min:5/24/2022,cd_max:5/24/2022&tbm=nws&ei=erjZZO6uL9Tq-AbPgb6oDA&start=20&sa=N&ved=2ahUKEwju0725stuAAxVUNd4KHc-AD8U4ChDw0wN6BAgCEAs&biw=800&bih=600&dpr=1\n",
      "크롤링 준비\n"
     ]
    },
    {
     "name": "stderr",
     "output_type": "stream",
     "text": [
      "\n",
      "\n",
      "preprocessing day:  77%|████████████████████████████████████████████████▊              | 24/31 [04:20<01:13, 10.49s/it]\u001b[A\u001b[A"
     ]
    },
    {
     "name": "stdout",
     "output_type": "stream",
     "text": [
      "다음날짜로 선택시작\n",
      "다음 날짜 선택 후 크롤링 준비\n",
      "https://www.google.com/search?q=Nasdaq&sca_esv=556524961&tbas=0&biw=800&bih=600&source=lnt&tbs=cdr%3A1%2Ccd_min%3A5%2F25%2F2022%2Ccd_max%3A5%2F25%2F2022&tbm=nws\n",
      "https://www.google.com/search?q=Nasdaq&sca_esv=556524961&tbas=0&tbs=cdr:1,cd_min:5/25/2022,cd_max:5/25/2022&tbm=nws&ei=g7jZZKOBD7K8hwOnv5qAAQ&start=10&sa=N&ved=2ahUKEwjjzsK9stuAAxUy3mEKHaefBhAQ8NMDegQIAhAI&biw=800&bih=600&dpr=1\n",
      "https://www.google.com/search?q=Nasdaq&sca_esv=556524961&tbas=0&tbs=cdr:1,cd_min:5/25/2022,cd_max:5/25/2022&tbm=nws&ei=hLjZZPjfFovs-AaY9YvwDw&start=20&sa=N&ved=2ahUKEwj4sYe-stuAAxULNt4KHZj6Av44ChDw0wN6BAgCEAk&biw=800&bih=600&dpr=1\n",
      "크롤링 준비\n"
     ]
    },
    {
     "name": "stderr",
     "output_type": "stream",
     "text": [
      "\n",
      "\n",
      "preprocessing day:  81%|██████████████████████████████████████████████████▊            | 25/31 [04:29<01:01, 10.30s/it]\u001b[A\u001b[A"
     ]
    },
    {
     "name": "stdout",
     "output_type": "stream",
     "text": [
      "다음날짜로 선택시작\n",
      "다음 날짜 선택 후 크롤링 준비\n",
      "https://www.google.com/search?q=Nasdaq&sca_esv=556524961&tbas=0&biw=800&bih=600&source=lnt&tbs=cdr%3A1%2Ccd_min%3A5%2F26%2F2022%2Ccd_max%3A5%2F26%2F2022&tbm=nws\n",
      "https://www.google.com/search?q=Nasdaq&sca_esv=556524961&tbas=0&tbs=cdr:1,cd_min:5/26/2022,cd_max:5/26/2022&tbm=nws&ei=jbjZZMuDCePX1e8P1pWAuAc&start=10&sa=N&ved=2ahUKEwiL_p7CstuAAxXja_UHHdYKAHcQ8NMDegQIBBAI&biw=800&bih=600&dpr=1\n",
      "https://www.google.com/search?q=Nasdaq&sca_esv=556524961&tbas=0&tbs=cdr:1,cd_min:5/26/2022,cd_max:5/26/2022&tbm=nws&ei=jrjZZLiCDNe-hwPM7JXgAQ&start=20&sa=N&ved=2ahUKEwi4gd_CstuAAxVX32EKHUx2BRw4ChDw0wN6BAgDEAk&biw=800&bih=600&dpr=1\n",
      "크롤링 준비\n"
     ]
    },
    {
     "name": "stderr",
     "output_type": "stream",
     "text": [
      "\n",
      "\n",
      "preprocessing day:  84%|████████████████████████████████████████████████████▊          | 26/31 [04:40<00:51, 10.25s/it]\u001b[A\u001b[A"
     ]
    },
    {
     "name": "stdout",
     "output_type": "stream",
     "text": [
      "다음날짜로 선택시작\n",
      "다음 날짜 선택 후 크롤링 준비\n",
      "https://www.google.com/search?q=Nasdaq&sca_esv=556524961&tbas=0&biw=800&bih=600&source=lnt&tbs=cdr%3A1%2Ccd_min%3A5%2F27%2F2022%2Ccd_max%3A5%2F27%2F2022&tbm=nws\n",
      "https://www.google.com/search?q=Nasdaq&sca_esv=556524961&tbas=0&tbs=cdr:1,cd_min:5/27/2022,cd_max:5/27/2022&tbm=nws&ei=l7jZZI3GEpH--Qa_25vYDQ&start=10&sa=N&ved=2ahUKEwjN7YrHstuAAxURf94KHb_tBtsQ8NMDegQIAxAK&biw=800&bih=600&dpr=1\n",
      "https://www.google.com/search?q=Nasdaq&sca_esv=556524961&tbas=0&tbs=cdr:1,cd_min:5/27/2022,cd_max:5/27/2022&tbm=nws&ei=mLjZZPqoEMX8hwPAs7VY&start=20&sa=N&ved=2ahUKEwj61MXHstuAAxVF_mEKHcBZDQs4ChDw0wN6BAgEEAs&biw=800&bih=600&dpr=1\n",
      "크롤링 준비\n"
     ]
    },
    {
     "name": "stderr",
     "output_type": "stream",
     "text": [
      "\n",
      "\n",
      "preprocessing day:  87%|██████████████████████████████████████████████████████▊        | 27/31 [04:49<00:40, 10.05s/it]\u001b[A\u001b[A"
     ]
    },
    {
     "name": "stdout",
     "output_type": "stream",
     "text": [
      "다음날짜로 선택시작\n",
      "다음 날짜 선택 후 크롤링 준비\n",
      "https://www.google.com/search?q=Nasdaq&sca_esv=556524961&tbas=0&biw=800&bih=600&source=lnt&tbs=cdr%3A1%2Ccd_min%3A5%2F28%2F2022%2Ccd_max%3A5%2F28%2F2022&tbm=nws\n",
      "Next button not found. Exiting loop.\n",
      "크롤링 준비\n"
     ]
    },
    {
     "name": "stderr",
     "output_type": "stream",
     "text": [
      "\n",
      "\n",
      "preprocessing day:  90%|████████████████████████████████████████████████████████▉      | 28/31 [05:02<00:32, 10.94s/it]\u001b[A\u001b[A"
     ]
    },
    {
     "name": "stdout",
     "output_type": "stream",
     "text": [
      "다음날짜로 선택시작\n",
      "다음 날짜 선택 후 크롤링 준비\n",
      "https://www.google.com/search?q=Nasdaq&sca_esv=556524961&tbas=0&biw=800&bih=600&source=lnt&tbs=cdr%3A1%2Ccd_min%3A5%2F29%2F2022%2Ccd_max%3A5%2F29%2F2022&tbm=nws\n",
      "Next button not found. Exiting loop.\n",
      "크롤링 준비\n"
     ]
    },
    {
     "name": "stderr",
     "output_type": "stream",
     "text": [
      "\n",
      "\n",
      "preprocessing day:  94%|██████████████████████████████████████████████████████████▉    | 29/31 [05:15<00:22, 11.50s/it]\u001b[A\u001b[A"
     ]
    },
    {
     "name": "stdout",
     "output_type": "stream",
     "text": [
      "다음날짜로 선택시작\n",
      "다음 날짜 선택 후 크롤링 준비\n",
      "https://www.google.com/search?q=Nasdaq&sca_esv=556524961&tbas=0&biw=800&bih=600&source=lnt&tbs=cdr%3A1%2Ccd_min%3A5%2F30%2F2022%2Ccd_max%3A5%2F30%2F2022&tbm=nws\n",
      "https://www.google.com/search?q=Nasdaq&sca_esv=556524961&tbas=0&tbs=cdr:1,cd_min:5/30/2022,cd_max:5/30/2022&tbm=nws&ei=urjZZITdLOLp1e8P6bGO-A8&start=10&sa=N&ved=2ahUKEwiEov3XstuAAxXidPUHHemYA_8Q8NMDegQIAxAG&biw=800&bih=600&dpr=1\n",
      "Next button not found. Exiting loop.\n",
      "크롤링 준비\n"
     ]
    },
    {
     "name": "stderr",
     "output_type": "stream",
     "text": [
      "\n",
      "\n",
      "preprocessing day:  97%|████████████████████████████████████████████████████████████▉  | 30/31 [05:29<00:12, 12.13s/it]\u001b[A\u001b[A"
     ]
    },
    {
     "name": "stdout",
     "output_type": "stream",
     "text": [
      "다음날짜로 선택시작\n",
      "다음 날짜 선택 후 크롤링 준비\n",
      "https://www.google.com/search?q=Nasdaq&sca_esv=556524961&tbas=0&biw=800&bih=600&source=lnt&tbs=cdr%3A1%2Ccd_min%3A5%2F31%2F2022%2Ccd_max%3A5%2F31%2F2022&tbm=nws\n",
      "https://www.google.com/search?q=Nasdaq&sca_esv=556524961&tbas=0&tbs=cdr:1,cd_min:5/31/2022,cd_max:5/31/2022&tbm=nws&ei=yLjZZMbjEJmKoATi_pSADQ&start=10&sa=N&ved=2ahUKEwjG57festuAAxUZBYgKHWI_BdAQ8NMDegQIAhAK&biw=800&bih=600&dpr=1\n",
      "https://www.google.com/search?q=Nasdaq&sca_esv=556524961&tbas=0&tbs=cdr:1,cd_min:5/31/2022,cd_max:5/31/2022&tbm=nws&ei=ybjZZOyLBMHi-AbG75PACg&start=20&sa=N&ved=2ahUKEwislOjestuAAxVBMd4KHcb3BKg4ChDw0wN6BAgDEAs&biw=800&bih=600&dpr=1\n",
      "크롤링 준비\n"
     ]
    },
    {
     "name": "stderr",
     "output_type": "stream",
     "text": [
      "\n",
      "\n",
      "preprocessing day: 100%|███████████████████████████████████████████████████████████████| 31/31 [05:38<00:00, 10.91s/it]\u001b[A\u001b[A\n",
      "\n",
      "preprocessing month:  42%|█████████████████████████▍                                   | 5/12 [28:04<39:17, 336.78s/it]\u001b[A"
     ]
    },
    {
     "name": "stdout",
     "output_type": "stream",
     "text": [
      "다음날짜로 선택시작\n"
     ]
    },
    {
     "name": "stderr",
     "output_type": "stream",
     "text": [
      "\n",
      "\n",
      "preprocessing day:   0%|                                                                        | 0/31 [00:00<?, ?it/s]\u001b[A\u001b[A"
     ]
    },
    {
     "name": "stdout",
     "output_type": "stream",
     "text": [
      "다음 날짜 선택 후 크롤링 준비\n",
      "https://www.google.com/search?q=Nasdaq&sca_esv=556524961&tbas=0&biw=800&bih=600&source=lnt&tbs=cdr%3A1%2Ccd_min%3A6%2F1%2F2022%2Ccd_max%3A6%2F1%2F2022&tbm=nws\n",
      "https://www.google.com/search?q=Nasdaq&sca_esv=556524961&tbas=0&tbs=cdr:1,cd_min:6/1/2022,cd_max:6/1/2022&tbm=nws&ei=0bjZZO67HNSq-QbDlYGoDQ&start=10&sa=N&ved=2ahUKEwiu6OjistuAAxVUVd4KHcNKANUQ8NMDegQIAxAM&biw=800&bih=600&dpr=1\n",
      "https://www.google.com/search?q=Nasdaq&sca_esv=556524961&tbas=0&tbs=cdr:1,cd_min:6/1/2022,cd_max:6/1/2022&tbm=nws&ei=0rjZZLS2Hujm1e8P0KeV4AI&start=20&sa=N&ved=2ahUKEwi056fjstuAAxVoc_UHHdBTBSw4ChDw0wN6BAgDEA0&biw=800&bih=600&dpr=1\n",
      "크롤링 준비\n"
     ]
    },
    {
     "name": "stderr",
     "output_type": "stream",
     "text": [
      "\n",
      "\n",
      "preprocessing day:   3%|██                                                              | 1/31 [00:09<04:48,  9.62s/it]\u001b[A\u001b[A"
     ]
    },
    {
     "name": "stdout",
     "output_type": "stream",
     "text": [
      "다음날짜로 선택시작\n",
      "다음 날짜 선택 후 크롤링 준비\n",
      "https://www.google.com/search?q=Nasdaq&sca_esv=556524961&tbas=0&biw=800&bih=600&source=lnt&tbs=cdr%3A1%2Ccd_min%3A6%2F2%2F2022%2Ccd_max%3A6%2F2%2F2022&tbm=nws\n",
      "https://www.google.com/search?q=Nasdaq&sca_esv=556524961&tbas=0&tbs=cdr:1,cd_min:6/2/2022,cd_max:6/2/2022&tbm=nws&ei=27jZZLCSAYH8-QbYrbyAAQ&start=10&sa=N&ved=2ahUKEwjw66_nstuAAxUBft4KHdgWDxAQ8NMDegQIAxAK&biw=800&bih=600&dpr=1\n",
      "https://www.google.com/search?q=Nasdaq&sca_esv=556524961&tbas=0&tbs=cdr:1,cd_min:6/2/2022,cd_max:6/2/2022&tbm=nws&ei=27jZZJ6ALpLY1e8Ph8-UwAU&start=20&sa=N&ved=2ahUKEwje2dznstuAAxUSbPUHHYcnBVg4ChDw0wN6BAgCEAs&biw=800&bih=600&dpr=1\n",
      "크롤링 준비\n"
     ]
    },
    {
     "name": "stderr",
     "output_type": "stream",
     "text": [
      "\n",
      "\n",
      "preprocessing day:   6%|████▏                                                           | 2/31 [00:19<04:41,  9.72s/it]\u001b[A\u001b[A"
     ]
    },
    {
     "name": "stdout",
     "output_type": "stream",
     "text": [
      "다음날짜로 선택시작\n",
      "다음 날짜 선택 후 크롤링 준비\n",
      "https://www.google.com/search?q=Nasdaq&sca_esv=556524961&tbas=0&biw=800&bih=600&source=lnt&tbs=cdr%3A1%2Ccd_min%3A6%2F3%2F2022%2Ccd_max%3A6%2F3%2F2022&tbm=nws\n",
      "https://www.google.com/search?q=Nasdaq&sca_esv=556524961&tbas=0&tbs=cdr:1,cd_min:6/3/2022,cd_max:6/3/2022&tbm=nws&ei=5LjZZMm7M9qMoATI-4cw&start=10&sa=N&ved=2ahUKEwjJvYfsstuAAxVaBogKHcj9AQYQ8NMDegQIAxAI&biw=800&bih=600&dpr=1\n",
      "https://www.google.com/search?q=Nasdaq&sca_esv=556524961&tbas=0&tbs=cdr:1,cd_min:6/3/2022,cd_max:6/3/2022&tbm=nws&ei=5bjZZKXVIoXn1e8P-P-g0AU&start=20&sa=N&ved=2ahUKEwjl27PsstuAAxWFc_UHHfg_CFo4ChDw0wN6BAgBEAk&biw=800&bih=600&dpr=1\n",
      "크롤링 준비\n"
     ]
    },
    {
     "name": "stderr",
     "output_type": "stream",
     "text": [
      "\n",
      "\n",
      "preprocessing day:  10%|██████▏                                                         | 3/31 [00:29<04:32,  9.74s/it]\u001b[A\u001b[A"
     ]
    },
    {
     "name": "stdout",
     "output_type": "stream",
     "text": [
      "다음날짜로 선택시작\n",
      "다음 날짜 선택 후 크롤링 준비\n",
      "https://www.google.com/search?q=Nasdaq&sca_esv=556524961&tbas=0&biw=800&bih=600&source=lnt&tbs=cdr%3A1%2Ccd_min%3A6%2F4%2F2022%2Ccd_max%3A6%2F4%2F2022&tbm=nws\n",
      "Next button not found. Exiting loop.\n",
      "크롤링 준비\n"
     ]
    },
    {
     "name": "stderr",
     "output_type": "stream",
     "text": [
      "\n",
      "\n",
      "preprocessing day:  13%|████████▎                                                       | 4/31 [00:42<05:00, 11.14s/it]\u001b[A\u001b[A"
     ]
    },
    {
     "name": "stdout",
     "output_type": "stream",
     "text": [
      "다음날짜로 선택시작\n",
      "다음 날짜 선택 후 크롤링 준비\n",
      "https://www.google.com/search?q=Nasdaq&sca_esv=556524961&tbas=0&biw=800&bih=600&source=lnt&tbs=cdr%3A1%2Ccd_min%3A6%2F5%2F2022%2Ccd_max%3A6%2F5%2F2022&tbm=nws\n",
      "Next button not found. Exiting loop.\n",
      "크롤링 준비\n"
     ]
    },
    {
     "name": "stderr",
     "output_type": "stream",
     "text": [
      "\n",
      "\n",
      "preprocessing day:  16%|██████████▎                                                     | 5/31 [00:55<05:09, 11.90s/it]\u001b[A\u001b[A"
     ]
    },
    {
     "name": "stdout",
     "output_type": "stream",
     "text": [
      "다음날짜로 선택시작\n",
      "다음 날짜 선택 후 크롤링 준비\n",
      "https://www.google.com/search?q=Nasdaq&sca_esv=556524961&tbas=0&biw=800&bih=600&source=lnt&tbs=cdr%3A1%2Ccd_min%3A6%2F6%2F2022%2Ccd_max%3A6%2F6%2F2022&tbm=nws\n",
      "https://www.google.com/search?q=Nasdaq&sca_esv=556524961&tbas=0&tbs=cdr:1,cd_min:6/6/2022,cd_max:6/6/2022&tbm=nws&ei=CbnZZP_JDIKQoASV25mIAg&start=10&sa=N&ved=2ahUKEwi_8rL9stuAAxUCCIgKHZVtBiEQ8NMDegQIBBAI&biw=800&bih=600&dpr=1\n",
      "https://www.google.com/search?q=Nasdaq&sca_esv=556524961&tbas=0&tbs=cdr:1,cd_min:6/6/2022,cd_max:6/6/2022&tbm=nws&ei=CrnZZK71AZT3wAOqjJ6AAQ&start=20&sa=N&ved=2ahUKEwiuouX9stuAAxWUO3AKHSqGBxA4ChDw0wN6BAgDEAk&biw=800&bih=600&dpr=1\n",
      "크롤링 준비\n"
     ]
    },
    {
     "name": "stderr",
     "output_type": "stream",
     "text": [
      "\n",
      "\n",
      "preprocessing day:  19%|████████████▍                                                   | 6/31 [01:05<04:38, 11.14s/it]\u001b[A\u001b[A"
     ]
    },
    {
     "name": "stdout",
     "output_type": "stream",
     "text": [
      "다음날짜로 선택시작\n",
      "다음 날짜 선택 후 크롤링 준비\n",
      "https://www.google.com/search?q=Nasdaq&sca_esv=556524961&tbas=0&biw=800&bih=600&source=lnt&tbs=cdr%3A1%2Ccd_min%3A6%2F7%2F2022%2Ccd_max%3A6%2F7%2F2022&tbm=nws\n",
      "https://www.google.com/search?q=Nasdaq&sca_esv=556524961&tbas=0&tbs=cdr:1,cd_min:6/7/2022,cd_max:6/7/2022&tbm=nws&ei=ErnZZN_FMceNoAS1gbOoDQ&start=10&sa=N&ved=2ahUKEwjflv2Bs9uAAxXHBogKHbXADNUQ8NMDegQIBBAI&biw=800&bih=600&dpr=1\n",
      "https://www.google.com/search?q=Nasdaq&sca_esv=556524961&tbas=0&tbs=cdr:1,cd_min:6/7/2022,cd_max:6/7/2022&tbm=nws&ei=E7nZZIv5JI7s-Aa05bTYBw&start=20&sa=N&ved=2ahUKEwjLzq2Cs9uAAxUONt4KHbQyDXs4ChDw0wN6BAgEEAk&biw=800&bih=600&dpr=1\n",
      "크롤링 준비\n"
     ]
    },
    {
     "name": "stderr",
     "output_type": "stream",
     "text": [
      "\n",
      "\n",
      "preprocessing day:  23%|██████████████▍                                                 | 7/31 [01:14<04:13, 10.57s/it]\u001b[A\u001b[A"
     ]
    },
    {
     "name": "stdout",
     "output_type": "stream",
     "text": [
      "다음날짜로 선택시작\n",
      "다음 날짜 선택 후 크롤링 준비\n",
      "https://www.google.com/search?q=Nasdaq&sca_esv=556524961&tbas=0&biw=800&bih=600&source=lnt&tbs=cdr%3A1%2Ccd_min%3A6%2F8%2F2022%2Ccd_max%3A6%2F8%2F2022&tbm=nws\n",
      "https://www.google.com/search?q=Nasdaq&sca_esv=556524961&tbas=0&tbs=cdr:1,cd_min:6/8/2022,cd_max:6/8/2022&tbm=nws&ei=HLnZZN-mC4GG-QaXsbaoAQ&start=10&sa=N&ved=2ahUKEwjfpLmGs9uAAxUBQ94KHZeYDRUQ8NMDegQIARAK&biw=800&bih=600&dpr=1\n",
      "https://www.google.com/search?q=Nasdaq&sca_esv=556524961&tbas=0&tbs=cdr:1,cd_min:6/8/2022,cd_max:6/8/2022&tbm=nws&ei=HbnZZMHpCdqzoAT2xqvgDg&start=20&sa=N&ved=2ahUKEwiB7PSGs9uAAxXaGYgKHXbjCuw4ChDw0wN6BAgDEAs&biw=800&bih=600&dpr=1\n",
      "크롤링 준비\n"
     ]
    },
    {
     "name": "stderr",
     "output_type": "stream",
     "text": [
      "\n",
      "\n",
      "preprocessing day:  26%|████████████████▌                                               | 8/31 [01:24<03:55, 10.22s/it]\u001b[A\u001b[A"
     ]
    },
    {
     "name": "stdout",
     "output_type": "stream",
     "text": [
      "다음날짜로 선택시작\n",
      "다음 날짜 선택 후 크롤링 준비\n",
      "https://www.google.com/search?q=Nasdaq&sca_esv=556524961&tbas=0&biw=800&bih=600&source=lnt&tbs=cdr%3A1%2Ccd_min%3A6%2F9%2F2022%2Ccd_max%3A6%2F9%2F2022&tbm=nws\n",
      "https://www.google.com/search?q=Nasdaq&sca_esv=556524961&tbas=0&tbs=cdr:1,cd_min:6/9/2022,cd_max:6/9/2022&tbm=nws&ei=JbnZZMbOK8i8hwOt4avoBg&start=10&sa=N&ved=2ahUKEwiG9f6Ks9uAAxVI3mEKHa3wCm0Q8NMDegQIAhAI&biw=800&bih=600&dpr=1\n",
      "https://www.google.com/search?q=Nasdaq&sca_esv=556524961&tbas=0&tbs=cdr:1,cd_min:6/9/2022,cd_max:6/9/2022&tbm=nws&ei=JrnZZPyVJpHs-AaD-aL4Bw&start=20&sa=N&ved=2ahUKEwj8wLaLs9uAAxURNt4KHYO8CH84ChDw0wN6BAgEEAk&biw=800&bih=600&dpr=1\n",
      "크롤링 준비\n"
     ]
    },
    {
     "name": "stderr",
     "output_type": "stream",
     "text": [
      "\n",
      "\n",
      "preprocessing day:  29%|██████████████████▌                                             | 9/31 [01:33<03:40, 10.01s/it]\u001b[A\u001b[A"
     ]
    },
    {
     "name": "stdout",
     "output_type": "stream",
     "text": [
      "다음날짜로 선택시작\n",
      "다음 날짜 선택 후 크롤링 준비\n",
      "https://www.google.com/search?q=Nasdaq&sca_esv=556524961&tbas=0&biw=800&bih=600&source=lnt&tbs=cdr%3A1%2Ccd_min%3A6%2F10%2F2022%2Ccd_max%3A6%2F10%2F2022&tbm=nws\n",
      "https://www.google.com/search?q=Nasdaq&sca_esv=556524961&tbas=0&tbs=cdr:1,cd_min:6/10/2022,cd_max:6/10/2022&tbm=nws&ei=L7nZZK_QD9W5hwOJ6JGICQ&start=10&sa=N&ved=2ahUKEwjvo8WPs9uAAxXV3GEKHQl0BJEQ8NMDegQIBBAI&biw=800&bih=600&dpr=1\n",
      "https://www.google.com/search?q=Nasdaq&sca_esv=556524961&tbas=0&tbs=cdr:1,cd_min:6/10/2022,cd_max:6/10/2022&tbm=nws&ei=MLnZZN_CCsjV1e8P4PSkmAo&start=20&sa=N&ved=2ahUKEwjfmv2Ps9uAAxXIavUHHWA6CaM4ChDw0wN6BAgDEAk&biw=800&bih=600&dpr=1\n",
      "크롤링 준비\n"
     ]
    },
    {
     "name": "stderr",
     "output_type": "stream",
     "text": [
      "\n",
      "\n",
      "preprocessing day:  32%|████████████████████▎                                          | 10/31 [01:44<03:31, 10.08s/it]\u001b[A\u001b[A"
     ]
    },
    {
     "name": "stdout",
     "output_type": "stream",
     "text": [
      "다음날짜로 선택시작\n",
      "다음 날짜 선택 후 크롤링 준비\n",
      "https://www.google.com/search?q=Nasdaq&sca_esv=556524961&tbas=0&biw=800&bih=600&source=lnt&tbs=cdr%3A1%2Ccd_min%3A6%2F11%2F2022%2Ccd_max%3A6%2F11%2F2022&tbm=nws\n",
      "Next button not found. Exiting loop.\n",
      "크롤링 준비\n"
     ]
    },
    {
     "name": "stderr",
     "output_type": "stream",
     "text": [
      "\n",
      "\n",
      "preprocessing day:  35%|██████████████████████▎                                        | 11/31 [01:57<03:41, 11.06s/it]\u001b[A\u001b[A"
     ]
    },
    {
     "name": "stdout",
     "output_type": "stream",
     "text": [
      "다음날짜로 선택시작\n",
      "다음 날짜 선택 후 크롤링 준비\n",
      "https://www.google.com/search?q=Nasdaq&sca_esv=556524961&tbas=0&biw=800&bih=600&source=lnt&tbs=cdr%3A1%2Ccd_min%3A6%2F12%2F2022%2Ccd_max%3A6%2F12%2F2022&tbm=nws\n",
      "https://www.google.com/search?q=Nasdaq&sca_esv=556524961&tbas=0&tbs=cdr:1,cd_min:6/12/2022,cd_max:6/12/2022&tbm=nws&ei=RrnZZLfnLKXG1e8PnvWLSA&start=10&sa=N&ved=2ahUKEwi3ot6as9uAAxUlY_UHHZ76AgkQ8NMDegQIBBAG&biw=800&bih=600&dpr=1\n",
      "Next button not found. Exiting loop.\n",
      "크롤링 준비\n"
     ]
    },
    {
     "name": "stderr",
     "output_type": "stream",
     "text": [
      "\n",
      "\n",
      "preprocessing day:  39%|████████████████████████▍                                      | 12/31 [02:11<03:46, 11.90s/it]\u001b[A\u001b[A"
     ]
    },
    {
     "name": "stdout",
     "output_type": "stream",
     "text": [
      "다음날짜로 선택시작\n",
      "다음 날짜 선택 후 크롤링 준비\n",
      "https://www.google.com/search?q=Nasdaq&sca_esv=556524961&tbas=0&biw=800&bih=600&source=lnt&tbs=cdr%3A1%2Ccd_min%3A6%2F13%2F2022%2Ccd_max%3A6%2F13%2F2022&tbm=nws\n",
      "https://www.google.com/search?q=Nasdaq&sca_esv=556524961&tbas=0&tbs=cdr:1,cd_min:6/13/2022,cd_max:6/13/2022&tbm=nws&ei=VLnZZICaKI79hwPlm7_YAQ&start=10&sa=N&ved=2ahUKEwiAlLChs9uAAxWO_mEKHeXNDxsQ8NMDegQIBBAM&biw=800&bih=600&dpr=1\n",
      "https://www.google.com/search?q=Nasdaq&sca_esv=556524961&tbas=0&tbs=cdr:1,cd_min:6/13/2022,cd_max:6/13/2022&tbm=nws&ei=VbnZZKztFcXy-QbZ77zYDA&start=20&sa=N&ved=2ahUKEwjs69qhs9uAAxVFed4KHdk3D8s4ChDw0wN6BAgCEA0&biw=800&bih=600&dpr=1\n",
      "크롤링 준비\n"
     ]
    },
    {
     "name": "stderr",
     "output_type": "stream",
     "text": [
      "\n",
      "\n",
      "preprocessing day:  42%|██████████████████████████▍                                    | 13/31 [02:20<03:20, 11.12s/it]\u001b[A\u001b[A"
     ]
    },
    {
     "name": "stdout",
     "output_type": "stream",
     "text": [
      "다음날짜로 선택시작\n",
      "다음 날짜 선택 후 크롤링 준비\n",
      "https://www.google.com/search?q=Nasdaq&sca_esv=556524961&tbas=0&biw=800&bih=600&source=lnt&tbs=cdr%3A1%2Ccd_min%3A6%2F14%2F2022%2Ccd_max%3A6%2F14%2F2022&tbm=nws\n",
      "https://www.google.com/search?q=Nasdaq&sca_esv=556524961&tbas=0&tbs=cdr:1,cd_min:6/14/2022,cd_max:6/14/2022&tbm=nws&ei=XbnZZL-qMIXq-AbZipAQ&start=10&sa=N&ved=2ahUKEwj_zN2ls9uAAxUFNd4KHVkFBAIQ8NMDegQIAhAI&biw=800&bih=600&dpr=1\n",
      "https://www.google.com/search?q=Nasdaq&sca_esv=556524961&tbas=0&tbs=cdr:1,cd_min:6/14/2022,cd_max:6/14/2022&tbm=nws&ei=XrnZZL-CJd_O1e8PkaS0gAs&start=20&sa=N&ved=2ahUKEwi_qY-ms9uAAxVfZ_UHHRESDbA4ChDw0wN6BAgDEAk&biw=800&bih=600&dpr=1\n",
      "크롤링 준비\n"
     ]
    },
    {
     "name": "stderr",
     "output_type": "stream",
     "text": [
      "\n",
      "\n",
      "preprocessing day:  45%|████████████████████████████▍                                  | 14/31 [02:29<03:00, 10.59s/it]\u001b[A\u001b[A"
     ]
    },
    {
     "name": "stdout",
     "output_type": "stream",
     "text": [
      "다음날짜로 선택시작\n",
      "다음 날짜 선택 후 크롤링 준비\n",
      "https://www.google.com/search?q=Nasdaq&sca_esv=556524961&tbas=0&biw=800&bih=600&source=lnt&tbs=cdr%3A1%2Ccd_min%3A6%2F15%2F2022%2Ccd_max%3A6%2F15%2F2022&tbm=nws\n",
      "https://www.google.com/search?q=Nasdaq&sca_esv=556524961&tbas=0&tbs=cdr:1,cd_min:6/15/2022,cd_max:6/15/2022&tbm=nws&ei=Z7nZZMqLEoyE-Abl9ZuYAQ&start=10&sa=N&ved=2ahUKEwiK26Gqs9uAAxUMAt4KHeX6BhMQ8NMDegQIAxAI&biw=800&bih=600&dpr=1\n",
      "https://www.google.com/search?q=Nasdaq&sca_esv=556524961&tbas=0&tbs=cdr:1,cd_min:6/15/2022,cd_max:6/15/2022&tbm=nws&ei=aLnZZJOCCozO-QbVvKCgAw&start=20&sa=N&ved=2ahUKEwiT1taqs9uAAxUMZ94KHVUeCDQ4ChDw0wN6BAgCEAk&biw=800&bih=600&dpr=1\n",
      "크롤링 준비\n"
     ]
    },
    {
     "name": "stderr",
     "output_type": "stream",
     "text": [
      "\n",
      "\n",
      "preprocessing day:  48%|██████████████████████████████▍                                | 15/31 [02:39<02:44, 10.26s/it]\u001b[A\u001b[A"
     ]
    },
    {
     "name": "stdout",
     "output_type": "stream",
     "text": [
      "다음날짜로 선택시작\n",
      "다음 날짜 선택 후 크롤링 준비\n",
      "https://www.google.com/search?q=Nasdaq&sca_esv=556524961&tbas=0&biw=800&bih=600&source=lnt&tbs=cdr%3A1%2Ccd_min%3A6%2F16%2F2022%2Ccd_max%3A6%2F16%2F2022&tbm=nws\n",
      "https://www.google.com/search?q=Nasdaq&sca_esv=556524961&tbas=0&tbs=cdr:1,cd_min:6/16/2022,cd_max:6/16/2022&tbm=nws&ei=cLnZZJaoLqfs1e8Pz7Kw8AI&start=10&sa=N&ved=2ahUKEwiWoOOus9uAAxUndvUHHU8ZDC4Q8NMDegQIAxAI&biw=800&bih=600&dpr=1\n",
      "https://www.google.com/search?q=Nasdaq&sca_esv=556524961&tbas=0&tbs=cdr:1,cd_min:6/16/2022,cd_max:6/16/2022&tbm=nws&ei=cbnZZLeFPNOB1e8PqMiiOA&start=20&sa=N&ved=2ahUKEwj3ga6vs9uAAxXTQPUHHSikCAc4ChDw0wN6BAgEEAk&biw=800&bih=600&dpr=1\n",
      "크롤링 준비\n"
     ]
    },
    {
     "name": "stderr",
     "output_type": "stream",
     "text": [
      "\n",
      "\n",
      "preprocessing day:  52%|████████████████████████████████▌                              | 16/31 [02:49<02:33, 10.20s/it]\u001b[A\u001b[A"
     ]
    },
    {
     "name": "stdout",
     "output_type": "stream",
     "text": [
      "다음날짜로 선택시작\n",
      "다음 날짜 선택 후 크롤링 준비\n",
      "https://www.google.com/search?q=Nasdaq&sca_esv=556524961&tbas=0&biw=800&bih=600&source=lnt&tbs=cdr%3A1%2Ccd_min%3A6%2F17%2F2022%2Ccd_max%3A6%2F17%2F2022&tbm=nws\n",
      "https://www.google.com/search?q=Nasdaq&sca_esv=556524961&tbas=0&tbs=cdr:1,cd_min:6/17/2022,cd_max:6/17/2022&tbm=nws&ei=ernZZOSLMIXq1e8PhpWl2A8&start=10&sa=N&ved=2ahUKEwjksMezs9uAAxUFdfUHHYZKCfsQ8NMDegQIAhAK&biw=800&bih=600&dpr=1\n",
      "https://www.google.com/search?q=Nasdaq&sca_esv=556524961&tbas=0&tbs=cdr:1,cd_min:6/17/2022,cd_max:6/17/2022&tbm=nws&ei=e7nZZPyPK8re1e8Px9-7gAs&start=20&sa=N&ved=2ahUKEwi8uf-zs9uAAxVKb_UHHcfvDrA4ChDw0wN6BAgBEAs&biw=800&bih=600&dpr=1\n",
      "크롤링 준비\n"
     ]
    },
    {
     "name": "stderr",
     "output_type": "stream",
     "text": [
      "\n",
      "\n",
      "preprocessing day:  55%|██████████████████████████████████▌                            | 17/31 [02:58<02:19,  9.97s/it]\u001b[A\u001b[A"
     ]
    },
    {
     "name": "stdout",
     "output_type": "stream",
     "text": [
      "다음날짜로 선택시작\n",
      "다음 날짜 선택 후 크롤링 준비\n",
      "https://www.google.com/search?q=Nasdaq&sca_esv=556524961&tbas=0&biw=800&bih=600&source=lnt&tbs=cdr%3A1%2Ccd_min%3A6%2F18%2F2022%2Ccd_max%3A6%2F18%2F2022&tbm=nws\n",
      "Next button not found. Exiting loop.\n",
      "크롤링 준비\n"
     ]
    },
    {
     "name": "stderr",
     "output_type": "stream",
     "text": [
      "\n",
      "\n",
      "preprocessing day:  58%|████████████████████████████████████▌                          | 18/31 [03:12<02:22, 10.95s/it]\u001b[A\u001b[A"
     ]
    },
    {
     "name": "stdout",
     "output_type": "stream",
     "text": [
      "다음날짜로 선택시작\n",
      "다음 날짜 선택 후 크롤링 준비\n",
      "https://www.google.com/search?q=Nasdaq&sca_esv=556524961&tbas=0&biw=800&bih=600&source=lnt&tbs=cdr%3A1%2Ccd_min%3A6%2F19%2F2022%2Ccd_max%3A6%2F19%2F2022&tbm=nws\n",
      "https://www.google.com/search?q=Nasdaq&sca_esv=556524961&tbas=0&tbs=cdr:1,cd_min:6/19/2022,cd_max:6/19/2022&tbm=nws&ei=kbnZZKn8GM3h1e8Ph6SpiAg&start=10&sa=N&ved=2ahUKEwjpiKy-s9uAAxXNcPUHHQdSCoEQ8NMDegQIBBAG&biw=800&bih=600&dpr=1\n",
      "Next button not found. Exiting loop.\n",
      "크롤링 준비\n"
     ]
    },
    {
     "name": "stderr",
     "output_type": "stream",
     "text": [
      "\n",
      "\n",
      "preprocessing day:  61%|██████████████████████████████████████▌                        | 19/31 [03:25<02:20, 11.70s/it]\u001b[A\u001b[A"
     ]
    },
    {
     "name": "stdout",
     "output_type": "stream",
     "text": [
      "다음날짜로 선택시작\n",
      "다음 날짜 선택 후 크롤링 준비\n",
      "https://www.google.com/search?q=Nasdaq&sca_esv=556524961&tbas=0&biw=800&bih=600&source=lnt&tbs=cdr%3A1%2Ccd_min%3A6%2F20%2F2022%2Ccd_max%3A6%2F20%2F2022&tbm=nws\n",
      "https://www.google.com/search?q=Nasdaq&sca_esv=556524961&tbas=0&tbs=cdr:1,cd_min:6/20/2022,cd_max:6/20/2022&tbm=nws&ei=nrnZZLXSNc36hwP94LfgDA&start=10&sa=N&ved=2ahUKEwi1meLEs9uAAxVN_WEKHX3wDcwQ8NMDegQIAxAI&biw=800&bih=600&dpr=1\n",
      "https://www.google.com/search?q=Nasdaq&sca_esv=556524961&tbas=0&tbs=cdr:1,cd_min:6/20/2022,cd_max:6/20/2022&tbm=nws&ei=n7nZZNXJL9qlhwON5IXIBg&start=20&sa=N&ved=2ahUKEwiVlZnFs9uAAxXa0mEKHQ1yAWk4ChDw0wN6BAgBEAk&biw=800&bih=600&dpr=1\n",
      "크롤링 준비\n"
     ]
    },
    {
     "name": "stderr",
     "output_type": "stream",
     "text": [
      "\n",
      "\n",
      "preprocessing day:  65%|████████████████████████████████████████▋                      | 20/31 [03:35<02:03, 11.19s/it]\u001b[A\u001b[A"
     ]
    },
    {
     "name": "stdout",
     "output_type": "stream",
     "text": [
      "다음날짜로 선택시작\n",
      "다음 날짜 선택 후 크롤링 준비\n",
      "https://www.google.com/search?q=Nasdaq&sca_esv=556524961&tbas=0&biw=800&bih=600&source=lnt&tbs=cdr%3A1%2Ccd_min%3A6%2F21%2F2022%2Ccd_max%3A6%2F21%2F2022&tbm=nws\n",
      "https://www.google.com/search?q=Nasdaq&sca_esv=556524961&tbas=0&tbs=cdr:1,cd_min:6/21/2022,cd_max:6/21/2022&tbm=nws&ei=qLnZZNP2OZrI1e8PwaOw4AI&start=10&sa=N&ved=2ahUKEwjT6sjJs9uAAxUaZPUHHcERDCwQ8NMDegQIBBAI&biw=800&bih=600&dpr=1\n",
      "https://www.google.com/search?q=Nasdaq&sca_esv=556524961&tbas=0&tbs=cdr:1,cd_min:6/21/2022,cd_max:6/21/2022&tbm=nws&ei=qbnZZK2mK9Tp-AaPs6e4DA&start=20&sa=N&ved=2ahUKEwjtnvfJs9uAAxXUNN4KHY_ZCcc4ChDw0wN6BAgDEAk&biw=800&bih=600&dpr=1\n",
      "크롤링 준비\n"
     ]
    },
    {
     "name": "stderr",
     "output_type": "stream",
     "text": [
      "\n",
      "\n",
      "preprocessing day:  68%|██████████████████████████████████████████▋                    | 21/31 [03:44<01:45, 10.60s/it]\u001b[A\u001b[A"
     ]
    },
    {
     "name": "stdout",
     "output_type": "stream",
     "text": [
      "다음날짜로 선택시작\n",
      "다음 날짜 선택 후 크롤링 준비\n",
      "https://www.google.com/search?q=Nasdaq&sca_esv=556524961&tbas=0&biw=800&bih=600&source=lnt&tbs=cdr%3A1%2Ccd_min%3A6%2F22%2F2022%2Ccd_max%3A6%2F22%2F2022&tbm=nws\n",
      "https://www.google.com/search?q=Nasdaq&sca_esv=556524961&tbas=0&tbs=cdr:1,cd_min:6/22/2022,cd_max:6/22/2022&tbm=nws&ei=srnZZICfAY6-hwOgkaXgBA&start=10&sa=N&ved=2ahUKEwiAwPLNs9uAAxUO32EKHaBICUwQ8NMDegQIBBAI&biw=800&bih=600&dpr=1\n",
      "https://www.google.com/search?q=Nasdaq&sca_esv=556524961&tbas=0&tbs=cdr:1,cd_min:6/22/2022,cd_max:6/22/2022&tbm=nws&ei=srnZZK_bOdCB1e8PyP24oA8&start=20&sa=N&ved=2ahUKEwiv_KrOs9uAAxXQQPUHHcg-DvQ4ChDw0wN6BAgDEAk&biw=800&bih=600&dpr=1\n",
      "크롤링 준비\n"
     ]
    },
    {
     "name": "stderr",
     "output_type": "stream",
     "text": [
      "\n",
      "\n",
      "preprocessing day:  71%|████████████████████████████████████████████▋                  | 22/31 [03:54<01:32, 10.30s/it]\u001b[A\u001b[A"
     ]
    },
    {
     "name": "stdout",
     "output_type": "stream",
     "text": [
      "다음날짜로 선택시작\n",
      "다음 날짜 선택 후 크롤링 준비\n",
      "https://www.google.com/search?q=Nasdaq&sca_esv=556524961&tbas=0&biw=800&bih=600&source=lnt&tbs=cdr%3A1%2Ccd_min%3A6%2F23%2F2022%2Ccd_max%3A6%2F23%2F2022&tbm=nws\n",
      "https://www.google.com/search?q=Nasdaq&sca_esv=556524961&tbas=0&tbs=cdr:1,cd_min:6/23/2022,cd_max:6/23/2022&tbm=nws&ei=u7nZZMn2KI7_-QaktIToDg&start=10&sa=N&ved=2ahUKEwiJwL_Ss9uAAxWOf94KHSQaAe0Q8NMDegQIAxAI&biw=800&bih=600&dpr=1\n",
      "https://www.google.com/search?q=Nasdaq&sca_esv=556524961&tbas=0&tbs=cdr:1,cd_min:6/23/2022,cd_max:6/23/2022&tbm=nws&ei=vLnZZN71IImSoAS8kb6YCg&start=20&sa=N&ved=2ahUKEwjew_TSs9uAAxUJCYgKHbyID6M4ChDw0wN6BAgEEAk&biw=800&bih=600&dpr=1\n",
      "크롤링 준비\n"
     ]
    },
    {
     "name": "stderr",
     "output_type": "stream",
     "text": [
      "\n",
      "\n",
      "preprocessing day:  74%|██████████████████████████████████████████████▋                | 23/31 [04:04<01:21, 10.17s/it]\u001b[A\u001b[A"
     ]
    },
    {
     "name": "stdout",
     "output_type": "stream",
     "text": [
      "다음날짜로 선택시작\n",
      "다음 날짜 선택 후 크롤링 준비\n",
      "https://www.google.com/search?q=Nasdaq&sca_esv=556524961&tbas=0&biw=800&bih=600&source=lnt&tbs=cdr%3A1%2Ccd_min%3A6%2F24%2F2022%2Ccd_max%3A6%2F24%2F2022&tbm=nws\n",
      "https://www.google.com/search?q=Nasdaq&sca_esv=556524961&tbas=0&tbs=cdr:1,cd_min:6/24/2022,cd_max:6/24/2022&tbm=nws&ei=xbnZZN3fJY_b1e8PxoCZoA8&start=10&sa=N&ved=2ahUKEwid1p7Xs9uAAxWPbfUHHUZABvQQ8NMDegQIBRAI&biw=800&bih=600&dpr=1\n",
      "https://www.google.com/search?q=Nasdaq&sca_esv=556524961&tbas=0&tbs=cdr:1,cd_min:6/24/2022,cd_max:6/24/2022&tbm=nws&ei=xrnZZIyAFdXo-AbkwqGYCQ&start=20&sa=N&ved=2ahUKEwiM-8rXs9uAAxVVNN4KHWRhCJM4ChDw0wN6BAgBEAk&biw=800&bih=600&dpr=1\n",
      "크롤링 준비\n"
     ]
    },
    {
     "name": "stderr",
     "output_type": "stream",
     "text": [
      "\n",
      "\n",
      "preprocessing day:  77%|████████████████████████████████████████████████▊              | 24/31 [04:13<01:10, 10.03s/it]\u001b[A\u001b[A"
     ]
    },
    {
     "name": "stdout",
     "output_type": "stream",
     "text": [
      "다음날짜로 선택시작\n",
      "다음 날짜 선택 후 크롤링 준비\n",
      "https://www.google.com/search?q=Nasdaq&sca_esv=556524961&tbas=0&biw=800&bih=600&source=lnt&tbs=cdr%3A1%2Ccd_min%3A6%2F25%2F2022%2Ccd_max%3A6%2F25%2F2022&tbm=nws\n",
      "Next button not found. Exiting loop.\n",
      "크롤링 준비\n"
     ]
    },
    {
     "name": "stderr",
     "output_type": "stream",
     "text": [
      "\n",
      "\n",
      "preprocessing day:  81%|██████████████████████████████████████████████████▊            | 25/31 [04:26<01:04, 10.80s/it]\u001b[A\u001b[A"
     ]
    },
    {
     "name": "stdout",
     "output_type": "stream",
     "text": [
      "다음날짜로 선택시작\n",
      "다음 날짜 선택 후 크롤링 준비\n",
      "https://www.google.com/search?q=Nasdaq&sca_esv=556524961&tbas=0&biw=800&bih=600&source=lnt&tbs=cdr%3A1%2Ccd_min%3A6%2F26%2F2022%2Ccd_max%3A6%2F26%2F2022&tbm=nws\n",
      "Next button not found. Exiting loop.\n",
      "크롤링 준비\n"
     ]
    },
    {
     "name": "stderr",
     "output_type": "stream",
     "text": [
      "\n",
      "\n",
      "preprocessing day:  84%|████████████████████████████████████████████████████▊          | 26/31 [04:39<00:56, 11.36s/it]\u001b[A\u001b[A"
     ]
    },
    {
     "name": "stdout",
     "output_type": "stream",
     "text": [
      "다음날짜로 선택시작\n",
      "다음 날짜 선택 후 크롤링 준비\n",
      "https://www.google.com/search?q=Nasdaq&sca_esv=556524961&tbas=0&biw=800&bih=600&source=lnt&tbs=cdr%3A1%2Ccd_min%3A6%2F27%2F2022%2Ccd_max%3A6%2F27%2F2022&tbm=nws\n",
      "https://www.google.com/search?q=Nasdaq&sca_esv=556524961&tbas=0&tbs=cdr:1,cd_min:6/27/2022,cd_max:6/27/2022&tbm=nws&ei=6LnZZM2BIcGp-Qatx7GYAQ&start=10&sa=N&ved=2ahUKEwjNlfLns9uAAxXBVN4KHa1jDBMQ8NMDegQIAhAI&biw=800&bih=600&dpr=1\n",
      "https://www.google.com/search?q=Nasdaq&sca_esv=556524961&tbas=0&tbs=cdr:1,cd_min:6/27/2022,cd_max:6/27/2022&tbm=nws&ei=6bnZZN3gItbq-AaBw79o&start=20&sa=N&ved=2ahUKEwid-bDos9uAAxVWNd4KHYHhDw04ChDw0wN6BAgCEAk&biw=800&bih=600&dpr=1\n",
      "크롤링 준비\n"
     ]
    },
    {
     "name": "stderr",
     "output_type": "stream",
     "text": [
      "\n",
      "\n",
      "preprocessing day:  87%|██████████████████████████████████████████████████████▊        | 27/31 [04:48<00:42, 10.74s/it]\u001b[A\u001b[A"
     ]
    },
    {
     "name": "stdout",
     "output_type": "stream",
     "text": [
      "다음날짜로 선택시작\n",
      "다음 날짜 선택 후 크롤링 준비\n",
      "https://www.google.com/search?q=Nasdaq&sca_esv=556524961&tbas=0&biw=800&bih=600&source=lnt&tbs=cdr%3A1%2Ccd_min%3A6%2F28%2F2022%2Ccd_max%3A6%2F28%2F2022&tbm=nws\n",
      "https://www.google.com/search?q=Nasdaq&sca_esv=556524961&tbas=0&tbs=cdr:1,cd_min:6/28/2022,cd_max:6/28/2022&tbm=nws&ei=8bnZZK-RMND8-Qaxzp3gDw&start=10&sa=N&ved=2ahUKEwjvzabss9uAAxVQft4KHTFnB_wQ8NMDegQIAxAI&biw=800&bih=600&dpr=1\n",
      "https://www.google.com/search?q=Nasdaq&sca_esv=556524961&tbas=0&tbs=cdr:1,cd_min:6/28/2022,cd_max:6/28/2022&tbm=nws&ei=8rnZZNuqMMn0hwPT2LDgBg&start=20&sa=N&ved=2ahUKEwjb6-Pss9uAAxVJ-mEKHVMsDGw4ChDw0wN6BAgCEAk&biw=800&bih=600&dpr=1\n",
      "크롤링 준비\n"
     ]
    },
    {
     "name": "stderr",
     "output_type": "stream",
     "text": [
      "\n",
      "\n",
      "preprocessing day:  90%|████████████████████████████████████████████████████████▉      | 28/31 [04:58<00:31, 10.44s/it]\u001b[A\u001b[A"
     ]
    },
    {
     "name": "stdout",
     "output_type": "stream",
     "text": [
      "다음날짜로 선택시작\n",
      "다음 날짜 선택 후 크롤링 준비\n",
      "https://www.google.com/search?q=Nasdaq&sca_esv=556524961&tbas=0&biw=800&bih=600&source=lnt&tbs=cdr%3A1%2Ccd_min%3A6%2F29%2F2022%2Ccd_max%3A6%2F29%2F2022&tbm=nws\n",
      "https://www.google.com/search?q=Nasdaq&sca_esv=556524961&tbas=0&tbs=cdr:1,cd_min:6/29/2022,cd_max:6/29/2022&tbm=nws&ei=-7nZZLPsItiQhwOMyYt4&start=10&sa=N&ved=2ahUKEwjz1fvws9uAAxVYyGEKHYzkAg8Q8NMDegQIAxAI&biw=800&bih=600&dpr=1\n",
      "https://www.google.com/search?q=Nasdaq&sca_esv=556524961&tbas=0&tbs=cdr:1,cd_min:6/29/2022,cd_max:6/29/2022&tbm=nws&ei=_LnZZNbVF4y-wAOc8ZfQAg&start=20&sa=N&ved=2ahUKEwjWw63xs9uAAxUMH3AKHZz4BSo4ChDw0wN6BAgBEAk&biw=800&bih=600&dpr=1\n",
      "크롤링 준비\n"
     ]
    },
    {
     "name": "stderr",
     "output_type": "stream",
     "text": [
      "\n",
      "\n",
      "preprocessing day:  94%|██████████████████████████████████████████████████████████▉    | 29/31 [05:07<00:20, 10.15s/it]\u001b[A\u001b[A"
     ]
    },
    {
     "name": "stdout",
     "output_type": "stream",
     "text": [
      "다음날짜로 선택시작\n",
      "다음 날짜 선택 후 크롤링 준비\n",
      "https://www.google.com/search?q=Nasdaq&sca_esv=556524961&tbas=0&biw=800&bih=600&source=lnt&tbs=cdr%3A1%2Ccd_min%3A6%2F30%2F2022%2Ccd_max%3A6%2F30%2F2022&tbm=nws\n",
      "https://www.google.com/search?q=Nasdaq&sca_esv=556524961&tbas=0&tbs=cdr:1,cd_min:6/30/2022,cd_max:6/30/2022&tbm=nws&ei=BbrZZJ-iAtGA1e8P1LyjgA0&start=10&sa=N&ved=2ahUKEwjfuL31s9uAAxVRQPUHHVTeCNAQ8NMDegQIBBAK&biw=800&bih=600&dpr=1\n",
      "https://www.google.com/search?q=Nasdaq&sca_esv=556524961&tbas=0&tbs=cdr:1,cd_min:6/30/2022,cd_max:6/30/2022&tbm=nws&ei=BbrZZML2NpHM1e8PsMSa8AQ&start=20&sa=N&ved=2ahUKEwiCjfL1s9uAAxURZvUHHTCiBk44ChDw0wN6BAgCEAs&biw=800&bih=600&dpr=1\n",
      "크롤링 준비\n"
     ]
    },
    {
     "name": "stderr",
     "output_type": "stream",
     "text": [
      "\n",
      "\n",
      "preprocessing day:  97%|████████████████████████████████████████████████████████████▉  | 30/31 [05:17<00:09,  9.95s/it]\u001b[A\u001b[A"
     ]
    },
    {
     "name": "stdout",
     "output_type": "stream",
     "text": [
      "다음날짜로 선택시작\n",
      "다음 날짜 선택 후 크롤링 준비\n",
      "https://www.google.com/search?q=Nasdaq&sca_esv=556524961&tbas=0&biw=800&bih=600&source=lnt&tbs=cdr%3A1%2Ccd_min%3A06%2F31%2F2022%2Ccd_max%3A06%2F31%2F2022&tbm=nws\n",
      "https://www.google.com/search?q=Nasdaq&sca_esv=556524961&tbas=0&tbs=cdr:1,cd_min:06/31/2022,cd_max:06/31/2022&tbm=nws&ei=DrrZZLaxILK8hwOtwJpo&start=10&sa=N&ved=2ahUKEwi28ID6s9uAAxUy3mEKHS2gBg0Q8NMDegQIBBAI&biw=800&bih=600&dpr=1\n",
      "https://www.google.com/search?q=Nasdaq&sca_esv=556524961&tbas=0&tbs=cdr:1,cd_min:06/31/2022,cd_max:06/31/2022&tbm=nws&ei=D7rZZKOEEZne1e8Pr7iUuAI&start=20&sa=N&ved=2ahUKEwjjx676s9uAAxUZb_UHHS8cBSc4ChDw0wN6BAgDEAk&biw=800&bih=600&dpr=1\n",
      "크롤링 준비\n"
     ]
    },
    {
     "name": "stderr",
     "output_type": "stream",
     "text": [
      "\n",
      "\n",
      "preprocessing day: 100%|███████████████████████████████████████████████████████████████| 31/31 [05:26<00:00, 10.53s/it]\u001b[A\u001b[A\n",
      "\n",
      "preprocessing month:  50%|██████████████████████████████▌                              | 6/12 [33:30<33:19, 333.28s/it]\u001b[A"
     ]
    },
    {
     "name": "stdout",
     "output_type": "stream",
     "text": [
      "다음날짜로 선택시작\n"
     ]
    },
    {
     "name": "stderr",
     "output_type": "stream",
     "text": [
      "\n",
      "\n",
      "preprocessing day:   0%|                                                                        | 0/31 [00:00<?, ?it/s]\u001b[A\u001b[A"
     ]
    },
    {
     "name": "stdout",
     "output_type": "stream",
     "text": [
      "다음 날짜 선택 후 크롤링 준비\n",
      "https://www.google.com/search?q=Nasdaq&sca_esv=556524961&tbas=0&biw=800&bih=600&source=lnt&tbs=cdr%3A1%2Ccd_min%3A7%2F1%2F2022%2Ccd_max%3A7%2F1%2F2022&tbm=nws\n",
      "https://www.google.com/search?q=Nasdaq&sca_esv=556524961&tbas=0&tbs=cdr:1,cd_min:7/1/2022,cd_max:7/1/2022&tbm=nws&ei=F7rZZNCVOo7VhwPMtI3gCA&start=10&sa=N&ved=2ahUKEwiQ_b_-s9uAAxWO6mEKHUxaA4wQ8NMDegQIAhAI&biw=800&bih=600&dpr=1\n",
      "https://www.google.com/search?q=Nasdaq&sca_esv=556524961&tbas=0&tbs=cdr:1,cd_min:7/1/2022,cd_max:7/1/2022&tbm=nws&ei=GLrZZNuAH4-D1e8PwuC64Ao&start=20&sa=N&ved=2ahUKEwjb7OH-s9uAAxWPQfUHHUKwDqw4ChDw0wN6BAgEEAk&biw=800&bih=600&dpr=1\n",
      "크롤링 준비\n"
     ]
    },
    {
     "name": "stderr",
     "output_type": "stream",
     "text": [
      "\n",
      "\n",
      "preprocessing day:   3%|██                                                              | 1/31 [00:09<04:35,  9.18s/it]\u001b[A\u001b[A"
     ]
    },
    {
     "name": "stdout",
     "output_type": "stream",
     "text": [
      "다음날짜로 선택시작\n",
      "다음 날짜 선택 후 크롤링 준비\n",
      "https://www.google.com/search?q=Nasdaq&sca_esv=556524961&tbas=0&biw=800&bih=600&source=lnt&tbs=cdr%3A1%2Ccd_min%3A7%2F2%2F2022%2Ccd_max%3A7%2F2%2F2022&tbm=nws\n",
      "Next button not found. Exiting loop.\n",
      "크롤링 준비\n"
     ]
    },
    {
     "name": "stderr",
     "output_type": "stream",
     "text": [
      "\n",
      "\n",
      "preprocessing day:   6%|████▏                                                           | 2/31 [00:22<05:37, 11.63s/it]\u001b[A\u001b[A"
     ]
    },
    {
     "name": "stdout",
     "output_type": "stream",
     "text": [
      "다음날짜로 선택시작\n",
      "다음 날짜 선택 후 크롤링 준비\n",
      "https://www.google.com/search?q=Nasdaq&sca_esv=556524961&tbas=0&biw=800&bih=600&source=lnt&tbs=cdr%3A1%2Ccd_min%3A7%2F3%2F2022%2Ccd_max%3A7%2F3%2F2022&tbm=nws\n",
      "Next button not found. Exiting loop.\n",
      "크롤링 준비\n"
     ]
    },
    {
     "name": "stderr",
     "output_type": "stream",
     "text": [
      "\n",
      "\n",
      "preprocessing day:  10%|██████▏                                                         | 3/31 [00:35<05:42, 12.24s/it]\u001b[A\u001b[A"
     ]
    },
    {
     "name": "stdout",
     "output_type": "stream",
     "text": [
      "다음날짜로 선택시작\n",
      "다음 날짜 선택 후 크롤링 준비\n",
      "https://www.google.com/search?q=Nasdaq&sca_esv=556524961&tbas=0&biw=800&bih=600&source=lnt&tbs=cdr%3A1%2Ccd_min%3A7%2F4%2F2022%2Ccd_max%3A7%2F4%2F2022&tbm=nws\n",
      "https://www.google.com/search?q=Nasdaq&sca_esv=556524961&tbas=0&tbs=cdr:1,cd_min:7/4/2022,cd_max:7/4/2022&tbm=nws&ei=O7rZZPG0Fabs1e8Pu_OKuAY&start=10&sa=N&ved=2ahUKEwixvrCPtNuAAxUmdvUHHbu5AmcQ8NMDegQIBBAG&biw=800&bih=600&dpr=1\n",
      "Next button not found. Exiting loop.\n",
      "크롤링 준비\n"
     ]
    },
    {
     "name": "stderr",
     "output_type": "stream",
     "text": [
      "\n",
      "\n",
      "preprocessing day:  13%|████████▎                                                       | 4/31 [00:48<05:43, 12.72s/it]\u001b[A\u001b[A"
     ]
    },
    {
     "name": "stdout",
     "output_type": "stream",
     "text": [
      "다음날짜로 선택시작\n",
      "다음 날짜 선택 후 크롤링 준비\n",
      "https://www.google.com/search?q=Nasdaq&sca_esv=556524961&tbas=0&biw=800&bih=600&source=lnt&tbs=cdr%3A1%2Ccd_min%3A7%2F5%2F2022%2Ccd_max%3A7%2F5%2F2022&tbm=nws\n",
      "https://www.google.com/search?q=Nasdaq&sca_esv=556524961&tbas=0&tbs=cdr:1,cd_min:7/5/2022,cd_max:7/5/2022&tbm=nws&ei=SLrZZLyZNKfy1e8P87iT6A0&start=10&sa=N&ved=2ahUKEwi83eiVtNuAAxUnefUHHXPcBN0Q8NMDegQIAhAG&biw=800&bih=600&dpr=1\n",
      "Next button not found. Exiting loop.\n",
      "크롤링 준비\n"
     ]
    },
    {
     "name": "stderr",
     "output_type": "stream",
     "text": [
      "\n",
      "\n",
      "preprocessing day:  16%|██████████▎                                                     | 5/31 [01:02<05:41, 13.15s/it]\u001b[A\u001b[A"
     ]
    },
    {
     "name": "stdout",
     "output_type": "stream",
     "text": [
      "다음날짜로 선택시작\n",
      "다음 날짜 선택 후 크롤링 준비\n",
      "https://www.google.com/search?q=Nasdaq&sca_esv=556524961&tbas=0&biw=800&bih=600&source=lnt&tbs=cdr%3A1%2Ccd_min%3A7%2F6%2F2022%2Ccd_max%3A7%2F6%2F2022&tbm=nws\n",
      "https://www.google.com/search?q=Nasdaq&sca_esv=556524961&tbas=0&tbs=cdr:1,cd_min:7/6/2022,cd_max:7/6/2022&tbm=nws&ei=VrrZZLGhNcPX1e8P6KyGuA8&start=10&sa=N&ved=2ahUKEwixpMCctNuAAxXDa_UHHWiWAfcQ8NMDegQIAxAG&biw=800&bih=600&dpr=1\n",
      "Next button not found. Exiting loop.\n",
      "크롤링 준비\n"
     ]
    },
    {
     "name": "stderr",
     "output_type": "stream",
     "text": [
      "\n",
      "\n",
      "preprocessing day:  19%|████████████▍                                                   | 6/31 [01:16<05:31, 13.28s/it]\u001b[A\u001b[A"
     ]
    },
    {
     "name": "stdout",
     "output_type": "stream",
     "text": [
      "다음날짜로 선택시작\n",
      "다음 날짜 선택 후 크롤링 준비\n",
      "https://www.google.com/search?q=Nasdaq&sca_esv=556524961&tbas=0&biw=800&bih=600&source=lnt&tbs=cdr%3A1%2Ccd_min%3A7%2F7%2F2022%2Ccd_max%3A7%2F7%2F2022&tbm=nws\n",
      "https://www.google.com/search?q=Nasdaq&sca_esv=556524961&tbas=0&tbs=cdr:1,cd_min:7/7/2022,cd_max:7/7/2022&tbm=nws&ei=ZLrZZMHmFJLXhwOzpqLQBQ&start=10&sa=N&ved=2ahUKEwjBqPaitNuAAxWS62EKHTOTCFoQ8NMDegQIBBAI&biw=800&bih=600&dpr=1\n",
      "https://www.google.com/search?q=Nasdaq&sca_esv=556524961&tbas=0&tbs=cdr:1,cd_min:7/7/2022,cd_max:7/7/2022&tbm=nws&ei=ZbrZZN7bEqnp1e8Px6S9mAc&start=20&sa=N&ved=2ahUKEwieorGjtNuAAxWpdPUHHUdSD3M4ChDw0wN6BAgCEAk&biw=800&bih=600&dpr=1\n",
      "크롤링 준비\n"
     ]
    },
    {
     "name": "stderr",
     "output_type": "stream",
     "text": [
      "\n",
      "\n",
      "preprocessing day:  23%|██████████████▍                                                 | 7/31 [01:25<04:49, 12.07s/it]\u001b[A\u001b[A"
     ]
    },
    {
     "name": "stdout",
     "output_type": "stream",
     "text": [
      "다음날짜로 선택시작\n",
      "다음 날짜 선택 후 크롤링 준비\n",
      "https://www.google.com/search?q=Nasdaq&sca_esv=556524961&tbas=0&biw=800&bih=600&source=lnt&tbs=cdr%3A1%2Ccd_min%3A7%2F8%2F2022%2Ccd_max%3A7%2F8%2F2022&tbm=nws\n",
      "https://www.google.com/search?q=Nasdaq&sca_esv=556524961&tbas=0&tbs=cdr:1,cd_min:7/8/2022,cd_max:7/8/2022&tbm=nws&ei=bbrZZLarMs3i-Aa90pjIBg&start=10&sa=N&ved=2ahUKEwj2lbmntNuAAxVNMd4KHT0pBmkQ8NMDegQIBBAG&biw=800&bih=600&dpr=1\n",
      "Next button not found. Exiting loop.\n",
      "크롤링 준비\n"
     ]
    },
    {
     "name": "stderr",
     "output_type": "stream",
     "text": [
      "\n",
      "\n",
      "preprocessing day:  26%|████████████████▌                                               | 8/31 [01:39<04:50, 12.65s/it]\u001b[A\u001b[A"
     ]
    },
    {
     "name": "stdout",
     "output_type": "stream",
     "text": [
      "다음날짜로 선택시작\n",
      "다음 날짜 선택 후 크롤링 준비\n",
      "https://www.google.com/search?q=Nasdaq&sca_esv=556524961&tbas=0&biw=800&bih=600&source=lnt&tbs=cdr%3A1%2Ccd_min%3A7%2F9%2F2022%2Ccd_max%3A7%2F9%2F2022&tbm=nws\n",
      "Next button not found. Exiting loop.\n",
      "크롤링 준비\n"
     ]
    },
    {
     "name": "stderr",
     "output_type": "stream",
     "text": [
      "\n",
      "\n",
      "preprocessing day:  29%|██████████████████▌                                             | 9/31 [01:52<04:39, 12.69s/it]\u001b[A\u001b[A"
     ]
    },
    {
     "name": "stdout",
     "output_type": "stream",
     "text": [
      "다음날짜로 선택시작\n",
      "다음 날짜 선택 후 크롤링 준비\n",
      "https://www.google.com/search?q=Nasdaq&sca_esv=556524961&tbas=0&biw=800&bih=600&source=lnt&tbs=cdr%3A1%2Ccd_min%3A7%2F10%2F2022%2Ccd_max%3A7%2F10%2F2022&tbm=nws\n",
      "Next button not found. Exiting loop.\n",
      "크롤링 준비\n"
     ]
    },
    {
     "name": "stderr",
     "output_type": "stream",
     "text": [
      "\n",
      "\n",
      "preprocessing day:  32%|████████████████████▎                                          | 10/31 [02:05<04:26, 12.70s/it]\u001b[A\u001b[A"
     ]
    },
    {
     "name": "stdout",
     "output_type": "stream",
     "text": [
      "다음날짜로 선택시작\n",
      "다음 날짜 선택 후 크롤링 준비\n",
      "https://www.google.com/search?q=Nasdaq&sca_esv=556524961&tbas=0&biw=800&bih=600&source=lnt&tbs=cdr%3A1%2Ccd_min%3A7%2F11%2F2022%2Ccd_max%3A7%2F11%2F2022&tbm=nws\n",
      "https://www.google.com/search?q=Nasdaq&sca_esv=556524961&tbas=0&tbs=cdr:1,cd_min:7/11/2022,cd_max:7/11/2022&tbm=nws&ei=lbrZZKfvD4Pb1e8P2--cqA8&start=10&sa=N&ved=2ahUKEwjnjaC6tNuAAxWDbfUHHds3B_UQ8NMDegQIBBAI&biw=800&bih=600&dpr=1\n",
      "https://www.google.com/search?q=Nasdaq&sca_esv=556524961&tbas=0&tbs=cdr:1,cd_min:7/11/2022,cd_max:7/11/2022&tbm=nws&ei=lrrZZKrsCcPt-Aaxhq6gCQ&start=20&sa=N&ved=2ahUKEwiqj9e6tNuAAxXDNt4KHTGDC5Q4ChDw0wN6BAgDEAk&biw=800&bih=600&dpr=1\n",
      "크롤링 준비\n"
     ]
    },
    {
     "name": "stderr",
     "output_type": "stream",
     "text": [
      "\n",
      "\n",
      "preprocessing day:  35%|██████████████████████▎                                        | 11/31 [02:15<03:55, 11.77s/it]\u001b[A\u001b[A"
     ]
    },
    {
     "name": "stdout",
     "output_type": "stream",
     "text": [
      "다음날짜로 선택시작\n",
      "다음 날짜 선택 후 크롤링 준비\n",
      "https://www.google.com/search?q=Nasdaq&sca_esv=556524961&tbas=0&biw=800&bih=600&source=lnt&tbs=cdr%3A1%2Ccd_min%3A7%2F12%2F2022%2Ccd_max%3A7%2F12%2F2022&tbm=nws\n",
      "https://www.google.com/search?q=Nasdaq&sca_esv=556524961&tbas=0&tbs=cdr:1,cd_min:7/12/2022,cd_max:7/12/2022&tbm=nws&ei=nrrZZPKsOJH8hwOPkbLoAw&start=10&sa=N&ved=2ahUKEwjy8-2-tNuAAxUR_mEKHY-IDD0Q8NMDegQIAxAI&biw=800&bih=600&dpr=1\n",
      "https://www.google.com/search?q=Nasdaq&sca_esv=556524961&tbas=0&tbs=cdr:1,cd_min:7/12/2022,cd_max:7/12/2022&tbm=nws&ei=n7rZZKTgI5i9wAPf8ZKACw&start=20&sa=N&ved=2ahUKEwjkq5a_tNuAAxWYHnAKHd-4BLA4ChDw0wN6BAgDEAk&biw=800&bih=600&dpr=1\n",
      "크롤링 준비\n"
     ]
    },
    {
     "name": "stderr",
     "output_type": "stream",
     "text": [
      "\n",
      "\n",
      "preprocessing day:  39%|████████████████████████▍                                      | 12/31 [02:23<03:27, 10.91s/it]\u001b[A\u001b[A"
     ]
    },
    {
     "name": "stdout",
     "output_type": "stream",
     "text": [
      "다음날짜로 선택시작\n",
      "다음 날짜 선택 후 크롤링 준비\n",
      "https://www.google.com/search?q=Nasdaq&sca_esv=556524961&tbas=0&biw=800&bih=600&source=lnt&tbs=cdr%3A1%2Ccd_min%3A7%2F13%2F2022%2Ccd_max%3A7%2F13%2F2022&tbm=nws\n",
      "https://www.google.com/search?q=Nasdaq&sca_esv=556524961&tbas=0&tbs=cdr:1,cd_min:7/13/2022,cd_max:7/13/2022&tbm=nws&ei=p7rZZKDlO8uF-QbzkYPwCA&start=10&sa=N&ved=2ahUKEwjg1JbDtNuAAxXLQt4KHfPIAI4Q8NMDegQIAhAI&biw=800&bih=600&dpr=1\n",
      "https://www.google.com/search?q=Nasdaq&sca_esv=556524961&tbas=0&tbs=cdr:1,cd_min:7/13/2022,cd_max:7/13/2022&tbm=nws&ei=qLrZZLftOab21e8Puoq58Ag&start=20&sa=N&ved=2ahUKEwi34dHDtNuAAxUme_UHHTpFDo44ChDw0wN6BAgDEAk&biw=800&bih=600&dpr=1\n",
      "크롤링 준비\n"
     ]
    },
    {
     "name": "stderr",
     "output_type": "stream",
     "text": [
      "\n",
      "\n",
      "preprocessing day:  42%|██████████████████████████▍                                    | 13/31 [02:33<03:10, 10.59s/it]\u001b[A\u001b[A"
     ]
    },
    {
     "name": "stdout",
     "output_type": "stream",
     "text": [
      "다음날짜로 선택시작\n",
      "다음 날짜 선택 후 크롤링 준비\n",
      "https://www.google.com/search?q=Nasdaq&sca_esv=556524961&tbas=0&biw=800&bih=600&source=lnt&tbs=cdr%3A1%2Ccd_min%3A7%2F14%2F2022%2Ccd_max%3A7%2F14%2F2022&tbm=nws\n",
      "https://www.google.com/search?q=Nasdaq&sca_esv=556524961&tbas=0&tbs=cdr:1,cd_min:7/14/2022,cd_max:7/14/2022&tbm=nws&ei=sbrZZL-ONvXP1e8Phc2MmAY&start=10&sa=N&ved=2ahUKEwj_qvPHtNuAAxX1Z_UHHYUmA2MQ8NMDegQIAxAI&biw=800&bih=600&dpr=1\n",
      "https://www.google.com/search?q=Nasdaq&sca_esv=556524961&tbas=0&tbs=cdr:1,cd_min:7/14/2022,cd_max:7/14/2022&tbm=nws&ei=srrZZK_-M_bc1e8P_7qNyAY&start=20&sa=N&ved=2ahUKEwivn67ItNuAAxV2bvUHHX9dA2k4ChDw0wN6BAgEEAk&biw=800&bih=600&dpr=1\n",
      "크롤링 준비\n"
     ]
    },
    {
     "name": "stderr",
     "output_type": "stream",
     "text": [
      "\n",
      "\n",
      "preprocessing day:  45%|████████████████████████████▍                                  | 14/31 [02:43<02:55, 10.30s/it]\u001b[A\u001b[A"
     ]
    },
    {
     "name": "stdout",
     "output_type": "stream",
     "text": [
      "다음날짜로 선택시작\n",
      "다음 날짜 선택 후 크롤링 준비\n",
      "https://www.google.com/search?q=Nasdaq&sca_esv=556524961&tbas=0&biw=800&bih=600&source=lnt&tbs=cdr%3A1%2Ccd_min%3A7%2F15%2F2022%2Ccd_max%3A7%2F15%2F2022&tbm=nws\n",
      "https://www.google.com/search?q=Nasdaq&sca_esv=556524961&tbas=0&tbs=cdr:1,cd_min:7/15/2022,cd_max:7/15/2022&tbm=nws&ei=u7rZZMvnF5eSoASK45K4AQ&start=10&sa=N&ved=2ahUKEwiLsbfMtNuAAxUXCYgKHYqxBBcQ8NMDegQIAxAG&biw=800&bih=600&dpr=1\n",
      "Next button not found. Exiting loop.\n",
      "크롤링 준비\n"
     ]
    },
    {
     "name": "stderr",
     "output_type": "stream",
     "text": [
      "\n",
      "\n",
      "preprocessing day:  48%|██████████████████████████████▍                                | 15/31 [02:57<03:02, 11.38s/it]\u001b[A\u001b[A"
     ]
    },
    {
     "name": "stdout",
     "output_type": "stream",
     "text": [
      "다음날짜로 선택시작\n",
      "다음 날짜 선택 후 크롤링 준비\n",
      "https://www.google.com/search?q=Nasdaq&sca_esv=556524961&tbas=0&biw=800&bih=600&source=lnt&tbs=cdr%3A1%2Ccd_min%3A7%2F16%2F2022%2Ccd_max%3A7%2F16%2F2022&tbm=nws\n",
      "Next button not found. Exiting loop.\n",
      "크롤링 준비\n"
     ]
    },
    {
     "name": "stderr",
     "output_type": "stream",
     "text": [
      "\n",
      "\n",
      "preprocessing day:  52%|████████████████████████████████▌                              | 16/31 [03:10<02:58, 11.89s/it]\u001b[A\u001b[A"
     ]
    },
    {
     "name": "stdout",
     "output_type": "stream",
     "text": [
      "다음날짜로 선택시작\n",
      "다음 날짜 선택 후 크롤링 준비\n",
      "https://www.google.com/search?q=Nasdaq&sca_esv=556524961&tbas=0&biw=800&bih=600&source=lnt&tbs=cdr%3A1%2Ccd_min%3A7%2F17%2F2022%2Ccd_max%3A7%2F17%2F2022&tbm=nws\n",
      "Next button not found. Exiting loop.\n",
      "크롤링 준비\n"
     ]
    },
    {
     "name": "stderr",
     "output_type": "stream",
     "text": [
      "\n",
      "\n",
      "preprocessing day:  55%|██████████████████████████████████▌                            | 17/31 [03:23<02:51, 12.27s/it]\u001b[A\u001b[A"
     ]
    },
    {
     "name": "stdout",
     "output_type": "stream",
     "text": [
      "다음날짜로 선택시작\n",
      "다음 날짜 선택 후 크롤링 준비\n",
      "https://www.google.com/search?q=Nasdaq&sca_esv=556524961&tbas=0&biw=800&bih=600&source=lnt&tbs=cdr%3A1%2Ccd_min%3A7%2F18%2F2022%2Ccd_max%3A7%2F18%2F2022&tbm=nws\n",
      "https://www.google.com/search?q=Nasdaq&sca_esv=556524961&tbas=0&tbs=cdr:1,cd_min:7/18/2022,cd_max:7/18/2022&tbm=nws&ei=47rZZI_eHIfZ-Qab3rTwAQ&start=10&sa=N&ved=2ahUKEwjP28XftNuAAxWHbN4KHRsvDR4Q8NMDegQIAhAI&biw=800&bih=600&dpr=1\n",
      "https://www.google.com/search?q=Nasdaq&sca_esv=556524961&tbas=0&tbs=cdr:1,cd_min:7/18/2022,cd_max:7/18/2022&tbm=nws&ei=5LrZZNWYDczQ1e8PtveGoAo&start=20&sa=N&ved=2ahUKEwjVmvPftNuAAxVMaPUHHba7AaQ4ChDw0wN6BAgEEAk&biw=800&bih=600&dpr=1\n",
      "크롤링 준비\n"
     ]
    },
    {
     "name": "stderr",
     "output_type": "stream",
     "text": [
      "\n",
      "\n",
      "preprocessing day:  58%|████████████████████████████████████▌                          | 18/31 [03:32<02:28, 11.41s/it]\u001b[A\u001b[A"
     ]
    },
    {
     "name": "stdout",
     "output_type": "stream",
     "text": [
      "다음날짜로 선택시작\n",
      "다음 날짜 선택 후 크롤링 준비\n",
      "https://www.google.com/search?q=Nasdaq&sca_esv=556524961&tbas=0&biw=800&bih=600&source=lnt&tbs=cdr%3A1%2Ccd_min%3A7%2F19%2F2022%2Ccd_max%3A7%2F19%2F2022&tbm=nws\n",
      "https://www.google.com/search?q=Nasdaq&sca_esv=556524961&tbas=0&tbs=cdr:1,cd_min:7/19/2022,cd_max:7/19/2022&tbm=nws&ei=7LrZZKX2NpX_hwPd-JyQBw&start=10&sa=N&ved=2ahUKEwilnIXktNuAAxWV_2EKHV08B3IQ8NMDegQIBBAK&biw=800&bih=600&dpr=1\n",
      "https://www.google.com/search?q=Nasdaq&sca_esv=556524961&tbas=0&tbs=cdr:1,cd_min:7/19/2022,cd_max:7/19/2022&tbm=nws&ei=7brZZMygNoqG-Qaps424BA&start=20&sa=N&ved=2ahUKEwiMy8HktNuAAxUKQ94KHalZA0c4ChDw0wN6BAgCEAs&biw=800&bih=600&dpr=1\n",
      "크롤링 준비\n"
     ]
    },
    {
     "name": "stderr",
     "output_type": "stream",
     "text": [
      "\n",
      "\n",
      "preprocessing day:  61%|██████████████████████████████████████▌                        | 19/31 [03:43<02:12, 11.05s/it]\u001b[A\u001b[A"
     ]
    },
    {
     "name": "stdout",
     "output_type": "stream",
     "text": [
      "다음날짜로 선택시작\n",
      "다음 날짜 선택 후 크롤링 준비\n",
      "https://www.google.com/search?q=Nasdaq&sca_esv=556524961&tbas=0&biw=800&bih=600&source=lnt&tbs=cdr%3A1%2Ccd_min%3A7%2F20%2F2022%2Ccd_max%3A7%2F20%2F2022&tbm=nws\n",
      "https://www.google.com/search?q=Nasdaq&sca_esv=556524961&tbas=0&tbs=cdr:1,cd_min:7/20/2022,cd_max:7/20/2022&tbm=nws&ei=97rZZI0m1vfAA6XMoYAK&start=10&sa=N&ved=2ahUKEwjN_e3otNuAAxXWO3AKHSVmCKAQ8NMDegQIAhAK&biw=800&bih=600&dpr=1\n",
      "https://www.google.com/search?q=Nasdaq&sca_esv=556524961&tbas=0&tbs=cdr:1,cd_min:7/20/2022,cd_max:7/20/2022&tbm=nws&ei=97rZZJX2MYz8hwOPrrxo&start=20&sa=N&ved=2ahUKEwjVzZ_ptNuAAxUM_mEKHQ8XDw04ChDw0wN6BAgEEAs&biw=800&bih=600&dpr=1\n",
      "크롤링 준비\n"
     ]
    },
    {
     "name": "stderr",
     "output_type": "stream",
     "text": [
      "\n",
      "\n",
      "preprocessing day:  65%|████████████████████████████████████████▋                      | 20/31 [03:52<01:56, 10.57s/it]\u001b[A\u001b[A"
     ]
    },
    {
     "name": "stdout",
     "output_type": "stream",
     "text": [
      "다음날짜로 선택시작\n",
      "다음 날짜 선택 후 크롤링 준비\n",
      "https://www.google.com/search?q=Nasdaq&sca_esv=556524961&tbas=0&biw=800&bih=600&source=lnt&tbs=cdr%3A1%2Ccd_min%3A7%2F21%2F2022%2Ccd_max%3A7%2F21%2F2022&tbm=nws\n",
      "https://www.google.com/search?q=Nasdaq&sca_esv=556524961&tbas=0&tbs=cdr:1,cd_min:7/21/2022,cd_max:7/21/2022&tbm=nws&ei=ALvZZODKHMHe-QaX-rPADg&start=10&sa=N&ved=2ahUKEwjgyq_ttNuAAxVBb94KHRf9DOgQ8NMDegQIAxAM&biw=800&bih=600&dpr=1\n",
      "https://www.google.com/search?q=Nasdaq&sca_esv=556524961&tbas=0&tbs=cdr:1,cd_min:7/21/2022,cd_max:7/21/2022&tbm=nws&ei=AbvZZMGrC5je-QatladI&start=20&sa=N&ved=2ahUKEwiBsNvttNuAAxUYb94KHa3KCQk4ChDw0wN6BAgDEA0&biw=800&bih=600&dpr=1\n",
      "크롤링 준비\n"
     ]
    },
    {
     "name": "stderr",
     "output_type": "stream",
     "text": [
      "\n",
      "\n",
      "preprocessing day:  68%|██████████████████████████████████████████▋                    | 21/31 [04:01<01:41, 10.20s/it]\u001b[A\u001b[A"
     ]
    },
    {
     "name": "stdout",
     "output_type": "stream",
     "text": [
      "다음날짜로 선택시작\n",
      "다음 날짜 선택 후 크롤링 준비\n",
      "https://www.google.com/search?q=Nasdaq&sca_esv=556524961&tbas=0&biw=800&bih=600&source=lnt&tbs=cdr%3A1%2Ccd_min%3A7%2F22%2F2022%2Ccd_max%3A7%2F22%2F2022&tbm=nws\n",
      "https://www.google.com/search?q=Nasdaq&sca_esv=556524961&tbas=0&tbs=cdr:1,cd_min:7/22/2022,cd_max:7/22/2022&tbm=nws&ei=CbvZZObpLYnnwQPzzJToBQ&start=10&sa=N&ved=2ahUKEwimkubxtNuAAxWJc3AKHXMmBV0Q8NMDegQIAxAI&biw=800&bih=600&dpr=1\n",
      "https://www.google.com/search?q=Nasdaq&sca_esv=556524961&tbas=0&tbs=cdr:1,cd_min:7/22/2022,cd_max:7/22/2022&tbm=nws&ei=CrvZZM3gI5aSoASFtIvACw&start=20&sa=N&ved=2ahUKEwjNjZnytNuAAxUWCYgKHQXaArg4ChDw0wN6BAgDEAk&biw=800&bih=600&dpr=1\n",
      "크롤링 준비\n"
     ]
    },
    {
     "name": "stderr",
     "output_type": "stream",
     "text": [
      "\n",
      "\n",
      "preprocessing day:  71%|████████████████████████████████████████████▋                  | 22/31 [04:11<01:29,  9.99s/it]\u001b[A\u001b[A"
     ]
    },
    {
     "name": "stdout",
     "output_type": "stream",
     "text": [
      "다음날짜로 선택시작\n",
      "다음 날짜 선택 후 크롤링 준비\n",
      "https://www.google.com/search?q=Nasdaq&sca_esv=556524961&tbas=0&biw=800&bih=600&source=lnt&tbs=cdr%3A1%2Ccd_min%3A7%2F23%2F2022%2Ccd_max%3A7%2F23%2F2022&tbm=nws\n",
      "Next button not found. Exiting loop.\n",
      "크롤링 준비\n"
     ]
    },
    {
     "name": "stderr",
     "output_type": "stream",
     "text": [
      "\n",
      "\n",
      "preprocessing day:  74%|██████████████████████████████████████████████▋                | 23/31 [04:24<01:27, 10.94s/it]\u001b[A\u001b[A"
     ]
    },
    {
     "name": "stdout",
     "output_type": "stream",
     "text": [
      "다음날짜로 선택시작\n",
      "다음 날짜 선택 후 크롤링 준비\n",
      "https://www.google.com/search?q=Nasdaq&sca_esv=556524961&tbas=0&biw=800&bih=600&source=lnt&tbs=cdr%3A1%2Ccd_min%3A7%2F24%2F2022%2Ccd_max%3A7%2F24%2F2022&tbm=nws\n",
      "Next button not found. Exiting loop.\n",
      "크롤링 준비\n"
     ]
    },
    {
     "name": "stderr",
     "output_type": "stream",
     "text": [
      "\n",
      "\n",
      "preprocessing day:  77%|████████████████████████████████████████████████▊              | 24/31 [04:37<01:21, 11.60s/it]\u001b[A\u001b[A"
     ]
    },
    {
     "name": "stdout",
     "output_type": "stream",
     "text": [
      "다음날짜로 선택시작\n",
      "다음 날짜 선택 후 크롤링 준비\n",
      "https://www.google.com/search?q=Nasdaq&sca_esv=556524961&tbas=0&biw=800&bih=600&source=lnt&tbs=cdr%3A1%2Ccd_min%3A7%2F25%2F2022%2Ccd_max%3A7%2F25%2F2022&tbm=nws\n",
      "https://www.google.com/search?q=Nasdaq&sca_esv=556524961&tbas=0&tbs=cdr:1,cd_min:7/25/2022,cd_max:7/25/2022&tbm=nws&ei=LbvZZIPIJI69wAPD0qLwAw&start=10&sa=N&ved=2ahUKEwjDkvKCtduAAxWOHnAKHUOpCD4Q8NMDegQIBBAI&biw=800&bih=600&dpr=1\n",
      "https://www.google.com/search?q=Nasdaq&sca_esv=556524961&tbas=0&tbs=cdr:1,cd_min:7/25/2022,cd_max:7/25/2022&tbm=nws&ei=LrvZZL_9Cozh-AaZlKPQCQ&start=20&sa=N&ved=2ahUKEwi_zJWDtduAAxWMMN4KHRnKCJo4ChDw0wN6BAgEEAk&biw=800&bih=600&dpr=1\n",
      "크롤링 준비\n"
     ]
    },
    {
     "name": "stderr",
     "output_type": "stream",
     "text": [
      "\n",
      "\n",
      "preprocessing day:  81%|██████████████████████████████████████████████████▊            | 25/31 [04:46<01:05, 10.88s/it]\u001b[A\u001b[A"
     ]
    },
    {
     "name": "stdout",
     "output_type": "stream",
     "text": [
      "다음날짜로 선택시작\n",
      "다음 날짜 선택 후 크롤링 준비\n",
      "https://www.google.com/search?q=Nasdaq&sca_esv=556524961&tbas=0&biw=800&bih=600&source=lnt&tbs=cdr%3A1%2Ccd_min%3A7%2F26%2F2022%2Ccd_max%3A7%2F26%2F2022&tbm=nws\n",
      "https://www.google.com/search?q=Nasdaq&sca_esv=556524961&tbas=0&tbs=cdr:1,cd_min:7/26/2022,cd_max:7/26/2022&tbm=nws&ei=NrvZZPavNdG0oASUroGwDg&start=10&sa=N&ved=2ahUKEwj2oqiHtduAAxVRGogKHRRXAOYQ8NMDegQIAxAI&biw=800&bih=600&dpr=1\n",
      "https://www.google.com/search?q=Nasdaq&sca_esv=556524961&tbas=0&tbs=cdr:1,cd_min:7/26/2022,cd_max:7/26/2022&tbm=nws&ei=N7vZZOzNJIaC-QbngrKIAw&start=20&sa=N&ved=2ahUKEwisxdSHtduAAxUGQd4KHWeBDDE4ChDw0wN6BAgCEAk&biw=800&bih=600&dpr=1\n",
      "크롤링 준비\n"
     ]
    },
    {
     "name": "stderr",
     "output_type": "stream",
     "text": [
      "\n",
      "\n",
      "preprocessing day:  84%|████████████████████████████████████████████████████▊          | 26/31 [04:56<00:52, 10.46s/it]\u001b[A\u001b[A"
     ]
    },
    {
     "name": "stdout",
     "output_type": "stream",
     "text": [
      "다음날짜로 선택시작\n",
      "다음 날짜 선택 후 크롤링 준비\n",
      "https://www.google.com/search?q=Nasdaq&sca_esv=556524961&tbas=0&biw=800&bih=600&source=lnt&tbs=cdr%3A1%2Ccd_min%3A7%2F27%2F2022%2Ccd_max%3A7%2F27%2F2022&tbm=nws\n",
      "https://www.google.com/search?q=Nasdaq&sca_esv=556524961&tbas=0&tbs=cdr:1,cd_min:7/27/2022,cd_max:7/27/2022&tbm=nws&ei=QLvZZNn8FYfVhwOp0ZSYCw&start=10&sa=N&ved=2ahUKEwjZnOuLtduAAxWH6mEKHakoBbMQ8NMDegQIBBAM&biw=800&bih=600&dpr=1\n",
      "https://www.google.com/search?q=Nasdaq&sca_esv=556524961&tbas=0&tbs=cdr:1,cd_min:7/27/2022,cd_max:7/27/2022&tbm=nws&ei=QLvZZP-CPZCQhwP-raf4Bg&start=20&sa=N&ved=2ahUKEwj_opKMtduAAxUQyGEKHf7WCW84ChDw0wN6BAgEEA0&biw=800&bih=600&dpr=1\n",
      "크롤링 준비\n"
     ]
    },
    {
     "name": "stderr",
     "output_type": "stream",
     "text": [
      "\n",
      "\n",
      "preprocessing day:  87%|██████████████████████████████████████████████████████▊        | 27/31 [05:05<00:40, 10.18s/it]\u001b[A\u001b[A"
     ]
    },
    {
     "name": "stdout",
     "output_type": "stream",
     "text": [
      "다음날짜로 선택시작\n",
      "다음 날짜 선택 후 크롤링 준비\n",
      "https://www.google.com/search?q=Nasdaq&sca_esv=556524961&tbas=0&biw=800&bih=600&source=lnt&tbs=cdr%3A1%2Ccd_min%3A7%2F28%2F2022%2Ccd_max%3A7%2F28%2F2022&tbm=nws\n",
      "https://www.google.com/search?q=Nasdaq&sca_esv=556524961&tbas=0&tbs=cdr:1,cd_min:7/28/2022,cd_max:7/28/2022&tbm=nws&ei=SbvZZLr5Oc_iwAPlsIHoAQ&start=10&sa=N&ved=2ahUKEwj6wbSQtduAAxVPMXAKHWVYAB0Q8NMDegQIAxAM&biw=800&bih=600&dpr=1\n",
      "https://www.google.com/search?q=Nasdaq&sca_esv=556524961&tbas=0&tbs=cdr:1,cd_min:7/28/2022,cd_max:7/28/2022&tbm=nws&ei=SrvZZJGdLpj9-QbcgLqIAQ&start=20&sa=N&ved=2ahUKEwiR6uWQtduAAxWYft4KHVyADhE4ChDw0wN6BAgCEA0&biw=800&bih=600&dpr=1\n",
      "크롤링 준비\n"
     ]
    },
    {
     "name": "stderr",
     "output_type": "stream",
     "text": [
      "\n",
      "\n",
      "preprocessing day:  90%|████████████████████████████████████████████████████████▉      | 28/31 [05:15<00:30, 10.03s/it]\u001b[A\u001b[A"
     ]
    },
    {
     "name": "stdout",
     "output_type": "stream",
     "text": [
      "다음날짜로 선택시작\n",
      "다음 날짜 선택 후 크롤링 준비\n",
      "https://www.google.com/search?q=Nasdaq&sca_esv=556524961&tbas=0&biw=800&bih=600&source=lnt&tbs=cdr%3A1%2Ccd_min%3A7%2F29%2F2022%2Ccd_max%3A7%2F29%2F2022&tbm=nws\n",
      "https://www.google.com/search?q=Nasdaq&sca_esv=556524961&tbas=0&tbs=cdr:1,cd_min:7/29/2022,cd_max:7/29/2022&tbm=nws&ei=U7vZZIKbJciehwOG_b2oAg&start=10&sa=N&ved=2ahUKEwjCkIKVtduAAxVIz2EKHYZ-DyUQ8NMDegQIAhAI&biw=800&bih=600&dpr=1\n",
      "https://www.google.com/search?q=Nasdaq&sca_esv=556524961&tbas=0&tbs=cdr:1,cd_min:7/29/2022,cd_max:7/29/2022&tbm=nws&ei=VLvZZLn2GpDq1e8P5qSYwAY&start=20&sa=N&ved=2ahUKEwi58LSVtduAAxUQdfUHHWYSBmg4ChDw0wN6BAgEEAk&biw=800&bih=600&dpr=1\n",
      "크롤링 준비\n"
     ]
    },
    {
     "name": "stderr",
     "output_type": "stream",
     "text": [
      "\n",
      "\n",
      "preprocessing day:  94%|██████████████████████████████████████████████████████████▉    | 29/31 [05:25<00:19,  9.84s/it]\u001b[A\u001b[A"
     ]
    },
    {
     "name": "stdout",
     "output_type": "stream",
     "text": [
      "다음날짜로 선택시작\n",
      "다음 날짜 선택 후 크롤링 준비\n",
      "https://www.google.com/search?q=Nasdaq&sca_esv=556524961&tbas=0&biw=800&bih=600&source=lnt&tbs=cdr%3A1%2Ccd_min%3A7%2F30%2F2022%2Ccd_max%3A7%2F30%2F2022&tbm=nws\n",
      "Next button not found. Exiting loop.\n",
      "크롤링 준비\n"
     ]
    },
    {
     "name": "stderr",
     "output_type": "stream",
     "text": [
      "\n",
      "\n",
      "preprocessing day:  97%|████████████████████████████████████████████████████████████▉  | 30/31 [05:38<00:10, 10.94s/it]\u001b[A\u001b[A"
     ]
    },
    {
     "name": "stdout",
     "output_type": "stream",
     "text": [
      "다음날짜로 선택시작\n",
      "다음 날짜 선택 후 크롤링 준비\n",
      "https://www.google.com/search?q=Nasdaq&sca_esv=556524961&tbas=0&biw=800&bih=600&source=lnt&tbs=cdr%3A1%2Ccd_min%3A7%2F31%2F2022%2Ccd_max%3A7%2F31%2F2022&tbm=nws\n",
      "https://www.google.com/search?q=Nasdaq&sca_esv=556524961&tbas=0&tbs=cdr:1,cd_min:7/31/2022,cd_max:7/31/2022&tbm=nws&ei=arvZZIzMI8Pn1e8PiZuB6AM&start=10&sa=N&ved=2ahUKEwiMqfyftduAAxXDc_UHHYlNAD0Q8NMDegQIBBAG&biw=800&bih=600&dpr=1\n",
      "Next button not found. Exiting loop.\n",
      "크롤링 준비\n"
     ]
    },
    {
     "name": "stderr",
     "output_type": "stream",
     "text": [
      "\n",
      "\n",
      "preprocessing day: 100%|███████████████████████████████████████████████████████████████| 31/31 [05:52<00:00, 11.38s/it]\u001b[A\u001b[A\n",
      "\n",
      "preprocessing month:  58%|███████████████████████████████████▌                         | 7/12 [39:23<28:18, 339.66s/it]\u001b[A"
     ]
    },
    {
     "name": "stdout",
     "output_type": "stream",
     "text": [
      "다음날짜로 선택시작\n"
     ]
    },
    {
     "name": "stderr",
     "output_type": "stream",
     "text": [
      "\n",
      "\n",
      "preprocessing day:   0%|                                                                        | 0/31 [00:00<?, ?it/s]\u001b[A\u001b[A"
     ]
    },
    {
     "name": "stdout",
     "output_type": "stream",
     "text": [
      "다음 날짜 선택 후 크롤링 준비\n",
      "https://www.google.com/search?q=Nasdaq&sca_esv=556524961&tbas=0&biw=800&bih=600&source=lnt&tbs=cdr%3A1%2Ccd_min%3A8%2F1%2F2022%2Ccd_max%3A8%2F1%2F2022&tbm=nws\n",
      "https://www.google.com/search?q=Nasdaq&sca_esv=556524961&tbas=0&tbs=cdr:1,cd_min:8/1/2022,cd_max:8/1/2022&tbm=nws&ei=eLvZZMPnL9Pc1e8Pt8az0As&start=10&sa=N&ved=2ahUKEwjDg9-mtduAAxVTbvUHHTfjDLoQ8NMDegQIAhAM&biw=800&bih=600&dpr=1\n",
      "https://www.google.com/search?q=Nasdaq&sca_esv=556524961&tbas=0&tbs=cdr:1,cd_min:8/1/2022,cd_max:8/1/2022&tbm=nws&ei=ebvZZOH3IJuKhwP3-ovoDA&start=20&sa=N&ved=2ahUKEwihmI2ntduAAxUbxWEKHXf9As04ChDw0wN6BAgEEA0&biw=800&bih=600&dpr=1\n",
      "크롤링 준비\n"
     ]
    },
    {
     "name": "stderr",
     "output_type": "stream",
     "text": [
      "\n",
      "\n",
      "preprocessing day:   3%|██                                                              | 1/31 [00:09<04:35,  9.18s/it]\u001b[A\u001b[A"
     ]
    },
    {
     "name": "stdout",
     "output_type": "stream",
     "text": [
      "다음날짜로 선택시작\n",
      "다음 날짜 선택 후 크롤링 준비\n",
      "https://www.google.com/search?q=Nasdaq&sca_esv=556524961&tbas=0&biw=800&bih=600&source=lnt&tbs=cdr%3A1%2Ccd_min%3A8%2F2%2F2022%2Ccd_max%3A8%2F2%2F2022&tbm=nws\n",
      "https://www.google.com/search?q=Nasdaq&sca_esv=556524961&tbas=0&tbs=cdr:1,cd_min:8/2/2022,cd_max:8/2/2022&tbm=nws&ei=gbvZZIy7OM_g-Aa99oy4Dg&start=10&sa=N&ved=2ahUKEwjM_4yrtduAAxVPMN4KHT07A-cQ8NMDegQIAhAI&biw=800&bih=600&dpr=1\n",
      "https://www.google.com/search?q=Nasdaq&sca_esv=556524961&tbas=0&tbs=cdr:1,cd_min:8/2/2022,cd_max:8/2/2022&tbm=nws&ei=grvZZN6-L5bY1e8P84aYyA0&start=20&sa=N&ved=2ahUKEwjeh8GrtduAAxUWbPUHHXMDBtk4ChDw0wN6BAgDEAk&biw=800&bih=600&dpr=1\n",
      "크롤링 준비\n"
     ]
    },
    {
     "name": "stderr",
     "output_type": "stream",
     "text": [
      "\n",
      "\n",
      "preprocessing day:   6%|████▏                                                           | 2/31 [00:18<04:32,  9.40s/it]\u001b[A\u001b[A"
     ]
    },
    {
     "name": "stdout",
     "output_type": "stream",
     "text": [
      "다음날짜로 선택시작\n",
      "다음 날짜 선택 후 크롤링 준비\n",
      "https://www.google.com/search?q=Nasdaq&sca_esv=556524961&tbas=0&biw=800&bih=600&source=lnt&tbs=cdr%3A1%2Ccd_min%3A8%2F3%2F2022%2Ccd_max%3A8%2F3%2F2022&tbm=nws\n",
      "https://www.google.com/search?q=Nasdaq&sca_esv=556524961&tbas=0&tbs=cdr:1,cd_min:8/3/2022,cd_max:8/3/2022&tbm=nws&ei=i7vZZJ_KF4Os-QaU7biYDQ&start=10&sa=N&ved=2ahUKEwjfu86vtduAAxUDVt4KHZQ2DtMQ8NMDegQIBBAK&biw=800&bih=600&dpr=1\n",
      "https://www.google.com/search?q=Nasdaq&sca_esv=556524961&tbas=0&tbs=cdr:1,cd_min:8/3/2022,cd_max:8/3/2022&tbm=nws&ei=jLvZZODiBr3r1e8PuqaauAI&start=20&sa=N&ved=2ahUKEwjg2PqvtduAAxW9dfUHHTqTBic4ChDw0wN6BAgCEAs&biw=800&bih=600&dpr=1\n",
      "크롤링 준비\n"
     ]
    },
    {
     "name": "stderr",
     "output_type": "stream",
     "text": [
      "\n",
      "\n",
      "preprocessing day:  10%|██████▏                                                         | 3/31 [00:28<04:29,  9.62s/it]\u001b[A\u001b[A"
     ]
    },
    {
     "name": "stdout",
     "output_type": "stream",
     "text": [
      "다음날짜로 선택시작\n",
      "다음 날짜 선택 후 크롤링 준비\n",
      "https://www.google.com/search?q=Nasdaq&sca_esv=556524961&tbas=0&biw=800&bih=600&source=lnt&tbs=cdr%3A1%2Ccd_min%3A8%2F4%2F2022%2Ccd_max%3A8%2F4%2F2022&tbm=nws\n",
      "https://www.google.com/search?q=Nasdaq&sca_esv=556524961&tbas=0&tbs=cdr:1,cd_min:8/4/2022,cd_max:8/4/2022&tbm=nws&ei=lbvZZNnDDdLc-QaQ97mIBg&start=10&sa=N&ved=2ahUKEwiZ4qa0tduAAxVSbt4KHZB7DmEQ8NMDegQIAxAK&biw=800&bih=600&dpr=1\n",
      "https://www.google.com/search?q=Nasdaq&sca_esv=556524961&tbas=0&tbs=cdr:1,cd_min:8/4/2022,cd_max:8/4/2022&tbm=nws&ei=lrvZZP2yDLCm1e8PjIieyA0&start=20&sa=N&ved=2ahUKEwj91eK0tduAAxUwU_UHHQyEB9k4ChDw0wN6BAgCEAs&biw=800&bih=600&dpr=1\n",
      "크롤링 준비\n"
     ]
    },
    {
     "name": "stderr",
     "output_type": "stream",
     "text": [
      "\n",
      "\n",
      "preprocessing day:  13%|████████▎                                                       | 4/31 [00:38<04:19,  9.60s/it]\u001b[A\u001b[A"
     ]
    },
    {
     "name": "stdout",
     "output_type": "stream",
     "text": [
      "다음날짜로 선택시작\n",
      "다음 날짜 선택 후 크롤링 준비\n",
      "https://www.google.com/search?q=Nasdaq&sca_esv=556524961&tbas=0&biw=800&bih=600&source=lnt&tbs=cdr%3A1%2Ccd_min%3A8%2F5%2F2022%2Ccd_max%3A8%2F5%2F2022&tbm=nws\n",
      "https://www.google.com/search?q=Nasdaq&sca_esv=556524961&tbas=0&tbs=cdr:1,cd_min:8/5/2022,cd_max:8/5/2022&tbm=nws&ei=nrvZZLvLMoGr-Qaz8IiYCw&start=10&sa=N&ved=2ahUKEwi7kvG4tduAAxWBVd4KHTM4ArMQ8NMDegQIAhAI&biw=800&bih=600&dpr=1\n",
      "https://www.google.com/search?q=Nasdaq&sca_esv=556524961&tbas=0&tbs=cdr:1,cd_min:8/5/2022,cd_max:8/5/2022&tbm=nws&ei=n7vZZKTJLuXl1e8PvPWI8AY&start=20&sa=N&ved=2ahUKEwjklKq5tduAAxXlcvUHHbw6Am44ChDw0wN6BAgEEAk&biw=800&bih=600&dpr=1\n",
      "크롤링 준비\n"
     ]
    },
    {
     "name": "stderr",
     "output_type": "stream",
     "text": [
      "\n",
      "\n",
      "preprocessing day:  16%|██████████▎                                                     | 5/31 [00:47<04:11,  9.67s/it]\u001b[A\u001b[A"
     ]
    },
    {
     "name": "stdout",
     "output_type": "stream",
     "text": [
      "다음날짜로 선택시작\n",
      "다음 날짜 선택 후 크롤링 준비\n",
      "https://www.google.com/search?q=Nasdaq&sca_esv=556524961&tbas=0&biw=800&bih=600&source=lnt&tbs=cdr%3A1%2Ccd_min%3A8%2F6%2F2022%2Ccd_max%3A8%2F6%2F2022&tbm=nws\n",
      "https://www.google.com/search?q=Nasdaq&sca_esv=556524961&tbas=0&tbs=cdr:1,cd_min:8/6/2022,cd_max:8/6/2022&tbm=nws&ei=qLvZZNK2KYT7wAOyqamQBw&start=10&sa=N&ved=2ahUKEwjSqsq9tduAAxWEPXAKHbJUCnIQ8NMDegQIAxAG&biw=800&bih=600&dpr=1\n",
      "Next button not found. Exiting loop.\n",
      "크롤링 준비\n"
     ]
    },
    {
     "name": "stderr",
     "output_type": "stream",
     "text": [
      "\n",
      "\n",
      "preprocessing day:  19%|████████████▍                                                   | 6/31 [01:01<04:35, 11.04s/it]\u001b[A\u001b[A"
     ]
    },
    {
     "name": "stdout",
     "output_type": "stream",
     "text": [
      "다음날짜로 선택시작\n",
      "다음 날짜 선택 후 크롤링 준비\n",
      "https://www.google.com/search?q=Nasdaq&sca_esv=556524961&tbas=0&biw=800&bih=600&source=lnt&tbs=cdr%3A1%2Ccd_min%3A8%2F7%2F2022%2Ccd_max%3A8%2F7%2F2022&tbm=nws\n",
      "https://www.google.com/search?q=Nasdaq&sca_esv=556524961&tbas=0&tbs=cdr:1,cd_min:8/7/2022,cd_max:8/7/2022&tbm=nws&ei=trvZZOHPFYjO1e8PiLyHiAs&start=10&sa=N&ved=2ahUKEwjhgo3EtduAAxUIZ_UHHQjeAbEQ8NMDegQIAhAG&biw=800&bih=600&dpr=1\n",
      "Next button not found. Exiting loop.\n",
      "크롤링 준비\n"
     ]
    },
    {
     "name": "stderr",
     "output_type": "stream",
     "text": [
      "\n",
      "\n",
      "preprocessing day:  23%|██████████████▍                                                 | 7/31 [01:15<04:47, 11.98s/it]\u001b[A\u001b[A"
     ]
    },
    {
     "name": "stdout",
     "output_type": "stream",
     "text": [
      "다음날짜로 선택시작\n",
      "다음 날짜 선택 후 크롤링 준비\n",
      "https://www.google.com/search?q=Nasdaq&sca_esv=556524961&tbas=0&biw=800&bih=600&source=lnt&tbs=cdr%3A1%2Ccd_min%3A8%2F8%2F2022%2Ccd_max%3A8%2F8%2F2022&tbm=nws\n",
      "https://www.google.com/search?q=Nasdaq&sca_esv=556524961&tbas=0&tbs=cdr:1,cd_min:8/8/2022,cd_max:8/8/2022&tbm=nws&ei=xLvZZOCREpqOoAT086qIAQ&start=10&sa=N&ved=2ahUKEwjgg-DKtduAAxUaB4gKHfS5ChEQ8NMDegQIAxAK&biw=800&bih=600&dpr=1\n",
      "https://www.google.com/search?q=Nasdaq&sca_esv=556524961&tbas=0&tbs=cdr:1,cd_min:8/8/2022,cd_max:8/8/2022&tbm=nws&ei=xbvZZNv2Bojp1e8P87u5iAw&start=20&sa=N&ved=2ahUKEwib7ZHLtduAAxWIdPUHHfNdDsE4ChDw0wN6BAgEEAs&biw=800&bih=600&dpr=1\n",
      "크롤링 준비\n"
     ]
    },
    {
     "name": "stderr",
     "output_type": "stream",
     "text": [
      "\n",
      "\n",
      "preprocessing day:  26%|████████████████▌                                               | 8/31 [01:24<04:16, 11.15s/it]\u001b[A\u001b[A"
     ]
    },
    {
     "name": "stdout",
     "output_type": "stream",
     "text": [
      "다음날짜로 선택시작\n",
      "다음 날짜 선택 후 크롤링 준비\n",
      "https://www.google.com/search?q=Nasdaq&sca_esv=556524961&tbas=0&biw=800&bih=600&source=lnt&tbs=cdr%3A1%2Ccd_min%3A8%2F9%2F2022%2Ccd_max%3A8%2F9%2F2022&tbm=nws\n",
      "https://www.google.com/search?q=Nasdaq&sca_esv=556524961&tbas=0&tbs=cdr:1,cd_min:8/9/2022,cd_max:8/9/2022&tbm=nws&ei=zbvZZL2oKoiF-QbslqrIBA&start=10&sa=N&ved=2ahUKEwj9wp3PtduAAxWIQt4KHWyLCkkQ8NMDegQIAxAI&biw=800&bih=600&dpr=1\n",
      "https://www.google.com/search?q=Nasdaq&sca_esv=556524961&tbas=0&tbs=cdr:1,cd_min:8/9/2022,cd_max:8/9/2022&tbm=nws&ei=zrvZZMnpGIWq-QaizKS4CA&start=20&sa=N&ved=2ahUKEwjJiMnPtduAAxUFVd4KHSImCYc4ChDw0wN6BAgCEAk&biw=800&bih=600&dpr=1\n",
      "크롤링 준비\n"
     ]
    },
    {
     "name": "stderr",
     "output_type": "stream",
     "text": [
      "\n",
      "\n",
      "preprocessing day:  29%|██████████████████▌                                             | 9/31 [01:34<03:55, 10.72s/it]\u001b[A\u001b[A"
     ]
    },
    {
     "name": "stdout",
     "output_type": "stream",
     "text": [
      "다음날짜로 선택시작\n",
      "다음 날짜 선택 후 크롤링 준비\n",
      "https://www.google.com/search?q=Nasdaq&sca_esv=556524961&tbas=0&biw=800&bih=600&source=lnt&tbs=cdr%3A1%2Ccd_min%3A8%2F10%2F2022%2Ccd_max%3A8%2F10%2F2022&tbm=nws\n",
      "https://www.google.com/search?q=Nasdaq&sca_esv=556524961&tbas=0&tbs=cdr:1,cd_min:8/10/2022,cd_max:8/10/2022&tbm=nws&ei=17vZZLbIFYb3hwP21prICw&start=10&sa=N&ved=2ahUKEwj2j-vTtduAAxWG-2EKHXarBrkQ8NMDegQIAhAI&biw=800&bih=600&dpr=1\n",
      "https://www.google.com/search?q=Nasdaq&sca_esv=556524961&tbas=0&tbs=cdr:1,cd_min:8/10/2022,cd_max:8/10/2022&tbm=nws&ei=2LvZZKi_DunX1e8P-rW06Ag&start=20&sa=N&ved=2ahUKEwioi6HUtduAAxXpa_UHHfoaDY04ChDw0wN6BAgDEAk&biw=800&bih=600&dpr=1\n",
      "크롤링 준비\n"
     ]
    },
    {
     "name": "stderr",
     "output_type": "stream",
     "text": [
      "\n",
      "\n",
      "preprocessing day:  32%|████████████████████▎                                          | 10/31 [01:44<03:38, 10.38s/it]\u001b[A\u001b[A"
     ]
    },
    {
     "name": "stdout",
     "output_type": "stream",
     "text": [
      "다음날짜로 선택시작\n",
      "다음 날짜 선택 후 크롤링 준비\n",
      "https://www.google.com/search?q=Nasdaq&sca_esv=556524961&tbas=0&biw=800&bih=600&source=lnt&tbs=cdr%3A1%2Ccd_min%3A8%2F11%2F2022%2Ccd_max%3A8%2F11%2F2022&tbm=nws\n",
      "https://www.google.com/search?q=Nasdaq&sca_esv=556524961&tbas=0&tbs=cdr:1,cd_min:8/11/2022,cd_max:8/11/2022&tbm=nws&ei=4bvZZPT9BtbCoASviIHQAg&start=10&sa=N&ved=2ahUKEwi08r7YtduAAxVWIYgKHS9EACoQ8NMDegQIAxAI&biw=800&bih=600&dpr=1\n",
      "https://www.google.com/search?q=Nasdaq&sca_esv=556524961&tbas=0&tbs=cdr:1,cd_min:8/11/2022,cd_max:8/11/2022&tbm=nws&ei=4bvZZNWnO8aH-Qa-1LLYCA&start=20&sa=N&ved=2ahUKEwiVnPPYtduAAxXGQ94KHT6qDIs4ChDw0wN6BAgEEAk&biw=800&bih=600&dpr=1\n",
      "크롤링 준비\n"
     ]
    },
    {
     "name": "stderr",
     "output_type": "stream",
     "text": [
      "\n",
      "\n",
      "preprocessing day:  35%|██████████████████████▎                                        | 11/31 [01:53<03:20, 10.05s/it]\u001b[A\u001b[A"
     ]
    },
    {
     "name": "stdout",
     "output_type": "stream",
     "text": [
      "다음날짜로 선택시작\n",
      "다음 날짜 선택 후 크롤링 준비\n",
      "https://www.google.com/search?q=Nasdaq&sca_esv=556524961&tbas=0&biw=800&bih=600&source=lnt&tbs=cdr%3A1%2Ccd_min%3A8%2F12%2F2022%2Ccd_max%3A8%2F12%2F2022&tbm=nws\n",
      "https://www.google.com/search?q=Nasdaq&sca_esv=556524961&tbas=0&tbs=cdr:1,cd_min:8/12/2022,cd_max:8/12/2022&tbm=nws&ei=6rvZZKq7FtSG-QbztrvYAQ&start=10&sa=N&ved=2ahUKEwiq2PPctduAAxVUQ94KHXPbDhsQ8NMDegQIBBAK&biw=800&bih=600&dpr=1\n",
      "https://www.google.com/search?q=Nasdaq&sca_esv=556524961&tbas=0&tbs=cdr:1,cd_min:8/12/2022,cd_max:8/12/2022&tbm=nws&ei=67vZZM6rGdmohwP4mbboAg&start=20&sa=N&ved=2ahUKEwiOzbPdtduAAxVZ1GEKHfiMDS04ChDw0wN6BAgEEAs&biw=800&bih=600&dpr=1\n",
      "크롤링 준비\n"
     ]
    },
    {
     "name": "stderr",
     "output_type": "stream",
     "text": [
      "\n",
      "\n",
      "preprocessing day:  39%|████████████████████████▍                                      | 12/31 [02:03<03:11, 10.08s/it]\u001b[A\u001b[A"
     ]
    },
    {
     "name": "stdout",
     "output_type": "stream",
     "text": [
      "다음날짜로 선택시작\n",
      "다음 날짜 선택 후 크롤링 준비\n",
      "https://www.google.com/search?q=Nasdaq&sca_esv=556524961&tbas=0&biw=800&bih=600&source=lnt&tbs=cdr%3A1%2Ccd_min%3A8%2F13%2F2022%2Ccd_max%3A8%2F13%2F2022&tbm=nws\n",
      "Next button not found. Exiting loop.\n",
      "크롤링 준비\n"
     ]
    },
    {
     "name": "stderr",
     "output_type": "stream",
     "text": [
      "\n",
      "\n",
      "preprocessing day:  42%|██████████████████████████▍                                    | 13/31 [02:16<03:17, 10.98s/it]\u001b[A\u001b[A"
     ]
    },
    {
     "name": "stdout",
     "output_type": "stream",
     "text": [
      "다음날짜로 선택시작\n",
      "다음 날짜 선택 후 크롤링 준비\n",
      "https://www.google.com/search?q=Nasdaq&sca_esv=556524961&tbas=0&biw=800&bih=600&source=lnt&tbs=cdr%3A1%2Ccd_min%3A8%2F14%2F2022%2Ccd_max%3A8%2F14%2F2022&tbm=nws\n",
      "Next button not found. Exiting loop.\n",
      "크롤링 준비\n"
     ]
    },
    {
     "name": "stderr",
     "output_type": "stream",
     "text": [
      "\n",
      "\n",
      "preprocessing day:  45%|████████████████████████████▍                                  | 14/31 [02:29<03:15, 11.48s/it]\u001b[A\u001b[A"
     ]
    },
    {
     "name": "stdout",
     "output_type": "stream",
     "text": [
      "다음날짜로 선택시작\n",
      "다음 날짜 선택 후 크롤링 준비\n",
      "https://www.google.com/search?q=Nasdaq&sca_esv=556524961&tbas=0&biw=800&bih=600&source=lnt&tbs=cdr%3A1%2Ccd_min%3A8%2F15%2F2022%2Ccd_max%3A8%2F15%2F2022&tbm=nws\n",
      "https://www.google.com/search?q=Nasdaq&sca_esv=556524961&tbas=0&tbs=cdr:1,cd_min:8/15/2022,cd_max:8/15/2022&tbm=nws&ei=DrzZZKG9DpKphwOY1JL4CA&start=10&sa=N&ved=2ahUKEwih_IDutduAAxWS1GEKHRiqBI8Q8NMDegQIBBAI&biw=800&bih=600&dpr=1\n",
      "https://www.google.com/search?q=Nasdaq&sca_esv=556524961&tbas=0&tbs=cdr:1,cd_min:8/15/2022,cd_max:8/15/2022&tbm=nws&ei=D7zZZIyGBuXl1e8PvPWI8AY&start=20&sa=N&ved=2ahUKEwjMybXutduAAxXlcvUHHbw6Am44ChDw0wN6BAgCEAk&biw=800&bih=600&dpr=1\n",
      "크롤링 준비\n"
     ]
    },
    {
     "name": "stderr",
     "output_type": "stream",
     "text": [
      "\n",
      "\n",
      "preprocessing day:  48%|██████████████████████████████▍                                | 15/31 [02:39<02:55, 10.98s/it]\u001b[A\u001b[A"
     ]
    },
    {
     "name": "stdout",
     "output_type": "stream",
     "text": [
      "다음날짜로 선택시작\n",
      "다음 날짜 선택 후 크롤링 준비\n",
      "https://www.google.com/search?q=Nasdaq&sca_esv=556524961&tbas=0&biw=800&bih=600&source=lnt&tbs=cdr%3A1%2Ccd_min%3A8%2F16%2F2022%2Ccd_max%3A8%2F16%2F2022&tbm=nws\n",
      "https://www.google.com/search?q=Nasdaq&sca_esv=556524961&tbas=0&tbs=cdr:1,cd_min:8/16/2022,cd_max:8/16/2022&tbm=nws&ei=GLzZZJL5AYa5hwOxl7jwDA&start=10&sa=N&ved=2ahUKEwiS5dbytduAAxWG3GEKHbELDs4Q8NMDegQIBBAI&biw=800&bih=600&dpr=1\n",
      "https://www.google.com/search?q=Nasdaq&sca_esv=556524961&tbas=0&tbs=cdr:1,cd_min:8/16/2022,cd_max:8/16/2022&tbm=nws&ei=GLzZZLyOOcKohwPP1atw&start=20&sa=N&ved=2ahUKEwi8-o3ztduAAxVC1GEKHc_qCg44ChDw0wN6BAgEEAk&biw=800&bih=600&dpr=1\n",
      "크롤링 준비\n"
     ]
    },
    {
     "name": "stderr",
     "output_type": "stream",
     "text": [
      "\n",
      "\n",
      "preprocessing day:  52%|████████████████████████████████▌                              | 16/31 [02:48<02:36, 10.44s/it]\u001b[A\u001b[A"
     ]
    },
    {
     "name": "stdout",
     "output_type": "stream",
     "text": [
      "다음날짜로 선택시작\n",
      "다음 날짜 선택 후 크롤링 준비\n",
      "https://www.google.com/search?q=Nasdaq&sca_esv=556524961&tbas=0&biw=800&bih=600&source=lnt&tbs=cdr%3A1%2Ccd_min%3A8%2F17%2F2022%2Ccd_max%3A8%2F17%2F2022&tbm=nws\n",
      "https://www.google.com/search?q=Nasdaq&sca_esv=556524961&tbas=0&tbs=cdr:1,cd_min:8/17/2022,cd_max:8/17/2022&tbm=nws&ei=IbzZZL3VEKjS1e8PtJWJwAM&start=10&sa=N&ved=2ahUKEwj96Yr3tduAAxUoafUHHbRKAjgQ8NMDegQIAhAK&biw=800&bih=600&dpr=1\n",
      "https://www.google.com/search?q=Nasdaq&sca_esv=556524961&tbas=0&tbs=cdr:1,cd_min:8/17/2022,cd_max:8/17/2022&tbm=nws&ei=IbzZZKPzPK7X1e8Pl6CyqAU&start=20&sa=N&ved=2ahUKEwjjh7f3tduAAxWua_UHHReQDFU4ChDw0wN6BAgEEAs&biw=800&bih=600&dpr=1\n",
      "크롤링 준비\n"
     ]
    },
    {
     "name": "stderr",
     "output_type": "stream",
     "text": [
      "\n",
      "\n",
      "preprocessing day:  55%|██████████████████████████████████▌                            | 17/31 [02:58<02:23, 10.25s/it]\u001b[A\u001b[A"
     ]
    },
    {
     "name": "stdout",
     "output_type": "stream",
     "text": [
      "다음날짜로 선택시작\n",
      "다음 날짜 선택 후 크롤링 준비\n",
      "https://www.google.com/search?q=Nasdaq&sca_esv=556524961&tbas=0&biw=800&bih=600&source=lnt&tbs=cdr%3A1%2Ccd_min%3A8%2F18%2F2022%2Ccd_max%3A8%2F18%2F2022&tbm=nws\n",
      "https://www.google.com/search?q=Nasdaq&sca_esv=556524961&tbas=0&tbs=cdr:1,cd_min:8/18/2022,cd_max:8/18/2022&tbm=nws&ei=K7zZZKFonezV7w-Y2pGQCw&start=10&sa=N&ved=2ahUKEwjhqd37tduAAxUddvUHHRhtBLIQ8NMDegQIBBAK&biw=800&bih=600&dpr=1\n",
      "https://www.google.com/search?q=Nasdaq&sca_esv=556524961&tbas=0&tbs=cdr:1,cd_min:8/18/2022,cd_max:8/18/2022&tbm=nws&ei=K7zZZO_IOZvn1e8PlaGumAk&start=20&sa=N&ved=2ahUKEwivipb8tduAAxWbc_UHHZWQC5M4ChDw0wN6BAgCEAs&biw=800&bih=600&dpr=1\n",
      "크롤링 준비\n"
     ]
    },
    {
     "name": "stderr",
     "output_type": "stream",
     "text": [
      "\n",
      "\n",
      "preprocessing day:  58%|████████████████████████████████████▌                          | 18/31 [03:08<02:11, 10.13s/it]\u001b[A\u001b[A"
     ]
    },
    {
     "name": "stdout",
     "output_type": "stream",
     "text": [
      "다음날짜로 선택시작\n",
      "다음 날짜 선택 후 크롤링 준비\n",
      "https://www.google.com/search?q=Nasdaq&sca_esv=556524961&tbas=0&biw=800&bih=600&source=lnt&tbs=cdr%3A1%2Ccd_min%3A8%2F19%2F2022%2Ccd_max%3A8%2F19%2F2022&tbm=nws\n",
      "https://www.google.com/search?q=Nasdaq&sca_esv=556524961&tbas=0&tbs=cdr:1,cd_min:8/19/2022,cd_max:8/19/2022&tbm=nws&ei=NLzZZIaHN9bt-Aa_uZS4AQ&start=10&sa=N&ved=2ahUKEwiG8biAttuAAxXWNt4KHb8cBRcQ8NMDegQIAhAK&biw=800&bih=600&dpr=1\n",
      "https://www.google.com/search?q=Nasdaq&sca_esv=556524961&tbas=0&tbs=cdr:1,cd_min:8/19/2022,cd_max:8/19/2022&tbm=nws&ei=NbzZZNyML9jh1e8PkqeQkAo&start=20&sa=N&ved=2ahUKEwic--2AttuAAxXYcPUHHZITBKI4ChDw0wN6BAgEEAs&biw=800&bih=600&dpr=1\n",
      "크롤링 준비\n"
     ]
    },
    {
     "name": "stderr",
     "output_type": "stream",
     "text": [
      "\n",
      "\n",
      "preprocessing day:  61%|██████████████████████████████████████▌                        | 19/31 [03:17<01:59,  9.93s/it]\u001b[A\u001b[A"
     ]
    },
    {
     "name": "stdout",
     "output_type": "stream",
     "text": [
      "다음날짜로 선택시작\n",
      "다음 날짜 선택 후 크롤링 준비\n",
      "https://www.google.com/search?q=Nasdaq&sca_esv=556524961&tbas=0&biw=800&bih=600&source=lnt&tbs=cdr%3A1%2Ccd_min%3A8%2F20%2F2022%2Ccd_max%3A8%2F20%2F2022&tbm=nws\n",
      "Next button not found. Exiting loop.\n",
      "크롤링 준비\n"
     ]
    },
    {
     "name": "stderr",
     "output_type": "stream",
     "text": [
      "\n",
      "\n",
      "preprocessing day:  65%|████████████████████████████████████████▋                      | 20/31 [03:30<02:00, 10.94s/it]\u001b[A\u001b[A"
     ]
    },
    {
     "name": "stdout",
     "output_type": "stream",
     "text": [
      "다음날짜로 선택시작\n",
      "다음 날짜 선택 후 크롤링 준비\n",
      "https://www.google.com/search?q=Nasdaq&sca_esv=556524961&tbas=0&biw=800&bih=600&source=lnt&tbs=cdr%3A1%2Ccd_min%3A8%2F21%2F2022%2Ccd_max%3A8%2F21%2F2022&tbm=nws\n",
      "https://www.google.com/search?q=Nasdaq&sca_esv=556524961&tbas=0&tbs=cdr:1,cd_min:8/21/2022,cd_max:8/21/2022&tbm=nws&ei=S7zZZLv6J6XR1e8P2ua_qAk&start=10&sa=N&ved=2ahUKEwj7y6WLttuAAxWlaPUHHVrzD5UQ8NMDegQIAxAG&biw=800&bih=600&dpr=1\n",
      "Next button not found. Exiting loop.\n",
      "크롤링 준비\n"
     ]
    },
    {
     "name": "stderr",
     "output_type": "stream",
     "text": [
      "\n",
      "\n",
      "preprocessing day:  68%|██████████████████████████████████████████▋                    | 21/31 [03:45<01:58, 11.88s/it]\u001b[A\u001b[A"
     ]
    },
    {
     "name": "stdout",
     "output_type": "stream",
     "text": [
      "다음날짜로 선택시작\n",
      "다음 날짜 선택 후 크롤링 준비\n",
      "https://www.google.com/search?q=Nasdaq&sca_esv=556524961&tbas=0&biw=800&bih=600&source=lnt&tbs=cdr%3A1%2Ccd_min%3A8%2F22%2F2022%2Ccd_max%3A8%2F22%2F2022&tbm=nws\n",
      "https://www.google.com/search?q=Nasdaq&sca_esv=556524961&tbas=0&tbs=cdr:1,cd_min:8/22/2022,cd_max:8/22/2022&tbm=nws&ei=WbzZZJeXMNms-Qa9mpSICg&start=10&sa=N&ved=2ahUKEwjXp4SSttuAAxVZVt4KHT0NBaEQ8NMDegQIBBAI&biw=800&bih=600&dpr=1\n",
      "https://www.google.com/search?q=Nasdaq&sca_esv=556524961&tbas=0&tbs=cdr:1,cd_min:8/22/2022,cd_max:8/22/2022&tbm=nws&ei=WrzZZMy9Krzb1e8P0OSJ6Aw&start=20&sa=N&ved=2ahUKEwjM0ruSttuAAxW8bfUHHVByAs04ChDw0wN6BAgCEAk&biw=800&bih=600&dpr=1\n",
      "크롤링 준비\n"
     ]
    },
    {
     "name": "stderr",
     "output_type": "stream",
     "text": [
      "\n",
      "\n",
      "preprocessing day:  71%|████████████████████████████████████████████▋                  | 22/31 [03:54<01:40, 11.15s/it]\u001b[A\u001b[A"
     ]
    },
    {
     "name": "stdout",
     "output_type": "stream",
     "text": [
      "다음날짜로 선택시작\n",
      "다음 날짜 선택 후 크롤링 준비\n",
      "https://www.google.com/search?q=Nasdaq&sca_esv=556524961&tbas=0&biw=800&bih=600&source=lnt&tbs=cdr%3A1%2Ccd_min%3A8%2F23%2F2022%2Ccd_max%3A8%2F23%2F2022&tbm=nws\n",
      "https://www.google.com/search?q=Nasdaq&sca_esv=556524961&tbas=0&tbs=cdr:1,cd_min:8/23/2022,cd_max:8/23/2022&tbm=nws&ei=Y7zZZKSoDIL0-QbG0pbQBQ&start=10&sa=N&ved=2ahUKEwjk5cKWttuAAxUCet4KHUapBVoQ8NMDegQIBBAK&biw=800&bih=600&dpr=1\n",
      "https://www.google.com/search?q=Nasdaq&sca_esv=556524961&tbas=0&tbs=cdr:1,cd_min:8/23/2022,cd_max:8/23/2022&tbm=nws&ei=ZLzZZJWqAaTc1e8PhJq-4Ak&start=20&sa=N&ved=2ahUKEwiV7PSWttuAAxUkbvUHHQSND5w4ChDw0wN6BAgDEAs&biw=800&bih=600&dpr=1\n",
      "크롤링 준비\n"
     ]
    },
    {
     "name": "stderr",
     "output_type": "stream",
     "text": [
      "\n",
      "\n",
      "preprocessing day:  74%|██████████████████████████████████████████████▋                | 23/31 [04:03<01:24, 10.57s/it]\u001b[A\u001b[A"
     ]
    },
    {
     "name": "stdout",
     "output_type": "stream",
     "text": [
      "다음날짜로 선택시작\n",
      "다음 날짜 선택 후 크롤링 준비\n",
      "https://www.google.com/search?q=Nasdaq&sca_esv=556524961&tbas=0&biw=800&bih=600&source=lnt&tbs=cdr%3A1%2Ccd_min%3A8%2F24%2F2022%2Ccd_max%3A8%2F24%2F2022&tbm=nws\n",
      "https://www.google.com/search?q=Nasdaq&sca_esv=556524961&tbas=0&tbs=cdr:1,cd_min:8/24/2022,cd_max:8/24/2022&tbm=nws&ei=bLzZZLGmEdG0oASUroGwDg&start=10&sa=N&ved=2ahUKEwixjO2attuAAxVRGogKHRRXAOYQ8NMDegQIAxAK&biw=800&bih=600&dpr=1\n",
      "https://www.google.com/search?q=Nasdaq&sca_esv=556524961&tbas=0&tbs=cdr:1,cd_min:8/24/2022,cd_max:8/24/2022&tbm=nws&ei=bbzZZIjbD-PX1e8P1pWAuAc&start=20&sa=N&ved=2ahUKEwjIxaibttuAAxXja_UHHdYKAHc4ChDw0wN6BAgEEAs&biw=800&bih=600&dpr=1\n",
      "크롤링 준비\n"
     ]
    },
    {
     "name": "stderr",
     "output_type": "stream",
     "text": [
      "\n",
      "\n",
      "preprocessing day:  77%|████████████████████████████████████████████████▊              | 24/31 [04:13<01:12, 10.39s/it]\u001b[A\u001b[A"
     ]
    },
    {
     "name": "stdout",
     "output_type": "stream",
     "text": [
      "다음날짜로 선택시작\n",
      "다음 날짜 선택 후 크롤링 준비\n",
      "https://www.google.com/search?q=Nasdaq&sca_esv=556524961&tbas=0&biw=800&bih=600&source=lnt&tbs=cdr%3A1%2Ccd_min%3A8%2F25%2F2022%2Ccd_max%3A8%2F25%2F2022&tbm=nws\n",
      "https://www.google.com/search?q=Nasdaq&sca_esv=556524961&tbas=0&tbs=cdr:1,cd_min:8/25/2022,cd_max:8/25/2022&tbm=nws&ei=drzZZL3UFMOghwOCiLPQCg&start=10&sa=N&ved=2ahUKEwi959KfttuAAxVD0GEKHQLEDKoQ8NMDegQIAhAK&biw=800&bih=600&dpr=1\n",
      "https://www.google.com/search?q=Nasdaq&sca_esv=556524961&tbas=0&tbs=cdr:1,cd_min:8/25/2022,cd_max:8/25/2022&tbm=nws&ei=d7zZZL_TEtG0oASUroGwDg&start=20&sa=N&ved=2ahUKEwj_6o2gttuAAxVRGogKHRRXAOY4ChDw0wN6BAgEEAs&biw=800&bih=600&dpr=1\n",
      "크롤링 준비\n"
     ]
    },
    {
     "name": "stderr",
     "output_type": "stream",
     "text": [
      "\n",
      "\n",
      "preprocessing day:  81%|██████████████████████████████████████████████████▊            | 25/31 [04:23<01:01, 10.26s/it]\u001b[A\u001b[A"
     ]
    },
    {
     "name": "stdout",
     "output_type": "stream",
     "text": [
      "다음날짜로 선택시작\n",
      "다음 날짜 선택 후 크롤링 준비\n",
      "https://www.google.com/search?q=Nasdaq&sca_esv=556524961&tbas=0&biw=800&bih=600&source=lnt&tbs=cdr%3A1%2Ccd_min%3A8%2F26%2F2022%2Ccd_max%3A8%2F26%2F2022&tbm=nws\n",
      "https://www.google.com/search?q=Nasdaq&sca_esv=556524961&tbas=0&tbs=cdr:1,cd_min:8/26/2022,cd_max:8/26/2022&tbm=nws&ei=gLzZZOfRFNTq-AbPgb6oDA&start=10&sa=N&ved=2ahUKEwjnkbWkttuAAxVUNd4KHc-AD8UQ8NMDegQIAxAK&biw=800&bih=600&dpr=1\n",
      "https://www.google.com/search?q=Nasdaq&sca_esv=556524961&tbas=0&tbs=cdr:1,cd_min:8/26/2022,cd_max:8/26/2022&tbm=nws&ei=gbzZZPziFcHT1e8PwY6hgAI&start=20&sa=N&ved=2ahUKEwi8p_OkttuAAxXBafUHHUFHCCA4ChDw0wN6BAgBEAs&biw=800&bih=600&dpr=1\n",
      "크롤링 준비\n"
     ]
    },
    {
     "name": "stderr",
     "output_type": "stream",
     "text": [
      "\n",
      "\n",
      "preprocessing day:  84%|████████████████████████████████████████████████████▊          | 26/31 [04:33<00:50, 10.10s/it]\u001b[A\u001b[A"
     ]
    },
    {
     "name": "stdout",
     "output_type": "stream",
     "text": [
      "다음날짜로 선택시작\n",
      "다음 날짜 선택 후 크롤링 준비\n",
      "https://www.google.com/search?q=Nasdaq&sca_esv=556524961&tbas=0&biw=800&bih=600&source=lnt&tbs=cdr%3A1%2Ccd_min%3A8%2F27%2F2022%2Ccd_max%3A8%2F27%2F2022&tbm=nws\n",
      "Next button not found. Exiting loop.\n",
      "크롤링 준비\n"
     ]
    },
    {
     "name": "stderr",
     "output_type": "stream",
     "text": [
      "\n",
      "\n",
      "preprocessing day:  87%|██████████████████████████████████████████████████████▊        | 27/31 [04:46<00:44, 11.03s/it]\u001b[A\u001b[A"
     ]
    },
    {
     "name": "stdout",
     "output_type": "stream",
     "text": [
      "다음날짜로 선택시작\n",
      "다음 날짜 선택 후 크롤링 준비\n",
      "https://www.google.com/search?q=Nasdaq&sca_esv=556524961&tbas=0&biw=800&bih=600&source=lnt&tbs=cdr%3A1%2Ccd_min%3A8%2F28%2F2022%2Ccd_max%3A8%2F28%2F2022&tbm=nws\n",
      "Next button not found. Exiting loop.\n",
      "크롤링 준비\n"
     ]
    },
    {
     "name": "stderr",
     "output_type": "stream",
     "text": [
      "\n",
      "\n",
      "preprocessing day:  90%|████████████████████████████████████████████████████████▉      | 28/31 [04:59<00:35, 11.70s/it]\u001b[A\u001b[A"
     ]
    },
    {
     "name": "stdout",
     "output_type": "stream",
     "text": [
      "다음날짜로 선택시작\n",
      "다음 날짜 선택 후 크롤링 준비\n",
      "https://www.google.com/search?q=Nasdaq&sca_esv=556524961&tbas=0&biw=800&bih=600&source=lnt&tbs=cdr%3A1%2Ccd_min%3A8%2F29%2F2022%2Ccd_max%3A8%2F29%2F2022&tbm=nws\n",
      "https://www.google.com/search?q=Nasdaq&sca_esv=556524961&tbas=0&tbs=cdr:1,cd_min:8/29/2022,cd_max:8/29/2022&tbm=nws&ei=pLzZZO_iG436hwONwqWYDw&start=10&sa=N&ved=2ahUKEwjvxNG1ttuAAxUN_WEKHQ1hCfMQ8NMDegQIAxAK&biw=800&bih=600&dpr=1\n",
      "https://www.google.com/search?q=Nasdaq&sca_esv=556524961&tbas=0&tbs=cdr:1,cd_min:8/29/2022,cd_max:8/29/2022&tbm=nws&ei=pbzZZOTkEPHQ1e8P9Ii7qAo&start=20&sa=N&ved=2ahUKEwiky4O2ttuAAxVxaPUHHXTEDqU4ChDw0wN6BAgCEAs&biw=800&bih=600&dpr=1\n",
      "크롤링 준비\n"
     ]
    },
    {
     "name": "stderr",
     "output_type": "stream",
     "text": [
      "\n",
      "\n",
      "preprocessing day:  94%|██████████████████████████████████████████████████████████▉    | 29/31 [05:09<00:22, 11.01s/it]\u001b[A\u001b[A"
     ]
    },
    {
     "name": "stdout",
     "output_type": "stream",
     "text": [
      "다음날짜로 선택시작\n",
      "다음 날짜 선택 후 크롤링 준비\n",
      "https://www.google.com/search?q=Nasdaq&sca_esv=556524961&tbas=0&biw=800&bih=600&source=lnt&tbs=cdr%3A1%2Ccd_min%3A8%2F30%2F2022%2Ccd_max%3A8%2F30%2F2022&tbm=nws\n",
      "https://www.google.com/search?q=Nasdaq&sca_esv=556524961&tbas=0&tbs=cdr:1,cd_min:8/30/2022,cd_max:8/30/2022&tbm=nws&ei=rbzZZPzRNs_Z1e8P1_S7gAw&start=10&sa=N&ved=2ahUKEwi83JG6ttuAAxXPbPUHHVf6DsAQ8NMDegQIARAI&biw=800&bih=600&dpr=1\n",
      "https://www.google.com/search?q=Nasdaq&sca_esv=556524961&tbas=0&tbs=cdr:1,cd_min:8/30/2022,cd_max:8/30/2022&tbm=nws&ei=rrzZZOfLMsLf1e8Pxsai-Aw&start=20&sa=N&ved=2ahUKEwjn2sq6ttuAAxXCb_UHHUajCM84ChDw0wN6BAgEEAk&biw=800&bih=600&dpr=1\n",
      "크롤링 준비\n"
     ]
    },
    {
     "name": "stderr",
     "output_type": "stream",
     "text": [
      "\n",
      "\n",
      "preprocessing day:  97%|████████████████████████████████████████████████████████████▉  | 30/31 [05:18<00:10, 10.64s/it]\u001b[A\u001b[A"
     ]
    },
    {
     "name": "stdout",
     "output_type": "stream",
     "text": [
      "다음날짜로 선택시작\n",
      "다음 날짜 선택 후 크롤링 준비\n",
      "https://www.google.com/search?q=Nasdaq&sca_esv=556524961&tbas=0&biw=800&bih=600&source=lnt&tbs=cdr%3A1%2Ccd_min%3A8%2F31%2F2022%2Ccd_max%3A8%2F31%2F2022&tbm=nws\n",
      "https://www.google.com/search?q=Nasdaq&sca_esv=556524961&tbas=0&tbs=cdr:1,cd_min:8/31/2022,cd_max:8/31/2022&tbm=nws&ei=t7zZZOWwKJi9wAPf8ZKACw&start=10&sa=N&ved=2ahUKEwil6OW-ttuAAxWYHnAKHd-4BLAQ8NMDegQIAxAM&biw=800&bih=600&dpr=1\n",
      "https://www.google.com/search?q=Nasdaq&sca_esv=556524961&tbas=0&tbs=cdr:1,cd_min:8/31/2022,cd_max:8/31/2022&tbm=nws&ei=uLzZZK3ROpr9-QavpbjoDw&start=20&sa=N&ved=2ahUKEwitjbW_ttuAAxWaft4KHa8SDv04ChDw0wN6BAgCEA0&biw=800&bih=600&dpr=1\n",
      "크롤링 준비\n"
     ]
    },
    {
     "name": "stderr",
     "output_type": "stream",
     "text": [
      "\n",
      "\n",
      "preprocessing day: 100%|███████████████████████████████████████████████████████████████| 31/31 [05:29<00:00, 10.63s/it]\u001b[A\u001b[A\n",
      "\n",
      "preprocessing month:  67%|████████████████████████████████████████▋                    | 8/12 [44:52<22:25, 336.44s/it]\u001b[A"
     ]
    },
    {
     "name": "stdout",
     "output_type": "stream",
     "text": [
      "다음날짜로 선택시작\n"
     ]
    },
    {
     "name": "stderr",
     "output_type": "stream",
     "text": [
      "\n",
      "\n",
      "preprocessing day:   0%|                                                                        | 0/31 [00:00<?, ?it/s]\u001b[A\u001b[A"
     ]
    },
    {
     "name": "stdout",
     "output_type": "stream",
     "text": [
      "다음 날짜 선택 후 크롤링 준비\n",
      "https://www.google.com/search?q=Nasdaq&sca_esv=556524961&tbas=0&biw=800&bih=600&source=lnt&tbs=cdr%3A1%2Ccd_min%3A9%2F1%2F2022%2Ccd_max%3A9%2F1%2F2022&tbm=nws\n",
      "https://www.google.com/search?q=Nasdaq&sca_esv=556524961&tbas=0&tbs=cdr:1,cd_min:9/1/2022,cd_max:9/1/2022&tbm=nws&ei=wrzZZOzFD82n-QaFl5_ACA&start=10&sa=N&ved=2ahUKEwjsruzDttuAAxXNU94KHYXLB4gQ8NMDegQIAhAM&biw=800&bih=600&dpr=1\n",
      "https://www.google.com/search?q=Nasdaq&sca_esv=556524961&tbas=0&tbs=cdr:1,cd_min:9/1/2022,cd_max:9/1/2022&tbm=nws&ei=w7zZZJr6FdWHoATFiq7ABw&start=20&sa=N&ved=2ahUKEwja56_EttuAAxXVA4gKHUWFC3g4ChDw0wN6BAgCEA0&biw=800&bih=600&dpr=1\n",
      "크롤링 준비\n"
     ]
    },
    {
     "name": "stderr",
     "output_type": "stream",
     "text": [
      "\n",
      "\n",
      "preprocessing day:   3%|██                                                              | 1/31 [00:09<04:54,  9.83s/it]\u001b[A\u001b[A"
     ]
    },
    {
     "name": "stdout",
     "output_type": "stream",
     "text": [
      "다음날짜로 선택시작\n",
      "다음 날짜 선택 후 크롤링 준비\n",
      "https://www.google.com/search?q=Nasdaq&sca_esv=556524961&tbas=0&biw=800&bih=600&source=lnt&tbs=cdr%3A1%2Ccd_min%3A9%2F2%2F2022%2Ccd_max%3A9%2F2%2F2022&tbm=nws\n",
      "https://www.google.com/search?q=Nasdaq&sca_esv=556524961&tbas=0&tbs=cdr:1,cd_min:9/2/2022,cd_max:9/2/2022&tbm=nws&ei=zLzZZLntDPHh1e8PzIKyqAk&start=10&sa=N&ved=2ahUKEwi5g8zIttuAAxXxcPUHHUyBDJUQ8NMDegQIGBAM&biw=800&bih=600&dpr=1\n",
      "https://www.google.com/search?q=Nasdaq&sca_esv=556524961&tbas=0&tbs=cdr:1,cd_min:9/2/2022,cd_max:9/2/2022&tbm=nws&ei=zbzZZPfpBebR1e8Pj5mguAE&start=20&sa=N&ved=2ahUKEwi3hILJttuAAxXmaPUHHY8MCBc4ChDw0wN6BAgCEA0&biw=800&bih=600&dpr=1\n",
      "크롤링 준비\n"
     ]
    },
    {
     "name": "stderr",
     "output_type": "stream",
     "text": [
      "\n",
      "\n",
      "preprocessing day:   6%|████▏                                                           | 2/31 [00:19<04:34,  9.46s/it]\u001b[A\u001b[A"
     ]
    },
    {
     "name": "stdout",
     "output_type": "stream",
     "text": [
      "다음날짜로 선택시작\n",
      "다음 날짜 선택 후 크롤링 준비\n",
      "https://www.google.com/search?q=Nasdaq&sca_esv=556524961&tbas=0&biw=800&bih=600&source=lnt&tbs=cdr%3A1%2Ccd_min%3A9%2F3%2F2022%2Ccd_max%3A9%2F3%2F2022&tbm=nws\n",
      "Next button not found. Exiting loop.\n",
      "크롤링 준비\n"
     ]
    },
    {
     "name": "stderr",
     "output_type": "stream",
     "text": [
      "\n",
      "\n",
      "preprocessing day:  10%|██████▏                                                         | 3/31 [00:32<05:10, 11.10s/it]\u001b[A\u001b[A"
     ]
    },
    {
     "name": "stdout",
     "output_type": "stream",
     "text": [
      "다음날짜로 선택시작\n",
      "다음 날짜 선택 후 크롤링 준비\n",
      "https://www.google.com/search?q=Nasdaq&sca_esv=556524961&tbas=0&biw=800&bih=600&source=lnt&tbs=cdr%3A1%2Ccd_min%3A9%2F4%2F2022%2Ccd_max%3A9%2F4%2F2022&tbm=nws\n",
      "Next button not found. Exiting loop.\n",
      "크롤링 준비\n"
     ]
    },
    {
     "name": "stderr",
     "output_type": "stream",
     "text": [
      "\n",
      "\n",
      "preprocessing day:  13%|████████▎                                                       | 4/31 [00:45<05:21, 11.92s/it]\u001b[A\u001b[A"
     ]
    },
    {
     "name": "stdout",
     "output_type": "stream",
     "text": [
      "다음날짜로 선택시작\n",
      "다음 날짜 선택 후 크롤링 준비\n",
      "https://www.google.com/search?q=Nasdaq&sca_esv=556524961&tbas=0&biw=800&bih=600&source=lnt&tbs=cdr%3A1%2Ccd_min%3A9%2F5%2F2022%2Ccd_max%3A9%2F5%2F2022&tbm=nws\n",
      "https://www.google.com/search?q=Nasdaq&sca_esv=556524961&tbas=0&tbs=cdr:1,cd_min:9/5/2022,cd_max:9/5/2022&tbm=nws&ei=77zZZNf9IM-n-Qaf96JI&start=10&sa=N&ved=2ahUKEwiXsbjZttuAAxXPU94KHZ-7CAkQ8NMDegQIBBAG&biw=800&bih=600&dpr=1\n",
      "Next button not found. Exiting loop.\n",
      "크롤링 준비\n"
     ]
    },
    {
     "name": "stderr",
     "output_type": "stream",
     "text": [
      "\n",
      "\n",
      "preprocessing day:  16%|██████████▎                                                     | 5/31 [00:59<05:29, 12.66s/it]\u001b[A\u001b[A"
     ]
    },
    {
     "name": "stdout",
     "output_type": "stream",
     "text": [
      "다음날짜로 선택시작\n",
      "다음 날짜 선택 후 크롤링 준비\n",
      "https://www.google.com/search?q=Nasdaq&sca_esv=556524961&tbas=0&biw=800&bih=600&source=lnt&tbs=cdr%3A1%2Ccd_min%3A9%2F6%2F2022%2Ccd_max%3A9%2F6%2F2022&tbm=nws\n",
      "https://www.google.com/search?q=Nasdaq&sca_esv=556524961&tbas=0&tbs=cdr:1,cd_min:9/6/2022,cd_max:9/6/2022&tbm=nws&ei=_bzZZJ_oGZT1hwPP6IjIDg&start=10&sa=N&ved=2ahUKEwjf2ofgttuAAxWU-mEKHU80AukQ8NMDegQIAxAO&biw=800&bih=600&dpr=1\n",
      "https://www.google.com/search?q=Nasdaq&sca_esv=556524961&tbas=0&tbs=cdr:1,cd_min:9/6/2022,cd_max:9/6/2022&tbm=nws&ei=_rzZZJmeFMzW1e8PpZGmsAM&start=20&sa=N&ved=2ahUKEwiZlb_gttuAAxVMa_UHHaWICTY4ChDw0wN6BAgDEA8&biw=800&bih=600&dpr=1\n",
      "크롤링 준비\n"
     ]
    },
    {
     "name": "stderr",
     "output_type": "stream",
     "text": [
      "\n",
      "\n",
      "preprocessing day:  19%|████████████▍                                                   | 6/31 [01:08<04:50, 11.63s/it]\u001b[A\u001b[A"
     ]
    },
    {
     "name": "stdout",
     "output_type": "stream",
     "text": [
      "다음날짜로 선택시작\n",
      "다음 날짜 선택 후 크롤링 준비\n",
      "https://www.google.com/search?q=Nasdaq&sca_esv=556524961&tbas=0&biw=800&bih=600&source=lnt&tbs=cdr%3A1%2Ccd_min%3A9%2F7%2F2022%2Ccd_max%3A9%2F7%2F2022&tbm=nws\n",
      "https://www.google.com/search?q=Nasdaq&sca_esv=556524961&tbas=0&tbs=cdr:1,cd_min:9/7/2022,cd_max:9/7/2022&tbm=nws&ei=B73ZZNm6C4bU1e8PnrG0kAk&start=10&sa=N&ved=2ahUKEwiZ2tvkttuAAxUGavUHHZ4YDZIQ8NMDegQIAhAK&biw=800&bih=600&dpr=1\n",
      "https://www.google.com/search?q=Nasdaq&sca_esv=556524961&tbas=0&tbs=cdr:1,cd_min:9/7/2022,cd_max:9/7/2022&tbm=nws&ei=CL3ZZJAu2ur4Bs3MqpgI&start=20&sa=N&ved=2ahUKEwiQ0o3lttuAAxVaNd4KHU2mCoM4ChDw0wN6BAgFEAs&biw=800&bih=600&dpr=1\n",
      "크롤링 준비\n"
     ]
    },
    {
     "name": "stderr",
     "output_type": "stream",
     "text": [
      "\n",
      "\n",
      "preprocessing day:  23%|██████████████▍                                                 | 7/31 [01:18<04:22, 10.95s/it]\u001b[A\u001b[A"
     ]
    },
    {
     "name": "stdout",
     "output_type": "stream",
     "text": [
      "다음날짜로 선택시작\n",
      "다음 날짜 선택 후 크롤링 준비\n",
      "https://www.google.com/search?q=Nasdaq&sca_esv=556524961&tbas=0&biw=800&bih=600&source=lnt&tbs=cdr%3A1%2Ccd_min%3A9%2F8%2F2022%2Ccd_max%3A9%2F8%2F2022&tbm=nws\n",
      "https://www.google.com/search?q=Nasdaq&sca_esv=556524961&tbas=0&tbs=cdr:1,cd_min:9/8/2022,cd_max:9/8/2022&tbm=nws&ei=EL3ZZL71I4CA1e8Pop-ZkAo&start=10&sa=N&ved=2ahUKEwi-vZnpttuAAxUAQPUHHaJPBqIQ8NMDegQIAhAM&biw=800&bih=600&dpr=1\n",
      "https://www.google.com/search?q=Nasdaq&sca_esv=556524961&tbas=0&tbs=cdr:1,cd_min:9/8/2022,cd_max:9/8/2022&tbm=nws&ei=Eb3ZZPjwG9mJ-QbNtKbwDg&start=20&sa=N&ved=2ahUKEwi4vc7pttuAAxXZRN4KHU2aCe44ChDw0wN6BAgBEA0&biw=800&bih=600&dpr=1\n",
      "크롤링 준비\n"
     ]
    },
    {
     "name": "stderr",
     "output_type": "stream",
     "text": [
      "\n",
      "\n",
      "preprocessing day:  26%|████████████████▌                                               | 8/31 [01:27<03:58, 10.39s/it]\u001b[A\u001b[A"
     ]
    },
    {
     "name": "stdout",
     "output_type": "stream",
     "text": [
      "다음날짜로 선택시작\n",
      "다음 날짜 선택 후 크롤링 준비\n",
      "https://www.google.com/search?q=Nasdaq&sca_esv=556524961&tbas=0&biw=800&bih=600&source=lnt&tbs=cdr%3A1%2Ccd_min%3A9%2F9%2F2022%2Ccd_max%3A9%2F9%2F2022&tbm=nws\n",
      "https://www.google.com/search?q=Nasdaq&sca_esv=556524961&tbas=0&tbs=cdr:1,cd_min:9/9/2022,cd_max:9/9/2022&tbm=nws&ei=Gb3ZZOSIM5D11e8P88W-iA8&start=10&sa=N&ved=2ahUKEwik-c3tttuAAxWQevUHHfOiD_EQ8NMDegQIAxAK&biw=800&bih=600&dpr=1\n",
      "https://www.google.com/search?q=Nasdaq&sca_esv=556524961&tbas=0&tbs=cdr:1,cd_min:9/9/2022,cd_max:9/9/2022&tbm=nws&ei=Gr3ZZKf9K8z3wAPi27zwAQ&start=20&sa=N&ved=2ahUKEwin8oPuttuAAxXMO3AKHeItDx44ChDw0wN6BAgDEAs&biw=800&bih=600&dpr=1\n",
      "크롤링 준비\n"
     ]
    },
    {
     "name": "stderr",
     "output_type": "stream",
     "text": [
      "\n",
      "\n",
      "preprocessing day:  29%|██████████████████▌                                             | 9/31 [01:36<03:39, 10.00s/it]\u001b[A\u001b[A"
     ]
    },
    {
     "name": "stdout",
     "output_type": "stream",
     "text": [
      "다음날짜로 선택시작\n",
      "다음 날짜 선택 후 크롤링 준비\n",
      "https://www.google.com/search?q=Nasdaq&sca_esv=556524961&tbas=0&biw=800&bih=600&source=lnt&tbs=cdr%3A1%2Ccd_min%3A9%2F10%2F2022%2Ccd_max%3A9%2F10%2F2022&tbm=nws\n",
      "Next button not found. Exiting loop.\n",
      "크롤링 준비\n"
     ]
    },
    {
     "name": "stderr",
     "output_type": "stream",
     "text": [
      "\n",
      "\n",
      "preprocessing day:  32%|████████████████████▎                                          | 10/31 [01:49<03:47, 10.83s/it]\u001b[A\u001b[A"
     ]
    },
    {
     "name": "stdout",
     "output_type": "stream",
     "text": [
      "다음날짜로 선택시작\n",
      "다음 날짜 선택 후 크롤링 준비\n",
      "https://www.google.com/search?q=Nasdaq&sca_esv=556524961&tbas=0&biw=800&bih=600&source=lnt&tbs=cdr%3A1%2Ccd_min%3A9%2F11%2F2022%2Ccd_max%3A9%2F11%2F2022&tbm=nws\n",
      "https://www.google.com/search?q=Nasdaq&sca_esv=556524961&tbas=0&tbs=cdr:1,cd_min:9/11/2022,cd_max:9/11/2022&tbm=nws&ei=L73ZZNLCKJW6hwP8s464Cw&start=10&sa=N&ved=2ahUKEwiSloL4ttuAAxUV3WEKHfyZA7cQ8NMDegQIAxAG&biw=800&bih=600&dpr=1\n",
      "Next button not found. Exiting loop.\n",
      "크롤링 준비\n"
     ]
    },
    {
     "name": "stderr",
     "output_type": "stream",
     "text": [
      "\n",
      "\n",
      "preprocessing day:  35%|██████████████████████▎                                        | 11/31 [02:03<03:54, 11.71s/it]\u001b[A\u001b[A"
     ]
    },
    {
     "name": "stdout",
     "output_type": "stream",
     "text": [
      "다음날짜로 선택시작\n",
      "다음 날짜 선택 후 크롤링 준비\n",
      "https://www.google.com/search?q=Nasdaq&sca_esv=556524961&tbas=0&biw=800&bih=600&source=lnt&tbs=cdr%3A1%2Ccd_min%3A9%2F12%2F2022%2Ccd_max%3A9%2F12%2F2022&tbm=nws\n",
      "https://www.google.com/search?q=Nasdaq&sca_esv=556524961&tbas=0&tbs=cdr:1,cd_min:9/12/2022,cd_max:9/12/2022&tbm=nws&ei=Pb3ZZKG_HdWs-QaNq46YAQ&start=10&sa=N&ved=2ahUKEwjh0c3-ttuAAxVVVt4KHY2VAxMQ8NMDegQIAhAM&biw=800&bih=600&dpr=1\n",
      "https://www.google.com/search?q=Nasdaq&sca_esv=556524961&tbas=0&tbs=cdr:1,cd_min:9/12/2022,cd_max:9/12/2022&tbm=nws&ei=Pr3ZZOb3DaPa1e8PzdiH-AI&start=20&sa=N&ved=2ahUKEwjmjvv-ttuAAxUjbfUHHU3sAS84ChDw0wN6BAgBEA0&biw=800&bih=600&dpr=1\n",
      "크롤링 준비\n"
     ]
    },
    {
     "name": "stderr",
     "output_type": "stream",
     "text": [
      "\n",
      "\n",
      "preprocessing day:  39%|████████████████████████▍                                      | 12/31 [02:12<03:28, 10.97s/it]\u001b[A\u001b[A"
     ]
    },
    {
     "name": "stdout",
     "output_type": "stream",
     "text": [
      "다음날짜로 선택시작\n",
      "다음 날짜 선택 후 크롤링 준비\n",
      "https://www.google.com/search?q=Nasdaq&sca_esv=556524961&tbas=0&biw=800&bih=600&source=lnt&tbs=cdr%3A1%2Ccd_min%3A9%2F13%2F2022%2Ccd_max%3A9%2F13%2F2022&tbm=nws\n",
      "https://www.google.com/search?q=Nasdaq&sca_esv=556524961&tbas=0&tbs=cdr:1,cd_min:9/13/2022,cd_max:9/13/2022&tbm=nws&ei=Rr3ZZNa3KtqMoATI-4cw&start=10&sa=N&ved=2ahUKEwjW8v-Ct9uAAxVaBogKHcj9AQYQ8NMDegQIAxAM&biw=800&bih=600&dpr=1\n",
      "https://www.google.com/search?q=Nasdaq&sca_esv=556524961&tbas=0&tbs=cdr:1,cd_min:9/13/2022,cd_max:9/13/2022&tbm=nws&ei=R73ZZN-YIN3n1e8PtdWLqAs&start=20&sa=N&ved=2ahUKEwif2LKDt9uAAxXdc_UHHbXqArU4ChDw0wN6BAgDEA0&biw=800&bih=600&dpr=1\n",
      "크롤링 준비\n"
     ]
    },
    {
     "name": "stderr",
     "output_type": "stream",
     "text": [
      "\n",
      "\n",
      "preprocessing day:  42%|██████████████████████████▍                                    | 13/31 [02:22<03:10, 10.57s/it]\u001b[A\u001b[A"
     ]
    },
    {
     "name": "stdout",
     "output_type": "stream",
     "text": [
      "다음날짜로 선택시작\n",
      "다음 날짜 선택 후 크롤링 준비\n",
      "https://www.google.com/search?q=Nasdaq&sca_esv=556524961&tbas=0&biw=800&bih=600&source=lnt&tbs=cdr%3A1%2Ccd_min%3A9%2F14%2F2022%2Ccd_max%3A9%2F14%2F2022&tbm=nws\n",
      "https://www.google.com/search?q=Nasdaq&sca_esv=556524961&tbas=0&tbs=cdr:1,cd_min:9/14/2022,cd_max:9/14/2022&tbm=nws&ei=UL3ZZPaAEJv6wAOc0IiYBw&start=10&sa=N&ved=2ahUKEwj26MeHt9uAAxUbPXAKHRwoAnMQ8NMDegQIAxAG&biw=800&bih=600&dpr=1\n",
      "Next button not found. Exiting loop.\n",
      "크롤링 준비\n"
     ]
    },
    {
     "name": "stderr",
     "output_type": "stream",
     "text": [
      "\n",
      "\n",
      "preprocessing day:  45%|████████████████████████████▍                                  | 14/31 [02:35<03:16, 11.54s/it]\u001b[A\u001b[A"
     ]
    },
    {
     "name": "stdout",
     "output_type": "stream",
     "text": [
      "다음날짜로 선택시작\n",
      "다음 날짜 선택 후 크롤링 준비\n",
      "https://www.google.com/search?q=Nasdaq&sca_esv=556524961&tbas=0&biw=800&bih=600&source=lnt&tbs=cdr%3A1%2Ccd_min%3A9%2F15%2F2022%2Ccd_max%3A9%2F15%2F2022&tbm=nws\n",
      "https://www.google.com/search?q=Nasdaq&sca_esv=556524961&tbas=0&tbs=cdr:1,cd_min:9/15/2022,cd_max:9/15/2022&tbm=nws&ei=Xr3ZZJn6Ac20oASj0ozQDQ&start=10&sa=N&ved=2ahUKEwiZoZCOt9uAAxVNGogKHSMpA9oQ8NMDegQIBBAI&biw=800&bih=600&dpr=1\n",
      "https://www.google.com/search?q=Nasdaq&sca_esv=556524961&tbas=0&tbs=cdr:1,cd_min:9/15/2022,cd_max:9/15/2022&tbm=nws&ei=X73ZZJybA9GjwAO7k5GgBQ&start=20&sa=N&ved=2ahUKEwjcxs6Ot9uAAxXREXAKHbtJBFQ4ChDw0wN6BAgDEAk&biw=800&bih=600&dpr=1\n",
      "크롤링 준비\n"
     ]
    },
    {
     "name": "stderr",
     "output_type": "stream",
     "text": [
      "\n",
      "\n",
      "preprocessing day:  48%|██████████████████████████████▍                                | 15/31 [02:45<02:53, 10.85s/it]\u001b[A\u001b[A"
     ]
    },
    {
     "name": "stdout",
     "output_type": "stream",
     "text": [
      "다음날짜로 선택시작\n",
      "다음 날짜 선택 후 크롤링 준비\n",
      "https://www.google.com/search?q=Nasdaq&sca_esv=556524961&tbas=0&biw=800&bih=600&source=lnt&tbs=cdr%3A1%2Ccd_min%3A9%2F16%2F2022%2Ccd_max%3A9%2F16%2F2022&tbm=nws\n",
      "https://www.google.com/search?q=Nasdaq&sca_esv=556524961&tbas=0&tbs=cdr:1,cd_min:9/16/2022,cd_max:9/16/2022&tbm=nws&ei=Z73ZZI3hE4TY1e8P76y94Ac&start=10&sa=N&ved=2ahUKEwjNsMeSt9uAAxUEbPUHHW9WD3wQ8NMDegQIAhAI&biw=800&bih=600&dpr=1\n",
      "https://www.google.com/search?q=Nasdaq&sca_esv=556524961&tbas=0&tbs=cdr:1,cd_min:9/16/2022,cd_max:9/16/2022&tbm=nws&ei=aL3ZZObHBI3o-AbW8aTADQ&start=20&sa=N&ved=2ahUKEwjmm_WSt9uAAxUNNN4KHdY4Cdg4ChDw0wN6BAgDEAk&biw=800&bih=600&dpr=1\n",
      "크롤링 준비\n"
     ]
    },
    {
     "name": "stderr",
     "output_type": "stream",
     "text": [
      "\n",
      "\n",
      "preprocessing day:  52%|████████████████████████████████▌                              | 16/31 [02:54<02:35, 10.38s/it]\u001b[A\u001b[A"
     ]
    },
    {
     "name": "stdout",
     "output_type": "stream",
     "text": [
      "다음날짜로 선택시작\n",
      "다음 날짜 선택 후 크롤링 준비\n",
      "https://www.google.com/search?q=Nasdaq&sca_esv=556524961&tbas=0&biw=800&bih=600&source=lnt&tbs=cdr%3A1%2Ccd_min%3A9%2F17%2F2022%2Ccd_max%3A9%2F17%2F2022&tbm=nws\n",
      "Next button not found. Exiting loop.\n",
      "크롤링 준비\n"
     ]
    },
    {
     "name": "stderr",
     "output_type": "stream",
     "text": [
      "\n",
      "\n",
      "preprocessing day:  55%|██████████████████████████████████▌                            | 17/31 [03:07<02:36, 11.18s/it]\u001b[A\u001b[A"
     ]
    },
    {
     "name": "stdout",
     "output_type": "stream",
     "text": [
      "다음날짜로 선택시작\n",
      "다음 날짜 선택 후 크롤링 준비\n",
      "https://www.google.com/search?q=Nasdaq&sca_esv=556524961&tbas=0&biw=800&bih=600&source=lnt&tbs=cdr%3A1%2Ccd_min%3A9%2F18%2F2022%2Ccd_max%3A9%2F18%2F2022&tbm=nws\n",
      "Next button not found. Exiting loop.\n",
      "크롤링 준비\n"
     ]
    },
    {
     "name": "stderr",
     "output_type": "stream",
     "text": [
      "\n",
      "\n",
      "preprocessing day:  58%|████████████████████████████████████▌                          | 18/31 [03:20<02:32, 11.71s/it]\u001b[A\u001b[A"
     ]
    },
    {
     "name": "stdout",
     "output_type": "stream",
     "text": [
      "다음날짜로 선택시작\n",
      "다음 날짜 선택 후 크롤링 준비\n",
      "https://www.google.com/search?q=Nasdaq&sca_esv=556524961&tbas=0&biw=800&bih=600&source=lnt&tbs=cdr%3A1%2Ccd_min%3A9%2F19%2F2022%2Ccd_max%3A9%2F19%2F2022&tbm=nws\n",
      "https://www.google.com/search?q=Nasdaq&sca_esv=556524961&tbas=0&tbs=cdr:1,cd_min:9/19/2022,cd_max:9/19/2022&tbm=nws&ei=ir3ZZLasJvXm1e8PhbuD8AY&start=10&sa=N&ved=2ahUKEwi2mbKjt9uAAxV1c_UHHYXdAG4Q8NMDegQIAhAK&biw=800&bih=600&dpr=1\n",
      "https://www.google.com/search?q=Nasdaq&sca_esv=556524961&tbas=0&tbs=cdr:1,cd_min:9/19/2022,cd_max:9/19/2022&tbm=nws&ei=i73ZZOf2E8qH-Qa-o4po&start=20&sa=N&ved=2ahUKEwin6Nyjt9uAAxXKQ94KHb6RAg04ChDw0wN6BAgCEAs&biw=800&bih=600&dpr=1\n",
      "크롤링 준비\n"
     ]
    },
    {
     "name": "stderr",
     "output_type": "stream",
     "text": [
      "\n",
      "\n",
      "preprocessing day:  61%|██████████████████████████████████████▌                        | 19/31 [03:29<02:11, 10.98s/it]\u001b[A\u001b[A"
     ]
    },
    {
     "name": "stdout",
     "output_type": "stream",
     "text": [
      "다음날짜로 선택시작\n",
      "다음 날짜 선택 후 크롤링 준비\n",
      "https://www.google.com/search?q=Nasdaq&sca_esv=556524961&tbas=0&biw=800&bih=600&source=lnt&tbs=cdr%3A1%2Ccd_min%3A9%2F20%2F2022%2Ccd_max%3A9%2F20%2F2022&tbm=nws\n",
      "https://www.google.com/search?q=Nasdaq&sca_esv=556524961&tbas=0&tbs=cdr:1,cd_min:9/20/2022,cd_max:9/20/2022&tbm=nws&ei=k73ZZMPDL5Ph1e8P_cqp6Ak&start=10&sa=N&ved=2ahUKEwiD2eCnt9uAAxWTcPUHHX1lCp0Q8NMDegQIBBAK&biw=800&bih=600&dpr=1\n",
      "https://www.google.com/search?q=Nasdaq&sca_esv=556524961&tbas=0&tbs=cdr:1,cd_min:9/20/2022,cd_max:9/20/2022&tbm=nws&ei=lL3ZZJrILs7m-QbClpeoCg&start=20&sa=N&ved=2ahUKEwia4pyot9uAAxVOc94KHULLBaU4ChDw0wN6BAgDEAs&biw=800&bih=600&dpr=1\n",
      "크롤링 준비\n"
     ]
    },
    {
     "name": "stderr",
     "output_type": "stream",
     "text": [
      "\n",
      "\n",
      "preprocessing day:  65%|████████████████████████████████████████▋                      | 20/31 [03:39<01:56, 10.57s/it]\u001b[A\u001b[A"
     ]
    },
    {
     "name": "stdout",
     "output_type": "stream",
     "text": [
      "다음날짜로 선택시작\n",
      "다음 날짜 선택 후 크롤링 준비\n",
      "https://www.google.com/search?q=Nasdaq&sca_esv=556524961&tbas=0&biw=800&bih=600&source=lnt&tbs=cdr%3A1%2Ccd_min%3A9%2F21%2F2022%2Ccd_max%3A9%2F21%2F2022&tbm=nws\n",
      "https://www.google.com/search?q=Nasdaq&sca_esv=556524961&tbas=0&tbs=cdr:1,cd_min:9/21/2022,cd_max:9/21/2022&tbm=nws&ei=nb3ZZJKhJISlhwPF2JSoDQ&start=10&sa=N&ved=2ahUKEwjS47est9uAAxWE0mEKHUUsBdUQ8NMDegQIAhAK&biw=800&bih=600&dpr=1\n",
      "https://www.google.com/search?q=Nasdaq&sca_esv=556524961&tbas=0&tbs=cdr:1,cd_min:9/21/2022,cd_max:9/21/2022&tbm=nws&ei=nr3ZZNbLJ__e1e8Pqa2asAc&start=20&sa=N&ved=2ahUKEwjWkvist9uAAxV_b_UHHamWBnY4ChDw0wN6BAgCEAs&biw=800&bih=600&dpr=1\n",
      "크롤링 준비\n"
     ]
    },
    {
     "name": "stderr",
     "output_type": "stream",
     "text": [
      "\n",
      "\n",
      "preprocessing day:  68%|██████████████████████████████████████████▋                    | 21/31 [03:48<01:42, 10.28s/it]\u001b[A\u001b[A"
     ]
    },
    {
     "name": "stdout",
     "output_type": "stream",
     "text": [
      "다음날짜로 선택시작\n",
      "다음 날짜 선택 후 크롤링 준비\n",
      "https://www.google.com/search?q=Nasdaq&sca_esv=556524961&tbas=0&biw=800&bih=600&source=lnt&tbs=cdr%3A1%2Ccd_min%3A9%2F22%2F2022%2Ccd_max%3A9%2F22%2F2022&tbm=nws\n",
      "https://www.google.com/search?q=Nasdaq&sca_esv=556524961&tbas=0&tbs=cdr:1,cd_min:9/22/2022,cd_max:9/22/2022&tbm=nws&ei=p73ZZN26BY3i-AaKk4ngCQ&start=10&sa=N&ved=2ahUKEwidqvuwt9uAAxUNMd4KHYpJApwQ8NMDegQIBBAI&biw=800&bih=600&dpr=1\n",
      "https://www.google.com/search?q=Nasdaq&sca_esv=556524961&tbas=0&tbs=cdr:1,cd_min:9/22/2022,cd_max:9/22/2022&tbm=nws&ei=p73ZZKGqNOXa1e8P5pyc2AE&start=20&sa=N&ved=2ahUKEwjhmaqxt9uAAxVlbfUHHWYOBxs4ChDw0wN6BAgDEAk&biw=800&bih=600&dpr=1\n",
      "크롤링 준비\n"
     ]
    },
    {
     "name": "stderr",
     "output_type": "stream",
     "text": [
      "\n",
      "\n",
      "preprocessing day:  71%|████████████████████████████████████████████▋                  | 22/31 [03:58<01:31, 10.13s/it]\u001b[A\u001b[A"
     ]
    },
    {
     "name": "stdout",
     "output_type": "stream",
     "text": [
      "다음날짜로 선택시작\n",
      "다음 날짜 선택 후 크롤링 준비\n",
      "https://www.google.com/search?q=Nasdaq&sca_esv=556524961&tbas=0&biw=800&bih=600&source=lnt&tbs=cdr%3A1%2Ccd_min%3A9%2F23%2F2022%2Ccd_max%3A9%2F23%2F2022&tbm=nws\n",
      "https://www.google.com/search?q=Nasdaq&sca_esv=556524961&tbas=0&tbs=cdr:1,cd_min:9/23/2022,cd_max:9/23/2022&tbm=nws&ei=sL3ZZKi2N5PM1e8Pvom80Ag&start=10&sa=N&ved=2ahUKEwioztK1t9uAAxUTZvUHHb4ED4oQ8NMDegQIBBAI&biw=800&bih=600&dpr=1\n",
      "https://www.google.com/search?q=Nasdaq&sca_esv=556524961&tbas=0&tbs=cdr:1,cd_min:9/23/2022,cd_max:9/23/2022&tbm=nws&ei=sb3ZZP3TMJS6wAOhxLzQAg&start=20&sa=N&ved=2ahUKEwi98Ii2t9uAAxUUHXAKHSEiDyo4ChDw0wN6BAgEEAk&biw=800&bih=600&dpr=1\n",
      "크롤링 준비\n"
     ]
    },
    {
     "name": "stderr",
     "output_type": "stream",
     "text": [
      "\n",
      "\n",
      "preprocessing day:  74%|██████████████████████████████████████████████▋                | 23/31 [04:08<01:19,  9.94s/it]\u001b[A\u001b[A"
     ]
    },
    {
     "name": "stdout",
     "output_type": "stream",
     "text": [
      "다음날짜로 선택시작\n",
      "다음 날짜 선택 후 크롤링 준비\n",
      "https://www.google.com/search?q=Nasdaq&sca_esv=556524961&tbas=0&biw=800&bih=600&source=lnt&tbs=cdr%3A1%2Ccd_min%3A9%2F24%2F2022%2Ccd_max%3A9%2F24%2F2022&tbm=nws\n",
      "Next button not found. Exiting loop.\n",
      "크롤링 준비\n"
     ]
    },
    {
     "name": "stderr",
     "output_type": "stream",
     "text": [
      "\n",
      "\n",
      "preprocessing day:  77%|████████████████████████████████████████████████▊              | 24/31 [04:21<01:16, 10.88s/it]\u001b[A\u001b[A"
     ]
    },
    {
     "name": "stdout",
     "output_type": "stream",
     "text": [
      "다음날짜로 선택시작\n",
      "다음 날짜 선택 후 크롤링 준비\n",
      "https://www.google.com/search?q=Nasdaq&sca_esv=556524961&tbas=0&biw=800&bih=600&source=lnt&tbs=cdr%3A1%2Ccd_min%3A9%2F25%2F2022%2Ccd_max%3A9%2F25%2F2022&tbm=nws\n",
      "Next button not found. Exiting loop.\n",
      "크롤링 준비\n"
     ]
    },
    {
     "name": "stderr",
     "output_type": "stream",
     "text": [
      "\n",
      "\n",
      "preprocessing day:  81%|██████████████████████████████████████████████████▊            | 25/31 [04:34<01:09, 11.50s/it]\u001b[A\u001b[A"
     ]
    },
    {
     "name": "stdout",
     "output_type": "stream",
     "text": [
      "다음날짜로 선택시작\n",
      "다음 날짜 선택 후 크롤링 준비\n",
      "https://www.google.com/search?q=Nasdaq&sca_esv=556524961&tbas=0&biw=800&bih=600&source=lnt&tbs=cdr%3A1%2Ccd_min%3A9%2F26%2F2022%2Ccd_max%3A9%2F26%2F2022&tbm=nws\n",
      "https://www.google.com/search?q=Nasdaq&sca_esv=556524961&tbas=0&tbs=cdr:1,cd_min:9/26/2022,cd_max:9/26/2022&tbm=nws&ei=1L3ZZOaIGJzO1e8PlIWWqA4&start=10&sa=N&ved=2ahUKEwjmwsjGt9uAAxUcZ_UHHZSCBeUQ8NMDegQIBBAI&biw=800&bih=600&dpr=1\n",
      "https://www.google.com/search?q=Nasdaq&sca_esv=556524961&tbas=0&tbs=cdr:1,cd_min:9/26/2022,cd_max:9/26/2022&tbm=nws&ei=1b3ZZJeXDpfa-Qb8gLOYDw&start=20&sa=N&ved=2ahUKEwjX1fvGt9uAAxUXbd4KHXzADPM4ChDw0wN6BAgCEAk&biw=800&bih=600&dpr=1\n",
      "크롤링 준비\n"
     ]
    },
    {
     "name": "stderr",
     "output_type": "stream",
     "text": [
      "\n",
      "\n",
      "preprocessing day:  84%|████████████████████████████████████████████████████▊          | 26/31 [04:43<00:54, 10.80s/it]\u001b[A\u001b[A"
     ]
    },
    {
     "name": "stdout",
     "output_type": "stream",
     "text": [
      "다음날짜로 선택시작\n",
      "다음 날짜 선택 후 크롤링 준비\n",
      "https://www.google.com/search?q=Nasdaq&sca_esv=556524961&tbas=0&biw=800&bih=600&source=lnt&tbs=cdr%3A1%2Ccd_min%3A9%2F27%2F2022%2Ccd_max%3A9%2F27%2F2022&tbm=nws\n",
      "https://www.google.com/search?q=Nasdaq&sca_esv=556524961&tbas=0&tbs=cdr:1,cd_min:9/27/2022,cd_max:9/27/2022&tbm=nws&ei=3b3ZZPf-JtbyhwOt6by4Cw&start=10&sa=N&ved=2ahUKEwi34fzKt9uAAxVW-WEKHa00D7cQ8NMDegQIAxAI&biw=800&bih=600&dpr=1\n",
      "https://www.google.com/search?q=Nasdaq&sca_esv=556524961&tbas=0&tbs=cdr:1,cd_min:9/27/2022,cd_max:9/27/2022&tbm=nws&ei=3r3ZZNX_H4ny-Qa89LLQBw&start=20&sa=N&ved=2ahUKEwjV5rLLt9uAAxUJed4KHTy6DHo4ChDw0wN6BAgEEAk&biw=800&bih=600&dpr=1\n",
      "크롤링 준비\n"
     ]
    },
    {
     "name": "stderr",
     "output_type": "stream",
     "text": [
      "\n",
      "\n",
      "preprocessing day:  87%|██████████████████████████████████████████████████████▊        | 27/31 [04:53<00:42, 10.52s/it]\u001b[A\u001b[A"
     ]
    },
    {
     "name": "stdout",
     "output_type": "stream",
     "text": [
      "다음날짜로 선택시작\n",
      "다음 날짜 선택 후 크롤링 준비\n",
      "https://www.google.com/search?q=Nasdaq&sca_esv=556524961&tbas=0&biw=800&bih=600&source=lnt&tbs=cdr%3A1%2Ccd_min%3A9%2F28%2F2022%2Ccd_max%3A9%2F28%2F2022&tbm=nws\n",
      "https://www.google.com/search?q=Nasdaq&sca_esv=556524961&tbas=0&tbs=cdr:1,cd_min:9/28/2022,cd_max:9/28/2022&tbm=nws&ei=573ZZKf6H47f-QaLkJOgCA&start=10&sa=N&ved=2ahUKEwjnidjPt9uAAxWOb94KHQvIBIQQ8NMDegQIAhAK&biw=800&bih=600&dpr=1\n",
      "https://www.google.com/search?q=Nasdaq&sca_esv=556524961&tbas=0&tbs=cdr:1,cd_min:9/28/2022,cd_max:9/28/2022&tbm=nws&ei=6L3ZZK6GDMehhwPDqpfYBA&start=20&sa=N&ved=2ahUKEwiumoHQt9uAAxXH0GEKHUPVBUs4ChDw0wN6BAgDEAs&biw=800&bih=600&dpr=1\n",
      "크롤링 준비\n"
     ]
    },
    {
     "name": "stderr",
     "output_type": "stream",
     "text": [
      "\n",
      "\n",
      "preprocessing day:  90%|████████████████████████████████████████████████████████▉      | 28/31 [05:02<00:30, 10.14s/it]\u001b[A\u001b[A"
     ]
    },
    {
     "name": "stdout",
     "output_type": "stream",
     "text": [
      "다음날짜로 선택시작\n",
      "다음 날짜 선택 후 크롤링 준비\n",
      "https://www.google.com/search?q=Nasdaq&sca_esv=556524961&tbas=0&biw=800&bih=600&source=lnt&tbs=cdr%3A1%2Ccd_min%3A9%2F29%2F2022%2Ccd_max%3A9%2F29%2F2022&tbm=nws\n",
      "https://www.google.com/search?q=Nasdaq&sca_esv=556524961&tbas=0&tbs=cdr:1,cd_min:9/29/2022,cd_max:9/29/2022&tbm=nws&ei=8L3ZZNy7MLfa1e8Phpu8mAs&start=10&sa=N&ved=2ahUKEwjc843Ut9uAAxU3bfUHHYYND7MQ8NMDegQIAhAK&biw=800&bih=600&dpr=1\n",
      "https://www.google.com/search?q=Nasdaq&sca_esv=556524961&tbas=0&tbs=cdr:1,cd_min:9/29/2022,cd_max:9/29/2022&tbm=nws&ei=8b3ZZJO2OMPyhwOkt6Yo&start=20&sa=N&ved=2ahUKEwjT8tLUt9uAAxVD-WEKHaSbCQU4ChDw0wN6BAgEEAs&biw=800&bih=600&dpr=1\n",
      "크롤링 준비\n"
     ]
    },
    {
     "name": "stderr",
     "output_type": "stream",
     "text": [
      "\n",
      "\n",
      "preprocessing day:  94%|██████████████████████████████████████████████████████████▉    | 29/31 [05:12<00:20, 10.25s/it]\u001b[A\u001b[A"
     ]
    },
    {
     "name": "stdout",
     "output_type": "stream",
     "text": [
      "다음날짜로 선택시작\n",
      "다음 날짜 선택 후 크롤링 준비\n",
      "https://www.google.com/search?q=Nasdaq&sca_esv=556524961&tbas=0&biw=800&bih=600&source=lnt&tbs=cdr%3A1%2Ccd_min%3A9%2F30%2F2022%2Ccd_max%3A9%2F30%2F2022&tbm=nws\n",
      "https://www.google.com/search?q=Nasdaq&sca_esv=556524961&tbas=0&tbs=cdr:1,cd_min:9/30/2022,cd_max:9/30/2022&tbm=nws&ei=-73ZZOiJDcXpwQOXsJ2ACA&start=10&sa=N&ved=2ahUKEwio84nZt9uAAxXFdHAKHRdYB4AQ8NMDegQIBBAK&biw=800&bih=600&dpr=1\n",
      "https://www.google.com/search?q=Nasdaq&sca_esv=556524961&tbas=0&tbs=cdr:1,cd_min:9/30/2022,cd_max:9/30/2022&tbm=nws&ei=_L3ZZLjuE8GSoAT1g5OoDw&start=20&sa=N&ved=2ahUKEwi43M3Zt9uAAxVBCYgKHfXBBPU4ChDw0wN6BAgDEAs&biw=800&bih=600&dpr=1\n",
      "크롤링 준비\n"
     ]
    },
    {
     "name": "stderr",
     "output_type": "stream",
     "text": [
      "\n",
      "\n",
      "preprocessing day:  97%|████████████████████████████████████████████████████████████▉  | 30/31 [05:23<00:10, 10.26s/it]\u001b[A\u001b[A"
     ]
    },
    {
     "name": "stdout",
     "output_type": "stream",
     "text": [
      "다음날짜로 선택시작\n",
      "다음 날짜 선택 후 크롤링 준비\n",
      "https://www.google.com/search?q=Nasdaq&sca_esv=556524961&tbas=0&biw=800&bih=600&source=lnt&tbs=cdr%3A1%2Ccd_min%3A09%2F31%2F2022%2Ccd_max%3A09%2F31%2F2022&tbm=nws\n",
      "Next button not found. Exiting loop.\n",
      "크롤링 준비\n"
     ]
    },
    {
     "name": "stderr",
     "output_type": "stream",
     "text": [
      "\n",
      "\n",
      "preprocessing day: 100%|███████████████████████████████████████████████████████████████| 31/31 [05:36<00:00, 10.86s/it]\u001b[A\u001b[A\n",
      "\n",
      "preprocessing month:  75%|█████████████████████████████████████████████▊               | 9/12 [50:29<16:49, 336.50s/it]\u001b[A"
     ]
    },
    {
     "name": "stdout",
     "output_type": "stream",
     "text": [
      "다음날짜로 선택시작\n"
     ]
    },
    {
     "name": "stderr",
     "output_type": "stream",
     "text": [
      "\n",
      "\n",
      "preprocessing day:   0%|                                                                        | 0/31 [00:00<?, ?it/s]\u001b[A\u001b[A"
     ]
    },
    {
     "name": "stdout",
     "output_type": "stream",
     "text": [
      "다음 날짜 선택 후 크롤링 준비\n",
      "https://www.google.com/search?q=Nasdaq&sca_esv=556524961&tbas=0&biw=800&bih=600&source=lnt&tbs=cdr%3A1%2Ccd_min%3A10%2F1%2F2022%2Ccd_max%3A10%2F1%2F2022&tbm=nws\n",
      "Next button not found. Exiting loop.\n",
      "크롤링 준비\n"
     ]
    },
    {
     "name": "stderr",
     "output_type": "stream",
     "text": [
      "\n",
      "\n",
      "preprocessing day:   3%|██                                                              | 1/31 [00:13<06:38, 13.30s/it]\u001b[A\u001b[A"
     ]
    },
    {
     "name": "stdout",
     "output_type": "stream",
     "text": [
      "다음날짜로 선택시작\n",
      "다음 날짜 선택 후 크롤링 준비\n",
      "https://www.google.com/search?q=Nasdaq&sca_esv=556524961&tbas=0&biw=800&bih=600&source=lnt&tbs=cdr%3A1%2Ccd_min%3A10%2F2%2F2022%2Ccd_max%3A10%2F2%2F2022&tbm=nws\n",
      "Next button not found. Exiting loop.\n",
      "크롤링 준비\n"
     ]
    },
    {
     "name": "stderr",
     "output_type": "stream",
     "text": [
      "\n",
      "\n",
      "preprocessing day:   6%|████▏                                                           | 2/31 [00:26<06:28, 13.38s/it]\u001b[A\u001b[A"
     ]
    },
    {
     "name": "stdout",
     "output_type": "stream",
     "text": [
      "다음날짜로 선택시작\n",
      "다음 날짜 선택 후 크롤링 준비\n",
      "https://www.google.com/search?q=Nasdaq&sca_esv=556524961&tbas=0&biw=800&bih=600&source=lnt&tbs=cdr%3A1%2Ccd_min%3A10%2F3%2F2022%2Ccd_max%3A10%2F3%2F2022&tbm=nws\n",
      "https://www.google.com/search?q=Nasdaq&sca_esv=556524961&tbas=0&tbs=cdr:1,cd_min:10/3/2022,cd_max:10/3/2022&tbm=nws&ei=Lb7ZZLPzI5nnwQPN2oSoCw&start=10&sa=N&ved=2ahUKEwjzvYzxt9uAAxWZc3AKHU0tAbUQ8NMDegQIARAM&biw=800&bih=600&dpr=1\n",
      "https://www.google.com/search?q=Nasdaq&sca_esv=556524961&tbas=0&tbs=cdr:1,cd_min:10/3/2022,cd_max:10/3/2022&tbm=nws&ei=Lr7ZZKOqGcW5hwPx1qCwBg&start=20&sa=N&ved=2ahUKEwij-b7xt9uAAxXF3GEKHXErCGY4ChDw0wN6BAgDEA0&biw=800&bih=600&dpr=1\n",
      "크롤링 준비\n"
     ]
    },
    {
     "name": "stderr",
     "output_type": "stream",
     "text": [
      "\n",
      "\n",
      "preprocessing day:  10%|██████▏                                                         | 3/31 [00:36<05:30, 11.80s/it]\u001b[A\u001b[A"
     ]
    },
    {
     "name": "stdout",
     "output_type": "stream",
     "text": [
      "다음날짜로 선택시작\n",
      "다음 날짜 선택 후 크롤링 준비\n",
      "https://www.google.com/search?q=Nasdaq&sca_esv=556524961&tbas=0&biw=800&bih=600&source=lnt&tbs=cdr%3A1%2Ccd_min%3A10%2F4%2F2022%2Ccd_max%3A10%2F4%2F2022&tbm=nws\n",
      "https://www.google.com/search?q=Nasdaq&sca_esv=556524961&tbas=0&tbs=cdr:1,cd_min:10/4/2022,cd_max:10/4/2022&tbm=nws&ei=N77ZZNn4I6Xh1e8PtaKnWA&start=10&sa=N&ved=2ahUKEwiZ8O71t9uAAxWlcPUHHTXRCQsQ8NMDegQIAhAK&biw=800&bih=600&dpr=1\n",
      "https://www.google.com/search?q=Nasdaq&sca_esv=556524961&tbas=0&tbs=cdr:1,cd_min:10/4/2022,cd_max:10/4/2022&tbm=nws&ei=OL7ZZNHJLKrn1e8Pn5eWqAk&start=20&sa=N&ved=2ahUKEwjRxbT2t9uAAxWqc_UHHZ-LBZU4ChDw0wN6BAgDEAs&biw=800&bih=600&dpr=1\n",
      "크롤링 준비\n"
     ]
    },
    {
     "name": "stderr",
     "output_type": "stream",
     "text": [
      "\n",
      "\n",
      "preprocessing day:  13%|████████▎                                                       | 4/31 [00:47<05:03, 11.26s/it]\u001b[A\u001b[A"
     ]
    },
    {
     "name": "stdout",
     "output_type": "stream",
     "text": [
      "다음날짜로 선택시작\n",
      "다음 날짜 선택 후 크롤링 준비\n",
      "https://www.google.com/search?q=Nasdaq&sca_esv=556524961&tbas=0&biw=800&bih=600&source=lnt&tbs=cdr%3A1%2Ccd_min%3A10%2F5%2F2022%2Ccd_max%3A10%2F5%2F2022&tbm=nws\n",
      "https://www.google.com/search?q=Nasdaq&sca_esv=556524961&tbas=0&tbs=cdr:1,cd_min:10/5/2022,cd_max:10/5/2022&tbm=nws&ei=Qr7ZZN21A4yphwPTjKuYCA&start=10&sa=N&ved=2ahUKEwjd3u36t9uAAxWM1GEKHVPGCoMQ8NMDegQIAhAK&biw=800&bih=600&dpr=1\n",
      "https://www.google.com/search?q=Nasdaq&sca_esv=556524961&tbas=0&tbs=cdr:1,cd_min:10/5/2022,cd_max:10/5/2022&tbm=nws&ei=Qr7ZZPirOpKo-Qb306yYAQ&start=20&sa=N&ved=2ahUKEwj41KT7t9uAAxUSVN4KHfcpCxM4ChDw0wN6BAgEEAs&biw=800&bih=600&dpr=1\n",
      "크롤링 준비\n"
     ]
    },
    {
     "name": "stderr",
     "output_type": "stream",
     "text": [
      "\n",
      "\n",
      "preprocessing day:  16%|██████████▎                                                     | 5/31 [00:56<04:39, 10.74s/it]\u001b[A\u001b[A"
     ]
    },
    {
     "name": "stdout",
     "output_type": "stream",
     "text": [
      "다음날짜로 선택시작\n",
      "다음 날짜 선택 후 크롤링 준비\n",
      "https://www.google.com/search?q=Nasdaq&sca_esv=556524961&tbas=0&biw=800&bih=600&source=lnt&tbs=cdr%3A1%2Ccd_min%3A10%2F6%2F2022%2Ccd_max%3A10%2F6%2F2022&tbm=nws\n",
      "https://www.google.com/search?q=Nasdaq&sca_esv=556524961&tbas=0&tbs=cdr:1,cd_min:10/6/2022,cd_max:10/6/2022&tbm=nws&ei=S77ZZOeSKtTO1e8P49-ywA4&start=10&sa=N&ved=2ahUKEwin5Ln_t9uAAxVUZ_UHHeOvDOgQ8NMDegQIAhAI&biw=800&bih=600&dpr=1\n",
      "https://www.google.com/search?q=Nasdaq&sca_esv=556524961&tbas=0&tbs=cdr:1,cd_min:10/6/2022,cd_max:10/6/2022&tbm=nws&ei=TL7ZZKHvGajg1e8PodKAuAs&start=20&sa=N&ved=2ahUKEwihxeb_t9uAAxUocPUHHSEpALc4ChDw0wN6BAgDEAk&biw=800&bih=600&dpr=1\n",
      "크롤링 준비\n"
     ]
    },
    {
     "name": "stderr",
     "output_type": "stream",
     "text": [
      "\n",
      "\n",
      "preprocessing day:  19%|████████████▍                                                   | 6/31 [01:06<04:21, 10.48s/it]\u001b[A\u001b[A"
     ]
    },
    {
     "name": "stdout",
     "output_type": "stream",
     "text": [
      "다음날짜로 선택시작\n",
      "다음 날짜 선택 후 크롤링 준비\n",
      "https://www.google.com/search?q=Nasdaq&sca_esv=556524961&tbas=0&biw=800&bih=600&source=lnt&tbs=cdr%3A1%2Ccd_min%3A10%2F7%2F2022%2Ccd_max%3A10%2F7%2F2022&tbm=nws\n",
      "https://www.google.com/search?q=Nasdaq&sca_esv=556524961&tbas=0&tbs=cdr:1,cd_min:10/7/2022,cd_max:10/7/2022&tbm=nws&ei=Vb7ZZLa9MI7--QbY2aqYAQ&start=10&sa=N&ved=2ahUKEwj2u6KEuNuAAxUOf94KHdisChMQ8NMDegQIAxAK&biw=800&bih=600&dpr=1\n",
      "https://www.google.com/search?q=Nasdaq&sca_esv=556524961&tbas=0&tbs=cdr:1,cd_min:10/7/2022,cd_max:10/7/2022&tbm=nws&ei=Vr7ZZLfEMozh-AaZlKPQCQ&start=20&sa=N&ved=2ahUKEwi3x-GEuNuAAxWMMN4KHRnKCJo4ChDw0wN6BAgCEAs&biw=800&bih=600&dpr=1\n",
      "크롤링 준비\n"
     ]
    },
    {
     "name": "stderr",
     "output_type": "stream",
     "text": [
      "\n",
      "\n",
      "preprocessing day:  23%|██████████████▍                                                 | 7/31 [01:16<04:07, 10.32s/it]\u001b[A\u001b[A"
     ]
    },
    {
     "name": "stdout",
     "output_type": "stream",
     "text": [
      "다음날짜로 선택시작\n",
      "다음 날짜 선택 후 크롤링 준비\n",
      "https://www.google.com/search?q=Nasdaq&sca_esv=556524961&tbas=0&biw=800&bih=600&source=lnt&tbs=cdr%3A1%2Ccd_min%3A10%2F8%2F2022%2Ccd_max%3A10%2F8%2F2022&tbm=nws\n",
      "Next button not found. Exiting loop.\n",
      "크롤링 준비\n"
     ]
    },
    {
     "name": "stderr",
     "output_type": "stream",
     "text": [
      "\n",
      "\n",
      "preprocessing day:  26%|████████████████▌                                               | 8/31 [01:30<04:20, 11.32s/it]\u001b[A\u001b[A"
     ]
    },
    {
     "name": "stdout",
     "output_type": "stream",
     "text": [
      "다음날짜로 선택시작\n",
      "다음 날짜 선택 후 크롤링 준비\n",
      "https://www.google.com/search?q=Nasdaq&sca_esv=556524961&tbas=0&biw=800&bih=600&source=lnt&tbs=cdr%3A1%2Ccd_min%3A10%2F9%2F2022%2Ccd_max%3A10%2F9%2F2022&tbm=nws\n",
      "https://www.google.com/search?q=Nasdaq&sca_esv=556524961&tbas=0&tbs=cdr:1,cd_min:10/9/2022,cd_max:10/9/2022&tbm=nws&ei=bb7ZZKz5EP7g1e8PhdWr4Ag&start=10&sa=N&ved=2ahUKEwjs47uPuNuAAxV-cPUHHYXqCowQ8NMDegQIAxAG&biw=800&bih=600&dpr=1\n",
      "Next button not found. Exiting loop.\n",
      "크롤링 준비\n"
     ]
    },
    {
     "name": "stderr",
     "output_type": "stream",
     "text": [
      "\n",
      "\n",
      "preprocessing day:  29%|██████████████████▌                                             | 9/31 [01:44<04:28, 12.20s/it]\u001b[A\u001b[A"
     ]
    },
    {
     "name": "stdout",
     "output_type": "stream",
     "text": [
      "다음날짜로 선택시작\n",
      "다음 날짜 선택 후 크롤링 준비\n",
      "https://www.google.com/search?q=Nasdaq&sca_esv=556524961&tbas=0&biw=800&bih=600&source=lnt&tbs=cdr%3A1%2Ccd_min%3A10%2F10%2F2022%2Ccd_max%3A10%2F10%2F2022&tbm=nws\n",
      "https://www.google.com/search?q=Nasdaq&sca_esv=556524961&tbas=0&tbs=cdr:1,cd_min:10/10/2022,cd_max:10/10/2022&tbm=nws&ei=e77ZZKKpF9GMoATQ467YCQ&start=10&sa=N&ved=2ahUKEwji0piWuNuAAxVRBogKHdCxC5sQ8NMDegQIAhAI&biw=800&bih=600&dpr=1\n",
      "https://www.google.com/search?q=Nasdaq&sca_esv=556524961&tbas=0&tbs=cdr:1,cd_min:10/10/2022,cd_max:10/10/2022&tbm=nws&ei=fL7ZZJmbCoaE-QbbrK_wAg&start=20&sa=N&ved=2ahUKEwiZyciWuNuAAxUGQt4KHVvWCy44ChDw0wN6BAgFEAk&biw=800&bih=600&dpr=1\n",
      "크롤링 준비\n"
     ]
    },
    {
     "name": "stderr",
     "output_type": "stream",
     "text": [
      "\n",
      "\n",
      "preprocessing day:  32%|████████████████████▎                                          | 10/31 [01:54<04:03, 11.58s/it]\u001b[A\u001b[A"
     ]
    },
    {
     "name": "stdout",
     "output_type": "stream",
     "text": [
      "다음날짜로 선택시작\n",
      "다음 날짜 선택 후 크롤링 준비\n",
      "https://www.google.com/search?q=Nasdaq&sca_esv=556524961&tbas=0&biw=800&bih=600&source=lnt&tbs=cdr%3A1%2Ccd_min%3A10%2F11%2F2022%2Ccd_max%3A10%2F11%2F2022&tbm=nws\n",
      "https://www.google.com/search?q=Nasdaq&sca_esv=556524961&tbas=0&tbs=cdr:1,cd_min:10/11/2022,cd_max:10/11/2022&tbm=nws&ei=hb7ZZP-DJJDy-QbS7JjYDw&start=10&sa=N&ved=2ahUKEwi_2oebuNuAAxUQed4KHVI2BvsQ8NMDegQIBBAK&biw=800&bih=600&dpr=1\n",
      "https://www.google.com/search?q=Nasdaq&sca_esv=556524961&tbas=0&tbs=cdr:1,cd_min:10/11/2022,cd_max:10/11/2022&tbm=nws&ei=hr7ZZN6cLtX_wAP3kJuADw&start=20&sa=N&ved=2ahUKEwje986buNuAAxXVP3AKHXfIBvA4ChDw0wN6BAgCEAs&biw=800&bih=600&dpr=1\n",
      "크롤링 준비\n"
     ]
    },
    {
     "name": "stderr",
     "output_type": "stream",
     "text": [
      "\n",
      "\n",
      "preprocessing day:  35%|██████████████████████▎                                        | 11/31 [02:05<03:46, 11.31s/it]\u001b[A\u001b[A"
     ]
    },
    {
     "name": "stdout",
     "output_type": "stream",
     "text": [
      "다음날짜로 선택시작\n",
      "다음 날짜 선택 후 크롤링 준비\n",
      "https://www.google.com/search?q=Nasdaq&sca_esv=556524961&tbas=0&biw=800&bih=600&source=lnt&tbs=cdr%3A1%2Ccd_min%3A10%2F12%2F2022%2Ccd_max%3A10%2F12%2F2022&tbm=nws\n",
      "https://www.google.com/search?q=Nasdaq&sca_esv=556524961&tbas=0&tbs=cdr:1,cd_min:10/12/2022,cd_max:10/12/2022&tbm=nws&ei=kL7ZZLfTDdGG-Qbx8rHoCA&start=10&sa=N&ved=2ahUKEwi325CguNuAAxVRQ94KHXF5DI0Q8NMDegQIAxAM&biw=800&bih=600&dpr=1\n",
      "https://www.google.com/search?q=Nasdaq&sca_esv=556524961&tbas=0&tbs=cdr:1,cd_min:10/12/2022,cd_max:10/12/2022&tbm=nws&ei=kb7ZZKqmCdzN1e8PnL2UwAU&start=20&sa=N&ved=2ahUKEwjqssmguNuAAxXcZvUHHZweBVg4ChDw0wN6BAgCEA0&biw=800&bih=600&dpr=1\n",
      "크롤링 준비\n"
     ]
    },
    {
     "name": "stderr",
     "output_type": "stream",
     "text": [
      "\n",
      "\n",
      "preprocessing day:  39%|████████████████████████▍                                      | 12/31 [02:15<03:26, 10.88s/it]\u001b[A\u001b[A"
     ]
    },
    {
     "name": "stdout",
     "output_type": "stream",
     "text": [
      "다음날짜로 선택시작\n",
      "다음 날짜 선택 후 크롤링 준비\n",
      "https://www.google.com/search?q=Nasdaq&sca_esv=556524961&tbas=0&biw=800&bih=600&source=lnt&tbs=cdr%3A1%2Ccd_min%3A10%2F13%2F2022%2Ccd_max%3A10%2F13%2F2022&tbm=nws\n",
      "https://www.google.com/search?q=Nasdaq&sca_esv=556524961&tbas=0&tbs=cdr:1,cd_min:10/13/2022,cd_max:10/13/2022&tbm=nws&ei=mr7ZZJ_kDIbb1e8PiaCewAo&start=10&sa=N&ved=2ahUKEwifmfKkuNuAAxWGbfUHHQmQB6gQ8NMDegQIAxAK&biw=800&bih=600&dpr=1\n",
      "https://www.google.com/search?q=Nasdaq&sca_esv=556524961&tbas=0&tbs=cdr:1,cd_min:10/13/2022,cd_max:10/13/2022&tbm=nws&ei=m77ZZMC8CsLO-Qav6KaoDA&start=20&sa=N&ved=2ahUKEwiA9qyluNuAAxVCZ94KHS-0CcU4ChDw0wN6BAgDEAs&biw=800&bih=600&dpr=1\n",
      "크롤링 준비\n"
     ]
    },
    {
     "name": "stderr",
     "output_type": "stream",
     "text": [
      "\n",
      "\n",
      "preprocessing day:  42%|██████████████████████████▍                                    | 13/31 [02:25<03:10, 10.60s/it]\u001b[A\u001b[A"
     ]
    },
    {
     "name": "stdout",
     "output_type": "stream",
     "text": [
      "다음날짜로 선택시작\n",
      "다음 날짜 선택 후 크롤링 준비\n",
      "https://www.google.com/search?q=Nasdaq&sca_esv=556524961&tbas=0&biw=800&bih=600&source=lnt&tbs=cdr%3A1%2Ccd_min%3A10%2F14%2F2022%2Ccd_max%3A10%2F14%2F2022&tbm=nws\n",
      "https://www.google.com/search?q=Nasdaq&sca_esv=556524961&tbas=0&tbs=cdr:1,cd_min:10/14/2022,cd_max:10/14/2022&tbm=nws&ei=pL7ZZIWYB5Ph1e8P_cqp6Ak&start=10&sa=N&ved=2ahUKEwiF-s6puNuAAxWTcPUHHX1lCp0Q8NMDegQIAxAK&biw=800&bih=600&dpr=1\n",
      "https://www.google.com/search?q=Nasdaq&sca_esv=556524961&tbas=0&tbs=cdr:1,cd_min:10/14/2022,cd_max:10/14/2022&tbm=nws&ei=pb7ZZO_ZCKDZ1e8PgLSU0Aw&start=20&sa=N&ved=2ahUKEwivwI2quNuAAxWgbPUHHQAaBco4ChDw0wN6BAgDEAs&biw=800&bih=600&dpr=1\n",
      "크롤링 준비\n"
     ]
    },
    {
     "name": "stderr",
     "output_type": "stream",
     "text": [
      "\n",
      "\n",
      "preprocessing day:  45%|████████████████████████████▍                                  | 14/31 [02:35<02:56, 10.41s/it]\u001b[A\u001b[A"
     ]
    },
    {
     "name": "stdout",
     "output_type": "stream",
     "text": [
      "다음날짜로 선택시작\n",
      "다음 날짜 선택 후 크롤링 준비\n",
      "https://www.google.com/search?q=Nasdaq&sca_esv=556524961&tbas=0&biw=800&bih=600&source=lnt&tbs=cdr%3A1%2Ccd_min%3A10%2F15%2F2022%2Ccd_max%3A10%2F15%2F2022&tbm=nws\n",
      "https://www.google.com/search?q=Nasdaq&sca_esv=556524961&tbas=0&tbs=cdr:1,cd_min:10/15/2022,cd_max:10/15/2022&tbm=nws&ei=rb7ZZP7mPNiQhwOMyYt4&start=10&sa=N&ved=2ahUKEwi-8amuuNuAAxVYyGEKHYzkAg8Q8NMDegQIBBAG&biw=800&bih=600&dpr=1\n",
      "Next button not found. Exiting loop.\n",
      "크롤링 준비\n"
     ]
    },
    {
     "name": "stderr",
     "output_type": "stream",
     "text": [
      "\n",
      "\n",
      "preprocessing day:  48%|██████████████████████████████▍                                | 15/31 [02:49<03:03, 11.49s/it]\u001b[A\u001b[A"
     ]
    },
    {
     "name": "stdout",
     "output_type": "stream",
     "text": [
      "다음날짜로 선택시작\n",
      "다음 날짜 선택 후 크롤링 준비\n",
      "https://www.google.com/search?q=Nasdaq&sca_esv=556524961&tbas=0&biw=800&bih=600&source=lnt&tbs=cdr%3A1%2Ccd_min%3A10%2F16%2F2022%2Ccd_max%3A10%2F16%2F2022&tbm=nws\n",
      "Next button not found. Exiting loop.\n",
      "크롤링 준비\n"
     ]
    },
    {
     "name": "stderr",
     "output_type": "stream",
     "text": [
      "\n",
      "\n",
      "preprocessing day:  52%|████████████████████████████████▌                              | 16/31 [03:02<02:59, 11.98s/it]\u001b[A\u001b[A"
     ]
    },
    {
     "name": "stdout",
     "output_type": "stream",
     "text": [
      "다음날짜로 선택시작\n",
      "다음 날짜 선택 후 크롤링 준비\n",
      "https://www.google.com/search?q=Nasdaq&sca_esv=556524961&tbas=0&biw=800&bih=600&source=lnt&tbs=cdr%3A1%2Ccd_min%3A10%2F17%2F2022%2Ccd_max%3A10%2F17%2F2022&tbm=nws\n",
      "https://www.google.com/search?q=Nasdaq&sca_esv=556524961&tbas=0&tbs=cdr:1,cd_min:10/17/2022,cd_max:10/17/2022&tbm=nws&ei=yb7ZZKGjDJDt1e8P4pG0kAc&start=10&sa=N&ved=2ahUKEwjhq6a7uNuAAxWQdvUHHeIIDXIQ8NMDegQIAxAM&biw=800&bih=600&dpr=1\n",
      "https://www.google.com/search?q=Nasdaq&sca_esv=556524961&tbas=0&tbs=cdr:1,cd_min:10/17/2022,cd_max:10/17/2022&tbm=nws&ei=yb7ZZKHBMqb21e8Puoq58Ag&start=20&sa=N&ved=2ahUKEwjhycy7uNuAAxUme_UHHTpFDo44ChDw0wN6BAgDEA0&biw=800&bih=600&dpr=1\n",
      "크롤링 준비\n"
     ]
    },
    {
     "name": "stderr",
     "output_type": "stream",
     "text": [
      "\n",
      "\n",
      "preprocessing day:  55%|██████████████████████████████████▌                            | 17/31 [03:11<02:37, 11.27s/it]\u001b[A\u001b[A"
     ]
    },
    {
     "name": "stdout",
     "output_type": "stream",
     "text": [
      "다음날짜로 선택시작\n",
      "다음 날짜 선택 후 크롤링 준비\n",
      "https://www.google.com/search?q=Nasdaq&sca_esv=556524961&tbas=0&biw=800&bih=600&source=lnt&tbs=cdr%3A1%2Ccd_min%3A10%2F18%2F2022%2Ccd_max%3A10%2F18%2F2022&tbm=nws\n",
      "https://www.google.com/search?q=Nasdaq&sca_esv=556524961&tbas=0&tbs=cdr:1,cd_min:10/18/2022,cd_max:10/18/2022&tbm=nws&ei=0r7ZZLyqLY2-hwP4vJWICQ&start=10&sa=N&ved=2ahUKEwi82-y_uNuAAxUN32EKHXheBZEQ8NMDegQIAxAK&biw=800&bih=600&dpr=1\n",
      "https://www.google.com/search?q=Nasdaq&sca_esv=556524961&tbas=0&tbs=cdr:1,cd_min:10/18/2022,cd_max:10/18/2022&tbm=nws&ei=077ZZKb1KJ_d1e8PhbCpiAg&start=20&sa=N&ved=2ahUKEwjmqqXAuNuAAxWfbvUHHQVYCoE4ChDw0wN6BAgDEAs&biw=800&bih=600&dpr=1\n",
      "크롤링 준비\n"
     ]
    },
    {
     "name": "stderr",
     "output_type": "stream",
     "text": [
      "\n",
      "\n",
      "preprocessing day:  58%|████████████████████████████████████▌                          | 18/31 [03:21<02:19, 10.75s/it]\u001b[A\u001b[A"
     ]
    },
    {
     "name": "stdout",
     "output_type": "stream",
     "text": [
      "다음날짜로 선택시작\n",
      "다음 날짜 선택 후 크롤링 준비\n",
      "https://www.google.com/search?q=Nasdaq&sca_esv=556524961&tbas=0&biw=800&bih=600&source=lnt&tbs=cdr%3A1%2Ccd_min%3A10%2F19%2F2022%2Ccd_max%3A10%2F19%2F2022&tbm=nws\n",
      "https://www.google.com/search?q=Nasdaq&sca_esv=556524961&tbas=0&tbs=cdr:1,cd_min:10/19/2022,cd_max:10/19/2022&tbm=nws&ei=3L7ZZM3qEpnW1e8PxLGHyAQ&start=10&sa=N&ved=2ahUKEwjNyLTEuNuAAxUZa_UHHcTYAUkQ8NMDegQIAhAK&biw=800&bih=600&dpr=1\n",
      "https://www.google.com/search?q=Nasdaq&sca_esv=556524961&tbas=0&tbs=cdr:1,cd_min:10/19/2022,cd_max:10/19/2022&tbm=nws&ei=3b7ZZPzpD5Kp-QaK1aqYCA&start=20&sa=N&ved=2ahUKEwi8zO7EuNuAAxWSVN4KHYqqCoM4ChDw0wN6BAgEEAs&biw=800&bih=600&dpr=1\n",
      "크롤링 준비\n"
     ]
    },
    {
     "name": "stderr",
     "output_type": "stream",
     "text": [
      "\n",
      "\n",
      "preprocessing day:  61%|██████████████████████████████████████▌                        | 19/31 [03:31<02:05, 10.44s/it]\u001b[A\u001b[A"
     ]
    },
    {
     "name": "stdout",
     "output_type": "stream",
     "text": [
      "다음날짜로 선택시작\n",
      "다음 날짜 선택 후 크롤링 준비\n",
      "https://www.google.com/search?q=Nasdaq&sca_esv=556524961&tbas=0&biw=800&bih=600&source=lnt&tbs=cdr%3A1%2Ccd_min%3A10%2F20%2F2022%2Ccd_max%3A10%2F20%2F2022&tbm=nws\n",
      "https://www.google.com/search?q=Nasdaq&sca_esv=556524961&tbas=0&tbs=cdr:1,cd_min:10/20/2022,cd_max:10/20/2022&tbm=nws&ei=5r7ZZKmJBuTE1e8P_K6ggAo&start=10&sa=N&ved=2ahUKEwiplIrJuNuAAxVkYvUHHXwXCKAQ8NMDegQIAxAK&biw=800&bih=600&dpr=1\n",
      "https://www.google.com/search?q=Nasdaq&sca_esv=556524961&tbas=0&tbs=cdr:1,cd_min:10/20/2022,cd_max:10/20/2022&tbm=nws&ei=5r7ZZOmjO5b6hwOFyoaIDQ&start=20&sa=N&ved=2ahUKEwjprr_JuNuAAxUW_WEKHQWlAdE4ChDw0wN6BAgDEAs&biw=800&bih=600&dpr=1\n",
      "크롤링 준비\n"
     ]
    },
    {
     "name": "stderr",
     "output_type": "stream",
     "text": [
      "\n",
      "\n",
      "preprocessing day:  65%|████████████████████████████████████████▋                      | 20/31 [03:41<01:53, 10.28s/it]\u001b[A\u001b[A"
     ]
    },
    {
     "name": "stdout",
     "output_type": "stream",
     "text": [
      "다음날짜로 선택시작\n",
      "다음 날짜 선택 후 크롤링 준비\n",
      "https://www.google.com/search?q=Nasdaq&sca_esv=556524961&tbas=0&biw=800&bih=600&source=lnt&tbs=cdr%3A1%2Ccd_min%3A10%2F21%2F2022%2Ccd_max%3A10%2F21%2F2022&tbm=nws\n",
      "https://www.google.com/search?q=Nasdaq&sca_esv=556524961&tbas=0&tbs=cdr:1,cd_min:10/21/2022,cd_max:10/21/2022&tbm=nws&ei=777ZZO7NOMDT1e8P3o204Aw&start=10&sa=N&ved=2ahUKEwiugeLNuNuAAxXAafUHHd4GDcwQ8NMDegQIBBAK&biw=800&bih=600&dpr=1\n",
      "https://www.google.com/search?q=Nasdaq&sca_esv=556524961&tbas=0&tbs=cdr:1,cd_min:10/21/2022,cd_max:10/21/2022&tbm=nws&ei=8b7ZZNVq05CHA4_utYAM&start=20&sa=N&ved=2ahUKEwiVp6TOuNuAAxVTyGEKHQ93DcA4ChDw0wN6BAgFEAs&biw=800&bih=600&dpr=1\n",
      "크롤링 준비\n"
     ]
    },
    {
     "name": "stderr",
     "output_type": "stream",
     "text": [
      "\n",
      "\n",
      "preprocessing day:  68%|██████████████████████████████████████████▋                    | 21/31 [03:51<01:42, 10.27s/it]\u001b[A\u001b[A"
     ]
    },
    {
     "name": "stdout",
     "output_type": "stream",
     "text": [
      "다음날짜로 선택시작\n",
      "다음 날짜 선택 후 크롤링 준비\n",
      "https://www.google.com/search?q=Nasdaq&sca_esv=556524961&tbas=0&biw=800&bih=600&source=lnt&tbs=cdr%3A1%2Ccd_min%3A10%2F22%2F2022%2Ccd_max%3A10%2F22%2F2022&tbm=nws\n",
      "Next button not found. Exiting loop.\n",
      "크롤링 준비\n"
     ]
    },
    {
     "name": "stderr",
     "output_type": "stream",
     "text": [
      "\n",
      "\n",
      "preprocessing day:  71%|████████████████████████████████████████████▋                  | 22/31 [04:04<01:39, 11.07s/it]\u001b[A\u001b[A"
     ]
    },
    {
     "name": "stdout",
     "output_type": "stream",
     "text": [
      "다음날짜로 선택시작\n",
      "다음 날짜 선택 후 크롤링 준비\n",
      "https://www.google.com/search?q=Nasdaq&sca_esv=556524961&tbas=0&biw=800&bih=600&source=lnt&tbs=cdr%3A1%2Ccd_min%3A10%2F23%2F2022%2Ccd_max%3A10%2F23%2F2022&tbm=nws\n",
      "Next button not found. Exiting loop.\n",
      "크롤링 준비\n"
     ]
    },
    {
     "name": "stderr",
     "output_type": "stream",
     "text": [
      "\n",
      "\n",
      "preprocessing day:  74%|██████████████████████████████████████████████▋                | 23/31 [04:17<01:33, 11.73s/it]\u001b[A\u001b[A"
     ]
    },
    {
     "name": "stdout",
     "output_type": "stream",
     "text": [
      "다음날짜로 선택시작\n",
      "다음 날짜 선택 후 크롤링 준비\n",
      "https://www.google.com/search?q=Nasdaq&sca_esv=556524961&tbas=0&biw=800&bih=600&source=lnt&tbs=cdr%3A1%2Ccd_min%3A10%2F24%2F2022%2Ccd_max%3A10%2F24%2F2022&tbm=nws\n",
      "https://www.google.com/search?q=Nasdaq&sca_esv=556524961&tbas=0&tbs=cdr:1,cd_min:10/24/2022,cd_max:10/24/2022&tbm=nws&ei=FL_ZZLu3GZDt1e8P4pG0kAc&start=10&sa=N&ved=2ahUKEwi7kZXfuNuAAxWQdvUHHeIIDXIQ8NMDegQIBBAI&biw=800&bih=600&dpr=1\n",
      "https://www.google.com/search?q=Nasdaq&sca_esv=556524961&tbas=0&tbs=cdr:1,cd_min:10/24/2022,cd_max:10/24/2022&tbm=nws&ei=Fb_ZZNSxFYaE-QbbrK_wAg&start=20&sa=N&ved=2ahUKEwiUkM7fuNuAAxUGQt4KHVvWCy44ChDw0wN6BAgFEAk&biw=800&bih=600&dpr=1\n",
      "크롤링 준비\n"
     ]
    },
    {
     "name": "stderr",
     "output_type": "stream",
     "text": [
      "\n",
      "\n",
      "preprocessing day:  77%|████████████████████████████████████████████████▊              | 24/31 [04:27<01:17, 11.13s/it]\u001b[A\u001b[A"
     ]
    },
    {
     "name": "stdout",
     "output_type": "stream",
     "text": [
      "다음날짜로 선택시작\n",
      "다음 날짜 선택 후 크롤링 준비\n",
      "https://www.google.com/search?q=Nasdaq&sca_esv=556524961&tbas=0&biw=800&bih=600&source=lnt&tbs=cdr%3A1%2Ccd_min%3A10%2F25%2F2022%2Ccd_max%3A10%2F25%2F2022&tbm=nws\n",
      "https://www.google.com/search?q=Nasdaq&sca_esv=556524961&tbas=0&tbs=cdr:1,cd_min:10/25/2022,cd_max:10/25/2022&tbm=nws&ei=Hr_ZZKrAB5i9wAPf8ZKACw&start=10&sa=N&ved=2ahUKEwiqx-XjuNuAAxWYHnAKHd-4BLAQ8NMDegQIAxAM&biw=800&bih=600&dpr=1\n",
      "https://www.google.com/search?q=Nasdaq&sca_esv=556524961&tbas=0&tbs=cdr:1,cd_min:10/25/2022,cd_max:10/25/2022&tbm=nws&ei=H7_ZZIQCl6CHA8nrocAM&start=20&sa=N&ved=2ahUKEwjEjZvkuNuAAxUX0GEKHcl1CMg4ChDw0wN6BAgEEA0&biw=800&bih=600&dpr=1\n",
      "크롤링 준비\n"
     ]
    },
    {
     "name": "stderr",
     "output_type": "stream",
     "text": [
      "\n",
      "\n",
      "preprocessing day:  81%|██████████████████████████████████████████████████▊            | 25/31 [04:37<01:04, 10.82s/it]\u001b[A\u001b[A"
     ]
    },
    {
     "name": "stdout",
     "output_type": "stream",
     "text": [
      "다음날짜로 선택시작\n",
      "다음 날짜 선택 후 크롤링 준비\n",
      "https://www.google.com/search?q=Nasdaq&sca_esv=556524961&tbas=0&biw=800&bih=600&source=lnt&tbs=cdr%3A1%2Ccd_min%3A10%2F26%2F2022%2Ccd_max%3A10%2F26%2F2022&tbm=nws\n",
      "https://www.google.com/search?q=Nasdaq&sca_esv=556524961&tbas=0&tbs=cdr:1,cd_min:10/26/2022,cd_max:10/26/2022&tbm=nws&ei=KL_ZZIGCDePQ1e8Pu5Gc6AU&start=10&sa=N&ved=2ahUKEwiBts3ouNuAAxVjaPUHHbsIB10Q8NMDegQIBBAI&biw=800&bih=600&dpr=1\n",
      "https://www.google.com/search?q=Nasdaq&sca_esv=556524961&tbas=0&tbs=cdr:1,cd_min:10/26/2022,cd_max:10/26/2022&tbm=nws&ei=Kb_ZZK2EAa7X1e8Pl6CyqAU&start=20&sa=N&ved=2ahUKEwjtvP7ouNuAAxWua_UHHReQDFU4ChDw0wN6BAgDEAk&biw=800&bih=600&dpr=1\n",
      "크롤링 준비\n"
     ]
    },
    {
     "name": "stderr",
     "output_type": "stream",
     "text": [
      "\n",
      "\n",
      "preprocessing day:  84%|████████████████████████████████████████████████████▊          | 26/31 [04:46<00:51, 10.30s/it]\u001b[A\u001b[A"
     ]
    },
    {
     "name": "stdout",
     "output_type": "stream",
     "text": [
      "다음날짜로 선택시작\n",
      "다음 날짜 선택 후 크롤링 준비\n",
      "https://www.google.com/search?q=Nasdaq&sca_esv=556524961&tbas=0&biw=800&bih=600&source=lnt&tbs=cdr%3A1%2Ccd_min%3A10%2F27%2F2022%2Ccd_max%3A10%2F27%2F2022&tbm=nws\n",
      "https://www.google.com/search?q=Nasdaq&sca_esv=556524961&tbas=0&tbs=cdr:1,cd_min:10/27/2022,cd_max:10/27/2022&tbm=nws&ei=Mb_ZZN_pGMPY1e8P_YOR8Aw&start=10&sa=N&ved=2ahUKEwifxv7suNuAAxVDbPUHHf1BBM4Q8NMDegQIAxAM&biw=800&bih=600&dpr=1\n",
      "https://www.google.com/search?q=Nasdaq&sca_esv=556524961&tbas=0&tbs=cdr:1,cd_min:10/27/2022,cd_max:10/27/2022&tbm=nws&ei=Mr_ZZNypAoXq-AbZipAQ&start=20&sa=N&ved=2ahUKEwjciqXtuNuAAxUFNd4KHVkFBAI4ChDw0wN6BAgDEA0&biw=800&bih=600&dpr=1\n",
      "크롤링 준비\n"
     ]
    },
    {
     "name": "stderr",
     "output_type": "stream",
     "text": [
      "\n",
      "\n",
      "preprocessing day:  87%|██████████████████████████████████████████████████████▊        | 27/31 [04:56<00:40, 10.12s/it]\u001b[A\u001b[A"
     ]
    },
    {
     "name": "stdout",
     "output_type": "stream",
     "text": [
      "다음날짜로 선택시작\n",
      "다음 날짜 선택 후 크롤링 준비\n",
      "https://www.google.com/search?q=Nasdaq&sca_esv=556524961&tbas=0&biw=800&bih=600&source=lnt&tbs=cdr%3A1%2Ccd_min%3A10%2F28%2F2022%2Ccd_max%3A10%2F28%2F2022&tbm=nws\n",
      "https://www.google.com/search?q=Nasdaq&sca_esv=556524961&tbas=0&tbs=cdr:1,cd_min:10/28/2022,cd_max:10/28/2022&tbm=nws&ei=O7_ZZOKbBenm1e8Pw4GhmAQ&start=10&sa=N&ved=2ahUKEwiipc3xuNuAAxVpc_UHHcNACEMQ8NMDegQIBhAK&biw=800&bih=600&dpr=1\n",
      "https://www.google.com/search?q=Nasdaq&sca_esv=556524961&tbas=0&tbs=cdr:1,cd_min:10/28/2022,cd_max:10/28/2022&tbm=nws&ei=PL_ZZKTqCNiQhwOMyYt4&start=20&sa=N&ved=2ahUKEwik-I3yuNuAAxVYyGEKHYzkAg84ChDw0wN6BAgEEAs&biw=800&bih=600&dpr=1\n",
      "크롤링 준비\n"
     ]
    },
    {
     "name": "stderr",
     "output_type": "stream",
     "text": [
      "\n",
      "\n",
      "preprocessing day:  90%|████████████████████████████████████████████████████████▉      | 28/31 [05:05<00:30, 10.03s/it]\u001b[A\u001b[A"
     ]
    },
    {
     "name": "stdout",
     "output_type": "stream",
     "text": [
      "다음날짜로 선택시작\n",
      "다음 날짜 선택 후 크롤링 준비\n",
      "https://www.google.com/search?q=Nasdaq&sca_esv=556524961&tbas=0&biw=800&bih=600&source=lnt&tbs=cdr%3A1%2Ccd_min%3A10%2F29%2F2022%2Ccd_max%3A10%2F29%2F2022&tbm=nws\n",
      "https://www.google.com/search?q=Nasdaq&sca_esv=556524961&tbas=0&tbs=cdr:1,cd_min:10/29/2022,cd_max:10/29/2022&tbm=nws&ei=RL_ZZPGYM8zm-QbV4bWABQ&start=10&sa=N&ved=2ahUKEwjxyqD2uNuAAxVMc94KHdVwDVAQ8NMDegQIAxAG&biw=800&bih=600&dpr=1\n",
      "Next button not found. Exiting loop.\n",
      "크롤링 준비\n"
     ]
    },
    {
     "name": "stderr",
     "output_type": "stream",
     "text": [
      "\n",
      "\n",
      "preprocessing day:  94%|██████████████████████████████████████████████████████████▉    | 29/31 [05:19<00:22, 11.17s/it]\u001b[A\u001b[A"
     ]
    },
    {
     "name": "stdout",
     "output_type": "stream",
     "text": [
      "다음날짜로 선택시작\n",
      "다음 날짜 선택 후 크롤링 준비\n",
      "https://www.google.com/search?q=Nasdaq&sca_esv=556524961&tbas=0&biw=800&bih=600&source=lnt&tbs=cdr%3A1%2Ccd_min%3A10%2F30%2F2022%2Ccd_max%3A10%2F30%2F2022&tbm=nws\n",
      "https://www.google.com/search?q=Nasdaq&sca_esv=556524961&tbas=0&tbs=cdr:1,cd_min:10/30/2022,cd_max:10/30/2022&tbm=nws&ei=Ur_ZZMHIJ5mn-QaiwpngDw&start=10&sa=N&ved=2ahUKEwjBuev8uNuAAxWZU94KHSJhBvwQ8NMDegQIAxAG&biw=800&bih=600&dpr=1\n",
      "Next button not found. Exiting loop.\n",
      "크롤링 준비\n"
     ]
    },
    {
     "name": "stderr",
     "output_type": "stream",
     "text": [
      "\n",
      "\n",
      "preprocessing day:  97%|████████████████████████████████████████████████████████████▉  | 30/31 [05:33<00:12, 12.08s/it]\u001b[A\u001b[A"
     ]
    },
    {
     "name": "stdout",
     "output_type": "stream",
     "text": [
      "다음날짜로 선택시작\n",
      "다음 날짜 선택 후 크롤링 준비\n",
      "https://www.google.com/search?q=Nasdaq&sca_esv=556524961&tbas=0&biw=800&bih=600&source=lnt&tbs=cdr%3A1%2Ccd_min%3A10%2F31%2F2022%2Ccd_max%3A10%2F31%2F2022&tbm=nws\n",
      "https://www.google.com/search?q=Nasdaq&sca_esv=556524961&tbas=0&tbs=cdr:1,cd_min:10/31/2022,cd_max:10/31/2022&tbm=nws&ei=YL_ZZJ-gMMX8hwPDn7nQCw&start=10&sa=N&ved=2ahUKEwif0MqDuduAAxVF_mEKHcNPDroQ8NMDegQIAxAK&biw=800&bih=600&dpr=1\n",
      "https://www.google.com/search?q=Nasdaq&sca_esv=556524961&tbas=0&tbs=cdr:1,cd_min:10/31/2022,cd_max:10/31/2022&tbm=nws&ei=Yb_ZZOGFNPPi1e8Pnp-C0A8&start=20&sa=N&ved=2ahUKEwihuouEuduAAxVzcfUHHZ6PAPo4ChDw0wN6BAgBEAs&biw=800&bih=600&dpr=1\n",
      "크롤링 준비\n"
     ]
    },
    {
     "name": "stderr",
     "output_type": "stream",
     "text": [
      "\n",
      "\n",
      "preprocessing day: 100%|███████████████████████████████████████████████████████████████| 31/31 [05:43<00:00, 11.08s/it]\u001b[A\u001b[A\n",
      "\n",
      "preprocessing month:  83%|██████████████████████████████████████████████████          | 10/12 [56:13<11:17, 338.70s/it]\u001b[A"
     ]
    },
    {
     "name": "stdout",
     "output_type": "stream",
     "text": [
      "다음날짜로 선택시작\n"
     ]
    },
    {
     "name": "stderr",
     "output_type": "stream",
     "text": [
      "\n",
      "\n",
      "preprocessing day:   0%|                                                                        | 0/31 [00:00<?, ?it/s]\u001b[A\u001b[A"
     ]
    },
    {
     "name": "stdout",
     "output_type": "stream",
     "text": [
      "다음 날짜 선택 후 크롤링 준비\n",
      "https://www.google.com/search?q=Nasdaq&sca_esv=556524961&tbas=0&biw=800&bih=600&source=lnt&tbs=cdr%3A1%2Ccd_min%3A11%2F1%2F2022%2Ccd_max%3A11%2F1%2F2022&tbm=nws\n",
      "https://www.google.com/search?q=Nasdaq&sca_esv=556524961&tbas=0&tbs=cdr:1,cd_min:11/1/2022,cd_max:11/1/2022&tbm=nws&ei=ar_ZZJzhHovWhwPw2r2wBQ&start=10&sa=N&ved=2ahUKEwicvpuIuduAAxUL62EKHXBtD1YQ8NMDegQIAxAM&biw=800&bih=600&dpr=1\n",
      "https://www.google.com/search?q=Nasdaq&sca_esv=556524961&tbas=0&tbs=cdr:1,cd_min:11/1/2022,cd_max:11/1/2022&tbm=nws&ei=a7_ZZOCiIfPi1e8Pnp-C0A8&start=20&sa=N&ved=2ahUKEwighNuIuduAAxVzcfUHHZ6PAPo4ChDw0wN6BAgCEA0&biw=800&bih=600&dpr=1\n",
      "크롤링 준비\n"
     ]
    },
    {
     "name": "stderr",
     "output_type": "stream",
     "text": [
      "\n",
      "\n",
      "preprocessing day:   3%|██                                                              | 1/31 [00:09<04:55,  9.86s/it]\u001b[A\u001b[A"
     ]
    },
    {
     "name": "stdout",
     "output_type": "stream",
     "text": [
      "다음날짜로 선택시작\n",
      "다음 날짜 선택 후 크롤링 준비\n",
      "https://www.google.com/search?q=Nasdaq&sca_esv=556524961&tbas=0&biw=800&bih=600&source=lnt&tbs=cdr%3A1%2Ccd_min%3A11%2F2%2F2022%2Ccd_max%3A11%2F2%2F2022&tbm=nws\n",
      "https://www.google.com/search?q=Nasdaq&sca_esv=556524961&tbas=0&tbs=cdr:1,cd_min:11/2/2022,cd_max:11/2/2022&tbm=nws&ei=dL_ZZNzCGZO0oATl26WgBg&start=10&sa=N&ved=2ahUKEwjczPiMuduAAxUTGogKHeVtCWQQ8NMDegQIAhAK&biw=800&bih=600&dpr=1\n",
      "https://www.google.com/search?q=Nasdaq&sca_esv=556524961&tbas=0&tbs=cdr:1,cd_min:11/2/2022,cd_max:11/2/2022&tbm=nws&ei=db_ZZMGqCNXo-AbTy5ygBQ&start=20&sa=N&ved=2ahUKEwiBuaSNuduAAxVVNN4KHdMlB1Q4ChDw0wN6BAgDEAs&biw=800&bih=600&dpr=1\n",
      "크롤링 준비\n"
     ]
    },
    {
     "name": "stderr",
     "output_type": "stream",
     "text": [
      "\n",
      "\n",
      "preprocessing day:   6%|████▏                                                           | 2/31 [00:19<04:35,  9.51s/it]\u001b[A\u001b[A"
     ]
    },
    {
     "name": "stdout",
     "output_type": "stream",
     "text": [
      "다음날짜로 선택시작\n",
      "다음 날짜 선택 후 크롤링 준비\n",
      "https://www.google.com/search?q=Nasdaq&sca_esv=556524961&tbas=0&biw=800&bih=600&source=lnt&tbs=cdr%3A1%2Ccd_min%3A11%2F3%2F2022%2Ccd_max%3A11%2F3%2F2022&tbm=nws\n",
      "https://www.google.com/search?q=Nasdaq&sca_esv=556524961&tbas=0&tbs=cdr:1,cd_min:11/3/2022,cd_max:11/3/2022&tbm=nws&ei=fb_ZZKHQLNbn1e8P9cmDuA8&start=10&sa=N&ved=2ahUKEwjhgrGRuduAAxXWc_UHHfXkAPcQ8NMDegQIAhAK&biw=800&bih=600&dpr=1\n",
      "https://www.google.com/search?q=Nasdaq&sca_esv=556524961&tbas=0&tbs=cdr:1,cd_min:11/3/2022,cd_max:11/3/2022&tbm=nws&ei=fr_ZZKy9K5jk1e8PpZ2QwAE&start=20&sa=N&ved=2ahUKEwis9OyRuduAAxUYcvUHHaUOBBg4ChDw0wN6BAgDEAs&biw=800&bih=600&dpr=1\n",
      "크롤링 준비\n"
     ]
    },
    {
     "name": "stderr",
     "output_type": "stream",
     "text": [
      "\n",
      "\n",
      "preprocessing day:  10%|██████▏                                                         | 3/31 [00:29<04:32,  9.72s/it]\u001b[A\u001b[A"
     ]
    },
    {
     "name": "stdout",
     "output_type": "stream",
     "text": [
      "다음날짜로 선택시작\n",
      "다음 날짜 선택 후 크롤링 준비\n",
      "https://www.google.com/search?q=Nasdaq&sca_esv=556524961&tbas=0&biw=800&bih=600&source=lnt&tbs=cdr%3A1%2Ccd_min%3A11%2F4%2F2022%2Ccd_max%3A11%2F4%2F2022&tbm=nws\n",
      "https://www.google.com/search?q=Nasdaq&sca_esv=556524961&tbas=0&tbs=cdr:1,cd_min:11/4/2022,cd_max:11/4/2022&tbm=nws&ei=h7_ZZOPULNqMoATI-4cw&start=10&sa=N&ved=2ahUKEwijtJOWuduAAxVaBogKHcj9AQYQ8NMDegQIBBAM&biw=800&bih=600&dpr=1\n",
      "https://www.google.com/search?q=Nasdaq&sca_esv=556524961&tbas=0&tbs=cdr:1,cd_min:11/4/2022,cd_max:11/4/2022&tbm=nws&ei=iL_ZZMaNLoHXhwP_j77ABQ&start=20&sa=N&ved=2ahUKEwjG8dGWuduAAxWB62EKHf-HD1g4ChDw0wN6BAgDEA0&biw=800&bih=600&dpr=1\n",
      "크롤링 준비\n"
     ]
    },
    {
     "name": "stderr",
     "output_type": "stream",
     "text": [
      "\n",
      "\n",
      "preprocessing day:  13%|████████▎                                                       | 4/31 [00:39<04:25,  9.85s/it]\u001b[A\u001b[A"
     ]
    },
    {
     "name": "stdout",
     "output_type": "stream",
     "text": [
      "다음날짜로 선택시작\n",
      "다음 날짜 선택 후 크롤링 준비\n",
      "https://www.google.com/search?q=Nasdaq&sca_esv=556524961&tbas=0&biw=800&bih=600&source=lnt&tbs=cdr%3A1%2Ccd_min%3A11%2F5%2F2022%2Ccd_max%3A11%2F5%2F2022&tbm=nws\n",
      "Next button not found. Exiting loop.\n",
      "크롤링 준비\n"
     ]
    },
    {
     "name": "stderr",
     "output_type": "stream",
     "text": [
      "\n",
      "\n",
      "preprocessing day:  16%|██████████▎                                                     | 5/31 [00:52<04:49, 11.12s/it]\u001b[A\u001b[A"
     ]
    },
    {
     "name": "stdout",
     "output_type": "stream",
     "text": [
      "다음날짜로 선택시작\n",
      "다음 날짜 선택 후 크롤링 준비\n",
      "https://www.google.com/search?q=Nasdaq&sca_esv=556524961&tbas=0&biw=800&bih=600&source=lnt&tbs=cdr%3A1%2Ccd_min%3A11%2F6%2F2022%2Ccd_max%3A11%2F6%2F2022&tbm=nws\n",
      "https://www.google.com/search?q=Nasdaq&sca_esv=556524961&tbas=0&tbs=cdr:1,cd_min:11/6/2022,cd_max:11/6/2022&tbm=nws&ei=n7_ZZKDKA6DO1e8PsJGckAc&start=10&sa=N&ved=2ahUKEwjglaOhuduAAxUgZ_UHHbAIB3IQ8NMDegQIARAG&biw=800&bih=600&dpr=1\n",
      "Next button not found. Exiting loop.\n",
      "크롤링 준비\n"
     ]
    },
    {
     "name": "stderr",
     "output_type": "stream",
     "text": [
      "\n",
      "\n",
      "preprocessing day:  19%|████████████▍                                                   | 6/31 [01:06<05:00, 12.00s/it]\u001b[A\u001b[A"
     ]
    },
    {
     "name": "stdout",
     "output_type": "stream",
     "text": [
      "다음날짜로 선택시작\n",
      "다음 날짜 선택 후 크롤링 준비\n",
      "https://www.google.com/search?q=Nasdaq&sca_esv=556524961&tbas=0&biw=800&bih=600&source=lnt&tbs=cdr%3A1%2Ccd_min%3A11%2F7%2F2022%2Ccd_max%3A11%2F7%2F2022&tbm=nws\n",
      "https://www.google.com/search?q=Nasdaq&sca_esv=556524961&tbas=0&tbs=cdr:1,cd_min:11/7/2022,cd_max:11/7/2022&tbm=nws&ei=rL_ZZP7eM8Dl1e8PnNmF6A8&start=10&sa=N&ved=2ahUKEwj-5OynuduAAxXAcvUHHZxsAf0Q8NMDegQIAhAK&biw=800&bih=600&dpr=1\n",
      "https://www.google.com/search?q=Nasdaq&sca_esv=556524961&tbas=0&tbs=cdr:1,cd_min:11/7/2022,cd_max:11/7/2022&tbm=nws&ei=rb_ZZPLUNJTf-QbH_riYAw&start=20&sa=N&ved=2ahUKEwiy36qouduAAxWUb94KHUc_DjM4ChDw0wN6BAgDEAs&biw=800&bih=600&dpr=1\n",
      "크롤링 준비\n"
     ]
    },
    {
     "name": "stderr",
     "output_type": "stream",
     "text": [
      "\n",
      "\n",
      "preprocessing day:  23%|██████████████▍                                                 | 7/31 [01:15<04:29, 11.23s/it]\u001b[A\u001b[A"
     ]
    },
    {
     "name": "stdout",
     "output_type": "stream",
     "text": [
      "다음날짜로 선택시작\n",
      "다음 날짜 선택 후 크롤링 준비\n",
      "https://www.google.com/search?q=Nasdaq&sca_esv=556524961&tbas=0&biw=800&bih=600&source=lnt&tbs=cdr%3A1%2Ccd_min%3A11%2F8%2F2022%2Ccd_max%3A11%2F8%2F2022&tbm=nws\n",
      "https://www.google.com/search?q=Nasdaq&sca_esv=556524961&tbas=0&tbs=cdr:1,cd_min:11/8/2022,cd_max:11/8/2022&tbm=nws&ei=tr_ZZL_-Gczq-AaUiL0Q&start=10&sa=N&ved=2ahUKEwi_sbWsuduAAxVMNd4KHRREDwIQ8NMDegQIAxAK&biw=800&bih=600&dpr=1\n",
      "https://www.google.com/search?q=Nasdaq&sca_esv=556524961&tbas=0&tbs=cdr:1,cd_min:11/8/2022,cd_max:11/8/2022&tbm=nws&ei=t7_ZZN2JBpT1hwPP6IjIDg&start=20&sa=N&ved=2ahUKEwidwd6suduAAxWU-mEKHU80Auk4ChDw0wN6BAgDEAs&biw=800&bih=600&dpr=1\n",
      "크롤링 준비\n"
     ]
    },
    {
     "name": "stderr",
     "output_type": "stream",
     "text": [
      "\n",
      "\n",
      "preprocessing day:  26%|████████████████▌                                               | 8/31 [01:25<04:04, 10.61s/it]\u001b[A\u001b[A"
     ]
    },
    {
     "name": "stdout",
     "output_type": "stream",
     "text": [
      "다음날짜로 선택시작\n",
      "다음 날짜 선택 후 크롤링 준비\n",
      "https://www.google.com/search?q=Nasdaq&sca_esv=556524961&tbas=0&biw=800&bih=600&source=lnt&tbs=cdr%3A1%2Ccd_min%3A11%2F9%2F2022%2Ccd_max%3A11%2F9%2F2022&tbm=nws\n",
      "https://www.google.com/search?q=Nasdaq&sca_esv=556524961&tbas=0&tbs=cdr:1,cd_min:11/9/2022,cd_max:11/9/2022&tbm=nws&ei=v7_ZZNSDJ4eV-AbthpWQDQ&start=10&sa=N&ved=2ahUKEwiU3-ewuduAAxWHCt4KHW1DBdIQ8NMDegQIARAK&biw=800&bih=600&dpr=1\n",
      "https://www.google.com/search?q=Nasdaq&sca_esv=556524961&tbas=0&tbs=cdr:1,cd_min:11/9/2022,cd_max:11/9/2022&tbm=nws&ei=wL_ZZOPsHYOs-QaU7biYDQ&start=20&sa=N&ved=2ahUKEwjjzJuxuduAAxUDVt4KHZQ2DtM4ChDw0wN6BAgBEAs&biw=800&bih=600&dpr=1\n",
      "크롤링 준비\n"
     ]
    },
    {
     "name": "stderr",
     "output_type": "stream",
     "text": [
      "\n",
      "\n",
      "preprocessing day:  29%|██████████████████▌                                             | 9/31 [01:35<03:48, 10.38s/it]\u001b[A\u001b[A"
     ]
    },
    {
     "name": "stdout",
     "output_type": "stream",
     "text": [
      "다음날짜로 선택시작\n",
      "다음 날짜 선택 후 크롤링 준비\n",
      "https://www.google.com/search?q=Nasdaq&sca_esv=556524961&tbas=0&biw=800&bih=600&source=lnt&tbs=cdr%3A1%2Ccd_min%3A11%2F10%2F2022%2Ccd_max%3A11%2F10%2F2022&tbm=nws\n",
      "https://www.google.com/search?q=Nasdaq&sca_esv=556524961&tbas=0&tbs=cdr:1,cd_min:11/10/2022,cd_max:11/10/2022&tbm=nws&ei=yb_ZZKPbKNLWhwPlx5KwBQ&start=10&sa=N&ved=2ahUKEwjj48u1uduAAxVS62EKHeWjBFYQ8NMDegQIAxAO&biw=800&bih=600&dpr=1\n",
      "https://www.google.com/search?q=Nasdaq&sca_esv=556524961&tbas=0&tbs=cdr:1,cd_min:11/10/2022,cd_max:11/10/2022&tbm=nws&ei=yr_ZZNasL5PM1e8Pvom80Ag&start=20&sa=N&ved=2ahUKEwjWuY-2uduAAxUTZvUHHb4ED4o4ChDw0wN6BAgDEA8&biw=800&bih=600&dpr=1\n",
      "크롤링 준비\n"
     ]
    },
    {
     "name": "stderr",
     "output_type": "stream",
     "text": [
      "\n",
      "\n",
      "preprocessing day:  32%|████████████████████▎                                          | 10/31 [01:45<03:35, 10.26s/it]\u001b[A\u001b[A"
     ]
    },
    {
     "name": "stdout",
     "output_type": "stream",
     "text": [
      "다음날짜로 선택시작\n",
      "다음 날짜 선택 후 크롤링 준비\n",
      "https://www.google.com/search?q=Nasdaq&sca_esv=556524961&tbas=0&biw=800&bih=600&source=lnt&tbs=cdr%3A1%2Ccd_min%3A11%2F11%2F2022%2Ccd_max%3A11%2F11%2F2022&tbm=nws\n",
      "https://www.google.com/search?q=Nasdaq&sca_esv=556524961&tbas=0&tbs=cdr:1,cd_min:11/11/2022,cd_max:11/11/2022&tbm=nws&ei=07_ZZPW0JI2goASj95zIAQ&start=10&sa=N&ved=2ahUKEwi16qm6uduAAxUNEIgKHaM7BxkQ8NMDegQIAxAI&biw=800&bih=600&dpr=1\n",
      "https://www.google.com/search?q=Nasdaq&sca_esv=556524961&tbas=0&tbs=cdr:1,cd_min:11/11/2022,cd_max:11/11/2022&tbm=nws&ei=1L_ZZOrVKMHi-AbG75PACg&start=20&sa=N&ved=2ahUKEwjqj-u6uduAAxVBMd4KHcb3BKg4ChDw0wN6BAgDEAk&biw=800&bih=600&dpr=1\n",
      "크롤링 준비\n"
     ]
    },
    {
     "name": "stderr",
     "output_type": "stream",
     "text": [
      "\n",
      "\n",
      "preprocessing day:  35%|██████████████████████▎                                        | 11/31 [01:54<03:23, 10.16s/it]\u001b[A\u001b[A"
     ]
    },
    {
     "name": "stdout",
     "output_type": "stream",
     "text": [
      "다음날짜로 선택시작\n",
      "다음 날짜 선택 후 크롤링 준비\n",
      "https://www.google.com/search?q=Nasdaq&sca_esv=556524961&tbas=0&biw=800&bih=600&source=lnt&tbs=cdr%3A1%2Ccd_min%3A11%2F12%2F2022%2Ccd_max%3A11%2F12%2F2022&tbm=nws\n",
      "https://www.google.com/search?q=Nasdaq&sca_esv=556524961&tbas=0&tbs=cdr:1,cd_min:11/12/2022,cd_max:11/12/2022&tbm=nws&ei=3b_ZZNaaG4P3-QaAj6-oCQ&start=10&sa=N&ved=2ahUKEwiW_YK_uduAAxWDe94KHYDHC5UQ8NMDegQIBBAG&biw=800&bih=600&dpr=1\n",
      "Next button not found. Exiting loop.\n",
      "크롤링 준비\n"
     ]
    },
    {
     "name": "stderr",
     "output_type": "stream",
     "text": [
      "\n",
      "\n",
      "preprocessing day:  39%|████████████████████████▍                                      | 12/31 [02:09<03:37, 11.42s/it]\u001b[A\u001b[A"
     ]
    },
    {
     "name": "stdout",
     "output_type": "stream",
     "text": [
      "다음날짜로 선택시작\n",
      "다음 날짜 선택 후 크롤링 준비\n",
      "https://www.google.com/search?q=Nasdaq&sca_esv=556524961&tbas=0&biw=800&bih=600&source=lnt&tbs=cdr%3A1%2Ccd_min%3A11%2F13%2F2022%2Ccd_max%3A11%2F13%2F2022&tbm=nws\n",
      "https://www.google.com/search?q=Nasdaq&sca_esv=556524961&tbas=0&tbs=cdr:1,cd_min:11/13/2022,cd_max:11/13/2022&tbm=nws&ei=67_ZZITxNOXR1e8PnN2gmAs&start=10&sa=N&ved=2ahUKEwjEkvPFuduAAxXlaPUHHZwuCLMQ8NMDegQIBBAG&biw=800&bih=600&dpr=1\n",
      "Next button not found. Exiting loop.\n",
      "크롤링 준비\n"
     ]
    },
    {
     "name": "stderr",
     "output_type": "stream",
     "text": [
      "\n",
      "\n",
      "preprocessing day:  42%|██████████████████████████▍                                    | 13/31 [02:23<03:38, 12.12s/it]\u001b[A\u001b[A"
     ]
    },
    {
     "name": "stdout",
     "output_type": "stream",
     "text": [
      "다음날짜로 선택시작\n",
      "다음 날짜 선택 후 크롤링 준비\n",
      "https://www.google.com/search?q=Nasdaq&sca_esv=556524961&tbas=0&biw=800&bih=600&source=lnt&tbs=cdr%3A1%2Ccd_min%3A11%2F14%2F2022%2Ccd_max%3A11%2F14%2F2022&tbm=nws\n",
      "https://www.google.com/search?q=Nasdaq&sca_esv=556524961&tbas=0&tbs=cdr:1,cd_min:11/14/2022,cd_max:11/14/2022&tbm=nws&ei=-b_ZZK20J9OMoAS9g5DwAQ&start=10&sa=N&ved=2ahUKEwjtlLzMuduAAxVTBogKHb0BBB4Q8NMDegQIAxAK&biw=800&bih=600&dpr=1\n",
      "https://www.google.com/search?q=Nasdaq&sca_esv=556524961&tbas=0&tbs=cdr:1,cd_min:11/14/2022,cd_max:11/14/2022&tbm=nws&ei=-r_ZZNbGIZmlhwOT8IXACA&start=20&sa=N&ved=2ahUKEwjWq_PMuduAAxWZ0mEKHRN4AYg4ChDw0wN6BAgDEAs&biw=800&bih=600&dpr=1\n",
      "크롤링 준비\n"
     ]
    },
    {
     "name": "stderr",
     "output_type": "stream",
     "text": [
      "\n",
      "\n",
      "preprocessing day:  45%|████████████████████████████▍                                  | 14/31 [02:32<03:14, 11.42s/it]\u001b[A\u001b[A"
     ]
    },
    {
     "name": "stdout",
     "output_type": "stream",
     "text": [
      "다음날짜로 선택시작\n",
      "다음 날짜 선택 후 크롤링 준비\n",
      "https://www.google.com/search?q=Nasdaq&sca_esv=556524961&tbas=0&biw=800&bih=600&source=lnt&tbs=cdr%3A1%2Ccd_min%3A11%2F15%2F2022%2Ccd_max%3A11%2F15%2F2022&tbm=nws\n",
      "https://www.google.com/search?q=Nasdaq&sca_esv=556524961&tbas=0&tbs=cdr:1,cd_min:11/15/2022,cd_max:11/15/2022&tbm=nws&ei=A8DZZJbtEJLY1e8Ph8-UwAU&start=10&sa=N&ved=2ahUKEwjW-ofRuduAAxUSbPUHHYcnBVgQ8NMDegQIBBAI&biw=800&bih=600&dpr=1\n",
      "https://www.google.com/search?q=Nasdaq&sca_esv=556524961&tbas=0&tbs=cdr:1,cd_min:11/15/2022,cd_max:11/15/2022&tbm=nws&ei=BMDZZIq0CoHAoASV67D4BQ&start=20&sa=N&ved=2ahUKEwiKxr7RuduAAxUBIIgKHZU1DF84ChDw0wN6BAgDEAk&biw=800&bih=600&dpr=1\n",
      "크롤링 준비\n"
     ]
    },
    {
     "name": "stderr",
     "output_type": "stream",
     "text": [
      "\n",
      "\n",
      "preprocessing day:  48%|██████████████████████████████▍                                | 15/31 [02:42<02:52, 10.77s/it]\u001b[A\u001b[A"
     ]
    },
    {
     "name": "stdout",
     "output_type": "stream",
     "text": [
      "다음날짜로 선택시작\n",
      "다음 날짜 선택 후 크롤링 준비\n",
      "https://www.google.com/search?q=Nasdaq&sca_esv=556524961&tbas=0&biw=800&bih=600&source=lnt&tbs=cdr%3A1%2Ccd_min%3A11%2F16%2F2022%2Ccd_max%3A11%2F16%2F2022&tbm=nws\n",
      "https://www.google.com/search?q=Nasdaq&sca_esv=556524961&tbas=0&tbs=cdr:1,cd_min:11/16/2022,cd_max:11/16/2022&tbm=nws&ei=DMDZZIqAJPPe1e8PyuOocA&start=10&sa=N&ved=2ahUKEwiKtsDVuduAAxVzb_UHHcoxCg4Q8NMDegQIBBAM&biw=800&bih=600&dpr=1\n",
      "https://www.google.com/search?q=Nasdaq&sca_esv=556524961&tbas=0&tbs=cdr:1,cd_min:11/16/2022,cd_max:11/16/2022&tbm=nws&ei=DcDZZOC1Ec2G-QaTiJioBA&start=20&sa=N&ved=2ahUKEwig8OrVuduAAxVNQ94KHRMEBkU4ChDw0wN6BAgEEA0&biw=800&bih=600&dpr=1\n",
      "크롤링 준비\n"
     ]
    },
    {
     "name": "stderr",
     "output_type": "stream",
     "text": [
      "\n",
      "\n",
      "preprocessing day:  52%|████████████████████████████████▌                              | 16/31 [02:51<02:34, 10.30s/it]\u001b[A\u001b[A"
     ]
    },
    {
     "name": "stdout",
     "output_type": "stream",
     "text": [
      "다음날짜로 선택시작\n",
      "다음 날짜 선택 후 크롤링 준비\n",
      "https://www.google.com/search?q=Nasdaq&sca_esv=556524961&tbas=0&biw=800&bih=600&source=lnt&tbs=cdr%3A1%2Ccd_min%3A11%2F17%2F2022%2Ccd_max%3A11%2F17%2F2022&tbm=nws\n",
      "https://www.google.com/search?q=Nasdaq&sca_esv=556524961&tbas=0&tbs=cdr:1,cd_min:11/17/2022,cd_max:11/17/2022&tbm=nws&ei=FcDZZN6HNJL5wAPyubiIAg&start=10&sa=N&ved=2ahUKEwie5vXZuduAAxWSPHAKHfIcDiEQ8NMDegQIAhAM&biw=800&bih=600&dpr=1\n",
      "https://www.google.com/search?q=Nasdaq&sca_esv=556524961&tbas=0&tbs=cdr:1,cd_min:11/17/2022,cd_max:11/17/2022&tbm=nws&ei=FsDZZPaLMc3X1e8P99-cwAI&start=20&sa=N&ved=2ahUKEwj27q_auduAAxXNa_UHHfcvByg4ChDw0wN6BAgDEA0&biw=800&bih=600&dpr=1\n",
      "크롤링 준비\n"
     ]
    },
    {
     "name": "stderr",
     "output_type": "stream",
     "text": [
      "\n",
      "\n",
      "preprocessing day:  55%|██████████████████████████████████▌                            | 17/31 [03:00<02:21, 10.10s/it]\u001b[A\u001b[A"
     ]
    },
    {
     "name": "stdout",
     "output_type": "stream",
     "text": [
      "다음날짜로 선택시작\n",
      "다음 날짜 선택 후 크롤링 준비\n",
      "https://www.google.com/search?q=Nasdaq&sca_esv=556524961&tbas=0&biw=800&bih=600&source=lnt&tbs=cdr%3A1%2Ccd_min%3A11%2F18%2F2022%2Ccd_max%3A11%2F18%2F2022&tbm=nws\n",
      "https://www.google.com/search?q=Nasdaq&sca_esv=556524961&tbas=0&tbs=cdr:1,cd_min:11/18/2022,cd_max:11/18/2022&tbm=nws&ei=H8DZZMD3HJmH-QaAgorwBA&start=10&sa=N&ved=2ahUKEwiAg8HeuduAAxWZQ94KHQCBAk4Q8NMDegQIAhAK&biw=800&bih=600&dpr=1\n",
      "https://www.google.com/search?q=Nasdaq&sca_esv=556524961&tbas=0&tbs=cdr:1,cd_min:11/18/2022,cd_max:11/18/2022&tbm=nws&ei=IMDZZKuUF8KAmgbY9qrwAg&start=20&sa=N&ved=2ahUKEwirpPjeuduAAxVCgMYKHVi7Ci44ChDw0wN6BAgEEAs&biw=800&bih=600&dpr=1\n",
      "크롤링 준비\n"
     ]
    },
    {
     "name": "stderr",
     "output_type": "stream",
     "text": [
      "\n",
      "\n",
      "preprocessing day:  58%|████████████████████████████████████▌                          | 18/31 [03:10<02:08,  9.90s/it]\u001b[A\u001b[A"
     ]
    },
    {
     "name": "stdout",
     "output_type": "stream",
     "text": [
      "다음날짜로 선택시작\n",
      "다음 날짜 선택 후 크롤링 준비\n",
      "https://www.google.com/search?q=Nasdaq&sca_esv=556524961&tbas=0&biw=800&bih=600&source=lnt&tbs=cdr%3A1%2Ccd_min%3A11%2F19%2F2022%2Ccd_max%3A11%2F19%2F2022&tbm=nws\n",
      "https://www.google.com/search?q=Nasdaq&sca_esv=556524961&tbas=0&tbs=cdr:1,cd_min:11/19/2022,cd_max:11/19/2022&tbm=nws&ei=KMDZZIjxPIq1oASJqqXoBg&start=10&sa=N&ved=2ahUKEwiIpYbjuduAAxWKGogKHQlVCW0Q8NMDegQIAxAG&biw=800&bih=600&dpr=1\n",
      "Next button not found. Exiting loop.\n",
      "크롤링 준비\n"
     ]
    },
    {
     "name": "stderr",
     "output_type": "stream",
     "text": [
      "\n",
      "\n",
      "preprocessing day:  61%|██████████████████████████████████████▌                        | 19/31 [03:24<02:12, 11.06s/it]\u001b[A\u001b[A"
     ]
    },
    {
     "name": "stdout",
     "output_type": "stream",
     "text": [
      "다음날짜로 선택시작\n",
      "다음 날짜 선택 후 크롤링 준비\n",
      "https://www.google.com/search?q=Nasdaq&sca_esv=556524961&tbas=0&biw=800&bih=600&source=lnt&tbs=cdr%3A1%2Ccd_min%3A11%2F20%2F2022%2Ccd_max%3A11%2F20%2F2022&tbm=nws\n",
      "https://www.google.com/search?q=Nasdaq&sca_esv=556524961&tbas=0&tbs=cdr:1,cd_min:11/20/2022,cd_max:11/20/2022&tbm=nws&ei=NsDZZML4JpewoASYmpL4Cw&start=10&sa=N&ved=2ahUKEwjC68bpuduAAxUXGIgKHRiNBL8Q8NMDegQIAxAG&biw=800&bih=600&dpr=1\n",
      "Next button not found. Exiting loop.\n",
      "크롤링 준비\n"
     ]
    },
    {
     "name": "stderr",
     "output_type": "stream",
     "text": [
      "\n",
      "\n",
      "preprocessing day:  65%|████████████████████████████████████████▋                      | 20/31 [03:38<02:11, 11.95s/it]\u001b[A\u001b[A"
     ]
    },
    {
     "name": "stdout",
     "output_type": "stream",
     "text": [
      "다음날짜로 선택시작\n",
      "다음 날짜 선택 후 크롤링 준비\n",
      "https://www.google.com/search?q=Nasdaq&sca_esv=556524961&tbas=0&biw=800&bih=600&source=lnt&tbs=cdr%3A1%2Ccd_min%3A11%2F21%2F2022%2Ccd_max%3A11%2F21%2F2022&tbm=nws\n",
      "https://www.google.com/search?q=Nasdaq&sca_esv=556524961&tbas=0&tbs=cdr:1,cd_min:11/21/2022,cd_max:11/21/2022&tbm=nws&ei=RMDZZOaOKNm1oATE-pyYCA&start=10&sa=N&ved=2ahUKEwjmwJ7wuduAAxXZGogKHUQ9B4MQ8NMDegQIBBAK&biw=800&bih=600&dpr=1\n",
      "https://www.google.com/search?q=Nasdaq&sca_esv=556524961&tbas=0&tbs=cdr:1,cd_min:11/21/2022,cd_max:11/21/2022&tbm=nws&ei=RcDZZPDIGeLq1e8PwuyaoAI&start=20&sa=N&ved=2ahUKEwiw_8zwuduAAxVidfUHHUK2BiQ4ChDw0wN6BAgBEAs&biw=800&bih=600&dpr=1\n",
      "크롤링 준비\n"
     ]
    },
    {
     "name": "stderr",
     "output_type": "stream",
     "text": [
      "\n",
      "\n",
      "preprocessing day:  68%|██████████████████████████████████████████▋                    | 21/31 [03:47<01:52, 11.23s/it]\u001b[A\u001b[A"
     ]
    },
    {
     "name": "stdout",
     "output_type": "stream",
     "text": [
      "다음날짜로 선택시작\n",
      "다음 날짜 선택 후 크롤링 준비\n",
      "https://www.google.com/search?q=Nasdaq&sca_esv=556524961&tbas=0&biw=800&bih=600&source=lnt&tbs=cdr%3A1%2Ccd_min%3A11%2F22%2F2022%2Ccd_max%3A11%2F22%2F2022&tbm=nws\n",
      "https://www.google.com/search?q=Nasdaq&sca_esv=556524961&tbas=0&tbs=cdr:1,cd_min:11/22/2022,cd_max:11/22/2022&tbm=nws&ei=TsDZZJHlDcilhwOom4L4Bg&start=10&sa=N&ved=2ahUKEwiRxOb0uduAAxXI0mEKHaiNAG8Q8NMDegQIBBAI&biw=800&bih=600&dpr=1\n",
      "https://www.google.com/search?q=Nasdaq&sca_esv=556524961&tbas=0&tbs=cdr:1,cd_min:11/22/2022,cd_max:11/22/2022&tbm=nws&ei=T8DZZKqBKM2F-QaT3ZXwAQ&start=20&sa=N&ved=2ahUKEwjq5L31uduAAxXNQt4KHZNuBR44ChDw0wN6BAgDEAk&biw=800&bih=600&dpr=1\n",
      "크롤링 준비\n"
     ]
    },
    {
     "name": "stderr",
     "output_type": "stream",
     "text": [
      "\n",
      "\n",
      "preprocessing day:  71%|████████████████████████████████████████████▋                  | 22/31 [03:57<01:38, 10.90s/it]\u001b[A\u001b[A"
     ]
    },
    {
     "name": "stdout",
     "output_type": "stream",
     "text": [
      "다음날짜로 선택시작\n",
      "다음 날짜 선택 후 크롤링 준비\n",
      "https://www.google.com/search?q=Nasdaq&sca_esv=556524961&tbas=0&biw=800&bih=600&source=lnt&tbs=cdr%3A1%2Ccd_min%3A11%2F23%2F2022%2Ccd_max%3A11%2F23%2F2022&tbm=nws\n",
      "https://www.google.com/search?q=Nasdaq&sca_esv=556524961&tbas=0&tbs=cdr:1,cd_min:11/23/2022,cd_max:11/23/2022&tbm=nws&ei=WMDZZOCWEdiQoASTnIj4BQ&start=10&sa=N&ved=2ahUKEwjgosz5uduAAxVYCIgKHRMOAl8Q8NMDegQIAxAG&biw=800&bih=600&dpr=1\n",
      "Next button not found. Exiting loop.\n",
      "크롤링 준비\n"
     ]
    },
    {
     "name": "stderr",
     "output_type": "stream",
     "text": [
      "\n",
      "\n",
      "preprocessing day:  74%|██████████████████████████████████████████████▋                | 23/31 [04:11<01:34, 11.76s/it]\u001b[A\u001b[A"
     ]
    },
    {
     "name": "stdout",
     "output_type": "stream",
     "text": [
      "다음날짜로 선택시작\n",
      "다음 날짜 선택 후 크롤링 준비\n",
      "https://www.google.com/search?q=Nasdaq&sca_esv=556524961&tbas=0&biw=800&bih=600&source=lnt&tbs=cdr%3A1%2Ccd_min%3A11%2F24%2F2022%2Ccd_max%3A11%2F24%2F2022&tbm=nws\n",
      "https://www.google.com/search?q=Nasdaq&sca_esv=556524961&tbas=0&tbs=cdr:1,cd_min:11/24/2022,cd_max:11/24/2022&tbm=nws&ei=ZsDZZIjvC8Hp1e8PioynyAQ&start=10&sa=N&ved=2ahUKEwiIup2AutuAAxXBdPUHHQrGCUkQ8NMDegQIBBAG&biw=800&bih=600&dpr=1\n",
      "Next button not found. Exiting loop.\n",
      "크롤링 준비\n"
     ]
    },
    {
     "name": "stderr",
     "output_type": "stream",
     "text": [
      "\n",
      "\n",
      "preprocessing day:  77%|████████████████████████████████████████████████▊              | 24/31 [04:25<01:27, 12.43s/it]\u001b[A\u001b[A"
     ]
    },
    {
     "name": "stdout",
     "output_type": "stream",
     "text": [
      "다음날짜로 선택시작\n",
      "다음 날짜 선택 후 크롤링 준비\n",
      "https://www.google.com/search?q=Nasdaq&sca_esv=556524961&tbas=0&biw=800&bih=600&source=lnt&tbs=cdr%3A1%2Ccd_min%3A11%2F25%2F2022%2Ccd_max%3A11%2F25%2F2022&tbm=nws\n",
      "https://www.google.com/search?q=Nasdaq&sca_esv=556524961&tbas=0&tbs=cdr:1,cd_min:11/25/2022,cd_max:11/25/2022&tbm=nws&ei=dMDZZOD5Bpul1e8PyM6P2AE&start=10&sa=N&ved=2ahUKEwjgg--GutuAAxWbUvUHHUjnAxsQ8NMDegQIAhAG&biw=800&bih=600&dpr=1\n",
      "Next button not found. Exiting loop.\n",
      "크롤링 준비\n"
     ]
    },
    {
     "name": "stderr",
     "output_type": "stream",
     "text": [
      "\n",
      "\n",
      "preprocessing day:  81%|██████████████████████████████████████████████████▊            | 25/31 [04:39<01:17, 12.92s/it]\u001b[A\u001b[A"
     ]
    },
    {
     "name": "stdout",
     "output_type": "stream",
     "text": [
      "다음날짜로 선택시작\n",
      "다음 날짜 선택 후 크롤링 준비\n",
      "https://www.google.com/search?q=Nasdaq&sca_esv=556524961&tbas=0&biw=800&bih=600&source=lnt&tbs=cdr%3A1%2Ccd_min%3A11%2F26%2F2022%2Ccd_max%3A11%2F26%2F2022&tbm=nws\n",
      "Next button not found. Exiting loop.\n",
      "크롤링 준비\n"
     ]
    },
    {
     "name": "stderr",
     "output_type": "stream",
     "text": [
      "\n",
      "\n",
      "preprocessing day:  84%|████████████████████████████████████████████████████▊          | 26/31 [04:52<01:04, 12.84s/it]\u001b[A\u001b[A"
     ]
    },
    {
     "name": "stdout",
     "output_type": "stream",
     "text": [
      "다음날짜로 선택시작\n",
      "다음 날짜 선택 후 크롤링 준비\n",
      "https://www.google.com/search?q=Nasdaq&sca_esv=556524961&tbas=0&biw=800&bih=600&source=lnt&tbs=cdr%3A1%2Ccd_min%3A11%2F27%2F2022%2Ccd_max%3A11%2F27%2F2022&tbm=nws\n",
      "Next button not found. Exiting loop.\n",
      "크롤링 준비\n"
     ]
    },
    {
     "name": "stderr",
     "output_type": "stream",
     "text": [
      "\n",
      "\n",
      "preprocessing day:  87%|██████████████████████████████████████████████████████▊        | 27/31 [05:04<00:51, 12.80s/it]\u001b[A\u001b[A"
     ]
    },
    {
     "name": "stdout",
     "output_type": "stream",
     "text": [
      "다음날짜로 선택시작\n",
      "다음 날짜 선택 후 크롤링 준비\n",
      "https://www.google.com/search?q=Nasdaq&sca_esv=556524961&tbas=0&biw=800&bih=600&source=lnt&tbs=cdr%3A1%2Ccd_min%3A11%2F28%2F2022%2Ccd_max%3A11%2F28%2F2022&tbm=nws\n",
      "https://www.google.com/search?q=Nasdaq&sca_esv=556524961&tbas=0&tbs=cdr:1,cd_min:11/28/2022,cd_max:11/28/2022&tbm=nws&ei=m8DZZIeTIsbrwQPk87DwDw&start=10&sa=N&ved=2ahUKEwjHzNaZutuAAxXGdXAKHeQ5DP4Q8NMDegQIAxAI&biw=800&bih=600&dpr=1\n",
      "https://www.google.com/search?q=Nasdaq&sca_esv=556524961&tbas=0&tbs=cdr:1,cd_min:11/28/2022,cd_max:11/28/2022&tbm=nws&ei=nMDZZL7eDZLN1e8Pivi0sAo&start=20&sa=N&ved=2ahUKEwi-nP-ZutuAAxWSZvUHHQo8DaY4ChDw0wN6BAgCEAk&biw=800&bih=600&dpr=1\n",
      "크롤링 준비\n"
     ]
    },
    {
     "name": "stderr",
     "output_type": "stream",
     "text": [
      "\n",
      "\n",
      "preprocessing day:  90%|████████████████████████████████████████████████████████▉      | 28/31 [05:14<00:35, 11.82s/it]\u001b[A\u001b[A"
     ]
    },
    {
     "name": "stdout",
     "output_type": "stream",
     "text": [
      "다음날짜로 선택시작\n",
      "다음 날짜 선택 후 크롤링 준비\n",
      "https://www.google.com/search?q=Nasdaq&sca_esv=556524961&tbas=0&biw=800&bih=600&source=lnt&tbs=cdr%3A1%2Ccd_min%3A11%2F29%2F2022%2Ccd_max%3A11%2F29%2F2022&tbm=nws\n",
      "https://www.google.com/search?q=Nasdaq&sca_esv=556524961&tbas=0&tbs=cdr:1,cd_min:11/29/2022,cd_max:11/29/2022&tbm=nws&ei=pcDZZLi7C5Pa1e8Pr86A2As&start=10&sa=N&ved=2ahUKEwj4oaKeutuAAxUTbfUHHS8nALsQ8NMDegQIAhAI&biw=800&bih=600&dpr=1\n",
      "https://www.google.com/search?q=Nasdaq&sca_esv=556524961&tbas=0&tbs=cdr:1,cd_min:11/29/2022,cd_max:11/29/2022&tbm=nws&ei=pcDZZL3pOp3B1e8PjMOn0A4&start=20&sa=N&ved=2ahUKEwj9z9GeutuAAxWdYPUHHYzhCeo4ChDw0wN6BAgBEAk&biw=800&bih=600&dpr=1\n",
      "크롤링 준비\n"
     ]
    },
    {
     "name": "stderr",
     "output_type": "stream",
     "text": [
      "\n",
      "\n",
      "preprocessing day:  94%|██████████████████████████████████████████████████████████▉    | 29/31 [05:23<00:22, 11.05s/it]\u001b[A\u001b[A"
     ]
    },
    {
     "name": "stdout",
     "output_type": "stream",
     "text": [
      "다음날짜로 선택시작\n",
      "다음 날짜 선택 후 크롤링 준비\n",
      "https://www.google.com/search?q=Nasdaq&sca_esv=556524961&tbas=0&biw=800&bih=600&source=lnt&tbs=cdr%3A1%2Ccd_min%3A11%2F30%2F2022%2Ccd_max%3A11%2F30%2F2022&tbm=nws\n",
      "https://www.google.com/search?q=Nasdaq&sca_esv=556524961&tbas=0&tbs=cdr:1,cd_min:11/30/2022,cd_max:11/30/2022&tbm=nws&ei=rsDZZKL-F4aH-Qas_KjgAw&start=10&sa=N&ved=2ahUKEwiijdSiutuAAxWGQ94KHSw-CjwQ8NMDegQIAxAK&biw=800&bih=600&dpr=1\n",
      "https://www.google.com/search?q=Nasdaq&sca_esv=556524961&tbas=0&tbs=cdr:1,cd_min:11/30/2022,cd_max:11/30/2022&tbm=nws&ei=r8DZZPaeIIu2oAS674egBQ&start=20&sa=N&ved=2ahUKEwi2spmjutuAAxULG4gKHbr3AVQ4ChDw0wN6BAgCEAs&biw=800&bih=600&dpr=1\n",
      "크롤링 준비\n"
     ]
    },
    {
     "name": "stderr",
     "output_type": "stream",
     "text": [
      "\n",
      "\n",
      "preprocessing day:  97%|████████████████████████████████████████████████████████████▉  | 30/31 [05:33<00:10, 10.61s/it]\u001b[A\u001b[A"
     ]
    },
    {
     "name": "stdout",
     "output_type": "stream",
     "text": [
      "다음날짜로 선택시작\n",
      "다음 날짜 선택 후 크롤링 준비\n",
      "https://www.google.com/search?q=Nasdaq&sca_esv=556524961&tbas=0&biw=800&bih=600&source=lnt&tbs=cdr%3A1%2Ccd_min%3A11%2F31%2F2022%2Ccd_max%3A11%2F31%2F2022&tbm=nws\n",
      "https://www.google.com/search?q=Nasdaq&sca_esv=556524961&tbas=0&tbs=cdr:1,cd_min:11/31/2022,cd_max:11/31/2022&tbm=nws&ei=t8DZZP2KM93e1e8PiPGboAI&start=10&sa=N&ved=2ahUKEwi9wpSnutuAAxVdb_UHHYj4BiQQ8NMDegQIARAK&biw=800&bih=600&dpr=1\n",
      "https://www.google.com/search?q=Nasdaq&sca_esv=556524961&tbas=0&tbs=cdr:1,cd_min:11/31/2022,cd_max:11/31/2022&tbm=nws&ei=uMDZZOfpMYDO1e8Pr9essA4&start=20&sa=N&ved=2ahUKEwjnpdCnutuAAxUAZ_UHHa8rC-Y4ChDw0wN6BAgEEAs&biw=800&bih=600&dpr=1\n",
      "크롤링 준비\n"
     ]
    },
    {
     "name": "stderr",
     "output_type": "stream",
     "text": [
      "\n",
      "\n",
      "preprocessing day: 100%|███████████████████████████████████████████████████████████████| 31/31 [05:42<00:00, 11.05s/it]\u001b[A\u001b[A\n",
      "\n",
      "preprocessing month:  92%|█████████████████████████████████████████████████████▏    | 11/12 [1:01:55<05:39, 339.91s/it]\u001b[A"
     ]
    },
    {
     "name": "stdout",
     "output_type": "stream",
     "text": [
      "다음날짜로 선택시작\n"
     ]
    },
    {
     "name": "stderr",
     "output_type": "stream",
     "text": [
      "\n",
      "\n",
      "preprocessing day:   0%|                                                                        | 0/31 [00:00<?, ?it/s]\u001b[A\u001b[A"
     ]
    },
    {
     "name": "stdout",
     "output_type": "stream",
     "text": [
      "다음 날짜 선택 후 크롤링 준비\n",
      "https://www.google.com/search?q=Nasdaq&sca_esv=556524961&tbas=0&biw=800&bih=600&source=lnt&tbs=cdr%3A1%2Ccd_min%3A12%2F1%2F2022%2Ccd_max%3A12%2F1%2F2022&tbm=nws\n",
      "https://www.google.com/search?q=Nasdaq&sca_esv=556524961&tbas=0&tbs=cdr:1,cd_min:12/1/2022,cd_max:12/1/2022&tbm=nws&ei=wcDZZNnjEMrl1e8Pna-2iAY&start=10&sa=N&ved=2ahUKEwiZyNSrutuAAxXKcvUHHZ2XDWEQ8NMDegQIAxAK&biw=800&bih=600&dpr=1\n",
      "https://www.google.com/search?q=Nasdaq&sca_esv=556524961&tbas=0&tbs=cdr:1,cd_min:12/1/2022,cd_max:12/1/2022&tbm=nws&ei=wsDZZOrDCZD6wQPA37WYBQ&start=20&sa=N&ved=2ahUKEwjqrIqsutuAAxUQfXAKHcBvDVM4ChDw0wN6BAgDEAs&biw=800&bih=600&dpr=1\n",
      "크롤링 준비\n"
     ]
    },
    {
     "name": "stderr",
     "output_type": "stream",
     "text": [
      "\n",
      "\n",
      "preprocessing day:   3%|██                                                              | 1/31 [00:09<04:40,  9.35s/it]\u001b[A\u001b[A"
     ]
    },
    {
     "name": "stdout",
     "output_type": "stream",
     "text": [
      "다음날짜로 선택시작\n",
      "다음 날짜 선택 후 크롤링 준비\n",
      "https://www.google.com/search?q=Nasdaq&sca_esv=556524961&tbas=0&biw=800&bih=600&source=lnt&tbs=cdr%3A1%2Ccd_min%3A12%2F2%2F2022%2Ccd_max%3A12%2F2%2F2022&tbm=nws\n",
      "https://www.google.com/search?q=Nasdaq&sca_esv=556524961&tbas=0&tbs=cdr:1,cd_min:12/2/2022,cd_max:12/2/2022&tbm=nws&ei=ysDZZPj8HY-q-QamoYP4BA&start=10&sa=N&ved=2ahUKEwj4iYewutuAAxUPVd4KHabQAE8Q8NMDegQIAxAG&biw=800&bih=600&dpr=1\n",
      "Next button not found. Exiting loop.\n",
      "크롤링 준비\n"
     ]
    },
    {
     "name": "stderr",
     "output_type": "stream",
     "text": [
      "\n",
      "\n",
      "preprocessing day:   6%|████▏                                                           | 2/31 [00:22<05:41, 11.78s/it]\u001b[A\u001b[A"
     ]
    },
    {
     "name": "stdout",
     "output_type": "stream",
     "text": [
      "다음날짜로 선택시작\n",
      "다음 날짜 선택 후 크롤링 준비\n",
      "https://www.google.com/search?q=Nasdaq&sca_esv=556524961&tbas=0&biw=800&bih=600&source=lnt&tbs=cdr%3A1%2Ccd_min%3A12%2F3%2F2022%2Ccd_max%3A12%2F3%2F2022&tbm=nws\n",
      "Next button not found. Exiting loop.\n",
      "크롤링 준비\n"
     ]
    },
    {
     "name": "stderr",
     "output_type": "stream",
     "text": [
      "\n",
      "\n",
      "preprocessing day:  10%|██████▏                                                         | 3/31 [00:35<05:41, 12.18s/it]\u001b[A\u001b[A"
     ]
    },
    {
     "name": "stdout",
     "output_type": "stream",
     "text": [
      "다음날짜로 선택시작\n",
      "다음 날짜 선택 후 크롤링 준비\n",
      "https://www.google.com/search?q=Nasdaq&sca_esv=556524961&tbas=0&biw=800&bih=600&source=lnt&tbs=cdr%3A1%2Ccd_min%3A12%2F4%2F2022%2Ccd_max%3A12%2F4%2F2022&tbm=nws\n",
      "Next button not found. Exiting loop.\n",
      "크롤링 준비\n"
     ]
    },
    {
     "name": "stderr",
     "output_type": "stream",
     "text": [
      "\n",
      "\n",
      "preprocessing day:  13%|████████▎                                                       | 4/31 [00:48<05:35, 12.42s/it]\u001b[A\u001b[A"
     ]
    },
    {
     "name": "stdout",
     "output_type": "stream",
     "text": [
      "다음날짜로 선택시작\n",
      "다음 날짜 선택 후 크롤링 준비\n",
      "https://www.google.com/search?q=Nasdaq&sca_esv=556524961&tbas=0&biw=800&bih=600&source=lnt&tbs=cdr%3A1%2Ccd_min%3A12%2F5%2F2022%2Ccd_max%3A12%2F5%2F2022&tbm=nws\n",
      "https://www.google.com/search?q=Nasdaq&sca_esv=556524961&tbas=0&tbs=cdr:1,cd_min:12/5/2022,cd_max:12/5/2022&tbm=nws&ei=8cDZZN2nJJfn1e8PgMmmuAU&start=10&sa=N&ved=2ahUKEwid5NnCutuAAxWXc_UHHYCkCVcQ8NMDegQIAhAI&biw=800&bih=600&dpr=1\n",
      "https://www.google.com/search?q=Nasdaq&sca_esv=556524961&tbas=0&tbs=cdr:1,cd_min:12/5/2022,cd_max:12/5/2022&tbm=nws&ei=8sDZZKenGp2A1e8P5uyYkAo&start=20&sa=N&ved=2ahUKEwin6IzDutuAAxUdQPUHHWY2BqI4ChDw0wN6BAgEEAk&biw=800&bih=600&dpr=1\n",
      "크롤링 준비\n"
     ]
    },
    {
     "name": "stderr",
     "output_type": "stream",
     "text": [
      "\n",
      "\n",
      "preprocessing day:  16%|██████████▎                                                     | 5/31 [00:58<05:00, 11.54s/it]\u001b[A\u001b[A"
     ]
    },
    {
     "name": "stdout",
     "output_type": "stream",
     "text": [
      "다음날짜로 선택시작\n",
      "다음 날짜 선택 후 크롤링 준비\n",
      "https://www.google.com/search?q=Nasdaq&sca_esv=556524961&tbas=0&biw=800&bih=600&source=lnt&tbs=cdr%3A1%2Ccd_min%3A12%2F6%2F2022%2Ccd_max%3A12%2F6%2F2022&tbm=nws\n",
      "https://www.google.com/search?q=Nasdaq&sca_esv=556524961&tbas=0&tbs=cdr:1,cd_min:12/6/2022,cd_max:12/6/2022&tbm=nws&ei=-8DZZMaqIZDy-QbS7JjYDw&start=10&sa=N&ved=2ahUKEwiGlLnHutuAAxUQed4KHVI2BvsQ8NMDegQIBBAK&biw=800&bih=600&dpr=1\n",
      "https://www.google.com/search?q=Nasdaq&sca_esv=556524961&tbas=0&tbs=cdr:1,cd_min:12/6/2022,cd_max:12/6/2022&tbm=nws&ei=_MDZZMibIZewoASYmpL4Cw&start=20&sa=N&ved=2ahUKEwjIifbHutuAAxUXGIgKHRiNBL84ChDw0wN6BAgDEAs&biw=800&bih=600&dpr=1\n",
      "크롤링 준비\n"
     ]
    },
    {
     "name": "stderr",
     "output_type": "stream",
     "text": [
      "\n",
      "\n",
      "preprocessing day:  19%|████████████▍                                                   | 6/31 [01:07<04:32, 10.88s/it]\u001b[A\u001b[A"
     ]
    },
    {
     "name": "stdout",
     "output_type": "stream",
     "text": [
      "다음날짜로 선택시작\n",
      "다음 날짜 선택 후 크롤링 준비\n",
      "https://www.google.com/search?q=Nasdaq&sca_esv=556524961&tbas=0&biw=800&bih=600&source=lnt&tbs=cdr%3A1%2Ccd_min%3A12%2F7%2F2022%2Ccd_max%3A12%2F7%2F2022&tbm=nws\n",
      "https://www.google.com/search?q=Nasdaq&sca_esv=556524961&tbas=0&tbs=cdr:1,cd_min:12/7/2022,cd_max:12/7/2022&tbm=nws&ei=BcHZZJ-VCdPBhwPprYPIAg&start=10&sa=N&ved=2ahUKEwjfq4PMutuAAxXT4GEKHenWACkQ8NMDegQIAhAI&biw=800&bih=600&dpr=1\n",
      "https://www.google.com/search?q=Nasdaq&sca_esv=556524961&tbas=0&tbs=cdr:1,cd_min:12/7/2022,cd_max:12/7/2022&tbm=nws&ei=BsHZZNboBt3X1e8Pybiq4AY&start=20&sa=N&ved=2ahUKEwjWg77MutuAAxXda_UHHUmcCmw4ChDw0wN6BAgDEAk&biw=800&bih=600&dpr=1\n",
      "크롤링 준비\n"
     ]
    },
    {
     "name": "stderr",
     "output_type": "stream",
     "text": [
      "\n",
      "\n",
      "preprocessing day:  23%|██████████████▍                                                 | 7/31 [01:17<04:11, 10.48s/it]\u001b[A\u001b[A"
     ]
    },
    {
     "name": "stdout",
     "output_type": "stream",
     "text": [
      "다음날짜로 선택시작\n",
      "다음 날짜 선택 후 크롤링 준비\n",
      "https://www.google.com/search?q=Nasdaq&sca_esv=556524961&tbas=0&biw=800&bih=600&source=lnt&tbs=cdr%3A1%2Ccd_min%3A12%2F8%2F2022%2Ccd_max%3A12%2F8%2F2022&tbm=nws\n",
      "https://www.google.com/search?q=Nasdaq&sca_esv=556524961&tbas=0&tbs=cdr:1,cd_min:12/8/2022,cd_max:12/8/2022&tbm=nws&ei=DsHZZNXZKpuphwPO0ojABw&start=10&sa=N&ved=2ahUKEwjVmMrQutuAAxWb1GEKHU4pAngQ8NMDegQIAhAK&biw=800&bih=600&dpr=1\n",
      "https://www.google.com/search?q=Nasdaq&sca_esv=556524961&tbas=0&tbs=cdr:1,cd_min:12/8/2022,cd_max:12/8/2022&tbm=nws&ei=D8HZZJjXJMH5hwOQtp_4AQ&start=20&sa=N&ved=2ahUKEwjYmoHRutuAAxXB_GEKHRDbBx84ChDw0wN6BAgDEAs&biw=800&bih=600&dpr=1\n",
      "크롤링 준비\n"
     ]
    },
    {
     "name": "stderr",
     "output_type": "stream",
     "text": [
      "\n",
      "\n",
      "preprocessing day:  26%|████████████████▌                                               | 8/31 [01:27<03:54, 10.19s/it]\u001b[A\u001b[A"
     ]
    },
    {
     "name": "stdout",
     "output_type": "stream",
     "text": [
      "다음날짜로 선택시작\n",
      "다음 날짜 선택 후 크롤링 준비\n",
      "https://www.google.com/search?q=Nasdaq&sca_esv=556524961&tbas=0&biw=800&bih=600&source=lnt&tbs=cdr%3A1%2Ccd_min%3A12%2F9%2F2022%2Ccd_max%3A12%2F9%2F2022&tbm=nws\n",
      "https://www.google.com/search?q=Nasdaq&sca_esv=556524961&tbas=0&tbs=cdr:1,cd_min:12/9/2022,cd_max:12/9/2022&tbm=nws&ei=GMHZZOjXEdPq1e8PsO614A8&start=10&sa=N&ved=2ahUKEwjow5PVutuAAxVTdfUHHTB3DfwQ8NMDegQIBBAK&biw=800&bih=600&dpr=1\n",
      "https://www.google.com/search?q=Nasdaq&sca_esv=556524961&tbas=0&tbs=cdr:1,cd_min:12/9/2022,cd_max:12/9/2022&tbm=nws&ei=GcHZZK3BCtrFhwPYla2QCA&start=20&sa=N&ved=2ahUKEwjtscnVutuAAxXa4mEKHdhKC4I4ChDw0wN6BAgDEAs&biw=800&bih=600&dpr=1\n",
      "크롤링 준비\n"
     ]
    },
    {
     "name": "stderr",
     "output_type": "stream",
     "text": [
      "\n",
      "\n",
      "preprocessing day:  29%|██████████████████▌                                             | 9/31 [01:36<03:38,  9.92s/it]\u001b[A\u001b[A"
     ]
    },
    {
     "name": "stdout",
     "output_type": "stream",
     "text": [
      "다음날짜로 선택시작\n",
      "다음 날짜 선택 후 크롤링 준비\n",
      "https://www.google.com/search?q=Nasdaq&sca_esv=556524961&tbas=0&biw=800&bih=600&source=lnt&tbs=cdr%3A1%2Ccd_min%3A12%2F10%2F2022%2Ccd_max%3A12%2F10%2F2022&tbm=nws\n",
      "Next button not found. Exiting loop.\n",
      "크롤링 준비\n"
     ]
    },
    {
     "name": "stderr",
     "output_type": "stream",
     "text": [
      "\n",
      "\n",
      "preprocessing day:  32%|████████████████████▎                                          | 10/31 [01:49<03:49, 10.93s/it]\u001b[A\u001b[A"
     ]
    },
    {
     "name": "stdout",
     "output_type": "stream",
     "text": [
      "다음날짜로 선택시작\n",
      "다음 날짜 선택 후 크롤링 준비\n",
      "https://www.google.com/search?q=Nasdaq&sca_esv=556524961&tbas=0&biw=800&bih=600&source=lnt&tbs=cdr%3A1%2Ccd_min%3A12%2F11%2F2022%2Ccd_max%3A12%2F11%2F2022&tbm=nws\n",
      "Next button not found. Exiting loop.\n",
      "크롤링 준비\n"
     ]
    },
    {
     "name": "stderr",
     "output_type": "stream",
     "text": [
      "\n",
      "\n",
      "preprocessing day:  35%|██████████████████████▎                                        | 11/31 [02:02<03:52, 11.64s/it]\u001b[A\u001b[A"
     ]
    },
    {
     "name": "stdout",
     "output_type": "stream",
     "text": [
      "다음날짜로 선택시작\n",
      "다음 날짜 선택 후 크롤링 준비\n",
      "https://www.google.com/search?q=Nasdaq&sca_esv=556524961&tbas=0&biw=800&bih=600&source=lnt&tbs=cdr%3A1%2Ccd_min%3A12%2F12%2F2022%2Ccd_max%3A12%2F12%2F2022&tbm=nws\n",
      "https://www.google.com/search?q=Nasdaq&sca_esv=556524961&tbas=0&tbs=cdr:1,cd_min:12/12/2022,cd_max:12/12/2022&tbm=nws&ei=PMHZZMPhBPvk1e8PobKA8A4&start=10&sa=N&ved=2ahUKEwjD75vmutuAAxV7cvUHHSEZAO4Q8NMDegQIAhAI&biw=800&bih=600&dpr=1\n",
      "https://www.google.com/search?q=Nasdaq&sca_esv=556524961&tbas=0&tbs=cdr:1,cd_min:12/12/2022,cd_max:12/12/2022&tbm=nws&ei=PMHZZPf1MtryhwPC4bfwBg&start=20&sa=N&ved=2ahUKEwj3g8rmutuAAxVa-WEKHcLwDW44ChDw0wN6BAgDEAk&biw=800&bih=600&dpr=1\n",
      "크롤링 준비\n"
     ]
    },
    {
     "name": "stderr",
     "output_type": "stream",
     "text": [
      "\n",
      "\n",
      "preprocessing day:  39%|████████████████████████▍                                      | 12/31 [02:11<03:26, 10.86s/it]\u001b[A\u001b[A"
     ]
    },
    {
     "name": "stdout",
     "output_type": "stream",
     "text": [
      "다음날짜로 선택시작\n",
      "다음 날짜 선택 후 크롤링 준비\n",
      "https://www.google.com/search?q=Nasdaq&sca_esv=556524961&tbas=0&biw=800&bih=600&source=lnt&tbs=cdr%3A1%2Ccd_min%3A12%2F13%2F2022%2Ccd_max%3A12%2F13%2F2022&tbm=nws\n",
      "https://www.google.com/search?q=Nasdaq&sca_esv=556524961&tbas=0&tbs=cdr:1,cd_min:12/13/2022,cd_max:12/13/2022&tbm=nws&ei=RcHZZIijDp7i1e8Pn96xwAY&start=10&sa=N&ved=2ahUKEwjI2crqutuAAxUecfUHHR9vDGgQ8NMDegQIAhAI&biw=800&bih=600&dpr=1\n",
      "https://www.google.com/search?q=Nasdaq&sca_esv=556524961&tbas=0&tbs=cdr:1,cd_min:12/13/2022,cd_max:12/13/2022&tbm=nws&ei=RcHZZOafOpKF-QaC6q7IAQ&start=20&sa=N&ved=2ahUKEwim1vbqutuAAxWSQt4KHQK1Cxk4ChDw0wN6BAgDEAk&biw=800&bih=600&dpr=1\n",
      "크롤링 준비\n"
     ]
    },
    {
     "name": "stderr",
     "output_type": "stream",
     "text": [
      "\n",
      "\n",
      "preprocessing day:  42%|██████████████████████████▍                                    | 13/31 [02:22<03:11, 10.62s/it]\u001b[A\u001b[A"
     ]
    },
    {
     "name": "stdout",
     "output_type": "stream",
     "text": [
      "다음날짜로 선택시작\n",
      "다음 날짜 선택 후 크롤링 준비\n",
      "https://www.google.com/search?q=Nasdaq&sca_esv=556524961&tbas=0&biw=800&bih=600&source=lnt&tbs=cdr%3A1%2Ccd_min%3A12%2F14%2F2022%2Ccd_max%3A12%2F14%2F2022&tbm=nws\n",
      "https://www.google.com/search?q=Nasdaq&sca_esv=556524961&tbas=0&tbs=cdr:1,cd_min:12/14/2022,cd_max:12/14/2022&tbm=nws&ei=T8HZZN6tD4Ln1e8Pzfqq8Ak&start=10&sa=N&ved=2ahUKEwieka7vutuAAxWCc_UHHU29Cp4Q8NMDegQIAxAI&biw=800&bih=600&dpr=1\n",
      "https://www.google.com/search?q=Nasdaq&sca_esv=556524961&tbas=0&tbs=cdr:1,cd_min:12/14/2022,cd_max:12/14/2022&tbm=nws&ei=UMHZZKniB4qK-Qag0pmICQ&start=20&sa=N&ved=2ahUKEwipyuPvutuAAxUKRd4KHSBpBpE4ChDw0wN6BAgEEAk&biw=800&bih=600&dpr=1\n",
      "크롤링 준비\n"
     ]
    },
    {
     "name": "stderr",
     "output_type": "stream",
     "text": [
      "\n",
      "\n",
      "preprocessing day:  45%|████████████████████████████▍                                  | 14/31 [02:31<02:54, 10.29s/it]\u001b[A\u001b[A"
     ]
    },
    {
     "name": "stdout",
     "output_type": "stream",
     "text": [
      "다음날짜로 선택시작\n",
      "다음 날짜 선택 후 크롤링 준비\n",
      "https://www.google.com/search?q=Nasdaq&sca_esv=556524961&tbas=0&biw=800&bih=600&source=lnt&tbs=cdr%3A1%2Ccd_min%3A12%2F15%2F2022%2Ccd_max%3A12%2F15%2F2022&tbm=nws\n",
      "https://www.google.com/search?q=Nasdaq&sca_esv=556524961&tbas=0&tbs=cdr:1,cd_min:12/15/2022,cd_max:12/15/2022&tbm=nws&ei=WMHZZLn6LcSgwAPOtZCoBg&start=10&sa=N&ved=2ahUKEwi5hvLzutuAAxVEEHAKHc4aBGUQ8NMDegQIAhAM&biw=800&bih=600&dpr=1\n",
      "https://www.google.com/search?q=Nasdaq&sca_esv=556524961&tbas=0&tbs=cdr:1,cd_min:12/15/2022,cd_max:12/15/2022&tbm=nws&ei=WcHZZIPfHdiPoATzirf4CQ&start=20&sa=N&ved=2ahUKEwjD7570utuAAxXYB4gKHXPFDZ84ChDw0wN6BAgCEA0&biw=800&bih=600&dpr=1\n",
      "크롤링 준비\n"
     ]
    },
    {
     "name": "stderr",
     "output_type": "stream",
     "text": [
      "\n",
      "\n",
      "preprocessing day:  48%|██████████████████████████████▍                                | 15/31 [02:40<02:39, 10.00s/it]\u001b[A\u001b[A"
     ]
    },
    {
     "name": "stdout",
     "output_type": "stream",
     "text": [
      "다음날짜로 선택시작\n",
      "다음 날짜 선택 후 크롤링 준비\n",
      "https://www.google.com/search?q=Nasdaq&sca_esv=556524961&tbas=0&biw=800&bih=600&source=lnt&tbs=cdr%3A1%2Ccd_min%3A12%2F16%2F2022%2Ccd_max%3A12%2F16%2F2022&tbm=nws\n",
      "https://www.google.com/search?q=Nasdaq&sca_esv=556524961&tbas=0&tbs=cdr:1,cd_min:12/16/2022,cd_max:12/16/2022&tbm=nws&ei=YsHZZIOiAtKq-QbD9bX4Bg&start=10&sa=N&ved=2ahUKEwiD26j4utuAAxVSVd4KHcN6DW8Q8NMDegQIAhAK&biw=800&bih=600&dpr=1\n",
      "https://www.google.com/search?q=Nasdaq&sca_esv=556524961&tbas=0&tbs=cdr:1,cd_min:12/16/2022,cd_max:12/16/2022&tbm=nws&ei=YsHZZOrAMNe-hwPH6pXwAQ&start=20&sa=N&ved=2ahUKEwjq-db4utuAAxVX32EKHUd1BR44ChDw0wN6BAgCEAs&biw=800&bih=600&dpr=1\n",
      "크롤링 준비\n"
     ]
    },
    {
     "name": "stderr",
     "output_type": "stream",
     "text": [
      "\n",
      "\n",
      "preprocessing day:  52%|████████████████████████████████▌                              | 16/31 [02:50<02:27,  9.82s/it]\u001b[A\u001b[A"
     ]
    },
    {
     "name": "stdout",
     "output_type": "stream",
     "text": [
      "다음날짜로 선택시작\n",
      "다음 날짜 선택 후 크롤링 준비\n",
      "https://www.google.com/search?q=Nasdaq&sca_esv=556524961&tbas=0&biw=800&bih=600&source=lnt&tbs=cdr%3A1%2Ccd_min%3A12%2F17%2F2022%2Ccd_max%3A12%2F17%2F2022&tbm=nws\n",
      "Next button not found. Exiting loop.\n",
      "크롤링 준비\n"
     ]
    },
    {
     "name": "stderr",
     "output_type": "stream",
     "text": [
      "\n",
      "\n",
      "preprocessing day:  55%|██████████████████████████████████▌                            | 17/31 [03:03<02:29, 10.71s/it]\u001b[A\u001b[A"
     ]
    },
    {
     "name": "stdout",
     "output_type": "stream",
     "text": [
      "다음날짜로 선택시작\n",
      "다음 날짜 선택 후 크롤링 준비\n",
      "https://www.google.com/search?q=Nasdaq&sca_esv=556524961&tbas=0&biw=800&bih=600&source=lnt&tbs=cdr%3A1%2Ccd_min%3A12%2F18%2F2022%2Ccd_max%3A12%2F18%2F2022&tbm=nws\n",
      "Next button not found. Exiting loop.\n",
      "크롤링 준비\n"
     ]
    },
    {
     "name": "stderr",
     "output_type": "stream",
     "text": [
      "\n",
      "\n",
      "preprocessing day:  58%|████████████████████████████████████▌                          | 18/31 [03:16<02:28, 11.42s/it]\u001b[A\u001b[A"
     ]
    },
    {
     "name": "stdout",
     "output_type": "stream",
     "text": [
      "다음날짜로 선택시작\n",
      "다음 날짜 선택 후 크롤링 준비\n",
      "https://www.google.com/search?q=Nasdaq&sca_esv=556524961&tbas=0&biw=800&bih=600&source=lnt&tbs=cdr%3A1%2Ccd_min%3A12%2F19%2F2022%2Ccd_max%3A12%2F19%2F2022&tbm=nws\n",
      "https://www.google.com/search?q=Nasdaq&sca_esv=556524961&tbas=0&tbs=cdr:1,cd_min:12/19/2022,cd_max:12/19/2022&tbm=nws&ei=hcHZZP-4Fs2ohwO7yYqQCQ&start=10&sa=N&ved=2ahUKEwi_j5WJu9uAAxVN1GEKHbukApIQ8NMDegQIBBAI&biw=800&bih=600&dpr=1\n",
      "https://www.google.com/search?q=Nasdaq&sca_esv=556524961&tbas=0&tbs=cdr:1,cd_min:12/19/2022,cd_max:12/19/2022&tbm=nws&ei=hsHZZNjtDJjQ1e8PlvmW6AM&start=20&sa=N&ved=2ahUKEwjYyMiJu9uAAxUYaPUHHZa8BT04ChDw0wN6BAgCEAk&biw=800&bih=600&dpr=1\n",
      "크롤링 준비\n"
     ]
    },
    {
     "name": "stderr",
     "output_type": "stream",
     "text": [
      "\n",
      "\n",
      "preprocessing day:  61%|██████████████████████████████████████▌                        | 19/31 [03:25<02:10, 10.91s/it]\u001b[A\u001b[A"
     ]
    },
    {
     "name": "stdout",
     "output_type": "stream",
     "text": [
      "다음날짜로 선택시작\n",
      "다음 날짜 선택 후 크롤링 준비\n",
      "https://www.google.com/search?q=Nasdaq&sca_esv=556524961&tbas=0&biw=800&bih=600&source=lnt&tbs=cdr%3A1%2Ccd_min%3A12%2F20%2F2022%2Ccd_max%3A12%2F20%2F2022&tbm=nws\n",
      "https://www.google.com/search?q=Nasdaq&sca_esv=556524961&tbas=0&tbs=cdr:1,cd_min:12/20/2022,cd_max:12/20/2022&tbm=nws&ei=j8HZZKWSAfXm1e8PhbuD8AY&start=10&sa=N&ved=2ahUKEwjlleKNu9uAAxV1c_UHHYXdAG4Q8NMDegQIAxAI&biw=800&bih=600&dpr=1\n",
      "https://www.google.com/search?q=Nasdaq&sca_esv=556524961&tbas=0&tbs=cdr:1,cd_min:12/20/2022,cd_max:12/20/2022&tbm=nws&ei=kMHZZIu_Co3i-AaKk4ngCQ&start=20&sa=N&ved=2ahUKEwiLx6iOu9uAAxUNMd4KHYpJApw4ChDw0wN6BAgCEAk&biw=800&bih=600&dpr=1\n",
      "크롤링 준비\n"
     ]
    },
    {
     "name": "stderr",
     "output_type": "stream",
     "text": [
      "\n",
      "\n",
      "preprocessing day:  65%|████████████████████████████████████████▋                      | 20/31 [03:35<01:56, 10.61s/it]\u001b[A\u001b[A"
     ]
    },
    {
     "name": "stdout",
     "output_type": "stream",
     "text": [
      "다음날짜로 선택시작\n",
      "다음 날짜 선택 후 크롤링 준비\n",
      "https://www.google.com/search?q=Nasdaq&sca_esv=556524961&tbas=0&biw=800&bih=600&source=lnt&tbs=cdr%3A1%2Ccd_min%3A12%2F21%2F2022%2Ccd_max%3A12%2F21%2F2022&tbm=nws\n",
      "https://www.google.com/search?q=Nasdaq&sca_esv=556524961&tbas=0&tbs=cdr:1,cd_min:12/21/2022,cd_max:12/21/2022&tbm=nws&ei=mMHZZJ62N5i9wAPf8ZKACw&start=10&sa=N&ved=2ahUKEwie4r2Su9uAAxWYHnAKHd-4BLAQ8NMDegQIAxAI&biw=800&bih=600&dpr=1\n",
      "https://www.google.com/search?q=Nasdaq&sca_esv=556524961&tbas=0&tbs=cdr:1,cd_min:12/21/2022,cd_max:12/21/2022&tbm=nws&ei=mcHZZODhLsTS1e8PhLymwAs&start=20&sa=N&ved=2ahUKEwigkvKSu9uAAxVEafUHHQSeCbg4ChDw0wN6BAgDEAk&biw=800&bih=600&dpr=1\n",
      "크롤링 준비\n"
     ]
    },
    {
     "name": "stderr",
     "output_type": "stream",
     "text": [
      "\n",
      "\n",
      "preprocessing day:  68%|██████████████████████████████████████████▋                    | 21/31 [03:45<01:42, 10.23s/it]\u001b[A\u001b[A"
     ]
    },
    {
     "name": "stdout",
     "output_type": "stream",
     "text": [
      "다음날짜로 선택시작\n",
      "다음 날짜 선택 후 크롤링 준비\n",
      "https://www.google.com/search?q=Nasdaq&sca_esv=556524961&tbas=0&biw=800&bih=600&source=lnt&tbs=cdr%3A1%2Ccd_min%3A12%2F22%2F2022%2Ccd_max%3A12%2F22%2F2022&tbm=nws\n",
      "https://www.google.com/search?q=Nasdaq&sca_esv=556524961&tbas=0&tbs=cdr:1,cd_min:12/22/2022,cd_max:12/22/2022&tbm=nws&ei=osHZZNfiDNW0oAS8oaB4&start=10&sa=N&ved=2ahUKEwjXu_WWu9uAAxVVGogKHbwQCA8Q8NMDegQIAhAI&biw=800&bih=600&dpr=1\n",
      "https://www.google.com/search?q=Nasdaq&sca_esv=556524961&tbas=0&tbs=cdr:1,cd_min:12/22/2022,cd_max:12/22/2022&tbm=nws&ei=o8HZZOzrEIyj1e8Phv6jiAo&start=20&sa=N&ved=2ahUKEwisybaXu9uAAxWMUfUHHQb_CKE4ChDw0wN6BAgCEAk&biw=800&bih=600&dpr=1\n",
      "크롤링 준비\n"
     ]
    },
    {
     "name": "stderr",
     "output_type": "stream",
     "text": [
      "\n",
      "\n",
      "preprocessing day:  71%|████████████████████████████████████████████▋                  | 22/31 [03:54<01:31, 10.11s/it]\u001b[A\u001b[A"
     ]
    },
    {
     "name": "stdout",
     "output_type": "stream",
     "text": [
      "다음날짜로 선택시작\n",
      "다음 날짜 선택 후 크롤링 준비\n",
      "https://www.google.com/search?q=Nasdaq&sca_esv=556524961&tbas=0&biw=800&bih=600&source=lnt&tbs=cdr%3A1%2Ccd_min%3A12%2F23%2F2022%2Ccd_max%3A12%2F23%2F2022&tbm=nws\n",
      "https://www.google.com/search?q=Nasdaq&sca_esv=556524961&tbas=0&tbs=cdr:1,cd_min:12/23/2022,cd_max:12/23/2022&tbm=nws&ei=rMHZZJ2XC5jh-Abi4p7ACQ&start=10&sa=N&ved=2ahUKEwidndabu9uAAxWYMN4KHWKxB5gQ8NMDegQIAxAI&biw=800&bih=600&dpr=1\n",
      "https://www.google.com/search?q=Nasdaq&sca_esv=556524961&tbas=0&tbs=cdr:1,cd_min:12/23/2022,cd_max:12/23/2022&tbm=nws&ei=rMHZZNTzN4HV1e8P6O-28AU&start=20&sa=N&ved=2ahUKEwjU-YKcu9uAAxWBavUHHei3DV44ChDw0wN6BAgDEAk&biw=800&bih=600&dpr=1\n",
      "크롤링 준비\n"
     ]
    },
    {
     "name": "stderr",
     "output_type": "stream",
     "text": [
      "\n",
      "\n",
      "preprocessing day:  74%|██████████████████████████████████████████████▋                | 23/31 [04:04<01:19,  9.88s/it]\u001b[A\u001b[A"
     ]
    },
    {
     "name": "stdout",
     "output_type": "stream",
     "text": [
      "다음날짜로 선택시작\n",
      "다음 날짜 선택 후 크롤링 준비\n",
      "https://www.google.com/search?q=Nasdaq&sca_esv=556524961&tbas=0&biw=800&bih=600&source=lnt&tbs=cdr%3A1%2Ccd_min%3A12%2F24%2F2022%2Ccd_max%3A12%2F24%2F2022&tbm=nws\n",
      "Next button not found. Exiting loop.\n",
      "크롤링 준비\n"
     ]
    },
    {
     "name": "stderr",
     "output_type": "stream",
     "text": [
      "\n",
      "\n",
      "preprocessing day:  77%|████████████████████████████████████████████████▊              | 24/31 [04:17<01:15, 10.78s/it]\u001b[A\u001b[A"
     ]
    },
    {
     "name": "stdout",
     "output_type": "stream",
     "text": [
      "다음날짜로 선택시작\n",
      "다음 날짜 선택 후 크롤링 준비\n",
      "https://www.google.com/search?q=Nasdaq&sca_esv=556524961&tbas=0&biw=800&bih=600&source=lnt&tbs=cdr%3A1%2Ccd_min%3A12%2F25%2F2022%2Ccd_max%3A12%2F25%2F2022&tbm=nws\n",
      "Next button not found. Exiting loop.\n",
      "크롤링 준비\n"
     ]
    },
    {
     "name": "stderr",
     "output_type": "stream",
     "text": [
      "\n",
      "\n",
      "preprocessing day:  81%|██████████████████████████████████████████████████▊            | 25/31 [04:29<01:08, 11.39s/it]\u001b[A\u001b[A"
     ]
    },
    {
     "name": "stdout",
     "output_type": "stream",
     "text": [
      "다음날짜로 선택시작\n",
      "다음 날짜 선택 후 크롤링 준비\n",
      "https://www.google.com/search?q=Nasdaq&sca_esv=556524961&tbas=0&biw=800&bih=600&source=lnt&tbs=cdr%3A1%2Ccd_min%3A12%2F26%2F2022%2Ccd_max%3A12%2F26%2F2022&tbm=nws\n",
      "https://www.google.com/search?q=Nasdaq&sca_esv=556524961&tbas=0&tbs=cdr:1,cd_min:12/26/2022,cd_max:12/26/2022&tbm=nws&ei=z8HZZK7WCJLq-AaL-pmIDQ&start=10&sa=N&ved=2ahUKEwju-ausu9uAAxUSNd4KHQt9BtEQ8NMDegQIBBAG&biw=800&bih=600&dpr=1\n",
      "Next button not found. Exiting loop.\n",
      "크롤링 준비\n"
     ]
    },
    {
     "name": "stderr",
     "output_type": "stream",
     "text": [
      "\n",
      "\n",
      "preprocessing day:  84%|████████████████████████████████████████████████████▊          | 26/31 [04:43<01:00, 12.14s/it]\u001b[A\u001b[A"
     ]
    },
    {
     "name": "stdout",
     "output_type": "stream",
     "text": [
      "다음날짜로 선택시작\n",
      "다음 날짜 선택 후 크롤링 준비\n",
      "https://www.google.com/search?q=Nasdaq&sca_esv=556524961&tbas=0&biw=800&bih=600&source=lnt&tbs=cdr%3A1%2Ccd_min%3A12%2F27%2F2022%2Ccd_max%3A12%2F27%2F2022&tbm=nws\n",
      "https://www.google.com/search?q=Nasdaq&sca_esv=556524961&tbas=0&tbs=cdr:1,cd_min:12/27/2022,cd_max:12/27/2022&tbm=nws&ei=3cHZZKcpw8KgBO-Kq5AK&start=10&sa=N&ved=2ahUKEwjni_qyu9uAAxVDIYgKHW_FCqIQ8NMDegQIBBAI&biw=800&bih=600&dpr=1\n",
      "https://www.google.com/search?q=Nasdaq&sca_esv=556524961&tbas=0&tbs=cdr:1,cd_min:12/27/2022,cd_max:12/27/2022&tbm=nws&ei=3cHZZMmSMoDO1e8Pr9essA4&start=20&sa=N&ved=2ahUKEwiJ9auzu9uAAxUAZ_UHHa8rC-Y4ChDw0wN6BAgEEAk&biw=800&bih=600&dpr=1\n",
      "크롤링 준비\n"
     ]
    },
    {
     "name": "stderr",
     "output_type": "stream",
     "text": [
      "\n",
      "\n",
      "preprocessing day:  87%|██████████████████████████████████████████████████████▊        | 27/31 [04:53<00:45, 11.44s/it]\u001b[A\u001b[A"
     ]
    },
    {
     "name": "stdout",
     "output_type": "stream",
     "text": [
      "다음날짜로 선택시작\n",
      "다음 날짜 선택 후 크롤링 준비\n",
      "https://www.google.com/search?q=Nasdaq&sca_esv=556524961&tbas=0&biw=800&bih=600&source=lnt&tbs=cdr%3A1%2Ccd_min%3A12%2F28%2F2022%2Ccd_max%3A12%2F28%2F2022&tbm=nws\n",
      "https://www.google.com/search?q=Nasdaq&sca_esv=556524961&tbas=0&tbs=cdr:1,cd_min:12/28/2022,cd_max:12/28/2022&tbm=nws&ei=5sHZZJ3UOYTT1e8Pg-21IA&start=10&sa=N&ved=2ahUKEwid39i3u9uAAxWEafUHHYN2DQQQ8NMDegQIARAK&biw=800&bih=600&dpr=1\n",
      "https://www.google.com/search?q=Nasdaq&sca_esv=556524961&tbas=0&tbs=cdr:1,cd_min:12/28/2022,cd_max:12/28/2022&tbm=nws&ei=58HZZP2FLs-iwAORpIXAAQ&start=20&sa=N&ved=2ahUKEwi9lYq4u9uAAxVPEXAKHRFSARg4ChDw0wN6BAgDEAs&biw=800&bih=600&dpr=1\n",
      "크롤링 준비\n"
     ]
    },
    {
     "name": "stderr",
     "output_type": "stream",
     "text": [
      "\n",
      "\n",
      "preprocessing day:  90%|████████████████████████████████████████████████████████▉      | 28/31 [05:03<00:32, 10.93s/it]\u001b[A\u001b[A"
     ]
    },
    {
     "name": "stdout",
     "output_type": "stream",
     "text": [
      "다음날짜로 선택시작\n",
      "다음 날짜 선택 후 크롤링 준비\n",
      "https://www.google.com/search?q=Nasdaq&sca_esv=556524961&tbas=0&biw=800&bih=600&source=lnt&tbs=cdr%3A1%2Ccd_min%3A12%2F29%2F2022%2Ccd_max%3A12%2F29%2F2022&tbm=nws\n",
      "https://www.google.com/search?q=Nasdaq&sca_esv=556524961&tbas=0&tbs=cdr:1,cd_min:12/29/2022,cd_max:12/29/2022&tbm=nws&ei=8MHZZI_MKdCq-QbY8rrgBQ&start=10&sa=N&ved=2ahUKEwiPhKu8u9uAAxVQVd4KHVi5DlwQ8NMDegQIBBAI&biw=800&bih=600&dpr=1\n",
      "https://www.google.com/search?q=Nasdaq&sca_esv=556524961&tbas=0&tbs=cdr:1,cd_min:12/29/2022,cd_max:12/29/2022&tbm=nws&ei=8cHZZK3IIY7r-AaE-oLwBA&start=20&sa=N&ved=2ahUKEwjthOC8u9uAAxWONd4KHQS9AE44ChDw0wN6BAgDEAk&biw=800&bih=600&dpr=1\n",
      "크롤링 준비\n"
     ]
    },
    {
     "name": "stderr",
     "output_type": "stream",
     "text": [
      "\n",
      "\n",
      "preprocessing day:  94%|██████████████████████████████████████████████████████████▉    | 29/31 [05:13<00:21, 10.62s/it]\u001b[A\u001b[A"
     ]
    },
    {
     "name": "stdout",
     "output_type": "stream",
     "text": [
      "다음날짜로 선택시작\n",
      "다음 날짜 선택 후 크롤링 준비\n",
      "https://www.google.com/search?q=Nasdaq&sca_esv=556524961&tbas=0&biw=800&bih=600&source=lnt&tbs=cdr%3A1%2Ccd_min%3A12%2F30%2F2022%2Ccd_max%3A12%2F30%2F2022&tbm=nws\n",
      "https://www.google.com/search?q=Nasdaq&sca_esv=556524961&tbas=0&tbs=cdr:1,cd_min:12/30/2022,cd_max:12/30/2022&tbm=nws&ei=-sHZZOjcGYfh-Abir7iQBg&start=10&sa=N&ved=2ahUKEwjowf3Au9uAAxWHMN4KHeIXDmIQ8NMDegQIAxAI&biw=800&bih=600&dpr=1\n",
      "https://www.google.com/search?q=Nasdaq&sca_esv=556524961&tbas=0&tbs=cdr:1,cd_min:12/30/2022,cd_max:12/30/2022&tbm=nws&ei=-8HZZOXvG4_t-AazpZj4BA&start=20&sa=N&ved=2ahUKEwil2bzBu9uAAxWPNt4KHbMSBk84ChDw0wN6BAgCEAk&biw=800&bih=600&dpr=1\n",
      "크롤링 준비\n"
     ]
    },
    {
     "name": "stderr",
     "output_type": "stream",
     "text": [
      "\n",
      "\n",
      "preprocessing day:  97%|████████████████████████████████████████████████████████████▉  | 30/31 [05:22<00:10, 10.29s/it]\u001b[A\u001b[A"
     ]
    },
    {
     "name": "stdout",
     "output_type": "stream",
     "text": [
      "다음날짜로 선택시작\n",
      "다음 날짜 선택 후 크롤링 준비\n",
      "https://www.google.com/search?q=Nasdaq&sca_esv=556524961&tbas=0&biw=800&bih=600&source=lnt&tbs=cdr%3A1%2Ccd_min%3A12%2F31%2F2022%2Ccd_max%3A12%2F31%2F2022&tbm=nws\n",
      "https://www.google.com/search?q=Nasdaq&sca_esv=556524961&tbas=0&tbs=cdr:1,cd_min:12/31/2022,cd_max:12/31/2022&tbm=nws&ei=BMLZZMGoAtrR1e8Pr8Wo-Ao&start=10&sa=N&ved=2ahUKEwjBusjFu9uAAxXaaPUHHa8iCq8Q8NMDegQIAhAG&biw=800&bih=600&dpr=1\n",
      "Next button not found. Exiting loop.\n",
      "크롤링 준비\n"
     ]
    },
    {
     "name": "stderr",
     "output_type": "stream",
     "text": [
      "\n",
      "\n",
      "preprocessing day: 100%|███████████████████████████████████████████████████████████████| 31/31 [05:36<00:00, 10.86s/it]\u001b[A\u001b[A\n",
      "\n",
      "preprocessing month: 100%|██████████████████████████████████████████████████████████| 12/12 [1:07:32<00:00, 337.71s/it]\u001b[A\n",
      "preprocessing year: 100%|████████████████████████████████████████████████████████████| 1/1 [1:07:32<00:00, 4052.53s/it]"
     ]
    },
    {
     "name": "stdout",
     "output_type": "stream",
     "text": [
      "다음날짜로 선택시작\n"
     ]
    },
    {
     "name": "stderr",
     "output_type": "stream",
     "text": [
      "\n"
     ]
    }
   ],
   "source": [
    "#크롤링을 시작해볼까요~\n",
    "from selenium import webdriver\n",
    "from selenium.webdriver.common.keys import Keys\n",
    "\n",
    "driver = webdriver.Chrome(options=options)                 # 크롬 드라이버 객체 생성\n",
    "\n",
    "#코스피 경제로 검색\n",
    "driver.get('https://www.google.com/search?sca_esv=556524961&sxsrf=AB5stBgpJwBxK5OF21289mfRrybowxgTZQ:1691931220832&q=Nasdaq&tbm=nws&source=lnms&sa=X&ved=2ahUKEwi_qZv71tmAAxVumVYBHaqbD-sQ0pQJegQIDBAB&biw=1536&bih=715&dpr=1.25')\n",
    "\n",
    "print(\"- 접속한 웹 사이트의 제목:\", driver.title) # 접속한 URL의 제목 출력\n",
    "\n",
    "# 도구 클릭.\n",
    "driver.implicitly_wait(5)\n",
    "elem_tool = driver.find_element(By.XPATH,'//*[@id=\"hdtb-tls\"]')\n",
    "driver.execute_script(\"arguments[0].click();\", elem_tool)\n",
    "time.sleep(1)\n",
    "# # 최근항목 클릭.\n",
    "elem_recent = driver.find_element(By.XPATH,'//*[@id=\"tn_1\"]/span[2]/g-popup/div[1]/div/div')\n",
    "driver.execute_script(\"arguments[0].click();\", elem_recent)\n",
    "\n",
    "# # 기간설정 클릭.\n",
    "elem_input = driver.find_element(By.XPATH,'//*[@id=\"lb\"]/div/g-menu/g-menu-item[8]/div/div/span').click()\n",
    "\n",
    "\n",
    "naver_news_link = []\n",
    "#for 문으로 원하는 범위 설정하기\n",
    "#너무 많이 하면 오래걸리고 중간에 네트워크가 불안정하면 끊길 수 있어요!\n",
    "for year in tqdm(range(2022,2023),desc='preprocessing year'):\n",
    "    for month in tqdm(range(1,13),desc='preprocessing month'):\n",
    "        for day in tqdm(range(1,32),desc='preprocessing day'):\n",
    "            try:\n",
    "                res = select_date_naver_news(year=year,month=month,day=day)\n",
    "            except Exception as e: #오류 발생시 일단 넘어가고 왜 오류인지 출력해주기\n",
    "                print(f\"An error occurred while crawling for {year}-{month}-{day}: {e}\")"
   ]
  },
  {
   "cell_type": "code",
   "execution_count": 60,
   "metadata": {
    "colab": {
     "base_uri": "https://localhost:8080/"
    },
    "id": "-0ITJLRtwgXK",
    "outputId": "4b2cb552-788a-474c-e35d-ab98ed0dfa87"
   },
   "outputs": [
    {
     "data": {
      "text/plain": [
       "[[\"If You're an Emotional Investor, Here's What You Need to Do\",\n",
       "  'Is It Too Late to Buy Shopify Stock?',\n",
       "  'Up 49000000% in 2021: Is Shiba Inu Still a Buy?',\n",
       "  'Investing in This ETF Right Now Could Make You a Millionaire ...',\n",
       "  '4 Top Streaming Stocks To Watch In 2022',\n",
       "  \"69% of Homeowners Feel 'House Poor.' Did You Buy Too ...\",\n",
       "  'El Salvador President Nayib Bukele Predicts Two More ...',\n",
       "  \"Dillard's leads state index's '21 surge\",\n",
       "  \"If You'd Invested $1000 in Shopify in 2015, This Is How Much ...\",\n",
       "  'The 5 Best Marijuana Stocks to Buy in 2022',\n",
       "  'What History Says About 2022 Stock Market Performance During US Midterm \\nElection Cycle',\n",
       "  'Netflix Looks Well-Equipped for Transition Into the Metaverse',\n",
       "  'Ο ελληνικός δείκτης που «κατατρόπωσε» S&P 500 και Nasdaq',\n",
       "  '22 Top Dividend Stocks to Buy and Hold in 2022',\n",
       "  'AKINSOFT Borsa İstanbul’da AKINROBOTICS ise Nasdaq Borsasında Halka Arz \\nEdecek',\n",
       "  '2021 Review and Outlook for 2022',\n",
       "  'What Will Drive the Stock Market in 2022?',\n",
       "  'Is $3 Trillion Just the Beginning for Apple?',\n",
       "  'Magic mushroom companies are on the Nasdaq now. That’s a recipe for a bad \\ntrip',\n",
       "  'UCASU Announces NASDAQ or NYSE uplisting in 2022',\n",
       "  'Got $1000? 2 Growth Stocks to Buy in 2022 and Hold Forever',\n",
       "  'Nasdaq Dorsey Wright Year End Review and What to Watch ...',\n",
       "  'Options Straddles Vs. Options Strangles: What You Need to ...',\n",
       "  'Alector Reports Inducement Grants as permitted by the ...',\n",
       "  'What Kind Of Shareholders Hold The Majority In Golar LNG ...',\n",
       "  'Dominion Energy Completes Sale of Questar Pipelines',\n",
       "  'Dave Inc. to Make Nasdaq Debut in January',\n",
       "  'Can Shiba Inu Hit $0.01 in 2022?',\n",
       "  'Nancy Pelosi Buys Google, Disney, Roblox & Other Tech Stocks',\n",
       "  'Is Bath & Body Works (BBWI) a Suitable Value Investor Pick?',\n",
       "  'CNH Industrial Completes Demerger with Iveco Group ...',\n",
       "  'Southwestern Energy Closes GEP Haynesville Buyout',\n",
       "  'What Investors Miss About Tesla Energy',\n",
       "  'Is Vanguard Windsor-II Investor (VWNFX) a Strong Mutual ...',\n",
       "  'Flora Stock: Ready To Grow Like A Weed (NASDAQ:FLGC)',\n",
       "  'Dow ends at record high as rising yields hit tech-heavy Nasdaq in choppy \\ntrade',\n",
       "  'LIVE MARKETS Nasdaq Composite: Healthier gut',\n",
       "  'Should You Invest in the Vanguard Financials ETF (VFH)?',\n",
       "  'Stock Market News for Jan 4, 2022',\n",
       "  'Apple (AAPL) Hits $3T Milestone, Must Buy on Strong Prospects',\n",
       "  'Atmosphere Replaces Muzak With Viral Videos, Nears $1 ...',\n",
       "  'Meet the 2022 Dogs of the Dow',\n",
       "  \"Jim Cramer's 2022 outlook for the worst-performing Nasdaq 100 stocks in 2021\",\n",
       "  'Only Scale Opposite the Trend',\n",
       "  'Could Shiba Inu be a Multibagger in 2022?',\n",
       "  '애플, 세계 최초 나스닥 시총 3조달러 장중 돌파…국가 GDP 8위 ...',\n",
       "  'Blackbaud Acquires EVERFI in Cash-Stock Deal Worth $750M',\n",
       "  'What Does Bitcoin Mean for Block?',\n",
       "  \"Philippines' stock exchange suspends trading due to technical ...\",\n",
       "  'Grab had a bumpy month after going public on the Nasdaq. What’s next?',\n",
       "  'Leveraged Homebuilder ETF Up Almost 150% the Past Year',\n",
       "  'GDI Integrated Facility Services Buys IH Services',\n",
       "  'Algonquin Closes Acquisition of New York American Water',\n",
       "  'Is Quad/Graphics (NYSE:QUAD) Using Too Much Debt?',\n",
       "  '1 Growth Stock That Could 10X in 2022',\n",
       "  \"Nasdaq posts biggest daily drop since Feb after 'hawkish' Fed ...\",\n",
       "  'Stock Market News for Jan 5, 2022',\n",
       "  'LIVE MARKETS 2022 Nasdaq Composite: Year of the ...',\n",
       "  'Stock market today: Nasdaq futures fall on rate-hike expectations',\n",
       "  'BTCS First-ever Nasdaq-listed Company to Offer a Dividend ...',\n",
       "  'Warner Music Falls as Access Industries Sells 1.6% Stake',\n",
       "  'Henry Schein Names Ronald South CFO, Succeeding Steven ...',\n",
       "  'Should You Invest in the Fidelity MSCI Information Technology ...',\n",
       "  'Energy, Real Estate and Financials Headed Stock Market ...',\n",
       "  'If You Invested $10000 in Airbnb at Its IPO, This Is How Much ...',\n",
       "  'AppTech stock plunges 80% after reverse stock split, public ...',\n",
       "  'Why Lockheed Martin Underperformed in 2021',\n",
       "  'GRAINS-Soybeans near even after overnight consolidation',\n",
       "  \"Bosnia's HE Dabar seals deal with China's Exim bank for 160 ...\",\n",
       "  'First Citizens (FCNCA) Closes Merger Agreement With CIT ...',\n",
       "  '3 Reasons to Sell AMD in 2022',\n",
       "  'What Is The Ownership Structure Like For Houghton Mifflin ...',\n",
       "  'Driven Brands Acquires Auto Glass Now, Expands US Presence',\n",
       "  'How to Calculate the Fair Value of a Stock',\n",
       "  'Calculating The Intrinsic Value Of PepsiCo, Inc. (NASDAQ:PEP)',\n",
       "  \"The Nasdaq Bounced. The Dow Dropped—Again. It's More Fallout From the Fed.\",\n",
       "  'Richard Branson is recovering from Covid, may not ring bell at Nasdaq \\ntomorrow | Mint',\n",
       "  'LIVE MARKETS Fed minutes: European tech tracks Nasdaq ...',\n",
       "  'Number of Nasdaq Stocks Down 50% or More Is Almost at a ...',\n",
       "  'Jobless Claims 207K, Up Slightly from Pandemic Lows',\n",
       "  'LA Fintech Dave Goes Public on the Nasdaq After Sealing ...',\n",
       "  'A Record Pace for SPACs in 2021',\n",
       "  'Why Allakos Stock Plummeted 87.5% in the Last Month of 2021',\n",
       "  'Data analytics firm Qlik confidentially files for U.S. IPO',\n",
       "  'U.S. budget airline Avelo raises $42 million in new funding',\n",
       "  'After Rising 65% in 2021, Is Alphabet Stock a Buy for 2022?',\n",
       "  'You Need to Know the Bear Case for Upstart Right Now',\n",
       "  '3 Top Steel Stocks To Watch Today',\n",
       "  \"GM's BrightDrop Secures Commercial EV Orders from ...\",\n",
       "  'Co-Ops: The Grandparent of DAOs',\n",
       "  'Jim Cramer says tech stocks could bottom one day after ...',\n",
       "  \"Singapore's first SPACs set to list in city-state this month ...\",\n",
       "  'E-mini NASDAQ-100 Index (NQ) Futures Technical Analysis – Holding 15766.50 \\nCould Trigger Late Session Rally',\n",
       "  'Stock market news live updates: Stocks close lower for second straight \\nsession as rate hike worries persist',\n",
       "  'How Investors Can Factor Negative Cash Flow Into Valuations',\n",
       "  \"If You're an Emotional Investor, Here's What You Need to Do\",\n",
       "  'Is It Too Late to Buy Shopify Stock?',\n",
       "  'Up 49000000% in 2021: Is Shiba Inu Still a Buy?',\n",
       "  'Investing in This ETF Right Now Could Make You a Millionaire ...',\n",
       "  '4 Top Streaming Stocks To Watch In 2022',\n",
       "  \"69% of Homeowners Feel 'House Poor.' Did You Buy Too ...\",\n",
       "  'El Salvador President Nayib Bukele Predicts Two More ...',\n",
       "  \"If You'd Invested $1000 in Shopify in 2015, This Is How Much ...\",\n",
       "  'The 5 Best Marijuana Stocks to Buy in 2022',\n",
       "  'What History Says About 2022 Stock Market Performance During US Midterm \\nElection Cycle',\n",
       "  'Netflix Looks Well-Equipped for Transition Into the Metaverse',\n",
       "  'Ο ελληνικός δείκτης που «κατατρόπωσε» S&P 500 και Nasdaq',\n",
       "  '22 Top Dividend Stocks to Buy and Hold in 2022',\n",
       "  'AKINSOFT Borsa İstanbul’da AKINROBOTICS ise Nasdaq Borsasında Halka Arz \\nEdecek',\n",
       "  '2021 Review and Outlook for 2022',\n",
       "  'What Will Drive the Stock Market in 2022?',\n",
       "  'Is $3 Trillion Just the Beginning for Apple?',\n",
       "  'Magic mushroom companies are on the Nasdaq now. That’s a recipe for a bad \\ntrip',\n",
       "  'UCASU Announces NASDAQ or NYSE uplisting in 2022',\n",
       "  'Got $1000? 2 Growth Stocks to Buy in 2022 and Hold Forever',\n",
       "  'Nasdaq Dorsey Wright Year End Review and What to Watch ...',\n",
       "  'Options Straddles Vs. Options Strangles: What You Need to ...',\n",
       "  'Brazil posts 2021 record trade surplus of $61 billion -Economy ...',\n",
       "  'Alector Reports Inducement Grants as permitted by the ...',\n",
       "  'What Kind Of Shareholders Hold The Majority In Golar LNG ...',\n",
       "  'Dominion Energy Completes Sale of Questar Pipelines',\n",
       "  'Dave Inc. to Make Nasdaq Debut in January',\n",
       "  'Can Shiba Inu Hit $0.01 in 2022?',\n",
       "  'Nancy Pelosi Buys Google, Disney, Roblox & Other Tech Stocks',\n",
       "  'Is Bath & Body Works (BBWI) a Suitable Value Investor Pick?',\n",
       "  'CNH Industrial Completes Demerger with Iveco Group ...',\n",
       "  'Southwestern Energy Closes GEP Haynesville Buyout',\n",
       "  'What Investors Miss About Tesla Energy',\n",
       "  'Is Vanguard Windsor-II Investor (VWNFX) a Strong Mutual ...',\n",
       "  'Dow ends at record high as rising yields hit tech-heavy Nasdaq in choppy \\ntrade',\n",
       "  'LIVE MARKETS Nasdaq Composite: Healthier gut',\n",
       "  'Should You Invest in the Vanguard Financials ETF (VFH)?',\n",
       "  'Stock Market News for Jan 4, 2022',\n",
       "  'Apple (AAPL) Hits $3T Milestone, Must Buy on Strong Prospects',\n",
       "  'Atmosphere Replaces Muzak With Viral Videos, Nears $1 ...',\n",
       "  'Meet the 2022 Dogs of the Dow',\n",
       "  \"Jim Cramer's 2022 outlook for the worst-performing Nasdaq 100 stocks in 2021\",\n",
       "  'Only Scale Opposite the Trend',\n",
       "  'Could Shiba Inu be a Multibagger in 2022?',\n",
       "  'Best Monthly Dividend Stocks To Buy Now? 5 For Your List',\n",
       "  '애플, 세계 최초 나스닥 시총 3조달러 장중 돌파…국가 GDP 8위 ...',\n",
       "  'Blackbaud Acquires EVERFI in Cash-Stock Deal Worth $750M',\n",
       "  'What Does Bitcoin Mean for Block?',\n",
       "  \"Philippines' stock exchange suspends trading due to technical ...\",\n",
       "  'Grab had a bumpy month after going public on the Nasdaq. What’s next?',\n",
       "  'Leveraged Homebuilder ETF Up Almost 150% the Past Year',\n",
       "  'Algonquin Closes Acquisition of New York American Water',\n",
       "  'GDI Integrated Facility Services Buys IH Services',\n",
       "  'Is Quad/Graphics (NYSE:QUAD) Using Too Much Debt?',\n",
       "  \"Nasdaq posts biggest daily drop since Feb after 'hawkish' Fed ...\",\n",
       "  'LIVE MARKETS 2022 Nasdaq Composite: Year of the ...',\n",
       "  'Stock Market News for Jan 5, 2022',\n",
       "  'Stock market today: Nasdaq futures fall on rate-hike expectations',\n",
       "  'Warner Music Falls as Access Industries Sells 1.6% Stake',\n",
       "  'BTCS First-ever Nasdaq-listed Company to Offer a Dividend ...',\n",
       "  'Henry Schein Names Ronald South CFO, Succeeding Steven ...',\n",
       "  'Should You Invest in the Fidelity MSCI Information Technology ...',\n",
       "  'Energy, Real Estate and Financials Headed Stock Market ...',\n",
       "  'If You Invested $10000 in Airbnb at Its IPO, This Is How Much ...',\n",
       "  'AppTech stock plunges 80% after reverse stock split, public ...',\n",
       "  'Why Lockheed Martin Underperformed in 2021',\n",
       "  'GRAINS-Soybeans near even after overnight consolidation',\n",
       "  \"Bosnia's HE Dabar seals deal with China's Exim bank for 160 ...\",\n",
       "  'First Citizens (FCNCA) Closes Merger Agreement With CIT ...',\n",
       "  '3 Reasons to Sell AMD in 2022',\n",
       "  'How to Calculate the Fair Value of a Stock',\n",
       "  'What Is The Ownership Structure Like For Houghton Mifflin ...',\n",
       "  'Driven Brands Acquires Auto Glass Now, Expands US Presence',\n",
       "  'Calculating The Intrinsic Value Of PepsiCo, Inc. (NASDAQ:PEP)',\n",
       "  \"The Nasdaq Bounced. The Dow Dropped—Again. It's More Fallout From the Fed.\",\n",
       "  'LIVE MARKETS Fed minutes: European tech tracks Nasdaq ...',\n",
       "  'Number of Nasdaq Stocks Down 50% or More Is Almost at a ...',\n",
       "  'Jobless Claims 207K, Up Slightly from Pandemic Lows',\n",
       "  'LA Fintech Dave Goes Public on the Nasdaq After Sealing ...',\n",
       "  'A Record Pace for SPACs in 2021',\n",
       "  'Why Allakos Stock Plummeted 87.5% in the Last Month of 2021',\n",
       "  '3 Top Steel Stocks To Watch Today',\n",
       "  'U.S. budget airline Avelo raises $42 million in new funding',\n",
       "  'You Need to Know the Bear Case for Upstart Right Now',\n",
       "  \"GM's BrightDrop Secures Commercial EV Orders from ...\",\n",
       "  'Jim Cramer says tech stocks could bottom one day after ...',\n",
       "  \"Singapore's first SPACs set to list in city-state this month ...\",\n",
       "  'E-mini NASDAQ-100 Index (NQ) Futures Technical Analysis – Holding 15766.50 \\nCould Trigger Late Session Rally',\n",
       "  'Stock market news live updates: Stocks close lower for second straight \\nsession as rate hike worries persist',\n",
       "  'How Investors Can Factor Negative Cash Flow Into Valuations',\n",
       "  'Why IBM Stock Gained 6.2% in 2021',\n",
       "  'Seed Capital: What Is It and Why Does It Matter?',\n",
       "  'Profit From the Tech Sell-Off With These Inverse ETFs',\n",
       "  'The Executive VP & Chief Technology Officer of Intuit Inc ...',\n",
       "  'Wall St posts declines for first week of 2022; Nasdaq has worst ...',\n",
       "  'Stock Market News for Jan 7, 2022',\n",
       "  \"Wahed Launches Nasdaq's First Shariah-Compliant ESG ETF ...\",\n",
       "  'Green Team Spotlight: Teemu Mörsky on How Nasdaq Is ...',\n",
       "  'US STOCKS-Futures edge higher ahead of nonfarm payrolls ...',\n",
       "  'NOVONIX Commences Process for Nasdaq Listing',\n",
       "  'Santoli: As tech sector tanks, watch the Nasdaq 100 for this ...',\n",
       "  'Bit Brother Ltd. Received Nasdaq Notification Letter ...',\n",
       "  'The Nasdaq is quietly being shredded: new data',\n",
       "  'Monthly Market Wrap: December 2021',\n",
       "  'How Much Of eXp World Holdings, Inc. (NASDAQ:EXPI) Do ...',\n",
       "  'Falling Earnings Estimates May Push The NASDAQ Down 10 ...',\n",
       "  'Diversity or Discrimination? Amicus Brief Argues Against ...',\n",
       "  'Luokung Announces Receipt of Nasdaq Notification ...',\n",
       "  'Goldman (GS) Eyes Latin America Expansion With More Hirings',\n",
       "  'Value ETFs Gain After December Jobs Data',\n",
       "  'Willis Towers Watson announces Nasdaq ticker symbol ...',\n",
       "  'E-mini NASDAQ-100 Index (NQ) Futures Technical Analysis – Testing Major \\nSupport at 15567.25 – 15284.00',\n",
       "  '3 Stocks That Can Turn $100000 Into $1 Million by 2030',\n",
       "  \"If You're an Emotional Investor, Here's What You Need to Do\",\n",
       "  'Is It Too Late to Buy Shopify Stock?',\n",
       "  'Up 49000000% in 2021: Is Shiba Inu Still a Buy?',\n",
       "  'Investing in This ETF Right Now Could Make You a Millionaire ...',\n",
       "  '4 Top Streaming Stocks To Watch In 2022',\n",
       "  \"69% of Homeowners Feel 'House Poor.' Did You Buy Too ...\",\n",
       "  'El Salvador President Nayib Bukele Predicts Two More ...',\n",
       "  \"Dillard's leads state index's '21 surge\",\n",
       "  \"If You'd Invested $1000 in Shopify in 2015, This Is How Much ...\",\n",
       "  'The 5 Best Marijuana Stocks to Buy in 2022',\n",
       "  'What History Says About 2022 Stock Market Performance During US Midterm \\nElection Cycle',\n",
       "  'Netflix Looks Well-Equipped for Transition Into the Metaverse',\n",
       "  'Ο ελληνικός δείκτης που «κατατρόπωσε» S&P 500 και Nasdaq',\n",
       "  '22 Top Dividend Stocks to Buy and Hold in 2022',\n",
       "  'AKINSOFT Borsa İstanbul’da AKINROBOTICS ise Nasdaq Borsasında Halka Arz \\nEdecek',\n",
       "  '2021 Review and Outlook for 2022',\n",
       "  'What Will Drive the Stock Market in 2022?',\n",
       "  'Is $3 Trillion Just the Beginning for Apple?',\n",
       "  'Magic mushroom companies are on the Nasdaq now. That’s a recipe for a bad \\ntrip',\n",
       "  'UCASU Announces NASDAQ or NYSE uplisting in 2022',\n",
       "  'Got $1000? 2 Growth Stocks to Buy in 2022 and Hold Forever',\n",
       "  'Nasdaq Dorsey Wright Year End Review and What to Watch ...',\n",
       "  'Options Straddles Vs. Options Strangles: What You Need to ...',\n",
       "  'Alector Reports Inducement Grants as permitted by the ...',\n",
       "  'What Kind Of Shareholders Hold The Majority In Golar LNG ...',\n",
       "  'Dominion Energy Completes Sale of Questar Pipelines',\n",
       "  'Dave Inc. to Make Nasdaq Debut in January',\n",
       "  'Can Shiba Inu Hit $0.01 in 2022?',\n",
       "  'Nancy Pelosi Buys Google, Disney, Roblox & Other Tech Stocks',\n",
       "  'Is Bath & Body Works (BBWI) a Suitable Value Investor Pick?',\n",
       "  'CNH Industrial Completes Demerger with Iveco Group ...',\n",
       "  'Southwestern Energy Closes GEP Haynesville Buyout',\n",
       "  'What Investors Miss About Tesla Energy',\n",
       "  'Is Vanguard Windsor-II Investor (VWNFX) a Strong Mutual ...',\n",
       "  'Flora Stock: Ready To Grow Like A Weed (NASDAQ:FLGC)',\n",
       "  'Dow ends at record high as rising yields hit tech-heavy Nasdaq in choppy \\ntrade',\n",
       "  'LIVE MARKETS Nasdaq Composite: Healthier gut',\n",
       "  'Should You Invest in the Vanguard Financials ETF (VFH)?',\n",
       "  'Stock Market News for Jan 4, 2022',\n",
       "  'Apple (AAPL) Hits $3T Milestone, Must Buy on Strong Prospects',\n",
       "  'Atmosphere Replaces Muzak With Viral Videos, Nears $1 ...',\n",
       "  'Meet the 2022 Dogs of the Dow',\n",
       "  \"Jim Cramer's 2022 outlook for the worst-performing Nasdaq 100 stocks in 2021\",\n",
       "  'Only Scale Opposite the Trend',\n",
       "  'Could Shiba Inu be a Multibagger in 2022?',\n",
       "  '애플, 세계 최초 나스닥 시총 3조달러 장중 돌파…국가 GDP 8위 ...',\n",
       "  'Blackbaud Acquires EVERFI in Cash-Stock Deal Worth $750M',\n",
       "  'What Does Bitcoin Mean for Block?',\n",
       "  \"Philippines' stock exchange suspends trading due to technical ...\",\n",
       "  'Grab had a bumpy month after going public on the Nasdaq. What’s next?',\n",
       "  'Leveraged Homebuilder ETF Up Almost 150% the Past Year',\n",
       "  'GDI Integrated Facility Services Buys IH Services',\n",
       "  'Algonquin Closes Acquisition of New York American Water',\n",
       "  'Is Quad/Graphics (NYSE:QUAD) Using Too Much Debt?',\n",
       "  '1 Growth Stock That Could 10X in 2022',\n",
       "  \"Nasdaq posts biggest daily drop since Feb after 'hawkish' Fed ...\",\n",
       "  'Stock Market News for Jan 5, 2022',\n",
       "  'LIVE MARKETS 2022 Nasdaq Composite: Year of the ...',\n",
       "  'Stock market today: Nasdaq futures fall on rate-hike expectations',\n",
       "  'BTCS First-ever Nasdaq-listed Company to Offer a Dividend ...',\n",
       "  'Warner Music Falls as Access Industries Sells 1.6% Stake',\n",
       "  'Henry Schein Names Ronald South CFO, Succeeding Steven ...',\n",
       "  'Should You Invest in the Fidelity MSCI Information Technology ...',\n",
       "  'Energy, Real Estate and Financials Headed Stock Market ...',\n",
       "  'If You Invested $10000 in Airbnb at Its IPO, This Is How Much ...',\n",
       "  'AppTech stock plunges 80% after reverse stock split, public ...',\n",
       "  'Why Lockheed Martin Underperformed in 2021',\n",
       "  'GRAINS-Soybeans near even after overnight consolidation',\n",
       "  \"Bosnia's HE Dabar seals deal with China's Exim bank for 160 ...\",\n",
       "  'First Citizens (FCNCA) Closes Merger Agreement With CIT ...',\n",
       "  '3 Reasons to Sell AMD in 2022',\n",
       "  'What Is The Ownership Structure Like For Houghton Mifflin ...',\n",
       "  'Driven Brands Acquires Auto Glass Now, Expands US Presence',\n",
       "  'How to Calculate the Fair Value of a Stock',\n",
       "  'Calculating The Intrinsic Value Of PepsiCo, Inc. (NASDAQ:PEP)',\n",
       "  \"The Nasdaq Bounced. The Dow Dropped—Again. It's More Fallout From the Fed.\",\n",
       "  'Richard Branson is recovering from Covid, may not ring bell at Nasdaq \\ntomorrow | Mint',\n",
       "  'LIVE MARKETS Fed minutes: European tech tracks Nasdaq ...',\n",
       "  'Number of Nasdaq Stocks Down 50% or More Is Almost at a ...',\n",
       "  'Jobless Claims 207K, Up Slightly from Pandemic Lows',\n",
       "  'LA Fintech Dave Goes Public on the Nasdaq After Sealing ...',\n",
       "  'A Record Pace for SPACs in 2021',\n",
       "  'Why Allakos Stock Plummeted 87.5% in the Last Month of 2021',\n",
       "  'Data analytics firm Qlik confidentially files for U.S. IPO',\n",
       "  'U.S. budget airline Avelo raises $42 million in new funding',\n",
       "  'After Rising 65% in 2021, Is Alphabet Stock a Buy for 2022?',\n",
       "  'You Need to Know the Bear Case for Upstart Right Now',\n",
       "  '3 Top Steel Stocks To Watch Today',\n",
       "  \"GM's BrightDrop Secures Commercial EV Orders from ...\",\n",
       "  'Co-Ops: The Grandparent of DAOs',\n",
       "  'Jim Cramer says tech stocks could bottom one day after ...',\n",
       "  \"Singapore's first SPACs set to list in city-state this month ...\",\n",
       "  'E-mini NASDAQ-100 Index (NQ) Futures Technical Analysis – Holding 15766.50 \\nCould Trigger Late Session Rally',\n",
       "  'Stock market news live updates: Stocks close lower for second straight \\nsession as rate hike worries persist',\n",
       "  'How Investors Can Factor Negative Cash Flow Into Valuations',\n",
       "  \"If You're an Emotional Investor, Here's What You Need to Do\",\n",
       "  'Is It Too Late to Buy Shopify Stock?',\n",
       "  'Up 49000000% in 2021: Is Shiba Inu Still a Buy?',\n",
       "  'Investing in This ETF Right Now Could Make You a Millionaire ...',\n",
       "  '4 Top Streaming Stocks To Watch In 2022',\n",
       "  \"69% of Homeowners Feel 'House Poor.' Did You Buy Too ...\",\n",
       "  'El Salvador President Nayib Bukele Predicts Two More ...',\n",
       "  \"If You'd Invested $1000 in Shopify in 2015, This Is How Much ...\",\n",
       "  'The 5 Best Marijuana Stocks to Buy in 2022',\n",
       "  'What History Says About 2022 Stock Market Performance During US Midterm \\nElection Cycle',\n",
       "  'Netflix Looks Well-Equipped for Transition Into the Metaverse',\n",
       "  'Ο ελληνικός δείκτης που «κατατρόπωσε» S&P 500 και Nasdaq',\n",
       "  '22 Top Dividend Stocks to Buy and Hold in 2022',\n",
       "  'AKINSOFT Borsa İstanbul’da AKINROBOTICS ise Nasdaq Borsasında Halka Arz \\nEdecek',\n",
       "  \"If You're an Emotional Investor, Here's What You Need to Do\",\n",
       "  'Is It Too Late to Buy Shopify Stock?',\n",
       "  'Up 49000000% in 2021: Is Shiba Inu Still a Buy?',\n",
       "  'Investing in This ETF Right Now Could Make You a Millionaire ...',\n",
       "  '4 Top Streaming Stocks To Watch In 2022',\n",
       "  \"69% of Homeowners Feel 'House Poor.' Did You Buy Too ...\",\n",
       "  'El Salvador President Nayib Bukele Predicts Two More ...',\n",
       "  \"If You'd Invested $1000 in Shopify in 2015, This Is How Much ...\",\n",
       "  'The 5 Best Marijuana Stocks to Buy in 2022',\n",
       "  'What History Says About 2022 Stock Market Performance During US Midterm \\nElection Cycle',\n",
       "  'Netflix Looks Well-Equipped for Transition Into the Metaverse',\n",
       "  'Ο ελληνικός δείκτης που «κατατρόπωσε» S&P 500 και Nasdaq',\n",
       "  '22 Top Dividend Stocks to Buy and Hold in 2022',\n",
       "  'AKINSOFT Borsa İstanbul’da AKINROBOTICS ise Nasdaq Borsasında Halka Arz \\nEdecek',\n",
       "  '2021 Review and Outlook for 2022',\n",
       "  'What Will Drive the Stock Market in 2022?',\n",
       "  'Is $3 Trillion Just the Beginning for Apple?',\n",
       "  'Magic mushroom companies are on the Nasdaq now. That’s a recipe for a bad \\ntrip',\n",
       "  'UCASU Announces NASDAQ or NYSE uplisting in 2022',\n",
       "  'Got $1000? 2 Growth Stocks to Buy in 2022 and Hold Forever',\n",
       "  'Nasdaq Dorsey Wright Year End Review and What to Watch ...',\n",
       "  'Options Straddles Vs. Options Strangles: What You Need to ...',\n",
       "  'Brazil posts 2021 record trade surplus of $61 billion -Economy ...',\n",
       "  'Alector Reports Inducement Grants as permitted by the ...',\n",
       "  'What Kind Of Shareholders Hold The Majority In Golar LNG ...',\n",
       "  'Dominion Energy Completes Sale of Questar Pipelines',\n",
       "  'Dave Inc. to Make Nasdaq Debut in January',\n",
       "  'Can Shiba Inu Hit $0.01 in 2022?',\n",
       "  'Nancy Pelosi Buys Google, Disney, Roblox & Other Tech Stocks',\n",
       "  'Is Bath & Body Works (BBWI) a Suitable Value Investor Pick?',\n",
       "  'CNH Industrial Completes Demerger with Iveco Group ...',\n",
       "  'Southwestern Energy Closes GEP Haynesville Buyout',\n",
       "  'What Investors Miss About Tesla Energy',\n",
       "  'Is Vanguard Windsor-II Investor (VWNFX) a Strong Mutual ...',\n",
       "  'Dow ends at record high as rising yields hit tech-heavy Nasdaq in choppy \\ntrade',\n",
       "  'LIVE MARKETS Nasdaq Composite: Healthier gut',\n",
       "  'Should You Invest in the Vanguard Financials ETF (VFH)?',\n",
       "  'Stock Market News for Jan 4, 2022',\n",
       "  'Apple (AAPL) Hits $3T Milestone, Must Buy on Strong Prospects',\n",
       "  'Atmosphere Replaces Muzak With Viral Videos, Nears $1 ...',\n",
       "  'Meet the 2022 Dogs of the Dow',\n",
       "  \"Jim Cramer's 2022 outlook for the worst-performing Nasdaq 100 stocks in 2021\",\n",
       "  'Only Scale Opposite the Trend',\n",
       "  'Could Shiba Inu be a Multibagger in 2022?',\n",
       "  'Best Monthly Dividend Stocks To Buy Now? 5 For Your List',\n",
       "  '애플, 세계 최초 나스닥 시총 3조달러 장중 돌파…국가 GDP 8위 ...',\n",
       "  'Blackbaud Acquires EVERFI in Cash-Stock Deal Worth $750M',\n",
       "  'What Does Bitcoin Mean for Block?',\n",
       "  \"Philippines' stock exchange suspends trading due to technical ...\",\n",
       "  'Grab had a bumpy month after going public on the Nasdaq. What’s next?',\n",
       "  'Leveraged Homebuilder ETF Up Almost 150% the Past Year',\n",
       "  'Algonquin Closes Acquisition of New York American Water',\n",
       "  'GDI Integrated Facility Services Buys IH Services',\n",
       "  'Is Quad/Graphics (NYSE:QUAD) Using Too Much Debt?',\n",
       "  \"Nasdaq posts biggest daily drop since Feb after 'hawkish' Fed ...\",\n",
       "  'LIVE MARKETS 2022 Nasdaq Composite: Year of the ...',\n",
       "  'Stock Market News for Jan 5, 2022',\n",
       "  'Stock market today: Nasdaq futures fall on rate-hike expectations',\n",
       "  'Warner Music Falls as Access Industries Sells 1.6% Stake',\n",
       "  'BTCS First-ever Nasdaq-listed Company to Offer a Dividend ...',\n",
       "  'Henry Schein Names Ronald South CFO, Succeeding Steven ...',\n",
       "  'Should You Invest in the Fidelity MSCI Information Technology ...',\n",
       "  'Energy, Real Estate and Financials Headed Stock Market ...',\n",
       "  'If You Invested $10000 in Airbnb at Its IPO, This Is How Much ...',\n",
       "  'AppTech stock plunges 80% after reverse stock split, public ...',\n",
       "  'Why Lockheed Martin Underperformed in 2021',\n",
       "  'GRAINS-Soybeans near even after overnight consolidation',\n",
       "  \"Bosnia's HE Dabar seals deal with China's Exim bank for 160 ...\",\n",
       "  'First Citizens (FCNCA) Closes Merger Agreement With CIT ...',\n",
       "  '3 Reasons to Sell AMD in 2022',\n",
       "  'How to Calculate the Fair Value of a Stock',\n",
       "  'What Is The Ownership Structure Like For Houghton Mifflin ...',\n",
       "  'Driven Brands Acquires Auto Glass Now, Expands US Presence',\n",
       "  'Calculating The Intrinsic Value Of PepsiCo, Inc. (NASDAQ:PEP)',\n",
       "  \"The Nasdaq Bounced. The Dow Dropped—Again. It's More Fallout From the Fed.\",\n",
       "  'LIVE MARKETS Fed minutes: European tech tracks Nasdaq ...',\n",
       "  'Number of Nasdaq Stocks Down 50% or More Is Almost at a ...',\n",
       "  'Jobless Claims 207K, Up Slightly from Pandemic Lows',\n",
       "  'LA Fintech Dave Goes Public on the Nasdaq After Sealing ...',\n",
       "  'A Record Pace for SPACs in 2021',\n",
       "  'Why Allakos Stock Plummeted 87.5% in the Last Month of 2021',\n",
       "  '3 Top Steel Stocks To Watch Today',\n",
       "  'U.S. budget airline Avelo raises $42 million in new funding',\n",
       "  'You Need to Know the Bear Case for Upstart Right Now',\n",
       "  \"GM's BrightDrop Secures Commercial EV Orders from ...\",\n",
       "  'Jim Cramer says tech stocks could bottom one day after ...',\n",
       "  \"Singapore's first SPACs set to list in city-state this month ...\",\n",
       "  'E-mini NASDAQ-100 Index (NQ) Futures Technical Analysis – Holding 15766.50 \\nCould Trigger Late Session Rally',\n",
       "  'Stock market news live updates: Stocks close lower for second straight \\nsession as rate hike worries persist',\n",
       "  'How Investors Can Factor Negative Cash Flow Into Valuations',\n",
       "  'Why IBM Stock Gained 6.2% in 2021',\n",
       "  'Seed Capital: What Is It and Why Does It Matter?',\n",
       "  'Profit From the Tech Sell-Off With These Inverse ETFs',\n",
       "  'The Executive VP & Chief Technology Officer of Intuit Inc ...',\n",
       "  'Wall St posts declines for first week of 2022; Nasdaq has worst ...',\n",
       "  'Stock Market News for Jan 7, 2022',\n",
       "  \"Wahed Launches Nasdaq's First Shariah-Compliant ESG ETF ...\",\n",
       "  'Green Team Spotlight: Teemu Mörsky on How Nasdaq Is ...',\n",
       "  'US STOCKS-Futures edge higher ahead of nonfarm payrolls ...',\n",
       "  'NOVONIX Commences Process for Nasdaq Listing',\n",
       "  'Santoli: As tech sector tanks, watch the Nasdaq 100 for this ...',\n",
       "  'Bit Brother Ltd. Received Nasdaq Notification Letter ...',\n",
       "  'The Nasdaq is quietly being shredded: new data',\n",
       "  'Monthly Market Wrap: December 2021',\n",
       "  'How Much Of eXp World Holdings, Inc. (NASDAQ:EXPI) Do ...',\n",
       "  'Falling Earnings Estimates May Push The NASDAQ Down 10 ...',\n",
       "  'Diversity or Discrimination? Amicus Brief Argues Against ...',\n",
       "  'Goldman (GS) Eyes Latin America Expansion With More Hirings',\n",
       "  'Luokung Announces Receipt of Nasdaq Notification ...',\n",
       "  'Value ETFs Gain After December Jobs Data',\n",
       "  'Willis Towers Watson announces Nasdaq ticker symbol ...',\n",
       "  'N.S. tech company carries on in face of security probe, class action',\n",
       "  'E-mini NASDAQ-100 Index (NQ) Futures Technical Analysis – Testing Major \\nSupport at 15567.25 – 15284.00',\n",
       "  '3 Stocks That Can Turn $100000 Into $1 Million by 2030',\n",
       "  'Growth Stocks Vs Value Stocks: Which Is Better In The Stock ...',\n",
       "  '6 Cryptos That Could Surpass Dogecoin in 2022',\n",
       "  \"If You'd Invested $100 in Bitcoin in 2011, Here's How Much ...\",\n",
       "  'Why CRISPR Therapeutics Stock Sank 50.5% in 2021 and ...',\n",
       "  'Empresa listada na Nasdaq vai pagar dividendos em Bitcoin',\n",
       "  'Ông Dennis Nguyễn tạo lịch sử, đưa Society Pass vào NASDAQ',\n",
       "  'Zoom: Still in a High Growth Phase',\n",
       "  \"Israel's Remilk raises $120 million for animal-free dairy\",\n",
       "  'Better Buy: Federal Realty Investment Trust vs. Realty Income',\n",
       "  'This Crypto Might Be the Solana of 2022',\n",
       "  'Xilinx to be Acquired by AMD; Valuation Remains Pricey',\n",
       "  \"Meet Ameca: Engineering Arts' New Humanoid Robot\",\n",
       "  \"Here's Why Warren Buffett Is Right and Dave Ramsey Is ...\",\n",
       "  'Sector tecnológico, el más golpeado en inicio del 2022 en Wall Street',\n",
       "  'Markets Week Ahead: Dow Jones, Nasdaq 100, US Dollar ...',\n",
       "  '4 High-Flying Cannabis REITs That Are Growing Like A Weed',\n",
       "  \"Top 10 Stock Picks of Andrew Immerman's Palestra Capital\",\n",
       "  'Stock Market News for Jan 10, 2022',\n",
       "  'Nasdaq index inches higher after sharp midday drop',\n",
       "  'Nasdaq Composite in jeopardy of a breach of key long-term trend line for \\nfirst time in nearly 2 years',\n",
       "  'Why Amazon Stock Sorely Lagged the Broader Market in 2021',\n",
       "  'Owens & Minor to Acquire Apria, Inc. for $1.6B; Shares Drop 7%',\n",
       "  \"Estelle Brachlianoff to become Veolia's next CEO\",\n",
       "  \"We're Not Very Worried About COMPASS Pathways ...\",\n",
       "  'HBO Max Expands in December Quarter – Report',\n",
       "  'China fines Bank of East Asia $2.6 mln for violating credit ...',\n",
       "  \"Breaking: Cardano (ADA) Holders Currently Can't Send or ...\",\n",
       "  'Blackstone to Invest $3 Billion in Invenergy',\n",
       "  \"하이드라페이셜, 미국 전역 '30분 피부광채혁명(Glowvolution ...\",\n",
       "  '30 Best Stocks to Buy Right Now for a Home-Run Swing',\n",
       "  'Is NVIDIA A Buy Amid The Current Tech Sector Sell-Off ...',\n",
       "  'NBA Players Klay Thompson, Andre Iguodala To Get Paid In ...',\n",
       "  'Where Is Your Money Safest During Times of Inflation?',\n",
       "  \"Cognizant Technology downgraded at MS on 'in-line ...\",\n",
       "  'NIKE (NYSE:NKE) Seems To Use Debt Rather Sparingly',\n",
       "  '5 Reasons Why You Should Invest in S&P Global (SPGI) Stock',\n",
       "  'Is Proterra Stock a Buy?',\n",
       "  'Stock Market News for Jan 11, 2022',\n",
       "  'Why PayPal Stock Plunged 19% in 2021',\n",
       "  'FTSE 100 Live: Inflation hits 25-year high, respite after Nasdaq sell-off, \\nDarktrace shares surge',\n",
       "  'Bitcoin’s Correlation With S&P 500, Nasdaq Hits Highest Level Since July \\n2020',\n",
       "  'This ETF Is Making QQQ Irrelevant - ETF Focus on TheStreet ...',\n",
       "  'Is MFS Growth Fund A (MFEGX) a Strong Mutual Fund Pick ...',\n",
       "  'How the Nasdaq 100 stealth correction slammed markets in 2022',\n",
       "  'Israeli security startup Pentera raises $150 mln in funding ...',\n",
       "  \"Brazil's Localiza says systems partially affected by 'cyber ...\",\n",
       "  'Are Bitcoin Price And Equities Performance Correlated?',\n",
       "  'How TikTok Is Democratizing Content Creation Again',\n",
       "  'Royalty Pharma (RPRX) Surges 5.4%: Is This an Indication of ...',\n",
       "  \"IQVIA Holdings (IQV) Stock Up 34.4% In a Year: Here's Why\",\n",
       "  \"Brazil's Enjoei says it ended 2021 with GMV of $146 mln\",\n",
       "  'Simplify Adds Downside Protection Offerings With EMGD ...',\n",
       "  'Investing in This REIT Could Make You a Millionaire Retiree',\n",
       "  'Stimulus Update: $5000 in Stimulus Money Can Soon Be ...',\n",
       "  \"Why I'll Be Selling My Zynga Stock Ahead of the Merger With ...\",\n",
       "  'Color Star Technology Co., Ltd. (NASDAQ: CSCW) to Officially ...',\n",
       "  'MFC or SLF: Which Stock is Better-Placed at the Moment?',\n",
       "  \"5 Red Flags for Bumble's Future\",\n",
       "  'China to produce 40% more soybeans by 2025 in self ...',\n",
       "  'Why 2022 Should Be the Year of the Govcoin',\n",
       "  'MicroStrategy (NASDAQ:MSTR) Takes On Some Risk With Its ...',\n",
       "  'NASDAQ 100: Despite Recent Drop, 18000 Should Still Be ...',\n",
       "  'How Many Years of Maxing Out a 401(k) Will Make You a ...',\n",
       "  'Top Stock Market News For Today January 12, 2022',\n",
       "  'Gig Economy Retirement Planning',\n",
       "  'Lucid Stock: Overvalued At Current $75B Market Cap ...',\n",
       "  'Audi to decide whether to enter Formula One by second ...',\n",
       "  \"Tilray's (NASDAQ:TLRY) Earnings Need a Scratch Below the Surface\",\n",
       "  'Planet Fitness (PLNT) to Buy Sunshine Fitness for $800M',\n",
       "  'Should You Invest in the First Trust Dow Jones Internet ETF ...',\n",
       "  \"How Spiral, Jack Dorsey's Rebranded Bitcoin Company, Is ...\",\n",
       "  'U.S. Futures Edge Higher; Key Inflation Data Looms Large By ...',\n",
       "  'Shift Stock Is Now A Deep Value Play (NASDAQ:SFT)',\n",
       "  '3 Growth Stocks That Have Generated $179 Billion in Free ...',\n",
       "  'Netflix Stock Forecast: What To Watch For In 2022 (NASDAQ ...',\n",
       "  'IQST – iQSTEL Enters Electric Vehicle Market On Path To ...',\n",
       "  'Clever Leaves Stock: Looks Overvalued Based On ...',\n",
       "  'Nasdaq and Sustainalytics: ESG Meets the Nasdaq Next ...',\n",
       "  'U.S. shares lower at close of trade; Dow Jones Industrial ...',\n",
       "  'Nasdaq 100 sinks more than 2.5 percent as technology rout deepens',\n",
       "  'The Bullish Case For Oil Prices In 2022',\n",
       "  \"Malaysia's biodiesel exports to fall to 5-yr low due to EU ...\",\n",
       "  'VYNE Therapeutics Stock: Clinical Risk Ahead ...',\n",
       "  'Crypto Market Crash: Is 2022 the Time to Sell?',\n",
       "  'TPG, a Private Equity Firm, Goes Public',\n",
       "  'Stock Market News for Jan 13, 2022',\n",
       "  'Australia, NZ dlrs trying to end week on bullish note',\n",
       "  'China 2021 meat imports fall 5.4% to 9.38 mln tonnes - customs',\n",
       "  'Bitcoin Outperformed Crude Oil, S&P 500, NASDAQ, and Gold in 2021 \\n(CoinGecko Report)',\n",
       "  'Monster Beverage to enter alcohol market with $330 mln ...',\n",
       "  'Motilal Oswal MF stops lump sum investment into 3 funds | Mint',\n",
       "  'We Think TMC the metals (NASDAQ:TMC) Can Afford To ...',\n",
       "  'Profit From Higher Oil Price With These Leveraged ETFs',\n",
       "  'Marsh & McLennan (MMC) Arm Sells Associations Business ...',\n",
       "  \"What Does Disney World's Top Rival Have Up Its Sleeve?\",\n",
       "  'Arkansas Will Pay You $10K In Bitcoin To Move There',\n",
       "  '1 Key Ratio All Investors Should Be Looking at When Buying ...',\n",
       "  'The ABCs of the QQQs',\n",
       "  'How to Spot a Bitcoin Crash',\n",
       "  'Should You Invest in the Vanguard Consumer Discretionary ...',\n",
       "  'Stock Market News for Jan 14, 2022',\n",
       "  'Estimating The Fair Value Of The Walt Disney Company ...',\n",
       "  'Comment / Against the odds: How cool – DSV a Nasdaq proxy ...',\n",
       "  '3 Reasons To Buy Palantir, and 1 Reason to Sell',\n",
       "  'Abbott (ABT) Gets FDA Nod for New Cardiac Mapping System',\n",
       "  'Intel Stock: Quality And Value Prevail (NASDAQ:INTC)',\n",
       "  'What Is Evergreen Content and Why Advisors Should Focus ...',\n",
       "  'Cloudflare, Inc. (NYSE:NET) - Dominant in the Market, Falling ...',\n",
       "  'We Think Conformis (NASDAQ:CFMS) Can Stay On Top Of Its ...',\n",
       "  'Advanced Micro Devices: Strong Competitive Positioning',\n",
       "  'Arbe Robotics: A High Return Low-Risk Bet (NASDAQ:ARBE)',\n",
       "  'Should iShares Core High Dividend ETF (HDV) Be on Your ...',\n",
       "  'Renewable Energy Group Stock: Unsustainable (NASDAQ ...',\n",
       "  'Minerva Foods (BEEF3) estuda migrar base acionária para Nasdaq, diz site',\n",
       "  'Peloton Falls as Old Dominion Replaces Stock in Nasdaq 100 ...',\n",
       "  'Tesla runs into further delays with launch of Cybertruck',\n",
       "  'Simigon rockets on news of merger deal with Maxify ahead of ...',\n",
       "  '5 Top Blockchain Stocks To Watch In January 2022',\n",
       "  'Is the Stock Market Closed on MLK Day 2022?',\n",
       "  'The Smartest Stocks to Buy With $200 Right Now',\n",
       "  'Evoke Pharma Inc Shares Near 52-Week Low - Market Mover',\n",
       "  'Carlos Creus, de Cádiz al Nasdaq pasando por el espacio - NIUS',\n",
       "  '5 Top Biotech Stocks To Watch In January 2022',\n",
       "  '3 Stocks That Could Produce 10X Returns By 2037',\n",
       "  'This Under-the-Radar Cryptocurrency Stock Could Outpace ...',\n",
       "  'Will Home Prices Come Down in 2022?',\n",
       "  'Relative Strength Chart Reveals Nasdaq Is Losing Its 20 Years of Leadership',\n",
       "  'Powerbridge Announces Receipt of NASDAQ Notification ...',\n",
       "  'Liberty Global: Special Situation Bargain? (NASDAQ:LBTYA)',\n",
       "  'WW International Stock: 2022 To Be A Make Or Break Year ...',\n",
       "  'Stock Market News for Jan 17, 2022',\n",
       "  \"Can 2021's Best-Performing FAANG Stock Do It Again in 2022?\",\n",
       "  'Saxo launches fractional CFD trading of S&P 500, Nasdaq ...',\n",
       "  'Helen of Troy (HELE) Poised on Leadership Brands, Strategies',\n",
       "  'PPG & Cellforce Join Forces for Sustainable Battery Products',\n",
       "  'Is the Stock Market Open Today? These Are the Martin Luther King Jr. Day \\n2022 Hours.',\n",
       "  'Is Moderna Stock Too Expensive in 2022?',\n",
       "  \"Here's What Cisco Systems, Inc.'s (NASDAQ:CSCO ...\",\n",
       "  'Resilience of Cryptocurrencies Expected in 2022 as Asia ...',\n",
       "  'Lucid Group Inc (NASDAQ:LCID) Poised for Action as New ...',\n",
       "  'What Is The Ownership Structure Like For AerSale ...',\n",
       "  'What Is The Ownership Structure Like For The J. M. Smucker ...',\n",
       "  'Ajuste encubierto: Wall Street opera cerca de sus máximos, pero el 40% de \\nlas acciones del Nasdaq cae un 50%',\n",
       "  'AcuityAds Stock: The Illumin Platform Makes The Stock A Buy ...',\n",
       "  'Microsoft: Ultimate Definition Of An Economic Moat (NASDAQ ...',\n",
       "  'El gráfico semanal: Nvidia y Peloton, los dos extremos del ...',\n",
       "  'Stock Market News for Jan 18, 2022',\n",
       "  'Having purchased US$28m worth of WalkMe Ltd. (NASDAQ ...',\n",
       "  'Nasdaq Fines SpeedRoute $450,000 for Market Access and',\n",
       "  'LIVE MARKETS As Nasdaq 100 futures tumble, all eyes on ...',\n",
       "  'Is This Rapidly Growing Surgical Robotics Stock a Buy?',\n",
       "  'Arena (ARNA) Stock Up in 6 Months on PFE Merger Deal ...',\n",
       "  \"Wheaton's (WPM) Arm to Buy Gold & Silver Stream in ...\",\n",
       "  'Video platform Rumble acquires stake in payment processor ...',\n",
       "  'Better Food Delivery Stock: DoorDash vs. Just Eat Takeaway',\n",
       "  'Tech Stocks Unravel While Banks Are Hot in 2022 Rotation',\n",
       "  'TELUS (TU) Launches Low-Cost Internet Plans for Senior ...',\n",
       "  'These 4 Oil & Gas Drilling Stocks Are Worth a Closer Look',\n",
       "  'Marsh & McLennan (MMC) Unit Unveils Digital Platform in ...',\n",
       "  'Crocs Stock: A Buy After The Heydude Acquisition (NASDAQ ...',\n",
       "  'BioCryst Pharmaceutical Inc. (NASDAQ: BCRX) Enrols First ...',\n",
       "  'Les futures du Nasdaq dégringolent, la hausse des rendements provoquant la \\ndéroute du secteur technologique.',\n",
       "  'Stocks sink, notably tech, as Treasury yields jump',\n",
       "  '[TARGET + CONTABILE] Continua la saga della strategia ...',\n",
       "  'Nasdaq confirms fourth correction since pandemic hit',\n",
       "  'Luckin Coffee plans to relist in U.S. two years after accounting ...',\n",
       "  'British digital banking app Revolut launches U.S. stock trading',\n",
       "  'Wall Street ends sharply lower with Nasdaq confirming correction',\n",
       "  'LIVE MARKETS Nasdaq Composite ends down more than 10 ...',\n",
       "  'How One Venture Capitalist Thinks About Capital Allocation',\n",
       "  'Sonder makes Nasdaq debut following close of SPAC deal',\n",
       "  'How RepRisk Cuts Through the Noise of ESG Data',\n",
       "  'Calculating The Fair Value Of Southern Copper Corporation ...',\n",
       "  '5 Charts to Remember if the Stock Market Crashes in 2022',\n",
       "  'Nasdaq is on the brink of plunging into correction territory. Here’s why \\nWall Street predicts more pain ahead',\n",
       "  \"Kraft Heinz's (KHC) Operating Model & Pricing Efforts Solid\",\n",
       "  'Toronto-based 1Password raises $620 mln, valuation more ...',\n",
       "  'Bull Markets, Pullbacks And Corrections',\n",
       "  'These 4 Measures Indicate That ADT (NYSE:ADT) Is Using ...',\n",
       "  \"Here's Why Electronic Arts Stock May Have Limited Downside\",\n",
       "  'My Take: 2 Top Software Stocks to Buy on the Dip',\n",
       "  'How to Think About Airline Elite Status in 2022',\n",
       "  '5 of the Fastest-Scaling Cryptocurrencies',\n",
       "  'Sonder closes SPAC merger to go public on Nasdaq',\n",
       "  'Nasdaq Correction: 3 Things to Do Now',\n",
       "  'This Start-Up Could Be the Future of Drone Delivery',\n",
       "  \"Nasdaq plunge: Why Wall Street's tech index has now entered correction \\nterritory\",\n",
       "  'China Finance Online Co. Ltd. Receives Notice of Delisting ...',\n",
       "  'Psychedelic Biotech Takes SPAC Track to Nasdaq',\n",
       "  'NASDAQ Approaches Key Psychological Level | investing.com',\n",
       "  'Understanding DeFi and Its Importance in the Crypto Economy',\n",
       "  'Core Scientific to Begin Trading on Nasdaq',\n",
       "  'Top Stock Market News For Today January 20, 2022',\n",
       "  'Microsoft vs. Apple: Which Stock is Headed for Growth in 2022?',\n",
       "  'Bet on Inverse ETFs as Nasdaq Enters Correction Territory',\n",
       "  '\"나스닥 폭락 다음엔 미 대형주 급락할 수도\"…유럽으로 눈 돌릴까',\n",
       "  'Why the Nasdaq in correction territory may be a short-term buy signal',\n",
       "  'LIVE MARKETS Traders play hot potato, quickly dump stocks',\n",
       "  'COMSOVEREIGN HOLDING CORP. RECEIVES NASDAQ ...',\n",
       "  'IPFS, Filecoin and the Long-Term Risks of Storing NFTs',\n",
       "  'The No. 1 Reason to Claim Social Security at Age 62',\n",
       "  'Egypt economy forecast to grow 5.2% in year to June, 5.5% in ...',\n",
       "  \"If This 1 Thing Happens in 2022, I'll Buy More Peloton Stock in ...\",\n",
       "  'ContourGlobal to sell Brazil hydro power assets to Patria',\n",
       "  'Nasdaq, S&P Finish Worst Week Since Pandemic Onset',\n",
       "  'Nasdaq falls for fourth straight day as Netflix plunges 22%',\n",
       "  'Stock market news today: US sell-off deepens as Nasdaq falls 2%',\n",
       "  'Global stock markets record worst week in more than a year',\n",
       "  'Stock Market News for Jan 21, 2022',\n",
       "  '3 Reasons to Buy Intuitive Surgical, and 1 Reason to Sell',\n",
       "  'Optiver and CME to offer Nasdaq mini options block trading',\n",
       "  'The Worst Mistake PayPal Investors Can Make Right Now',\n",
       "  'What Is Bitcoin Backed By?',\n",
       "  'GM Announces New Cadillac Escalade V-Series With ...',\n",
       "  'Intuitive Surgical (ISRG) Q4 Earnings & Revenues Top ...',\n",
       "  'American Rebel shoots for Nasdaq listing to raise $20m',\n",
       "  'Netflix Plunge Highlights Benefits of Equal Weighting',\n",
       "  'Euro zone yields fall amid demand for safe-haven assets',\n",
       "  'Bitcoin plunge follows tighter tracking with Nasdaq 100',\n",
       "  'Just-In : $3 Billion Crypto Mining Giant Core Scientific to Officially List \\non Nasdaq',\n",
       "  'Evercore is Oversold',\n",
       "  '3 Reasons to Buy Teladoc in 2022',\n",
       "  'Stock Market Today: Nasdaq Sinks Again, Ends Worst Week ...',\n",
       "  'Green Team Spotlight: Jason Gregoric on How the Global ...',\n",
       "  '10 Reasons the Stock Market Could Crash in 2022',\n",
       "  \"Here's What You Need to Know About Upstart in 2022\",\n",
       "  '5 Top E-Commerce Stocks To Watch Right Now',\n",
       "  'Why Is Pfizer Teaming Up With Acuitas Therapeutics?',\n",
       "  'Why Meta Platforms Is a Top Video Game Stock',\n",
       "  'Royal Dutch Shell Plc Changes Name To Shell Plc',\n",
       "  \"4 Gaming Stocks to Buy After Microsoft's Deal to Buy Activision ...\",\n",
       "  'Buy These 2 Stocks to Earn 90% to 120% Returns, According ...',\n",
       "  \"Morgan Stanley Lifts CEO James Gorman's Pay By 6% To $35 ...\",\n",
       "  'Chứng khoán Mỹ đỏ lửa, Nasdaq có tuần tồi tệ nhất kể từ năm ...',\n",
       "  \"Hồi chuông cảnh báo 'bong bóng' công nghệ khi Nasdaq 100 ...\",\n",
       "  'Nasdaq shorten? Trotz Inflation und steigenden Zinsen eine ...',\n",
       "  'Strømprisen – Se dagens strømpriser i din kommune',\n",
       "  'Apple, Microsoft and Tesla headline key earnings week amid Nasdaq’s slide | \\nMint',\n",
       "  \"나스닥, 올 들어 12% 폭락…14년 만에 '최악 스타트'\",\n",
       "  \"This Is Barbara Corcoran's Best Advice on Buying a Home\",\n",
       "  'Cardano: The First Carbon-Negative Blockchain?',\n",
       "  '\"연준 긴축강도 예측 어려워…나스닥 상승전환 쉽지 않을것\" 윤제성 뉴욕생명자산운용 CIO',\n",
       "  'Alphabet Stock: Strong Performance & Steady Growth ...',\n",
       "  '[단독] 서학개미 TQQQ 올들어 33% 손실에도…5배 레버리지까지 투자',\n",
       "  'Netflix Stock: Why We Remain On The Sidelines (NASDAQ ...',\n",
       "  'S&P 500 Follows Nasdaq Into Correction Territory as Fear ...',\n",
       "  'Wall Street stocks nosedive, small caps flirt with bear market ...',\n",
       "  'Stock market news live updates: Stocks claw back losses to close out \\nvolatile day: Nasdaq ends 0.6% higher after shedding 4.9% at session lows',\n",
       "  'Is the Plunge in the Nasdaq and Bitcoin the End of a ...',\n",
       "  'The S&P 500, Nasdaq just staged a turnaround for the ages, marking their \\nlargest comebacks since the 2008 financial crisis',\n",
       "  'Sonic Foundry Announces Uplisting to Nasdaq Capital Market',\n",
       "  'The NASDAQ’s real value is shockingly low—and it could drop another 18%',\n",
       "  'Best Lithium Stocks To Buy? 4 Names To Know',\n",
       "  'Stock Market News for Jan 24, 2022',\n",
       "  '4 Top EV Charging Stocks To Watch In The Stock Market Now',\n",
       "  'How to Crush Your Holiday Debt',\n",
       "  \"Lead Edge Capital's Green lays out software stocks to watch ...\",\n",
       "  'Intro to an IRO: Marco Parisi, SECO',\n",
       "  'Why Shares of Joby Aviation Got Dumped Today',\n",
       "  'Biden curses Fox News reporter after he asks about inflation',\n",
       "  'Why Quotas Are Unlikely To Be The Most Effective Way Of ...',\n",
       "  'The Future of Electric Vehicles in the Era of Rising Oil Prices',\n",
       "  'Preparing for the Next S&P 500 Sector Shakeup',\n",
       "  'Nasdaq Erases 7 months of Gains With Sharp Decline!',\n",
       "  \"Wharton's Siegel Expects Stocks to Fall Further\",\n",
       "  'Nasdaq (NDAQ) Q4 Earnings: What to Expect',\n",
       "  'Is It Too Late to Invest in Cryptocurrency?',\n",
       "  'Stock markets today: US futures drop before Fed meeting, bitcoin up',\n",
       "  'Should Fidelity Nasdaq Composite Index ETF (ONEQ) Be on ...',\n",
       "  'Why the giant intraday reversal in stocks is not sticking',\n",
       "  'This REIT Is Doubling Down on Affordable Housing',\n",
       "  '14%of this International Money Express, Inc. (NASDAQ:IMXI ...',\n",
       "  'Down 57% in 1 Month, Is Novavax a Bargain Buy?',\n",
       "  \"Kilroy Realty (KRC) Forms 'Hammer Chart Pattern': Time for ...\",\n",
       "  \"Citrix Systems' (NASDAQ:CTXS) one-year decline in earnings ...\",\n",
       "  'LIVE MARKETS Wall Street contorts itself again',\n",
       "  'Bridgepoint sells Element Materials Technology to Temasek',\n",
       "  'Qingke Apartments Enters Bankruptcy Court in China',\n",
       "  \"Kenya's tea export earnings rise 13% yr/yr in 2021 - regulator\",\n",
       "  'Monero: The Privacy Coin Explained',\n",
       "  'What Kind Of Shareholders Own The Home Depot, Inc. (NYSE ...',\n",
       "  'Immuron Limited (NASDAQ: IMRN) Receives EU Patent For ...',\n",
       "  'SmileDirectClub Suspends Operations In Eight Markets, Cuts Staff - \\nSmileDirectClub (NASDAQ:SDC)',\n",
       "  'Arqit Quantum Stock: Terrestrial For Now, But Will Go To ...',\n",
       "  'FGI Industries Announces Pricing of Initial Public Offering',\n",
       "  'Nasdaq profit beats estimates on IPO rush, investment ...',\n",
       "  'Top Stock Market News For Today January 26, 2022',\n",
       "  'The Nasdaq Is Down 11.6% in 2022 -- 6 Charts Suggest What ...',\n",
       "  'SEC Approves Nasdaq Rule Change Allowing Direct Listings ...',\n",
       "  '美 금리인상 때마다 나스닥은 더 뛰었다',\n",
       "  'Nasdaq Private Market Surpasses $40 Billion in Volume',\n",
       "  \"LG Energy Solution debuts after $13 trillion frenzy in S.Korea's ...\",\n",
       "  'Asian Markets Trading Sharply Lower',\n",
       "  'Microsoft Is Getting More Than Just Games With Its Activision ...',\n",
       "  'Is Palantir the AWS of Data Analytics?',\n",
       "  \"JinkoSolar's Arm Completes IPO, Starts Trading On Shanghai ...\",\n",
       "  'TREASURIES-U.S. 2-year yields hit 23-month high as Fed ...',\n",
       "  'EU tapped renewables for nearly two-fifths of power in 2020 ...',\n",
       "  '¿Próximo unicornio? La empresa argentina de satélites Satellogic empieza a \\ncotizar en el Nasdaq',\n",
       "  'Bitcoin moves in lockstep with US stocks as big traders enter ...',\n",
       "  \"Endeavour Silver (EXK) Provides '22 Production & Cost View\",\n",
       "  \"Nasdaq (NDAQ) Beats Analysts' Estimates as Revenue Jumps ...\",\n",
       "  'E-mini NASDAQ Trying to Hold 13984.25 to 14515.75 Support',\n",
       "  'Unpopular Opinion: Airbnb Has Become Terrible',\n",
       "  \"Japan's Marubeni to sell Gavilon grain business to Glencore ...\",\n",
       "  'LIVE MARKETS Leveraged Nasdaq 100 ETFs, new memes?',\n",
       "  'Tritium Rings Nasdaq Closing Bell in Honor of Listing',\n",
       "  'Italian space company D-Orbit to go public via SPAC at a $1.4 billion \\nvaluation',\n",
       "  \"Will Tesla's Dojo Supercomputer Disrupt AI in 2022?\",\n",
       "  'Measurabl Collaborates with Nasdaq to Offer Expansive ESG ...',\n",
       "  'Trust Stamp Receives Approval for Nasdaq Listing',\n",
       "  'Sweden approves plan to bury spent nuclear fuel for 100000 ...',\n",
       "  'Knightscope Begins Trading Publicly on NASDAQ',\n",
       "  'March 11th Options Now Available For Under Armour (UAA)',\n",
       "  'Wind Energy: 2021 Performance and Industry Update',\n",
       "  'What Is The Ownership Structure Like For United Airlines ...',\n",
       "  'GLOBE Spotlight: Denise Francis on the Positive Impact of ...',\n",
       "  'Stock Market News for Jan 27, 2022',\n",
       "  'Knightscope stock price tumbles 41% after IPO (NASDAQ ...',\n",
       "  'Have Insiders Sold Mercantile Bank Corporation (NASDAQ ...',\n",
       "  'Nasdaq schwach: Auf und Ab an US-Börsen geht weiter',\n",
       "  'Nasdaq gives up gains. Trades down on the day',\n",
       "  'Americans Want to Travel -- Here Are 2 Great Hotel Stocks to ...',\n",
       "  \"3 of the Safest Stocks to Buy if There's a Stock Market Crash\",\n",
       "  'D-Orbit verso il Nasdaq con la Spac Breeze Holdings a 1,13 ...',\n",
       "  'Stock Market News for Jan 28, 2022',\n",
       "  'Top Stock Market News For Today, January 28, 2022',\n",
       "  'NASDAQ Could Fall Another 13% | investing.com',\n",
       "  'Market Close Report: Record breaking 417.79 point close for ...',\n",
       "  'Central Bank Digital Currencies Could Be Fruitful for Select ...',\n",
       "  '5 ETFs to Tap the Four-Decade Strongest U.S. Economy',\n",
       "  'Diageo (DEO) 1H FY22 Earnings & Sales Improve on Robust ...',\n",
       "  'Is John Deere an Underrated AI Stock?',\n",
       "  'PreMarket Prep Stock Of The Day: Robinhood Markets - Robinhood Markets \\n(NASDAQ:HOOD)',\n",
       "  'Cathie Wood Goes Bargain Hunting: 3 Stocks She Just Bought',\n",
       "  'U.S. shares higher at close of trade; Dow Jones Industrial ...',\n",
       "  'Why Intuitive Surgical Keeps Growing and Growing',\n",
       "  '3 Bad Habits That Are Sinking Your ETF Portfolio',\n",
       "  'Tilray Has More Market Share in This Country Than in Canada',\n",
       "  \"A Look at EU's GDPR and What It Means for Crypto Privacy\",\n",
       "  \"L'Italia ha un unicorno: D-Orbit verso il Nasdaq con una ...\",\n",
       "  'Tech Sell-Off: 2 Growth Stocks to Buy For the Long Haul',\n",
       "  \"L'italiana D-Orbit si quoterà al Nasdaq (e diventerà unicorno ...\",\n",
       "  'Are Nasdaq 100 Futures Ready For Strong Rally?',\n",
       "  '1 Great Stock to Invest in the Red-Hot Self Storage Industry',\n",
       "  'The Only Way Shiba Inu Will Ever Reach $1',\n",
       "  'Where Will Alphabet Be in 10 Years?',\n",
       "  'Homeowners Should Make This Insurance Move ASAP in 2022',\n",
       "  '2 Cryptocurrencies That Could Dwarf Bitcoin',\n",
       "  'Mirati Therapeutics Stock: Developing A Drug Potentially ...',\n",
       "  \"Here's My Top Cryptocurrency to Buy in 2022\",\n",
       "  \"Southwest Airlines' Recovery Begins in Earnest\",\n",
       "  '\"게임으로 ADHD 치료\"…아킬리 인터랙티브, 나스닥 상장 나선다[이우상의 글로벌워치]',\n",
       "  'Get Consistent Warnings Before The Market Declines',\n",
       "  '3 Reasons MercadoLibre Stock Could Hit $5000 by 2030',\n",
       "  'Insider Weekends: Reed Hastings Purchases $20 Million ...',\n",
       "  'North Korea Fires Medium-Range Missile, Its Most Powerful ...',\n",
       "  'Nasdaq narrowly misses worst January ever as Wall Street ...',\n",
       "  'Nasdaq Has Worst January Since 2008 and Steepest Month Drop Since Pandemic \\nBegan',\n",
       "  'Why Amazon Stock Jumped on Monday',\n",
       "  '2 Canadian cannabis issuers put on notice by Nasdaq over ...',\n",
       "  'Nasdaq narrowly avoids worst-ever January',\n",
       "  'Stock Market News for Jan 31, 2022',\n",
       "  '2 Growth Stocks That Are Trading Below Their IPO Prices',\n",
       "  'Kalera to go public on NASDAQ through merger with Agrico ...',\n",
       "  'If You Invested $10000 in Nvidia in 1999, This Is How Much ...',\n",
       "  'TFX to Launch First Licensed Nasdaq-100® CFD in Japan',\n",
       "  \"Starbucks CEO Kevin Johnson's 2021 Total Compensation ...\",\n",
       "  'Kaushal Shetty: Providing Innovative Post-Disaster Shelter Homes',\n",
       "  'NRx Pharmaceuticals Announces $25 Million Private ...',\n",
       "  'Cardinal Health to pay $13 million to resolve U.S. kickback case',\n",
       "  'Turbulent January could bode poorly for rest of year for U.S. ...',\n",
       "  \"McDonald's Digital Sales Fuel Double-Digit Revenue Growth ...\",\n",
       "  'Calculating The Fair Value Of Lululemon Athletica Inc ...',\n",
       "  'Earnings Season Playbook: Q4 Reports to Watch',\n",
       "  'Biologic Medicines-Focused Comera Life Sciences Turns To SPAC For NASDAQ \\nDebut',\n",
       "  '\"Crash-Proof\" Your Portfolio With These Tax-Free 5% Dividends',\n",
       "  'Alphabet (GOOGL) Q4 Earnings: What to Expect',\n",
       "  'January 2022 Review and Outlook',\n",
       "  'Bitcoin is powerful but can it predict Nasdaq and S&P 500 corrections and \\nrallies?',\n",
       "  'Where These 3 Semiconductor Stocks Diverge',\n",
       "  \"What 'Line Goes Up' Gets Wrong (and Right) About NFTs\",\n",
       "  'Nasdaq teve o pior janeiro desde 2008. Por que as ações de tecnologia \\ncaíram tanto?',\n",
       "  'Daimler AG Becomes Mercedes-Benz Group AG',\n",
       "  'Will Lemonade Stock Hit $50 in 2022?',\n",
       "  'What Kind Of Investors Own Most Of NIKE, Inc. (NYSE:NKE)?',\n",
       "  'EXCLUSIVE-HBO Max to launch in 15 European countries on ...',\n",
       "  'What Is Web3 and Why Should Advisors Care?',\n",
       "  'Better Cloud Stock: ServiceNow vs. Snowflake',\n",
       "  'OptimumBank Holdings, Inc. (OPHC-NASDAQ) Announces ...',\n",
       "  'KKR Says To Significantly Invest In PlayOn! Sports',\n",
       "  '3 Best Mutual Funds to Buy From the PIMCO Portfolio',\n",
       "  'NVIDIA Stock: Coming Back Down To Earth (NASDAQ:NVDA)',\n",
       "  'After bleak January, world stocks start new month adrift',\n",
       "  'DexCom Stock: Buy The Dip For Robust Product Portfolio ...',\n",
       "  'Intel Stock: Cloud Collapse (NASDAQ:INTC)',\n",
       "  'Array Technologies: Severely Unloved And Undervalued ...',\n",
       "  'Nasdaq Rises on Google Earnings, Stock Split as Other ...',\n",
       "  \"PayPal's 25% Plummet Pares Nasdaq Gains; S&P Moves ...\",\n",
       "  'Triterras Provides Update on Nasdaq Listing',\n",
       "  'Notified Expands Strategic Partnership with Nasdaq to ...',\n",
       "  'Stock Market News for Feb 2, 2022',\n",
       "  '2022 Outlook: The Key Technology Trends Impacting Market ...',\n",
       "  'Adena Friedman, Nasdaq CEO: The Morgan Stanley Interview',\n",
       "  'Top Stock Market News For Today February 2, 2022',\n",
       "  'Prediction: These Will Be 2 of the Biggest Stocks by 2040',\n",
       "  'Environmental Impact Acquisition Corporation approval ...',\n",
       "  'Affordable Housing Affords Low Risk Investment',\n",
       "  'Australian Market Modestly Lower',\n",
       "  'Exelon plunges as Constellation Energy separation ...',\n",
       "  \"O-I Glass' (OI) Q4 Earnings and Revenues Beat Estimates\",\n",
       "  'Why Amazon Stock Fell 10% in January',\n",
       "  'Just-In-Time Liquidity: How MEV Can Enhance DeFi on ...',\n",
       "  \"3 Reasons Why Costco's Competitive Advantages Warrant a ...\",\n",
       "  'Calidi Biotherapeutics in deal to go public through SPAC Edoc ...',\n",
       "  'Top 10 Marketing Trends for Financial Advisors in 2022',\n",
       "  'Will Rivian Be a Trillion-Dollar Stock by 2032?',\n",
       "  'Anghami marks approval to list on Nasdaq with bell-ringing ceremony',\n",
       "  \"How to Make Sense of the Stock Market's Turbulent Year So Far\",\n",
       "  'Retail Activity Remains Strong in U.S. Markets',\n",
       "  'If You Invested $10000 in ASML in 2010, This Is How Much ...',\n",
       "  'What is the Difference Between Covered and Uncovered ...',\n",
       "  'GreenLight Biosciences begins trading today as Nasdaq ...',\n",
       "  'Nasdaq ends 3.7% lower as US stocks drop on weak earnings',\n",
       "  'Meta-Schock löst Beben aus: Nasdaq erleidet größtes Tagesminus seit Herbst \\n2020',\n",
       "  'Stock Market News for Feb 3, 2022',\n",
       "  \"SABIC's fourth quarter profit more than doubles on higher ...\",\n",
       "  'Where Will ChargePoint Be in 10 Years?',\n",
       "  'How Prologis Became the Biggest Industrial REIT in the World',\n",
       "  'Top 10 Nasdaq semiconductor stocks to explore',\n",
       "  'We Believe Playtika Holding Corp. (NASDAQ: PLTK) Is ...',\n",
       "  \"Today's Markets: Nasdaq futures down after FB miss, traders ...\",\n",
       "  'Eli Lilly profit beats on higher Trulicity sales',\n",
       "  'RH Is a Wonderful Business at a Great Price',\n",
       "  'Shineco high-end nuclear imaging devices Weifang Jianyi ...',\n",
       "  'My Latest Recession Prediction (and 3 Safe Funds Yielding ...',\n",
       "  \"Here's What Johnson Controls International plc's (NYSE:JCI ...\",\n",
       "  'Spotify rival Anghami gets approval to list on NASDAQ',\n",
       "  \"Stock Market Today: Amazon's Historic Day Pushes Nasdaq, S&P 500 Higher\",\n",
       "  'Leafly closes SPAC merger and will debut Monday on Nasdaq',\n",
       "  'NGX to launch NASDAQ-style board to woo tech startups ...',\n",
       "  'The end of pink ham? France to cut use of nitrite in cured meats',\n",
       "  'Stock Market News for Feb 4, 2022',\n",
       "  'Top Stock Market News For Today February 4, 2022',\n",
       "  'News Corp says one of its network systems targeted by ...',\n",
       "  'GreenBox POS (NASDAQ: GBOX) Emerging as Leader as ...',\n",
       "  'Lebanese Anghami Just Went Public On NASDAQ',\n",
       "  '\"빅테크에 울고 웃는 미국 주식\"…나스닥 선물 2% 상승 중',\n",
       "  'Becton Dickinson (BDX) Crossed Above the 20-Day Moving ...',\n",
       "  \"Hit the Bull's-Eye With These 5 Mid-Cap Dividend Growers\",\n",
       "  'Historisk Amazon-byks løftet Nasdaq – E24',\n",
       "  'New 52-Week Low Could Prompt More Insider Buying At ENR',\n",
       "  \"Indian VFX company Prime Focus' subsidiary DNEG to list on NASDAQ\",\n",
       "  \"A Publicly-Listed Bitcoin Miner Shares Expectations For Intel's ...\",\n",
       "  'American Rebel Holdings, Inc. Announces Pricing of $10.5 ...',\n",
       "  '4 Audio Video Stocks That are Braving Industry Challenges',\n",
       "  'Should you invest in Navi US Total Stock Market Fund of Fund? | Mint',\n",
       "  'Best Stocks To Invest In 2022? 4 Gaming Stocks For Your List',\n",
       "  'This Renewable Energy Stock Has a Hidden Power Source',\n",
       "  \"Could a Bank Charter Actually Limit SoFi's Valuation?\",\n",
       "  \"4 Genius Stocks to Buy if There's a Stock Market Crash\",\n",
       "  'Why Ankr Coin Might Go Sky High',\n",
       "  'Major Exchange LBank Wishes Lunar New Year Via Nasdaq ...',\n",
       "  'Amgen: Does Strong Pipeline Portfolio Outweigh High Debt ...',\n",
       "  '3 Reasons to Buy PayPal Stock',\n",
       "  'Is Bitcoin Becoming Just Another Tech Stock?',\n",
       "  'Sensex, Nifty Seen Opening On Tepid Note',\n",
       "  'U.S., Japan, S. Korea to weigh N.Korea following recent ...',\n",
       "  'Major Exchange LBank Wishes Lunar New Year via NASDAQ ...',\n",
       "  'What Is The Nearest Technical Support For Meta (NASDAQ: FB)',\n",
       "  'Want $7000 in Annual Income? Invest $100000 in These 3 ...',\n",
       "  'Noodles & Co. Stock (NASDAQ:NDLS): Further Weakness ...',\n",
       "  'Purple Innovation Stock: The Prognosis After Much ...',\n",
       "  'A Positive Covid Test in Hong Kong Starts a Business Traveler ...',\n",
       "  'Μ. Τραυλού ή Γ. Αγγελόπουλος; Όλο το παρασκήνιο για την εκλογή προέδρου των \\nεφοπλιστών',\n",
       "  'How Much Competition Is There in the Metaverse?',\n",
       "  'Stock Market News for Feb 7, 2022',\n",
       "  'Major Exchange LBank Wishes Lunar New Year Via Nasdaq ...',\n",
       "  'Cannabis platform Leafly closes merger with SPAC, goes ...',\n",
       "  'What Investors Should Know About ThredUp Stock',\n",
       "  'Have $3000? Buying These 3 Stocks Now Just Might Be the ...',\n",
       "  'Shell, Gerdau to create solar power joint venture in Brazil',\n",
       "  'The Bullish Case For Alphabet: Quality, Growth, & Valuation ...',\n",
       "  'Phunware surges 18% as software company partners with ...',\n",
       "  'Bumble Buys Fruitz, A Dating App Beloved by French Gen Zers',\n",
       "  'S&P 500 e Nasdaq sobem após semana turbulenta; Peloton tem forte avanço – \\nÚltimas notícias – Estadão E-Investidor – As principais notícias do mercado \\nfinanceiro',\n",
       "  'Noteworthy Monday Option Activity: TRTN, HLF, HTA',\n",
       "  'Western Union to stop money transfers within Russia from ...',\n",
       "  'Wall Street: el Nasdaq no cesa en el rebote, con un Peloton que se dispara \\nmás de un 27%',\n",
       "  \"Jack Dorsey's Cash App Integrates Bitcoin's Lightning Network\",\n",
       "  'The American dream could end as a nightmare for Israeli tech ...',\n",
       "  'Synaptics Marks 20th Anniversary of IPO with NASDAQ Bell ...',\n",
       "  'Micron Technology Stock: Standing Up To Larger NAND And ...',\n",
       "  \"Despite rising inflation, pool supplier Leslie's reports record ...\",\n",
       "  'The 3 Reasons Why Meta Is A Dangerous Value Trap ...',\n",
       "  'Just Eat Takeaway to delist shares from Nasdaq',\n",
       "  'Sundial Granted a 180-Day Extension by Nasdaq to Regain ...',\n",
       "  'Sundial Stock: What Could Happen In The Face Of Delisting ...',\n",
       "  \"Valkyrie's bitcoin miners ETF starts trading on the Nasdaq\",\n",
       "  'S&P 500 Climbs as Tech Strength Prevails Despite Surging ...',\n",
       "  'Top Stocks To Invest In? 5 Autonomous Vehicle Stocks In Focus',\n",
       "  \"Nigeria Exchange plans 'NASDAQ' with attractive conditions to ...\",\n",
       "  'How Are Avatars Constructing Digital Identities in the Metaverse?',\n",
       "  \"Peter Thiel To Step Down From Facebook Parent Meta's Board\",\n",
       "  \"Is Meta's Pain Digital Turbine's Gain? APPS Deep-Dive Stock ...\",\n",
       "  'PayPal Earnings: We Might Not Have Reached A Bottom ...',\n",
       "  'Delisting of Securities of China XD Plastics Company Limited ...',\n",
       "  \"Here Are Americans' Top 3 Short-Term Financial Goals for 2022\",\n",
       "  \"Adele's '30' wins album of the year at BRIT Awards\",\n",
       "  'Investing in the Black Voices in Finance',\n",
       "  'Major exchange LBank wishes Lunar New Year via Nasdaq billboard on Times \\nSquare NYC',\n",
       "  'EXCLUSIVE-FBI Probes Pre-Capitol Riot Meeting of Far Right ...',\n",
       "  'Why Shares of Bakkt Holdings Are Falling Today',\n",
       "  'Cash-Like ETFs Gaining Popularity Ahead of Rate Hikes',\n",
       "  \"Brazil's Equatorial raises $530 mln to pay for Echoenergia ...\",\n",
       "  'Stock Market News for Feb 9, 2022',\n",
       "  'LIVE MARKETS S&P 500, Nasdaq up 1% early as mega caps ...',\n",
       "  'When Will Gevo, Inc. (NASDAQ:GEVO) Breakeven?',\n",
       "  'When Will Energous Corporation (NASDAQ:WATT) Turn A ...',\n",
       "  'Bitcoin Company OpenNode Raises $20M At $220M Valuation',\n",
       "  'Why Lucid Stock Moved Up Today',\n",
       "  'Compute North Raises $385M In Capital Growth Round',\n",
       "  'LIVE MARKETS Wall Street rallies, led by 2% Nasdaq advance',\n",
       "  'ASGN Inc (ASGN) Q4 Earnings and Revenues Surpass ...',\n",
       "  'Venture Capital Indicates Crypto Is Maturing From the Bottom Up',\n",
       "  \"Sangram Rane: Innovative Sustainable Solutions for World's ...\",\n",
       "  'This 10.5% Dividend Already Doubled Our Money (More to ...',\n",
       "  'Publicly traded trucking company Yellow Corp. shifts main ...',\n",
       "  'Should SPDR Portfolio S&P 500 High Dividend ETF (SPYD ...',\n",
       "  'Why Avaya Stock Just Crashed and Burned',\n",
       "  \"Biotechs face cash crunch after stock market 'bloodbath'\",\n",
       "  '3 Core Problems With Meta Platforms Stock (NASDAQ:FB)',\n",
       "  \"Just Eat, GRUB, delisting: What to know about Grubhub's ...\",\n",
       "  'London set to miss out on another hot tech listing as SoftBank eyes U.S. \\nfor Arm IPO',\n",
       "  'Why Is Tesla Stock Dropping And What Should Investors ...',\n",
       "  'LIVE MARKETS Nasdaq Composite: Leveling the playing field ...',\n",
       "  'AstraZeneca To Join NASDAQ-100 Index',\n",
       "  'TC Biopharm Announces Pricing of Upsized $17.5 Million ...',\n",
       "  \"The Hard Truth About Being an 'Anon'\",\n",
       "  'Stock Market News for Feb 10, 2022',\n",
       "  'Lumen (LUMN) Q4 Earnings Miss Estimates, Revenues Fall Y/Y',\n",
       "  'Futures Micro E-mini NASDAQ 100: Cosa sono e Come ...',\n",
       "  'CEA Industries Announces Pricing of $24 Million Public ...',\n",
       "  'PepsiCo (PEP) Q4 Earnings In Line, Revenues Beat Estimates',\n",
       "  'Is Tesla Stock a Buy?',\n",
       "  'Is It Too Late to Buy Snowflake Stock?',\n",
       "  'Tapestry Announces Increased Share Repurchases; Lifts Full ...',\n",
       "  'Cepton Technologies and Growth Capital Acquisition Corp ...',\n",
       "  'DocuSign Stock: Still Solid In Automated Agreements ...',\n",
       "  'Miromatrix to Ring Nasdaq Closing Bell on National Donor ...',\n",
       "  'Biotech Stocks Take Hit as Wary Investors Look Elsewhere',\n",
       "  'S&P 500, Nasdaq Composite и индекс Доу Джонса: в чем их ...',\n",
       "  'Aeglea director resigns after disagreement on financing plans ...',\n",
       "  \"Stock market news live updates: Stocks plunge following red-hot inflation \\nprint, Fed policymaker's remarks\",\n",
       "  'Lundin Mining Announces New Copper-Gold Saúva ...',\n",
       "  'Stocks Fall With Nasdaq, S&P 500 Heading for Weekly Declines',\n",
       "  'Apple Takeover Still the Best Option for Peloton, Says Top ...',\n",
       "  'Top Stock Market News For Today February 11, 2022',\n",
       "  'Tesla Inc., (NASDAQ:TSLA) is Getting Stronger, and it may be ...',\n",
       "  'Stock Market News for Feb 11, 2022',\n",
       "  'Good Stocks To Buy Right Now? 5 Reopening Stocks In Focus',\n",
       "  'I don’t look at price of my house every day, markets will self-correct in \\nlong term: Freshworks CEO...',\n",
       "  'Russian rouble falls from near 2022 high despite rate hike',\n",
       "  \"Barrick (GOLD) to Report Q4 Earnings: What's in the Cards?\",\n",
       "  'Oversold Conditions For AMERCO (UHAL)',\n",
       "  '6 Businesses That Have Bought Land in the Metaverse',\n",
       "  'Semiconductor Shortage: Investors Could Hit It Big',\n",
       "  'Upwork (NASDAQ:UPWK) Has Debt But No Earnings; Should ...',\n",
       "  'Down 45% From Its High, Is Shopify a Buy Now?',\n",
       "  ...],\n",
       " ['2022. 1. 1.',\n",
       "  '2022. 1. 1.',\n",
       "  '2022. 1. 1.',\n",
       "  '2022. 1. 1.',\n",
       "  '2022. 1. 1.',\n",
       "  '2022. 1. 1.',\n",
       "  '2022. 1. 1.',\n",
       "  '2022. 1. 1.',\n",
       "  '2022. 1. 2.',\n",
       "  '2022. 1. 2.',\n",
       "  '2022. 1. 2.',\n",
       "  '2022. 1. 2.',\n",
       "  '2022. 1. 2.',\n",
       "  '2022. 1. 2.',\n",
       "  '2022. 1. 2.',\n",
       "  '2022. 1. 3.',\n",
       "  '2022. 1. 3.',\n",
       "  '2022. 1. 3.',\n",
       "  '2022. 1. 3.',\n",
       "  '2022. 1. 3.',\n",
       "  '2022. 1. 3.',\n",
       "  '2022. 1. 3.',\n",
       "  '2022. 1. 3.',\n",
       "  '2022. 1. 3.',\n",
       "  '2022. 1. 3.',\n",
       "  '2022. 1. 3.',\n",
       "  '2022. 1. 3.',\n",
       "  '2022. 1. 3.',\n",
       "  '2022. 1. 3.',\n",
       "  '2022. 1. 3.',\n",
       "  '2022. 1. 3.',\n",
       "  '2022. 1. 3.',\n",
       "  '2022. 1. 3.',\n",
       "  '2022. 1. 3.',\n",
       "  '2022. 1. 3.',\n",
       "  '2022. 1. 4.',\n",
       "  '2022. 1. 4.',\n",
       "  '2022. 1. 4.',\n",
       "  '2022. 1. 4.',\n",
       "  '2022. 1. 4.',\n",
       "  '2022. 1. 4.',\n",
       "  '2022. 1. 4.',\n",
       "  '2022. 1. 4.',\n",
       "  '2022. 1. 4.',\n",
       "  '2022. 1. 4.',\n",
       "  '2022. 1. 4.',\n",
       "  '2022. 1. 4.',\n",
       "  '2022. 1. 4.',\n",
       "  '2022. 1. 4.',\n",
       "  '2022. 1. 4.',\n",
       "  '2022. 1. 4.',\n",
       "  '2022. 1. 4.',\n",
       "  '2022. 1. 4.',\n",
       "  '2022. 1. 4.',\n",
       "  '2022. 1. 4.',\n",
       "  '2022. 1. 5.',\n",
       "  '2022. 1. 5.',\n",
       "  '2022. 1. 5.',\n",
       "  '2022. 1. 5.',\n",
       "  '2022. 1. 5.',\n",
       "  '2022. 1. 5.',\n",
       "  '2022. 1. 5.',\n",
       "  '2022. 1. 5.',\n",
       "  '2022. 1. 5.',\n",
       "  '2022. 1. 5.',\n",
       "  '2022. 1. 5.',\n",
       "  '2022. 1. 5.',\n",
       "  '2022. 1. 5.',\n",
       "  '2022. 1. 5.',\n",
       "  '2022. 1. 5.',\n",
       "  '2022. 1. 5.',\n",
       "  '2022. 1. 5.',\n",
       "  '2022. 1. 5.',\n",
       "  '2022. 1. 5.',\n",
       "  '2022. 1. 5.',\n",
       "  '2022. 1. 6.',\n",
       "  '2022. 1. 6.',\n",
       "  '2022. 1. 6.',\n",
       "  '2022. 1. 6.',\n",
       "  '2022. 1. 6.',\n",
       "  '2022. 1. 6.',\n",
       "  '2022. 1. 6.',\n",
       "  '2022. 1. 6.',\n",
       "  '2022. 1. 6.',\n",
       "  '2022. 1. 6.',\n",
       "  '2022. 1. 6.',\n",
       "  '2022. 1. 6.',\n",
       "  '2022. 1. 6.',\n",
       "  '2022. 1. 6.',\n",
       "  '2022. 1. 6.',\n",
       "  '2022. 1. 6.',\n",
       "  '2022. 1. 6.',\n",
       "  '2022. 1. 6.',\n",
       "  '2022. 1. 6.',\n",
       "  '2022. 1. 6.',\n",
       "  '2022. 1. 1.',\n",
       "  '2022. 1. 1.',\n",
       "  '2022. 1. 1.',\n",
       "  '2022. 1. 1.',\n",
       "  '2022. 1. 1.',\n",
       "  '2022. 1. 1.',\n",
       "  '2022. 1. 1.',\n",
       "  '2022. 1. 2.',\n",
       "  '2022. 1. 2.',\n",
       "  '2022. 1. 2.',\n",
       "  '2022. 1. 2.',\n",
       "  '2022. 1. 2.',\n",
       "  '2022. 1. 2.',\n",
       "  '2022. 1. 2.',\n",
       "  '2022. 1. 3.',\n",
       "  '2022. 1. 3.',\n",
       "  '2022. 1. 3.',\n",
       "  '2022. 1. 3.',\n",
       "  '2022. 1. 3.',\n",
       "  '2022. 1. 3.',\n",
       "  '2022. 1. 3.',\n",
       "  '2022. 1. 3.',\n",
       "  '2022. 1. 3.',\n",
       "  '2022. 1. 3.',\n",
       "  '2022. 1. 3.',\n",
       "  '2022. 1. 3.',\n",
       "  '2022. 1. 3.',\n",
       "  '2022. 1. 3.',\n",
       "  '2022. 1. 3.',\n",
       "  '2022. 1. 3.',\n",
       "  '2022. 1. 3.',\n",
       "  '2022. 1. 3.',\n",
       "  '2022. 1. 3.',\n",
       "  '2022. 1. 3.',\n",
       "  '2022. 1. 4.',\n",
       "  '2022. 1. 4.',\n",
       "  '2022. 1. 4.',\n",
       "  '2022. 1. 4.',\n",
       "  '2022. 1. 4.',\n",
       "  '2022. 1. 4.',\n",
       "  '2022. 1. 4.',\n",
       "  '2022. 1. 4.',\n",
       "  '2022. 1. 4.',\n",
       "  '2022. 1. 4.',\n",
       "  '2022. 1. 4.',\n",
       "  '2022. 1. 4.',\n",
       "  '2022. 1. 4.',\n",
       "  '2022. 1. 4.',\n",
       "  '2022. 1. 4.',\n",
       "  '2022. 1. 4.',\n",
       "  '2022. 1. 4.',\n",
       "  '2022. 1. 4.',\n",
       "  '2022. 1. 4.',\n",
       "  '2022. 1. 4.',\n",
       "  '2022. 1. 5.',\n",
       "  '2022. 1. 5.',\n",
       "  '2022. 1. 5.',\n",
       "  '2022. 1. 5.',\n",
       "  '2022. 1. 5.',\n",
       "  '2022. 1. 5.',\n",
       "  '2022. 1. 5.',\n",
       "  '2022. 1. 5.',\n",
       "  '2022. 1. 5.',\n",
       "  '2022. 1. 5.',\n",
       "  '2022. 1. 5.',\n",
       "  '2022. 1. 5.',\n",
       "  '2022. 1. 5.',\n",
       "  '2022. 1. 5.',\n",
       "  '2022. 1. 5.',\n",
       "  '2022. 1. 5.',\n",
       "  '2022. 1. 5.',\n",
       "  '2022. 1. 5.',\n",
       "  '2022. 1. 5.',\n",
       "  '2022. 1. 5.',\n",
       "  '2022. 1. 6.',\n",
       "  '2022. 1. 6.',\n",
       "  '2022. 1. 6.',\n",
       "  '2022. 1. 6.',\n",
       "  '2022. 1. 6.',\n",
       "  '2022. 1. 6.',\n",
       "  '2022. 1. 6.',\n",
       "  '2022. 1. 6.',\n",
       "  '2022. 1. 6.',\n",
       "  '2022. 1. 6.',\n",
       "  '2022. 1. 6.',\n",
       "  '2022. 1. 6.',\n",
       "  '2022. 1. 6.',\n",
       "  '2022. 1. 6.',\n",
       "  '2022. 1. 6.',\n",
       "  '2022. 1. 6.',\n",
       "  '2022. 1. 6.',\n",
       "  '2022. 1. 6.',\n",
       "  '2022. 1. 6.',\n",
       "  '2022. 1. 6.',\n",
       "  '2022. 1. 7.',\n",
       "  '2022. 1. 7.',\n",
       "  '2022. 1. 7.',\n",
       "  '2022. 1. 7.',\n",
       "  '2022. 1. 7.',\n",
       "  '2022. 1. 7.',\n",
       "  '2022. 1. 7.',\n",
       "  '2022. 1. 7.',\n",
       "  '2022. 1. 7.',\n",
       "  '2022. 1. 7.',\n",
       "  '2022. 1. 7.',\n",
       "  '2022. 1. 7.',\n",
       "  '2022. 1. 7.',\n",
       "  '2022. 1. 7.',\n",
       "  '2022. 1. 7.',\n",
       "  '2022. 1. 7.',\n",
       "  '2022. 1. 7.',\n",
       "  '2022. 1. 7.',\n",
       "  '2022. 1. 7.',\n",
       "  '2022. 1. 1.',\n",
       "  '2022. 1. 1.',\n",
       "  '2022. 1. 1.',\n",
       "  '2022. 1. 1.',\n",
       "  '2022. 1. 1.',\n",
       "  '2022. 1. 1.',\n",
       "  '2022. 1. 1.',\n",
       "  '2022. 1. 1.',\n",
       "  '2022. 1. 2.',\n",
       "  '2022. 1. 2.',\n",
       "  '2022. 1. 2.',\n",
       "  '2022. 1. 2.',\n",
       "  '2022. 1. 2.',\n",
       "  '2022. 1. 2.',\n",
       "  '2022. 1. 2.',\n",
       "  '2022. 1. 3.',\n",
       "  '2022. 1. 3.',\n",
       "  '2022. 1. 3.',\n",
       "  '2022. 1. 3.',\n",
       "  '2022. 1. 3.',\n",
       "  '2022. 1. 3.',\n",
       "  '2022. 1. 3.',\n",
       "  '2022. 1. 3.',\n",
       "  '2022. 1. 3.',\n",
       "  '2022. 1. 3.',\n",
       "  '2022. 1. 3.',\n",
       "  '2022. 1. 3.',\n",
       "  '2022. 1. 3.',\n",
       "  '2022. 1. 3.',\n",
       "  '2022. 1. 3.',\n",
       "  '2022. 1. 3.',\n",
       "  '2022. 1. 3.',\n",
       "  '2022. 1. 3.',\n",
       "  '2022. 1. 3.',\n",
       "  '2022. 1. 3.',\n",
       "  '2022. 1. 4.',\n",
       "  '2022. 1. 4.',\n",
       "  '2022. 1. 4.',\n",
       "  '2022. 1. 4.',\n",
       "  '2022. 1. 4.',\n",
       "  '2022. 1. 4.',\n",
       "  '2022. 1. 4.',\n",
       "  '2022. 1. 4.',\n",
       "  '2022. 1. 4.',\n",
       "  '2022. 1. 4.',\n",
       "  '2022. 1. 4.',\n",
       "  '2022. 1. 4.',\n",
       "  '2022. 1. 4.',\n",
       "  '2022. 1. 4.',\n",
       "  '2022. 1. 4.',\n",
       "  '2022. 1. 4.',\n",
       "  '2022. 1. 4.',\n",
       "  '2022. 1. 4.',\n",
       "  '2022. 1. 4.',\n",
       "  '2022. 1. 4.',\n",
       "  '2022. 1. 5.',\n",
       "  '2022. 1. 5.',\n",
       "  '2022. 1. 5.',\n",
       "  '2022. 1. 5.',\n",
       "  '2022. 1. 5.',\n",
       "  '2022. 1. 5.',\n",
       "  '2022. 1. 5.',\n",
       "  '2022. 1. 5.',\n",
       "  '2022. 1. 5.',\n",
       "  '2022. 1. 5.',\n",
       "  '2022. 1. 5.',\n",
       "  '2022. 1. 5.',\n",
       "  '2022. 1. 5.',\n",
       "  '2022. 1. 5.',\n",
       "  '2022. 1. 5.',\n",
       "  '2022. 1. 5.',\n",
       "  '2022. 1. 5.',\n",
       "  '2022. 1. 5.',\n",
       "  '2022. 1. 5.',\n",
       "  '2022. 1. 5.',\n",
       "  '2022. 1. 6.',\n",
       "  '2022. 1. 6.',\n",
       "  '2022. 1. 6.',\n",
       "  '2022. 1. 6.',\n",
       "  '2022. 1. 6.',\n",
       "  '2022. 1. 6.',\n",
       "  '2022. 1. 6.',\n",
       "  '2022. 1. 6.',\n",
       "  '2022. 1. 6.',\n",
       "  '2022. 1. 6.',\n",
       "  '2022. 1. 6.',\n",
       "  '2022. 1. 6.',\n",
       "  '2022. 1. 6.',\n",
       "  '2022. 1. 6.',\n",
       "  '2022. 1. 6.',\n",
       "  '2022. 1. 6.',\n",
       "  '2022. 1. 6.',\n",
       "  '2022. 1. 6.',\n",
       "  '2022. 1. 6.',\n",
       "  '2022. 1. 6.',\n",
       "  '2022. 1. 1.',\n",
       "  '2022. 1. 1.',\n",
       "  '2022. 1. 1.',\n",
       "  '2022. 1. 1.',\n",
       "  '2022. 1. 1.',\n",
       "  '2022. 1. 1.',\n",
       "  '2022. 1. 1.',\n",
       "  '2022. 1. 2.',\n",
       "  '2022. 1. 2.',\n",
       "  '2022. 1. 2.',\n",
       "  '2022. 1. 2.',\n",
       "  '2022. 1. 2.',\n",
       "  '2022. 1. 2.',\n",
       "  '2022. 1. 2.',\n",
       "  '2022. 1. 1.',\n",
       "  '2022. 1. 1.',\n",
       "  '2022. 1. 1.',\n",
       "  '2022. 1. 1.',\n",
       "  '2022. 1. 1.',\n",
       "  '2022. 1. 1.',\n",
       "  '2022. 1. 1.',\n",
       "  '2022. 1. 2.',\n",
       "  '2022. 1. 2.',\n",
       "  '2022. 1. 2.',\n",
       "  '2022. 1. 2.',\n",
       "  '2022. 1. 2.',\n",
       "  '2022. 1. 2.',\n",
       "  '2022. 1. 2.',\n",
       "  '2022. 1. 3.',\n",
       "  '2022. 1. 3.',\n",
       "  '2022. 1. 3.',\n",
       "  '2022. 1. 3.',\n",
       "  '2022. 1. 3.',\n",
       "  '2022. 1. 3.',\n",
       "  '2022. 1. 3.',\n",
       "  '2022. 1. 3.',\n",
       "  '2022. 1. 3.',\n",
       "  '2022. 1. 3.',\n",
       "  '2022. 1. 3.',\n",
       "  '2022. 1. 3.',\n",
       "  '2022. 1. 3.',\n",
       "  '2022. 1. 3.',\n",
       "  '2022. 1. 3.',\n",
       "  '2022. 1. 3.',\n",
       "  '2022. 1. 3.',\n",
       "  '2022. 1. 3.',\n",
       "  '2022. 1. 3.',\n",
       "  '2022. 1. 3.',\n",
       "  '2022. 1. 4.',\n",
       "  '2022. 1. 4.',\n",
       "  '2022. 1. 4.',\n",
       "  '2022. 1. 4.',\n",
       "  '2022. 1. 4.',\n",
       "  '2022. 1. 4.',\n",
       "  '2022. 1. 4.',\n",
       "  '2022. 1. 4.',\n",
       "  '2022. 1. 4.',\n",
       "  '2022. 1. 4.',\n",
       "  '2022. 1. 4.',\n",
       "  '2022. 1. 4.',\n",
       "  '2022. 1. 4.',\n",
       "  '2022. 1. 4.',\n",
       "  '2022. 1. 4.',\n",
       "  '2022. 1. 4.',\n",
       "  '2022. 1. 4.',\n",
       "  '2022. 1. 4.',\n",
       "  '2022. 1. 4.',\n",
       "  '2022. 1. 4.',\n",
       "  '2022. 1. 5.',\n",
       "  '2022. 1. 5.',\n",
       "  '2022. 1. 5.',\n",
       "  '2022. 1. 5.',\n",
       "  '2022. 1. 5.',\n",
       "  '2022. 1. 5.',\n",
       "  '2022. 1. 5.',\n",
       "  '2022. 1. 5.',\n",
       "  '2022. 1. 5.',\n",
       "  '2022. 1. 5.',\n",
       "  '2022. 1. 5.',\n",
       "  '2022. 1. 5.',\n",
       "  '2022. 1. 5.',\n",
       "  '2022. 1. 5.',\n",
       "  '2022. 1. 5.',\n",
       "  '2022. 1. 5.',\n",
       "  '2022. 1. 5.',\n",
       "  '2022. 1. 5.',\n",
       "  '2022. 1. 5.',\n",
       "  '2022. 1. 5.',\n",
       "  '2022. 1. 6.',\n",
       "  '2022. 1. 6.',\n",
       "  '2022. 1. 6.',\n",
       "  '2022. 1. 6.',\n",
       "  '2022. 1. 6.',\n",
       "  '2022. 1. 6.',\n",
       "  '2022. 1. 6.',\n",
       "  '2022. 1. 6.',\n",
       "  '2022. 1. 6.',\n",
       "  '2022. 1. 6.',\n",
       "  '2022. 1. 6.',\n",
       "  '2022. 1. 6.',\n",
       "  '2022. 1. 6.',\n",
       "  '2022. 1. 6.',\n",
       "  '2022. 1. 6.',\n",
       "  '2022. 1. 6.',\n",
       "  '2022. 1. 6.',\n",
       "  '2022. 1. 6.',\n",
       "  '2022. 1. 6.',\n",
       "  '2022. 1. 6.',\n",
       "  '2022. 1. 7.',\n",
       "  '2022. 1. 7.',\n",
       "  '2022. 1. 7.',\n",
       "  '2022. 1. 7.',\n",
       "  '2022. 1. 7.',\n",
       "  '2022. 1. 7.',\n",
       "  '2022. 1. 7.',\n",
       "  '2022. 1. 7.',\n",
       "  '2022. 1. 7.',\n",
       "  '2022. 1. 7.',\n",
       "  '2022. 1. 7.',\n",
       "  '2022. 1. 7.',\n",
       "  '2022. 1. 7.',\n",
       "  '2022. 1. 7.',\n",
       "  '2022. 1. 7.',\n",
       "  '2022. 1. 7.',\n",
       "  '2022. 1. 7.',\n",
       "  '2022. 1. 7.',\n",
       "  '2022. 1. 7.',\n",
       "  '2022. 1. 7.',\n",
       "  '2022. 1. 8.',\n",
       "  '2022. 1. 8.',\n",
       "  '2022. 1. 8.',\n",
       "  '2022. 1. 8.',\n",
       "  '2022. 1. 8.',\n",
       "  '2022. 1. 8.',\n",
       "  '2022. 1. 9.',\n",
       "  '2022. 1. 9.',\n",
       "  '2022. 1. 9.',\n",
       "  '2022. 1. 9.',\n",
       "  '2022. 1. 9.',\n",
       "  '2022. 1. 9.',\n",
       "  '2022. 1. 9.',\n",
       "  '2022. 1. 9.',\n",
       "  '2022. 1. 9.',\n",
       "  '2022. 1. 9.',\n",
       "  '2022. 1. 9.',\n",
       "  '2022. 1. 10.',\n",
       "  '2022. 1. 10.',\n",
       "  '2022. 1. 10.',\n",
       "  '2022. 1. 10.',\n",
       "  '2022. 1. 10.',\n",
       "  '2022. 1. 10.',\n",
       "  '2022. 1. 10.',\n",
       "  '2022. 1. 10.',\n",
       "  '2022. 1. 10.',\n",
       "  '2022. 1. 10.',\n",
       "  '2022. 1. 10.',\n",
       "  '2022. 1. 10.',\n",
       "  '2022. 1. 10.',\n",
       "  '2022. 1. 10.',\n",
       "  '2022. 1. 10.',\n",
       "  '2022. 1. 10.',\n",
       "  '2022. 1. 10.',\n",
       "  '2022. 1. 10.',\n",
       "  '2022. 1. 10.',\n",
       "  '2022. 1. 10.',\n",
       "  '2022. 1. 11.',\n",
       "  '2022. 1. 11.',\n",
       "  '2022. 1. 11.',\n",
       "  '2022. 1. 11.',\n",
       "  '2022. 1. 11.',\n",
       "  '2022. 1. 11.',\n",
       "  '2022. 1. 11.',\n",
       "  '2022. 1. 11.',\n",
       "  '2022. 1. 11.',\n",
       "  '2022. 1. 11.',\n",
       "  '2022. 1. 11.',\n",
       "  '2022. 1. 11.',\n",
       "  '2022. 1. 11.',\n",
       "  '2022. 1. 11.',\n",
       "  '2022. 1. 11.',\n",
       "  '2022. 1. 11.',\n",
       "  '2022. 1. 11.',\n",
       "  '2022. 1. 11.',\n",
       "  '2022. 1. 11.',\n",
       "  '2022. 1. 11.',\n",
       "  '2022. 1. 12.',\n",
       "  '2022. 1. 12.',\n",
       "  '2022. 1. 12.',\n",
       "  '2022. 1. 12.',\n",
       "  '2022. 1. 12.',\n",
       "  '2022. 1. 12.',\n",
       "  '2022. 1. 12.',\n",
       "  '2022. 1. 12.',\n",
       "  '2022. 1. 12.',\n",
       "  '2022. 1. 12.',\n",
       "  '2022. 1. 12.',\n",
       "  '2022. 1. 12.',\n",
       "  '2022. 1. 12.',\n",
       "  '2022. 1. 12.',\n",
       "  '2022. 1. 12.',\n",
       "  '2022. 1. 12.',\n",
       "  '2022. 1. 12.',\n",
       "  '2022. 1. 12.',\n",
       "  '2022. 1. 12.',\n",
       "  '2022. 1. 12.',\n",
       "  '2022. 1. 13.',\n",
       "  '2022. 1. 13.',\n",
       "  '2022. 1. 13.',\n",
       "  '2022. 1. 13.',\n",
       "  '2022. 1. 13.',\n",
       "  '2022. 1. 13.',\n",
       "  '2022. 1. 13.',\n",
       "  '2022. 1. 13.',\n",
       "  '2022. 1. 13.',\n",
       "  '2022. 1. 13.',\n",
       "  '2022. 1. 13.',\n",
       "  '2022. 1. 13.',\n",
       "  '2022. 1. 13.',\n",
       "  '2022. 1. 13.',\n",
       "  '2022. 1. 13.',\n",
       "  '2022. 1. 13.',\n",
       "  '2022. 1. 13.',\n",
       "  '2022. 1. 13.',\n",
       "  '2022. 1. 13.',\n",
       "  '2022. 1. 13.',\n",
       "  '2022. 1. 14.',\n",
       "  '2022. 1. 14.',\n",
       "  '2022. 1. 14.',\n",
       "  '2022. 1. 14.',\n",
       "  '2022. 1. 14.',\n",
       "  '2022. 1. 14.',\n",
       "  '2022. 1. 14.',\n",
       "  '2022. 1. 14.',\n",
       "  '2022. 1. 14.',\n",
       "  '2022. 1. 14.',\n",
       "  '2022. 1. 14.',\n",
       "  '2022. 1. 14.',\n",
       "  '2022. 1. 14.',\n",
       "  '2022. 1. 14.',\n",
       "  '2022. 1. 14.',\n",
       "  '2022. 1. 14.',\n",
       "  '2022. 1. 14.',\n",
       "  '2022. 1. 14.',\n",
       "  '2022. 1. 14.',\n",
       "  '2022. 1. 14.',\n",
       "  '2022. 1. 15.',\n",
       "  '2022. 1. 15.',\n",
       "  '2022. 1. 15.',\n",
       "  '2022. 1. 15.',\n",
       "  '2022. 1. 15.',\n",
       "  '2022. 1. 16.',\n",
       "  '2022. 1. 16.',\n",
       "  '2022. 1. 16.',\n",
       "  '2022. 1. 16.',\n",
       "  '2022. 1. 16.',\n",
       "  '2022. 1. 16.',\n",
       "  '2022. 1. 16.',\n",
       "  '2022. 1. 16.',\n",
       "  '2022. 1. 17.',\n",
       "  '2022. 1. 17.',\n",
       "  '2022. 1. 17.',\n",
       "  '2022. 1. 17.',\n",
       "  '2022. 1. 17.',\n",
       "  '2022. 1. 17.',\n",
       "  '2022. 1. 17.',\n",
       "  '2022. 1. 17.',\n",
       "  '2022. 1. 17.',\n",
       "  '2022. 1. 17.',\n",
       "  '2022. 1. 17.',\n",
       "  '2022. 1. 17.',\n",
       "  '2022. 1. 17.',\n",
       "  '2022. 1. 17.',\n",
       "  '2022. 1. 17.',\n",
       "  '2022. 1. 17.',\n",
       "  '2022. 1. 18.',\n",
       "  '2022. 1. 18.',\n",
       "  '2022. 1. 18.',\n",
       "  '2022. 1. 18.',\n",
       "  '2022. 1. 18.',\n",
       "  '2022. 1. 18.',\n",
       "  '2022. 1. 18.',\n",
       "  '2022. 1. 18.',\n",
       "  '2022. 1. 18.',\n",
       "  '2022. 1. 18.',\n",
       "  '2022. 1. 18.',\n",
       "  '2022. 1. 18.',\n",
       "  '2022. 1. 18.',\n",
       "  '2022. 1. 18.',\n",
       "  '2022. 1. 18.',\n",
       "  '2022. 1. 18.',\n",
       "  '2022. 1. 18.',\n",
       "  '2022. 1. 18.',\n",
       "  '2022. 1. 19.',\n",
       "  '2022. 1. 19.',\n",
       "  '2022. 1. 19.',\n",
       "  '2022. 1. 19.',\n",
       "  '2022. 1. 19.',\n",
       "  '2022. 1. 19.',\n",
       "  '2022. 1. 19.',\n",
       "  '2022. 1. 19.',\n",
       "  '2022. 1. 19.',\n",
       "  '2022. 1. 19.',\n",
       "  '2022. 1. 19.',\n",
       "  '2022. 1. 19.',\n",
       "  '2022. 1. 19.',\n",
       "  '2022. 1. 19.',\n",
       "  '2022. 1. 19.',\n",
       "  '2022. 1. 19.',\n",
       "  '2022. 1. 19.',\n",
       "  '2022. 1. 19.',\n",
       "  '2022. 1. 19.',\n",
       "  '2022. 1. 19.',\n",
       "  '2022. 1. 20.',\n",
       "  '2022. 1. 20.',\n",
       "  '2022. 1. 20.',\n",
       "  '2022. 1. 20.',\n",
       "  '2022. 1. 20.',\n",
       "  '2022. 1. 20.',\n",
       "  '2022. 1. 20.',\n",
       "  '2022. 1. 20.',\n",
       "  '2022. 1. 20.',\n",
       "  '2022. 1. 20.',\n",
       "  '2022. 1. 20.',\n",
       "  '2022. 1. 20.',\n",
       "  '2022. 1. 20.',\n",
       "  '2022. 1. 20.',\n",
       "  '2022. 1. 20.',\n",
       "  '2022. 1. 20.',\n",
       "  '2022. 1. 20.',\n",
       "  '2022. 1. 20.',\n",
       "  '2022. 1. 20.',\n",
       "  '2022. 1. 20.',\n",
       "  '2022. 1. 21.',\n",
       "  '2022. 1. 21.',\n",
       "  '2022. 1. 21.',\n",
       "  '2022. 1. 21.',\n",
       "  '2022. 1. 21.',\n",
       "  '2022. 1. 21.',\n",
       "  '2022. 1. 21.',\n",
       "  '2022. 1. 21.',\n",
       "  '2022. 1. 21.',\n",
       "  '2022. 1. 21.',\n",
       "  '2022. 1. 21.',\n",
       "  '2022. 1. 21.',\n",
       "  '2022. 1. 21.',\n",
       "  '2022. 1. 21.',\n",
       "  '2022. 1. 21.',\n",
       "  '2022. 1. 21.',\n",
       "  '2022. 1. 21.',\n",
       "  '2022. 1. 21.',\n",
       "  '2022. 1. 21.',\n",
       "  '2022. 1. 21.',\n",
       "  '2022. 1. 22.',\n",
       "  '2022. 1. 22.',\n",
       "  '2022. 1. 22.',\n",
       "  '2022. 1. 22.',\n",
       "  '2022. 1. 22.',\n",
       "  '2022. 1. 22.',\n",
       "  '2022. 1. 22.',\n",
       "  '2022. 1. 22.',\n",
       "  '2022. 1. 22.',\n",
       "  '2022. 1. 22.',\n",
       "  '2022. 1. 22.',\n",
       "  '2022. 1. 22.',\n",
       "  '2022. 10. 17.',\n",
       "  '2022. 1. 23.',\n",
       "  '2022. 1. 23.',\n",
       "  '2022. 1. 23.',\n",
       "  '2022. 1. 23.',\n",
       "  '2022. 1. 23.',\n",
       "  '2022. 1. 23.',\n",
       "  '2022. 1. 23.',\n",
       "  '2022. 1. 23.',\n",
       "  '2022. 1. 24.',\n",
       "  '2022. 1. 24.',\n",
       "  '2022. 1. 24.',\n",
       "  '2022. 1. 24.',\n",
       "  '2022. 1. 24.',\n",
       "  '2022. 1. 24.',\n",
       "  '2022. 1. 24.',\n",
       "  '2022. 1. 24.',\n",
       "  '2022. 1. 24.',\n",
       "  '2022. 1. 24.',\n",
       "  '2022. 1. 24.',\n",
       "  '2022. 1. 24.',\n",
       "  '2022. 1. 24.',\n",
       "  '2022. 1. 24.',\n",
       "  '2022. 1. 24.',\n",
       "  '2022. 1. 24.',\n",
       "  '2022. 1. 24.',\n",
       "  '2022. 1. 24.',\n",
       "  '2022. 1. 24.',\n",
       "  '2022. 1. 24.',\n",
       "  '2022. 1. 25.',\n",
       "  '2022. 1. 25.',\n",
       "  '2022. 1. 25.',\n",
       "  '2022. 1. 25.',\n",
       "  '2022. 1. 25.',\n",
       "  '2022. 1. 25.',\n",
       "  '2022. 1. 25.',\n",
       "  '2022. 1. 25.',\n",
       "  '2022. 1. 25.',\n",
       "  '2022. 1. 25.',\n",
       "  '2022. 1. 25.',\n",
       "  '2022. 1. 25.',\n",
       "  '2022. 1. 25.',\n",
       "  '2022. 1. 25.',\n",
       "  '2022. 1. 25.',\n",
       "  '2022. 1. 25.',\n",
       "  '2022. 1. 25.',\n",
       "  '2022. 1. 25.',\n",
       "  '2022. 1. 25.',\n",
       "  '2022. 1. 25.',\n",
       "  '2022. 1. 26.',\n",
       "  '2022. 1. 26.',\n",
       "  '2022. 1. 26.',\n",
       "  '2022. 1. 26.',\n",
       "  '2022. 1. 26.',\n",
       "  '2022. 1. 26.',\n",
       "  '2022. 1. 26.',\n",
       "  '2022. 1. 26.',\n",
       "  '2022. 1. 26.',\n",
       "  '2022. 1. 26.',\n",
       "  '2022. 1. 26.',\n",
       "  '2022. 1. 26.',\n",
       "  '2022. 1. 26.',\n",
       "  '2022. 1. 26.',\n",
       "  '2022. 1. 26.',\n",
       "  '2022. 1. 26.',\n",
       "  '2022. 1. 26.',\n",
       "  '2022. 1. 26.',\n",
       "  '2022. 1. 26.',\n",
       "  '2022. 1. 26.',\n",
       "  '2022. 1. 27.',\n",
       "  '2022. 1. 27.',\n",
       "  '2022. 1. 27.',\n",
       "  '2022. 1. 27.',\n",
       "  '2022. 1. 27.',\n",
       "  '2022. 1. 27.',\n",
       "  '2022. 1. 27.',\n",
       "  '2022. 1. 27.',\n",
       "  '2022. 1. 27.',\n",
       "  '2022. 1. 27.',\n",
       "  '2022. 1. 27.',\n",
       "  '2022. 1. 27.',\n",
       "  '2022. 1. 27.',\n",
       "  '2022. 1. 27.',\n",
       "  '2022. 1. 27.',\n",
       "  '2022. 1. 27.',\n",
       "  '2022. 1. 27.',\n",
       "  '2022. 1. 27.',\n",
       "  '2022. 1. 27.',\n",
       "  '2022. 1. 27.',\n",
       "  '2022. 1. 28.',\n",
       "  '2022. 1. 28.',\n",
       "  '2022. 1. 28.',\n",
       "  '2022. 1. 28.',\n",
       "  '2022. 1. 28.',\n",
       "  '2022. 1. 28.',\n",
       "  '2022. 1. 28.',\n",
       "  '2022. 1. 28.',\n",
       "  '2022. 1. 28.',\n",
       "  '2022. 1. 28.',\n",
       "  '2022. 1. 28.',\n",
       "  '2022. 1. 28.',\n",
       "  '2022. 1. 28.',\n",
       "  '2022. 1. 28.',\n",
       "  '2022. 1. 28.',\n",
       "  '2022. 1. 28.',\n",
       "  '2022. 1. 28.',\n",
       "  '2022. 1. 28.',\n",
       "  '2022. 1. 28.',\n",
       "  '2022. 1. 28.',\n",
       "  '2022. 1. 29.',\n",
       "  '2022. 1. 29.',\n",
       "  '2022. 1. 29.',\n",
       "  '2022. 1. 29.',\n",
       "  '2022. 1. 29.',\n",
       "  '2022. 1. 30.',\n",
       "  '2022. 1. 30.',\n",
       "  '2022. 1. 30.',\n",
       "  '2022. 1. 30.',\n",
       "  '2022. 1. 30.',\n",
       "  '2022. 1. 30.',\n",
       "  '2022. 1. 30.',\n",
       "  '2022. 1. 31.',\n",
       "  '2022. 1. 31.',\n",
       "  '2022. 1. 31.',\n",
       "  '2022. 1. 31.',\n",
       "  '2022. 1. 31.',\n",
       "  '2022. 1. 31.',\n",
       "  '2022. 1. 31.',\n",
       "  '2022. 1. 31.',\n",
       "  '2022. 1. 31.',\n",
       "  '2022. 1. 31.',\n",
       "  '2022. 1. 31.',\n",
       "  '2022. 1. 31.',\n",
       "  '2022. 1. 31.',\n",
       "  '2022. 1. 31.',\n",
       "  '2022. 1. 31.',\n",
       "  '2022. 1. 31.',\n",
       "  '2022. 1. 31.',\n",
       "  '2022. 1. 31.',\n",
       "  '2022. 1. 31.',\n",
       "  '2022. 1. 31.',\n",
       "  '2022. 2. 1.',\n",
       "  '2022. 2. 1.',\n",
       "  '2022. 2. 1.',\n",
       "  '2022. 2. 1.',\n",
       "  '2022. 2. 1.',\n",
       "  '2022. 2. 1.',\n",
       "  '2022. 2. 1.',\n",
       "  '2022. 2. 1.',\n",
       "  '2022. 2. 1.',\n",
       "  '2022. 2. 1.',\n",
       "  '2022. 2. 1.',\n",
       "  '2022. 2. 1.',\n",
       "  '2022. 2. 1.',\n",
       "  '2022. 2. 1.',\n",
       "  '2022. 2. 1.',\n",
       "  '2022. 2. 1.',\n",
       "  '2022. 2. 1.',\n",
       "  '2022. 2. 1.',\n",
       "  '2022. 2. 1.',\n",
       "  '2022. 2. 1.',\n",
       "  '2022. 2. 2.',\n",
       "  '2022. 2. 2.',\n",
       "  '2022. 2. 2.',\n",
       "  '2022. 2. 2.',\n",
       "  '2022. 2. 2.',\n",
       "  '2022. 2. 2.',\n",
       "  '2022. 2. 2.',\n",
       "  '2022. 2. 2.',\n",
       "  '2022. 2. 2.',\n",
       "  '2022. 2. 2.',\n",
       "  '2022. 2. 2.',\n",
       "  '2022. 2. 2.',\n",
       "  '2022. 2. 2.',\n",
       "  '2022. 2. 2.',\n",
       "  '2022. 2. 2.',\n",
       "  '2022. 2. 2.',\n",
       "  '2022. 2. 2.',\n",
       "  '2022. 2. 2.',\n",
       "  '2022. 2. 2.',\n",
       "  '2022. 2. 2.',\n",
       "  '2022. 2. 3.',\n",
       "  '2022. 2. 3.',\n",
       "  '2022. 2. 3.',\n",
       "  '2022. 2. 3.',\n",
       "  '2022. 2. 3.',\n",
       "  '2022. 2. 3.',\n",
       "  '2022. 2. 3.',\n",
       "  '2022. 2. 3.',\n",
       "  '2022. 2. 3.',\n",
       "  '2022. 2. 3.',\n",
       "  '2022. 2. 3.',\n",
       "  '2022. 2. 3.',\n",
       "  '2022. 2. 3.',\n",
       "  '2022. 2. 3.',\n",
       "  '2022. 2. 3.',\n",
       "  '2022. 2. 3.',\n",
       "  '2022. 2. 3.',\n",
       "  '2022. 2. 3.',\n",
       "  '2022. 2. 3.',\n",
       "  '2022. 2. 3.',\n",
       "  '2022. 2. 4.',\n",
       "  '2022. 2. 4.',\n",
       "  '2022. 2. 4.',\n",
       "  '2022. 2. 4.',\n",
       "  '2022. 2. 4.',\n",
       "  '2022. 2. 4.',\n",
       "  '2022. 2. 4.',\n",
       "  '2022. 2. 4.',\n",
       "  '2022. 2. 4.',\n",
       "  '2022. 2. 4.',\n",
       "  '2022. 2. 4.',\n",
       "  '2022. 2. 4.',\n",
       "  '2022. 2. 4.',\n",
       "  '2022. 2. 4.',\n",
       "  '2022. 2. 4.',\n",
       "  '2022. 2. 4.',\n",
       "  '2022. 2. 4.',\n",
       "  '2022. 2. 4.',\n",
       "  '2022. 2. 4.',\n",
       "  '2022. 2. 4.',\n",
       "  '2022. 2. 5.',\n",
       "  '2022. 2. 5.',\n",
       "  '2022. 2. 5.',\n",
       "  '2022. 2. 5.',\n",
       "  '2022. 2. 5.',\n",
       "  '2022. 2. 5.',\n",
       "  '2022. 2. 6.',\n",
       "  '2022. 2. 6.',\n",
       "  '2022. 2. 6.',\n",
       "  '2022. 2. 6.',\n",
       "  '2022. 2. 6.',\n",
       "  '2022. 2. 6.',\n",
       "  '2022. 2. 6.',\n",
       "  '2022. 2. 6.',\n",
       "  '2022. 2. 6.',\n",
       "  '2022. 2. 6.',\n",
       "  '2022. 2. 6.',\n",
       "  '2022. 2. 6.',\n",
       "  '2022. 2. 7.',\n",
       "  '2022. 2. 7.',\n",
       "  '2022. 2. 7.',\n",
       "  '2022. 2. 7.',\n",
       "  '2022. 2. 7.',\n",
       "  '2022. 2. 7.',\n",
       "  '2022. 2. 7.',\n",
       "  '2022. 2. 7.',\n",
       "  '2022. 2. 7.',\n",
       "  '2022. 2. 7.',\n",
       "  '2022. 2. 7.',\n",
       "  '2022. 2. 7.',\n",
       "  '2022. 2. 7.',\n",
       "  '2022. 2. 7.',\n",
       "  '2022. 2. 7.',\n",
       "  '2022. 2. 7.',\n",
       "  '2022. 2. 7.',\n",
       "  '2022. 2. 7.',\n",
       "  '2022. 2. 7.',\n",
       "  '2022. 2. 7.',\n",
       "  '2022. 2. 8.',\n",
       "  '2022. 2. 8.',\n",
       "  '2022. 2. 8.',\n",
       "  '2022. 2. 8.',\n",
       "  '2022. 2. 8.',\n",
       "  '2022. 2. 8.',\n",
       "  '2022. 2. 8.',\n",
       "  '2022. 2. 8.',\n",
       "  '2022. 2. 8.',\n",
       "  '2022. 2. 8.',\n",
       "  '2022. 2. 8.',\n",
       "  '2022. 2. 8.',\n",
       "  '2022. 2. 8.',\n",
       "  '2022. 2. 8.',\n",
       "  '2022. 2. 8.',\n",
       "  '2022. 2. 8.',\n",
       "  '2022. 2. 8.',\n",
       "  '2022. 2. 8.',\n",
       "  '2022. 2. 8.',\n",
       "  '2022. 2. 8.',\n",
       "  '2022. 2. 9.',\n",
       "  '2022. 2. 9.',\n",
       "  '2022. 2. 9.',\n",
       "  '2022. 2. 9.',\n",
       "  '2022. 2. 9.',\n",
       "  '2022. 2. 9.',\n",
       "  '2022. 2. 9.',\n",
       "  '2022. 2. 9.',\n",
       "  '2022. 2. 9.',\n",
       "  '2022. 2. 9.',\n",
       "  '2022. 2. 9.',\n",
       "  '2022. 2. 9.',\n",
       "  '2022. 2. 9.',\n",
       "  '2022. 2. 9.',\n",
       "  '2022. 2. 9.',\n",
       "  '2022. 2. 9.',\n",
       "  '2022. 2. 9.',\n",
       "  '2022. 2. 9.',\n",
       "  '2022. 2. 9.',\n",
       "  '2022. 2. 9.',\n",
       "  '2022. 2. 10.',\n",
       "  '2022. 2. 10.',\n",
       "  '2022. 2. 10.',\n",
       "  '2022. 2. 10.',\n",
       "  '2022. 2. 10.',\n",
       "  '2022. 2. 10.',\n",
       "  '2022. 2. 10.',\n",
       "  '2022. 2. 10.',\n",
       "  '2022. 2. 10.',\n",
       "  '2022. 2. 10.',\n",
       "  '2022. 2. 10.',\n",
       "  '2022. 2. 10.',\n",
       "  '2022. 2. 10.',\n",
       "  '2022. 2. 10.',\n",
       "  '2022. 2. 10.',\n",
       "  '2022. 2. 10.',\n",
       "  '2022. 2. 10.',\n",
       "  '2022. 2. 10.',\n",
       "  '2022. 2. 10.',\n",
       "  '2022. 2. 10.',\n",
       "  '2022. 2. 11.',\n",
       "  '2022. 2. 11.',\n",
       "  '2022. 2. 11.',\n",
       "  '2022. 2. 11.',\n",
       "  '2022. 2. 11.',\n",
       "  '2022. 2. 11.',\n",
       "  '2022. 2. 11.',\n",
       "  '2022. 2. 11.',\n",
       "  '2022. 2. 11.',\n",
       "  '2022. 2. 11.',\n",
       "  '2022. 2. 11.',\n",
       "  '2022. 2. 11.',\n",
       "  '2022. 2. 11.',\n",
       "  '2022. 2. 11.',\n",
       "  ...]]"
      ]
     },
     "execution_count": 60,
     "metadata": {},
     "output_type": "execute_result"
    }
   ],
   "source": [
    "#잘 수집되었나 출력해볼까요?\n",
    "res"
   ]
  },
  {
   "cell_type": "code",
   "execution_count": 63,
   "metadata": {
    "colab": {
     "base_uri": "https://localhost:8080/",
     "height": 423
    },
    "id": "B3uTsutBwqil",
    "outputId": "46203d9d-dcee-4334-ca60-4fb36f0ee650"
   },
   "outputs": [
    {
     "data": {
      "text/html": [
       "<div>\n",
       "<style scoped>\n",
       "    .dataframe tbody tr th:only-of-type {\n",
       "        vertical-align: middle;\n",
       "    }\n",
       "\n",
       "    .dataframe tbody tr th {\n",
       "        vertical-align: top;\n",
       "    }\n",
       "\n",
       "    .dataframe thead th {\n",
       "        text-align: right;\n",
       "    }\n",
       "</style>\n",
       "<table border=\"1\" class=\"dataframe\">\n",
       "  <thead>\n",
       "    <tr style=\"text-align: right;\">\n",
       "      <th></th>\n",
       "      <th>0</th>\n",
       "      <th>1</th>\n",
       "    </tr>\n",
       "  </thead>\n",
       "  <tbody>\n",
       "    <tr>\n",
       "      <th>0</th>\n",
       "      <td>If You're an Emotional Investor, Here's What Y...</td>\n",
       "      <td>2022. 1. 1.</td>\n",
       "    </tr>\n",
       "    <tr>\n",
       "      <th>1</th>\n",
       "      <td>Is It Too Late to Buy Shopify Stock?</td>\n",
       "      <td>2022. 1. 1.</td>\n",
       "    </tr>\n",
       "    <tr>\n",
       "      <th>2</th>\n",
       "      <td>Up 49000000% in 2021: Is Shiba Inu Still a Buy?</td>\n",
       "      <td>2022. 1. 1.</td>\n",
       "    </tr>\n",
       "    <tr>\n",
       "      <th>3</th>\n",
       "      <td>Investing in This ETF Right Now Could Make You...</td>\n",
       "      <td>2022. 1. 1.</td>\n",
       "    </tr>\n",
       "    <tr>\n",
       "      <th>4</th>\n",
       "      <td>4 Top Streaming Stocks To Watch In 2022</td>\n",
       "      <td>2022. 1. 1.</td>\n",
       "    </tr>\n",
       "    <tr>\n",
       "      <th>...</th>\n",
       "      <td>...</td>\n",
       "      <td>...</td>\n",
       "    </tr>\n",
       "    <tr>\n",
       "      <th>6441</th>\n",
       "      <td>Where Will Apple Stock Be in 1 Year?</td>\n",
       "      <td>2022. 12. 31.</td>\n",
       "    </tr>\n",
       "    <tr>\n",
       "      <th>6442</th>\n",
       "      <td>Down 72% in 2022, Is UiPath Stock a Buy for 2023?</td>\n",
       "      <td>2022. 12. 31.</td>\n",
       "    </tr>\n",
       "    <tr>\n",
       "      <th>6443</th>\n",
       "      <td>Where Will Unity Software Stock Be in 3 Years?</td>\n",
       "      <td>2022. 12. 31.</td>\n",
       "    </tr>\n",
       "    <tr>\n",
       "      <th>6444</th>\n",
       "      <td>Crinetics Pharmaceuticals (NASDAQ:CRNX) Is In ...</td>\n",
       "      <td>2022. 12. 31.</td>\n",
       "    </tr>\n",
       "    <tr>\n",
       "      <th>6445</th>\n",
       "      <td>7 Nuclear Fusion Stocks to Buy Before the Next...</td>\n",
       "      <td>2022. 12. 31.</td>\n",
       "    </tr>\n",
       "  </tbody>\n",
       "</table>\n",
       "<p>6446 rows × 2 columns</p>\n",
       "</div>"
      ],
      "text/plain": [
       "                                                      0              1\n",
       "0     If You're an Emotional Investor, Here's What Y...    2022. 1. 1.\n",
       "1                  Is It Too Late to Buy Shopify Stock?    2022. 1. 1.\n",
       "2       Up 49000000% in 2021: Is Shiba Inu Still a Buy?    2022. 1. 1.\n",
       "3     Investing in This ETF Right Now Could Make You...    2022. 1. 1.\n",
       "4               4 Top Streaming Stocks To Watch In 2022    2022. 1. 1.\n",
       "...                                                 ...            ...\n",
       "6441               Where Will Apple Stock Be in 1 Year?  2022. 12. 31.\n",
       "6442  Down 72% in 2022, Is UiPath Stock a Buy for 2023?  2022. 12. 31.\n",
       "6443     Where Will Unity Software Stock Be in 3 Years?  2022. 12. 31.\n",
       "6444  Crinetics Pharmaceuticals (NASDAQ:CRNX) Is In ...  2022. 12. 31.\n",
       "6445  7 Nuclear Fusion Stocks to Buy Before the Next...  2022. 12. 31.\n",
       "\n",
       "[6446 rows x 2 columns]"
      ]
     },
     "execution_count": 63,
     "metadata": {},
     "output_type": "execute_result"
    }
   ],
   "source": [
    "#데이터 프레임으로 저장하기 \n",
    "df = pd.DataFrame(res)\n",
    "df=df.transpose()\n",
    "df\n"
   ]
  },
  {
   "cell_type": "code",
   "execution_count": 62,
   "metadata": {},
   "outputs": [],
   "source": [
    "#일단 csv로 저장\n",
    "df.to_csv('나스닥_2022.csv', index=False)"
   ]
  },
  {
   "cell_type": "code",
   "execution_count": null,
   "metadata": {},
   "outputs": [],
   "source": []
  },
  {
   "cell_type": "code",
   "execution_count": null,
   "metadata": {},
   "outputs": [],
   "source": []
  },
  {
   "cell_type": "code",
   "execution_count": 84,
   "metadata": {},
   "outputs": [],
   "source": [
    "#여기서 부터는 제가 코랩에서 csv 파일 불러와서 이것저것 전처리 한거에요 !\n",
    "#왜 코랩에서 했냐구요~? 주피터에서 크롤링 하고 코랩으로 전처리 해보고 있었답니다~"
   ]
  },
  {
   "cell_type": "code",
   "execution_count": 138,
   "metadata": {},
   "outputs": [],
   "source": [
    "import pandas as pd"
   ]
  },
  {
   "cell_type": "code",
   "execution_count": 139,
   "metadata": {},
   "outputs": [],
   "source": [
    "#실수로 연습삼아 했던 2023 년것도 섞여 들어와서 제목이 저렇습니다\n",
    "df_1 = pd.read_csv('C:/Users/bgmun/Downloads/SampleNasdaq.csv')"
   ]
  },
  {
   "cell_type": "code",
   "execution_count": 140,
   "metadata": {},
   "outputs": [],
   "source": [
    "# filtered_df_1 = df_1[~df_1['1'].str.contains('면')]\n",
    "# filtered_df_1\n",
    "filtered_df_1=df_1"
   ]
  },
  {
   "cell_type": "code",
   "execution_count": 141,
   "metadata": {},
   "outputs": [
    {
     "data": {
      "text/html": [
       "<div>\n",
       "<style scoped>\n",
       "    .dataframe tbody tr th:only-of-type {\n",
       "        vertical-align: middle;\n",
       "    }\n",
       "\n",
       "    .dataframe tbody tr th {\n",
       "        vertical-align: top;\n",
       "    }\n",
       "\n",
       "    .dataframe thead th {\n",
       "        text-align: right;\n",
       "    }\n",
       "</style>\n",
       "<table border=\"1\" class=\"dataframe\">\n",
       "  <thead>\n",
       "    <tr style=\"text-align: right;\">\n",
       "      <th></th>\n",
       "      <th>Title</th>\n",
       "      <th>Date</th>\n",
       "    </tr>\n",
       "  </thead>\n",
       "  <tbody>\n",
       "    <tr>\n",
       "      <th>0</th>\n",
       "      <td>Nasdaq Jumps 3%. Powell and Earnings Are Behin...</td>\n",
       "      <td>2023. 2. 2.</td>\n",
       "    </tr>\n",
       "    <tr>\n",
       "      <th>1</th>\n",
       "      <td>US STOCKS-Nasdaq soars more than 3% on Meta bo...</td>\n",
       "      <td>2023. 2. 2.</td>\n",
       "    </tr>\n",
       "    <tr>\n",
       "      <th>2</th>\n",
       "      <td>Nasdaq, S&amp;P 500 post strong gains on Fed relie...</td>\n",
       "      <td>2023. 2. 2.</td>\n",
       "    </tr>\n",
       "    <tr>\n",
       "      <th>3</th>\n",
       "      <td>The Nasdaq Is Having Best Start to the Year Si...</td>\n",
       "      <td>2023. 2. 2.</td>\n",
       "    </tr>\n",
       "    <tr>\n",
       "      <th>4</th>\n",
       "      <td>History Suggests the Nasdaq Could Soar In 2023...</td>\n",
       "      <td>2023. 2. 2.</td>\n",
       "    </tr>\n",
       "    <tr>\n",
       "      <th>...</th>\n",
       "      <td>...</td>\n",
       "      <td>...</td>\n",
       "    </tr>\n",
       "    <tr>\n",
       "      <th>244</th>\n",
       "      <td>Algorand: Buy the Dip?</td>\n",
       "      <td>2023. 2. 7.</td>\n",
       "    </tr>\n",
       "    <tr>\n",
       "      <th>245</th>\n",
       "      <td>Want to Invest in ChatGPT? Then Buy Microsoft ...</td>\n",
       "      <td>2023. 2. 7.</td>\n",
       "    </tr>\n",
       "    <tr>\n",
       "      <th>246</th>\n",
       "      <td>Why Layoffs Can Actually Lift a Company's Stoc...</td>\n",
       "      <td>2023. 2. 7.</td>\n",
       "    </tr>\n",
       "    <tr>\n",
       "      <th>247</th>\n",
       "      <td>Kao Min H Updates Holdings in Garmin (GRMN)</td>\n",
       "      <td>2023. 2. 7.</td>\n",
       "    </tr>\n",
       "    <tr>\n",
       "      <th>248</th>\n",
       "      <td>Is It Too Late to Buy Green Thumb Industries S...</td>\n",
       "      <td>2023. 2. 7.</td>\n",
       "    </tr>\n",
       "  </tbody>\n",
       "</table>\n",
       "<p>249 rows × 2 columns</p>\n",
       "</div>"
      ],
      "text/plain": [
       "                                                 Title         Date\n",
       "0    Nasdaq Jumps 3%. Powell and Earnings Are Behin...  2023. 2. 2.\n",
       "1    US STOCKS-Nasdaq soars more than 3% on Meta bo...  2023. 2. 2.\n",
       "2    Nasdaq, S&P 500 post strong gains on Fed relie...  2023. 2. 2.\n",
       "3    The Nasdaq Is Having Best Start to the Year Si...  2023. 2. 2.\n",
       "4    History Suggests the Nasdaq Could Soar In 2023...  2023. 2. 2.\n",
       "..                                                 ...          ...\n",
       "244                             Algorand: Buy the Dip?  2023. 2. 7.\n",
       "245  Want to Invest in ChatGPT? Then Buy Microsoft ...  2023. 2. 7.\n",
       "246  Why Layoffs Can Actually Lift a Company's Stoc...  2023. 2. 7.\n",
       "247        Kao Min H Updates Holdings in Garmin (GRMN)  2023. 2. 7.\n",
       "248  Is It Too Late to Buy Green Thumb Industries S...  2023. 2. 7.\n",
       "\n",
       "[249 rows x 2 columns]"
      ]
     },
     "execution_count": 141,
     "metadata": {},
     "output_type": "execute_result"
    }
   ],
   "source": [
    "filtered_df_1.rename(columns={'1':'Date'}, inplace=True)\n",
    "filtered_df_1.rename(columns={'0':'Title'}, inplace=True)\n",
    "filtered_df_1"
   ]
  },
  {
   "cell_type": "code",
   "execution_count": 153,
   "metadata": {},
   "outputs": [],
   "source": [
    "filtered_df_1['Date'] = filtered_df_1['Date'].str.rstrip('.')"
   ]
  },
  {
   "cell_type": "code",
   "execution_count": 154,
   "metadata": {},
   "outputs": [
    {
     "data": {
      "text/html": [
       "<div>\n",
       "<style scoped>\n",
       "    .dataframe tbody tr th:only-of-type {\n",
       "        vertical-align: middle;\n",
       "    }\n",
       "\n",
       "    .dataframe tbody tr th {\n",
       "        vertical-align: top;\n",
       "    }\n",
       "\n",
       "    .dataframe thead th {\n",
       "        text-align: right;\n",
       "    }\n",
       "</style>\n",
       "<table border=\"1\" class=\"dataframe\">\n",
       "  <thead>\n",
       "    <tr style=\"text-align: right;\">\n",
       "      <th></th>\n",
       "      <th>Title</th>\n",
       "      <th>Date</th>\n",
       "    </tr>\n",
       "  </thead>\n",
       "  <tbody>\n",
       "    <tr>\n",
       "      <th>0</th>\n",
       "      <td>Nasdaq Jumps 3%. Powell and Earnings Are Behin...</td>\n",
       "      <td>2023. 2. 2</td>\n",
       "    </tr>\n",
       "    <tr>\n",
       "      <th>1</th>\n",
       "      <td>US STOCKS-Nasdaq soars more than 3% on Meta bo...</td>\n",
       "      <td>2023. 2. 2</td>\n",
       "    </tr>\n",
       "    <tr>\n",
       "      <th>2</th>\n",
       "      <td>Nasdaq, S&amp;P 500 post strong gains on Fed relie...</td>\n",
       "      <td>2023. 2. 2</td>\n",
       "    </tr>\n",
       "    <tr>\n",
       "      <th>3</th>\n",
       "      <td>The Nasdaq Is Having Best Start to the Year Si...</td>\n",
       "      <td>2023. 2. 2</td>\n",
       "    </tr>\n",
       "    <tr>\n",
       "      <th>4</th>\n",
       "      <td>History Suggests the Nasdaq Could Soar In 2023...</td>\n",
       "      <td>2023. 2. 2</td>\n",
       "    </tr>\n",
       "    <tr>\n",
       "      <th>...</th>\n",
       "      <td>...</td>\n",
       "      <td>...</td>\n",
       "    </tr>\n",
       "    <tr>\n",
       "      <th>244</th>\n",
       "      <td>Algorand: Buy the Dip?</td>\n",
       "      <td>2023. 2. 7</td>\n",
       "    </tr>\n",
       "    <tr>\n",
       "      <th>245</th>\n",
       "      <td>Want to Invest in ChatGPT? Then Buy Microsoft ...</td>\n",
       "      <td>2023. 2. 7</td>\n",
       "    </tr>\n",
       "    <tr>\n",
       "      <th>246</th>\n",
       "      <td>Why Layoffs Can Actually Lift a Company's Stoc...</td>\n",
       "      <td>2023. 2. 7</td>\n",
       "    </tr>\n",
       "    <tr>\n",
       "      <th>247</th>\n",
       "      <td>Kao Min H Updates Holdings in Garmin (GRMN)</td>\n",
       "      <td>2023. 2. 7</td>\n",
       "    </tr>\n",
       "    <tr>\n",
       "      <th>248</th>\n",
       "      <td>Is It Too Late to Buy Green Thumb Industries S...</td>\n",
       "      <td>2023. 2. 7</td>\n",
       "    </tr>\n",
       "  </tbody>\n",
       "</table>\n",
       "<p>249 rows × 2 columns</p>\n",
       "</div>"
      ],
      "text/plain": [
       "                                                 Title        Date\n",
       "0    Nasdaq Jumps 3%. Powell and Earnings Are Behin...  2023. 2. 2\n",
       "1    US STOCKS-Nasdaq soars more than 3% on Meta bo...  2023. 2. 2\n",
       "2    Nasdaq, S&P 500 post strong gains on Fed relie...  2023. 2. 2\n",
       "3    The Nasdaq Is Having Best Start to the Year Si...  2023. 2. 2\n",
       "4    History Suggests the Nasdaq Could Soar In 2023...  2023. 2. 2\n",
       "..                                                 ...         ...\n",
       "244                             Algorand: Buy the Dip?  2023. 2. 7\n",
       "245  Want to Invest in ChatGPT? Then Buy Microsoft ...  2023. 2. 7\n",
       "246  Why Layoffs Can Actually Lift a Company's Stoc...  2023. 2. 7\n",
       "247        Kao Min H Updates Holdings in Garmin (GRMN)  2023. 2. 7\n",
       "248  Is It Too Late to Buy Green Thumb Industries S...  2023. 2. 7\n",
       "\n",
       "[249 rows x 2 columns]"
      ]
     },
     "execution_count": 154,
     "metadata": {},
     "output_type": "execute_result"
    }
   ],
   "source": [
    "filtered_df_1"
   ]
  },
  {
   "cell_type": "code",
   "execution_count": 160,
   "metadata": {},
   "outputs": [],
   "source": [
    "filtered_df_1['Date'] = pd.to_datetime(filtered_df_1['Date'])"
   ]
  },
  {
   "cell_type": "code",
   "execution_count": 161,
   "metadata": {},
   "outputs": [
    {
     "data": {
      "text/html": [
       "<div>\n",
       "<style scoped>\n",
       "    .dataframe tbody tr th:only-of-type {\n",
       "        vertical-align: middle;\n",
       "    }\n",
       "\n",
       "    .dataframe tbody tr th {\n",
       "        vertical-align: top;\n",
       "    }\n",
       "\n",
       "    .dataframe thead th {\n",
       "        text-align: right;\n",
       "    }\n",
       "</style>\n",
       "<table border=\"1\" class=\"dataframe\">\n",
       "  <thead>\n",
       "    <tr style=\"text-align: right;\">\n",
       "      <th></th>\n",
       "      <th>Title</th>\n",
       "      <th>Date</th>\n",
       "    </tr>\n",
       "  </thead>\n",
       "  <tbody>\n",
       "    <tr>\n",
       "      <th>0</th>\n",
       "      <td>Nasdaq Jumps 3%. Powell and Earnings Are Behin...</td>\n",
       "      <td>2023-02-02</td>\n",
       "    </tr>\n",
       "    <tr>\n",
       "      <th>1</th>\n",
       "      <td>US STOCKS-Nasdaq soars more than 3% on Meta bo...</td>\n",
       "      <td>2023-02-02</td>\n",
       "    </tr>\n",
       "    <tr>\n",
       "      <th>2</th>\n",
       "      <td>Nasdaq, S&amp;P 500 post strong gains on Fed relie...</td>\n",
       "      <td>2023-02-02</td>\n",
       "    </tr>\n",
       "    <tr>\n",
       "      <th>3</th>\n",
       "      <td>The Nasdaq Is Having Best Start to the Year Si...</td>\n",
       "      <td>2023-02-02</td>\n",
       "    </tr>\n",
       "    <tr>\n",
       "      <th>4</th>\n",
       "      <td>History Suggests the Nasdaq Could Soar In 2023...</td>\n",
       "      <td>2023-02-02</td>\n",
       "    </tr>\n",
       "    <tr>\n",
       "      <th>...</th>\n",
       "      <td>...</td>\n",
       "      <td>...</td>\n",
       "    </tr>\n",
       "    <tr>\n",
       "      <th>244</th>\n",
       "      <td>Algorand: Buy the Dip?</td>\n",
       "      <td>2023-02-07</td>\n",
       "    </tr>\n",
       "    <tr>\n",
       "      <th>245</th>\n",
       "      <td>Want to Invest in ChatGPT? Then Buy Microsoft ...</td>\n",
       "      <td>2023-02-07</td>\n",
       "    </tr>\n",
       "    <tr>\n",
       "      <th>246</th>\n",
       "      <td>Why Layoffs Can Actually Lift a Company's Stoc...</td>\n",
       "      <td>2023-02-07</td>\n",
       "    </tr>\n",
       "    <tr>\n",
       "      <th>247</th>\n",
       "      <td>Kao Min H Updates Holdings in Garmin (GRMN)</td>\n",
       "      <td>2023-02-07</td>\n",
       "    </tr>\n",
       "    <tr>\n",
       "      <th>248</th>\n",
       "      <td>Is It Too Late to Buy Green Thumb Industries S...</td>\n",
       "      <td>2023-02-07</td>\n",
       "    </tr>\n",
       "  </tbody>\n",
       "</table>\n",
       "<p>249 rows × 2 columns</p>\n",
       "</div>"
      ],
      "text/plain": [
       "                                                 Title       Date\n",
       "0    Nasdaq Jumps 3%. Powell and Earnings Are Behin... 2023-02-02\n",
       "1    US STOCKS-Nasdaq soars more than 3% on Meta bo... 2023-02-02\n",
       "2    Nasdaq, S&P 500 post strong gains on Fed relie... 2023-02-02\n",
       "3    The Nasdaq Is Having Best Start to the Year Si... 2023-02-02\n",
       "4    History Suggests the Nasdaq Could Soar In 2023... 2023-02-02\n",
       "..                                                 ...        ...\n",
       "244                             Algorand: Buy the Dip? 2023-02-07\n",
       "245  Want to Invest in ChatGPT? Then Buy Microsoft ... 2023-02-07\n",
       "246  Why Layoffs Can Actually Lift a Company's Stoc... 2023-02-07\n",
       "247        Kao Min H Updates Holdings in Garmin (GRMN) 2023-02-07\n",
       "248  Is It Too Late to Buy Green Thumb Industries S... 2023-02-07\n",
       "\n",
       "[249 rows x 2 columns]"
      ]
     },
     "execution_count": 161,
     "metadata": {},
     "output_type": "execute_result"
    }
   ],
   "source": [
    "filtered_df_1"
   ]
  },
  {
   "cell_type": "code",
   "execution_count": 162,
   "metadata": {},
   "outputs": [],
   "source": [
    "filtered_df_2022 = filtered_df_1[filtered_df_1['Date'].between('2023-02-02', '2023-02-05')]"
   ]
  },
  {
   "cell_type": "code",
   "execution_count": 163,
   "metadata": {
    "scrolled": true
   },
   "outputs": [
    {
     "data": {
      "text/html": [
       "<div>\n",
       "<style scoped>\n",
       "    .dataframe tbody tr th:only-of-type {\n",
       "        vertical-align: middle;\n",
       "    }\n",
       "\n",
       "    .dataframe tbody tr th {\n",
       "        vertical-align: top;\n",
       "    }\n",
       "\n",
       "    .dataframe thead th {\n",
       "        text-align: right;\n",
       "    }\n",
       "</style>\n",
       "<table border=\"1\" class=\"dataframe\">\n",
       "  <thead>\n",
       "    <tr style=\"text-align: right;\">\n",
       "      <th></th>\n",
       "      <th>Title</th>\n",
       "      <th>Date</th>\n",
       "    </tr>\n",
       "  </thead>\n",
       "  <tbody>\n",
       "    <tr>\n",
       "      <th>0</th>\n",
       "      <td>Nasdaq Jumps 3%. Powell and Earnings Are Behin...</td>\n",
       "      <td>2023-02-02</td>\n",
       "    </tr>\n",
       "    <tr>\n",
       "      <th>1</th>\n",
       "      <td>US STOCKS-Nasdaq soars more than 3% on Meta bo...</td>\n",
       "      <td>2023-02-02</td>\n",
       "    </tr>\n",
       "    <tr>\n",
       "      <th>2</th>\n",
       "      <td>Nasdaq, S&amp;P 500 post strong gains on Fed relie...</td>\n",
       "      <td>2023-02-02</td>\n",
       "    </tr>\n",
       "    <tr>\n",
       "      <th>3</th>\n",
       "      <td>The Nasdaq Is Having Best Start to the Year Si...</td>\n",
       "      <td>2023-02-02</td>\n",
       "    </tr>\n",
       "    <tr>\n",
       "      <th>4</th>\n",
       "      <td>History Suggests the Nasdaq Could Soar In 2023...</td>\n",
       "      <td>2023-02-02</td>\n",
       "    </tr>\n",
       "    <tr>\n",
       "      <th>...</th>\n",
       "      <td>...</td>\n",
       "      <td>...</td>\n",
       "    </tr>\n",
       "    <tr>\n",
       "      <th>204</th>\n",
       "      <td>Why Costco Stock Rose 12% in January</td>\n",
       "      <td>2023-02-05</td>\n",
       "    </tr>\n",
       "    <tr>\n",
       "      <th>205</th>\n",
       "      <td>Is It Too Late to Buy Twilio Stock?</td>\n",
       "      <td>2023-02-05</td>\n",
       "    </tr>\n",
       "    <tr>\n",
       "      <th>206</th>\n",
       "      <td>Saia, Inc. (NASDAQ:SAIA) Q4 2022 Earnings Call...</td>\n",
       "      <td>2023-02-05</td>\n",
       "    </tr>\n",
       "    <tr>\n",
       "      <th>207</th>\n",
       "      <td>Where Will Altria Stock Be in 1 Year?</td>\n",
       "      <td>2023-02-05</td>\n",
       "    </tr>\n",
       "    <tr>\n",
       "      <th>208</th>\n",
       "      <td>Why Chipotle Stock Soared Almost 19% in January</td>\n",
       "      <td>2023-02-05</td>\n",
       "    </tr>\n",
       "  </tbody>\n",
       "</table>\n",
       "<p>209 rows × 2 columns</p>\n",
       "</div>"
      ],
      "text/plain": [
       "                                                 Title       Date\n",
       "0    Nasdaq Jumps 3%. Powell and Earnings Are Behin... 2023-02-02\n",
       "1    US STOCKS-Nasdaq soars more than 3% on Meta bo... 2023-02-02\n",
       "2    Nasdaq, S&P 500 post strong gains on Fed relie... 2023-02-02\n",
       "3    The Nasdaq Is Having Best Start to the Year Si... 2023-02-02\n",
       "4    History Suggests the Nasdaq Could Soar In 2023... 2023-02-02\n",
       "..                                                 ...        ...\n",
       "204               Why Costco Stock Rose 12% in January 2023-02-05\n",
       "205                Is It Too Late to Buy Twilio Stock? 2023-02-05\n",
       "206  Saia, Inc. (NASDAQ:SAIA) Q4 2022 Earnings Call... 2023-02-05\n",
       "207              Where Will Altria Stock Be in 1 Year? 2023-02-05\n",
       "208    Why Chipotle Stock Soared Almost 19% in January 2023-02-05\n",
       "\n",
       "[209 rows x 2 columns]"
      ]
     },
     "execution_count": 163,
     "metadata": {},
     "output_type": "execute_result"
    }
   ],
   "source": [
    "filtered_df_2022"
   ]
  },
  {
   "cell_type": "code",
   "execution_count": null,
   "metadata": {},
   "outputs": [],
   "source": []
  },
  {
   "cell_type": "code",
   "execution_count": null,
   "metadata": {},
   "outputs": [],
   "source": []
  },
  {
   "cell_type": "code",
   "execution_count": null,
   "metadata": {},
   "outputs": [],
   "source": [
    "!pip install transformers"
   ]
  },
  {
   "cell_type": "code",
   "execution_count": 175,
   "metadata": {},
   "outputs": [
    {
     "name": "stdout",
     "output_type": "stream",
     "text": [
      "Collecting torch\n",
      "  Downloading torch-2.0.1-cp39-cp39-win_amd64.whl (172.4 MB)\n",
      "Collecting sympy\n",
      "  Downloading sympy-1.12-py3-none-any.whl (5.7 MB)\n",
      "Collecting networkx\n",
      "  Downloading networkx-3.1-py3-none-any.whl (2.1 MB)\n",
      "Requirement already satisfied: filelock in c:\\users\\bgmun\\appdata\\local\\programs\\python\\python39\\lib\\site-packages (from torch) (3.12.2)\n",
      "Requirement already satisfied: jinja2 in c:\\users\\bgmun\\appdata\\local\\programs\\python\\python39\\lib\\site-packages (from torch) (3.1.2)\n",
      "Requirement already satisfied: typing-extensions in c:\\users\\bgmun\\appdata\\local\\programs\\python\\python39\\lib\\site-packages (from torch) (4.6.3)\n",
      "Requirement already satisfied: MarkupSafe>=2.0 in c:\\users\\bgmun\\appdata\\local\\programs\\python\\python39\\lib\\site-packages (from jinja2->torch) (2.1.3)\n",
      "Collecting mpmath>=0.19\n",
      "  Downloading mpmath-1.3.0-py3-none-any.whl (536 kB)\n",
      "Installing collected packages: mpmath, sympy, networkx, torch\n",
      "Successfully installed mpmath-1.3.0 networkx-3.1 sympy-1.12 torch-2.0.1\n"
     ]
    },
    {
     "name": "stderr",
     "output_type": "stream",
     "text": [
      "WARNING: You are using pip version 21.2.3; however, version 23.2.1 is available.\n",
      "You should consider upgrading via the 'C:\\Users\\bgmun\\AppData\\Local\\Programs\\Python\\Python39\\python.exe -m pip install --upgrade pip' command.\n"
     ]
    }
   ],
   "source": [
    "!pip install torch\n"
   ]
  },
  {
   "cell_type": "code",
   "execution_count": 190,
   "metadata": {},
   "outputs": [],
   "source": [
    "import torch"
   ]
  },
  {
   "cell_type": "code",
   "execution_count": 186,
   "metadata": {},
   "outputs": [],
   "source": [
    "from transformers import AutoTokenizer, AutoModelForSequenceClassification\n",
    "from transformers import AutoTokenizer, AutoModelForSequenceClassification\n"
   ]
  },
  {
   "cell_type": "code",
   "execution_count": 184,
   "metadata": {},
   "outputs": [
    {
     "name": "stdout",
     "output_type": "stream",
     "text": [
      "Requirement already satisfied: transformers in c:\\users\\bgmun\\appdata\\local\\programs\\python\\python39\\lib\\site-packages (4.31.0)\n",
      "Requirement already satisfied: packaging>=20.0 in c:\\users\\bgmun\\appdata\\local\\programs\\python\\python39\\lib\\site-packages (from transformers) (23.1)\n",
      "Requirement already satisfied: pyyaml>=5.1 in c:\\users\\bgmun\\appdata\\local\\programs\\python\\python39\\lib\\site-packages (from transformers) (6.0)\n",
      "Requirement already satisfied: tqdm>=4.27 in c:\\users\\bgmun\\appdata\\local\\programs\\python\\python39\\lib\\site-packages (from transformers) (4.66.1)\n",
      "Requirement already satisfied: huggingface-hub<1.0,>=0.14.1 in c:\\users\\bgmun\\appdata\\local\\programs\\python\\python39\\lib\\site-packages (from transformers) (0.16.4)\n",
      "Requirement already satisfied: regex!=2019.12.17 in c:\\users\\bgmun\\appdata\\local\\programs\\python\\python39\\lib\\site-packages (from transformers) (2023.8.8)\n",
      "Requirement already satisfied: requests in c:\\users\\bgmun\\appdata\\local\\programs\\python\\python39\\lib\\site-packages (from transformers) (2.31.0)\n",
      "Requirement already satisfied: safetensors>=0.3.1 in c:\\users\\bgmun\\appdata\\local\\programs\\python\\python39\\lib\\site-packages (from transformers) (0.3.2)\n",
      "Requirement already satisfied: numpy>=1.17 in c:\\users\\bgmun\\appdata\\local\\programs\\python\\python39\\lib\\site-packages (from transformers) (1.25.1)\n",
      "Requirement already satisfied: filelock in c:\\users\\bgmun\\appdata\\local\\programs\\python\\python39\\lib\\site-packages (from transformers) (3.12.2)\n",
      "Requirement already satisfied: tokenizers!=0.11.3,<0.14,>=0.11.1 in c:\\users\\bgmun\\appdata\\local\\programs\\python\\python39\\lib\\site-packages (from transformers) (0.13.3)\n",
      "Requirement already satisfied: typing-extensions>=3.7.4.3 in c:\\users\\bgmun\\appdata\\local\\programs\\python\\python39\\lib\\site-packages (from huggingface-hub<1.0,>=0.14.1->transformers) (4.6.3)\n",
      "Requirement already satisfied: fsspec in c:\\users\\bgmun\\appdata\\local\\programs\\python\\python39\\lib\\site-packages (from huggingface-hub<1.0,>=0.14.1->transformers) (2023.6.0)\n",
      "Requirement already satisfied: colorama in c:\\users\\bgmun\\appdata\\local\\programs\\python\\python39\\lib\\site-packages (from tqdm>=4.27->transformers) (0.4.6)\n",
      "Requirement already satisfied: certifi>=2017.4.17 in c:\\users\\bgmun\\appdata\\local\\programs\\python\\python39\\lib\\site-packages (from requests->transformers) (2023.7.22)\n",
      "Requirement already satisfied: urllib3<3,>=1.21.1 in c:\\users\\bgmun\\appdata\\local\\programs\\python\\python39\\lib\\site-packages (from requests->transformers) (2.0.4)\n",
      "Requirement already satisfied: idna<4,>=2.5 in c:\\users\\bgmun\\appdata\\local\\programs\\python\\python39\\lib\\site-packages (from requests->transformers) (3.4)\n",
      "Requirement already satisfied: charset-normalizer<4,>=2 in c:\\users\\bgmun\\appdata\\local\\programs\\python\\python39\\lib\\site-packages (from requests->transformers) (3.2.0)\n"
     ]
    },
    {
     "name": "stderr",
     "output_type": "stream",
     "text": [
      "WARNING: You are using pip version 21.2.3; however, version 23.2.1 is available.\n",
      "You should consider upgrading via the 'C:\\Users\\bgmun\\AppData\\Local\\Programs\\Python\\Python39\\python.exe -m pip install --upgrade pip' command.\n"
     ]
    },
    {
     "name": "stdout",
     "output_type": "stream",
     "text": [
      "Requirement already satisfied: torch in c:\\users\\bgmun\\appdata\\local\\programs\\python\\python39\\lib\\site-packages (2.0.1)\n",
      "Collecting torchvision\n",
      "  Downloading torchvision-0.15.2-cp39-cp39-win_amd64.whl (1.2 MB)\n",
      "Collecting torchaudio\n",
      "  Downloading torchaudio-2.0.2-cp39-cp39-win_amd64.whl (2.1 MB)\n",
      "Requirement already satisfied: jinja2 in c:\\users\\bgmun\\appdata\\local\\programs\\python\\python39\\lib\\site-packages (from torch) (3.1.2)\n",
      "Requirement already satisfied: sympy in c:\\users\\bgmun\\appdata\\local\\programs\\python\\python39\\lib\\site-packages (from torch) (1.12)\n",
      "Requirement already satisfied: typing-extensions in c:\\users\\bgmun\\appdata\\local\\programs\\python\\python39\\lib\\site-packages (from torch) (4.6.3)\n",
      "Requirement already satisfied: filelock in c:\\users\\bgmun\\appdata\\local\\programs\\python\\python39\\lib\\site-packages (from torch) (3.12.2)\n",
      "Requirement already satisfied: networkx in c:\\users\\bgmun\\appdata\\local\\programs\\python\\python39\\lib\\site-packages (from torch) (3.1)\n",
      "Requirement already satisfied: numpy in c:\\users\\bgmun\\appdata\\local\\programs\\python\\python39\\lib\\site-packages (from torchvision) (1.25.1)\n",
      "Collecting pillow!=8.3.*,>=5.3.0\n",
      "  Downloading Pillow-10.0.0-cp39-cp39-win_amd64.whl (2.5 MB)\n",
      "Requirement already satisfied: requests in c:\\users\\bgmun\\appdata\\local\\programs\\python\\python39\\lib\\site-packages (from torchvision) (2.31.0)\n",
      "Requirement already satisfied: MarkupSafe>=2.0 in c:\\users\\bgmun\\appdata\\local\\programs\\python\\python39\\lib\\site-packages (from jinja2->torch) (2.1.3)\n",
      "Requirement already satisfied: charset-normalizer<4,>=2 in c:\\users\\bgmun\\appdata\\local\\programs\\python\\python39\\lib\\site-packages (from requests->torchvision) (3.2.0)\n",
      "Requirement already satisfied: certifi>=2017.4.17 in c:\\users\\bgmun\\appdata\\local\\programs\\python\\python39\\lib\\site-packages (from requests->torchvision) (2023.7.22)\n",
      "Requirement already satisfied: idna<4,>=2.5 in c:\\users\\bgmun\\appdata\\local\\programs\\python\\python39\\lib\\site-packages (from requests->torchvision) (3.4)\n",
      "Requirement already satisfied: urllib3<3,>=1.21.1 in c:\\users\\bgmun\\appdata\\local\\programs\\python\\python39\\lib\\site-packages (from requests->torchvision) (2.0.4)\n",
      "Requirement already satisfied: mpmath>=0.19 in c:\\users\\bgmun\\appdata\\local\\programs\\python\\python39\\lib\\site-packages (from sympy->torch) (1.3.0)\n",
      "Installing collected packages: pillow, torchvision, torchaudio\n",
      "Successfully installed pillow-10.0.0 torchaudio-2.0.2 torchvision-0.15.2\n"
     ]
    },
    {
     "name": "stderr",
     "output_type": "stream",
     "text": [
      "WARNING: You are using pip version 21.2.3; however, version 23.2.1 is available.\n",
      "You should consider upgrading via the 'C:\\Users\\bgmun\\AppData\\Local\\Programs\\Python\\Python39\\python.exe -m pip install --upgrade pip' command.\n"
     ]
    }
   ],
   "source": [
    "!pip install transformers\n",
    "!pip install torch torchvision torchaudio"
   ]
  },
  {
   "cell_type": "code",
   "execution_count": 189,
   "metadata": {},
   "outputs": [
    {
     "data": {
      "text/plain": [
       "False"
      ]
     },
     "execution_count": 189,
     "metadata": {},
     "output_type": "execute_result"
    }
   ],
   "source": [
    "torch.cuda.is_available()"
   ]
  },
  {
   "cell_type": "code",
   "execution_count": 191,
   "metadata": {},
   "outputs": [
    {
     "name": "stdout",
     "output_type": "stream",
     "text": [
      "Requirement already satisfied: torch in c:\\users\\bgmun\\appdata\\local\\programs\\python\\python39\\lib\\site-packages (2.0.1)\n",
      "Requirement already satisfied: torchvision in c:\\users\\bgmun\\appdata\\local\\programs\\python\\python39\\lib\\site-packages (0.15.2)\n",
      "Requirement already satisfied: torchaudio in c:\\users\\bgmun\\appdata\\local\\programs\\python\\python39\\lib\\site-packages (2.0.2)\n",
      "Requirement already satisfied: filelock in c:\\users\\bgmun\\appdata\\local\\programs\\python\\python39\\lib\\site-packages (from torch) (3.12.2)\n",
      "Requirement already satisfied: typing-extensions in c:\\users\\bgmun\\appdata\\local\\programs\\python\\python39\\lib\\site-packages (from torch) (4.6.3)\n",
      "Requirement already satisfied: jinja2 in c:\\users\\bgmun\\appdata\\local\\programs\\python\\python39\\lib\\site-packages (from torch) (3.1.2)\n",
      "Requirement already satisfied: sympy in c:\\users\\bgmun\\appdata\\local\\programs\\python\\python39\\lib\\site-packages (from torch) (1.12)\n",
      "Requirement already satisfied: networkx in c:\\users\\bgmun\\appdata\\local\\programs\\python\\python39\\lib\\site-packages (from torch) (3.1)\n",
      "Requirement already satisfied: numpy in c:\\users\\bgmun\\appdata\\local\\programs\\python\\python39\\lib\\site-packages (from torchvision) (1.25.1)\n",
      "Requirement already satisfied: requests in c:\\users\\bgmun\\appdata\\local\\programs\\python\\python39\\lib\\site-packages (from torchvision) (2.31.0)\n",
      "Requirement already satisfied: pillow!=8.3.*,>=5.3.0 in c:\\users\\bgmun\\appdata\\local\\programs\\python\\python39\\lib\\site-packages (from torchvision) (10.0.0)\n",
      "Requirement already satisfied: MarkupSafe>=2.0 in c:\\users\\bgmun\\appdata\\local\\programs\\python\\python39\\lib\\site-packages (from jinja2->torch) (2.1.3)\n",
      "Requirement already satisfied: urllib3<3,>=1.21.1 in c:\\users\\bgmun\\appdata\\local\\programs\\python\\python39\\lib\\site-packages (from requests->torchvision) (2.0.4)\n",
      "Requirement already satisfied: idna<4,>=2.5 in c:\\users\\bgmun\\appdata\\local\\programs\\python\\python39\\lib\\site-packages (from requests->torchvision) (3.4)\n",
      "Requirement already satisfied: charset-normalizer<4,>=2 in c:\\users\\bgmun\\appdata\\local\\programs\\python\\python39\\lib\\site-packages (from requests->torchvision) (3.2.0)\n",
      "Requirement already satisfied: certifi>=2017.4.17 in c:\\users\\bgmun\\appdata\\local\\programs\\python\\python39\\lib\\site-packages (from requests->torchvision) (2023.7.22)\n",
      "Requirement already satisfied: mpmath>=0.19 in c:\\users\\bgmun\\appdata\\local\\programs\\python\\python39\\lib\\site-packages (from sympy->torch) (1.3.0)\n"
     ]
    },
    {
     "name": "stderr",
     "output_type": "stream",
     "text": [
      "WARNING: You are using pip version 21.2.3; however, version 23.2.1 is available.\n",
      "You should consider upgrading via the 'C:\\Users\\bgmun\\AppData\\Local\\Programs\\Python\\Python39\\python.exe -m pip install --upgrade pip' command.\n"
     ]
    }
   ],
   "source": [
    "!pip3 install torch torchvision torchaudio\n"
   ]
  },
  {
   "cell_type": "code",
   "execution_count": 192,
   "metadata": {},
   "outputs": [
    {
     "ename": "ImportError",
     "evalue": "\nAutoModelForSequenceClassification requires the PyTorch library but it was not found in your environment. Checkout the instructions on the\ninstallation page: https://pytorch.org/get-started/locally/ and follow the ones that match your environment.\nPlease note that you may need to restart your runtime after installation.\n",
     "output_type": "error",
     "traceback": [
      "\u001b[1;31m---------------------------------------------------------------------------\u001b[0m",
      "\u001b[1;31mImportError\u001b[0m                               Traceback (most recent call last)",
      "Cell \u001b[1;32mIn[192], line 6\u001b[0m\n\u001b[0;32m      4\u001b[0m \u001b[38;5;28;01mimport\u001b[39;00m \u001b[38;5;21;01mtorch\u001b[39;00m\n\u001b[0;32m      5\u001b[0m tokenizer \u001b[38;5;241m=\u001b[39m AutoTokenizer\u001b[38;5;241m.\u001b[39mfrom_pretrained(\u001b[38;5;124m'\u001b[39m\u001b[38;5;124mnlptown/bert-base-multilingual-uncased-sentiment\u001b[39m\u001b[38;5;124m'\u001b[39m)\n\u001b[1;32m----> 6\u001b[0m model \u001b[38;5;241m=\u001b[39m \u001b[43mAutoModelForSequenceClassification\u001b[49m\u001b[38;5;241;43m.\u001b[39;49m\u001b[43mfrom_pretrained\u001b[49m(\u001b[38;5;124m'\u001b[39m\u001b[38;5;124mnlptown/bert-base-multilingual-uncased-sentiment\u001b[39m\u001b[38;5;124m'\u001b[39m)\n\u001b[0;32m      8\u001b[0m \u001b[38;5;66;03m# 입력: string: 감정 분석하고자 하는 문장\u001b[39;00m\n\u001b[0;32m      9\u001b[0m \u001b[38;5;66;03m# 출력: 감정 분석 결과 1~5 -> 클수록 긍정적인 문장\u001b[39;00m\n\u001b[0;32m     10\u001b[0m \u001b[38;5;28;01mdef\u001b[39;00m \u001b[38;5;21mget_sentiment\u001b[39m(string:\u001b[38;5;28mstr\u001b[39m):\n",
      "File \u001b[1;32m~\\AppData\\Local\\Programs\\Python\\Python39\\lib\\site-packages\\transformers\\utils\\import_utils.py:1039\u001b[0m, in \u001b[0;36mDummyObject.__getattribute__\u001b[1;34m(cls, key)\u001b[0m\n\u001b[0;32m   1037\u001b[0m \u001b[38;5;28;01mif\u001b[39;00m key\u001b[38;5;241m.\u001b[39mstartswith(\u001b[38;5;124m\"\u001b[39m\u001b[38;5;124m_\u001b[39m\u001b[38;5;124m\"\u001b[39m) \u001b[38;5;129;01mand\u001b[39;00m key \u001b[38;5;241m!=\u001b[39m \u001b[38;5;124m\"\u001b[39m\u001b[38;5;124m_from_config\u001b[39m\u001b[38;5;124m\"\u001b[39m:\n\u001b[0;32m   1038\u001b[0m     \u001b[38;5;28;01mreturn\u001b[39;00m \u001b[38;5;28msuper\u001b[39m()\u001b[38;5;241m.\u001b[39m\u001b[38;5;21m__getattribute__\u001b[39m(key)\n\u001b[1;32m-> 1039\u001b[0m \u001b[43mrequires_backends\u001b[49m\u001b[43m(\u001b[49m\u001b[38;5;28;43mcls\u001b[39;49m\u001b[43m,\u001b[49m\u001b[43m \u001b[49m\u001b[38;5;28;43mcls\u001b[39;49m\u001b[38;5;241;43m.\u001b[39;49m\u001b[43m_backends\u001b[49m\u001b[43m)\u001b[49m\n",
      "File \u001b[1;32m~\\AppData\\Local\\Programs\\Python\\Python39\\lib\\site-packages\\transformers\\utils\\import_utils.py:1027\u001b[0m, in \u001b[0;36mrequires_backends\u001b[1;34m(obj, backends)\u001b[0m\n\u001b[0;32m   1025\u001b[0m failed \u001b[38;5;241m=\u001b[39m [msg\u001b[38;5;241m.\u001b[39mformat(name) \u001b[38;5;28;01mfor\u001b[39;00m available, msg \u001b[38;5;129;01min\u001b[39;00m checks \u001b[38;5;28;01mif\u001b[39;00m \u001b[38;5;129;01mnot\u001b[39;00m available()]\n\u001b[0;32m   1026\u001b[0m \u001b[38;5;28;01mif\u001b[39;00m failed:\n\u001b[1;32m-> 1027\u001b[0m     \u001b[38;5;28;01mraise\u001b[39;00m \u001b[38;5;167;01mImportError\u001b[39;00m(\u001b[38;5;124m\"\u001b[39m\u001b[38;5;124m\"\u001b[39m\u001b[38;5;241m.\u001b[39mjoin(failed))\n",
      "\u001b[1;31mImportError\u001b[0m: \nAutoModelForSequenceClassification requires the PyTorch library but it was not found in your environment. Checkout the instructions on the\ninstallation page: https://pytorch.org/get-started/locally/ and follow the ones that match your environment.\nPlease note that you may need to restart your runtime after installation.\n"
     ]
    }
   ],
   "source": [
    "# 감정 분석에 쓸 도구 구성하기 입니다.\n",
    "import pandas as pd\n",
    "from transformers import AutoTokenizer, AutoModelForSequenceClassification\n",
    "import torch\n",
    "tokenizer = AutoTokenizer.from_pretrained('nlptown/bert-base-multilingual-uncased-sentiment')\n",
    "model = AutoModelForSequenceClassification.from_pretrained('nlptown/bert-base-multilingual-uncased-sentiment')\n",
    "\n",
    "# 입력: string: 감정 분석하고자 하는 문장\n",
    "# 출력: 감정 분석 결과 1~5 -> 클수록 긍정적인 문장\n",
    "def get_sentiment(string:str):\n",
    "    tokens = tokenizer.encode(string,return_tensors='pt')\n",
    "    result = model(tokens)\n",
    "    return (int(torch.argmax(result.logits)) + 1)"
   ]
  },
  {
   "cell_type": "code",
   "execution_count": 193,
   "metadata": {},
   "outputs": [],
   "source": [
    "filtered_df_2022.to_csv('DateSampleNasdaq.csv', index=False)"
   ]
  },
  {
   "cell_type": "code",
   "execution_count": null,
   "metadata": {},
   "outputs": [],
   "source": []
  },
  {
   "cell_type": "code",
   "execution_count": null,
   "metadata": {},
   "outputs": [],
   "source": []
  },
  {
   "cell_type": "code",
   "execution_count": null,
   "metadata": {},
   "outputs": [],
   "source": []
  },
  {
   "cell_type": "code",
   "execution_count": null,
   "metadata": {},
   "outputs": [],
   "source": [
    "#밑에는 감성분석 코드입니다 ! "
   ]
  },
  {
   "cell_type": "code",
   "execution_count": 168,
   "metadata": {
    "id": "MT64tVP2xR2K"
   },
   "outputs": [],
   "source": [
    "import json"
   ]
  },
  {
   "cell_type": "code",
   "execution_count": 170,
   "metadata": {
    "id": "r6qLaJBBwqVE"
   },
   "outputs": [],
   "source": [
    "#감성 분석하려면 KNU 에서 정의해놓은 감성사전인 SentiWord_info.json를 다운받아서 이용해야해요!\n",
    "#여기서 부터는 아직 주피터 노트북코드로 변경을 안해서 코랩의 MyDrive라고 적혀있네요 하하\n",
    "try:\n",
    "    with open('C:/Users/bgmun/Downloads/KnuSentiLex-master/KnuSentiLex-master/data/SentiWord_info.json', encoding='utf-8', mode='r') as f:\n",
    "        SentiWord_info = json.load(f)\n",
    "        sentiword_dic = pd.DataFrame(SentiWord_info)\n",
    "        # DataFrame을 사용한 나머지 처리\n",
    "except json.JSONDecodeError as e:\n",
    "    print(\"JSON 디코딩 오류:\", e)\n",
    "except FileNotFoundError:\n",
    "    print(\"파일을 찾을 수 없거나 잘못된 경로입니다.\")\n",
    "except Exception as e:\n",
    "    print(\"오류가 발생했습니다:\", e)"
   ]
  },
  {
   "cell_type": "code",
   "execution_count": 171,
   "metadata": {},
   "outputs": [
    {
     "data": {
      "text/html": [
       "<div>\n",
       "<style scoped>\n",
       "    .dataframe tbody tr th:only-of-type {\n",
       "        vertical-align: middle;\n",
       "    }\n",
       "\n",
       "    .dataframe tbody tr th {\n",
       "        vertical-align: top;\n",
       "    }\n",
       "\n",
       "    .dataframe thead th {\n",
       "        text-align: right;\n",
       "    }\n",
       "</style>\n",
       "<table border=\"1\" class=\"dataframe\">\n",
       "  <thead>\n",
       "    <tr style=\"text-align: right;\">\n",
       "      <th></th>\n",
       "      <th>word</th>\n",
       "      <th>word_root</th>\n",
       "      <th>polarity</th>\n",
       "    </tr>\n",
       "  </thead>\n",
       "  <tbody>\n",
       "    <tr>\n",
       "      <th>0</th>\n",
       "      <td>(-;</td>\n",
       "      <td>(</td>\n",
       "      <td>1</td>\n",
       "    </tr>\n",
       "    <tr>\n",
       "      <th>1</th>\n",
       "      <td>(;_;)</td>\n",
       "      <td>(;_;)</td>\n",
       "      <td>-1</td>\n",
       "    </tr>\n",
       "    <tr>\n",
       "      <th>2</th>\n",
       "      <td>(^^)</td>\n",
       "      <td>(^^)</td>\n",
       "      <td>1</td>\n",
       "    </tr>\n",
       "    <tr>\n",
       "      <th>3</th>\n",
       "      <td>(^-^)</td>\n",
       "      <td>(^-^)</td>\n",
       "      <td>1</td>\n",
       "    </tr>\n",
       "    <tr>\n",
       "      <th>4</th>\n",
       "      <td>(^^*</td>\n",
       "      <td>(</td>\n",
       "      <td>1</td>\n",
       "    </tr>\n",
       "    <tr>\n",
       "      <th>...</th>\n",
       "      <td>...</td>\n",
       "      <td>...</td>\n",
       "      <td>...</td>\n",
       "    </tr>\n",
       "    <tr>\n",
       "      <th>14849</th>\n",
       "      <td>반신반의하다</td>\n",
       "      <td>반신반의</td>\n",
       "      <td>0</td>\n",
       "    </tr>\n",
       "    <tr>\n",
       "      <th>14850</th>\n",
       "      <td>신비롭다</td>\n",
       "      <td>신비</td>\n",
       "      <td>1</td>\n",
       "    </tr>\n",
       "    <tr>\n",
       "      <th>14851</th>\n",
       "      <td>아리송하다</td>\n",
       "      <td>아리송</td>\n",
       "      <td>-1</td>\n",
       "    </tr>\n",
       "    <tr>\n",
       "      <th>14852</th>\n",
       "      <td>알쏭하다</td>\n",
       "      <td>알쏭하</td>\n",
       "      <td>-1</td>\n",
       "    </tr>\n",
       "    <tr>\n",
       "      <th>14853</th>\n",
       "      <td>알쏭달쏭하다</td>\n",
       "      <td>알쏭달쏭</td>\n",
       "      <td>-1</td>\n",
       "    </tr>\n",
       "  </tbody>\n",
       "</table>\n",
       "<p>14854 rows × 3 columns</p>\n",
       "</div>"
      ],
      "text/plain": [
       "         word word_root polarity\n",
       "0         (-;         (        1\n",
       "1       (;_;)     (;_;)       -1\n",
       "2        (^^)      (^^)        1\n",
       "3       (^-^)     (^-^)        1\n",
       "4        (^^*         (        1\n",
       "...       ...       ...      ...\n",
       "14849  반신반의하다      반신반의        0\n",
       "14850    신비롭다        신비        1\n",
       "14851   아리송하다       아리송       -1\n",
       "14852    알쏭하다       알쏭하       -1\n",
       "14853  알쏭달쏭하다      알쏭달쏭       -1\n",
       "\n",
       "[14854 rows x 3 columns]"
      ]
     },
     "execution_count": 171,
     "metadata": {},
     "output_type": "execute_result"
    }
   ],
   "source": [
    "sentiword_dic"
   ]
  },
  {
   "cell_type": "code",
   "execution_count": null,
   "metadata": {
    "colab": {
     "base_uri": "https://localhost:8080/"
    },
    "id": "UI_sKhIQxIHj",
    "outputId": "362b8452-537b-4c6a-d095-dcfdb6628e2f"
   },
   "outputs": [],
   "source": [
    "text_0 = df[0]\n",
    "text_0"
   ]
  },
  {
   "cell_type": "code",
   "execution_count": null,
   "metadata": {
    "colab": {
     "base_uri": "https://localhost:8080/"
    },
    "id": "HWA2PRPNxqwB",
    "outputId": "516a5c41-b648-4369-b271-338a1f9fdd13"
   },
   "outputs": [],
   "source": [
    "!pip3 install konlpy"
   ]
  },
  {
   "cell_type": "code",
   "execution_count": null,
   "metadata": {
    "id": "X5YrFo_Lxp_h"
   },
   "outputs": [],
   "source": [
    "\n",
    "# !apt-get update\n",
    "# !apt-get install g++ openjdk-8-jdk python-dev python3-dev\n",
    "# !pip3 install JPype1\n",
    "\n",
    "# %env JAVA_HOME \"/usr/lib/jvm/java-8-openjdk-amd64\""
   ]
  },
  {
   "cell_type": "code",
   "execution_count": null,
   "metadata": {
    "id": "2yzK_ntGxhbp"
   },
   "outputs": [],
   "source": [
    "from konlpy.tag import Okt"
   ]
  },
  {
   "cell_type": "code",
   "execution_count": null,
   "metadata": {
    "id": "LXqdsvePxZYJ"
   },
   "outputs": [],
   "source": [
    "okt=Okt()\n",
    "tokens = [okt.morphs(word) for word in text_0]\n",
    "tokens = list(map(lambda x : \" \".join(x), tokens))"
   ]
  },
  {
   "cell_type": "code",
   "execution_count": null,
   "metadata": {
    "colab": {
     "base_uri": "https://localhost:8080/"
    },
    "id": "klWg9huexcve",
    "outputId": "b93f166c-2e75-4ba9-f4aa-6eefc115566b"
   },
   "outputs": [],
   "source": [
    "tokens[:10]"
   ]
  },
  {
   "cell_type": "code",
   "execution_count": null,
   "metadata": {
    "id": "3Sn-LuDYx7Dp"
   },
   "outputs": [],
   "source": [
    "import pandas as pd\n",
    "\n",
    "df = pd.DataFrame(columns=(\"review\", \"sentiment\"))  # 제목별 극성을 저장하기 위한 데이터프레임 생성\n",
    "idx = 0                                             # 다음 제목으로 넘기기 위한 초기값\n",
    "\n",
    "for token in tokens:                                # 전체 제목에서 문장 하나씩 가져옴\n",
    "  sentiment = 0                                     # 초기 감성값 0으로 설정\n",
    "  for i in range(0, len(sentiword_dic)):            # 감성사전의 모든 단어를 하나씩 선택\n",
    "    if sentiword_dic.word[i] in token:              # 제목 문장에 감성 단어가 있는지 확인\n",
    "      sentiment += int(sentiword_dic.polarity[i])   # 감성단어가 있다면 극성값 합계를 구함.\n",
    "  df.loc[idx] = [token, sentiment]                  # 제목별 극성값을 데이터프레임으로 쌓음\n",
    "  idx += 1                                          # 다음 제목 문장으로 넘어감"
   ]
  },
  {
   "cell_type": "code",
   "execution_count": null,
   "metadata": {
    "colab": {
     "base_uri": "https://localhost:8080/",
     "height": 423
    },
    "id": "_rOlwOWqyGAj",
    "outputId": "a0a14364-73c1-4cb2-f889-4d2da7d9ca58"
   },
   "outputs": [],
   "source": [
    "df"
   ]
  },
  {
   "cell_type": "code",
   "execution_count": null,
   "metadata": {
    "id": "f67irzB3yNS3"
   },
   "outputs": [],
   "source": []
  }
 ],
 "metadata": {
  "colab": {
   "provenance": []
  },
  "kernelspec": {
   "display_name": "Python 3 (ipykernel)",
   "language": "python",
   "name": "python3"
  },
  "language_info": {
   "codemirror_mode": {
    "name": "ipython",
    "version": 3
   },
   "file_extension": ".py",
   "mimetype": "text/x-python",
   "name": "python",
   "nbconvert_exporter": "python",
   "pygments_lexer": "ipython3",
   "version": "3.10.9"
  }
 },
 "nbformat": 4,
 "nbformat_minor": 1
}
